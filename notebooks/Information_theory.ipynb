{
 "cells": [
  {
   "cell_type": "code",
   "execution_count": 8,
   "metadata": {},
   "outputs": [
    {
     "data": {
      "application/vnd.plotly.v1+json": {
       "config": {
        "plotlyServerURL": "https://plot.ly"
       },
       "data": [
        {
         "hoverinfo": "name+x+y",
         "name": "K401",
         "opacity": 0.75,
         "type": "bar",
         "x": [
          "A",
          "C",
          "D",
          "E",
          "F",
          "G",
          "H",
          "I",
          "K",
          "L",
          "M",
          "N",
          "P",
          "Q",
          "R",
          "S",
          "T",
          "V",
          "W",
          "Y"
         ],
         "y": [
          0.06733167082294264,
          0.012468827930174564,
          0.04239401496259352,
          0.10723192019950124,
          0.032418952618453865,
          0.05486284289276808,
          0.0199501246882793,
          0.06483790523690773,
          0.09476309226932668,
          0.06733167082294264,
          0.017456359102244388,
          0.07231920199501247,
          0.02493765586034913,
          0.017456359102244388,
          0.04738154613466334,
          0.08229426433915212,
          0.04738154613466334,
          0.09226932668329177,
          0.004987531172069825,
          0.029925187032418952
         ]
        },
        {
         "hoverinfo": "name+x+y",
         "name": "Kif3",
         "opacity": 0.75,
         "type": "bar",
         "x": [
          "A",
          "C",
          "D",
          "E",
          "F",
          "G",
          "H",
          "I",
          "K",
          "L",
          "M",
          "N",
          "P",
          "Q",
          "R",
          "S",
          "T",
          "V",
          "W",
          "Y"
         ],
         "y": [
          0.0472972972972973,
          0.005067567567567568,
          0.04054054054054054,
          0.09121621621621621,
          0.02195945945945946,
          0.06925675675675676,
          0.006756756756756757,
          0.08277027027027027,
          0.06925675675675676,
          0.08277027027027027,
          0.015202702702702704,
          0.07939189189189189,
          0.02195945945945946,
          0.04391891891891892,
          0.037162162162162164,
          0.14695945945945946,
          0.0625,
          0.052364864864864864,
          0.0016891891891891893,
          0.02195945945945946
         ]
        },
        {
         "hoverinfo": "name+x+y",
         "name": "kif5",
         "opacity": 0.75,
         "type": "bar",
         "x": [
          "A",
          "C",
          "D",
          "E",
          "F",
          "G",
          "H",
          "I",
          "K",
          "L",
          "M",
          "N",
          "P",
          "Q",
          "R",
          "S",
          "T",
          "V",
          "W",
          "Y"
         ],
         "y": [
          0.062,
          0.016,
          0.058,
          0.108,
          0.028,
          0.05,
          0.02,
          0.062,
          0.082,
          0.086,
          0.022,
          0.058,
          0.028,
          0.05,
          0.048,
          0.07,
          0.054,
          0.064,
          0.004,
          0.03
         ]
        },
        {
         "hoverinfo": "name+x+y",
         "name": "ThTr",
         "opacity": 0.75,
         "type": "bar",
         "x": [
          "A",
          "C",
          "D",
          "E",
          "F",
          "G",
          "H",
          "I",
          "K",
          "L",
          "M",
          "N",
          "P",
          "Q",
          "R",
          "S",
          "T",
          "V",
          "W",
          "Y"
         ],
         "y": [
          0.17099236641221374,
          0.004580152671755725,
          0.06870229007633588,
          0.061068702290076333,
          0.01984732824427481,
          0.0549618320610687,
          0.012213740458015267,
          0.044274809160305344,
          0.050381679389312976,
          0.1099236641221374,
          0.015267175572519083,
          0.03816793893129771,
          0.04122137404580153,
          0.0366412213740458,
          0.04580152671755725,
          0.0916030534351145,
          0.05801526717557252,
          0.0549618320610687,
          0,
          0.021374045801526718
         ]
        },
        {
         "hoverinfo": "name+x+y",
         "name": "AdPa",
         "opacity": 0.75,
         "type": "bar",
         "x": [
          "A",
          "C",
          "D",
          "E",
          "F",
          "G",
          "H",
          "I",
          "K",
          "L",
          "M",
          "N",
          "P",
          "Q",
          "R",
          "S",
          "T",
          "V",
          "W",
          "Y"
         ],
         "y": [
          0.061274509803921566,
          0.022058823529411766,
          0.049019607843137254,
          0.09803921568627451,
          0.024509803921568627,
          0.07107843137254902,
          0.012254901960784314,
          0.058823529411764705,
          0.08823529411764706,
          0.07107843137254902,
          0.02696078431372549,
          0.041666666666666664,
          0.031862745098039214,
          0.03431372549019608,
          0.051470588235294115,
          0.08088235294117647,
          0.0661764705882353,
          0.0784313725490196,
          0,
          0.031862745098039214
         ]
        },
        {
         "hoverinfo": "name+x+y",
         "name": "BleSto",
         "opacity": 0.75,
         "type": "bar",
         "x": [
          "A",
          "C",
          "D",
          "E",
          "F",
          "G",
          "H",
          "I",
          "K",
          "L",
          "M",
          "N",
          "P",
          "Q",
          "R",
          "S",
          "T",
          "V",
          "W",
          "Y"
         ],
         "y": [
          0.055944055944055944,
          0.01048951048951049,
          0.055944055944055944,
          0.11013986013986014,
          0.022727272727272728,
          0.04895104895104895,
          0.017482517482517484,
          0.07342657342657342,
          0.0944055944055944,
          0.08391608391608392,
          0.02972027972027972,
          0.055944055944055944,
          0.024475524475524476,
          0.03496503496503497,
          0.0472027972027972,
          0.07517482517482517,
          0.06818181818181818,
          0.057692307692307696,
          0.0034965034965034965,
          0.02972027972027972
         ]
        },
        {
         "hoverinfo": "name+x+y",
         "name": "Acsu",
         "opacity": 0.75,
         "type": "bar",
         "x": [
          "A",
          "C",
          "D",
          "E",
          "F",
          "G",
          "H",
          "I",
          "K",
          "L",
          "M",
          "N",
          "P",
          "Q",
          "R",
          "S",
          "T",
          "V",
          "W",
          "Y"
         ],
         "y": [
          0.06956521739130435,
          0.008695652173913044,
          0.04695652173913043,
          0.10086956521739131,
          0.019130434782608695,
          0.06086956521739131,
          0.01391304347826087,
          0.07652173913043478,
          0.08869565217391304,
          0.08869565217391304,
          0.022608695652173914,
          0.05391304347826087,
          0.020869565217391306,
          0.050434782608695654,
          0.03826086956521739,
          0.09739130434782609,
          0.06260869565217392,
          0.05391304347826087,
          0.0034782608695652175,
          0.022608695652173914
         ]
        },
        {
         "hoverinfo": "name+x+y",
         "name": "AcSu2",
         "opacity": 0.75,
         "type": "bar",
         "x": [
          "A",
          "C",
          "D",
          "E",
          "F",
          "G",
          "H",
          "I",
          "K",
          "L",
          "M",
          "N",
          "P",
          "Q",
          "R",
          "S",
          "T",
          "V",
          "W",
          "Y"
         ],
         "y": [
          0.05471698113207547,
          0.009433962264150943,
          0.04716981132075472,
          0.09811320754716982,
          0.020754716981132074,
          0.05471698113207547,
          0.016981132075471698,
          0.0830188679245283,
          0.08867924528301886,
          0.09245283018867924,
          0.022641509433962263,
          0.05849056603773585,
          0.018867924528301886,
          0.04716981132075472,
          0.03962264150943396,
          0.1018867924528302,
          0.062264150943396226,
          0.05471698113207547,
          0.0018867924528301887,
          0.026415094339622643
         ]
        },
        {
         "hoverinfo": "name+x+y",
         "name": "Dipu",
         "opacity": 0.75,
         "type": "bar",
         "x": [
          "A",
          "C",
          "D",
          "E",
          "F",
          "G",
          "H",
          "I",
          "K",
          "L",
          "M",
          "N",
          "P",
          "Q",
          "R",
          "S",
          "T",
          "V",
          "W",
          "Y"
         ],
         "y": [
          0.07017543859649122,
          0.011695906432748537,
          0.04483430799220273,
          0.09551656920077972,
          0.025341130604288498,
          0.056530214424951264,
          0.011695906432748537,
          0.08382066276803118,
          0.08382066276803118,
          0.08187134502923976,
          0.017543859649122806,
          0.06432748538011696,
          0.015594541910331383,
          0.06042884990253411,
          0.04093567251461988,
          0.1111111111111111,
          0.05263157894736842,
          0.04483430799220273,
          0.001949317738791423,
          0.025341130604288498
         ]
        },
        {
         "hoverinfo": "name+x+y",
         "name": "HeAl",
         "opacity": 0.75,
         "type": "bar",
         "x": [
          "A",
          "C",
          "D",
          "E",
          "F",
          "G",
          "H",
          "I",
          "K",
          "L",
          "M",
          "N",
          "P",
          "Q",
          "R",
          "S",
          "T",
          "V",
          "W",
          "Y"
         ],
         "y": [
          0.05263157894736842,
          0.009746588693957114,
          0.06042884990253411,
          0.09746588693957114,
          0.017543859649122806,
          0.05847953216374269,
          0.01364522417153996,
          0.08382066276803118,
          0.09746588693957114,
          0.08966861598440545,
          0.015594541910331383,
          0.05263157894736842,
          0.015594541910331383,
          0.050682261208576995,
          0.037037037037037035,
          0.0935672514619883,
          0.06627680311890838,
          0.056530214424951264,
          0.001949317738791423,
          0.029239766081871343
         ]
        },
        {
         "hoverinfo": "name+x+y",
         "name": "NaGr",
         "opacity": 0.75,
         "type": "bar",
         "x": [
          "A",
          "C",
          "D",
          "E",
          "F",
          "G",
          "H",
          "I",
          "K",
          "L",
          "M",
          "N",
          "P",
          "Q",
          "R",
          "S",
          "T",
          "V",
          "W",
          "Y"
         ],
         "y": [
          0.025510204081632654,
          0.01020408163265306,
          0.058673469387755105,
          0.08673469387755102,
          0.04081632653061224,
          0.09183673469387756,
          0.017857142857142856,
          0.07142857142857142,
          0.10459183673469388,
          0.08673469387755102,
          0.02040816326530612,
          0.061224489795918366,
          0.02040816326530612,
          0.025510204081632654,
          0.04336734693877551,
          0.07653061224489796,
          0.061224489795918366,
          0.06377551020408163,
          0,
          0.03316326530612245
         ]
        },
        {
         "hoverinfo": "name+x+y",
         "name": "TiLa",
         "opacity": 0.75,
         "type": "bar",
         "x": [
          "A",
          "C",
          "D",
          "E",
          "F",
          "G",
          "H",
          "I",
          "K",
          "L",
          "M",
          "N",
          "P",
          "Q",
          "R",
          "S",
          "T",
          "V",
          "W",
          "Y"
         ],
         "y": [
          0.04873294346978557,
          0.01364522417153996,
          0.05458089668615984,
          0.07992202729044834,
          0.023391812865497075,
          0.05263157894736842,
          0.009746588693957114,
          0.08966861598440545,
          0.08382066276803118,
          0.0935672514619883,
          0.021442495126705652,
          0.07407407407407407,
          0.015594541910331383,
          0.0682261208576998,
          0.037037037037037035,
          0.09746588693957114,
          0.06627680311890838,
          0.042884990253411304,
          0.001949317738791423,
          0.025341130604288498
         ]
        },
        {
         "hoverinfo": "name+x+y",
         "name": "B",
         "opacity": 0.75,
         "type": "bar",
         "x": [
          "A",
          "C",
          "D",
          "E",
          "F",
          "G",
          "H",
          "I",
          "K",
          "L",
          "M",
          "N",
          "P",
          "Q",
          "R",
          "S",
          "T",
          "V",
          "W",
          "Y"
         ],
         "y": [
          0.05793450881612091,
          0.010075566750629723,
          0.04785894206549118,
          0.10831234256926953,
          0.0327455919395466,
          0.0654911838790932,
          0.015113350125944584,
          0.0654911838790932,
          0.07556675062972293,
          0.06801007556675064,
          0.020151133501259445,
          0.07052896725440806,
          0.02518891687657431,
          0.022670025188916875,
          0.055415617128463476,
          0.08816120906801007,
          0.05793450881612091,
          0.08060453400503778,
          0.007556675062972292,
          0.02518891687657431
         ]
        },
        {
         "hoverinfo": "name+x+y",
         "name": "C",
         "opacity": 0.75,
         "type": "bar",
         "x": [
          "A",
          "C",
          "D",
          "E",
          "F",
          "G",
          "H",
          "I",
          "K",
          "L",
          "M",
          "N",
          "P",
          "Q",
          "R",
          "S",
          "T",
          "V",
          "W",
          "Y"
         ],
         "y": [
          0.06483790523690773,
          0.00997506234413965,
          0.04239401496259352,
          0.09725685785536159,
          0.02743142144638404,
          0.057356608478802994,
          0.014962593516209476,
          0.08478802992518704,
          0.08977556109725686,
          0.06982543640897755,
          0.0199501246882793,
          0.06982543640897755,
          0.022443890274314215,
          0.0199501246882793,
          0.05236907730673317,
          0.08478802992518704,
          0.057356608478802994,
          0.07481296758104738,
          0.004987531172069825,
          0.034912718204488775
         ]
        },
        {
         "hoverinfo": "name+x+y",
         "name": "D",
         "opacity": 0.75,
         "type": "bar",
         "x": [
          "A",
          "C",
          "D",
          "E",
          "F",
          "G",
          "H",
          "I",
          "K",
          "L",
          "M",
          "N",
          "P",
          "Q",
          "R",
          "S",
          "T",
          "V",
          "W",
          "Y"
         ],
         "y": [
          0.055415617128463476,
          0.007556675062972292,
          0.04785894206549118,
          0.0982367758186398,
          0.027707808564231738,
          0.06801007556675064,
          0.010075566750629723,
          0.08564231738035265,
          0.07052896725440806,
          0.07052896725440806,
          0.022670025188916875,
          0.06801007556675064,
          0.022670025188916875,
          0.02518891687657431,
          0.060453400503778336,
          0.0906801007556675,
          0.06801007556675064,
          0.06297229219143577,
          0.007556675062972292,
          0.030226700251889168
         ]
        },
        {
         "hoverinfo": "name+x+y",
         "name": "E",
         "opacity": 0.75,
         "type": "bar",
         "x": [
          "A",
          "C",
          "D",
          "E",
          "F",
          "G",
          "H",
          "I",
          "K",
          "L",
          "M",
          "N",
          "P",
          "Q",
          "R",
          "S",
          "T",
          "V",
          "W",
          "Y"
         ],
         "y": [
          0.05536912751677853,
          0.008389261744966443,
          0.03691275167785235,
          0.09731543624161074,
          0.025167785234899327,
          0.06040268456375839,
          0.013422818791946308,
          0.06879194630872483,
          0.08557046979865772,
          0.08053691275167785,
          0.01174496644295302,
          0.08221476510067115,
          0.02348993288590604,
          0.03859060402684564,
          0.028523489932885907,
          0.14093959731543623,
          0.04865771812080537,
          0.07214765100671142,
          0,
          0.02181208053691275
         ]
        },
        {
         "hoverinfo": "name+x+y",
         "name": "F",
         "opacity": 0.75,
         "type": "bar",
         "x": [
          "A",
          "C",
          "D",
          "E",
          "F",
          "G",
          "H",
          "I",
          "K",
          "L",
          "M",
          "N",
          "P",
          "Q",
          "R",
          "S",
          "T",
          "V",
          "W",
          "Y"
         ],
         "y": [
          0.048986486486486486,
          0.006756756756756757,
          0.04054054054054054,
          0.09797297297297297,
          0.02533783783783784,
          0.06756756756756757,
          0.010135135135135136,
          0.06925675675675676,
          0.07263513513513513,
          0.08108108108108109,
          0.013513513513513514,
          0.08108108108108109,
          0.02364864864864865,
          0.04222972972972973,
          0.033783783783783786,
          0.14527027027027026,
          0.05574324324324324,
          0.06418918918918919,
          0.0016891891891891893,
          0.018581081081081082
         ]
        },
        {
         "hoverinfo": "name+x+y",
         "name": "G",
         "opacity": 0.75,
         "type": "bar",
         "x": [
          "A",
          "C",
          "D",
          "E",
          "F",
          "G",
          "H",
          "I",
          "K",
          "L",
          "M",
          "N",
          "P",
          "Q",
          "R",
          "S",
          "T",
          "V",
          "W",
          "Y"
         ],
         "y": [
          0.048986486486486486,
          0.006756756756756757,
          0.04054054054054054,
          0.09797297297297297,
          0.02533783783783784,
          0.06756756756756757,
          0.010135135135135136,
          0.06925675675675676,
          0.07263513513513513,
          0.08108108108108109,
          0.013513513513513514,
          0.08108108108108109,
          0.02364864864864865,
          0.04222972972972973,
          0.033783783783783786,
          0.14527027027027026,
          0.05574324324324324,
          0.06418918918918919,
          0.0016891891891891893,
          0.018581081081081082
         ]
        }
       ],
       "layout": {
        "bargap": 0.15,
        "bargroupgap": 0.1,
        "barmode": "overlay",
        "template": {
         "data": {
          "bar": [
           {
            "error_x": {
             "color": "#2a3f5f"
            },
            "error_y": {
             "color": "#2a3f5f"
            },
            "marker": {
             "line": {
              "color": "#E5ECF6",
              "width": 0.5
             },
             "pattern": {
              "fillmode": "overlay",
              "size": 10,
              "solidity": 0.2
             }
            },
            "type": "bar"
           }
          ],
          "barpolar": [
           {
            "marker": {
             "line": {
              "color": "#E5ECF6",
              "width": 0.5
             },
             "pattern": {
              "fillmode": "overlay",
              "size": 10,
              "solidity": 0.2
             }
            },
            "type": "barpolar"
           }
          ],
          "carpet": [
           {
            "aaxis": {
             "endlinecolor": "#2a3f5f",
             "gridcolor": "white",
             "linecolor": "white",
             "minorgridcolor": "white",
             "startlinecolor": "#2a3f5f"
            },
            "baxis": {
             "endlinecolor": "#2a3f5f",
             "gridcolor": "white",
             "linecolor": "white",
             "minorgridcolor": "white",
             "startlinecolor": "#2a3f5f"
            },
            "type": "carpet"
           }
          ],
          "choropleth": [
           {
            "colorbar": {
             "outlinewidth": 0,
             "ticks": ""
            },
            "type": "choropleth"
           }
          ],
          "contour": [
           {
            "colorbar": {
             "outlinewidth": 0,
             "ticks": ""
            },
            "colorscale": [
             [
              0,
              "#0d0887"
             ],
             [
              0.1111111111111111,
              "#46039f"
             ],
             [
              0.2222222222222222,
              "#7201a8"
             ],
             [
              0.3333333333333333,
              "#9c179e"
             ],
             [
              0.4444444444444444,
              "#bd3786"
             ],
             [
              0.5555555555555556,
              "#d8576b"
             ],
             [
              0.6666666666666666,
              "#ed7953"
             ],
             [
              0.7777777777777778,
              "#fb9f3a"
             ],
             [
              0.8888888888888888,
              "#fdca26"
             ],
             [
              1,
              "#f0f921"
             ]
            ],
            "type": "contour"
           }
          ],
          "contourcarpet": [
           {
            "colorbar": {
             "outlinewidth": 0,
             "ticks": ""
            },
            "type": "contourcarpet"
           }
          ],
          "heatmap": [
           {
            "colorbar": {
             "outlinewidth": 0,
             "ticks": ""
            },
            "colorscale": [
             [
              0,
              "#0d0887"
             ],
             [
              0.1111111111111111,
              "#46039f"
             ],
             [
              0.2222222222222222,
              "#7201a8"
             ],
             [
              0.3333333333333333,
              "#9c179e"
             ],
             [
              0.4444444444444444,
              "#bd3786"
             ],
             [
              0.5555555555555556,
              "#d8576b"
             ],
             [
              0.6666666666666666,
              "#ed7953"
             ],
             [
              0.7777777777777778,
              "#fb9f3a"
             ],
             [
              0.8888888888888888,
              "#fdca26"
             ],
             [
              1,
              "#f0f921"
             ]
            ],
            "type": "heatmap"
           }
          ],
          "heatmapgl": [
           {
            "colorbar": {
             "outlinewidth": 0,
             "ticks": ""
            },
            "colorscale": [
             [
              0,
              "#0d0887"
             ],
             [
              0.1111111111111111,
              "#46039f"
             ],
             [
              0.2222222222222222,
              "#7201a8"
             ],
             [
              0.3333333333333333,
              "#9c179e"
             ],
             [
              0.4444444444444444,
              "#bd3786"
             ],
             [
              0.5555555555555556,
              "#d8576b"
             ],
             [
              0.6666666666666666,
              "#ed7953"
             ],
             [
              0.7777777777777778,
              "#fb9f3a"
             ],
             [
              0.8888888888888888,
              "#fdca26"
             ],
             [
              1,
              "#f0f921"
             ]
            ],
            "type": "heatmapgl"
           }
          ],
          "histogram": [
           {
            "marker": {
             "pattern": {
              "fillmode": "overlay",
              "size": 10,
              "solidity": 0.2
             }
            },
            "type": "histogram"
           }
          ],
          "histogram2d": [
           {
            "colorbar": {
             "outlinewidth": 0,
             "ticks": ""
            },
            "colorscale": [
             [
              0,
              "#0d0887"
             ],
             [
              0.1111111111111111,
              "#46039f"
             ],
             [
              0.2222222222222222,
              "#7201a8"
             ],
             [
              0.3333333333333333,
              "#9c179e"
             ],
             [
              0.4444444444444444,
              "#bd3786"
             ],
             [
              0.5555555555555556,
              "#d8576b"
             ],
             [
              0.6666666666666666,
              "#ed7953"
             ],
             [
              0.7777777777777778,
              "#fb9f3a"
             ],
             [
              0.8888888888888888,
              "#fdca26"
             ],
             [
              1,
              "#f0f921"
             ]
            ],
            "type": "histogram2d"
           }
          ],
          "histogram2dcontour": [
           {
            "colorbar": {
             "outlinewidth": 0,
             "ticks": ""
            },
            "colorscale": [
             [
              0,
              "#0d0887"
             ],
             [
              0.1111111111111111,
              "#46039f"
             ],
             [
              0.2222222222222222,
              "#7201a8"
             ],
             [
              0.3333333333333333,
              "#9c179e"
             ],
             [
              0.4444444444444444,
              "#bd3786"
             ],
             [
              0.5555555555555556,
              "#d8576b"
             ],
             [
              0.6666666666666666,
              "#ed7953"
             ],
             [
              0.7777777777777778,
              "#fb9f3a"
             ],
             [
              0.8888888888888888,
              "#fdca26"
             ],
             [
              1,
              "#f0f921"
             ]
            ],
            "type": "histogram2dcontour"
           }
          ],
          "mesh3d": [
           {
            "colorbar": {
             "outlinewidth": 0,
             "ticks": ""
            },
            "type": "mesh3d"
           }
          ],
          "parcoords": [
           {
            "line": {
             "colorbar": {
              "outlinewidth": 0,
              "ticks": ""
             }
            },
            "type": "parcoords"
           }
          ],
          "pie": [
           {
            "automargin": true,
            "type": "pie"
           }
          ],
          "scatter": [
           {
            "fillpattern": {
             "fillmode": "overlay",
             "size": 10,
             "solidity": 0.2
            },
            "type": "scatter"
           }
          ],
          "scatter3d": [
           {
            "line": {
             "colorbar": {
              "outlinewidth": 0,
              "ticks": ""
             }
            },
            "marker": {
             "colorbar": {
              "outlinewidth": 0,
              "ticks": ""
             }
            },
            "type": "scatter3d"
           }
          ],
          "scattercarpet": [
           {
            "marker": {
             "colorbar": {
              "outlinewidth": 0,
              "ticks": ""
             }
            },
            "type": "scattercarpet"
           }
          ],
          "scattergeo": [
           {
            "marker": {
             "colorbar": {
              "outlinewidth": 0,
              "ticks": ""
             }
            },
            "type": "scattergeo"
           }
          ],
          "scattergl": [
           {
            "marker": {
             "colorbar": {
              "outlinewidth": 0,
              "ticks": ""
             }
            },
            "type": "scattergl"
           }
          ],
          "scattermapbox": [
           {
            "marker": {
             "colorbar": {
              "outlinewidth": 0,
              "ticks": ""
             }
            },
            "type": "scattermapbox"
           }
          ],
          "scatterpolar": [
           {
            "marker": {
             "colorbar": {
              "outlinewidth": 0,
              "ticks": ""
             }
            },
            "type": "scatterpolar"
           }
          ],
          "scatterpolargl": [
           {
            "marker": {
             "colorbar": {
              "outlinewidth": 0,
              "ticks": ""
             }
            },
            "type": "scatterpolargl"
           }
          ],
          "scatterternary": [
           {
            "marker": {
             "colorbar": {
              "outlinewidth": 0,
              "ticks": ""
             }
            },
            "type": "scatterternary"
           }
          ],
          "surface": [
           {
            "colorbar": {
             "outlinewidth": 0,
             "ticks": ""
            },
            "colorscale": [
             [
              0,
              "#0d0887"
             ],
             [
              0.1111111111111111,
              "#46039f"
             ],
             [
              0.2222222222222222,
              "#7201a8"
             ],
             [
              0.3333333333333333,
              "#9c179e"
             ],
             [
              0.4444444444444444,
              "#bd3786"
             ],
             [
              0.5555555555555556,
              "#d8576b"
             ],
             [
              0.6666666666666666,
              "#ed7953"
             ],
             [
              0.7777777777777778,
              "#fb9f3a"
             ],
             [
              0.8888888888888888,
              "#fdca26"
             ],
             [
              1,
              "#f0f921"
             ]
            ],
            "type": "surface"
           }
          ],
          "table": [
           {
            "cells": {
             "fill": {
              "color": "#EBF0F8"
             },
             "line": {
              "color": "white"
             }
            },
            "header": {
             "fill": {
              "color": "#C8D4E3"
             },
             "line": {
              "color": "white"
             }
            },
            "type": "table"
           }
          ]
         },
         "layout": {
          "annotationdefaults": {
           "arrowcolor": "#2a3f5f",
           "arrowhead": 0,
           "arrowwidth": 1
          },
          "autotypenumbers": "strict",
          "coloraxis": {
           "colorbar": {
            "outlinewidth": 0,
            "ticks": ""
           }
          },
          "colorscale": {
           "diverging": [
            [
             0,
             "#8e0152"
            ],
            [
             0.1,
             "#c51b7d"
            ],
            [
             0.2,
             "#de77ae"
            ],
            [
             0.3,
             "#f1b6da"
            ],
            [
             0.4,
             "#fde0ef"
            ],
            [
             0.5,
             "#f7f7f7"
            ],
            [
             0.6,
             "#e6f5d0"
            ],
            [
             0.7,
             "#b8e186"
            ],
            [
             0.8,
             "#7fbc41"
            ],
            [
             0.9,
             "#4d9221"
            ],
            [
             1,
             "#276419"
            ]
           ],
           "sequential": [
            [
             0,
             "#0d0887"
            ],
            [
             0.1111111111111111,
             "#46039f"
            ],
            [
             0.2222222222222222,
             "#7201a8"
            ],
            [
             0.3333333333333333,
             "#9c179e"
            ],
            [
             0.4444444444444444,
             "#bd3786"
            ],
            [
             0.5555555555555556,
             "#d8576b"
            ],
            [
             0.6666666666666666,
             "#ed7953"
            ],
            [
             0.7777777777777778,
             "#fb9f3a"
            ],
            [
             0.8888888888888888,
             "#fdca26"
            ],
            [
             1,
             "#f0f921"
            ]
           ],
           "sequentialminus": [
            [
             0,
             "#0d0887"
            ],
            [
             0.1111111111111111,
             "#46039f"
            ],
            [
             0.2222222222222222,
             "#7201a8"
            ],
            [
             0.3333333333333333,
             "#9c179e"
            ],
            [
             0.4444444444444444,
             "#bd3786"
            ],
            [
             0.5555555555555556,
             "#d8576b"
            ],
            [
             0.6666666666666666,
             "#ed7953"
            ],
            [
             0.7777777777777778,
             "#fb9f3a"
            ],
            [
             0.8888888888888888,
             "#fdca26"
            ],
            [
             1,
             "#f0f921"
            ]
           ]
          },
          "colorway": [
           "#636efa",
           "#EF553B",
           "#00cc96",
           "#ab63fa",
           "#FFA15A",
           "#19d3f3",
           "#FF6692",
           "#B6E880",
           "#FF97FF",
           "#FECB52"
          ],
          "font": {
           "color": "#2a3f5f"
          },
          "geo": {
           "bgcolor": "white",
           "lakecolor": "white",
           "landcolor": "#E5ECF6",
           "showlakes": true,
           "showland": true,
           "subunitcolor": "white"
          },
          "hoverlabel": {
           "align": "left"
          },
          "hovermode": "closest",
          "mapbox": {
           "style": "light"
          },
          "paper_bgcolor": "white",
          "plot_bgcolor": "#E5ECF6",
          "polar": {
           "angularaxis": {
            "gridcolor": "white",
            "linecolor": "white",
            "ticks": ""
           },
           "bgcolor": "#E5ECF6",
           "radialaxis": {
            "gridcolor": "white",
            "linecolor": "white",
            "ticks": ""
           }
          },
          "scene": {
           "xaxis": {
            "backgroundcolor": "#E5ECF6",
            "gridcolor": "white",
            "gridwidth": 2,
            "linecolor": "white",
            "showbackground": true,
            "ticks": "",
            "zerolinecolor": "white"
           },
           "yaxis": {
            "backgroundcolor": "#E5ECF6",
            "gridcolor": "white",
            "gridwidth": 2,
            "linecolor": "white",
            "showbackground": true,
            "ticks": "",
            "zerolinecolor": "white"
           },
           "zaxis": {
            "backgroundcolor": "#E5ECF6",
            "gridcolor": "white",
            "gridwidth": 2,
            "linecolor": "white",
            "showbackground": true,
            "ticks": "",
            "zerolinecolor": "white"
           }
          },
          "shapedefaults": {
           "line": {
            "color": "#2a3f5f"
           }
          },
          "ternary": {
           "aaxis": {
            "gridcolor": "white",
            "linecolor": "white",
            "ticks": ""
           },
           "baxis": {
            "gridcolor": "white",
            "linecolor": "white",
            "ticks": ""
           },
           "bgcolor": "#E5ECF6",
           "caxis": {
            "gridcolor": "white",
            "linecolor": "white",
            "ticks": ""
           }
          },
          "title": {
           "x": 0.05
          },
          "xaxis": {
           "automargin": true,
           "gridcolor": "white",
           "linecolor": "white",
           "ticks": "",
           "title": {
            "standoff": 15
           },
           "zerolinecolor": "white",
           "zerolinewidth": 2
          },
          "yaxis": {
           "automargin": true,
           "gridcolor": "white",
           "linecolor": "white",
           "ticks": "",
           "title": {
            "standoff": 15
           },
           "zerolinecolor": "white",
           "zerolinewidth": 2
          }
         }
        },
        "title": {
         "text": "Amino Acid Frequency Histogram"
        },
        "xaxis": {
         "anchor": "y",
         "domain": [
          0,
          1
         ],
         "title": {
          "text": "Amino Acids"
         }
        },
        "yaxis": {
         "anchor": "x",
         "domain": [
          0,
          1
         ],
         "title": {
          "text": "Frequency (Fraction)"
         }
        }
       }
      }
     },
     "metadata": {},
     "output_type": "display_data"
    }
   ],
   "source": [
    "import matplotlib.pyplot as plt\n",
    "import plotly.graph_objects as go\n",
    "from plotly.subplots import make_subplots\n",
    "\n",
    "# Sample protein sequences (you can replace these with your actual sequences)\n",
    "sequences = {\n",
    "    \"K401\": \"MSAEREIPAEDSIKVVCRFRPLNDSEEKAGSKFVVKFPNNVEENCISIAGKVYLFDKVFKPNASQEKVYNEAAKSIVTDVLAGYNGTIFAYGQTSSGKTHTMEGVIGDSVKQGIIPRIVNDIFNHIYAMEVNLEFHIKVSYYEIYMDKIRDLLDVSKVNLSVHEDKNRVPYVKGATERFVSSPEDVFEVIEEGKSNRHIAVTNMNEHSSRSHSVFLINVKQENLENQKKLSGKLYLVDLAGSEKVSKTGAEGTVLDEAKNINKSLSALGNVISALADGNKTHIPYRDSKLTRILQESLGGNARTTIVICCSPASFNESETKSTLDFGRRAKTVKNVVCVNEELTAEEWKRRYEKEKEKNARLKGKVEKLEIELARWRAGETVKAEEQINMEDLMEASTPNL\",\n",
    "    \"Kif3\": \"MSSIRVVCRFRPQNKLELAQGGDSIVSIAPENDSVTINGSESNHSFSFDYVFPSNTTQRDVYDHAAKPVIEDIMAGYNGTLFVYGQTGSGKTFSMTGINDPNGDQELRGIVPRMIETVFEFISNADENIEFIVKASYIEIYMERIRDLLDTRKDNLKVREEKGKGVWVEGTSEVYIYREEDILDVINTGISNRAIAETRMNAESSRSHSIFILTIQQKNLKVGSIKTGKLYLVDLAGSEKISKTGAQGTTLDEAKMINKSLSSLGNVINALTDGKSTHIPYRDSKLTRVLQESLGGNSRTTLIINCSPSSYNEAETISTLRFGSRAKNIKNKAKINQERSAAELKILLSKAENEIENLKGYIKELETVSGVTVSNLKSSGSGSGSGSGSSSSSSGSSGGSGSGGSSNLSNSVNSTSNLNTSSNTSSSNVNANANVITTSVSAPTSPKDTELIKVLQEKCIQLEKQLFKKEEEKKEILEQLEQQQEQIQDKDQEIEGLNSMIESSNNINSLYQNSTNENSVLNVQLSELKLALEKSRFEATEQSLTIEGLNEENQSIKSQLEILKDRIAQSGDSSIASLVPSTPKSSAEMDPL\",\n",
    "    \"kif5\": 'MAETNNECSIKVLCRFRPLNQAEILRGDKFIPIFQGDDSVVIGGKPYVFDRVFPPNTTQEQVYHACAMQIVKDVLAGYNGTIFAYGQTSSGKTHTMEGKLHDPQLMGIIPRIARDIFNHIYSMDENLEFHIKVSYFEIYLDKIRDLLDVTKTNLSVHEDKNRVPFVKGCTERFVSSPEEILDVIDEGKSNRHVAVTNMNEHSSRSHSIFLINIKQENMETEQKLSGKLYLVDLAGSEKVSKTGAEGAVLDEAKNINKSLSALGNVISALAEGTKSYVPYRDSKMTRILQDSLGGNCRTTMFICCSPSSYNDAETKSTLMFGQRAKTIKNTASVNLELTAEQWKKKYEKEKEKTKAQKETIAKLEAELSRWRNGENVPETERLAGEEAALGAELCEETPVNDNSSIVVRIAPEERQKYEEEIRRLYKQLDDKDDEINQQSQLIEKLKQQMLDQEELLVSTRGDNEKVQRELSHLQSENDAAKDEVKEVLQALEELAVNYDQ',\n",
    "    \"ThTr\": 'MSTTPLGEVQNTLATATEGTQVAALMTKDSESSVQVPTPGPAPAPAATPAGAAAAAAGDHDDDDEDKMSVRVAVRVRPLLPKENTVRARECIEFVPGSAQLVLGGQRSFTYDYVFDPAANQAALYTDAVSPLIDAFFDGYNATVLAYGQTGSGKTYTMGSGSNASLAAAQLGVIPRVIRAMYTRIAEGSADSAYSMRVSFLEIHNENIVDLFNPAVSTKTNSLAIREADGAITVAGITELAVNSADDLLDKLERGSISRTTASTLMNSESSRSHAIFSLILEQSPASGAGRLVSKFHFVDLAGSERLKRTKAVGDRLKEGININCGLLALGNVISALGDPKRKARHIPYRDSKLTRLLQDSLGGNSRTLMIACVSPADINFEETLNTLRYADRARKIKNKPIVNLDLNSAQLSSLKAHIKQLQLELAAARTSGGDALPPAPALPSDNVLKLQMENEVLQSAYGKLQAKVKSLTDSLLKVTAERDAYAHQLADAGLAPQTEGPAAAATIQGYLETIASLKAQLASRASSPELDASDSASSFALDDEELDDDAAPGALLDDASAAAVAAAAAAAAQLAQLESETVASENTFAAAQDKVAAKVAHLDRNISLKEELLAKIVESKKALNEMKEDYESKLASLQSDIATIEADKAAIEAE', \n",
    "    \"AdPa\": 'MAGGNVRVVCRFRPQNRVEKECGGKICVNFDDKNTVRVQSEHGTRKFVMDRMFNMTTPQGEVYSYAAKPVIKDVMDGYNGTIFAYGQTGAGKTHTMEGPSLRSSTDKGVIPRIIDEIFEYIEQADPSIVFTVKLSYVEIYCEKIRDLLNPSSVNLPVRESRRAGVYIEGVTEKYVSSQEETFQVMEEGNLSRATACTRMNAASSRSHSLFILTIGQKNQEGSTKSGKLYLVDLAGSEKISKTHATGSTLDEAKTINLSLTVLGQVINALTDRKKKHIPYRDSKLTRVLQESLGGNAKTTLIICCSCSSYNCEETVSTLRFGERAKQIKNKAKVNQELSVAELKVMLADAKKEIAQLKKYIKALESGLSPEEALLSVMADGGKVVMDEEDEGEKEEDEIEEEKDPDKPP',\n",
    "    \"BleSto\": 'METSDDSSGNIRVLCRFRPLNEKEKAMAENICVDFGPDSKTVMMRAETENSEPLRFVFDYVFDPSTVQSKIYKVAASPIVDAVMQGYNGTIFAYGQTSSGKTFTMTGVITDPELMGIIPRMVGDVFAKINNADEHIEFTVKVGYCEIYMEKIKDLLDPRKNNLKIHEDKARGVYIEDLTESYVTNDREVYELMRIGTNNREVAYTHMNAGSSRSHSLFCVTITQTNKLDMSTKSGKFYLVDLAGSEKVGKTGAEGKRLEEAKNINKSLTALGQVINALTDGKSSHVPYRDSKLTRVLQDSLGGNSKTTLIIACSPHPYNEAETLSTLRFGIRAKSIKNKAKVNKEYTVAELKLMLTKAKEEIMLKDKRISVLEQAVNKSGILIGGDEESSTKDESELEISKVSVYDDMIQELEDTRARLSEEVDMNSKLRQEIEIKTKENEEIKGDYDFLNKHIGSLQEKLTTTESTLAEKEEHIEQLIMAQEYLRNDISSLNEKKNELEQTIIKKDEEILKWKTQPREAPSTVNIKDLEHQIQVLRAQLQEEQKKSKELIARCEHLERRWNEQASNAIPNL',\n",
    "    \"Acsu\": 'MSSIRVVCRFRPQNKIELAQGGCSIVEVNDGLTVNIKGNEGANHSFTFDRIYTEKNSQKDVYDDAAKPVIEDIMQGYNGTIFVYGQTSSGKTHTMQGPSIDDPELKGVIPRMINTVFDCIKKADENIEFIVKASYIEIYMEKIRDLLDIRKDNLKVREEKAKGVWVEGTTEVYIYREDDILEVMRTGQANRAIASTNMNAESSRSHSIFILSIQQKNLKEGSLKNGKLYLVDLAGSEKVAKTGAQGLTLDEAKMINKSLSSLGNVINALTDGKSAHIPYRDSKLTRVLQESLGGNSRTTLIINCSPSSYNEVETISTLRFGSRAKNIKNKAKINQERSAAELKILLSKAEKEIESLKVYIKEIESVSGVASSRPGASGSAGSGDSGDLQTLKEKCIALEKQLFQKEEEKKELAEQLDSQIIQLKDKEQELETHIHHIATLKEESARTSQFVNESDFLLGQLSEMKIQLEQVNYDATEQSLLIEELTTENTTLKAQLEEAAKGQSSTVVTSSPMTVEDASLSVTKHNEEWTEMEAQIKMLQRTKLSAGTPASPRGSLSAPAVNLALQEENNGMKDK',\n",
    "    \"AcSu2\": 'MSSIRVVCRFRPQNKIELAQGGCSIIDVSDNQTVNIKGSESNHTFTFDRIYDERNSQKDVYDDAAKPVIEDIMLGYNGTIFVYGQTSSGKTHTMQGPSIDDAELKGVIPRMINTVFECINKADQNVEFIVKASYIEIYMEKIRDLLDVRKDNLRVREEKGKGVWVEGTTEVYIYREEDILEVMRTGQANRAIAETKMNAESSRSHSIFILSIQQKNLKEGSNKHGKLYLVDLAGSEKVAKTGAQGLTLDEAKMINKSLSSLGNVINSLTDGKSAHIPYRDSKLTRVLQESLGGNSRTTLIINCSPSSYNEVETVSTLRFGNRAKNIKNKAKINQERSAAELKILLAKAEKEIESLKEYTKELESLTGVPSSKSILVTSSFTHPLTNQSIIEFGNNNDSNTSADMQQLKEKCISLEKLLFQKEEERKELLDQMDSSLIQLHDKEQELEVQAHLYIAMQHETTKLSSISQENETLTSQVTELKLSLEKKKYEAMEQSLLIEELNGEIAILKSDAPKTVSAKGSGVTSPIGIA',\n",
    "    \"Dipu\": 'MSSIRVVCRFRPQNKNELAQGGCSIVSVAADNQSVSINGAESNHTFTFDRVFHDQCTQKEVYDDAAKPVIEDIMAGYNGTIFVYGQTSSGKTHTMQGPSIDDQELKGVIPRMIQTVFECISNADENIEFIVKASYIEIYMERIRDLLDTKKDNLKVREEKGKGVWVDGTTEAYIYGEHDILNVIRNGQANRAIAETKMNAESSRSHSIFILTIQQKNLKEGSVKTGKLYLVDLAGSEKISKTGAQGLTLDEAKMINKSLSSLGNVINALTDGKSAHIPYRDSKLTRVLQESLGGNSRTTLIINCSPSSYNEAETVSTLRFGSRAKNIKNKAKINQERSAAELKILLSKAENEIESLKGYIKELESVGGAPRSSGSQSASSASANSENDQALKALQEKCISLEKQLFKKEEEKRELLEQLEIAQEQIQDKDQELEAMNALRDSANKYSSLYQTITNENSVLNTQISEMKLILDKSRFEISEQALTIEGLQSENQSIKSEFTILQEKFSKQSSNP',\n",
    "    \"HeAl\": 'MSSIRVVCRFRPQNKIELAQGGCSVVDVADDQTVTIKGNESNHTFTFDRIYTEKNSQKDVYDDAAKPVIEDIMQGYNGTIFVYGQTSSGKTHTMQGPSIDDAELKGVIPRMINTVFDCITKADENIEFIVKASYIEIYMERIRDLLDVRKDNLKVREEKGKGVWVDGTTEVYIYREDDILEVMRAGQANRAIAETKMNAESSRSHSIFILTIQQKNLKEGSNKSGKLYLVDLAGSEKIAKTGAQGLTLDEAKMINKSLSSLGNVINALTDGKSTHIPYRDSKLTRVLQESLGGNSRTTLIINCSPSSYNETETLSTLRFGNRAKSIKNKAKINQERSAAELKILLSKAEKEIESLKDYIKELETVSGVPHSKIGNNLDTDKSADVQGLKEKCIQLEKLLFQKEEEKKELSEQLDTISIQLQDKEQELETQTHQVTSLKDEASKYVSLSNENDILSAQLTEIKLLLEKKNYESVEQTLVIEELSAENASIKSQLQEKIESSKGVGGIGDHYTPS',\n",
    "    \"NaGr\": 'MTEEFGGSNIQVVCRFRPLNTLEKQMGGGEVVDFDGKTCKLNNKNGKHDFTFDHIFKSGSKQGDLFNVVGKPVVEDIFKGYNGTVFVYGQTGSGKSYTMMGPNEDHKGYCTDSNLKGLIPRMIEEIFDRVENSDPDIEFTIQISYIEIYLEKIRDLLDPHHQDLKIKEDRESGRGVYIKGATEEYVTSVEEVYNLLKVGAGNRVVSSTRMNDESSRSHSIFIITIGQKHLVNLDSKTGKLFLVDLAGSEKVKKTGASGQTLEEAKNINKSLSALGMVINALTDGVSKFVPYRDSKLTRLLQDSLGGNSRTTLIINCSMSSYNEDETLSTLRFGFRAKNIKNKPKVNRELSAKELQKLLDKAKEEIRELKEYTNGIEEELKIYKKGGIKTEIK',\n",
    "    \"TiLa\": 'MSQQQSASIRVVCRFRPQNKIELAQGGCSVVNIPDNQTVQIKGAENNHTFTFDRVYSDRATQKDVYEDAAKPVIEDICSGYNGTIFVYGQTSSGKTHTMQGPSFEDAELKGVIPRMINTIFDCINKADENIEFIVKASFIEIYMERIRDLLDPVKNNLKIREEKGKGVWVDGTTEVYIYRENDILEVMRAGAANRAIGETKMNAESSRSHSIFILSIQQKNLLKGTVKTGKLYLVDLAGSEKISKTGAQGLTLDEAKMINKSLSSLGNVINALTDGKSTHIPYRDSKLTRVLQESLGGNSRTTLIINCSPSSYNENETVSTLRFGSRAKNIKNKAKINQEMSAAELKEMLAKCNQEIESLKKYIQQLETLGTSTTGMSGSAALLNTTQSDDILKTIQEKCINLEKQLFQKEEDRKEIQDQLDQLLDQIQDKDQEIESQIQSIQSLQSHNTMLTNENNILTSQLSDFKLSLEKSKYLSSEQQILIDTLNNENSSIKSELKLLNEKILVDYSNSN',\n",
    "    \"B\" : 'MSSIRVVCRFRPQNKLELAQGGDSIVSIAPENDSVTINGSESNHSFSFDYVFPSNTTQRDVYDHAAKPVIEDIMAGYNGTLFVYGQTGSGKTFSMTGINDPNGDQELRGIVPRMIETVFEFISNADENIEFIVKASYIEIYMERIRDLLDTRKDNLKVREEKGKGVWVEGTSEVYVSSPEDVFEVIEEGKSNRHIAVTNMNEHSSRSHSVFLINVKQENLENQKKLSGKLYLVDLAGSEKVSKTGAEGTVLDEAKNINKSLSALGNVISALADGNKTHIPYRDSKLTRILQESLGGNARTTIVICCSPASFNESETKSTLDFGRRAKTVKNVVCVNEELTAEEWKRRYEKEKEKNARLKGKVEKLEIELARWRAGETVKAEEQINMEDLMEASTPNL',\n",
    "    \"C\": \"MSAEREIPAEDSIKVVCRFRPLNDSEEKAGSKFVVKFPNNVEENCISIAGKVYLFDKVFKPNASQEKVYNEAAKSIVTDVLAGYNGTIFAYGQTSSGKTHTMEGVIGDSVKQGIIPRIVNDIFNHIYAMEVNLEFHIKVSYYEIYMDKIRDLLDVSKVNLSVHEDKNRVPYVKGATERFIYREEDILDVINTGISNRAIAETRMNAESSRSHSIFILTIQQKNLKVGSIKTGKLYLVDLAGSEKISKTGAQGTTLDEAKMINKSLSSLGNVINALTDGKSTHIPYRDSKLTRVLQESLGGNSRTTLIINCSPSSYNEAETISTLRFGSRAKNIKNVVCVNEELTAEEWKRRYEKEKEKNARLKGKVEKLEIELARWRAGETVKAEEQINMEDLMEASTPNL\",\n",
    "    \"D\": 'MSSIRVVCRFRPQNKLELAQGGDSIVSIAPENDSVTINGSESNHSFSFDYVFPSNTTQRDVYDHAAKPVIEDIMAGYNGTLFVYGQTGSGKTFSMTGINDPNGDQELRGIVPRMIETVFEFISNADENIEFIVKASYIEIYMERIRDLLDTRKDNLKVREEKGKGVWVEGTSEVYIYREEDILDVINTGISNRAIAETRMNAESSRSHSIFILTIQQKNLKVGSIKTGKLYLVDLAGSEKISKTGAQGTTLDEAKMINKSLSSLGNVINALTDGKSTHIPYRDSKLTRVLQESLGGNSRTTLIINCSPSSYNEAETISTLRFGSRAKNIKNVVCVNEELTAEEWKRRYEKEKEKNARLKGKVEKLEIELARWRAGETVKAEEQINMEDLMEASTPNL',\n",
    "    \"E\":\"MSAEREIPAEDSIKVVCRFRPLNDSEEKAGSKFVVKFPNNVEENCISIAGKVYLFDKVFKPNASQEKVYNEAAKSIVTDVLAGYNGTIFAYGQTSSGKTHTMEGVIGDSVKQGIIPRIVNDIFNHIYAMEVNLEFHIKVSYYEIYMDKIRDLLDVSKVNLSVHEDKNRVPYVKGATERFVSSPEDVFEVIEEGKSNRHIAVTNMNEHSSRSHSVFLINVKQENLENQKKLSGKLYLVDLAGSEKVSKTGAEGTVLDEAKNINKSLSALGNVISALADGNKTHIPYRDSKLTRILQESLGGNARTTIVICCSPASFNESETKSTLDFGRRAKTVKNKAKINQERSAAELKILLSKAENEIENLKGYIKELETVSGVTVSNLKSSGSGSGSGSGSSSSSSGSSGGSGSGGSSNLSNSVNSTSNLNTSSNTSSSNVNANANVITTSVSAPTSPKDTELIKVLQEKCIQLEKQLFKKEEEKKEILEQLEQQQEQIQDKDQEIEGLNSMIESSNNINSLYQNSTNENSVLNVQLSELKLALEKSRFEATEQSLTIEGLNEENQSIKSQLEILKDRIAQSGDSSIASLVPSTPKSSAEMDPL\",   \n",
    "    \"F\": 'MSSIRVVCRFRPQNKLELAQGGDSIVSIAPENDSVTINGSESNHSFSFDYVFPSNTTQRDVYDHAAKPVIEDIMAGYNGTLFVYGQTGSGKTFSMTGINDPNGDQELRGIVPRMIETVFEFISNADENIEFIVKASYIEIYMERIRDLLDTRKDNLKVREEKGKGVWVEGTSEVYVSSPEDVFEVIEEGKSNRHIAVTNMNEHSSRSHSVFLINVKQENLENQKKLSGKLYLVDLAGSEKVSKTGAEGTVLDEAKNINKSLSALGNVISALADGNKTHIPYRDSKLTRILQESLGGNARTTIVICCSPASFNESETKSTLDFGRRAKTVKNKAKINQERSAAELKILLSKAENEIENLKGYIKELETVSGVTVSNLKSSGSGSGSGSGSSSSSSGSSGGSGSGGSSNLSNSVNSTSNLNTSSNTSSSNVNANANVITTSVSAPTSPKDTELIKVLQEKCIQLEKQLFKKEEEKKEILEQLEQQQEQIQDKDQEIEGLNSMIESSNNINSLYQNSTNENSVLNVQLSELKLALEKSRFEATEQSLTIEGLNEENQSIKSQLEILKDRIAQSGDSSIASLVPSTPKSSAEMDPL',\n",
    "    \"G\": 'MSSIRVVCRFRPQNKLELAQGGDSIVSIAPENDSVTINGSESNHSFSFDYVFPSNTTQRDVYDHAAKPVIEDIMAGYNGTLFVYGQTGSGKTFSMTGINDPNGDQELRGIVPRMIETVFEFISNADENIEFIVKASYIEIYMERIRDLLDTRKDNLKVREEKGKGVWVEGTSEVYVSSPEDVFEVIEEGKSNRHIAVTNMNEHSSRSHSVFLINVKQENLENQKKLSGKLYLVDLAGSEKVSKTGAEGTVLDEAKNINKSLSALGNVISALADGNKTHIPYRDSKLTRILQESLGGNARTTIVICCSPASFNESETKSTLDFGRRAKTVKNKAKINQERSAAELKILLSKAENEIENLKGYIKELETVSGVTVSNLKSSGSGSGSGSGSSSSSSGSSGGSGSGGSSNLSNSVNSTSNLNTSSNTSSSNVNANANVITTSVSAPTSPKDTELIKVLQEKCIQLEKQLFKKEEEKKEILEQLEQQQEQIQDKDQEIEGLNSMIESSNNINSLYQNSTNENSVLNVQLSELKLALEKSRFEATEQSLTIEGLNEENQSIKSQLEILKDRIAQSGDSSIASLVPSTPKSSAEMDPL',\n",
    "    \n",
    "      # Add more protein sequences as needed\n",
    "}\n",
    "\n",
    "# List of amino acids\n",
    "amino_acids = \"ACDEFGHIKLMNPQRSTVWY\"\n",
    "\n",
    "# Function to calculate the fraction of each amino acid\n",
    "def calculate_fractions(sequence):\n",
    "    total_count = len(sequence)\n",
    "    fractions = {aa: sequence.count(aa) / total_count for aa in amino_acids}\n",
    "    return fractions\n",
    "\n",
    "# Calculate fractions for each sequence\n",
    "fractions_data = {name: calculate_fractions(seq) for name, seq in sequences.items()}\n",
    "\n",
    "# Create the interactive histogram\n",
    "fig = make_subplots(rows=1, cols=1)\n",
    "\n",
    "for protein_name, fractions in fractions_data.items():\n",
    "    fig.add_trace(\n",
    "        go.Bar(\n",
    "            x=list(fractions.keys()),\n",
    "            y=list(fractions.values()),\n",
    "            name=protein_name,\n",
    "            hoverinfo=\"name+x+y\",\n",
    "        )\n",
    "    )\n",
    "\n",
    "fig.update_layout(\n",
    "    title=\"Amino Acid Frequency Histogram\",\n",
    "    xaxis_title=\"Amino Acids\",\n",
    "    yaxis_title=\"Frequency (Fraction)\",\n",
    "    barmode=\"overlay\",\n",
    "    bargap=0.15,\n",
    "    bargroupgap=0.1\n",
    ")\n",
    "\n",
    "fig.update_traces(opacity=0.75)\n",
    "\n",
    "fig.show()\n"
   ]
  },
  {
   "cell_type": "code",
   "execution_count": 9,
   "metadata": {},
   "outputs": [
    {
     "name": "stdout",
     "output_type": "stream",
     "text": [
      "K401: Entropy = 4.0537\n",
      "Kif3: Entropy = 3.9412\n",
      "kif5: Entropy = 4.1152\n",
      "ThTr: Entropy = 3.9123\n",
      "AdPa: Entropy = 4.0871\n",
      "BleSto: Entropy = 4.0753\n",
      "Acsu: Entropy = 4.0340\n",
      "AcSu2: Entropy = 4.0339\n",
      "Dipu: Entropy = 4.0199\n",
      "HeAl: Entropy = 4.0114\n",
      "NaGr: Entropy = 4.0294\n",
      "TiLa: Entropy = 4.0289\n",
      "B: Entropy = 4.0745\n",
      "C: Entropy = 4.0589\n",
      "D: Entropy = 4.0653\n",
      "E: Entropy = 3.9464\n",
      "F: Entropy = 3.9540\n",
      "G: Entropy = 3.9540\n"
     ]
    }
   ],
   "source": [
    "import numpy as np\n",
    "\n",
    "\n",
    "# List of amino acids\n",
    "amino_acids = \"ACDEFGHIKLMNPQRSTVWY\"\n",
    "\n",
    "# Function to calculate the fraction of each amino acid\n",
    "def calculate_fractions(sequence):\n",
    "    total_count = len(sequence)\n",
    "    fractions = {aa: sequence.count(aa) / total_count for aa in amino_acids}\n",
    "    return fractions\n",
    "\n",
    "# Function to calculate the information entropy\n",
    "def calculate_entropy(fractions):\n",
    "    entropy = -sum(fraction * np.log2(fraction) for fraction in fractions.values() if fraction > 0)\n",
    "    return entropy\n",
    "\n",
    "# Calculate fractions and entropy for each sequence\n",
    "fractions_data = {name: calculate_fractions(seq) for name, seq in sequences.items()}\n",
    "entropy_data = {name: calculate_entropy(fractions) for name, fractions in fractions_data.items()}\n",
    "\n",
    "# Print entropy values for each sequence\n",
    "for name, entropy in entropy_data.items():\n",
    "    print(f\"{name}: Entropy = {entropy:.4f}\")\n"
   ]
  },
  {
   "cell_type": "code",
   "execution_count": null,
   "metadata": {},
   "outputs": [],
   "source": []
  }
 ],
 "metadata": {
  "kernelspec": {
   "display_name": "base",
   "language": "python",
   "name": "python3"
  },
  "language_info": {
   "codemirror_mode": {
    "name": "ipython",
    "version": 3
   },
   "file_extension": ".py",
   "mimetype": "text/x-python",
   "name": "python",
   "nbconvert_exporter": "python",
   "pygments_lexer": "ipython3",
   "version": "3.12.4"
  }
 },
 "nbformat": 4,
 "nbformat_minor": 2
}
