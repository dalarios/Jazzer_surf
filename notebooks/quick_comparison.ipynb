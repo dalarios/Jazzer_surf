{
 "cells": [
  {
   "cell_type": "markdown",
   "metadata": {},
   "source": [
    "H Seed 1, look at the csv file"
   ]
  },
  {
   "cell_type": "code",
   "execution_count": 73,
   "metadata": {},
   "outputs": [
    {
     "data": {
      "application/vnd.plotly.v1+json": {
       "config": {
        "plotlyServerURL": "https://plot.ly"
       },
       "data": [
        {
         "customdata": [
          [
           "fold_h_atp_tub_seed1_model_0"
          ],
          [
           "fold_h_atp_tub_seed1_model_0"
          ],
          [
           "fold_h_atp_tub_seed1_model_0"
          ],
          [
           "fold_h_atp_tub_seed1_model_0"
          ],
          [
           "fold_h_atp_tub_seed1_model_0"
          ],
          [
           "fold_h_atp_tub_seed1_model_0"
          ],
          [
           "fold_h_atp_tub_seed1_model_0"
          ],
          [
           "fold_h_atp_tub_seed1_model_0"
          ],
          [
           "fold_h_atp_tub_seed1_model_0"
          ],
          [
           "fold_h_atp_tub_seed1_model_0"
          ],
          [
           "fold_h_atp_tub_seed1_model_0"
          ]
         ],
         "hovertemplate": "Interacting Chain=ATP<br>Residue (Number and Identity)=%{x}<br>Distance (angstroms)=%{y}<br>interacting_atom=%{text}<br>file=%{customdata[0]}<extra></extra>",
         "legendgroup": "ATP",
         "marker": {
          "color": "#636efa",
          "opacity": 0.6,
          "size": 10,
          "symbol": "circle"
         },
         "mode": "markers+text",
         "name": "ATP",
         "orientation": "v",
         "showlegend": true,
         "text": [
          "O1G",
          "O3B",
          "O1B",
          "O1B",
          "O1B",
          "O2B",
          "O1A",
          "O1G",
          "O1G",
          "O3G",
          "O2G"
         ],
         "textposition": "top center",
         "type": "scatter",
         "x": [
          "87T",
          "88G",
          "89S",
          "90G",
          "91K",
          "92T",
          "93F",
          "201N",
          "204S",
          "205S",
          "237G"
         ],
         "xaxis": "x",
         "y": [
          2.7136809825897217,
          2.823422431945801,
          3.3753457069396973,
          2.964850425720215,
          2.674063920974731,
          2.672137975692749,
          2.6421751976013184,
          3.039212703704834,
          3.0076818466186523,
          2.9404726028442383,
          2.8074371814727783
         ],
         "yaxis": "y"
        },
        {
         "customdata": [
          [
           "fold_h_atp_tub_seed1_model_0"
          ],
          [
           "fold_h_atp_tub_seed1_model_0"
          ],
          [
           "fold_h_atp_tub_seed1_model_0"
          ],
          [
           "fold_h_atp_tub_seed1_model_0"
          ],
          [
           "fold_h_atp_tub_seed1_model_0"
          ],
          [
           "fold_h_atp_tub_seed1_model_0"
          ],
          [
           "fold_h_atp_tub_seed1_model_0"
          ],
          [
           "fold_h_atp_tub_seed1_model_0"
          ],
          [
           "fold_h_atp_tub_seed1_model_0"
          ],
          [
           "fold_h_atp_tub_seed1_model_0"
          ],
          [
           "fold_h_atp_tub_seed1_model_0"
          ],
          [
           "fold_h_atp_tub_seed1_model_0"
          ],
          [
           "fold_h_atp_tub_seed1_model_0"
          ],
          [
           "fold_h_atp_tub_seed1_model_0"
          ],
          [
           "fold_h_atp_tub_seed1_model_0"
          ],
          [
           "fold_h_atp_tub_seed1_model_0"
          ],
          [
           "fold_h_atp_tub_seed1_model_0"
          ]
         ],
         "hovertemplate": "Interacting Chain=beta-tubulin<br>Residue (Number and Identity)=%{x}<br>Distance (angstroms)=%{y}<br>interacting_atom=%{text}<br>file=%{customdata[0]}<extra></extra>",
         "legendgroup": "beta-tubulin",
         "marker": {
          "color": "#EF553B",
          "opacity": 0.6,
          "size": 10,
          "symbol": "circle"
         },
         "mode": "markers+text",
         "name": "beta-tubulin",
         "orientation": "v",
         "showlegend": true,
         "text": [
          "OE1",
          "OE1",
          "OE1",
          "CG",
          "OG",
          "CA",
          "OE1",
          "OE1",
          "OD2",
          "CD",
          "OE2",
          "NH2",
          "CD",
          "CZ",
          "CE1",
          "CZ2",
          "O"
         ],
         "textposition": "top center",
         "type": "scatter",
         "x": [
          "144R",
          "157K",
          "158V",
          "159R",
          "160E",
          "275K",
          "277T",
          "278H",
          "282R",
          "283D",
          "285K",
          "494I",
          "498N",
          "505N",
          "508N",
          "509S",
          "512Q"
         ],
         "xaxis": "x",
         "y": [
          2.768033504486084,
          3.047783851623535,
          2.7401652336120605,
          3.184271812438965,
          3.432516574859619,
          3.420228958129883,
          3.3995347023010254,
          2.7170002460479736,
          2.4272496700286865,
          3.05643630027771,
          3.496941328048706,
          2.975874185562134,
          2.3815529346466064,
          2.46383285522461,
          3.2913224697113037,
          2.656165599822998,
          2.8011043071746826
         ],
         "yaxis": "y"
        },
        {
         "customdata": [
          [
           "fold_h_atp_tub_seed1_model_0"
          ],
          [
           "fold_h_atp_tub_seed1_model_0"
          ],
          [
           "fold_h_atp_tub_seed1_model_0"
          ],
          [
           "fold_h_atp_tub_seed1_model_0"
          ],
          [
           "fold_h_atp_tub_seed1_model_0"
          ],
          [
           "fold_h_atp_tub_seed1_model_0"
          ],
          [
           "fold_h_atp_tub_seed1_model_0"
          ],
          [
           "fold_h_atp_tub_seed1_model_0"
          ],
          [
           "fold_h_atp_tub_seed1_model_0"
          ],
          [
           "fold_h_atp_tub_seed1_model_0"
          ]
         ],
         "hovertemplate": "Interacting Chain=alpha-tubulin<br>Residue (Number and Identity)=%{x}<br>Distance (angstroms)=%{y}<br>interacting_atom=%{text}<br>file=%{customdata[0]}<extra></extra>",
         "legendgroup": "alpha-tubulin",
         "marker": {
          "color": "#00cc96",
          "opacity": 0.6,
          "size": 10,
          "symbol": "circle"
         },
         "mode": "markers+text",
         "name": "alpha-tubulin",
         "orientation": "v",
         "showlegend": true,
         "text": [
          "OE1",
          "OE1",
          "O",
          "O",
          "CG1",
          "CG1",
          "OE2",
          "CG",
          "OE1",
          "OE1"
         ],
         "textposition": "top center",
         "type": "scatter",
         "x": [
          "238S",
          "240K",
          "241I",
          "255K",
          "258N",
          "259K",
          "262S",
          "266N",
          "314A",
          "321R"
         ],
         "xaxis": "x",
         "y": [
          2.8748793601989746,
          2.4869065284729004,
          2.9714810848236084,
          3.2021288871765137,
          3.430851459503174,
          3.369836807250977,
          2.512510299682617,
          3.2866287231445312,
          3.040358543395996,
          2.6851649284362793
         ],
         "yaxis": "y"
        },
        {
         "customdata": [
          [
           "fold_h_atp_tub_seed1_model_0"
          ],
          [
           "fold_h_atp_tub_seed1_model_0"
          ],
          [
           "fold_h_atp_tub_seed1_model_0"
          ],
          [
           "fold_h_atp_tub_seed1_model_0"
          ],
          [
           "fold_h_atp_tub_seed1_model_0"
          ],
          [
           "fold_h_atp_tub_seed1_model_0"
          ],
          [
           "fold_h_atp_tub_seed1_model_0"
          ],
          [
           "fold_h_atp_tub_seed1_model_0"
          ],
          [
           "fold_h_atp_tub_seed1_model_0"
          ],
          [
           "fold_h_atp_tub_seed1_model_0"
          ],
          [
           "fold_h_atp_tub_seed1_model_0"
          ],
          [
           "fold_h_atp_tub_seed1_model_0"
          ],
          [
           "fold_h_atp_tub_seed1_model_0"
          ],
          [
           "fold_h_atp_tub_seed1_model_0"
          ],
          [
           "fold_h_atp_tub_seed1_model_0"
          ],
          [
           "fold_h_atp_tub_seed1_model_0"
          ],
          [
           "fold_h_atp_tub_seed1_model_0"
          ],
          [
           "fold_h_atp_tub_seed1_model_0"
          ],
          [
           "fold_h_atp_tub_seed1_model_0"
          ],
          [
           "fold_h_atp_tub_seed1_model_0"
          ],
          [
           "fold_h_atp_tub_seed1_model_0"
          ],
          [
           "fold_h_atp_tub_seed1_model_0"
          ],
          [
           "fold_h_atp_tub_seed1_model_0"
          ],
          [
           "fold_h_atp_tub_seed1_model_0"
          ],
          [
           "fold_h_atp_tub_seed1_model_0"
          ],
          [
           "fold_h_atp_tub_seed1_model_0"
          ],
          [
           "fold_h_atp_tub_seed1_model_0"
          ],
          [
           "fold_h_atp_tub_seed1_model_0"
          ],
          [
           "fold_h_atp_tub_seed1_model_0"
          ],
          [
           "fold_h_atp_tub_seed1_model_0"
          ],
          [
           "fold_h_atp_tub_seed1_model_0"
          ],
          [
           "fold_h_atp_tub_seed1_model_0"
          ],
          [
           "fold_h_atp_tub_seed1_model_0"
          ],
          [
           "fold_h_atp_tub_seed1_model_0"
          ],
          [
           "fold_h_atp_tub_seed1_model_0"
          ],
          [
           "fold_h_atp_tub_seed1_model_0"
          ],
          [
           "fold_h_atp_tub_seed1_model_0"
          ],
          [
           "fold_h_atp_tub_seed1_model_0"
          ],
          [
           "fold_h_atp_tub_seed1_model_0"
          ],
          [
           "fold_h_atp_tub_seed1_model_0"
          ],
          [
           "fold_h_atp_tub_seed1_model_0"
          ],
          [
           "fold_h_atp_tub_seed1_model_0"
          ],
          [
           "fold_h_atp_tub_seed1_model_0"
          ],
          [
           "fold_h_atp_tub_seed1_model_0"
          ],
          [
           "fold_h_atp_tub_seed1_model_0"
          ],
          [
           "fold_h_atp_tub_seed1_model_0"
          ],
          [
           "fold_h_atp_tub_seed1_model_0"
          ],
          [
           "fold_h_atp_tub_seed1_model_0"
          ],
          [
           "fold_h_atp_tub_seed1_model_0"
          ],
          [
           "fold_h_atp_tub_seed1_model_0"
          ],
          [
           "fold_h_atp_tub_seed1_model_0"
          ],
          [
           "fold_h_atp_tub_seed1_model_0"
          ],
          [
           "fold_h_atp_tub_seed1_model_0"
          ],
          [
           "fold_h_atp_tub_seed1_model_0"
          ],
          [
           "fold_h_atp_tub_seed1_model_0"
          ],
          [
           "fold_h_atp_tub_seed1_model_0"
          ],
          [
           "fold_h_atp_tub_seed1_model_0"
          ],
          [
           "fold_h_atp_tub_seed1_model_0"
          ],
          [
           "fold_h_atp_tub_seed1_model_0"
          ],
          [
           "fold_h_atp_tub_seed1_model_0"
          ],
          [
           "fold_h_atp_tub_seed1_model_0"
          ],
          [
           "fold_h_atp_tub_seed1_model_0"
          ],
          [
           "fold_h_atp_tub_seed1_model_0"
          ],
          [
           "fold_h_atp_tub_seed1_model_0"
          ],
          [
           "fold_h_atp_tub_seed1_model_0"
          ],
          [
           "fold_h_atp_tub_seed1_model_0"
          ],
          [
           "fold_h_atp_tub_seed1_model_0"
          ],
          [
           "fold_h_atp_tub_seed1_model_0"
          ]
         ],
         "hovertemplate": "Interacting Chain=kinesin B<br>Residue (Number and Identity)=%{x}<br>Distance (angstroms)=%{y}<br>interacting_atom=%{text}<br>file=%{customdata[0]}<extra></extra>",
         "legendgroup": "kinesin B",
         "marker": {
          "color": "#ab63fa",
          "opacity": 0.6,
          "size": 10,
          "symbol": "circle"
         },
         "mode": "markers+text",
         "name": "kinesin B",
         "orientation": "v",
         "showlegend": true,
         "text": [
          "CD1",
          "O",
          "NZ",
          "CD1",
          "OE1",
          "CG2",
          "CG1",
          "O",
          "NZ",
          "NZ",
          "CD2",
          "CB",
          "CG1",
          "CD2",
          "CG",
          "CE2",
          "O",
          "OE2",
          "CG2",
          "OD2",
          "CG2",
          "CG1",
          "OE1",
          "SG",
          "CG",
          "NZ",
          "CD1",
          "CD1",
          "OE1",
          "NZ",
          "NZ",
          "OE2",
          "CD1",
          "OE1",
          "O",
          "NE2",
          "NZ",
          "OD2",
          "NZ",
          "CD1",
          "CD1",
          "CD2",
          "CB",
          "CD1",
          "CE2",
          "O",
          "OG",
          "OD1",
          "OD1",
          "CD2",
          "CD1",
          "O",
          "OG",
          "OE1",
          "O",
          "CG1",
          "OD1",
          "CD2",
          "NZ",
          "OD1",
          "CG2",
          "OE1",
          "CD1",
          "CD1",
          "O",
          "CD2",
          "CD1",
          "NH1"
         ],
         "textposition": "top center",
         "type": "scatter",
         "x": [
          "341A",
          "344L",
          "354E",
          "358L",
          "359K",
          "361Y",
          "362I",
          "365L",
          "366E",
          "367T",
          "368V",
          "369S",
          "370G",
          "371V",
          "372T",
          "373V",
          "374S",
          "375N",
          "376L",
          "444T",
          "448D",
          "452I",
          "458K",
          "459C",
          "462L",
          "463E",
          "465Q",
          "466L",
          "469K",
          "470E",
          "472E",
          "473K",
          "476I",
          "480L",
          "483Q",
          "484Q",
          "487I",
          "490K",
          "491D",
          "493E",
          "497L",
          "501I",
          "504S",
          "508N",
          "510L",
          "511Y",
          "514S",
          "518N",
          "521L",
          "522N",
          "531A",
          "532L",
          "535S",
          "539A",
          "542Q",
          "546I",
          "549L",
          "550N",
          "552E",
          "553N",
          "556I",
          "557K",
          "560L",
          "563L",
          "566R",
          "567I",
          "575I",
          "578L"
         ],
         "xaxis": "x",
         "y": [
          3.2464489936828613,
          3.1811676025390625,
          2.7876062393188477,
          3.2889037132263184,
          2.5041942596435547,
          2.093987464904785,
          3.2933621406555176,
          2.98205304145813,
          1.9849523305892944,
          3.1734635829925537,
          2.9161553382873535,
          3.067169666290283,
          2.5092685222625732,
          2.9051871299743652,
          1.6073085069656372,
          3.0889830589294434,
          2.8501088619232178,
          2.283984899520874,
          2.154186248779297,
          2.297034502029419,
          2.346658706665039,
          3.4562010765075684,
          2.8986783027648926,
          2.8299708366394043,
          3.3915581703186035,
          2.7778964042663574,
          3.1131224632263184,
          2.956859350204468,
          2.776623487472534,
          2.828545570373535,
          2.6627914905548096,
          2.6028313636779785,
          3.171013355255127,
          3.079900026321411,
          3.0414021015167236,
          3.325914144515991,
          2.9861788749694824,
          2.5752620697021484,
          2.5212717056274414,
          3.44839859008789,
          2.8906216621398926,
          2.934314727783203,
          3.16332745552063,
          3.387312412261963,
          3.43734073638916,
          3.3862593173980713,
          2.796589612960815,
          2.172536611557007,
          3.0911104679107666,
          3.23193883895874,
          3.3904988765716553,
          3.4057912826538086,
          2.8518059253692627,
          2.714545488357544,
          2.726140260696411,
          3.331946849822998,
          3.074075937271118,
          3.1508708000183105,
          2.7956008911132812,
          2.272268533706665,
          3.241206169128418,
          2.6881024837493896,
          3.3551764488220215,
          3.2912817001342773,
          3.1702568531036377,
          3.3359241485595703,
          3.169877767562866,
          3.2285566329956055
         ],
         "yaxis": "y"
        }
       ],
       "layout": {
        "legend": {
         "title": {
          "text": "Interacting Chain"
         },
         "tracegroupgap": 0
        },
        "template": {
         "data": {
          "bar": [
           {
            "error_x": {
             "color": "#2a3f5f"
            },
            "error_y": {
             "color": "#2a3f5f"
            },
            "marker": {
             "line": {
              "color": "#E5ECF6",
              "width": 0.5
             },
             "pattern": {
              "fillmode": "overlay",
              "size": 10,
              "solidity": 0.2
             }
            },
            "type": "bar"
           }
          ],
          "barpolar": [
           {
            "marker": {
             "line": {
              "color": "#E5ECF6",
              "width": 0.5
             },
             "pattern": {
              "fillmode": "overlay",
              "size": 10,
              "solidity": 0.2
             }
            },
            "type": "barpolar"
           }
          ],
          "carpet": [
           {
            "aaxis": {
             "endlinecolor": "#2a3f5f",
             "gridcolor": "white",
             "linecolor": "white",
             "minorgridcolor": "white",
             "startlinecolor": "#2a3f5f"
            },
            "baxis": {
             "endlinecolor": "#2a3f5f",
             "gridcolor": "white",
             "linecolor": "white",
             "minorgridcolor": "white",
             "startlinecolor": "#2a3f5f"
            },
            "type": "carpet"
           }
          ],
          "choropleth": [
           {
            "colorbar": {
             "outlinewidth": 0,
             "ticks": ""
            },
            "type": "choropleth"
           }
          ],
          "contour": [
           {
            "colorbar": {
             "outlinewidth": 0,
             "ticks": ""
            },
            "colorscale": [
             [
              0,
              "#0d0887"
             ],
             [
              0.1111111111111111,
              "#46039f"
             ],
             [
              0.2222222222222222,
              "#7201a8"
             ],
             [
              0.3333333333333333,
              "#9c179e"
             ],
             [
              0.4444444444444444,
              "#bd3786"
             ],
             [
              0.5555555555555556,
              "#d8576b"
             ],
             [
              0.6666666666666666,
              "#ed7953"
             ],
             [
              0.7777777777777778,
              "#fb9f3a"
             ],
             [
              0.8888888888888888,
              "#fdca26"
             ],
             [
              1,
              "#f0f921"
             ]
            ],
            "type": "contour"
           }
          ],
          "contourcarpet": [
           {
            "colorbar": {
             "outlinewidth": 0,
             "ticks": ""
            },
            "type": "contourcarpet"
           }
          ],
          "heatmap": [
           {
            "colorbar": {
             "outlinewidth": 0,
             "ticks": ""
            },
            "colorscale": [
             [
              0,
              "#0d0887"
             ],
             [
              0.1111111111111111,
              "#46039f"
             ],
             [
              0.2222222222222222,
              "#7201a8"
             ],
             [
              0.3333333333333333,
              "#9c179e"
             ],
             [
              0.4444444444444444,
              "#bd3786"
             ],
             [
              0.5555555555555556,
              "#d8576b"
             ],
             [
              0.6666666666666666,
              "#ed7953"
             ],
             [
              0.7777777777777778,
              "#fb9f3a"
             ],
             [
              0.8888888888888888,
              "#fdca26"
             ],
             [
              1,
              "#f0f921"
             ]
            ],
            "type": "heatmap"
           }
          ],
          "heatmapgl": [
           {
            "colorbar": {
             "outlinewidth": 0,
             "ticks": ""
            },
            "colorscale": [
             [
              0,
              "#0d0887"
             ],
             [
              0.1111111111111111,
              "#46039f"
             ],
             [
              0.2222222222222222,
              "#7201a8"
             ],
             [
              0.3333333333333333,
              "#9c179e"
             ],
             [
              0.4444444444444444,
              "#bd3786"
             ],
             [
              0.5555555555555556,
              "#d8576b"
             ],
             [
              0.6666666666666666,
              "#ed7953"
             ],
             [
              0.7777777777777778,
              "#fb9f3a"
             ],
             [
              0.8888888888888888,
              "#fdca26"
             ],
             [
              1,
              "#f0f921"
             ]
            ],
            "type": "heatmapgl"
           }
          ],
          "histogram": [
           {
            "marker": {
             "pattern": {
              "fillmode": "overlay",
              "size": 10,
              "solidity": 0.2
             }
            },
            "type": "histogram"
           }
          ],
          "histogram2d": [
           {
            "colorbar": {
             "outlinewidth": 0,
             "ticks": ""
            },
            "colorscale": [
             [
              0,
              "#0d0887"
             ],
             [
              0.1111111111111111,
              "#46039f"
             ],
             [
              0.2222222222222222,
              "#7201a8"
             ],
             [
              0.3333333333333333,
              "#9c179e"
             ],
             [
              0.4444444444444444,
              "#bd3786"
             ],
             [
              0.5555555555555556,
              "#d8576b"
             ],
             [
              0.6666666666666666,
              "#ed7953"
             ],
             [
              0.7777777777777778,
              "#fb9f3a"
             ],
             [
              0.8888888888888888,
              "#fdca26"
             ],
             [
              1,
              "#f0f921"
             ]
            ],
            "type": "histogram2d"
           }
          ],
          "histogram2dcontour": [
           {
            "colorbar": {
             "outlinewidth": 0,
             "ticks": ""
            },
            "colorscale": [
             [
              0,
              "#0d0887"
             ],
             [
              0.1111111111111111,
              "#46039f"
             ],
             [
              0.2222222222222222,
              "#7201a8"
             ],
             [
              0.3333333333333333,
              "#9c179e"
             ],
             [
              0.4444444444444444,
              "#bd3786"
             ],
             [
              0.5555555555555556,
              "#d8576b"
             ],
             [
              0.6666666666666666,
              "#ed7953"
             ],
             [
              0.7777777777777778,
              "#fb9f3a"
             ],
             [
              0.8888888888888888,
              "#fdca26"
             ],
             [
              1,
              "#f0f921"
             ]
            ],
            "type": "histogram2dcontour"
           }
          ],
          "mesh3d": [
           {
            "colorbar": {
             "outlinewidth": 0,
             "ticks": ""
            },
            "type": "mesh3d"
           }
          ],
          "parcoords": [
           {
            "line": {
             "colorbar": {
              "outlinewidth": 0,
              "ticks": ""
             }
            },
            "type": "parcoords"
           }
          ],
          "pie": [
           {
            "automargin": true,
            "type": "pie"
           }
          ],
          "scatter": [
           {
            "fillpattern": {
             "fillmode": "overlay",
             "size": 10,
             "solidity": 0.2
            },
            "type": "scatter"
           }
          ],
          "scatter3d": [
           {
            "line": {
             "colorbar": {
              "outlinewidth": 0,
              "ticks": ""
             }
            },
            "marker": {
             "colorbar": {
              "outlinewidth": 0,
              "ticks": ""
             }
            },
            "type": "scatter3d"
           }
          ],
          "scattercarpet": [
           {
            "marker": {
             "colorbar": {
              "outlinewidth": 0,
              "ticks": ""
             }
            },
            "type": "scattercarpet"
           }
          ],
          "scattergeo": [
           {
            "marker": {
             "colorbar": {
              "outlinewidth": 0,
              "ticks": ""
             }
            },
            "type": "scattergeo"
           }
          ],
          "scattergl": [
           {
            "marker": {
             "colorbar": {
              "outlinewidth": 0,
              "ticks": ""
             }
            },
            "type": "scattergl"
           }
          ],
          "scattermapbox": [
           {
            "marker": {
             "colorbar": {
              "outlinewidth": 0,
              "ticks": ""
             }
            },
            "type": "scattermapbox"
           }
          ],
          "scatterpolar": [
           {
            "marker": {
             "colorbar": {
              "outlinewidth": 0,
              "ticks": ""
             }
            },
            "type": "scatterpolar"
           }
          ],
          "scatterpolargl": [
           {
            "marker": {
             "colorbar": {
              "outlinewidth": 0,
              "ticks": ""
             }
            },
            "type": "scatterpolargl"
           }
          ],
          "scatterternary": [
           {
            "marker": {
             "colorbar": {
              "outlinewidth": 0,
              "ticks": ""
             }
            },
            "type": "scatterternary"
           }
          ],
          "surface": [
           {
            "colorbar": {
             "outlinewidth": 0,
             "ticks": ""
            },
            "colorscale": [
             [
              0,
              "#0d0887"
             ],
             [
              0.1111111111111111,
              "#46039f"
             ],
             [
              0.2222222222222222,
              "#7201a8"
             ],
             [
              0.3333333333333333,
              "#9c179e"
             ],
             [
              0.4444444444444444,
              "#bd3786"
             ],
             [
              0.5555555555555556,
              "#d8576b"
             ],
             [
              0.6666666666666666,
              "#ed7953"
             ],
             [
              0.7777777777777778,
              "#fb9f3a"
             ],
             [
              0.8888888888888888,
              "#fdca26"
             ],
             [
              1,
              "#f0f921"
             ]
            ],
            "type": "surface"
           }
          ],
          "table": [
           {
            "cells": {
             "fill": {
              "color": "#EBF0F8"
             },
             "line": {
              "color": "white"
             }
            },
            "header": {
             "fill": {
              "color": "#C8D4E3"
             },
             "line": {
              "color": "white"
             }
            },
            "type": "table"
           }
          ]
         },
         "layout": {
          "annotationdefaults": {
           "arrowcolor": "#2a3f5f",
           "arrowhead": 0,
           "arrowwidth": 1
          },
          "autotypenumbers": "strict",
          "coloraxis": {
           "colorbar": {
            "outlinewidth": 0,
            "ticks": ""
           }
          },
          "colorscale": {
           "diverging": [
            [
             0,
             "#8e0152"
            ],
            [
             0.1,
             "#c51b7d"
            ],
            [
             0.2,
             "#de77ae"
            ],
            [
             0.3,
             "#f1b6da"
            ],
            [
             0.4,
             "#fde0ef"
            ],
            [
             0.5,
             "#f7f7f7"
            ],
            [
             0.6,
             "#e6f5d0"
            ],
            [
             0.7,
             "#b8e186"
            ],
            [
             0.8,
             "#7fbc41"
            ],
            [
             0.9,
             "#4d9221"
            ],
            [
             1,
             "#276419"
            ]
           ],
           "sequential": [
            [
             0,
             "#0d0887"
            ],
            [
             0.1111111111111111,
             "#46039f"
            ],
            [
             0.2222222222222222,
             "#7201a8"
            ],
            [
             0.3333333333333333,
             "#9c179e"
            ],
            [
             0.4444444444444444,
             "#bd3786"
            ],
            [
             0.5555555555555556,
             "#d8576b"
            ],
            [
             0.6666666666666666,
             "#ed7953"
            ],
            [
             0.7777777777777778,
             "#fb9f3a"
            ],
            [
             0.8888888888888888,
             "#fdca26"
            ],
            [
             1,
             "#f0f921"
            ]
           ],
           "sequentialminus": [
            [
             0,
             "#0d0887"
            ],
            [
             0.1111111111111111,
             "#46039f"
            ],
            [
             0.2222222222222222,
             "#7201a8"
            ],
            [
             0.3333333333333333,
             "#9c179e"
            ],
            [
             0.4444444444444444,
             "#bd3786"
            ],
            [
             0.5555555555555556,
             "#d8576b"
            ],
            [
             0.6666666666666666,
             "#ed7953"
            ],
            [
             0.7777777777777778,
             "#fb9f3a"
            ],
            [
             0.8888888888888888,
             "#fdca26"
            ],
            [
             1,
             "#f0f921"
            ]
           ]
          },
          "colorway": [
           "#636efa",
           "#EF553B",
           "#00cc96",
           "#ab63fa",
           "#FFA15A",
           "#19d3f3",
           "#FF6692",
           "#B6E880",
           "#FF97FF",
           "#FECB52"
          ],
          "font": {
           "color": "#2a3f5f"
          },
          "geo": {
           "bgcolor": "white",
           "lakecolor": "white",
           "landcolor": "#E5ECF6",
           "showlakes": true,
           "showland": true,
           "subunitcolor": "white"
          },
          "hoverlabel": {
           "align": "left"
          },
          "hovermode": "closest",
          "mapbox": {
           "style": "light"
          },
          "paper_bgcolor": "white",
          "plot_bgcolor": "#E5ECF6",
          "polar": {
           "angularaxis": {
            "gridcolor": "white",
            "linecolor": "white",
            "ticks": ""
           },
           "bgcolor": "#E5ECF6",
           "radialaxis": {
            "gridcolor": "white",
            "linecolor": "white",
            "ticks": ""
           }
          },
          "scene": {
           "xaxis": {
            "backgroundcolor": "#E5ECF6",
            "gridcolor": "white",
            "gridwidth": 2,
            "linecolor": "white",
            "showbackground": true,
            "ticks": "",
            "zerolinecolor": "white"
           },
           "yaxis": {
            "backgroundcolor": "#E5ECF6",
            "gridcolor": "white",
            "gridwidth": 2,
            "linecolor": "white",
            "showbackground": true,
            "ticks": "",
            "zerolinecolor": "white"
           },
           "zaxis": {
            "backgroundcolor": "#E5ECF6",
            "gridcolor": "white",
            "gridwidth": 2,
            "linecolor": "white",
            "showbackground": true,
            "ticks": "",
            "zerolinecolor": "white"
           }
          },
          "shapedefaults": {
           "line": {
            "color": "#2a3f5f"
           }
          },
          "ternary": {
           "aaxis": {
            "gridcolor": "white",
            "linecolor": "white",
            "ticks": ""
           },
           "baxis": {
            "gridcolor": "white",
            "linecolor": "white",
            "ticks": ""
           },
           "bgcolor": "#E5ECF6",
           "caxis": {
            "gridcolor": "white",
            "linecolor": "white",
            "ticks": ""
           }
          },
          "title": {
           "x": 0.05
          },
          "xaxis": {
           "automargin": true,
           "gridcolor": "white",
           "linecolor": "white",
           "ticks": "",
           "title": {
            "standoff": 15
           },
           "zerolinecolor": "white",
           "zerolinewidth": 2
          },
          "yaxis": {
           "automargin": true,
           "gridcolor": "white",
           "linecolor": "white",
           "ticks": "",
           "title": {
            "standoff": 15
           },
           "zerolinecolor": "white",
           "zerolinewidth": 2
          }
         }
        },
        "title": {
         "text": "Interaction Distances by Residue and Interacting Chain"
        },
        "xaxis": {
         "anchor": "y",
         "categoryarray": [
          "87T",
          "88G",
          "89S",
          "90G",
          "91K",
          "92T",
          "93F",
          "144R",
          "157K",
          "158V",
          "159R",
          "160E",
          "201N",
          "204S",
          "205S",
          "237G",
          "238S",
          "240K",
          "241I",
          "255K",
          "258N",
          "259K",
          "262S",
          "266N",
          "275K",
          "277T",
          "278H",
          "282R",
          "283D",
          "285K",
          "314A",
          "321R",
          "341A",
          "344L",
          "354E",
          "358L",
          "359K",
          "361Y",
          "362I",
          "365L",
          "366E",
          "367T",
          "368V",
          "369S",
          "370G",
          "371V",
          "372T",
          "373V",
          "374S",
          "375N",
          "376L",
          "444T",
          "448D",
          "452I",
          "458K",
          "459C",
          "462L",
          "463E",
          "465Q",
          "466L",
          "469K",
          "470E",
          "472E",
          "473K",
          "476I",
          "480L",
          "483Q",
          "484Q",
          "487I",
          "490K",
          "491D",
          "493E",
          "494I",
          "497L",
          "498N",
          "501I",
          "504S",
          "505N",
          "508N",
          "509S",
          "510L",
          "511Y",
          "512Q",
          "514S",
          "518N",
          "521L",
          "522N",
          "531A",
          "532L",
          "535S",
          "539A",
          "542Q",
          "546I",
          "549L",
          "550N",
          "552E",
          "553N",
          "556I",
          "557K",
          "560L",
          "563L",
          "566R",
          "567I",
          "575I",
          "578L"
         ],
         "categoryorder": "array",
         "domain": [
          0,
          1
         ],
         "title": {
          "text": "Residue (Number and Identity)"
         }
        },
        "yaxis": {
         "anchor": "x",
         "domain": [
          0,
          1
         ],
         "title": {
          "text": "Distance (angstroms)"
         }
        }
       }
      }
     },
     "metadata": {},
     "output_type": "display_data"
    }
   ],
   "source": [
    "import pandas as pd\n",
    "import plotly.express as px\n",
    "\n",
    "# Define the path to the CSV file\n",
    "csv_file_path = \"/Users/jazzeruncal/git/Jazzer_surf/3d_predictions/same_seed/Seed_1/interactions_all_files.csv\"\n",
    "\n",
    "# Read the CSV file into a DataFrame\n",
    "df = pd.read_csv(csv_file_path)\n",
    "\n",
    "# Filter to get the shortest distances for each interaction\n",
    "df = df.loc[df[df['chain'] == 'A'].groupby(['file', 'resi', 'interacting_chain'])['distance (angstroms)'].idxmin()]\n",
    "\n",
    "# Exclude interactions with Mg and chain letters A, G, H\n",
    "df = df[(df['interacting_resn'] != 'MG') & (~df['interacting_chain'].isin(['A', 'G', 'H']))].reset_index(drop=True)\n",
    "\n",
    "# Map interacting_resn to single-letter codes for better readability\n",
    "aa_dict = {\n",
    "    'ALA': 'A', 'ARG': 'R', 'ASN': 'N', 'ASP': 'D', 'CYS': 'C', 'GLN': 'Q', 'GLU': 'E', 'GLY': 'G',\n",
    "    'HIS': 'H', 'ILE': 'I', 'LEU': 'L', 'LYS': 'K', 'MET': 'M', 'PHE': 'F', 'PRO': 'P', 'SER': 'S',\n",
    "    'THR': 'T', 'TRP': 'W', 'TYR': 'Y', 'VAL': 'V'\n",
    "}\n",
    "df['residue_one_letter'] = df['resn'].map(aa_dict)\n",
    "df['residue'] = df['resi'].astype(str) + df['residue_one_letter']\n",
    "\n",
    "# Replace chain letters with descriptive names\n",
    "chain_map = {\n",
    "    'B': 'kinesin B',\n",
    "    'C': 'alpha-tubulin',\n",
    "    'D': 'beta-tubulin',\n",
    "    'E': 'ATP',\n",
    "    'F': 'ATP'\n",
    "}\n",
    "df['interacting_chain'] = df['interacting_chain'].map(chain_map)\n",
    "\n",
    "# Filter to specific files\n",
    "df = df.loc[df['file'].isin([\n",
    "    'fold_h_atp_tub_seed1_model_0', \n",
    "\n",
    "    ])]\n",
    "\n",
    "# Group by file and interacting chain, keeping residues in order\n",
    "grouped = df.groupby(['file', 'interacting_chain'])\n",
    "\n",
    "# Create a list to store the output rows\n",
    "output_rows = []\n",
    "\n",
    "# Iterate over each group and extract information\n",
    "for (file, chain), group in grouped:\n",
    "    for _, row in group.iterrows():\n",
    "        output_rows.append({\n",
    "            'file': file,\n",
    "            'interacting_chain': chain,\n",
    "            'interacting_atom': row['interacting_atom'],\n",
    "            'residue_number': row['resi'],\n",
    "            'amino_acid': row['residue_one_letter'],\n",
    "            'distance (angstroms)': row['distance (angstroms)'],\n",
    "        })\n",
    "\n",
    "# Convert the list to a DataFrame\n",
    "interaction_df = pd.DataFrame(output_rows)\n",
    "\n",
    "# Display the resulting DataFrame\n",
    "interaction_df\n",
    "\n",
    "interaction_df.to_csv(\"interaction_summary.csv\", index=False)\n",
    "\n",
    "\n",
    "\n",
    "# Load the data\n",
    "csv_file_path = \"interaction_summary.csv\"\n",
    "interaction_df = pd.read_csv(csv_file_path)\n",
    "\n",
    "# Create a new column for the x-axis labels by concatenating residue number and amino acid\n",
    "interaction_df['residue_label'] = interaction_df['residue_number'].astype(str) + interaction_df['amino_acid']\n",
    "\n",
    "# Sort the dataframe by file and residue number to maintain order\n",
    "interaction_df = interaction_df.sort_values(by=['file', 'residue_number'])\n",
    "\n",
    "# Convert residue_label to a categorical type with the correct order\n",
    "interaction_df['residue_label'] = pd.Categorical(interaction_df['residue_label'], \n",
    "                                                 categories=sorted(interaction_df['residue_label'].unique(), key=lambda x: int(''.join(filter(str.isdigit, x)))), \n",
    "                                                 ordered=True)\n",
    "\n",
    "# Scatter plot for interaction distances with custom x-axis labels\n",
    "fig_scatter = px.scatter(interaction_df, x='residue_label', y='distance (angstroms)', color='interacting_chain', text='interacting_atom',\n",
    "                         title='Interaction Distances by Residue and Interacting Chain',\n",
    "                         labels={'residue_label': 'Residue (Number and Identity)', 'distance (angstroms)': 'Distance (angstroms)', 'interacting_chain': 'Interacting Chain'},\n",
    "                         hover_data=['file'])\n",
    "\n",
    "fig_scatter.update_traces(textposition='top center', marker=dict(size=10, opacity=0.6))\n",
    "fig_scatter.update_layout(xaxis={'categoryorder':'array', 'categoryarray': interaction_df['residue_label'].cat.categories})\n",
    "\n",
    "# Show the plot\n",
    "fig_scatter.show()\n",
    "\n"
   ]
  },
  {
   "cell_type": "markdown",
   "metadata": {},
   "source": [
    "E"
   ]
  },
  {
   "cell_type": "code",
   "execution_count": null,
   "metadata": {},
   "outputs": [],
   "source": [
    "import pandas as pd\n",
    "import plotly.express as px\n",
    "\n",
    "# Define the path to the CSV file\n",
    "csv_file_path = \"/Users/jazzeruncal/git/Jazzer_surf/3d_predictions/same_seed/Seed_1/interactions_all_files.csv\"\n",
    "\n",
    "# Read the CSV file into a DataFrame\n",
    "df = pd.read_csv(csv_file_path)\n",
    "\n",
    "# Filter to get the shortest distances for each interaction\n",
    "df = df.loc[df[df['chain'] == 'A'].groupby(['file', 'resi', 'interacting_chain'])['distance (angstroms)'].idxmin()]\n",
    "\n",
    "# Exclude interactions with Mg and chain letters A, G, H\n",
    "df = df[(df['interacting_resn'] != 'MG') & (~df['interacting_chain'].isin(['A', 'G', 'H']))].reset_index(drop=True)\n",
    "\n",
    "# Map interacting_resn to single-letter codes for better readability\n",
    "aa_dict = {\n",
    "    'ALA': 'A', 'ARG': 'R', 'ASN': 'N', 'ASP': 'D', 'CYS': 'C', 'GLN': 'Q', 'GLU': 'E', 'GLY': 'G',\n",
    "    'HIS': 'H', 'ILE': 'I', 'LEU': 'L', 'LYS': 'K', 'MET': 'M', 'PHE': 'F', 'PRO': 'P', 'SER': 'S',\n",
    "    'THR': 'T', 'TRP': 'W', 'TYR': 'Y', 'VAL': 'V'\n",
    "}\n",
    "df['residue_one_letter'] = df['resn'].map(aa_dict)\n",
    "df['residue'] = df['resi'].astype(str) + df['residue_one_letter']\n",
    "\n",
    "# Replace chain letters with descriptive names\n",
    "chain_map = {\n",
    "    'B': 'kinesin B',\n",
    "    'C': 'alpha-tubulin',\n",
    "    'D': 'beta-tubulin',\n",
    "    'E': 'ATP',\n",
    "    'F': 'ATP'\n",
    "}\n",
    "df['interacting_chain'] = df['interacting_chain'].map(chain_map)\n",
    "\n",
    "# Filter to specific files\n",
    "df = df.loc[df['file'].isin([\n",
    "    'fold_e_atp_tub_seed1_model_0', \n",
    "    ])]\n",
    "\n",
    "# Group by file and interacting chain, keeping residues in order\n",
    "grouped = df.groupby(['file', 'interacting_chain'])\n",
    "\n",
    "# Create a list to store the output rows\n",
    "output_rows = []\n",
    "\n",
    "# Iterate over each group and extract information\n",
    "for (file, chain), group in grouped:\n",
    "    for _, row in group.iterrows():\n",
    "        output_rows.append({\n",
    "            'file': file,\n",
    "            'interacting_chain': chain,\n",
    "            'interacting_atom': row['interacting_atom'],\n",
    "            'residue_number': row['resi'],\n",
    "            'amino_acid': row['residue_one_letter'],\n",
    "            'distance (angstroms)': row['distance (angstroms)'],\n",
    "        })\n",
    "\n",
    "# Convert the list to a DataFrame\n",
    "interaction_df = pd.DataFrame(output_rows)\n",
    "\n",
    "# Display the resulting DataFrame\n",
    "interaction_df\n",
    "\n",
    "interaction_df.to_csv(\"interaction_summary.csv\", index=False)\n",
    "\n",
    "\n",
    "\n",
    "# Load the data\n",
    "csv_file_path = \"interaction_summary.csv\"\n",
    "interaction_df = pd.read_csv(csv_file_path)\n",
    "\n",
    "# Create a new column for the x-axis labels by concatenating residue number and amino acid\n",
    "interaction_df['residue_label'] = interaction_df['residue_number'].astype(str) + interaction_df['amino_acid']\n",
    "\n",
    "# Sort the dataframe by file and residue number to maintain order\n",
    "interaction_df = interaction_df.sort_values(by=['file', 'residue_number'])\n",
    "\n",
    "# Convert residue_label to a categorical type with the correct order\n",
    "interaction_df['residue_label'] = pd.Categorical(interaction_df['residue_label'], \n",
    "                                                 categories=sorted(interaction_df['residue_label'].unique(), key=lambda x: int(''.join(filter(str.isdigit, x)))), \n",
    "                                                 ordered=True)\n",
    "\n",
    "# Scatter plot for interaction distances with custom x-axis labels\n",
    "fig_scatter = px.scatter(interaction_df, x='residue_label', y='distance (angstroms)', color='interacting_chain', text='interacting_atom',\n",
    "                         title='Interaction Distances by Residue and Interacting Chain',\n",
    "                         labels={'residue_label': 'Residue (Number and Identity)', 'distance (angstroms)': 'Distance (angstroms)', 'interacting_chain': 'Interacting Chain'},\n",
    "                         hover_data=['file'])\n",
    "\n",
    "fig_scatter.update_traces(textposition='top center', marker=dict(size=10, opacity=0.6))\n",
    "fig_scatter.update_layout(xaxis={'categoryorder':'array', 'categoryarray': interaction_df['residue_label'].cat.categories})\n",
    "\n",
    "# Show the plot\n",
    "fig_scatter.show()\n",
    "\n"
   ]
  },
  {
   "cell_type": "markdown",
   "metadata": {},
   "source": [
    "C"
   ]
  },
  {
   "cell_type": "code",
   "execution_count": 72,
   "metadata": {},
   "outputs": [
    {
     "data": {
      "application/vnd.plotly.v1+json": {
       "config": {
        "plotlyServerURL": "https://plot.ly"
       },
       "data": [
        {
         "customdata": [
          [
           "fold_c_atp_tub_seed1_model_0"
          ],
          [
           "fold_c_atp_tub_seed1_model_0"
          ],
          [
           "fold_c_atp_tub_seed1_model_0"
          ],
          [
           "fold_c_atp_tub_seed1_model_0"
          ],
          [
           "fold_c_atp_tub_seed1_model_0"
          ],
          [
           "fold_c_atp_tub_seed1_model_0"
          ],
          [
           "fold_c_atp_tub_seed1_model_0"
          ],
          [
           "fold_c_atp_tub_seed1_model_0"
          ],
          [
           "fold_c_atp_tub_seed1_model_0"
          ],
          [
           "fold_c_atp_tub_seed1_model_0"
          ],
          [
           "fold_c_atp_tub_seed1_model_0"
          ],
          [
           "fold_c_atp_tub_seed1_model_0"
          ]
         ],
         "hovertemplate": "Interacting Chain=ATP<br>Residue (Number and Identity)=%{x}<br>Distance (angstroms)=%{y}<br>interacting_atom=%{text}<br>file=%{customdata[0]}<extra></extra>",
         "legendgroup": "ATP",
         "marker": {
          "color": "#636efa",
          "opacity": 0.6,
          "size": 10,
          "symbol": "circle"
         },
         "mode": "markers+text",
         "name": "ATP",
         "orientation": "v",
         "showlegend": true,
         "text": [
          "N1",
          "O2G",
          "O3B",
          "O1B",
          "O1B",
          "O3G",
          "O2B",
          "O1A",
          "O3B",
          "O2G",
          "O1G",
          "O3G"
         ],
         "textposition": "top center",
         "type": "scatter",
         "x": [
          "21P",
          "94T",
          "95S",
          "96S",
          "97G",
          "98K",
          "99T",
          "100H",
          "205N",
          "208S",
          "209S",
          "241G"
         ],
         "xaxis": "x",
         "y": [
          3.457723379135132,
          2.4436142444610596,
          2.823654890060425,
          3.3223249912261963,
          3.097536087036133,
          2.879331588745117,
          2.799541711807251,
          2.962357997894287,
          2.9935591220855713,
          2.7670114040374756,
          2.790931224822998,
          2.9767863750457764
         ],
         "yaxis": "y"
        },
        {
         "customdata": [
          [
           "fold_c_atp_tub_seed1_model_0"
          ],
          [
           "fold_c_atp_tub_seed1_model_0"
          ],
          [
           "fold_c_atp_tub_seed1_model_0"
          ],
          [
           "fold_c_atp_tub_seed1_model_0"
          ],
          [
           "fold_c_atp_tub_seed1_model_0"
          ],
          [
           "fold_c_atp_tub_seed1_model_0"
          ],
          [
           "fold_c_atp_tub_seed1_model_0"
          ],
          [
           "fold_c_atp_tub_seed1_model_0"
          ]
         ],
         "hovertemplate": "Interacting Chain=beta-tubulin<br>Residue (Number and Identity)=%{x}<br>Distance (angstroms)=%{y}<br>interacting_atom=%{text}<br>file=%{customdata[0]}<extra></extra>",
         "legendgroup": "beta-tubulin",
         "marker": {
          "color": "#EF553B",
          "opacity": 0.6,
          "size": 10,
          "symbol": "circle"
         },
         "mode": "markers+text",
         "name": "beta-tubulin",
         "orientation": "v",
         "showlegend": true,
         "text": [
          "OE1",
          "OE1",
          "OE2",
          "OE1",
          "CE",
          "OE1",
          "OD2",
          "CD"
         ],
         "textposition": "top center",
         "type": "scatter",
         "x": [
          "148K",
          "159N",
          "163H",
          "164E",
          "166K",
          "282H",
          "286R",
          "287D"
         ],
         "xaxis": "x",
         "y": [
          2.9638772010803223,
          3.166810989379883,
          2.7821812629699707,
          2.793105363845825,
          3.454381227493286,
          2.882333993911743,
          2.4885451793670654,
          3.194092035293579
         ],
         "yaxis": "y"
        },
        {
         "customdata": [
          [
           "fold_c_atp_tub_seed1_model_0"
          ],
          [
           "fold_c_atp_tub_seed1_model_0"
          ],
          [
           "fold_c_atp_tub_seed1_model_0"
          ],
          [
           "fold_c_atp_tub_seed1_model_0"
          ],
          [
           "fold_c_atp_tub_seed1_model_0"
          ],
          [
           "fold_c_atp_tub_seed1_model_0"
          ],
          [
           "fold_c_atp_tub_seed1_model_0"
          ],
          [
           "fold_c_atp_tub_seed1_model_0"
          ],
          [
           "fold_c_atp_tub_seed1_model_0"
          ],
          [
           "fold_c_atp_tub_seed1_model_0"
          ],
          [
           "fold_c_atp_tub_seed1_model_0"
          ],
          [
           "fold_c_atp_tub_seed1_model_0"
          ],
          [
           "fold_c_atp_tub_seed1_model_0"
          ],
          [
           "fold_c_atp_tub_seed1_model_0"
          ],
          [
           "fold_c_atp_tub_seed1_model_0"
          ],
          [
           "fold_c_atp_tub_seed1_model_0"
          ],
          [
           "fold_c_atp_tub_seed1_model_0"
          ],
          [
           "fold_c_atp_tub_seed1_model_0"
          ],
          [
           "fold_c_atp_tub_seed1_model_0"
          ]
         ],
         "hovertemplate": "Interacting Chain=kinesin B<br>Residue (Number and Identity)=%{x}<br>Distance (angstroms)=%{y}<br>interacting_atom=%{text}<br>file=%{customdata[0]}<extra></extra>",
         "legendgroup": "kinesin B",
         "marker": {
          "color": "#00cc96",
          "opacity": 0.6,
          "size": 10,
          "symbol": "circle"
         },
         "mode": "markers+text",
         "name": "kinesin B",
         "orientation": "v",
         "showlegend": true,
         "text": [
          "OE1",
          "CD1",
          "CD1",
          "CG",
          "ND2",
          "ND2",
          "OE2",
          "OD1",
          "OE1",
          "CD1",
          "CD1",
          "CD1",
          "CD2",
          "OE1",
          "OE2",
          "NH2",
          "NH2",
          "NH1",
          "CG1"
         ],
         "textposition": "top center",
         "type": "scatter",
         "x": [
          "166K",
          "345A",
          "348W",
          "352Y",
          "355E",
          "358K",
          "359N",
          "362L",
          "365K",
          "366V",
          "369L",
          "370E",
          "372E",
          "373L",
          "377R",
          "387Q",
          "388I",
          "390M",
          "393L"
         ],
         "xaxis": "x",
         "y": [
          2.810300827026367,
          3.4046149253845215,
          3.3196117877960205,
          3.4200756549835205,
          2.1327757835388184,
          3.4232633113861084,
          2.092862606048584,
          2.848017692565918,
          3.258519172668457,
          2.8572001457214355,
          3.449855089187622,
          3.2836923599243164,
          2.8547213077545166,
          2.8381266593933105,
          2.828540325164795,
          3.4705941677093506,
          2.914373874664306,
          3.3847358226776123,
          2.8476345539093018
         ],
         "yaxis": "y"
        },
        {
         "customdata": [
          [
           "fold_c_atp_tub_seed1_model_0"
          ],
          [
           "fold_c_atp_tub_seed1_model_0"
          ],
          [
           "fold_c_atp_tub_seed1_model_0"
          ],
          [
           "fold_c_atp_tub_seed1_model_0"
          ],
          [
           "fold_c_atp_tub_seed1_model_0"
          ],
          [
           "fold_c_atp_tub_seed1_model_0"
          ],
          [
           "fold_c_atp_tub_seed1_model_0"
          ],
          [
           "fold_c_atp_tub_seed1_model_0"
          ],
          [
           "fold_c_atp_tub_seed1_model_0"
          ]
         ],
         "hovertemplate": "Interacting Chain=alpha-tubulin<br>Residue (Number and Identity)=%{x}<br>Distance (angstroms)=%{y}<br>interacting_atom=%{text}<br>file=%{customdata[0]}<extra></extra>",
         "legendgroup": "alpha-tubulin",
         "marker": {
          "color": "#ab63fa",
          "opacity": 0.6,
          "size": 10,
          "symbol": "circle"
         },
         "mode": "markers+text",
         "name": "alpha-tubulin",
         "orientation": "v",
         "showlegend": true,
         "text": [
          "OE1",
          "OE1",
          "O",
          "O",
          "CG1",
          "CG1",
          "OE2",
          "OE1",
          "OE1"
         ],
         "textposition": "top center",
         "type": "scatter",
         "x": [
          "242S",
          "244K",
          "245I",
          "259K",
          "262N",
          "263K",
          "266S",
          "318A",
          "325R"
         ],
         "xaxis": "x",
         "y": [
          3.2220075130462646,
          2.5479209423065186,
          2.961440086364746,
          3.272054433822632,
          3.429266929626465,
          3.3820230960845947,
          2.7096283435821533,
          2.7859344482421875,
          3.011375188827514
         ],
         "yaxis": "y"
        }
       ],
       "layout": {
        "legend": {
         "title": {
          "text": "Interacting Chain"
         },
         "tracegroupgap": 0
        },
        "template": {
         "data": {
          "bar": [
           {
            "error_x": {
             "color": "#2a3f5f"
            },
            "error_y": {
             "color": "#2a3f5f"
            },
            "marker": {
             "line": {
              "color": "#E5ECF6",
              "width": 0.5
             },
             "pattern": {
              "fillmode": "overlay",
              "size": 10,
              "solidity": 0.2
             }
            },
            "type": "bar"
           }
          ],
          "barpolar": [
           {
            "marker": {
             "line": {
              "color": "#E5ECF6",
              "width": 0.5
             },
             "pattern": {
              "fillmode": "overlay",
              "size": 10,
              "solidity": 0.2
             }
            },
            "type": "barpolar"
           }
          ],
          "carpet": [
           {
            "aaxis": {
             "endlinecolor": "#2a3f5f",
             "gridcolor": "white",
             "linecolor": "white",
             "minorgridcolor": "white",
             "startlinecolor": "#2a3f5f"
            },
            "baxis": {
             "endlinecolor": "#2a3f5f",
             "gridcolor": "white",
             "linecolor": "white",
             "minorgridcolor": "white",
             "startlinecolor": "#2a3f5f"
            },
            "type": "carpet"
           }
          ],
          "choropleth": [
           {
            "colorbar": {
             "outlinewidth": 0,
             "ticks": ""
            },
            "type": "choropleth"
           }
          ],
          "contour": [
           {
            "colorbar": {
             "outlinewidth": 0,
             "ticks": ""
            },
            "colorscale": [
             [
              0,
              "#0d0887"
             ],
             [
              0.1111111111111111,
              "#46039f"
             ],
             [
              0.2222222222222222,
              "#7201a8"
             ],
             [
              0.3333333333333333,
              "#9c179e"
             ],
             [
              0.4444444444444444,
              "#bd3786"
             ],
             [
              0.5555555555555556,
              "#d8576b"
             ],
             [
              0.6666666666666666,
              "#ed7953"
             ],
             [
              0.7777777777777778,
              "#fb9f3a"
             ],
             [
              0.8888888888888888,
              "#fdca26"
             ],
             [
              1,
              "#f0f921"
             ]
            ],
            "type": "contour"
           }
          ],
          "contourcarpet": [
           {
            "colorbar": {
             "outlinewidth": 0,
             "ticks": ""
            },
            "type": "contourcarpet"
           }
          ],
          "heatmap": [
           {
            "colorbar": {
             "outlinewidth": 0,
             "ticks": ""
            },
            "colorscale": [
             [
              0,
              "#0d0887"
             ],
             [
              0.1111111111111111,
              "#46039f"
             ],
             [
              0.2222222222222222,
              "#7201a8"
             ],
             [
              0.3333333333333333,
              "#9c179e"
             ],
             [
              0.4444444444444444,
              "#bd3786"
             ],
             [
              0.5555555555555556,
              "#d8576b"
             ],
             [
              0.6666666666666666,
              "#ed7953"
             ],
             [
              0.7777777777777778,
              "#fb9f3a"
             ],
             [
              0.8888888888888888,
              "#fdca26"
             ],
             [
              1,
              "#f0f921"
             ]
            ],
            "type": "heatmap"
           }
          ],
          "heatmapgl": [
           {
            "colorbar": {
             "outlinewidth": 0,
             "ticks": ""
            },
            "colorscale": [
             [
              0,
              "#0d0887"
             ],
             [
              0.1111111111111111,
              "#46039f"
             ],
             [
              0.2222222222222222,
              "#7201a8"
             ],
             [
              0.3333333333333333,
              "#9c179e"
             ],
             [
              0.4444444444444444,
              "#bd3786"
             ],
             [
              0.5555555555555556,
              "#d8576b"
             ],
             [
              0.6666666666666666,
              "#ed7953"
             ],
             [
              0.7777777777777778,
              "#fb9f3a"
             ],
             [
              0.8888888888888888,
              "#fdca26"
             ],
             [
              1,
              "#f0f921"
             ]
            ],
            "type": "heatmapgl"
           }
          ],
          "histogram": [
           {
            "marker": {
             "pattern": {
              "fillmode": "overlay",
              "size": 10,
              "solidity": 0.2
             }
            },
            "type": "histogram"
           }
          ],
          "histogram2d": [
           {
            "colorbar": {
             "outlinewidth": 0,
             "ticks": ""
            },
            "colorscale": [
             [
              0,
              "#0d0887"
             ],
             [
              0.1111111111111111,
              "#46039f"
             ],
             [
              0.2222222222222222,
              "#7201a8"
             ],
             [
              0.3333333333333333,
              "#9c179e"
             ],
             [
              0.4444444444444444,
              "#bd3786"
             ],
             [
              0.5555555555555556,
              "#d8576b"
             ],
             [
              0.6666666666666666,
              "#ed7953"
             ],
             [
              0.7777777777777778,
              "#fb9f3a"
             ],
             [
              0.8888888888888888,
              "#fdca26"
             ],
             [
              1,
              "#f0f921"
             ]
            ],
            "type": "histogram2d"
           }
          ],
          "histogram2dcontour": [
           {
            "colorbar": {
             "outlinewidth": 0,
             "ticks": ""
            },
            "colorscale": [
             [
              0,
              "#0d0887"
             ],
             [
              0.1111111111111111,
              "#46039f"
             ],
             [
              0.2222222222222222,
              "#7201a8"
             ],
             [
              0.3333333333333333,
              "#9c179e"
             ],
             [
              0.4444444444444444,
              "#bd3786"
             ],
             [
              0.5555555555555556,
              "#d8576b"
             ],
             [
              0.6666666666666666,
              "#ed7953"
             ],
             [
              0.7777777777777778,
              "#fb9f3a"
             ],
             [
              0.8888888888888888,
              "#fdca26"
             ],
             [
              1,
              "#f0f921"
             ]
            ],
            "type": "histogram2dcontour"
           }
          ],
          "mesh3d": [
           {
            "colorbar": {
             "outlinewidth": 0,
             "ticks": ""
            },
            "type": "mesh3d"
           }
          ],
          "parcoords": [
           {
            "line": {
             "colorbar": {
              "outlinewidth": 0,
              "ticks": ""
             }
            },
            "type": "parcoords"
           }
          ],
          "pie": [
           {
            "automargin": true,
            "type": "pie"
           }
          ],
          "scatter": [
           {
            "fillpattern": {
             "fillmode": "overlay",
             "size": 10,
             "solidity": 0.2
            },
            "type": "scatter"
           }
          ],
          "scatter3d": [
           {
            "line": {
             "colorbar": {
              "outlinewidth": 0,
              "ticks": ""
             }
            },
            "marker": {
             "colorbar": {
              "outlinewidth": 0,
              "ticks": ""
             }
            },
            "type": "scatter3d"
           }
          ],
          "scattercarpet": [
           {
            "marker": {
             "colorbar": {
              "outlinewidth": 0,
              "ticks": ""
             }
            },
            "type": "scattercarpet"
           }
          ],
          "scattergeo": [
           {
            "marker": {
             "colorbar": {
              "outlinewidth": 0,
              "ticks": ""
             }
            },
            "type": "scattergeo"
           }
          ],
          "scattergl": [
           {
            "marker": {
             "colorbar": {
              "outlinewidth": 0,
              "ticks": ""
             }
            },
            "type": "scattergl"
           }
          ],
          "scattermapbox": [
           {
            "marker": {
             "colorbar": {
              "outlinewidth": 0,
              "ticks": ""
             }
            },
            "type": "scattermapbox"
           }
          ],
          "scatterpolar": [
           {
            "marker": {
             "colorbar": {
              "outlinewidth": 0,
              "ticks": ""
             }
            },
            "type": "scatterpolar"
           }
          ],
          "scatterpolargl": [
           {
            "marker": {
             "colorbar": {
              "outlinewidth": 0,
              "ticks": ""
             }
            },
            "type": "scatterpolargl"
           }
          ],
          "scatterternary": [
           {
            "marker": {
             "colorbar": {
              "outlinewidth": 0,
              "ticks": ""
             }
            },
            "type": "scatterternary"
           }
          ],
          "surface": [
           {
            "colorbar": {
             "outlinewidth": 0,
             "ticks": ""
            },
            "colorscale": [
             [
              0,
              "#0d0887"
             ],
             [
              0.1111111111111111,
              "#46039f"
             ],
             [
              0.2222222222222222,
              "#7201a8"
             ],
             [
              0.3333333333333333,
              "#9c179e"
             ],
             [
              0.4444444444444444,
              "#bd3786"
             ],
             [
              0.5555555555555556,
              "#d8576b"
             ],
             [
              0.6666666666666666,
              "#ed7953"
             ],
             [
              0.7777777777777778,
              "#fb9f3a"
             ],
             [
              0.8888888888888888,
              "#fdca26"
             ],
             [
              1,
              "#f0f921"
             ]
            ],
            "type": "surface"
           }
          ],
          "table": [
           {
            "cells": {
             "fill": {
              "color": "#EBF0F8"
             },
             "line": {
              "color": "white"
             }
            },
            "header": {
             "fill": {
              "color": "#C8D4E3"
             },
             "line": {
              "color": "white"
             }
            },
            "type": "table"
           }
          ]
         },
         "layout": {
          "annotationdefaults": {
           "arrowcolor": "#2a3f5f",
           "arrowhead": 0,
           "arrowwidth": 1
          },
          "autotypenumbers": "strict",
          "coloraxis": {
           "colorbar": {
            "outlinewidth": 0,
            "ticks": ""
           }
          },
          "colorscale": {
           "diverging": [
            [
             0,
             "#8e0152"
            ],
            [
             0.1,
             "#c51b7d"
            ],
            [
             0.2,
             "#de77ae"
            ],
            [
             0.3,
             "#f1b6da"
            ],
            [
             0.4,
             "#fde0ef"
            ],
            [
             0.5,
             "#f7f7f7"
            ],
            [
             0.6,
             "#e6f5d0"
            ],
            [
             0.7,
             "#b8e186"
            ],
            [
             0.8,
             "#7fbc41"
            ],
            [
             0.9,
             "#4d9221"
            ],
            [
             1,
             "#276419"
            ]
           ],
           "sequential": [
            [
             0,
             "#0d0887"
            ],
            [
             0.1111111111111111,
             "#46039f"
            ],
            [
             0.2222222222222222,
             "#7201a8"
            ],
            [
             0.3333333333333333,
             "#9c179e"
            ],
            [
             0.4444444444444444,
             "#bd3786"
            ],
            [
             0.5555555555555556,
             "#d8576b"
            ],
            [
             0.6666666666666666,
             "#ed7953"
            ],
            [
             0.7777777777777778,
             "#fb9f3a"
            ],
            [
             0.8888888888888888,
             "#fdca26"
            ],
            [
             1,
             "#f0f921"
            ]
           ],
           "sequentialminus": [
            [
             0,
             "#0d0887"
            ],
            [
             0.1111111111111111,
             "#46039f"
            ],
            [
             0.2222222222222222,
             "#7201a8"
            ],
            [
             0.3333333333333333,
             "#9c179e"
            ],
            [
             0.4444444444444444,
             "#bd3786"
            ],
            [
             0.5555555555555556,
             "#d8576b"
            ],
            [
             0.6666666666666666,
             "#ed7953"
            ],
            [
             0.7777777777777778,
             "#fb9f3a"
            ],
            [
             0.8888888888888888,
             "#fdca26"
            ],
            [
             1,
             "#f0f921"
            ]
           ]
          },
          "colorway": [
           "#636efa",
           "#EF553B",
           "#00cc96",
           "#ab63fa",
           "#FFA15A",
           "#19d3f3",
           "#FF6692",
           "#B6E880",
           "#FF97FF",
           "#FECB52"
          ],
          "font": {
           "color": "#2a3f5f"
          },
          "geo": {
           "bgcolor": "white",
           "lakecolor": "white",
           "landcolor": "#E5ECF6",
           "showlakes": true,
           "showland": true,
           "subunitcolor": "white"
          },
          "hoverlabel": {
           "align": "left"
          },
          "hovermode": "closest",
          "mapbox": {
           "style": "light"
          },
          "paper_bgcolor": "white",
          "plot_bgcolor": "#E5ECF6",
          "polar": {
           "angularaxis": {
            "gridcolor": "white",
            "linecolor": "white",
            "ticks": ""
           },
           "bgcolor": "#E5ECF6",
           "radialaxis": {
            "gridcolor": "white",
            "linecolor": "white",
            "ticks": ""
           }
          },
          "scene": {
           "xaxis": {
            "backgroundcolor": "#E5ECF6",
            "gridcolor": "white",
            "gridwidth": 2,
            "linecolor": "white",
            "showbackground": true,
            "ticks": "",
            "zerolinecolor": "white"
           },
           "yaxis": {
            "backgroundcolor": "#E5ECF6",
            "gridcolor": "white",
            "gridwidth": 2,
            "linecolor": "white",
            "showbackground": true,
            "ticks": "",
            "zerolinecolor": "white"
           },
           "zaxis": {
            "backgroundcolor": "#E5ECF6",
            "gridcolor": "white",
            "gridwidth": 2,
            "linecolor": "white",
            "showbackground": true,
            "ticks": "",
            "zerolinecolor": "white"
           }
          },
          "shapedefaults": {
           "line": {
            "color": "#2a3f5f"
           }
          },
          "ternary": {
           "aaxis": {
            "gridcolor": "white",
            "linecolor": "white",
            "ticks": ""
           },
           "baxis": {
            "gridcolor": "white",
            "linecolor": "white",
            "ticks": ""
           },
           "bgcolor": "#E5ECF6",
           "caxis": {
            "gridcolor": "white",
            "linecolor": "white",
            "ticks": ""
           }
          },
          "title": {
           "x": 0.05
          },
          "xaxis": {
           "automargin": true,
           "gridcolor": "white",
           "linecolor": "white",
           "ticks": "",
           "title": {
            "standoff": 15
           },
           "zerolinecolor": "white",
           "zerolinewidth": 2
          },
          "yaxis": {
           "automargin": true,
           "gridcolor": "white",
           "linecolor": "white",
           "ticks": "",
           "title": {
            "standoff": 15
           },
           "zerolinecolor": "white",
           "zerolinewidth": 2
          }
         }
        },
        "title": {
         "text": "Interaction Distances by Residue and Interacting Chain"
        },
        "xaxis": {
         "anchor": "y",
         "categoryarray": [
          "21P",
          "94T",
          "95S",
          "96S",
          "97G",
          "98K",
          "99T",
          "100H",
          "148K",
          "159N",
          "163H",
          "164E",
          "166K",
          "205N",
          "208S",
          "209S",
          "241G",
          "242S",
          "244K",
          "245I",
          "259K",
          "262N",
          "263K",
          "266S",
          "282H",
          "286R",
          "287D",
          "318A",
          "325R",
          "345A",
          "348W",
          "352Y",
          "355E",
          "358K",
          "359N",
          "362L",
          "365K",
          "366V",
          "369L",
          "370E",
          "372E",
          "373L",
          "377R",
          "387Q",
          "388I",
          "390M",
          "393L"
         ],
         "categoryorder": "array",
         "domain": [
          0,
          1
         ],
         "title": {
          "text": "Residue (Number and Identity)"
         }
        },
        "yaxis": {
         "anchor": "x",
         "domain": [
          0,
          1
         ],
         "title": {
          "text": "Distance (angstroms)"
         }
        }
       }
      }
     },
     "metadata": {},
     "output_type": "display_data"
    }
   ],
   "source": [
    "import pandas as pd\n",
    "import plotly.express as px\n",
    "\n",
    "# Define the path to the CSV file\n",
    "csv_file_path = \"/Users/jazzeruncal/git/Jazzer_surf/3d_predictions/same_seed/Seed_1/interactions_all_files.csv\"\n",
    "\n",
    "# Read the CSV file into a DataFrame\n",
    "df = pd.read_csv(csv_file_path)\n",
    "\n",
    "# Filter to get the shortest distances for each interaction\n",
    "df = df.loc[df[df['chain'] == 'A'].groupby(['file', 'resi', 'interacting_chain'])['distance (angstroms)'].idxmin()]\n",
    "\n",
    "# Exclude interactions with Mg and chain letters A, G, H\n",
    "df = df[(df['interacting_resn'] != 'MG') & (~df['interacting_chain'].isin(['A', 'G', 'H']))].reset_index(drop=True)\n",
    "\n",
    "# Map interacting_resn to single-letter codes for better readability\n",
    "aa_dict = {\n",
    "    'ALA': 'A', 'ARG': 'R', 'ASN': 'N', 'ASP': 'D', 'CYS': 'C', 'GLN': 'Q', 'GLU': 'E', 'GLY': 'G',\n",
    "    'HIS': 'H', 'ILE': 'I', 'LEU': 'L', 'LYS': 'K', 'MET': 'M', 'PHE': 'F', 'PRO': 'P', 'SER': 'S',\n",
    "    'THR': 'T', 'TRP': 'W', 'TYR': 'Y', 'VAL': 'V'\n",
    "}\n",
    "df['residue_one_letter'] = df['resn'].map(aa_dict)\n",
    "df['residue'] = df['resi'].astype(str) + df['residue_one_letter']\n",
    "\n",
    "# Replace chain letters with descriptive names\n",
    "chain_map = {\n",
    "    'B': 'kinesin B',\n",
    "    'C': 'alpha-tubulin',\n",
    "    'D': 'beta-tubulin',\n",
    "    'E': 'ATP',\n",
    "    'F': 'ATP'\n",
    "}\n",
    "df['interacting_chain'] = df['interacting_chain'].map(chain_map)\n",
    "\n",
    "# Filter to specific files\n",
    "df = df.loc[df['file'].isin([\n",
    "    'fold_c_atp_tub_seed1_model_0', \n",
    "    ])]\n",
    "\n",
    "# Group by file and interacting chain, keeping residues in order\n",
    "grouped = df.groupby(['file', 'interacting_chain'])\n",
    "\n",
    "# Create a list to store the output rows\n",
    "output_rows = []\n",
    "\n",
    "# Iterate over each group and extract information\n",
    "for (file, chain), group in grouped:\n",
    "    for _, row in group.iterrows():\n",
    "        output_rows.append({\n",
    "            'file': file,\n",
    "            'interacting_chain': chain,\n",
    "            'interacting_atom': row['interacting_atom'],\n",
    "            'residue_number': row['resi'],\n",
    "            'amino_acid': row['residue_one_letter'],\n",
    "            'distance (angstroms)': row['distance (angstroms)'],\n",
    "        })\n",
    "\n",
    "# Convert the list to a DataFrame\n",
    "interaction_df = pd.DataFrame(output_rows)\n",
    "\n",
    "# Display the resulting DataFrame\n",
    "interaction_df\n",
    "\n",
    "interaction_df.to_csv(\"interaction_summary.csv\", index=False)\n",
    "\n",
    "\n",
    "\n",
    "# Load the data\n",
    "csv_file_path = \"interaction_summary.csv\"\n",
    "interaction_df = pd.read_csv(csv_file_path)\n",
    "\n",
    "# Create a new column for the x-axis labels by concatenating residue number and amino acid\n",
    "interaction_df['residue_label'] = interaction_df['residue_number'].astype(str) + interaction_df['amino_acid']\n",
    "\n",
    "# Sort the dataframe by file and residue number to maintain order\n",
    "interaction_df = interaction_df.sort_values(by=['file', 'residue_number'])\n",
    "\n",
    "# Convert residue_label to a categorical type with the correct order\n",
    "interaction_df['residue_label'] = pd.Categorical(interaction_df['residue_label'], \n",
    "                                                 categories=sorted(interaction_df['residue_label'].unique(), key=lambda x: int(''.join(filter(str.isdigit, x)))), \n",
    "                                                 ordered=True)\n",
    "\n",
    "# Scatter plot for interaction distances with custom x-axis labels\n",
    "fig_scatter = px.scatter(interaction_df, x='residue_label', y='distance (angstroms)', color='interacting_chain', text='interacting_atom',\n",
    "                         title='Interaction Distances by Residue and Interacting Chain',\n",
    "                         labels={'residue_label': 'Residue (Number and Identity)', 'distance (angstroms)': 'Distance (angstroms)', 'interacting_chain': 'Interacting Chain'},\n",
    "                         hover_data=['file'])\n",
    "\n",
    "fig_scatter.update_traces(textposition='top center', marker=dict(size=10, opacity=0.6))\n",
    "fig_scatter.update_layout(xaxis={'categoryorder':'array', 'categoryarray': interaction_df['residue_label'].cat.categories})\n",
    "\n",
    "# Show the plot\n",
    "fig_scatter.show()\n",
    "\n"
   ]
  },
  {
   "cell_type": "markdown",
   "metadata": {},
   "source": [
    "A\n"
   ]
  },
  {
   "cell_type": "code",
   "execution_count": null,
   "metadata": {},
   "outputs": [],
   "source": [
    "import pandas as pd\n",
    "import plotly.express as px\n",
    "\n",
    "# Define the path to the CSV file\n",
    "csv_file_path = \"/Users/jazzeruncal/git/Jazzer_surf/3d_predictions/same_seed/Seed_1/interactions_all_files.csv\"\n",
    "\n",
    "# Read the CSV file into a DataFrame\n",
    "df = pd.read_csv(csv_file_path)\n",
    "\n",
    "# Filter to get the shortest distances for each interaction\n",
    "df = df.loc[df[df['chain'] == 'A'].groupby(['file', 'resi', 'interacting_chain'])['distance (angstroms)'].idxmin()]\n",
    "\n",
    "# Exclude interactions with Mg and chain letters A, G, H\n",
    "df = df[(df['interacting_resn'] != 'MG') & (~df['interacting_chain'].isin(['A', 'G', 'H']))].reset_index(drop=True)\n",
    "\n",
    "# Map interacting_resn to single-letter codes for better readability\n",
    "aa_dict = {\n",
    "    'ALA': 'A', 'ARG': 'R', 'ASN': 'N', 'ASP': 'D', 'CYS': 'C', 'GLN': 'Q', 'GLU': 'E', 'GLY': 'G',\n",
    "    'HIS': 'H', 'ILE': 'I', 'LEU': 'L', 'LYS': 'K', 'MET': 'M', 'PHE': 'F', 'PRO': 'P', 'SER': 'S',\n",
    "    'THR': 'T', 'TRP': 'W', 'TYR': 'Y', 'VAL': 'V'\n",
    "}\n",
    "df['residue_one_letter'] = df['resn'].map(aa_dict)\n",
    "df['residue'] = df['resi'].astype(str) + df['residue_one_letter']\n",
    "\n",
    "# Replace chain letters with descriptive names\n",
    "chain_map = {\n",
    "    'B': 'kinesin B',\n",
    "    'C': 'alpha-tubulin',\n",
    "    'D': 'beta-tubulin',\n",
    "    'E': 'ATP',\n",
    "    'F': 'ATP'\n",
    "}\n",
    "df['interacting_chain'] = df['interacting_chain'].map(chain_map)\n",
    "\n",
    "# Filter to specific files\n",
    "df = df.loc[df['file'].isin([\n",
    "    'fold_k401_atp_tub_seed1_model_0', \n",
    "    ])]\n",
    "\n",
    "# Group by file and interacting chain, keeping residues in order\n",
    "grouped = df.groupby(['file', 'interacting_chain'])\n",
    "\n",
    "# Create a list to store the output rows\n",
    "output_rows = []\n",
    "\n",
    "# Iterate over each group and extract information\n",
    "for (file, chain), group in grouped:\n",
    "    for _, row in group.iterrows():\n",
    "        output_rows.append({\n",
    "            'file': file,\n",
    "            'interacting_chain': chain,\n",
    "            'interacting_atom': row['interacting_atom'],\n",
    "            'residue_number': row['resi'],\n",
    "            'amino_acid': row['residue_one_letter'],\n",
    "            'distance (angstroms)': row['distance (angstroms)'],\n",
    "        })\n",
    "\n",
    "# Convert the list to a DataFrame\n",
    "interaction_df = pd.DataFrame(output_rows)\n",
    "\n",
    "# Display the resulting DataFrame\n",
    "interaction_df\n",
    "\n",
    "interaction_df.to_csv(\"interaction_summary.csv\", index=False)\n",
    "\n",
    "\n",
    "\n",
    "# Load the data\n",
    "csv_file_path = \"interaction_summary.csv\"\n",
    "interaction_df = pd.read_csv(csv_file_path)\n",
    "\n",
    "# Create a new column for the x-axis labels by concatenating residue number and amino acid\n",
    "interaction_df['residue_label'] = interaction_df['residue_number'].astype(str) + interaction_df['amino_acid']\n",
    "\n",
    "# Sort the dataframe by file and residue number to maintain order\n",
    "interaction_df = interaction_df.sort_values(by=['file', 'residue_number'])\n",
    "\n",
    "# Convert residue_label to a categorical type with the correct order\n",
    "interaction_df['residue_label'] = pd.Categorical(interaction_df['residue_label'], \n",
    "                                                 categories=sorted(interaction_df['residue_label'].unique(), key=lambda x: int(''.join(filter(str.isdigit, x)))), \n",
    "                                                 ordered=True)\n",
    "\n",
    "# Scatter plot for interaction distances with custom x-axis labels\n",
    "fig_scatter = px.scatter(interaction_df, x='residue_label', y='distance (angstroms)', color='interacting_chain', text='interacting_atom',\n",
    "                         title='Interaction Distances by Residue and Interacting Chain',\n",
    "                         labels={'residue_label': 'Residue (Number and Identity)', 'distance (angstroms)': 'Distance (angstroms)', 'interacting_chain': 'Interacting Chain'},\n",
    "                         hover_data=['file'])\n",
    "\n",
    "fig_scatter.update_traces(textposition='top center', marker=dict(size=10, opacity=0.6))\n",
    "fig_scatter.update_layout(xaxis={'categoryorder':'array', 'categoryarray': interaction_df['residue_label'].cat.categories})\n",
    "\n",
    "# Show the plot\n",
    "fig_scatter.show()\n",
    "\n"
   ]
  },
  {
   "cell_type": "markdown",
   "metadata": {},
   "source": [
    "F"
   ]
  },
  {
   "cell_type": "code",
   "execution_count": null,
   "metadata": {},
   "outputs": [],
   "source": [
    "import pandas as pd\n",
    "import plotly.express as px\n",
    "\n",
    "# Define the path to the CSV file\n",
    "csv_file_path = \"/Users/jazzeruncal/git/Jazzer_surf/3d_predictions/same_seed/Seed_1/interactions_all_files.csv\"\n",
    "\n",
    "# Read the CSV file into a DataFrame\n",
    "df = pd.read_csv(csv_file_path)\n",
    "\n",
    "# Filter to get the shortest distances for each interaction\n",
    "df = df.loc[df[df['chain'] == 'A'].groupby(['file', 'resi', 'interacting_chain'])['distance (angstroms)'].idxmin()]\n",
    "\n",
    "# Exclude interactions with Mg and chain letters A, G, H\n",
    "df = df[(df['interacting_resn'] != 'MG') & (~df['interacting_chain'].isin(['A', 'G', 'H']))].reset_index(drop=True)\n",
    "\n",
    "# Map interacting_resn to single-letter codes for better readability\n",
    "aa_dict = {\n",
    "    'ALA': 'A', 'ARG': 'R', 'ASN': 'N', 'ASP': 'D', 'CYS': 'C', 'GLN': 'Q', 'GLU': 'E', 'GLY': 'G',\n",
    "    'HIS': 'H', 'ILE': 'I', 'LEU': 'L', 'LYS': 'K', 'MET': 'M', 'PHE': 'F', 'PRO': 'P', 'SER': 'S',\n",
    "    'THR': 'T', 'TRP': 'W', 'TYR': 'Y', 'VAL': 'V'\n",
    "}\n",
    "df['residue_one_letter'] = df['resn'].map(aa_dict)\n",
    "df['residue'] = df['resi'].astype(str) + df['residue_one_letter']\n",
    "\n",
    "# Replace chain letters with descriptive names\n",
    "chain_map = {\n",
    "    'B': 'kinesin B',\n",
    "    'C': 'alpha-tubulin',\n",
    "    'D': 'beta-tubulin',\n",
    "    'E': 'ATP',\n",
    "    'F': 'ATP'\n",
    "}\n",
    "df['interacting_chain'] = df['interacting_chain'].map(chain_map)\n",
    "\n",
    "# Filter to specific files\n",
    "df = df.loc[df['file'].isin([\n",
    "    'fold_f_atp_tub_seed1_model_0', \n",
    "\n",
    "    ])]\n",
    "\n",
    "# Group by file and interacting chain, keeping residues in order\n",
    "grouped = df.groupby(['file', 'interacting_chain'])\n",
    "\n",
    "# Create a list to store the output rows\n",
    "output_rows = []\n",
    "\n",
    "# Iterate over each group and extract information\n",
    "for (file, chain), group in grouped:\n",
    "    for _, row in group.iterrows():\n",
    "        output_rows.append({\n",
    "            'file': file,\n",
    "            'interacting_chain': chain,\n",
    "            'interacting_atom': row['interacting_atom'],\n",
    "            'residue_number': row['resi'],\n",
    "            'amino_acid': row['residue_one_letter'],\n",
    "            'distance (angstroms)': row['distance (angstroms)'],\n",
    "        })\n",
    "\n",
    "# Convert the list to a DataFrame\n",
    "interaction_df = pd.DataFrame(output_rows)\n",
    "\n",
    "# Display the resulting DataFrame\n",
    "interaction_df\n",
    "\n",
    "interaction_df.to_csv(\"interaction_summary.csv\", index=False)\n",
    "\n",
    "\n",
    "\n",
    "# Load the data\n",
    "csv_file_path = \"interaction_summary.csv\"\n",
    "interaction_df = pd.read_csv(csv_file_path)\n",
    "\n",
    "# Create a new column for the x-axis labels by concatenating residue number and amino acid\n",
    "interaction_df['residue_label'] = interaction_df['residue_number'].astype(str) + interaction_df['amino_acid']\n",
    "\n",
    "# Sort the dataframe by file and residue number to maintain order\n",
    "interaction_df = interaction_df.sort_values(by=['file', 'residue_number'])\n",
    "\n",
    "# Convert residue_label to a categorical type with the correct order\n",
    "interaction_df['residue_label'] = pd.Categorical(interaction_df['residue_label'], \n",
    "                                                 categories=sorted(interaction_df['residue_label'].unique(), key=lambda x: int(''.join(filter(str.isdigit, x)))), \n",
    "                                                 ordered=True)\n",
    "\n",
    "# Scatter plot for interaction distances with custom x-axis labels\n",
    "fig_scatter = px.scatter(interaction_df, x='residue_label', y='distance (angstroms)', color='interacting_chain', text='interacting_atom',\n",
    "                         title='Interaction Distances by Residue and Interacting Chain',\n",
    "                         labels={'residue_label': 'Residue (Number and Identity)', 'distance (angstroms)': 'Distance (angstroms)', 'interacting_chain': 'Interacting Chain'},\n",
    "                         hover_data=['file'])\n",
    "\n",
    "fig_scatter.update_traces(textposition='top center', marker=dict(size=10, opacity=0.6))\n",
    "fig_scatter.update_layout(xaxis={'categoryorder':'array', 'categoryarray': interaction_df['residue_label'].cat.categories})\n",
    "\n",
    "# Show the plot\n",
    "fig_scatter.show()\n",
    "\n"
   ]
  },
  {
   "cell_type": "markdown",
   "metadata": {},
   "source": [
    "G"
   ]
  },
  {
   "cell_type": "code",
   "execution_count": null,
   "metadata": {},
   "outputs": [],
   "source": [
    "import pandas as pd\n",
    "import plotly.express as px\n",
    "\n",
    "# Define the path to the CSV file\n",
    "csv_file_path = \"/Users/jazzeruncal/git/Jazzer_surf/3d_predictions/same_seed/Seed_1/interactions_all_files.csv\"\n",
    "\n",
    "# Read the CSV file into a DataFrame\n",
    "df = pd.read_csv(csv_file_path)\n",
    "\n",
    "# Filter to get the shortest distances for each interaction\n",
    "df = df.loc[df[df['chain'] == 'A'].groupby(['file', 'resi', 'interacting_chain'])['distance (angstroms)'].idxmin()]\n",
    "\n",
    "# Exclude interactions with Mg and chain letters A, G, H\n",
    "df = df[(df['interacting_resn'] != 'MG') & (~df['interacting_chain'].isin(['A', 'G', 'H']))].reset_index(drop=True)\n",
    "\n",
    "# Map interacting_resn to single-letter codes for better readability\n",
    "aa_dict = {\n",
    "    'ALA': 'A', 'ARG': 'R', 'ASN': 'N', 'ASP': 'D', 'CYS': 'C', 'GLN': 'Q', 'GLU': 'E', 'GLY': 'G',\n",
    "    'HIS': 'H', 'ILE': 'I', 'LEU': 'L', 'LYS': 'K', 'MET': 'M', 'PHE': 'F', 'PRO': 'P', 'SER': 'S',\n",
    "    'THR': 'T', 'TRP': 'W', 'TYR': 'Y', 'VAL': 'V'\n",
    "}\n",
    "df['residue_one_letter'] = df['resn'].map(aa_dict)\n",
    "df['residue'] = df['resi'].astype(str) + df['residue_one_letter']\n",
    "\n",
    "# Replace chain letters with descriptive names\n",
    "chain_map = {\n",
    "    'B': 'kinesin B',\n",
    "    'C': 'alpha-tubulin',\n",
    "    'D': 'beta-tubulin',\n",
    "    'E': 'ATP',\n",
    "    'F': 'ATP'\n",
    "}\n",
    "df['interacting_chain'] = df['interacting_chain'].map(chain_map)\n",
    "\n",
    "# Filter to specific files\n",
    "df = df.loc[df['file'].isin([\n",
    "    'fold_g_atp_tub_seed1_model_0', \n",
    "\n",
    "    ])]\n",
    "\n",
    "# Group by file and interacting chain, keeping residues in order\n",
    "grouped = df.groupby(['file', 'interacting_chain'])\n",
    "\n",
    "# Create a list to store the output rows\n",
    "output_rows = []\n",
    "\n",
    "# Iterate over each group and extract information\n",
    "for (file, chain), group in grouped:\n",
    "    for _, row in group.iterrows():\n",
    "        output_rows.append({\n",
    "            'file': file,\n",
    "            'interacting_chain': chain,\n",
    "            'interacting_atom': row['interacting_atom'],\n",
    "            'residue_number': row['resi'],\n",
    "            'amino_acid': row['residue_one_letter'],\n",
    "            'distance (angstroms)': row['distance (angstroms)'],\n",
    "        })\n",
    "\n",
    "# Convert the list to a DataFrame\n",
    "interaction_df = pd.DataFrame(output_rows)\n",
    "\n",
    "# Display the resulting DataFrame\n",
    "interaction_df\n",
    "\n",
    "interaction_df.to_csv(\"interaction_summary.csv\", index=False)\n",
    "\n",
    "\n",
    "\n",
    "# Load the data\n",
    "csv_file_path = \"interaction_summary.csv\"\n",
    "interaction_df = pd.read_csv(csv_file_path)\n",
    "\n",
    "# Create a new column for the x-axis labels by concatenating residue number and amino acid\n",
    "interaction_df['residue_label'] = interaction_df['residue_number'].astype(str) + interaction_df['amino_acid']\n",
    "\n",
    "# Sort the dataframe by file and residue number to maintain order\n",
    "interaction_df = interaction_df.sort_values(by=['file', 'residue_number'])\n",
    "\n",
    "# Convert residue_label to a categorical type with the correct order\n",
    "interaction_df['residue_label'] = pd.Categorical(interaction_df['residue_label'], \n",
    "                                                 categories=sorted(interaction_df['residue_label'].unique(), key=lambda x: int(''.join(filter(str.isdigit, x)))), \n",
    "                                                 ordered=True)\n",
    "\n",
    "# Scatter plot for interaction distances with custom x-axis labels\n",
    "fig_scatter = px.scatter(interaction_df, x='residue_label', y='distance (angstroms)', color='interacting_chain', text='interacting_atom',\n",
    "                         title='Interaction Distances by Residue and Interacting Chain',\n",
    "                         labels={'residue_label': 'Residue (Number and Identity)', 'distance (angstroms)': 'Distance (angstroms)', 'interacting_chain': 'Interacting Chain'},\n",
    "                         hover_data=['file'])\n",
    "\n",
    "fig_scatter.update_traces(textposition='top center', marker=dict(size=10, opacity=0.6))\n",
    "fig_scatter.update_layout(xaxis={'categoryorder':'array', 'categoryarray': interaction_df['residue_label'].cat.categories})\n",
    "\n",
    "# Show the plot\n",
    "fig_scatter.show()\n",
    "\n"
   ]
  },
  {
   "cell_type": "markdown",
   "metadata": {},
   "source": [
    "ALL together\n",
    "seed 1"
   ]
  },
  {
   "cell_type": "code",
   "execution_count": null,
   "metadata": {},
   "outputs": [],
   "source": [
    "import pandas as pd\n",
    "import plotly.express as px\n",
    "\n",
    "# Define the path to the uploaded CSV file\n",
    "csv_file_path = '/Users/jazzeruncal/git/Jazzer_surf/3d_predictions/same_seed/Seed_1/interactions_all_files.csv'\n",
    "\n",
    "# Read the CSV file into a DataFrame\n",
    "df = pd.read_csv(csv_file_path)\n",
    "\n",
    "# Filter to get the shortest distances for each interaction\n",
    "df = df.loc[df[df['chain'] == 'A'].groupby(['file', 'resi', 'interacting_chain'])['distance (angstroms)'].idxmin()]\n",
    "\n",
    "# Exclude interactions with Mg and chain letters A, G, H\n",
    "df = df[(df['interacting_resn'] != 'MG') & (~df['interacting_chain'].isin(['A', 'G', 'H']))].reset_index(drop=True)\n",
    "\n",
    "# Map interacting_resn to single-letter codes for better readability\n",
    "aa_dict = {\n",
    "    'ALA': 'A', 'ARG': 'R', 'ASN': 'N', 'ASP': 'D', 'CYS': 'C', 'GLN': 'Q', 'GLU': 'E', 'GLY': 'G',\n",
    "    'HIS': 'H', 'ILE': 'I', 'LEU': 'L', 'LYS': 'K', 'MET': 'M', 'PHE': 'F', 'PRO': 'P', 'SER': 'S',\n",
    "    'THR': 'T', 'TRP': 'W', 'TYR': 'Y', 'VAL': 'V'\n",
    "}\n",
    "df['residue_one_letter'] = df['resn'].map(aa_dict)\n",
    "df['residue'] = df['resi'].astype(str) + df['residue_one_letter']\n",
    "\n",
    "# Replace chain letters with descriptive names\n",
    "chain_map = {\n",
    "    'B': 'kinesin B',\n",
    "    'C': 'alpha-tubulin',\n",
    "    'D': 'beta-tubulin',\n",
    "    'E': 'ATP',\n",
    "    'F': 'ATP'\n",
    "}\n",
    "df['interacting_chain'] = df['interacting_chain'].map(chain_map)\n",
    "\n",
    "# Group by file and interacting chain, keeping residues in order\n",
    "grouped = df.groupby(['file', 'interacting_chain'])\n",
    "\n",
    "# Create a list to store the output rows\n",
    "output_rows = []\n",
    "\n",
    "# Iterate over each group and extract information\n",
    "for (file, chain), group in grouped:\n",
    "    for _, row in group.iterrows():\n",
    "        output_rows.append({\n",
    "            'file': file,\n",
    "            'interacting_chain': chain,\n",
    "            'interacting_atom': row['interacting_atom'],\n",
    "            'residue_number': row['resi'],\n",
    "            'amino_acid': row['residue_one_letter'],\n",
    "            'distance (angstroms)': row['distance (angstroms)'],\n",
    "        })\n",
    "\n",
    "# Convert the list to a DataFrame\n",
    "interaction_df = pd.DataFrame(output_rows)\n",
    "\n",
    "# Save the resulting DataFrame to a CSV file\n",
    "interaction_df.to_csv(\"interaction_summary_all_files.csv\", index=False)\n",
    "\n",
    "# Load the summarized interaction data\n",
    "csv_file_path = \"interaction_summary_all_files.csv\"\n",
    "interaction_df = pd.read_csv(csv_file_path)\n",
    "\n",
    "# Create a new column for the x-axis labels by concatenating residue number and amino acid\n",
    "interaction_df['residue_label'] = interaction_df['residue_number'].astype(str) + interaction_df['amino_acid']\n",
    "\n",
    "# Sort the dataframe by file and residue number to maintain order\n",
    "interaction_df = interaction_df.sort_values(by=['file', 'residue_number'])\n",
    "\n",
    "# Convert residue_label to a categorical type with the correct order\n",
    "interaction_df['residue_label'] = pd.Categorical(interaction_df['residue_label'], \n",
    "                                                 categories=sorted(interaction_df['residue_label'].unique(), key=lambda x: int(''.join(filter(str.isdigit, x)))), \n",
    "                                                 ordered=True)\n",
    "\n",
    "# Scatter plot for interaction distances with custom x-axis labels\n",
    "fig_scatter = px.scatter(interaction_df, x='residue_label', y='distance (angstroms)', color='interacting_chain', text='interacting_atom',\n",
    "                         title='Interaction Distances by Residue and Interacting Chain',\n",
    "                         labels={'residue_label': 'Residue (Number and Identity)', 'distance (angstroms)': 'Distance (angstroms)', 'interacting_chain': 'Interacting Chain'},\n",
    "                         hover_data=['file'])\n",
    "\n",
    "fig_scatter.update_traces(textposition='top center', marker=dict(size=10, opacity=0.6))\n",
    "fig_scatter.update_layout(xaxis={'categoryorder':'array', 'categoryarray': interaction_df['residue_label'].cat.categories})\n",
    "\n",
    "# Show the plot\n",
    "fig_scatter.show()\n"
   ]
  },
  {
   "cell_type": "markdown",
   "metadata": {},
   "source": [
    "ALL motors together from the first seed\n"
   ]
  },
  {
   "cell_type": "code",
   "execution_count": null,
   "metadata": {},
   "outputs": [],
   "source": [
    "import pandas as pd\n",
    "import plotly.express as px\n",
    "\n",
    "# Define the path to the uploaded CSV file\n",
    "csv_file_path = '/Users/jazzeruncal/git/Jazzer_surf/3d_predictions/same_seed/interactions_all_files.csv'\n",
    "\n",
    "# Read the CSV file into a DataFrame\n",
    "df = pd.read_csv(csv_file_path)\n",
    "\n",
    "# Filter to get the shortest distances for each interaction\n",
    "df = df.loc[df[df['chain'] == 'A'].groupby(['file', 'resi', 'interacting_chain'])['distance (angstroms)'].idxmin()]\n",
    "\n",
    "# Exclude interactions with Mg and chain letters A, G, H\n",
    "df = df[(df['interacting_resn'] != 'MG') & (~df['interacting_chain'].isin(['A', 'G', 'H']))].reset_index(drop=True)\n",
    "\n",
    "# Map interacting_resn to single-letter codes for better readability\n",
    "aa_dict = {\n",
    "    'ALA': 'A', 'ARG': 'R', 'ASN': 'N', 'ASP': 'D', 'CYS': 'C', 'GLN': 'Q', 'GLU': 'E', 'GLY': 'G',\n",
    "    'HIS': 'H', 'ILE': 'I', 'LEU': 'L', 'LYS': 'K', 'MET': 'M', 'PHE': 'F', 'PRO': 'P', 'SER': 'S',\n",
    "    'THR': 'T', 'TRP': 'W', 'TYR': 'Y', 'VAL': 'V'\n",
    "}\n",
    "df['residue_one_letter'] = df['resn'].map(aa_dict)\n",
    "df['residue'] = df['resi'].astype(str) + df['residue_one_letter']\n",
    "\n",
    "# Replace chain letters with descriptive names\n",
    "chain_map = {\n",
    "    'B': 'kinesin B',\n",
    "    'C': 'alpha-tubulin',\n",
    "    'D': 'beta-tubulin',\n",
    "    'E': 'ATP',\n",
    "    'F': 'ATP'\n",
    "}\n",
    "df['interacting_chain'] = df['interacting_chain'].map(chain_map)\n",
    "\n",
    "# Group by file and interacting chain, keeping residues in order\n",
    "grouped = df.groupby(['file', 'interacting_chain'])\n",
    "\n",
    "# Create a list to store the output rows\n",
    "output_rows = []\n",
    "\n",
    "# Iterate over each group and extract information\n",
    "for (file, chain), group in grouped:\n",
    "    for _, row in group.iterrows():\n",
    "        output_rows.append({\n",
    "            'file': file,\n",
    "            'interacting_chain': chain,\n",
    "            'interacting_atom': row['interacting_atom'],\n",
    "            'residue_number': row['resi'],\n",
    "            'amino_acid': row['residue_one_letter'],\n",
    "            'distance (angstroms)': row['distance (angstroms)'],\n",
    "        })\n",
    "\n",
    "# Convert the list to a DataFrame\n",
    "interaction_df = pd.DataFrame(output_rows)\n",
    "\n",
    "# Save the resulting DataFrame to a CSV file\n",
    "interaction_df.to_csv(\"interaction_summary_all_files.csv\", index=False)\n",
    "\n",
    "# Load the summarized interaction data\n",
    "csv_file_path = \"interaction_summary_all_files.csv\"\n",
    "interaction_df = pd.read_csv(csv_file_path)\n",
    "\n",
    "# Create a new column for the x-axis labels by concatenating residue number and amino acid\n",
    "interaction_df['residue_label'] = interaction_df['residue_number'].astype(str) + interaction_df['amino_acid']\n",
    "\n",
    "# Sort the dataframe by file and residue number to maintain order\n",
    "interaction_df = interaction_df.sort_values(by=['file', 'residue_number'])\n",
    "\n",
    "# Convert residue_label to a categorical type with the correct order\n",
    "interaction_df['residue_label'] = pd.Categorical(interaction_df['residue_label'], \n",
    "                                                 categories=sorted(interaction_df['residue_label'].unique(), key=lambda x: int(''.join(filter(str.isdigit, x)))), \n",
    "                                                 ordered=True)\n",
    "\n",
    "# Scatter plot for interaction distances with custom x-axis labels\n",
    "fig_scatter = px.scatter(interaction_df, x='residue_label', y='distance (angstroms)', color='interacting_chain', text='interacting_atom',\n",
    "                         title='Interaction Distances by Residue and Interacting Chain',\n",
    "                         labels={'residue_label': 'Residue (Number and Identity)', 'distance (angstroms)': 'Distance (angstroms)', 'interacting_chain': 'Interacting Chain'},\n",
    "                         hover_data=['file'])\n",
    "\n",
    "fig_scatter.update_traces(textposition='top center', marker=dict(size=10, opacity=0.6))\n",
    "fig_scatter.update_layout(xaxis={'categoryorder':'array', 'categoryarray': interaction_df['residue_label'].cat.categories})\n",
    "\n",
    "# Show the plot\n",
    "fig_scatter.show()\n"
   ]
  },
  {
   "cell_type": "markdown",
   "metadata": {},
   "source": [
    "All motors together from the seed \"2\""
   ]
  },
  {
   "cell_type": "code",
   "execution_count": null,
   "metadata": {},
   "outputs": [],
   "source": [
    "import pandas as pd\n",
    "import plotly.express as px\n",
    "\n",
    "# Define the path to the uploaded CSV file\n",
    "csv_file_path = '/Users/jazzeruncal/git/Jazzer_surf/3d_predictions/same_seed/Seed_2/interactions_all_files.csv'\n",
    "\n",
    "# Read the CSV file into a DataFrame\n",
    "df = pd.read_csv(csv_file_path)\n",
    "\n",
    "# Filter to get the shortest distances for each interaction\n",
    "df = df.loc[df[df['chain'] == 'A'].groupby(['file', 'resi', 'interacting_chain'])['distance (angstroms)'].idxmin()]\n",
    "\n",
    "# Exclude interactions with Mg and chain letters A, G, H\n",
    "df = df[(df['interacting_resn'] != 'MG') & (~df['interacting_chain'].isin(['A', 'G', 'H']))].reset_index(drop=True)\n",
    "\n",
    "# Map interacting_resn to single-letter codes for better readability\n",
    "aa_dict = {\n",
    "    'ALA': 'A', 'ARG': 'R', 'ASN': 'N', 'ASP': 'D', 'CYS': 'C', 'GLN': 'Q', 'GLU': 'E', 'GLY': 'G',\n",
    "    'HIS': 'H', 'ILE': 'I', 'LEU': 'L', 'LYS': 'K', 'MET': 'M', 'PHE': 'F', 'PRO': 'P', 'SER': 'S',\n",
    "    'THR': 'T', 'TRP': 'W', 'TYR': 'Y', 'VAL': 'V'\n",
    "}\n",
    "df['residue_one_letter'] = df['resn'].map(aa_dict)\n",
    "df['residue'] = df['resi'].astype(str) + df['residue_one_letter']\n",
    "\n",
    "# Replace chain letters with descriptive names\n",
    "chain_map = {\n",
    "    'B': 'kinesin B',\n",
    "    'C': 'alpha-tubulin',\n",
    "    'D': 'beta-tubulin',\n",
    "    'E': 'ATP',\n",
    "    'F': 'ATP'\n",
    "}\n",
    "df['interacting_chain'] = df['interacting_chain'].map(chain_map)\n",
    "\n",
    "# Group by file and interacting chain, keeping residues in order\n",
    "grouped = df.groupby(['file', 'interacting_chain'])\n",
    "\n",
    "# Create a list to store the output rows\n",
    "output_rows = []\n",
    "\n",
    "# Iterate over each group and extract information\n",
    "for (file, chain), group in grouped:\n",
    "    for _, row in group.iterrows():\n",
    "        output_rows.append({\n",
    "            'file': file,\n",
    "            'interacting_chain': chain,\n",
    "            'interacting_atom': row['interacting_atom'],\n",
    "            'residue_number': row['resi'],\n",
    "            'amino_acid': row['residue_one_letter'],\n",
    "            'distance (angstroms)': row['distance (angstroms)'],\n",
    "        })\n",
    "\n",
    "# Convert the list to a DataFrame\n",
    "interaction_df = pd.DataFrame(output_rows)\n",
    "\n",
    "# Save the resulting DataFrame to a CSV file\n",
    "interaction_df.to_csv(\"interaction_summary_all_files.csv\", index=False)\n",
    "\n",
    "# Load the summarized interaction data\n",
    "csv_file_path = \"interaction_summary_all_files.csv\"\n",
    "interaction_df = pd.read_csv(csv_file_path)\n",
    "\n",
    "# Create a new column for the x-axis labels by concatenating residue number and amino acid\n",
    "interaction_df['residue_label'] = interaction_df['residue_number'].astype(str) + interaction_df['amino_acid']\n",
    "\n",
    "# Sort the dataframe by file and residue number to maintain order\n",
    "interaction_df = interaction_df.sort_values(by=['file', 'residue_number'])\n",
    "\n",
    "# Convert residue_label to a categorical type with the correct order\n",
    "interaction_df['residue_label'] = pd.Categorical(interaction_df['residue_label'], \n",
    "                                                 categories=sorted(interaction_df['residue_label'].unique(), key=lambda x: int(''.join(filter(str.isdigit, x)))), \n",
    "                                                 ordered=True)\n",
    "\n",
    "# Define custom colors\n",
    "color_discrete_map = {\n",
    "    'kinesin B': 'blue',\n",
    "    'alpha-tubulin': 'purple',\n",
    "    'beta-tubulin': 'black',  # Change this color to something other than green or orange\n",
    "    'ATP': 'yellow'\n",
    "}\n",
    "\n",
    "# Scatter plot for interaction distances with custom x-axis labels\n",
    "fig_scatter = px.scatter(interaction_df, x='residue_label', y='distance (angstroms)', color='interacting_chain', text='interacting_atom',\n",
    "                         title='Interaction Distances by Residue and Interacting Chain',\n",
    "                         labels={'residue_label': 'Residue (Number and Identity)', 'distance (angstroms)': 'Distance (angstroms)', 'interacting_chain': 'Interacting Chain'},\n",
    "                         hover_data=['file'],\n",
    "                         color_discrete_map=color_discrete_map)\n",
    "\n",
    "fig_scatter.update_traces(textposition='top center', marker=dict(size=10, opacity=0.6))\n",
    "fig_scatter.update_layout(xaxis={'categoryorder':'array', 'categoryarray': interaction_df['residue_label'].cat.categories})\n",
    "\n",
    "# Show the plot\n",
    "fig_scatter.show()\n"
   ]
  },
  {
   "cell_type": "markdown",
   "metadata": {},
   "source": [
    "Each one separate"
   ]
  },
  {
   "cell_type": "code",
   "execution_count": 71,
   "metadata": {},
   "outputs": [
    {
     "name": "stdout",
     "output_type": "stream",
     "text": [
      "Index(['file', 'chain', 'resi', 'resn', 'atom_name', 'interacting_atom',\n",
      "       'interacting_resn', 'interacting_chain', 'interacting_resinumber',\n",
      "       'distance (angstroms)', 'residue_one_letter', 'full_atom_name',\n",
      "       'interacting_full_atom_name', 'interactingresi_oneletter'],\n",
      "      dtype='object')\n"
     ]
    },
    {
     "name": "stderr",
     "output_type": "stream",
     "text": [
      "/var/folders/08/7vm2c9d11xvc7s0rf383rd480000gn/T/ipykernel_57000/2424036903.py:54: SettingWithCopyWarning:\n",
      "\n",
      "\n",
      "A value is trying to be set on a copy of a slice from a DataFrame.\n",
      "Try using .loc[row_indexer,col_indexer] = value instead\n",
      "\n",
      "See the caveats in the documentation: https://pandas.pydata.org/pandas-docs/stable/user_guide/indexing.html#returning-a-view-versus-a-copy\n",
      "\n"
     ]
    },
    {
     "data": {
      "application/vnd.plotly.v1+json": {
       "config": {
        "plotlyServerURL": "https://plot.ly"
       },
       "data": [
        {
         "customdata": [
          [
           "fold_c_atp_tub_seed1_model_0",
           "1?"
          ],
          [
           "fold_c_atp_tub_seed1_model_0",
           "1?"
          ],
          [
           "fold_c_atp_tub_seed1_model_0",
           "1?"
          ],
          [
           "fold_c_atp_tub_seed1_model_0",
           "1?"
          ],
          [
           "fold_c_atp_tub_seed1_model_0",
           "1?"
          ],
          [
           "fold_c_atp_tub_seed1_model_0",
           "1?"
          ],
          [
           "fold_c_atp_tub_seed1_model_0",
           "1?"
          ],
          [
           "fold_c_atp_tub_seed1_model_0",
           "1?"
          ],
          [
           "fold_c_atp_tub_seed1_model_0",
           "1?"
          ],
          [
           "fold_c_atp_tub_seed1_model_0",
           "1?"
          ],
          [
           "fold_c_atp_tub_seed1_model_0",
           "1?"
          ],
          [
           "fold_c_atp_tub_seed1_model_0",
           "1?"
          ]
         ],
         "hovertemplate": "Interacting Chain=ATP<br>Residue (Number and Identity)=%{x}<br>Distance (angstroms)=%{y}<br>text=%{text}<br>file=%{customdata[0]}<br>interacting_label=%{customdata[1]}<extra></extra>",
         "legendgroup": "ATP",
         "marker": {
          "color": "#636efa",
          "opacity": 0.6,
          "size": 10,
          "symbol": "circle"
         },
         "mode": "markers+text",
         "name": "ATP",
         "orientation": "v",
         "showlegend": true,
         "text": [
          "1?",
          "1?",
          "1?",
          "1?",
          "1?",
          "1?",
          "1?",
          "1?",
          "1?",
          "1?",
          "1?",
          "1?"
         ],
         "textposition": "top center",
         "type": "scatter",
         "x": [
          "21P",
          "94T",
          "95S",
          "96S",
          "97G",
          "98K",
          "99T",
          "100H",
          "205N",
          "208S",
          "209S",
          "241G"
         ],
         "xaxis": "x",
         "y": [
          3.457723379135132,
          2.4436142444610596,
          2.823654890060425,
          3.3223249912261963,
          3.097536087036133,
          2.879331588745117,
          2.799541711807251,
          2.962357997894287,
          2.9935591220855713,
          2.7670114040374756,
          2.790931224822998,
          2.9767863750457764
         ],
         "yaxis": "y"
        },
        {
         "customdata": [
          [
           "fold_c_atp_tub_seed1_model_0",
           "157E"
          ],
          [
           "fold_c_atp_tub_seed1_model_0",
           "157E"
          ],
          [
           "fold_c_atp_tub_seed1_model_0",
           "410E"
          ],
          [
           "fold_c_atp_tub_seed1_model_0",
           "410E"
          ],
          [
           "fold_c_atp_tub_seed1_model_0",
           "406M"
          ],
          [
           "fold_c_atp_tub_seed1_model_0",
           "424Q"
          ],
          [
           "fold_c_atp_tub_seed1_model_0",
           "417D"
          ],
          [
           "fold_c_atp_tub_seed1_model_0",
           "262R"
          ]
         ],
         "hovertemplate": "Interacting Chain=beta-tubulin<br>Residue (Number and Identity)=%{x}<br>Distance (angstroms)=%{y}<br>text=%{text}<br>file=%{customdata[0]}<br>interacting_label=%{customdata[1]}<extra></extra>",
         "legendgroup": "beta-tubulin",
         "marker": {
          "color": "#EF553B",
          "opacity": 0.6,
          "size": 10,
          "symbol": "circle"
         },
         "mode": "markers+text",
         "name": "beta-tubulin",
         "orientation": "v",
         "showlegend": true,
         "text": [
          "157E",
          "157E",
          "410E",
          "410E",
          "406M",
          "424Q",
          "417D",
          "262R"
         ],
         "textposition": "top center",
         "type": "scatter",
         "x": [
          "148K",
          "159N",
          "163H",
          "164E",
          "166K",
          "282H",
          "286R",
          "287D"
         ],
         "xaxis": "x",
         "y": [
          2.9638772010803223,
          3.166810989379883,
          2.7821812629699707,
          2.793105363845825,
          3.454381227493286,
          2.882333993911743,
          2.4885451793670654,
          3.194092035293579
         ],
         "yaxis": "y"
        },
        {
         "customdata": [
          [
           "fold_c_atp_tub_seed1_model_0",
           "346E"
          ],
          [
           "fold_c_atp_tub_seed1_model_0",
           "348W"
          ],
          [
           "fold_c_atp_tub_seed1_model_0",
           "352Y"
          ],
          [
           "fold_c_atp_tub_seed1_model_0",
           "355E"
          ],
          [
           "fold_c_atp_tub_seed1_model_0",
           "359N"
          ],
          [
           "fold_c_atp_tub_seed1_model_0",
           "359N"
          ],
          [
           "fold_c_atp_tub_seed1_model_0",
           "355E"
          ],
          [
           "fold_c_atp_tub_seed1_model_0",
           "359N"
          ],
          [
           "fold_c_atp_tub_seed1_model_0",
           "370E"
          ],
          [
           "fold_c_atp_tub_seed1_model_0",
           "393L"
          ],
          [
           "fold_c_atp_tub_seed1_model_0",
           "373L"
          ],
          [
           "fold_c_atp_tub_seed1_model_0",
           "393L"
          ],
          [
           "fold_c_atp_tub_seed1_model_0",
           "373L"
          ],
          [
           "fold_c_atp_tub_seed1_model_0",
           "372E"
          ],
          [
           "fold_c_atp_tub_seed1_model_0",
           "372E"
          ],
          [
           "fold_c_atp_tub_seed1_model_0",
           "377R"
          ],
          [
           "fold_c_atp_tub_seed1_model_0",
           "377R"
          ],
          [
           "fold_c_atp_tub_seed1_model_0",
           "377R"
          ],
          [
           "fold_c_atp_tub_seed1_model_0",
           "366V"
          ]
         ],
         "hovertemplate": "Interacting Chain=kinesin B<br>Residue (Number and Identity)=%{x}<br>Distance (angstroms)=%{y}<br>text=%{text}<br>file=%{customdata[0]}<br>interacting_label=%{customdata[1]}<extra></extra>",
         "legendgroup": "kinesin B",
         "marker": {
          "color": "#00cc96",
          "opacity": 0.6,
          "size": 10,
          "symbol": "circle"
         },
         "mode": "markers+text",
         "name": "kinesin B",
         "orientation": "v",
         "showlegend": true,
         "text": [
          "346E",
          "348W",
          "352Y",
          "355E",
          "359N",
          "359N",
          "355E",
          "359N",
          "370E",
          "393L",
          "373L",
          "393L",
          "373L",
          "372E",
          "372E",
          "377R",
          "377R",
          "377R",
          "366V"
         ],
         "textposition": "top center",
         "type": "scatter",
         "x": [
          "166K",
          "345A",
          "348W",
          "352Y",
          "355E",
          "358K",
          "359N",
          "362L",
          "365K",
          "366V",
          "369L",
          "370E",
          "372E",
          "373L",
          "377R",
          "387Q",
          "388I",
          "390M",
          "393L"
         ],
         "xaxis": "x",
         "y": [
          2.810300827026367,
          3.4046149253845215,
          3.3196117877960205,
          3.4200756549835205,
          2.1327757835388184,
          3.4232633113861084,
          2.092862606048584,
          2.848017692565918,
          3.258519172668457,
          2.8572001457214355,
          3.449855089187622,
          3.2836923599243164,
          2.8547213077545166,
          2.8381266593933105,
          2.828540325164795,
          3.4705941677093506,
          2.914373874664306,
          3.3847358226776123,
          2.8476345539093018
         ],
         "yaxis": "y"
        },
        {
         "customdata": [
          [
           "fold_c_atp_tub_seed1_model_0",
           "414E"
          ],
          [
           "fold_c_atp_tub_seed1_model_0",
           "420E"
          ],
          [
           "fold_c_atp_tub_seed1_model_0",
           "412G"
          ],
          [
           "fold_c_atp_tub_seed1_model_0",
           "410G"
          ],
          [
           "fold_c_atp_tub_seed1_model_0",
           "409V"
          ],
          [
           "fold_c_atp_tub_seed1_model_0",
           "409V"
          ],
          [
           "fold_c_atp_tub_seed1_model_0",
           "415E"
          ],
          [
           "fold_c_atp_tub_seed1_model_0",
           "420E"
          ],
          [
           "fold_c_atp_tub_seed1_model_0",
           "423E"
          ]
         ],
         "hovertemplate": "Interacting Chain=alpha-tubulin<br>Residue (Number and Identity)=%{x}<br>Distance (angstroms)=%{y}<br>text=%{text}<br>file=%{customdata[0]}<br>interacting_label=%{customdata[1]}<extra></extra>",
         "legendgroup": "alpha-tubulin",
         "marker": {
          "color": "#ab63fa",
          "opacity": 0.6,
          "size": 10,
          "symbol": "circle"
         },
         "mode": "markers+text",
         "name": "alpha-tubulin",
         "orientation": "v",
         "showlegend": true,
         "text": [
          "414E",
          "420E",
          "412G",
          "410G",
          "409V",
          "409V",
          "415E",
          "420E",
          "423E"
         ],
         "textposition": "top center",
         "type": "scatter",
         "x": [
          "242S",
          "244K",
          "245I",
          "259K",
          "262N",
          "263K",
          "266S",
          "318A",
          "325R"
         ],
         "xaxis": "x",
         "y": [
          3.2220075130462646,
          2.5479209423065186,
          2.961440086364746,
          3.272054433822632,
          3.429266929626465,
          3.3820230960845947,
          2.7096283435821533,
          2.7859344482421875,
          3.011375188827514
         ],
         "yaxis": "y"
        }
       ],
       "layout": {
        "legend": {
         "title": {
          "text": "Interacting Chain"
         },
         "tracegroupgap": 0
        },
        "template": {
         "data": {
          "bar": [
           {
            "error_x": {
             "color": "#2a3f5f"
            },
            "error_y": {
             "color": "#2a3f5f"
            },
            "marker": {
             "line": {
              "color": "#E5ECF6",
              "width": 0.5
             },
             "pattern": {
              "fillmode": "overlay",
              "size": 10,
              "solidity": 0.2
             }
            },
            "type": "bar"
           }
          ],
          "barpolar": [
           {
            "marker": {
             "line": {
              "color": "#E5ECF6",
              "width": 0.5
             },
             "pattern": {
              "fillmode": "overlay",
              "size": 10,
              "solidity": 0.2
             }
            },
            "type": "barpolar"
           }
          ],
          "carpet": [
           {
            "aaxis": {
             "endlinecolor": "#2a3f5f",
             "gridcolor": "white",
             "linecolor": "white",
             "minorgridcolor": "white",
             "startlinecolor": "#2a3f5f"
            },
            "baxis": {
             "endlinecolor": "#2a3f5f",
             "gridcolor": "white",
             "linecolor": "white",
             "minorgridcolor": "white",
             "startlinecolor": "#2a3f5f"
            },
            "type": "carpet"
           }
          ],
          "choropleth": [
           {
            "colorbar": {
             "outlinewidth": 0,
             "ticks": ""
            },
            "type": "choropleth"
           }
          ],
          "contour": [
           {
            "colorbar": {
             "outlinewidth": 0,
             "ticks": ""
            },
            "colorscale": [
             [
              0,
              "#0d0887"
             ],
             [
              0.1111111111111111,
              "#46039f"
             ],
             [
              0.2222222222222222,
              "#7201a8"
             ],
             [
              0.3333333333333333,
              "#9c179e"
             ],
             [
              0.4444444444444444,
              "#bd3786"
             ],
             [
              0.5555555555555556,
              "#d8576b"
             ],
             [
              0.6666666666666666,
              "#ed7953"
             ],
             [
              0.7777777777777778,
              "#fb9f3a"
             ],
             [
              0.8888888888888888,
              "#fdca26"
             ],
             [
              1,
              "#f0f921"
             ]
            ],
            "type": "contour"
           }
          ],
          "contourcarpet": [
           {
            "colorbar": {
             "outlinewidth": 0,
             "ticks": ""
            },
            "type": "contourcarpet"
           }
          ],
          "heatmap": [
           {
            "colorbar": {
             "outlinewidth": 0,
             "ticks": ""
            },
            "colorscale": [
             [
              0,
              "#0d0887"
             ],
             [
              0.1111111111111111,
              "#46039f"
             ],
             [
              0.2222222222222222,
              "#7201a8"
             ],
             [
              0.3333333333333333,
              "#9c179e"
             ],
             [
              0.4444444444444444,
              "#bd3786"
             ],
             [
              0.5555555555555556,
              "#d8576b"
             ],
             [
              0.6666666666666666,
              "#ed7953"
             ],
             [
              0.7777777777777778,
              "#fb9f3a"
             ],
             [
              0.8888888888888888,
              "#fdca26"
             ],
             [
              1,
              "#f0f921"
             ]
            ],
            "type": "heatmap"
           }
          ],
          "heatmapgl": [
           {
            "colorbar": {
             "outlinewidth": 0,
             "ticks": ""
            },
            "colorscale": [
             [
              0,
              "#0d0887"
             ],
             [
              0.1111111111111111,
              "#46039f"
             ],
             [
              0.2222222222222222,
              "#7201a8"
             ],
             [
              0.3333333333333333,
              "#9c179e"
             ],
             [
              0.4444444444444444,
              "#bd3786"
             ],
             [
              0.5555555555555556,
              "#d8576b"
             ],
             [
              0.6666666666666666,
              "#ed7953"
             ],
             [
              0.7777777777777778,
              "#fb9f3a"
             ],
             [
              0.8888888888888888,
              "#fdca26"
             ],
             [
              1,
              "#f0f921"
             ]
            ],
            "type": "heatmapgl"
           }
          ],
          "histogram": [
           {
            "marker": {
             "pattern": {
              "fillmode": "overlay",
              "size": 10,
              "solidity": 0.2
             }
            },
            "type": "histogram"
           }
          ],
          "histogram2d": [
           {
            "colorbar": {
             "outlinewidth": 0,
             "ticks": ""
            },
            "colorscale": [
             [
              0,
              "#0d0887"
             ],
             [
              0.1111111111111111,
              "#46039f"
             ],
             [
              0.2222222222222222,
              "#7201a8"
             ],
             [
              0.3333333333333333,
              "#9c179e"
             ],
             [
              0.4444444444444444,
              "#bd3786"
             ],
             [
              0.5555555555555556,
              "#d8576b"
             ],
             [
              0.6666666666666666,
              "#ed7953"
             ],
             [
              0.7777777777777778,
              "#fb9f3a"
             ],
             [
              0.8888888888888888,
              "#fdca26"
             ],
             [
              1,
              "#f0f921"
             ]
            ],
            "type": "histogram2d"
           }
          ],
          "histogram2dcontour": [
           {
            "colorbar": {
             "outlinewidth": 0,
             "ticks": ""
            },
            "colorscale": [
             [
              0,
              "#0d0887"
             ],
             [
              0.1111111111111111,
              "#46039f"
             ],
             [
              0.2222222222222222,
              "#7201a8"
             ],
             [
              0.3333333333333333,
              "#9c179e"
             ],
             [
              0.4444444444444444,
              "#bd3786"
             ],
             [
              0.5555555555555556,
              "#d8576b"
             ],
             [
              0.6666666666666666,
              "#ed7953"
             ],
             [
              0.7777777777777778,
              "#fb9f3a"
             ],
             [
              0.8888888888888888,
              "#fdca26"
             ],
             [
              1,
              "#f0f921"
             ]
            ],
            "type": "histogram2dcontour"
           }
          ],
          "mesh3d": [
           {
            "colorbar": {
             "outlinewidth": 0,
             "ticks": ""
            },
            "type": "mesh3d"
           }
          ],
          "parcoords": [
           {
            "line": {
             "colorbar": {
              "outlinewidth": 0,
              "ticks": ""
             }
            },
            "type": "parcoords"
           }
          ],
          "pie": [
           {
            "automargin": true,
            "type": "pie"
           }
          ],
          "scatter": [
           {
            "fillpattern": {
             "fillmode": "overlay",
             "size": 10,
             "solidity": 0.2
            },
            "type": "scatter"
           }
          ],
          "scatter3d": [
           {
            "line": {
             "colorbar": {
              "outlinewidth": 0,
              "ticks": ""
             }
            },
            "marker": {
             "colorbar": {
              "outlinewidth": 0,
              "ticks": ""
             }
            },
            "type": "scatter3d"
           }
          ],
          "scattercarpet": [
           {
            "marker": {
             "colorbar": {
              "outlinewidth": 0,
              "ticks": ""
             }
            },
            "type": "scattercarpet"
           }
          ],
          "scattergeo": [
           {
            "marker": {
             "colorbar": {
              "outlinewidth": 0,
              "ticks": ""
             }
            },
            "type": "scattergeo"
           }
          ],
          "scattergl": [
           {
            "marker": {
             "colorbar": {
              "outlinewidth": 0,
              "ticks": ""
             }
            },
            "type": "scattergl"
           }
          ],
          "scattermapbox": [
           {
            "marker": {
             "colorbar": {
              "outlinewidth": 0,
              "ticks": ""
             }
            },
            "type": "scattermapbox"
           }
          ],
          "scatterpolar": [
           {
            "marker": {
             "colorbar": {
              "outlinewidth": 0,
              "ticks": ""
             }
            },
            "type": "scatterpolar"
           }
          ],
          "scatterpolargl": [
           {
            "marker": {
             "colorbar": {
              "outlinewidth": 0,
              "ticks": ""
             }
            },
            "type": "scatterpolargl"
           }
          ],
          "scatterternary": [
           {
            "marker": {
             "colorbar": {
              "outlinewidth": 0,
              "ticks": ""
             }
            },
            "type": "scatterternary"
           }
          ],
          "surface": [
           {
            "colorbar": {
             "outlinewidth": 0,
             "ticks": ""
            },
            "colorscale": [
             [
              0,
              "#0d0887"
             ],
             [
              0.1111111111111111,
              "#46039f"
             ],
             [
              0.2222222222222222,
              "#7201a8"
             ],
             [
              0.3333333333333333,
              "#9c179e"
             ],
             [
              0.4444444444444444,
              "#bd3786"
             ],
             [
              0.5555555555555556,
              "#d8576b"
             ],
             [
              0.6666666666666666,
              "#ed7953"
             ],
             [
              0.7777777777777778,
              "#fb9f3a"
             ],
             [
              0.8888888888888888,
              "#fdca26"
             ],
             [
              1,
              "#f0f921"
             ]
            ],
            "type": "surface"
           }
          ],
          "table": [
           {
            "cells": {
             "fill": {
              "color": "#EBF0F8"
             },
             "line": {
              "color": "white"
             }
            },
            "header": {
             "fill": {
              "color": "#C8D4E3"
             },
             "line": {
              "color": "white"
             }
            },
            "type": "table"
           }
          ]
         },
         "layout": {
          "annotationdefaults": {
           "arrowcolor": "#2a3f5f",
           "arrowhead": 0,
           "arrowwidth": 1
          },
          "autotypenumbers": "strict",
          "coloraxis": {
           "colorbar": {
            "outlinewidth": 0,
            "ticks": ""
           }
          },
          "colorscale": {
           "diverging": [
            [
             0,
             "#8e0152"
            ],
            [
             0.1,
             "#c51b7d"
            ],
            [
             0.2,
             "#de77ae"
            ],
            [
             0.3,
             "#f1b6da"
            ],
            [
             0.4,
             "#fde0ef"
            ],
            [
             0.5,
             "#f7f7f7"
            ],
            [
             0.6,
             "#e6f5d0"
            ],
            [
             0.7,
             "#b8e186"
            ],
            [
             0.8,
             "#7fbc41"
            ],
            [
             0.9,
             "#4d9221"
            ],
            [
             1,
             "#276419"
            ]
           ],
           "sequential": [
            [
             0,
             "#0d0887"
            ],
            [
             0.1111111111111111,
             "#46039f"
            ],
            [
             0.2222222222222222,
             "#7201a8"
            ],
            [
             0.3333333333333333,
             "#9c179e"
            ],
            [
             0.4444444444444444,
             "#bd3786"
            ],
            [
             0.5555555555555556,
             "#d8576b"
            ],
            [
             0.6666666666666666,
             "#ed7953"
            ],
            [
             0.7777777777777778,
             "#fb9f3a"
            ],
            [
             0.8888888888888888,
             "#fdca26"
            ],
            [
             1,
             "#f0f921"
            ]
           ],
           "sequentialminus": [
            [
             0,
             "#0d0887"
            ],
            [
             0.1111111111111111,
             "#46039f"
            ],
            [
             0.2222222222222222,
             "#7201a8"
            ],
            [
             0.3333333333333333,
             "#9c179e"
            ],
            [
             0.4444444444444444,
             "#bd3786"
            ],
            [
             0.5555555555555556,
             "#d8576b"
            ],
            [
             0.6666666666666666,
             "#ed7953"
            ],
            [
             0.7777777777777778,
             "#fb9f3a"
            ],
            [
             0.8888888888888888,
             "#fdca26"
            ],
            [
             1,
             "#f0f921"
            ]
           ]
          },
          "colorway": [
           "#636efa",
           "#EF553B",
           "#00cc96",
           "#ab63fa",
           "#FFA15A",
           "#19d3f3",
           "#FF6692",
           "#B6E880",
           "#FF97FF",
           "#FECB52"
          ],
          "font": {
           "color": "#2a3f5f"
          },
          "geo": {
           "bgcolor": "white",
           "lakecolor": "white",
           "landcolor": "#E5ECF6",
           "showlakes": true,
           "showland": true,
           "subunitcolor": "white"
          },
          "hoverlabel": {
           "align": "left"
          },
          "hovermode": "closest",
          "mapbox": {
           "style": "light"
          },
          "paper_bgcolor": "white",
          "plot_bgcolor": "#E5ECF6",
          "polar": {
           "angularaxis": {
            "gridcolor": "white",
            "linecolor": "white",
            "ticks": ""
           },
           "bgcolor": "#E5ECF6",
           "radialaxis": {
            "gridcolor": "white",
            "linecolor": "white",
            "ticks": ""
           }
          },
          "scene": {
           "xaxis": {
            "backgroundcolor": "#E5ECF6",
            "gridcolor": "white",
            "gridwidth": 2,
            "linecolor": "white",
            "showbackground": true,
            "ticks": "",
            "zerolinecolor": "white"
           },
           "yaxis": {
            "backgroundcolor": "#E5ECF6",
            "gridcolor": "white",
            "gridwidth": 2,
            "linecolor": "white",
            "showbackground": true,
            "ticks": "",
            "zerolinecolor": "white"
           },
           "zaxis": {
            "backgroundcolor": "#E5ECF6",
            "gridcolor": "white",
            "gridwidth": 2,
            "linecolor": "white",
            "showbackground": true,
            "ticks": "",
            "zerolinecolor": "white"
           }
          },
          "shapedefaults": {
           "line": {
            "color": "#2a3f5f"
           }
          },
          "ternary": {
           "aaxis": {
            "gridcolor": "white",
            "linecolor": "white",
            "ticks": ""
           },
           "baxis": {
            "gridcolor": "white",
            "linecolor": "white",
            "ticks": ""
           },
           "bgcolor": "#E5ECF6",
           "caxis": {
            "gridcolor": "white",
            "linecolor": "white",
            "ticks": ""
           }
          },
          "title": {
           "x": 0.05
          },
          "xaxis": {
           "automargin": true,
           "gridcolor": "white",
           "linecolor": "white",
           "ticks": "",
           "title": {
            "standoff": 15
           },
           "zerolinecolor": "white",
           "zerolinewidth": 2
          },
          "yaxis": {
           "automargin": true,
           "gridcolor": "white",
           "linecolor": "white",
           "ticks": "",
           "title": {
            "standoff": 15
           },
           "zerolinecolor": "white",
           "zerolinewidth": 2
          }
         }
        },
        "title": {
         "text": "Interaction Distances for fold_c_atp_tub_seed1_model_0 by Residue and Interacting Chain"
        },
        "xaxis": {
         "anchor": "y",
         "categoryarray": [
          "21P",
          "94T",
          "95S",
          "96S",
          "97G",
          "98K",
          "99T",
          "100H",
          "148K",
          "159N",
          "163H",
          "164E",
          "166K",
          "205N",
          "208S",
          "209S",
          "241G",
          "242S",
          "244K",
          "245I",
          "259K",
          "262N",
          "263K",
          "266S",
          "282H",
          "286R",
          "287D",
          "318A",
          "325R",
          "345A",
          "348W",
          "352Y",
          "355E",
          "358K",
          "359N",
          "362L",
          "365K",
          "366V",
          "369L",
          "370E",
          "372E",
          "373L",
          "377R",
          "387Q",
          "388I",
          "390M",
          "393L"
         ],
         "categoryorder": "array",
         "domain": [
          0,
          1
         ],
         "title": {
          "text": "Residue (Number and Identity)"
         }
        },
        "yaxis": {
         "anchor": "x",
         "domain": [
          0,
          1
         ],
         "title": {
          "text": "Distance (angstroms)"
         }
        }
       }
      }
     },
     "metadata": {},
     "output_type": "display_data"
    },
    {
     "name": "stderr",
     "output_type": "stream",
     "text": [
      "/var/folders/08/7vm2c9d11xvc7s0rf383rd480000gn/T/ipykernel_57000/2424036903.py:54: SettingWithCopyWarning:\n",
      "\n",
      "\n",
      "A value is trying to be set on a copy of a slice from a DataFrame.\n",
      "Try using .loc[row_indexer,col_indexer] = value instead\n",
      "\n",
      "See the caveats in the documentation: https://pandas.pydata.org/pandas-docs/stable/user_guide/indexing.html#returning-a-view-versus-a-copy\n",
      "\n"
     ]
    },
    {
     "data": {
      "application/vnd.plotly.v1+json": {
       "config": {
        "plotlyServerURL": "https://plot.ly"
       },
       "data": [
        {
         "customdata": [
          [
           "fold_e_atp_tub_seed1_model_0",
           "437E"
          ],
          [
           "fold_e_atp_tub_seed1_model_0",
           "157E"
          ],
          [
           "fold_e_atp_tub_seed1_model_0",
           "157E"
          ],
          [
           "fold_e_atp_tub_seed1_model_0",
           "410E"
          ],
          [
           "fold_e_atp_tub_seed1_model_0",
           "410E"
          ],
          [
           "fold_e_atp_tub_seed1_model_0",
           "406M"
          ],
          [
           "fold_e_atp_tub_seed1_model_0",
           "424Q"
          ],
          [
           "fold_e_atp_tub_seed1_model_0",
           "424Q"
          ],
          [
           "fold_e_atp_tub_seed1_model_0",
           "417D"
          ],
          [
           "fold_e_atp_tub_seed1_model_0",
           "262R"
          ],
          [
           "fold_e_atp_tub_seed1_model_0",
           "437E"
          ],
          [
           "fold_e_atp_tub_seed1_model_0",
           "94Q"
          ],
          [
           "fold_e_atp_tub_seed1_model_0",
           "94Q"
          ],
          [
           "fold_e_atp_tub_seed1_model_0",
           "74D"
          ],
          [
           "fold_e_atp_tub_seed1_model_0",
           "87P"
          ],
          [
           "fold_e_atp_tub_seed1_model_0",
           "77R"
          ],
          [
           "fold_e_atp_tub_seed1_model_0",
           "88D"
          ],
          [
           "fold_e_atp_tub_seed1_model_0",
           "83Q"
          ],
          [
           "fold_e_atp_tub_seed1_model_0",
           "58K"
          ],
          [
           "fold_e_atp_tub_seed1_model_0",
           "58K"
          ]
         ],
         "hovertemplate": "Interacting Chain=beta-tubulin<br>Residue (Number and Identity)=%{x}<br>Distance (angstroms)=%{y}<br>text=%{text}<br>file=%{customdata[0]}<br>interacting_label=%{customdata[1]}<extra></extra>",
         "legendgroup": "beta-tubulin",
         "marker": {
          "color": "#636efa",
          "opacity": 0.6,
          "size": 10,
          "symbol": "circle"
         },
         "mode": "markers+text",
         "name": "beta-tubulin",
         "orientation": "v",
         "showlegend": true,
         "text": [
          "437E",
          "157E",
          "157E",
          "410E",
          "410E",
          "406M",
          "424Q",
          "424Q",
          "417D",
          "262R",
          "437E",
          "94Q",
          "94Q",
          "74D",
          "87P",
          "77R",
          "88D",
          "83Q",
          "58K",
          "58K"
         ],
         "textposition": "top center",
         "type": "scatter",
         "x": [
          "51K",
          "148K",
          "159N",
          "163H",
          "164E",
          "165D",
          "280K",
          "282H",
          "286R",
          "287D",
          "328R",
          "526N",
          "530S",
          "533K",
          "534L",
          "537E",
          "538K",
          "541F",
          "545E",
          "548L"
         ],
         "xaxis": "x",
         "y": [
          3.184419631958008,
          2.799797296524048,
          3.105865240097046,
          2.8342108726501465,
          2.5280559062957764,
          3.1794562339782715,
          3.4978063106536865,
          2.862626314163208,
          2.5521509647369385,
          3.176405906677246,
          2.7109060287475586,
          2.630460023880005,
          2.8594658374786377,
          2.4675843715667725,
          2.908067464828491,
          2.2084157466888428,
          2.6332504749298096,
          3.27166748046875,
          2.722621440887451,
          3.199802875518799
         ],
         "yaxis": "y"
        },
        {
         "customdata": [
          [
           "fold_e_atp_tub_seed1_model_0",
           "1?"
          ],
          [
           "fold_e_atp_tub_seed1_model_0",
           "1?"
          ],
          [
           "fold_e_atp_tub_seed1_model_0",
           "1?"
          ],
          [
           "fold_e_atp_tub_seed1_model_0",
           "1?"
          ],
          [
           "fold_e_atp_tub_seed1_model_0",
           "1?"
          ],
          [
           "fold_e_atp_tub_seed1_model_0",
           "1?"
          ],
          [
           "fold_e_atp_tub_seed1_model_0",
           "1?"
          ],
          [
           "fold_e_atp_tub_seed1_model_0",
           "1?"
          ],
          [
           "fold_e_atp_tub_seed1_model_0",
           "1?"
          ],
          [
           "fold_e_atp_tub_seed1_model_0",
           "1?"
          ],
          [
           "fold_e_atp_tub_seed1_model_0",
           "1?"
          ]
         ],
         "hovertemplate": "Interacting Chain=ATP<br>Residue (Number and Identity)=%{x}<br>Distance (angstroms)=%{y}<br>text=%{text}<br>file=%{customdata[0]}<br>interacting_label=%{customdata[1]}<extra></extra>",
         "legendgroup": "ATP",
         "marker": {
          "color": "#EF553B",
          "opacity": 0.6,
          "size": 10,
          "symbol": "circle"
         },
         "mode": "markers+text",
         "name": "ATP",
         "orientation": "v",
         "showlegend": true,
         "text": [
          "1?",
          "1?",
          "1?",
          "1?",
          "1?",
          "1?",
          "1?",
          "1?",
          "1?",
          "1?",
          "1?"
         ],
         "textposition": "top center",
         "type": "scatter",
         "x": [
          "94T",
          "95S",
          "96S",
          "97G",
          "98K",
          "99T",
          "100H",
          "205N",
          "208S",
          "209S",
          "241G"
         ],
         "xaxis": "x",
         "y": [
          2.5287439823150635,
          2.865710973739624,
          3.3670592308044434,
          3.0916802883148193,
          2.8252956867218018,
          2.6309244632720947,
          2.8375065326690674,
          3.0233163833618164,
          2.9107367992401123,
          2.781641960144043,
          2.883500099182129
         ],
         "yaxis": "y"
        },
        {
         "customdata": [
          [
           "fold_e_atp_tub_seed1_model_0",
           "414E"
          ],
          [
           "fold_e_atp_tub_seed1_model_0",
           "420E"
          ],
          [
           "fold_e_atp_tub_seed1_model_0",
           "412G"
          ],
          [
           "fold_e_atp_tub_seed1_model_0",
           "112K"
          ],
          [
           "fold_e_atp_tub_seed1_model_0",
           "112K"
          ],
          [
           "fold_e_atp_tub_seed1_model_0",
           "410G"
          ],
          [
           "fold_e_atp_tub_seed1_model_0",
           "409V"
          ],
          [
           "fold_e_atp_tub_seed1_model_0",
           "409V"
          ],
          [
           "fold_e_atp_tub_seed1_model_0",
           "415E"
          ]
         ],
         "hovertemplate": "Interacting Chain=alpha-tubulin<br>Residue (Number and Identity)=%{x}<br>Distance (angstroms)=%{y}<br>text=%{text}<br>file=%{customdata[0]}<br>interacting_label=%{customdata[1]}<extra></extra>",
         "legendgroup": "alpha-tubulin",
         "marker": {
          "color": "#00cc96",
          "opacity": 0.6,
          "size": 10,
          "symbol": "circle"
         },
         "mode": "markers+text",
         "name": "alpha-tubulin",
         "orientation": "v",
         "showlegend": true,
         "text": [
          "414E",
          "420E",
          "412G",
          "112K",
          "112K",
          "410G",
          "409V",
          "409V",
          "415E"
         ],
         "textposition": "top center",
         "type": "scatter",
         "x": [
          "242S",
          "244K",
          "245V",
          "250A",
          "251E",
          "259K",
          "262N",
          "263K",
          "266S"
         ],
         "xaxis": "x",
         "y": [
          3.461801052093506,
          2.546417474746704,
          3.226733684539795,
          3.4412996768951416,
          3.075506687164306,
          3.2275352478027344,
          3.4368579387664795,
          3.3619537353515625,
          2.4706685543060303
         ],
         "yaxis": "y"
        },
        {
         "customdata": [
          [
           "fold_e_atp_tub_seed1_model_0",
           "352L"
          ],
          [
           "fold_e_atp_tub_seed1_model_0",
           "434N"
          ],
          [
           "fold_e_atp_tub_seed1_model_0",
           "436N"
          ],
          [
           "fold_e_atp_tub_seed1_model_0",
           "363K"
          ],
          [
           "fold_e_atp_tub_seed1_model_0",
           "366I"
          ],
          [
           "fold_e_atp_tub_seed1_model_0",
           "358E"
          ],
          [
           "fold_e_atp_tub_seed1_model_0",
           "370E"
          ],
          [
           "fold_e_atp_tub_seed1_model_0",
           "366I"
          ],
          [
           "fold_e_atp_tub_seed1_model_0",
           "375V"
          ],
          [
           "fold_e_atp_tub_seed1_model_0",
           "365Y"
          ],
          [
           "fold_e_atp_tub_seed1_model_0",
           "373S"
          ],
          [
           "fold_e_atp_tub_seed1_model_0",
           "369L"
          ],
          [
           "fold_e_atp_tub_seed1_model_0",
           "127Y"
          ],
          [
           "fold_e_atp_tub_seed1_model_0",
           "181S"
          ],
          [
           "fold_e_atp_tub_seed1_model_0",
           "180V"
          ],
          [
           "fold_e_atp_tub_seed1_model_0",
           "179F"
          ],
          [
           "fold_e_atp_tub_seed1_model_0",
           "502N"
          ],
          [
           "fold_e_atp_tub_seed1_model_0",
           "462K"
          ],
          [
           "fold_e_atp_tub_seed1_model_0",
           "455L"
          ],
          [
           "fold_e_atp_tub_seed1_model_0",
           "452D"
          ],
          [
           "fold_e_atp_tub_seed1_model_0",
           "452D"
          ],
          [
           "fold_e_atp_tub_seed1_model_0",
           "452D"
          ],
          [
           "fold_e_atp_tub_seed1_model_0",
           "447P"
          ],
          [
           "fold_e_atp_tub_seed1_model_0",
           "444V"
          ],
          [
           "fold_e_atp_tub_seed1_model_0",
           "467E"
          ],
          [
           "fold_e_atp_tub_seed1_model_0",
           "463C"
          ],
          [
           "fold_e_atp_tub_seed1_model_0",
           "470L"
          ],
          [
           "fold_e_atp_tub_seed1_model_0",
           "462K"
          ],
          [
           "fold_e_atp_tub_seed1_model_0",
           "470L"
          ],
          [
           "fold_e_atp_tub_seed1_model_0",
           "466L"
          ],
          [
           "fold_e_atp_tub_seed1_model_0",
           "474E"
          ],
          [
           "fold_e_atp_tub_seed1_model_0",
           "473K"
          ],
          [
           "fold_e_atp_tub_seed1_model_0",
           "477K"
          ],
          [
           "fold_e_atp_tub_seed1_model_0",
           "476E"
          ],
          [
           "fold_e_atp_tub_seed1_model_0",
           "168R"
          ],
          [
           "fold_e_atp_tub_seed1_model_0",
           "168R"
          ],
          [
           "fold_e_atp_tub_seed1_model_0",
           "484L"
          ],
          [
           "fold_e_atp_tub_seed1_model_0",
           "164E"
          ],
          [
           "fold_e_atp_tub_seed1_model_0",
           "166K"
          ],
          [
           "fold_e_atp_tub_seed1_model_0",
           "487Q"
          ],
          [
           "fold_e_atp_tub_seed1_model_0",
           "164E"
          ],
          [
           "fold_e_atp_tub_seed1_model_0",
           "484L"
          ],
          [
           "fold_e_atp_tub_seed1_model_0",
           "487Q"
          ],
          [
           "fold_e_atp_tub_seed1_model_0",
           "163H"
          ],
          [
           "fold_e_atp_tub_seed1_model_0",
           "491I"
          ],
          [
           "fold_e_atp_tub_seed1_model_0",
           "494K"
          ],
          [
           "fold_e_atp_tub_seed1_model_0",
           "173K"
          ],
          [
           "fold_e_atp_tub_seed1_model_0",
           "495D"
          ],
          [
           "fold_e_atp_tub_seed1_model_0",
           "494K"
          ],
          [
           "fold_e_atp_tub_seed1_model_0",
           "497E"
          ],
          [
           "fold_e_atp_tub_seed1_model_0",
           "505I"
          ],
          [
           "fold_e_atp_tub_seed1_model_0",
           "501L"
          ],
          [
           "fold_e_atp_tub_seed1_model_0",
           "501L"
          ],
          [
           "fold_e_atp_tub_seed1_model_0",
           "508S"
          ],
          [
           "fold_e_atp_tub_seed1_model_0",
           "512N"
          ],
          [
           "fold_e_atp_tub_seed1_model_0",
           "511I"
          ],
          [
           "fold_e_atp_tub_seed1_model_0",
           "515Y"
          ],
          [
           "fold_e_atp_tub_seed1_model_0",
           "514L"
          ],
          [
           "fold_e_atp_tub_seed1_model_0",
           "518S"
          ],
          [
           "fold_e_atp_tub_seed1_model_0",
           "518S"
          ],
          [
           "fold_e_atp_tub_seed1_model_0",
           "522N"
          ],
          [
           "fold_e_atp_tub_seed1_model_0",
           "522N"
          ],
          [
           "fold_e_atp_tub_seed1_model_0",
           "522N"
          ],
          [
           "fold_e_atp_tub_seed1_model_0",
           "525L"
          ],
          [
           "fold_e_atp_tub_seed1_model_0",
           "529L"
          ],
          [
           "fold_e_atp_tub_seed1_model_0",
           "529L"
          ],
          [
           "fold_e_atp_tub_seed1_model_0",
           "533K"
          ],
          [
           "fold_e_atp_tub_seed1_model_0",
           "532L"
          ],
          [
           "fold_e_atp_tub_seed1_model_0",
           "536L"
          ],
          [
           "fold_e_atp_tub_seed1_model_0",
           "535A"
          ],
          [
           "fold_e_atp_tub_seed1_model_0",
           "539S"
          ],
          [
           "fold_e_atp_tub_seed1_model_0",
           "539S"
          ],
          [
           "fold_e_atp_tub_seed1_model_0",
           "546Q"
          ],
          [
           "fold_e_atp_tub_seed1_model_0",
           "543A"
          ],
          [
           "fold_e_atp_tub_seed1_model_0",
           "550I"
          ],
          [
           "fold_e_atp_tub_seed1_model_0",
           "554N"
          ],
          [
           "fold_e_atp_tub_seed1_model_0",
           "553L"
          ],
          [
           "fold_e_atp_tub_seed1_model_0",
           "561K"
          ],
          [
           "fold_e_atp_tub_seed1_model_0",
           "557N"
          ],
          [
           "fold_e_atp_tub_seed1_model_0",
           "557N"
          ],
          [
           "fold_e_atp_tub_seed1_model_0",
           "556E"
          ],
          [
           "fold_e_atp_tub_seed1_model_0",
           "571I"
          ],
          [
           "fold_e_atp_tub_seed1_model_0",
           "582L"
          ],
          [
           "fold_e_atp_tub_seed1_model_0",
           "567L"
          ],
          [
           "fold_e_atp_tub_seed1_model_0",
           "576D"
          ],
          [
           "fold_e_atp_tub_seed1_model_0",
           "579I"
          ],
          [
           "fold_e_atp_tub_seed1_model_0",
           "570R"
          ]
         ],
         "hovertemplate": "Interacting Chain=kinesin B<br>Residue (Number and Identity)=%{x}<br>Distance (angstroms)=%{y}<br>text=%{text}<br>file=%{customdata[0]}<br>interacting_label=%{customdata[1]}<extra></extra>",
         "legendgroup": "kinesin B",
         "marker": {
          "color": "#ab63fa",
          "opacity": 0.6,
          "size": 10,
          "symbol": "circle"
         },
         "mode": "markers+text",
         "name": "kinesin B",
         "orientation": "v",
         "showlegend": true,
         "text": [
          "352L",
          "434N",
          "436N",
          "363K",
          "366I",
          "358E",
          "370E",
          "366I",
          "375V",
          "365Y",
          "373S",
          "369L",
          "127Y",
          "181S",
          "180V",
          "179F",
          "502N",
          "462K",
          "455L",
          "452D",
          "452D",
          "452D",
          "447P",
          "444V",
          "467E",
          "463C",
          "470L",
          "462K",
          "470L",
          "466L",
          "474E",
          "473K",
          "477K",
          "476E",
          "168R",
          "168R",
          "484L",
          "164E",
          "166K",
          "487Q",
          "164E",
          "484L",
          "487Q",
          "163H",
          "491I",
          "494K",
          "173K",
          "495D",
          "494K",
          "497E",
          "505I",
          "501L",
          "501L",
          "508S",
          "512N",
          "511I",
          "515Y",
          "514L",
          "518S",
          "518S",
          "522N",
          "522N",
          "522N",
          "525L",
          "529L",
          "529L",
          "533K",
          "532L",
          "536L",
          "535A",
          "539S",
          "539S",
          "546Q",
          "543A",
          "550I",
          "554N",
          "553L",
          "561K",
          "557N",
          "557N",
          "556E",
          "571I",
          "582L",
          "567L",
          "576D",
          "579I",
          "570R"
         ],
         "textposition": "top center",
         "type": "scatter",
         "x": [
          "343R",
          "346A",
          "350I",
          "358E",
          "362L",
          "363K",
          "365Y",
          "366I",
          "369L",
          "370E",
          "373S",
          "375V",
          "410S",
          "412L",
          "414N",
          "417N",
          "419T",
          "442T",
          "444V",
          "447P",
          "448T",
          "449S",
          "452D",
          "455L",
          "462K",
          "463C",
          "466L",
          "467E",
          "469Q",
          "470L",
          "473K",
          "474E",
          "476E",
          "477K",
          "478K",
          "479E",
          "480I",
          "482E",
          "483Q",
          "484L",
          "486Q",
          "487Q",
          "488Q",
          "489E",
          "490Q",
          "491I",
          "493D",
          "494K",
          "495D",
          "498I",
          "501L",
          "502N",
          "505I",
          "508S",
          "511I",
          "512N",
          "514L",
          "515Y",
          "518S",
          "519T",
          "521E",
          "522N",
          "525L",
          "526N",
          "528Q",
          "529L",
          "532L",
          "533K",
          "535A",
          "536L",
          "539S",
          "540R",
          "543A",
          "546Q",
          "550I",
          "553L",
          "554N",
          "556E",
          "557N",
          "560I",
          "561K",
          "567L",
          "570R",
          "571I",
          "576D",
          "579I",
          "582L"
         ],
         "xaxis": "x",
         "y": [
          3.4465842247009277,
          2.8396999835968018,
          2.8876588344573975,
          2.8093278408050537,
          3.2901999950408936,
          2.733107089996338,
          3.0287373065948486,
          3.3174901008605957,
          3.0994670391082764,
          3.1663527488708496,
          3.301920175552368,
          3.102061033248902,
          2.769427537918091,
          2.677791118621826,
          1.9963030815124512,
          3.1703574657440186,
          3.464461326599121,
          3.318758964538574,
          2.7065441608428955,
          2.5183475017547607,
          2.9993491172790527,
          2.9479453563690186,
          2.41400408744812,
          2.279536247253418,
          2.956246852874756,
          3.069061517715454,
          3.3601837158203125,
          2.751376152038574,
          3.4237070083618164,
          3.160676956176758,
          2.329824686050415,
          2.135064601898194,
          2.602710247039795,
          2.494206666946411,
          1.655656099319458,
          2.555856943130493,
          2.7976651191711426,
          2.210639715194702,
          1.524584174156189,
          2.627446413040161,
          0.4641919434070587,
          2.7171730995178223,
          2.815976142883301,
          3.0130646228790283,
          3.2626805305480957,
          2.6778368949890137,
          2.550476551055908,
          2.349717140197754,
          2.5176098346710205,
          3.183561086654663,
          2.9373767375946045,
          2.9796030521392822,
          2.7538654804229736,
          2.8576104640960693,
          3.421818971633911,
          3.193009614944458,
          3.2460222244262695,
          3.2209901809692383,
          2.808562994003296,
          3.39302134513855,
          3.377073049545288,
          2.4978554248809814,
          2.8261241912841797,
          2.6191630363464355,
          3.477853298187256,
          3.194706439971924,
          3.493542194366455,
          3.4650471210479736,
          3.127368211746216,
          3.169499158859253,
          2.82503080368042,
          3.165741205215454,
          2.3739094734191895,
          2.4929895401000977,
          3.4231226444244385,
          3.122178077697754,
          3.1834709644317627,
          2.756591320037842,
          2.4945485591888428,
          3.317167282104492,
          2.750396490097046,
          3.2635066509246826,
          2.515754222869873,
          3.4375507831573486,
          3.370548963546753,
          2.2551543712615967,
          2.7249579429626465
         ],
         "yaxis": "y"
        }
       ],
       "layout": {
        "legend": {
         "title": {
          "text": "Interacting Chain"
         },
         "tracegroupgap": 0
        },
        "template": {
         "data": {
          "bar": [
           {
            "error_x": {
             "color": "#2a3f5f"
            },
            "error_y": {
             "color": "#2a3f5f"
            },
            "marker": {
             "line": {
              "color": "#E5ECF6",
              "width": 0.5
             },
             "pattern": {
              "fillmode": "overlay",
              "size": 10,
              "solidity": 0.2
             }
            },
            "type": "bar"
           }
          ],
          "barpolar": [
           {
            "marker": {
             "line": {
              "color": "#E5ECF6",
              "width": 0.5
             },
             "pattern": {
              "fillmode": "overlay",
              "size": 10,
              "solidity": 0.2
             }
            },
            "type": "barpolar"
           }
          ],
          "carpet": [
           {
            "aaxis": {
             "endlinecolor": "#2a3f5f",
             "gridcolor": "white",
             "linecolor": "white",
             "minorgridcolor": "white",
             "startlinecolor": "#2a3f5f"
            },
            "baxis": {
             "endlinecolor": "#2a3f5f",
             "gridcolor": "white",
             "linecolor": "white",
             "minorgridcolor": "white",
             "startlinecolor": "#2a3f5f"
            },
            "type": "carpet"
           }
          ],
          "choropleth": [
           {
            "colorbar": {
             "outlinewidth": 0,
             "ticks": ""
            },
            "type": "choropleth"
           }
          ],
          "contour": [
           {
            "colorbar": {
             "outlinewidth": 0,
             "ticks": ""
            },
            "colorscale": [
             [
              0,
              "#0d0887"
             ],
             [
              0.1111111111111111,
              "#46039f"
             ],
             [
              0.2222222222222222,
              "#7201a8"
             ],
             [
              0.3333333333333333,
              "#9c179e"
             ],
             [
              0.4444444444444444,
              "#bd3786"
             ],
             [
              0.5555555555555556,
              "#d8576b"
             ],
             [
              0.6666666666666666,
              "#ed7953"
             ],
             [
              0.7777777777777778,
              "#fb9f3a"
             ],
             [
              0.8888888888888888,
              "#fdca26"
             ],
             [
              1,
              "#f0f921"
             ]
            ],
            "type": "contour"
           }
          ],
          "contourcarpet": [
           {
            "colorbar": {
             "outlinewidth": 0,
             "ticks": ""
            },
            "type": "contourcarpet"
           }
          ],
          "heatmap": [
           {
            "colorbar": {
             "outlinewidth": 0,
             "ticks": ""
            },
            "colorscale": [
             [
              0,
              "#0d0887"
             ],
             [
              0.1111111111111111,
              "#46039f"
             ],
             [
              0.2222222222222222,
              "#7201a8"
             ],
             [
              0.3333333333333333,
              "#9c179e"
             ],
             [
              0.4444444444444444,
              "#bd3786"
             ],
             [
              0.5555555555555556,
              "#d8576b"
             ],
             [
              0.6666666666666666,
              "#ed7953"
             ],
             [
              0.7777777777777778,
              "#fb9f3a"
             ],
             [
              0.8888888888888888,
              "#fdca26"
             ],
             [
              1,
              "#f0f921"
             ]
            ],
            "type": "heatmap"
           }
          ],
          "heatmapgl": [
           {
            "colorbar": {
             "outlinewidth": 0,
             "ticks": ""
            },
            "colorscale": [
             [
              0,
              "#0d0887"
             ],
             [
              0.1111111111111111,
              "#46039f"
             ],
             [
              0.2222222222222222,
              "#7201a8"
             ],
             [
              0.3333333333333333,
              "#9c179e"
             ],
             [
              0.4444444444444444,
              "#bd3786"
             ],
             [
              0.5555555555555556,
              "#d8576b"
             ],
             [
              0.6666666666666666,
              "#ed7953"
             ],
             [
              0.7777777777777778,
              "#fb9f3a"
             ],
             [
              0.8888888888888888,
              "#fdca26"
             ],
             [
              1,
              "#f0f921"
             ]
            ],
            "type": "heatmapgl"
           }
          ],
          "histogram": [
           {
            "marker": {
             "pattern": {
              "fillmode": "overlay",
              "size": 10,
              "solidity": 0.2
             }
            },
            "type": "histogram"
           }
          ],
          "histogram2d": [
           {
            "colorbar": {
             "outlinewidth": 0,
             "ticks": ""
            },
            "colorscale": [
             [
              0,
              "#0d0887"
             ],
             [
              0.1111111111111111,
              "#46039f"
             ],
             [
              0.2222222222222222,
              "#7201a8"
             ],
             [
              0.3333333333333333,
              "#9c179e"
             ],
             [
              0.4444444444444444,
              "#bd3786"
             ],
             [
              0.5555555555555556,
              "#d8576b"
             ],
             [
              0.6666666666666666,
              "#ed7953"
             ],
             [
              0.7777777777777778,
              "#fb9f3a"
             ],
             [
              0.8888888888888888,
              "#fdca26"
             ],
             [
              1,
              "#f0f921"
             ]
            ],
            "type": "histogram2d"
           }
          ],
          "histogram2dcontour": [
           {
            "colorbar": {
             "outlinewidth": 0,
             "ticks": ""
            },
            "colorscale": [
             [
              0,
              "#0d0887"
             ],
             [
              0.1111111111111111,
              "#46039f"
             ],
             [
              0.2222222222222222,
              "#7201a8"
             ],
             [
              0.3333333333333333,
              "#9c179e"
             ],
             [
              0.4444444444444444,
              "#bd3786"
             ],
             [
              0.5555555555555556,
              "#d8576b"
             ],
             [
              0.6666666666666666,
              "#ed7953"
             ],
             [
              0.7777777777777778,
              "#fb9f3a"
             ],
             [
              0.8888888888888888,
              "#fdca26"
             ],
             [
              1,
              "#f0f921"
             ]
            ],
            "type": "histogram2dcontour"
           }
          ],
          "mesh3d": [
           {
            "colorbar": {
             "outlinewidth": 0,
             "ticks": ""
            },
            "type": "mesh3d"
           }
          ],
          "parcoords": [
           {
            "line": {
             "colorbar": {
              "outlinewidth": 0,
              "ticks": ""
             }
            },
            "type": "parcoords"
           }
          ],
          "pie": [
           {
            "automargin": true,
            "type": "pie"
           }
          ],
          "scatter": [
           {
            "fillpattern": {
             "fillmode": "overlay",
             "size": 10,
             "solidity": 0.2
            },
            "type": "scatter"
           }
          ],
          "scatter3d": [
           {
            "line": {
             "colorbar": {
              "outlinewidth": 0,
              "ticks": ""
             }
            },
            "marker": {
             "colorbar": {
              "outlinewidth": 0,
              "ticks": ""
             }
            },
            "type": "scatter3d"
           }
          ],
          "scattercarpet": [
           {
            "marker": {
             "colorbar": {
              "outlinewidth": 0,
              "ticks": ""
             }
            },
            "type": "scattercarpet"
           }
          ],
          "scattergeo": [
           {
            "marker": {
             "colorbar": {
              "outlinewidth": 0,
              "ticks": ""
             }
            },
            "type": "scattergeo"
           }
          ],
          "scattergl": [
           {
            "marker": {
             "colorbar": {
              "outlinewidth": 0,
              "ticks": ""
             }
            },
            "type": "scattergl"
           }
          ],
          "scattermapbox": [
           {
            "marker": {
             "colorbar": {
              "outlinewidth": 0,
              "ticks": ""
             }
            },
            "type": "scattermapbox"
           }
          ],
          "scatterpolar": [
           {
            "marker": {
             "colorbar": {
              "outlinewidth": 0,
              "ticks": ""
             }
            },
            "type": "scatterpolar"
           }
          ],
          "scatterpolargl": [
           {
            "marker": {
             "colorbar": {
              "outlinewidth": 0,
              "ticks": ""
             }
            },
            "type": "scatterpolargl"
           }
          ],
          "scatterternary": [
           {
            "marker": {
             "colorbar": {
              "outlinewidth": 0,
              "ticks": ""
             }
            },
            "type": "scatterternary"
           }
          ],
          "surface": [
           {
            "colorbar": {
             "outlinewidth": 0,
             "ticks": ""
            },
            "colorscale": [
             [
              0,
              "#0d0887"
             ],
             [
              0.1111111111111111,
              "#46039f"
             ],
             [
              0.2222222222222222,
              "#7201a8"
             ],
             [
              0.3333333333333333,
              "#9c179e"
             ],
             [
              0.4444444444444444,
              "#bd3786"
             ],
             [
              0.5555555555555556,
              "#d8576b"
             ],
             [
              0.6666666666666666,
              "#ed7953"
             ],
             [
              0.7777777777777778,
              "#fb9f3a"
             ],
             [
              0.8888888888888888,
              "#fdca26"
             ],
             [
              1,
              "#f0f921"
             ]
            ],
            "type": "surface"
           }
          ],
          "table": [
           {
            "cells": {
             "fill": {
              "color": "#EBF0F8"
             },
             "line": {
              "color": "white"
             }
            },
            "header": {
             "fill": {
              "color": "#C8D4E3"
             },
             "line": {
              "color": "white"
             }
            },
            "type": "table"
           }
          ]
         },
         "layout": {
          "annotationdefaults": {
           "arrowcolor": "#2a3f5f",
           "arrowhead": 0,
           "arrowwidth": 1
          },
          "autotypenumbers": "strict",
          "coloraxis": {
           "colorbar": {
            "outlinewidth": 0,
            "ticks": ""
           }
          },
          "colorscale": {
           "diverging": [
            [
             0,
             "#8e0152"
            ],
            [
             0.1,
             "#c51b7d"
            ],
            [
             0.2,
             "#de77ae"
            ],
            [
             0.3,
             "#f1b6da"
            ],
            [
             0.4,
             "#fde0ef"
            ],
            [
             0.5,
             "#f7f7f7"
            ],
            [
             0.6,
             "#e6f5d0"
            ],
            [
             0.7,
             "#b8e186"
            ],
            [
             0.8,
             "#7fbc41"
            ],
            [
             0.9,
             "#4d9221"
            ],
            [
             1,
             "#276419"
            ]
           ],
           "sequential": [
            [
             0,
             "#0d0887"
            ],
            [
             0.1111111111111111,
             "#46039f"
            ],
            [
             0.2222222222222222,
             "#7201a8"
            ],
            [
             0.3333333333333333,
             "#9c179e"
            ],
            [
             0.4444444444444444,
             "#bd3786"
            ],
            [
             0.5555555555555556,
             "#d8576b"
            ],
            [
             0.6666666666666666,
             "#ed7953"
            ],
            [
             0.7777777777777778,
             "#fb9f3a"
            ],
            [
             0.8888888888888888,
             "#fdca26"
            ],
            [
             1,
             "#f0f921"
            ]
           ],
           "sequentialminus": [
            [
             0,
             "#0d0887"
            ],
            [
             0.1111111111111111,
             "#46039f"
            ],
            [
             0.2222222222222222,
             "#7201a8"
            ],
            [
             0.3333333333333333,
             "#9c179e"
            ],
            [
             0.4444444444444444,
             "#bd3786"
            ],
            [
             0.5555555555555556,
             "#d8576b"
            ],
            [
             0.6666666666666666,
             "#ed7953"
            ],
            [
             0.7777777777777778,
             "#fb9f3a"
            ],
            [
             0.8888888888888888,
             "#fdca26"
            ],
            [
             1,
             "#f0f921"
            ]
           ]
          },
          "colorway": [
           "#636efa",
           "#EF553B",
           "#00cc96",
           "#ab63fa",
           "#FFA15A",
           "#19d3f3",
           "#FF6692",
           "#B6E880",
           "#FF97FF",
           "#FECB52"
          ],
          "font": {
           "color": "#2a3f5f"
          },
          "geo": {
           "bgcolor": "white",
           "lakecolor": "white",
           "landcolor": "#E5ECF6",
           "showlakes": true,
           "showland": true,
           "subunitcolor": "white"
          },
          "hoverlabel": {
           "align": "left"
          },
          "hovermode": "closest",
          "mapbox": {
           "style": "light"
          },
          "paper_bgcolor": "white",
          "plot_bgcolor": "#E5ECF6",
          "polar": {
           "angularaxis": {
            "gridcolor": "white",
            "linecolor": "white",
            "ticks": ""
           },
           "bgcolor": "#E5ECF6",
           "radialaxis": {
            "gridcolor": "white",
            "linecolor": "white",
            "ticks": ""
           }
          },
          "scene": {
           "xaxis": {
            "backgroundcolor": "#E5ECF6",
            "gridcolor": "white",
            "gridwidth": 2,
            "linecolor": "white",
            "showbackground": true,
            "ticks": "",
            "zerolinecolor": "white"
           },
           "yaxis": {
            "backgroundcolor": "#E5ECF6",
            "gridcolor": "white",
            "gridwidth": 2,
            "linecolor": "white",
            "showbackground": true,
            "ticks": "",
            "zerolinecolor": "white"
           },
           "zaxis": {
            "backgroundcolor": "#E5ECF6",
            "gridcolor": "white",
            "gridwidth": 2,
            "linecolor": "white",
            "showbackground": true,
            "ticks": "",
            "zerolinecolor": "white"
           }
          },
          "shapedefaults": {
           "line": {
            "color": "#2a3f5f"
           }
          },
          "ternary": {
           "aaxis": {
            "gridcolor": "white",
            "linecolor": "white",
            "ticks": ""
           },
           "baxis": {
            "gridcolor": "white",
            "linecolor": "white",
            "ticks": ""
           },
           "bgcolor": "#E5ECF6",
           "caxis": {
            "gridcolor": "white",
            "linecolor": "white",
            "ticks": ""
           }
          },
          "title": {
           "x": 0.05
          },
          "xaxis": {
           "automargin": true,
           "gridcolor": "white",
           "linecolor": "white",
           "ticks": "",
           "title": {
            "standoff": 15
           },
           "zerolinecolor": "white",
           "zerolinewidth": 2
          },
          "yaxis": {
           "automargin": true,
           "gridcolor": "white",
           "linecolor": "white",
           "ticks": "",
           "title": {
            "standoff": 15
           },
           "zerolinecolor": "white",
           "zerolinewidth": 2
          }
         }
        },
        "title": {
         "text": "Interaction Distances for fold_e_atp_tub_seed1_model_0 by Residue and Interacting Chain"
        },
        "xaxis": {
         "anchor": "y",
         "categoryarray": [
          "51K",
          "94T",
          "95S",
          "96S",
          "97G",
          "98K",
          "99T",
          "100H",
          "148K",
          "159N",
          "163H",
          "164E",
          "165D",
          "205N",
          "208S",
          "209S",
          "241G",
          "242S",
          "244K",
          "245V",
          "250A",
          "251E",
          "259K",
          "262N",
          "263K",
          "266S",
          "280K",
          "282H",
          "286R",
          "287D",
          "328R",
          "343R",
          "346A",
          "350I",
          "358E",
          "362L",
          "363K",
          "365Y",
          "366I",
          "369L",
          "370E",
          "373S",
          "375V",
          "410S",
          "412L",
          "414N",
          "417N",
          "419T",
          "442T",
          "444V",
          "447P",
          "448T",
          "449S",
          "452D",
          "455L",
          "462K",
          "463C",
          "466L",
          "467E",
          "469Q",
          "470L",
          "473K",
          "474E",
          "476E",
          "477K",
          "478K",
          "479E",
          "480I",
          "482E",
          "483Q",
          "484L",
          "486Q",
          "487Q",
          "488Q",
          "489E",
          "490Q",
          "491I",
          "493D",
          "494K",
          "495D",
          "498I",
          "501L",
          "502N",
          "505I",
          "508S",
          "511I",
          "512N",
          "514L",
          "515Y",
          "518S",
          "519T",
          "521E",
          "522N",
          "525L",
          "526N",
          "528Q",
          "529L",
          "530S",
          "532L",
          "533K",
          "534L",
          "535A",
          "536L",
          "537E",
          "538K",
          "539S",
          "540R",
          "541F",
          "543A",
          "545E",
          "546Q",
          "548L",
          "550I",
          "553L",
          "554N",
          "556E",
          "557N",
          "560I",
          "561K",
          "567L",
          "570R",
          "571I",
          "576D",
          "579I",
          "582L"
         ],
         "categoryorder": "array",
         "domain": [
          0,
          1
         ],
         "title": {
          "text": "Residue (Number and Identity)"
         }
        },
        "yaxis": {
         "anchor": "x",
         "domain": [
          0,
          1
         ],
         "title": {
          "text": "Distance (angstroms)"
         }
        }
       }
      }
     },
     "metadata": {},
     "output_type": "display_data"
    },
    {
     "name": "stderr",
     "output_type": "stream",
     "text": [
      "/var/folders/08/7vm2c9d11xvc7s0rf383rd480000gn/T/ipykernel_57000/2424036903.py:54: SettingWithCopyWarning:\n",
      "\n",
      "\n",
      "A value is trying to be set on a copy of a slice from a DataFrame.\n",
      "Try using .loc[row_indexer,col_indexer] = value instead\n",
      "\n",
      "See the caveats in the documentation: https://pandas.pydata.org/pandas-docs/stable/user_guide/indexing.html#returning-a-view-versus-a-copy\n",
      "\n"
     ]
    },
    {
     "data": {
      "application/vnd.plotly.v1+json": {
       "config": {
        "plotlyServerURL": "https://plot.ly"
       },
       "data": [
        {
         "customdata": [
          [
           "fold_f_atp_tub_seed1_model_0",
           "1?"
          ],
          [
           "fold_f_atp_tub_seed1_model_0",
           "1?"
          ],
          [
           "fold_f_atp_tub_seed1_model_0",
           "1?"
          ],
          [
           "fold_f_atp_tub_seed1_model_0",
           "1?"
          ],
          [
           "fold_f_atp_tub_seed1_model_0",
           "1?"
          ],
          [
           "fold_f_atp_tub_seed1_model_0",
           "1?"
          ],
          [
           "fold_f_atp_tub_seed1_model_0",
           "1?"
          ],
          [
           "fold_f_atp_tub_seed1_model_0",
           "1?"
          ],
          [
           "fold_f_atp_tub_seed1_model_0",
           "1?"
          ],
          [
           "fold_f_atp_tub_seed1_model_0",
           "1?"
          ],
          [
           "fold_f_atp_tub_seed1_model_0",
           "1?"
          ]
         ],
         "hovertemplate": "Interacting Chain=ATP<br>Residue (Number and Identity)=%{x}<br>Distance (angstroms)=%{y}<br>text=%{text}<br>file=%{customdata[0]}<br>interacting_label=%{customdata[1]}<extra></extra>",
         "legendgroup": "ATP",
         "marker": {
          "color": "#636efa",
          "opacity": 0.6,
          "size": 10,
          "symbol": "circle"
         },
         "mode": "markers+text",
         "name": "ATP",
         "orientation": "v",
         "showlegend": true,
         "text": [
          "1?",
          "1?",
          "1?",
          "1?",
          "1?",
          "1?",
          "1?",
          "1?",
          "1?",
          "1?",
          "1?"
         ],
         "textposition": "top center",
         "type": "scatter",
         "x": [
          "87T",
          "88G",
          "89S",
          "90G",
          "91K",
          "92T",
          "93F",
          "201N",
          "204S",
          "205S",
          "237G"
         ],
         "xaxis": "x",
         "y": [
          2.542696952819824,
          2.785813331604004,
          3.339068651199341,
          2.9566404819488525,
          2.72760272026062,
          2.7561256885528564,
          2.7563605308532715,
          2.9401934146881104,
          3.0313405990600586,
          2.9123504161834717,
          2.9134490489959717
         ],
         "yaxis": "y"
        },
        {
         "customdata": [
          [
           "fold_f_atp_tub_seed1_model_0",
           "157E"
          ],
          [
           "fold_f_atp_tub_seed1_model_0",
           "407E"
          ],
          [
           "fold_f_atp_tub_seed1_model_0",
           "410E"
          ],
          [
           "fold_f_atp_tub_seed1_model_0",
           "410E"
          ],
          [
           "fold_f_atp_tub_seed1_model_0",
           "424Q"
          ],
          [
           "fold_f_atp_tub_seed1_model_0",
           "417D"
          ],
          [
           "fold_f_atp_tub_seed1_model_0",
           "262R"
          ],
          [
           "fold_f_atp_tub_seed1_model_0",
           "194E"
          ],
          [
           "fold_f_atp_tub_seed1_model_0",
           "440E"
          ]
         ],
         "hovertemplate": "Interacting Chain=beta-tubulin<br>Residue (Number and Identity)=%{x}<br>Distance (angstroms)=%{y}<br>text=%{text}<br>file=%{customdata[0]}<br>interacting_label=%{customdata[1]}<extra></extra>",
         "legendgroup": "beta-tubulin",
         "marker": {
          "color": "#EF553B",
          "opacity": 0.6,
          "size": 10,
          "symbol": "circle"
         },
         "mode": "markers+text",
         "name": "beta-tubulin",
         "orientation": "v",
         "showlegend": true,
         "text": [
          "157E",
          "407E",
          "410E",
          "410E",
          "424Q",
          "417D",
          "262R",
          "194E",
          "440E"
         ],
         "textposition": "top center",
         "type": "scatter",
         "x": [
          "144R",
          "157K",
          "158V",
          "159R",
          "278H",
          "282R",
          "283D",
          "285K",
          "324R"
         ],
         "xaxis": "x",
         "y": [
          2.659912109375,
          3.442375659942627,
          2.159226417541504,
          2.827061414718628,
          2.5261716842651367,
          2.3471994400024414,
          3.24949312210083,
          3.3346869945526123,
          2.4401464462280273
         ],
         "yaxis": "y"
        },
        {
         "customdata": [
          [
           "fold_f_atp_tub_seed1_model_0",
           "420E"
          ],
          [
           "fold_f_atp_tub_seed1_model_0",
           "412G"
          ],
          [
           "fold_f_atp_tub_seed1_model_0",
           "410G"
          ],
          [
           "fold_f_atp_tub_seed1_model_0",
           "409V"
          ],
          [
           "fold_f_atp_tub_seed1_model_0",
           "409V"
          ],
          [
           "fold_f_atp_tub_seed1_model_0",
           "415E"
          ],
          [
           "fold_f_atp_tub_seed1_model_0",
           "402R"
          ],
          [
           "fold_f_atp_tub_seed1_model_0",
           "420E"
          ],
          [
           "fold_f_atp_tub_seed1_model_0",
           "423E"
          ]
         ],
         "hovertemplate": "Interacting Chain=alpha-tubulin<br>Residue (Number and Identity)=%{x}<br>Distance (angstroms)=%{y}<br>text=%{text}<br>file=%{customdata[0]}<br>interacting_label=%{customdata[1]}<extra></extra>",
         "legendgroup": "alpha-tubulin",
         "marker": {
          "color": "#00cc96",
          "opacity": 0.6,
          "size": 10,
          "symbol": "circle"
         },
         "mode": "markers+text",
         "name": "alpha-tubulin",
         "orientation": "v",
         "showlegend": true,
         "text": [
          "420E",
          "412G",
          "410G",
          "409V",
          "409V",
          "415E",
          "402R",
          "420E",
          "423E"
         ],
         "textposition": "top center",
         "type": "scatter",
         "x": [
          "240K",
          "241V",
          "255K",
          "258N",
          "259K",
          "262S",
          "266N",
          "314S",
          "317K"
         ],
         "xaxis": "x",
         "y": [
          2.581639289855957,
          3.096024751663208,
          3.244494676589966,
          3.4647717475891113,
          3.361392021179199,
          2.327378273010254,
          3.253309965133667,
          3.3999710083007812,
          2.7135536670684814
         ],
         "yaxis": "y"
        },
        {
         "customdata": [
          [
           "fold_f_atp_tub_seed1_model_0",
           "344L"
          ],
          [
           "fold_f_atp_tub_seed1_model_0",
           "341A"
          ],
          [
           "fold_f_atp_tub_seed1_model_0",
           "338E"
          ],
          [
           "fold_f_atp_tub_seed1_model_0",
           "348L"
          ],
          [
           "fold_f_atp_tub_seed1_model_0",
           "347L"
          ],
          [
           "fold_f_atp_tub_seed1_model_0",
           "355I"
          ],
          [
           "fold_f_atp_tub_seed1_model_0",
           "359K"
          ],
          [
           "fold_f_atp_tub_seed1_model_0",
           "351A"
          ],
          [
           "fold_f_atp_tub_seed1_model_0",
           "162K"
          ],
          [
           "fold_f_atp_tub_seed1_model_0",
           "362I"
          ],
          [
           "fold_f_atp_tub_seed1_model_0",
           "354E"
          ],
          [
           "fold_f_atp_tub_seed1_model_0",
           "366E"
          ],
          [
           "fold_f_atp_tub_seed1_model_0",
           "358L"
          ],
          [
           "fold_f_atp_tub_seed1_model_0",
           "371V"
          ],
          [
           "fold_f_atp_tub_seed1_model_0",
           "361Y"
          ],
          [
           "fold_f_atp_tub_seed1_model_0",
           "376L"
          ],
          [
           "fold_f_atp_tub_seed1_model_0",
           "365L"
          ],
          [
           "fold_f_atp_tub_seed1_model_0",
           "461Q"
          ],
          [
           "fold_f_atp_tub_seed1_model_0",
           "461Q"
          ],
          [
           "fold_f_atp_tub_seed1_model_0",
           "457E"
          ],
          [
           "fold_f_atp_tub_seed1_model_0",
           "368V"
          ],
          [
           "fold_f_atp_tub_seed1_model_0",
           "364E"
          ],
          [
           "fold_f_atp_tub_seed1_model_0",
           "457E"
          ],
          [
           "fold_f_atp_tub_seed1_model_0",
           "448D"
          ],
          [
           "fold_f_atp_tub_seed1_model_0",
           "444T"
          ],
          [
           "fold_f_atp_tub_seed1_model_0",
           "452I"
          ],
          [
           "fold_f_atp_tub_seed1_model_0",
           "459C"
          ],
          [
           "fold_f_atp_tub_seed1_model_0",
           "463E"
          ],
          [
           "fold_f_atp_tub_seed1_model_0",
           "459C"
          ],
          [
           "fold_f_atp_tub_seed1_model_0",
           "458K"
          ],
          [
           "fold_f_atp_tub_seed1_model_0",
           "466L"
          ],
          [
           "fold_f_atp_tub_seed1_model_0",
           "466L"
          ],
          [
           "fold_f_atp_tub_seed1_model_0",
           "470E"
          ],
          [
           "fold_f_atp_tub_seed1_model_0",
           "469K"
          ],
          [
           "fold_f_atp_tub_seed1_model_0",
           "473K"
          ],
          [
           "fold_f_atp_tub_seed1_model_0",
           "472E"
          ],
          [
           "fold_f_atp_tub_seed1_model_0",
           "473K"
          ],
          [
           "fold_f_atp_tub_seed1_model_0",
           "350K"
          ],
          [
           "fold_f_atp_tub_seed1_model_0",
           "480L"
          ],
          [
           "fold_f_atp_tub_seed1_model_0",
           "483Q"
          ],
          [
           "fold_f_atp_tub_seed1_model_0",
           "347L"
          ],
          [
           "fold_f_atp_tub_seed1_model_0",
           "343E"
          ],
          [
           "fold_f_atp_tub_seed1_model_0",
           "484Q"
          ],
          [
           "fold_f_atp_tub_seed1_model_0",
           "483Q"
          ],
          [
           "fold_f_atp_tub_seed1_model_0",
           "340S"
          ],
          [
           "fold_f_atp_tub_seed1_model_0",
           "487I"
          ],
          [
           "fold_f_atp_tub_seed1_model_0",
           "490K"
          ],
          [
           "fold_f_atp_tub_seed1_model_0",
           "342A"
          ],
          [
           "fold_f_atp_tub_seed1_model_0",
           "222N"
          ],
          [
           "fold_f_atp_tub_seed1_model_0",
           "491D"
          ],
          [
           "fold_f_atp_tub_seed1_model_0",
           "490K"
          ],
          [
           "fold_f_atp_tub_seed1_model_0",
           "223Q"
          ],
          [
           "fold_f_atp_tub_seed1_model_0",
           "494I"
          ],
          [
           "fold_f_atp_tub_seed1_model_0",
           "490K"
          ],
          [
           "fold_f_atp_tub_seed1_model_0",
           "501I"
          ],
          [
           "fold_f_atp_tub_seed1_model_0",
           "497L"
          ],
          [
           "fold_f_atp_tub_seed1_model_0",
           "497L"
          ],
          [
           "fold_f_atp_tub_seed1_model_0",
           "504S"
          ],
          [
           "fold_f_atp_tub_seed1_model_0",
           "511Y"
          ],
          [
           "fold_f_atp_tub_seed1_model_0",
           "510L"
          ],
          [
           "fold_f_atp_tub_seed1_model_0",
           "514S"
          ],
          [
           "fold_f_atp_tub_seed1_model_0",
           "518N"
          ],
          [
           "fold_f_atp_tub_seed1_model_0",
           "518N"
          ],
          [
           "fold_f_atp_tub_seed1_model_0",
           "518N"
          ],
          [
           "fold_f_atp_tub_seed1_model_0",
           "521L"
          ],
          [
           "fold_f_atp_tub_seed1_model_0",
           "521L"
          ],
          [
           "fold_f_atp_tub_seed1_model_0",
           "532L"
          ],
          [
           "fold_f_atp_tub_seed1_model_0",
           "532L"
          ],
          [
           "fold_f_atp_tub_seed1_model_0",
           "535S"
          ],
          [
           "fold_f_atp_tub_seed1_model_0",
           "542Q"
          ],
          [
           "fold_f_atp_tub_seed1_model_0",
           "539A"
          ],
          [
           "fold_f_atp_tub_seed1_model_0",
           "546I"
          ],
          [
           "fold_f_atp_tub_seed1_model_0",
           "550N"
          ],
          [
           "fold_f_atp_tub_seed1_model_0",
           "549L"
          ],
          [
           "fold_f_atp_tub_seed1_model_0",
           "557K"
          ],
          [
           "fold_f_atp_tub_seed1_model_0",
           "553N"
          ],
          [
           "fold_f_atp_tub_seed1_model_0",
           "556I"
          ],
          [
           "fold_f_atp_tub_seed1_model_0",
           "552E"
          ],
          [
           "fold_f_atp_tub_seed1_model_0",
           "560L"
          ],
          [
           "fold_f_atp_tub_seed1_model_0",
           "563L"
          ],
          [
           "fold_f_atp_tub_seed1_model_0",
           "578L"
          ],
          [
           "fold_f_atp_tub_seed1_model_0",
           "575I"
          ],
          [
           "fold_f_atp_tub_seed1_model_0",
           "566R"
          ]
         ],
         "hovertemplate": "Interacting Chain=kinesin B<br>Residue (Number and Identity)=%{x}<br>Distance (angstroms)=%{y}<br>text=%{text}<br>file=%{customdata[0]}<br>interacting_label=%{customdata[1]}<extra></extra>",
         "legendgroup": "kinesin B",
         "marker": {
          "color": "#ab63fa",
          "opacity": 0.6,
          "size": 10,
          "symbol": "circle"
         },
         "mode": "markers+text",
         "name": "kinesin B",
         "orientation": "v",
         "showlegend": true,
         "text": [
          "344L",
          "341A",
          "338E",
          "348L",
          "347L",
          "355I",
          "359K",
          "351A",
          "162K",
          "362I",
          "354E",
          "366E",
          "358L",
          "371V",
          "361Y",
          "376L",
          "365L",
          "461Q",
          "461Q",
          "457E",
          "368V",
          "364E",
          "457E",
          "448D",
          "444T",
          "452I",
          "459C",
          "463E",
          "459C",
          "458K",
          "466L",
          "466L",
          "470E",
          "469K",
          "473K",
          "472E",
          "473K",
          "350K",
          "480L",
          "483Q",
          "347L",
          "343E",
          "484Q",
          "483Q",
          "340S",
          "487I",
          "490K",
          "342A",
          "222N",
          "491D",
          "490K",
          "223Q",
          "494I",
          "490K",
          "501I",
          "497L",
          "497L",
          "504S",
          "511Y",
          "510L",
          "514S",
          "518N",
          "518N",
          "518N",
          "521L",
          "521L",
          "532L",
          "532L",
          "535S",
          "542Q",
          "539A",
          "546I",
          "550N",
          "549L",
          "557K",
          "553N",
          "556I",
          "552E",
          "560L",
          "563L",
          "578L",
          "575I",
          "566R"
         ],
         "textposition": "top center",
         "type": "scatter",
         "x": [
          "341A",
          "344L",
          "345K",
          "347L",
          "348L",
          "351A",
          "354E",
          "355I",
          "356E",
          "358L",
          "359K",
          "361Y",
          "362I",
          "365L",
          "366E",
          "368V",
          "371V",
          "373V",
          "374S",
          "375N",
          "376L",
          "377K",
          "378S",
          "444T",
          "448D",
          "452I",
          "455L",
          "458K",
          "459C",
          "463E",
          "465Q",
          "466L",
          "469K",
          "470E",
          "472E",
          "473K",
          "476I",
          "477L",
          "479Q",
          "480L",
          "481E",
          "482Q",
          "483Q",
          "484Q",
          "485E",
          "486Q",
          "487I",
          "488Q",
          "489D",
          "490K",
          "491D",
          "492Q",
          "493E",
          "494I",
          "497L",
          "498N",
          "501I",
          "504S",
          "510L",
          "511Y",
          "514S",
          "517E",
          "518N",
          "521L",
          "522N",
          "525L",
          "531A",
          "532L",
          "535S",
          "539A",
          "542Q",
          "546I",
          "549L",
          "550N",
          "552E",
          "553N",
          "556I",
          "557K",
          "560L",
          "563L",
          "566R",
          "575I",
          "578L"
         ],
         "xaxis": "x",
         "y": [
          3.1672523021698,
          2.819380283355713,
          2.920363664627075,
          3.464143753051758,
          3.347780466079712,
          3.4679648876190186,
          2.7725844383239746,
          3.452316999435425,
          2.658996820449829,
          3.306603193283081,
          2.6519646644592285,
          2.6610894203186035,
          3.3148040771484375,
          2.9597132205963135,
          2.8133668899536133,
          2.686612367630005,
          3.120591878890991,
          2.082266092300415,
          1.9554407596588137,
          2.474062204360962,
          2.8292860984802246,
          3.031528949737549,
          1.7498466968536377,
          2.3830008506774902,
          2.386533737182617,
          3.423638820648194,
          3.4863955974578857,
          2.6257355213165283,
          2.997615337371826,
          2.634763479232788,
          3.2427241802215576,
          3.0442609786987305,
          2.589138984680176,
          2.580317497253418,
          2.60253643989563,
          2.68637752532959,
          2.969231605529785,
          2.3736300468444824,
          3.2871105670928955,
          2.6184844970703125,
          2.0390546321868896,
          3.227039098739624,
          2.6354708671569824,
          2.1676480770111084,
          2.177757740020752,
          3.3629465103149414,
          2.7733194828033447,
          1.8606135845184328,
          2.9420857429504395,
          2.521277904510498,
          2.564666748046875,
          3.454831123352051,
          3.366765022277832,
          3.3134779930114746,
          2.8268046379089355,
          3.2346081733703613,
          2.8658788204193115,
          2.806316375732422,
          3.3879876136779785,
          3.2813076972961426,
          2.65964412689209,
          3.446949243545532,
          2.223766326904297,
          2.9560561180114746,
          3.357943058013916,
          3.444593667984009,
          3.3830044269561768,
          3.3371646404266357,
          2.747312307357788,
          2.8122639656066895,
          2.8175299167633057,
          3.3347859382629395,
          3.18597674369812,
          3.2075884342193604,
          2.678142786026001,
          2.0269479751586914,
          3.2745745182037354,
          2.805570125579834,
          3.1412432193756104,
          3.196798801422119,
          3.00905442237854,
          2.929402112960815,
          3.235168933868408
         ],
         "yaxis": "y"
        }
       ],
       "layout": {
        "legend": {
         "title": {
          "text": "Interacting Chain"
         },
         "tracegroupgap": 0
        },
        "template": {
         "data": {
          "bar": [
           {
            "error_x": {
             "color": "#2a3f5f"
            },
            "error_y": {
             "color": "#2a3f5f"
            },
            "marker": {
             "line": {
              "color": "#E5ECF6",
              "width": 0.5
             },
             "pattern": {
              "fillmode": "overlay",
              "size": 10,
              "solidity": 0.2
             }
            },
            "type": "bar"
           }
          ],
          "barpolar": [
           {
            "marker": {
             "line": {
              "color": "#E5ECF6",
              "width": 0.5
             },
             "pattern": {
              "fillmode": "overlay",
              "size": 10,
              "solidity": 0.2
             }
            },
            "type": "barpolar"
           }
          ],
          "carpet": [
           {
            "aaxis": {
             "endlinecolor": "#2a3f5f",
             "gridcolor": "white",
             "linecolor": "white",
             "minorgridcolor": "white",
             "startlinecolor": "#2a3f5f"
            },
            "baxis": {
             "endlinecolor": "#2a3f5f",
             "gridcolor": "white",
             "linecolor": "white",
             "minorgridcolor": "white",
             "startlinecolor": "#2a3f5f"
            },
            "type": "carpet"
           }
          ],
          "choropleth": [
           {
            "colorbar": {
             "outlinewidth": 0,
             "ticks": ""
            },
            "type": "choropleth"
           }
          ],
          "contour": [
           {
            "colorbar": {
             "outlinewidth": 0,
             "ticks": ""
            },
            "colorscale": [
             [
              0,
              "#0d0887"
             ],
             [
              0.1111111111111111,
              "#46039f"
             ],
             [
              0.2222222222222222,
              "#7201a8"
             ],
             [
              0.3333333333333333,
              "#9c179e"
             ],
             [
              0.4444444444444444,
              "#bd3786"
             ],
             [
              0.5555555555555556,
              "#d8576b"
             ],
             [
              0.6666666666666666,
              "#ed7953"
             ],
             [
              0.7777777777777778,
              "#fb9f3a"
             ],
             [
              0.8888888888888888,
              "#fdca26"
             ],
             [
              1,
              "#f0f921"
             ]
            ],
            "type": "contour"
           }
          ],
          "contourcarpet": [
           {
            "colorbar": {
             "outlinewidth": 0,
             "ticks": ""
            },
            "type": "contourcarpet"
           }
          ],
          "heatmap": [
           {
            "colorbar": {
             "outlinewidth": 0,
             "ticks": ""
            },
            "colorscale": [
             [
              0,
              "#0d0887"
             ],
             [
              0.1111111111111111,
              "#46039f"
             ],
             [
              0.2222222222222222,
              "#7201a8"
             ],
             [
              0.3333333333333333,
              "#9c179e"
             ],
             [
              0.4444444444444444,
              "#bd3786"
             ],
             [
              0.5555555555555556,
              "#d8576b"
             ],
             [
              0.6666666666666666,
              "#ed7953"
             ],
             [
              0.7777777777777778,
              "#fb9f3a"
             ],
             [
              0.8888888888888888,
              "#fdca26"
             ],
             [
              1,
              "#f0f921"
             ]
            ],
            "type": "heatmap"
           }
          ],
          "heatmapgl": [
           {
            "colorbar": {
             "outlinewidth": 0,
             "ticks": ""
            },
            "colorscale": [
             [
              0,
              "#0d0887"
             ],
             [
              0.1111111111111111,
              "#46039f"
             ],
             [
              0.2222222222222222,
              "#7201a8"
             ],
             [
              0.3333333333333333,
              "#9c179e"
             ],
             [
              0.4444444444444444,
              "#bd3786"
             ],
             [
              0.5555555555555556,
              "#d8576b"
             ],
             [
              0.6666666666666666,
              "#ed7953"
             ],
             [
              0.7777777777777778,
              "#fb9f3a"
             ],
             [
              0.8888888888888888,
              "#fdca26"
             ],
             [
              1,
              "#f0f921"
             ]
            ],
            "type": "heatmapgl"
           }
          ],
          "histogram": [
           {
            "marker": {
             "pattern": {
              "fillmode": "overlay",
              "size": 10,
              "solidity": 0.2
             }
            },
            "type": "histogram"
           }
          ],
          "histogram2d": [
           {
            "colorbar": {
             "outlinewidth": 0,
             "ticks": ""
            },
            "colorscale": [
             [
              0,
              "#0d0887"
             ],
             [
              0.1111111111111111,
              "#46039f"
             ],
             [
              0.2222222222222222,
              "#7201a8"
             ],
             [
              0.3333333333333333,
              "#9c179e"
             ],
             [
              0.4444444444444444,
              "#bd3786"
             ],
             [
              0.5555555555555556,
              "#d8576b"
             ],
             [
              0.6666666666666666,
              "#ed7953"
             ],
             [
              0.7777777777777778,
              "#fb9f3a"
             ],
             [
              0.8888888888888888,
              "#fdca26"
             ],
             [
              1,
              "#f0f921"
             ]
            ],
            "type": "histogram2d"
           }
          ],
          "histogram2dcontour": [
           {
            "colorbar": {
             "outlinewidth": 0,
             "ticks": ""
            },
            "colorscale": [
             [
              0,
              "#0d0887"
             ],
             [
              0.1111111111111111,
              "#46039f"
             ],
             [
              0.2222222222222222,
              "#7201a8"
             ],
             [
              0.3333333333333333,
              "#9c179e"
             ],
             [
              0.4444444444444444,
              "#bd3786"
             ],
             [
              0.5555555555555556,
              "#d8576b"
             ],
             [
              0.6666666666666666,
              "#ed7953"
             ],
             [
              0.7777777777777778,
              "#fb9f3a"
             ],
             [
              0.8888888888888888,
              "#fdca26"
             ],
             [
              1,
              "#f0f921"
             ]
            ],
            "type": "histogram2dcontour"
           }
          ],
          "mesh3d": [
           {
            "colorbar": {
             "outlinewidth": 0,
             "ticks": ""
            },
            "type": "mesh3d"
           }
          ],
          "parcoords": [
           {
            "line": {
             "colorbar": {
              "outlinewidth": 0,
              "ticks": ""
             }
            },
            "type": "parcoords"
           }
          ],
          "pie": [
           {
            "automargin": true,
            "type": "pie"
           }
          ],
          "scatter": [
           {
            "fillpattern": {
             "fillmode": "overlay",
             "size": 10,
             "solidity": 0.2
            },
            "type": "scatter"
           }
          ],
          "scatter3d": [
           {
            "line": {
             "colorbar": {
              "outlinewidth": 0,
              "ticks": ""
             }
            },
            "marker": {
             "colorbar": {
              "outlinewidth": 0,
              "ticks": ""
             }
            },
            "type": "scatter3d"
           }
          ],
          "scattercarpet": [
           {
            "marker": {
             "colorbar": {
              "outlinewidth": 0,
              "ticks": ""
             }
            },
            "type": "scattercarpet"
           }
          ],
          "scattergeo": [
           {
            "marker": {
             "colorbar": {
              "outlinewidth": 0,
              "ticks": ""
             }
            },
            "type": "scattergeo"
           }
          ],
          "scattergl": [
           {
            "marker": {
             "colorbar": {
              "outlinewidth": 0,
              "ticks": ""
             }
            },
            "type": "scattergl"
           }
          ],
          "scattermapbox": [
           {
            "marker": {
             "colorbar": {
              "outlinewidth": 0,
              "ticks": ""
             }
            },
            "type": "scattermapbox"
           }
          ],
          "scatterpolar": [
           {
            "marker": {
             "colorbar": {
              "outlinewidth": 0,
              "ticks": ""
             }
            },
            "type": "scatterpolar"
           }
          ],
          "scatterpolargl": [
           {
            "marker": {
             "colorbar": {
              "outlinewidth": 0,
              "ticks": ""
             }
            },
            "type": "scatterpolargl"
           }
          ],
          "scatterternary": [
           {
            "marker": {
             "colorbar": {
              "outlinewidth": 0,
              "ticks": ""
             }
            },
            "type": "scatterternary"
           }
          ],
          "surface": [
           {
            "colorbar": {
             "outlinewidth": 0,
             "ticks": ""
            },
            "colorscale": [
             [
              0,
              "#0d0887"
             ],
             [
              0.1111111111111111,
              "#46039f"
             ],
             [
              0.2222222222222222,
              "#7201a8"
             ],
             [
              0.3333333333333333,
              "#9c179e"
             ],
             [
              0.4444444444444444,
              "#bd3786"
             ],
             [
              0.5555555555555556,
              "#d8576b"
             ],
             [
              0.6666666666666666,
              "#ed7953"
             ],
             [
              0.7777777777777778,
              "#fb9f3a"
             ],
             [
              0.8888888888888888,
              "#fdca26"
             ],
             [
              1,
              "#f0f921"
             ]
            ],
            "type": "surface"
           }
          ],
          "table": [
           {
            "cells": {
             "fill": {
              "color": "#EBF0F8"
             },
             "line": {
              "color": "white"
             }
            },
            "header": {
             "fill": {
              "color": "#C8D4E3"
             },
             "line": {
              "color": "white"
             }
            },
            "type": "table"
           }
          ]
         },
         "layout": {
          "annotationdefaults": {
           "arrowcolor": "#2a3f5f",
           "arrowhead": 0,
           "arrowwidth": 1
          },
          "autotypenumbers": "strict",
          "coloraxis": {
           "colorbar": {
            "outlinewidth": 0,
            "ticks": ""
           }
          },
          "colorscale": {
           "diverging": [
            [
             0,
             "#8e0152"
            ],
            [
             0.1,
             "#c51b7d"
            ],
            [
             0.2,
             "#de77ae"
            ],
            [
             0.3,
             "#f1b6da"
            ],
            [
             0.4,
             "#fde0ef"
            ],
            [
             0.5,
             "#f7f7f7"
            ],
            [
             0.6,
             "#e6f5d0"
            ],
            [
             0.7,
             "#b8e186"
            ],
            [
             0.8,
             "#7fbc41"
            ],
            [
             0.9,
             "#4d9221"
            ],
            [
             1,
             "#276419"
            ]
           ],
           "sequential": [
            [
             0,
             "#0d0887"
            ],
            [
             0.1111111111111111,
             "#46039f"
            ],
            [
             0.2222222222222222,
             "#7201a8"
            ],
            [
             0.3333333333333333,
             "#9c179e"
            ],
            [
             0.4444444444444444,
             "#bd3786"
            ],
            [
             0.5555555555555556,
             "#d8576b"
            ],
            [
             0.6666666666666666,
             "#ed7953"
            ],
            [
             0.7777777777777778,
             "#fb9f3a"
            ],
            [
             0.8888888888888888,
             "#fdca26"
            ],
            [
             1,
             "#f0f921"
            ]
           ],
           "sequentialminus": [
            [
             0,
             "#0d0887"
            ],
            [
             0.1111111111111111,
             "#46039f"
            ],
            [
             0.2222222222222222,
             "#7201a8"
            ],
            [
             0.3333333333333333,
             "#9c179e"
            ],
            [
             0.4444444444444444,
             "#bd3786"
            ],
            [
             0.5555555555555556,
             "#d8576b"
            ],
            [
             0.6666666666666666,
             "#ed7953"
            ],
            [
             0.7777777777777778,
             "#fb9f3a"
            ],
            [
             0.8888888888888888,
             "#fdca26"
            ],
            [
             1,
             "#f0f921"
            ]
           ]
          },
          "colorway": [
           "#636efa",
           "#EF553B",
           "#00cc96",
           "#ab63fa",
           "#FFA15A",
           "#19d3f3",
           "#FF6692",
           "#B6E880",
           "#FF97FF",
           "#FECB52"
          ],
          "font": {
           "color": "#2a3f5f"
          },
          "geo": {
           "bgcolor": "white",
           "lakecolor": "white",
           "landcolor": "#E5ECF6",
           "showlakes": true,
           "showland": true,
           "subunitcolor": "white"
          },
          "hoverlabel": {
           "align": "left"
          },
          "hovermode": "closest",
          "mapbox": {
           "style": "light"
          },
          "paper_bgcolor": "white",
          "plot_bgcolor": "#E5ECF6",
          "polar": {
           "angularaxis": {
            "gridcolor": "white",
            "linecolor": "white",
            "ticks": ""
           },
           "bgcolor": "#E5ECF6",
           "radialaxis": {
            "gridcolor": "white",
            "linecolor": "white",
            "ticks": ""
           }
          },
          "scene": {
           "xaxis": {
            "backgroundcolor": "#E5ECF6",
            "gridcolor": "white",
            "gridwidth": 2,
            "linecolor": "white",
            "showbackground": true,
            "ticks": "",
            "zerolinecolor": "white"
           },
           "yaxis": {
            "backgroundcolor": "#E5ECF6",
            "gridcolor": "white",
            "gridwidth": 2,
            "linecolor": "white",
            "showbackground": true,
            "ticks": "",
            "zerolinecolor": "white"
           },
           "zaxis": {
            "backgroundcolor": "#E5ECF6",
            "gridcolor": "white",
            "gridwidth": 2,
            "linecolor": "white",
            "showbackground": true,
            "ticks": "",
            "zerolinecolor": "white"
           }
          },
          "shapedefaults": {
           "line": {
            "color": "#2a3f5f"
           }
          },
          "ternary": {
           "aaxis": {
            "gridcolor": "white",
            "linecolor": "white",
            "ticks": ""
           },
           "baxis": {
            "gridcolor": "white",
            "linecolor": "white",
            "ticks": ""
           },
           "bgcolor": "#E5ECF6",
           "caxis": {
            "gridcolor": "white",
            "linecolor": "white",
            "ticks": ""
           }
          },
          "title": {
           "x": 0.05
          },
          "xaxis": {
           "automargin": true,
           "gridcolor": "white",
           "linecolor": "white",
           "ticks": "",
           "title": {
            "standoff": 15
           },
           "zerolinecolor": "white",
           "zerolinewidth": 2
          },
          "yaxis": {
           "automargin": true,
           "gridcolor": "white",
           "linecolor": "white",
           "ticks": "",
           "title": {
            "standoff": 15
           },
           "zerolinecolor": "white",
           "zerolinewidth": 2
          }
         }
        },
        "title": {
         "text": "Interaction Distances for fold_f_atp_tub_seed1_model_0 by Residue and Interacting Chain"
        },
        "xaxis": {
         "anchor": "y",
         "categoryarray": [
          "87T",
          "88G",
          "89S",
          "90G",
          "91K",
          "92T",
          "93F",
          "144R",
          "157K",
          "158V",
          "159R",
          "201N",
          "204S",
          "205S",
          "237G",
          "240K",
          "241V",
          "255K",
          "258N",
          "259K",
          "262S",
          "266N",
          "278H",
          "282R",
          "283D",
          "285K",
          "314S",
          "317K",
          "324R",
          "341A",
          "344L",
          "345K",
          "347L",
          "348L",
          "351A",
          "354E",
          "355I",
          "356E",
          "358L",
          "359K",
          "361Y",
          "362I",
          "365L",
          "366E",
          "368V",
          "371V",
          "373V",
          "374S",
          "375N",
          "376L",
          "377K",
          "378S",
          "444T",
          "448D",
          "452I",
          "455L",
          "458K",
          "459C",
          "463E",
          "465Q",
          "466L",
          "469K",
          "470E",
          "472E",
          "473K",
          "476I",
          "477L",
          "479Q",
          "480L",
          "481E",
          "482Q",
          "483Q",
          "484Q",
          "485E",
          "486Q",
          "487I",
          "488Q",
          "489D",
          "490K",
          "491D",
          "492Q",
          "493E",
          "494I",
          "497L",
          "498N",
          "501I",
          "504S",
          "510L",
          "511Y",
          "514S",
          "517E",
          "518N",
          "521L",
          "522N",
          "525L",
          "531A",
          "532L",
          "535S",
          "539A",
          "542Q",
          "546I",
          "549L",
          "550N",
          "552E",
          "553N",
          "556I",
          "557K",
          "560L",
          "563L",
          "566R",
          "575I",
          "578L"
         ],
         "categoryorder": "array",
         "domain": [
          0,
          1
         ],
         "title": {
          "text": "Residue (Number and Identity)"
         }
        },
        "yaxis": {
         "anchor": "x",
         "domain": [
          0,
          1
         ],
         "title": {
          "text": "Distance (angstroms)"
         }
        }
       }
      }
     },
     "metadata": {},
     "output_type": "display_data"
    },
    {
     "name": "stderr",
     "output_type": "stream",
     "text": [
      "/var/folders/08/7vm2c9d11xvc7s0rf383rd480000gn/T/ipykernel_57000/2424036903.py:54: SettingWithCopyWarning:\n",
      "\n",
      "\n",
      "A value is trying to be set on a copy of a slice from a DataFrame.\n",
      "Try using .loc[row_indexer,col_indexer] = value instead\n",
      "\n",
      "See the caveats in the documentation: https://pandas.pydata.org/pandas-docs/stable/user_guide/indexing.html#returning-a-view-versus-a-copy\n",
      "\n"
     ]
    },
    {
     "data": {
      "application/vnd.plotly.v1+json": {
       "config": {
        "plotlyServerURL": "https://plot.ly"
       },
       "data": [
        {
         "customdata": [
          [
           "fold_g_atp_tub_seed1_model_0",
           "357N"
          ],
          [
           "fold_g_atp_tub_seed1_model_0",
           "348L"
          ],
          [
           "fold_g_atp_tub_seed1_model_0",
           "345A"
          ],
          [
           "fold_g_atp_tub_seed1_model_0",
           "5R"
          ],
          [
           "fold_g_atp_tub_seed1_model_0",
           "363K"
          ],
          [
           "fold_g_atp_tub_seed1_model_0",
           "359I"
          ],
          [
           "fold_g_atp_tub_seed1_model_0",
           "5R"
          ],
          [
           "fold_g_atp_tub_seed1_model_0",
           "366I"
          ],
          [
           "fold_g_atp_tub_seed1_model_0",
           "358E"
          ],
          [
           "fold_g_atp_tub_seed1_model_0",
           "370E"
          ],
          [
           "fold_g_atp_tub_seed1_model_0",
           "366I"
          ],
          [
           "fold_g_atp_tub_seed1_model_0",
           "375V"
          ],
          [
           "fold_g_atp_tub_seed1_model_0",
           "365Y"
          ],
          [
           "fold_g_atp_tub_seed1_model_0",
           "380L"
          ],
          [
           "fold_g_atp_tub_seed1_model_0",
           "373S"
          ],
          [
           "fold_g_atp_tub_seed1_model_0",
           "369L"
          ],
          [
           "fold_g_atp_tub_seed1_model_0",
           "372V"
          ],
          [
           "fold_g_atp_tub_seed1_model_0",
           "456I"
          ],
          [
           "fold_g_atp_tub_seed1_model_0",
           "467E"
          ],
          [
           "fold_g_atp_tub_seed1_model_0",
           "463C"
          ],
          [
           "fold_g_atp_tub_seed1_model_0",
           "462K"
          ],
          [
           "fold_g_atp_tub_seed1_model_0",
           "470L"
          ],
          [
           "fold_g_atp_tub_seed1_model_0",
           "474E"
          ],
          [
           "fold_g_atp_tub_seed1_model_0",
           "473K"
          ],
          [
           "fold_g_atp_tub_seed1_model_0",
           "477K"
          ],
          [
           "fold_g_atp_tub_seed1_model_0",
           "476E"
          ],
          [
           "fold_g_atp_tub_seed1_model_0",
           "477K"
          ],
          [
           "fold_g_atp_tub_seed1_model_0",
           "487Q"
          ],
          [
           "fold_g_atp_tub_seed1_model_0",
           "484L"
          ],
          [
           "fold_g_atp_tub_seed1_model_0",
           "487Q"
          ],
          [
           "fold_g_atp_tub_seed1_model_0",
           "494K"
          ],
          [
           "fold_g_atp_tub_seed1_model_0",
           "495D"
          ],
          [
           "fold_g_atp_tub_seed1_model_0",
           "494K"
          ],
          [
           "fold_g_atp_tub_seed1_model_0",
           "497E"
          ],
          [
           "fold_g_atp_tub_seed1_model_0",
           "505I"
          ],
          [
           "fold_g_atp_tub_seed1_model_0",
           "501L"
          ],
          [
           "fold_g_atp_tub_seed1_model_0",
           "501L"
          ],
          [
           "fold_g_atp_tub_seed1_model_0",
           "508S"
          ],
          [
           "fold_g_atp_tub_seed1_model_0",
           "514L"
          ],
          [
           "fold_g_atp_tub_seed1_model_0",
           "518S"
          ],
          [
           "fold_g_atp_tub_seed1_model_0",
           "522N"
          ],
          [
           "fold_g_atp_tub_seed1_model_0",
           "522N"
          ],
          [
           "fold_g_atp_tub_seed1_model_0",
           "525L"
          ],
          [
           "fold_g_atp_tub_seed1_model_0",
           "525L"
          ],
          [
           "fold_g_atp_tub_seed1_model_0",
           "536L"
          ],
          [
           "fold_g_atp_tub_seed1_model_0",
           "536L"
          ],
          [
           "fold_g_atp_tub_seed1_model_0",
           "539S"
          ],
          [
           "fold_g_atp_tub_seed1_model_0",
           "546Q"
          ],
          [
           "fold_g_atp_tub_seed1_model_0",
           "543A"
          ],
          [
           "fold_g_atp_tub_seed1_model_0",
           "550I"
          ],
          [
           "fold_g_atp_tub_seed1_model_0",
           "554N"
          ],
          [
           "fold_g_atp_tub_seed1_model_0",
           "553L"
          ],
          [
           "fold_g_atp_tub_seed1_model_0",
           "561K"
          ],
          [
           "fold_g_atp_tub_seed1_model_0",
           "557N"
          ],
          [
           "fold_g_atp_tub_seed1_model_0",
           "560I"
          ],
          [
           "fold_g_atp_tub_seed1_model_0",
           "556E"
          ],
          [
           "fold_g_atp_tub_seed1_model_0",
           "564L"
          ],
          [
           "fold_g_atp_tub_seed1_model_0",
           "571I"
          ],
          [
           "fold_g_atp_tub_seed1_model_0",
           "582L"
          ],
          [
           "fold_g_atp_tub_seed1_model_0",
           "567L"
          ],
          [
           "fold_g_atp_tub_seed1_model_0",
           "579I"
          ],
          [
           "fold_g_atp_tub_seed1_model_0",
           "570R"
          ]
         ],
         "hovertemplate": "Interacting Chain=kinesin B<br>Residue (Number and Identity)=%{x}<br>Distance (angstroms)=%{y}<br>text=%{text}<br>file=%{customdata[0]}<br>interacting_label=%{customdata[1]}<extra></extra>",
         "legendgroup": "kinesin B",
         "marker": {
          "color": "#636efa",
          "opacity": 0.6,
          "size": 10,
          "symbol": "circle"
         },
         "mode": "markers+text",
         "name": "kinesin B",
         "orientation": "v",
         "showlegend": true,
         "text": [
          "357N",
          "348L",
          "345A",
          "5R",
          "363K",
          "359I",
          "5R",
          "366I",
          "358E",
          "370E",
          "366I",
          "375V",
          "365Y",
          "380L",
          "373S",
          "369L",
          "372V",
          "456I",
          "467E",
          "463C",
          "462K",
          "470L",
          "474E",
          "473K",
          "477K",
          "476E",
          "477K",
          "487Q",
          "484L",
          "487Q",
          "494K",
          "495D",
          "494K",
          "497E",
          "505I",
          "501L",
          "501L",
          "508S",
          "514L",
          "518S",
          "522N",
          "522N",
          "525L",
          "525L",
          "536L",
          "536L",
          "539S",
          "546Q",
          "543A",
          "550I",
          "554N",
          "553L",
          "561K",
          "557N",
          "560I",
          "556E",
          "564L",
          "571I",
          "582L",
          "567L",
          "579I",
          "570R"
         ],
         "textposition": "top center",
         "type": "scatter",
         "x": [
          "5R",
          "345A",
          "348L",
          "357N",
          "358E",
          "359I",
          "360E",
          "362L",
          "363K",
          "365Y",
          "366I",
          "369L",
          "370E",
          "372V",
          "373S",
          "375V",
          "380L",
          "456I",
          "462K",
          "463C",
          "467E",
          "470L",
          "473K",
          "474E",
          "476E",
          "477K",
          "480I",
          "484L",
          "487Q",
          "488Q",
          "491I",
          "494K",
          "495D",
          "498I",
          "501L",
          "502N",
          "505I",
          "508S",
          "515Y",
          "518S",
          "522N",
          "525L",
          "526N",
          "529L",
          "535A",
          "536L",
          "539S",
          "543A",
          "546Q",
          "550I",
          "553L",
          "554N",
          "556E",
          "557N",
          "560I",
          "561K",
          "564L",
          "567L",
          "570R",
          "571I",
          "579I",
          "582L"
         ],
         "xaxis": "x",
         "y": [
          2.8093783855438232,
          3.36010217666626,
          3.2926816940307617,
          2.7575876712799072,
          2.9230270385742188,
          3.491626739501953,
          2.661308526992798,
          3.3252594470977783,
          2.745932340621948,
          3.154435634613037,
          3.263962507247925,
          3.045900344848633,
          3.229595184326172,
          2.907898426055908,
          3.459899425506592,
          3.078714370727539,
          2.878456115722656,
          3.4528331756591797,
          2.8600709438323975,
          2.927100896835327,
          2.654329538345337,
          3.247767210006714,
          2.5824944972991943,
          2.558511257171631,
          2.552107095718384,
          2.466078281402588,
          3.2780282497406006,
          3.0816760063171387,
          3.1080758571624756,
          3.2189860343933105,
          3.119826078414917,
          2.5494954586029053,
          2.530489921569824,
          3.451850175857544,
          2.983459711074829,
          3.294912815093994,
          3.012838840484619,
          2.983351469039917,
          3.4095797538757324,
          2.799232244491577,
          2.546273708343506,
          2.858190536499023,
          3.3073978424072266,
          3.490872859954834,
          3.31779146194458,
          3.4201605319976807,
          2.7215874195098877,
          2.827194929122925,
          2.737441062927246,
          3.438662052154541,
          3.0550806522369385,
          3.1568455696105957,
          2.6704752445220947,
          2.413182497024536,
          3.282806873321533,
          2.6680397987365723,
          3.201949119567871,
          3.2456414699554443,
          2.8024563789367676,
          3.2738540172576904,
          2.415468692779541,
          3.0150442123413086
         ],
         "yaxis": "y"
        },
        {
         "customdata": [
          [
           "fold_g_atp_tub_seed1_model_0",
           "1?"
          ],
          [
           "fold_g_atp_tub_seed1_model_0",
           "1?"
          ],
          [
           "fold_g_atp_tub_seed1_model_0",
           "1?"
          ],
          [
           "fold_g_atp_tub_seed1_model_0",
           "1?"
          ],
          [
           "fold_g_atp_tub_seed1_model_0",
           "1?"
          ],
          [
           "fold_g_atp_tub_seed1_model_0",
           "1?"
          ],
          [
           "fold_g_atp_tub_seed1_model_0",
           "1?"
          ],
          [
           "fold_g_atp_tub_seed1_model_0",
           "1?"
          ],
          [
           "fold_g_atp_tub_seed1_model_0",
           "1?"
          ],
          [
           "fold_g_atp_tub_seed1_model_0",
           "1?"
          ],
          [
           "fold_g_atp_tub_seed1_model_0",
           "1?"
          ],
          [
           "fold_g_atp_tub_seed1_model_0",
           "1?"
          ],
          [
           "fold_g_atp_tub_seed1_model_0",
           "1?"
          ]
         ],
         "hovertemplate": "Interacting Chain=ATP<br>Residue (Number and Identity)=%{x}<br>Distance (angstroms)=%{y}<br>text=%{text}<br>file=%{customdata[0]}<br>interacting_label=%{customdata[1]}<extra></extra>",
         "legendgroup": "ATP",
         "marker": {
          "color": "#EF553B",
          "opacity": 0.6,
          "size": 10,
          "symbol": "circle"
         },
         "mode": "markers+text",
         "name": "ATP",
         "orientation": "v",
         "showlegend": true,
         "text": [
          "1?",
          "1?",
          "1?",
          "1?",
          "1?",
          "1?",
          "1?",
          "1?",
          "1?",
          "1?",
          "1?",
          "1?",
          "1?"
         ],
         "textposition": "top center",
         "type": "scatter",
         "x": [
          "18R",
          "21P",
          "94T",
          "95S",
          "96S",
          "97G",
          "98K",
          "99T",
          "100H",
          "205N",
          "208S",
          "209S",
          "241G"
         ],
         "xaxis": "x",
         "y": [
          3.4700889587402344,
          3.484950304031372,
          2.5247578620910645,
          2.926854372024536,
          3.452700614929199,
          3.0819883346557617,
          2.6072492599487305,
          2.683704376220703,
          2.656996965408325,
          3.2386374473571777,
          3.033559083938598,
          3.0110669136047363,
          2.7229838371276855
         ],
         "yaxis": "y"
        },
        {
         "customdata": [
          [
           "fold_g_atp_tub_seed1_model_0",
           "440E"
          ],
          [
           "fold_g_atp_tub_seed1_model_0",
           "157E"
          ],
          [
           "fold_g_atp_tub_seed1_model_0",
           "157E"
          ],
          [
           "fold_g_atp_tub_seed1_model_0",
           "410E"
          ],
          [
           "fold_g_atp_tub_seed1_model_0",
           "410E"
          ],
          [
           "fold_g_atp_tub_seed1_model_0",
           "406M"
          ],
          [
           "fold_g_atp_tub_seed1_model_0",
           "406M"
          ],
          [
           "fold_g_atp_tub_seed1_model_0",
           "432E"
          ],
          [
           "fold_g_atp_tub_seed1_model_0",
           "424Q"
          ],
          [
           "fold_g_atp_tub_seed1_model_0",
           "417D"
          ],
          [
           "fold_g_atp_tub_seed1_model_0",
           "262R"
          ],
          [
           "fold_g_atp_tub_seed1_model_0",
           "125E"
          ]
         ],
         "hovertemplate": "Interacting Chain=beta-tubulin<br>Residue (Number and Identity)=%{x}<br>Distance (angstroms)=%{y}<br>text=%{text}<br>file=%{customdata[0]}<br>interacting_label=%{customdata[1]}<extra></extra>",
         "legendgroup": "beta-tubulin",
         "marker": {
          "color": "#00cc96",
          "opacity": 0.6,
          "size": 10,
          "symbol": "circle"
         },
         "mode": "markers+text",
         "name": "beta-tubulin",
         "orientation": "v",
         "showlegend": true,
         "text": [
          "440E",
          "157E",
          "157E",
          "410E",
          "410E",
          "406M",
          "406M",
          "432E",
          "424Q",
          "417D",
          "262R",
          "125E"
         ],
         "textposition": "top center",
         "type": "scatter",
         "x": [
          "51K",
          "148K",
          "159N",
          "162V",
          "163H",
          "164E",
          "165D",
          "279K",
          "282H",
          "286R",
          "287D",
          "515Y"
         ],
         "xaxis": "x",
         "y": [
          2.5899438858032227,
          2.933412551879883,
          3.205296039581299,
          3.2612178325653076,
          2.82912278175354,
          3.3241703510284424,
          3.395737648010254,
          3.2625465393066406,
          2.7627744674682617,
          2.5880300998687744,
          3.2233340740203857,
          3.0861613750457764
         ],
         "yaxis": "y"
        },
        {
         "customdata": [
          [
           "fold_g_atp_tub_seed1_model_0",
           "420E"
          ],
          [
           "fold_g_atp_tub_seed1_model_0",
           "412G"
          ],
          [
           "fold_g_atp_tub_seed1_model_0",
           "109T"
          ],
          [
           "fold_g_atp_tub_seed1_model_0",
           "409V"
          ],
          [
           "fold_g_atp_tub_seed1_model_0",
           "409V"
          ],
          [
           "fold_g_atp_tub_seed1_model_0",
           "415E"
          ],
          [
           "fold_g_atp_tub_seed1_model_0",
           "402R"
          ],
          [
           "fold_g_atp_tub_seed1_model_0",
           "402R"
          ],
          [
           "fold_g_atp_tub_seed1_model_0",
           "423E"
          ],
          [
           "fold_g_atp_tub_seed1_model_0",
           "90E"
          ],
          [
           "fold_g_atp_tub_seed1_model_0",
           "60K"
          ],
          [
           "fold_g_atp_tub_seed1_model_0",
           "56T"
          ],
          [
           "fold_g_atp_tub_seed1_model_0",
           "35Q"
          ],
          [
           "fold_g_atp_tub_seed1_model_0",
           "58A"
          ],
          [
           "fold_g_atp_tub_seed1_model_0",
           "40K"
          ]
         ],
         "hovertemplate": "Interacting Chain=alpha-tubulin<br>Residue (Number and Identity)=%{x}<br>Distance (angstroms)=%{y}<br>text=%{text}<br>file=%{customdata[0]}<br>interacting_label=%{customdata[1]}<extra></extra>",
         "legendgroup": "alpha-tubulin",
         "marker": {
          "color": "#ab63fa",
          "opacity": 0.6,
          "size": 10,
          "symbol": "circle"
         },
         "mode": "markers+text",
         "name": "alpha-tubulin",
         "orientation": "v",
         "showlegend": true,
         "text": [
          "420E",
          "412G",
          "109T",
          "409V",
          "409V",
          "415E",
          "402R",
          "402R",
          "423E",
          "90E",
          "60K",
          "56T",
          "35Q",
          "58A",
          "40K"
         ],
         "textposition": "top center",
         "type": "scatter",
         "x": [
          "244K",
          "245I",
          "259K",
          "262N",
          "263K",
          "266S",
          "270N",
          "273N",
          "325R",
          "538K",
          "541F",
          "545E",
          "548L",
          "549T",
          "555E"
         ],
         "xaxis": "x",
         "y": [
          2.428907871246338,
          2.944223642349243,
          3.2306175231933594,
          3.472370147705078,
          3.389423370361328,
          2.7522921562194824,
          2.4755520820617676,
          2.6214120388031006,
          2.7726542949676514,
          3.2400529384613037,
          2.814099073410034,
          2.8766825199127197,
          3.276336669921875,
          2.3078436851501465,
          2.783604145050049
         ],
         "yaxis": "y"
        }
       ],
       "layout": {
        "legend": {
         "title": {
          "text": "Interacting Chain"
         },
         "tracegroupgap": 0
        },
        "template": {
         "data": {
          "bar": [
           {
            "error_x": {
             "color": "#2a3f5f"
            },
            "error_y": {
             "color": "#2a3f5f"
            },
            "marker": {
             "line": {
              "color": "#E5ECF6",
              "width": 0.5
             },
             "pattern": {
              "fillmode": "overlay",
              "size": 10,
              "solidity": 0.2
             }
            },
            "type": "bar"
           }
          ],
          "barpolar": [
           {
            "marker": {
             "line": {
              "color": "#E5ECF6",
              "width": 0.5
             },
             "pattern": {
              "fillmode": "overlay",
              "size": 10,
              "solidity": 0.2
             }
            },
            "type": "barpolar"
           }
          ],
          "carpet": [
           {
            "aaxis": {
             "endlinecolor": "#2a3f5f",
             "gridcolor": "white",
             "linecolor": "white",
             "minorgridcolor": "white",
             "startlinecolor": "#2a3f5f"
            },
            "baxis": {
             "endlinecolor": "#2a3f5f",
             "gridcolor": "white",
             "linecolor": "white",
             "minorgridcolor": "white",
             "startlinecolor": "#2a3f5f"
            },
            "type": "carpet"
           }
          ],
          "choropleth": [
           {
            "colorbar": {
             "outlinewidth": 0,
             "ticks": ""
            },
            "type": "choropleth"
           }
          ],
          "contour": [
           {
            "colorbar": {
             "outlinewidth": 0,
             "ticks": ""
            },
            "colorscale": [
             [
              0,
              "#0d0887"
             ],
             [
              0.1111111111111111,
              "#46039f"
             ],
             [
              0.2222222222222222,
              "#7201a8"
             ],
             [
              0.3333333333333333,
              "#9c179e"
             ],
             [
              0.4444444444444444,
              "#bd3786"
             ],
             [
              0.5555555555555556,
              "#d8576b"
             ],
             [
              0.6666666666666666,
              "#ed7953"
             ],
             [
              0.7777777777777778,
              "#fb9f3a"
             ],
             [
              0.8888888888888888,
              "#fdca26"
             ],
             [
              1,
              "#f0f921"
             ]
            ],
            "type": "contour"
           }
          ],
          "contourcarpet": [
           {
            "colorbar": {
             "outlinewidth": 0,
             "ticks": ""
            },
            "type": "contourcarpet"
           }
          ],
          "heatmap": [
           {
            "colorbar": {
             "outlinewidth": 0,
             "ticks": ""
            },
            "colorscale": [
             [
              0,
              "#0d0887"
             ],
             [
              0.1111111111111111,
              "#46039f"
             ],
             [
              0.2222222222222222,
              "#7201a8"
             ],
             [
              0.3333333333333333,
              "#9c179e"
             ],
             [
              0.4444444444444444,
              "#bd3786"
             ],
             [
              0.5555555555555556,
              "#d8576b"
             ],
             [
              0.6666666666666666,
              "#ed7953"
             ],
             [
              0.7777777777777778,
              "#fb9f3a"
             ],
             [
              0.8888888888888888,
              "#fdca26"
             ],
             [
              1,
              "#f0f921"
             ]
            ],
            "type": "heatmap"
           }
          ],
          "heatmapgl": [
           {
            "colorbar": {
             "outlinewidth": 0,
             "ticks": ""
            },
            "colorscale": [
             [
              0,
              "#0d0887"
             ],
             [
              0.1111111111111111,
              "#46039f"
             ],
             [
              0.2222222222222222,
              "#7201a8"
             ],
             [
              0.3333333333333333,
              "#9c179e"
             ],
             [
              0.4444444444444444,
              "#bd3786"
             ],
             [
              0.5555555555555556,
              "#d8576b"
             ],
             [
              0.6666666666666666,
              "#ed7953"
             ],
             [
              0.7777777777777778,
              "#fb9f3a"
             ],
             [
              0.8888888888888888,
              "#fdca26"
             ],
             [
              1,
              "#f0f921"
             ]
            ],
            "type": "heatmapgl"
           }
          ],
          "histogram": [
           {
            "marker": {
             "pattern": {
              "fillmode": "overlay",
              "size": 10,
              "solidity": 0.2
             }
            },
            "type": "histogram"
           }
          ],
          "histogram2d": [
           {
            "colorbar": {
             "outlinewidth": 0,
             "ticks": ""
            },
            "colorscale": [
             [
              0,
              "#0d0887"
             ],
             [
              0.1111111111111111,
              "#46039f"
             ],
             [
              0.2222222222222222,
              "#7201a8"
             ],
             [
              0.3333333333333333,
              "#9c179e"
             ],
             [
              0.4444444444444444,
              "#bd3786"
             ],
             [
              0.5555555555555556,
              "#d8576b"
             ],
             [
              0.6666666666666666,
              "#ed7953"
             ],
             [
              0.7777777777777778,
              "#fb9f3a"
             ],
             [
              0.8888888888888888,
              "#fdca26"
             ],
             [
              1,
              "#f0f921"
             ]
            ],
            "type": "histogram2d"
           }
          ],
          "histogram2dcontour": [
           {
            "colorbar": {
             "outlinewidth": 0,
             "ticks": ""
            },
            "colorscale": [
             [
              0,
              "#0d0887"
             ],
             [
              0.1111111111111111,
              "#46039f"
             ],
             [
              0.2222222222222222,
              "#7201a8"
             ],
             [
              0.3333333333333333,
              "#9c179e"
             ],
             [
              0.4444444444444444,
              "#bd3786"
             ],
             [
              0.5555555555555556,
              "#d8576b"
             ],
             [
              0.6666666666666666,
              "#ed7953"
             ],
             [
              0.7777777777777778,
              "#fb9f3a"
             ],
             [
              0.8888888888888888,
              "#fdca26"
             ],
             [
              1,
              "#f0f921"
             ]
            ],
            "type": "histogram2dcontour"
           }
          ],
          "mesh3d": [
           {
            "colorbar": {
             "outlinewidth": 0,
             "ticks": ""
            },
            "type": "mesh3d"
           }
          ],
          "parcoords": [
           {
            "line": {
             "colorbar": {
              "outlinewidth": 0,
              "ticks": ""
             }
            },
            "type": "parcoords"
           }
          ],
          "pie": [
           {
            "automargin": true,
            "type": "pie"
           }
          ],
          "scatter": [
           {
            "fillpattern": {
             "fillmode": "overlay",
             "size": 10,
             "solidity": 0.2
            },
            "type": "scatter"
           }
          ],
          "scatter3d": [
           {
            "line": {
             "colorbar": {
              "outlinewidth": 0,
              "ticks": ""
             }
            },
            "marker": {
             "colorbar": {
              "outlinewidth": 0,
              "ticks": ""
             }
            },
            "type": "scatter3d"
           }
          ],
          "scattercarpet": [
           {
            "marker": {
             "colorbar": {
              "outlinewidth": 0,
              "ticks": ""
             }
            },
            "type": "scattercarpet"
           }
          ],
          "scattergeo": [
           {
            "marker": {
             "colorbar": {
              "outlinewidth": 0,
              "ticks": ""
             }
            },
            "type": "scattergeo"
           }
          ],
          "scattergl": [
           {
            "marker": {
             "colorbar": {
              "outlinewidth": 0,
              "ticks": ""
             }
            },
            "type": "scattergl"
           }
          ],
          "scattermapbox": [
           {
            "marker": {
             "colorbar": {
              "outlinewidth": 0,
              "ticks": ""
             }
            },
            "type": "scattermapbox"
           }
          ],
          "scatterpolar": [
           {
            "marker": {
             "colorbar": {
              "outlinewidth": 0,
              "ticks": ""
             }
            },
            "type": "scatterpolar"
           }
          ],
          "scatterpolargl": [
           {
            "marker": {
             "colorbar": {
              "outlinewidth": 0,
              "ticks": ""
             }
            },
            "type": "scatterpolargl"
           }
          ],
          "scatterternary": [
           {
            "marker": {
             "colorbar": {
              "outlinewidth": 0,
              "ticks": ""
             }
            },
            "type": "scatterternary"
           }
          ],
          "surface": [
           {
            "colorbar": {
             "outlinewidth": 0,
             "ticks": ""
            },
            "colorscale": [
             [
              0,
              "#0d0887"
             ],
             [
              0.1111111111111111,
              "#46039f"
             ],
             [
              0.2222222222222222,
              "#7201a8"
             ],
             [
              0.3333333333333333,
              "#9c179e"
             ],
             [
              0.4444444444444444,
              "#bd3786"
             ],
             [
              0.5555555555555556,
              "#d8576b"
             ],
             [
              0.6666666666666666,
              "#ed7953"
             ],
             [
              0.7777777777777778,
              "#fb9f3a"
             ],
             [
              0.8888888888888888,
              "#fdca26"
             ],
             [
              1,
              "#f0f921"
             ]
            ],
            "type": "surface"
           }
          ],
          "table": [
           {
            "cells": {
             "fill": {
              "color": "#EBF0F8"
             },
             "line": {
              "color": "white"
             }
            },
            "header": {
             "fill": {
              "color": "#C8D4E3"
             },
             "line": {
              "color": "white"
             }
            },
            "type": "table"
           }
          ]
         },
         "layout": {
          "annotationdefaults": {
           "arrowcolor": "#2a3f5f",
           "arrowhead": 0,
           "arrowwidth": 1
          },
          "autotypenumbers": "strict",
          "coloraxis": {
           "colorbar": {
            "outlinewidth": 0,
            "ticks": ""
           }
          },
          "colorscale": {
           "diverging": [
            [
             0,
             "#8e0152"
            ],
            [
             0.1,
             "#c51b7d"
            ],
            [
             0.2,
             "#de77ae"
            ],
            [
             0.3,
             "#f1b6da"
            ],
            [
             0.4,
             "#fde0ef"
            ],
            [
             0.5,
             "#f7f7f7"
            ],
            [
             0.6,
             "#e6f5d0"
            ],
            [
             0.7,
             "#b8e186"
            ],
            [
             0.8,
             "#7fbc41"
            ],
            [
             0.9,
             "#4d9221"
            ],
            [
             1,
             "#276419"
            ]
           ],
           "sequential": [
            [
             0,
             "#0d0887"
            ],
            [
             0.1111111111111111,
             "#46039f"
            ],
            [
             0.2222222222222222,
             "#7201a8"
            ],
            [
             0.3333333333333333,
             "#9c179e"
            ],
            [
             0.4444444444444444,
             "#bd3786"
            ],
            [
             0.5555555555555556,
             "#d8576b"
            ],
            [
             0.6666666666666666,
             "#ed7953"
            ],
            [
             0.7777777777777778,
             "#fb9f3a"
            ],
            [
             0.8888888888888888,
             "#fdca26"
            ],
            [
             1,
             "#f0f921"
            ]
           ],
           "sequentialminus": [
            [
             0,
             "#0d0887"
            ],
            [
             0.1111111111111111,
             "#46039f"
            ],
            [
             0.2222222222222222,
             "#7201a8"
            ],
            [
             0.3333333333333333,
             "#9c179e"
            ],
            [
             0.4444444444444444,
             "#bd3786"
            ],
            [
             0.5555555555555556,
             "#d8576b"
            ],
            [
             0.6666666666666666,
             "#ed7953"
            ],
            [
             0.7777777777777778,
             "#fb9f3a"
            ],
            [
             0.8888888888888888,
             "#fdca26"
            ],
            [
             1,
             "#f0f921"
            ]
           ]
          },
          "colorway": [
           "#636efa",
           "#EF553B",
           "#00cc96",
           "#ab63fa",
           "#FFA15A",
           "#19d3f3",
           "#FF6692",
           "#B6E880",
           "#FF97FF",
           "#FECB52"
          ],
          "font": {
           "color": "#2a3f5f"
          },
          "geo": {
           "bgcolor": "white",
           "lakecolor": "white",
           "landcolor": "#E5ECF6",
           "showlakes": true,
           "showland": true,
           "subunitcolor": "white"
          },
          "hoverlabel": {
           "align": "left"
          },
          "hovermode": "closest",
          "mapbox": {
           "style": "light"
          },
          "paper_bgcolor": "white",
          "plot_bgcolor": "#E5ECF6",
          "polar": {
           "angularaxis": {
            "gridcolor": "white",
            "linecolor": "white",
            "ticks": ""
           },
           "bgcolor": "#E5ECF6",
           "radialaxis": {
            "gridcolor": "white",
            "linecolor": "white",
            "ticks": ""
           }
          },
          "scene": {
           "xaxis": {
            "backgroundcolor": "#E5ECF6",
            "gridcolor": "white",
            "gridwidth": 2,
            "linecolor": "white",
            "showbackground": true,
            "ticks": "",
            "zerolinecolor": "white"
           },
           "yaxis": {
            "backgroundcolor": "#E5ECF6",
            "gridcolor": "white",
            "gridwidth": 2,
            "linecolor": "white",
            "showbackground": true,
            "ticks": "",
            "zerolinecolor": "white"
           },
           "zaxis": {
            "backgroundcolor": "#E5ECF6",
            "gridcolor": "white",
            "gridwidth": 2,
            "linecolor": "white",
            "showbackground": true,
            "ticks": "",
            "zerolinecolor": "white"
           }
          },
          "shapedefaults": {
           "line": {
            "color": "#2a3f5f"
           }
          },
          "ternary": {
           "aaxis": {
            "gridcolor": "white",
            "linecolor": "white",
            "ticks": ""
           },
           "baxis": {
            "gridcolor": "white",
            "linecolor": "white",
            "ticks": ""
           },
           "bgcolor": "#E5ECF6",
           "caxis": {
            "gridcolor": "white",
            "linecolor": "white",
            "ticks": ""
           }
          },
          "title": {
           "x": 0.05
          },
          "xaxis": {
           "automargin": true,
           "gridcolor": "white",
           "linecolor": "white",
           "ticks": "",
           "title": {
            "standoff": 15
           },
           "zerolinecolor": "white",
           "zerolinewidth": 2
          },
          "yaxis": {
           "automargin": true,
           "gridcolor": "white",
           "linecolor": "white",
           "ticks": "",
           "title": {
            "standoff": 15
           },
           "zerolinecolor": "white",
           "zerolinewidth": 2
          }
         }
        },
        "title": {
         "text": "Interaction Distances for fold_g_atp_tub_seed1_model_0 by Residue and Interacting Chain"
        },
        "xaxis": {
         "anchor": "y",
         "categoryarray": [
          "5R",
          "18R",
          "21P",
          "51K",
          "94T",
          "95S",
          "96S",
          "97G",
          "98K",
          "99T",
          "100H",
          "148K",
          "159N",
          "162V",
          "163H",
          "164E",
          "165D",
          "205N",
          "208S",
          "209S",
          "241G",
          "244K",
          "245I",
          "259K",
          "262N",
          "263K",
          "266S",
          "270N",
          "273N",
          "279K",
          "282H",
          "286R",
          "287D",
          "325R",
          "345A",
          "348L",
          "357N",
          "358E",
          "359I",
          "360E",
          "362L",
          "363K",
          "365Y",
          "366I",
          "369L",
          "370E",
          "372V",
          "373S",
          "375V",
          "380L",
          "456I",
          "462K",
          "463C",
          "467E",
          "470L",
          "473K",
          "474E",
          "476E",
          "477K",
          "480I",
          "484L",
          "487Q",
          "488Q",
          "491I",
          "494K",
          "495D",
          "498I",
          "501L",
          "502N",
          "505I",
          "508S",
          "515Y",
          "518S",
          "522N",
          "525L",
          "526N",
          "529L",
          "535A",
          "536L",
          "538K",
          "539S",
          "541F",
          "543A",
          "545E",
          "546Q",
          "548L",
          "549T",
          "550I",
          "553L",
          "554N",
          "555E",
          "556E",
          "557N",
          "560I",
          "561K",
          "564L",
          "567L",
          "570R",
          "571I",
          "579I",
          "582L"
         ],
         "categoryorder": "array",
         "domain": [
          0,
          1
         ],
         "title": {
          "text": "Residue (Number and Identity)"
         }
        },
        "yaxis": {
         "anchor": "x",
         "domain": [
          0,
          1
         ],
         "title": {
          "text": "Distance (angstroms)"
         }
        }
       }
      }
     },
     "metadata": {},
     "output_type": "display_data"
    },
    {
     "name": "stderr",
     "output_type": "stream",
     "text": [
      "/var/folders/08/7vm2c9d11xvc7s0rf383rd480000gn/T/ipykernel_57000/2424036903.py:54: SettingWithCopyWarning:\n",
      "\n",
      "\n",
      "A value is trying to be set on a copy of a slice from a DataFrame.\n",
      "Try using .loc[row_indexer,col_indexer] = value instead\n",
      "\n",
      "See the caveats in the documentation: https://pandas.pydata.org/pandas-docs/stable/user_guide/indexing.html#returning-a-view-versus-a-copy\n",
      "\n"
     ]
    },
    {
     "data": {
      "application/vnd.plotly.v1+json": {
       "config": {
        "plotlyServerURL": "https://plot.ly"
       },
       "data": [
        {
         "customdata": [
          [
           "fold_h_atp_tub_seed1_model_0",
           "1?"
          ],
          [
           "fold_h_atp_tub_seed1_model_0",
           "1?"
          ],
          [
           "fold_h_atp_tub_seed1_model_0",
           "1?"
          ],
          [
           "fold_h_atp_tub_seed1_model_0",
           "1?"
          ],
          [
           "fold_h_atp_tub_seed1_model_0",
           "1?"
          ],
          [
           "fold_h_atp_tub_seed1_model_0",
           "1?"
          ],
          [
           "fold_h_atp_tub_seed1_model_0",
           "1?"
          ],
          [
           "fold_h_atp_tub_seed1_model_0",
           "1?"
          ],
          [
           "fold_h_atp_tub_seed1_model_0",
           "1?"
          ],
          [
           "fold_h_atp_tub_seed1_model_0",
           "1?"
          ],
          [
           "fold_h_atp_tub_seed1_model_0",
           "1?"
          ]
         ],
         "hovertemplate": "Interacting Chain=ATP<br>Residue (Number and Identity)=%{x}<br>Distance (angstroms)=%{y}<br>text=%{text}<br>file=%{customdata[0]}<br>interacting_label=%{customdata[1]}<extra></extra>",
         "legendgroup": "ATP",
         "marker": {
          "color": "#636efa",
          "opacity": 0.6,
          "size": 10,
          "symbol": "circle"
         },
         "mode": "markers+text",
         "name": "ATP",
         "orientation": "v",
         "showlegend": true,
         "text": [
          "1?",
          "1?",
          "1?",
          "1?",
          "1?",
          "1?",
          "1?",
          "1?",
          "1?",
          "1?",
          "1?"
         ],
         "textposition": "top center",
         "type": "scatter",
         "x": [
          "87T",
          "88G",
          "89S",
          "90G",
          "91K",
          "92T",
          "93F",
          "201N",
          "204S",
          "205S",
          "237G"
         ],
         "xaxis": "x",
         "y": [
          2.7136809825897217,
          2.823422431945801,
          3.3753457069396973,
          2.964850425720215,
          2.674063920974731,
          2.672137975692749,
          2.6421751976013184,
          3.039212703704834,
          3.0076818466186523,
          2.9404726028442383,
          2.8074371814727783
         ],
         "yaxis": "y"
        },
        {
         "customdata": [
          [
           "fold_h_atp_tub_seed1_model_0",
           "157E"
          ],
          [
           "fold_h_atp_tub_seed1_model_0",
           "407E"
          ],
          [
           "fold_h_atp_tub_seed1_model_0",
           "410E"
          ],
          [
           "fold_h_atp_tub_seed1_model_0",
           "407E"
          ],
          [
           "fold_h_atp_tub_seed1_model_0",
           "413S"
          ],
          [
           "fold_h_atp_tub_seed1_model_0",
           "432E"
          ],
          [
           "fold_h_atp_tub_seed1_model_0",
           "424Q"
          ],
          [
           "fold_h_atp_tub_seed1_model_0",
           "424Q"
          ],
          [
           "fold_h_atp_tub_seed1_model_0",
           "417D"
          ],
          [
           "fold_h_atp_tub_seed1_model_0",
           "262R"
          ],
          [
           "fold_h_atp_tub_seed1_model_0",
           "194E"
          ],
          [
           "fold_h_atp_tub_seed1_model_0",
           "391R"
          ],
          [
           "fold_h_atp_tub_seed1_model_0",
           "391R"
          ],
          [
           "fold_h_atp_tub_seed1_model_0",
           "394F"
          ],
          [
           "fold_h_atp_tub_seed1_model_0",
           "394F"
          ],
          [
           "fold_h_atp_tub_seed1_model_0",
           "397W"
          ],
          [
           "fold_h_atp_tub_seed1_model_0",
           "98G"
          ]
         ],
         "hovertemplate": "Interacting Chain=beta-tubulin<br>Residue (Number and Identity)=%{x}<br>Distance (angstroms)=%{y}<br>text=%{text}<br>file=%{customdata[0]}<br>interacting_label=%{customdata[1]}<extra></extra>",
         "legendgroup": "beta-tubulin",
         "marker": {
          "color": "#EF553B",
          "opacity": 0.6,
          "size": 10,
          "symbol": "circle"
         },
         "mode": "markers+text",
         "name": "beta-tubulin",
         "orientation": "v",
         "showlegend": true,
         "text": [
          "157E",
          "407E",
          "410E",
          "407E",
          "413S",
          "432E",
          "424Q",
          "424Q",
          "417D",
          "262R",
          "194E",
          "391R",
          "391R",
          "394F",
          "394F",
          "397W",
          "98G"
         ],
         "textposition": "top center",
         "type": "scatter",
         "x": [
          "144R",
          "157K",
          "158V",
          "159R",
          "160E",
          "275K",
          "277T",
          "278H",
          "282R",
          "283D",
          "285K",
          "494I",
          "498N",
          "505N",
          "508N",
          "509S",
          "512Q"
         ],
         "xaxis": "x",
         "y": [
          2.768033504486084,
          3.047783851623535,
          2.7401652336120605,
          3.184271812438965,
          3.432516574859619,
          3.420228958129883,
          3.3995347023010254,
          2.7170002460479736,
          2.4272496700286865,
          3.05643630027771,
          3.496941328048706,
          2.975874185562134,
          2.3815529346466064,
          2.46383285522461,
          3.2913224697113037,
          2.656165599822998,
          2.8011043071746826
         ],
         "yaxis": "y"
        },
        {
         "customdata": [
          [
           "fold_h_atp_tub_seed1_model_0",
           "414E"
          ],
          [
           "fold_h_atp_tub_seed1_model_0",
           "420E"
          ],
          [
           "fold_h_atp_tub_seed1_model_0",
           "412G"
          ],
          [
           "fold_h_atp_tub_seed1_model_0",
           "410G"
          ],
          [
           "fold_h_atp_tub_seed1_model_0",
           "409V"
          ],
          [
           "fold_h_atp_tub_seed1_model_0",
           "409V"
          ],
          [
           "fold_h_atp_tub_seed1_model_0",
           "415E"
          ],
          [
           "fold_h_atp_tub_seed1_model_0",
           "402R"
          ],
          [
           "fold_h_atp_tub_seed1_model_0",
           "420E"
          ],
          [
           "fold_h_atp_tub_seed1_model_0",
           "423E"
          ]
         ],
         "hovertemplate": "Interacting Chain=alpha-tubulin<br>Residue (Number and Identity)=%{x}<br>Distance (angstroms)=%{y}<br>text=%{text}<br>file=%{customdata[0]}<br>interacting_label=%{customdata[1]}<extra></extra>",
         "legendgroup": "alpha-tubulin",
         "marker": {
          "color": "#00cc96",
          "opacity": 0.6,
          "size": 10,
          "symbol": "circle"
         },
         "mode": "markers+text",
         "name": "alpha-tubulin",
         "orientation": "v",
         "showlegend": true,
         "text": [
          "414E",
          "420E",
          "412G",
          "410G",
          "409V",
          "409V",
          "415E",
          "402R",
          "420E",
          "423E"
         ],
         "textposition": "top center",
         "type": "scatter",
         "x": [
          "238S",
          "240K",
          "241I",
          "255K",
          "258N",
          "259K",
          "262S",
          "266N",
          "314A",
          "321R"
         ],
         "xaxis": "x",
         "y": [
          2.8748793601989746,
          2.4869065284729004,
          2.9714810848236084,
          3.2021288871765137,
          3.430851459503174,
          3.369836807250977,
          2.512510299682617,
          3.2866287231445312,
          3.040358543395996,
          2.6851649284362793
         ],
         "yaxis": "y"
        },
        {
         "customdata": [
          [
           "fold_h_atp_tub_seed1_model_0",
           "344L"
          ],
          [
           "fold_h_atp_tub_seed1_model_0",
           "341A"
          ],
          [
           "fold_h_atp_tub_seed1_model_0",
           "359K"
          ],
          [
           "fold_h_atp_tub_seed1_model_0",
           "362I"
          ],
          [
           "fold_h_atp_tub_seed1_model_0",
           "354E"
          ],
          [
           "fold_h_atp_tub_seed1_model_0",
           "373V"
          ],
          [
           "fold_h_atp_tub_seed1_model_0",
           "362I"
          ],
          [
           "fold_h_atp_tub_seed1_model_0",
           "371V"
          ],
          [
           "fold_h_atp_tub_seed1_model_0",
           "464K"
          ],
          [
           "fold_h_atp_tub_seed1_model_0",
           "464K"
          ],
          [
           "fold_h_atp_tub_seed1_model_0",
           "376L"
          ],
          [
           "fold_h_atp_tub_seed1_model_0",
           "369S"
          ],
          [
           "fold_h_atp_tub_seed1_model_0",
           "460I"
          ],
          [
           "fold_h_atp_tub_seed1_model_0",
           "365L"
          ],
          [
           "fold_h_atp_tub_seed1_model_0",
           "464K"
          ],
          [
           "fold_h_atp_tub_seed1_model_0",
           "361Y"
          ],
          [
           "fold_h_atp_tub_seed1_model_0",
           "463E"
          ],
          [
           "fold_h_atp_tub_seed1_model_0",
           "463E"
          ],
          [
           "fold_h_atp_tub_seed1_model_0",
           "368V"
          ],
          [
           "fold_h_atp_tub_seed1_model_0",
           "448D"
          ],
          [
           "fold_h_atp_tub_seed1_model_0",
           "444T"
          ],
          [
           "fold_h_atp_tub_seed1_model_0",
           "452I"
          ],
          [
           "fold_h_atp_tub_seed1_model_0",
           "463E"
          ],
          [
           "fold_h_atp_tub_seed1_model_0",
           "459C"
          ],
          [
           "fold_h_atp_tub_seed1_model_0",
           "463E"
          ],
          [
           "fold_h_atp_tub_seed1_model_0",
           "458K"
          ],
          [
           "fold_h_atp_tub_seed1_model_0",
           "466L"
          ],
          [
           "fold_h_atp_tub_seed1_model_0",
           "466L"
          ],
          [
           "fold_h_atp_tub_seed1_model_0",
           "470E"
          ],
          [
           "fold_h_atp_tub_seed1_model_0",
           "469K"
          ],
          [
           "fold_h_atp_tub_seed1_model_0",
           "473K"
          ],
          [
           "fold_h_atp_tub_seed1_model_0",
           "472E"
          ],
          [
           "fold_h_atp_tub_seed1_model_0",
           "480L"
          ],
          [
           "fold_h_atp_tub_seed1_model_0",
           "483Q"
          ],
          [
           "fold_h_atp_tub_seed1_model_0",
           "480L"
          ],
          [
           "fold_h_atp_tub_seed1_model_0",
           "483Q"
          ],
          [
           "fold_h_atp_tub_seed1_model_0",
           "490K"
          ],
          [
           "fold_h_atp_tub_seed1_model_0",
           "491D"
          ],
          [
           "fold_h_atp_tub_seed1_model_0",
           "490K"
          ],
          [
           "fold_h_atp_tub_seed1_model_0",
           "494I"
          ],
          [
           "fold_h_atp_tub_seed1_model_0",
           "501I"
          ],
          [
           "fold_h_atp_tub_seed1_model_0",
           "497L"
          ],
          [
           "fold_h_atp_tub_seed1_model_0",
           "504S"
          ],
          [
           "fold_h_atp_tub_seed1_model_0",
           "507I"
          ],
          [
           "fold_h_atp_tub_seed1_model_0",
           "511Y"
          ],
          [
           "fold_h_atp_tub_seed1_model_0",
           "510L"
          ],
          [
           "fold_h_atp_tub_seed1_model_0",
           "514S"
          ],
          [
           "fold_h_atp_tub_seed1_model_0",
           "518N"
          ],
          [
           "fold_h_atp_tub_seed1_model_0",
           "518N"
          ],
          [
           "fold_h_atp_tub_seed1_model_0",
           "521L"
          ],
          [
           "fold_h_atp_tub_seed1_model_0",
           "532L"
          ],
          [
           "fold_h_atp_tub_seed1_model_0",
           "531A"
          ],
          [
           "fold_h_atp_tub_seed1_model_0",
           "535S"
          ],
          [
           "fold_h_atp_tub_seed1_model_0",
           "542Q"
          ],
          [
           "fold_h_atp_tub_seed1_model_0",
           "539A"
          ],
          [
           "fold_h_atp_tub_seed1_model_0",
           "546I"
          ],
          [
           "fold_h_atp_tub_seed1_model_0",
           "550N"
          ],
          [
           "fold_h_atp_tub_seed1_model_0",
           "549L"
          ],
          [
           "fold_h_atp_tub_seed1_model_0",
           "557K"
          ],
          [
           "fold_h_atp_tub_seed1_model_0",
           "553N"
          ],
          [
           "fold_h_atp_tub_seed1_model_0",
           "556I"
          ],
          [
           "fold_h_atp_tub_seed1_model_0",
           "552E"
          ],
          [
           "fold_h_atp_tub_seed1_model_0",
           "560L"
          ],
          [
           "fold_h_atp_tub_seed1_model_0",
           "567I"
          ],
          [
           "fold_h_atp_tub_seed1_model_0",
           "578L"
          ],
          [
           "fold_h_atp_tub_seed1_model_0",
           "563L"
          ],
          [
           "fold_h_atp_tub_seed1_model_0",
           "575I"
          ],
          [
           "fold_h_atp_tub_seed1_model_0",
           "566R"
          ]
         ],
         "hovertemplate": "Interacting Chain=kinesin B<br>Residue (Number and Identity)=%{x}<br>Distance (angstroms)=%{y}<br>text=%{text}<br>file=%{customdata[0]}<br>interacting_label=%{customdata[1]}<extra></extra>",
         "legendgroup": "kinesin B",
         "marker": {
          "color": "#ab63fa",
          "opacity": 0.6,
          "size": 10,
          "symbol": "circle"
         },
         "mode": "markers+text",
         "name": "kinesin B",
         "orientation": "v",
         "showlegend": true,
         "text": [
          "344L",
          "341A",
          "359K",
          "362I",
          "354E",
          "373V",
          "362I",
          "371V",
          "464K",
          "464K",
          "376L",
          "369S",
          "460I",
          "365L",
          "464K",
          "361Y",
          "463E",
          "463E",
          "368V",
          "448D",
          "444T",
          "452I",
          "463E",
          "459C",
          "463E",
          "458K",
          "466L",
          "466L",
          "470E",
          "469K",
          "473K",
          "472E",
          "480L",
          "483Q",
          "480L",
          "483Q",
          "490K",
          "491D",
          "490K",
          "494I",
          "501I",
          "497L",
          "504S",
          "507I",
          "511Y",
          "510L",
          "514S",
          "518N",
          "518N",
          "521L",
          "532L",
          "531A",
          "535S",
          "542Q",
          "539A",
          "546I",
          "550N",
          "549L",
          "557K",
          "553N",
          "556I",
          "552E",
          "560L",
          "567I",
          "578L",
          "563L",
          "575I",
          "566R"
         ],
         "textposition": "top center",
         "type": "scatter",
         "x": [
          "341A",
          "344L",
          "354E",
          "358L",
          "359K",
          "361Y",
          "362I",
          "365L",
          "366E",
          "367T",
          "368V",
          "369S",
          "370G",
          "371V",
          "372T",
          "373V",
          "374S",
          "375N",
          "376L",
          "444T",
          "448D",
          "452I",
          "458K",
          "459C",
          "462L",
          "463E",
          "465Q",
          "466L",
          "469K",
          "470E",
          "472E",
          "473K",
          "476I",
          "480L",
          "483Q",
          "484Q",
          "487I",
          "490K",
          "491D",
          "493E",
          "497L",
          "501I",
          "504S",
          "508N",
          "510L",
          "511Y",
          "514S",
          "518N",
          "521L",
          "522N",
          "531A",
          "532L",
          "535S",
          "539A",
          "542Q",
          "546I",
          "549L",
          "550N",
          "552E",
          "553N",
          "556I",
          "557K",
          "560L",
          "563L",
          "566R",
          "567I",
          "575I",
          "578L"
         ],
         "xaxis": "x",
         "y": [
          3.2464489936828613,
          3.1811676025390625,
          2.7876062393188477,
          3.2889037132263184,
          2.5041942596435547,
          2.093987464904785,
          3.2933621406555176,
          2.98205304145813,
          1.9849523305892944,
          3.1734635829925537,
          2.9161553382873535,
          3.067169666290283,
          2.5092685222625732,
          2.9051871299743652,
          1.6073085069656372,
          3.0889830589294434,
          2.8501088619232178,
          2.283984899520874,
          2.154186248779297,
          2.297034502029419,
          2.346658706665039,
          3.4562010765075684,
          2.8986783027648926,
          2.8299708366394043,
          3.3915581703186035,
          2.7778964042663574,
          3.1131224632263184,
          2.956859350204468,
          2.776623487472534,
          2.828545570373535,
          2.6627914905548096,
          2.6028313636779785,
          3.171013355255127,
          3.079900026321411,
          3.0414021015167236,
          3.325914144515991,
          2.9861788749694824,
          2.5752620697021484,
          2.5212717056274414,
          3.44839859008789,
          2.8906216621398926,
          2.934314727783203,
          3.16332745552063,
          3.387312412261963,
          3.43734073638916,
          3.3862593173980713,
          2.796589612960815,
          2.172536611557007,
          3.0911104679107666,
          3.23193883895874,
          3.3904988765716553,
          3.4057912826538086,
          2.8518059253692627,
          2.714545488357544,
          2.726140260696411,
          3.331946849822998,
          3.074075937271118,
          3.1508708000183105,
          2.7956008911132812,
          2.272268533706665,
          3.241206169128418,
          2.6881024837493896,
          3.3551764488220215,
          3.2912817001342773,
          3.1702568531036377,
          3.3359241485595703,
          3.169877767562866,
          3.2285566329956055
         ],
         "yaxis": "y"
        }
       ],
       "layout": {
        "legend": {
         "title": {
          "text": "Interacting Chain"
         },
         "tracegroupgap": 0
        },
        "template": {
         "data": {
          "bar": [
           {
            "error_x": {
             "color": "#2a3f5f"
            },
            "error_y": {
             "color": "#2a3f5f"
            },
            "marker": {
             "line": {
              "color": "#E5ECF6",
              "width": 0.5
             },
             "pattern": {
              "fillmode": "overlay",
              "size": 10,
              "solidity": 0.2
             }
            },
            "type": "bar"
           }
          ],
          "barpolar": [
           {
            "marker": {
             "line": {
              "color": "#E5ECF6",
              "width": 0.5
             },
             "pattern": {
              "fillmode": "overlay",
              "size": 10,
              "solidity": 0.2
             }
            },
            "type": "barpolar"
           }
          ],
          "carpet": [
           {
            "aaxis": {
             "endlinecolor": "#2a3f5f",
             "gridcolor": "white",
             "linecolor": "white",
             "minorgridcolor": "white",
             "startlinecolor": "#2a3f5f"
            },
            "baxis": {
             "endlinecolor": "#2a3f5f",
             "gridcolor": "white",
             "linecolor": "white",
             "minorgridcolor": "white",
             "startlinecolor": "#2a3f5f"
            },
            "type": "carpet"
           }
          ],
          "choropleth": [
           {
            "colorbar": {
             "outlinewidth": 0,
             "ticks": ""
            },
            "type": "choropleth"
           }
          ],
          "contour": [
           {
            "colorbar": {
             "outlinewidth": 0,
             "ticks": ""
            },
            "colorscale": [
             [
              0,
              "#0d0887"
             ],
             [
              0.1111111111111111,
              "#46039f"
             ],
             [
              0.2222222222222222,
              "#7201a8"
             ],
             [
              0.3333333333333333,
              "#9c179e"
             ],
             [
              0.4444444444444444,
              "#bd3786"
             ],
             [
              0.5555555555555556,
              "#d8576b"
             ],
             [
              0.6666666666666666,
              "#ed7953"
             ],
             [
              0.7777777777777778,
              "#fb9f3a"
             ],
             [
              0.8888888888888888,
              "#fdca26"
             ],
             [
              1,
              "#f0f921"
             ]
            ],
            "type": "contour"
           }
          ],
          "contourcarpet": [
           {
            "colorbar": {
             "outlinewidth": 0,
             "ticks": ""
            },
            "type": "contourcarpet"
           }
          ],
          "heatmap": [
           {
            "colorbar": {
             "outlinewidth": 0,
             "ticks": ""
            },
            "colorscale": [
             [
              0,
              "#0d0887"
             ],
             [
              0.1111111111111111,
              "#46039f"
             ],
             [
              0.2222222222222222,
              "#7201a8"
             ],
             [
              0.3333333333333333,
              "#9c179e"
             ],
             [
              0.4444444444444444,
              "#bd3786"
             ],
             [
              0.5555555555555556,
              "#d8576b"
             ],
             [
              0.6666666666666666,
              "#ed7953"
             ],
             [
              0.7777777777777778,
              "#fb9f3a"
             ],
             [
              0.8888888888888888,
              "#fdca26"
             ],
             [
              1,
              "#f0f921"
             ]
            ],
            "type": "heatmap"
           }
          ],
          "heatmapgl": [
           {
            "colorbar": {
             "outlinewidth": 0,
             "ticks": ""
            },
            "colorscale": [
             [
              0,
              "#0d0887"
             ],
             [
              0.1111111111111111,
              "#46039f"
             ],
             [
              0.2222222222222222,
              "#7201a8"
             ],
             [
              0.3333333333333333,
              "#9c179e"
             ],
             [
              0.4444444444444444,
              "#bd3786"
             ],
             [
              0.5555555555555556,
              "#d8576b"
             ],
             [
              0.6666666666666666,
              "#ed7953"
             ],
             [
              0.7777777777777778,
              "#fb9f3a"
             ],
             [
              0.8888888888888888,
              "#fdca26"
             ],
             [
              1,
              "#f0f921"
             ]
            ],
            "type": "heatmapgl"
           }
          ],
          "histogram": [
           {
            "marker": {
             "pattern": {
              "fillmode": "overlay",
              "size": 10,
              "solidity": 0.2
             }
            },
            "type": "histogram"
           }
          ],
          "histogram2d": [
           {
            "colorbar": {
             "outlinewidth": 0,
             "ticks": ""
            },
            "colorscale": [
             [
              0,
              "#0d0887"
             ],
             [
              0.1111111111111111,
              "#46039f"
             ],
             [
              0.2222222222222222,
              "#7201a8"
             ],
             [
              0.3333333333333333,
              "#9c179e"
             ],
             [
              0.4444444444444444,
              "#bd3786"
             ],
             [
              0.5555555555555556,
              "#d8576b"
             ],
             [
              0.6666666666666666,
              "#ed7953"
             ],
             [
              0.7777777777777778,
              "#fb9f3a"
             ],
             [
              0.8888888888888888,
              "#fdca26"
             ],
             [
              1,
              "#f0f921"
             ]
            ],
            "type": "histogram2d"
           }
          ],
          "histogram2dcontour": [
           {
            "colorbar": {
             "outlinewidth": 0,
             "ticks": ""
            },
            "colorscale": [
             [
              0,
              "#0d0887"
             ],
             [
              0.1111111111111111,
              "#46039f"
             ],
             [
              0.2222222222222222,
              "#7201a8"
             ],
             [
              0.3333333333333333,
              "#9c179e"
             ],
             [
              0.4444444444444444,
              "#bd3786"
             ],
             [
              0.5555555555555556,
              "#d8576b"
             ],
             [
              0.6666666666666666,
              "#ed7953"
             ],
             [
              0.7777777777777778,
              "#fb9f3a"
             ],
             [
              0.8888888888888888,
              "#fdca26"
             ],
             [
              1,
              "#f0f921"
             ]
            ],
            "type": "histogram2dcontour"
           }
          ],
          "mesh3d": [
           {
            "colorbar": {
             "outlinewidth": 0,
             "ticks": ""
            },
            "type": "mesh3d"
           }
          ],
          "parcoords": [
           {
            "line": {
             "colorbar": {
              "outlinewidth": 0,
              "ticks": ""
             }
            },
            "type": "parcoords"
           }
          ],
          "pie": [
           {
            "automargin": true,
            "type": "pie"
           }
          ],
          "scatter": [
           {
            "fillpattern": {
             "fillmode": "overlay",
             "size": 10,
             "solidity": 0.2
            },
            "type": "scatter"
           }
          ],
          "scatter3d": [
           {
            "line": {
             "colorbar": {
              "outlinewidth": 0,
              "ticks": ""
             }
            },
            "marker": {
             "colorbar": {
              "outlinewidth": 0,
              "ticks": ""
             }
            },
            "type": "scatter3d"
           }
          ],
          "scattercarpet": [
           {
            "marker": {
             "colorbar": {
              "outlinewidth": 0,
              "ticks": ""
             }
            },
            "type": "scattercarpet"
           }
          ],
          "scattergeo": [
           {
            "marker": {
             "colorbar": {
              "outlinewidth": 0,
              "ticks": ""
             }
            },
            "type": "scattergeo"
           }
          ],
          "scattergl": [
           {
            "marker": {
             "colorbar": {
              "outlinewidth": 0,
              "ticks": ""
             }
            },
            "type": "scattergl"
           }
          ],
          "scattermapbox": [
           {
            "marker": {
             "colorbar": {
              "outlinewidth": 0,
              "ticks": ""
             }
            },
            "type": "scattermapbox"
           }
          ],
          "scatterpolar": [
           {
            "marker": {
             "colorbar": {
              "outlinewidth": 0,
              "ticks": ""
             }
            },
            "type": "scatterpolar"
           }
          ],
          "scatterpolargl": [
           {
            "marker": {
             "colorbar": {
              "outlinewidth": 0,
              "ticks": ""
             }
            },
            "type": "scatterpolargl"
           }
          ],
          "scatterternary": [
           {
            "marker": {
             "colorbar": {
              "outlinewidth": 0,
              "ticks": ""
             }
            },
            "type": "scatterternary"
           }
          ],
          "surface": [
           {
            "colorbar": {
             "outlinewidth": 0,
             "ticks": ""
            },
            "colorscale": [
             [
              0,
              "#0d0887"
             ],
             [
              0.1111111111111111,
              "#46039f"
             ],
             [
              0.2222222222222222,
              "#7201a8"
             ],
             [
              0.3333333333333333,
              "#9c179e"
             ],
             [
              0.4444444444444444,
              "#bd3786"
             ],
             [
              0.5555555555555556,
              "#d8576b"
             ],
             [
              0.6666666666666666,
              "#ed7953"
             ],
             [
              0.7777777777777778,
              "#fb9f3a"
             ],
             [
              0.8888888888888888,
              "#fdca26"
             ],
             [
              1,
              "#f0f921"
             ]
            ],
            "type": "surface"
           }
          ],
          "table": [
           {
            "cells": {
             "fill": {
              "color": "#EBF0F8"
             },
             "line": {
              "color": "white"
             }
            },
            "header": {
             "fill": {
              "color": "#C8D4E3"
             },
             "line": {
              "color": "white"
             }
            },
            "type": "table"
           }
          ]
         },
         "layout": {
          "annotationdefaults": {
           "arrowcolor": "#2a3f5f",
           "arrowhead": 0,
           "arrowwidth": 1
          },
          "autotypenumbers": "strict",
          "coloraxis": {
           "colorbar": {
            "outlinewidth": 0,
            "ticks": ""
           }
          },
          "colorscale": {
           "diverging": [
            [
             0,
             "#8e0152"
            ],
            [
             0.1,
             "#c51b7d"
            ],
            [
             0.2,
             "#de77ae"
            ],
            [
             0.3,
             "#f1b6da"
            ],
            [
             0.4,
             "#fde0ef"
            ],
            [
             0.5,
             "#f7f7f7"
            ],
            [
             0.6,
             "#e6f5d0"
            ],
            [
             0.7,
             "#b8e186"
            ],
            [
             0.8,
             "#7fbc41"
            ],
            [
             0.9,
             "#4d9221"
            ],
            [
             1,
             "#276419"
            ]
           ],
           "sequential": [
            [
             0,
             "#0d0887"
            ],
            [
             0.1111111111111111,
             "#46039f"
            ],
            [
             0.2222222222222222,
             "#7201a8"
            ],
            [
             0.3333333333333333,
             "#9c179e"
            ],
            [
             0.4444444444444444,
             "#bd3786"
            ],
            [
             0.5555555555555556,
             "#d8576b"
            ],
            [
             0.6666666666666666,
             "#ed7953"
            ],
            [
             0.7777777777777778,
             "#fb9f3a"
            ],
            [
             0.8888888888888888,
             "#fdca26"
            ],
            [
             1,
             "#f0f921"
            ]
           ],
           "sequentialminus": [
            [
             0,
             "#0d0887"
            ],
            [
             0.1111111111111111,
             "#46039f"
            ],
            [
             0.2222222222222222,
             "#7201a8"
            ],
            [
             0.3333333333333333,
             "#9c179e"
            ],
            [
             0.4444444444444444,
             "#bd3786"
            ],
            [
             0.5555555555555556,
             "#d8576b"
            ],
            [
             0.6666666666666666,
             "#ed7953"
            ],
            [
             0.7777777777777778,
             "#fb9f3a"
            ],
            [
             0.8888888888888888,
             "#fdca26"
            ],
            [
             1,
             "#f0f921"
            ]
           ]
          },
          "colorway": [
           "#636efa",
           "#EF553B",
           "#00cc96",
           "#ab63fa",
           "#FFA15A",
           "#19d3f3",
           "#FF6692",
           "#B6E880",
           "#FF97FF",
           "#FECB52"
          ],
          "font": {
           "color": "#2a3f5f"
          },
          "geo": {
           "bgcolor": "white",
           "lakecolor": "white",
           "landcolor": "#E5ECF6",
           "showlakes": true,
           "showland": true,
           "subunitcolor": "white"
          },
          "hoverlabel": {
           "align": "left"
          },
          "hovermode": "closest",
          "mapbox": {
           "style": "light"
          },
          "paper_bgcolor": "white",
          "plot_bgcolor": "#E5ECF6",
          "polar": {
           "angularaxis": {
            "gridcolor": "white",
            "linecolor": "white",
            "ticks": ""
           },
           "bgcolor": "#E5ECF6",
           "radialaxis": {
            "gridcolor": "white",
            "linecolor": "white",
            "ticks": ""
           }
          },
          "scene": {
           "xaxis": {
            "backgroundcolor": "#E5ECF6",
            "gridcolor": "white",
            "gridwidth": 2,
            "linecolor": "white",
            "showbackground": true,
            "ticks": "",
            "zerolinecolor": "white"
           },
           "yaxis": {
            "backgroundcolor": "#E5ECF6",
            "gridcolor": "white",
            "gridwidth": 2,
            "linecolor": "white",
            "showbackground": true,
            "ticks": "",
            "zerolinecolor": "white"
           },
           "zaxis": {
            "backgroundcolor": "#E5ECF6",
            "gridcolor": "white",
            "gridwidth": 2,
            "linecolor": "white",
            "showbackground": true,
            "ticks": "",
            "zerolinecolor": "white"
           }
          },
          "shapedefaults": {
           "line": {
            "color": "#2a3f5f"
           }
          },
          "ternary": {
           "aaxis": {
            "gridcolor": "white",
            "linecolor": "white",
            "ticks": ""
           },
           "baxis": {
            "gridcolor": "white",
            "linecolor": "white",
            "ticks": ""
           },
           "bgcolor": "#E5ECF6",
           "caxis": {
            "gridcolor": "white",
            "linecolor": "white",
            "ticks": ""
           }
          },
          "title": {
           "x": 0.05
          },
          "xaxis": {
           "automargin": true,
           "gridcolor": "white",
           "linecolor": "white",
           "ticks": "",
           "title": {
            "standoff": 15
           },
           "zerolinecolor": "white",
           "zerolinewidth": 2
          },
          "yaxis": {
           "automargin": true,
           "gridcolor": "white",
           "linecolor": "white",
           "ticks": "",
           "title": {
            "standoff": 15
           },
           "zerolinecolor": "white",
           "zerolinewidth": 2
          }
         }
        },
        "title": {
         "text": "Interaction Distances for fold_h_atp_tub_seed1_model_0 by Residue and Interacting Chain"
        },
        "xaxis": {
         "anchor": "y",
         "categoryarray": [
          "87T",
          "88G",
          "89S",
          "90G",
          "91K",
          "92T",
          "93F",
          "144R",
          "157K",
          "158V",
          "159R",
          "160E",
          "201N",
          "204S",
          "205S",
          "237G",
          "238S",
          "240K",
          "241I",
          "255K",
          "258N",
          "259K",
          "262S",
          "266N",
          "275K",
          "277T",
          "278H",
          "282R",
          "283D",
          "285K",
          "314A",
          "321R",
          "341A",
          "344L",
          "354E",
          "358L",
          "359K",
          "361Y",
          "362I",
          "365L",
          "366E",
          "367T",
          "368V",
          "369S",
          "370G",
          "371V",
          "372T",
          "373V",
          "374S",
          "375N",
          "376L",
          "444T",
          "448D",
          "452I",
          "458K",
          "459C",
          "462L",
          "463E",
          "465Q",
          "466L",
          "469K",
          "470E",
          "472E",
          "473K",
          "476I",
          "480L",
          "483Q",
          "484Q",
          "487I",
          "490K",
          "491D",
          "493E",
          "494I",
          "497L",
          "498N",
          "501I",
          "504S",
          "505N",
          "508N",
          "509S",
          "510L",
          "511Y",
          "512Q",
          "514S",
          "518N",
          "521L",
          "522N",
          "531A",
          "532L",
          "535S",
          "539A",
          "542Q",
          "546I",
          "549L",
          "550N",
          "552E",
          "553N",
          "556I",
          "557K",
          "560L",
          "563L",
          "566R",
          "567I",
          "575I",
          "578L"
         ],
         "categoryorder": "array",
         "domain": [
          0,
          1
         ],
         "title": {
          "text": "Residue (Number and Identity)"
         }
        },
        "yaxis": {
         "anchor": "x",
         "domain": [
          0,
          1
         ],
         "title": {
          "text": "Distance (angstroms)"
         }
        }
       }
      }
     },
     "metadata": {},
     "output_type": "display_data"
    },
    {
     "name": "stderr",
     "output_type": "stream",
     "text": [
      "/var/folders/08/7vm2c9d11xvc7s0rf383rd480000gn/T/ipykernel_57000/2424036903.py:54: SettingWithCopyWarning:\n",
      "\n",
      "\n",
      "A value is trying to be set on a copy of a slice from a DataFrame.\n",
      "Try using .loc[row_indexer,col_indexer] = value instead\n",
      "\n",
      "See the caveats in the documentation: https://pandas.pydata.org/pandas-docs/stable/user_guide/indexing.html#returning-a-view-versus-a-copy\n",
      "\n"
     ]
    },
    {
     "data": {
      "application/vnd.plotly.v1+json": {
       "config": {
        "plotlyServerURL": "https://plot.ly"
       },
       "data": [
        {
         "customdata": [
          [
           "fold_heal_atp_tub_seed1_model_0",
           "439E"
          ],
          [
           "fold_heal_atp_tub_seed1_model_0",
           "157E"
          ],
          [
           "fold_heal_atp_tub_seed1_model_0",
           "407E"
          ],
          [
           "fold_heal_atp_tub_seed1_model_0",
           "410E"
          ],
          [
           "fold_heal_atp_tub_seed1_model_0",
           "404D"
          ],
          [
           "fold_heal_atp_tub_seed1_model_0",
           "413S"
          ],
          [
           "fold_heal_atp_tub_seed1_model_0",
           "432E"
          ],
          [
           "fold_heal_atp_tub_seed1_model_0",
           "424Q"
          ],
          [
           "fold_heal_atp_tub_seed1_model_0",
           "424Q"
          ],
          [
           "fold_heal_atp_tub_seed1_model_0",
           "417D"
          ],
          [
           "fold_heal_atp_tub_seed1_model_0",
           "262R"
          ],
          [
           "fold_heal_atp_tub_seed1_model_0",
           "390R"
          ],
          [
           "fold_heal_atp_tub_seed1_model_0",
           "390R"
          ]
         ],
         "hovertemplate": "Interacting Chain=beta-tubulin<br>Residue (Number and Identity)=%{x}<br>Distance (angstroms)=%{y}<br>text=%{text}<br>file=%{customdata[0]}<br>interacting_label=%{customdata[1]}<extra></extra>",
         "legendgroup": "beta-tubulin",
         "marker": {
          "color": "#636efa",
          "opacity": 0.6,
          "size": 10,
          "symbol": "circle"
         },
         "mode": "markers+text",
         "name": "beta-tubulin",
         "orientation": "v",
         "showlegend": true,
         "text": [
          "439E",
          "157E",
          "407E",
          "410E",
          "404D",
          "413S",
          "432E",
          "424Q",
          "424Q",
          "417D",
          "262R",
          "390R",
          "390R"
         ],
         "textposition": "top center",
         "type": "scatter",
         "x": [
          "44T",
          "141R",
          "154K",
          "155V",
          "156R",
          "157E",
          "272K",
          "274T",
          "275H",
          "279R",
          "280D",
          "415T",
          "419Q"
         ],
         "xaxis": "x",
         "y": [
          3.3457484245300293,
          2.4946069717407227,
          2.9032881259918213,
          2.8468306064605713,
          2.7236084938049316,
          2.967221736907959,
          3.4371378421783447,
          3.329631805419922,
          2.81040096282959,
          2.5651798248291016,
          3.0636143684387207,
          3.0935685634613037,
          2.449388027191162
         ],
         "yaxis": "y"
        },
        {
         "customdata": [
          [
           "fold_heal_atp_tub_seed1_model_0",
           "1?"
          ],
          [
           "fold_heal_atp_tub_seed1_model_0",
           "1?"
          ],
          [
           "fold_heal_atp_tub_seed1_model_0",
           "1?"
          ],
          [
           "fold_heal_atp_tub_seed1_model_0",
           "1?"
          ],
          [
           "fold_heal_atp_tub_seed1_model_0",
           "1?"
          ],
          [
           "fold_heal_atp_tub_seed1_model_0",
           "1?"
          ],
          [
           "fold_heal_atp_tub_seed1_model_0",
           "1?"
          ],
          [
           "fold_heal_atp_tub_seed1_model_0",
           "1?"
          ],
          [
           "fold_heal_atp_tub_seed1_model_0",
           "1?"
          ],
          [
           "fold_heal_atp_tub_seed1_model_0",
           "1?"
          ],
          [
           "fold_heal_atp_tub_seed1_model_0",
           "1?"
          ]
         ],
         "hovertemplate": "Interacting Chain=ATP<br>Residue (Number and Identity)=%{x}<br>Distance (angstroms)=%{y}<br>text=%{text}<br>file=%{customdata[0]}<br>interacting_label=%{customdata[1]}<extra></extra>",
         "legendgroup": "ATP",
         "marker": {
          "color": "#EF553B",
          "opacity": 0.6,
          "size": 10,
          "symbol": "circle"
         },
         "mode": "markers+text",
         "name": "ATP",
         "orientation": "v",
         "showlegend": true,
         "text": [
          "1?",
          "1?",
          "1?",
          "1?",
          "1?",
          "1?",
          "1?",
          "1?",
          "1?",
          "1?",
          "1?"
         ],
         "textposition": "top center",
         "type": "scatter",
         "x": [
          "86T",
          "87S",
          "88S",
          "89G",
          "90K",
          "91T",
          "92H",
          "198N",
          "201S",
          "202S",
          "234G"
         ],
         "xaxis": "x",
         "y": [
          2.5786914825439453,
          2.972742795944214,
          3.463135004043579,
          3.130014181137085,
          2.810088634490967,
          2.580026149749756,
          2.6399996280670166,
          3.03995680809021,
          2.9840285778045654,
          2.8099517822265625,
          2.912442922592163
         ],
         "yaxis": "y"
        },
        {
         "customdata": [
          [
           "fold_heal_atp_tub_seed1_model_0",
           "420E"
          ],
          [
           "fold_heal_atp_tub_seed1_model_0",
           "412G"
          ],
          [
           "fold_heal_atp_tub_seed1_model_0",
           "410G"
          ],
          [
           "fold_heal_atp_tub_seed1_model_0",
           "409V"
          ],
          [
           "fold_heal_atp_tub_seed1_model_0",
           "415E"
          ],
          [
           "fold_heal_atp_tub_seed1_model_0",
           "402R"
          ],
          [
           "fold_heal_atp_tub_seed1_model_0",
           "423E"
          ]
         ],
         "hovertemplate": "Interacting Chain=alpha-tubulin<br>Residue (Number and Identity)=%{x}<br>Distance (angstroms)=%{y}<br>text=%{text}<br>file=%{customdata[0]}<br>interacting_label=%{customdata[1]}<extra></extra>",
         "legendgroup": "alpha-tubulin",
         "marker": {
          "color": "#00cc96",
          "opacity": 0.6,
          "size": 10,
          "symbol": "circle"
         },
         "mode": "markers+text",
         "name": "alpha-tubulin",
         "orientation": "v",
         "showlegend": true,
         "text": [
          "420E",
          "412G",
          "410G",
          "409V",
          "415E",
          "402R",
          "423E"
         ],
         "textposition": "top center",
         "type": "scatter",
         "x": [
          "237K",
          "238I",
          "252K",
          "256K",
          "259S",
          "263N",
          "318R"
         ],
         "xaxis": "x",
         "y": [
          2.577763319015503,
          2.878476858139038,
          3.2297778129577637,
          3.464348554611206,
          2.523195743560791,
          3.35144305229187,
          2.7373316287994385
         ],
         "yaxis": "y"
        },
        {
         "customdata": [
          [
           "fold_heal_atp_tub_seed1_model_0",
           "342K"
          ],
          [
           "fold_heal_atp_tub_seed1_model_0",
           "341L"
          ],
          [
           "fold_heal_atp_tub_seed1_model_0",
           "338A"
          ],
          [
           "fold_heal_atp_tub_seed1_model_0",
           "335E"
          ],
          [
           "fold_heal_atp_tub_seed1_model_0",
           "344L"
          ],
          [
           "fold_heal_atp_tub_seed1_model_0",
           "356K"
          ],
          [
           "fold_heal_atp_tub_seed1_model_0",
           "359I"
          ],
          [
           "fold_heal_atp_tub_seed1_model_0",
           "351E"
          ],
          [
           "fold_heal_atp_tub_seed1_model_0",
           "363E"
          ],
          [
           "fold_heal_atp_tub_seed1_model_0",
           "355L"
          ],
          [
           "fold_heal_atp_tub_seed1_model_0",
           "358Y"
          ],
          [
           "fold_heal_atp_tub_seed1_model_0",
           "370H"
          ],
          [
           "fold_heal_atp_tub_seed1_model_0",
           "374G"
          ],
          [
           "fold_heal_atp_tub_seed1_model_0",
           "375N"
          ],
          [
           "fold_heal_atp_tub_seed1_model_0",
           "375N"
          ],
          [
           "fold_heal_atp_tub_seed1_model_0",
           "377L"
          ],
          [
           "fold_heal_atp_tub_seed1_model_0",
           "385V"
          ],
          [
           "fold_heal_atp_tub_seed1_model_0",
           "396E"
          ],
          [
           "fold_heal_atp_tub_seed1_model_0",
           "392C"
          ],
          [
           "fold_heal_atp_tub_seed1_model_0",
           "391K"
          ],
          [
           "fold_heal_atp_tub_seed1_model_0",
           "399L"
          ],
          [
           "fold_heal_atp_tub_seed1_model_0",
           "399L"
          ],
          [
           "fold_heal_atp_tub_seed1_model_0",
           "403E"
          ],
          [
           "fold_heal_atp_tub_seed1_model_0",
           "402K"
          ],
          [
           "fold_heal_atp_tub_seed1_model_0",
           "406K"
          ],
          [
           "fold_heal_atp_tub_seed1_model_0",
           "405E"
          ],
          [
           "fold_heal_atp_tub_seed1_model_0",
           "406K"
          ],
          [
           "fold_heal_atp_tub_seed1_model_0",
           "413L"
          ],
          [
           "fold_heal_atp_tub_seed1_model_0",
           "413L"
          ],
          [
           "fold_heal_atp_tub_seed1_model_0",
           "417S"
          ],
          [
           "fold_heal_atp_tub_seed1_model_0",
           "416I"
          ],
          [
           "fold_heal_atp_tub_seed1_model_0",
           "420L"
          ],
          [
           "fold_heal_atp_tub_seed1_model_0",
           "420L"
          ],
          [
           "fold_heal_atp_tub_seed1_model_0",
           "427L"
          ],
          [
           "fold_heal_atp_tub_seed1_model_0",
           "427L"
          ],
          [
           "fold_heal_atp_tub_seed1_model_0",
           "218K"
          ],
          [
           "fold_heal_atp_tub_seed1_model_0",
           "431T"
          ],
          [
           "fold_heal_atp_tub_seed1_model_0",
           "430Q"
          ],
          [
           "fold_heal_atp_tub_seed1_model_0",
           "434V"
          ],
          [
           "fold_heal_atp_tub_seed1_model_0",
           "441A"
          ],
          [
           "fold_heal_atp_tub_seed1_model_0",
           "440E"
          ],
          [
           "fold_heal_atp_tub_seed1_model_0",
           "444Y"
          ],
          [
           "fold_heal_atp_tub_seed1_model_0",
           "444Y"
          ],
          [
           "fold_heal_atp_tub_seed1_model_0",
           "448S"
          ],
          [
           "fold_heal_atp_tub_seed1_model_0",
           "447L"
          ],
          [
           "fold_heal_atp_tub_seed1_model_0",
           "454L"
          ],
          [
           "fold_heal_atp_tub_seed1_model_0",
           "451N"
          ],
          [
           "fold_heal_atp_tub_seed1_model_0",
           "458L"
          ],
          [
           "fold_heal_atp_tub_seed1_model_0",
           "461I"
          ],
          [
           "fold_heal_atp_tub_seed1_model_0",
           "461I"
          ],
          [
           "fold_heal_atp_tub_seed1_model_0",
           "465L"
          ],
          [
           "fold_heal_atp_tub_seed1_model_0",
           "469N"
          ],
          [
           "fold_heal_atp_tub_seed1_model_0",
           "468K"
          ],
          [
           "fold_heal_atp_tub_seed1_model_0",
           "468K"
          ],
          [
           "fold_heal_atp_tub_seed1_model_0",
           "475Q"
          ],
          [
           "fold_heal_atp_tub_seed1_model_0",
           "475Q"
          ],
          [
           "fold_heal_atp_tub_seed1_model_0",
           "479I"
          ],
          [
           "fold_heal_atp_tub_seed1_model_0",
           "483S"
          ],
          [
           "fold_heal_atp_tub_seed1_model_0",
           "482L"
          ],
          [
           "fold_heal_atp_tub_seed1_model_0",
           "490K"
          ],
          [
           "fold_heal_atp_tub_seed1_model_0",
           "489I"
          ],
          [
           "fold_heal_atp_tub_seed1_model_0",
           "486N"
          ],
          [
           "fold_heal_atp_tub_seed1_model_0",
           "485E"
          ],
          [
           "fold_heal_atp_tub_seed1_model_0",
           "493L"
          ]
         ],
         "hovertemplate": "Interacting Chain=kinesin B<br>Residue (Number and Identity)=%{x}<br>Distance (angstroms)=%{y}<br>text=%{text}<br>file=%{customdata[0]}<br>interacting_label=%{customdata[1]}<extra></extra>",
         "legendgroup": "kinesin B",
         "marker": {
          "color": "#ab63fa",
          "opacity": 0.6,
          "size": 10,
          "symbol": "circle"
         },
         "mode": "markers+text",
         "name": "kinesin B",
         "orientation": "v",
         "showlegend": true,
         "text": [
          "342K",
          "341L",
          "338A",
          "335E",
          "344L",
          "356K",
          "359I",
          "351E",
          "363E",
          "355L",
          "358Y",
          "370H",
          "374G",
          "375N",
          "375N",
          "377L",
          "385V",
          "396E",
          "392C",
          "391K",
          "399L",
          "399L",
          "403E",
          "402K",
          "406K",
          "405E",
          "406K",
          "413L",
          "413L",
          "417S",
          "416I",
          "420L",
          "420L",
          "427L",
          "427L",
          "218K",
          "431T",
          "430Q",
          "434V",
          "441A",
          "440E",
          "444Y",
          "444Y",
          "448S",
          "447L",
          "454L",
          "451N",
          "458L",
          "461I",
          "461I",
          "465L",
          "469N",
          "468K",
          "468K",
          "475Q",
          "475Q",
          "479I",
          "483S",
          "482L",
          "490K",
          "489I",
          "486N",
          "485E",
          "493L"
         ],
         "textposition": "top center",
         "type": "scatter",
         "x": [
          "335E",
          "338A",
          "341L",
          "342K",
          "345L",
          "351E",
          "355L",
          "356K",
          "358Y",
          "359I",
          "363E",
          "370H",
          "375N",
          "376N",
          "377L",
          "378D",
          "385V",
          "391K",
          "392C",
          "396E",
          "398L",
          "399L",
          "402K",
          "403E",
          "405E",
          "406K",
          "409L",
          "412Q",
          "413L",
          "416I",
          "417S",
          "419Q",
          "420L",
          "423K",
          "426E",
          "427L",
          "430Q",
          "431T",
          "434V",
          "440E",
          "441A",
          "443K",
          "444Y",
          "447L",
          "448S",
          "451N",
          "454L",
          "458L",
          "461I",
          "462K",
          "465L",
          "468K",
          "469N",
          "472S",
          "475Q",
          "476T",
          "479I",
          "482L",
          "483S",
          "485E",
          "486N",
          "489I",
          "490K",
          "493L"
         ],
         "xaxis": "x",
         "y": [
          3.478454828262329,
          3.2369465827941895,
          3.1345224380493164,
          2.89565372467041,
          3.379722595214844,
          2.900228261947632,
          3.309338331222534,
          2.7728662490844727,
          2.971214771270752,
          3.2857022285461426,
          3.3557939529418945,
          2.2897543907165527,
          1.022712469100952,
          0.5445348024368286,
          0.79610276222229,
          2.417060375213623,
          3.3102807998657227,
          2.979038953781128,
          2.9149134159088135,
          2.7228190898895264,
          3.4365885257720947,
          3.219620704650879,
          2.5084264278411865,
          2.8112680912017822,
          2.5953140258789062,
          2.6530027389526367,
          3.235026597976685,
          3.198326587677002,
          2.862952709197998,
          3.2376747131347656,
          3.2242043018341064,
          3.494253158569336,
          3.45425796508789,
          3.4616522789001465,
          3.435548782348633,
          2.9653117656707764,
          2.862913131713867,
          2.8661036491394043,
          3.3939502239227295,
          3.4868404865264893,
          3.453094959259033,
          3.432297945022583,
          3.3036692142486572,
          3.181915283203125,
          3.195829153060913,
          2.4931817054748535,
          2.499253273010254,
          3.264362335205078,
          3.2587344646453857,
          3.3763248920440674,
          3.4559202194213867,
          2.710660219192505,
          2.706077337265014,
          3.134779453277588,
          2.852083921432495,
          3.099862575531006,
          3.4566357135772705,
          3.485217332839966,
          3.480398178100586,
          2.7618978023529053,
          2.625898838043213,
          2.6373958587646484,
          2.650601625442505,
          3.4101428985595703
         ],
         "yaxis": "y"
        }
       ],
       "layout": {
        "legend": {
         "title": {
          "text": "Interacting Chain"
         },
         "tracegroupgap": 0
        },
        "template": {
         "data": {
          "bar": [
           {
            "error_x": {
             "color": "#2a3f5f"
            },
            "error_y": {
             "color": "#2a3f5f"
            },
            "marker": {
             "line": {
              "color": "#E5ECF6",
              "width": 0.5
             },
             "pattern": {
              "fillmode": "overlay",
              "size": 10,
              "solidity": 0.2
             }
            },
            "type": "bar"
           }
          ],
          "barpolar": [
           {
            "marker": {
             "line": {
              "color": "#E5ECF6",
              "width": 0.5
             },
             "pattern": {
              "fillmode": "overlay",
              "size": 10,
              "solidity": 0.2
             }
            },
            "type": "barpolar"
           }
          ],
          "carpet": [
           {
            "aaxis": {
             "endlinecolor": "#2a3f5f",
             "gridcolor": "white",
             "linecolor": "white",
             "minorgridcolor": "white",
             "startlinecolor": "#2a3f5f"
            },
            "baxis": {
             "endlinecolor": "#2a3f5f",
             "gridcolor": "white",
             "linecolor": "white",
             "minorgridcolor": "white",
             "startlinecolor": "#2a3f5f"
            },
            "type": "carpet"
           }
          ],
          "choropleth": [
           {
            "colorbar": {
             "outlinewidth": 0,
             "ticks": ""
            },
            "type": "choropleth"
           }
          ],
          "contour": [
           {
            "colorbar": {
             "outlinewidth": 0,
             "ticks": ""
            },
            "colorscale": [
             [
              0,
              "#0d0887"
             ],
             [
              0.1111111111111111,
              "#46039f"
             ],
             [
              0.2222222222222222,
              "#7201a8"
             ],
             [
              0.3333333333333333,
              "#9c179e"
             ],
             [
              0.4444444444444444,
              "#bd3786"
             ],
             [
              0.5555555555555556,
              "#d8576b"
             ],
             [
              0.6666666666666666,
              "#ed7953"
             ],
             [
              0.7777777777777778,
              "#fb9f3a"
             ],
             [
              0.8888888888888888,
              "#fdca26"
             ],
             [
              1,
              "#f0f921"
             ]
            ],
            "type": "contour"
           }
          ],
          "contourcarpet": [
           {
            "colorbar": {
             "outlinewidth": 0,
             "ticks": ""
            },
            "type": "contourcarpet"
           }
          ],
          "heatmap": [
           {
            "colorbar": {
             "outlinewidth": 0,
             "ticks": ""
            },
            "colorscale": [
             [
              0,
              "#0d0887"
             ],
             [
              0.1111111111111111,
              "#46039f"
             ],
             [
              0.2222222222222222,
              "#7201a8"
             ],
             [
              0.3333333333333333,
              "#9c179e"
             ],
             [
              0.4444444444444444,
              "#bd3786"
             ],
             [
              0.5555555555555556,
              "#d8576b"
             ],
             [
              0.6666666666666666,
              "#ed7953"
             ],
             [
              0.7777777777777778,
              "#fb9f3a"
             ],
             [
              0.8888888888888888,
              "#fdca26"
             ],
             [
              1,
              "#f0f921"
             ]
            ],
            "type": "heatmap"
           }
          ],
          "heatmapgl": [
           {
            "colorbar": {
             "outlinewidth": 0,
             "ticks": ""
            },
            "colorscale": [
             [
              0,
              "#0d0887"
             ],
             [
              0.1111111111111111,
              "#46039f"
             ],
             [
              0.2222222222222222,
              "#7201a8"
             ],
             [
              0.3333333333333333,
              "#9c179e"
             ],
             [
              0.4444444444444444,
              "#bd3786"
             ],
             [
              0.5555555555555556,
              "#d8576b"
             ],
             [
              0.6666666666666666,
              "#ed7953"
             ],
             [
              0.7777777777777778,
              "#fb9f3a"
             ],
             [
              0.8888888888888888,
              "#fdca26"
             ],
             [
              1,
              "#f0f921"
             ]
            ],
            "type": "heatmapgl"
           }
          ],
          "histogram": [
           {
            "marker": {
             "pattern": {
              "fillmode": "overlay",
              "size": 10,
              "solidity": 0.2
             }
            },
            "type": "histogram"
           }
          ],
          "histogram2d": [
           {
            "colorbar": {
             "outlinewidth": 0,
             "ticks": ""
            },
            "colorscale": [
             [
              0,
              "#0d0887"
             ],
             [
              0.1111111111111111,
              "#46039f"
             ],
             [
              0.2222222222222222,
              "#7201a8"
             ],
             [
              0.3333333333333333,
              "#9c179e"
             ],
             [
              0.4444444444444444,
              "#bd3786"
             ],
             [
              0.5555555555555556,
              "#d8576b"
             ],
             [
              0.6666666666666666,
              "#ed7953"
             ],
             [
              0.7777777777777778,
              "#fb9f3a"
             ],
             [
              0.8888888888888888,
              "#fdca26"
             ],
             [
              1,
              "#f0f921"
             ]
            ],
            "type": "histogram2d"
           }
          ],
          "histogram2dcontour": [
           {
            "colorbar": {
             "outlinewidth": 0,
             "ticks": ""
            },
            "colorscale": [
             [
              0,
              "#0d0887"
             ],
             [
              0.1111111111111111,
              "#46039f"
             ],
             [
              0.2222222222222222,
              "#7201a8"
             ],
             [
              0.3333333333333333,
              "#9c179e"
             ],
             [
              0.4444444444444444,
              "#bd3786"
             ],
             [
              0.5555555555555556,
              "#d8576b"
             ],
             [
              0.6666666666666666,
              "#ed7953"
             ],
             [
              0.7777777777777778,
              "#fb9f3a"
             ],
             [
              0.8888888888888888,
              "#fdca26"
             ],
             [
              1,
              "#f0f921"
             ]
            ],
            "type": "histogram2dcontour"
           }
          ],
          "mesh3d": [
           {
            "colorbar": {
             "outlinewidth": 0,
             "ticks": ""
            },
            "type": "mesh3d"
           }
          ],
          "parcoords": [
           {
            "line": {
             "colorbar": {
              "outlinewidth": 0,
              "ticks": ""
             }
            },
            "type": "parcoords"
           }
          ],
          "pie": [
           {
            "automargin": true,
            "type": "pie"
           }
          ],
          "scatter": [
           {
            "fillpattern": {
             "fillmode": "overlay",
             "size": 10,
             "solidity": 0.2
            },
            "type": "scatter"
           }
          ],
          "scatter3d": [
           {
            "line": {
             "colorbar": {
              "outlinewidth": 0,
              "ticks": ""
             }
            },
            "marker": {
             "colorbar": {
              "outlinewidth": 0,
              "ticks": ""
             }
            },
            "type": "scatter3d"
           }
          ],
          "scattercarpet": [
           {
            "marker": {
             "colorbar": {
              "outlinewidth": 0,
              "ticks": ""
             }
            },
            "type": "scattercarpet"
           }
          ],
          "scattergeo": [
           {
            "marker": {
             "colorbar": {
              "outlinewidth": 0,
              "ticks": ""
             }
            },
            "type": "scattergeo"
           }
          ],
          "scattergl": [
           {
            "marker": {
             "colorbar": {
              "outlinewidth": 0,
              "ticks": ""
             }
            },
            "type": "scattergl"
           }
          ],
          "scattermapbox": [
           {
            "marker": {
             "colorbar": {
              "outlinewidth": 0,
              "ticks": ""
             }
            },
            "type": "scattermapbox"
           }
          ],
          "scatterpolar": [
           {
            "marker": {
             "colorbar": {
              "outlinewidth": 0,
              "ticks": ""
             }
            },
            "type": "scatterpolar"
           }
          ],
          "scatterpolargl": [
           {
            "marker": {
             "colorbar": {
              "outlinewidth": 0,
              "ticks": ""
             }
            },
            "type": "scatterpolargl"
           }
          ],
          "scatterternary": [
           {
            "marker": {
             "colorbar": {
              "outlinewidth": 0,
              "ticks": ""
             }
            },
            "type": "scatterternary"
           }
          ],
          "surface": [
           {
            "colorbar": {
             "outlinewidth": 0,
             "ticks": ""
            },
            "colorscale": [
             [
              0,
              "#0d0887"
             ],
             [
              0.1111111111111111,
              "#46039f"
             ],
             [
              0.2222222222222222,
              "#7201a8"
             ],
             [
              0.3333333333333333,
              "#9c179e"
             ],
             [
              0.4444444444444444,
              "#bd3786"
             ],
             [
              0.5555555555555556,
              "#d8576b"
             ],
             [
              0.6666666666666666,
              "#ed7953"
             ],
             [
              0.7777777777777778,
              "#fb9f3a"
             ],
             [
              0.8888888888888888,
              "#fdca26"
             ],
             [
              1,
              "#f0f921"
             ]
            ],
            "type": "surface"
           }
          ],
          "table": [
           {
            "cells": {
             "fill": {
              "color": "#EBF0F8"
             },
             "line": {
              "color": "white"
             }
            },
            "header": {
             "fill": {
              "color": "#C8D4E3"
             },
             "line": {
              "color": "white"
             }
            },
            "type": "table"
           }
          ]
         },
         "layout": {
          "annotationdefaults": {
           "arrowcolor": "#2a3f5f",
           "arrowhead": 0,
           "arrowwidth": 1
          },
          "autotypenumbers": "strict",
          "coloraxis": {
           "colorbar": {
            "outlinewidth": 0,
            "ticks": ""
           }
          },
          "colorscale": {
           "diverging": [
            [
             0,
             "#8e0152"
            ],
            [
             0.1,
             "#c51b7d"
            ],
            [
             0.2,
             "#de77ae"
            ],
            [
             0.3,
             "#f1b6da"
            ],
            [
             0.4,
             "#fde0ef"
            ],
            [
             0.5,
             "#f7f7f7"
            ],
            [
             0.6,
             "#e6f5d0"
            ],
            [
             0.7,
             "#b8e186"
            ],
            [
             0.8,
             "#7fbc41"
            ],
            [
             0.9,
             "#4d9221"
            ],
            [
             1,
             "#276419"
            ]
           ],
           "sequential": [
            [
             0,
             "#0d0887"
            ],
            [
             0.1111111111111111,
             "#46039f"
            ],
            [
             0.2222222222222222,
             "#7201a8"
            ],
            [
             0.3333333333333333,
             "#9c179e"
            ],
            [
             0.4444444444444444,
             "#bd3786"
            ],
            [
             0.5555555555555556,
             "#d8576b"
            ],
            [
             0.6666666666666666,
             "#ed7953"
            ],
            [
             0.7777777777777778,
             "#fb9f3a"
            ],
            [
             0.8888888888888888,
             "#fdca26"
            ],
            [
             1,
             "#f0f921"
            ]
           ],
           "sequentialminus": [
            [
             0,
             "#0d0887"
            ],
            [
             0.1111111111111111,
             "#46039f"
            ],
            [
             0.2222222222222222,
             "#7201a8"
            ],
            [
             0.3333333333333333,
             "#9c179e"
            ],
            [
             0.4444444444444444,
             "#bd3786"
            ],
            [
             0.5555555555555556,
             "#d8576b"
            ],
            [
             0.6666666666666666,
             "#ed7953"
            ],
            [
             0.7777777777777778,
             "#fb9f3a"
            ],
            [
             0.8888888888888888,
             "#fdca26"
            ],
            [
             1,
             "#f0f921"
            ]
           ]
          },
          "colorway": [
           "#636efa",
           "#EF553B",
           "#00cc96",
           "#ab63fa",
           "#FFA15A",
           "#19d3f3",
           "#FF6692",
           "#B6E880",
           "#FF97FF",
           "#FECB52"
          ],
          "font": {
           "color": "#2a3f5f"
          },
          "geo": {
           "bgcolor": "white",
           "lakecolor": "white",
           "landcolor": "#E5ECF6",
           "showlakes": true,
           "showland": true,
           "subunitcolor": "white"
          },
          "hoverlabel": {
           "align": "left"
          },
          "hovermode": "closest",
          "mapbox": {
           "style": "light"
          },
          "paper_bgcolor": "white",
          "plot_bgcolor": "#E5ECF6",
          "polar": {
           "angularaxis": {
            "gridcolor": "white",
            "linecolor": "white",
            "ticks": ""
           },
           "bgcolor": "#E5ECF6",
           "radialaxis": {
            "gridcolor": "white",
            "linecolor": "white",
            "ticks": ""
           }
          },
          "scene": {
           "xaxis": {
            "backgroundcolor": "#E5ECF6",
            "gridcolor": "white",
            "gridwidth": 2,
            "linecolor": "white",
            "showbackground": true,
            "ticks": "",
            "zerolinecolor": "white"
           },
           "yaxis": {
            "backgroundcolor": "#E5ECF6",
            "gridcolor": "white",
            "gridwidth": 2,
            "linecolor": "white",
            "showbackground": true,
            "ticks": "",
            "zerolinecolor": "white"
           },
           "zaxis": {
            "backgroundcolor": "#E5ECF6",
            "gridcolor": "white",
            "gridwidth": 2,
            "linecolor": "white",
            "showbackground": true,
            "ticks": "",
            "zerolinecolor": "white"
           }
          },
          "shapedefaults": {
           "line": {
            "color": "#2a3f5f"
           }
          },
          "ternary": {
           "aaxis": {
            "gridcolor": "white",
            "linecolor": "white",
            "ticks": ""
           },
           "baxis": {
            "gridcolor": "white",
            "linecolor": "white",
            "ticks": ""
           },
           "bgcolor": "#E5ECF6",
           "caxis": {
            "gridcolor": "white",
            "linecolor": "white",
            "ticks": ""
           }
          },
          "title": {
           "x": 0.05
          },
          "xaxis": {
           "automargin": true,
           "gridcolor": "white",
           "linecolor": "white",
           "ticks": "",
           "title": {
            "standoff": 15
           },
           "zerolinecolor": "white",
           "zerolinewidth": 2
          },
          "yaxis": {
           "automargin": true,
           "gridcolor": "white",
           "linecolor": "white",
           "ticks": "",
           "title": {
            "standoff": 15
           },
           "zerolinecolor": "white",
           "zerolinewidth": 2
          }
         }
        },
        "title": {
         "text": "Interaction Distances for fold_heal_atp_tub_seed1_model_0 by Residue and Interacting Chain"
        },
        "xaxis": {
         "anchor": "y",
         "categoryarray": [
          "44T",
          "86T",
          "87S",
          "88S",
          "89G",
          "90K",
          "91T",
          "92H",
          "141R",
          "154K",
          "155V",
          "156R",
          "157E",
          "198N",
          "201S",
          "202S",
          "234G",
          "237K",
          "238I",
          "252K",
          "256K",
          "259S",
          "263N",
          "272K",
          "274T",
          "275H",
          "279R",
          "280D",
          "318R",
          "335E",
          "338A",
          "341L",
          "342K",
          "345L",
          "351E",
          "355L",
          "356K",
          "358Y",
          "359I",
          "363E",
          "370H",
          "375N",
          "376N",
          "377L",
          "378D",
          "385V",
          "391K",
          "392C",
          "396E",
          "398L",
          "399L",
          "402K",
          "403E",
          "405E",
          "406K",
          "409L",
          "412Q",
          "413L",
          "415T",
          "416I",
          "417S",
          "419Q",
          "420L",
          "423K",
          "426E",
          "427L",
          "430Q",
          "431T",
          "434V",
          "440E",
          "441A",
          "443K",
          "444Y",
          "447L",
          "448S",
          "451N",
          "454L",
          "458L",
          "461I",
          "462K",
          "465L",
          "468K",
          "469N",
          "472S",
          "475Q",
          "476T",
          "479I",
          "482L",
          "483S",
          "485E",
          "486N",
          "489I",
          "490K",
          "493L"
         ],
         "categoryorder": "array",
         "domain": [
          0,
          1
         ],
         "title": {
          "text": "Residue (Number and Identity)"
         }
        },
        "yaxis": {
         "anchor": "x",
         "domain": [
          0,
          1
         ],
         "title": {
          "text": "Distance (angstroms)"
         }
        }
       }
      }
     },
     "metadata": {},
     "output_type": "display_data"
    },
    {
     "name": "stderr",
     "output_type": "stream",
     "text": [
      "/var/folders/08/7vm2c9d11xvc7s0rf383rd480000gn/T/ipykernel_57000/2424036903.py:54: SettingWithCopyWarning:\n",
      "\n",
      "\n",
      "A value is trying to be set on a copy of a slice from a DataFrame.\n",
      "Try using .loc[row_indexer,col_indexer] = value instead\n",
      "\n",
      "See the caveats in the documentation: https://pandas.pydata.org/pandas-docs/stable/user_guide/indexing.html#returning-a-view-versus-a-copy\n",
      "\n"
     ]
    },
    {
     "data": {
      "application/vnd.plotly.v1+json": {
       "config": {
        "plotlyServerURL": "https://plot.ly"
       },
       "data": [
        {
         "customdata": [
          [
           "fold_k401_atp_tub_seed1_model_0",
           "1?"
          ],
          [
           "fold_k401_atp_tub_seed1_model_0",
           "1?"
          ],
          [
           "fold_k401_atp_tub_seed1_model_0",
           "1?"
          ],
          [
           "fold_k401_atp_tub_seed1_model_0",
           "1?"
          ],
          [
           "fold_k401_atp_tub_seed1_model_0",
           "1?"
          ],
          [
           "fold_k401_atp_tub_seed1_model_0",
           "1?"
          ],
          [
           "fold_k401_atp_tub_seed1_model_0",
           "1?"
          ],
          [
           "fold_k401_atp_tub_seed1_model_0",
           "1?"
          ],
          [
           "fold_k401_atp_tub_seed1_model_0",
           "1?"
          ],
          [
           "fold_k401_atp_tub_seed1_model_0",
           "1?"
          ],
          [
           "fold_k401_atp_tub_seed1_model_0",
           "1?"
          ]
         ],
         "hovertemplate": "Interacting Chain=ATP<br>Residue (Number and Identity)=%{x}<br>Distance (angstroms)=%{y}<br>text=%{text}<br>file=%{customdata[0]}<br>interacting_label=%{customdata[1]}<extra></extra>",
         "legendgroup": "ATP",
         "marker": {
          "color": "#636efa",
          "opacity": 0.6,
          "size": 10,
          "symbol": "circle"
         },
         "mode": "markers+text",
         "name": "ATP",
         "orientation": "v",
         "showlegend": true,
         "text": [
          "1?",
          "1?",
          "1?",
          "1?",
          "1?",
          "1?",
          "1?",
          "1?",
          "1?",
          "1?",
          "1?"
         ],
         "textposition": "top center",
         "type": "scatter",
         "x": [
          "94T",
          "95S",
          "96S",
          "97G",
          "98K",
          "99T",
          "100H",
          "205N",
          "208S",
          "209S",
          "241G"
         ],
         "xaxis": "x",
         "y": [
          2.4374871253967285,
          2.806600332260132,
          3.29720401763916,
          3.1137118339538574,
          2.9161436557769775,
          2.7895143032073975,
          2.9845962524414062,
          2.958266496658325,
          2.7913260459899902,
          2.7207634449005127,
          2.9005379676818848
         ],
         "yaxis": "y"
        },
        {
         "customdata": [
          [
           "fold_k401_atp_tub_seed1_model_0",
           "157E"
          ],
          [
           "fold_k401_atp_tub_seed1_model_0",
           "157E"
          ],
          [
           "fold_k401_atp_tub_seed1_model_0",
           "410E"
          ],
          [
           "fold_k401_atp_tub_seed1_model_0",
           "410E"
          ],
          [
           "fold_k401_atp_tub_seed1_model_0",
           "424Q"
          ],
          [
           "fold_k401_atp_tub_seed1_model_0",
           "417D"
          ],
          [
           "fold_k401_atp_tub_seed1_model_0",
           "262R"
          ]
         ],
         "hovertemplate": "Interacting Chain=beta-tubulin<br>Residue (Number and Identity)=%{x}<br>Distance (angstroms)=%{y}<br>text=%{text}<br>file=%{customdata[0]}<br>interacting_label=%{customdata[1]}<extra></extra>",
         "legendgroup": "beta-tubulin",
         "marker": {
          "color": "#EF553B",
          "opacity": 0.6,
          "size": 10,
          "symbol": "circle"
         },
         "mode": "markers+text",
         "name": "beta-tubulin",
         "orientation": "v",
         "showlegend": true,
         "text": [
          "157E",
          "157E",
          "410E",
          "410E",
          "424Q",
          "417D",
          "262R"
         ],
         "textposition": "top center",
         "type": "scatter",
         "x": [
          "148K",
          "159N",
          "163H",
          "164E",
          "282H",
          "286R",
          "287D"
         ],
         "xaxis": "x",
         "y": [
          3.006138324737549,
          3.0405116081237793,
          2.8384571075439453,
          2.686645746231079,
          2.7174038887023926,
          2.5308802127838135,
          3.2496230602264404
         ],
         "yaxis": "y"
        },
        {
         "customdata": [
          [
           "fold_k401_atp_tub_seed1_model_0",
           "346E"
          ],
          [
           "fold_k401_atp_tub_seed1_model_0",
           "349K"
          ],
          [
           "fold_k401_atp_tub_seed1_model_0",
           "348W"
          ],
          [
           "fold_k401_atp_tub_seed1_model_0",
           "352Y"
          ],
          [
           "fold_k401_atp_tub_seed1_model_0",
           "348W"
          ],
          [
           "fold_k401_atp_tub_seed1_model_0",
           "359N"
          ],
          [
           "fold_k401_atp_tub_seed1_model_0",
           "355E"
          ],
          [
           "fold_k401_atp_tub_seed1_model_0",
           "359N"
          ],
          [
           "fold_k401_atp_tub_seed1_model_0",
           "397S"
          ],
          [
           "fold_k401_atp_tub_seed1_model_0",
           "393L"
          ],
          [
           "fold_k401_atp_tub_seed1_model_0",
           "373L"
          ],
          [
           "fold_k401_atp_tub_seed1_model_0",
           "393L"
          ],
          [
           "fold_k401_atp_tub_seed1_model_0",
           "377R"
          ],
          [
           "fold_k401_atp_tub_seed1_model_0",
           "373L"
          ],
          [
           "fold_k401_atp_tub_seed1_model_0",
           "372E"
          ],
          [
           "fold_k401_atp_tub_seed1_model_0",
           "377R"
          ],
          [
           "fold_k401_atp_tub_seed1_model_0",
           "377R"
          ],
          [
           "fold_k401_atp_tub_seed1_model_0",
           "370E"
          ],
          [
           "fold_k401_atp_tub_seed1_model_0",
           "366V"
          ],
          [
           "fold_k401_atp_tub_seed1_model_0",
           "363K"
          ],
          [
           "fold_k401_atp_tub_seed1_model_0",
           "363K"
          ]
         ],
         "hovertemplate": "Interacting Chain=kinesin B<br>Residue (Number and Identity)=%{x}<br>Distance (angstroms)=%{y}<br>text=%{text}<br>file=%{customdata[0]}<br>interacting_label=%{customdata[1]}<extra></extra>",
         "legendgroup": "kinesin B",
         "marker": {
          "color": "#00cc96",
          "opacity": 0.6,
          "size": 10,
          "symbol": "circle"
         },
         "mode": "markers+text",
         "name": "kinesin B",
         "orientation": "v",
         "showlegend": true,
         "text": [
          "346E",
          "349K",
          "348W",
          "352Y",
          "348W",
          "359N",
          "355E",
          "359N",
          "397S",
          "393L",
          "373L",
          "393L",
          "377R",
          "373L",
          "372E",
          "377R",
          "377R",
          "370E",
          "366V",
          "363K",
          "363K"
         ],
         "textposition": "top center",
         "type": "scatter",
         "x": [
          "166K",
          "167N",
          "345A",
          "348W",
          "352Y",
          "355E",
          "359N",
          "362L",
          "363K",
          "366V",
          "369L",
          "370E",
          "372E",
          "373L",
          "377R",
          "387Q",
          "388I",
          "390M",
          "393L",
          "396A",
          "397S"
         ],
         "xaxis": "x",
         "y": [
          2.5941569805145264,
          3.2108778953552246,
          3.4633238315582275,
          3.368378162384033,
          3.383876085281372,
          2.118377208709717,
          2.1266520023345947,
          2.901210069656372,
          2.898369312286377,
          3.02547836303711,
          3.478980302810669,
          2.5869014263153076,
          2.8415660858154297,
          2.7298479080200195,
          2.8014917373657227,
          3.4363529682159424,
          2.859236717224121,
          3.4483542442321777,
          2.5268359184265137,
          3.4055051803588867,
          2.766642808914185
         ],
         "yaxis": "y"
        },
        {
         "customdata": [
          [
           "fold_k401_atp_tub_seed1_model_0",
           "420E"
          ],
          [
           "fold_k401_atp_tub_seed1_model_0",
           "412G"
          ],
          [
           "fold_k401_atp_tub_seed1_model_0",
           "112K"
          ],
          [
           "fold_k401_atp_tub_seed1_model_0",
           "112K"
          ],
          [
           "fold_k401_atp_tub_seed1_model_0",
           "410G"
          ],
          [
           "fold_k401_atp_tub_seed1_model_0",
           "409V"
          ],
          [
           "fold_k401_atp_tub_seed1_model_0",
           "409V"
          ],
          [
           "fold_k401_atp_tub_seed1_model_0",
           "415E"
          ]
         ],
         "hovertemplate": "Interacting Chain=alpha-tubulin<br>Residue (Number and Identity)=%{x}<br>Distance (angstroms)=%{y}<br>text=%{text}<br>file=%{customdata[0]}<br>interacting_label=%{customdata[1]}<extra></extra>",
         "legendgroup": "alpha-tubulin",
         "marker": {
          "color": "#ab63fa",
          "opacity": 0.6,
          "size": 10,
          "symbol": "circle"
         },
         "mode": "markers+text",
         "name": "alpha-tubulin",
         "orientation": "v",
         "showlegend": true,
         "text": [
          "420E",
          "412G",
          "112K",
          "112K",
          "410G",
          "409V",
          "409V",
          "415E"
         ],
         "textposition": "top center",
         "type": "scatter",
         "x": [
          "244K",
          "245V",
          "250A",
          "251E",
          "259K",
          "262N",
          "263K",
          "266S"
         ],
         "xaxis": "x",
         "y": [
          2.560426950454712,
          3.1075081825256348,
          3.409220933914185,
          3.4453158378601074,
          3.223480224609375,
          3.4584624767303467,
          3.4183528423309326,
          2.612457513809204
         ],
         "yaxis": "y"
        }
       ],
       "layout": {
        "legend": {
         "title": {
          "text": "Interacting Chain"
         },
         "tracegroupgap": 0
        },
        "template": {
         "data": {
          "bar": [
           {
            "error_x": {
             "color": "#2a3f5f"
            },
            "error_y": {
             "color": "#2a3f5f"
            },
            "marker": {
             "line": {
              "color": "#E5ECF6",
              "width": 0.5
             },
             "pattern": {
              "fillmode": "overlay",
              "size": 10,
              "solidity": 0.2
             }
            },
            "type": "bar"
           }
          ],
          "barpolar": [
           {
            "marker": {
             "line": {
              "color": "#E5ECF6",
              "width": 0.5
             },
             "pattern": {
              "fillmode": "overlay",
              "size": 10,
              "solidity": 0.2
             }
            },
            "type": "barpolar"
           }
          ],
          "carpet": [
           {
            "aaxis": {
             "endlinecolor": "#2a3f5f",
             "gridcolor": "white",
             "linecolor": "white",
             "minorgridcolor": "white",
             "startlinecolor": "#2a3f5f"
            },
            "baxis": {
             "endlinecolor": "#2a3f5f",
             "gridcolor": "white",
             "linecolor": "white",
             "minorgridcolor": "white",
             "startlinecolor": "#2a3f5f"
            },
            "type": "carpet"
           }
          ],
          "choropleth": [
           {
            "colorbar": {
             "outlinewidth": 0,
             "ticks": ""
            },
            "type": "choropleth"
           }
          ],
          "contour": [
           {
            "colorbar": {
             "outlinewidth": 0,
             "ticks": ""
            },
            "colorscale": [
             [
              0,
              "#0d0887"
             ],
             [
              0.1111111111111111,
              "#46039f"
             ],
             [
              0.2222222222222222,
              "#7201a8"
             ],
             [
              0.3333333333333333,
              "#9c179e"
             ],
             [
              0.4444444444444444,
              "#bd3786"
             ],
             [
              0.5555555555555556,
              "#d8576b"
             ],
             [
              0.6666666666666666,
              "#ed7953"
             ],
             [
              0.7777777777777778,
              "#fb9f3a"
             ],
             [
              0.8888888888888888,
              "#fdca26"
             ],
             [
              1,
              "#f0f921"
             ]
            ],
            "type": "contour"
           }
          ],
          "contourcarpet": [
           {
            "colorbar": {
             "outlinewidth": 0,
             "ticks": ""
            },
            "type": "contourcarpet"
           }
          ],
          "heatmap": [
           {
            "colorbar": {
             "outlinewidth": 0,
             "ticks": ""
            },
            "colorscale": [
             [
              0,
              "#0d0887"
             ],
             [
              0.1111111111111111,
              "#46039f"
             ],
             [
              0.2222222222222222,
              "#7201a8"
             ],
             [
              0.3333333333333333,
              "#9c179e"
             ],
             [
              0.4444444444444444,
              "#bd3786"
             ],
             [
              0.5555555555555556,
              "#d8576b"
             ],
             [
              0.6666666666666666,
              "#ed7953"
             ],
             [
              0.7777777777777778,
              "#fb9f3a"
             ],
             [
              0.8888888888888888,
              "#fdca26"
             ],
             [
              1,
              "#f0f921"
             ]
            ],
            "type": "heatmap"
           }
          ],
          "heatmapgl": [
           {
            "colorbar": {
             "outlinewidth": 0,
             "ticks": ""
            },
            "colorscale": [
             [
              0,
              "#0d0887"
             ],
             [
              0.1111111111111111,
              "#46039f"
             ],
             [
              0.2222222222222222,
              "#7201a8"
             ],
             [
              0.3333333333333333,
              "#9c179e"
             ],
             [
              0.4444444444444444,
              "#bd3786"
             ],
             [
              0.5555555555555556,
              "#d8576b"
             ],
             [
              0.6666666666666666,
              "#ed7953"
             ],
             [
              0.7777777777777778,
              "#fb9f3a"
             ],
             [
              0.8888888888888888,
              "#fdca26"
             ],
             [
              1,
              "#f0f921"
             ]
            ],
            "type": "heatmapgl"
           }
          ],
          "histogram": [
           {
            "marker": {
             "pattern": {
              "fillmode": "overlay",
              "size": 10,
              "solidity": 0.2
             }
            },
            "type": "histogram"
           }
          ],
          "histogram2d": [
           {
            "colorbar": {
             "outlinewidth": 0,
             "ticks": ""
            },
            "colorscale": [
             [
              0,
              "#0d0887"
             ],
             [
              0.1111111111111111,
              "#46039f"
             ],
             [
              0.2222222222222222,
              "#7201a8"
             ],
             [
              0.3333333333333333,
              "#9c179e"
             ],
             [
              0.4444444444444444,
              "#bd3786"
             ],
             [
              0.5555555555555556,
              "#d8576b"
             ],
             [
              0.6666666666666666,
              "#ed7953"
             ],
             [
              0.7777777777777778,
              "#fb9f3a"
             ],
             [
              0.8888888888888888,
              "#fdca26"
             ],
             [
              1,
              "#f0f921"
             ]
            ],
            "type": "histogram2d"
           }
          ],
          "histogram2dcontour": [
           {
            "colorbar": {
             "outlinewidth": 0,
             "ticks": ""
            },
            "colorscale": [
             [
              0,
              "#0d0887"
             ],
             [
              0.1111111111111111,
              "#46039f"
             ],
             [
              0.2222222222222222,
              "#7201a8"
             ],
             [
              0.3333333333333333,
              "#9c179e"
             ],
             [
              0.4444444444444444,
              "#bd3786"
             ],
             [
              0.5555555555555556,
              "#d8576b"
             ],
             [
              0.6666666666666666,
              "#ed7953"
             ],
             [
              0.7777777777777778,
              "#fb9f3a"
             ],
             [
              0.8888888888888888,
              "#fdca26"
             ],
             [
              1,
              "#f0f921"
             ]
            ],
            "type": "histogram2dcontour"
           }
          ],
          "mesh3d": [
           {
            "colorbar": {
             "outlinewidth": 0,
             "ticks": ""
            },
            "type": "mesh3d"
           }
          ],
          "parcoords": [
           {
            "line": {
             "colorbar": {
              "outlinewidth": 0,
              "ticks": ""
             }
            },
            "type": "parcoords"
           }
          ],
          "pie": [
           {
            "automargin": true,
            "type": "pie"
           }
          ],
          "scatter": [
           {
            "fillpattern": {
             "fillmode": "overlay",
             "size": 10,
             "solidity": 0.2
            },
            "type": "scatter"
           }
          ],
          "scatter3d": [
           {
            "line": {
             "colorbar": {
              "outlinewidth": 0,
              "ticks": ""
             }
            },
            "marker": {
             "colorbar": {
              "outlinewidth": 0,
              "ticks": ""
             }
            },
            "type": "scatter3d"
           }
          ],
          "scattercarpet": [
           {
            "marker": {
             "colorbar": {
              "outlinewidth": 0,
              "ticks": ""
             }
            },
            "type": "scattercarpet"
           }
          ],
          "scattergeo": [
           {
            "marker": {
             "colorbar": {
              "outlinewidth": 0,
              "ticks": ""
             }
            },
            "type": "scattergeo"
           }
          ],
          "scattergl": [
           {
            "marker": {
             "colorbar": {
              "outlinewidth": 0,
              "ticks": ""
             }
            },
            "type": "scattergl"
           }
          ],
          "scattermapbox": [
           {
            "marker": {
             "colorbar": {
              "outlinewidth": 0,
              "ticks": ""
             }
            },
            "type": "scattermapbox"
           }
          ],
          "scatterpolar": [
           {
            "marker": {
             "colorbar": {
              "outlinewidth": 0,
              "ticks": ""
             }
            },
            "type": "scatterpolar"
           }
          ],
          "scatterpolargl": [
           {
            "marker": {
             "colorbar": {
              "outlinewidth": 0,
              "ticks": ""
             }
            },
            "type": "scatterpolargl"
           }
          ],
          "scatterternary": [
           {
            "marker": {
             "colorbar": {
              "outlinewidth": 0,
              "ticks": ""
             }
            },
            "type": "scatterternary"
           }
          ],
          "surface": [
           {
            "colorbar": {
             "outlinewidth": 0,
             "ticks": ""
            },
            "colorscale": [
             [
              0,
              "#0d0887"
             ],
             [
              0.1111111111111111,
              "#46039f"
             ],
             [
              0.2222222222222222,
              "#7201a8"
             ],
             [
              0.3333333333333333,
              "#9c179e"
             ],
             [
              0.4444444444444444,
              "#bd3786"
             ],
             [
              0.5555555555555556,
              "#d8576b"
             ],
             [
              0.6666666666666666,
              "#ed7953"
             ],
             [
              0.7777777777777778,
              "#fb9f3a"
             ],
             [
              0.8888888888888888,
              "#fdca26"
             ],
             [
              1,
              "#f0f921"
             ]
            ],
            "type": "surface"
           }
          ],
          "table": [
           {
            "cells": {
             "fill": {
              "color": "#EBF0F8"
             },
             "line": {
              "color": "white"
             }
            },
            "header": {
             "fill": {
              "color": "#C8D4E3"
             },
             "line": {
              "color": "white"
             }
            },
            "type": "table"
           }
          ]
         },
         "layout": {
          "annotationdefaults": {
           "arrowcolor": "#2a3f5f",
           "arrowhead": 0,
           "arrowwidth": 1
          },
          "autotypenumbers": "strict",
          "coloraxis": {
           "colorbar": {
            "outlinewidth": 0,
            "ticks": ""
           }
          },
          "colorscale": {
           "diverging": [
            [
             0,
             "#8e0152"
            ],
            [
             0.1,
             "#c51b7d"
            ],
            [
             0.2,
             "#de77ae"
            ],
            [
             0.3,
             "#f1b6da"
            ],
            [
             0.4,
             "#fde0ef"
            ],
            [
             0.5,
             "#f7f7f7"
            ],
            [
             0.6,
             "#e6f5d0"
            ],
            [
             0.7,
             "#b8e186"
            ],
            [
             0.8,
             "#7fbc41"
            ],
            [
             0.9,
             "#4d9221"
            ],
            [
             1,
             "#276419"
            ]
           ],
           "sequential": [
            [
             0,
             "#0d0887"
            ],
            [
             0.1111111111111111,
             "#46039f"
            ],
            [
             0.2222222222222222,
             "#7201a8"
            ],
            [
             0.3333333333333333,
             "#9c179e"
            ],
            [
             0.4444444444444444,
             "#bd3786"
            ],
            [
             0.5555555555555556,
             "#d8576b"
            ],
            [
             0.6666666666666666,
             "#ed7953"
            ],
            [
             0.7777777777777778,
             "#fb9f3a"
            ],
            [
             0.8888888888888888,
             "#fdca26"
            ],
            [
             1,
             "#f0f921"
            ]
           ],
           "sequentialminus": [
            [
             0,
             "#0d0887"
            ],
            [
             0.1111111111111111,
             "#46039f"
            ],
            [
             0.2222222222222222,
             "#7201a8"
            ],
            [
             0.3333333333333333,
             "#9c179e"
            ],
            [
             0.4444444444444444,
             "#bd3786"
            ],
            [
             0.5555555555555556,
             "#d8576b"
            ],
            [
             0.6666666666666666,
             "#ed7953"
            ],
            [
             0.7777777777777778,
             "#fb9f3a"
            ],
            [
             0.8888888888888888,
             "#fdca26"
            ],
            [
             1,
             "#f0f921"
            ]
           ]
          },
          "colorway": [
           "#636efa",
           "#EF553B",
           "#00cc96",
           "#ab63fa",
           "#FFA15A",
           "#19d3f3",
           "#FF6692",
           "#B6E880",
           "#FF97FF",
           "#FECB52"
          ],
          "font": {
           "color": "#2a3f5f"
          },
          "geo": {
           "bgcolor": "white",
           "lakecolor": "white",
           "landcolor": "#E5ECF6",
           "showlakes": true,
           "showland": true,
           "subunitcolor": "white"
          },
          "hoverlabel": {
           "align": "left"
          },
          "hovermode": "closest",
          "mapbox": {
           "style": "light"
          },
          "paper_bgcolor": "white",
          "plot_bgcolor": "#E5ECF6",
          "polar": {
           "angularaxis": {
            "gridcolor": "white",
            "linecolor": "white",
            "ticks": ""
           },
           "bgcolor": "#E5ECF6",
           "radialaxis": {
            "gridcolor": "white",
            "linecolor": "white",
            "ticks": ""
           }
          },
          "scene": {
           "xaxis": {
            "backgroundcolor": "#E5ECF6",
            "gridcolor": "white",
            "gridwidth": 2,
            "linecolor": "white",
            "showbackground": true,
            "ticks": "",
            "zerolinecolor": "white"
           },
           "yaxis": {
            "backgroundcolor": "#E5ECF6",
            "gridcolor": "white",
            "gridwidth": 2,
            "linecolor": "white",
            "showbackground": true,
            "ticks": "",
            "zerolinecolor": "white"
           },
           "zaxis": {
            "backgroundcolor": "#E5ECF6",
            "gridcolor": "white",
            "gridwidth": 2,
            "linecolor": "white",
            "showbackground": true,
            "ticks": "",
            "zerolinecolor": "white"
           }
          },
          "shapedefaults": {
           "line": {
            "color": "#2a3f5f"
           }
          },
          "ternary": {
           "aaxis": {
            "gridcolor": "white",
            "linecolor": "white",
            "ticks": ""
           },
           "baxis": {
            "gridcolor": "white",
            "linecolor": "white",
            "ticks": ""
           },
           "bgcolor": "#E5ECF6",
           "caxis": {
            "gridcolor": "white",
            "linecolor": "white",
            "ticks": ""
           }
          },
          "title": {
           "x": 0.05
          },
          "xaxis": {
           "automargin": true,
           "gridcolor": "white",
           "linecolor": "white",
           "ticks": "",
           "title": {
            "standoff": 15
           },
           "zerolinecolor": "white",
           "zerolinewidth": 2
          },
          "yaxis": {
           "automargin": true,
           "gridcolor": "white",
           "linecolor": "white",
           "ticks": "",
           "title": {
            "standoff": 15
           },
           "zerolinecolor": "white",
           "zerolinewidth": 2
          }
         }
        },
        "title": {
         "text": "Interaction Distances for fold_k401_atp_tub_seed1_model_0 by Residue and Interacting Chain"
        },
        "xaxis": {
         "anchor": "y",
         "categoryarray": [
          "94T",
          "95S",
          "96S",
          "97G",
          "98K",
          "99T",
          "100H",
          "148K",
          "159N",
          "163H",
          "164E",
          "166K",
          "167N",
          "205N",
          "208S",
          "209S",
          "241G",
          "244K",
          "245V",
          "250A",
          "251E",
          "259K",
          "262N",
          "263K",
          "266S",
          "282H",
          "286R",
          "287D",
          "345A",
          "348W",
          "352Y",
          "355E",
          "359N",
          "362L",
          "363K",
          "366V",
          "369L",
          "370E",
          "372E",
          "373L",
          "377R",
          "387Q",
          "388I",
          "390M",
          "393L",
          "396A",
          "397S"
         ],
         "categoryorder": "array",
         "domain": [
          0,
          1
         ],
         "title": {
          "text": "Residue (Number and Identity)"
         }
        },
        "yaxis": {
         "anchor": "x",
         "domain": [
          0,
          1
         ],
         "title": {
          "text": "Distance (angstroms)"
         }
        }
       }
      }
     },
     "metadata": {},
     "output_type": "display_data"
    },
    {
     "name": "stderr",
     "output_type": "stream",
     "text": [
      "/var/folders/08/7vm2c9d11xvc7s0rf383rd480000gn/T/ipykernel_57000/2424036903.py:54: SettingWithCopyWarning:\n",
      "\n",
      "\n",
      "A value is trying to be set on a copy of a slice from a DataFrame.\n",
      "Try using .loc[row_indexer,col_indexer] = value instead\n",
      "\n",
      "See the caveats in the documentation: https://pandas.pydata.org/pandas-docs/stable/user_guide/indexing.html#returning-a-view-versus-a-copy\n",
      "\n"
     ]
    },
    {
     "data": {
      "application/vnd.plotly.v1+json": {
       "config": {
        "plotlyServerURL": "https://plot.ly"
       },
       "data": [
        {
         "customdata": [
          [
           "fold_kif5_atp_tub_seed1_model_0",
           "1?"
          ],
          [
           "fold_kif5_atp_tub_seed1_model_0",
           "1?"
          ],
          [
           "fold_kif5_atp_tub_seed1_model_0",
           "1?"
          ],
          [
           "fold_kif5_atp_tub_seed1_model_0",
           "1?"
          ],
          [
           "fold_kif5_atp_tub_seed1_model_0",
           "1?"
          ],
          [
           "fold_kif5_atp_tub_seed1_model_0",
           "1?"
          ],
          [
           "fold_kif5_atp_tub_seed1_model_0",
           "1?"
          ],
          [
           "fold_kif5_atp_tub_seed1_model_0",
           "1?"
          ],
          [
           "fold_kif5_atp_tub_seed1_model_0",
           "1?"
          ],
          [
           "fold_kif5_atp_tub_seed1_model_0",
           "1?"
          ],
          [
           "fold_kif5_atp_tub_seed1_model_0",
           "1?"
          ],
          [
           "fold_kif5_atp_tub_seed1_model_0",
           "1?"
          ]
         ],
         "hovertemplate": "Interacting Chain=ATP<br>Residue (Number and Identity)=%{x}<br>Distance (angstroms)=%{y}<br>text=%{text}<br>file=%{customdata[0]}<br>interacting_label=%{customdata[1]}<extra></extra>",
         "legendgroup": "ATP",
         "marker": {
          "color": "#636efa",
          "opacity": 0.6,
          "size": 10,
          "symbol": "circle"
         },
         "mode": "markers+text",
         "name": "ATP",
         "orientation": "v",
         "showlegend": true,
         "text": [
          "1?",
          "1?",
          "1?",
          "1?",
          "1?",
          "1?",
          "1?",
          "1?",
          "1?",
          "1?",
          "1?",
          "1?"
         ],
         "textposition": "top center",
         "type": "scatter",
         "x": [
          "18P",
          "88T",
          "89S",
          "90S",
          "91G",
          "92K",
          "93T",
          "94H",
          "199N",
          "202S",
          "203S",
          "235G"
         ],
         "xaxis": "x",
         "y": [
          3.3973984718322754,
          2.569068193435669,
          2.908529758453369,
          3.376349449157715,
          3.088578701019287,
          2.8340697288513184,
          2.634411334991455,
          2.801614761352539,
          3.118265151977539,
          2.961454391479492,
          2.8563733100891113,
          2.808467388153076
         ],
         "yaxis": "y"
        },
        {
         "customdata": [
          [
           "fold_kif5_atp_tub_seed1_model_0",
           "439E"
          ],
          [
           "fold_kif5_atp_tub_seed1_model_0",
           "157E"
          ],
          [
           "fold_kif5_atp_tub_seed1_model_0",
           "157E"
          ],
          [
           "fold_kif5_atp_tub_seed1_model_0",
           "410E"
          ],
          [
           "fold_kif5_atp_tub_seed1_model_0",
           "410E"
          ],
          [
           "fold_kif5_atp_tub_seed1_model_0",
           "406M"
          ],
          [
           "fold_kif5_atp_tub_seed1_model_0",
           "424Q"
          ],
          [
           "fold_kif5_atp_tub_seed1_model_0",
           "424Q"
          ],
          [
           "fold_kif5_atp_tub_seed1_model_0",
           "417D"
          ],
          [
           "fold_kif5_atp_tub_seed1_model_0",
           "262R"
          ]
         ],
         "hovertemplate": "Interacting Chain=beta-tubulin<br>Residue (Number and Identity)=%{x}<br>Distance (angstroms)=%{y}<br>text=%{text}<br>file=%{customdata[0]}<br>interacting_label=%{customdata[1]}<extra></extra>",
         "legendgroup": "beta-tubulin",
         "marker": {
          "color": "#EF553B",
          "opacity": 0.6,
          "size": 10,
          "symbol": "circle"
         },
         "mode": "markers+text",
         "name": "beta-tubulin",
         "orientation": "v",
         "showlegend": true,
         "text": [
          "439E",
          "157E",
          "157E",
          "410E",
          "410E",
          "406M",
          "424Q",
          "424Q",
          "417D",
          "262R"
         ],
         "textposition": "top center",
         "type": "scatter",
         "x": [
          "45K",
          "142K",
          "153N",
          "157H",
          "158E",
          "160K",
          "274K",
          "276Y",
          "280R",
          "281D"
         ],
         "xaxis": "x",
         "y": [
          3.081181049346924,
          3.2019357681274414,
          2.812685251235962,
          2.5877468585968018,
          1.981365442276001,
          3.4843695163726807,
          3.4973762035369873,
          2.6769890785217285,
          2.545250177383423,
          3.23669958114624
         ],
         "yaxis": "y"
        },
        {
         "customdata": [
          [
           "fold_kif5_atp_tub_seed1_model_0",
           "340E"
          ],
          [
           "fold_kif5_atp_tub_seed1_model_0",
           "342W"
          ],
          [
           "fold_kif5_atp_tub_seed1_model_0",
           "346Y"
          ],
          [
           "fold_kif5_atp_tub_seed1_model_0",
           "353T"
          ],
          [
           "fold_kif5_atp_tub_seed1_model_0",
           "356Q"
          ],
          [
           "fold_kif5_atp_tub_seed1_model_0",
           "353T"
          ],
          [
           "fold_kif5_atp_tub_seed1_model_0",
           "419E"
          ],
          [
           "fold_kif5_atp_tub_seed1_model_0",
           "360I"
          ],
          [
           "fold_kif5_atp_tub_seed1_model_0",
           "367L"
          ],
          [
           "fold_kif5_atp_tub_seed1_model_0",
           "371R"
          ],
          [
           "fold_kif5_atp_tub_seed1_model_0",
           "366E"
          ],
          [
           "fold_kif5_atp_tub_seed1_model_0",
           "366E"
          ],
          [
           "fold_kif5_atp_tub_seed1_model_0",
           "371R"
          ],
          [
           "fold_kif5_atp_tub_seed1_model_0",
           "409I"
          ],
          [
           "fold_kif5_atp_tub_seed1_model_0",
           "408R"
          ],
          [
           "fold_kif5_atp_tub_seed1_model_0",
           "414R"
          ],
          [
           "fold_kif5_atp_tub_seed1_model_0",
           "407V"
          ],
          [
           "fold_kif5_atp_tub_seed1_model_0",
           "414R"
          ],
          [
           "fold_kif5_atp_tub_seed1_model_0",
           "409I"
          ],
          [
           "fold_kif5_atp_tub_seed1_model_0",
           "386E"
          ],
          [
           "fold_kif5_atp_tub_seed1_model_0",
           "417Y"
          ],
          [
           "fold_kif5_atp_tub_seed1_model_0",
           "425Y"
          ],
          [
           "fold_kif5_atp_tub_seed1_model_0",
           "417Y"
          ],
          [
           "fold_kif5_atp_tub_seed1_model_0",
           "428L"
          ],
          [
           "fold_kif5_atp_tub_seed1_model_0",
           "420E"
          ],
          [
           "fold_kif5_atp_tub_seed1_model_0",
           "431K"
          ],
          [
           "fold_kif5_atp_tub_seed1_model_0",
           "432D"
          ],
          [
           "fold_kif5_atp_tub_seed1_model_0",
           "431K"
          ],
          [
           "fold_kif5_atp_tub_seed1_model_0",
           "435I"
          ],
          [
           "fold_kif5_atp_tub_seed1_model_0",
           "438Q"
          ],
          [
           "fold_kif5_atp_tub_seed1_model_0",
           "439S"
          ],
          [
           "fold_kif5_atp_tub_seed1_model_0",
           "438Q"
          ],
          [
           "fold_kif5_atp_tub_seed1_model_0",
           "442I"
          ],
          [
           "fold_kif5_atp_tub_seed1_model_0",
           "124D"
          ],
          [
           "fold_kif5_atp_tub_seed1_model_0",
           "452Q"
          ],
          [
           "fold_kif5_atp_tub_seed1_model_0",
           "449M"
          ],
          [
           "fold_kif5_atp_tub_seed1_model_0",
           "452Q"
          ],
          [
           "fold_kif5_atp_tub_seed1_model_0",
           "460R"
          ],
          [
           "fold_kif5_atp_tub_seed1_model_0",
           "452Q"
          ],
          [
           "fold_kif5_atp_tub_seed1_model_0",
           "463N"
          ],
          [
           "fold_kif5_atp_tub_seed1_model_0",
           "455L"
          ],
          [
           "fold_kif5_atp_tub_seed1_model_0",
           "463N"
          ],
          [
           "fold_kif5_atp_tub_seed1_model_0",
           "466V"
          ],
          [
           "fold_kif5_atp_tub_seed1_model_0",
           "470L"
          ],
          [
           "fold_kif5_atp_tub_seed1_model_0",
           "470L"
          ],
          [
           "fold_kif5_atp_tub_seed1_model_0",
           "474Q"
          ],
          [
           "fold_kif5_atp_tub_seed1_model_0",
           "473L"
          ],
          [
           "fold_kif5_atp_tub_seed1_model_0",
           "481K"
          ],
          [
           "fold_kif5_atp_tub_seed1_model_0",
           "484V"
          ],
          [
           "fold_kif5_atp_tub_seed1_model_0",
           "487V"
          ],
          [
           "fold_kif5_atp_tub_seed1_model_0",
           "487V"
          ],
          [
           "fold_kif5_atp_tub_seed1_model_0",
           "498Y"
          ],
          [
           "fold_kif5_atp_tub_seed1_model_0",
           "498Y"
          ],
          [
           "fold_kif5_atp_tub_seed1_model_0",
           "497N"
          ]
         ],
         "hovertemplate": "Interacting Chain=kinesin B<br>Residue (Number and Identity)=%{x}<br>Distance (angstroms)=%{y}<br>text=%{text}<br>file=%{customdata[0]}<br>interacting_label=%{customdata[1]}<extra></extra>",
         "legendgroup": "kinesin B",
         "marker": {
          "color": "#00cc96",
          "opacity": 0.6,
          "size": 10,
          "symbol": "circle"
         },
         "mode": "markers+text",
         "name": "kinesin B",
         "orientation": "v",
         "showlegend": true,
         "text": [
          "340E",
          "342W",
          "346Y",
          "353T",
          "356Q",
          "353T",
          "419E",
          "360I",
          "367L",
          "371R",
          "366E",
          "366E",
          "371R",
          "409I",
          "408R",
          "414R",
          "407V",
          "414R",
          "409I",
          "386E",
          "417Y",
          "425Y",
          "417Y",
          "428L",
          "420E",
          "431K",
          "432D",
          "431K",
          "435I",
          "438Q",
          "439S",
          "438Q",
          "442I",
          "124D",
          "452Q",
          "449M",
          "452Q",
          "460R",
          "452Q",
          "463N",
          "455L",
          "463N",
          "466V",
          "470L",
          "470L",
          "474Q",
          "473L",
          "481K",
          "484V",
          "487V",
          "487V",
          "498Y",
          "498Y",
          "497N"
         ],
         "textposition": "top center",
         "type": "scatter",
         "x": [
          "160K",
          "339A",
          "342W",
          "349E",
          "353T",
          "356Q",
          "357K",
          "360I",
          "363L",
          "366E",
          "367L",
          "371R",
          "382L",
          "407V",
          "408R",
          "409I",
          "411P",
          "413E",
          "414R",
          "417Y",
          "418E",
          "420E",
          "421I",
          "424L",
          "425Y",
          "428L",
          "431K",
          "432D",
          "434E",
          "435I",
          "438Q",
          "439S",
          "442I",
          "446K",
          "449M",
          "452Q",
          "453E",
          "455L",
          "456L",
          "459T",
          "460R",
          "463N",
          "466V",
          "469E",
          "470L",
          "473L",
          "474Q",
          "476E",
          "484V",
          "487V",
          "491L",
          "494L",
          "497N",
          "498Y"
         ],
         "xaxis": "x",
         "y": [
          2.851168632507324,
          3.350090503692627,
          3.2834312915802,
          3.42582106590271,
          3.090916156768799,
          3.1221718788146973,
          2.5272507667541504,
          3.488220453262329,
          3.3986761569976807,
          2.7804737091064453,
          3.1440770626068115,
          2.6939585208892822,
          2.9242682456970215,
          2.9565541744232178,
          1.7721805572509766,
          2.6862356662750244,
          3.324810743331909,
          2.571610450744629,
          2.732679605484009,
          1.5077762603759766,
          3.438149929046631,
          3.2754805088043213,
          3.169703483581543,
          3.2760071754455566,
          2.9691996574401855,
          2.8109130859375,
          2.4346961975097656,
          2.423006772994995,
          3.4664762020111084,
          3.1101815700531006,
          2.7686233520507812,
          2.725144147872925,
          3.453070163726806,
          2.588721513748169,
          3.355238676071167,
          3.2754456996917725,
          3.4997079372406006,
          3.249274969100952,
          3.4707818031311035,
          3.3392961025238037,
          3.328214168548584,
          3.1653807163238525,
          3.4762203693389893,
          3.4691569805145264,
          3.0065958499908447,
          3.1933882236480713,
          3.1856415271759033,
          3.3138949871063232,
          2.997321605682373,
          3.1417934894561768,
          3.339799642562866,
          3.458937883377075,
          1.847466826438904,
          1.8384476900100708
         ],
         "yaxis": "y"
        },
        {
         "customdata": [
          [
           "fold_kif5_atp_tub_seed1_model_0",
           "420E"
          ],
          [
           "fold_kif5_atp_tub_seed1_model_0",
           "412G"
          ],
          [
           "fold_kif5_atp_tub_seed1_model_0",
           "112K"
          ],
          [
           "fold_kif5_atp_tub_seed1_model_0",
           "112K"
          ],
          [
           "fold_kif5_atp_tub_seed1_model_0",
           "108Y"
          ],
          [
           "fold_kif5_atp_tub_seed1_model_0",
           "109T"
          ],
          [
           "fold_kif5_atp_tub_seed1_model_0",
           "409V"
          ],
          [
           "fold_kif5_atp_tub_seed1_model_0",
           "409V"
          ],
          [
           "fold_kif5_atp_tub_seed1_model_0",
           "415E"
          ],
          [
           "fold_kif5_atp_tub_seed1_model_0",
           "420E"
          ]
         ],
         "hovertemplate": "Interacting Chain=alpha-tubulin<br>Residue (Number and Identity)=%{x}<br>Distance (angstroms)=%{y}<br>text=%{text}<br>file=%{customdata[0]}<br>interacting_label=%{customdata[1]}<extra></extra>",
         "legendgroup": "alpha-tubulin",
         "marker": {
          "color": "#ab63fa",
          "opacity": 0.6,
          "size": 10,
          "symbol": "circle"
         },
         "mode": "markers+text",
         "name": "alpha-tubulin",
         "orientation": "v",
         "showlegend": true,
         "text": [
          "420E",
          "412G",
          "112K",
          "112K",
          "108Y",
          "109T",
          "409V",
          "409V",
          "415E",
          "420E"
         ],
         "textposition": "top center",
         "type": "scatter",
         "x": [
          "238K",
          "239V",
          "244A",
          "245E",
          "249L",
          "253K",
          "256N",
          "257K",
          "260S",
          "312A"
         ],
         "xaxis": "x",
         "y": [
          2.543912887573242,
          3.143177032470703,
          3.222151756286621,
          3.05067777633667,
          3.257371425628662,
          3.1146886348724365,
          3.3009321689605713,
          3.287350654602051,
          2.603187322616577,
          3.1848530769348145
         ],
         "yaxis": "y"
        }
       ],
       "layout": {
        "legend": {
         "title": {
          "text": "Interacting Chain"
         },
         "tracegroupgap": 0
        },
        "template": {
         "data": {
          "bar": [
           {
            "error_x": {
             "color": "#2a3f5f"
            },
            "error_y": {
             "color": "#2a3f5f"
            },
            "marker": {
             "line": {
              "color": "#E5ECF6",
              "width": 0.5
             },
             "pattern": {
              "fillmode": "overlay",
              "size": 10,
              "solidity": 0.2
             }
            },
            "type": "bar"
           }
          ],
          "barpolar": [
           {
            "marker": {
             "line": {
              "color": "#E5ECF6",
              "width": 0.5
             },
             "pattern": {
              "fillmode": "overlay",
              "size": 10,
              "solidity": 0.2
             }
            },
            "type": "barpolar"
           }
          ],
          "carpet": [
           {
            "aaxis": {
             "endlinecolor": "#2a3f5f",
             "gridcolor": "white",
             "linecolor": "white",
             "minorgridcolor": "white",
             "startlinecolor": "#2a3f5f"
            },
            "baxis": {
             "endlinecolor": "#2a3f5f",
             "gridcolor": "white",
             "linecolor": "white",
             "minorgridcolor": "white",
             "startlinecolor": "#2a3f5f"
            },
            "type": "carpet"
           }
          ],
          "choropleth": [
           {
            "colorbar": {
             "outlinewidth": 0,
             "ticks": ""
            },
            "type": "choropleth"
           }
          ],
          "contour": [
           {
            "colorbar": {
             "outlinewidth": 0,
             "ticks": ""
            },
            "colorscale": [
             [
              0,
              "#0d0887"
             ],
             [
              0.1111111111111111,
              "#46039f"
             ],
             [
              0.2222222222222222,
              "#7201a8"
             ],
             [
              0.3333333333333333,
              "#9c179e"
             ],
             [
              0.4444444444444444,
              "#bd3786"
             ],
             [
              0.5555555555555556,
              "#d8576b"
             ],
             [
              0.6666666666666666,
              "#ed7953"
             ],
             [
              0.7777777777777778,
              "#fb9f3a"
             ],
             [
              0.8888888888888888,
              "#fdca26"
             ],
             [
              1,
              "#f0f921"
             ]
            ],
            "type": "contour"
           }
          ],
          "contourcarpet": [
           {
            "colorbar": {
             "outlinewidth": 0,
             "ticks": ""
            },
            "type": "contourcarpet"
           }
          ],
          "heatmap": [
           {
            "colorbar": {
             "outlinewidth": 0,
             "ticks": ""
            },
            "colorscale": [
             [
              0,
              "#0d0887"
             ],
             [
              0.1111111111111111,
              "#46039f"
             ],
             [
              0.2222222222222222,
              "#7201a8"
             ],
             [
              0.3333333333333333,
              "#9c179e"
             ],
             [
              0.4444444444444444,
              "#bd3786"
             ],
             [
              0.5555555555555556,
              "#d8576b"
             ],
             [
              0.6666666666666666,
              "#ed7953"
             ],
             [
              0.7777777777777778,
              "#fb9f3a"
             ],
             [
              0.8888888888888888,
              "#fdca26"
             ],
             [
              1,
              "#f0f921"
             ]
            ],
            "type": "heatmap"
           }
          ],
          "heatmapgl": [
           {
            "colorbar": {
             "outlinewidth": 0,
             "ticks": ""
            },
            "colorscale": [
             [
              0,
              "#0d0887"
             ],
             [
              0.1111111111111111,
              "#46039f"
             ],
             [
              0.2222222222222222,
              "#7201a8"
             ],
             [
              0.3333333333333333,
              "#9c179e"
             ],
             [
              0.4444444444444444,
              "#bd3786"
             ],
             [
              0.5555555555555556,
              "#d8576b"
             ],
             [
              0.6666666666666666,
              "#ed7953"
             ],
             [
              0.7777777777777778,
              "#fb9f3a"
             ],
             [
              0.8888888888888888,
              "#fdca26"
             ],
             [
              1,
              "#f0f921"
             ]
            ],
            "type": "heatmapgl"
           }
          ],
          "histogram": [
           {
            "marker": {
             "pattern": {
              "fillmode": "overlay",
              "size": 10,
              "solidity": 0.2
             }
            },
            "type": "histogram"
           }
          ],
          "histogram2d": [
           {
            "colorbar": {
             "outlinewidth": 0,
             "ticks": ""
            },
            "colorscale": [
             [
              0,
              "#0d0887"
             ],
             [
              0.1111111111111111,
              "#46039f"
             ],
             [
              0.2222222222222222,
              "#7201a8"
             ],
             [
              0.3333333333333333,
              "#9c179e"
             ],
             [
              0.4444444444444444,
              "#bd3786"
             ],
             [
              0.5555555555555556,
              "#d8576b"
             ],
             [
              0.6666666666666666,
              "#ed7953"
             ],
             [
              0.7777777777777778,
              "#fb9f3a"
             ],
             [
              0.8888888888888888,
              "#fdca26"
             ],
             [
              1,
              "#f0f921"
             ]
            ],
            "type": "histogram2d"
           }
          ],
          "histogram2dcontour": [
           {
            "colorbar": {
             "outlinewidth": 0,
             "ticks": ""
            },
            "colorscale": [
             [
              0,
              "#0d0887"
             ],
             [
              0.1111111111111111,
              "#46039f"
             ],
             [
              0.2222222222222222,
              "#7201a8"
             ],
             [
              0.3333333333333333,
              "#9c179e"
             ],
             [
              0.4444444444444444,
              "#bd3786"
             ],
             [
              0.5555555555555556,
              "#d8576b"
             ],
             [
              0.6666666666666666,
              "#ed7953"
             ],
             [
              0.7777777777777778,
              "#fb9f3a"
             ],
             [
              0.8888888888888888,
              "#fdca26"
             ],
             [
              1,
              "#f0f921"
             ]
            ],
            "type": "histogram2dcontour"
           }
          ],
          "mesh3d": [
           {
            "colorbar": {
             "outlinewidth": 0,
             "ticks": ""
            },
            "type": "mesh3d"
           }
          ],
          "parcoords": [
           {
            "line": {
             "colorbar": {
              "outlinewidth": 0,
              "ticks": ""
             }
            },
            "type": "parcoords"
           }
          ],
          "pie": [
           {
            "automargin": true,
            "type": "pie"
           }
          ],
          "scatter": [
           {
            "fillpattern": {
             "fillmode": "overlay",
             "size": 10,
             "solidity": 0.2
            },
            "type": "scatter"
           }
          ],
          "scatter3d": [
           {
            "line": {
             "colorbar": {
              "outlinewidth": 0,
              "ticks": ""
             }
            },
            "marker": {
             "colorbar": {
              "outlinewidth": 0,
              "ticks": ""
             }
            },
            "type": "scatter3d"
           }
          ],
          "scattercarpet": [
           {
            "marker": {
             "colorbar": {
              "outlinewidth": 0,
              "ticks": ""
             }
            },
            "type": "scattercarpet"
           }
          ],
          "scattergeo": [
           {
            "marker": {
             "colorbar": {
              "outlinewidth": 0,
              "ticks": ""
             }
            },
            "type": "scattergeo"
           }
          ],
          "scattergl": [
           {
            "marker": {
             "colorbar": {
              "outlinewidth": 0,
              "ticks": ""
             }
            },
            "type": "scattergl"
           }
          ],
          "scattermapbox": [
           {
            "marker": {
             "colorbar": {
              "outlinewidth": 0,
              "ticks": ""
             }
            },
            "type": "scattermapbox"
           }
          ],
          "scatterpolar": [
           {
            "marker": {
             "colorbar": {
              "outlinewidth": 0,
              "ticks": ""
             }
            },
            "type": "scatterpolar"
           }
          ],
          "scatterpolargl": [
           {
            "marker": {
             "colorbar": {
              "outlinewidth": 0,
              "ticks": ""
             }
            },
            "type": "scatterpolargl"
           }
          ],
          "scatterternary": [
           {
            "marker": {
             "colorbar": {
              "outlinewidth": 0,
              "ticks": ""
             }
            },
            "type": "scatterternary"
           }
          ],
          "surface": [
           {
            "colorbar": {
             "outlinewidth": 0,
             "ticks": ""
            },
            "colorscale": [
             [
              0,
              "#0d0887"
             ],
             [
              0.1111111111111111,
              "#46039f"
             ],
             [
              0.2222222222222222,
              "#7201a8"
             ],
             [
              0.3333333333333333,
              "#9c179e"
             ],
             [
              0.4444444444444444,
              "#bd3786"
             ],
             [
              0.5555555555555556,
              "#d8576b"
             ],
             [
              0.6666666666666666,
              "#ed7953"
             ],
             [
              0.7777777777777778,
              "#fb9f3a"
             ],
             [
              0.8888888888888888,
              "#fdca26"
             ],
             [
              1,
              "#f0f921"
             ]
            ],
            "type": "surface"
           }
          ],
          "table": [
           {
            "cells": {
             "fill": {
              "color": "#EBF0F8"
             },
             "line": {
              "color": "white"
             }
            },
            "header": {
             "fill": {
              "color": "#C8D4E3"
             },
             "line": {
              "color": "white"
             }
            },
            "type": "table"
           }
          ]
         },
         "layout": {
          "annotationdefaults": {
           "arrowcolor": "#2a3f5f",
           "arrowhead": 0,
           "arrowwidth": 1
          },
          "autotypenumbers": "strict",
          "coloraxis": {
           "colorbar": {
            "outlinewidth": 0,
            "ticks": ""
           }
          },
          "colorscale": {
           "diverging": [
            [
             0,
             "#8e0152"
            ],
            [
             0.1,
             "#c51b7d"
            ],
            [
             0.2,
             "#de77ae"
            ],
            [
             0.3,
             "#f1b6da"
            ],
            [
             0.4,
             "#fde0ef"
            ],
            [
             0.5,
             "#f7f7f7"
            ],
            [
             0.6,
             "#e6f5d0"
            ],
            [
             0.7,
             "#b8e186"
            ],
            [
             0.8,
             "#7fbc41"
            ],
            [
             0.9,
             "#4d9221"
            ],
            [
             1,
             "#276419"
            ]
           ],
           "sequential": [
            [
             0,
             "#0d0887"
            ],
            [
             0.1111111111111111,
             "#46039f"
            ],
            [
             0.2222222222222222,
             "#7201a8"
            ],
            [
             0.3333333333333333,
             "#9c179e"
            ],
            [
             0.4444444444444444,
             "#bd3786"
            ],
            [
             0.5555555555555556,
             "#d8576b"
            ],
            [
             0.6666666666666666,
             "#ed7953"
            ],
            [
             0.7777777777777778,
             "#fb9f3a"
            ],
            [
             0.8888888888888888,
             "#fdca26"
            ],
            [
             1,
             "#f0f921"
            ]
           ],
           "sequentialminus": [
            [
             0,
             "#0d0887"
            ],
            [
             0.1111111111111111,
             "#46039f"
            ],
            [
             0.2222222222222222,
             "#7201a8"
            ],
            [
             0.3333333333333333,
             "#9c179e"
            ],
            [
             0.4444444444444444,
             "#bd3786"
            ],
            [
             0.5555555555555556,
             "#d8576b"
            ],
            [
             0.6666666666666666,
             "#ed7953"
            ],
            [
             0.7777777777777778,
             "#fb9f3a"
            ],
            [
             0.8888888888888888,
             "#fdca26"
            ],
            [
             1,
             "#f0f921"
            ]
           ]
          },
          "colorway": [
           "#636efa",
           "#EF553B",
           "#00cc96",
           "#ab63fa",
           "#FFA15A",
           "#19d3f3",
           "#FF6692",
           "#B6E880",
           "#FF97FF",
           "#FECB52"
          ],
          "font": {
           "color": "#2a3f5f"
          },
          "geo": {
           "bgcolor": "white",
           "lakecolor": "white",
           "landcolor": "#E5ECF6",
           "showlakes": true,
           "showland": true,
           "subunitcolor": "white"
          },
          "hoverlabel": {
           "align": "left"
          },
          "hovermode": "closest",
          "mapbox": {
           "style": "light"
          },
          "paper_bgcolor": "white",
          "plot_bgcolor": "#E5ECF6",
          "polar": {
           "angularaxis": {
            "gridcolor": "white",
            "linecolor": "white",
            "ticks": ""
           },
           "bgcolor": "#E5ECF6",
           "radialaxis": {
            "gridcolor": "white",
            "linecolor": "white",
            "ticks": ""
           }
          },
          "scene": {
           "xaxis": {
            "backgroundcolor": "#E5ECF6",
            "gridcolor": "white",
            "gridwidth": 2,
            "linecolor": "white",
            "showbackground": true,
            "ticks": "",
            "zerolinecolor": "white"
           },
           "yaxis": {
            "backgroundcolor": "#E5ECF6",
            "gridcolor": "white",
            "gridwidth": 2,
            "linecolor": "white",
            "showbackground": true,
            "ticks": "",
            "zerolinecolor": "white"
           },
           "zaxis": {
            "backgroundcolor": "#E5ECF6",
            "gridcolor": "white",
            "gridwidth": 2,
            "linecolor": "white",
            "showbackground": true,
            "ticks": "",
            "zerolinecolor": "white"
           }
          },
          "shapedefaults": {
           "line": {
            "color": "#2a3f5f"
           }
          },
          "ternary": {
           "aaxis": {
            "gridcolor": "white",
            "linecolor": "white",
            "ticks": ""
           },
           "baxis": {
            "gridcolor": "white",
            "linecolor": "white",
            "ticks": ""
           },
           "bgcolor": "#E5ECF6",
           "caxis": {
            "gridcolor": "white",
            "linecolor": "white",
            "ticks": ""
           }
          },
          "title": {
           "x": 0.05
          },
          "xaxis": {
           "automargin": true,
           "gridcolor": "white",
           "linecolor": "white",
           "ticks": "",
           "title": {
            "standoff": 15
           },
           "zerolinecolor": "white",
           "zerolinewidth": 2
          },
          "yaxis": {
           "automargin": true,
           "gridcolor": "white",
           "linecolor": "white",
           "ticks": "",
           "title": {
            "standoff": 15
           },
           "zerolinecolor": "white",
           "zerolinewidth": 2
          }
         }
        },
        "title": {
         "text": "Interaction Distances for fold_kif5_atp_tub_seed1_model_0 by Residue and Interacting Chain"
        },
        "xaxis": {
         "anchor": "y",
         "categoryarray": [
          "18P",
          "45K",
          "88T",
          "89S",
          "90S",
          "91G",
          "92K",
          "93T",
          "94H",
          "142K",
          "153N",
          "157H",
          "158E",
          "160K",
          "199N",
          "202S",
          "203S",
          "235G",
          "238K",
          "239V",
          "244A",
          "245E",
          "249L",
          "253K",
          "256N",
          "257K",
          "260S",
          "274K",
          "276Y",
          "280R",
          "281D",
          "312A",
          "339A",
          "342W",
          "349E",
          "353T",
          "356Q",
          "357K",
          "360I",
          "363L",
          "366E",
          "367L",
          "371R",
          "382L",
          "407V",
          "408R",
          "409I",
          "411P",
          "413E",
          "414R",
          "417Y",
          "418E",
          "420E",
          "421I",
          "424L",
          "425Y",
          "428L",
          "431K",
          "432D",
          "434E",
          "435I",
          "438Q",
          "439S",
          "442I",
          "446K",
          "449M",
          "452Q",
          "453E",
          "455L",
          "456L",
          "459T",
          "460R",
          "463N",
          "466V",
          "469E",
          "470L",
          "473L",
          "474Q",
          "476E",
          "484V",
          "487V",
          "491L",
          "494L",
          "497N",
          "498Y"
         ],
         "categoryorder": "array",
         "domain": [
          0,
          1
         ],
         "title": {
          "text": "Residue (Number and Identity)"
         }
        },
        "yaxis": {
         "anchor": "x",
         "domain": [
          0,
          1
         ],
         "title": {
          "text": "Distance (angstroms)"
         }
        }
       }
      }
     },
     "metadata": {},
     "output_type": "display_data"
    },
    {
     "name": "stderr",
     "output_type": "stream",
     "text": [
      "/var/folders/08/7vm2c9d11xvc7s0rf383rd480000gn/T/ipykernel_57000/2424036903.py:54: SettingWithCopyWarning:\n",
      "\n",
      "\n",
      "A value is trying to be set on a copy of a slice from a DataFrame.\n",
      "Try using .loc[row_indexer,col_indexer] = value instead\n",
      "\n",
      "See the caveats in the documentation: https://pandas.pydata.org/pandas-docs/stable/user_guide/indexing.html#returning-a-view-versus-a-copy\n",
      "\n"
     ]
    },
    {
     "data": {
      "application/vnd.plotly.v1+json": {
       "config": {
        "plotlyServerURL": "https://plot.ly"
       },
       "data": [
        {
         "customdata": [
          [
           "fold_thtr_atp_tub_seed1_model_0",
           "1?"
          ],
          [
           "fold_thtr_atp_tub_seed1_model_0",
           "1?"
          ],
          [
           "fold_thtr_atp_tub_seed1_model_0",
           "1?"
          ],
          [
           "fold_thtr_atp_tub_seed1_model_0",
           "1?"
          ],
          [
           "fold_thtr_atp_tub_seed1_model_0",
           "1?"
          ],
          [
           "fold_thtr_atp_tub_seed1_model_0",
           "1?"
          ],
          [
           "fold_thtr_atp_tub_seed1_model_0",
           "1?"
          ],
          [
           "fold_thtr_atp_tub_seed1_model_0",
           "1?"
          ],
          [
           "fold_thtr_atp_tub_seed1_model_0",
           "1?"
          ],
          [
           "fold_thtr_atp_tub_seed1_model_0",
           "1?"
          ],
          [
           "fold_thtr_atp_tub_seed1_model_0",
           "1?"
          ],
          [
           "fold_thtr_atp_tub_seed1_model_0",
           "1?"
          ]
         ],
         "hovertemplate": "Interacting Chain=ATP<br>Residue (Number and Identity)=%{x}<br>Distance (angstroms)=%{y}<br>text=%{text}<br>file=%{customdata[0]}<br>interacting_label=%{customdata[1]}<extra></extra>",
         "legendgroup": "ATP",
         "marker": {
          "color": "#636efa",
          "opacity": 0.6,
          "size": 10,
          "symbol": "circle"
         },
         "mode": "markers+text",
         "name": "ATP",
         "orientation": "v",
         "showlegend": true,
         "text": [
          "1?",
          "1?",
          "1?",
          "1?",
          "1?",
          "1?",
          "1?",
          "1?",
          "1?",
          "1?",
          "1?",
          "1?"
         ],
         "textposition": "top center",
         "type": "scatter",
         "x": [
          "80L",
          "150T",
          "151G",
          "152S",
          "153G",
          "154K",
          "155T",
          "156Y",
          "267N",
          "270S",
          "271S",
          "303G"
         ],
         "xaxis": "x",
         "y": [
          3.4796738624572754,
          2.5782470703125,
          2.8484461307525635,
          3.3776767253875732,
          2.9838054180145264,
          2.8252768516540527,
          2.7848241329193115,
          2.9013590812683105,
          2.9841699600219727,
          2.891399383544922,
          2.8940441608428955,
          2.9420318603515625
         ],
         "yaxis": "y"
        },
        {
         "customdata": [
          [
           "fold_thtr_atp_tub_seed1_model_0",
           "157E"
          ],
          [
           "fold_thtr_atp_tub_seed1_model_0",
           "157E"
          ],
          [
           "fold_thtr_atp_tub_seed1_model_0",
           "404D"
          ],
          [
           "fold_thtr_atp_tub_seed1_model_0",
           "410E"
          ],
          [
           "fold_thtr_atp_tub_seed1_model_0",
           "435E"
          ],
          [
           "fold_thtr_atp_tub_seed1_model_0",
           "424Q"
          ],
          [
           "fold_thtr_atp_tub_seed1_model_0",
           "417D"
          ],
          [
           "fold_thtr_atp_tub_seed1_model_0",
           "262R"
          ],
          [
           "fold_thtr_atp_tub_seed1_model_0",
           "410E"
          ]
         ],
         "hovertemplate": "Interacting Chain=beta-tubulin<br>Residue (Number and Identity)=%{x}<br>Distance (angstroms)=%{y}<br>text=%{text}<br>file=%{customdata[0]}<br>interacting_label=%{customdata[1]}<extra></extra>",
         "legendgroup": "beta-tubulin",
         "marker": {
          "color": "#EF553B",
          "opacity": 0.6,
          "size": 10,
          "symbol": "circle"
         },
         "mode": "markers+text",
         "name": "beta-tubulin",
         "orientation": "v",
         "showlegend": true,
         "text": [
          "157E",
          "157E",
          "404D",
          "410E",
          "435E",
          "424Q",
          "417D",
          "262R",
          "410E"
         ],
         "textposition": "top center",
         "type": "scatter",
         "x": [
          "219K",
          "220T",
          "226R",
          "227E",
          "341K",
          "346H",
          "350R",
          "351D",
          "356R"
         ],
         "xaxis": "x",
         "y": [
          3.2784502506256104,
          3.1922953128814697,
          2.780259132385254,
          3.32198166847229,
          3.449328660964966,
          2.844157457351685,
          2.386643409729004,
          3.3376142978668213,
          3.1414685249328613
         ],
         "yaxis": "y"
        },
        {
         "customdata": [
          [
           "fold_thtr_atp_tub_seed1_model_0",
           "420E"
          ],
          [
           "fold_thtr_atp_tub_seed1_model_0",
           "412G"
          ],
          [
           "fold_thtr_atp_tub_seed1_model_0",
           "155E"
          ],
          [
           "fold_thtr_atp_tub_seed1_model_0",
           "410G"
          ],
          [
           "fold_thtr_atp_tub_seed1_model_0",
           "415E"
          ],
          [
           "fold_thtr_atp_tub_seed1_model_0",
           "402R"
          ],
          [
           "fold_thtr_atp_tub_seed1_model_0",
           "400A"
          ],
          [
           "fold_thtr_atp_tub_seed1_model_0",
           "416G"
          ],
          [
           "fold_thtr_atp_tub_seed1_model_0",
           "423E"
          ],
          [
           "fold_thtr_atp_tub_seed1_model_0",
           "415E"
          ]
         ],
         "hovertemplate": "Interacting Chain=alpha-tubulin<br>Residue (Number and Identity)=%{x}<br>Distance (angstroms)=%{y}<br>text=%{text}<br>file=%{customdata[0]}<br>interacting_label=%{customdata[1]}<extra></extra>",
         "legendgroup": "alpha-tubulin",
         "marker": {
          "color": "#00cc96",
          "opacity": 0.6,
          "size": 10,
          "symbol": "circle"
         },
         "mode": "markers+text",
         "name": "alpha-tubulin",
         "orientation": "v",
         "showlegend": true,
         "text": [
          "420E",
          "412G",
          "155E",
          "410G",
          "415E",
          "402R",
          "400A",
          "416G",
          "423E",
          "415E"
         ],
         "textposition": "top center",
         "type": "scatter",
         "x": [
          "306R",
          "307L",
          "308K",
          "321I",
          "328L",
          "332N",
          "342R",
          "386N",
          "389R",
          "390Y"
         ],
         "xaxis": "x",
         "y": [
          2.331254720687866,
          3.0757851600646973,
          2.5842039585113525,
          3.2878310680389404,
          3.335381984710694,
          3.2592339515686035,
          2.7890465259552,
          3.388658046722412,
          2.8966901302337646,
          2.6889467239379883
         ],
         "yaxis": "y"
        },
        {
         "customdata": [
          [
           "fold_thtr_atp_tub_seed1_model_0",
           "604D"
          ],
          [
           "fold_thtr_atp_tub_seed1_model_0",
           "611E"
          ],
          [
           "fold_thtr_atp_tub_seed1_model_0",
           "455N"
          ],
          [
           "fold_thtr_atp_tub_seed1_model_0",
           "458L"
          ],
          [
           "fold_thtr_atp_tub_seed1_model_0",
           "455N"
          ],
          [
           "fold_thtr_atp_tub_seed1_model_0",
           "462Y"
          ],
          [
           "fold_thtr_atp_tub_seed1_model_0",
           "465L"
          ],
          [
           "fold_thtr_atp_tub_seed1_model_0",
           "462Y"
          ],
          [
           "fold_thtr_atp_tub_seed1_model_0",
           "469V"
          ],
          [
           "fold_thtr_atp_tub_seed1_model_0",
           "476L"
          ],
          [
           "fold_thtr_atp_tub_seed1_model_0",
           "476L"
          ],
          [
           "fold_thtr_atp_tub_seed1_model_0",
           "511Y"
          ],
          [
           "fold_thtr_atp_tub_seed1_model_0",
           "483R"
          ],
          [
           "fold_thtr_atp_tub_seed1_model_0",
           "482E"
          ],
          [
           "fold_thtr_atp_tub_seed1_model_0",
           "511Y"
          ],
          [
           "fold_thtr_atp_tub_seed1_model_0",
           "483R"
          ],
          [
           "fold_thtr_atp_tub_seed1_model_0",
           "507T"
          ],
          [
           "fold_thtr_atp_tub_seed1_model_0",
           "498Q"
          ],
          [
           "fold_thtr_atp_tub_seed1_model_0",
           "489Q"
          ],
          [
           "fold_thtr_atp_tub_seed1_model_0",
           "489Q"
          ],
          [
           "fold_thtr_atp_tub_seed1_model_0",
           "492D"
          ],
          [
           "fold_thtr_atp_tub_seed1_model_0",
           "488H"
          ],
          [
           "fold_thtr_atp_tub_seed1_model_0",
           "484D"
          ],
          [
           "fold_thtr_atp_tub_seed1_model_0",
           "610K"
          ],
          [
           "fold_thtr_atp_tub_seed1_model_0",
           "610K"
          ],
          [
           "fold_thtr_atp_tub_seed1_model_0",
           "599K"
          ],
          [
           "fold_thtr_atp_tub_seed1_model_0",
           "596V"
          ],
          [
           "fold_thtr_atp_tub_seed1_model_0",
           "589F"
          ],
          [
           "fold_thtr_atp_tub_seed1_model_0",
           "585S"
          ],
          [
           "fold_thtr_atp_tub_seed1_model_0",
           "575L"
          ],
          [
           "fold_thtr_atp_tub_seed1_model_0",
           "426L"
          ]
         ],
         "hovertemplate": "Interacting Chain=kinesin B<br>Residue (Number and Identity)=%{x}<br>Distance (angstroms)=%{y}<br>text=%{text}<br>file=%{customdata[0]}<br>interacting_label=%{customdata[1]}<extra></extra>",
         "legendgroup": "kinesin B",
         "marker": {
          "color": "#ab63fa",
          "opacity": 0.6,
          "size": 10,
          "symbol": "circle"
         },
         "mode": "markers+text",
         "name": "kinesin B",
         "orientation": "v",
         "showlegend": true,
         "text": [
          "604D",
          "611E",
          "455N",
          "458L",
          "455N",
          "462Y",
          "465L",
          "462Y",
          "469V",
          "476L",
          "476L",
          "511Y",
          "483R",
          "482E",
          "511Y",
          "483R",
          "507T",
          "498Q",
          "489Q",
          "489Q",
          "492D",
          "488H",
          "484D",
          "610K",
          "610K",
          "599K",
          "596V",
          "589F",
          "585S",
          "575L",
          "426L"
         ],
         "textposition": "top center",
         "type": "scatter",
         "x": [
          "419I",
          "423Q",
          "451L",
          "455N",
          "458L",
          "461A",
          "462Y",
          "465L",
          "469V",
          "475S",
          "476L",
          "480T",
          "482E",
          "483R",
          "484D",
          "486Y",
          "488H",
          "489Q",
          "496A",
          "498Q",
          "503A",
          "507T",
          "511Y",
          "575L",
          "578L",
          "585S",
          "589F",
          "596V",
          "599K",
          "610K",
          "611E"
         ],
         "xaxis": "x",
         "y": [
          3.3006021976470947,
          2.7903261184692383,
          3.044473886489868,
          3.0144412517547607,
          3.0613603591918945,
          3.4263691902160645,
          2.783581495285034,
          2.7919492721557617,
          3.286431789398194,
          3.414236068725586,
          3.181088924407959,
          3.2703676223754883,
          2.6965901851654053,
          2.7799177169799805,
          2.3654561042785645,
          3.4635872840881348,
          3.30053973197937,
          2.688964605331421,
          2.841850519180298,
          2.625770092010498,
          3.2480733394622803,
          2.594373941421509,
          1.9477741718292236,
          3.0196104049682617,
          3.4533307552337646,
          3.2054295539855957,
          2.8787577152252197,
          3.1325430870056152,
          3.081895589828491,
          3.273416042327881,
          2.9284918308258057
         ],
         "yaxis": "y"
        }
       ],
       "layout": {
        "legend": {
         "title": {
          "text": "Interacting Chain"
         },
         "tracegroupgap": 0
        },
        "template": {
         "data": {
          "bar": [
           {
            "error_x": {
             "color": "#2a3f5f"
            },
            "error_y": {
             "color": "#2a3f5f"
            },
            "marker": {
             "line": {
              "color": "#E5ECF6",
              "width": 0.5
             },
             "pattern": {
              "fillmode": "overlay",
              "size": 10,
              "solidity": 0.2
             }
            },
            "type": "bar"
           }
          ],
          "barpolar": [
           {
            "marker": {
             "line": {
              "color": "#E5ECF6",
              "width": 0.5
             },
             "pattern": {
              "fillmode": "overlay",
              "size": 10,
              "solidity": 0.2
             }
            },
            "type": "barpolar"
           }
          ],
          "carpet": [
           {
            "aaxis": {
             "endlinecolor": "#2a3f5f",
             "gridcolor": "white",
             "linecolor": "white",
             "minorgridcolor": "white",
             "startlinecolor": "#2a3f5f"
            },
            "baxis": {
             "endlinecolor": "#2a3f5f",
             "gridcolor": "white",
             "linecolor": "white",
             "minorgridcolor": "white",
             "startlinecolor": "#2a3f5f"
            },
            "type": "carpet"
           }
          ],
          "choropleth": [
           {
            "colorbar": {
             "outlinewidth": 0,
             "ticks": ""
            },
            "type": "choropleth"
           }
          ],
          "contour": [
           {
            "colorbar": {
             "outlinewidth": 0,
             "ticks": ""
            },
            "colorscale": [
             [
              0,
              "#0d0887"
             ],
             [
              0.1111111111111111,
              "#46039f"
             ],
             [
              0.2222222222222222,
              "#7201a8"
             ],
             [
              0.3333333333333333,
              "#9c179e"
             ],
             [
              0.4444444444444444,
              "#bd3786"
             ],
             [
              0.5555555555555556,
              "#d8576b"
             ],
             [
              0.6666666666666666,
              "#ed7953"
             ],
             [
              0.7777777777777778,
              "#fb9f3a"
             ],
             [
              0.8888888888888888,
              "#fdca26"
             ],
             [
              1,
              "#f0f921"
             ]
            ],
            "type": "contour"
           }
          ],
          "contourcarpet": [
           {
            "colorbar": {
             "outlinewidth": 0,
             "ticks": ""
            },
            "type": "contourcarpet"
           }
          ],
          "heatmap": [
           {
            "colorbar": {
             "outlinewidth": 0,
             "ticks": ""
            },
            "colorscale": [
             [
              0,
              "#0d0887"
             ],
             [
              0.1111111111111111,
              "#46039f"
             ],
             [
              0.2222222222222222,
              "#7201a8"
             ],
             [
              0.3333333333333333,
              "#9c179e"
             ],
             [
              0.4444444444444444,
              "#bd3786"
             ],
             [
              0.5555555555555556,
              "#d8576b"
             ],
             [
              0.6666666666666666,
              "#ed7953"
             ],
             [
              0.7777777777777778,
              "#fb9f3a"
             ],
             [
              0.8888888888888888,
              "#fdca26"
             ],
             [
              1,
              "#f0f921"
             ]
            ],
            "type": "heatmap"
           }
          ],
          "heatmapgl": [
           {
            "colorbar": {
             "outlinewidth": 0,
             "ticks": ""
            },
            "colorscale": [
             [
              0,
              "#0d0887"
             ],
             [
              0.1111111111111111,
              "#46039f"
             ],
             [
              0.2222222222222222,
              "#7201a8"
             ],
             [
              0.3333333333333333,
              "#9c179e"
             ],
             [
              0.4444444444444444,
              "#bd3786"
             ],
             [
              0.5555555555555556,
              "#d8576b"
             ],
             [
              0.6666666666666666,
              "#ed7953"
             ],
             [
              0.7777777777777778,
              "#fb9f3a"
             ],
             [
              0.8888888888888888,
              "#fdca26"
             ],
             [
              1,
              "#f0f921"
             ]
            ],
            "type": "heatmapgl"
           }
          ],
          "histogram": [
           {
            "marker": {
             "pattern": {
              "fillmode": "overlay",
              "size": 10,
              "solidity": 0.2
             }
            },
            "type": "histogram"
           }
          ],
          "histogram2d": [
           {
            "colorbar": {
             "outlinewidth": 0,
             "ticks": ""
            },
            "colorscale": [
             [
              0,
              "#0d0887"
             ],
             [
              0.1111111111111111,
              "#46039f"
             ],
             [
              0.2222222222222222,
              "#7201a8"
             ],
             [
              0.3333333333333333,
              "#9c179e"
             ],
             [
              0.4444444444444444,
              "#bd3786"
             ],
             [
              0.5555555555555556,
              "#d8576b"
             ],
             [
              0.6666666666666666,
              "#ed7953"
             ],
             [
              0.7777777777777778,
              "#fb9f3a"
             ],
             [
              0.8888888888888888,
              "#fdca26"
             ],
             [
              1,
              "#f0f921"
             ]
            ],
            "type": "histogram2d"
           }
          ],
          "histogram2dcontour": [
           {
            "colorbar": {
             "outlinewidth": 0,
             "ticks": ""
            },
            "colorscale": [
             [
              0,
              "#0d0887"
             ],
             [
              0.1111111111111111,
              "#46039f"
             ],
             [
              0.2222222222222222,
              "#7201a8"
             ],
             [
              0.3333333333333333,
              "#9c179e"
             ],
             [
              0.4444444444444444,
              "#bd3786"
             ],
             [
              0.5555555555555556,
              "#d8576b"
             ],
             [
              0.6666666666666666,
              "#ed7953"
             ],
             [
              0.7777777777777778,
              "#fb9f3a"
             ],
             [
              0.8888888888888888,
              "#fdca26"
             ],
             [
              1,
              "#f0f921"
             ]
            ],
            "type": "histogram2dcontour"
           }
          ],
          "mesh3d": [
           {
            "colorbar": {
             "outlinewidth": 0,
             "ticks": ""
            },
            "type": "mesh3d"
           }
          ],
          "parcoords": [
           {
            "line": {
             "colorbar": {
              "outlinewidth": 0,
              "ticks": ""
             }
            },
            "type": "parcoords"
           }
          ],
          "pie": [
           {
            "automargin": true,
            "type": "pie"
           }
          ],
          "scatter": [
           {
            "fillpattern": {
             "fillmode": "overlay",
             "size": 10,
             "solidity": 0.2
            },
            "type": "scatter"
           }
          ],
          "scatter3d": [
           {
            "line": {
             "colorbar": {
              "outlinewidth": 0,
              "ticks": ""
             }
            },
            "marker": {
             "colorbar": {
              "outlinewidth": 0,
              "ticks": ""
             }
            },
            "type": "scatter3d"
           }
          ],
          "scattercarpet": [
           {
            "marker": {
             "colorbar": {
              "outlinewidth": 0,
              "ticks": ""
             }
            },
            "type": "scattercarpet"
           }
          ],
          "scattergeo": [
           {
            "marker": {
             "colorbar": {
              "outlinewidth": 0,
              "ticks": ""
             }
            },
            "type": "scattergeo"
           }
          ],
          "scattergl": [
           {
            "marker": {
             "colorbar": {
              "outlinewidth": 0,
              "ticks": ""
             }
            },
            "type": "scattergl"
           }
          ],
          "scattermapbox": [
           {
            "marker": {
             "colorbar": {
              "outlinewidth": 0,
              "ticks": ""
             }
            },
            "type": "scattermapbox"
           }
          ],
          "scatterpolar": [
           {
            "marker": {
             "colorbar": {
              "outlinewidth": 0,
              "ticks": ""
             }
            },
            "type": "scatterpolar"
           }
          ],
          "scatterpolargl": [
           {
            "marker": {
             "colorbar": {
              "outlinewidth": 0,
              "ticks": ""
             }
            },
            "type": "scatterpolargl"
           }
          ],
          "scatterternary": [
           {
            "marker": {
             "colorbar": {
              "outlinewidth": 0,
              "ticks": ""
             }
            },
            "type": "scatterternary"
           }
          ],
          "surface": [
           {
            "colorbar": {
             "outlinewidth": 0,
             "ticks": ""
            },
            "colorscale": [
             [
              0,
              "#0d0887"
             ],
             [
              0.1111111111111111,
              "#46039f"
             ],
             [
              0.2222222222222222,
              "#7201a8"
             ],
             [
              0.3333333333333333,
              "#9c179e"
             ],
             [
              0.4444444444444444,
              "#bd3786"
             ],
             [
              0.5555555555555556,
              "#d8576b"
             ],
             [
              0.6666666666666666,
              "#ed7953"
             ],
             [
              0.7777777777777778,
              "#fb9f3a"
             ],
             [
              0.8888888888888888,
              "#fdca26"
             ],
             [
              1,
              "#f0f921"
             ]
            ],
            "type": "surface"
           }
          ],
          "table": [
           {
            "cells": {
             "fill": {
              "color": "#EBF0F8"
             },
             "line": {
              "color": "white"
             }
            },
            "header": {
             "fill": {
              "color": "#C8D4E3"
             },
             "line": {
              "color": "white"
             }
            },
            "type": "table"
           }
          ]
         },
         "layout": {
          "annotationdefaults": {
           "arrowcolor": "#2a3f5f",
           "arrowhead": 0,
           "arrowwidth": 1
          },
          "autotypenumbers": "strict",
          "coloraxis": {
           "colorbar": {
            "outlinewidth": 0,
            "ticks": ""
           }
          },
          "colorscale": {
           "diverging": [
            [
             0,
             "#8e0152"
            ],
            [
             0.1,
             "#c51b7d"
            ],
            [
             0.2,
             "#de77ae"
            ],
            [
             0.3,
             "#f1b6da"
            ],
            [
             0.4,
             "#fde0ef"
            ],
            [
             0.5,
             "#f7f7f7"
            ],
            [
             0.6,
             "#e6f5d0"
            ],
            [
             0.7,
             "#b8e186"
            ],
            [
             0.8,
             "#7fbc41"
            ],
            [
             0.9,
             "#4d9221"
            ],
            [
             1,
             "#276419"
            ]
           ],
           "sequential": [
            [
             0,
             "#0d0887"
            ],
            [
             0.1111111111111111,
             "#46039f"
            ],
            [
             0.2222222222222222,
             "#7201a8"
            ],
            [
             0.3333333333333333,
             "#9c179e"
            ],
            [
             0.4444444444444444,
             "#bd3786"
            ],
            [
             0.5555555555555556,
             "#d8576b"
            ],
            [
             0.6666666666666666,
             "#ed7953"
            ],
            [
             0.7777777777777778,
             "#fb9f3a"
            ],
            [
             0.8888888888888888,
             "#fdca26"
            ],
            [
             1,
             "#f0f921"
            ]
           ],
           "sequentialminus": [
            [
             0,
             "#0d0887"
            ],
            [
             0.1111111111111111,
             "#46039f"
            ],
            [
             0.2222222222222222,
             "#7201a8"
            ],
            [
             0.3333333333333333,
             "#9c179e"
            ],
            [
             0.4444444444444444,
             "#bd3786"
            ],
            [
             0.5555555555555556,
             "#d8576b"
            ],
            [
             0.6666666666666666,
             "#ed7953"
            ],
            [
             0.7777777777777778,
             "#fb9f3a"
            ],
            [
             0.8888888888888888,
             "#fdca26"
            ],
            [
             1,
             "#f0f921"
            ]
           ]
          },
          "colorway": [
           "#636efa",
           "#EF553B",
           "#00cc96",
           "#ab63fa",
           "#FFA15A",
           "#19d3f3",
           "#FF6692",
           "#B6E880",
           "#FF97FF",
           "#FECB52"
          ],
          "font": {
           "color": "#2a3f5f"
          },
          "geo": {
           "bgcolor": "white",
           "lakecolor": "white",
           "landcolor": "#E5ECF6",
           "showlakes": true,
           "showland": true,
           "subunitcolor": "white"
          },
          "hoverlabel": {
           "align": "left"
          },
          "hovermode": "closest",
          "mapbox": {
           "style": "light"
          },
          "paper_bgcolor": "white",
          "plot_bgcolor": "#E5ECF6",
          "polar": {
           "angularaxis": {
            "gridcolor": "white",
            "linecolor": "white",
            "ticks": ""
           },
           "bgcolor": "#E5ECF6",
           "radialaxis": {
            "gridcolor": "white",
            "linecolor": "white",
            "ticks": ""
           }
          },
          "scene": {
           "xaxis": {
            "backgroundcolor": "#E5ECF6",
            "gridcolor": "white",
            "gridwidth": 2,
            "linecolor": "white",
            "showbackground": true,
            "ticks": "",
            "zerolinecolor": "white"
           },
           "yaxis": {
            "backgroundcolor": "#E5ECF6",
            "gridcolor": "white",
            "gridwidth": 2,
            "linecolor": "white",
            "showbackground": true,
            "ticks": "",
            "zerolinecolor": "white"
           },
           "zaxis": {
            "backgroundcolor": "#E5ECF6",
            "gridcolor": "white",
            "gridwidth": 2,
            "linecolor": "white",
            "showbackground": true,
            "ticks": "",
            "zerolinecolor": "white"
           }
          },
          "shapedefaults": {
           "line": {
            "color": "#2a3f5f"
           }
          },
          "ternary": {
           "aaxis": {
            "gridcolor": "white",
            "linecolor": "white",
            "ticks": ""
           },
           "baxis": {
            "gridcolor": "white",
            "linecolor": "white",
            "ticks": ""
           },
           "bgcolor": "#E5ECF6",
           "caxis": {
            "gridcolor": "white",
            "linecolor": "white",
            "ticks": ""
           }
          },
          "title": {
           "x": 0.05
          },
          "xaxis": {
           "automargin": true,
           "gridcolor": "white",
           "linecolor": "white",
           "ticks": "",
           "title": {
            "standoff": 15
           },
           "zerolinecolor": "white",
           "zerolinewidth": 2
          },
          "yaxis": {
           "automargin": true,
           "gridcolor": "white",
           "linecolor": "white",
           "ticks": "",
           "title": {
            "standoff": 15
           },
           "zerolinecolor": "white",
           "zerolinewidth": 2
          }
         }
        },
        "title": {
         "text": "Interaction Distances for fold_thtr_atp_tub_seed1_model_0 by Residue and Interacting Chain"
        },
        "xaxis": {
         "anchor": "y",
         "categoryarray": [
          "80L",
          "150T",
          "151G",
          "152S",
          "153G",
          "154K",
          "155T",
          "156Y",
          "219K",
          "220T",
          "226R",
          "227E",
          "267N",
          "270S",
          "271S",
          "303G",
          "306R",
          "307L",
          "308K",
          "321I",
          "328L",
          "332N",
          "341K",
          "342R",
          "346H",
          "350R",
          "351D",
          "356R",
          "386N",
          "389R",
          "390Y",
          "419I",
          "423Q",
          "451L",
          "455N",
          "458L",
          "461A",
          "462Y",
          "465L",
          "469V",
          "475S",
          "476L",
          "480T",
          "482E",
          "483R",
          "484D",
          "486Y",
          "488H",
          "489Q",
          "496A",
          "498Q",
          "503A",
          "507T",
          "511Y",
          "575L",
          "578L",
          "585S",
          "589F",
          "596V",
          "599K",
          "610K",
          "611E"
         ],
         "categoryorder": "array",
         "domain": [
          0,
          1
         ],
         "title": {
          "text": "Residue (Number and Identity)"
         }
        },
        "yaxis": {
         "anchor": "x",
         "domain": [
          0,
          1
         ],
         "title": {
          "text": "Distance (angstroms)"
         }
        }
       }
      }
     },
     "metadata": {},
     "output_type": "display_data"
    }
   ],
   "source": [
    "import pandas as pd\n",
    "import plotly.express as px\n",
    "\n",
    "# Define the path to the CSV file\n",
    "csv_file_path = '/Users/jazzeruncal/git/Jazzer_surf/3d_predictions/same_seed/Seed_1/interactions_all_files.csv'\n",
    "\n",
    "# Read the CSV file into a DataFrame\n",
    "df = pd.read_csv(csv_file_path)\n",
    "\n",
    "# Print column names to check for correct naming\n",
    "print(df.columns)\n",
    "\n",
    "# Adjust the column names if necessary\n",
    "# Assuming the columns are named 'resi' instead of 'residue_number'\n",
    "residue_column = 'resi'\n",
    "amino_acid_column = 'residue_one_letter'\n",
    "\n",
    "# Filter to get the shortest distances for each interaction\n",
    "df = df.loc[df[df['chain'] == 'A'].groupby(['file', residue_column, 'interacting_chain'])['distance (angstroms)'].idxmin()]\n",
    "\n",
    "# Exclude interactions with Mg and chain letters A, G, H\n",
    "df = df[(df['interacting_resn'] != 'MG') & (~df['interacting_chain'].isin(['A', 'G', 'H']))].reset_index(drop=True)\n",
    "\n",
    "# Map interacting_resn to single-letter codes for better readability\n",
    "aa_dict = {\n",
    "    'ALA': 'A', 'ARG': 'R', 'ASN': 'N', 'ASP': 'D', 'CYS': 'C', 'GLN': 'Q', 'GLU': 'E', 'GLY': 'G',\n",
    "    'HIS': 'H', 'ILE': 'I', 'LEU': 'L', 'LYS': 'K', 'MET': 'M', 'PHE': 'F', 'PRO': 'P', 'SER': 'S',\n",
    "    'THR': 'T', 'TRP': 'W', 'TYR': 'Y', 'VAL': 'V'\n",
    "}\n",
    "df['residue_one_letter'] = df['resn'].map(aa_dict)\n",
    "df['residue'] = df[residue_column].astype(str) + df['residue_one_letter']\n",
    "\n",
    "# Replace chain letters with descriptive names\n",
    "chain_map = {\n",
    "    'B': 'kinesin B',\n",
    "    'C': 'alpha-tubulin',\n",
    "    'D': 'beta-tubulin',\n",
    "    'E': 'ATP',\n",
    "    'F': 'ATP'\n",
    "}\n",
    "df['interacting_chain'] = df['interacting_chain'].map(chain_map)\n",
    "\n",
    "# Create a new column for the interacting residue label\n",
    "df['interacting_label'] = df['interacting_resinumber'].astype(str) + df['interactingresi_oneletter']\n",
    "\n",
    "# Create a plot for each file\n",
    "unique_files = df['file'].unique()\n",
    "\n",
    "for file in unique_files:\n",
    "    # Filter the DataFrame for the current file\n",
    "    file_df = df[df['file'] == file]\n",
    "\n",
    "    # Create a new column for the x-axis labels by concatenating residue number and amino acid\n",
    "    file_df['residue_label'] = file_df[residue_column].astype(str) + file_df[amino_acid_column]\n",
    "\n",
    "    # Sort the DataFrame by residue number to maintain order\n",
    "    file_df = file_df.sort_values(by=[residue_column])\n",
    "\n",
    "    # Convert residue_label to a categorical type with the correct order\n",
    "    file_df['residue_label'] = pd.Categorical(file_df['residue_label'], \n",
    "                                              categories=sorted(file_df['residue_label'].unique(), key=lambda x: int(''.join(filter(str.isdigit, x)))), \n",
    "                                              ordered=True)\n",
    "\n",
    "    # Create the text for the points\n",
    "    file_df['text'] = file_df['interacting_resinumber'].astype(str) + file_df['interactingresi_oneletter']\n",
    "\n",
    "    # Scatter plot for interaction distances with custom x-axis labels\n",
    "    fig_scatter = px.scatter(file_df, x='residue_label', y='distance (angstroms)', color='interacting_chain', text='text',\n",
    "                             title=f'Interaction Distances for {file} by Residue and Interacting Chain',\n",
    "                             labels={'residue_label': 'Residue (Number and Identity)', 'distance (angstroms)': 'Distance (angstroms)', 'interacting_chain': 'Interacting Chain'},\n",
    "                             hover_data=['file', 'interacting_label'])\n",
    "\n",
    "    fig_scatter.update_traces(textposition='top center', marker=dict(size=10, opacity=0.6))\n",
    "    fig_scatter.update_layout(xaxis={'categoryorder':'array', 'categoryarray': file_df['residue_label'].cat.categories})\n",
    "\n",
    "    # Show the plot\n",
    "    fig_scatter.show()\n"
   ]
  },
  {
   "cell_type": "markdown",
   "metadata": {},
   "source": [
    "the following is to show kif3 from different seeds"
   ]
  },
  {
   "cell_type": "code",
   "execution_count": null,
   "metadata": {},
   "outputs": [],
   "source": [
    "import os\n",
    "import glob\n",
    "import pandas as pd\n",
    "import plotly.express as px\n",
    "\n",
    "# Define the general directory where the folders are located\n",
    "general_directory = '/Users/jazzeruncal/git/Jazzer_surf/3d_predictions/same_seed'\n",
    "\n",
    "# Define the specific strings to search for in the column 'file'\n",
    "specific_strings = ['kif3', 'h']\n",
    "\n",
    "# Find all CSV files in the general directory and its subdirectories\n",
    "search_pattern = os.path.join(general_directory, '**', '*.csv')\n",
    "csv_file_paths = glob.glob(search_pattern, recursive=True)\n",
    "\n",
    "# Check if any files were found\n",
    "if not csv_file_paths:\n",
    "    raise FileNotFoundError('No CSV files found in the directory.')\n",
    "else:\n",
    "    print(f'Found files: {csv_file_paths}')\n",
    "\n",
    "# Define a list of colors for beta-tubulin\n",
    "beta_tubulin_colors = ['red', 'green', 'blue', 'orange', 'purple', 'brown']\n",
    "color_index = 0\n",
    "\n",
    "# Process each file found\n",
    "for csv_file_path in csv_file_paths:\n",
    "    # Read the CSV file into a DataFrame\n",
    "    df = pd.read_csv(csv_file_path)\n",
    "\n",
    "    # Check if the 'file' column contains any of the specific strings\n",
    "    if df['file'].str.contains('|'.join(specific_strings)).any():\n",
    "        # Filter to get the shortest distances for each interaction\n",
    "        df = df.loc[df[df['chain'] == 'A'].groupby(['file', 'resi', 'interacting_chain'])['distance (angstroms)'].idxmin()]\n",
    "\n",
    "        # Exclude interactions with Mg and chain letters A, G, H\n",
    "        df = df[(df['interacting_resn'] != 'MG') & (~df['interacting_chain'].isin(['A', 'G', 'H']))].reset_index(drop=True)\n",
    "\n",
    "        # Map interacting_resn to single-letter codes for better readability\n",
    "        aa_dict = {\n",
    "            'ALA': 'A', 'ARG': 'R', 'ASN': 'N', 'ASP': 'D', 'CYS': 'C', 'GLN': 'Q', 'GLU': 'E', 'GLY': 'G',\n",
    "            'HIS': 'H', 'ILE': 'I', 'LEU': 'L', 'LYS': 'K', 'MET': 'M', 'PHE': 'F', 'PRO': 'P', 'SER': 'S',\n",
    "            'THR': 'T', 'TRP': 'W', 'TYR': 'Y', 'VAL': 'V'\n",
    "        }\n",
    "        df['residue_one_letter'] = df['resn'].map(aa_dict)\n",
    "        df['residue'] = df['resi'].astype(str) + df['residue_one_letter']\n",
    "\n",
    "        # Add interacting_resi_oneletter and interacting_resinumber columns\n",
    "        df['interacting_resi_oneletter'] = df['interacting_resn'].map(aa_dict)\n",
    "        df['interacting_residue'] = df['interacting_resinumber'].astype(str) + df['interacting_resi_oneletter']\n",
    "\n",
    "        # Replace chain letters with descriptive names\n",
    "        chain_map = {\n",
    "            'B': 'kinesin B',\n",
    "            'C': 'alpha-tubulin',\n",
    "            'D': 'beta-tubulin',\n",
    "            'E': 'ATP',\n",
    "            'F': 'ATP'\n",
    "        }\n",
    "        df['interacting_chain'] = df['interacting_chain'].map(chain_map)\n",
    "\n",
    "        # Group by file and interacting chain, keeping residues in order\n",
    "        grouped = df.groupby(['file', 'interacting_chain'])\n",
    "\n",
    "        # Create a list to store the output rows\n",
    "        output_rows = []\n",
    "\n",
    "        # Iterate over each group and extract information\n",
    "        for (file, chain), group in grouped:\n",
    "            for _, row in group.iterrows():\n",
    "                output_rows.append({\n",
    "                    'file': file,\n",
    "                    'interacting_chain': chain,\n",
    "                    'interacting_atom': row['interacting_atom'],\n",
    "                    'residue_number': row['resi'],\n",
    "                    'amino_acid': row['residue_one_letter'],\n",
    "                    'distance (angstroms)': row['distance (angstroms)'],\n",
    "                    'interacting_resi_oneletter': row['interacting_resi_oneletter'],\n",
    "                    'interacting_resinumber': row['interacting_resinumber']\n",
    "                })\n",
    "\n",
    "        # Convert the list to a DataFrame\n",
    "        interaction_df = pd.DataFrame(output_rows)\n",
    "\n",
    "        # Save the resulting DataFrame to a CSV file\n",
    "        interaction_df.to_csv(f\"interaction_summary_{os.path.basename(csv_file_path)}\", index=False)\n",
    "\n",
    "        # Load the summarized interaction data\n",
    "        csv_file_path = f\"interaction_summary_{os.path.basename(csv_file_path)}\"\n",
    "        interaction_df = pd.read_csv(csv_file_path)\n",
    "\n",
    "        # Create a new column for the x-axis labels by concatenating residue number and amino acid\n",
    "        interaction_df['residue_label'] = interaction_df['residue_number'].astype(str) + interaction_df['amino_acid']\n",
    "\n",
    "        # Sort the dataframe by file and residue number to maintain order\n",
    "        interaction_df = interaction_df.sort_values(by=['file', 'residue_number'])\n",
    "\n",
    "        # Convert residue_label to a categorical type with the correct order\n",
    "        interaction_df['residue_label'] = pd.Categorical(interaction_df['residue_label'], \n",
    "                                                         categories=sorted(interaction_df['residue_label'].unique(), key=lambda x: int(''.join(filter(str.isdigit, x)))), \n",
    "                                                         ordered=True)\n",
    "\n",
    "        # Define custom colors, rotating the color for beta-tubulin\n",
    "        color_discrete_map = {\n",
    "            'kinesin B': 'blue',\n",
    "            'alpha-tubulin': 'purple',\n",
    "            'beta-tubulin': beta_tubulin_colors[color_index % len(beta_tubulin_colors)],  # Rotate color\n",
    "            'ATP': 'yellow'\n",
    "        }\n",
    "        color_index += 1\n",
    "\n",
    "        # Create the text for the points\n",
    "        interaction_df['text'] = interaction_df['interacting_resinumber'].astype(str) + interaction_df['interacting_resi_oneletter']\n",
    "\n",
    "        # Scatter plot for interaction distances with custom x-axis labels\n",
    "        fig_scatter = px.scatter(interaction_df, x='residue_label', y='distance (angstroms)', color='interacting_chain', text='text',\n",
    "                                 title='Interaction Distances by Residue and Interacting Chain',\n",
    "                                 labels={'residue_label': 'Residue (Number and Identity)', 'distance (angstroms)': 'Distance (angstroms)', 'interacting_chain': 'Interacting Chain'},\n",
    "                                 hover_data={'file': True, 'interacting_resinumber': True, 'interacting_resi_oneletter': True},\n",
    "                                 color_discrete_map=color_discrete_map)\n",
    "\n",
    "        fig_scatter.update_traces(textposition='top center', marker=dict(size=10, opacity=0.6))\n",
    "        fig_scatter.update_layout(xaxis={'categoryorder':'array', 'categoryarray': interaction_df['residue_label'].cat.categories})\n",
    "\n",
    "        # Show the plot\n",
    "        fig_scatter.show()\n"
   ]
  },
  {
   "cell_type": "code",
   "execution_count": null,
   "metadata": {},
   "outputs": [],
   "source": []
  }
 ],
 "metadata": {
  "kernelspec": {
   "display_name": "base",
   "language": "python",
   "name": "python3"
  },
  "language_info": {
   "codemirror_mode": {
    "name": "ipython",
    "version": 3
   },
   "file_extension": ".py",
   "mimetype": "text/x-python",
   "name": "python",
   "nbconvert_exporter": "python",
   "pygments_lexer": "ipython3",
   "version": "3.12.4"
  }
 },
 "nbformat": 4,
 "nbformat_minor": 2
}
