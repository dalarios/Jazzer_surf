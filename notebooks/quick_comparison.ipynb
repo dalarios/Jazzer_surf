{
 "cells": [
  {
   "cell_type": "markdown",
   "metadata": {},
   "source": [
    "A"
   ]
  },
  {
   "cell_type": "code",
   "execution_count": 7,
   "metadata": {},
   "outputs": [
    {
     "data": {
      "application/vnd.plotly.v1+json": {
       "config": {
        "plotlyServerURL": "https://plot.ly"
       },
       "data": [
        {
         "customdata": [
          [
           "A"
          ],
          [
           "A"
          ],
          [
           "A"
          ],
          [
           "A"
          ],
          [
           "A"
          ],
          [
           "A"
          ]
         ],
         "hovertemplate": "Interacting Chain=ATP<br>Residue (Number and Identity)=%{x}<br>Distance (angstroms)=%{y}<br>interacting_atom=%{text}<br>file=%{customdata[0]}<extra></extra>",
         "legendgroup": "ATP",
         "marker": {
          "color": "#636efa",
          "opacity": 0.6,
          "size": 10,
          "symbol": "circle"
         },
         "mode": "markers+text",
         "name": "ATP",
         "orientation": "v",
         "showlegend": true,
         "text": [
          "O1G",
          "O3B",
          "O2B",
          "O2G",
          "O1B",
          "O3B"
         ],
         "textposition": "top center",
         "type": "scatter",
         "x": [
          "94T",
          "95S",
          "97G",
          "98K",
          "99T",
          "205N"
         ],
         "xaxis": "x",
         "y": [
          2.43408203125,
          2.6955759525299072,
          2.954782724380493,
          2.797912359237671,
          2.937647819519043,
          2.9807538986206055
         ],
         "yaxis": "y"
        },
        {
         "customdata": [
          [
           "A"
          ],
          [
           "A"
          ],
          [
           "A"
          ],
          [
           "A"
          ]
         ],
         "hovertemplate": "Interacting Chain=beta-tubulin<br>Residue (Number and Identity)=%{x}<br>Distance (angstroms)=%{y}<br>interacting_atom=%{text}<br>file=%{customdata[0]}<extra></extra>",
         "legendgroup": "beta-tubulin",
         "marker": {
          "color": "#EF553B",
          "opacity": 0.6,
          "size": 10,
          "symbol": "circle"
         },
         "mode": "markers+text",
         "name": "beta-tubulin",
         "orientation": "v",
         "showlegend": true,
         "text": [
          "OE1",
          "OE2",
          "OE1",
          "OD2"
         ],
         "textposition": "top center",
         "type": "scatter",
         "x": [
          "159N",
          "163H",
          "282H",
          "286R"
         ],
         "xaxis": "x",
         "y": [
          2.67405366897583,
          2.761348247528076,
          2.875741958618164,
          2.5713751316070557
         ],
         "yaxis": "y"
        },
        {
         "customdata": [
          [
           "A"
          ],
          [
           "A"
          ],
          [
           "A"
          ],
          [
           "A"
          ],
          [
           "A"
          ],
          [
           "A"
          ],
          [
           "A"
          ]
         ],
         "hovertemplate": "Interacting Chain=kinesin B<br>Residue (Number and Identity)=%{x}<br>Distance (angstroms)=%{y}<br>interacting_atom=%{text}<br>file=%{customdata[0]}<extra></extra>",
         "legendgroup": "kinesin B",
         "marker": {
          "color": "#00cc96",
          "opacity": 0.6,
          "size": 10,
          "symbol": "circle"
         },
         "mode": "markers+text",
         "name": "kinesin B",
         "orientation": "v",
         "showlegend": true,
         "text": [
          "OE1",
          "NZ",
          "OE2",
          "NH2",
          "OE1",
          "OE2",
          "NH2"
         ],
         "textposition": "top center",
         "type": "scatter",
         "x": [
          "166K",
          "346E",
          "359N",
          "372E",
          "373L",
          "377R",
          "388I"
         ],
         "xaxis": "x",
         "y": [
          2.758011817932129,
          2.8588788509368896,
          2.054415225982666,
          2.857144355773926,
          2.870945453643799,
          2.765533447265625,
          2.9102673530578613
         ],
         "yaxis": "y"
        },
        {
         "customdata": [
          [
           "A"
          ],
          [
           "A"
          ],
          [
           "A"
          ],
          [
           "A"
          ]
         ],
         "hovertemplate": "Interacting Chain=alpha-tubulin<br>Residue (Number and Identity)=%{x}<br>Distance (angstroms)=%{y}<br>interacting_atom=%{text}<br>file=%{customdata[0]}<extra></extra>",
         "legendgroup": "alpha-tubulin",
         "marker": {
          "color": "#ab63fa",
          "opacity": 0.6,
          "size": 10,
          "symbol": "circle"
         },
         "mode": "markers+text",
         "name": "alpha-tubulin",
         "orientation": "v",
         "showlegend": true,
         "text": [
          "OE1",
          "OE2",
          "NZ",
          "OE2"
         ],
         "textposition": "top center",
         "type": "scatter",
         "x": [
          "242S",
          "244K",
          "250A",
          "266S"
         ],
         "xaxis": "x",
         "y": [
          2.9356131553649902,
          2.4766428470611572,
          2.683391809463501,
          2.5945560932159424
         ],
         "yaxis": "y"
        }
       ],
       "layout": {
        "legend": {
         "title": {
          "text": "Interacting Chain"
         },
         "tracegroupgap": 0
        },
        "template": {
         "data": {
          "bar": [
           {
            "error_x": {
             "color": "#2a3f5f"
            },
            "error_y": {
             "color": "#2a3f5f"
            },
            "marker": {
             "line": {
              "color": "#E5ECF6",
              "width": 0.5
             },
             "pattern": {
              "fillmode": "overlay",
              "size": 10,
              "solidity": 0.2
             }
            },
            "type": "bar"
           }
          ],
          "barpolar": [
           {
            "marker": {
             "line": {
              "color": "#E5ECF6",
              "width": 0.5
             },
             "pattern": {
              "fillmode": "overlay",
              "size": 10,
              "solidity": 0.2
             }
            },
            "type": "barpolar"
           }
          ],
          "carpet": [
           {
            "aaxis": {
             "endlinecolor": "#2a3f5f",
             "gridcolor": "white",
             "linecolor": "white",
             "minorgridcolor": "white",
             "startlinecolor": "#2a3f5f"
            },
            "baxis": {
             "endlinecolor": "#2a3f5f",
             "gridcolor": "white",
             "linecolor": "white",
             "minorgridcolor": "white",
             "startlinecolor": "#2a3f5f"
            },
            "type": "carpet"
           }
          ],
          "choropleth": [
           {
            "colorbar": {
             "outlinewidth": 0,
             "ticks": ""
            },
            "type": "choropleth"
           }
          ],
          "contour": [
           {
            "colorbar": {
             "outlinewidth": 0,
             "ticks": ""
            },
            "colorscale": [
             [
              0,
              "#0d0887"
             ],
             [
              0.1111111111111111,
              "#46039f"
             ],
             [
              0.2222222222222222,
              "#7201a8"
             ],
             [
              0.3333333333333333,
              "#9c179e"
             ],
             [
              0.4444444444444444,
              "#bd3786"
             ],
             [
              0.5555555555555556,
              "#d8576b"
             ],
             [
              0.6666666666666666,
              "#ed7953"
             ],
             [
              0.7777777777777778,
              "#fb9f3a"
             ],
             [
              0.8888888888888888,
              "#fdca26"
             ],
             [
              1,
              "#f0f921"
             ]
            ],
            "type": "contour"
           }
          ],
          "contourcarpet": [
           {
            "colorbar": {
             "outlinewidth": 0,
             "ticks": ""
            },
            "type": "contourcarpet"
           }
          ],
          "heatmap": [
           {
            "colorbar": {
             "outlinewidth": 0,
             "ticks": ""
            },
            "colorscale": [
             [
              0,
              "#0d0887"
             ],
             [
              0.1111111111111111,
              "#46039f"
             ],
             [
              0.2222222222222222,
              "#7201a8"
             ],
             [
              0.3333333333333333,
              "#9c179e"
             ],
             [
              0.4444444444444444,
              "#bd3786"
             ],
             [
              0.5555555555555556,
              "#d8576b"
             ],
             [
              0.6666666666666666,
              "#ed7953"
             ],
             [
              0.7777777777777778,
              "#fb9f3a"
             ],
             [
              0.8888888888888888,
              "#fdca26"
             ],
             [
              1,
              "#f0f921"
             ]
            ],
            "type": "heatmap"
           }
          ],
          "heatmapgl": [
           {
            "colorbar": {
             "outlinewidth": 0,
             "ticks": ""
            },
            "colorscale": [
             [
              0,
              "#0d0887"
             ],
             [
              0.1111111111111111,
              "#46039f"
             ],
             [
              0.2222222222222222,
              "#7201a8"
             ],
             [
              0.3333333333333333,
              "#9c179e"
             ],
             [
              0.4444444444444444,
              "#bd3786"
             ],
             [
              0.5555555555555556,
              "#d8576b"
             ],
             [
              0.6666666666666666,
              "#ed7953"
             ],
             [
              0.7777777777777778,
              "#fb9f3a"
             ],
             [
              0.8888888888888888,
              "#fdca26"
             ],
             [
              1,
              "#f0f921"
             ]
            ],
            "type": "heatmapgl"
           }
          ],
          "histogram": [
           {
            "marker": {
             "pattern": {
              "fillmode": "overlay",
              "size": 10,
              "solidity": 0.2
             }
            },
            "type": "histogram"
           }
          ],
          "histogram2d": [
           {
            "colorbar": {
             "outlinewidth": 0,
             "ticks": ""
            },
            "colorscale": [
             [
              0,
              "#0d0887"
             ],
             [
              0.1111111111111111,
              "#46039f"
             ],
             [
              0.2222222222222222,
              "#7201a8"
             ],
             [
              0.3333333333333333,
              "#9c179e"
             ],
             [
              0.4444444444444444,
              "#bd3786"
             ],
             [
              0.5555555555555556,
              "#d8576b"
             ],
             [
              0.6666666666666666,
              "#ed7953"
             ],
             [
              0.7777777777777778,
              "#fb9f3a"
             ],
             [
              0.8888888888888888,
              "#fdca26"
             ],
             [
              1,
              "#f0f921"
             ]
            ],
            "type": "histogram2d"
           }
          ],
          "histogram2dcontour": [
           {
            "colorbar": {
             "outlinewidth": 0,
             "ticks": ""
            },
            "colorscale": [
             [
              0,
              "#0d0887"
             ],
             [
              0.1111111111111111,
              "#46039f"
             ],
             [
              0.2222222222222222,
              "#7201a8"
             ],
             [
              0.3333333333333333,
              "#9c179e"
             ],
             [
              0.4444444444444444,
              "#bd3786"
             ],
             [
              0.5555555555555556,
              "#d8576b"
             ],
             [
              0.6666666666666666,
              "#ed7953"
             ],
             [
              0.7777777777777778,
              "#fb9f3a"
             ],
             [
              0.8888888888888888,
              "#fdca26"
             ],
             [
              1,
              "#f0f921"
             ]
            ],
            "type": "histogram2dcontour"
           }
          ],
          "mesh3d": [
           {
            "colorbar": {
             "outlinewidth": 0,
             "ticks": ""
            },
            "type": "mesh3d"
           }
          ],
          "parcoords": [
           {
            "line": {
             "colorbar": {
              "outlinewidth": 0,
              "ticks": ""
             }
            },
            "type": "parcoords"
           }
          ],
          "pie": [
           {
            "automargin": true,
            "type": "pie"
           }
          ],
          "scatter": [
           {
            "fillpattern": {
             "fillmode": "overlay",
             "size": 10,
             "solidity": 0.2
            },
            "type": "scatter"
           }
          ],
          "scatter3d": [
           {
            "line": {
             "colorbar": {
              "outlinewidth": 0,
              "ticks": ""
             }
            },
            "marker": {
             "colorbar": {
              "outlinewidth": 0,
              "ticks": ""
             }
            },
            "type": "scatter3d"
           }
          ],
          "scattercarpet": [
           {
            "marker": {
             "colorbar": {
              "outlinewidth": 0,
              "ticks": ""
             }
            },
            "type": "scattercarpet"
           }
          ],
          "scattergeo": [
           {
            "marker": {
             "colorbar": {
              "outlinewidth": 0,
              "ticks": ""
             }
            },
            "type": "scattergeo"
           }
          ],
          "scattergl": [
           {
            "marker": {
             "colorbar": {
              "outlinewidth": 0,
              "ticks": ""
             }
            },
            "type": "scattergl"
           }
          ],
          "scattermapbox": [
           {
            "marker": {
             "colorbar": {
              "outlinewidth": 0,
              "ticks": ""
             }
            },
            "type": "scattermapbox"
           }
          ],
          "scatterpolar": [
           {
            "marker": {
             "colorbar": {
              "outlinewidth": 0,
              "ticks": ""
             }
            },
            "type": "scatterpolar"
           }
          ],
          "scatterpolargl": [
           {
            "marker": {
             "colorbar": {
              "outlinewidth": 0,
              "ticks": ""
             }
            },
            "type": "scatterpolargl"
           }
          ],
          "scatterternary": [
           {
            "marker": {
             "colorbar": {
              "outlinewidth": 0,
              "ticks": ""
             }
            },
            "type": "scatterternary"
           }
          ],
          "surface": [
           {
            "colorbar": {
             "outlinewidth": 0,
             "ticks": ""
            },
            "colorscale": [
             [
              0,
              "#0d0887"
             ],
             [
              0.1111111111111111,
              "#46039f"
             ],
             [
              0.2222222222222222,
              "#7201a8"
             ],
             [
              0.3333333333333333,
              "#9c179e"
             ],
             [
              0.4444444444444444,
              "#bd3786"
             ],
             [
              0.5555555555555556,
              "#d8576b"
             ],
             [
              0.6666666666666666,
              "#ed7953"
             ],
             [
              0.7777777777777778,
              "#fb9f3a"
             ],
             [
              0.8888888888888888,
              "#fdca26"
             ],
             [
              1,
              "#f0f921"
             ]
            ],
            "type": "surface"
           }
          ],
          "table": [
           {
            "cells": {
             "fill": {
              "color": "#EBF0F8"
             },
             "line": {
              "color": "white"
             }
            },
            "header": {
             "fill": {
              "color": "#C8D4E3"
             },
             "line": {
              "color": "white"
             }
            },
            "type": "table"
           }
          ]
         },
         "layout": {
          "annotationdefaults": {
           "arrowcolor": "#2a3f5f",
           "arrowhead": 0,
           "arrowwidth": 1
          },
          "autotypenumbers": "strict",
          "coloraxis": {
           "colorbar": {
            "outlinewidth": 0,
            "ticks": ""
           }
          },
          "colorscale": {
           "diverging": [
            [
             0,
             "#8e0152"
            ],
            [
             0.1,
             "#c51b7d"
            ],
            [
             0.2,
             "#de77ae"
            ],
            [
             0.3,
             "#f1b6da"
            ],
            [
             0.4,
             "#fde0ef"
            ],
            [
             0.5,
             "#f7f7f7"
            ],
            [
             0.6,
             "#e6f5d0"
            ],
            [
             0.7,
             "#b8e186"
            ],
            [
             0.8,
             "#7fbc41"
            ],
            [
             0.9,
             "#4d9221"
            ],
            [
             1,
             "#276419"
            ]
           ],
           "sequential": [
            [
             0,
             "#0d0887"
            ],
            [
             0.1111111111111111,
             "#46039f"
            ],
            [
             0.2222222222222222,
             "#7201a8"
            ],
            [
             0.3333333333333333,
             "#9c179e"
            ],
            [
             0.4444444444444444,
             "#bd3786"
            ],
            [
             0.5555555555555556,
             "#d8576b"
            ],
            [
             0.6666666666666666,
             "#ed7953"
            ],
            [
             0.7777777777777778,
             "#fb9f3a"
            ],
            [
             0.8888888888888888,
             "#fdca26"
            ],
            [
             1,
             "#f0f921"
            ]
           ],
           "sequentialminus": [
            [
             0,
             "#0d0887"
            ],
            [
             0.1111111111111111,
             "#46039f"
            ],
            [
             0.2222222222222222,
             "#7201a8"
            ],
            [
             0.3333333333333333,
             "#9c179e"
            ],
            [
             0.4444444444444444,
             "#bd3786"
            ],
            [
             0.5555555555555556,
             "#d8576b"
            ],
            [
             0.6666666666666666,
             "#ed7953"
            ],
            [
             0.7777777777777778,
             "#fb9f3a"
            ],
            [
             0.8888888888888888,
             "#fdca26"
            ],
            [
             1,
             "#f0f921"
            ]
           ]
          },
          "colorway": [
           "#636efa",
           "#EF553B",
           "#00cc96",
           "#ab63fa",
           "#FFA15A",
           "#19d3f3",
           "#FF6692",
           "#B6E880",
           "#FF97FF",
           "#FECB52"
          ],
          "font": {
           "color": "#2a3f5f"
          },
          "geo": {
           "bgcolor": "white",
           "lakecolor": "white",
           "landcolor": "#E5ECF6",
           "showlakes": true,
           "showland": true,
           "subunitcolor": "white"
          },
          "hoverlabel": {
           "align": "left"
          },
          "hovermode": "closest",
          "mapbox": {
           "style": "light"
          },
          "paper_bgcolor": "white",
          "plot_bgcolor": "#E5ECF6",
          "polar": {
           "angularaxis": {
            "gridcolor": "white",
            "linecolor": "white",
            "ticks": ""
           },
           "bgcolor": "#E5ECF6",
           "radialaxis": {
            "gridcolor": "white",
            "linecolor": "white",
            "ticks": ""
           }
          },
          "scene": {
           "xaxis": {
            "backgroundcolor": "#E5ECF6",
            "gridcolor": "white",
            "gridwidth": 2,
            "linecolor": "white",
            "showbackground": true,
            "ticks": "",
            "zerolinecolor": "white"
           },
           "yaxis": {
            "backgroundcolor": "#E5ECF6",
            "gridcolor": "white",
            "gridwidth": 2,
            "linecolor": "white",
            "showbackground": true,
            "ticks": "",
            "zerolinecolor": "white"
           },
           "zaxis": {
            "backgroundcolor": "#E5ECF6",
            "gridcolor": "white",
            "gridwidth": 2,
            "linecolor": "white",
            "showbackground": true,
            "ticks": "",
            "zerolinecolor": "white"
           }
          },
          "shapedefaults": {
           "line": {
            "color": "#2a3f5f"
           }
          },
          "ternary": {
           "aaxis": {
            "gridcolor": "white",
            "linecolor": "white",
            "ticks": ""
           },
           "baxis": {
            "gridcolor": "white",
            "linecolor": "white",
            "ticks": ""
           },
           "bgcolor": "#E5ECF6",
           "caxis": {
            "gridcolor": "white",
            "linecolor": "white",
            "ticks": ""
           }
          },
          "title": {
           "x": 0.05
          },
          "xaxis": {
           "automargin": true,
           "gridcolor": "white",
           "linecolor": "white",
           "ticks": "",
           "title": {
            "standoff": 15
           },
           "zerolinecolor": "white",
           "zerolinewidth": 2
          },
          "yaxis": {
           "automargin": true,
           "gridcolor": "white",
           "linecolor": "white",
           "ticks": "",
           "title": {
            "standoff": 15
           },
           "zerolinecolor": "white",
           "zerolinewidth": 2
          }
         }
        },
        "title": {
         "text": "Interaction Distances by Residue and Interacting Chain"
        },
        "xaxis": {
         "anchor": "y",
         "categoryarray": [
          "94T",
          "95S",
          "97G",
          "98K",
          "99T",
          "159N",
          "163H",
          "166K",
          "205N",
          "242S",
          "244K",
          "250A",
          "266S",
          "282H",
          "286R",
          "346E",
          "359N",
          "372E",
          "373L",
          "377R",
          "388I"
         ],
         "categoryorder": "array",
         "domain": [
          0,
          1
         ],
         "title": {
          "text": "Residue (Number and Identity)"
         }
        },
        "yaxis": {
         "anchor": "x",
         "domain": [
          0,
          1
         ],
         "title": {
          "text": "Distance (angstroms)"
         }
        }
       }
      }
     },
     "metadata": {},
     "output_type": "display_data"
    }
   ],
   "source": [
    "import pandas as pd\n",
    "import plotly.express as px\n",
    "\n",
    "# Define the path to the CSV file\n",
    "csv_file_path = \"/Users/jazzeruncal/git/Jazzer_surf/3d_predictions/chimeras/motor2x_ATP2x_Mg2x_abTub/interactions_all_files.csv\"\n",
    "\n",
    "# Read the CSV file into a DataFrame\n",
    "df = pd.read_csv(csv_file_path)\n",
    "\n",
    "# Filter to get the shortest distances for each interaction\n",
    "df = df.loc[df[df['chain'] == 'A'].groupby(['file', 'resi', 'interacting_chain'])['distance (angstroms)'].idxmin()]\n",
    "\n",
    "# Exclude interactions with Mg and chain letters A, G, H\n",
    "df = df[(df['interacting_resn'] != 'MG') & (~df['interacting_chain'].isin(['A', 'G', 'H']))].reset_index(drop=True)\n",
    "\n",
    "# Map interacting_resn to single-letter codes for better readability\n",
    "aa_dict = {\n",
    "    'ALA': 'A', 'ARG': 'R', 'ASN': 'N', 'ASP': 'D', 'CYS': 'C', 'GLN': 'Q', 'GLU': 'E', 'GLY': 'G',\n",
    "    'HIS': 'H', 'ILE': 'I', 'LEU': 'L', 'LYS': 'K', 'MET': 'M', 'PHE': 'F', 'PRO': 'P', 'SER': 'S',\n",
    "    'THR': 'T', 'TRP': 'W', 'TYR': 'Y', 'VAL': 'V'\n",
    "}\n",
    "df['residue_one_letter'] = df['resn'].map(aa_dict)\n",
    "df['residue'] = df['resi'].astype(str) + df['residue_one_letter']\n",
    "\n",
    "# Replace chain letters with descriptive names\n",
    "chain_map = {\n",
    "    'B': 'kinesin B',\n",
    "    'C': 'alpha-tubulin',\n",
    "    'D': 'beta-tubulin',\n",
    "    'E': 'ATP',\n",
    "    'F': 'ATP'\n",
    "}\n",
    "df['interacting_chain'] = df['interacting_chain'].map(chain_map)\n",
    "\n",
    "# Filter to specific files\n",
    "df = df.loc[df['file'].isin([\n",
    "    'A', \n",
    "\n",
    "    ])]\n",
    "\n",
    "# Group by file and interacting chain, keeping residues in order\n",
    "grouped = df.groupby(['file', 'interacting_chain'])\n",
    "\n",
    "# Create a list to store the output rows\n",
    "output_rows = []\n",
    "\n",
    "# Iterate over each group and extract information\n",
    "for (file, chain), group in grouped:\n",
    "    for _, row in group.iterrows():\n",
    "        output_rows.append({\n",
    "            'file': file,\n",
    "            'interacting_chain': chain,\n",
    "            'interacting_atom': row['interacting_atom'],\n",
    "            'residue_number': row['resi'],\n",
    "            'amino_acid': row['residue_one_letter'],\n",
    "            'distance (angstroms)': row['distance (angstroms)'],\n",
    "        })\n",
    "\n",
    "# Convert the list to a DataFrame\n",
    "interaction_df = pd.DataFrame(output_rows)\n",
    "\n",
    "# Display the resulting DataFrame\n",
    "interaction_df\n",
    "\n",
    "interaction_df.to_csv(\"interaction_summary.csv\", index=False)\n",
    "\n",
    "\n",
    "\n",
    "# Load the data\n",
    "csv_file_path = \"interaction_summary.csv\"\n",
    "interaction_df = pd.read_csv(csv_file_path)\n",
    "\n",
    "# Create a new column for the x-axis labels by concatenating residue number and amino acid\n",
    "interaction_df['residue_label'] = interaction_df['residue_number'].astype(str) + interaction_df['amino_acid']\n",
    "\n",
    "# Sort the dataframe by file and residue number to maintain order\n",
    "interaction_df = interaction_df.sort_values(by=['file', 'residue_number'])\n",
    "\n",
    "# Convert residue_label to a categorical type with the correct order\n",
    "interaction_df['residue_label'] = pd.Categorical(interaction_df['residue_label'], \n",
    "                                                 categories=sorted(interaction_df['residue_label'].unique(), key=lambda x: int(''.join(filter(str.isdigit, x)))), \n",
    "                                                 ordered=True)\n",
    "\n",
    "# Scatter plot for interaction distances with custom x-axis labels\n",
    "fig_scatter = px.scatter(interaction_df, x='residue_label', y='distance (angstroms)', color='interacting_chain', text='interacting_atom',\n",
    "                         title='Interaction Distances by Residue and Interacting Chain',\n",
    "                         labels={'residue_label': 'Residue (Number and Identity)', 'distance (angstroms)': 'Distance (angstroms)', 'interacting_chain': 'Interacting Chain'},\n",
    "                         hover_data=['file'])\n",
    "\n",
    "fig_scatter.update_traces(textposition='top center', marker=dict(size=10, opacity=0.6))\n",
    "fig_scatter.update_layout(xaxis={'categoryorder':'array', 'categoryarray': interaction_df['residue_label'].cat.categories})\n",
    "\n",
    "# Show the plot\n",
    "fig_scatter.show()\n",
    "\n"
   ]
  },
  {
   "cell_type": "markdown",
   "metadata": {},
   "source": [
    "C"
   ]
  },
  {
   "cell_type": "code",
   "execution_count": 8,
   "metadata": {},
   "outputs": [
    {
     "data": {
      "application/vnd.plotly.v1+json": {
       "config": {
        "plotlyServerURL": "https://plot.ly"
       },
       "data": [
        {
         "customdata": [
          [
           "C"
          ],
          [
           "C"
          ],
          [
           "C"
          ],
          [
           "C"
          ],
          [
           "C"
          ],
          [
           "C"
          ],
          [
           "C"
          ],
          [
           "C"
          ]
         ],
         "hovertemplate": "Interacting Chain=ATP<br>Residue (Number and Identity)=%{x}<br>Distance (angstroms)=%{y}<br>interacting_atom=%{text}<br>file=%{customdata[0]}<extra></extra>",
         "legendgroup": "ATP",
         "marker": {
          "color": "#636efa",
          "opacity": 0.6,
          "size": 10,
          "symbol": "circle"
         },
         "mode": "markers+text",
         "name": "ATP",
         "orientation": "v",
         "showlegend": true,
         "text": [
          "O2G",
          "O3B",
          "O1B",
          "O2B",
          "O2A",
          "O2G",
          "O3G",
          "O1G"
         ],
         "textposition": "top center",
         "type": "scatter",
         "x": [
          "94T",
          "95S",
          "98K",
          "99T",
          "100H",
          "208S",
          "209S",
          "241G"
         ],
         "xaxis": "x",
         "y": [
          2.471453905105591,
          2.9235379695892334,
          2.8820974826812744,
          2.656883955001831,
          2.7273435592651367,
          2.8766520023345947,
          2.7936689853668213,
          2.8299522399902344
         ],
         "yaxis": "y"
        },
        {
         "customdata": [
          [
           "C"
          ],
          [
           "C"
          ],
          [
           "C"
          ]
         ],
         "hovertemplate": "Interacting Chain=beta-tubulin<br>Residue (Number and Identity)=%{x}<br>Distance (angstroms)=%{y}<br>interacting_atom=%{text}<br>file=%{customdata[0]}<extra></extra>",
         "legendgroup": "beta-tubulin",
         "marker": {
          "color": "#EF553B",
          "opacity": 0.6,
          "size": 10,
          "symbol": "circle"
         },
         "mode": "markers+text",
         "name": "beta-tubulin",
         "orientation": "v",
         "showlegend": true,
         "text": [
          "OE2",
          "OE1",
          "OD2"
         ],
         "textposition": "top center",
         "type": "scatter",
         "x": [
          "163H",
          "282H",
          "286R"
         ],
         "xaxis": "x",
         "y": [
          2.811490058898926,
          2.7998008728027344,
          2.564934015274048
         ],
         "yaxis": "y"
        },
        {
         "customdata": [
          [
           "C"
          ],
          [
           "C"
          ],
          [
           "C"
          ],
          [
           "C"
          ],
          [
           "C"
          ],
          [
           "C"
          ],
          [
           "C"
          ],
          [
           "C"
          ],
          [
           "C"
          ]
         ],
         "hovertemplate": "Interacting Chain=kinesin B<br>Residue (Number and Identity)=%{x}<br>Distance (angstroms)=%{y}<br>interacting_atom=%{text}<br>file=%{customdata[0]}<extra></extra>",
         "legendgroup": "kinesin B",
         "marker": {
          "color": "#00cc96",
          "opacity": 0.6,
          "size": 10,
          "symbol": "circle"
         },
         "mode": "markers+text",
         "name": "kinesin B",
         "orientation": "v",
         "showlegend": true,
         "text": [
          "OE1",
          "ND2",
          "OE2",
          "OD1",
          "OE1",
          "NH2",
          "OE1",
          "OE2",
          "NH2"
         ],
         "textposition": "top center",
         "type": "scatter",
         "x": [
          "166K",
          "355E",
          "359N",
          "362L",
          "365K",
          "372E",
          "373L",
          "377R",
          "388I"
         ],
         "xaxis": "x",
         "y": [
          2.732813835144043,
          2.087067127227783,
          2.181346893310547,
          2.8901329040527344,
          2.987513780593872,
          2.7590510845184326,
          2.7946407794952393,
          2.7263762950897217,
          2.8729329109191895
         ],
         "yaxis": "y"
        },
        {
         "customdata": [
          [
           "C"
          ],
          [
           "C"
          ],
          [
           "C"
          ],
          [
           "C"
          ],
          [
           "C"
          ]
         ],
         "hovertemplate": "Interacting Chain=alpha-tubulin<br>Residue (Number and Identity)=%{x}<br>Distance (angstroms)=%{y}<br>interacting_atom=%{text}<br>file=%{customdata[0]}<extra></extra>",
         "legendgroup": "alpha-tubulin",
         "marker": {
          "color": "#ab63fa",
          "opacity": 0.6,
          "size": 10,
          "symbol": "circle"
         },
         "mode": "markers+text",
         "name": "alpha-tubulin",
         "orientation": "v",
         "showlegend": true,
         "text": [
          "OE1",
          "O",
          "OE2",
          "OE1",
          "OE1"
         ],
         "textposition": "top center",
         "type": "scatter",
         "x": [
          "244K",
          "245I",
          "266S",
          "318A",
          "325R"
         ],
         "xaxis": "x",
         "y": [
          2.536552906036377,
          2.956431150436402,
          2.598006010055542,
          2.9456822872161865,
          2.9397482872009277
         ],
         "yaxis": "y"
        }
       ],
       "layout": {
        "legend": {
         "title": {
          "text": "Interacting Chain"
         },
         "tracegroupgap": 0
        },
        "template": {
         "data": {
          "bar": [
           {
            "error_x": {
             "color": "#2a3f5f"
            },
            "error_y": {
             "color": "#2a3f5f"
            },
            "marker": {
             "line": {
              "color": "#E5ECF6",
              "width": 0.5
             },
             "pattern": {
              "fillmode": "overlay",
              "size": 10,
              "solidity": 0.2
             }
            },
            "type": "bar"
           }
          ],
          "barpolar": [
           {
            "marker": {
             "line": {
              "color": "#E5ECF6",
              "width": 0.5
             },
             "pattern": {
              "fillmode": "overlay",
              "size": 10,
              "solidity": 0.2
             }
            },
            "type": "barpolar"
           }
          ],
          "carpet": [
           {
            "aaxis": {
             "endlinecolor": "#2a3f5f",
             "gridcolor": "white",
             "linecolor": "white",
             "minorgridcolor": "white",
             "startlinecolor": "#2a3f5f"
            },
            "baxis": {
             "endlinecolor": "#2a3f5f",
             "gridcolor": "white",
             "linecolor": "white",
             "minorgridcolor": "white",
             "startlinecolor": "#2a3f5f"
            },
            "type": "carpet"
           }
          ],
          "choropleth": [
           {
            "colorbar": {
             "outlinewidth": 0,
             "ticks": ""
            },
            "type": "choropleth"
           }
          ],
          "contour": [
           {
            "colorbar": {
             "outlinewidth": 0,
             "ticks": ""
            },
            "colorscale": [
             [
              0,
              "#0d0887"
             ],
             [
              0.1111111111111111,
              "#46039f"
             ],
             [
              0.2222222222222222,
              "#7201a8"
             ],
             [
              0.3333333333333333,
              "#9c179e"
             ],
             [
              0.4444444444444444,
              "#bd3786"
             ],
             [
              0.5555555555555556,
              "#d8576b"
             ],
             [
              0.6666666666666666,
              "#ed7953"
             ],
             [
              0.7777777777777778,
              "#fb9f3a"
             ],
             [
              0.8888888888888888,
              "#fdca26"
             ],
             [
              1,
              "#f0f921"
             ]
            ],
            "type": "contour"
           }
          ],
          "contourcarpet": [
           {
            "colorbar": {
             "outlinewidth": 0,
             "ticks": ""
            },
            "type": "contourcarpet"
           }
          ],
          "heatmap": [
           {
            "colorbar": {
             "outlinewidth": 0,
             "ticks": ""
            },
            "colorscale": [
             [
              0,
              "#0d0887"
             ],
             [
              0.1111111111111111,
              "#46039f"
             ],
             [
              0.2222222222222222,
              "#7201a8"
             ],
             [
              0.3333333333333333,
              "#9c179e"
             ],
             [
              0.4444444444444444,
              "#bd3786"
             ],
             [
              0.5555555555555556,
              "#d8576b"
             ],
             [
              0.6666666666666666,
              "#ed7953"
             ],
             [
              0.7777777777777778,
              "#fb9f3a"
             ],
             [
              0.8888888888888888,
              "#fdca26"
             ],
             [
              1,
              "#f0f921"
             ]
            ],
            "type": "heatmap"
           }
          ],
          "heatmapgl": [
           {
            "colorbar": {
             "outlinewidth": 0,
             "ticks": ""
            },
            "colorscale": [
             [
              0,
              "#0d0887"
             ],
             [
              0.1111111111111111,
              "#46039f"
             ],
             [
              0.2222222222222222,
              "#7201a8"
             ],
             [
              0.3333333333333333,
              "#9c179e"
             ],
             [
              0.4444444444444444,
              "#bd3786"
             ],
             [
              0.5555555555555556,
              "#d8576b"
             ],
             [
              0.6666666666666666,
              "#ed7953"
             ],
             [
              0.7777777777777778,
              "#fb9f3a"
             ],
             [
              0.8888888888888888,
              "#fdca26"
             ],
             [
              1,
              "#f0f921"
             ]
            ],
            "type": "heatmapgl"
           }
          ],
          "histogram": [
           {
            "marker": {
             "pattern": {
              "fillmode": "overlay",
              "size": 10,
              "solidity": 0.2
             }
            },
            "type": "histogram"
           }
          ],
          "histogram2d": [
           {
            "colorbar": {
             "outlinewidth": 0,
             "ticks": ""
            },
            "colorscale": [
             [
              0,
              "#0d0887"
             ],
             [
              0.1111111111111111,
              "#46039f"
             ],
             [
              0.2222222222222222,
              "#7201a8"
             ],
             [
              0.3333333333333333,
              "#9c179e"
             ],
             [
              0.4444444444444444,
              "#bd3786"
             ],
             [
              0.5555555555555556,
              "#d8576b"
             ],
             [
              0.6666666666666666,
              "#ed7953"
             ],
             [
              0.7777777777777778,
              "#fb9f3a"
             ],
             [
              0.8888888888888888,
              "#fdca26"
             ],
             [
              1,
              "#f0f921"
             ]
            ],
            "type": "histogram2d"
           }
          ],
          "histogram2dcontour": [
           {
            "colorbar": {
             "outlinewidth": 0,
             "ticks": ""
            },
            "colorscale": [
             [
              0,
              "#0d0887"
             ],
             [
              0.1111111111111111,
              "#46039f"
             ],
             [
              0.2222222222222222,
              "#7201a8"
             ],
             [
              0.3333333333333333,
              "#9c179e"
             ],
             [
              0.4444444444444444,
              "#bd3786"
             ],
             [
              0.5555555555555556,
              "#d8576b"
             ],
             [
              0.6666666666666666,
              "#ed7953"
             ],
             [
              0.7777777777777778,
              "#fb9f3a"
             ],
             [
              0.8888888888888888,
              "#fdca26"
             ],
             [
              1,
              "#f0f921"
             ]
            ],
            "type": "histogram2dcontour"
           }
          ],
          "mesh3d": [
           {
            "colorbar": {
             "outlinewidth": 0,
             "ticks": ""
            },
            "type": "mesh3d"
           }
          ],
          "parcoords": [
           {
            "line": {
             "colorbar": {
              "outlinewidth": 0,
              "ticks": ""
             }
            },
            "type": "parcoords"
           }
          ],
          "pie": [
           {
            "automargin": true,
            "type": "pie"
           }
          ],
          "scatter": [
           {
            "fillpattern": {
             "fillmode": "overlay",
             "size": 10,
             "solidity": 0.2
            },
            "type": "scatter"
           }
          ],
          "scatter3d": [
           {
            "line": {
             "colorbar": {
              "outlinewidth": 0,
              "ticks": ""
             }
            },
            "marker": {
             "colorbar": {
              "outlinewidth": 0,
              "ticks": ""
             }
            },
            "type": "scatter3d"
           }
          ],
          "scattercarpet": [
           {
            "marker": {
             "colorbar": {
              "outlinewidth": 0,
              "ticks": ""
             }
            },
            "type": "scattercarpet"
           }
          ],
          "scattergeo": [
           {
            "marker": {
             "colorbar": {
              "outlinewidth": 0,
              "ticks": ""
             }
            },
            "type": "scattergeo"
           }
          ],
          "scattergl": [
           {
            "marker": {
             "colorbar": {
              "outlinewidth": 0,
              "ticks": ""
             }
            },
            "type": "scattergl"
           }
          ],
          "scattermapbox": [
           {
            "marker": {
             "colorbar": {
              "outlinewidth": 0,
              "ticks": ""
             }
            },
            "type": "scattermapbox"
           }
          ],
          "scatterpolar": [
           {
            "marker": {
             "colorbar": {
              "outlinewidth": 0,
              "ticks": ""
             }
            },
            "type": "scatterpolar"
           }
          ],
          "scatterpolargl": [
           {
            "marker": {
             "colorbar": {
              "outlinewidth": 0,
              "ticks": ""
             }
            },
            "type": "scatterpolargl"
           }
          ],
          "scatterternary": [
           {
            "marker": {
             "colorbar": {
              "outlinewidth": 0,
              "ticks": ""
             }
            },
            "type": "scatterternary"
           }
          ],
          "surface": [
           {
            "colorbar": {
             "outlinewidth": 0,
             "ticks": ""
            },
            "colorscale": [
             [
              0,
              "#0d0887"
             ],
             [
              0.1111111111111111,
              "#46039f"
             ],
             [
              0.2222222222222222,
              "#7201a8"
             ],
             [
              0.3333333333333333,
              "#9c179e"
             ],
             [
              0.4444444444444444,
              "#bd3786"
             ],
             [
              0.5555555555555556,
              "#d8576b"
             ],
             [
              0.6666666666666666,
              "#ed7953"
             ],
             [
              0.7777777777777778,
              "#fb9f3a"
             ],
             [
              0.8888888888888888,
              "#fdca26"
             ],
             [
              1,
              "#f0f921"
             ]
            ],
            "type": "surface"
           }
          ],
          "table": [
           {
            "cells": {
             "fill": {
              "color": "#EBF0F8"
             },
             "line": {
              "color": "white"
             }
            },
            "header": {
             "fill": {
              "color": "#C8D4E3"
             },
             "line": {
              "color": "white"
             }
            },
            "type": "table"
           }
          ]
         },
         "layout": {
          "annotationdefaults": {
           "arrowcolor": "#2a3f5f",
           "arrowhead": 0,
           "arrowwidth": 1
          },
          "autotypenumbers": "strict",
          "coloraxis": {
           "colorbar": {
            "outlinewidth": 0,
            "ticks": ""
           }
          },
          "colorscale": {
           "diverging": [
            [
             0,
             "#8e0152"
            ],
            [
             0.1,
             "#c51b7d"
            ],
            [
             0.2,
             "#de77ae"
            ],
            [
             0.3,
             "#f1b6da"
            ],
            [
             0.4,
             "#fde0ef"
            ],
            [
             0.5,
             "#f7f7f7"
            ],
            [
             0.6,
             "#e6f5d0"
            ],
            [
             0.7,
             "#b8e186"
            ],
            [
             0.8,
             "#7fbc41"
            ],
            [
             0.9,
             "#4d9221"
            ],
            [
             1,
             "#276419"
            ]
           ],
           "sequential": [
            [
             0,
             "#0d0887"
            ],
            [
             0.1111111111111111,
             "#46039f"
            ],
            [
             0.2222222222222222,
             "#7201a8"
            ],
            [
             0.3333333333333333,
             "#9c179e"
            ],
            [
             0.4444444444444444,
             "#bd3786"
            ],
            [
             0.5555555555555556,
             "#d8576b"
            ],
            [
             0.6666666666666666,
             "#ed7953"
            ],
            [
             0.7777777777777778,
             "#fb9f3a"
            ],
            [
             0.8888888888888888,
             "#fdca26"
            ],
            [
             1,
             "#f0f921"
            ]
           ],
           "sequentialminus": [
            [
             0,
             "#0d0887"
            ],
            [
             0.1111111111111111,
             "#46039f"
            ],
            [
             0.2222222222222222,
             "#7201a8"
            ],
            [
             0.3333333333333333,
             "#9c179e"
            ],
            [
             0.4444444444444444,
             "#bd3786"
            ],
            [
             0.5555555555555556,
             "#d8576b"
            ],
            [
             0.6666666666666666,
             "#ed7953"
            ],
            [
             0.7777777777777778,
             "#fb9f3a"
            ],
            [
             0.8888888888888888,
             "#fdca26"
            ],
            [
             1,
             "#f0f921"
            ]
           ]
          },
          "colorway": [
           "#636efa",
           "#EF553B",
           "#00cc96",
           "#ab63fa",
           "#FFA15A",
           "#19d3f3",
           "#FF6692",
           "#B6E880",
           "#FF97FF",
           "#FECB52"
          ],
          "font": {
           "color": "#2a3f5f"
          },
          "geo": {
           "bgcolor": "white",
           "lakecolor": "white",
           "landcolor": "#E5ECF6",
           "showlakes": true,
           "showland": true,
           "subunitcolor": "white"
          },
          "hoverlabel": {
           "align": "left"
          },
          "hovermode": "closest",
          "mapbox": {
           "style": "light"
          },
          "paper_bgcolor": "white",
          "plot_bgcolor": "#E5ECF6",
          "polar": {
           "angularaxis": {
            "gridcolor": "white",
            "linecolor": "white",
            "ticks": ""
           },
           "bgcolor": "#E5ECF6",
           "radialaxis": {
            "gridcolor": "white",
            "linecolor": "white",
            "ticks": ""
           }
          },
          "scene": {
           "xaxis": {
            "backgroundcolor": "#E5ECF6",
            "gridcolor": "white",
            "gridwidth": 2,
            "linecolor": "white",
            "showbackground": true,
            "ticks": "",
            "zerolinecolor": "white"
           },
           "yaxis": {
            "backgroundcolor": "#E5ECF6",
            "gridcolor": "white",
            "gridwidth": 2,
            "linecolor": "white",
            "showbackground": true,
            "ticks": "",
            "zerolinecolor": "white"
           },
           "zaxis": {
            "backgroundcolor": "#E5ECF6",
            "gridcolor": "white",
            "gridwidth": 2,
            "linecolor": "white",
            "showbackground": true,
            "ticks": "",
            "zerolinecolor": "white"
           }
          },
          "shapedefaults": {
           "line": {
            "color": "#2a3f5f"
           }
          },
          "ternary": {
           "aaxis": {
            "gridcolor": "white",
            "linecolor": "white",
            "ticks": ""
           },
           "baxis": {
            "gridcolor": "white",
            "linecolor": "white",
            "ticks": ""
           },
           "bgcolor": "#E5ECF6",
           "caxis": {
            "gridcolor": "white",
            "linecolor": "white",
            "ticks": ""
           }
          },
          "title": {
           "x": 0.05
          },
          "xaxis": {
           "automargin": true,
           "gridcolor": "white",
           "linecolor": "white",
           "ticks": "",
           "title": {
            "standoff": 15
           },
           "zerolinecolor": "white",
           "zerolinewidth": 2
          },
          "yaxis": {
           "automargin": true,
           "gridcolor": "white",
           "linecolor": "white",
           "ticks": "",
           "title": {
            "standoff": 15
           },
           "zerolinecolor": "white",
           "zerolinewidth": 2
          }
         }
        },
        "title": {
         "text": "Interaction Distances by Residue and Interacting Chain"
        },
        "xaxis": {
         "anchor": "y",
         "categoryarray": [
          "94T",
          "95S",
          "98K",
          "99T",
          "100H",
          "163H",
          "166K",
          "208S",
          "209S",
          "241G",
          "244K",
          "245I",
          "266S",
          "282H",
          "286R",
          "318A",
          "325R",
          "355E",
          "359N",
          "362L",
          "365K",
          "372E",
          "373L",
          "377R",
          "388I"
         ],
         "categoryorder": "array",
         "domain": [
          0,
          1
         ],
         "title": {
          "text": "Residue (Number and Identity)"
         }
        },
        "yaxis": {
         "anchor": "x",
         "domain": [
          0,
          1
         ],
         "title": {
          "text": "Distance (angstroms)"
         }
        }
       }
      }
     },
     "metadata": {},
     "output_type": "display_data"
    }
   ],
   "source": [
    "import pandas as pd\n",
    "import plotly.express as px\n",
    "\n",
    "# Define the path to the CSV file\n",
    "csv_file_path = \"../../Jazzer_surf/3d_predictions/chimeras/test/interactions_all_files.csv\"\n",
    "\n",
    "# Read the CSV file into a DataFrame\n",
    "df = pd.read_csv(csv_file_path)\n",
    "\n",
    "# Filter to get the shortest distances for each interaction\n",
    "df = df.loc[df[df['chain'] == 'A'].groupby(['file', 'resi', 'interacting_chain'])['distance (angstroms)'].idxmin()]\n",
    "\n",
    "# Exclude interactions with Mg and chain letters A, G, H\n",
    "df = df[(df['interacting_resn'] != 'MG') & (~df['interacting_chain'].isin(['A', 'G', 'H']))].reset_index(drop=True)\n",
    "\n",
    "# Map interacting_resn to single-letter codes for better readability\n",
    "aa_dict = {\n",
    "    'ALA': 'A', 'ARG': 'R', 'ASN': 'N', 'ASP': 'D', 'CYS': 'C', 'GLN': 'Q', 'GLU': 'E', 'GLY': 'G',\n",
    "    'HIS': 'H', 'ILE': 'I', 'LEU': 'L', 'LYS': 'K', 'MET': 'M', 'PHE': 'F', 'PRO': 'P', 'SER': 'S',\n",
    "    'THR': 'T', 'TRP': 'W', 'TYR': 'Y', 'VAL': 'V'\n",
    "}\n",
    "df['residue_one_letter'] = df['resn'].map(aa_dict)\n",
    "df['residue'] = df['resi'].astype(str) + df['residue_one_letter']\n",
    "\n",
    "# Replace chain letters with descriptive names\n",
    "chain_map = {\n",
    "    'B': 'kinesin B',\n",
    "    'C': 'alpha-tubulin',\n",
    "    'D': 'beta-tubulin',\n",
    "    'E': 'ATP',\n",
    "    'F': 'ATP'\n",
    "}\n",
    "df['interacting_chain'] = df['interacting_chain'].map(chain_map)\n",
    "\n",
    "# Filter to specific files\n",
    "df = df.loc[df['file'].isin([\n",
    "    'C', \n",
    "    ])]\n",
    "\n",
    "# Group by file and interacting chain, keeping residues in order\n",
    "grouped = df.groupby(['file', 'interacting_chain'])\n",
    "\n",
    "# Create a list to store the output rows\n",
    "output_rows = []\n",
    "\n",
    "# Iterate over each group and extract information\n",
    "for (file, chain), group in grouped:\n",
    "    for _, row in group.iterrows():\n",
    "        output_rows.append({\n",
    "            'file': file,\n",
    "            'interacting_chain': chain,\n",
    "            'interacting_atom': row['interacting_atom'],\n",
    "            'residue_number': row['resi'],\n",
    "            'amino_acid': row['residue_one_letter'],\n",
    "            'distance (angstroms)': row['distance (angstroms)'],\n",
    "        })\n",
    "\n",
    "# Convert the list to a DataFrame\n",
    "interaction_df = pd.DataFrame(output_rows)\n",
    "\n",
    "# Display the resulting DataFrame\n",
    "interaction_df\n",
    "\n",
    "interaction_df.to_csv(\"interaction_summary.csv\", index=False)\n",
    "\n",
    "\n",
    "\n",
    "# Load the data\n",
    "csv_file_path = \"interaction_summary.csv\"\n",
    "interaction_df = pd.read_csv(csv_file_path)\n",
    "\n",
    "# Create a new column for the x-axis labels by concatenating residue number and amino acid\n",
    "interaction_df['residue_label'] = interaction_df['residue_number'].astype(str) + interaction_df['amino_acid']\n",
    "\n",
    "# Sort the dataframe by file and residue number to maintain order\n",
    "interaction_df = interaction_df.sort_values(by=['file', 'residue_number'])\n",
    "\n",
    "# Convert residue_label to a categorical type with the correct order\n",
    "interaction_df['residue_label'] = pd.Categorical(interaction_df['residue_label'], \n",
    "                                                 categories=sorted(interaction_df['residue_label'].unique(), key=lambda x: int(''.join(filter(str.isdigit, x)))), \n",
    "                                                 ordered=True)\n",
    "\n",
    "# Scatter plot for interaction distances with custom x-axis labels\n",
    "fig_scatter = px.scatter(interaction_df, x='residue_label', y='distance (angstroms)', color='interacting_chain', text='interacting_atom',\n",
    "                         title='Interaction Distances by Residue and Interacting Chain',\n",
    "                         labels={'residue_label': 'Residue (Number and Identity)', 'distance (angstroms)': 'Distance (angstroms)', 'interacting_chain': 'Interacting Chain'},\n",
    "                         hover_data=['file'])\n",
    "\n",
    "fig_scatter.update_traces(textposition='top center', marker=dict(size=10, opacity=0.6))\n",
    "fig_scatter.update_layout(xaxis={'categoryorder':'array', 'categoryarray': interaction_df['residue_label'].cat.categories})\n",
    "\n",
    "# Show the plot\n",
    "fig_scatter.show()\n",
    "\n"
   ]
  },
  {
   "cell_type": "markdown",
   "metadata": {},
   "source": [
    "ALL together\n"
   ]
  },
  {
   "cell_type": "code",
   "execution_count": 16,
   "metadata": {},
   "outputs": [
    {
     "data": {
      "application/vnd.plotly.v1+json": {
       "config": {
        "plotlyServerURL": "https://plot.ly"
       },
       "data": [
        {
         "customdata": [
          [
           "A"
          ],
          [
           "A"
          ],
          [
           "A"
          ],
          [
           "A"
          ],
          [
           "A"
          ],
          [
           "A"
          ],
          [
           "C"
          ],
          [
           "C"
          ],
          [
           "C"
          ],
          [
           "C"
          ],
          [
           "C"
          ],
          [
           "C"
          ],
          [
           "C"
          ],
          [
           "C"
          ],
          [
           "D"
          ],
          [
           "D"
          ],
          [
           "D"
          ],
          [
           "D"
          ],
          [
           "D"
          ],
          [
           "D"
          ],
          [
           "E"
          ],
          [
           "E"
          ],
          [
           "E"
          ],
          [
           "E"
          ],
          [
           "E"
          ],
          [
           "F"
          ],
          [
           "F"
          ],
          [
           "F"
          ],
          [
           "F"
          ],
          [
           "F"
          ],
          [
           "F"
          ],
          [
           "F"
          ],
          [
           "F"
          ],
          [
           "F"
          ],
          [
           "G"
          ],
          [
           "G"
          ],
          [
           "G"
          ],
          [
           "G"
          ],
          [
           "H"
          ],
          [
           "H"
          ],
          [
           "H"
          ],
          [
           "H"
          ],
          [
           "H"
          ],
          [
           "H"
          ],
          [
           "H"
          ],
          [
           "H"
          ],
          [
           "H"
          ],
          [
           "motB"
          ],
          [
           "motB"
          ],
          [
           "motB"
          ],
          [
           "motB"
          ],
          [
           "motB"
          ],
          [
           "motB"
          ],
          [
           "motB"
          ],
          [
           "motB"
          ]
         ],
         "hovertemplate": "Interacting Chain=ATP<br>Residue (Number and Identity)=%{x}<br>Distance (angstroms)=%{y}<br>interacting_atom=%{text}<br>file=%{customdata[0]}<extra></extra>",
         "legendgroup": "ATP",
         "marker": {
          "color": "#636efa",
          "opacity": 0.6,
          "size": 10,
          "symbol": "circle"
         },
         "mode": "markers+text",
         "name": "ATP",
         "orientation": "v",
         "showlegend": true,
         "text": [
          "O1G",
          "O3B",
          "O2B",
          "O2G",
          "O1B",
          "O3B",
          "O2G",
          "O3B",
          "O1B",
          "O2B",
          "O2A",
          "O2G",
          "O3G",
          "O1G",
          "O1G",
          "O3B",
          "O2G",
          "O2B",
          "O1A",
          "O2G",
          "O1B",
          "O3B",
          "O3B",
          "O2B",
          "O2A",
          "O1G",
          "O3B",
          "O1B",
          "O2B",
          "O1A",
          "O3B",
          "O1G",
          "O2G",
          "O3G",
          "O3B",
          "O1B",
          "O2B",
          "O1A",
          "O1G",
          "O3B",
          "O2G",
          "O2B",
          "O1A",
          "O3B",
          "O1G",
          "O3G",
          "O2G",
          "O2G",
          "O3B",
          "O1B",
          "O2B",
          "O1A",
          "O3B",
          "O2G",
          "O3G"
         ],
         "textposition": "top center",
         "type": "scatter",
         "x": [
          "94T",
          "95S",
          "97G",
          "98K",
          "99T",
          "205N",
          "94T",
          "95S",
          "98K",
          "99T",
          "100H",
          "208S",
          "209S",
          "241G",
          "87T",
          "88G",
          "91K",
          "92T",
          "93F",
          "237G",
          "95S",
          "97G",
          "98K",
          "99T",
          "100H",
          "87T",
          "88G",
          "91K",
          "92T",
          "93F",
          "201N",
          "204S",
          "205S",
          "237G",
          "95S",
          "98K",
          "99T",
          "100H",
          "87T",
          "88G",
          "91K",
          "92T",
          "93F",
          "201N",
          "204S",
          "205S",
          "237G",
          "87T",
          "88G",
          "91K",
          "92T",
          "93F",
          "201N",
          "204S",
          "205S"
         ],
         "xaxis": "x",
         "y": [
          2.43408203125,
          2.6955759525299072,
          2.954782724380493,
          2.797912359237671,
          2.937647819519043,
          2.9807538986206055,
          2.471453905105591,
          2.9235379695892334,
          2.8820974826812744,
          2.656883955001831,
          2.7273435592651367,
          2.8766520023345947,
          2.7936689853668213,
          2.8299522399902344,
          2.4756832122802734,
          2.775485038757324,
          2.581880807876587,
          2.830132246017456,
          2.7538321018218994,
          2.5881617069244385,
          2.9063987731933594,
          2.8983917236328125,
          2.822678565979004,
          2.7689318656921387,
          2.67582368850708,
          2.445828676223755,
          2.8707213401794434,
          2.7974069118499756,
          2.594947576522827,
          2.866671562194824,
          2.9289026260375977,
          2.7430121898651123,
          2.610603094100952,
          2.72890305519104,
          2.845066547393799,
          2.852047920227051,
          2.6798899173736572,
          2.8435370922088623,
          2.341273307800293,
          2.6802728176116943,
          2.6894025802612305,
          2.834191083908081,
          2.869316339492798,
          2.8820323944091797,
          2.967872381210327,
          2.885136365890503,
          2.9070348739624023,
          2.651935338973999,
          2.886627674102783,
          2.69393539428711,
          2.5583138465881348,
          2.6399593353271484,
          2.921260356903076,
          2.9984405040740967,
          2.8174519538879395
         ],
         "yaxis": "y"
        },
        {
         "customdata": [
          [
           "A"
          ],
          [
           "A"
          ],
          [
           "A"
          ],
          [
           "A"
          ],
          [
           "C"
          ],
          [
           "C"
          ],
          [
           "C"
          ],
          [
           "D"
          ],
          [
           "D"
          ],
          [
           "D"
          ],
          [
           "D"
          ],
          [
           "D"
          ],
          [
           "E"
          ],
          [
           "E"
          ],
          [
           "E"
          ],
          [
           "E"
          ],
          [
           "E"
          ],
          [
           "E"
          ],
          [
           "E"
          ],
          [
           "E"
          ],
          [
           "E"
          ],
          [
           "E"
          ],
          [
           "F"
          ],
          [
           "F"
          ],
          [
           "F"
          ],
          [
           "F"
          ],
          [
           "G"
          ],
          [
           "G"
          ],
          [
           "G"
          ],
          [
           "G"
          ],
          [
           "G"
          ],
          [
           "G"
          ],
          [
           "G"
          ],
          [
           "G"
          ],
          [
           "G"
          ],
          [
           "G"
          ],
          [
           "H"
          ],
          [
           "H"
          ],
          [
           "H"
          ],
          [
           "H"
          ],
          [
           "H"
          ],
          [
           "H"
          ],
          [
           "H"
          ],
          [
           "motB"
          ],
          [
           "motB"
          ],
          [
           "motB"
          ],
          [
           "motB"
          ],
          [
           "motB"
          ]
         ],
         "hovertemplate": "Interacting Chain=beta-tubulin<br>Residue (Number and Identity)=%{x}<br>Distance (angstroms)=%{y}<br>interacting_atom=%{text}<br>file=%{customdata[0]}<extra></extra>",
         "legendgroup": "beta-tubulin",
         "marker": {
          "color": "#EF553B",
          "opacity": 0.6,
          "size": 10,
          "symbol": "circle"
         },
         "mode": "markers+text",
         "name": "beta-tubulin",
         "orientation": "v",
         "showlegend": true,
         "text": [
          "OE1",
          "OE2",
          "OE1",
          "OD2",
          "OE2",
          "OE1",
          "OD2",
          "OE1",
          "CB",
          "OE1",
          "OE1",
          "OE2",
          "OE1",
          "OE1",
          "OE2",
          "OE1",
          "OD2",
          "NH2",
          "CD",
          "O",
          "O",
          "NZ",
          "OE1",
          "OE1",
          "OE1",
          "OD2",
          "OE1",
          "OE1",
          "OD2",
          "OE1",
          "OD2",
          "NH2",
          "NH1",
          "CD1",
          "CH2",
          "CZ3",
          "OE1",
          "OE1",
          "OD2",
          "OE1",
          "OD2",
          "OE2",
          "NH2",
          "CG",
          "CG",
          "OE1",
          "OD2",
          "OE1"
         ],
         "textposition": "top center",
         "type": "scatter",
         "x": [
          "159N",
          "163H",
          "282H",
          "286R",
          "163H",
          "282H",
          "286R",
          "144R",
          "159R",
          "278H",
          "282R",
          "288R",
          "159N",
          "162V",
          "163H",
          "282H",
          "286R",
          "479E",
          "482E",
          "486Q",
          "489E",
          "490Q",
          "144R",
          "158V",
          "278H",
          "282R",
          "148K",
          "162V",
          "173K",
          "282H",
          "286R",
          "498I",
          "502N",
          "509N",
          "513S",
          "516Q",
          "144R",
          "157K",
          "159R",
          "278H",
          "282R",
          "288R",
          "493E",
          "144R",
          "159R",
          "278H",
          "282R",
          "288R"
         ],
         "xaxis": "x",
         "y": [
          2.67405366897583,
          2.761348247528076,
          2.875741958618164,
          2.5713751316070557,
          2.811490058898926,
          2.7998008728027344,
          2.564934015274048,
          2.644158124923706,
          2.8463521003723145,
          2.7424495220184326,
          2.4814136028289795,
          2.970597743988037,
          2.7622170448303223,
          2.9836437702178955,
          2.805917739868164,
          2.646552801132202,
          2.5501484870910645,
          2.492997169494629,
          2.805192232131958,
          1.923822045326233,
          2.1772608757019043,
          2.0039947032928467,
          2.6694107055664062,
          2.847678899765014,
          2.743042469024658,
          2.9641356468200684,
          2.9083352088928223,
          2.89745569229126,
          2.809009790420532,
          2.8003993034362793,
          2.383284330368042,
          2.844846248626709,
          2.4105093479156494,
          2.51025128364563,
          2.892826557159424,
          2.757539987564087,
          2.703000545501709,
          2.6188809871673584,
          2.6133246421813965,
          2.8841986656188965,
          2.375728130340576,
          2.8069629669189453,
          2.8032307624816895,
          2.4028825759887695,
          2.956601142883301,
          2.549652576446533,
          2.5869598388671875,
          2.9557993412017822
         ],
         "yaxis": "y"
        },
        {
         "customdata": [
          [
           "A"
          ],
          [
           "A"
          ],
          [
           "A"
          ],
          [
           "A"
          ],
          [
           "A"
          ],
          [
           "A"
          ],
          [
           "A"
          ],
          [
           "C"
          ],
          [
           "C"
          ],
          [
           "C"
          ],
          [
           "C"
          ],
          [
           "C"
          ],
          [
           "C"
          ],
          [
           "C"
          ],
          [
           "C"
          ],
          [
           "C"
          ],
          [
           "D"
          ],
          [
           "D"
          ],
          [
           "D"
          ],
          [
           "D"
          ],
          [
           "D"
          ],
          [
           "D"
          ],
          [
           "D"
          ],
          [
           "D"
          ],
          [
           "D"
          ],
          [
           "D"
          ],
          [
           "D"
          ],
          [
           "E"
          ],
          [
           "E"
          ],
          [
           "E"
          ],
          [
           "E"
          ],
          [
           "E"
          ],
          [
           "E"
          ],
          [
           "E"
          ],
          [
           "E"
          ],
          [
           "E"
          ],
          [
           "E"
          ],
          [
           "E"
          ],
          [
           "E"
          ],
          [
           "E"
          ],
          [
           "E"
          ],
          [
           "E"
          ],
          [
           "E"
          ],
          [
           "E"
          ],
          [
           "E"
          ],
          [
           "E"
          ],
          [
           "E"
          ],
          [
           "E"
          ],
          [
           "E"
          ],
          [
           "E"
          ],
          [
           "E"
          ],
          [
           "E"
          ],
          [
           "E"
          ],
          [
           "E"
          ],
          [
           "E"
          ],
          [
           "E"
          ],
          [
           "E"
          ],
          [
           "E"
          ],
          [
           "E"
          ],
          [
           "E"
          ],
          [
           "E"
          ],
          [
           "E"
          ],
          [
           "E"
          ],
          [
           "F"
          ],
          [
           "F"
          ],
          [
           "F"
          ],
          [
           "F"
          ],
          [
           "F"
          ],
          [
           "F"
          ],
          [
           "F"
          ],
          [
           "F"
          ],
          [
           "F"
          ],
          [
           "F"
          ],
          [
           "F"
          ],
          [
           "F"
          ],
          [
           "F"
          ],
          [
           "F"
          ],
          [
           "F"
          ],
          [
           "F"
          ],
          [
           "F"
          ],
          [
           "F"
          ],
          [
           "F"
          ],
          [
           "F"
          ],
          [
           "F"
          ],
          [
           "F"
          ],
          [
           "F"
          ],
          [
           "F"
          ],
          [
           "F"
          ],
          [
           "F"
          ],
          [
           "F"
          ],
          [
           "F"
          ],
          [
           "F"
          ],
          [
           "F"
          ],
          [
           "F"
          ],
          [
           "F"
          ],
          [
           "F"
          ],
          [
           "F"
          ],
          [
           "F"
          ],
          [
           "G"
          ],
          [
           "G"
          ],
          [
           "G"
          ],
          [
           "G"
          ],
          [
           "G"
          ],
          [
           "G"
          ],
          [
           "G"
          ],
          [
           "G"
          ],
          [
           "G"
          ],
          [
           "G"
          ],
          [
           "G"
          ],
          [
           "G"
          ],
          [
           "G"
          ],
          [
           "G"
          ],
          [
           "G"
          ],
          [
           "G"
          ],
          [
           "G"
          ],
          [
           "G"
          ],
          [
           "G"
          ],
          [
           "G"
          ],
          [
           "G"
          ],
          [
           "G"
          ],
          [
           "G"
          ],
          [
           "G"
          ],
          [
           "G"
          ],
          [
           "G"
          ],
          [
           "G"
          ],
          [
           "G"
          ],
          [
           "G"
          ],
          [
           "G"
          ],
          [
           "G"
          ],
          [
           "G"
          ],
          [
           "G"
          ],
          [
           "H"
          ],
          [
           "H"
          ],
          [
           "H"
          ],
          [
           "H"
          ],
          [
           "H"
          ],
          [
           "H"
          ],
          [
           "H"
          ],
          [
           "H"
          ],
          [
           "H"
          ],
          [
           "H"
          ],
          [
           "H"
          ],
          [
           "H"
          ],
          [
           "H"
          ],
          [
           "H"
          ],
          [
           "H"
          ],
          [
           "H"
          ],
          [
           "H"
          ],
          [
           "H"
          ],
          [
           "H"
          ],
          [
           "H"
          ],
          [
           "H"
          ],
          [
           "H"
          ],
          [
           "H"
          ],
          [
           "H"
          ],
          [
           "H"
          ],
          [
           "H"
          ],
          [
           "motB"
          ],
          [
           "motB"
          ],
          [
           "motB"
          ],
          [
           "motB"
          ],
          [
           "motB"
          ],
          [
           "motB"
          ],
          [
           "motB"
          ],
          [
           "motB"
          ]
         ],
         "hovertemplate": "Interacting Chain=kinesin B<br>Residue (Number and Identity)=%{x}<br>Distance (angstroms)=%{y}<br>interacting_atom=%{text}<br>file=%{customdata[0]}<extra></extra>",
         "legendgroup": "kinesin B",
         "marker": {
          "color": "#00cc96",
          "opacity": 0.6,
          "size": 10,
          "symbol": "circle"
         },
         "mode": "markers+text",
         "name": "kinesin B",
         "orientation": "v",
         "showlegend": true,
         "text": [
          "OE1",
          "NZ",
          "OE2",
          "NH2",
          "OE1",
          "OE2",
          "NH2",
          "OE1",
          "ND2",
          "OE2",
          "OD1",
          "OE1",
          "NH2",
          "OE1",
          "OE2",
          "NH2",
          "OD2",
          "OH",
          "CE",
          "NH1",
          "ND2",
          "OE2",
          "OD1",
          "NH2",
          "OE1",
          "OE2",
          "NH2",
          "OE1",
          "NH2",
          "NZ",
          "OE1",
          "CG1",
          "OH",
          "NZ",
          "NZ",
          "OD2",
          "CG2",
          "OE1",
          "NZ",
          "OE1",
          "NZ",
          "NZ",
          "OE2",
          "CE",
          "O",
          "O",
          "NE2",
          "NZ",
          "OD2",
          "NZ",
          "CD1",
          "CD2",
          "CB",
          "OG",
          "OD1",
          "OG",
          "OE1",
          "O",
          "NZ",
          "OD1",
          "OE1",
          "CD2",
          "CD1",
          "NZ",
          "OE1",
          "N",
          "NZ",
          "CD1",
          "CD2",
          "CD",
          "CD1",
          "SG",
          "O",
          "OE1",
          "CG",
          "NZ",
          "NZ",
          "OE2",
          "NZ",
          "OE1",
          "O",
          "CG",
          "CD1",
          "CB",
          "OD1",
          "NZ",
          "CD1",
          "CD2",
          "OG",
          "OD1",
          "OD1",
          "OG",
          "OE1",
          "O",
          "NZ",
          "OD1",
          "OE1",
          "CD1",
          "OE2",
          "NZ",
          "OE1",
          "CG2",
          "OH",
          "CD2",
          "OH",
          "CG",
          "CG2",
          "OD2",
          "CG2",
          "OE1",
          "NZ",
          "OE1",
          "NZ",
          "NZ",
          "OE2",
          "NZ",
          "OD2",
          "NZ",
          "CD1",
          "CD2",
          "OG",
          "OG",
          "OD1",
          "OD1",
          "OG",
          "OE1",
          "O",
          "NZ",
          "OD1",
          "OE1",
          "CD1",
          "NZ",
          "OE1",
          "OE1",
          "CD2",
          "CG1",
          "OE1",
          "NZ",
          "OE1",
          "NZ",
          "NZ",
          "OE2",
          "NE2",
          "OD2",
          "NZ",
          "CD1",
          "OG",
          "OD1",
          "OG",
          "OE1",
          "O",
          "NZ",
          "OD1",
          "OE1",
          "O",
          "CD1",
          "NH1",
          "ND2",
          "OE2",
          "OE1",
          "CD1",
          "NH2",
          "OE1",
          "OE2",
          "NH2"
         ],
         "textposition": "top center",
         "type": "scatter",
         "x": [
          "166K",
          "346E",
          "359N",
          "372E",
          "373L",
          "377R",
          "388I",
          "166K",
          "355E",
          "359N",
          "362L",
          "365K",
          "372E",
          "373L",
          "377R",
          "388I",
          "152R",
          "175Y",
          "181D",
          "184D",
          "351E",
          "355N",
          "358L",
          "368E",
          "369L",
          "373R",
          "384I",
          "3A",
          "356E",
          "358E",
          "363K",
          "365Y",
          "377V",
          "378S",
          "379N",
          "448T",
          "452D",
          "462K",
          "467E",
          "473K",
          "474E",
          "476E",
          "477K",
          "480I",
          "484L",
          "487Q",
          "488Q",
          "491I",
          "494K",
          "495D",
          "501L",
          "505I",
          "508S",
          "518S",
          "522N",
          "539S",
          "543A",
          "546Q",
          "556E",
          "557N",
          "561K",
          "570R",
          "579I",
          "354E",
          "359K",
          "361Y",
          "366E",
          "369S",
          "370G",
          "371V",
          "373V",
          "375N",
          "376L",
          "377K",
          "469K",
          "470E",
          "472E",
          "473K",
          "477L",
          "480L",
          "481E",
          "483Q",
          "484Q",
          "489D",
          "490K",
          "491D",
          "497L",
          "501I",
          "514S",
          "518N",
          "521L",
          "535S",
          "539A",
          "542Q",
          "552E",
          "553N",
          "557K",
          "575I",
          "5R",
          "358E",
          "363K",
          "365Y",
          "370E",
          "372V",
          "377V",
          "378S",
          "380L",
          "448T",
          "452D",
          "462K",
          "467E",
          "473K",
          "474E",
          "476E",
          "477K",
          "491I",
          "494K",
          "495D",
          "501L",
          "505I",
          "508S",
          "518S",
          "522N",
          "525L",
          "539S",
          "543A",
          "546Q",
          "556E",
          "557N",
          "561K",
          "579I",
          "354E",
          "359K",
          "361Y",
          "368V",
          "376L",
          "458K",
          "463E",
          "469K",
          "470E",
          "472E",
          "473K",
          "484Q",
          "490K",
          "491D",
          "497L",
          "514S",
          "518N",
          "535S",
          "539A",
          "542Q",
          "552E",
          "553N",
          "557K",
          "566R",
          "575I",
          "578L",
          "351E",
          "355N",
          "361K",
          "362V",
          "368E",
          "369L",
          "373R",
          "384I"
         ],
         "xaxis": "x",
         "y": [
          2.758011817932129,
          2.8588788509368896,
          2.054415225982666,
          2.857144355773926,
          2.870945453643799,
          2.765533447265625,
          2.9102673530578613,
          2.732813835144043,
          2.087067127227783,
          2.181346893310547,
          2.8901329040527344,
          2.987513780593872,
          2.7590510845184326,
          2.7946407794952393,
          2.7263762950897217,
          2.8729329109191895,
          2.602668285369873,
          2.9138309955596924,
          2.9658124446868896,
          2.492016077041626,
          2.161593437194824,
          2.2048661708831787,
          2.796924829483032,
          2.6755614280700684,
          2.8054628372192383,
          2.7190842628479004,
          2.9706411361694336,
          2.7487852573394775,
          2.3829362392425537,
          2.8395862579345703,
          2.6816132068634033,
          2.3029026985168457,
          2.4078879356384277,
          2.137770175933838,
          2.997764587402344,
          2.3897881507873535,
          2.186520576477051,
          2.4136407375335693,
          2.9396777153015137,
          2.2144811153411865,
          2.7227916717529297,
          2.693979501724243,
          2.624505043029785,
          2.8339881896972656,
          2.831509590148926,
          2.35292387008667,
          2.800657033920288,
          2.917839527130127,
          2.558951616287231,
          2.544947624206543,
          2.869253158569336,
          2.750368356704712,
          2.9410128593444824,
          2.7172532081604004,
          2.121070384979248,
          2.867844820022583,
          2.766847848892212,
          2.72625470161438,
          2.712177276611328,
          2.2233762741088867,
          2.7086589336395264,
          2.4725992679595947,
          2.4158425331115723,
          2.680506467819214,
          2.8551688194274902,
          2.626908779144287,
          2.058220148086548,
          2.540183782577514,
          2.2036492824554443,
          1.9446693658828735,
          2.150291681289673,
          2.3285107612609863,
          2.0620365142822266,
          2.130859613418579,
          2.2516140937805176,
          2.332693099975586,
          2.5725858211517334,
          2.5785982608795166,
          2.93733811378479,
          2.976824998855591,
          2.2621865272521973,
          2.819179058074951,
          2.8753297328948975,
          2.7148749828338623,
          2.4207026958465576,
          2.2742743492126465,
          2.9694814682006836,
          2.8860204219818115,
          2.8904824256896973,
          2.388681173324585,
          2.9509685039520264,
          2.8525116443634033,
          2.8328609466552734,
          2.8061490058898926,
          2.805506944656372,
          2.624117136001587,
          2.8484110832214355,
          1.8386725187301636,
          2.288177728652954,
          2.804966688156128,
          2.597656011581421,
          2.7324297428131104,
          2.971897840499878,
          2.864408493041992,
          2.64219069480896,
          2.237579584121704,
          2.6307175159454346,
          2.4010727405548096,
          2.55458402633667,
          2.725965738296509,
          2.698395252227783,
          2.637542963027954,
          2.675004720687866,
          2.682976722717285,
          2.5781707763671875,
          2.9505810737609863,
          2.6145834922790527,
          2.560050249099731,
          2.9091176986694336,
          2.7152349948883057,
          2.5077805519104004,
          2.7951393127441406,
          2.843515157699585,
          2.6847949028015137,
          2.7760608196258545,
          2.7141902446746826,
          2.7301933765411377,
          2.736316680908203,
          2.7303507328033447,
          2.712357997894287,
          2.7638721466064453,
          2.8009493350982666,
          2.672811269760132,
          2.914701223373413,
          2.853024482727051,
          2.640737771987915,
          2.8217499256134033,
          2.8714897632598877,
          2.6618213653564453,
          2.671012163162231,
          2.5886847972869873,
          2.6213412284851074,
          2.9746170043945312,
          2.5523548126220703,
          2.511021375656128,
          2.9944772720336914,
          2.661750078201294,
          2.2426023483276367,
          2.8076791763305664,
          2.8206899166107178,
          2.756781578063965,
          2.636523723602295,
          2.216707944869995,
          2.644615650177002,
          2.788285970687866,
          2.162559986114502,
          2.736605644226074,
          2.019548177719116,
          2.112589120864868,
          2.5981016159057617,
          2.945112705230713,
          2.8193700313568115,
          2.888695478439331,
          2.7218620777130127,
          2.932560920715332
         ],
         "yaxis": "y"
        },
        {
         "customdata": [
          [
           "A"
          ],
          [
           "A"
          ],
          [
           "A"
          ],
          [
           "A"
          ],
          [
           "C"
          ],
          [
           "C"
          ],
          [
           "C"
          ],
          [
           "C"
          ],
          [
           "C"
          ],
          [
           "D"
          ],
          [
           "D"
          ],
          [
           "D"
          ],
          [
           "D"
          ],
          [
           "E"
          ],
          [
           "E"
          ],
          [
           "F"
          ],
          [
           "F"
          ],
          [
           "G"
          ],
          [
           "G"
          ],
          [
           "G"
          ],
          [
           "G"
          ],
          [
           "H"
          ],
          [
           "H"
          ],
          [
           "H"
          ],
          [
           "H"
          ],
          [
           "motB"
          ],
          [
           "motB"
          ],
          [
           "motB"
          ],
          [
           "motB"
          ],
          [
           "motB"
          ]
         ],
         "hovertemplate": "Interacting Chain=alpha-tubulin<br>Residue (Number and Identity)=%{x}<br>Distance (angstroms)=%{y}<br>interacting_atom=%{text}<br>file=%{customdata[0]}<extra></extra>",
         "legendgroup": "alpha-tubulin",
         "marker": {
          "color": "#ab63fa",
          "opacity": 0.6,
          "size": 10,
          "symbol": "circle"
         },
         "mode": "markers+text",
         "name": "alpha-tubulin",
         "orientation": "v",
         "showlegend": true,
         "text": [
          "OE1",
          "OE2",
          "NZ",
          "OE2",
          "OE1",
          "O",
          "OE2",
          "OE1",
          "OE1",
          "OE2",
          "O",
          "OE2",
          "OE1",
          "OE2",
          "OE2",
          "OE2",
          "OE2",
          "OE2",
          "O",
          "OE2",
          "OE1",
          "OE2",
          "OE2",
          "NH1",
          "OE1",
          "OE1",
          "OE2",
          "O",
          "OE2",
          "OE1"
         ],
         "textposition": "top center",
         "type": "scatter",
         "x": [
          "242S",
          "244K",
          "250A",
          "266S",
          "244K",
          "245I",
          "266S",
          "318A",
          "325R",
          "240K",
          "241I",
          "262S",
          "321R",
          "244K",
          "266S",
          "240K",
          "262S",
          "244K",
          "245I",
          "266S",
          "325R",
          "240K",
          "262S",
          "266N",
          "321R",
          "238S",
          "240K",
          "241V",
          "262S",
          "317K"
         ],
         "xaxis": "x",
         "y": [
          2.9356131553649902,
          2.4766428470611572,
          2.683391809463501,
          2.5945560932159424,
          2.536552906036377,
          2.956431150436402,
          2.598006010055542,
          2.9456822872161865,
          2.9397482872009277,
          2.441561698913574,
          2.998284101486206,
          2.427691698074341,
          2.660627603530884,
          2.463590621948242,
          2.4962053298950195,
          2.532334089279175,
          2.4469268321990967,
          2.541215419769287,
          2.9666144847869873,
          2.565122365951538,
          2.8209309577941895,
          2.686553478240967,
          2.757495641708374,
          2.060502290725708,
          2.9530489444732666,
          2.9375667572021484,
          2.570711851119995,
          2.935570240020752,
          2.4410901069641113,
          2.8988373279571533
         ],
         "yaxis": "y"
        }
       ],
       "layout": {
        "legend": {
         "title": {
          "text": "Interacting Chain"
         },
         "tracegroupgap": 0
        },
        "template": {
         "data": {
          "bar": [
           {
            "error_x": {
             "color": "#2a3f5f"
            },
            "error_y": {
             "color": "#2a3f5f"
            },
            "marker": {
             "line": {
              "color": "#E5ECF6",
              "width": 0.5
             },
             "pattern": {
              "fillmode": "overlay",
              "size": 10,
              "solidity": 0.2
             }
            },
            "type": "bar"
           }
          ],
          "barpolar": [
           {
            "marker": {
             "line": {
              "color": "#E5ECF6",
              "width": 0.5
             },
             "pattern": {
              "fillmode": "overlay",
              "size": 10,
              "solidity": 0.2
             }
            },
            "type": "barpolar"
           }
          ],
          "carpet": [
           {
            "aaxis": {
             "endlinecolor": "#2a3f5f",
             "gridcolor": "white",
             "linecolor": "white",
             "minorgridcolor": "white",
             "startlinecolor": "#2a3f5f"
            },
            "baxis": {
             "endlinecolor": "#2a3f5f",
             "gridcolor": "white",
             "linecolor": "white",
             "minorgridcolor": "white",
             "startlinecolor": "#2a3f5f"
            },
            "type": "carpet"
           }
          ],
          "choropleth": [
           {
            "colorbar": {
             "outlinewidth": 0,
             "ticks": ""
            },
            "type": "choropleth"
           }
          ],
          "contour": [
           {
            "colorbar": {
             "outlinewidth": 0,
             "ticks": ""
            },
            "colorscale": [
             [
              0,
              "#0d0887"
             ],
             [
              0.1111111111111111,
              "#46039f"
             ],
             [
              0.2222222222222222,
              "#7201a8"
             ],
             [
              0.3333333333333333,
              "#9c179e"
             ],
             [
              0.4444444444444444,
              "#bd3786"
             ],
             [
              0.5555555555555556,
              "#d8576b"
             ],
             [
              0.6666666666666666,
              "#ed7953"
             ],
             [
              0.7777777777777778,
              "#fb9f3a"
             ],
             [
              0.8888888888888888,
              "#fdca26"
             ],
             [
              1,
              "#f0f921"
             ]
            ],
            "type": "contour"
           }
          ],
          "contourcarpet": [
           {
            "colorbar": {
             "outlinewidth": 0,
             "ticks": ""
            },
            "type": "contourcarpet"
           }
          ],
          "heatmap": [
           {
            "colorbar": {
             "outlinewidth": 0,
             "ticks": ""
            },
            "colorscale": [
             [
              0,
              "#0d0887"
             ],
             [
              0.1111111111111111,
              "#46039f"
             ],
             [
              0.2222222222222222,
              "#7201a8"
             ],
             [
              0.3333333333333333,
              "#9c179e"
             ],
             [
              0.4444444444444444,
              "#bd3786"
             ],
             [
              0.5555555555555556,
              "#d8576b"
             ],
             [
              0.6666666666666666,
              "#ed7953"
             ],
             [
              0.7777777777777778,
              "#fb9f3a"
             ],
             [
              0.8888888888888888,
              "#fdca26"
             ],
             [
              1,
              "#f0f921"
             ]
            ],
            "type": "heatmap"
           }
          ],
          "heatmapgl": [
           {
            "colorbar": {
             "outlinewidth": 0,
             "ticks": ""
            },
            "colorscale": [
             [
              0,
              "#0d0887"
             ],
             [
              0.1111111111111111,
              "#46039f"
             ],
             [
              0.2222222222222222,
              "#7201a8"
             ],
             [
              0.3333333333333333,
              "#9c179e"
             ],
             [
              0.4444444444444444,
              "#bd3786"
             ],
             [
              0.5555555555555556,
              "#d8576b"
             ],
             [
              0.6666666666666666,
              "#ed7953"
             ],
             [
              0.7777777777777778,
              "#fb9f3a"
             ],
             [
              0.8888888888888888,
              "#fdca26"
             ],
             [
              1,
              "#f0f921"
             ]
            ],
            "type": "heatmapgl"
           }
          ],
          "histogram": [
           {
            "marker": {
             "pattern": {
              "fillmode": "overlay",
              "size": 10,
              "solidity": 0.2
             }
            },
            "type": "histogram"
           }
          ],
          "histogram2d": [
           {
            "colorbar": {
             "outlinewidth": 0,
             "ticks": ""
            },
            "colorscale": [
             [
              0,
              "#0d0887"
             ],
             [
              0.1111111111111111,
              "#46039f"
             ],
             [
              0.2222222222222222,
              "#7201a8"
             ],
             [
              0.3333333333333333,
              "#9c179e"
             ],
             [
              0.4444444444444444,
              "#bd3786"
             ],
             [
              0.5555555555555556,
              "#d8576b"
             ],
             [
              0.6666666666666666,
              "#ed7953"
             ],
             [
              0.7777777777777778,
              "#fb9f3a"
             ],
             [
              0.8888888888888888,
              "#fdca26"
             ],
             [
              1,
              "#f0f921"
             ]
            ],
            "type": "histogram2d"
           }
          ],
          "histogram2dcontour": [
           {
            "colorbar": {
             "outlinewidth": 0,
             "ticks": ""
            },
            "colorscale": [
             [
              0,
              "#0d0887"
             ],
             [
              0.1111111111111111,
              "#46039f"
             ],
             [
              0.2222222222222222,
              "#7201a8"
             ],
             [
              0.3333333333333333,
              "#9c179e"
             ],
             [
              0.4444444444444444,
              "#bd3786"
             ],
             [
              0.5555555555555556,
              "#d8576b"
             ],
             [
              0.6666666666666666,
              "#ed7953"
             ],
             [
              0.7777777777777778,
              "#fb9f3a"
             ],
             [
              0.8888888888888888,
              "#fdca26"
             ],
             [
              1,
              "#f0f921"
             ]
            ],
            "type": "histogram2dcontour"
           }
          ],
          "mesh3d": [
           {
            "colorbar": {
             "outlinewidth": 0,
             "ticks": ""
            },
            "type": "mesh3d"
           }
          ],
          "parcoords": [
           {
            "line": {
             "colorbar": {
              "outlinewidth": 0,
              "ticks": ""
             }
            },
            "type": "parcoords"
           }
          ],
          "pie": [
           {
            "automargin": true,
            "type": "pie"
           }
          ],
          "scatter": [
           {
            "fillpattern": {
             "fillmode": "overlay",
             "size": 10,
             "solidity": 0.2
            },
            "type": "scatter"
           }
          ],
          "scatter3d": [
           {
            "line": {
             "colorbar": {
              "outlinewidth": 0,
              "ticks": ""
             }
            },
            "marker": {
             "colorbar": {
              "outlinewidth": 0,
              "ticks": ""
             }
            },
            "type": "scatter3d"
           }
          ],
          "scattercarpet": [
           {
            "marker": {
             "colorbar": {
              "outlinewidth": 0,
              "ticks": ""
             }
            },
            "type": "scattercarpet"
           }
          ],
          "scattergeo": [
           {
            "marker": {
             "colorbar": {
              "outlinewidth": 0,
              "ticks": ""
             }
            },
            "type": "scattergeo"
           }
          ],
          "scattergl": [
           {
            "marker": {
             "colorbar": {
              "outlinewidth": 0,
              "ticks": ""
             }
            },
            "type": "scattergl"
           }
          ],
          "scattermapbox": [
           {
            "marker": {
             "colorbar": {
              "outlinewidth": 0,
              "ticks": ""
             }
            },
            "type": "scattermapbox"
           }
          ],
          "scatterpolar": [
           {
            "marker": {
             "colorbar": {
              "outlinewidth": 0,
              "ticks": ""
             }
            },
            "type": "scatterpolar"
           }
          ],
          "scatterpolargl": [
           {
            "marker": {
             "colorbar": {
              "outlinewidth": 0,
              "ticks": ""
             }
            },
            "type": "scatterpolargl"
           }
          ],
          "scatterternary": [
           {
            "marker": {
             "colorbar": {
              "outlinewidth": 0,
              "ticks": ""
             }
            },
            "type": "scatterternary"
           }
          ],
          "surface": [
           {
            "colorbar": {
             "outlinewidth": 0,
             "ticks": ""
            },
            "colorscale": [
             [
              0,
              "#0d0887"
             ],
             [
              0.1111111111111111,
              "#46039f"
             ],
             [
              0.2222222222222222,
              "#7201a8"
             ],
             [
              0.3333333333333333,
              "#9c179e"
             ],
             [
              0.4444444444444444,
              "#bd3786"
             ],
             [
              0.5555555555555556,
              "#d8576b"
             ],
             [
              0.6666666666666666,
              "#ed7953"
             ],
             [
              0.7777777777777778,
              "#fb9f3a"
             ],
             [
              0.8888888888888888,
              "#fdca26"
             ],
             [
              1,
              "#f0f921"
             ]
            ],
            "type": "surface"
           }
          ],
          "table": [
           {
            "cells": {
             "fill": {
              "color": "#EBF0F8"
             },
             "line": {
              "color": "white"
             }
            },
            "header": {
             "fill": {
              "color": "#C8D4E3"
             },
             "line": {
              "color": "white"
             }
            },
            "type": "table"
           }
          ]
         },
         "layout": {
          "annotationdefaults": {
           "arrowcolor": "#2a3f5f",
           "arrowhead": 0,
           "arrowwidth": 1
          },
          "autotypenumbers": "strict",
          "coloraxis": {
           "colorbar": {
            "outlinewidth": 0,
            "ticks": ""
           }
          },
          "colorscale": {
           "diverging": [
            [
             0,
             "#8e0152"
            ],
            [
             0.1,
             "#c51b7d"
            ],
            [
             0.2,
             "#de77ae"
            ],
            [
             0.3,
             "#f1b6da"
            ],
            [
             0.4,
             "#fde0ef"
            ],
            [
             0.5,
             "#f7f7f7"
            ],
            [
             0.6,
             "#e6f5d0"
            ],
            [
             0.7,
             "#b8e186"
            ],
            [
             0.8,
             "#7fbc41"
            ],
            [
             0.9,
             "#4d9221"
            ],
            [
             1,
             "#276419"
            ]
           ],
           "sequential": [
            [
             0,
             "#0d0887"
            ],
            [
             0.1111111111111111,
             "#46039f"
            ],
            [
             0.2222222222222222,
             "#7201a8"
            ],
            [
             0.3333333333333333,
             "#9c179e"
            ],
            [
             0.4444444444444444,
             "#bd3786"
            ],
            [
             0.5555555555555556,
             "#d8576b"
            ],
            [
             0.6666666666666666,
             "#ed7953"
            ],
            [
             0.7777777777777778,
             "#fb9f3a"
            ],
            [
             0.8888888888888888,
             "#fdca26"
            ],
            [
             1,
             "#f0f921"
            ]
           ],
           "sequentialminus": [
            [
             0,
             "#0d0887"
            ],
            [
             0.1111111111111111,
             "#46039f"
            ],
            [
             0.2222222222222222,
             "#7201a8"
            ],
            [
             0.3333333333333333,
             "#9c179e"
            ],
            [
             0.4444444444444444,
             "#bd3786"
            ],
            [
             0.5555555555555556,
             "#d8576b"
            ],
            [
             0.6666666666666666,
             "#ed7953"
            ],
            [
             0.7777777777777778,
             "#fb9f3a"
            ],
            [
             0.8888888888888888,
             "#fdca26"
            ],
            [
             1,
             "#f0f921"
            ]
           ]
          },
          "colorway": [
           "#636efa",
           "#EF553B",
           "#00cc96",
           "#ab63fa",
           "#FFA15A",
           "#19d3f3",
           "#FF6692",
           "#B6E880",
           "#FF97FF",
           "#FECB52"
          ],
          "font": {
           "color": "#2a3f5f"
          },
          "geo": {
           "bgcolor": "white",
           "lakecolor": "white",
           "landcolor": "#E5ECF6",
           "showlakes": true,
           "showland": true,
           "subunitcolor": "white"
          },
          "hoverlabel": {
           "align": "left"
          },
          "hovermode": "closest",
          "mapbox": {
           "style": "light"
          },
          "paper_bgcolor": "white",
          "plot_bgcolor": "#E5ECF6",
          "polar": {
           "angularaxis": {
            "gridcolor": "white",
            "linecolor": "white",
            "ticks": ""
           },
           "bgcolor": "#E5ECF6",
           "radialaxis": {
            "gridcolor": "white",
            "linecolor": "white",
            "ticks": ""
           }
          },
          "scene": {
           "xaxis": {
            "backgroundcolor": "#E5ECF6",
            "gridcolor": "white",
            "gridwidth": 2,
            "linecolor": "white",
            "showbackground": true,
            "ticks": "",
            "zerolinecolor": "white"
           },
           "yaxis": {
            "backgroundcolor": "#E5ECF6",
            "gridcolor": "white",
            "gridwidth": 2,
            "linecolor": "white",
            "showbackground": true,
            "ticks": "",
            "zerolinecolor": "white"
           },
           "zaxis": {
            "backgroundcolor": "#E5ECF6",
            "gridcolor": "white",
            "gridwidth": 2,
            "linecolor": "white",
            "showbackground": true,
            "ticks": "",
            "zerolinecolor": "white"
           }
          },
          "shapedefaults": {
           "line": {
            "color": "#2a3f5f"
           }
          },
          "ternary": {
           "aaxis": {
            "gridcolor": "white",
            "linecolor": "white",
            "ticks": ""
           },
           "baxis": {
            "gridcolor": "white",
            "linecolor": "white",
            "ticks": ""
           },
           "bgcolor": "#E5ECF6",
           "caxis": {
            "gridcolor": "white",
            "linecolor": "white",
            "ticks": ""
           }
          },
          "title": {
           "x": 0.05
          },
          "xaxis": {
           "automargin": true,
           "gridcolor": "white",
           "linecolor": "white",
           "ticks": "",
           "title": {
            "standoff": 15
           },
           "zerolinecolor": "white",
           "zerolinewidth": 2
          },
          "yaxis": {
           "automargin": true,
           "gridcolor": "white",
           "linecolor": "white",
           "ticks": "",
           "title": {
            "standoff": 15
           },
           "zerolinecolor": "white",
           "zerolinewidth": 2
          }
         }
        },
        "title": {
         "text": "Interaction Distances by Residue and Interacting Chain"
        },
        "xaxis": {
         "anchor": "y",
         "categoryarray": [
          "3A",
          "5R",
          "87T",
          "88G",
          "91K",
          "92T",
          "93F",
          "94T",
          "95S",
          "97G",
          "98K",
          "99T",
          "100H",
          "144R",
          "148K",
          "152R",
          "157K",
          "158V",
          "159N",
          "159R",
          "162V",
          "163H",
          "166K",
          "173K",
          "175Y",
          "181D",
          "184D",
          "201N",
          "204S",
          "205N",
          "205S",
          "208S",
          "209S",
          "237G",
          "238S",
          "240K",
          "241G",
          "241I",
          "241V",
          "242S",
          "244K",
          "245I",
          "250A",
          "262S",
          "266S",
          "266N",
          "278H",
          "282H",
          "282R",
          "286R",
          "288R",
          "317K",
          "318A",
          "321R",
          "325R",
          "346E",
          "351E",
          "354E",
          "355E",
          "355N",
          "356E",
          "358L",
          "358E",
          "359N",
          "359K",
          "361Y",
          "361K",
          "362L",
          "362V",
          "363K",
          "365K",
          "365Y",
          "366E",
          "368E",
          "368V",
          "369L",
          "369S",
          "370G",
          "370E",
          "371V",
          "372E",
          "372V",
          "373L",
          "373R",
          "373V",
          "375N",
          "376L",
          "377R",
          "377V",
          "377K",
          "378S",
          "379N",
          "380L",
          "384I",
          "388I",
          "448T",
          "452D",
          "458K",
          "462K",
          "463E",
          "467E",
          "469K",
          "470E",
          "472E",
          "473K",
          "474E",
          "476E",
          "477K",
          "477L",
          "479E",
          "480I",
          "480L",
          "481E",
          "482E",
          "483Q",
          "484L",
          "484Q",
          "486Q",
          "487Q",
          "488Q",
          "489E",
          "489D",
          "490Q",
          "490K",
          "491I",
          "491D",
          "493E",
          "494K",
          "495D",
          "497L",
          "498I",
          "501L",
          "501I",
          "502N",
          "505I",
          "508S",
          "509N",
          "513S",
          "514S",
          "516Q",
          "518S",
          "518N",
          "521L",
          "522N",
          "525L",
          "535S",
          "539S",
          "539A",
          "542Q",
          "543A",
          "546Q",
          "552E",
          "553N",
          "556E",
          "557N",
          "557K",
          "561K",
          "566R",
          "570R",
          "575I",
          "578L",
          "579I"
         ],
         "categoryorder": "array",
         "domain": [
          0,
          1
         ],
         "title": {
          "text": "Residue (Number and Identity)"
         }
        },
        "yaxis": {
         "anchor": "x",
         "domain": [
          0,
          1
         ],
         "title": {
          "text": "Distance (angstroms)"
         }
        }
       }
      }
     },
     "metadata": {},
     "output_type": "display_data"
    }
   ],
   "source": [
    "import pandas as pd\n",
    "import plotly.express as px\n",
    "\n",
    "# Define the path to the uploaded CSV file\n",
    "csv_file_path = '/Users/jazzeruncal/git/Jazzer_surf/3d_predictions/chimeras/motor2x_ATP2x_Mg2x_abTub/interactions_all_files.csv'\n",
    "\n",
    "# Read the CSV file into a DataFrame\n",
    "df = pd.read_csv(csv_file_path)\n",
    "\n",
    "# Filter to get the shortest distances for each interaction\n",
    "df = df.loc[df[df['chain'] == 'A'].groupby(['file', 'resi', 'interacting_chain'])['distance (angstroms)'].idxmin()]\n",
    "\n",
    "# Exclude interactions with Mg and chain letters A, G, H\n",
    "df = df[(df['interacting_resn'] != 'MG') & (~df['interacting_chain'].isin(['A', 'G', 'H']))].reset_index(drop=True)\n",
    "\n",
    "# Map interacting_resn to single-letter codes for better readability\n",
    "aa_dict = {\n",
    "    'ALA': 'A', 'ARG': 'R', 'ASN': 'N', 'ASP': 'D', 'CYS': 'C', 'GLN': 'Q', 'GLU': 'E', 'GLY': 'G',\n",
    "    'HIS': 'H', 'ILE': 'I', 'LEU': 'L', 'LYS': 'K', 'MET': 'M', 'PHE': 'F', 'PRO': 'P', 'SER': 'S',\n",
    "    'THR': 'T', 'TRP': 'W', 'TYR': 'Y', 'VAL': 'V'\n",
    "}\n",
    "df['residue_one_letter'] = df['resn'].map(aa_dict)\n",
    "df['residue'] = df['resi'].astype(str) + df['residue_one_letter']\n",
    "\n",
    "# Replace chain letters with descriptive names\n",
    "chain_map = {\n",
    "    'B': 'kinesin B',\n",
    "    'C': 'alpha-tubulin',\n",
    "    'D': 'beta-tubulin',\n",
    "    'E': 'ATP',\n",
    "    'F': 'ATP'\n",
    "}\n",
    "df['interacting_chain'] = df['interacting_chain'].map(chain_map)\n",
    "\n",
    "# Group by file and interacting chain, keeping residues in order\n",
    "grouped = df.groupby(['file', 'interacting_chain'])\n",
    "\n",
    "# Create a list to store the output rows\n",
    "output_rows = []\n",
    "\n",
    "# Iterate over each group and extract information\n",
    "for (file, chain), group in grouped:\n",
    "    for _, row in group.iterrows():\n",
    "        output_rows.append({\n",
    "            'file': file,\n",
    "            'interacting_chain': chain,\n",
    "            'interacting_atom': row['interacting_atom'],\n",
    "            'residue_number': row['resi'],\n",
    "            'amino_acid': row['residue_one_letter'],\n",
    "            'distance (angstroms)': row['distance (angstroms)'],\n",
    "        })\n",
    "\n",
    "# Convert the list to a DataFrame\n",
    "interaction_df = pd.DataFrame(output_rows)\n",
    "\n",
    "# Save the resulting DataFrame to a CSV file\n",
    "interaction_df.to_csv(\"interaction_summary_all_files.csv\", index=False)\n",
    "\n",
    "# Load the summarized interaction data\n",
    "csv_file_path = \"interaction_summary_all_files.csv\"\n",
    "interaction_df = pd.read_csv(csv_file_path)\n",
    "\n",
    "# Create a new column for the x-axis labels by concatenating residue number and amino acid\n",
    "interaction_df['residue_label'] = interaction_df['residue_number'].astype(str) + interaction_df['amino_acid']\n",
    "\n",
    "# Sort the dataframe by file and residue number to maintain order\n",
    "interaction_df = interaction_df.sort_values(by=['file', 'residue_number'])\n",
    "\n",
    "# Convert residue_label to a categorical type with the correct order\n",
    "interaction_df['residue_label'] = pd.Categorical(interaction_df['residue_label'], \n",
    "                                                 categories=sorted(interaction_df['residue_label'].unique(), key=lambda x: int(''.join(filter(str.isdigit, x)))), \n",
    "                                                 ordered=True)\n",
    "\n",
    "# Scatter plot for interaction distances with custom x-axis labels\n",
    "fig_scatter = px.scatter(interaction_df, x='residue_label', y='distance (angstroms)', color='interacting_chain', text='interacting_atom',\n",
    "                         title='Interaction Distances by Residue and Interacting Chain',\n",
    "                         labels={'residue_label': 'Residue (Number and Identity)', 'distance (angstroms)': 'Distance (angstroms)', 'interacting_chain': 'Interacting Chain'},\n",
    "                         hover_data=['file'])\n",
    "\n",
    "fig_scatter.update_traces(textposition='top center', marker=dict(size=10, opacity=0.6))\n",
    "fig_scatter.update_layout(xaxis={'categoryorder':'array', 'categoryarray': interaction_df['residue_label'].cat.categories})\n",
    "\n",
    "# Show the plot\n",
    "fig_scatter.show()\n"
   ]
  },
  {
   "cell_type": "markdown",
   "metadata": {},
   "source": [
    "Each one separate"
   ]
  },
  {
   "cell_type": "code",
   "execution_count": 19,
   "metadata": {},
   "outputs": [
    {
     "name": "stdout",
     "output_type": "stream",
     "text": [
      "Index(['file', 'chain', 'resi', 'resn', 'atom_name', 'interacting_atom',\n",
      "       'interacting_resn', 'interacting_chain', 'distance (angstroms)',\n",
      "       'residue_one_letter', 'full_atom_name', 'interacting_full_atom_name'],\n",
      "      dtype='object')\n"
     ]
    },
    {
     "name": "stderr",
     "output_type": "stream",
     "text": [
      "/var/folders/08/7vm2c9d11xvc7s0rf383rd480000gn/T/ipykernel_57000/1585236858.py:51: SettingWithCopyWarning:\n",
      "\n",
      "\n",
      "A value is trying to be set on a copy of a slice from a DataFrame.\n",
      "Try using .loc[row_indexer,col_indexer] = value instead\n",
      "\n",
      "See the caveats in the documentation: https://pandas.pydata.org/pandas-docs/stable/user_guide/indexing.html#returning-a-view-versus-a-copy\n",
      "\n"
     ]
    },
    {
     "data": {
      "application/vnd.plotly.v1+json": {
       "config": {
        "plotlyServerURL": "https://plot.ly"
       },
       "data": [
        {
         "customdata": [
          [
           "fold_c_atp_tub_sameseed_model_0"
          ],
          [
           "fold_c_atp_tub_sameseed_model_0"
          ],
          [
           "fold_c_atp_tub_sameseed_model_0"
          ],
          [
           "fold_c_atp_tub_sameseed_model_0"
          ],
          [
           "fold_c_atp_tub_sameseed_model_0"
          ],
          [
           "fold_c_atp_tub_sameseed_model_0"
          ],
          [
           "fold_c_atp_tub_sameseed_model_0"
          ],
          [
           "fold_c_atp_tub_sameseed_model_0"
          ],
          [
           "fold_c_atp_tub_sameseed_model_0"
          ],
          [
           "fold_c_atp_tub_sameseed_model_0"
          ],
          [
           "fold_c_atp_tub_sameseed_model_0"
          ],
          [
           "fold_c_atp_tub_sameseed_model_0"
          ],
          [
           "fold_c_atp_tub_sameseed_model_0"
          ],
          [
           "fold_c_atp_tub_sameseed_model_0"
          ],
          [
           "fold_c_atp_tub_sameseed_model_0"
          ],
          [
           "fold_c_atp_tub_sameseed_model_0"
          ],
          [
           "fold_c_atp_tub_sameseed_model_0"
          ],
          [
           "fold_c_atp_tub_sameseed_model_0"
          ],
          [
           "fold_c_atp_tub_sameseed_model_0"
          ],
          [
           "fold_c_atp_tub_sameseed_model_0"
          ],
          [
           "fold_c_atp_tub_sameseed_model_0"
          ]
         ],
         "hovertemplate": "Interacting Chain=kinesin B<br>Residue (Number and Identity)=%{x}<br>Distance (angstroms)=%{y}<br>interacting_resn=%{text}<br>file=%{customdata[0]}<extra></extra>",
         "legendgroup": "kinesin B",
         "marker": {
          "color": "#636efa",
          "opacity": 0.6,
          "size": 10,
          "symbol": "circle"
         },
         "mode": "markers+text",
         "name": "kinesin B",
         "orientation": "v",
         "showlegend": true,
         "text": [
          "ALA",
          "ALA",
          "LYS",
          "TYR",
          "LYS",
          "SER",
          "SER",
          "TRP",
          "GLU",
          "GLU",
          "ASN",
          "GLU",
          "ASN",
          "GLU",
          "LEU",
          "LYS",
          "ARG",
          "GLU",
          "GLU",
          "ARG",
          "ARG"
         ],
         "textposition": "top center",
         "type": "scatter",
         "x": [
          "1M",
          "2S",
          "3A",
          "4E",
          "7I",
          "345A",
          "346E",
          "348W",
          "349K",
          "352Y",
          "355E",
          "359N",
          "362L",
          "365K",
          "369L",
          "370E",
          "372E",
          "373L",
          "377R",
          "387Q",
          "388I"
         ],
         "xaxis": "x",
         "y": [
          3.1664042472839355,
          2.648374319076538,
          2.891021490097046,
          2.471980094909668,
          3.2205750942230225,
          2.721776247024536,
          3.1494085788726807,
          3.160405158996582,
          3.156520128250122,
          3.23134446144104,
          2.992515802383423,
          2.3989696502685547,
          3.0107855796813965,
          2.891279458999634,
          3.409965753555298,
          2.9755024909973145,
          2.8000566959381104,
          2.878722906112671,
          2.7320556640625,
          3.33967661857605,
          2.889199733734131
         ],
         "yaxis": "y"
        },
        {
         "customdata": [
          [
           "fold_c_atp_tub_sameseed_model_0"
          ],
          [
           "fold_c_atp_tub_sameseed_model_0"
          ],
          [
           "fold_c_atp_tub_sameseed_model_0"
          ],
          [
           "fold_c_atp_tub_sameseed_model_0"
          ],
          [
           "fold_c_atp_tub_sameseed_model_0"
          ],
          [
           "fold_c_atp_tub_sameseed_model_0"
          ],
          [
           "fold_c_atp_tub_sameseed_model_0"
          ],
          [
           "fold_c_atp_tub_sameseed_model_0"
          ],
          [
           "fold_c_atp_tub_sameseed_model_0"
          ],
          [
           "fold_c_atp_tub_sameseed_model_0"
          ],
          [
           "fold_c_atp_tub_sameseed_model_0"
          ],
          [
           "fold_c_atp_tub_sameseed_model_0"
          ]
         ],
         "hovertemplate": "Interacting Chain=ATP<br>Residue (Number and Identity)=%{x}<br>Distance (angstroms)=%{y}<br>interacting_resn=%{text}<br>file=%{customdata[0]}<extra></extra>",
         "legendgroup": "ATP",
         "marker": {
          "color": "#EF553B",
          "opacity": 0.6,
          "size": 10,
          "symbol": "circle"
         },
         "mode": "markers+text",
         "name": "ATP",
         "orientation": "v",
         "showlegend": true,
         "text": [
          "ATP",
          "ATP",
          "ATP",
          "ATP",
          "ATP",
          "ATP",
          "ATP",
          "ATP",
          "ATP",
          "ATP",
          "ATP",
          "ATP"
         ],
         "textposition": "top center",
         "type": "scatter",
         "x": [
          "21P",
          "94T",
          "95S",
          "96S",
          "97G",
          "98K",
          "99T",
          "100H",
          "205N",
          "208S",
          "209S",
          "241G"
         ],
         "xaxis": "x",
         "y": [
          3.2621476650238037,
          2.416980504989624,
          2.682382345199585,
          3.237739324569702,
          2.994562864303589,
          2.8357818126678467,
          2.904185056686402,
          3.078914165496826,
          2.8799920082092285,
          2.9004979133605957,
          2.9360315799713135,
          3.0268752574920654
         ],
         "yaxis": "y"
        },
        {
         "customdata": [
          [
           "fold_c_atp_tub_sameseed_model_0"
          ],
          [
           "fold_c_atp_tub_sameseed_model_0"
          ],
          [
           "fold_c_atp_tub_sameseed_model_0"
          ],
          [
           "fold_c_atp_tub_sameseed_model_0"
          ],
          [
           "fold_c_atp_tub_sameseed_model_0"
          ],
          [
           "fold_c_atp_tub_sameseed_model_0"
          ],
          [
           "fold_c_atp_tub_sameseed_model_0"
          ],
          [
           "fold_c_atp_tub_sameseed_model_0"
          ],
          [
           "fold_c_atp_tub_sameseed_model_0"
          ],
          [
           "fold_c_atp_tub_sameseed_model_0"
          ],
          [
           "fold_c_atp_tub_sameseed_model_0"
          ]
         ],
         "hovertemplate": "Interacting Chain=beta-tubulin<br>Residue (Number and Identity)=%{x}<br>Distance (angstroms)=%{y}<br>interacting_resn=%{text}<br>file=%{customdata[0]}<extra></extra>",
         "legendgroup": "beta-tubulin",
         "marker": {
          "color": "#00cc96",
          "opacity": 0.6,
          "size": 10,
          "symbol": "circle"
         },
         "mode": "markers+text",
         "name": "beta-tubulin",
         "orientation": "v",
         "showlegend": true,
         "text": [
          "GLU",
          "GLU",
          "GLU",
          "GLU",
          "GLU",
          "MET",
          "MET",
          "GLN",
          "GLN",
          "ASP",
          "ARG"
         ],
         "textposition": "top center",
         "type": "scatter",
         "x": [
          "148K",
          "159N",
          "162V",
          "163H",
          "164E",
          "165D",
          "166K",
          "281T",
          "282H",
          "286R",
          "287D"
         ],
         "xaxis": "x",
         "y": [
          3.0657339096069336,
          2.9120919704437256,
          3.395930767059326,
          2.6466054916381836,
          2.789459466934204,
          3.254361391067505,
          3.4526751041412354,
          3.1589653491973877,
          2.674469470977783,
          2.60509991645813,
          3.14884352684021
         ],
         "yaxis": "y"
        },
        {
         "customdata": [
          [
           "fold_c_atp_tub_sameseed_model_0"
          ],
          [
           "fold_c_atp_tub_sameseed_model_0"
          ],
          [
           "fold_c_atp_tub_sameseed_model_0"
          ],
          [
           "fold_c_atp_tub_sameseed_model_0"
          ],
          [
           "fold_c_atp_tub_sameseed_model_0"
          ],
          [
           "fold_c_atp_tub_sameseed_model_0"
          ],
          [
           "fold_c_atp_tub_sameseed_model_0"
          ],
          [
           "fold_c_atp_tub_sameseed_model_0"
          ],
          [
           "fold_c_atp_tub_sameseed_model_0"
          ],
          [
           "fold_c_atp_tub_sameseed_model_0"
          ],
          [
           "fold_c_atp_tub_sameseed_model_0"
          ]
         ],
         "hovertemplate": "Interacting Chain=alpha-tubulin<br>Residue (Number and Identity)=%{x}<br>Distance (angstroms)=%{y}<br>interacting_resn=%{text}<br>file=%{customdata[0]}<extra></extra>",
         "legendgroup": "alpha-tubulin",
         "marker": {
          "color": "#ab63fa",
          "opacity": 0.6,
          "size": 10,
          "symbol": "circle"
         },
         "mode": "markers+text",
         "name": "alpha-tubulin",
         "orientation": "v",
         "showlegend": true,
         "text": [
          "GLU",
          "GLU",
          "GLY",
          "LYS",
          "GLY",
          "VAL",
          "VAL",
          "GLU",
          "ARG",
          "GLU",
          "GLU"
         ],
         "textposition": "top center",
         "type": "scatter",
         "x": [
          "242S",
          "244K",
          "245I",
          "250A",
          "259K",
          "262N",
          "263K",
          "266S",
          "270N",
          "318A",
          "325R"
         ],
         "xaxis": "x",
         "y": [
          3.129481077194214,
          2.4892752170562744,
          3.0543200969696045,
          3.4593770503997803,
          3.2213997840881348,
          3.3567919731140137,
          3.3137078285217285,
          2.5477519035339355,
          3.422191381454468,
          3.303436517715454,
          2.7997021675109863
         ],
         "yaxis": "y"
        }
       ],
       "layout": {
        "legend": {
         "title": {
          "text": "Interacting Chain"
         },
         "tracegroupgap": 0
        },
        "template": {
         "data": {
          "bar": [
           {
            "error_x": {
             "color": "#2a3f5f"
            },
            "error_y": {
             "color": "#2a3f5f"
            },
            "marker": {
             "line": {
              "color": "#E5ECF6",
              "width": 0.5
             },
             "pattern": {
              "fillmode": "overlay",
              "size": 10,
              "solidity": 0.2
             }
            },
            "type": "bar"
           }
          ],
          "barpolar": [
           {
            "marker": {
             "line": {
              "color": "#E5ECF6",
              "width": 0.5
             },
             "pattern": {
              "fillmode": "overlay",
              "size": 10,
              "solidity": 0.2
             }
            },
            "type": "barpolar"
           }
          ],
          "carpet": [
           {
            "aaxis": {
             "endlinecolor": "#2a3f5f",
             "gridcolor": "white",
             "linecolor": "white",
             "minorgridcolor": "white",
             "startlinecolor": "#2a3f5f"
            },
            "baxis": {
             "endlinecolor": "#2a3f5f",
             "gridcolor": "white",
             "linecolor": "white",
             "minorgridcolor": "white",
             "startlinecolor": "#2a3f5f"
            },
            "type": "carpet"
           }
          ],
          "choropleth": [
           {
            "colorbar": {
             "outlinewidth": 0,
             "ticks": ""
            },
            "type": "choropleth"
           }
          ],
          "contour": [
           {
            "colorbar": {
             "outlinewidth": 0,
             "ticks": ""
            },
            "colorscale": [
             [
              0,
              "#0d0887"
             ],
             [
              0.1111111111111111,
              "#46039f"
             ],
             [
              0.2222222222222222,
              "#7201a8"
             ],
             [
              0.3333333333333333,
              "#9c179e"
             ],
             [
              0.4444444444444444,
              "#bd3786"
             ],
             [
              0.5555555555555556,
              "#d8576b"
             ],
             [
              0.6666666666666666,
              "#ed7953"
             ],
             [
              0.7777777777777778,
              "#fb9f3a"
             ],
             [
              0.8888888888888888,
              "#fdca26"
             ],
             [
              1,
              "#f0f921"
             ]
            ],
            "type": "contour"
           }
          ],
          "contourcarpet": [
           {
            "colorbar": {
             "outlinewidth": 0,
             "ticks": ""
            },
            "type": "contourcarpet"
           }
          ],
          "heatmap": [
           {
            "colorbar": {
             "outlinewidth": 0,
             "ticks": ""
            },
            "colorscale": [
             [
              0,
              "#0d0887"
             ],
             [
              0.1111111111111111,
              "#46039f"
             ],
             [
              0.2222222222222222,
              "#7201a8"
             ],
             [
              0.3333333333333333,
              "#9c179e"
             ],
             [
              0.4444444444444444,
              "#bd3786"
             ],
             [
              0.5555555555555556,
              "#d8576b"
             ],
             [
              0.6666666666666666,
              "#ed7953"
             ],
             [
              0.7777777777777778,
              "#fb9f3a"
             ],
             [
              0.8888888888888888,
              "#fdca26"
             ],
             [
              1,
              "#f0f921"
             ]
            ],
            "type": "heatmap"
           }
          ],
          "heatmapgl": [
           {
            "colorbar": {
             "outlinewidth": 0,
             "ticks": ""
            },
            "colorscale": [
             [
              0,
              "#0d0887"
             ],
             [
              0.1111111111111111,
              "#46039f"
             ],
             [
              0.2222222222222222,
              "#7201a8"
             ],
             [
              0.3333333333333333,
              "#9c179e"
             ],
             [
              0.4444444444444444,
              "#bd3786"
             ],
             [
              0.5555555555555556,
              "#d8576b"
             ],
             [
              0.6666666666666666,
              "#ed7953"
             ],
             [
              0.7777777777777778,
              "#fb9f3a"
             ],
             [
              0.8888888888888888,
              "#fdca26"
             ],
             [
              1,
              "#f0f921"
             ]
            ],
            "type": "heatmapgl"
           }
          ],
          "histogram": [
           {
            "marker": {
             "pattern": {
              "fillmode": "overlay",
              "size": 10,
              "solidity": 0.2
             }
            },
            "type": "histogram"
           }
          ],
          "histogram2d": [
           {
            "colorbar": {
             "outlinewidth": 0,
             "ticks": ""
            },
            "colorscale": [
             [
              0,
              "#0d0887"
             ],
             [
              0.1111111111111111,
              "#46039f"
             ],
             [
              0.2222222222222222,
              "#7201a8"
             ],
             [
              0.3333333333333333,
              "#9c179e"
             ],
             [
              0.4444444444444444,
              "#bd3786"
             ],
             [
              0.5555555555555556,
              "#d8576b"
             ],
             [
              0.6666666666666666,
              "#ed7953"
             ],
             [
              0.7777777777777778,
              "#fb9f3a"
             ],
             [
              0.8888888888888888,
              "#fdca26"
             ],
             [
              1,
              "#f0f921"
             ]
            ],
            "type": "histogram2d"
           }
          ],
          "histogram2dcontour": [
           {
            "colorbar": {
             "outlinewidth": 0,
             "ticks": ""
            },
            "colorscale": [
             [
              0,
              "#0d0887"
             ],
             [
              0.1111111111111111,
              "#46039f"
             ],
             [
              0.2222222222222222,
              "#7201a8"
             ],
             [
              0.3333333333333333,
              "#9c179e"
             ],
             [
              0.4444444444444444,
              "#bd3786"
             ],
             [
              0.5555555555555556,
              "#d8576b"
             ],
             [
              0.6666666666666666,
              "#ed7953"
             ],
             [
              0.7777777777777778,
              "#fb9f3a"
             ],
             [
              0.8888888888888888,
              "#fdca26"
             ],
             [
              1,
              "#f0f921"
             ]
            ],
            "type": "histogram2dcontour"
           }
          ],
          "mesh3d": [
           {
            "colorbar": {
             "outlinewidth": 0,
             "ticks": ""
            },
            "type": "mesh3d"
           }
          ],
          "parcoords": [
           {
            "line": {
             "colorbar": {
              "outlinewidth": 0,
              "ticks": ""
             }
            },
            "type": "parcoords"
           }
          ],
          "pie": [
           {
            "automargin": true,
            "type": "pie"
           }
          ],
          "scatter": [
           {
            "fillpattern": {
             "fillmode": "overlay",
             "size": 10,
             "solidity": 0.2
            },
            "type": "scatter"
           }
          ],
          "scatter3d": [
           {
            "line": {
             "colorbar": {
              "outlinewidth": 0,
              "ticks": ""
             }
            },
            "marker": {
             "colorbar": {
              "outlinewidth": 0,
              "ticks": ""
             }
            },
            "type": "scatter3d"
           }
          ],
          "scattercarpet": [
           {
            "marker": {
             "colorbar": {
              "outlinewidth": 0,
              "ticks": ""
             }
            },
            "type": "scattercarpet"
           }
          ],
          "scattergeo": [
           {
            "marker": {
             "colorbar": {
              "outlinewidth": 0,
              "ticks": ""
             }
            },
            "type": "scattergeo"
           }
          ],
          "scattergl": [
           {
            "marker": {
             "colorbar": {
              "outlinewidth": 0,
              "ticks": ""
             }
            },
            "type": "scattergl"
           }
          ],
          "scattermapbox": [
           {
            "marker": {
             "colorbar": {
              "outlinewidth": 0,
              "ticks": ""
             }
            },
            "type": "scattermapbox"
           }
          ],
          "scatterpolar": [
           {
            "marker": {
             "colorbar": {
              "outlinewidth": 0,
              "ticks": ""
             }
            },
            "type": "scatterpolar"
           }
          ],
          "scatterpolargl": [
           {
            "marker": {
             "colorbar": {
              "outlinewidth": 0,
              "ticks": ""
             }
            },
            "type": "scatterpolargl"
           }
          ],
          "scatterternary": [
           {
            "marker": {
             "colorbar": {
              "outlinewidth": 0,
              "ticks": ""
             }
            },
            "type": "scatterternary"
           }
          ],
          "surface": [
           {
            "colorbar": {
             "outlinewidth": 0,
             "ticks": ""
            },
            "colorscale": [
             [
              0,
              "#0d0887"
             ],
             [
              0.1111111111111111,
              "#46039f"
             ],
             [
              0.2222222222222222,
              "#7201a8"
             ],
             [
              0.3333333333333333,
              "#9c179e"
             ],
             [
              0.4444444444444444,
              "#bd3786"
             ],
             [
              0.5555555555555556,
              "#d8576b"
             ],
             [
              0.6666666666666666,
              "#ed7953"
             ],
             [
              0.7777777777777778,
              "#fb9f3a"
             ],
             [
              0.8888888888888888,
              "#fdca26"
             ],
             [
              1,
              "#f0f921"
             ]
            ],
            "type": "surface"
           }
          ],
          "table": [
           {
            "cells": {
             "fill": {
              "color": "#EBF0F8"
             },
             "line": {
              "color": "white"
             }
            },
            "header": {
             "fill": {
              "color": "#C8D4E3"
             },
             "line": {
              "color": "white"
             }
            },
            "type": "table"
           }
          ]
         },
         "layout": {
          "annotationdefaults": {
           "arrowcolor": "#2a3f5f",
           "arrowhead": 0,
           "arrowwidth": 1
          },
          "autotypenumbers": "strict",
          "coloraxis": {
           "colorbar": {
            "outlinewidth": 0,
            "ticks": ""
           }
          },
          "colorscale": {
           "diverging": [
            [
             0,
             "#8e0152"
            ],
            [
             0.1,
             "#c51b7d"
            ],
            [
             0.2,
             "#de77ae"
            ],
            [
             0.3,
             "#f1b6da"
            ],
            [
             0.4,
             "#fde0ef"
            ],
            [
             0.5,
             "#f7f7f7"
            ],
            [
             0.6,
             "#e6f5d0"
            ],
            [
             0.7,
             "#b8e186"
            ],
            [
             0.8,
             "#7fbc41"
            ],
            [
             0.9,
             "#4d9221"
            ],
            [
             1,
             "#276419"
            ]
           ],
           "sequential": [
            [
             0,
             "#0d0887"
            ],
            [
             0.1111111111111111,
             "#46039f"
            ],
            [
             0.2222222222222222,
             "#7201a8"
            ],
            [
             0.3333333333333333,
             "#9c179e"
            ],
            [
             0.4444444444444444,
             "#bd3786"
            ],
            [
             0.5555555555555556,
             "#d8576b"
            ],
            [
             0.6666666666666666,
             "#ed7953"
            ],
            [
             0.7777777777777778,
             "#fb9f3a"
            ],
            [
             0.8888888888888888,
             "#fdca26"
            ],
            [
             1,
             "#f0f921"
            ]
           ],
           "sequentialminus": [
            [
             0,
             "#0d0887"
            ],
            [
             0.1111111111111111,
             "#46039f"
            ],
            [
             0.2222222222222222,
             "#7201a8"
            ],
            [
             0.3333333333333333,
             "#9c179e"
            ],
            [
             0.4444444444444444,
             "#bd3786"
            ],
            [
             0.5555555555555556,
             "#d8576b"
            ],
            [
             0.6666666666666666,
             "#ed7953"
            ],
            [
             0.7777777777777778,
             "#fb9f3a"
            ],
            [
             0.8888888888888888,
             "#fdca26"
            ],
            [
             1,
             "#f0f921"
            ]
           ]
          },
          "colorway": [
           "#636efa",
           "#EF553B",
           "#00cc96",
           "#ab63fa",
           "#FFA15A",
           "#19d3f3",
           "#FF6692",
           "#B6E880",
           "#FF97FF",
           "#FECB52"
          ],
          "font": {
           "color": "#2a3f5f"
          },
          "geo": {
           "bgcolor": "white",
           "lakecolor": "white",
           "landcolor": "#E5ECF6",
           "showlakes": true,
           "showland": true,
           "subunitcolor": "white"
          },
          "hoverlabel": {
           "align": "left"
          },
          "hovermode": "closest",
          "mapbox": {
           "style": "light"
          },
          "paper_bgcolor": "white",
          "plot_bgcolor": "#E5ECF6",
          "polar": {
           "angularaxis": {
            "gridcolor": "white",
            "linecolor": "white",
            "ticks": ""
           },
           "bgcolor": "#E5ECF6",
           "radialaxis": {
            "gridcolor": "white",
            "linecolor": "white",
            "ticks": ""
           }
          },
          "scene": {
           "xaxis": {
            "backgroundcolor": "#E5ECF6",
            "gridcolor": "white",
            "gridwidth": 2,
            "linecolor": "white",
            "showbackground": true,
            "ticks": "",
            "zerolinecolor": "white"
           },
           "yaxis": {
            "backgroundcolor": "#E5ECF6",
            "gridcolor": "white",
            "gridwidth": 2,
            "linecolor": "white",
            "showbackground": true,
            "ticks": "",
            "zerolinecolor": "white"
           },
           "zaxis": {
            "backgroundcolor": "#E5ECF6",
            "gridcolor": "white",
            "gridwidth": 2,
            "linecolor": "white",
            "showbackground": true,
            "ticks": "",
            "zerolinecolor": "white"
           }
          },
          "shapedefaults": {
           "line": {
            "color": "#2a3f5f"
           }
          },
          "ternary": {
           "aaxis": {
            "gridcolor": "white",
            "linecolor": "white",
            "ticks": ""
           },
           "baxis": {
            "gridcolor": "white",
            "linecolor": "white",
            "ticks": ""
           },
           "bgcolor": "#E5ECF6",
           "caxis": {
            "gridcolor": "white",
            "linecolor": "white",
            "ticks": ""
           }
          },
          "title": {
           "x": 0.05
          },
          "xaxis": {
           "automargin": true,
           "gridcolor": "white",
           "linecolor": "white",
           "ticks": "",
           "title": {
            "standoff": 15
           },
           "zerolinecolor": "white",
           "zerolinewidth": 2
          },
          "yaxis": {
           "automargin": true,
           "gridcolor": "white",
           "linecolor": "white",
           "ticks": "",
           "title": {
            "standoff": 15
           },
           "zerolinecolor": "white",
           "zerolinewidth": 2
          }
         }
        },
        "title": {
         "text": "Interaction Distances for fold_c_atp_tub_sameseed_model_0 by Residue and Interacting Chain"
        },
        "xaxis": {
         "anchor": "y",
         "categoryarray": [
          "1M",
          "2S",
          "3A",
          "4E",
          "7I",
          "21P",
          "94T",
          "95S",
          "96S",
          "97G",
          "98K",
          "99T",
          "100H",
          "148K",
          "159N",
          "162V",
          "163H",
          "164E",
          "165D",
          "166K",
          "205N",
          "208S",
          "209S",
          "241G",
          "242S",
          "244K",
          "245I",
          "250A",
          "259K",
          "262N",
          "263K",
          "266S",
          "270N",
          "281T",
          "282H",
          "286R",
          "287D",
          "318A",
          "325R",
          "345A",
          "346E",
          "348W",
          "349K",
          "352Y",
          "355E",
          "359N",
          "362L",
          "365K",
          "369L",
          "370E",
          "372E",
          "373L",
          "377R",
          "387Q",
          "388I"
         ],
         "categoryorder": "array",
         "domain": [
          0,
          1
         ],
         "title": {
          "text": "Residue (Number and Identity)"
         }
        },
        "yaxis": {
         "anchor": "x",
         "domain": [
          0,
          1
         ],
         "title": {
          "text": "Distance (angstroms)"
         }
        }
       }
      }
     },
     "metadata": {},
     "output_type": "display_data"
    },
    {
     "name": "stderr",
     "output_type": "stream",
     "text": [
      "/var/folders/08/7vm2c9d11xvc7s0rf383rd480000gn/T/ipykernel_57000/1585236858.py:51: SettingWithCopyWarning:\n",
      "\n",
      "\n",
      "A value is trying to be set on a copy of a slice from a DataFrame.\n",
      "Try using .loc[row_indexer,col_indexer] = value instead\n",
      "\n",
      "See the caveats in the documentation: https://pandas.pydata.org/pandas-docs/stable/user_guide/indexing.html#returning-a-view-versus-a-copy\n",
      "\n"
     ]
    },
    {
     "data": {
      "application/vnd.plotly.v1+json": {
       "config": {
        "plotlyServerURL": "https://plot.ly"
       },
       "data": [
        {
         "customdata": [
          [
           "fold_e_atp_tub_sameseed_model_0"
          ],
          [
           "fold_e_atp_tub_sameseed_model_0"
          ],
          [
           "fold_e_atp_tub_sameseed_model_0"
          ],
          [
           "fold_e_atp_tub_sameseed_model_0"
          ],
          [
           "fold_e_atp_tub_sameseed_model_0"
          ],
          [
           "fold_e_atp_tub_sameseed_model_0"
          ],
          [
           "fold_e_atp_tub_sameseed_model_0"
          ],
          [
           "fold_e_atp_tub_sameseed_model_0"
          ],
          [
           "fold_e_atp_tub_sameseed_model_0"
          ],
          [
           "fold_e_atp_tub_sameseed_model_0"
          ],
          [
           "fold_e_atp_tub_sameseed_model_0"
          ],
          [
           "fold_e_atp_tub_sameseed_model_0"
          ]
         ],
         "hovertemplate": "Interacting Chain=ATP<br>Residue (Number and Identity)=%{x}<br>Distance (angstroms)=%{y}<br>interacting_resn=%{text}<br>file=%{customdata[0]}<extra></extra>",
         "legendgroup": "ATP",
         "marker": {
          "color": "#636efa",
          "opacity": 0.6,
          "size": 10,
          "symbol": "circle"
         },
         "mode": "markers+text",
         "name": "ATP",
         "orientation": "v",
         "showlegend": true,
         "text": [
          "ATP",
          "ATP",
          "ATP",
          "ATP",
          "ATP",
          "ATP",
          "ATP",
          "ATP",
          "ATP",
          "ATP",
          "ATP",
          "ATP"
         ],
         "textposition": "top center",
         "type": "scatter",
         "x": [
          "21P",
          "94T",
          "95S",
          "96S",
          "97G",
          "98K",
          "99T",
          "100H",
          "205N",
          "208S",
          "209S",
          "241G"
         ],
         "xaxis": "x",
         "y": [
          3.4718332290649414,
          2.6103403568267822,
          2.929168224334717,
          3.442664384841919,
          3.0216567516326904,
          2.668522596359253,
          2.7042181491851807,
          2.654240131378174,
          3.1529626846313477,
          3.1283669471740723,
          2.923736810684204,
          2.9034101963043213
         ],
         "yaxis": "y"
        },
        {
         "customdata": [
          [
           "fold_e_atp_tub_sameseed_model_0"
          ],
          [
           "fold_e_atp_tub_sameseed_model_0"
          ],
          [
           "fold_e_atp_tub_sameseed_model_0"
          ],
          [
           "fold_e_atp_tub_sameseed_model_0"
          ],
          [
           "fold_e_atp_tub_sameseed_model_0"
          ],
          [
           "fold_e_atp_tub_sameseed_model_0"
          ],
          [
           "fold_e_atp_tub_sameseed_model_0"
          ],
          [
           "fold_e_atp_tub_sameseed_model_0"
          ],
          [
           "fold_e_atp_tub_sameseed_model_0"
          ],
          [
           "fold_e_atp_tub_sameseed_model_0"
          ],
          [
           "fold_e_atp_tub_sameseed_model_0"
          ],
          [
           "fold_e_atp_tub_sameseed_model_0"
          ],
          [
           "fold_e_atp_tub_sameseed_model_0"
          ],
          [
           "fold_e_atp_tub_sameseed_model_0"
          ],
          [
           "fold_e_atp_tub_sameseed_model_0"
          ],
          [
           "fold_e_atp_tub_sameseed_model_0"
          ],
          [
           "fold_e_atp_tub_sameseed_model_0"
          ]
         ],
         "hovertemplate": "Interacting Chain=beta-tubulin<br>Residue (Number and Identity)=%{x}<br>Distance (angstroms)=%{y}<br>interacting_resn=%{text}<br>file=%{customdata[0]}<extra></extra>",
         "legendgroup": "beta-tubulin",
         "marker": {
          "color": "#EF553B",
          "opacity": 0.6,
          "size": 10,
          "symbol": "circle"
         },
         "mode": "markers+text",
         "name": "beta-tubulin",
         "orientation": "v",
         "showlegend": true,
         "text": [
          "GLU",
          "GLU",
          "GLU",
          "GLU",
          "GLU",
          "SER",
          "MET",
          "GLU",
          "GLN",
          "GLN",
          "ASP",
          "ARG",
          "GLU",
          "ARG",
          "ARG",
          "MET",
          "VAL"
         ],
         "textposition": "top center",
         "type": "scatter",
         "x": [
          "51K",
          "148K",
          "159N",
          "162V",
          "163H",
          "164E",
          "166K",
          "168R",
          "280K",
          "282H",
          "286R",
          "287D",
          "328R",
          "497E",
          "501L",
          "504M",
          "507S"
         ],
         "xaxis": "x",
         "y": [
          2.864004611968994,
          2.997708797454834,
          3.430928945541382,
          2.884871006011963,
          2.7240567207336426,
          3.162452936172486,
          3.236333131790161,
          3.1506872177124023,
          3.4362218379974365,
          2.772930860519409,
          2.480675220489502,
          3.225222587585449,
          3.207775354385376,
          2.171924829483032,
          2.1818957328796387,
          2.923564910888672,
          3.004821538925171
         ],
         "yaxis": "y"
        },
        {
         "customdata": [
          [
           "fold_e_atp_tub_sameseed_model_0"
          ],
          [
           "fold_e_atp_tub_sameseed_model_0"
          ],
          [
           "fold_e_atp_tub_sameseed_model_0"
          ],
          [
           "fold_e_atp_tub_sameseed_model_0"
          ],
          [
           "fold_e_atp_tub_sameseed_model_0"
          ],
          [
           "fold_e_atp_tub_sameseed_model_0"
          ],
          [
           "fold_e_atp_tub_sameseed_model_0"
          ]
         ],
         "hovertemplate": "Interacting Chain=alpha-tubulin<br>Residue (Number and Identity)=%{x}<br>Distance (angstroms)=%{y}<br>interacting_resn=%{text}<br>file=%{customdata[0]}<extra></extra>",
         "legendgroup": "alpha-tubulin",
         "marker": {
          "color": "#00cc96",
          "opacity": 0.6,
          "size": 10,
          "symbol": "circle"
         },
         "mode": "markers+text",
         "name": "alpha-tubulin",
         "orientation": "v",
         "showlegend": true,
         "text": [
          "GLU",
          "GLU",
          "GLY",
          "GLY",
          "VAL",
          "VAL",
          "GLU"
         ],
         "textposition": "top center",
         "type": "scatter",
         "x": [
          "242S",
          "244K",
          "245V",
          "259K",
          "262N",
          "263K",
          "266S"
         ],
         "xaxis": "x",
         "y": [
          3.102640390396118,
          2.4743664264678955,
          3.026991605758667,
          3.219074964523315,
          3.488760471343994,
          3.4170289039611816,
          2.4372947216033936
         ],
         "yaxis": "y"
        },
        {
         "customdata": [
          [
           "fold_e_atp_tub_sameseed_model_0"
          ],
          [
           "fold_e_atp_tub_sameseed_model_0"
          ],
          [
           "fold_e_atp_tub_sameseed_model_0"
          ],
          [
           "fold_e_atp_tub_sameseed_model_0"
          ],
          [
           "fold_e_atp_tub_sameseed_model_0"
          ],
          [
           "fold_e_atp_tub_sameseed_model_0"
          ],
          [
           "fold_e_atp_tub_sameseed_model_0"
          ],
          [
           "fold_e_atp_tub_sameseed_model_0"
          ],
          [
           "fold_e_atp_tub_sameseed_model_0"
          ],
          [
           "fold_e_atp_tub_sameseed_model_0"
          ],
          [
           "fold_e_atp_tub_sameseed_model_0"
          ],
          [
           "fold_e_atp_tub_sameseed_model_0"
          ],
          [
           "fold_e_atp_tub_sameseed_model_0"
          ],
          [
           "fold_e_atp_tub_sameseed_model_0"
          ],
          [
           "fold_e_atp_tub_sameseed_model_0"
          ],
          [
           "fold_e_atp_tub_sameseed_model_0"
          ],
          [
           "fold_e_atp_tub_sameseed_model_0"
          ],
          [
           "fold_e_atp_tub_sameseed_model_0"
          ],
          [
           "fold_e_atp_tub_sameseed_model_0"
          ],
          [
           "fold_e_atp_tub_sameseed_model_0"
          ],
          [
           "fold_e_atp_tub_sameseed_model_0"
          ],
          [
           "fold_e_atp_tub_sameseed_model_0"
          ],
          [
           "fold_e_atp_tub_sameseed_model_0"
          ],
          [
           "fold_e_atp_tub_sameseed_model_0"
          ],
          [
           "fold_e_atp_tub_sameseed_model_0"
          ],
          [
           "fold_e_atp_tub_sameseed_model_0"
          ],
          [
           "fold_e_atp_tub_sameseed_model_0"
          ],
          [
           "fold_e_atp_tub_sameseed_model_0"
          ],
          [
           "fold_e_atp_tub_sameseed_model_0"
          ],
          [
           "fold_e_atp_tub_sameseed_model_0"
          ],
          [
           "fold_e_atp_tub_sameseed_model_0"
          ],
          [
           "fold_e_atp_tub_sameseed_model_0"
          ],
          [
           "fold_e_atp_tub_sameseed_model_0"
          ],
          [
           "fold_e_atp_tub_sameseed_model_0"
          ],
          [
           "fold_e_atp_tub_sameseed_model_0"
          ],
          [
           "fold_e_atp_tub_sameseed_model_0"
          ],
          [
           "fold_e_atp_tub_sameseed_model_0"
          ],
          [
           "fold_e_atp_tub_sameseed_model_0"
          ],
          [
           "fold_e_atp_tub_sameseed_model_0"
          ],
          [
           "fold_e_atp_tub_sameseed_model_0"
          ],
          [
           "fold_e_atp_tub_sameseed_model_0"
          ],
          [
           "fold_e_atp_tub_sameseed_model_0"
          ],
          [
           "fold_e_atp_tub_sameseed_model_0"
          ],
          [
           "fold_e_atp_tub_sameseed_model_0"
          ],
          [
           "fold_e_atp_tub_sameseed_model_0"
          ],
          [
           "fold_e_atp_tub_sameseed_model_0"
          ],
          [
           "fold_e_atp_tub_sameseed_model_0"
          ],
          [
           "fold_e_atp_tub_sameseed_model_0"
          ],
          [
           "fold_e_atp_tub_sameseed_model_0"
          ],
          [
           "fold_e_atp_tub_sameseed_model_0"
          ],
          [
           "fold_e_atp_tub_sameseed_model_0"
          ],
          [
           "fold_e_atp_tub_sameseed_model_0"
          ],
          [
           "fold_e_atp_tub_sameseed_model_0"
          ],
          [
           "fold_e_atp_tub_sameseed_model_0"
          ],
          [
           "fold_e_atp_tub_sameseed_model_0"
          ],
          [
           "fold_e_atp_tub_sameseed_model_0"
          ],
          [
           "fold_e_atp_tub_sameseed_model_0"
          ],
          [
           "fold_e_atp_tub_sameseed_model_0"
          ],
          [
           "fold_e_atp_tub_sameseed_model_0"
          ],
          [
           "fold_e_atp_tub_sameseed_model_0"
          ],
          [
           "fold_e_atp_tub_sameseed_model_0"
          ],
          [
           "fold_e_atp_tub_sameseed_model_0"
          ],
          [
           "fold_e_atp_tub_sameseed_model_0"
          ],
          [
           "fold_e_atp_tub_sameseed_model_0"
          ],
          [
           "fold_e_atp_tub_sameseed_model_0"
          ],
          [
           "fold_e_atp_tub_sameseed_model_0"
          ],
          [
           "fold_e_atp_tub_sameseed_model_0"
          ]
         ],
         "hovertemplate": "Interacting Chain=kinesin B<br>Residue (Number and Identity)=%{x}<br>Distance (angstroms)=%{y}<br>interacting_resn=%{text}<br>file=%{customdata[0]}<extra></extra>",
         "legendgroup": "kinesin B",
         "marker": {
          "color": "#ab63fa",
          "opacity": 0.6,
          "size": 10,
          "symbol": "circle"
         },
         "mode": "markers+text",
         "name": "kinesin B",
         "orientation": "v",
         "showlegend": true,
         "text": [
          "LEU",
          "ALA",
          "LYS",
          "ILE",
          "GLU",
          "VAL",
          "ILE",
          "TYR",
          "LEU",
          "SER",
          "LEU",
          "TYR",
          "VAL",
          "THR",
          "ILE",
          "GLU",
          "CYS",
          "LYS",
          "LEU",
          "LEU",
          "GLU",
          "LYS",
          "LYS",
          "GLU",
          "LYS",
          "GLN",
          "GLN",
          "GLN",
          "LYS",
          "ASP",
          "LYS",
          "ILE",
          "GLU",
          "ILE",
          "LEU",
          "LEU",
          "SER",
          "ASN",
          "ILE",
          "TYR",
          "LEU",
          "SER",
          "LEU",
          "ASN",
          "LEU",
          "LEU",
          "LEU",
          "LEU",
          "ALA",
          "SER",
          "SER",
          "GLN",
          "ALA",
          "ILE",
          "ASN",
          "LEU",
          "LYS",
          "ASN",
          "ASN",
          "GLU",
          "LEU",
          "ILE",
          "LEU",
          "LEU",
          "ILE",
          "SER",
          "ARG"
         ],
         "textposition": "top center",
         "type": "scatter",
         "x": [
          "345A",
          "348L",
          "358E",
          "362L",
          "363K",
          "365Y",
          "366I",
          "370E",
          "372V",
          "373S",
          "375V",
          "377V",
          "380L",
          "448T",
          "456I",
          "462K",
          "463C",
          "467E",
          "469Q",
          "470L",
          "473K",
          "474E",
          "476E",
          "477K",
          "480I",
          "484L",
          "487Q",
          "488Q",
          "491I",
          "494K",
          "495D",
          "497E",
          "498I",
          "501L",
          "502N",
          "505I",
          "508S",
          "511I",
          "512N",
          "514L",
          "515Y",
          "518S",
          "522N",
          "525L",
          "526N",
          "529L",
          "532L",
          "535A",
          "536L",
          "539S",
          "540R",
          "543A",
          "546Q",
          "550I",
          "553L",
          "554N",
          "556E",
          "557N",
          "560I",
          "561K",
          "564L",
          "567L",
          "570R",
          "571I",
          "574S",
          "579I",
          "582L"
         ],
         "xaxis": "x",
         "y": [
          3.321165084838867,
          3.3053252696990967,
          2.878441572189331,
          3.404067039489746,
          2.6863951683044434,
          2.5690174102783203,
          3.3908426761627197,
          3.3624329566955566,
          3.095039129257202,
          3.4771525859832764,
          3.3028931617736816,
          2.474356174468994,
          2.8760299682617188,
          2.164058208465576,
          3.419992446899414,
          2.7302534580230713,
          3.0049474239349365,
          2.7784245014190674,
          3.40057373046875,
          3.1661298274993896,
          2.3929686546325684,
          2.5059876441955566,
          2.588190793991089,
          2.641502141952514,
          3.2682955265045166,
          3.055630922317505,
          2.9398396015167236,
          2.8984227180480957,
          3.426877498626709,
          2.4378294944763184,
          2.4310481548309326,
          3.4457273483276367,
          3.4741857051849365,
          2.5901663303375244,
          3.329033374786377,
          2.963871955871582,
          2.76065444946289,
          2.2568233013153076,
          3.1441075801849365,
          3.4190146923065186,
          3.2610087394714355,
          2.7724063396453857,
          2.5232558250427246,
          2.998166561126709,
          3.3200438022613525,
          3.4216935634613037,
          3.429373025894165,
          3.4325644969940186,
          3.392808437347412,
          2.807173728942871,
          3.430415630340576,
          2.7215311527252197,
          2.7129147052764893,
          3.3717856407165527,
          3.250649690628052,
          3.2139389514923096,
          2.692190647125244,
          2.772524356842041,
          2.9977502822875977,
          2.651594877243042,
          3.371981620788574,
          2.991334915161133,
          2.419670820236206,
          2.861778974533081,
          3.0755441188812256,
          3.1206560134887695,
          2.4720380306243896
         ],
         "yaxis": "y"
        }
       ],
       "layout": {
        "legend": {
         "title": {
          "text": "Interacting Chain"
         },
         "tracegroupgap": 0
        },
        "template": {
         "data": {
          "bar": [
           {
            "error_x": {
             "color": "#2a3f5f"
            },
            "error_y": {
             "color": "#2a3f5f"
            },
            "marker": {
             "line": {
              "color": "#E5ECF6",
              "width": 0.5
             },
             "pattern": {
              "fillmode": "overlay",
              "size": 10,
              "solidity": 0.2
             }
            },
            "type": "bar"
           }
          ],
          "barpolar": [
           {
            "marker": {
             "line": {
              "color": "#E5ECF6",
              "width": 0.5
             },
             "pattern": {
              "fillmode": "overlay",
              "size": 10,
              "solidity": 0.2
             }
            },
            "type": "barpolar"
           }
          ],
          "carpet": [
           {
            "aaxis": {
             "endlinecolor": "#2a3f5f",
             "gridcolor": "white",
             "linecolor": "white",
             "minorgridcolor": "white",
             "startlinecolor": "#2a3f5f"
            },
            "baxis": {
             "endlinecolor": "#2a3f5f",
             "gridcolor": "white",
             "linecolor": "white",
             "minorgridcolor": "white",
             "startlinecolor": "#2a3f5f"
            },
            "type": "carpet"
           }
          ],
          "choropleth": [
           {
            "colorbar": {
             "outlinewidth": 0,
             "ticks": ""
            },
            "type": "choropleth"
           }
          ],
          "contour": [
           {
            "colorbar": {
             "outlinewidth": 0,
             "ticks": ""
            },
            "colorscale": [
             [
              0,
              "#0d0887"
             ],
             [
              0.1111111111111111,
              "#46039f"
             ],
             [
              0.2222222222222222,
              "#7201a8"
             ],
             [
              0.3333333333333333,
              "#9c179e"
             ],
             [
              0.4444444444444444,
              "#bd3786"
             ],
             [
              0.5555555555555556,
              "#d8576b"
             ],
             [
              0.6666666666666666,
              "#ed7953"
             ],
             [
              0.7777777777777778,
              "#fb9f3a"
             ],
             [
              0.8888888888888888,
              "#fdca26"
             ],
             [
              1,
              "#f0f921"
             ]
            ],
            "type": "contour"
           }
          ],
          "contourcarpet": [
           {
            "colorbar": {
             "outlinewidth": 0,
             "ticks": ""
            },
            "type": "contourcarpet"
           }
          ],
          "heatmap": [
           {
            "colorbar": {
             "outlinewidth": 0,
             "ticks": ""
            },
            "colorscale": [
             [
              0,
              "#0d0887"
             ],
             [
              0.1111111111111111,
              "#46039f"
             ],
             [
              0.2222222222222222,
              "#7201a8"
             ],
             [
              0.3333333333333333,
              "#9c179e"
             ],
             [
              0.4444444444444444,
              "#bd3786"
             ],
             [
              0.5555555555555556,
              "#d8576b"
             ],
             [
              0.6666666666666666,
              "#ed7953"
             ],
             [
              0.7777777777777778,
              "#fb9f3a"
             ],
             [
              0.8888888888888888,
              "#fdca26"
             ],
             [
              1,
              "#f0f921"
             ]
            ],
            "type": "heatmap"
           }
          ],
          "heatmapgl": [
           {
            "colorbar": {
             "outlinewidth": 0,
             "ticks": ""
            },
            "colorscale": [
             [
              0,
              "#0d0887"
             ],
             [
              0.1111111111111111,
              "#46039f"
             ],
             [
              0.2222222222222222,
              "#7201a8"
             ],
             [
              0.3333333333333333,
              "#9c179e"
             ],
             [
              0.4444444444444444,
              "#bd3786"
             ],
             [
              0.5555555555555556,
              "#d8576b"
             ],
             [
              0.6666666666666666,
              "#ed7953"
             ],
             [
              0.7777777777777778,
              "#fb9f3a"
             ],
             [
              0.8888888888888888,
              "#fdca26"
             ],
             [
              1,
              "#f0f921"
             ]
            ],
            "type": "heatmapgl"
           }
          ],
          "histogram": [
           {
            "marker": {
             "pattern": {
              "fillmode": "overlay",
              "size": 10,
              "solidity": 0.2
             }
            },
            "type": "histogram"
           }
          ],
          "histogram2d": [
           {
            "colorbar": {
             "outlinewidth": 0,
             "ticks": ""
            },
            "colorscale": [
             [
              0,
              "#0d0887"
             ],
             [
              0.1111111111111111,
              "#46039f"
             ],
             [
              0.2222222222222222,
              "#7201a8"
             ],
             [
              0.3333333333333333,
              "#9c179e"
             ],
             [
              0.4444444444444444,
              "#bd3786"
             ],
             [
              0.5555555555555556,
              "#d8576b"
             ],
             [
              0.6666666666666666,
              "#ed7953"
             ],
             [
              0.7777777777777778,
              "#fb9f3a"
             ],
             [
              0.8888888888888888,
              "#fdca26"
             ],
             [
              1,
              "#f0f921"
             ]
            ],
            "type": "histogram2d"
           }
          ],
          "histogram2dcontour": [
           {
            "colorbar": {
             "outlinewidth": 0,
             "ticks": ""
            },
            "colorscale": [
             [
              0,
              "#0d0887"
             ],
             [
              0.1111111111111111,
              "#46039f"
             ],
             [
              0.2222222222222222,
              "#7201a8"
             ],
             [
              0.3333333333333333,
              "#9c179e"
             ],
             [
              0.4444444444444444,
              "#bd3786"
             ],
             [
              0.5555555555555556,
              "#d8576b"
             ],
             [
              0.6666666666666666,
              "#ed7953"
             ],
             [
              0.7777777777777778,
              "#fb9f3a"
             ],
             [
              0.8888888888888888,
              "#fdca26"
             ],
             [
              1,
              "#f0f921"
             ]
            ],
            "type": "histogram2dcontour"
           }
          ],
          "mesh3d": [
           {
            "colorbar": {
             "outlinewidth": 0,
             "ticks": ""
            },
            "type": "mesh3d"
           }
          ],
          "parcoords": [
           {
            "line": {
             "colorbar": {
              "outlinewidth": 0,
              "ticks": ""
             }
            },
            "type": "parcoords"
           }
          ],
          "pie": [
           {
            "automargin": true,
            "type": "pie"
           }
          ],
          "scatter": [
           {
            "fillpattern": {
             "fillmode": "overlay",
             "size": 10,
             "solidity": 0.2
            },
            "type": "scatter"
           }
          ],
          "scatter3d": [
           {
            "line": {
             "colorbar": {
              "outlinewidth": 0,
              "ticks": ""
             }
            },
            "marker": {
             "colorbar": {
              "outlinewidth": 0,
              "ticks": ""
             }
            },
            "type": "scatter3d"
           }
          ],
          "scattercarpet": [
           {
            "marker": {
             "colorbar": {
              "outlinewidth": 0,
              "ticks": ""
             }
            },
            "type": "scattercarpet"
           }
          ],
          "scattergeo": [
           {
            "marker": {
             "colorbar": {
              "outlinewidth": 0,
              "ticks": ""
             }
            },
            "type": "scattergeo"
           }
          ],
          "scattergl": [
           {
            "marker": {
             "colorbar": {
              "outlinewidth": 0,
              "ticks": ""
             }
            },
            "type": "scattergl"
           }
          ],
          "scattermapbox": [
           {
            "marker": {
             "colorbar": {
              "outlinewidth": 0,
              "ticks": ""
             }
            },
            "type": "scattermapbox"
           }
          ],
          "scatterpolar": [
           {
            "marker": {
             "colorbar": {
              "outlinewidth": 0,
              "ticks": ""
             }
            },
            "type": "scatterpolar"
           }
          ],
          "scatterpolargl": [
           {
            "marker": {
             "colorbar": {
              "outlinewidth": 0,
              "ticks": ""
             }
            },
            "type": "scatterpolargl"
           }
          ],
          "scatterternary": [
           {
            "marker": {
             "colorbar": {
              "outlinewidth": 0,
              "ticks": ""
             }
            },
            "type": "scatterternary"
           }
          ],
          "surface": [
           {
            "colorbar": {
             "outlinewidth": 0,
             "ticks": ""
            },
            "colorscale": [
             [
              0,
              "#0d0887"
             ],
             [
              0.1111111111111111,
              "#46039f"
             ],
             [
              0.2222222222222222,
              "#7201a8"
             ],
             [
              0.3333333333333333,
              "#9c179e"
             ],
             [
              0.4444444444444444,
              "#bd3786"
             ],
             [
              0.5555555555555556,
              "#d8576b"
             ],
             [
              0.6666666666666666,
              "#ed7953"
             ],
             [
              0.7777777777777778,
              "#fb9f3a"
             ],
             [
              0.8888888888888888,
              "#fdca26"
             ],
             [
              1,
              "#f0f921"
             ]
            ],
            "type": "surface"
           }
          ],
          "table": [
           {
            "cells": {
             "fill": {
              "color": "#EBF0F8"
             },
             "line": {
              "color": "white"
             }
            },
            "header": {
             "fill": {
              "color": "#C8D4E3"
             },
             "line": {
              "color": "white"
             }
            },
            "type": "table"
           }
          ]
         },
         "layout": {
          "annotationdefaults": {
           "arrowcolor": "#2a3f5f",
           "arrowhead": 0,
           "arrowwidth": 1
          },
          "autotypenumbers": "strict",
          "coloraxis": {
           "colorbar": {
            "outlinewidth": 0,
            "ticks": ""
           }
          },
          "colorscale": {
           "diverging": [
            [
             0,
             "#8e0152"
            ],
            [
             0.1,
             "#c51b7d"
            ],
            [
             0.2,
             "#de77ae"
            ],
            [
             0.3,
             "#f1b6da"
            ],
            [
             0.4,
             "#fde0ef"
            ],
            [
             0.5,
             "#f7f7f7"
            ],
            [
             0.6,
             "#e6f5d0"
            ],
            [
             0.7,
             "#b8e186"
            ],
            [
             0.8,
             "#7fbc41"
            ],
            [
             0.9,
             "#4d9221"
            ],
            [
             1,
             "#276419"
            ]
           ],
           "sequential": [
            [
             0,
             "#0d0887"
            ],
            [
             0.1111111111111111,
             "#46039f"
            ],
            [
             0.2222222222222222,
             "#7201a8"
            ],
            [
             0.3333333333333333,
             "#9c179e"
            ],
            [
             0.4444444444444444,
             "#bd3786"
            ],
            [
             0.5555555555555556,
             "#d8576b"
            ],
            [
             0.6666666666666666,
             "#ed7953"
            ],
            [
             0.7777777777777778,
             "#fb9f3a"
            ],
            [
             0.8888888888888888,
             "#fdca26"
            ],
            [
             1,
             "#f0f921"
            ]
           ],
           "sequentialminus": [
            [
             0,
             "#0d0887"
            ],
            [
             0.1111111111111111,
             "#46039f"
            ],
            [
             0.2222222222222222,
             "#7201a8"
            ],
            [
             0.3333333333333333,
             "#9c179e"
            ],
            [
             0.4444444444444444,
             "#bd3786"
            ],
            [
             0.5555555555555556,
             "#d8576b"
            ],
            [
             0.6666666666666666,
             "#ed7953"
            ],
            [
             0.7777777777777778,
             "#fb9f3a"
            ],
            [
             0.8888888888888888,
             "#fdca26"
            ],
            [
             1,
             "#f0f921"
            ]
           ]
          },
          "colorway": [
           "#636efa",
           "#EF553B",
           "#00cc96",
           "#ab63fa",
           "#FFA15A",
           "#19d3f3",
           "#FF6692",
           "#B6E880",
           "#FF97FF",
           "#FECB52"
          ],
          "font": {
           "color": "#2a3f5f"
          },
          "geo": {
           "bgcolor": "white",
           "lakecolor": "white",
           "landcolor": "#E5ECF6",
           "showlakes": true,
           "showland": true,
           "subunitcolor": "white"
          },
          "hoverlabel": {
           "align": "left"
          },
          "hovermode": "closest",
          "mapbox": {
           "style": "light"
          },
          "paper_bgcolor": "white",
          "plot_bgcolor": "#E5ECF6",
          "polar": {
           "angularaxis": {
            "gridcolor": "white",
            "linecolor": "white",
            "ticks": ""
           },
           "bgcolor": "#E5ECF6",
           "radialaxis": {
            "gridcolor": "white",
            "linecolor": "white",
            "ticks": ""
           }
          },
          "scene": {
           "xaxis": {
            "backgroundcolor": "#E5ECF6",
            "gridcolor": "white",
            "gridwidth": 2,
            "linecolor": "white",
            "showbackground": true,
            "ticks": "",
            "zerolinecolor": "white"
           },
           "yaxis": {
            "backgroundcolor": "#E5ECF6",
            "gridcolor": "white",
            "gridwidth": 2,
            "linecolor": "white",
            "showbackground": true,
            "ticks": "",
            "zerolinecolor": "white"
           },
           "zaxis": {
            "backgroundcolor": "#E5ECF6",
            "gridcolor": "white",
            "gridwidth": 2,
            "linecolor": "white",
            "showbackground": true,
            "ticks": "",
            "zerolinecolor": "white"
           }
          },
          "shapedefaults": {
           "line": {
            "color": "#2a3f5f"
           }
          },
          "ternary": {
           "aaxis": {
            "gridcolor": "white",
            "linecolor": "white",
            "ticks": ""
           },
           "baxis": {
            "gridcolor": "white",
            "linecolor": "white",
            "ticks": ""
           },
           "bgcolor": "#E5ECF6",
           "caxis": {
            "gridcolor": "white",
            "linecolor": "white",
            "ticks": ""
           }
          },
          "title": {
           "x": 0.05
          },
          "xaxis": {
           "automargin": true,
           "gridcolor": "white",
           "linecolor": "white",
           "ticks": "",
           "title": {
            "standoff": 15
           },
           "zerolinecolor": "white",
           "zerolinewidth": 2
          },
          "yaxis": {
           "automargin": true,
           "gridcolor": "white",
           "linecolor": "white",
           "ticks": "",
           "title": {
            "standoff": 15
           },
           "zerolinecolor": "white",
           "zerolinewidth": 2
          }
         }
        },
        "title": {
         "text": "Interaction Distances for fold_e_atp_tub_sameseed_model_0 by Residue and Interacting Chain"
        },
        "xaxis": {
         "anchor": "y",
         "categoryarray": [
          "21P",
          "51K",
          "94T",
          "95S",
          "96S",
          "97G",
          "98K",
          "99T",
          "100H",
          "148K",
          "159N",
          "162V",
          "163H",
          "164E",
          "166K",
          "168R",
          "205N",
          "208S",
          "209S",
          "241G",
          "242S",
          "244K",
          "245V",
          "259K",
          "262N",
          "263K",
          "266S",
          "280K",
          "282H",
          "286R",
          "287D",
          "328R",
          "345A",
          "348L",
          "358E",
          "362L",
          "363K",
          "365Y",
          "366I",
          "370E",
          "372V",
          "373S",
          "375V",
          "377V",
          "380L",
          "448T",
          "456I",
          "462K",
          "463C",
          "467E",
          "469Q",
          "470L",
          "473K",
          "474E",
          "476E",
          "477K",
          "480I",
          "484L",
          "487Q",
          "488Q",
          "491I",
          "494K",
          "495D",
          "497E",
          "498I",
          "501L",
          "502N",
          "504M",
          "505I",
          "507S",
          "508S",
          "511I",
          "512N",
          "514L",
          "515Y",
          "518S",
          "522N",
          "525L",
          "526N",
          "529L",
          "532L",
          "535A",
          "536L",
          "539S",
          "540R",
          "543A",
          "546Q",
          "550I",
          "553L",
          "554N",
          "556E",
          "557N",
          "560I",
          "561K",
          "564L",
          "567L",
          "570R",
          "571I",
          "574S",
          "579I",
          "582L"
         ],
         "categoryorder": "array",
         "domain": [
          0,
          1
         ],
         "title": {
          "text": "Residue (Number and Identity)"
         }
        },
        "yaxis": {
         "anchor": "x",
         "domain": [
          0,
          1
         ],
         "title": {
          "text": "Distance (angstroms)"
         }
        }
       }
      }
     },
     "metadata": {},
     "output_type": "display_data"
    },
    {
     "name": "stderr",
     "output_type": "stream",
     "text": [
      "/var/folders/08/7vm2c9d11xvc7s0rf383rd480000gn/T/ipykernel_57000/1585236858.py:51: SettingWithCopyWarning:\n",
      "\n",
      "\n",
      "A value is trying to be set on a copy of a slice from a DataFrame.\n",
      "Try using .loc[row_indexer,col_indexer] = value instead\n",
      "\n",
      "See the caveats in the documentation: https://pandas.pydata.org/pandas-docs/stable/user_guide/indexing.html#returning-a-view-versus-a-copy\n",
      "\n"
     ]
    },
    {
     "data": {
      "application/vnd.plotly.v1+json": {
       "config": {
        "plotlyServerURL": "https://plot.ly"
       },
       "data": [
        {
         "customdata": [
          [
           "fold_k401_atp_tub_333_model_0"
          ],
          [
           "fold_k401_atp_tub_333_model_0"
          ],
          [
           "fold_k401_atp_tub_333_model_0"
          ],
          [
           "fold_k401_atp_tub_333_model_0"
          ],
          [
           "fold_k401_atp_tub_333_model_0"
          ],
          [
           "fold_k401_atp_tub_333_model_0"
          ],
          [
           "fold_k401_atp_tub_333_model_0"
          ],
          [
           "fold_k401_atp_tub_333_model_0"
          ],
          [
           "fold_k401_atp_tub_333_model_0"
          ],
          [
           "fold_k401_atp_tub_333_model_0"
          ],
          [
           "fold_k401_atp_tub_333_model_0"
          ],
          [
           "fold_k401_atp_tub_333_model_0"
          ],
          [
           "fold_k401_atp_tub_333_model_0"
          ]
         ],
         "hovertemplate": "Interacting Chain=ATP<br>Residue (Number and Identity)=%{x}<br>Distance (angstroms)=%{y}<br>interacting_resn=%{text}<br>file=%{customdata[0]}<extra></extra>",
         "legendgroup": "ATP",
         "marker": {
          "color": "#636efa",
          "opacity": 0.6,
          "size": 10,
          "symbol": "circle"
         },
         "mode": "markers+text",
         "name": "ATP",
         "orientation": "v",
         "showlegend": true,
         "text": [
          "ATP",
          "ATP",
          "ATP",
          "ATP",
          "ATP",
          "ATP",
          "ATP",
          "ATP",
          "ATP",
          "ATP",
          "ATP",
          "ATP",
          "ATP"
         ],
         "textposition": "top center",
         "type": "scatter",
         "x": [
          "20R",
          "21P",
          "94T",
          "95S",
          "96S",
          "97G",
          "98K",
          "99T",
          "100H",
          "205N",
          "208S",
          "209S",
          "241G"
         ],
         "xaxis": "x",
         "y": [
          3.418571949005127,
          3.139655828475952,
          2.458994626998902,
          2.6812875270843506,
          3.1592752933502197,
          2.91800856590271,
          2.7940337657928467,
          2.929311990737915,
          3.008495092391968,
          2.9855401515960693,
          3.0660386085510254,
          3.0193512439727783,
          3.044731855392456
         ],
         "yaxis": "y"
        },
        {
         "customdata": [
          [
           "fold_k401_atp_tub_333_model_0"
          ],
          [
           "fold_k401_atp_tub_333_model_0"
          ],
          [
           "fold_k401_atp_tub_333_model_0"
          ],
          [
           "fold_k401_atp_tub_333_model_0"
          ],
          [
           "fold_k401_atp_tub_333_model_0"
          ],
          [
           "fold_k401_atp_tub_333_model_0"
          ],
          [
           "fold_k401_atp_tub_333_model_0"
          ],
          [
           "fold_k401_atp_tub_333_model_0"
          ],
          [
           "fold_k401_atp_tub_333_model_0"
          ],
          [
           "fold_k401_atp_tub_333_model_0"
          ],
          [
           "fold_k401_atp_tub_333_model_0"
          ],
          [
           "fold_k401_atp_tub_333_model_0"
          ]
         ],
         "hovertemplate": "Interacting Chain=beta-tubulin<br>Residue (Number and Identity)=%{x}<br>Distance (angstroms)=%{y}<br>interacting_resn=%{text}<br>file=%{customdata[0]}<extra></extra>",
         "legendgroup": "beta-tubulin",
         "marker": {
          "color": "#EF553B",
          "opacity": 0.6,
          "size": 10,
          "symbol": "circle"
         },
         "mode": "markers+text",
         "name": "beta-tubulin",
         "orientation": "v",
         "showlegend": true,
         "text": [
          "GLU",
          "GLU",
          "GLU",
          "GLU",
          "MET",
          "MET",
          "MET",
          "GLU",
          "GLU",
          "GLN",
          "ASP",
          "ARG"
         ],
         "textposition": "top center",
         "type": "scatter",
         "x": [
          "148K",
          "159N",
          "162V",
          "163H",
          "164E",
          "165D",
          "166K",
          "168R",
          "280K",
          "282H",
          "286R",
          "287D"
         ],
         "xaxis": "x",
         "y": [
          3.0600171089172363,
          2.7908055782318115,
          3.1651947498321533,
          2.7265865802764893,
          2.836862087249756,
          3.115731954574585,
          3.2854411602020264,
          3.485177993774414,
          3.123756170272827,
          2.674067497253418,
          2.587143898010254,
          3.177390813827514
         ],
         "yaxis": "y"
        },
        {
         "customdata": [
          [
           "fold_k401_atp_tub_333_model_0"
          ],
          [
           "fold_k401_atp_tub_333_model_0"
          ],
          [
           "fold_k401_atp_tub_333_model_0"
          ],
          [
           "fold_k401_atp_tub_333_model_0"
          ],
          [
           "fold_k401_atp_tub_333_model_0"
          ],
          [
           "fold_k401_atp_tub_333_model_0"
          ],
          [
           "fold_k401_atp_tub_333_model_0"
          ],
          [
           "fold_k401_atp_tub_333_model_0"
          ],
          [
           "fold_k401_atp_tub_333_model_0"
          ],
          [
           "fold_k401_atp_tub_333_model_0"
          ],
          [
           "fold_k401_atp_tub_333_model_0"
          ],
          [
           "fold_k401_atp_tub_333_model_0"
          ],
          [
           "fold_k401_atp_tub_333_model_0"
          ],
          [
           "fold_k401_atp_tub_333_model_0"
          ],
          [
           "fold_k401_atp_tub_333_model_0"
          ],
          [
           "fold_k401_atp_tub_333_model_0"
          ],
          [
           "fold_k401_atp_tub_333_model_0"
          ]
         ],
         "hovertemplate": "Interacting Chain=kinesin B<br>Residue (Number and Identity)=%{x}<br>Distance (angstroms)=%{y}<br>interacting_resn=%{text}<br>file=%{customdata[0]}<extra></extra>",
         "legendgroup": "kinesin B",
         "marker": {
          "color": "#00cc96",
          "opacity": 0.6,
          "size": 10,
          "symbol": "circle"
         },
         "mode": "markers+text",
         "name": "kinesin B",
         "orientation": "v",
         "showlegend": true,
         "text": [
          "GLU",
          "TRP",
          "LYS",
          "TRP",
          "GLU",
          "ASN",
          "GLU",
          "ASN",
          "GLU",
          "LEU",
          "LYS",
          "ARG",
          "GLU",
          "GLU",
          "ARG",
          "ARG",
          "ARG"
         ],
         "textposition": "top center",
         "type": "scatter",
         "x": [
          "166K",
          "345A",
          "346E",
          "348W",
          "352Y",
          "355E",
          "359N",
          "362L",
          "365K",
          "369L",
          "370E",
          "372E",
          "373L",
          "377R",
          "387Q",
          "388I",
          "390M"
         ],
         "xaxis": "x",
         "y": [
          2.852186679840088,
          3.29819393157959,
          2.8675215244293213,
          3.37213397026062,
          3.467067003250122,
          2.093235969543457,
          2.1528127193450928,
          3.0044751167297363,
          3.3695459365844727,
          3.4212889671325684,
          3.102832317352295,
          2.8381969928741455,
          2.8488173484802246,
          2.7509443759918213,
          3.351947069168091,
          2.9071762561798096,
          3.470970630645752
         ],
         "yaxis": "y"
        },
        {
         "customdata": [
          [
           "fold_k401_atp_tub_333_model_0"
          ],
          [
           "fold_k401_atp_tub_333_model_0"
          ],
          [
           "fold_k401_atp_tub_333_model_0"
          ],
          [
           "fold_k401_atp_tub_333_model_0"
          ],
          [
           "fold_k401_atp_tub_333_model_0"
          ],
          [
           "fold_k401_atp_tub_333_model_0"
          ],
          [
           "fold_k401_atp_tub_333_model_0"
          ],
          [
           "fold_k401_atp_tub_333_model_0"
          ],
          [
           "fold_k401_atp_tub_333_model_0"
          ],
          [
           "fold_k401_atp_tub_333_model_0"
          ]
         ],
         "hovertemplate": "Interacting Chain=alpha-tubulin<br>Residue (Number and Identity)=%{x}<br>Distance (angstroms)=%{y}<br>interacting_resn=%{text}<br>file=%{customdata[0]}<extra></extra>",
         "legendgroup": "alpha-tubulin",
         "marker": {
          "color": "#ab63fa",
          "opacity": 0.6,
          "size": 10,
          "symbol": "circle"
         },
         "mode": "markers+text",
         "name": "alpha-tubulin",
         "orientation": "v",
         "showlegend": true,
         "text": [
          "GLU",
          "GLU",
          "GLY",
          "LYS",
          "LYS",
          "GLY",
          "VAL",
          "VAL",
          "GLU",
          "ARG"
         ],
         "textposition": "top center",
         "type": "scatter",
         "x": [
          "242S",
          "244K",
          "245V",
          "250A",
          "251E",
          "259K",
          "262N",
          "263K",
          "266S",
          "270N"
         ],
         "xaxis": "x",
         "y": [
          3.076216220855713,
          2.450095891952514,
          3.0533392429351807,
          3.3081231117248535,
          2.919468641281128,
          3.2389283180236816,
          3.32651686668396,
          3.2846343517303467,
          2.526207208633423,
          3.4471793174743652
         ],
         "yaxis": "y"
        }
       ],
       "layout": {
        "legend": {
         "title": {
          "text": "Interacting Chain"
         },
         "tracegroupgap": 0
        },
        "template": {
         "data": {
          "bar": [
           {
            "error_x": {
             "color": "#2a3f5f"
            },
            "error_y": {
             "color": "#2a3f5f"
            },
            "marker": {
             "line": {
              "color": "#E5ECF6",
              "width": 0.5
             },
             "pattern": {
              "fillmode": "overlay",
              "size": 10,
              "solidity": 0.2
             }
            },
            "type": "bar"
           }
          ],
          "barpolar": [
           {
            "marker": {
             "line": {
              "color": "#E5ECF6",
              "width": 0.5
             },
             "pattern": {
              "fillmode": "overlay",
              "size": 10,
              "solidity": 0.2
             }
            },
            "type": "barpolar"
           }
          ],
          "carpet": [
           {
            "aaxis": {
             "endlinecolor": "#2a3f5f",
             "gridcolor": "white",
             "linecolor": "white",
             "minorgridcolor": "white",
             "startlinecolor": "#2a3f5f"
            },
            "baxis": {
             "endlinecolor": "#2a3f5f",
             "gridcolor": "white",
             "linecolor": "white",
             "minorgridcolor": "white",
             "startlinecolor": "#2a3f5f"
            },
            "type": "carpet"
           }
          ],
          "choropleth": [
           {
            "colorbar": {
             "outlinewidth": 0,
             "ticks": ""
            },
            "type": "choropleth"
           }
          ],
          "contour": [
           {
            "colorbar": {
             "outlinewidth": 0,
             "ticks": ""
            },
            "colorscale": [
             [
              0,
              "#0d0887"
             ],
             [
              0.1111111111111111,
              "#46039f"
             ],
             [
              0.2222222222222222,
              "#7201a8"
             ],
             [
              0.3333333333333333,
              "#9c179e"
             ],
             [
              0.4444444444444444,
              "#bd3786"
             ],
             [
              0.5555555555555556,
              "#d8576b"
             ],
             [
              0.6666666666666666,
              "#ed7953"
             ],
             [
              0.7777777777777778,
              "#fb9f3a"
             ],
             [
              0.8888888888888888,
              "#fdca26"
             ],
             [
              1,
              "#f0f921"
             ]
            ],
            "type": "contour"
           }
          ],
          "contourcarpet": [
           {
            "colorbar": {
             "outlinewidth": 0,
             "ticks": ""
            },
            "type": "contourcarpet"
           }
          ],
          "heatmap": [
           {
            "colorbar": {
             "outlinewidth": 0,
             "ticks": ""
            },
            "colorscale": [
             [
              0,
              "#0d0887"
             ],
             [
              0.1111111111111111,
              "#46039f"
             ],
             [
              0.2222222222222222,
              "#7201a8"
             ],
             [
              0.3333333333333333,
              "#9c179e"
             ],
             [
              0.4444444444444444,
              "#bd3786"
             ],
             [
              0.5555555555555556,
              "#d8576b"
             ],
             [
              0.6666666666666666,
              "#ed7953"
             ],
             [
              0.7777777777777778,
              "#fb9f3a"
             ],
             [
              0.8888888888888888,
              "#fdca26"
             ],
             [
              1,
              "#f0f921"
             ]
            ],
            "type": "heatmap"
           }
          ],
          "heatmapgl": [
           {
            "colorbar": {
             "outlinewidth": 0,
             "ticks": ""
            },
            "colorscale": [
             [
              0,
              "#0d0887"
             ],
             [
              0.1111111111111111,
              "#46039f"
             ],
             [
              0.2222222222222222,
              "#7201a8"
             ],
             [
              0.3333333333333333,
              "#9c179e"
             ],
             [
              0.4444444444444444,
              "#bd3786"
             ],
             [
              0.5555555555555556,
              "#d8576b"
             ],
             [
              0.6666666666666666,
              "#ed7953"
             ],
             [
              0.7777777777777778,
              "#fb9f3a"
             ],
             [
              0.8888888888888888,
              "#fdca26"
             ],
             [
              1,
              "#f0f921"
             ]
            ],
            "type": "heatmapgl"
           }
          ],
          "histogram": [
           {
            "marker": {
             "pattern": {
              "fillmode": "overlay",
              "size": 10,
              "solidity": 0.2
             }
            },
            "type": "histogram"
           }
          ],
          "histogram2d": [
           {
            "colorbar": {
             "outlinewidth": 0,
             "ticks": ""
            },
            "colorscale": [
             [
              0,
              "#0d0887"
             ],
             [
              0.1111111111111111,
              "#46039f"
             ],
             [
              0.2222222222222222,
              "#7201a8"
             ],
             [
              0.3333333333333333,
              "#9c179e"
             ],
             [
              0.4444444444444444,
              "#bd3786"
             ],
             [
              0.5555555555555556,
              "#d8576b"
             ],
             [
              0.6666666666666666,
              "#ed7953"
             ],
             [
              0.7777777777777778,
              "#fb9f3a"
             ],
             [
              0.8888888888888888,
              "#fdca26"
             ],
             [
              1,
              "#f0f921"
             ]
            ],
            "type": "histogram2d"
           }
          ],
          "histogram2dcontour": [
           {
            "colorbar": {
             "outlinewidth": 0,
             "ticks": ""
            },
            "colorscale": [
             [
              0,
              "#0d0887"
             ],
             [
              0.1111111111111111,
              "#46039f"
             ],
             [
              0.2222222222222222,
              "#7201a8"
             ],
             [
              0.3333333333333333,
              "#9c179e"
             ],
             [
              0.4444444444444444,
              "#bd3786"
             ],
             [
              0.5555555555555556,
              "#d8576b"
             ],
             [
              0.6666666666666666,
              "#ed7953"
             ],
             [
              0.7777777777777778,
              "#fb9f3a"
             ],
             [
              0.8888888888888888,
              "#fdca26"
             ],
             [
              1,
              "#f0f921"
             ]
            ],
            "type": "histogram2dcontour"
           }
          ],
          "mesh3d": [
           {
            "colorbar": {
             "outlinewidth": 0,
             "ticks": ""
            },
            "type": "mesh3d"
           }
          ],
          "parcoords": [
           {
            "line": {
             "colorbar": {
              "outlinewidth": 0,
              "ticks": ""
             }
            },
            "type": "parcoords"
           }
          ],
          "pie": [
           {
            "automargin": true,
            "type": "pie"
           }
          ],
          "scatter": [
           {
            "fillpattern": {
             "fillmode": "overlay",
             "size": 10,
             "solidity": 0.2
            },
            "type": "scatter"
           }
          ],
          "scatter3d": [
           {
            "line": {
             "colorbar": {
              "outlinewidth": 0,
              "ticks": ""
             }
            },
            "marker": {
             "colorbar": {
              "outlinewidth": 0,
              "ticks": ""
             }
            },
            "type": "scatter3d"
           }
          ],
          "scattercarpet": [
           {
            "marker": {
             "colorbar": {
              "outlinewidth": 0,
              "ticks": ""
             }
            },
            "type": "scattercarpet"
           }
          ],
          "scattergeo": [
           {
            "marker": {
             "colorbar": {
              "outlinewidth": 0,
              "ticks": ""
             }
            },
            "type": "scattergeo"
           }
          ],
          "scattergl": [
           {
            "marker": {
             "colorbar": {
              "outlinewidth": 0,
              "ticks": ""
             }
            },
            "type": "scattergl"
           }
          ],
          "scattermapbox": [
           {
            "marker": {
             "colorbar": {
              "outlinewidth": 0,
              "ticks": ""
             }
            },
            "type": "scattermapbox"
           }
          ],
          "scatterpolar": [
           {
            "marker": {
             "colorbar": {
              "outlinewidth": 0,
              "ticks": ""
             }
            },
            "type": "scatterpolar"
           }
          ],
          "scatterpolargl": [
           {
            "marker": {
             "colorbar": {
              "outlinewidth": 0,
              "ticks": ""
             }
            },
            "type": "scatterpolargl"
           }
          ],
          "scatterternary": [
           {
            "marker": {
             "colorbar": {
              "outlinewidth": 0,
              "ticks": ""
             }
            },
            "type": "scatterternary"
           }
          ],
          "surface": [
           {
            "colorbar": {
             "outlinewidth": 0,
             "ticks": ""
            },
            "colorscale": [
             [
              0,
              "#0d0887"
             ],
             [
              0.1111111111111111,
              "#46039f"
             ],
             [
              0.2222222222222222,
              "#7201a8"
             ],
             [
              0.3333333333333333,
              "#9c179e"
             ],
             [
              0.4444444444444444,
              "#bd3786"
             ],
             [
              0.5555555555555556,
              "#d8576b"
             ],
             [
              0.6666666666666666,
              "#ed7953"
             ],
             [
              0.7777777777777778,
              "#fb9f3a"
             ],
             [
              0.8888888888888888,
              "#fdca26"
             ],
             [
              1,
              "#f0f921"
             ]
            ],
            "type": "surface"
           }
          ],
          "table": [
           {
            "cells": {
             "fill": {
              "color": "#EBF0F8"
             },
             "line": {
              "color": "white"
             }
            },
            "header": {
             "fill": {
              "color": "#C8D4E3"
             },
             "line": {
              "color": "white"
             }
            },
            "type": "table"
           }
          ]
         },
         "layout": {
          "annotationdefaults": {
           "arrowcolor": "#2a3f5f",
           "arrowhead": 0,
           "arrowwidth": 1
          },
          "autotypenumbers": "strict",
          "coloraxis": {
           "colorbar": {
            "outlinewidth": 0,
            "ticks": ""
           }
          },
          "colorscale": {
           "diverging": [
            [
             0,
             "#8e0152"
            ],
            [
             0.1,
             "#c51b7d"
            ],
            [
             0.2,
             "#de77ae"
            ],
            [
             0.3,
             "#f1b6da"
            ],
            [
             0.4,
             "#fde0ef"
            ],
            [
             0.5,
             "#f7f7f7"
            ],
            [
             0.6,
             "#e6f5d0"
            ],
            [
             0.7,
             "#b8e186"
            ],
            [
             0.8,
             "#7fbc41"
            ],
            [
             0.9,
             "#4d9221"
            ],
            [
             1,
             "#276419"
            ]
           ],
           "sequential": [
            [
             0,
             "#0d0887"
            ],
            [
             0.1111111111111111,
             "#46039f"
            ],
            [
             0.2222222222222222,
             "#7201a8"
            ],
            [
             0.3333333333333333,
             "#9c179e"
            ],
            [
             0.4444444444444444,
             "#bd3786"
            ],
            [
             0.5555555555555556,
             "#d8576b"
            ],
            [
             0.6666666666666666,
             "#ed7953"
            ],
            [
             0.7777777777777778,
             "#fb9f3a"
            ],
            [
             0.8888888888888888,
             "#fdca26"
            ],
            [
             1,
             "#f0f921"
            ]
           ],
           "sequentialminus": [
            [
             0,
             "#0d0887"
            ],
            [
             0.1111111111111111,
             "#46039f"
            ],
            [
             0.2222222222222222,
             "#7201a8"
            ],
            [
             0.3333333333333333,
             "#9c179e"
            ],
            [
             0.4444444444444444,
             "#bd3786"
            ],
            [
             0.5555555555555556,
             "#d8576b"
            ],
            [
             0.6666666666666666,
             "#ed7953"
            ],
            [
             0.7777777777777778,
             "#fb9f3a"
            ],
            [
             0.8888888888888888,
             "#fdca26"
            ],
            [
             1,
             "#f0f921"
            ]
           ]
          },
          "colorway": [
           "#636efa",
           "#EF553B",
           "#00cc96",
           "#ab63fa",
           "#FFA15A",
           "#19d3f3",
           "#FF6692",
           "#B6E880",
           "#FF97FF",
           "#FECB52"
          ],
          "font": {
           "color": "#2a3f5f"
          },
          "geo": {
           "bgcolor": "white",
           "lakecolor": "white",
           "landcolor": "#E5ECF6",
           "showlakes": true,
           "showland": true,
           "subunitcolor": "white"
          },
          "hoverlabel": {
           "align": "left"
          },
          "hovermode": "closest",
          "mapbox": {
           "style": "light"
          },
          "paper_bgcolor": "white",
          "plot_bgcolor": "#E5ECF6",
          "polar": {
           "angularaxis": {
            "gridcolor": "white",
            "linecolor": "white",
            "ticks": ""
           },
           "bgcolor": "#E5ECF6",
           "radialaxis": {
            "gridcolor": "white",
            "linecolor": "white",
            "ticks": ""
           }
          },
          "scene": {
           "xaxis": {
            "backgroundcolor": "#E5ECF6",
            "gridcolor": "white",
            "gridwidth": 2,
            "linecolor": "white",
            "showbackground": true,
            "ticks": "",
            "zerolinecolor": "white"
           },
           "yaxis": {
            "backgroundcolor": "#E5ECF6",
            "gridcolor": "white",
            "gridwidth": 2,
            "linecolor": "white",
            "showbackground": true,
            "ticks": "",
            "zerolinecolor": "white"
           },
           "zaxis": {
            "backgroundcolor": "#E5ECF6",
            "gridcolor": "white",
            "gridwidth": 2,
            "linecolor": "white",
            "showbackground": true,
            "ticks": "",
            "zerolinecolor": "white"
           }
          },
          "shapedefaults": {
           "line": {
            "color": "#2a3f5f"
           }
          },
          "ternary": {
           "aaxis": {
            "gridcolor": "white",
            "linecolor": "white",
            "ticks": ""
           },
           "baxis": {
            "gridcolor": "white",
            "linecolor": "white",
            "ticks": ""
           },
           "bgcolor": "#E5ECF6",
           "caxis": {
            "gridcolor": "white",
            "linecolor": "white",
            "ticks": ""
           }
          },
          "title": {
           "x": 0.05
          },
          "xaxis": {
           "automargin": true,
           "gridcolor": "white",
           "linecolor": "white",
           "ticks": "",
           "title": {
            "standoff": 15
           },
           "zerolinecolor": "white",
           "zerolinewidth": 2
          },
          "yaxis": {
           "automargin": true,
           "gridcolor": "white",
           "linecolor": "white",
           "ticks": "",
           "title": {
            "standoff": 15
           },
           "zerolinecolor": "white",
           "zerolinewidth": 2
          }
         }
        },
        "title": {
         "text": "Interaction Distances for fold_k401_atp_tub_333_model_0 by Residue and Interacting Chain"
        },
        "xaxis": {
         "anchor": "y",
         "categoryarray": [
          "20R",
          "21P",
          "94T",
          "95S",
          "96S",
          "97G",
          "98K",
          "99T",
          "100H",
          "148K",
          "159N",
          "162V",
          "163H",
          "164E",
          "165D",
          "166K",
          "168R",
          "205N",
          "208S",
          "209S",
          "241G",
          "242S",
          "244K",
          "245V",
          "250A",
          "251E",
          "259K",
          "262N",
          "263K",
          "266S",
          "270N",
          "280K",
          "282H",
          "286R",
          "287D",
          "345A",
          "346E",
          "348W",
          "352Y",
          "355E",
          "359N",
          "362L",
          "365K",
          "369L",
          "370E",
          "372E",
          "373L",
          "377R",
          "387Q",
          "388I",
          "390M"
         ],
         "categoryorder": "array",
         "domain": [
          0,
          1
         ],
         "title": {
          "text": "Residue (Number and Identity)"
         }
        },
        "yaxis": {
         "anchor": "x",
         "domain": [
          0,
          1
         ],
         "title": {
          "text": "Distance (angstroms)"
         }
        }
       }
      }
     },
     "metadata": {},
     "output_type": "display_data"
    },
    {
     "name": "stderr",
     "output_type": "stream",
     "text": [
      "/var/folders/08/7vm2c9d11xvc7s0rf383rd480000gn/T/ipykernel_57000/1585236858.py:51: SettingWithCopyWarning:\n",
      "\n",
      "\n",
      "A value is trying to be set on a copy of a slice from a DataFrame.\n",
      "Try using .loc[row_indexer,col_indexer] = value instead\n",
      "\n",
      "See the caveats in the documentation: https://pandas.pydata.org/pandas-docs/stable/user_guide/indexing.html#returning-a-view-versus-a-copy\n",
      "\n"
     ]
    },
    {
     "data": {
      "application/vnd.plotly.v1+json": {
       "config": {
        "plotlyServerURL": "https://plot.ly"
       },
       "data": [
        {
         "customdata": [
          [
           "fold_kif3_atp_tub_sameseed_model_0"
          ],
          [
           "fold_kif3_atp_tub_sameseed_model_0"
          ],
          [
           "fold_kif3_atp_tub_sameseed_model_0"
          ],
          [
           "fold_kif3_atp_tub_sameseed_model_0"
          ],
          [
           "fold_kif3_atp_tub_sameseed_model_0"
          ],
          [
           "fold_kif3_atp_tub_sameseed_model_0"
          ],
          [
           "fold_kif3_atp_tub_sameseed_model_0"
          ],
          [
           "fold_kif3_atp_tub_sameseed_model_0"
          ],
          [
           "fold_kif3_atp_tub_sameseed_model_0"
          ],
          [
           "fold_kif3_atp_tub_sameseed_model_0"
          ],
          [
           "fold_kif3_atp_tub_sameseed_model_0"
          ]
         ],
         "hovertemplate": "Interacting Chain=ATP<br>Residue (Number and Identity)=%{x}<br>Distance (angstroms)=%{y}<br>interacting_resn=%{text}<br>file=%{customdata[0]}<extra></extra>",
         "legendgroup": "ATP",
         "marker": {
          "color": "#636efa",
          "opacity": 0.6,
          "size": 10,
          "symbol": "circle"
         },
         "mode": "markers+text",
         "name": "ATP",
         "orientation": "v",
         "showlegend": true,
         "text": [
          "ATP",
          "ATP",
          "ATP",
          "ATP",
          "ATP",
          "ATP",
          "ATP",
          "ATP",
          "ATP",
          "ATP",
          "ATP"
         ],
         "textposition": "top center",
         "type": "scatter",
         "x": [
          "87T",
          "88G",
          "89S",
          "90G",
          "91K",
          "92T",
          "93F",
          "201N",
          "204S",
          "205S",
          "237G"
         ],
         "xaxis": "x",
         "y": [
          2.3951690196990967,
          2.653770685195923,
          3.328293561935425,
          2.9975342750549316,
          2.720611333847046,
          2.776721954345703,
          2.79142427444458,
          3.0432610511779785,
          2.942643642425537,
          2.8962395191192627,
          2.8888328075408936
         ],
         "yaxis": "y"
        },
        {
         "customdata": [
          [
           "fold_kif3_atp_tub_sameseed_model_0"
          ],
          [
           "fold_kif3_atp_tub_sameseed_model_0"
          ],
          [
           "fold_kif3_atp_tub_sameseed_model_0"
          ],
          [
           "fold_kif3_atp_tub_sameseed_model_0"
          ],
          [
           "fold_kif3_atp_tub_sameseed_model_0"
          ],
          [
           "fold_kif3_atp_tub_sameseed_model_0"
          ],
          [
           "fold_kif3_atp_tub_sameseed_model_0"
          ],
          [
           "fold_kif3_atp_tub_sameseed_model_0"
          ],
          [
           "fold_kif3_atp_tub_sameseed_model_0"
          ],
          [
           "fold_kif3_atp_tub_sameseed_model_0"
          ],
          [
           "fold_kif3_atp_tub_sameseed_model_0"
          ]
         ],
         "hovertemplate": "Interacting Chain=beta-tubulin<br>Residue (Number and Identity)=%{x}<br>Distance (angstroms)=%{y}<br>interacting_resn=%{text}<br>file=%{customdata[0]}<extra></extra>",
         "legendgroup": "beta-tubulin",
         "marker": {
          "color": "#EF553B",
          "opacity": 0.6,
          "size": 10,
          "symbol": "circle"
         },
         "mode": "markers+text",
         "name": "beta-tubulin",
         "orientation": "v",
         "showlegend": true,
         "text": [
          "GLU",
          "GLU",
          "GLU",
          "GLU",
          "GLN",
          "GLN",
          "GLU",
          "ARG",
          "GLU",
          "ASP",
          "GLU"
         ],
         "textposition": "top center",
         "type": "scatter",
         "x": [
          "144R",
          "157K",
          "159R",
          "275K",
          "277T",
          "278H",
          "282R",
          "283D",
          "288R",
          "506N",
          "510L"
         ],
         "xaxis": "x",
         "y": [
          2.1485397815704346,
          3.0689473152160645,
          3.170588970184326,
          3.4927423000335693,
          3.3671715259552,
          2.8799216747283936,
          2.4372434616088867,
          3.0908734798431396,
          2.991099119186402,
          3.1715095043182373,
          2.7988765239715576
         ],
         "yaxis": "y"
        },
        {
         "customdata": [
          [
           "fold_kif3_atp_tub_sameseed_model_0"
          ],
          [
           "fold_kif3_atp_tub_sameseed_model_0"
          ],
          [
           "fold_kif3_atp_tub_sameseed_model_0"
          ],
          [
           "fold_kif3_atp_tub_sameseed_model_0"
          ],
          [
           "fold_kif3_atp_tub_sameseed_model_0"
          ],
          [
           "fold_kif3_atp_tub_sameseed_model_0"
          ],
          [
           "fold_kif3_atp_tub_sameseed_model_0"
          ]
         ],
         "hovertemplate": "Interacting Chain=alpha-tubulin<br>Residue (Number and Identity)=%{x}<br>Distance (angstroms)=%{y}<br>interacting_resn=%{text}<br>file=%{customdata[0]}<extra></extra>",
         "legendgroup": "alpha-tubulin",
         "marker": {
          "color": "#00cc96",
          "opacity": 0.6,
          "size": 10,
          "symbol": "circle"
         },
         "mode": "markers+text",
         "name": "alpha-tubulin",
         "orientation": "v",
         "showlegend": true,
         "text": [
          "GLU",
          "GLU",
          "GLY",
          "GLY",
          "VAL",
          "GLU",
          "GLU"
         ],
         "textposition": "top center",
         "type": "scatter",
         "x": [
          "238S",
          "240K",
          "241I",
          "255K",
          "259K",
          "262S",
          "321R"
         ],
         "xaxis": "x",
         "y": [
          2.5043296813964844,
          2.5487751960754395,
          2.8210439682006836,
          3.3551788330078125,
          3.465726375579834,
          2.4718587398529053,
          2.7869367599487305
         ],
         "yaxis": "y"
        },
        {
         "customdata": [
          [
           "fold_kif3_atp_tub_sameseed_model_0"
          ],
          [
           "fold_kif3_atp_tub_sameseed_model_0"
          ],
          [
           "fold_kif3_atp_tub_sameseed_model_0"
          ],
          [
           "fold_kif3_atp_tub_sameseed_model_0"
          ],
          [
           "fold_kif3_atp_tub_sameseed_model_0"
          ],
          [
           "fold_kif3_atp_tub_sameseed_model_0"
          ],
          [
           "fold_kif3_atp_tub_sameseed_model_0"
          ],
          [
           "fold_kif3_atp_tub_sameseed_model_0"
          ],
          [
           "fold_kif3_atp_tub_sameseed_model_0"
          ],
          [
           "fold_kif3_atp_tub_sameseed_model_0"
          ],
          [
           "fold_kif3_atp_tub_sameseed_model_0"
          ],
          [
           "fold_kif3_atp_tub_sameseed_model_0"
          ],
          [
           "fold_kif3_atp_tub_sameseed_model_0"
          ],
          [
           "fold_kif3_atp_tub_sameseed_model_0"
          ],
          [
           "fold_kif3_atp_tub_sameseed_model_0"
          ],
          [
           "fold_kif3_atp_tub_sameseed_model_0"
          ],
          [
           "fold_kif3_atp_tub_sameseed_model_0"
          ],
          [
           "fold_kif3_atp_tub_sameseed_model_0"
          ],
          [
           "fold_kif3_atp_tub_sameseed_model_0"
          ],
          [
           "fold_kif3_atp_tub_sameseed_model_0"
          ],
          [
           "fold_kif3_atp_tub_sameseed_model_0"
          ],
          [
           "fold_kif3_atp_tub_sameseed_model_0"
          ],
          [
           "fold_kif3_atp_tub_sameseed_model_0"
          ],
          [
           "fold_kif3_atp_tub_sameseed_model_0"
          ],
          [
           "fold_kif3_atp_tub_sameseed_model_0"
          ],
          [
           "fold_kif3_atp_tub_sameseed_model_0"
          ],
          [
           "fold_kif3_atp_tub_sameseed_model_0"
          ],
          [
           "fold_kif3_atp_tub_sameseed_model_0"
          ],
          [
           "fold_kif3_atp_tub_sameseed_model_0"
          ],
          [
           "fold_kif3_atp_tub_sameseed_model_0"
          ],
          [
           "fold_kif3_atp_tub_sameseed_model_0"
          ],
          [
           "fold_kif3_atp_tub_sameseed_model_0"
          ],
          [
           "fold_kif3_atp_tub_sameseed_model_0"
          ],
          [
           "fold_kif3_atp_tub_sameseed_model_0"
          ],
          [
           "fold_kif3_atp_tub_sameseed_model_0"
          ],
          [
           "fold_kif3_atp_tub_sameseed_model_0"
          ],
          [
           "fold_kif3_atp_tub_sameseed_model_0"
          ],
          [
           "fold_kif3_atp_tub_sameseed_model_0"
          ],
          [
           "fold_kif3_atp_tub_sameseed_model_0"
          ],
          [
           "fold_kif3_atp_tub_sameseed_model_0"
          ],
          [
           "fold_kif3_atp_tub_sameseed_model_0"
          ],
          [
           "fold_kif3_atp_tub_sameseed_model_0"
          ],
          [
           "fold_kif3_atp_tub_sameseed_model_0"
          ],
          [
           "fold_kif3_atp_tub_sameseed_model_0"
          ],
          [
           "fold_kif3_atp_tub_sameseed_model_0"
          ],
          [
           "fold_kif3_atp_tub_sameseed_model_0"
          ],
          [
           "fold_kif3_atp_tub_sameseed_model_0"
          ],
          [
           "fold_kif3_atp_tub_sameseed_model_0"
          ],
          [
           "fold_kif3_atp_tub_sameseed_model_0"
          ],
          [
           "fold_kif3_atp_tub_sameseed_model_0"
          ],
          [
           "fold_kif3_atp_tub_sameseed_model_0"
          ],
          [
           "fold_kif3_atp_tub_sameseed_model_0"
          ],
          [
           "fold_kif3_atp_tub_sameseed_model_0"
          ],
          [
           "fold_kif3_atp_tub_sameseed_model_0"
          ],
          [
           "fold_kif3_atp_tub_sameseed_model_0"
          ],
          [
           "fold_kif3_atp_tub_sameseed_model_0"
          ],
          [
           "fold_kif3_atp_tub_sameseed_model_0"
          ],
          [
           "fold_kif3_atp_tub_sameseed_model_0"
          ],
          [
           "fold_kif3_atp_tub_sameseed_model_0"
          ],
          [
           "fold_kif3_atp_tub_sameseed_model_0"
          ],
          [
           "fold_kif3_atp_tub_sameseed_model_0"
          ],
          [
           "fold_kif3_atp_tub_sameseed_model_0"
          ],
          [
           "fold_kif3_atp_tub_sameseed_model_0"
          ],
          [
           "fold_kif3_atp_tub_sameseed_model_0"
          ]
         ],
         "hovertemplate": "Interacting Chain=kinesin B<br>Residue (Number and Identity)=%{x}<br>Distance (angstroms)=%{y}<br>interacting_resn=%{text}<br>file=%{customdata[0]}<extra></extra>",
         "legendgroup": "kinesin B",
         "marker": {
          "color": "#ab63fa",
          "opacity": 0.6,
          "size": 10,
          "symbol": "circle"
         },
         "mode": "markers+text",
         "name": "kinesin B",
         "orientation": "v",
         "showlegend": true,
         "text": [
          "LEU",
          "ALA",
          "LYS",
          "ILE",
          "ILE",
          "GLU",
          "GLU",
          "ILE",
          "VAL",
          "TYR",
          "LEU",
          "LEU",
          "TYR",
          "VAL",
          "THR",
          "THR",
          "ILE",
          "THR",
          "ILE",
          "GLU",
          "CYS",
          "LYS",
          "LEU",
          "LEU",
          "GLU",
          "LYS",
          "LYS",
          "GLU",
          "LYS",
          "GLN",
          "LEU",
          "ILE",
          "ASP",
          "LYS",
          "ILE",
          "LEU",
          "LEU",
          "SER",
          "ILE",
          "LEU",
          "SER",
          "ASN",
          "ASN",
          "ASN",
          "LEU",
          "LEU",
          "LEU",
          "ALA",
          "SER",
          "GLN",
          "ALA",
          "ILE",
          "ASN",
          "LEU",
          "LYS",
          "ASN",
          "ILE",
          "GLU",
          "LEU",
          "ILE",
          "LEU",
          "LEU",
          "ILE",
          "ARG"
         ],
         "textposition": "top center",
         "type": "scatter",
         "x": [
          "341A",
          "344L",
          "354E",
          "355I",
          "358L",
          "359K",
          "361Y",
          "362I",
          "365L",
          "366E",
          "368V",
          "371V",
          "373V",
          "376L",
          "444T",
          "445S",
          "448D",
          "449T",
          "452I",
          "458K",
          "459C",
          "463E",
          "465Q",
          "466L",
          "469K",
          "470E",
          "472E",
          "473K",
          "476I",
          "480L",
          "483Q",
          "487I",
          "490K",
          "491D",
          "497L",
          "498N",
          "501I",
          "504S",
          "508N",
          "511Y",
          "514S",
          "517E",
          "518N",
          "521L",
          "522N",
          "524Q",
          "525L",
          "532L",
          "535S",
          "539A",
          "542Q",
          "546I",
          "549L",
          "550N",
          "552E",
          "553N",
          "556I",
          "557K",
          "560L",
          "563L",
          "566R",
          "567I",
          "575I",
          "578L"
         ],
         "xaxis": "x",
         "y": [
          3.4494898319244385,
          3.453981399536133,
          2.7847046852111816,
          3.486245393753052,
          3.3671767711639404,
          2.641094207763672,
          2.8551347255706787,
          3.2814221382141113,
          2.995442152023315,
          2.8715410232543945,
          2.5638272762298584,
          2.980264186859131,
          3.3743896484375,
          2.88838791847229,
          2.9535655975341797,
          3.20292329788208,
          3.1666388511657715,
          3.1764779090881348,
          3.2366702556610107,
          2.659426212310791,
          2.852346658706665,
          2.688230037689209,
          3.3258278369903564,
          3.113520383834839,
          2.56089186668396,
          2.6391355991363525,
          2.590994358062744,
          2.6033194065093994,
          3.2491872310638428,
          3.1025710105895996,
          3.0445337295532227,
          3.477691888809204,
          2.415228843688965,
          2.4562747478485107,
          2.932422876358032,
          3.2578284740448,
          3.005067825317383,
          2.4711222648620605,
          3.4295811653137207,
          3.3984365463256836,
          2.729997396469116,
          3.1234583854675293,
          2.3410000801086426,
          3.1108574867248535,
          3.360945463180542,
          3.4944815635681152,
          3.4159445762634277,
          3.3357183933258057,
          2.70270037651062,
          2.8752522468566895,
          2.9256651401519775,
          3.354116678237915,
          3.1762990951538086,
          3.1099817752838135,
          2.6520822048187256,
          2.103816270828247,
          3.3165886402130127,
          2.7389395236968994,
          3.3363964557647705,
          3.295421838760376,
          2.8497214317321777,
          3.4307265281677246,
          3.262397050857544,
          2.809762716293335
         ],
         "yaxis": "y"
        }
       ],
       "layout": {
        "legend": {
         "title": {
          "text": "Interacting Chain"
         },
         "tracegroupgap": 0
        },
        "template": {
         "data": {
          "bar": [
           {
            "error_x": {
             "color": "#2a3f5f"
            },
            "error_y": {
             "color": "#2a3f5f"
            },
            "marker": {
             "line": {
              "color": "#E5ECF6",
              "width": 0.5
             },
             "pattern": {
              "fillmode": "overlay",
              "size": 10,
              "solidity": 0.2
             }
            },
            "type": "bar"
           }
          ],
          "barpolar": [
           {
            "marker": {
             "line": {
              "color": "#E5ECF6",
              "width": 0.5
             },
             "pattern": {
              "fillmode": "overlay",
              "size": 10,
              "solidity": 0.2
             }
            },
            "type": "barpolar"
           }
          ],
          "carpet": [
           {
            "aaxis": {
             "endlinecolor": "#2a3f5f",
             "gridcolor": "white",
             "linecolor": "white",
             "minorgridcolor": "white",
             "startlinecolor": "#2a3f5f"
            },
            "baxis": {
             "endlinecolor": "#2a3f5f",
             "gridcolor": "white",
             "linecolor": "white",
             "minorgridcolor": "white",
             "startlinecolor": "#2a3f5f"
            },
            "type": "carpet"
           }
          ],
          "choropleth": [
           {
            "colorbar": {
             "outlinewidth": 0,
             "ticks": ""
            },
            "type": "choropleth"
           }
          ],
          "contour": [
           {
            "colorbar": {
             "outlinewidth": 0,
             "ticks": ""
            },
            "colorscale": [
             [
              0,
              "#0d0887"
             ],
             [
              0.1111111111111111,
              "#46039f"
             ],
             [
              0.2222222222222222,
              "#7201a8"
             ],
             [
              0.3333333333333333,
              "#9c179e"
             ],
             [
              0.4444444444444444,
              "#bd3786"
             ],
             [
              0.5555555555555556,
              "#d8576b"
             ],
             [
              0.6666666666666666,
              "#ed7953"
             ],
             [
              0.7777777777777778,
              "#fb9f3a"
             ],
             [
              0.8888888888888888,
              "#fdca26"
             ],
             [
              1,
              "#f0f921"
             ]
            ],
            "type": "contour"
           }
          ],
          "contourcarpet": [
           {
            "colorbar": {
             "outlinewidth": 0,
             "ticks": ""
            },
            "type": "contourcarpet"
           }
          ],
          "heatmap": [
           {
            "colorbar": {
             "outlinewidth": 0,
             "ticks": ""
            },
            "colorscale": [
             [
              0,
              "#0d0887"
             ],
             [
              0.1111111111111111,
              "#46039f"
             ],
             [
              0.2222222222222222,
              "#7201a8"
             ],
             [
              0.3333333333333333,
              "#9c179e"
             ],
             [
              0.4444444444444444,
              "#bd3786"
             ],
             [
              0.5555555555555556,
              "#d8576b"
             ],
             [
              0.6666666666666666,
              "#ed7953"
             ],
             [
              0.7777777777777778,
              "#fb9f3a"
             ],
             [
              0.8888888888888888,
              "#fdca26"
             ],
             [
              1,
              "#f0f921"
             ]
            ],
            "type": "heatmap"
           }
          ],
          "heatmapgl": [
           {
            "colorbar": {
             "outlinewidth": 0,
             "ticks": ""
            },
            "colorscale": [
             [
              0,
              "#0d0887"
             ],
             [
              0.1111111111111111,
              "#46039f"
             ],
             [
              0.2222222222222222,
              "#7201a8"
             ],
             [
              0.3333333333333333,
              "#9c179e"
             ],
             [
              0.4444444444444444,
              "#bd3786"
             ],
             [
              0.5555555555555556,
              "#d8576b"
             ],
             [
              0.6666666666666666,
              "#ed7953"
             ],
             [
              0.7777777777777778,
              "#fb9f3a"
             ],
             [
              0.8888888888888888,
              "#fdca26"
             ],
             [
              1,
              "#f0f921"
             ]
            ],
            "type": "heatmapgl"
           }
          ],
          "histogram": [
           {
            "marker": {
             "pattern": {
              "fillmode": "overlay",
              "size": 10,
              "solidity": 0.2
             }
            },
            "type": "histogram"
           }
          ],
          "histogram2d": [
           {
            "colorbar": {
             "outlinewidth": 0,
             "ticks": ""
            },
            "colorscale": [
             [
              0,
              "#0d0887"
             ],
             [
              0.1111111111111111,
              "#46039f"
             ],
             [
              0.2222222222222222,
              "#7201a8"
             ],
             [
              0.3333333333333333,
              "#9c179e"
             ],
             [
              0.4444444444444444,
              "#bd3786"
             ],
             [
              0.5555555555555556,
              "#d8576b"
             ],
             [
              0.6666666666666666,
              "#ed7953"
             ],
             [
              0.7777777777777778,
              "#fb9f3a"
             ],
             [
              0.8888888888888888,
              "#fdca26"
             ],
             [
              1,
              "#f0f921"
             ]
            ],
            "type": "histogram2d"
           }
          ],
          "histogram2dcontour": [
           {
            "colorbar": {
             "outlinewidth": 0,
             "ticks": ""
            },
            "colorscale": [
             [
              0,
              "#0d0887"
             ],
             [
              0.1111111111111111,
              "#46039f"
             ],
             [
              0.2222222222222222,
              "#7201a8"
             ],
             [
              0.3333333333333333,
              "#9c179e"
             ],
             [
              0.4444444444444444,
              "#bd3786"
             ],
             [
              0.5555555555555556,
              "#d8576b"
             ],
             [
              0.6666666666666666,
              "#ed7953"
             ],
             [
              0.7777777777777778,
              "#fb9f3a"
             ],
             [
              0.8888888888888888,
              "#fdca26"
             ],
             [
              1,
              "#f0f921"
             ]
            ],
            "type": "histogram2dcontour"
           }
          ],
          "mesh3d": [
           {
            "colorbar": {
             "outlinewidth": 0,
             "ticks": ""
            },
            "type": "mesh3d"
           }
          ],
          "parcoords": [
           {
            "line": {
             "colorbar": {
              "outlinewidth": 0,
              "ticks": ""
             }
            },
            "type": "parcoords"
           }
          ],
          "pie": [
           {
            "automargin": true,
            "type": "pie"
           }
          ],
          "scatter": [
           {
            "fillpattern": {
             "fillmode": "overlay",
             "size": 10,
             "solidity": 0.2
            },
            "type": "scatter"
           }
          ],
          "scatter3d": [
           {
            "line": {
             "colorbar": {
              "outlinewidth": 0,
              "ticks": ""
             }
            },
            "marker": {
             "colorbar": {
              "outlinewidth": 0,
              "ticks": ""
             }
            },
            "type": "scatter3d"
           }
          ],
          "scattercarpet": [
           {
            "marker": {
             "colorbar": {
              "outlinewidth": 0,
              "ticks": ""
             }
            },
            "type": "scattercarpet"
           }
          ],
          "scattergeo": [
           {
            "marker": {
             "colorbar": {
              "outlinewidth": 0,
              "ticks": ""
             }
            },
            "type": "scattergeo"
           }
          ],
          "scattergl": [
           {
            "marker": {
             "colorbar": {
              "outlinewidth": 0,
              "ticks": ""
             }
            },
            "type": "scattergl"
           }
          ],
          "scattermapbox": [
           {
            "marker": {
             "colorbar": {
              "outlinewidth": 0,
              "ticks": ""
             }
            },
            "type": "scattermapbox"
           }
          ],
          "scatterpolar": [
           {
            "marker": {
             "colorbar": {
              "outlinewidth": 0,
              "ticks": ""
             }
            },
            "type": "scatterpolar"
           }
          ],
          "scatterpolargl": [
           {
            "marker": {
             "colorbar": {
              "outlinewidth": 0,
              "ticks": ""
             }
            },
            "type": "scatterpolargl"
           }
          ],
          "scatterternary": [
           {
            "marker": {
             "colorbar": {
              "outlinewidth": 0,
              "ticks": ""
             }
            },
            "type": "scatterternary"
           }
          ],
          "surface": [
           {
            "colorbar": {
             "outlinewidth": 0,
             "ticks": ""
            },
            "colorscale": [
             [
              0,
              "#0d0887"
             ],
             [
              0.1111111111111111,
              "#46039f"
             ],
             [
              0.2222222222222222,
              "#7201a8"
             ],
             [
              0.3333333333333333,
              "#9c179e"
             ],
             [
              0.4444444444444444,
              "#bd3786"
             ],
             [
              0.5555555555555556,
              "#d8576b"
             ],
             [
              0.6666666666666666,
              "#ed7953"
             ],
             [
              0.7777777777777778,
              "#fb9f3a"
             ],
             [
              0.8888888888888888,
              "#fdca26"
             ],
             [
              1,
              "#f0f921"
             ]
            ],
            "type": "surface"
           }
          ],
          "table": [
           {
            "cells": {
             "fill": {
              "color": "#EBF0F8"
             },
             "line": {
              "color": "white"
             }
            },
            "header": {
             "fill": {
              "color": "#C8D4E3"
             },
             "line": {
              "color": "white"
             }
            },
            "type": "table"
           }
          ]
         },
         "layout": {
          "annotationdefaults": {
           "arrowcolor": "#2a3f5f",
           "arrowhead": 0,
           "arrowwidth": 1
          },
          "autotypenumbers": "strict",
          "coloraxis": {
           "colorbar": {
            "outlinewidth": 0,
            "ticks": ""
           }
          },
          "colorscale": {
           "diverging": [
            [
             0,
             "#8e0152"
            ],
            [
             0.1,
             "#c51b7d"
            ],
            [
             0.2,
             "#de77ae"
            ],
            [
             0.3,
             "#f1b6da"
            ],
            [
             0.4,
             "#fde0ef"
            ],
            [
             0.5,
             "#f7f7f7"
            ],
            [
             0.6,
             "#e6f5d0"
            ],
            [
             0.7,
             "#b8e186"
            ],
            [
             0.8,
             "#7fbc41"
            ],
            [
             0.9,
             "#4d9221"
            ],
            [
             1,
             "#276419"
            ]
           ],
           "sequential": [
            [
             0,
             "#0d0887"
            ],
            [
             0.1111111111111111,
             "#46039f"
            ],
            [
             0.2222222222222222,
             "#7201a8"
            ],
            [
             0.3333333333333333,
             "#9c179e"
            ],
            [
             0.4444444444444444,
             "#bd3786"
            ],
            [
             0.5555555555555556,
             "#d8576b"
            ],
            [
             0.6666666666666666,
             "#ed7953"
            ],
            [
             0.7777777777777778,
             "#fb9f3a"
            ],
            [
             0.8888888888888888,
             "#fdca26"
            ],
            [
             1,
             "#f0f921"
            ]
           ],
           "sequentialminus": [
            [
             0,
             "#0d0887"
            ],
            [
             0.1111111111111111,
             "#46039f"
            ],
            [
             0.2222222222222222,
             "#7201a8"
            ],
            [
             0.3333333333333333,
             "#9c179e"
            ],
            [
             0.4444444444444444,
             "#bd3786"
            ],
            [
             0.5555555555555556,
             "#d8576b"
            ],
            [
             0.6666666666666666,
             "#ed7953"
            ],
            [
             0.7777777777777778,
             "#fb9f3a"
            ],
            [
             0.8888888888888888,
             "#fdca26"
            ],
            [
             1,
             "#f0f921"
            ]
           ]
          },
          "colorway": [
           "#636efa",
           "#EF553B",
           "#00cc96",
           "#ab63fa",
           "#FFA15A",
           "#19d3f3",
           "#FF6692",
           "#B6E880",
           "#FF97FF",
           "#FECB52"
          ],
          "font": {
           "color": "#2a3f5f"
          },
          "geo": {
           "bgcolor": "white",
           "lakecolor": "white",
           "landcolor": "#E5ECF6",
           "showlakes": true,
           "showland": true,
           "subunitcolor": "white"
          },
          "hoverlabel": {
           "align": "left"
          },
          "hovermode": "closest",
          "mapbox": {
           "style": "light"
          },
          "paper_bgcolor": "white",
          "plot_bgcolor": "#E5ECF6",
          "polar": {
           "angularaxis": {
            "gridcolor": "white",
            "linecolor": "white",
            "ticks": ""
           },
           "bgcolor": "#E5ECF6",
           "radialaxis": {
            "gridcolor": "white",
            "linecolor": "white",
            "ticks": ""
           }
          },
          "scene": {
           "xaxis": {
            "backgroundcolor": "#E5ECF6",
            "gridcolor": "white",
            "gridwidth": 2,
            "linecolor": "white",
            "showbackground": true,
            "ticks": "",
            "zerolinecolor": "white"
           },
           "yaxis": {
            "backgroundcolor": "#E5ECF6",
            "gridcolor": "white",
            "gridwidth": 2,
            "linecolor": "white",
            "showbackground": true,
            "ticks": "",
            "zerolinecolor": "white"
           },
           "zaxis": {
            "backgroundcolor": "#E5ECF6",
            "gridcolor": "white",
            "gridwidth": 2,
            "linecolor": "white",
            "showbackground": true,
            "ticks": "",
            "zerolinecolor": "white"
           }
          },
          "shapedefaults": {
           "line": {
            "color": "#2a3f5f"
           }
          },
          "ternary": {
           "aaxis": {
            "gridcolor": "white",
            "linecolor": "white",
            "ticks": ""
           },
           "baxis": {
            "gridcolor": "white",
            "linecolor": "white",
            "ticks": ""
           },
           "bgcolor": "#E5ECF6",
           "caxis": {
            "gridcolor": "white",
            "linecolor": "white",
            "ticks": ""
           }
          },
          "title": {
           "x": 0.05
          },
          "xaxis": {
           "automargin": true,
           "gridcolor": "white",
           "linecolor": "white",
           "ticks": "",
           "title": {
            "standoff": 15
           },
           "zerolinecolor": "white",
           "zerolinewidth": 2
          },
          "yaxis": {
           "automargin": true,
           "gridcolor": "white",
           "linecolor": "white",
           "ticks": "",
           "title": {
            "standoff": 15
           },
           "zerolinecolor": "white",
           "zerolinewidth": 2
          }
         }
        },
        "title": {
         "text": "Interaction Distances for fold_kif3_atp_tub_sameseed_model_0 by Residue and Interacting Chain"
        },
        "xaxis": {
         "anchor": "y",
         "categoryarray": [
          "87T",
          "88G",
          "89S",
          "90G",
          "91K",
          "92T",
          "93F",
          "144R",
          "157K",
          "159R",
          "201N",
          "204S",
          "205S",
          "237G",
          "238S",
          "240K",
          "241I",
          "255K",
          "259K",
          "262S",
          "275K",
          "277T",
          "278H",
          "282R",
          "283D",
          "288R",
          "321R",
          "341A",
          "344L",
          "354E",
          "355I",
          "358L",
          "359K",
          "361Y",
          "362I",
          "365L",
          "366E",
          "368V",
          "371V",
          "373V",
          "376L",
          "444T",
          "445S",
          "448D",
          "449T",
          "452I",
          "458K",
          "459C",
          "463E",
          "465Q",
          "466L",
          "469K",
          "470E",
          "472E",
          "473K",
          "476I",
          "480L",
          "483Q",
          "487I",
          "490K",
          "491D",
          "497L",
          "498N",
          "501I",
          "504S",
          "506N",
          "508N",
          "510L",
          "511Y",
          "514S",
          "517E",
          "518N",
          "521L",
          "522N",
          "524Q",
          "525L",
          "532L",
          "535S",
          "539A",
          "542Q",
          "546I",
          "549L",
          "550N",
          "552E",
          "553N",
          "556I",
          "557K",
          "560L",
          "563L",
          "566R",
          "567I",
          "575I",
          "578L"
         ],
         "categoryorder": "array",
         "domain": [
          0,
          1
         ],
         "title": {
          "text": "Residue (Number and Identity)"
         }
        },
        "yaxis": {
         "anchor": "x",
         "domain": [
          0,
          1
         ],
         "title": {
          "text": "Distance (angstroms)"
         }
        }
       }
      }
     },
     "metadata": {},
     "output_type": "display_data"
    }
   ],
   "source": [
    "import pandas as pd\n",
    "import plotly.express as px\n",
    "\n",
    "# Define the path to the CSV file\n",
    "csv_file_path = '/Users/jazzeruncal/git/Jazzer_surf/3d_predictions/same_seed/interactions_all_files.csv'\n",
    "\n",
    "# Read the CSV file into a DataFrame\n",
    "df = pd.read_csv(csv_file_path)\n",
    "\n",
    "# Print column names to check for correct naming\n",
    "print(df.columns)\n",
    "\n",
    "# Adjust the column names if necessary\n",
    "# Assuming the columns are named 'resi' instead of 'residue_number'\n",
    "residue_column = 'resi'\n",
    "amino_acid_column = 'residue_one_letter'\n",
    "\n",
    "# Filter to get the shortest distances for each interaction\n",
    "df = df.loc[df[df['chain'] == 'A'].groupby(['file', residue_column, 'interacting_chain'])['distance (angstroms)'].idxmin()]\n",
    "\n",
    "# Exclude interactions with Mg and chain letters A, G, H\n",
    "df = df[(df['interacting_resn'] != 'MG') & (~df['interacting_chain'].isin(['A', 'G', 'H']))].reset_index(drop=True)\n",
    "\n",
    "# Map interacting_resn to single-letter codes for better readability\n",
    "aa_dict = {\n",
    "    'ALA': 'A', 'ARG': 'R', 'ASN': 'N', 'ASP': 'D', 'CYS': 'C', 'GLN': 'Q', 'GLU': 'E', 'GLY': 'G',\n",
    "    'HIS': 'H', 'ILE': 'I', 'LEU': 'L', 'LYS': 'K', 'MET': 'M', 'PHE': 'F', 'PRO': 'P', 'SER': 'S',\n",
    "    'THR': 'T', 'TRP': 'W', 'TYR': 'Y', 'VAL': 'V'\n",
    "}\n",
    "df['residue_one_letter'] = df['resn'].map(aa_dict)\n",
    "df['residue'] = df[residue_column].astype(str) + df['residue_one_letter']\n",
    "\n",
    "# Replace chain letters with descriptive names\n",
    "chain_map = {\n",
    "    'B': 'kinesin B',\n",
    "    'C': 'alpha-tubulin',\n",
    "    'D': 'beta-tubulin',\n",
    "    'E': 'ATP',\n",
    "    'F': 'ATP'\n",
    "}\n",
    "df['interacting_chain'] = df['interacting_chain'].map(chain_map)\n",
    "\n",
    "# Create a plot for each file\n",
    "unique_files = df['file'].unique()\n",
    "\n",
    "for file in unique_files:\n",
    "    # Filter the DataFrame for the current file\n",
    "    file_df = df[df['file'] == file]\n",
    "\n",
    "    # Create a new column for the x-axis labels by concatenating residue number and amino acid\n",
    "    file_df['residue_label'] = file_df[residue_column].astype(str) + file_df[amino_acid_column]\n",
    "\n",
    "    # Sort the DataFrame by residue number to maintain order\n",
    "    file_df = file_df.sort_values(by=[residue_column])\n",
    "\n",
    "    # Convert residue_label to a categorical type with the correct order\n",
    "    file_df['residue_label'] = pd.Categorical(file_df['residue_label'], \n",
    "                                              categories=sorted(file_df['residue_label'].unique(), key=lambda x: int(''.join(filter(str.isdigit, x)))), \n",
    "                                              ordered=True)\n",
    "\n",
    "    # Scatter plot for interaction distances with custom x-axis labels\n",
    "    fig_scatter = px.scatter(file_df, x='residue_label', y='distance (angstroms)', color='interacting_chain', text='interacting_resn',\n",
    "                             title=f'Interaction Distances for {file} by Residue and Interacting Chain',\n",
    "                             labels={'residue_label': 'Residue (Number and Identity)', 'distance (angstroms)': 'Distance (angstroms)', 'interacting_chain': 'Interacting Chain'},\n",
    "                             hover_data=['file'])\n",
    "\n",
    "    fig_scatter.update_traces(textposition='top center', marker=dict(size=10, opacity=0.6))\n",
    "    fig_scatter.update_layout(xaxis={'categoryorder':'array', 'categoryarray': file_df['residue_label'].cat.categories})\n",
    "\n",
    "    # Show the plot\n",
    "    fig_scatter.show()\n",
    "\n"
   ]
  },
  {
   "cell_type": "code",
   "execution_count": null,
   "metadata": {},
   "outputs": [],
   "source": []
  }
 ],
 "metadata": {
  "kernelspec": {
   "display_name": "base",
   "language": "python",
   "name": "python3"
  },
  "language_info": {
   "codemirror_mode": {
    "name": "ipython",
    "version": 3
   },
   "file_extension": ".py",
   "mimetype": "text/x-python",
   "name": "python",
   "nbconvert_exporter": "python",
   "pygments_lexer": "ipython3",
   "version": "3.12.4"
  }
 },
 "nbformat": 4,
 "nbformat_minor": 2
}
