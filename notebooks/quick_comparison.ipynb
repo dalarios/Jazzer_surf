{
 "cells": [
  {
   "cell_type": "markdown",
   "metadata": {},
   "source": [
    "H Seed 1, look at the csv file"
   ]
  },
  {
   "cell_type": "code",
   "execution_count": 37,
   "metadata": {},
   "outputs": [
    {
     "data": {
      "application/vnd.plotly.v1+json": {
       "config": {
        "plotlyServerURL": "https://plot.ly"
       },
       "data": [
        {
         "customdata": [
          [
           "fold_h_atp_tub_seed1_model_0"
          ],
          [
           "fold_h_atp_tub_seed1_model_0"
          ],
          [
           "fold_h_atp_tub_seed1_model_0"
          ],
          [
           "fold_h_atp_tub_seed1_model_0"
          ],
          [
           "fold_h_atp_tub_seed1_model_0"
          ],
          [
           "fold_h_atp_tub_seed1_model_0"
          ],
          [
           "fold_h_atp_tub_seed1_model_0"
          ],
          [
           "fold_h_atp_tub_seed1_model_0"
          ],
          [
           "fold_h_atp_tub_seed1_model_0"
          ],
          [
           "fold_h_atp_tub_seed1_model_0"
          ],
          [
           "fold_h_atp_tub_seed1_model_0"
          ]
         ],
         "hovertemplate": "Interacting Chain=ATP<br>Residue (Number and Identity)=%{x}<br>Distance (angstroms)=%{y}<br>interacting_atom=%{text}<br>file=%{customdata[0]}<extra></extra>",
         "legendgroup": "ATP",
         "marker": {
          "color": "#636efa",
          "opacity": 0.6,
          "size": 10,
          "symbol": "circle"
         },
         "mode": "markers+text",
         "name": "ATP",
         "orientation": "v",
         "showlegend": true,
         "text": [
          "O1G",
          "O3B",
          "O1B",
          "O1B",
          "O1B",
          "O2B",
          "O1A",
          "O1G",
          "O1G",
          "O3G",
          "O2G"
         ],
         "textposition": "top center",
         "type": "scatter",
         "x": [
          "87T",
          "88G",
          "89S",
          "90G",
          "91K",
          "92T",
          "93F",
          "201N",
          "204S",
          "205S",
          "237G"
         ],
         "xaxis": "x",
         "y": [
          2.7136809825897217,
          2.823422431945801,
          3.3753457069396973,
          2.964850425720215,
          2.674063920974731,
          2.672137975692749,
          2.6421751976013184,
          3.039212703704834,
          3.0076818466186523,
          2.9404726028442383,
          2.8074371814727783
         ],
         "yaxis": "y"
        },
        {
         "customdata": [
          [
           "fold_h_atp_tub_seed1_model_0"
          ],
          [
           "fold_h_atp_tub_seed1_model_0"
          ],
          [
           "fold_h_atp_tub_seed1_model_0"
          ],
          [
           "fold_h_atp_tub_seed1_model_0"
          ],
          [
           "fold_h_atp_tub_seed1_model_0"
          ],
          [
           "fold_h_atp_tub_seed1_model_0"
          ],
          [
           "fold_h_atp_tub_seed1_model_0"
          ],
          [
           "fold_h_atp_tub_seed1_model_0"
          ],
          [
           "fold_h_atp_tub_seed1_model_0"
          ],
          [
           "fold_h_atp_tub_seed1_model_0"
          ],
          [
           "fold_h_atp_tub_seed1_model_0"
          ],
          [
           "fold_h_atp_tub_seed1_model_0"
          ],
          [
           "fold_h_atp_tub_seed1_model_0"
          ],
          [
           "fold_h_atp_tub_seed1_model_0"
          ],
          [
           "fold_h_atp_tub_seed1_model_0"
          ],
          [
           "fold_h_atp_tub_seed1_model_0"
          ],
          [
           "fold_h_atp_tub_seed1_model_0"
          ]
         ],
         "hovertemplate": "Interacting Chain=beta-tubulin<br>Residue (Number and Identity)=%{x}<br>Distance (angstroms)=%{y}<br>interacting_atom=%{text}<br>file=%{customdata[0]}<extra></extra>",
         "legendgroup": "beta-tubulin",
         "marker": {
          "color": "#EF553B",
          "opacity": 0.6,
          "size": 10,
          "symbol": "circle"
         },
         "mode": "markers+text",
         "name": "beta-tubulin",
         "orientation": "v",
         "showlegend": true,
         "text": [
          "OE1",
          "OE1",
          "OE1",
          "CG",
          "OG",
          "CA",
          "OE1",
          "OE1",
          "OD2",
          "CD",
          "OE2",
          "NH2",
          "CD",
          "CZ",
          "CE1",
          "CZ2",
          "O"
         ],
         "textposition": "top center",
         "type": "scatter",
         "x": [
          "144R",
          "157K",
          "158V",
          "159R",
          "160E",
          "275K",
          "277T",
          "278H",
          "282R",
          "283D",
          "285K",
          "494I",
          "498N",
          "505N",
          "508N",
          "509S",
          "512Q"
         ],
         "xaxis": "x",
         "y": [
          2.768033504486084,
          3.047783851623535,
          2.7401652336120605,
          3.184271812438965,
          3.432516574859619,
          3.420228958129883,
          3.3995347023010254,
          2.7170002460479736,
          2.4272496700286865,
          3.05643630027771,
          3.496941328048706,
          2.975874185562134,
          2.3815529346466064,
          2.46383285522461,
          3.2913224697113037,
          2.656165599822998,
          2.8011043071746826
         ],
         "yaxis": "y"
        },
        {
         "customdata": [
          [
           "fold_h_atp_tub_seed1_model_0"
          ],
          [
           "fold_h_atp_tub_seed1_model_0"
          ],
          [
           "fold_h_atp_tub_seed1_model_0"
          ],
          [
           "fold_h_atp_tub_seed1_model_0"
          ],
          [
           "fold_h_atp_tub_seed1_model_0"
          ],
          [
           "fold_h_atp_tub_seed1_model_0"
          ],
          [
           "fold_h_atp_tub_seed1_model_0"
          ],
          [
           "fold_h_atp_tub_seed1_model_0"
          ],
          [
           "fold_h_atp_tub_seed1_model_0"
          ],
          [
           "fold_h_atp_tub_seed1_model_0"
          ]
         ],
         "hovertemplate": "Interacting Chain=alpha-tubulin<br>Residue (Number and Identity)=%{x}<br>Distance (angstroms)=%{y}<br>interacting_atom=%{text}<br>file=%{customdata[0]}<extra></extra>",
         "legendgroup": "alpha-tubulin",
         "marker": {
          "color": "#00cc96",
          "opacity": 0.6,
          "size": 10,
          "symbol": "circle"
         },
         "mode": "markers+text",
         "name": "alpha-tubulin",
         "orientation": "v",
         "showlegend": true,
         "text": [
          "OE1",
          "OE1",
          "O",
          "O",
          "CG1",
          "CG1",
          "OE2",
          "CG",
          "OE1",
          "OE1"
         ],
         "textposition": "top center",
         "type": "scatter",
         "x": [
          "238S",
          "240K",
          "241I",
          "255K",
          "258N",
          "259K",
          "262S",
          "266N",
          "314A",
          "321R"
         ],
         "xaxis": "x",
         "y": [
          2.8748793601989746,
          2.4869065284729004,
          2.9714810848236084,
          3.2021288871765137,
          3.430851459503174,
          3.369836807250977,
          2.512510299682617,
          3.2866287231445312,
          3.040358543395996,
          2.6851649284362793
         ],
         "yaxis": "y"
        },
        {
         "customdata": [
          [
           "fold_h_atp_tub_seed1_model_0"
          ],
          [
           "fold_h_atp_tub_seed1_model_0"
          ],
          [
           "fold_h_atp_tub_seed1_model_0"
          ],
          [
           "fold_h_atp_tub_seed1_model_0"
          ],
          [
           "fold_h_atp_tub_seed1_model_0"
          ],
          [
           "fold_h_atp_tub_seed1_model_0"
          ],
          [
           "fold_h_atp_tub_seed1_model_0"
          ],
          [
           "fold_h_atp_tub_seed1_model_0"
          ],
          [
           "fold_h_atp_tub_seed1_model_0"
          ],
          [
           "fold_h_atp_tub_seed1_model_0"
          ],
          [
           "fold_h_atp_tub_seed1_model_0"
          ],
          [
           "fold_h_atp_tub_seed1_model_0"
          ],
          [
           "fold_h_atp_tub_seed1_model_0"
          ],
          [
           "fold_h_atp_tub_seed1_model_0"
          ],
          [
           "fold_h_atp_tub_seed1_model_0"
          ],
          [
           "fold_h_atp_tub_seed1_model_0"
          ],
          [
           "fold_h_atp_tub_seed1_model_0"
          ],
          [
           "fold_h_atp_tub_seed1_model_0"
          ],
          [
           "fold_h_atp_tub_seed1_model_0"
          ],
          [
           "fold_h_atp_tub_seed1_model_0"
          ],
          [
           "fold_h_atp_tub_seed1_model_0"
          ],
          [
           "fold_h_atp_tub_seed1_model_0"
          ],
          [
           "fold_h_atp_tub_seed1_model_0"
          ],
          [
           "fold_h_atp_tub_seed1_model_0"
          ],
          [
           "fold_h_atp_tub_seed1_model_0"
          ],
          [
           "fold_h_atp_tub_seed1_model_0"
          ],
          [
           "fold_h_atp_tub_seed1_model_0"
          ],
          [
           "fold_h_atp_tub_seed1_model_0"
          ],
          [
           "fold_h_atp_tub_seed1_model_0"
          ],
          [
           "fold_h_atp_tub_seed1_model_0"
          ],
          [
           "fold_h_atp_tub_seed1_model_0"
          ],
          [
           "fold_h_atp_tub_seed1_model_0"
          ],
          [
           "fold_h_atp_tub_seed1_model_0"
          ],
          [
           "fold_h_atp_tub_seed1_model_0"
          ],
          [
           "fold_h_atp_tub_seed1_model_0"
          ],
          [
           "fold_h_atp_tub_seed1_model_0"
          ],
          [
           "fold_h_atp_tub_seed1_model_0"
          ],
          [
           "fold_h_atp_tub_seed1_model_0"
          ],
          [
           "fold_h_atp_tub_seed1_model_0"
          ],
          [
           "fold_h_atp_tub_seed1_model_0"
          ],
          [
           "fold_h_atp_tub_seed1_model_0"
          ],
          [
           "fold_h_atp_tub_seed1_model_0"
          ],
          [
           "fold_h_atp_tub_seed1_model_0"
          ],
          [
           "fold_h_atp_tub_seed1_model_0"
          ],
          [
           "fold_h_atp_tub_seed1_model_0"
          ],
          [
           "fold_h_atp_tub_seed1_model_0"
          ],
          [
           "fold_h_atp_tub_seed1_model_0"
          ],
          [
           "fold_h_atp_tub_seed1_model_0"
          ],
          [
           "fold_h_atp_tub_seed1_model_0"
          ],
          [
           "fold_h_atp_tub_seed1_model_0"
          ],
          [
           "fold_h_atp_tub_seed1_model_0"
          ],
          [
           "fold_h_atp_tub_seed1_model_0"
          ],
          [
           "fold_h_atp_tub_seed1_model_0"
          ],
          [
           "fold_h_atp_tub_seed1_model_0"
          ],
          [
           "fold_h_atp_tub_seed1_model_0"
          ],
          [
           "fold_h_atp_tub_seed1_model_0"
          ],
          [
           "fold_h_atp_tub_seed1_model_0"
          ],
          [
           "fold_h_atp_tub_seed1_model_0"
          ],
          [
           "fold_h_atp_tub_seed1_model_0"
          ],
          [
           "fold_h_atp_tub_seed1_model_0"
          ],
          [
           "fold_h_atp_tub_seed1_model_0"
          ],
          [
           "fold_h_atp_tub_seed1_model_0"
          ],
          [
           "fold_h_atp_tub_seed1_model_0"
          ],
          [
           "fold_h_atp_tub_seed1_model_0"
          ],
          [
           "fold_h_atp_tub_seed1_model_0"
          ],
          [
           "fold_h_atp_tub_seed1_model_0"
          ],
          [
           "fold_h_atp_tub_seed1_model_0"
          ],
          [
           "fold_h_atp_tub_seed1_model_0"
          ]
         ],
         "hovertemplate": "Interacting Chain=kinesin B<br>Residue (Number and Identity)=%{x}<br>Distance (angstroms)=%{y}<br>interacting_atom=%{text}<br>file=%{customdata[0]}<extra></extra>",
         "legendgroup": "kinesin B",
         "marker": {
          "color": "#ab63fa",
          "opacity": 0.6,
          "size": 10,
          "symbol": "circle"
         },
         "mode": "markers+text",
         "name": "kinesin B",
         "orientation": "v",
         "showlegend": true,
         "text": [
          "CD1",
          "O",
          "NZ",
          "CD1",
          "OE1",
          "CG2",
          "CG1",
          "O",
          "NZ",
          "NZ",
          "CD2",
          "CB",
          "CG1",
          "CD2",
          "CG",
          "CE2",
          "O",
          "OE2",
          "CG2",
          "OD2",
          "CG2",
          "CG1",
          "OE1",
          "SG",
          "CG",
          "NZ",
          "CD1",
          "CD1",
          "OE1",
          "NZ",
          "NZ",
          "OE2",
          "CD1",
          "OE1",
          "O",
          "NE2",
          "NZ",
          "OD2",
          "NZ",
          "CD1",
          "CD1",
          "CD2",
          "CB",
          "CD1",
          "CE2",
          "O",
          "OG",
          "OD1",
          "OD1",
          "CD2",
          "CD1",
          "O",
          "OG",
          "OE1",
          "O",
          "CG1",
          "OD1",
          "CD2",
          "NZ",
          "OD1",
          "CG2",
          "OE1",
          "CD1",
          "CD1",
          "O",
          "CD2",
          "CD1",
          "NH1"
         ],
         "textposition": "top center",
         "type": "scatter",
         "x": [
          "341A",
          "344L",
          "354E",
          "358L",
          "359K",
          "361Y",
          "362I",
          "365L",
          "366E",
          "367T",
          "368V",
          "369S",
          "370G",
          "371V",
          "372T",
          "373V",
          "374S",
          "375N",
          "376L",
          "444T",
          "448D",
          "452I",
          "458K",
          "459C",
          "462L",
          "463E",
          "465Q",
          "466L",
          "469K",
          "470E",
          "472E",
          "473K",
          "476I",
          "480L",
          "483Q",
          "484Q",
          "487I",
          "490K",
          "491D",
          "493E",
          "497L",
          "501I",
          "504S",
          "508N",
          "510L",
          "511Y",
          "514S",
          "518N",
          "521L",
          "522N",
          "531A",
          "532L",
          "535S",
          "539A",
          "542Q",
          "546I",
          "549L",
          "550N",
          "552E",
          "553N",
          "556I",
          "557K",
          "560L",
          "563L",
          "566R",
          "567I",
          "575I",
          "578L"
         ],
         "xaxis": "x",
         "y": [
          3.2464489936828613,
          3.1811676025390625,
          2.7876062393188477,
          3.2889037132263184,
          2.5041942596435547,
          2.093987464904785,
          3.2933621406555176,
          2.98205304145813,
          1.9849523305892944,
          3.1734635829925537,
          2.9161553382873535,
          3.067169666290283,
          2.5092685222625732,
          2.9051871299743652,
          1.6073085069656372,
          3.0889830589294434,
          2.8501088619232178,
          2.283984899520874,
          2.154186248779297,
          2.297034502029419,
          2.346658706665039,
          3.4562010765075684,
          2.8986783027648926,
          2.8299708366394043,
          3.3915581703186035,
          2.7778964042663574,
          3.1131224632263184,
          2.956859350204468,
          2.776623487472534,
          2.828545570373535,
          2.6627914905548096,
          2.6028313636779785,
          3.171013355255127,
          3.079900026321411,
          3.0414021015167236,
          3.325914144515991,
          2.9861788749694824,
          2.5752620697021484,
          2.5212717056274414,
          3.44839859008789,
          2.8906216621398926,
          2.934314727783203,
          3.16332745552063,
          3.387312412261963,
          3.43734073638916,
          3.3862593173980713,
          2.796589612960815,
          2.172536611557007,
          3.0911104679107666,
          3.23193883895874,
          3.3904988765716553,
          3.4057912826538086,
          2.8518059253692627,
          2.714545488357544,
          2.726140260696411,
          3.331946849822998,
          3.074075937271118,
          3.1508708000183105,
          2.7956008911132812,
          2.272268533706665,
          3.241206169128418,
          2.6881024837493896,
          3.3551764488220215,
          3.2912817001342773,
          3.1702568531036377,
          3.3359241485595703,
          3.169877767562866,
          3.2285566329956055
         ],
         "yaxis": "y"
        }
       ],
       "layout": {
        "legend": {
         "title": {
          "text": "Interacting Chain"
         },
         "tracegroupgap": 0
        },
        "template": {
         "data": {
          "bar": [
           {
            "error_x": {
             "color": "#2a3f5f"
            },
            "error_y": {
             "color": "#2a3f5f"
            },
            "marker": {
             "line": {
              "color": "#E5ECF6",
              "width": 0.5
             },
             "pattern": {
              "fillmode": "overlay",
              "size": 10,
              "solidity": 0.2
             }
            },
            "type": "bar"
           }
          ],
          "barpolar": [
           {
            "marker": {
             "line": {
              "color": "#E5ECF6",
              "width": 0.5
             },
             "pattern": {
              "fillmode": "overlay",
              "size": 10,
              "solidity": 0.2
             }
            },
            "type": "barpolar"
           }
          ],
          "carpet": [
           {
            "aaxis": {
             "endlinecolor": "#2a3f5f",
             "gridcolor": "white",
             "linecolor": "white",
             "minorgridcolor": "white",
             "startlinecolor": "#2a3f5f"
            },
            "baxis": {
             "endlinecolor": "#2a3f5f",
             "gridcolor": "white",
             "linecolor": "white",
             "minorgridcolor": "white",
             "startlinecolor": "#2a3f5f"
            },
            "type": "carpet"
           }
          ],
          "choropleth": [
           {
            "colorbar": {
             "outlinewidth": 0,
             "ticks": ""
            },
            "type": "choropleth"
           }
          ],
          "contour": [
           {
            "colorbar": {
             "outlinewidth": 0,
             "ticks": ""
            },
            "colorscale": [
             [
              0,
              "#0d0887"
             ],
             [
              0.1111111111111111,
              "#46039f"
             ],
             [
              0.2222222222222222,
              "#7201a8"
             ],
             [
              0.3333333333333333,
              "#9c179e"
             ],
             [
              0.4444444444444444,
              "#bd3786"
             ],
             [
              0.5555555555555556,
              "#d8576b"
             ],
             [
              0.6666666666666666,
              "#ed7953"
             ],
             [
              0.7777777777777778,
              "#fb9f3a"
             ],
             [
              0.8888888888888888,
              "#fdca26"
             ],
             [
              1,
              "#f0f921"
             ]
            ],
            "type": "contour"
           }
          ],
          "contourcarpet": [
           {
            "colorbar": {
             "outlinewidth": 0,
             "ticks": ""
            },
            "type": "contourcarpet"
           }
          ],
          "heatmap": [
           {
            "colorbar": {
             "outlinewidth": 0,
             "ticks": ""
            },
            "colorscale": [
             [
              0,
              "#0d0887"
             ],
             [
              0.1111111111111111,
              "#46039f"
             ],
             [
              0.2222222222222222,
              "#7201a8"
             ],
             [
              0.3333333333333333,
              "#9c179e"
             ],
             [
              0.4444444444444444,
              "#bd3786"
             ],
             [
              0.5555555555555556,
              "#d8576b"
             ],
             [
              0.6666666666666666,
              "#ed7953"
             ],
             [
              0.7777777777777778,
              "#fb9f3a"
             ],
             [
              0.8888888888888888,
              "#fdca26"
             ],
             [
              1,
              "#f0f921"
             ]
            ],
            "type": "heatmap"
           }
          ],
          "heatmapgl": [
           {
            "colorbar": {
             "outlinewidth": 0,
             "ticks": ""
            },
            "colorscale": [
             [
              0,
              "#0d0887"
             ],
             [
              0.1111111111111111,
              "#46039f"
             ],
             [
              0.2222222222222222,
              "#7201a8"
             ],
             [
              0.3333333333333333,
              "#9c179e"
             ],
             [
              0.4444444444444444,
              "#bd3786"
             ],
             [
              0.5555555555555556,
              "#d8576b"
             ],
             [
              0.6666666666666666,
              "#ed7953"
             ],
             [
              0.7777777777777778,
              "#fb9f3a"
             ],
             [
              0.8888888888888888,
              "#fdca26"
             ],
             [
              1,
              "#f0f921"
             ]
            ],
            "type": "heatmapgl"
           }
          ],
          "histogram": [
           {
            "marker": {
             "pattern": {
              "fillmode": "overlay",
              "size": 10,
              "solidity": 0.2
             }
            },
            "type": "histogram"
           }
          ],
          "histogram2d": [
           {
            "colorbar": {
             "outlinewidth": 0,
             "ticks": ""
            },
            "colorscale": [
             [
              0,
              "#0d0887"
             ],
             [
              0.1111111111111111,
              "#46039f"
             ],
             [
              0.2222222222222222,
              "#7201a8"
             ],
             [
              0.3333333333333333,
              "#9c179e"
             ],
             [
              0.4444444444444444,
              "#bd3786"
             ],
             [
              0.5555555555555556,
              "#d8576b"
             ],
             [
              0.6666666666666666,
              "#ed7953"
             ],
             [
              0.7777777777777778,
              "#fb9f3a"
             ],
             [
              0.8888888888888888,
              "#fdca26"
             ],
             [
              1,
              "#f0f921"
             ]
            ],
            "type": "histogram2d"
           }
          ],
          "histogram2dcontour": [
           {
            "colorbar": {
             "outlinewidth": 0,
             "ticks": ""
            },
            "colorscale": [
             [
              0,
              "#0d0887"
             ],
             [
              0.1111111111111111,
              "#46039f"
             ],
             [
              0.2222222222222222,
              "#7201a8"
             ],
             [
              0.3333333333333333,
              "#9c179e"
             ],
             [
              0.4444444444444444,
              "#bd3786"
             ],
             [
              0.5555555555555556,
              "#d8576b"
             ],
             [
              0.6666666666666666,
              "#ed7953"
             ],
             [
              0.7777777777777778,
              "#fb9f3a"
             ],
             [
              0.8888888888888888,
              "#fdca26"
             ],
             [
              1,
              "#f0f921"
             ]
            ],
            "type": "histogram2dcontour"
           }
          ],
          "mesh3d": [
           {
            "colorbar": {
             "outlinewidth": 0,
             "ticks": ""
            },
            "type": "mesh3d"
           }
          ],
          "parcoords": [
           {
            "line": {
             "colorbar": {
              "outlinewidth": 0,
              "ticks": ""
             }
            },
            "type": "parcoords"
           }
          ],
          "pie": [
           {
            "automargin": true,
            "type": "pie"
           }
          ],
          "scatter": [
           {
            "fillpattern": {
             "fillmode": "overlay",
             "size": 10,
             "solidity": 0.2
            },
            "type": "scatter"
           }
          ],
          "scatter3d": [
           {
            "line": {
             "colorbar": {
              "outlinewidth": 0,
              "ticks": ""
             }
            },
            "marker": {
             "colorbar": {
              "outlinewidth": 0,
              "ticks": ""
             }
            },
            "type": "scatter3d"
           }
          ],
          "scattercarpet": [
           {
            "marker": {
             "colorbar": {
              "outlinewidth": 0,
              "ticks": ""
             }
            },
            "type": "scattercarpet"
           }
          ],
          "scattergeo": [
           {
            "marker": {
             "colorbar": {
              "outlinewidth": 0,
              "ticks": ""
             }
            },
            "type": "scattergeo"
           }
          ],
          "scattergl": [
           {
            "marker": {
             "colorbar": {
              "outlinewidth": 0,
              "ticks": ""
             }
            },
            "type": "scattergl"
           }
          ],
          "scattermapbox": [
           {
            "marker": {
             "colorbar": {
              "outlinewidth": 0,
              "ticks": ""
             }
            },
            "type": "scattermapbox"
           }
          ],
          "scatterpolar": [
           {
            "marker": {
             "colorbar": {
              "outlinewidth": 0,
              "ticks": ""
             }
            },
            "type": "scatterpolar"
           }
          ],
          "scatterpolargl": [
           {
            "marker": {
             "colorbar": {
              "outlinewidth": 0,
              "ticks": ""
             }
            },
            "type": "scatterpolargl"
           }
          ],
          "scatterternary": [
           {
            "marker": {
             "colorbar": {
              "outlinewidth": 0,
              "ticks": ""
             }
            },
            "type": "scatterternary"
           }
          ],
          "surface": [
           {
            "colorbar": {
             "outlinewidth": 0,
             "ticks": ""
            },
            "colorscale": [
             [
              0,
              "#0d0887"
             ],
             [
              0.1111111111111111,
              "#46039f"
             ],
             [
              0.2222222222222222,
              "#7201a8"
             ],
             [
              0.3333333333333333,
              "#9c179e"
             ],
             [
              0.4444444444444444,
              "#bd3786"
             ],
             [
              0.5555555555555556,
              "#d8576b"
             ],
             [
              0.6666666666666666,
              "#ed7953"
             ],
             [
              0.7777777777777778,
              "#fb9f3a"
             ],
             [
              0.8888888888888888,
              "#fdca26"
             ],
             [
              1,
              "#f0f921"
             ]
            ],
            "type": "surface"
           }
          ],
          "table": [
           {
            "cells": {
             "fill": {
              "color": "#EBF0F8"
             },
             "line": {
              "color": "white"
             }
            },
            "header": {
             "fill": {
              "color": "#C8D4E3"
             },
             "line": {
              "color": "white"
             }
            },
            "type": "table"
           }
          ]
         },
         "layout": {
          "annotationdefaults": {
           "arrowcolor": "#2a3f5f",
           "arrowhead": 0,
           "arrowwidth": 1
          },
          "autotypenumbers": "strict",
          "coloraxis": {
           "colorbar": {
            "outlinewidth": 0,
            "ticks": ""
           }
          },
          "colorscale": {
           "diverging": [
            [
             0,
             "#8e0152"
            ],
            [
             0.1,
             "#c51b7d"
            ],
            [
             0.2,
             "#de77ae"
            ],
            [
             0.3,
             "#f1b6da"
            ],
            [
             0.4,
             "#fde0ef"
            ],
            [
             0.5,
             "#f7f7f7"
            ],
            [
             0.6,
             "#e6f5d0"
            ],
            [
             0.7,
             "#b8e186"
            ],
            [
             0.8,
             "#7fbc41"
            ],
            [
             0.9,
             "#4d9221"
            ],
            [
             1,
             "#276419"
            ]
           ],
           "sequential": [
            [
             0,
             "#0d0887"
            ],
            [
             0.1111111111111111,
             "#46039f"
            ],
            [
             0.2222222222222222,
             "#7201a8"
            ],
            [
             0.3333333333333333,
             "#9c179e"
            ],
            [
             0.4444444444444444,
             "#bd3786"
            ],
            [
             0.5555555555555556,
             "#d8576b"
            ],
            [
             0.6666666666666666,
             "#ed7953"
            ],
            [
             0.7777777777777778,
             "#fb9f3a"
            ],
            [
             0.8888888888888888,
             "#fdca26"
            ],
            [
             1,
             "#f0f921"
            ]
           ],
           "sequentialminus": [
            [
             0,
             "#0d0887"
            ],
            [
             0.1111111111111111,
             "#46039f"
            ],
            [
             0.2222222222222222,
             "#7201a8"
            ],
            [
             0.3333333333333333,
             "#9c179e"
            ],
            [
             0.4444444444444444,
             "#bd3786"
            ],
            [
             0.5555555555555556,
             "#d8576b"
            ],
            [
             0.6666666666666666,
             "#ed7953"
            ],
            [
             0.7777777777777778,
             "#fb9f3a"
            ],
            [
             0.8888888888888888,
             "#fdca26"
            ],
            [
             1,
             "#f0f921"
            ]
           ]
          },
          "colorway": [
           "#636efa",
           "#EF553B",
           "#00cc96",
           "#ab63fa",
           "#FFA15A",
           "#19d3f3",
           "#FF6692",
           "#B6E880",
           "#FF97FF",
           "#FECB52"
          ],
          "font": {
           "color": "#2a3f5f"
          },
          "geo": {
           "bgcolor": "white",
           "lakecolor": "white",
           "landcolor": "#E5ECF6",
           "showlakes": true,
           "showland": true,
           "subunitcolor": "white"
          },
          "hoverlabel": {
           "align": "left"
          },
          "hovermode": "closest",
          "mapbox": {
           "style": "light"
          },
          "paper_bgcolor": "white",
          "plot_bgcolor": "#E5ECF6",
          "polar": {
           "angularaxis": {
            "gridcolor": "white",
            "linecolor": "white",
            "ticks": ""
           },
           "bgcolor": "#E5ECF6",
           "radialaxis": {
            "gridcolor": "white",
            "linecolor": "white",
            "ticks": ""
           }
          },
          "scene": {
           "xaxis": {
            "backgroundcolor": "#E5ECF6",
            "gridcolor": "white",
            "gridwidth": 2,
            "linecolor": "white",
            "showbackground": true,
            "ticks": "",
            "zerolinecolor": "white"
           },
           "yaxis": {
            "backgroundcolor": "#E5ECF6",
            "gridcolor": "white",
            "gridwidth": 2,
            "linecolor": "white",
            "showbackground": true,
            "ticks": "",
            "zerolinecolor": "white"
           },
           "zaxis": {
            "backgroundcolor": "#E5ECF6",
            "gridcolor": "white",
            "gridwidth": 2,
            "linecolor": "white",
            "showbackground": true,
            "ticks": "",
            "zerolinecolor": "white"
           }
          },
          "shapedefaults": {
           "line": {
            "color": "#2a3f5f"
           }
          },
          "ternary": {
           "aaxis": {
            "gridcolor": "white",
            "linecolor": "white",
            "ticks": ""
           },
           "baxis": {
            "gridcolor": "white",
            "linecolor": "white",
            "ticks": ""
           },
           "bgcolor": "#E5ECF6",
           "caxis": {
            "gridcolor": "white",
            "linecolor": "white",
            "ticks": ""
           }
          },
          "title": {
           "x": 0.05
          },
          "xaxis": {
           "automargin": true,
           "gridcolor": "white",
           "linecolor": "white",
           "ticks": "",
           "title": {
            "standoff": 15
           },
           "zerolinecolor": "white",
           "zerolinewidth": 2
          },
          "yaxis": {
           "automargin": true,
           "gridcolor": "white",
           "linecolor": "white",
           "ticks": "",
           "title": {
            "standoff": 15
           },
           "zerolinecolor": "white",
           "zerolinewidth": 2
          }
         }
        },
        "title": {
         "text": "Interaction Distances by Residue and Interacting Chain"
        },
        "xaxis": {
         "anchor": "y",
         "categoryarray": [
          "87T",
          "88G",
          "89S",
          "90G",
          "91K",
          "92T",
          "93F",
          "144R",
          "157K",
          "158V",
          "159R",
          "160E",
          "201N",
          "204S",
          "205S",
          "237G",
          "238S",
          "240K",
          "241I",
          "255K",
          "258N",
          "259K",
          "262S",
          "266N",
          "275K",
          "277T",
          "278H",
          "282R",
          "283D",
          "285K",
          "314A",
          "321R",
          "341A",
          "344L",
          "354E",
          "358L",
          "359K",
          "361Y",
          "362I",
          "365L",
          "366E",
          "367T",
          "368V",
          "369S",
          "370G",
          "371V",
          "372T",
          "373V",
          "374S",
          "375N",
          "376L",
          "444T",
          "448D",
          "452I",
          "458K",
          "459C",
          "462L",
          "463E",
          "465Q",
          "466L",
          "469K",
          "470E",
          "472E",
          "473K",
          "476I",
          "480L",
          "483Q",
          "484Q",
          "487I",
          "490K",
          "491D",
          "493E",
          "494I",
          "497L",
          "498N",
          "501I",
          "504S",
          "505N",
          "508N",
          "509S",
          "510L",
          "511Y",
          "512Q",
          "514S",
          "518N",
          "521L",
          "522N",
          "531A",
          "532L",
          "535S",
          "539A",
          "542Q",
          "546I",
          "549L",
          "550N",
          "552E",
          "553N",
          "556I",
          "557K",
          "560L",
          "563L",
          "566R",
          "567I",
          "575I",
          "578L"
         ],
         "categoryorder": "array",
         "domain": [
          0,
          1
         ],
         "title": {
          "text": "Residue (Number and Identity)"
         }
        },
        "yaxis": {
         "anchor": "x",
         "domain": [
          0,
          1
         ],
         "title": {
          "text": "Distance (angstroms)"
         }
        }
       }
      }
     },
     "metadata": {},
     "output_type": "display_data"
    }
   ],
   "source": [
    "import pandas as pd\n",
    "import plotly.express as px\n",
    "\n",
    "# Define the path to the CSV file\n",
    "csv_file_path = \"/Users/jazzeruncal/git/Jazzer_surf/3d_predictions/same_seed/Seed_1/interactions_all_files.csv\"\n",
    "\n",
    "# Read the CSV file into a DataFrame\n",
    "df = pd.read_csv(csv_file_path)\n",
    "\n",
    "# Filter to get the shortest distances for each interaction\n",
    "df = df.loc[df[df['chain'] == 'A'].groupby(['file', 'resi', 'interacting_chain'])['distance (angstroms)'].idxmin()]\n",
    "\n",
    "# Exclude interactions with Mg and chain letters A, G, H\n",
    "df = df[(df['interacting_resn'] != 'MG') & (~df['interacting_chain'].isin(['A', 'G', 'H']))].reset_index(drop=True)\n",
    "\n",
    "# Map interacting_resn to single-letter codes for better readability\n",
    "aa_dict = {\n",
    "    'ALA': 'A', 'ARG': 'R', 'ASN': 'N', 'ASP': 'D', 'CYS': 'C', 'GLN': 'Q', 'GLU': 'E', 'GLY': 'G',\n",
    "    'HIS': 'H', 'ILE': 'I', 'LEU': 'L', 'LYS': 'K', 'MET': 'M', 'PHE': 'F', 'PRO': 'P', 'SER': 'S',\n",
    "    'THR': 'T', 'TRP': 'W', 'TYR': 'Y', 'VAL': 'V'\n",
    "}\n",
    "df['residue_one_letter'] = df['resn'].map(aa_dict)\n",
    "df['residue'] = df['resi'].astype(str) + df['residue_one_letter']\n",
    "\n",
    "# Replace chain letters with descriptive names\n",
    "chain_map = {\n",
    "    'B': 'kinesin B',\n",
    "    'C': 'alpha-tubulin',\n",
    "    'D': 'beta-tubulin',\n",
    "    'E': 'ATP',\n",
    "    'F': 'ATP'\n",
    "}\n",
    "df['interacting_chain'] = df['interacting_chain'].map(chain_map)\n",
    "\n",
    "# Filter to specific files\n",
    "df = df.loc[df['file'].isin([\n",
    "    'fold_h_atp_tub_seed1_model_0', \n",
    "\n",
    "    ])]\n",
    "\n",
    "# Group by file and interacting chain, keeping residues in order\n",
    "grouped = df.groupby(['file', 'interacting_chain'])\n",
    "\n",
    "# Create a list to store the output rows\n",
    "output_rows = []\n",
    "\n",
    "# Iterate over each group and extract information\n",
    "for (file, chain), group in grouped:\n",
    "    for _, row in group.iterrows():\n",
    "        output_rows.append({\n",
    "            'file': file,\n",
    "            'interacting_chain': chain,\n",
    "            'interacting_atom': row['interacting_atom'],\n",
    "            'residue_number': row['resi'],\n",
    "            'amino_acid': row['residue_one_letter'],\n",
    "            'distance (angstroms)': row['distance (angstroms)'],\n",
    "        })\n",
    "\n",
    "# Convert the list to a DataFrame\n",
    "interaction_df = pd.DataFrame(output_rows)\n",
    "\n",
    "# Display the resulting DataFrame\n",
    "interaction_df\n",
    "\n",
    "interaction_df.to_csv(\"interaction_summary.csv\", index=False)\n",
    "\n",
    "\n",
    "\n",
    "# Load the data\n",
    "csv_file_path = \"interaction_summary.csv\"\n",
    "interaction_df = pd.read_csv(csv_file_path)\n",
    "\n",
    "# Create a new column for the x-axis labels by concatenating residue number and amino acid\n",
    "interaction_df['residue_label'] = interaction_df['residue_number'].astype(str) + interaction_df['amino_acid']\n",
    "\n",
    "# Sort the dataframe by file and residue number to maintain order\n",
    "interaction_df = interaction_df.sort_values(by=['file', 'residue_number'])\n",
    "\n",
    "# Convert residue_label to a categorical type with the correct order\n",
    "interaction_df['residue_label'] = pd.Categorical(interaction_df['residue_label'], \n",
    "                                                 categories=sorted(interaction_df['residue_label'].unique(), key=lambda x: int(''.join(filter(str.isdigit, x)))), \n",
    "                                                 ordered=True)\n",
    "\n",
    "# Scatter plot for interaction distances with custom x-axis labels\n",
    "fig_scatter = px.scatter(interaction_df, x='residue_label', y='distance (angstroms)', color='interacting_chain', text='interacting_atom',\n",
    "                         title='Interaction Distances by Residue and Interacting Chain',\n",
    "                         labels={'residue_label': 'Residue (Number and Identity)', 'distance (angstroms)': 'Distance (angstroms)', 'interacting_chain': 'Interacting Chain'},\n",
    "                         hover_data=['file'])\n",
    "\n",
    "fig_scatter.update_traces(textposition='top center', marker=dict(size=10, opacity=0.6))\n",
    "fig_scatter.update_layout(xaxis={'categoryorder':'array', 'categoryarray': interaction_df['residue_label'].cat.categories})\n",
    "\n",
    "# Show the plot\n",
    "fig_scatter.show()\n",
    "\n"
   ]
  },
  {
   "cell_type": "markdown",
   "metadata": {},
   "source": [
    "E"
   ]
  },
  {
   "cell_type": "code",
   "execution_count": 39,
   "metadata": {},
   "outputs": [
    {
     "data": {
      "application/vnd.plotly.v1+json": {
       "config": {
        "plotlyServerURL": "https://plot.ly"
       },
       "data": [
        {
         "customdata": [
          [
           "fold_e_atp_tub_seed1_model_0"
          ],
          [
           "fold_e_atp_tub_seed1_model_0"
          ],
          [
           "fold_e_atp_tub_seed1_model_0"
          ],
          [
           "fold_e_atp_tub_seed1_model_0"
          ],
          [
           "fold_e_atp_tub_seed1_model_0"
          ],
          [
           "fold_e_atp_tub_seed1_model_0"
          ],
          [
           "fold_e_atp_tub_seed1_model_0"
          ],
          [
           "fold_e_atp_tub_seed1_model_0"
          ],
          [
           "fold_e_atp_tub_seed1_model_0"
          ],
          [
           "fold_e_atp_tub_seed1_model_0"
          ],
          [
           "fold_e_atp_tub_seed1_model_0"
          ],
          [
           "fold_e_atp_tub_seed1_model_0"
          ],
          [
           "fold_e_atp_tub_seed1_model_0"
          ],
          [
           "fold_e_atp_tub_seed1_model_0"
          ],
          [
           "fold_e_atp_tub_seed1_model_0"
          ],
          [
           "fold_e_atp_tub_seed1_model_0"
          ],
          [
           "fold_e_atp_tub_seed1_model_0"
          ],
          [
           "fold_e_atp_tub_seed1_model_0"
          ],
          [
           "fold_e_atp_tub_seed1_model_0"
          ],
          [
           "fold_e_atp_tub_seed1_model_0"
          ]
         ],
         "hovertemplate": "Interacting Chain=beta-tubulin<br>Residue (Number and Identity)=%{x}<br>Distance (angstroms)=%{y}<br>interacting_atom=%{text}<br>file=%{customdata[0]}<extra></extra>",
         "legendgroup": "beta-tubulin",
         "marker": {
          "color": "#636efa",
          "opacity": 0.6,
          "size": 10,
          "symbol": "circle"
         },
         "mode": "markers+text",
         "name": "beta-tubulin",
         "orientation": "v",
         "showlegend": true,
         "text": [
          "OE2",
          "CG",
          "OE1",
          "OE2",
          "OE1",
          "CE",
          "OE1",
          "OE1",
          "OD2",
          "CD",
          "OE2",
          "OE1",
          "NE2",
          "OD2",
          "O",
          "CG",
          "OD1",
          "O",
          "NZ",
          "CE"
         ],
         "textposition": "top center",
         "type": "scatter",
         "x": [
          "51K",
          "148K",
          "159N",
          "163H",
          "164E",
          "165D",
          "280K",
          "282H",
          "286R",
          "287D",
          "328R",
          "526N",
          "530S",
          "533K",
          "534L",
          "537E",
          "538K",
          "541F",
          "545E",
          "548L"
         ],
         "xaxis": "x",
         "y": [
          3.184419631958008,
          2.799797296524048,
          3.105865240097046,
          2.8342108726501465,
          2.5280559062957764,
          3.1794562339782715,
          3.4978063106536865,
          2.862626314163208,
          2.5521509647369385,
          3.176405906677246,
          2.7109060287475586,
          2.630460023880005,
          2.8594658374786377,
          2.4675843715667725,
          2.908067464828491,
          2.2084157466888428,
          2.6332504749298096,
          3.27166748046875,
          2.722621440887451,
          3.199802875518799
         ],
         "yaxis": "y"
        },
        {
         "customdata": [
          [
           "fold_e_atp_tub_seed1_model_0"
          ],
          [
           "fold_e_atp_tub_seed1_model_0"
          ],
          [
           "fold_e_atp_tub_seed1_model_0"
          ],
          [
           "fold_e_atp_tub_seed1_model_0"
          ],
          [
           "fold_e_atp_tub_seed1_model_0"
          ],
          [
           "fold_e_atp_tub_seed1_model_0"
          ],
          [
           "fold_e_atp_tub_seed1_model_0"
          ],
          [
           "fold_e_atp_tub_seed1_model_0"
          ],
          [
           "fold_e_atp_tub_seed1_model_0"
          ],
          [
           "fold_e_atp_tub_seed1_model_0"
          ],
          [
           "fold_e_atp_tub_seed1_model_0"
          ]
         ],
         "hovertemplate": "Interacting Chain=ATP<br>Residue (Number and Identity)=%{x}<br>Distance (angstroms)=%{y}<br>interacting_atom=%{text}<br>file=%{customdata[0]}<extra></extra>",
         "legendgroup": "ATP",
         "marker": {
          "color": "#EF553B",
          "opacity": 0.6,
          "size": 10,
          "symbol": "circle"
         },
         "mode": "markers+text",
         "name": "ATP",
         "orientation": "v",
         "showlegend": true,
         "text": [
          "O2G",
          "O3B",
          "O1B",
          "O1B",
          "O1G",
          "O2B",
          "O1A",
          "O3B",
          "O2G",
          "O3G",
          "O1G"
         ],
         "textposition": "top center",
         "type": "scatter",
         "x": [
          "94T",
          "95S",
          "96S",
          "97G",
          "98K",
          "99T",
          "100H",
          "205N",
          "208S",
          "209S",
          "241G"
         ],
         "xaxis": "x",
         "y": [
          2.5287439823150635,
          2.865710973739624,
          3.3670592308044434,
          3.0916802883148193,
          2.8252956867218018,
          2.6309244632720947,
          2.8375065326690674,
          3.0233163833618164,
          2.9107367992401123,
          2.781641960144043,
          2.883500099182129
         ],
         "yaxis": "y"
        },
        {
         "customdata": [
          [
           "fold_e_atp_tub_seed1_model_0"
          ],
          [
           "fold_e_atp_tub_seed1_model_0"
          ],
          [
           "fold_e_atp_tub_seed1_model_0"
          ],
          [
           "fold_e_atp_tub_seed1_model_0"
          ],
          [
           "fold_e_atp_tub_seed1_model_0"
          ],
          [
           "fold_e_atp_tub_seed1_model_0"
          ],
          [
           "fold_e_atp_tub_seed1_model_0"
          ],
          [
           "fold_e_atp_tub_seed1_model_0"
          ],
          [
           "fold_e_atp_tub_seed1_model_0"
          ]
         ],
         "hovertemplate": "Interacting Chain=alpha-tubulin<br>Residue (Number and Identity)=%{x}<br>Distance (angstroms)=%{y}<br>interacting_atom=%{text}<br>file=%{customdata[0]}<extra></extra>",
         "legendgroup": "alpha-tubulin",
         "marker": {
          "color": "#00cc96",
          "opacity": 0.6,
          "size": 10,
          "symbol": "circle"
         },
         "mode": "markers+text",
         "name": "alpha-tubulin",
         "orientation": "v",
         "showlegend": true,
         "text": [
          "OE1",
          "OE2",
          "O",
          "NZ",
          "NZ",
          "O",
          "CG1",
          "CG1",
          "OE2"
         ],
         "textposition": "top center",
         "type": "scatter",
         "x": [
          "242S",
          "244K",
          "245V",
          "250A",
          "251E",
          "259K",
          "262N",
          "263K",
          "266S"
         ],
         "xaxis": "x",
         "y": [
          3.461801052093506,
          2.546417474746704,
          3.226733684539795,
          3.4412996768951416,
          3.075506687164306,
          3.2275352478027344,
          3.4368579387664795,
          3.3619537353515625,
          2.4706685543060303
         ],
         "yaxis": "y"
        },
        {
         "customdata": [
          [
           "fold_e_atp_tub_seed1_model_0"
          ],
          [
           "fold_e_atp_tub_seed1_model_0"
          ],
          [
           "fold_e_atp_tub_seed1_model_0"
          ],
          [
           "fold_e_atp_tub_seed1_model_0"
          ],
          [
           "fold_e_atp_tub_seed1_model_0"
          ],
          [
           "fold_e_atp_tub_seed1_model_0"
          ],
          [
           "fold_e_atp_tub_seed1_model_0"
          ],
          [
           "fold_e_atp_tub_seed1_model_0"
          ],
          [
           "fold_e_atp_tub_seed1_model_0"
          ],
          [
           "fold_e_atp_tub_seed1_model_0"
          ],
          [
           "fold_e_atp_tub_seed1_model_0"
          ],
          [
           "fold_e_atp_tub_seed1_model_0"
          ],
          [
           "fold_e_atp_tub_seed1_model_0"
          ],
          [
           "fold_e_atp_tub_seed1_model_0"
          ],
          [
           "fold_e_atp_tub_seed1_model_0"
          ],
          [
           "fold_e_atp_tub_seed1_model_0"
          ],
          [
           "fold_e_atp_tub_seed1_model_0"
          ],
          [
           "fold_e_atp_tub_seed1_model_0"
          ],
          [
           "fold_e_atp_tub_seed1_model_0"
          ],
          [
           "fold_e_atp_tub_seed1_model_0"
          ],
          [
           "fold_e_atp_tub_seed1_model_0"
          ],
          [
           "fold_e_atp_tub_seed1_model_0"
          ],
          [
           "fold_e_atp_tub_seed1_model_0"
          ],
          [
           "fold_e_atp_tub_seed1_model_0"
          ],
          [
           "fold_e_atp_tub_seed1_model_0"
          ],
          [
           "fold_e_atp_tub_seed1_model_0"
          ],
          [
           "fold_e_atp_tub_seed1_model_0"
          ],
          [
           "fold_e_atp_tub_seed1_model_0"
          ],
          [
           "fold_e_atp_tub_seed1_model_0"
          ],
          [
           "fold_e_atp_tub_seed1_model_0"
          ],
          [
           "fold_e_atp_tub_seed1_model_0"
          ],
          [
           "fold_e_atp_tub_seed1_model_0"
          ],
          [
           "fold_e_atp_tub_seed1_model_0"
          ],
          [
           "fold_e_atp_tub_seed1_model_0"
          ],
          [
           "fold_e_atp_tub_seed1_model_0"
          ],
          [
           "fold_e_atp_tub_seed1_model_0"
          ],
          [
           "fold_e_atp_tub_seed1_model_0"
          ],
          [
           "fold_e_atp_tub_seed1_model_0"
          ],
          [
           "fold_e_atp_tub_seed1_model_0"
          ],
          [
           "fold_e_atp_tub_seed1_model_0"
          ],
          [
           "fold_e_atp_tub_seed1_model_0"
          ],
          [
           "fold_e_atp_tub_seed1_model_0"
          ],
          [
           "fold_e_atp_tub_seed1_model_0"
          ],
          [
           "fold_e_atp_tub_seed1_model_0"
          ],
          [
           "fold_e_atp_tub_seed1_model_0"
          ],
          [
           "fold_e_atp_tub_seed1_model_0"
          ],
          [
           "fold_e_atp_tub_seed1_model_0"
          ],
          [
           "fold_e_atp_tub_seed1_model_0"
          ],
          [
           "fold_e_atp_tub_seed1_model_0"
          ],
          [
           "fold_e_atp_tub_seed1_model_0"
          ],
          [
           "fold_e_atp_tub_seed1_model_0"
          ],
          [
           "fold_e_atp_tub_seed1_model_0"
          ],
          [
           "fold_e_atp_tub_seed1_model_0"
          ],
          [
           "fold_e_atp_tub_seed1_model_0"
          ],
          [
           "fold_e_atp_tub_seed1_model_0"
          ],
          [
           "fold_e_atp_tub_seed1_model_0"
          ],
          [
           "fold_e_atp_tub_seed1_model_0"
          ],
          [
           "fold_e_atp_tub_seed1_model_0"
          ],
          [
           "fold_e_atp_tub_seed1_model_0"
          ],
          [
           "fold_e_atp_tub_seed1_model_0"
          ],
          [
           "fold_e_atp_tub_seed1_model_0"
          ],
          [
           "fold_e_atp_tub_seed1_model_0"
          ],
          [
           "fold_e_atp_tub_seed1_model_0"
          ],
          [
           "fold_e_atp_tub_seed1_model_0"
          ],
          [
           "fold_e_atp_tub_seed1_model_0"
          ],
          [
           "fold_e_atp_tub_seed1_model_0"
          ],
          [
           "fold_e_atp_tub_seed1_model_0"
          ],
          [
           "fold_e_atp_tub_seed1_model_0"
          ],
          [
           "fold_e_atp_tub_seed1_model_0"
          ],
          [
           "fold_e_atp_tub_seed1_model_0"
          ],
          [
           "fold_e_atp_tub_seed1_model_0"
          ],
          [
           "fold_e_atp_tub_seed1_model_0"
          ],
          [
           "fold_e_atp_tub_seed1_model_0"
          ],
          [
           "fold_e_atp_tub_seed1_model_0"
          ],
          [
           "fold_e_atp_tub_seed1_model_0"
          ],
          [
           "fold_e_atp_tub_seed1_model_0"
          ],
          [
           "fold_e_atp_tub_seed1_model_0"
          ],
          [
           "fold_e_atp_tub_seed1_model_0"
          ],
          [
           "fold_e_atp_tub_seed1_model_0"
          ],
          [
           "fold_e_atp_tub_seed1_model_0"
          ],
          [
           "fold_e_atp_tub_seed1_model_0"
          ],
          [
           "fold_e_atp_tub_seed1_model_0"
          ],
          [
           "fold_e_atp_tub_seed1_model_0"
          ],
          [
           "fold_e_atp_tub_seed1_model_0"
          ],
          [
           "fold_e_atp_tub_seed1_model_0"
          ],
          [
           "fold_e_atp_tub_seed1_model_0"
          ],
          [
           "fold_e_atp_tub_seed1_model_0"
          ]
         ],
         "hovertemplate": "Interacting Chain=kinesin B<br>Residue (Number and Identity)=%{x}<br>Distance (angstroms)=%{y}<br>interacting_atom=%{text}<br>file=%{customdata[0]}<extra></extra>",
         "legendgroup": "kinesin B",
         "marker": {
          "color": "#ab63fa",
          "opacity": 0.6,
          "size": 10,
          "symbol": "circle"
         },
         "mode": "markers+text",
         "name": "kinesin B",
         "orientation": "v",
         "showlegend": true,
         "text": [
          "CD2",
          "CB",
          "ND2",
          "NZ",
          "CD1",
          "OE1",
          "OE1",
          "CG1",
          "O",
          "OH",
          "CB",
          "CD2",
          "CD1",
          "CB",
          "C",
          "CE2",
          "ND2",
          "NZ",
          "CD2",
          "OD1",
          "OD2",
          "OD2",
          "CA",
          "CG1",
          "OE1",
          "SG",
          "CD1",
          "NZ",
          "CD1",
          "O",
          "OE1",
          "NZ",
          "NZ",
          "OE2",
          "NH2",
          "NH2",
          "CD1",
          "OE2",
          "O",
          "OE1",
          "O",
          "O",
          "NE2",
          "ND1",
          "CD1",
          "NZ",
          "CE",
          "OD2",
          "NZ",
          "OE2",
          "CD1",
          "CD2",
          "CD2",
          "CB",
          "OD1",
          "CD1",
          "CE2",
          "O",
          "OG",
          "OG",
          "OD1",
          "OD1",
          "OD1",
          "CD2",
          "CD1",
          "N",
          "CG",
          "CD2",
          "CD1",
          "O",
          "OG",
          "OG",
          "OE1",
          "O",
          "CG1",
          "OD1",
          "CD2",
          "NZ",
          "OD1",
          "OD1",
          "OE1",
          "CD1",
          "O",
          "CD2",
          "OD2",
          "CD1",
          "NH1"
         ],
         "textposition": "top center",
         "type": "scatter",
         "x": [
          "343R",
          "346A",
          "350I",
          "358E",
          "362L",
          "363K",
          "365Y",
          "366I",
          "369L",
          "370E",
          "373S",
          "375V",
          "410S",
          "412L",
          "414N",
          "417N",
          "419T",
          "442T",
          "444V",
          "447P",
          "448T",
          "449S",
          "452D",
          "455L",
          "462K",
          "463C",
          "466L",
          "467E",
          "469Q",
          "470L",
          "473K",
          "474E",
          "476E",
          "477K",
          "478K",
          "479E",
          "480I",
          "482E",
          "483Q",
          "484L",
          "486Q",
          "487Q",
          "488Q",
          "489E",
          "490Q",
          "491I",
          "493D",
          "494K",
          "495D",
          "498I",
          "501L",
          "502N",
          "505I",
          "508S",
          "511I",
          "512N",
          "514L",
          "515Y",
          "518S",
          "519T",
          "521E",
          "522N",
          "525L",
          "526N",
          "528Q",
          "529L",
          "532L",
          "533K",
          "535A",
          "536L",
          "539S",
          "540R",
          "543A",
          "546Q",
          "550I",
          "553L",
          "554N",
          "556E",
          "557N",
          "560I",
          "561K",
          "567L",
          "570R",
          "571I",
          "576D",
          "579I",
          "582L"
         ],
         "xaxis": "x",
         "y": [
          3.4465842247009277,
          2.8396999835968018,
          2.8876588344573975,
          2.8093278408050537,
          3.2901999950408936,
          2.733107089996338,
          3.0287373065948486,
          3.3174901008605957,
          3.0994670391082764,
          3.1663527488708496,
          3.301920175552368,
          3.102061033248902,
          2.769427537918091,
          2.677791118621826,
          1.9963030815124512,
          3.1703574657440186,
          3.464461326599121,
          3.318758964538574,
          2.7065441608428955,
          2.5183475017547607,
          2.9993491172790527,
          2.9479453563690186,
          2.41400408744812,
          2.279536247253418,
          2.956246852874756,
          3.069061517715454,
          3.3601837158203125,
          2.751376152038574,
          3.4237070083618164,
          3.160676956176758,
          2.329824686050415,
          2.135064601898194,
          2.602710247039795,
          2.494206666946411,
          1.655656099319458,
          2.555856943130493,
          2.7976651191711426,
          2.210639715194702,
          1.524584174156189,
          2.627446413040161,
          0.4641919434070587,
          2.7171730995178223,
          2.815976142883301,
          3.0130646228790283,
          3.2626805305480957,
          2.6778368949890137,
          2.550476551055908,
          2.349717140197754,
          2.5176098346710205,
          3.183561086654663,
          2.9373767375946045,
          2.9796030521392822,
          2.7538654804229736,
          2.8576104640960693,
          3.421818971633911,
          3.193009614944458,
          3.2460222244262695,
          3.2209901809692383,
          2.808562994003296,
          3.39302134513855,
          3.377073049545288,
          2.4978554248809814,
          2.8261241912841797,
          2.6191630363464355,
          3.477853298187256,
          3.194706439971924,
          3.493542194366455,
          3.4650471210479736,
          3.127368211746216,
          3.169499158859253,
          2.82503080368042,
          3.165741205215454,
          2.3739094734191895,
          2.4929895401000977,
          3.4231226444244385,
          3.122178077697754,
          3.1834709644317627,
          2.756591320037842,
          2.4945485591888428,
          3.317167282104492,
          2.750396490097046,
          3.2635066509246826,
          2.515754222869873,
          3.4375507831573486,
          3.370548963546753,
          2.2551543712615967,
          2.7249579429626465
         ],
         "yaxis": "y"
        }
       ],
       "layout": {
        "legend": {
         "title": {
          "text": "Interacting Chain"
         },
         "tracegroupgap": 0
        },
        "template": {
         "data": {
          "bar": [
           {
            "error_x": {
             "color": "#2a3f5f"
            },
            "error_y": {
             "color": "#2a3f5f"
            },
            "marker": {
             "line": {
              "color": "#E5ECF6",
              "width": 0.5
             },
             "pattern": {
              "fillmode": "overlay",
              "size": 10,
              "solidity": 0.2
             }
            },
            "type": "bar"
           }
          ],
          "barpolar": [
           {
            "marker": {
             "line": {
              "color": "#E5ECF6",
              "width": 0.5
             },
             "pattern": {
              "fillmode": "overlay",
              "size": 10,
              "solidity": 0.2
             }
            },
            "type": "barpolar"
           }
          ],
          "carpet": [
           {
            "aaxis": {
             "endlinecolor": "#2a3f5f",
             "gridcolor": "white",
             "linecolor": "white",
             "minorgridcolor": "white",
             "startlinecolor": "#2a3f5f"
            },
            "baxis": {
             "endlinecolor": "#2a3f5f",
             "gridcolor": "white",
             "linecolor": "white",
             "minorgridcolor": "white",
             "startlinecolor": "#2a3f5f"
            },
            "type": "carpet"
           }
          ],
          "choropleth": [
           {
            "colorbar": {
             "outlinewidth": 0,
             "ticks": ""
            },
            "type": "choropleth"
           }
          ],
          "contour": [
           {
            "colorbar": {
             "outlinewidth": 0,
             "ticks": ""
            },
            "colorscale": [
             [
              0,
              "#0d0887"
             ],
             [
              0.1111111111111111,
              "#46039f"
             ],
             [
              0.2222222222222222,
              "#7201a8"
             ],
             [
              0.3333333333333333,
              "#9c179e"
             ],
             [
              0.4444444444444444,
              "#bd3786"
             ],
             [
              0.5555555555555556,
              "#d8576b"
             ],
             [
              0.6666666666666666,
              "#ed7953"
             ],
             [
              0.7777777777777778,
              "#fb9f3a"
             ],
             [
              0.8888888888888888,
              "#fdca26"
             ],
             [
              1,
              "#f0f921"
             ]
            ],
            "type": "contour"
           }
          ],
          "contourcarpet": [
           {
            "colorbar": {
             "outlinewidth": 0,
             "ticks": ""
            },
            "type": "contourcarpet"
           }
          ],
          "heatmap": [
           {
            "colorbar": {
             "outlinewidth": 0,
             "ticks": ""
            },
            "colorscale": [
             [
              0,
              "#0d0887"
             ],
             [
              0.1111111111111111,
              "#46039f"
             ],
             [
              0.2222222222222222,
              "#7201a8"
             ],
             [
              0.3333333333333333,
              "#9c179e"
             ],
             [
              0.4444444444444444,
              "#bd3786"
             ],
             [
              0.5555555555555556,
              "#d8576b"
             ],
             [
              0.6666666666666666,
              "#ed7953"
             ],
             [
              0.7777777777777778,
              "#fb9f3a"
             ],
             [
              0.8888888888888888,
              "#fdca26"
             ],
             [
              1,
              "#f0f921"
             ]
            ],
            "type": "heatmap"
           }
          ],
          "heatmapgl": [
           {
            "colorbar": {
             "outlinewidth": 0,
             "ticks": ""
            },
            "colorscale": [
             [
              0,
              "#0d0887"
             ],
             [
              0.1111111111111111,
              "#46039f"
             ],
             [
              0.2222222222222222,
              "#7201a8"
             ],
             [
              0.3333333333333333,
              "#9c179e"
             ],
             [
              0.4444444444444444,
              "#bd3786"
             ],
             [
              0.5555555555555556,
              "#d8576b"
             ],
             [
              0.6666666666666666,
              "#ed7953"
             ],
             [
              0.7777777777777778,
              "#fb9f3a"
             ],
             [
              0.8888888888888888,
              "#fdca26"
             ],
             [
              1,
              "#f0f921"
             ]
            ],
            "type": "heatmapgl"
           }
          ],
          "histogram": [
           {
            "marker": {
             "pattern": {
              "fillmode": "overlay",
              "size": 10,
              "solidity": 0.2
             }
            },
            "type": "histogram"
           }
          ],
          "histogram2d": [
           {
            "colorbar": {
             "outlinewidth": 0,
             "ticks": ""
            },
            "colorscale": [
             [
              0,
              "#0d0887"
             ],
             [
              0.1111111111111111,
              "#46039f"
             ],
             [
              0.2222222222222222,
              "#7201a8"
             ],
             [
              0.3333333333333333,
              "#9c179e"
             ],
             [
              0.4444444444444444,
              "#bd3786"
             ],
             [
              0.5555555555555556,
              "#d8576b"
             ],
             [
              0.6666666666666666,
              "#ed7953"
             ],
             [
              0.7777777777777778,
              "#fb9f3a"
             ],
             [
              0.8888888888888888,
              "#fdca26"
             ],
             [
              1,
              "#f0f921"
             ]
            ],
            "type": "histogram2d"
           }
          ],
          "histogram2dcontour": [
           {
            "colorbar": {
             "outlinewidth": 0,
             "ticks": ""
            },
            "colorscale": [
             [
              0,
              "#0d0887"
             ],
             [
              0.1111111111111111,
              "#46039f"
             ],
             [
              0.2222222222222222,
              "#7201a8"
             ],
             [
              0.3333333333333333,
              "#9c179e"
             ],
             [
              0.4444444444444444,
              "#bd3786"
             ],
             [
              0.5555555555555556,
              "#d8576b"
             ],
             [
              0.6666666666666666,
              "#ed7953"
             ],
             [
              0.7777777777777778,
              "#fb9f3a"
             ],
             [
              0.8888888888888888,
              "#fdca26"
             ],
             [
              1,
              "#f0f921"
             ]
            ],
            "type": "histogram2dcontour"
           }
          ],
          "mesh3d": [
           {
            "colorbar": {
             "outlinewidth": 0,
             "ticks": ""
            },
            "type": "mesh3d"
           }
          ],
          "parcoords": [
           {
            "line": {
             "colorbar": {
              "outlinewidth": 0,
              "ticks": ""
             }
            },
            "type": "parcoords"
           }
          ],
          "pie": [
           {
            "automargin": true,
            "type": "pie"
           }
          ],
          "scatter": [
           {
            "fillpattern": {
             "fillmode": "overlay",
             "size": 10,
             "solidity": 0.2
            },
            "type": "scatter"
           }
          ],
          "scatter3d": [
           {
            "line": {
             "colorbar": {
              "outlinewidth": 0,
              "ticks": ""
             }
            },
            "marker": {
             "colorbar": {
              "outlinewidth": 0,
              "ticks": ""
             }
            },
            "type": "scatter3d"
           }
          ],
          "scattercarpet": [
           {
            "marker": {
             "colorbar": {
              "outlinewidth": 0,
              "ticks": ""
             }
            },
            "type": "scattercarpet"
           }
          ],
          "scattergeo": [
           {
            "marker": {
             "colorbar": {
              "outlinewidth": 0,
              "ticks": ""
             }
            },
            "type": "scattergeo"
           }
          ],
          "scattergl": [
           {
            "marker": {
             "colorbar": {
              "outlinewidth": 0,
              "ticks": ""
             }
            },
            "type": "scattergl"
           }
          ],
          "scattermapbox": [
           {
            "marker": {
             "colorbar": {
              "outlinewidth": 0,
              "ticks": ""
             }
            },
            "type": "scattermapbox"
           }
          ],
          "scatterpolar": [
           {
            "marker": {
             "colorbar": {
              "outlinewidth": 0,
              "ticks": ""
             }
            },
            "type": "scatterpolar"
           }
          ],
          "scatterpolargl": [
           {
            "marker": {
             "colorbar": {
              "outlinewidth": 0,
              "ticks": ""
             }
            },
            "type": "scatterpolargl"
           }
          ],
          "scatterternary": [
           {
            "marker": {
             "colorbar": {
              "outlinewidth": 0,
              "ticks": ""
             }
            },
            "type": "scatterternary"
           }
          ],
          "surface": [
           {
            "colorbar": {
             "outlinewidth": 0,
             "ticks": ""
            },
            "colorscale": [
             [
              0,
              "#0d0887"
             ],
             [
              0.1111111111111111,
              "#46039f"
             ],
             [
              0.2222222222222222,
              "#7201a8"
             ],
             [
              0.3333333333333333,
              "#9c179e"
             ],
             [
              0.4444444444444444,
              "#bd3786"
             ],
             [
              0.5555555555555556,
              "#d8576b"
             ],
             [
              0.6666666666666666,
              "#ed7953"
             ],
             [
              0.7777777777777778,
              "#fb9f3a"
             ],
             [
              0.8888888888888888,
              "#fdca26"
             ],
             [
              1,
              "#f0f921"
             ]
            ],
            "type": "surface"
           }
          ],
          "table": [
           {
            "cells": {
             "fill": {
              "color": "#EBF0F8"
             },
             "line": {
              "color": "white"
             }
            },
            "header": {
             "fill": {
              "color": "#C8D4E3"
             },
             "line": {
              "color": "white"
             }
            },
            "type": "table"
           }
          ]
         },
         "layout": {
          "annotationdefaults": {
           "arrowcolor": "#2a3f5f",
           "arrowhead": 0,
           "arrowwidth": 1
          },
          "autotypenumbers": "strict",
          "coloraxis": {
           "colorbar": {
            "outlinewidth": 0,
            "ticks": ""
           }
          },
          "colorscale": {
           "diverging": [
            [
             0,
             "#8e0152"
            ],
            [
             0.1,
             "#c51b7d"
            ],
            [
             0.2,
             "#de77ae"
            ],
            [
             0.3,
             "#f1b6da"
            ],
            [
             0.4,
             "#fde0ef"
            ],
            [
             0.5,
             "#f7f7f7"
            ],
            [
             0.6,
             "#e6f5d0"
            ],
            [
             0.7,
             "#b8e186"
            ],
            [
             0.8,
             "#7fbc41"
            ],
            [
             0.9,
             "#4d9221"
            ],
            [
             1,
             "#276419"
            ]
           ],
           "sequential": [
            [
             0,
             "#0d0887"
            ],
            [
             0.1111111111111111,
             "#46039f"
            ],
            [
             0.2222222222222222,
             "#7201a8"
            ],
            [
             0.3333333333333333,
             "#9c179e"
            ],
            [
             0.4444444444444444,
             "#bd3786"
            ],
            [
             0.5555555555555556,
             "#d8576b"
            ],
            [
             0.6666666666666666,
             "#ed7953"
            ],
            [
             0.7777777777777778,
             "#fb9f3a"
            ],
            [
             0.8888888888888888,
             "#fdca26"
            ],
            [
             1,
             "#f0f921"
            ]
           ],
           "sequentialminus": [
            [
             0,
             "#0d0887"
            ],
            [
             0.1111111111111111,
             "#46039f"
            ],
            [
             0.2222222222222222,
             "#7201a8"
            ],
            [
             0.3333333333333333,
             "#9c179e"
            ],
            [
             0.4444444444444444,
             "#bd3786"
            ],
            [
             0.5555555555555556,
             "#d8576b"
            ],
            [
             0.6666666666666666,
             "#ed7953"
            ],
            [
             0.7777777777777778,
             "#fb9f3a"
            ],
            [
             0.8888888888888888,
             "#fdca26"
            ],
            [
             1,
             "#f0f921"
            ]
           ]
          },
          "colorway": [
           "#636efa",
           "#EF553B",
           "#00cc96",
           "#ab63fa",
           "#FFA15A",
           "#19d3f3",
           "#FF6692",
           "#B6E880",
           "#FF97FF",
           "#FECB52"
          ],
          "font": {
           "color": "#2a3f5f"
          },
          "geo": {
           "bgcolor": "white",
           "lakecolor": "white",
           "landcolor": "#E5ECF6",
           "showlakes": true,
           "showland": true,
           "subunitcolor": "white"
          },
          "hoverlabel": {
           "align": "left"
          },
          "hovermode": "closest",
          "mapbox": {
           "style": "light"
          },
          "paper_bgcolor": "white",
          "plot_bgcolor": "#E5ECF6",
          "polar": {
           "angularaxis": {
            "gridcolor": "white",
            "linecolor": "white",
            "ticks": ""
           },
           "bgcolor": "#E5ECF6",
           "radialaxis": {
            "gridcolor": "white",
            "linecolor": "white",
            "ticks": ""
           }
          },
          "scene": {
           "xaxis": {
            "backgroundcolor": "#E5ECF6",
            "gridcolor": "white",
            "gridwidth": 2,
            "linecolor": "white",
            "showbackground": true,
            "ticks": "",
            "zerolinecolor": "white"
           },
           "yaxis": {
            "backgroundcolor": "#E5ECF6",
            "gridcolor": "white",
            "gridwidth": 2,
            "linecolor": "white",
            "showbackground": true,
            "ticks": "",
            "zerolinecolor": "white"
           },
           "zaxis": {
            "backgroundcolor": "#E5ECF6",
            "gridcolor": "white",
            "gridwidth": 2,
            "linecolor": "white",
            "showbackground": true,
            "ticks": "",
            "zerolinecolor": "white"
           }
          },
          "shapedefaults": {
           "line": {
            "color": "#2a3f5f"
           }
          },
          "ternary": {
           "aaxis": {
            "gridcolor": "white",
            "linecolor": "white",
            "ticks": ""
           },
           "baxis": {
            "gridcolor": "white",
            "linecolor": "white",
            "ticks": ""
           },
           "bgcolor": "#E5ECF6",
           "caxis": {
            "gridcolor": "white",
            "linecolor": "white",
            "ticks": ""
           }
          },
          "title": {
           "x": 0.05
          },
          "xaxis": {
           "automargin": true,
           "gridcolor": "white",
           "linecolor": "white",
           "ticks": "",
           "title": {
            "standoff": 15
           },
           "zerolinecolor": "white",
           "zerolinewidth": 2
          },
          "yaxis": {
           "automargin": true,
           "gridcolor": "white",
           "linecolor": "white",
           "ticks": "",
           "title": {
            "standoff": 15
           },
           "zerolinecolor": "white",
           "zerolinewidth": 2
          }
         }
        },
        "title": {
         "text": "Interaction Distances by Residue and Interacting Chain"
        },
        "xaxis": {
         "anchor": "y",
         "categoryarray": [
          "51K",
          "94T",
          "95S",
          "96S",
          "97G",
          "98K",
          "99T",
          "100H",
          "148K",
          "159N",
          "163H",
          "164E",
          "165D",
          "205N",
          "208S",
          "209S",
          "241G",
          "242S",
          "244K",
          "245V",
          "250A",
          "251E",
          "259K",
          "262N",
          "263K",
          "266S",
          "280K",
          "282H",
          "286R",
          "287D",
          "328R",
          "343R",
          "346A",
          "350I",
          "358E",
          "362L",
          "363K",
          "365Y",
          "366I",
          "369L",
          "370E",
          "373S",
          "375V",
          "410S",
          "412L",
          "414N",
          "417N",
          "419T",
          "442T",
          "444V",
          "447P",
          "448T",
          "449S",
          "452D",
          "455L",
          "462K",
          "463C",
          "466L",
          "467E",
          "469Q",
          "470L",
          "473K",
          "474E",
          "476E",
          "477K",
          "478K",
          "479E",
          "480I",
          "482E",
          "483Q",
          "484L",
          "486Q",
          "487Q",
          "488Q",
          "489E",
          "490Q",
          "491I",
          "493D",
          "494K",
          "495D",
          "498I",
          "501L",
          "502N",
          "505I",
          "508S",
          "511I",
          "512N",
          "514L",
          "515Y",
          "518S",
          "519T",
          "521E",
          "522N",
          "525L",
          "526N",
          "528Q",
          "529L",
          "530S",
          "532L",
          "533K",
          "534L",
          "535A",
          "536L",
          "537E",
          "538K",
          "539S",
          "540R",
          "541F",
          "543A",
          "545E",
          "546Q",
          "548L",
          "550I",
          "553L",
          "554N",
          "556E",
          "557N",
          "560I",
          "561K",
          "567L",
          "570R",
          "571I",
          "576D",
          "579I",
          "582L"
         ],
         "categoryorder": "array",
         "domain": [
          0,
          1
         ],
         "title": {
          "text": "Residue (Number and Identity)"
         }
        },
        "yaxis": {
         "anchor": "x",
         "domain": [
          0,
          1
         ],
         "title": {
          "text": "Distance (angstroms)"
         }
        }
       }
      }
     },
     "metadata": {},
     "output_type": "display_data"
    }
   ],
   "source": [
    "import pandas as pd\n",
    "import plotly.express as px\n",
    "\n",
    "# Define the path to the CSV file\n",
    "csv_file_path = \"/Users/jazzeruncal/git/Jazzer_surf/3d_predictions/same_seed/Seed_1/interactions_all_files.csv\"\n",
    "\n",
    "# Read the CSV file into a DataFrame\n",
    "df = pd.read_csv(csv_file_path)\n",
    "\n",
    "# Filter to get the shortest distances for each interaction\n",
    "df = df.loc[df[df['chain'] == 'A'].groupby(['file', 'resi', 'interacting_chain'])['distance (angstroms)'].idxmin()]\n",
    "\n",
    "# Exclude interactions with Mg and chain letters A, G, H\n",
    "df = df[(df['interacting_resn'] != 'MG') & (~df['interacting_chain'].isin(['A', 'G', 'H']))].reset_index(drop=True)\n",
    "\n",
    "# Map interacting_resn to single-letter codes for better readability\n",
    "aa_dict = {\n",
    "    'ALA': 'A', 'ARG': 'R', 'ASN': 'N', 'ASP': 'D', 'CYS': 'C', 'GLN': 'Q', 'GLU': 'E', 'GLY': 'G',\n",
    "    'HIS': 'H', 'ILE': 'I', 'LEU': 'L', 'LYS': 'K', 'MET': 'M', 'PHE': 'F', 'PRO': 'P', 'SER': 'S',\n",
    "    'THR': 'T', 'TRP': 'W', 'TYR': 'Y', 'VAL': 'V'\n",
    "}\n",
    "df['residue_one_letter'] = df['resn'].map(aa_dict)\n",
    "df['residue'] = df['resi'].astype(str) + df['residue_one_letter']\n",
    "\n",
    "# Replace chain letters with descriptive names\n",
    "chain_map = {\n",
    "    'B': 'kinesin B',\n",
    "    'C': 'alpha-tubulin',\n",
    "    'D': 'beta-tubulin',\n",
    "    'E': 'ATP',\n",
    "    'F': 'ATP'\n",
    "}\n",
    "df['interacting_chain'] = df['interacting_chain'].map(chain_map)\n",
    "\n",
    "# Filter to specific files\n",
    "df = df.loc[df['file'].isin([\n",
    "    'fold_e_atp_tub_seed1_model_0', \n",
    "    ])]\n",
    "\n",
    "# Group by file and interacting chain, keeping residues in order\n",
    "grouped = df.groupby(['file', 'interacting_chain'])\n",
    "\n",
    "# Create a list to store the output rows\n",
    "output_rows = []\n",
    "\n",
    "# Iterate over each group and extract information\n",
    "for (file, chain), group in grouped:\n",
    "    for _, row in group.iterrows():\n",
    "        output_rows.append({\n",
    "            'file': file,\n",
    "            'interacting_chain': chain,\n",
    "            'interacting_atom': row['interacting_atom'],\n",
    "            'residue_number': row['resi'],\n",
    "            'amino_acid': row['residue_one_letter'],\n",
    "            'distance (angstroms)': row['distance (angstroms)'],\n",
    "        })\n",
    "\n",
    "# Convert the list to a DataFrame\n",
    "interaction_df = pd.DataFrame(output_rows)\n",
    "\n",
    "# Display the resulting DataFrame\n",
    "interaction_df\n",
    "\n",
    "interaction_df.to_csv(\"interaction_summary.csv\", index=False)\n",
    "\n",
    "\n",
    "\n",
    "# Load the data\n",
    "csv_file_path = \"interaction_summary.csv\"\n",
    "interaction_df = pd.read_csv(csv_file_path)\n",
    "\n",
    "# Create a new column for the x-axis labels by concatenating residue number and amino acid\n",
    "interaction_df['residue_label'] = interaction_df['residue_number'].astype(str) + interaction_df['amino_acid']\n",
    "\n",
    "# Sort the dataframe by file and residue number to maintain order\n",
    "interaction_df = interaction_df.sort_values(by=['file', 'residue_number'])\n",
    "\n",
    "# Convert residue_label to a categorical type with the correct order\n",
    "interaction_df['residue_label'] = pd.Categorical(interaction_df['residue_label'], \n",
    "                                                 categories=sorted(interaction_df['residue_label'].unique(), key=lambda x: int(''.join(filter(str.isdigit, x)))), \n",
    "                                                 ordered=True)\n",
    "\n",
    "# Scatter plot for interaction distances with custom x-axis labels\n",
    "fig_scatter = px.scatter(interaction_df, x='residue_label', y='distance (angstroms)', color='interacting_chain', text='interacting_atom',\n",
    "                         title='Interaction Distances by Residue and Interacting Chain',\n",
    "                         labels={'residue_label': 'Residue (Number and Identity)', 'distance (angstroms)': 'Distance (angstroms)', 'interacting_chain': 'Interacting Chain'},\n",
    "                         hover_data=['file'])\n",
    "\n",
    "fig_scatter.update_traces(textposition='top center', marker=dict(size=10, opacity=0.6))\n",
    "fig_scatter.update_layout(xaxis={'categoryorder':'array', 'categoryarray': interaction_df['residue_label'].cat.categories})\n",
    "\n",
    "# Show the plot\n",
    "fig_scatter.show()\n",
    "\n"
   ]
  },
  {
   "cell_type": "markdown",
   "metadata": {},
   "source": [
    "C"
   ]
  },
  {
   "cell_type": "code",
   "execution_count": 41,
   "metadata": {},
   "outputs": [
    {
     "data": {
      "application/vnd.plotly.v1+json": {
       "config": {
        "plotlyServerURL": "https://plot.ly"
       },
       "data": [
        {
         "customdata": [
          [
           "fold_c_atp_tub_seed1_model_0"
          ],
          [
           "fold_c_atp_tub_seed1_model_0"
          ],
          [
           "fold_c_atp_tub_seed1_model_0"
          ],
          [
           "fold_c_atp_tub_seed1_model_0"
          ],
          [
           "fold_c_atp_tub_seed1_model_0"
          ],
          [
           "fold_c_atp_tub_seed1_model_0"
          ],
          [
           "fold_c_atp_tub_seed1_model_0"
          ],
          [
           "fold_c_atp_tub_seed1_model_0"
          ],
          [
           "fold_c_atp_tub_seed1_model_0"
          ],
          [
           "fold_c_atp_tub_seed1_model_0"
          ],
          [
           "fold_c_atp_tub_seed1_model_0"
          ],
          [
           "fold_c_atp_tub_seed1_model_0"
          ]
         ],
         "hovertemplate": "Interacting Chain=ATP<br>Residue (Number and Identity)=%{x}<br>Distance (angstroms)=%{y}<br>interacting_atom=%{text}<br>file=%{customdata[0]}<extra></extra>",
         "legendgroup": "ATP",
         "marker": {
          "color": "#636efa",
          "opacity": 0.6,
          "size": 10,
          "symbol": "circle"
         },
         "mode": "markers+text",
         "name": "ATP",
         "orientation": "v",
         "showlegend": true,
         "text": [
          "N1",
          "O2G",
          "O3B",
          "O1B",
          "O1B",
          "O3G",
          "O2B",
          "O1A",
          "O3B",
          "O2G",
          "O1G",
          "O3G"
         ],
         "textposition": "top center",
         "type": "scatter",
         "x": [
          "21P",
          "94T",
          "95S",
          "96S",
          "97G",
          "98K",
          "99T",
          "100H",
          "205N",
          "208S",
          "209S",
          "241G"
         ],
         "xaxis": "x",
         "y": [
          3.457723379135132,
          2.4436142444610596,
          2.823654890060425,
          3.3223249912261963,
          3.097536087036133,
          2.879331588745117,
          2.799541711807251,
          2.962357997894287,
          2.9935591220855713,
          2.7670114040374756,
          2.790931224822998,
          2.9767863750457764
         ],
         "yaxis": "y"
        },
        {
         "customdata": [
          [
           "fold_c_atp_tub_seed1_model_0"
          ],
          [
           "fold_c_atp_tub_seed1_model_0"
          ],
          [
           "fold_c_atp_tub_seed1_model_0"
          ],
          [
           "fold_c_atp_tub_seed1_model_0"
          ],
          [
           "fold_c_atp_tub_seed1_model_0"
          ],
          [
           "fold_c_atp_tub_seed1_model_0"
          ],
          [
           "fold_c_atp_tub_seed1_model_0"
          ],
          [
           "fold_c_atp_tub_seed1_model_0"
          ]
         ],
         "hovertemplate": "Interacting Chain=beta-tubulin<br>Residue (Number and Identity)=%{x}<br>Distance (angstroms)=%{y}<br>interacting_atom=%{text}<br>file=%{customdata[0]}<extra></extra>",
         "legendgroup": "beta-tubulin",
         "marker": {
          "color": "#EF553B",
          "opacity": 0.6,
          "size": 10,
          "symbol": "circle"
         },
         "mode": "markers+text",
         "name": "beta-tubulin",
         "orientation": "v",
         "showlegend": true,
         "text": [
          "OE1",
          "OE1",
          "OE2",
          "OE1",
          "CE",
          "OE1",
          "OD2",
          "CD"
         ],
         "textposition": "top center",
         "type": "scatter",
         "x": [
          "148K",
          "159N",
          "163H",
          "164E",
          "166K",
          "282H",
          "286R",
          "287D"
         ],
         "xaxis": "x",
         "y": [
          2.9638772010803223,
          3.166810989379883,
          2.7821812629699707,
          2.793105363845825,
          3.454381227493286,
          2.882333993911743,
          2.4885451793670654,
          3.194092035293579
         ],
         "yaxis": "y"
        },
        {
         "customdata": [
          [
           "fold_c_atp_tub_seed1_model_0"
          ],
          [
           "fold_c_atp_tub_seed1_model_0"
          ],
          [
           "fold_c_atp_tub_seed1_model_0"
          ],
          [
           "fold_c_atp_tub_seed1_model_0"
          ],
          [
           "fold_c_atp_tub_seed1_model_0"
          ],
          [
           "fold_c_atp_tub_seed1_model_0"
          ],
          [
           "fold_c_atp_tub_seed1_model_0"
          ],
          [
           "fold_c_atp_tub_seed1_model_0"
          ],
          [
           "fold_c_atp_tub_seed1_model_0"
          ],
          [
           "fold_c_atp_tub_seed1_model_0"
          ],
          [
           "fold_c_atp_tub_seed1_model_0"
          ],
          [
           "fold_c_atp_tub_seed1_model_0"
          ],
          [
           "fold_c_atp_tub_seed1_model_0"
          ],
          [
           "fold_c_atp_tub_seed1_model_0"
          ],
          [
           "fold_c_atp_tub_seed1_model_0"
          ],
          [
           "fold_c_atp_tub_seed1_model_0"
          ],
          [
           "fold_c_atp_tub_seed1_model_0"
          ],
          [
           "fold_c_atp_tub_seed1_model_0"
          ],
          [
           "fold_c_atp_tub_seed1_model_0"
          ]
         ],
         "hovertemplate": "Interacting Chain=kinesin B<br>Residue (Number and Identity)=%{x}<br>Distance (angstroms)=%{y}<br>interacting_atom=%{text}<br>file=%{customdata[0]}<extra></extra>",
         "legendgroup": "kinesin B",
         "marker": {
          "color": "#00cc96",
          "opacity": 0.6,
          "size": 10,
          "symbol": "circle"
         },
         "mode": "markers+text",
         "name": "kinesin B",
         "orientation": "v",
         "showlegend": true,
         "text": [
          "OE1",
          "CD1",
          "CD1",
          "CG",
          "ND2",
          "ND2",
          "OE2",
          "OD1",
          "OE1",
          "CD1",
          "CD1",
          "CD1",
          "CD2",
          "OE1",
          "OE2",
          "NH2",
          "NH2",
          "NH1",
          "CG1"
         ],
         "textposition": "top center",
         "type": "scatter",
         "x": [
          "166K",
          "345A",
          "348W",
          "352Y",
          "355E",
          "358K",
          "359N",
          "362L",
          "365K",
          "366V",
          "369L",
          "370E",
          "372E",
          "373L",
          "377R",
          "387Q",
          "388I",
          "390M",
          "393L"
         ],
         "xaxis": "x",
         "y": [
          2.810300827026367,
          3.4046149253845215,
          3.3196117877960205,
          3.4200756549835205,
          2.1327757835388184,
          3.4232633113861084,
          2.092862606048584,
          2.848017692565918,
          3.258519172668457,
          2.8572001457214355,
          3.449855089187622,
          3.2836923599243164,
          2.8547213077545166,
          2.8381266593933105,
          2.828540325164795,
          3.4705941677093506,
          2.914373874664306,
          3.3847358226776123,
          2.8476345539093018
         ],
         "yaxis": "y"
        },
        {
         "customdata": [
          [
           "fold_c_atp_tub_seed1_model_0"
          ],
          [
           "fold_c_atp_tub_seed1_model_0"
          ],
          [
           "fold_c_atp_tub_seed1_model_0"
          ],
          [
           "fold_c_atp_tub_seed1_model_0"
          ],
          [
           "fold_c_atp_tub_seed1_model_0"
          ],
          [
           "fold_c_atp_tub_seed1_model_0"
          ],
          [
           "fold_c_atp_tub_seed1_model_0"
          ],
          [
           "fold_c_atp_tub_seed1_model_0"
          ],
          [
           "fold_c_atp_tub_seed1_model_0"
          ]
         ],
         "hovertemplate": "Interacting Chain=alpha-tubulin<br>Residue (Number and Identity)=%{x}<br>Distance (angstroms)=%{y}<br>interacting_atom=%{text}<br>file=%{customdata[0]}<extra></extra>",
         "legendgroup": "alpha-tubulin",
         "marker": {
          "color": "#ab63fa",
          "opacity": 0.6,
          "size": 10,
          "symbol": "circle"
         },
         "mode": "markers+text",
         "name": "alpha-tubulin",
         "orientation": "v",
         "showlegend": true,
         "text": [
          "OE1",
          "OE1",
          "O",
          "O",
          "CG1",
          "CG1",
          "OE2",
          "OE1",
          "OE1"
         ],
         "textposition": "top center",
         "type": "scatter",
         "x": [
          "242S",
          "244K",
          "245I",
          "259K",
          "262N",
          "263K",
          "266S",
          "318A",
          "325R"
         ],
         "xaxis": "x",
         "y": [
          3.2220075130462646,
          2.5479209423065186,
          2.961440086364746,
          3.272054433822632,
          3.429266929626465,
          3.3820230960845947,
          2.7096283435821533,
          2.7859344482421875,
          3.011375188827514
         ],
         "yaxis": "y"
        }
       ],
       "layout": {
        "legend": {
         "title": {
          "text": "Interacting Chain"
         },
         "tracegroupgap": 0
        },
        "template": {
         "data": {
          "bar": [
           {
            "error_x": {
             "color": "#2a3f5f"
            },
            "error_y": {
             "color": "#2a3f5f"
            },
            "marker": {
             "line": {
              "color": "#E5ECF6",
              "width": 0.5
             },
             "pattern": {
              "fillmode": "overlay",
              "size": 10,
              "solidity": 0.2
             }
            },
            "type": "bar"
           }
          ],
          "barpolar": [
           {
            "marker": {
             "line": {
              "color": "#E5ECF6",
              "width": 0.5
             },
             "pattern": {
              "fillmode": "overlay",
              "size": 10,
              "solidity": 0.2
             }
            },
            "type": "barpolar"
           }
          ],
          "carpet": [
           {
            "aaxis": {
             "endlinecolor": "#2a3f5f",
             "gridcolor": "white",
             "linecolor": "white",
             "minorgridcolor": "white",
             "startlinecolor": "#2a3f5f"
            },
            "baxis": {
             "endlinecolor": "#2a3f5f",
             "gridcolor": "white",
             "linecolor": "white",
             "minorgridcolor": "white",
             "startlinecolor": "#2a3f5f"
            },
            "type": "carpet"
           }
          ],
          "choropleth": [
           {
            "colorbar": {
             "outlinewidth": 0,
             "ticks": ""
            },
            "type": "choropleth"
           }
          ],
          "contour": [
           {
            "colorbar": {
             "outlinewidth": 0,
             "ticks": ""
            },
            "colorscale": [
             [
              0,
              "#0d0887"
             ],
             [
              0.1111111111111111,
              "#46039f"
             ],
             [
              0.2222222222222222,
              "#7201a8"
             ],
             [
              0.3333333333333333,
              "#9c179e"
             ],
             [
              0.4444444444444444,
              "#bd3786"
             ],
             [
              0.5555555555555556,
              "#d8576b"
             ],
             [
              0.6666666666666666,
              "#ed7953"
             ],
             [
              0.7777777777777778,
              "#fb9f3a"
             ],
             [
              0.8888888888888888,
              "#fdca26"
             ],
             [
              1,
              "#f0f921"
             ]
            ],
            "type": "contour"
           }
          ],
          "contourcarpet": [
           {
            "colorbar": {
             "outlinewidth": 0,
             "ticks": ""
            },
            "type": "contourcarpet"
           }
          ],
          "heatmap": [
           {
            "colorbar": {
             "outlinewidth": 0,
             "ticks": ""
            },
            "colorscale": [
             [
              0,
              "#0d0887"
             ],
             [
              0.1111111111111111,
              "#46039f"
             ],
             [
              0.2222222222222222,
              "#7201a8"
             ],
             [
              0.3333333333333333,
              "#9c179e"
             ],
             [
              0.4444444444444444,
              "#bd3786"
             ],
             [
              0.5555555555555556,
              "#d8576b"
             ],
             [
              0.6666666666666666,
              "#ed7953"
             ],
             [
              0.7777777777777778,
              "#fb9f3a"
             ],
             [
              0.8888888888888888,
              "#fdca26"
             ],
             [
              1,
              "#f0f921"
             ]
            ],
            "type": "heatmap"
           }
          ],
          "heatmapgl": [
           {
            "colorbar": {
             "outlinewidth": 0,
             "ticks": ""
            },
            "colorscale": [
             [
              0,
              "#0d0887"
             ],
             [
              0.1111111111111111,
              "#46039f"
             ],
             [
              0.2222222222222222,
              "#7201a8"
             ],
             [
              0.3333333333333333,
              "#9c179e"
             ],
             [
              0.4444444444444444,
              "#bd3786"
             ],
             [
              0.5555555555555556,
              "#d8576b"
             ],
             [
              0.6666666666666666,
              "#ed7953"
             ],
             [
              0.7777777777777778,
              "#fb9f3a"
             ],
             [
              0.8888888888888888,
              "#fdca26"
             ],
             [
              1,
              "#f0f921"
             ]
            ],
            "type": "heatmapgl"
           }
          ],
          "histogram": [
           {
            "marker": {
             "pattern": {
              "fillmode": "overlay",
              "size": 10,
              "solidity": 0.2
             }
            },
            "type": "histogram"
           }
          ],
          "histogram2d": [
           {
            "colorbar": {
             "outlinewidth": 0,
             "ticks": ""
            },
            "colorscale": [
             [
              0,
              "#0d0887"
             ],
             [
              0.1111111111111111,
              "#46039f"
             ],
             [
              0.2222222222222222,
              "#7201a8"
             ],
             [
              0.3333333333333333,
              "#9c179e"
             ],
             [
              0.4444444444444444,
              "#bd3786"
             ],
             [
              0.5555555555555556,
              "#d8576b"
             ],
             [
              0.6666666666666666,
              "#ed7953"
             ],
             [
              0.7777777777777778,
              "#fb9f3a"
             ],
             [
              0.8888888888888888,
              "#fdca26"
             ],
             [
              1,
              "#f0f921"
             ]
            ],
            "type": "histogram2d"
           }
          ],
          "histogram2dcontour": [
           {
            "colorbar": {
             "outlinewidth": 0,
             "ticks": ""
            },
            "colorscale": [
             [
              0,
              "#0d0887"
             ],
             [
              0.1111111111111111,
              "#46039f"
             ],
             [
              0.2222222222222222,
              "#7201a8"
             ],
             [
              0.3333333333333333,
              "#9c179e"
             ],
             [
              0.4444444444444444,
              "#bd3786"
             ],
             [
              0.5555555555555556,
              "#d8576b"
             ],
             [
              0.6666666666666666,
              "#ed7953"
             ],
             [
              0.7777777777777778,
              "#fb9f3a"
             ],
             [
              0.8888888888888888,
              "#fdca26"
             ],
             [
              1,
              "#f0f921"
             ]
            ],
            "type": "histogram2dcontour"
           }
          ],
          "mesh3d": [
           {
            "colorbar": {
             "outlinewidth": 0,
             "ticks": ""
            },
            "type": "mesh3d"
           }
          ],
          "parcoords": [
           {
            "line": {
             "colorbar": {
              "outlinewidth": 0,
              "ticks": ""
             }
            },
            "type": "parcoords"
           }
          ],
          "pie": [
           {
            "automargin": true,
            "type": "pie"
           }
          ],
          "scatter": [
           {
            "fillpattern": {
             "fillmode": "overlay",
             "size": 10,
             "solidity": 0.2
            },
            "type": "scatter"
           }
          ],
          "scatter3d": [
           {
            "line": {
             "colorbar": {
              "outlinewidth": 0,
              "ticks": ""
             }
            },
            "marker": {
             "colorbar": {
              "outlinewidth": 0,
              "ticks": ""
             }
            },
            "type": "scatter3d"
           }
          ],
          "scattercarpet": [
           {
            "marker": {
             "colorbar": {
              "outlinewidth": 0,
              "ticks": ""
             }
            },
            "type": "scattercarpet"
           }
          ],
          "scattergeo": [
           {
            "marker": {
             "colorbar": {
              "outlinewidth": 0,
              "ticks": ""
             }
            },
            "type": "scattergeo"
           }
          ],
          "scattergl": [
           {
            "marker": {
             "colorbar": {
              "outlinewidth": 0,
              "ticks": ""
             }
            },
            "type": "scattergl"
           }
          ],
          "scattermapbox": [
           {
            "marker": {
             "colorbar": {
              "outlinewidth": 0,
              "ticks": ""
             }
            },
            "type": "scattermapbox"
           }
          ],
          "scatterpolar": [
           {
            "marker": {
             "colorbar": {
              "outlinewidth": 0,
              "ticks": ""
             }
            },
            "type": "scatterpolar"
           }
          ],
          "scatterpolargl": [
           {
            "marker": {
             "colorbar": {
              "outlinewidth": 0,
              "ticks": ""
             }
            },
            "type": "scatterpolargl"
           }
          ],
          "scatterternary": [
           {
            "marker": {
             "colorbar": {
              "outlinewidth": 0,
              "ticks": ""
             }
            },
            "type": "scatterternary"
           }
          ],
          "surface": [
           {
            "colorbar": {
             "outlinewidth": 0,
             "ticks": ""
            },
            "colorscale": [
             [
              0,
              "#0d0887"
             ],
             [
              0.1111111111111111,
              "#46039f"
             ],
             [
              0.2222222222222222,
              "#7201a8"
             ],
             [
              0.3333333333333333,
              "#9c179e"
             ],
             [
              0.4444444444444444,
              "#bd3786"
             ],
             [
              0.5555555555555556,
              "#d8576b"
             ],
             [
              0.6666666666666666,
              "#ed7953"
             ],
             [
              0.7777777777777778,
              "#fb9f3a"
             ],
             [
              0.8888888888888888,
              "#fdca26"
             ],
             [
              1,
              "#f0f921"
             ]
            ],
            "type": "surface"
           }
          ],
          "table": [
           {
            "cells": {
             "fill": {
              "color": "#EBF0F8"
             },
             "line": {
              "color": "white"
             }
            },
            "header": {
             "fill": {
              "color": "#C8D4E3"
             },
             "line": {
              "color": "white"
             }
            },
            "type": "table"
           }
          ]
         },
         "layout": {
          "annotationdefaults": {
           "arrowcolor": "#2a3f5f",
           "arrowhead": 0,
           "arrowwidth": 1
          },
          "autotypenumbers": "strict",
          "coloraxis": {
           "colorbar": {
            "outlinewidth": 0,
            "ticks": ""
           }
          },
          "colorscale": {
           "diverging": [
            [
             0,
             "#8e0152"
            ],
            [
             0.1,
             "#c51b7d"
            ],
            [
             0.2,
             "#de77ae"
            ],
            [
             0.3,
             "#f1b6da"
            ],
            [
             0.4,
             "#fde0ef"
            ],
            [
             0.5,
             "#f7f7f7"
            ],
            [
             0.6,
             "#e6f5d0"
            ],
            [
             0.7,
             "#b8e186"
            ],
            [
             0.8,
             "#7fbc41"
            ],
            [
             0.9,
             "#4d9221"
            ],
            [
             1,
             "#276419"
            ]
           ],
           "sequential": [
            [
             0,
             "#0d0887"
            ],
            [
             0.1111111111111111,
             "#46039f"
            ],
            [
             0.2222222222222222,
             "#7201a8"
            ],
            [
             0.3333333333333333,
             "#9c179e"
            ],
            [
             0.4444444444444444,
             "#bd3786"
            ],
            [
             0.5555555555555556,
             "#d8576b"
            ],
            [
             0.6666666666666666,
             "#ed7953"
            ],
            [
             0.7777777777777778,
             "#fb9f3a"
            ],
            [
             0.8888888888888888,
             "#fdca26"
            ],
            [
             1,
             "#f0f921"
            ]
           ],
           "sequentialminus": [
            [
             0,
             "#0d0887"
            ],
            [
             0.1111111111111111,
             "#46039f"
            ],
            [
             0.2222222222222222,
             "#7201a8"
            ],
            [
             0.3333333333333333,
             "#9c179e"
            ],
            [
             0.4444444444444444,
             "#bd3786"
            ],
            [
             0.5555555555555556,
             "#d8576b"
            ],
            [
             0.6666666666666666,
             "#ed7953"
            ],
            [
             0.7777777777777778,
             "#fb9f3a"
            ],
            [
             0.8888888888888888,
             "#fdca26"
            ],
            [
             1,
             "#f0f921"
            ]
           ]
          },
          "colorway": [
           "#636efa",
           "#EF553B",
           "#00cc96",
           "#ab63fa",
           "#FFA15A",
           "#19d3f3",
           "#FF6692",
           "#B6E880",
           "#FF97FF",
           "#FECB52"
          ],
          "font": {
           "color": "#2a3f5f"
          },
          "geo": {
           "bgcolor": "white",
           "lakecolor": "white",
           "landcolor": "#E5ECF6",
           "showlakes": true,
           "showland": true,
           "subunitcolor": "white"
          },
          "hoverlabel": {
           "align": "left"
          },
          "hovermode": "closest",
          "mapbox": {
           "style": "light"
          },
          "paper_bgcolor": "white",
          "plot_bgcolor": "#E5ECF6",
          "polar": {
           "angularaxis": {
            "gridcolor": "white",
            "linecolor": "white",
            "ticks": ""
           },
           "bgcolor": "#E5ECF6",
           "radialaxis": {
            "gridcolor": "white",
            "linecolor": "white",
            "ticks": ""
           }
          },
          "scene": {
           "xaxis": {
            "backgroundcolor": "#E5ECF6",
            "gridcolor": "white",
            "gridwidth": 2,
            "linecolor": "white",
            "showbackground": true,
            "ticks": "",
            "zerolinecolor": "white"
           },
           "yaxis": {
            "backgroundcolor": "#E5ECF6",
            "gridcolor": "white",
            "gridwidth": 2,
            "linecolor": "white",
            "showbackground": true,
            "ticks": "",
            "zerolinecolor": "white"
           },
           "zaxis": {
            "backgroundcolor": "#E5ECF6",
            "gridcolor": "white",
            "gridwidth": 2,
            "linecolor": "white",
            "showbackground": true,
            "ticks": "",
            "zerolinecolor": "white"
           }
          },
          "shapedefaults": {
           "line": {
            "color": "#2a3f5f"
           }
          },
          "ternary": {
           "aaxis": {
            "gridcolor": "white",
            "linecolor": "white",
            "ticks": ""
           },
           "baxis": {
            "gridcolor": "white",
            "linecolor": "white",
            "ticks": ""
           },
           "bgcolor": "#E5ECF6",
           "caxis": {
            "gridcolor": "white",
            "linecolor": "white",
            "ticks": ""
           }
          },
          "title": {
           "x": 0.05
          },
          "xaxis": {
           "automargin": true,
           "gridcolor": "white",
           "linecolor": "white",
           "ticks": "",
           "title": {
            "standoff": 15
           },
           "zerolinecolor": "white",
           "zerolinewidth": 2
          },
          "yaxis": {
           "automargin": true,
           "gridcolor": "white",
           "linecolor": "white",
           "ticks": "",
           "title": {
            "standoff": 15
           },
           "zerolinecolor": "white",
           "zerolinewidth": 2
          }
         }
        },
        "title": {
         "text": "Interaction Distances by Residue and Interacting Chain"
        },
        "xaxis": {
         "anchor": "y",
         "categoryarray": [
          "21P",
          "94T",
          "95S",
          "96S",
          "97G",
          "98K",
          "99T",
          "100H",
          "148K",
          "159N",
          "163H",
          "164E",
          "166K",
          "205N",
          "208S",
          "209S",
          "241G",
          "242S",
          "244K",
          "245I",
          "259K",
          "262N",
          "263K",
          "266S",
          "282H",
          "286R",
          "287D",
          "318A",
          "325R",
          "345A",
          "348W",
          "352Y",
          "355E",
          "358K",
          "359N",
          "362L",
          "365K",
          "366V",
          "369L",
          "370E",
          "372E",
          "373L",
          "377R",
          "387Q",
          "388I",
          "390M",
          "393L"
         ],
         "categoryorder": "array",
         "domain": [
          0,
          1
         ],
         "title": {
          "text": "Residue (Number and Identity)"
         }
        },
        "yaxis": {
         "anchor": "x",
         "domain": [
          0,
          1
         ],
         "title": {
          "text": "Distance (angstroms)"
         }
        }
       }
      }
     },
     "metadata": {},
     "output_type": "display_data"
    }
   ],
   "source": [
    "import pandas as pd\n",
    "import plotly.express as px\n",
    "\n",
    "# Define the path to the CSV file\n",
    "csv_file_path = \"/Users/jazzeruncal/git/Jazzer_surf/3d_predictions/same_seed/Seed_1/interactions_all_files.csv\"\n",
    "\n",
    "# Read the CSV file into a DataFrame\n",
    "df = pd.read_csv(csv_file_path)\n",
    "\n",
    "# Filter to get the shortest distances for each interaction\n",
    "df = df.loc[df[df['chain'] == 'A'].groupby(['file', 'resi', 'interacting_chain'])['distance (angstroms)'].idxmin()]\n",
    "\n",
    "# Exclude interactions with Mg and chain letters A, G, H\n",
    "df = df[(df['interacting_resn'] != 'MG') & (~df['interacting_chain'].isin(['A', 'G', 'H']))].reset_index(drop=True)\n",
    "\n",
    "# Map interacting_resn to single-letter codes for better readability\n",
    "aa_dict = {\n",
    "    'ALA': 'A', 'ARG': 'R', 'ASN': 'N', 'ASP': 'D', 'CYS': 'C', 'GLN': 'Q', 'GLU': 'E', 'GLY': 'G',\n",
    "    'HIS': 'H', 'ILE': 'I', 'LEU': 'L', 'LYS': 'K', 'MET': 'M', 'PHE': 'F', 'PRO': 'P', 'SER': 'S',\n",
    "    'THR': 'T', 'TRP': 'W', 'TYR': 'Y', 'VAL': 'V'\n",
    "}\n",
    "df['residue_one_letter'] = df['resn'].map(aa_dict)\n",
    "df['residue'] = df['resi'].astype(str) + df['residue_one_letter']\n",
    "\n",
    "# Replace chain letters with descriptive names\n",
    "chain_map = {\n",
    "    'B': 'kinesin B',\n",
    "    'C': 'alpha-tubulin',\n",
    "    'D': 'beta-tubulin',\n",
    "    'E': 'ATP',\n",
    "    'F': 'ATP'\n",
    "}\n",
    "df['interacting_chain'] = df['interacting_chain'].map(chain_map)\n",
    "\n",
    "# Filter to specific files\n",
    "df = df.loc[df['file'].isin([\n",
    "    'fold_c_atp_tub_seed1_model_0', \n",
    "    ])]\n",
    "\n",
    "# Group by file and interacting chain, keeping residues in order\n",
    "grouped = df.groupby(['file', 'interacting_chain'])\n",
    "\n",
    "# Create a list to store the output rows\n",
    "output_rows = []\n",
    "\n",
    "# Iterate over each group and extract information\n",
    "for (file, chain), group in grouped:\n",
    "    for _, row in group.iterrows():\n",
    "        output_rows.append({\n",
    "            'file': file,\n",
    "            'interacting_chain': chain,\n",
    "            'interacting_atom': row['interacting_atom'],\n",
    "            'residue_number': row['resi'],\n",
    "            'amino_acid': row['residue_one_letter'],\n",
    "            'distance (angstroms)': row['distance (angstroms)'],\n",
    "        })\n",
    "\n",
    "# Convert the list to a DataFrame\n",
    "interaction_df = pd.DataFrame(output_rows)\n",
    "\n",
    "# Display the resulting DataFrame\n",
    "interaction_df\n",
    "\n",
    "interaction_df.to_csv(\"interaction_summary.csv\", index=False)\n",
    "\n",
    "\n",
    "\n",
    "# Load the data\n",
    "csv_file_path = \"interaction_summary.csv\"\n",
    "interaction_df = pd.read_csv(csv_file_path)\n",
    "\n",
    "# Create a new column for the x-axis labels by concatenating residue number and amino acid\n",
    "interaction_df['residue_label'] = interaction_df['residue_number'].astype(str) + interaction_df['amino_acid']\n",
    "\n",
    "# Sort the dataframe by file and residue number to maintain order\n",
    "interaction_df = interaction_df.sort_values(by=['file', 'residue_number'])\n",
    "\n",
    "# Convert residue_label to a categorical type with the correct order\n",
    "interaction_df['residue_label'] = pd.Categorical(interaction_df['residue_label'], \n",
    "                                                 categories=sorted(interaction_df['residue_label'].unique(), key=lambda x: int(''.join(filter(str.isdigit, x)))), \n",
    "                                                 ordered=True)\n",
    "\n",
    "# Scatter plot for interaction distances with custom x-axis labels\n",
    "fig_scatter = px.scatter(interaction_df, x='residue_label', y='distance (angstroms)', color='interacting_chain', text='interacting_atom',\n",
    "                         title='Interaction Distances by Residue and Interacting Chain',\n",
    "                         labels={'residue_label': 'Residue (Number and Identity)', 'distance (angstroms)': 'Distance (angstroms)', 'interacting_chain': 'Interacting Chain'},\n",
    "                         hover_data=['file'])\n",
    "\n",
    "fig_scatter.update_traces(textposition='top center', marker=dict(size=10, opacity=0.6))\n",
    "fig_scatter.update_layout(xaxis={'categoryorder':'array', 'categoryarray': interaction_df['residue_label'].cat.categories})\n",
    "\n",
    "# Show the plot\n",
    "fig_scatter.show()\n",
    "\n"
   ]
  },
  {
   "cell_type": "markdown",
   "metadata": {},
   "source": [
    "A\n"
   ]
  },
  {
   "cell_type": "code",
   "execution_count": 42,
   "metadata": {},
   "outputs": [
    {
     "data": {
      "application/vnd.plotly.v1+json": {
       "config": {
        "plotlyServerURL": "https://plot.ly"
       },
       "data": [
        {
         "customdata": [
          [
           "fold_k401_atp_tub_seed1_model_0"
          ],
          [
           "fold_k401_atp_tub_seed1_model_0"
          ],
          [
           "fold_k401_atp_tub_seed1_model_0"
          ],
          [
           "fold_k401_atp_tub_seed1_model_0"
          ],
          [
           "fold_k401_atp_tub_seed1_model_0"
          ],
          [
           "fold_k401_atp_tub_seed1_model_0"
          ],
          [
           "fold_k401_atp_tub_seed1_model_0"
          ],
          [
           "fold_k401_atp_tub_seed1_model_0"
          ],
          [
           "fold_k401_atp_tub_seed1_model_0"
          ],
          [
           "fold_k401_atp_tub_seed1_model_0"
          ],
          [
           "fold_k401_atp_tub_seed1_model_0"
          ]
         ],
         "hovertemplate": "Interacting Chain=ATP<br>Residue (Number and Identity)=%{x}<br>Distance (angstroms)=%{y}<br>interacting_atom=%{text}<br>file=%{customdata[0]}<extra></extra>",
         "legendgroup": "ATP",
         "marker": {
          "color": "#636efa",
          "opacity": 0.6,
          "size": 10,
          "symbol": "circle"
         },
         "mode": "markers+text",
         "name": "ATP",
         "orientation": "v",
         "showlegend": true,
         "text": [
          "O2G",
          "O3B",
          "O2B",
          "O2B",
          "O3G",
          "O1B",
          "O2A",
          "O1A",
          "O2G",
          "O1G",
          "O3G"
         ],
         "textposition": "top center",
         "type": "scatter",
         "x": [
          "94T",
          "95S",
          "96S",
          "97G",
          "98K",
          "99T",
          "100H",
          "205N",
          "208S",
          "209S",
          "241G"
         ],
         "xaxis": "x",
         "y": [
          2.4374871253967285,
          2.806600332260132,
          3.29720401763916,
          3.1137118339538574,
          2.9161436557769775,
          2.7895143032073975,
          2.9845962524414062,
          2.958266496658325,
          2.7913260459899902,
          2.7207634449005127,
          2.9005379676818848
         ],
         "yaxis": "y"
        },
        {
         "customdata": [
          [
           "fold_k401_atp_tub_seed1_model_0"
          ],
          [
           "fold_k401_atp_tub_seed1_model_0"
          ],
          [
           "fold_k401_atp_tub_seed1_model_0"
          ],
          [
           "fold_k401_atp_tub_seed1_model_0"
          ],
          [
           "fold_k401_atp_tub_seed1_model_0"
          ],
          [
           "fold_k401_atp_tub_seed1_model_0"
          ],
          [
           "fold_k401_atp_tub_seed1_model_0"
          ]
         ],
         "hovertemplate": "Interacting Chain=beta-tubulin<br>Residue (Number and Identity)=%{x}<br>Distance (angstroms)=%{y}<br>interacting_atom=%{text}<br>file=%{customdata[0]}<extra></extra>",
         "legendgroup": "beta-tubulin",
         "marker": {
          "color": "#EF553B",
          "opacity": 0.6,
          "size": 10,
          "symbol": "circle"
         },
         "mode": "markers+text",
         "name": "beta-tubulin",
         "orientation": "v",
         "showlegend": true,
         "text": [
          "CG",
          "OE1",
          "OE2",
          "OE1",
          "OE1",
          "OD2",
          "CD"
         ],
         "textposition": "top center",
         "type": "scatter",
         "x": [
          "148K",
          "159N",
          "163H",
          "164E",
          "282H",
          "286R",
          "287D"
         ],
         "xaxis": "x",
         "y": [
          3.006138324737549,
          3.0405116081237793,
          2.8384571075439453,
          2.686645746231079,
          2.7174038887023926,
          2.5308802127838135,
          3.2496230602264404
         ],
         "yaxis": "y"
        },
        {
         "customdata": [
          [
           "fold_k401_atp_tub_seed1_model_0"
          ],
          [
           "fold_k401_atp_tub_seed1_model_0"
          ],
          [
           "fold_k401_atp_tub_seed1_model_0"
          ],
          [
           "fold_k401_atp_tub_seed1_model_0"
          ],
          [
           "fold_k401_atp_tub_seed1_model_0"
          ],
          [
           "fold_k401_atp_tub_seed1_model_0"
          ],
          [
           "fold_k401_atp_tub_seed1_model_0"
          ],
          [
           "fold_k401_atp_tub_seed1_model_0"
          ],
          [
           "fold_k401_atp_tub_seed1_model_0"
          ],
          [
           "fold_k401_atp_tub_seed1_model_0"
          ],
          [
           "fold_k401_atp_tub_seed1_model_0"
          ],
          [
           "fold_k401_atp_tub_seed1_model_0"
          ],
          [
           "fold_k401_atp_tub_seed1_model_0"
          ],
          [
           "fold_k401_atp_tub_seed1_model_0"
          ],
          [
           "fold_k401_atp_tub_seed1_model_0"
          ],
          [
           "fold_k401_atp_tub_seed1_model_0"
          ],
          [
           "fold_k401_atp_tub_seed1_model_0"
          ],
          [
           "fold_k401_atp_tub_seed1_model_0"
          ],
          [
           "fold_k401_atp_tub_seed1_model_0"
          ],
          [
           "fold_k401_atp_tub_seed1_model_0"
          ],
          [
           "fold_k401_atp_tub_seed1_model_0"
          ]
         ],
         "hovertemplate": "Interacting Chain=kinesin B<br>Residue (Number and Identity)=%{x}<br>Distance (angstroms)=%{y}<br>interacting_atom=%{text}<br>file=%{customdata[0]}<extra></extra>",
         "legendgroup": "kinesin B",
         "marker": {
          "color": "#00cc96",
          "opacity": 0.6,
          "size": 10,
          "symbol": "circle"
         },
         "mode": "markers+text",
         "name": "kinesin B",
         "orientation": "v",
         "showlegend": true,
         "text": [
          "OE1",
          "NZ",
          "CD1",
          "CD1",
          "CZ3",
          "ND2",
          "OE2",
          "OD1",
          "CA",
          "CD1",
          "CD1",
          "CD1",
          "NH2",
          "CD1",
          "OE2",
          "NH2",
          "NH2",
          "OE1",
          "CG1",
          "NZ",
          "NZ"
         ],
         "textposition": "top center",
         "type": "scatter",
         "x": [
          "166K",
          "167N",
          "345A",
          "348W",
          "352Y",
          "355E",
          "359N",
          "362L",
          "363K",
          "366V",
          "369L",
          "370E",
          "372E",
          "373L",
          "377R",
          "387Q",
          "388I",
          "390M",
          "393L",
          "396A",
          "397S"
         ],
         "xaxis": "x",
         "y": [
          2.5941569805145264,
          3.2108778953552246,
          3.4633238315582275,
          3.368378162384033,
          3.383876085281372,
          2.118377208709717,
          2.1266520023345947,
          2.901210069656372,
          2.898369312286377,
          3.02547836303711,
          3.478980302810669,
          2.5869014263153076,
          2.8415660858154297,
          2.7298479080200195,
          2.8014917373657227,
          3.4363529682159424,
          2.859236717224121,
          3.4483542442321777,
          2.5268359184265137,
          3.4055051803588867,
          2.766642808914185
         ],
         "yaxis": "y"
        },
        {
         "customdata": [
          [
           "fold_k401_atp_tub_seed1_model_0"
          ],
          [
           "fold_k401_atp_tub_seed1_model_0"
          ],
          [
           "fold_k401_atp_tub_seed1_model_0"
          ],
          [
           "fold_k401_atp_tub_seed1_model_0"
          ],
          [
           "fold_k401_atp_tub_seed1_model_0"
          ],
          [
           "fold_k401_atp_tub_seed1_model_0"
          ],
          [
           "fold_k401_atp_tub_seed1_model_0"
          ],
          [
           "fold_k401_atp_tub_seed1_model_0"
          ]
         ],
         "hovertemplate": "Interacting Chain=alpha-tubulin<br>Residue (Number and Identity)=%{x}<br>Distance (angstroms)=%{y}<br>interacting_atom=%{text}<br>file=%{customdata[0]}<extra></extra>",
         "legendgroup": "alpha-tubulin",
         "marker": {
          "color": "#ab63fa",
          "opacity": 0.6,
          "size": 10,
          "symbol": "circle"
         },
         "mode": "markers+text",
         "name": "alpha-tubulin",
         "orientation": "v",
         "showlegend": true,
         "text": [
          "OE2",
          "O",
          "NZ",
          "NZ",
          "O",
          "CG1",
          "CG1",
          "OE2"
         ],
         "textposition": "top center",
         "type": "scatter",
         "x": [
          "244K",
          "245V",
          "250A",
          "251E",
          "259K",
          "262N",
          "263K",
          "266S"
         ],
         "xaxis": "x",
         "y": [
          2.560426950454712,
          3.1075081825256348,
          3.409220933914185,
          3.4453158378601074,
          3.223480224609375,
          3.4584624767303467,
          3.4183528423309326,
          2.612457513809204
         ],
         "yaxis": "y"
        }
       ],
       "layout": {
        "legend": {
         "title": {
          "text": "Interacting Chain"
         },
         "tracegroupgap": 0
        },
        "template": {
         "data": {
          "bar": [
           {
            "error_x": {
             "color": "#2a3f5f"
            },
            "error_y": {
             "color": "#2a3f5f"
            },
            "marker": {
             "line": {
              "color": "#E5ECF6",
              "width": 0.5
             },
             "pattern": {
              "fillmode": "overlay",
              "size": 10,
              "solidity": 0.2
             }
            },
            "type": "bar"
           }
          ],
          "barpolar": [
           {
            "marker": {
             "line": {
              "color": "#E5ECF6",
              "width": 0.5
             },
             "pattern": {
              "fillmode": "overlay",
              "size": 10,
              "solidity": 0.2
             }
            },
            "type": "barpolar"
           }
          ],
          "carpet": [
           {
            "aaxis": {
             "endlinecolor": "#2a3f5f",
             "gridcolor": "white",
             "linecolor": "white",
             "minorgridcolor": "white",
             "startlinecolor": "#2a3f5f"
            },
            "baxis": {
             "endlinecolor": "#2a3f5f",
             "gridcolor": "white",
             "linecolor": "white",
             "minorgridcolor": "white",
             "startlinecolor": "#2a3f5f"
            },
            "type": "carpet"
           }
          ],
          "choropleth": [
           {
            "colorbar": {
             "outlinewidth": 0,
             "ticks": ""
            },
            "type": "choropleth"
           }
          ],
          "contour": [
           {
            "colorbar": {
             "outlinewidth": 0,
             "ticks": ""
            },
            "colorscale": [
             [
              0,
              "#0d0887"
             ],
             [
              0.1111111111111111,
              "#46039f"
             ],
             [
              0.2222222222222222,
              "#7201a8"
             ],
             [
              0.3333333333333333,
              "#9c179e"
             ],
             [
              0.4444444444444444,
              "#bd3786"
             ],
             [
              0.5555555555555556,
              "#d8576b"
             ],
             [
              0.6666666666666666,
              "#ed7953"
             ],
             [
              0.7777777777777778,
              "#fb9f3a"
             ],
             [
              0.8888888888888888,
              "#fdca26"
             ],
             [
              1,
              "#f0f921"
             ]
            ],
            "type": "contour"
           }
          ],
          "contourcarpet": [
           {
            "colorbar": {
             "outlinewidth": 0,
             "ticks": ""
            },
            "type": "contourcarpet"
           }
          ],
          "heatmap": [
           {
            "colorbar": {
             "outlinewidth": 0,
             "ticks": ""
            },
            "colorscale": [
             [
              0,
              "#0d0887"
             ],
             [
              0.1111111111111111,
              "#46039f"
             ],
             [
              0.2222222222222222,
              "#7201a8"
             ],
             [
              0.3333333333333333,
              "#9c179e"
             ],
             [
              0.4444444444444444,
              "#bd3786"
             ],
             [
              0.5555555555555556,
              "#d8576b"
             ],
             [
              0.6666666666666666,
              "#ed7953"
             ],
             [
              0.7777777777777778,
              "#fb9f3a"
             ],
             [
              0.8888888888888888,
              "#fdca26"
             ],
             [
              1,
              "#f0f921"
             ]
            ],
            "type": "heatmap"
           }
          ],
          "heatmapgl": [
           {
            "colorbar": {
             "outlinewidth": 0,
             "ticks": ""
            },
            "colorscale": [
             [
              0,
              "#0d0887"
             ],
             [
              0.1111111111111111,
              "#46039f"
             ],
             [
              0.2222222222222222,
              "#7201a8"
             ],
             [
              0.3333333333333333,
              "#9c179e"
             ],
             [
              0.4444444444444444,
              "#bd3786"
             ],
             [
              0.5555555555555556,
              "#d8576b"
             ],
             [
              0.6666666666666666,
              "#ed7953"
             ],
             [
              0.7777777777777778,
              "#fb9f3a"
             ],
             [
              0.8888888888888888,
              "#fdca26"
             ],
             [
              1,
              "#f0f921"
             ]
            ],
            "type": "heatmapgl"
           }
          ],
          "histogram": [
           {
            "marker": {
             "pattern": {
              "fillmode": "overlay",
              "size": 10,
              "solidity": 0.2
             }
            },
            "type": "histogram"
           }
          ],
          "histogram2d": [
           {
            "colorbar": {
             "outlinewidth": 0,
             "ticks": ""
            },
            "colorscale": [
             [
              0,
              "#0d0887"
             ],
             [
              0.1111111111111111,
              "#46039f"
             ],
             [
              0.2222222222222222,
              "#7201a8"
             ],
             [
              0.3333333333333333,
              "#9c179e"
             ],
             [
              0.4444444444444444,
              "#bd3786"
             ],
             [
              0.5555555555555556,
              "#d8576b"
             ],
             [
              0.6666666666666666,
              "#ed7953"
             ],
             [
              0.7777777777777778,
              "#fb9f3a"
             ],
             [
              0.8888888888888888,
              "#fdca26"
             ],
             [
              1,
              "#f0f921"
             ]
            ],
            "type": "histogram2d"
           }
          ],
          "histogram2dcontour": [
           {
            "colorbar": {
             "outlinewidth": 0,
             "ticks": ""
            },
            "colorscale": [
             [
              0,
              "#0d0887"
             ],
             [
              0.1111111111111111,
              "#46039f"
             ],
             [
              0.2222222222222222,
              "#7201a8"
             ],
             [
              0.3333333333333333,
              "#9c179e"
             ],
             [
              0.4444444444444444,
              "#bd3786"
             ],
             [
              0.5555555555555556,
              "#d8576b"
             ],
             [
              0.6666666666666666,
              "#ed7953"
             ],
             [
              0.7777777777777778,
              "#fb9f3a"
             ],
             [
              0.8888888888888888,
              "#fdca26"
             ],
             [
              1,
              "#f0f921"
             ]
            ],
            "type": "histogram2dcontour"
           }
          ],
          "mesh3d": [
           {
            "colorbar": {
             "outlinewidth": 0,
             "ticks": ""
            },
            "type": "mesh3d"
           }
          ],
          "parcoords": [
           {
            "line": {
             "colorbar": {
              "outlinewidth": 0,
              "ticks": ""
             }
            },
            "type": "parcoords"
           }
          ],
          "pie": [
           {
            "automargin": true,
            "type": "pie"
           }
          ],
          "scatter": [
           {
            "fillpattern": {
             "fillmode": "overlay",
             "size": 10,
             "solidity": 0.2
            },
            "type": "scatter"
           }
          ],
          "scatter3d": [
           {
            "line": {
             "colorbar": {
              "outlinewidth": 0,
              "ticks": ""
             }
            },
            "marker": {
             "colorbar": {
              "outlinewidth": 0,
              "ticks": ""
             }
            },
            "type": "scatter3d"
           }
          ],
          "scattercarpet": [
           {
            "marker": {
             "colorbar": {
              "outlinewidth": 0,
              "ticks": ""
             }
            },
            "type": "scattercarpet"
           }
          ],
          "scattergeo": [
           {
            "marker": {
             "colorbar": {
              "outlinewidth": 0,
              "ticks": ""
             }
            },
            "type": "scattergeo"
           }
          ],
          "scattergl": [
           {
            "marker": {
             "colorbar": {
              "outlinewidth": 0,
              "ticks": ""
             }
            },
            "type": "scattergl"
           }
          ],
          "scattermapbox": [
           {
            "marker": {
             "colorbar": {
              "outlinewidth": 0,
              "ticks": ""
             }
            },
            "type": "scattermapbox"
           }
          ],
          "scatterpolar": [
           {
            "marker": {
             "colorbar": {
              "outlinewidth": 0,
              "ticks": ""
             }
            },
            "type": "scatterpolar"
           }
          ],
          "scatterpolargl": [
           {
            "marker": {
             "colorbar": {
              "outlinewidth": 0,
              "ticks": ""
             }
            },
            "type": "scatterpolargl"
           }
          ],
          "scatterternary": [
           {
            "marker": {
             "colorbar": {
              "outlinewidth": 0,
              "ticks": ""
             }
            },
            "type": "scatterternary"
           }
          ],
          "surface": [
           {
            "colorbar": {
             "outlinewidth": 0,
             "ticks": ""
            },
            "colorscale": [
             [
              0,
              "#0d0887"
             ],
             [
              0.1111111111111111,
              "#46039f"
             ],
             [
              0.2222222222222222,
              "#7201a8"
             ],
             [
              0.3333333333333333,
              "#9c179e"
             ],
             [
              0.4444444444444444,
              "#bd3786"
             ],
             [
              0.5555555555555556,
              "#d8576b"
             ],
             [
              0.6666666666666666,
              "#ed7953"
             ],
             [
              0.7777777777777778,
              "#fb9f3a"
             ],
             [
              0.8888888888888888,
              "#fdca26"
             ],
             [
              1,
              "#f0f921"
             ]
            ],
            "type": "surface"
           }
          ],
          "table": [
           {
            "cells": {
             "fill": {
              "color": "#EBF0F8"
             },
             "line": {
              "color": "white"
             }
            },
            "header": {
             "fill": {
              "color": "#C8D4E3"
             },
             "line": {
              "color": "white"
             }
            },
            "type": "table"
           }
          ]
         },
         "layout": {
          "annotationdefaults": {
           "arrowcolor": "#2a3f5f",
           "arrowhead": 0,
           "arrowwidth": 1
          },
          "autotypenumbers": "strict",
          "coloraxis": {
           "colorbar": {
            "outlinewidth": 0,
            "ticks": ""
           }
          },
          "colorscale": {
           "diverging": [
            [
             0,
             "#8e0152"
            ],
            [
             0.1,
             "#c51b7d"
            ],
            [
             0.2,
             "#de77ae"
            ],
            [
             0.3,
             "#f1b6da"
            ],
            [
             0.4,
             "#fde0ef"
            ],
            [
             0.5,
             "#f7f7f7"
            ],
            [
             0.6,
             "#e6f5d0"
            ],
            [
             0.7,
             "#b8e186"
            ],
            [
             0.8,
             "#7fbc41"
            ],
            [
             0.9,
             "#4d9221"
            ],
            [
             1,
             "#276419"
            ]
           ],
           "sequential": [
            [
             0,
             "#0d0887"
            ],
            [
             0.1111111111111111,
             "#46039f"
            ],
            [
             0.2222222222222222,
             "#7201a8"
            ],
            [
             0.3333333333333333,
             "#9c179e"
            ],
            [
             0.4444444444444444,
             "#bd3786"
            ],
            [
             0.5555555555555556,
             "#d8576b"
            ],
            [
             0.6666666666666666,
             "#ed7953"
            ],
            [
             0.7777777777777778,
             "#fb9f3a"
            ],
            [
             0.8888888888888888,
             "#fdca26"
            ],
            [
             1,
             "#f0f921"
            ]
           ],
           "sequentialminus": [
            [
             0,
             "#0d0887"
            ],
            [
             0.1111111111111111,
             "#46039f"
            ],
            [
             0.2222222222222222,
             "#7201a8"
            ],
            [
             0.3333333333333333,
             "#9c179e"
            ],
            [
             0.4444444444444444,
             "#bd3786"
            ],
            [
             0.5555555555555556,
             "#d8576b"
            ],
            [
             0.6666666666666666,
             "#ed7953"
            ],
            [
             0.7777777777777778,
             "#fb9f3a"
            ],
            [
             0.8888888888888888,
             "#fdca26"
            ],
            [
             1,
             "#f0f921"
            ]
           ]
          },
          "colorway": [
           "#636efa",
           "#EF553B",
           "#00cc96",
           "#ab63fa",
           "#FFA15A",
           "#19d3f3",
           "#FF6692",
           "#B6E880",
           "#FF97FF",
           "#FECB52"
          ],
          "font": {
           "color": "#2a3f5f"
          },
          "geo": {
           "bgcolor": "white",
           "lakecolor": "white",
           "landcolor": "#E5ECF6",
           "showlakes": true,
           "showland": true,
           "subunitcolor": "white"
          },
          "hoverlabel": {
           "align": "left"
          },
          "hovermode": "closest",
          "mapbox": {
           "style": "light"
          },
          "paper_bgcolor": "white",
          "plot_bgcolor": "#E5ECF6",
          "polar": {
           "angularaxis": {
            "gridcolor": "white",
            "linecolor": "white",
            "ticks": ""
           },
           "bgcolor": "#E5ECF6",
           "radialaxis": {
            "gridcolor": "white",
            "linecolor": "white",
            "ticks": ""
           }
          },
          "scene": {
           "xaxis": {
            "backgroundcolor": "#E5ECF6",
            "gridcolor": "white",
            "gridwidth": 2,
            "linecolor": "white",
            "showbackground": true,
            "ticks": "",
            "zerolinecolor": "white"
           },
           "yaxis": {
            "backgroundcolor": "#E5ECF6",
            "gridcolor": "white",
            "gridwidth": 2,
            "linecolor": "white",
            "showbackground": true,
            "ticks": "",
            "zerolinecolor": "white"
           },
           "zaxis": {
            "backgroundcolor": "#E5ECF6",
            "gridcolor": "white",
            "gridwidth": 2,
            "linecolor": "white",
            "showbackground": true,
            "ticks": "",
            "zerolinecolor": "white"
           }
          },
          "shapedefaults": {
           "line": {
            "color": "#2a3f5f"
           }
          },
          "ternary": {
           "aaxis": {
            "gridcolor": "white",
            "linecolor": "white",
            "ticks": ""
           },
           "baxis": {
            "gridcolor": "white",
            "linecolor": "white",
            "ticks": ""
           },
           "bgcolor": "#E5ECF6",
           "caxis": {
            "gridcolor": "white",
            "linecolor": "white",
            "ticks": ""
           }
          },
          "title": {
           "x": 0.05
          },
          "xaxis": {
           "automargin": true,
           "gridcolor": "white",
           "linecolor": "white",
           "ticks": "",
           "title": {
            "standoff": 15
           },
           "zerolinecolor": "white",
           "zerolinewidth": 2
          },
          "yaxis": {
           "automargin": true,
           "gridcolor": "white",
           "linecolor": "white",
           "ticks": "",
           "title": {
            "standoff": 15
           },
           "zerolinecolor": "white",
           "zerolinewidth": 2
          }
         }
        },
        "title": {
         "text": "Interaction Distances by Residue and Interacting Chain"
        },
        "xaxis": {
         "anchor": "y",
         "categoryarray": [
          "94T",
          "95S",
          "96S",
          "97G",
          "98K",
          "99T",
          "100H",
          "148K",
          "159N",
          "163H",
          "164E",
          "166K",
          "167N",
          "205N",
          "208S",
          "209S",
          "241G",
          "244K",
          "245V",
          "250A",
          "251E",
          "259K",
          "262N",
          "263K",
          "266S",
          "282H",
          "286R",
          "287D",
          "345A",
          "348W",
          "352Y",
          "355E",
          "359N",
          "362L",
          "363K",
          "366V",
          "369L",
          "370E",
          "372E",
          "373L",
          "377R",
          "387Q",
          "388I",
          "390M",
          "393L",
          "396A",
          "397S"
         ],
         "categoryorder": "array",
         "domain": [
          0,
          1
         ],
         "title": {
          "text": "Residue (Number and Identity)"
         }
        },
        "yaxis": {
         "anchor": "x",
         "domain": [
          0,
          1
         ],
         "title": {
          "text": "Distance (angstroms)"
         }
        }
       }
      }
     },
     "metadata": {},
     "output_type": "display_data"
    }
   ],
   "source": [
    "import pandas as pd\n",
    "import plotly.express as px\n",
    "\n",
    "# Define the path to the CSV file\n",
    "csv_file_path = \"/Users/jazzeruncal/git/Jazzer_surf/3d_predictions/same_seed/Seed_1/interactions_all_files.csv\"\n",
    "\n",
    "# Read the CSV file into a DataFrame\n",
    "df = pd.read_csv(csv_file_path)\n",
    "\n",
    "# Filter to get the shortest distances for each interaction\n",
    "df = df.loc[df[df['chain'] == 'A'].groupby(['file', 'resi', 'interacting_chain'])['distance (angstroms)'].idxmin()]\n",
    "\n",
    "# Exclude interactions with Mg and chain letters A, G, H\n",
    "df = df[(df['interacting_resn'] != 'MG') & (~df['interacting_chain'].isin(['A', 'G', 'H']))].reset_index(drop=True)\n",
    "\n",
    "# Map interacting_resn to single-letter codes for better readability\n",
    "aa_dict = {\n",
    "    'ALA': 'A', 'ARG': 'R', 'ASN': 'N', 'ASP': 'D', 'CYS': 'C', 'GLN': 'Q', 'GLU': 'E', 'GLY': 'G',\n",
    "    'HIS': 'H', 'ILE': 'I', 'LEU': 'L', 'LYS': 'K', 'MET': 'M', 'PHE': 'F', 'PRO': 'P', 'SER': 'S',\n",
    "    'THR': 'T', 'TRP': 'W', 'TYR': 'Y', 'VAL': 'V'\n",
    "}\n",
    "df['residue_one_letter'] = df['resn'].map(aa_dict)\n",
    "df['residue'] = df['resi'].astype(str) + df['residue_one_letter']\n",
    "\n",
    "# Replace chain letters with descriptive names\n",
    "chain_map = {\n",
    "    'B': 'kinesin B',\n",
    "    'C': 'alpha-tubulin',\n",
    "    'D': 'beta-tubulin',\n",
    "    'E': 'ATP',\n",
    "    'F': 'ATP'\n",
    "}\n",
    "df['interacting_chain'] = df['interacting_chain'].map(chain_map)\n",
    "\n",
    "# Filter to specific files\n",
    "df = df.loc[df['file'].isin([\n",
    "    'fold_k401_atp_tub_seed1_model_0', \n",
    "    ])]\n",
    "\n",
    "# Group by file and interacting chain, keeping residues in order\n",
    "grouped = df.groupby(['file', 'interacting_chain'])\n",
    "\n",
    "# Create a list to store the output rows\n",
    "output_rows = []\n",
    "\n",
    "# Iterate over each group and extract information\n",
    "for (file, chain), group in grouped:\n",
    "    for _, row in group.iterrows():\n",
    "        output_rows.append({\n",
    "            'file': file,\n",
    "            'interacting_chain': chain,\n",
    "            'interacting_atom': row['interacting_atom'],\n",
    "            'residue_number': row['resi'],\n",
    "            'amino_acid': row['residue_one_letter'],\n",
    "            'distance (angstroms)': row['distance (angstroms)'],\n",
    "        })\n",
    "\n",
    "# Convert the list to a DataFrame\n",
    "interaction_df = pd.DataFrame(output_rows)\n",
    "\n",
    "# Display the resulting DataFrame\n",
    "interaction_df\n",
    "\n",
    "interaction_df.to_csv(\"interaction_summary.csv\", index=False)\n",
    "\n",
    "\n",
    "\n",
    "# Load the data\n",
    "csv_file_path = \"interaction_summary.csv\"\n",
    "interaction_df = pd.read_csv(csv_file_path)\n",
    "\n",
    "# Create a new column for the x-axis labels by concatenating residue number and amino acid\n",
    "interaction_df['residue_label'] = interaction_df['residue_number'].astype(str) + interaction_df['amino_acid']\n",
    "\n",
    "# Sort the dataframe by file and residue number to maintain order\n",
    "interaction_df = interaction_df.sort_values(by=['file', 'residue_number'])\n",
    "\n",
    "# Convert residue_label to a categorical type with the correct order\n",
    "interaction_df['residue_label'] = pd.Categorical(interaction_df['residue_label'], \n",
    "                                                 categories=sorted(interaction_df['residue_label'].unique(), key=lambda x: int(''.join(filter(str.isdigit, x)))), \n",
    "                                                 ordered=True)\n",
    "\n",
    "# Scatter plot for interaction distances with custom x-axis labels\n",
    "fig_scatter = px.scatter(interaction_df, x='residue_label', y='distance (angstroms)', color='interacting_chain', text='interacting_atom',\n",
    "                         title='Interaction Distances by Residue and Interacting Chain',\n",
    "                         labels={'residue_label': 'Residue (Number and Identity)', 'distance (angstroms)': 'Distance (angstroms)', 'interacting_chain': 'Interacting Chain'},\n",
    "                         hover_data=['file'])\n",
    "\n",
    "fig_scatter.update_traces(textposition='top center', marker=dict(size=10, opacity=0.6))\n",
    "fig_scatter.update_layout(xaxis={'categoryorder':'array', 'categoryarray': interaction_df['residue_label'].cat.categories})\n",
    "\n",
    "# Show the plot\n",
    "fig_scatter.show()\n",
    "\n"
   ]
  },
  {
   "cell_type": "markdown",
   "metadata": {},
   "source": [
    "F"
   ]
  },
  {
   "cell_type": "code",
   "execution_count": 64,
   "metadata": {},
   "outputs": [
    {
     "data": {
      "application/vnd.plotly.v1+json": {
       "config": {
        "plotlyServerURL": "https://plot.ly"
       },
       "data": [
        {
         "customdata": [
          [
           "fold_f_atp_tub_seed1_model_0"
          ],
          [
           "fold_f_atp_tub_seed1_model_0"
          ],
          [
           "fold_f_atp_tub_seed1_model_0"
          ],
          [
           "fold_f_atp_tub_seed1_model_0"
          ],
          [
           "fold_f_atp_tub_seed1_model_0"
          ],
          [
           "fold_f_atp_tub_seed1_model_0"
          ],
          [
           "fold_f_atp_tub_seed1_model_0"
          ],
          [
           "fold_f_atp_tub_seed1_model_0"
          ],
          [
           "fold_f_atp_tub_seed1_model_0"
          ],
          [
           "fold_f_atp_tub_seed1_model_0"
          ],
          [
           "fold_f_atp_tub_seed1_model_0"
          ]
         ],
         "hovertemplate": "Interacting Chain=ATP<br>Residue (Number and Identity)=%{x}<br>Distance (angstroms)=%{y}<br>interacting_atom=%{text}<br>file=%{customdata[0]}<extra></extra>",
         "legendgroup": "ATP",
         "marker": {
          "color": "#636efa",
          "opacity": 0.6,
          "size": 10,
          "symbol": "circle"
         },
         "mode": "markers+text",
         "name": "ATP",
         "orientation": "v",
         "showlegend": true,
         "text": [
          "O3G",
          "O3B",
          "O1B",
          "O1B",
          "O1B",
          "O2B",
          "O2A",
          "O3B",
          "O3G",
          "O2G",
          "O1G"
         ],
         "textposition": "top center",
         "type": "scatter",
         "x": [
          "87T",
          "88G",
          "89S",
          "90G",
          "91K",
          "92T",
          "93F",
          "201N",
          "204S",
          "205S",
          "237G"
         ],
         "xaxis": "x",
         "y": [
          2.542696952819824,
          2.785813331604004,
          3.339068651199341,
          2.9566404819488525,
          2.72760272026062,
          2.7561256885528564,
          2.7563605308532715,
          2.9401934146881104,
          3.0313405990600586,
          2.9123504161834717,
          2.9134490489959717
         ],
         "yaxis": "y"
        },
        {
         "customdata": [
          [
           "fold_f_atp_tub_seed1_model_0"
          ],
          [
           "fold_f_atp_tub_seed1_model_0"
          ],
          [
           "fold_f_atp_tub_seed1_model_0"
          ],
          [
           "fold_f_atp_tub_seed1_model_0"
          ],
          [
           "fold_f_atp_tub_seed1_model_0"
          ],
          [
           "fold_f_atp_tub_seed1_model_0"
          ],
          [
           "fold_f_atp_tub_seed1_model_0"
          ],
          [
           "fold_f_atp_tub_seed1_model_0"
          ],
          [
           "fold_f_atp_tub_seed1_model_0"
          ]
         ],
         "hovertemplate": "Interacting Chain=beta-tubulin<br>Residue (Number and Identity)=%{x}<br>Distance (angstroms)=%{y}<br>interacting_atom=%{text}<br>file=%{customdata[0]}<extra></extra>",
         "legendgroup": "beta-tubulin",
         "marker": {
          "color": "#EF553B",
          "opacity": 0.6,
          "size": 10,
          "symbol": "circle"
         },
         "mode": "markers+text",
         "name": "beta-tubulin",
         "orientation": "v",
         "showlegend": true,
         "text": [
          "OE1",
          "OE1",
          "OE1",
          "OE2",
          "OE1",
          "OD2",
          "CD",
          "OE2",
          "OE1"
         ],
         "textposition": "top center",
         "type": "scatter",
         "x": [
          "144R",
          "157K",
          "158V",
          "159R",
          "278H",
          "282R",
          "283D",
          "285K",
          "324R"
         ],
         "xaxis": "x",
         "y": [
          2.659912109375,
          3.442375659942627,
          2.159226417541504,
          2.827061414718628,
          2.5261716842651367,
          2.3471994400024414,
          3.24949312210083,
          3.3346869945526123,
          2.4401464462280273
         ],
         "yaxis": "y"
        },
        {
         "customdata": [
          [
           "fold_f_atp_tub_seed1_model_0"
          ],
          [
           "fold_f_atp_tub_seed1_model_0"
          ],
          [
           "fold_f_atp_tub_seed1_model_0"
          ],
          [
           "fold_f_atp_tub_seed1_model_0"
          ],
          [
           "fold_f_atp_tub_seed1_model_0"
          ],
          [
           "fold_f_atp_tub_seed1_model_0"
          ],
          [
           "fold_f_atp_tub_seed1_model_0"
          ],
          [
           "fold_f_atp_tub_seed1_model_0"
          ],
          [
           "fold_f_atp_tub_seed1_model_0"
          ]
         ],
         "hovertemplate": "Interacting Chain=alpha-tubulin<br>Residue (Number and Identity)=%{x}<br>Distance (angstroms)=%{y}<br>interacting_atom=%{text}<br>file=%{customdata[0]}<extra></extra>",
         "legendgroup": "alpha-tubulin",
         "marker": {
          "color": "#00cc96",
          "opacity": 0.6,
          "size": 10,
          "symbol": "circle"
         },
         "mode": "markers+text",
         "name": "alpha-tubulin",
         "orientation": "v",
         "showlegend": true,
         "text": [
          "OE2",
          "O",
          "O",
          "CG1",
          "CG1",
          "OE2",
          "CG",
          "OE1",
          "OE1"
         ],
         "textposition": "top center",
         "type": "scatter",
         "x": [
          "240K",
          "241V",
          "255K",
          "258N",
          "259K",
          "262S",
          "266N",
          "314S",
          "317K"
         ],
         "xaxis": "x",
         "y": [
          2.581639289855957,
          3.096024751663208,
          3.244494676589966,
          3.4647717475891113,
          3.361392021179199,
          2.327378273010254,
          3.253309965133667,
          3.3999710083007812,
          2.7135536670684814
         ],
         "yaxis": "y"
        },
        {
         "customdata": [
          [
           "fold_f_atp_tub_seed1_model_0"
          ],
          [
           "fold_f_atp_tub_seed1_model_0"
          ],
          [
           "fold_f_atp_tub_seed1_model_0"
          ],
          [
           "fold_f_atp_tub_seed1_model_0"
          ],
          [
           "fold_f_atp_tub_seed1_model_0"
          ],
          [
           "fold_f_atp_tub_seed1_model_0"
          ],
          [
           "fold_f_atp_tub_seed1_model_0"
          ],
          [
           "fold_f_atp_tub_seed1_model_0"
          ],
          [
           "fold_f_atp_tub_seed1_model_0"
          ],
          [
           "fold_f_atp_tub_seed1_model_0"
          ],
          [
           "fold_f_atp_tub_seed1_model_0"
          ],
          [
           "fold_f_atp_tub_seed1_model_0"
          ],
          [
           "fold_f_atp_tub_seed1_model_0"
          ],
          [
           "fold_f_atp_tub_seed1_model_0"
          ],
          [
           "fold_f_atp_tub_seed1_model_0"
          ],
          [
           "fold_f_atp_tub_seed1_model_0"
          ],
          [
           "fold_f_atp_tub_seed1_model_0"
          ],
          [
           "fold_f_atp_tub_seed1_model_0"
          ],
          [
           "fold_f_atp_tub_seed1_model_0"
          ],
          [
           "fold_f_atp_tub_seed1_model_0"
          ],
          [
           "fold_f_atp_tub_seed1_model_0"
          ],
          [
           "fold_f_atp_tub_seed1_model_0"
          ],
          [
           "fold_f_atp_tub_seed1_model_0"
          ],
          [
           "fold_f_atp_tub_seed1_model_0"
          ],
          [
           "fold_f_atp_tub_seed1_model_0"
          ],
          [
           "fold_f_atp_tub_seed1_model_0"
          ],
          [
           "fold_f_atp_tub_seed1_model_0"
          ],
          [
           "fold_f_atp_tub_seed1_model_0"
          ],
          [
           "fold_f_atp_tub_seed1_model_0"
          ],
          [
           "fold_f_atp_tub_seed1_model_0"
          ],
          [
           "fold_f_atp_tub_seed1_model_0"
          ],
          [
           "fold_f_atp_tub_seed1_model_0"
          ],
          [
           "fold_f_atp_tub_seed1_model_0"
          ],
          [
           "fold_f_atp_tub_seed1_model_0"
          ],
          [
           "fold_f_atp_tub_seed1_model_0"
          ],
          [
           "fold_f_atp_tub_seed1_model_0"
          ],
          [
           "fold_f_atp_tub_seed1_model_0"
          ],
          [
           "fold_f_atp_tub_seed1_model_0"
          ],
          [
           "fold_f_atp_tub_seed1_model_0"
          ],
          [
           "fold_f_atp_tub_seed1_model_0"
          ],
          [
           "fold_f_atp_tub_seed1_model_0"
          ],
          [
           "fold_f_atp_tub_seed1_model_0"
          ],
          [
           "fold_f_atp_tub_seed1_model_0"
          ],
          [
           "fold_f_atp_tub_seed1_model_0"
          ],
          [
           "fold_f_atp_tub_seed1_model_0"
          ],
          [
           "fold_f_atp_tub_seed1_model_0"
          ],
          [
           "fold_f_atp_tub_seed1_model_0"
          ],
          [
           "fold_f_atp_tub_seed1_model_0"
          ],
          [
           "fold_f_atp_tub_seed1_model_0"
          ],
          [
           "fold_f_atp_tub_seed1_model_0"
          ],
          [
           "fold_f_atp_tub_seed1_model_0"
          ],
          [
           "fold_f_atp_tub_seed1_model_0"
          ],
          [
           "fold_f_atp_tub_seed1_model_0"
          ],
          [
           "fold_f_atp_tub_seed1_model_0"
          ],
          [
           "fold_f_atp_tub_seed1_model_0"
          ],
          [
           "fold_f_atp_tub_seed1_model_0"
          ],
          [
           "fold_f_atp_tub_seed1_model_0"
          ],
          [
           "fold_f_atp_tub_seed1_model_0"
          ],
          [
           "fold_f_atp_tub_seed1_model_0"
          ],
          [
           "fold_f_atp_tub_seed1_model_0"
          ],
          [
           "fold_f_atp_tub_seed1_model_0"
          ],
          [
           "fold_f_atp_tub_seed1_model_0"
          ],
          [
           "fold_f_atp_tub_seed1_model_0"
          ],
          [
           "fold_f_atp_tub_seed1_model_0"
          ],
          [
           "fold_f_atp_tub_seed1_model_0"
          ],
          [
           "fold_f_atp_tub_seed1_model_0"
          ],
          [
           "fold_f_atp_tub_seed1_model_0"
          ],
          [
           "fold_f_atp_tub_seed1_model_0"
          ],
          [
           "fold_f_atp_tub_seed1_model_0"
          ],
          [
           "fold_f_atp_tub_seed1_model_0"
          ],
          [
           "fold_f_atp_tub_seed1_model_0"
          ],
          [
           "fold_f_atp_tub_seed1_model_0"
          ],
          [
           "fold_f_atp_tub_seed1_model_0"
          ],
          [
           "fold_f_atp_tub_seed1_model_0"
          ],
          [
           "fold_f_atp_tub_seed1_model_0"
          ],
          [
           "fold_f_atp_tub_seed1_model_0"
          ],
          [
           "fold_f_atp_tub_seed1_model_0"
          ],
          [
           "fold_f_atp_tub_seed1_model_0"
          ],
          [
           "fold_f_atp_tub_seed1_model_0"
          ],
          [
           "fold_f_atp_tub_seed1_model_0"
          ],
          [
           "fold_f_atp_tub_seed1_model_0"
          ],
          [
           "fold_f_atp_tub_seed1_model_0"
          ],
          [
           "fold_f_atp_tub_seed1_model_0"
          ]
         ],
         "hovertemplate": "Interacting Chain=kinesin B<br>Residue (Number and Identity)=%{x}<br>Distance (angstroms)=%{y}<br>interacting_atom=%{text}<br>file=%{customdata[0]}<extra></extra>",
         "legendgroup": "kinesin B",
         "marker": {
          "color": "#ab63fa",
          "opacity": 0.6,
          "size": 10,
          "symbol": "circle"
         },
         "mode": "markers+text",
         "name": "kinesin B",
         "orientation": "v",
         "showlegend": true,
         "text": [
          "CD1",
          "O",
          "OE1",
          "CD1",
          "C",
          "CD1",
          "NZ",
          "O",
          "NZ",
          "CD1",
          "OE1",
          "OE1",
          "CD2",
          "O",
          "OH",
          "CD2",
          "CD2",
          "NE2",
          "OE1",
          "OE2",
          "CG1",
          "OE1",
          "CD",
          "OD2",
          "CG2",
          "CG1",
          "SG",
          "OE1",
          "SG",
          "NZ",
          "CD1",
          "CD1",
          "OE1",
          "NZ",
          "NZ",
          "OE2",
          "CE",
          "CE",
          "CD1",
          "OE1",
          "CD2",
          "OE1",
          "CG",
          "NE2",
          "N",
          "CD1",
          "NZ",
          "CA",
          "O",
          "OD2",
          "NZ",
          "CG",
          "CD1",
          "CG",
          "CD1",
          "CD2",
          "CD2",
          "OG",
          "CE2",
          "O",
          "OG",
          "ND2",
          "OD1",
          "OD1",
          "CD2",
          "O",
          "CD1",
          "CD1",
          "OG",
          "OE1",
          "O",
          "CG1",
          "OD1",
          "CD2",
          "NZ",
          "OD1",
          "CG2",
          "OE1",
          "CD1",
          "CD2",
          "O",
          "CG1",
          "NH1"
         ],
         "textposition": "top center",
         "type": "scatter",
         "x": [
          "341A",
          "344L",
          "345K",
          "347L",
          "348L",
          "351A",
          "354E",
          "355I",
          "356E",
          "358L",
          "359K",
          "361Y",
          "362I",
          "365L",
          "366E",
          "368V",
          "371V",
          "373V",
          "374S",
          "375N",
          "376L",
          "377K",
          "378S",
          "444T",
          "448D",
          "452I",
          "455L",
          "458K",
          "459C",
          "463E",
          "465Q",
          "466L",
          "469K",
          "470E",
          "472E",
          "473K",
          "476I",
          "477L",
          "479Q",
          "480L",
          "481E",
          "482Q",
          "483Q",
          "484Q",
          "485E",
          "486Q",
          "487I",
          "488Q",
          "489D",
          "490K",
          "491D",
          "492Q",
          "493E",
          "494I",
          "497L",
          "498N",
          "501I",
          "504S",
          "510L",
          "511Y",
          "514S",
          "517E",
          "518N",
          "521L",
          "522N",
          "525L",
          "531A",
          "532L",
          "535S",
          "539A",
          "542Q",
          "546I",
          "549L",
          "550N",
          "552E",
          "553N",
          "556I",
          "557K",
          "560L",
          "563L",
          "566R",
          "575I",
          "578L"
         ],
         "xaxis": "x",
         "y": [
          3.1672523021698,
          2.819380283355713,
          2.920363664627075,
          3.464143753051758,
          3.347780466079712,
          3.4679648876190186,
          2.7725844383239746,
          3.452316999435425,
          2.658996820449829,
          3.306603193283081,
          2.6519646644592285,
          2.6610894203186035,
          3.3148040771484375,
          2.9597132205963135,
          2.8133668899536133,
          2.686612367630005,
          3.120591878890991,
          2.082266092300415,
          1.9554407596588137,
          2.474062204360962,
          2.8292860984802246,
          3.031528949737549,
          1.7498466968536377,
          2.3830008506774902,
          2.386533737182617,
          3.423638820648194,
          3.4863955974578857,
          2.6257355213165283,
          2.997615337371826,
          2.634763479232788,
          3.2427241802215576,
          3.0442609786987305,
          2.589138984680176,
          2.580317497253418,
          2.60253643989563,
          2.68637752532959,
          2.969231605529785,
          2.3736300468444824,
          3.2871105670928955,
          2.6184844970703125,
          2.0390546321868896,
          3.227039098739624,
          2.6354708671569824,
          2.1676480770111084,
          2.177757740020752,
          3.3629465103149414,
          2.7733194828033447,
          1.8606135845184328,
          2.9420857429504395,
          2.521277904510498,
          2.564666748046875,
          3.454831123352051,
          3.366765022277832,
          3.3134779930114746,
          2.8268046379089355,
          3.2346081733703613,
          2.8658788204193115,
          2.806316375732422,
          3.3879876136779785,
          3.2813076972961426,
          2.65964412689209,
          3.446949243545532,
          2.223766326904297,
          2.9560561180114746,
          3.357943058013916,
          3.444593667984009,
          3.3830044269561768,
          3.3371646404266357,
          2.747312307357788,
          2.8122639656066895,
          2.8175299167633057,
          3.3347859382629395,
          3.18597674369812,
          3.2075884342193604,
          2.678142786026001,
          2.0269479751586914,
          3.2745745182037354,
          2.805570125579834,
          3.1412432193756104,
          3.196798801422119,
          3.00905442237854,
          2.929402112960815,
          3.235168933868408
         ],
         "yaxis": "y"
        }
       ],
       "layout": {
        "legend": {
         "title": {
          "text": "Interacting Chain"
         },
         "tracegroupgap": 0
        },
        "template": {
         "data": {
          "bar": [
           {
            "error_x": {
             "color": "#2a3f5f"
            },
            "error_y": {
             "color": "#2a3f5f"
            },
            "marker": {
             "line": {
              "color": "#E5ECF6",
              "width": 0.5
             },
             "pattern": {
              "fillmode": "overlay",
              "size": 10,
              "solidity": 0.2
             }
            },
            "type": "bar"
           }
          ],
          "barpolar": [
           {
            "marker": {
             "line": {
              "color": "#E5ECF6",
              "width": 0.5
             },
             "pattern": {
              "fillmode": "overlay",
              "size": 10,
              "solidity": 0.2
             }
            },
            "type": "barpolar"
           }
          ],
          "carpet": [
           {
            "aaxis": {
             "endlinecolor": "#2a3f5f",
             "gridcolor": "white",
             "linecolor": "white",
             "minorgridcolor": "white",
             "startlinecolor": "#2a3f5f"
            },
            "baxis": {
             "endlinecolor": "#2a3f5f",
             "gridcolor": "white",
             "linecolor": "white",
             "minorgridcolor": "white",
             "startlinecolor": "#2a3f5f"
            },
            "type": "carpet"
           }
          ],
          "choropleth": [
           {
            "colorbar": {
             "outlinewidth": 0,
             "ticks": ""
            },
            "type": "choropleth"
           }
          ],
          "contour": [
           {
            "colorbar": {
             "outlinewidth": 0,
             "ticks": ""
            },
            "colorscale": [
             [
              0,
              "#0d0887"
             ],
             [
              0.1111111111111111,
              "#46039f"
             ],
             [
              0.2222222222222222,
              "#7201a8"
             ],
             [
              0.3333333333333333,
              "#9c179e"
             ],
             [
              0.4444444444444444,
              "#bd3786"
             ],
             [
              0.5555555555555556,
              "#d8576b"
             ],
             [
              0.6666666666666666,
              "#ed7953"
             ],
             [
              0.7777777777777778,
              "#fb9f3a"
             ],
             [
              0.8888888888888888,
              "#fdca26"
             ],
             [
              1,
              "#f0f921"
             ]
            ],
            "type": "contour"
           }
          ],
          "contourcarpet": [
           {
            "colorbar": {
             "outlinewidth": 0,
             "ticks": ""
            },
            "type": "contourcarpet"
           }
          ],
          "heatmap": [
           {
            "colorbar": {
             "outlinewidth": 0,
             "ticks": ""
            },
            "colorscale": [
             [
              0,
              "#0d0887"
             ],
             [
              0.1111111111111111,
              "#46039f"
             ],
             [
              0.2222222222222222,
              "#7201a8"
             ],
             [
              0.3333333333333333,
              "#9c179e"
             ],
             [
              0.4444444444444444,
              "#bd3786"
             ],
             [
              0.5555555555555556,
              "#d8576b"
             ],
             [
              0.6666666666666666,
              "#ed7953"
             ],
             [
              0.7777777777777778,
              "#fb9f3a"
             ],
             [
              0.8888888888888888,
              "#fdca26"
             ],
             [
              1,
              "#f0f921"
             ]
            ],
            "type": "heatmap"
           }
          ],
          "heatmapgl": [
           {
            "colorbar": {
             "outlinewidth": 0,
             "ticks": ""
            },
            "colorscale": [
             [
              0,
              "#0d0887"
             ],
             [
              0.1111111111111111,
              "#46039f"
             ],
             [
              0.2222222222222222,
              "#7201a8"
             ],
             [
              0.3333333333333333,
              "#9c179e"
             ],
             [
              0.4444444444444444,
              "#bd3786"
             ],
             [
              0.5555555555555556,
              "#d8576b"
             ],
             [
              0.6666666666666666,
              "#ed7953"
             ],
             [
              0.7777777777777778,
              "#fb9f3a"
             ],
             [
              0.8888888888888888,
              "#fdca26"
             ],
             [
              1,
              "#f0f921"
             ]
            ],
            "type": "heatmapgl"
           }
          ],
          "histogram": [
           {
            "marker": {
             "pattern": {
              "fillmode": "overlay",
              "size": 10,
              "solidity": 0.2
             }
            },
            "type": "histogram"
           }
          ],
          "histogram2d": [
           {
            "colorbar": {
             "outlinewidth": 0,
             "ticks": ""
            },
            "colorscale": [
             [
              0,
              "#0d0887"
             ],
             [
              0.1111111111111111,
              "#46039f"
             ],
             [
              0.2222222222222222,
              "#7201a8"
             ],
             [
              0.3333333333333333,
              "#9c179e"
             ],
             [
              0.4444444444444444,
              "#bd3786"
             ],
             [
              0.5555555555555556,
              "#d8576b"
             ],
             [
              0.6666666666666666,
              "#ed7953"
             ],
             [
              0.7777777777777778,
              "#fb9f3a"
             ],
             [
              0.8888888888888888,
              "#fdca26"
             ],
             [
              1,
              "#f0f921"
             ]
            ],
            "type": "histogram2d"
           }
          ],
          "histogram2dcontour": [
           {
            "colorbar": {
             "outlinewidth": 0,
             "ticks": ""
            },
            "colorscale": [
             [
              0,
              "#0d0887"
             ],
             [
              0.1111111111111111,
              "#46039f"
             ],
             [
              0.2222222222222222,
              "#7201a8"
             ],
             [
              0.3333333333333333,
              "#9c179e"
             ],
             [
              0.4444444444444444,
              "#bd3786"
             ],
             [
              0.5555555555555556,
              "#d8576b"
             ],
             [
              0.6666666666666666,
              "#ed7953"
             ],
             [
              0.7777777777777778,
              "#fb9f3a"
             ],
             [
              0.8888888888888888,
              "#fdca26"
             ],
             [
              1,
              "#f0f921"
             ]
            ],
            "type": "histogram2dcontour"
           }
          ],
          "mesh3d": [
           {
            "colorbar": {
             "outlinewidth": 0,
             "ticks": ""
            },
            "type": "mesh3d"
           }
          ],
          "parcoords": [
           {
            "line": {
             "colorbar": {
              "outlinewidth": 0,
              "ticks": ""
             }
            },
            "type": "parcoords"
           }
          ],
          "pie": [
           {
            "automargin": true,
            "type": "pie"
           }
          ],
          "scatter": [
           {
            "fillpattern": {
             "fillmode": "overlay",
             "size": 10,
             "solidity": 0.2
            },
            "type": "scatter"
           }
          ],
          "scatter3d": [
           {
            "line": {
             "colorbar": {
              "outlinewidth": 0,
              "ticks": ""
             }
            },
            "marker": {
             "colorbar": {
              "outlinewidth": 0,
              "ticks": ""
             }
            },
            "type": "scatter3d"
           }
          ],
          "scattercarpet": [
           {
            "marker": {
             "colorbar": {
              "outlinewidth": 0,
              "ticks": ""
             }
            },
            "type": "scattercarpet"
           }
          ],
          "scattergeo": [
           {
            "marker": {
             "colorbar": {
              "outlinewidth": 0,
              "ticks": ""
             }
            },
            "type": "scattergeo"
           }
          ],
          "scattergl": [
           {
            "marker": {
             "colorbar": {
              "outlinewidth": 0,
              "ticks": ""
             }
            },
            "type": "scattergl"
           }
          ],
          "scattermapbox": [
           {
            "marker": {
             "colorbar": {
              "outlinewidth": 0,
              "ticks": ""
             }
            },
            "type": "scattermapbox"
           }
          ],
          "scatterpolar": [
           {
            "marker": {
             "colorbar": {
              "outlinewidth": 0,
              "ticks": ""
             }
            },
            "type": "scatterpolar"
           }
          ],
          "scatterpolargl": [
           {
            "marker": {
             "colorbar": {
              "outlinewidth": 0,
              "ticks": ""
             }
            },
            "type": "scatterpolargl"
           }
          ],
          "scatterternary": [
           {
            "marker": {
             "colorbar": {
              "outlinewidth": 0,
              "ticks": ""
             }
            },
            "type": "scatterternary"
           }
          ],
          "surface": [
           {
            "colorbar": {
             "outlinewidth": 0,
             "ticks": ""
            },
            "colorscale": [
             [
              0,
              "#0d0887"
             ],
             [
              0.1111111111111111,
              "#46039f"
             ],
             [
              0.2222222222222222,
              "#7201a8"
             ],
             [
              0.3333333333333333,
              "#9c179e"
             ],
             [
              0.4444444444444444,
              "#bd3786"
             ],
             [
              0.5555555555555556,
              "#d8576b"
             ],
             [
              0.6666666666666666,
              "#ed7953"
             ],
             [
              0.7777777777777778,
              "#fb9f3a"
             ],
             [
              0.8888888888888888,
              "#fdca26"
             ],
             [
              1,
              "#f0f921"
             ]
            ],
            "type": "surface"
           }
          ],
          "table": [
           {
            "cells": {
             "fill": {
              "color": "#EBF0F8"
             },
             "line": {
              "color": "white"
             }
            },
            "header": {
             "fill": {
              "color": "#C8D4E3"
             },
             "line": {
              "color": "white"
             }
            },
            "type": "table"
           }
          ]
         },
         "layout": {
          "annotationdefaults": {
           "arrowcolor": "#2a3f5f",
           "arrowhead": 0,
           "arrowwidth": 1
          },
          "autotypenumbers": "strict",
          "coloraxis": {
           "colorbar": {
            "outlinewidth": 0,
            "ticks": ""
           }
          },
          "colorscale": {
           "diverging": [
            [
             0,
             "#8e0152"
            ],
            [
             0.1,
             "#c51b7d"
            ],
            [
             0.2,
             "#de77ae"
            ],
            [
             0.3,
             "#f1b6da"
            ],
            [
             0.4,
             "#fde0ef"
            ],
            [
             0.5,
             "#f7f7f7"
            ],
            [
             0.6,
             "#e6f5d0"
            ],
            [
             0.7,
             "#b8e186"
            ],
            [
             0.8,
             "#7fbc41"
            ],
            [
             0.9,
             "#4d9221"
            ],
            [
             1,
             "#276419"
            ]
           ],
           "sequential": [
            [
             0,
             "#0d0887"
            ],
            [
             0.1111111111111111,
             "#46039f"
            ],
            [
             0.2222222222222222,
             "#7201a8"
            ],
            [
             0.3333333333333333,
             "#9c179e"
            ],
            [
             0.4444444444444444,
             "#bd3786"
            ],
            [
             0.5555555555555556,
             "#d8576b"
            ],
            [
             0.6666666666666666,
             "#ed7953"
            ],
            [
             0.7777777777777778,
             "#fb9f3a"
            ],
            [
             0.8888888888888888,
             "#fdca26"
            ],
            [
             1,
             "#f0f921"
            ]
           ],
           "sequentialminus": [
            [
             0,
             "#0d0887"
            ],
            [
             0.1111111111111111,
             "#46039f"
            ],
            [
             0.2222222222222222,
             "#7201a8"
            ],
            [
             0.3333333333333333,
             "#9c179e"
            ],
            [
             0.4444444444444444,
             "#bd3786"
            ],
            [
             0.5555555555555556,
             "#d8576b"
            ],
            [
             0.6666666666666666,
             "#ed7953"
            ],
            [
             0.7777777777777778,
             "#fb9f3a"
            ],
            [
             0.8888888888888888,
             "#fdca26"
            ],
            [
             1,
             "#f0f921"
            ]
           ]
          },
          "colorway": [
           "#636efa",
           "#EF553B",
           "#00cc96",
           "#ab63fa",
           "#FFA15A",
           "#19d3f3",
           "#FF6692",
           "#B6E880",
           "#FF97FF",
           "#FECB52"
          ],
          "font": {
           "color": "#2a3f5f"
          },
          "geo": {
           "bgcolor": "white",
           "lakecolor": "white",
           "landcolor": "#E5ECF6",
           "showlakes": true,
           "showland": true,
           "subunitcolor": "white"
          },
          "hoverlabel": {
           "align": "left"
          },
          "hovermode": "closest",
          "mapbox": {
           "style": "light"
          },
          "paper_bgcolor": "white",
          "plot_bgcolor": "#E5ECF6",
          "polar": {
           "angularaxis": {
            "gridcolor": "white",
            "linecolor": "white",
            "ticks": ""
           },
           "bgcolor": "#E5ECF6",
           "radialaxis": {
            "gridcolor": "white",
            "linecolor": "white",
            "ticks": ""
           }
          },
          "scene": {
           "xaxis": {
            "backgroundcolor": "#E5ECF6",
            "gridcolor": "white",
            "gridwidth": 2,
            "linecolor": "white",
            "showbackground": true,
            "ticks": "",
            "zerolinecolor": "white"
           },
           "yaxis": {
            "backgroundcolor": "#E5ECF6",
            "gridcolor": "white",
            "gridwidth": 2,
            "linecolor": "white",
            "showbackground": true,
            "ticks": "",
            "zerolinecolor": "white"
           },
           "zaxis": {
            "backgroundcolor": "#E5ECF6",
            "gridcolor": "white",
            "gridwidth": 2,
            "linecolor": "white",
            "showbackground": true,
            "ticks": "",
            "zerolinecolor": "white"
           }
          },
          "shapedefaults": {
           "line": {
            "color": "#2a3f5f"
           }
          },
          "ternary": {
           "aaxis": {
            "gridcolor": "white",
            "linecolor": "white",
            "ticks": ""
           },
           "baxis": {
            "gridcolor": "white",
            "linecolor": "white",
            "ticks": ""
           },
           "bgcolor": "#E5ECF6",
           "caxis": {
            "gridcolor": "white",
            "linecolor": "white",
            "ticks": ""
           }
          },
          "title": {
           "x": 0.05
          },
          "xaxis": {
           "automargin": true,
           "gridcolor": "white",
           "linecolor": "white",
           "ticks": "",
           "title": {
            "standoff": 15
           },
           "zerolinecolor": "white",
           "zerolinewidth": 2
          },
          "yaxis": {
           "automargin": true,
           "gridcolor": "white",
           "linecolor": "white",
           "ticks": "",
           "title": {
            "standoff": 15
           },
           "zerolinecolor": "white",
           "zerolinewidth": 2
          }
         }
        },
        "title": {
         "text": "Interaction Distances by Residue and Interacting Chain"
        },
        "xaxis": {
         "anchor": "y",
         "categoryarray": [
          "87T",
          "88G",
          "89S",
          "90G",
          "91K",
          "92T",
          "93F",
          "144R",
          "157K",
          "158V",
          "159R",
          "201N",
          "204S",
          "205S",
          "237G",
          "240K",
          "241V",
          "255K",
          "258N",
          "259K",
          "262S",
          "266N",
          "278H",
          "282R",
          "283D",
          "285K",
          "314S",
          "317K",
          "324R",
          "341A",
          "344L",
          "345K",
          "347L",
          "348L",
          "351A",
          "354E",
          "355I",
          "356E",
          "358L",
          "359K",
          "361Y",
          "362I",
          "365L",
          "366E",
          "368V",
          "371V",
          "373V",
          "374S",
          "375N",
          "376L",
          "377K",
          "378S",
          "444T",
          "448D",
          "452I",
          "455L",
          "458K",
          "459C",
          "463E",
          "465Q",
          "466L",
          "469K",
          "470E",
          "472E",
          "473K",
          "476I",
          "477L",
          "479Q",
          "480L",
          "481E",
          "482Q",
          "483Q",
          "484Q",
          "485E",
          "486Q",
          "487I",
          "488Q",
          "489D",
          "490K",
          "491D",
          "492Q",
          "493E",
          "494I",
          "497L",
          "498N",
          "501I",
          "504S",
          "510L",
          "511Y",
          "514S",
          "517E",
          "518N",
          "521L",
          "522N",
          "525L",
          "531A",
          "532L",
          "535S",
          "539A",
          "542Q",
          "546I",
          "549L",
          "550N",
          "552E",
          "553N",
          "556I",
          "557K",
          "560L",
          "563L",
          "566R",
          "575I",
          "578L"
         ],
         "categoryorder": "array",
         "domain": [
          0,
          1
         ],
         "title": {
          "text": "Residue (Number and Identity)"
         }
        },
        "yaxis": {
         "anchor": "x",
         "domain": [
          0,
          1
         ],
         "title": {
          "text": "Distance (angstroms)"
         }
        }
       }
      }
     },
     "metadata": {},
     "output_type": "display_data"
    }
   ],
   "source": [
    "import pandas as pd\n",
    "import plotly.express as px\n",
    "\n",
    "# Define the path to the CSV file\n",
    "csv_file_path = \"/Users/jazzeruncal/git/Jazzer_surf/3d_predictions/same_seed/Seed_1/interactions_all_files.csv\"\n",
    "\n",
    "# Read the CSV file into a DataFrame\n",
    "df = pd.read_csv(csv_file_path)\n",
    "\n",
    "# Filter to get the shortest distances for each interaction\n",
    "df = df.loc[df[df['chain'] == 'A'].groupby(['file', 'resi', 'interacting_chain'])['distance (angstroms)'].idxmin()]\n",
    "\n",
    "# Exclude interactions with Mg and chain letters A, G, H\n",
    "df = df[(df['interacting_resn'] != 'MG') & (~df['interacting_chain'].isin(['A', 'G', 'H']))].reset_index(drop=True)\n",
    "\n",
    "# Map interacting_resn to single-letter codes for better readability\n",
    "aa_dict = {\n",
    "    'ALA': 'A', 'ARG': 'R', 'ASN': 'N', 'ASP': 'D', 'CYS': 'C', 'GLN': 'Q', 'GLU': 'E', 'GLY': 'G',\n",
    "    'HIS': 'H', 'ILE': 'I', 'LEU': 'L', 'LYS': 'K', 'MET': 'M', 'PHE': 'F', 'PRO': 'P', 'SER': 'S',\n",
    "    'THR': 'T', 'TRP': 'W', 'TYR': 'Y', 'VAL': 'V'\n",
    "}\n",
    "df['residue_one_letter'] = df['resn'].map(aa_dict)\n",
    "df['residue'] = df['resi'].astype(str) + df['residue_one_letter']\n",
    "\n",
    "# Replace chain letters with descriptive names\n",
    "chain_map = {\n",
    "    'B': 'kinesin B',\n",
    "    'C': 'alpha-tubulin',\n",
    "    'D': 'beta-tubulin',\n",
    "    'E': 'ATP',\n",
    "    'F': 'ATP'\n",
    "}\n",
    "df['interacting_chain'] = df['interacting_chain'].map(chain_map)\n",
    "\n",
    "# Filter to specific files\n",
    "df = df.loc[df['file'].isin([\n",
    "    'fold_f_atp_tub_seed1_model_0', \n",
    "\n",
    "    ])]\n",
    "\n",
    "# Group by file and interacting chain, keeping residues in order\n",
    "grouped = df.groupby(['file', 'interacting_chain'])\n",
    "\n",
    "# Create a list to store the output rows\n",
    "output_rows = []\n",
    "\n",
    "# Iterate over each group and extract information\n",
    "for (file, chain), group in grouped:\n",
    "    for _, row in group.iterrows():\n",
    "        output_rows.append({\n",
    "            'file': file,\n",
    "            'interacting_chain': chain,\n",
    "            'interacting_atom': row['interacting_atom'],\n",
    "            'residue_number': row['resi'],\n",
    "            'amino_acid': row['residue_one_letter'],\n",
    "            'distance (angstroms)': row['distance (angstroms)'],\n",
    "        })\n",
    "\n",
    "# Convert the list to a DataFrame\n",
    "interaction_df = pd.DataFrame(output_rows)\n",
    "\n",
    "# Display the resulting DataFrame\n",
    "interaction_df\n",
    "\n",
    "interaction_df.to_csv(\"interaction_summary.csv\", index=False)\n",
    "\n",
    "\n",
    "\n",
    "# Load the data\n",
    "csv_file_path = \"interaction_summary.csv\"\n",
    "interaction_df = pd.read_csv(csv_file_path)\n",
    "\n",
    "# Create a new column for the x-axis labels by concatenating residue number and amino acid\n",
    "interaction_df['residue_label'] = interaction_df['residue_number'].astype(str) + interaction_df['amino_acid']\n",
    "\n",
    "# Sort the dataframe by file and residue number to maintain order\n",
    "interaction_df = interaction_df.sort_values(by=['file', 'residue_number'])\n",
    "\n",
    "# Convert residue_label to a categorical type with the correct order\n",
    "interaction_df['residue_label'] = pd.Categorical(interaction_df['residue_label'], \n",
    "                                                 categories=sorted(interaction_df['residue_label'].unique(), key=lambda x: int(''.join(filter(str.isdigit, x)))), \n",
    "                                                 ordered=True)\n",
    "\n",
    "# Scatter plot for interaction distances with custom x-axis labels\n",
    "fig_scatter = px.scatter(interaction_df, x='residue_label', y='distance (angstroms)', color='interacting_chain', text='interacting_atom',\n",
    "                         title='Interaction Distances by Residue and Interacting Chain',\n",
    "                         labels={'residue_label': 'Residue (Number and Identity)', 'distance (angstroms)': 'Distance (angstroms)', 'interacting_chain': 'Interacting Chain'},\n",
    "                         hover_data=['file'])\n",
    "\n",
    "fig_scatter.update_traces(textposition='top center', marker=dict(size=10, opacity=0.6))\n",
    "fig_scatter.update_layout(xaxis={'categoryorder':'array', 'categoryarray': interaction_df['residue_label'].cat.categories})\n",
    "\n",
    "# Show the plot\n",
    "fig_scatter.show()\n",
    "\n"
   ]
  },
  {
   "cell_type": "markdown",
   "metadata": {},
   "source": [
    "G"
   ]
  },
  {
   "cell_type": "code",
   "execution_count": 65,
   "metadata": {},
   "outputs": [
    {
     "data": {
      "application/vnd.plotly.v1+json": {
       "config": {
        "plotlyServerURL": "https://plot.ly"
       },
       "data": [
        {
         "customdata": [
          [
           "fold_g_atp_tub_seed1_model_0"
          ],
          [
           "fold_g_atp_tub_seed1_model_0"
          ],
          [
           "fold_g_atp_tub_seed1_model_0"
          ],
          [
           "fold_g_atp_tub_seed1_model_0"
          ],
          [
           "fold_g_atp_tub_seed1_model_0"
          ],
          [
           "fold_g_atp_tub_seed1_model_0"
          ],
          [
           "fold_g_atp_tub_seed1_model_0"
          ],
          [
           "fold_g_atp_tub_seed1_model_0"
          ],
          [
           "fold_g_atp_tub_seed1_model_0"
          ],
          [
           "fold_g_atp_tub_seed1_model_0"
          ],
          [
           "fold_g_atp_tub_seed1_model_0"
          ],
          [
           "fold_g_atp_tub_seed1_model_0"
          ],
          [
           "fold_g_atp_tub_seed1_model_0"
          ],
          [
           "fold_g_atp_tub_seed1_model_0"
          ],
          [
           "fold_g_atp_tub_seed1_model_0"
          ],
          [
           "fold_g_atp_tub_seed1_model_0"
          ],
          [
           "fold_g_atp_tub_seed1_model_0"
          ],
          [
           "fold_g_atp_tub_seed1_model_0"
          ],
          [
           "fold_g_atp_tub_seed1_model_0"
          ],
          [
           "fold_g_atp_tub_seed1_model_0"
          ],
          [
           "fold_g_atp_tub_seed1_model_0"
          ],
          [
           "fold_g_atp_tub_seed1_model_0"
          ],
          [
           "fold_g_atp_tub_seed1_model_0"
          ],
          [
           "fold_g_atp_tub_seed1_model_0"
          ],
          [
           "fold_g_atp_tub_seed1_model_0"
          ],
          [
           "fold_g_atp_tub_seed1_model_0"
          ],
          [
           "fold_g_atp_tub_seed1_model_0"
          ],
          [
           "fold_g_atp_tub_seed1_model_0"
          ],
          [
           "fold_g_atp_tub_seed1_model_0"
          ],
          [
           "fold_g_atp_tub_seed1_model_0"
          ],
          [
           "fold_g_atp_tub_seed1_model_0"
          ],
          [
           "fold_g_atp_tub_seed1_model_0"
          ],
          [
           "fold_g_atp_tub_seed1_model_0"
          ],
          [
           "fold_g_atp_tub_seed1_model_0"
          ],
          [
           "fold_g_atp_tub_seed1_model_0"
          ],
          [
           "fold_g_atp_tub_seed1_model_0"
          ],
          [
           "fold_g_atp_tub_seed1_model_0"
          ],
          [
           "fold_g_atp_tub_seed1_model_0"
          ],
          [
           "fold_g_atp_tub_seed1_model_0"
          ],
          [
           "fold_g_atp_tub_seed1_model_0"
          ],
          [
           "fold_g_atp_tub_seed1_model_0"
          ],
          [
           "fold_g_atp_tub_seed1_model_0"
          ],
          [
           "fold_g_atp_tub_seed1_model_0"
          ],
          [
           "fold_g_atp_tub_seed1_model_0"
          ],
          [
           "fold_g_atp_tub_seed1_model_0"
          ],
          [
           "fold_g_atp_tub_seed1_model_0"
          ],
          [
           "fold_g_atp_tub_seed1_model_0"
          ],
          [
           "fold_g_atp_tub_seed1_model_0"
          ],
          [
           "fold_g_atp_tub_seed1_model_0"
          ],
          [
           "fold_g_atp_tub_seed1_model_0"
          ],
          [
           "fold_g_atp_tub_seed1_model_0"
          ],
          [
           "fold_g_atp_tub_seed1_model_0"
          ],
          [
           "fold_g_atp_tub_seed1_model_0"
          ],
          [
           "fold_g_atp_tub_seed1_model_0"
          ],
          [
           "fold_g_atp_tub_seed1_model_0"
          ],
          [
           "fold_g_atp_tub_seed1_model_0"
          ],
          [
           "fold_g_atp_tub_seed1_model_0"
          ],
          [
           "fold_g_atp_tub_seed1_model_0"
          ],
          [
           "fold_g_atp_tub_seed1_model_0"
          ],
          [
           "fold_g_atp_tub_seed1_model_0"
          ],
          [
           "fold_g_atp_tub_seed1_model_0"
          ],
          [
           "fold_g_atp_tub_seed1_model_0"
          ]
         ],
         "hovertemplate": "Interacting Chain=kinesin B<br>Residue (Number and Identity)=%{x}<br>Distance (angstroms)=%{y}<br>interacting_atom=%{text}<br>file=%{customdata[0]}<extra></extra>",
         "legendgroup": "kinesin B",
         "marker": {
          "color": "#636efa",
          "opacity": 0.6,
          "size": 10,
          "symbol": "circle"
         },
         "mode": "markers+text",
         "name": "kinesin B",
         "orientation": "v",
         "showlegend": true,
         "text": [
          "OD1",
          "CD1",
          "O",
          "NH2",
          "NZ",
          "CG1",
          "NH1",
          "CD1",
          "OE1",
          "OE1",
          "CG1",
          "O",
          "OH",
          "CD1",
          "CB",
          "CD2",
          "CG1",
          "CG1",
          "OE1",
          "SG",
          "NZ",
          "N",
          "OE1",
          "NZ",
          "NZ",
          "OE2",
          "CE",
          "OE1",
          "O",
          "NE2",
          "NZ",
          "OD2",
          "NZ",
          "OE2",
          "CD1",
          "CD2",
          "CD2",
          "CB",
          "O",
          "OG",
          "OD1",
          "OD1",
          "CD2",
          "O",
          "CD1",
          "CD1",
          "OG",
          "OE1",
          "O",
          "CG1",
          "OD1",
          "CD2",
          "NZ",
          "OD1",
          "CG2",
          "OE1",
          "CD1",
          "CD1",
          "O",
          "CD2",
          "CD1",
          "NH1"
         ],
         "textposition": "top center",
         "type": "scatter",
         "x": [
          "5R",
          "345A",
          "348L",
          "357N",
          "358E",
          "359I",
          "360E",
          "362L",
          "363K",
          "365Y",
          "366I",
          "369L",
          "370E",
          "372V",
          "373S",
          "375V",
          "380L",
          "456I",
          "462K",
          "463C",
          "467E",
          "470L",
          "473K",
          "474E",
          "476E",
          "477K",
          "480I",
          "484L",
          "487Q",
          "488Q",
          "491I",
          "494K",
          "495D",
          "498I",
          "501L",
          "502N",
          "505I",
          "508S",
          "515Y",
          "518S",
          "522N",
          "525L",
          "526N",
          "529L",
          "535A",
          "536L",
          "539S",
          "543A",
          "546Q",
          "550I",
          "553L",
          "554N",
          "556E",
          "557N",
          "560I",
          "561K",
          "564L",
          "567L",
          "570R",
          "571I",
          "579I",
          "582L"
         ],
         "xaxis": "x",
         "y": [
          2.8093783855438232,
          3.36010217666626,
          3.2926816940307617,
          2.7575876712799072,
          2.9230270385742188,
          3.491626739501953,
          2.661308526992798,
          3.3252594470977783,
          2.745932340621948,
          3.154435634613037,
          3.263962507247925,
          3.045900344848633,
          3.229595184326172,
          2.907898426055908,
          3.459899425506592,
          3.078714370727539,
          2.878456115722656,
          3.4528331756591797,
          2.8600709438323975,
          2.927100896835327,
          2.654329538345337,
          3.247767210006714,
          2.5824944972991943,
          2.558511257171631,
          2.552107095718384,
          2.466078281402588,
          3.2780282497406006,
          3.0816760063171387,
          3.1080758571624756,
          3.2189860343933105,
          3.119826078414917,
          2.5494954586029053,
          2.530489921569824,
          3.451850175857544,
          2.983459711074829,
          3.294912815093994,
          3.012838840484619,
          2.983351469039917,
          3.4095797538757324,
          2.799232244491577,
          2.546273708343506,
          2.858190536499023,
          3.3073978424072266,
          3.490872859954834,
          3.31779146194458,
          3.4201605319976807,
          2.7215874195098877,
          2.827194929122925,
          2.737441062927246,
          3.438662052154541,
          3.0550806522369385,
          3.1568455696105957,
          2.6704752445220947,
          2.413182497024536,
          3.282806873321533,
          2.6680397987365723,
          3.201949119567871,
          3.2456414699554443,
          2.8024563789367676,
          3.2738540172576904,
          2.415468692779541,
          3.0150442123413086
         ],
         "yaxis": "y"
        },
        {
         "customdata": [
          [
           "fold_g_atp_tub_seed1_model_0"
          ],
          [
           "fold_g_atp_tub_seed1_model_0"
          ],
          [
           "fold_g_atp_tub_seed1_model_0"
          ],
          [
           "fold_g_atp_tub_seed1_model_0"
          ],
          [
           "fold_g_atp_tub_seed1_model_0"
          ],
          [
           "fold_g_atp_tub_seed1_model_0"
          ],
          [
           "fold_g_atp_tub_seed1_model_0"
          ],
          [
           "fold_g_atp_tub_seed1_model_0"
          ],
          [
           "fold_g_atp_tub_seed1_model_0"
          ],
          [
           "fold_g_atp_tub_seed1_model_0"
          ],
          [
           "fold_g_atp_tub_seed1_model_0"
          ],
          [
           "fold_g_atp_tub_seed1_model_0"
          ],
          [
           "fold_g_atp_tub_seed1_model_0"
          ]
         ],
         "hovertemplate": "Interacting Chain=ATP<br>Residue (Number and Identity)=%{x}<br>Distance (angstroms)=%{y}<br>interacting_atom=%{text}<br>file=%{customdata[0]}<extra></extra>",
         "legendgroup": "ATP",
         "marker": {
          "color": "#EF553B",
          "opacity": 0.6,
          "size": 10,
          "symbol": "circle"
         },
         "mode": "markers+text",
         "name": "ATP",
         "orientation": "v",
         "showlegend": true,
         "text": [
          "N6",
          "N1",
          "O2G",
          "O3B",
          "O1B",
          "O3A",
          "O1G",
          "O2B",
          "O1A",
          "O2A",
          "O2G",
          "O3G",
          "O1G"
         ],
         "textposition": "top center",
         "type": "scatter",
         "x": [
          "18R",
          "21P",
          "94T",
          "95S",
          "96S",
          "97G",
          "98K",
          "99T",
          "100H",
          "205N",
          "208S",
          "209S",
          "241G"
         ],
         "xaxis": "x",
         "y": [
          3.4700889587402344,
          3.484950304031372,
          2.5247578620910645,
          2.926854372024536,
          3.452700614929199,
          3.0819883346557617,
          2.6072492599487305,
          2.683704376220703,
          2.656996965408325,
          3.2386374473571777,
          3.033559083938598,
          3.0110669136047363,
          2.7229838371276855
         ],
         "yaxis": "y"
        },
        {
         "customdata": [
          [
           "fold_g_atp_tub_seed1_model_0"
          ],
          [
           "fold_g_atp_tub_seed1_model_0"
          ],
          [
           "fold_g_atp_tub_seed1_model_0"
          ],
          [
           "fold_g_atp_tub_seed1_model_0"
          ],
          [
           "fold_g_atp_tub_seed1_model_0"
          ],
          [
           "fold_g_atp_tub_seed1_model_0"
          ],
          [
           "fold_g_atp_tub_seed1_model_0"
          ],
          [
           "fold_g_atp_tub_seed1_model_0"
          ],
          [
           "fold_g_atp_tub_seed1_model_0"
          ],
          [
           "fold_g_atp_tub_seed1_model_0"
          ],
          [
           "fold_g_atp_tub_seed1_model_0"
          ],
          [
           "fold_g_atp_tub_seed1_model_0"
          ]
         ],
         "hovertemplate": "Interacting Chain=beta-tubulin<br>Residue (Number and Identity)=%{x}<br>Distance (angstroms)=%{y}<br>interacting_atom=%{text}<br>file=%{customdata[0]}<extra></extra>",
         "legendgroup": "beta-tubulin",
         "marker": {
          "color": "#00cc96",
          "opacity": 0.6,
          "size": 10,
          "symbol": "circle"
         },
         "mode": "markers+text",
         "name": "beta-tubulin",
         "orientation": "v",
         "showlegend": true,
         "text": [
          "OE2",
          "OE1",
          "OE1",
          "OE1",
          "OE2",
          "CE",
          "CE",
          "O",
          "OE1",
          "OD2",
          "CD",
          "OE1"
         ],
         "textposition": "top center",
         "type": "scatter",
         "x": [
          "51K",
          "148K",
          "159N",
          "162V",
          "163H",
          "164E",
          "165D",
          "279K",
          "282H",
          "286R",
          "287D",
          "515Y"
         ],
         "xaxis": "x",
         "y": [
          2.5899438858032227,
          2.933412551879883,
          3.205296039581299,
          3.2612178325653076,
          2.82912278175354,
          3.3241703510284424,
          3.395737648010254,
          3.2625465393066406,
          2.7627744674682617,
          2.5880300998687744,
          3.2233340740203857,
          3.0861613750457764
         ],
         "yaxis": "y"
        },
        {
         "customdata": [
          [
           "fold_g_atp_tub_seed1_model_0"
          ],
          [
           "fold_g_atp_tub_seed1_model_0"
          ],
          [
           "fold_g_atp_tub_seed1_model_0"
          ],
          [
           "fold_g_atp_tub_seed1_model_0"
          ],
          [
           "fold_g_atp_tub_seed1_model_0"
          ],
          [
           "fold_g_atp_tub_seed1_model_0"
          ],
          [
           "fold_g_atp_tub_seed1_model_0"
          ],
          [
           "fold_g_atp_tub_seed1_model_0"
          ],
          [
           "fold_g_atp_tub_seed1_model_0"
          ],
          [
           "fold_g_atp_tub_seed1_model_0"
          ],
          [
           "fold_g_atp_tub_seed1_model_0"
          ],
          [
           "fold_g_atp_tub_seed1_model_0"
          ],
          [
           "fold_g_atp_tub_seed1_model_0"
          ],
          [
           "fold_g_atp_tub_seed1_model_0"
          ],
          [
           "fold_g_atp_tub_seed1_model_0"
          ]
         ],
         "hovertemplate": "Interacting Chain=alpha-tubulin<br>Residue (Number and Identity)=%{x}<br>Distance (angstroms)=%{y}<br>interacting_atom=%{text}<br>file=%{customdata[0]}<extra></extra>",
         "legendgroup": "alpha-tubulin",
         "marker": {
          "color": "#ab63fa",
          "opacity": 0.6,
          "size": 10,
          "symbol": "circle"
         },
         "mode": "markers+text",
         "name": "alpha-tubulin",
         "orientation": "v",
         "showlegend": true,
         "text": [
          "OE2",
          "O",
          "CG2",
          "CG1",
          "CG1",
          "OE2",
          "NH1",
          "NH2",
          "OE1",
          "OE2",
          "NZ",
          "OG1",
          "NE2",
          "CB",
          "NZ"
         ],
         "textposition": "top center",
         "type": "scatter",
         "x": [
          "244K",
          "245I",
          "259K",
          "262N",
          "263K",
          "266S",
          "270N",
          "273N",
          "325R",
          "538K",
          "541F",
          "545E",
          "548L",
          "549T",
          "555E"
         ],
         "xaxis": "x",
         "y": [
          2.428907871246338,
          2.944223642349243,
          3.2306175231933594,
          3.472370147705078,
          3.389423370361328,
          2.7522921562194824,
          2.4755520820617676,
          2.6214120388031006,
          2.7726542949676514,
          3.2400529384613037,
          2.814099073410034,
          2.8766825199127197,
          3.276336669921875,
          2.3078436851501465,
          2.783604145050049
         ],
         "yaxis": "y"
        }
       ],
       "layout": {
        "legend": {
         "title": {
          "text": "Interacting Chain"
         },
         "tracegroupgap": 0
        },
        "template": {
         "data": {
          "bar": [
           {
            "error_x": {
             "color": "#2a3f5f"
            },
            "error_y": {
             "color": "#2a3f5f"
            },
            "marker": {
             "line": {
              "color": "#E5ECF6",
              "width": 0.5
             },
             "pattern": {
              "fillmode": "overlay",
              "size": 10,
              "solidity": 0.2
             }
            },
            "type": "bar"
           }
          ],
          "barpolar": [
           {
            "marker": {
             "line": {
              "color": "#E5ECF6",
              "width": 0.5
             },
             "pattern": {
              "fillmode": "overlay",
              "size": 10,
              "solidity": 0.2
             }
            },
            "type": "barpolar"
           }
          ],
          "carpet": [
           {
            "aaxis": {
             "endlinecolor": "#2a3f5f",
             "gridcolor": "white",
             "linecolor": "white",
             "minorgridcolor": "white",
             "startlinecolor": "#2a3f5f"
            },
            "baxis": {
             "endlinecolor": "#2a3f5f",
             "gridcolor": "white",
             "linecolor": "white",
             "minorgridcolor": "white",
             "startlinecolor": "#2a3f5f"
            },
            "type": "carpet"
           }
          ],
          "choropleth": [
           {
            "colorbar": {
             "outlinewidth": 0,
             "ticks": ""
            },
            "type": "choropleth"
           }
          ],
          "contour": [
           {
            "colorbar": {
             "outlinewidth": 0,
             "ticks": ""
            },
            "colorscale": [
             [
              0,
              "#0d0887"
             ],
             [
              0.1111111111111111,
              "#46039f"
             ],
             [
              0.2222222222222222,
              "#7201a8"
             ],
             [
              0.3333333333333333,
              "#9c179e"
             ],
             [
              0.4444444444444444,
              "#bd3786"
             ],
             [
              0.5555555555555556,
              "#d8576b"
             ],
             [
              0.6666666666666666,
              "#ed7953"
             ],
             [
              0.7777777777777778,
              "#fb9f3a"
             ],
             [
              0.8888888888888888,
              "#fdca26"
             ],
             [
              1,
              "#f0f921"
             ]
            ],
            "type": "contour"
           }
          ],
          "contourcarpet": [
           {
            "colorbar": {
             "outlinewidth": 0,
             "ticks": ""
            },
            "type": "contourcarpet"
           }
          ],
          "heatmap": [
           {
            "colorbar": {
             "outlinewidth": 0,
             "ticks": ""
            },
            "colorscale": [
             [
              0,
              "#0d0887"
             ],
             [
              0.1111111111111111,
              "#46039f"
             ],
             [
              0.2222222222222222,
              "#7201a8"
             ],
             [
              0.3333333333333333,
              "#9c179e"
             ],
             [
              0.4444444444444444,
              "#bd3786"
             ],
             [
              0.5555555555555556,
              "#d8576b"
             ],
             [
              0.6666666666666666,
              "#ed7953"
             ],
             [
              0.7777777777777778,
              "#fb9f3a"
             ],
             [
              0.8888888888888888,
              "#fdca26"
             ],
             [
              1,
              "#f0f921"
             ]
            ],
            "type": "heatmap"
           }
          ],
          "heatmapgl": [
           {
            "colorbar": {
             "outlinewidth": 0,
             "ticks": ""
            },
            "colorscale": [
             [
              0,
              "#0d0887"
             ],
             [
              0.1111111111111111,
              "#46039f"
             ],
             [
              0.2222222222222222,
              "#7201a8"
             ],
             [
              0.3333333333333333,
              "#9c179e"
             ],
             [
              0.4444444444444444,
              "#bd3786"
             ],
             [
              0.5555555555555556,
              "#d8576b"
             ],
             [
              0.6666666666666666,
              "#ed7953"
             ],
             [
              0.7777777777777778,
              "#fb9f3a"
             ],
             [
              0.8888888888888888,
              "#fdca26"
             ],
             [
              1,
              "#f0f921"
             ]
            ],
            "type": "heatmapgl"
           }
          ],
          "histogram": [
           {
            "marker": {
             "pattern": {
              "fillmode": "overlay",
              "size": 10,
              "solidity": 0.2
             }
            },
            "type": "histogram"
           }
          ],
          "histogram2d": [
           {
            "colorbar": {
             "outlinewidth": 0,
             "ticks": ""
            },
            "colorscale": [
             [
              0,
              "#0d0887"
             ],
             [
              0.1111111111111111,
              "#46039f"
             ],
             [
              0.2222222222222222,
              "#7201a8"
             ],
             [
              0.3333333333333333,
              "#9c179e"
             ],
             [
              0.4444444444444444,
              "#bd3786"
             ],
             [
              0.5555555555555556,
              "#d8576b"
             ],
             [
              0.6666666666666666,
              "#ed7953"
             ],
             [
              0.7777777777777778,
              "#fb9f3a"
             ],
             [
              0.8888888888888888,
              "#fdca26"
             ],
             [
              1,
              "#f0f921"
             ]
            ],
            "type": "histogram2d"
           }
          ],
          "histogram2dcontour": [
           {
            "colorbar": {
             "outlinewidth": 0,
             "ticks": ""
            },
            "colorscale": [
             [
              0,
              "#0d0887"
             ],
             [
              0.1111111111111111,
              "#46039f"
             ],
             [
              0.2222222222222222,
              "#7201a8"
             ],
             [
              0.3333333333333333,
              "#9c179e"
             ],
             [
              0.4444444444444444,
              "#bd3786"
             ],
             [
              0.5555555555555556,
              "#d8576b"
             ],
             [
              0.6666666666666666,
              "#ed7953"
             ],
             [
              0.7777777777777778,
              "#fb9f3a"
             ],
             [
              0.8888888888888888,
              "#fdca26"
             ],
             [
              1,
              "#f0f921"
             ]
            ],
            "type": "histogram2dcontour"
           }
          ],
          "mesh3d": [
           {
            "colorbar": {
             "outlinewidth": 0,
             "ticks": ""
            },
            "type": "mesh3d"
           }
          ],
          "parcoords": [
           {
            "line": {
             "colorbar": {
              "outlinewidth": 0,
              "ticks": ""
             }
            },
            "type": "parcoords"
           }
          ],
          "pie": [
           {
            "automargin": true,
            "type": "pie"
           }
          ],
          "scatter": [
           {
            "fillpattern": {
             "fillmode": "overlay",
             "size": 10,
             "solidity": 0.2
            },
            "type": "scatter"
           }
          ],
          "scatter3d": [
           {
            "line": {
             "colorbar": {
              "outlinewidth": 0,
              "ticks": ""
             }
            },
            "marker": {
             "colorbar": {
              "outlinewidth": 0,
              "ticks": ""
             }
            },
            "type": "scatter3d"
           }
          ],
          "scattercarpet": [
           {
            "marker": {
             "colorbar": {
              "outlinewidth": 0,
              "ticks": ""
             }
            },
            "type": "scattercarpet"
           }
          ],
          "scattergeo": [
           {
            "marker": {
             "colorbar": {
              "outlinewidth": 0,
              "ticks": ""
             }
            },
            "type": "scattergeo"
           }
          ],
          "scattergl": [
           {
            "marker": {
             "colorbar": {
              "outlinewidth": 0,
              "ticks": ""
             }
            },
            "type": "scattergl"
           }
          ],
          "scattermapbox": [
           {
            "marker": {
             "colorbar": {
              "outlinewidth": 0,
              "ticks": ""
             }
            },
            "type": "scattermapbox"
           }
          ],
          "scatterpolar": [
           {
            "marker": {
             "colorbar": {
              "outlinewidth": 0,
              "ticks": ""
             }
            },
            "type": "scatterpolar"
           }
          ],
          "scatterpolargl": [
           {
            "marker": {
             "colorbar": {
              "outlinewidth": 0,
              "ticks": ""
             }
            },
            "type": "scatterpolargl"
           }
          ],
          "scatterternary": [
           {
            "marker": {
             "colorbar": {
              "outlinewidth": 0,
              "ticks": ""
             }
            },
            "type": "scatterternary"
           }
          ],
          "surface": [
           {
            "colorbar": {
             "outlinewidth": 0,
             "ticks": ""
            },
            "colorscale": [
             [
              0,
              "#0d0887"
             ],
             [
              0.1111111111111111,
              "#46039f"
             ],
             [
              0.2222222222222222,
              "#7201a8"
             ],
             [
              0.3333333333333333,
              "#9c179e"
             ],
             [
              0.4444444444444444,
              "#bd3786"
             ],
             [
              0.5555555555555556,
              "#d8576b"
             ],
             [
              0.6666666666666666,
              "#ed7953"
             ],
             [
              0.7777777777777778,
              "#fb9f3a"
             ],
             [
              0.8888888888888888,
              "#fdca26"
             ],
             [
              1,
              "#f0f921"
             ]
            ],
            "type": "surface"
           }
          ],
          "table": [
           {
            "cells": {
             "fill": {
              "color": "#EBF0F8"
             },
             "line": {
              "color": "white"
             }
            },
            "header": {
             "fill": {
              "color": "#C8D4E3"
             },
             "line": {
              "color": "white"
             }
            },
            "type": "table"
           }
          ]
         },
         "layout": {
          "annotationdefaults": {
           "arrowcolor": "#2a3f5f",
           "arrowhead": 0,
           "arrowwidth": 1
          },
          "autotypenumbers": "strict",
          "coloraxis": {
           "colorbar": {
            "outlinewidth": 0,
            "ticks": ""
           }
          },
          "colorscale": {
           "diverging": [
            [
             0,
             "#8e0152"
            ],
            [
             0.1,
             "#c51b7d"
            ],
            [
             0.2,
             "#de77ae"
            ],
            [
             0.3,
             "#f1b6da"
            ],
            [
             0.4,
             "#fde0ef"
            ],
            [
             0.5,
             "#f7f7f7"
            ],
            [
             0.6,
             "#e6f5d0"
            ],
            [
             0.7,
             "#b8e186"
            ],
            [
             0.8,
             "#7fbc41"
            ],
            [
             0.9,
             "#4d9221"
            ],
            [
             1,
             "#276419"
            ]
           ],
           "sequential": [
            [
             0,
             "#0d0887"
            ],
            [
             0.1111111111111111,
             "#46039f"
            ],
            [
             0.2222222222222222,
             "#7201a8"
            ],
            [
             0.3333333333333333,
             "#9c179e"
            ],
            [
             0.4444444444444444,
             "#bd3786"
            ],
            [
             0.5555555555555556,
             "#d8576b"
            ],
            [
             0.6666666666666666,
             "#ed7953"
            ],
            [
             0.7777777777777778,
             "#fb9f3a"
            ],
            [
             0.8888888888888888,
             "#fdca26"
            ],
            [
             1,
             "#f0f921"
            ]
           ],
           "sequentialminus": [
            [
             0,
             "#0d0887"
            ],
            [
             0.1111111111111111,
             "#46039f"
            ],
            [
             0.2222222222222222,
             "#7201a8"
            ],
            [
             0.3333333333333333,
             "#9c179e"
            ],
            [
             0.4444444444444444,
             "#bd3786"
            ],
            [
             0.5555555555555556,
             "#d8576b"
            ],
            [
             0.6666666666666666,
             "#ed7953"
            ],
            [
             0.7777777777777778,
             "#fb9f3a"
            ],
            [
             0.8888888888888888,
             "#fdca26"
            ],
            [
             1,
             "#f0f921"
            ]
           ]
          },
          "colorway": [
           "#636efa",
           "#EF553B",
           "#00cc96",
           "#ab63fa",
           "#FFA15A",
           "#19d3f3",
           "#FF6692",
           "#B6E880",
           "#FF97FF",
           "#FECB52"
          ],
          "font": {
           "color": "#2a3f5f"
          },
          "geo": {
           "bgcolor": "white",
           "lakecolor": "white",
           "landcolor": "#E5ECF6",
           "showlakes": true,
           "showland": true,
           "subunitcolor": "white"
          },
          "hoverlabel": {
           "align": "left"
          },
          "hovermode": "closest",
          "mapbox": {
           "style": "light"
          },
          "paper_bgcolor": "white",
          "plot_bgcolor": "#E5ECF6",
          "polar": {
           "angularaxis": {
            "gridcolor": "white",
            "linecolor": "white",
            "ticks": ""
           },
           "bgcolor": "#E5ECF6",
           "radialaxis": {
            "gridcolor": "white",
            "linecolor": "white",
            "ticks": ""
           }
          },
          "scene": {
           "xaxis": {
            "backgroundcolor": "#E5ECF6",
            "gridcolor": "white",
            "gridwidth": 2,
            "linecolor": "white",
            "showbackground": true,
            "ticks": "",
            "zerolinecolor": "white"
           },
           "yaxis": {
            "backgroundcolor": "#E5ECF6",
            "gridcolor": "white",
            "gridwidth": 2,
            "linecolor": "white",
            "showbackground": true,
            "ticks": "",
            "zerolinecolor": "white"
           },
           "zaxis": {
            "backgroundcolor": "#E5ECF6",
            "gridcolor": "white",
            "gridwidth": 2,
            "linecolor": "white",
            "showbackground": true,
            "ticks": "",
            "zerolinecolor": "white"
           }
          },
          "shapedefaults": {
           "line": {
            "color": "#2a3f5f"
           }
          },
          "ternary": {
           "aaxis": {
            "gridcolor": "white",
            "linecolor": "white",
            "ticks": ""
           },
           "baxis": {
            "gridcolor": "white",
            "linecolor": "white",
            "ticks": ""
           },
           "bgcolor": "#E5ECF6",
           "caxis": {
            "gridcolor": "white",
            "linecolor": "white",
            "ticks": ""
           }
          },
          "title": {
           "x": 0.05
          },
          "xaxis": {
           "automargin": true,
           "gridcolor": "white",
           "linecolor": "white",
           "ticks": "",
           "title": {
            "standoff": 15
           },
           "zerolinecolor": "white",
           "zerolinewidth": 2
          },
          "yaxis": {
           "automargin": true,
           "gridcolor": "white",
           "linecolor": "white",
           "ticks": "",
           "title": {
            "standoff": 15
           },
           "zerolinecolor": "white",
           "zerolinewidth": 2
          }
         }
        },
        "title": {
         "text": "Interaction Distances by Residue and Interacting Chain"
        },
        "xaxis": {
         "anchor": "y",
         "categoryarray": [
          "5R",
          "18R",
          "21P",
          "51K",
          "94T",
          "95S",
          "96S",
          "97G",
          "98K",
          "99T",
          "100H",
          "148K",
          "159N",
          "162V",
          "163H",
          "164E",
          "165D",
          "205N",
          "208S",
          "209S",
          "241G",
          "244K",
          "245I",
          "259K",
          "262N",
          "263K",
          "266S",
          "270N",
          "273N",
          "279K",
          "282H",
          "286R",
          "287D",
          "325R",
          "345A",
          "348L",
          "357N",
          "358E",
          "359I",
          "360E",
          "362L",
          "363K",
          "365Y",
          "366I",
          "369L",
          "370E",
          "372V",
          "373S",
          "375V",
          "380L",
          "456I",
          "462K",
          "463C",
          "467E",
          "470L",
          "473K",
          "474E",
          "476E",
          "477K",
          "480I",
          "484L",
          "487Q",
          "488Q",
          "491I",
          "494K",
          "495D",
          "498I",
          "501L",
          "502N",
          "505I",
          "508S",
          "515Y",
          "518S",
          "522N",
          "525L",
          "526N",
          "529L",
          "535A",
          "536L",
          "538K",
          "539S",
          "541F",
          "543A",
          "545E",
          "546Q",
          "548L",
          "549T",
          "550I",
          "553L",
          "554N",
          "555E",
          "556E",
          "557N",
          "560I",
          "561K",
          "564L",
          "567L",
          "570R",
          "571I",
          "579I",
          "582L"
         ],
         "categoryorder": "array",
         "domain": [
          0,
          1
         ],
         "title": {
          "text": "Residue (Number and Identity)"
         }
        },
        "yaxis": {
         "anchor": "x",
         "domain": [
          0,
          1
         ],
         "title": {
          "text": "Distance (angstroms)"
         }
        }
       }
      }
     },
     "metadata": {},
     "output_type": "display_data"
    }
   ],
   "source": [
    "import pandas as pd\n",
    "import plotly.express as px\n",
    "\n",
    "# Define the path to the CSV file\n",
    "csv_file_path = \"/Users/jazzeruncal/git/Jazzer_surf/3d_predictions/same_seed/Seed_1/interactions_all_files.csv\"\n",
    "\n",
    "# Read the CSV file into a DataFrame\n",
    "df = pd.read_csv(csv_file_path)\n",
    "\n",
    "# Filter to get the shortest distances for each interaction\n",
    "df = df.loc[df[df['chain'] == 'A'].groupby(['file', 'resi', 'interacting_chain'])['distance (angstroms)'].idxmin()]\n",
    "\n",
    "# Exclude interactions with Mg and chain letters A, G, H\n",
    "df = df[(df['interacting_resn'] != 'MG') & (~df['interacting_chain'].isin(['A', 'G', 'H']))].reset_index(drop=True)\n",
    "\n",
    "# Map interacting_resn to single-letter codes for better readability\n",
    "aa_dict = {\n",
    "    'ALA': 'A', 'ARG': 'R', 'ASN': 'N', 'ASP': 'D', 'CYS': 'C', 'GLN': 'Q', 'GLU': 'E', 'GLY': 'G',\n",
    "    'HIS': 'H', 'ILE': 'I', 'LEU': 'L', 'LYS': 'K', 'MET': 'M', 'PHE': 'F', 'PRO': 'P', 'SER': 'S',\n",
    "    'THR': 'T', 'TRP': 'W', 'TYR': 'Y', 'VAL': 'V'\n",
    "}\n",
    "df['residue_one_letter'] = df['resn'].map(aa_dict)\n",
    "df['residue'] = df['resi'].astype(str) + df['residue_one_letter']\n",
    "\n",
    "# Replace chain letters with descriptive names\n",
    "chain_map = {\n",
    "    'B': 'kinesin B',\n",
    "    'C': 'alpha-tubulin',\n",
    "    'D': 'beta-tubulin',\n",
    "    'E': 'ATP',\n",
    "    'F': 'ATP'\n",
    "}\n",
    "df['interacting_chain'] = df['interacting_chain'].map(chain_map)\n",
    "\n",
    "# Filter to specific files\n",
    "df = df.loc[df['file'].isin([\n",
    "    'fold_g_atp_tub_seed1_model_0', \n",
    "\n",
    "    ])]\n",
    "\n",
    "# Group by file and interacting chain, keeping residues in order\n",
    "grouped = df.groupby(['file', 'interacting_chain'])\n",
    "\n",
    "# Create a list to store the output rows\n",
    "output_rows = []\n",
    "\n",
    "# Iterate over each group and extract information\n",
    "for (file, chain), group in grouped:\n",
    "    for _, row in group.iterrows():\n",
    "        output_rows.append({\n",
    "            'file': file,\n",
    "            'interacting_chain': chain,\n",
    "            'interacting_atom': row['interacting_atom'],\n",
    "            'residue_number': row['resi'],\n",
    "            'amino_acid': row['residue_one_letter'],\n",
    "            'distance (angstroms)': row['distance (angstroms)'],\n",
    "        })\n",
    "\n",
    "# Convert the list to a DataFrame\n",
    "interaction_df = pd.DataFrame(output_rows)\n",
    "\n",
    "# Display the resulting DataFrame\n",
    "interaction_df\n",
    "\n",
    "interaction_df.to_csv(\"interaction_summary.csv\", index=False)\n",
    "\n",
    "\n",
    "\n",
    "# Load the data\n",
    "csv_file_path = \"interaction_summary.csv\"\n",
    "interaction_df = pd.read_csv(csv_file_path)\n",
    "\n",
    "# Create a new column for the x-axis labels by concatenating residue number and amino acid\n",
    "interaction_df['residue_label'] = interaction_df['residue_number'].astype(str) + interaction_df['amino_acid']\n",
    "\n",
    "# Sort the dataframe by file and residue number to maintain order\n",
    "interaction_df = interaction_df.sort_values(by=['file', 'residue_number'])\n",
    "\n",
    "# Convert residue_label to a categorical type with the correct order\n",
    "interaction_df['residue_label'] = pd.Categorical(interaction_df['residue_label'], \n",
    "                                                 categories=sorted(interaction_df['residue_label'].unique(), key=lambda x: int(''.join(filter(str.isdigit, x)))), \n",
    "                                                 ordered=True)\n",
    "\n",
    "# Scatter plot for interaction distances with custom x-axis labels\n",
    "fig_scatter = px.scatter(interaction_df, x='residue_label', y='distance (angstroms)', color='interacting_chain', text='interacting_atom',\n",
    "                         title='Interaction Distances by Residue and Interacting Chain',\n",
    "                         labels={'residue_label': 'Residue (Number and Identity)', 'distance (angstroms)': 'Distance (angstroms)', 'interacting_chain': 'Interacting Chain'},\n",
    "                         hover_data=['file'])\n",
    "\n",
    "fig_scatter.update_traces(textposition='top center', marker=dict(size=10, opacity=0.6))\n",
    "fig_scatter.update_layout(xaxis={'categoryorder':'array', 'categoryarray': interaction_df['residue_label'].cat.categories})\n",
    "\n",
    "# Show the plot\n",
    "fig_scatter.show()\n",
    "\n"
   ]
  },
  {
   "cell_type": "markdown",
   "metadata": {},
   "source": [
    "ALL together\n",
    "seed 1"
   ]
  },
  {
   "cell_type": "code",
   "execution_count": 43,
   "metadata": {},
   "outputs": [
    {
     "data": {
      "application/vnd.plotly.v1+json": {
       "config": {
        "plotlyServerURL": "https://plot.ly"
       },
       "data": [
        {
         "customdata": [
          [
           "fold_c_atp_tub_seed1_model_0"
          ],
          [
           "fold_c_atp_tub_seed1_model_0"
          ],
          [
           "fold_c_atp_tub_seed1_model_0"
          ],
          [
           "fold_c_atp_tub_seed1_model_0"
          ],
          [
           "fold_c_atp_tub_seed1_model_0"
          ],
          [
           "fold_c_atp_tub_seed1_model_0"
          ],
          [
           "fold_c_atp_tub_seed1_model_0"
          ],
          [
           "fold_c_atp_tub_seed1_model_0"
          ],
          [
           "fold_c_atp_tub_seed1_model_0"
          ],
          [
           "fold_c_atp_tub_seed1_model_0"
          ],
          [
           "fold_c_atp_tub_seed1_model_0"
          ],
          [
           "fold_c_atp_tub_seed1_model_0"
          ],
          [
           "fold_e_atp_tub_seed1_model_0"
          ],
          [
           "fold_e_atp_tub_seed1_model_0"
          ],
          [
           "fold_e_atp_tub_seed1_model_0"
          ],
          [
           "fold_e_atp_tub_seed1_model_0"
          ],
          [
           "fold_e_atp_tub_seed1_model_0"
          ],
          [
           "fold_e_atp_tub_seed1_model_0"
          ],
          [
           "fold_e_atp_tub_seed1_model_0"
          ],
          [
           "fold_e_atp_tub_seed1_model_0"
          ],
          [
           "fold_e_atp_tub_seed1_model_0"
          ],
          [
           "fold_e_atp_tub_seed1_model_0"
          ],
          [
           "fold_e_atp_tub_seed1_model_0"
          ],
          [
           "fold_h_atp_tub_seed1_model_0"
          ],
          [
           "fold_h_atp_tub_seed1_model_0"
          ],
          [
           "fold_h_atp_tub_seed1_model_0"
          ],
          [
           "fold_h_atp_tub_seed1_model_0"
          ],
          [
           "fold_h_atp_tub_seed1_model_0"
          ],
          [
           "fold_h_atp_tub_seed1_model_0"
          ],
          [
           "fold_h_atp_tub_seed1_model_0"
          ],
          [
           "fold_h_atp_tub_seed1_model_0"
          ],
          [
           "fold_h_atp_tub_seed1_model_0"
          ],
          [
           "fold_h_atp_tub_seed1_model_0"
          ],
          [
           "fold_h_atp_tub_seed1_model_0"
          ],
          [
           "fold_k401_atp_tub_seed1_model_0"
          ],
          [
           "fold_k401_atp_tub_seed1_model_0"
          ],
          [
           "fold_k401_atp_tub_seed1_model_0"
          ],
          [
           "fold_k401_atp_tub_seed1_model_0"
          ],
          [
           "fold_k401_atp_tub_seed1_model_0"
          ],
          [
           "fold_k401_atp_tub_seed1_model_0"
          ],
          [
           "fold_k401_atp_tub_seed1_model_0"
          ],
          [
           "fold_k401_atp_tub_seed1_model_0"
          ],
          [
           "fold_k401_atp_tub_seed1_model_0"
          ],
          [
           "fold_k401_atp_tub_seed1_model_0"
          ],
          [
           "fold_k401_atp_tub_seed1_model_0"
          ]
         ],
         "hovertemplate": "Interacting Chain=ATP<br>Residue (Number and Identity)=%{x}<br>Distance (angstroms)=%{y}<br>interacting_atom=%{text}<br>file=%{customdata[0]}<extra></extra>",
         "legendgroup": "ATP",
         "marker": {
          "color": "#636efa",
          "opacity": 0.6,
          "size": 10,
          "symbol": "circle"
         },
         "mode": "markers+text",
         "name": "ATP",
         "orientation": "v",
         "showlegend": true,
         "text": [
          "N1",
          "O2G",
          "O3B",
          "O1B",
          "O1B",
          "O3G",
          "O2B",
          "O1A",
          "O3B",
          "O2G",
          "O1G",
          "O3G",
          "O2G",
          "O3B",
          "O1B",
          "O1B",
          "O1G",
          "O2B",
          "O1A",
          "O3B",
          "O2G",
          "O3G",
          "O1G",
          "O1G",
          "O3B",
          "O1B",
          "O1B",
          "O1B",
          "O2B",
          "O1A",
          "O1G",
          "O1G",
          "O3G",
          "O2G",
          "O2G",
          "O3B",
          "O2B",
          "O2B",
          "O3G",
          "O1B",
          "O2A",
          "O1A",
          "O2G",
          "O1G",
          "O3G"
         ],
         "textposition": "top center",
         "type": "scatter",
         "x": [
          "21P",
          "94T",
          "95S",
          "96S",
          "97G",
          "98K",
          "99T",
          "100H",
          "205N",
          "208S",
          "209S",
          "241G",
          "94T",
          "95S",
          "96S",
          "97G",
          "98K",
          "99T",
          "100H",
          "205N",
          "208S",
          "209S",
          "241G",
          "87T",
          "88G",
          "89S",
          "90G",
          "91K",
          "92T",
          "93F",
          "201N",
          "204S",
          "205S",
          "237G",
          "94T",
          "95S",
          "96S",
          "97G",
          "98K",
          "99T",
          "100H",
          "205N",
          "208S",
          "209S",
          "241G"
         ],
         "xaxis": "x",
         "y": [
          3.457723379135132,
          2.4436142444610596,
          2.823654890060425,
          3.3223249912261963,
          3.097536087036133,
          2.879331588745117,
          2.799541711807251,
          2.962357997894287,
          2.9935591220855713,
          2.7670114040374756,
          2.790931224822998,
          2.9767863750457764,
          2.5287439823150635,
          2.865710973739624,
          3.3670592308044434,
          3.0916802883148193,
          2.8252956867218018,
          2.6309244632720947,
          2.8375065326690674,
          3.0233163833618164,
          2.9107367992401123,
          2.781641960144043,
          2.883500099182129,
          2.7136809825897217,
          2.823422431945801,
          3.3753457069396973,
          2.964850425720215,
          2.674063920974731,
          2.672137975692749,
          2.6421751976013184,
          3.039212703704834,
          3.0076818466186523,
          2.9404726028442383,
          2.8074371814727783,
          2.4374871253967285,
          2.806600332260132,
          3.29720401763916,
          3.1137118339538574,
          2.9161436557769775,
          2.7895143032073975,
          2.9845962524414062,
          2.958266496658325,
          2.7913260459899902,
          2.7207634449005127,
          2.9005379676818848
         ],
         "yaxis": "y"
        },
        {
         "customdata": [
          [
           "fold_c_atp_tub_seed1_model_0"
          ],
          [
           "fold_c_atp_tub_seed1_model_0"
          ],
          [
           "fold_c_atp_tub_seed1_model_0"
          ],
          [
           "fold_c_atp_tub_seed1_model_0"
          ],
          [
           "fold_c_atp_tub_seed1_model_0"
          ],
          [
           "fold_c_atp_tub_seed1_model_0"
          ],
          [
           "fold_c_atp_tub_seed1_model_0"
          ],
          [
           "fold_c_atp_tub_seed1_model_0"
          ],
          [
           "fold_e_atp_tub_seed1_model_0"
          ],
          [
           "fold_e_atp_tub_seed1_model_0"
          ],
          [
           "fold_e_atp_tub_seed1_model_0"
          ],
          [
           "fold_e_atp_tub_seed1_model_0"
          ],
          [
           "fold_e_atp_tub_seed1_model_0"
          ],
          [
           "fold_e_atp_tub_seed1_model_0"
          ],
          [
           "fold_e_atp_tub_seed1_model_0"
          ],
          [
           "fold_e_atp_tub_seed1_model_0"
          ],
          [
           "fold_e_atp_tub_seed1_model_0"
          ],
          [
           "fold_e_atp_tub_seed1_model_0"
          ],
          [
           "fold_e_atp_tub_seed1_model_0"
          ],
          [
           "fold_e_atp_tub_seed1_model_0"
          ],
          [
           "fold_e_atp_tub_seed1_model_0"
          ],
          [
           "fold_e_atp_tub_seed1_model_0"
          ],
          [
           "fold_e_atp_tub_seed1_model_0"
          ],
          [
           "fold_e_atp_tub_seed1_model_0"
          ],
          [
           "fold_e_atp_tub_seed1_model_0"
          ],
          [
           "fold_e_atp_tub_seed1_model_0"
          ],
          [
           "fold_e_atp_tub_seed1_model_0"
          ],
          [
           "fold_e_atp_tub_seed1_model_0"
          ],
          [
           "fold_h_atp_tub_seed1_model_0"
          ],
          [
           "fold_h_atp_tub_seed1_model_0"
          ],
          [
           "fold_h_atp_tub_seed1_model_0"
          ],
          [
           "fold_h_atp_tub_seed1_model_0"
          ],
          [
           "fold_h_atp_tub_seed1_model_0"
          ],
          [
           "fold_h_atp_tub_seed1_model_0"
          ],
          [
           "fold_h_atp_tub_seed1_model_0"
          ],
          [
           "fold_h_atp_tub_seed1_model_0"
          ],
          [
           "fold_h_atp_tub_seed1_model_0"
          ],
          [
           "fold_h_atp_tub_seed1_model_0"
          ],
          [
           "fold_h_atp_tub_seed1_model_0"
          ],
          [
           "fold_h_atp_tub_seed1_model_0"
          ],
          [
           "fold_h_atp_tub_seed1_model_0"
          ],
          [
           "fold_h_atp_tub_seed1_model_0"
          ],
          [
           "fold_h_atp_tub_seed1_model_0"
          ],
          [
           "fold_h_atp_tub_seed1_model_0"
          ],
          [
           "fold_h_atp_tub_seed1_model_0"
          ],
          [
           "fold_k401_atp_tub_seed1_model_0"
          ],
          [
           "fold_k401_atp_tub_seed1_model_0"
          ],
          [
           "fold_k401_atp_tub_seed1_model_0"
          ],
          [
           "fold_k401_atp_tub_seed1_model_0"
          ],
          [
           "fold_k401_atp_tub_seed1_model_0"
          ],
          [
           "fold_k401_atp_tub_seed1_model_0"
          ],
          [
           "fold_k401_atp_tub_seed1_model_0"
          ]
         ],
         "hovertemplate": "Interacting Chain=beta-tubulin<br>Residue (Number and Identity)=%{x}<br>Distance (angstroms)=%{y}<br>interacting_atom=%{text}<br>file=%{customdata[0]}<extra></extra>",
         "legendgroup": "beta-tubulin",
         "marker": {
          "color": "#EF553B",
          "opacity": 0.6,
          "size": 10,
          "symbol": "circle"
         },
         "mode": "markers+text",
         "name": "beta-tubulin",
         "orientation": "v",
         "showlegend": true,
         "text": [
          "OE1",
          "OE1",
          "OE2",
          "OE1",
          "CE",
          "OE1",
          "OD2",
          "CD",
          "OE2",
          "CG",
          "OE1",
          "OE2",
          "OE1",
          "CE",
          "OE1",
          "OE1",
          "OD2",
          "CD",
          "OE2",
          "OE1",
          "NE2",
          "OD2",
          "O",
          "CG",
          "OD1",
          "O",
          "NZ",
          "CE",
          "OE1",
          "OE1",
          "OE1",
          "CG",
          "OG",
          "CA",
          "OE1",
          "OE1",
          "OD2",
          "CD",
          "OE2",
          "NH2",
          "CD",
          "CZ",
          "CE1",
          "CZ2",
          "O",
          "CG",
          "OE1",
          "OE2",
          "OE1",
          "OE1",
          "OD2",
          "CD"
         ],
         "textposition": "top center",
         "type": "scatter",
         "x": [
          "148K",
          "159N",
          "163H",
          "164E",
          "166K",
          "282H",
          "286R",
          "287D",
          "51K",
          "148K",
          "159N",
          "163H",
          "164E",
          "165D",
          "280K",
          "282H",
          "286R",
          "287D",
          "328R",
          "526N",
          "530S",
          "533K",
          "534L",
          "537E",
          "538K",
          "541F",
          "545E",
          "548L",
          "144R",
          "157K",
          "158V",
          "159R",
          "160E",
          "275K",
          "277T",
          "278H",
          "282R",
          "283D",
          "285K",
          "494I",
          "498N",
          "505N",
          "508N",
          "509S",
          "512Q",
          "148K",
          "159N",
          "163H",
          "164E",
          "282H",
          "286R",
          "287D"
         ],
         "xaxis": "x",
         "y": [
          2.9638772010803223,
          3.166810989379883,
          2.7821812629699707,
          2.793105363845825,
          3.454381227493286,
          2.882333993911743,
          2.4885451793670654,
          3.194092035293579,
          3.184419631958008,
          2.799797296524048,
          3.105865240097046,
          2.8342108726501465,
          2.5280559062957764,
          3.1794562339782715,
          3.4978063106536865,
          2.862626314163208,
          2.5521509647369385,
          3.176405906677246,
          2.7109060287475586,
          2.630460023880005,
          2.8594658374786377,
          2.4675843715667725,
          2.908067464828491,
          2.2084157466888428,
          2.6332504749298096,
          3.27166748046875,
          2.722621440887451,
          3.199802875518799,
          2.768033504486084,
          3.047783851623535,
          2.7401652336120605,
          3.184271812438965,
          3.432516574859619,
          3.420228958129883,
          3.3995347023010254,
          2.7170002460479736,
          2.4272496700286865,
          3.05643630027771,
          3.496941328048706,
          2.975874185562134,
          2.3815529346466064,
          2.46383285522461,
          3.2913224697113037,
          2.656165599822998,
          2.8011043071746826,
          3.006138324737549,
          3.0405116081237793,
          2.8384571075439453,
          2.686645746231079,
          2.7174038887023926,
          2.5308802127838135,
          3.2496230602264404
         ],
         "yaxis": "y"
        },
        {
         "customdata": [
          [
           "fold_c_atp_tub_seed1_model_0"
          ],
          [
           "fold_c_atp_tub_seed1_model_0"
          ],
          [
           "fold_c_atp_tub_seed1_model_0"
          ],
          [
           "fold_c_atp_tub_seed1_model_0"
          ],
          [
           "fold_c_atp_tub_seed1_model_0"
          ],
          [
           "fold_c_atp_tub_seed1_model_0"
          ],
          [
           "fold_c_atp_tub_seed1_model_0"
          ],
          [
           "fold_c_atp_tub_seed1_model_0"
          ],
          [
           "fold_c_atp_tub_seed1_model_0"
          ],
          [
           "fold_c_atp_tub_seed1_model_0"
          ],
          [
           "fold_c_atp_tub_seed1_model_0"
          ],
          [
           "fold_c_atp_tub_seed1_model_0"
          ],
          [
           "fold_c_atp_tub_seed1_model_0"
          ],
          [
           "fold_c_atp_tub_seed1_model_0"
          ],
          [
           "fold_c_atp_tub_seed1_model_0"
          ],
          [
           "fold_c_atp_tub_seed1_model_0"
          ],
          [
           "fold_c_atp_tub_seed1_model_0"
          ],
          [
           "fold_c_atp_tub_seed1_model_0"
          ],
          [
           "fold_c_atp_tub_seed1_model_0"
          ],
          [
           "fold_e_atp_tub_seed1_model_0"
          ],
          [
           "fold_e_atp_tub_seed1_model_0"
          ],
          [
           "fold_e_atp_tub_seed1_model_0"
          ],
          [
           "fold_e_atp_tub_seed1_model_0"
          ],
          [
           "fold_e_atp_tub_seed1_model_0"
          ],
          [
           "fold_e_atp_tub_seed1_model_0"
          ],
          [
           "fold_e_atp_tub_seed1_model_0"
          ],
          [
           "fold_e_atp_tub_seed1_model_0"
          ],
          [
           "fold_e_atp_tub_seed1_model_0"
          ],
          [
           "fold_e_atp_tub_seed1_model_0"
          ],
          [
           "fold_e_atp_tub_seed1_model_0"
          ],
          [
           "fold_e_atp_tub_seed1_model_0"
          ],
          [
           "fold_e_atp_tub_seed1_model_0"
          ],
          [
           "fold_e_atp_tub_seed1_model_0"
          ],
          [
           "fold_e_atp_tub_seed1_model_0"
          ],
          [
           "fold_e_atp_tub_seed1_model_0"
          ],
          [
           "fold_e_atp_tub_seed1_model_0"
          ],
          [
           "fold_e_atp_tub_seed1_model_0"
          ],
          [
           "fold_e_atp_tub_seed1_model_0"
          ],
          [
           "fold_e_atp_tub_seed1_model_0"
          ],
          [
           "fold_e_atp_tub_seed1_model_0"
          ],
          [
           "fold_e_atp_tub_seed1_model_0"
          ],
          [
           "fold_e_atp_tub_seed1_model_0"
          ],
          [
           "fold_e_atp_tub_seed1_model_0"
          ],
          [
           "fold_e_atp_tub_seed1_model_0"
          ],
          [
           "fold_e_atp_tub_seed1_model_0"
          ],
          [
           "fold_e_atp_tub_seed1_model_0"
          ],
          [
           "fold_e_atp_tub_seed1_model_0"
          ],
          [
           "fold_e_atp_tub_seed1_model_0"
          ],
          [
           "fold_e_atp_tub_seed1_model_0"
          ],
          [
           "fold_e_atp_tub_seed1_model_0"
          ],
          [
           "fold_e_atp_tub_seed1_model_0"
          ],
          [
           "fold_e_atp_tub_seed1_model_0"
          ],
          [
           "fold_e_atp_tub_seed1_model_0"
          ],
          [
           "fold_e_atp_tub_seed1_model_0"
          ],
          [
           "fold_e_atp_tub_seed1_model_0"
          ],
          [
           "fold_e_atp_tub_seed1_model_0"
          ],
          [
           "fold_e_atp_tub_seed1_model_0"
          ],
          [
           "fold_e_atp_tub_seed1_model_0"
          ],
          [
           "fold_e_atp_tub_seed1_model_0"
          ],
          [
           "fold_e_atp_tub_seed1_model_0"
          ],
          [
           "fold_e_atp_tub_seed1_model_0"
          ],
          [
           "fold_e_atp_tub_seed1_model_0"
          ],
          [
           "fold_e_atp_tub_seed1_model_0"
          ],
          [
           "fold_e_atp_tub_seed1_model_0"
          ],
          [
           "fold_e_atp_tub_seed1_model_0"
          ],
          [
           "fold_e_atp_tub_seed1_model_0"
          ],
          [
           "fold_e_atp_tub_seed1_model_0"
          ],
          [
           "fold_e_atp_tub_seed1_model_0"
          ],
          [
           "fold_e_atp_tub_seed1_model_0"
          ],
          [
           "fold_e_atp_tub_seed1_model_0"
          ],
          [
           "fold_e_atp_tub_seed1_model_0"
          ],
          [
           "fold_e_atp_tub_seed1_model_0"
          ],
          [
           "fold_e_atp_tub_seed1_model_0"
          ],
          [
           "fold_e_atp_tub_seed1_model_0"
          ],
          [
           "fold_e_atp_tub_seed1_model_0"
          ],
          [
           "fold_e_atp_tub_seed1_model_0"
          ],
          [
           "fold_e_atp_tub_seed1_model_0"
          ],
          [
           "fold_e_atp_tub_seed1_model_0"
          ],
          [
           "fold_e_atp_tub_seed1_model_0"
          ],
          [
           "fold_e_atp_tub_seed1_model_0"
          ],
          [
           "fold_e_atp_tub_seed1_model_0"
          ],
          [
           "fold_e_atp_tub_seed1_model_0"
          ],
          [
           "fold_e_atp_tub_seed1_model_0"
          ],
          [
           "fold_e_atp_tub_seed1_model_0"
          ],
          [
           "fold_e_atp_tub_seed1_model_0"
          ],
          [
           "fold_e_atp_tub_seed1_model_0"
          ],
          [
           "fold_e_atp_tub_seed1_model_0"
          ],
          [
           "fold_e_atp_tub_seed1_model_0"
          ],
          [
           "fold_e_atp_tub_seed1_model_0"
          ],
          [
           "fold_e_atp_tub_seed1_model_0"
          ],
          [
           "fold_e_atp_tub_seed1_model_0"
          ],
          [
           "fold_e_atp_tub_seed1_model_0"
          ],
          [
           "fold_e_atp_tub_seed1_model_0"
          ],
          [
           "fold_e_atp_tub_seed1_model_0"
          ],
          [
           "fold_e_atp_tub_seed1_model_0"
          ],
          [
           "fold_e_atp_tub_seed1_model_0"
          ],
          [
           "fold_e_atp_tub_seed1_model_0"
          ],
          [
           "fold_e_atp_tub_seed1_model_0"
          ],
          [
           "fold_e_atp_tub_seed1_model_0"
          ],
          [
           "fold_e_atp_tub_seed1_model_0"
          ],
          [
           "fold_e_atp_tub_seed1_model_0"
          ],
          [
           "fold_e_atp_tub_seed1_model_0"
          ],
          [
           "fold_e_atp_tub_seed1_model_0"
          ],
          [
           "fold_e_atp_tub_seed1_model_0"
          ],
          [
           "fold_e_atp_tub_seed1_model_0"
          ],
          [
           "fold_e_atp_tub_seed1_model_0"
          ],
          [
           "fold_h_atp_tub_seed1_model_0"
          ],
          [
           "fold_h_atp_tub_seed1_model_0"
          ],
          [
           "fold_h_atp_tub_seed1_model_0"
          ],
          [
           "fold_h_atp_tub_seed1_model_0"
          ],
          [
           "fold_h_atp_tub_seed1_model_0"
          ],
          [
           "fold_h_atp_tub_seed1_model_0"
          ],
          [
           "fold_h_atp_tub_seed1_model_0"
          ],
          [
           "fold_h_atp_tub_seed1_model_0"
          ],
          [
           "fold_h_atp_tub_seed1_model_0"
          ],
          [
           "fold_h_atp_tub_seed1_model_0"
          ],
          [
           "fold_h_atp_tub_seed1_model_0"
          ],
          [
           "fold_h_atp_tub_seed1_model_0"
          ],
          [
           "fold_h_atp_tub_seed1_model_0"
          ],
          [
           "fold_h_atp_tub_seed1_model_0"
          ],
          [
           "fold_h_atp_tub_seed1_model_0"
          ],
          [
           "fold_h_atp_tub_seed1_model_0"
          ],
          [
           "fold_h_atp_tub_seed1_model_0"
          ],
          [
           "fold_h_atp_tub_seed1_model_0"
          ],
          [
           "fold_h_atp_tub_seed1_model_0"
          ],
          [
           "fold_h_atp_tub_seed1_model_0"
          ],
          [
           "fold_h_atp_tub_seed1_model_0"
          ],
          [
           "fold_h_atp_tub_seed1_model_0"
          ],
          [
           "fold_h_atp_tub_seed1_model_0"
          ],
          [
           "fold_h_atp_tub_seed1_model_0"
          ],
          [
           "fold_h_atp_tub_seed1_model_0"
          ],
          [
           "fold_h_atp_tub_seed1_model_0"
          ],
          [
           "fold_h_atp_tub_seed1_model_0"
          ],
          [
           "fold_h_atp_tub_seed1_model_0"
          ],
          [
           "fold_h_atp_tub_seed1_model_0"
          ],
          [
           "fold_h_atp_tub_seed1_model_0"
          ],
          [
           "fold_h_atp_tub_seed1_model_0"
          ],
          [
           "fold_h_atp_tub_seed1_model_0"
          ],
          [
           "fold_h_atp_tub_seed1_model_0"
          ],
          [
           "fold_h_atp_tub_seed1_model_0"
          ],
          [
           "fold_h_atp_tub_seed1_model_0"
          ],
          [
           "fold_h_atp_tub_seed1_model_0"
          ],
          [
           "fold_h_atp_tub_seed1_model_0"
          ],
          [
           "fold_h_atp_tub_seed1_model_0"
          ],
          [
           "fold_h_atp_tub_seed1_model_0"
          ],
          [
           "fold_h_atp_tub_seed1_model_0"
          ],
          [
           "fold_h_atp_tub_seed1_model_0"
          ],
          [
           "fold_h_atp_tub_seed1_model_0"
          ],
          [
           "fold_h_atp_tub_seed1_model_0"
          ],
          [
           "fold_h_atp_tub_seed1_model_0"
          ],
          [
           "fold_h_atp_tub_seed1_model_0"
          ],
          [
           "fold_h_atp_tub_seed1_model_0"
          ],
          [
           "fold_h_atp_tub_seed1_model_0"
          ],
          [
           "fold_h_atp_tub_seed1_model_0"
          ],
          [
           "fold_h_atp_tub_seed1_model_0"
          ],
          [
           "fold_h_atp_tub_seed1_model_0"
          ],
          [
           "fold_h_atp_tub_seed1_model_0"
          ],
          [
           "fold_h_atp_tub_seed1_model_0"
          ],
          [
           "fold_h_atp_tub_seed1_model_0"
          ],
          [
           "fold_h_atp_tub_seed1_model_0"
          ],
          [
           "fold_h_atp_tub_seed1_model_0"
          ],
          [
           "fold_h_atp_tub_seed1_model_0"
          ],
          [
           "fold_h_atp_tub_seed1_model_0"
          ],
          [
           "fold_h_atp_tub_seed1_model_0"
          ],
          [
           "fold_h_atp_tub_seed1_model_0"
          ],
          [
           "fold_h_atp_tub_seed1_model_0"
          ],
          [
           "fold_h_atp_tub_seed1_model_0"
          ],
          [
           "fold_h_atp_tub_seed1_model_0"
          ],
          [
           "fold_h_atp_tub_seed1_model_0"
          ],
          [
           "fold_h_atp_tub_seed1_model_0"
          ],
          [
           "fold_h_atp_tub_seed1_model_0"
          ],
          [
           "fold_h_atp_tub_seed1_model_0"
          ],
          [
           "fold_h_atp_tub_seed1_model_0"
          ],
          [
           "fold_h_atp_tub_seed1_model_0"
          ],
          [
           "fold_k401_atp_tub_seed1_model_0"
          ],
          [
           "fold_k401_atp_tub_seed1_model_0"
          ],
          [
           "fold_k401_atp_tub_seed1_model_0"
          ],
          [
           "fold_k401_atp_tub_seed1_model_0"
          ],
          [
           "fold_k401_atp_tub_seed1_model_0"
          ],
          [
           "fold_k401_atp_tub_seed1_model_0"
          ],
          [
           "fold_k401_atp_tub_seed1_model_0"
          ],
          [
           "fold_k401_atp_tub_seed1_model_0"
          ],
          [
           "fold_k401_atp_tub_seed1_model_0"
          ],
          [
           "fold_k401_atp_tub_seed1_model_0"
          ],
          [
           "fold_k401_atp_tub_seed1_model_0"
          ],
          [
           "fold_k401_atp_tub_seed1_model_0"
          ],
          [
           "fold_k401_atp_tub_seed1_model_0"
          ],
          [
           "fold_k401_atp_tub_seed1_model_0"
          ],
          [
           "fold_k401_atp_tub_seed1_model_0"
          ],
          [
           "fold_k401_atp_tub_seed1_model_0"
          ],
          [
           "fold_k401_atp_tub_seed1_model_0"
          ],
          [
           "fold_k401_atp_tub_seed1_model_0"
          ],
          [
           "fold_k401_atp_tub_seed1_model_0"
          ],
          [
           "fold_k401_atp_tub_seed1_model_0"
          ],
          [
           "fold_k401_atp_tub_seed1_model_0"
          ]
         ],
         "hovertemplate": "Interacting Chain=kinesin B<br>Residue (Number and Identity)=%{x}<br>Distance (angstroms)=%{y}<br>interacting_atom=%{text}<br>file=%{customdata[0]}<extra></extra>",
         "legendgroup": "kinesin B",
         "marker": {
          "color": "#00cc96",
          "opacity": 0.6,
          "size": 10,
          "symbol": "circle"
         },
         "mode": "markers+text",
         "name": "kinesin B",
         "orientation": "v",
         "showlegend": true,
         "text": [
          "OE1",
          "CD1",
          "CD1",
          "CG",
          "ND2",
          "ND2",
          "OE2",
          "OD1",
          "OE1",
          "CD1",
          "CD1",
          "CD1",
          "CD2",
          "OE1",
          "OE2",
          "NH2",
          "NH2",
          "NH1",
          "CG1",
          "CD2",
          "CB",
          "ND2",
          "NZ",
          "CD1",
          "OE1",
          "OE1",
          "CG1",
          "O",
          "OH",
          "CB",
          "CD2",
          "CD1",
          "CB",
          "C",
          "CE2",
          "ND2",
          "NZ",
          "CD2",
          "OD1",
          "OD2",
          "OD2",
          "CA",
          "CG1",
          "OE1",
          "SG",
          "CD1",
          "NZ",
          "CD1",
          "O",
          "OE1",
          "NZ",
          "NZ",
          "OE2",
          "NH2",
          "NH2",
          "CD1",
          "OE2",
          "O",
          "OE1",
          "O",
          "O",
          "NE2",
          "ND1",
          "CD1",
          "NZ",
          "CE",
          "OD2",
          "NZ",
          "OE2",
          "CD1",
          "CD2",
          "CD2",
          "CB",
          "OD1",
          "CD1",
          "CE2",
          "O",
          "OG",
          "OG",
          "OD1",
          "OD1",
          "OD1",
          "CD2",
          "CD1",
          "N",
          "CG",
          "CD2",
          "CD1",
          "O",
          "OG",
          "OG",
          "OE1",
          "O",
          "CG1",
          "OD1",
          "CD2",
          "NZ",
          "OD1",
          "OD1",
          "OE1",
          "CD1",
          "O",
          "CD2",
          "OD2",
          "CD1",
          "NH1",
          "CD1",
          "O",
          "NZ",
          "CD1",
          "OE1",
          "CG2",
          "CG1",
          "O",
          "NZ",
          "NZ",
          "CD2",
          "CB",
          "CG1",
          "CD2",
          "CG",
          "CE2",
          "O",
          "OE2",
          "CG2",
          "OD2",
          "CG2",
          "CG1",
          "OE1",
          "SG",
          "CG",
          "NZ",
          "CD1",
          "CD1",
          "OE1",
          "NZ",
          "NZ",
          "OE2",
          "CD1",
          "OE1",
          "O",
          "NE2",
          "NZ",
          "OD2",
          "NZ",
          "CD1",
          "CD1",
          "CD2",
          "CB",
          "CD1",
          "CE2",
          "O",
          "OG",
          "OD1",
          "OD1",
          "CD2",
          "CD1",
          "O",
          "OG",
          "OE1",
          "O",
          "CG1",
          "OD1",
          "CD2",
          "NZ",
          "OD1",
          "CG2",
          "OE1",
          "CD1",
          "CD1",
          "O",
          "CD2",
          "CD1",
          "NH1",
          "OE1",
          "NZ",
          "CD1",
          "CD1",
          "CZ3",
          "ND2",
          "OE2",
          "OD1",
          "CA",
          "CD1",
          "CD1",
          "CD1",
          "NH2",
          "CD1",
          "OE2",
          "NH2",
          "NH2",
          "OE1",
          "CG1",
          "NZ",
          "NZ"
         ],
         "textposition": "top center",
         "type": "scatter",
         "x": [
          "166K",
          "345A",
          "348W",
          "352Y",
          "355E",
          "358K",
          "359N",
          "362L",
          "365K",
          "366V",
          "369L",
          "370E",
          "372E",
          "373L",
          "377R",
          "387Q",
          "388I",
          "390M",
          "393L",
          "343R",
          "346A",
          "350I",
          "358E",
          "362L",
          "363K",
          "365Y",
          "366I",
          "369L",
          "370E",
          "373S",
          "375V",
          "410S",
          "412L",
          "414N",
          "417N",
          "419T",
          "442T",
          "444V",
          "447P",
          "448T",
          "449S",
          "452D",
          "455L",
          "462K",
          "463C",
          "466L",
          "467E",
          "469Q",
          "470L",
          "473K",
          "474E",
          "476E",
          "477K",
          "478K",
          "479E",
          "480I",
          "482E",
          "483Q",
          "484L",
          "486Q",
          "487Q",
          "488Q",
          "489E",
          "490Q",
          "491I",
          "493D",
          "494K",
          "495D",
          "498I",
          "501L",
          "502N",
          "505I",
          "508S",
          "511I",
          "512N",
          "514L",
          "515Y",
          "518S",
          "519T",
          "521E",
          "522N",
          "525L",
          "526N",
          "528Q",
          "529L",
          "532L",
          "533K",
          "535A",
          "536L",
          "539S",
          "540R",
          "543A",
          "546Q",
          "550I",
          "553L",
          "554N",
          "556E",
          "557N",
          "560I",
          "561K",
          "567L",
          "570R",
          "571I",
          "576D",
          "579I",
          "582L",
          "341A",
          "344L",
          "354E",
          "358L",
          "359K",
          "361Y",
          "362I",
          "365L",
          "366E",
          "367T",
          "368V",
          "369S",
          "370G",
          "371V",
          "372T",
          "373V",
          "374S",
          "375N",
          "376L",
          "444T",
          "448D",
          "452I",
          "458K",
          "459C",
          "462L",
          "463E",
          "465Q",
          "466L",
          "469K",
          "470E",
          "472E",
          "473K",
          "476I",
          "480L",
          "483Q",
          "484Q",
          "487I",
          "490K",
          "491D",
          "493E",
          "497L",
          "501I",
          "504S",
          "508N",
          "510L",
          "511Y",
          "514S",
          "518N",
          "521L",
          "522N",
          "531A",
          "532L",
          "535S",
          "539A",
          "542Q",
          "546I",
          "549L",
          "550N",
          "552E",
          "553N",
          "556I",
          "557K",
          "560L",
          "563L",
          "566R",
          "567I",
          "575I",
          "578L",
          "166K",
          "167N",
          "345A",
          "348W",
          "352Y",
          "355E",
          "359N",
          "362L",
          "363K",
          "366V",
          "369L",
          "370E",
          "372E",
          "373L",
          "377R",
          "387Q",
          "388I",
          "390M",
          "393L",
          "396A",
          "397S"
         ],
         "xaxis": "x",
         "y": [
          2.810300827026367,
          3.4046149253845215,
          3.3196117877960205,
          3.4200756549835205,
          2.1327757835388184,
          3.4232633113861084,
          2.092862606048584,
          2.848017692565918,
          3.258519172668457,
          2.8572001457214355,
          3.449855089187622,
          3.2836923599243164,
          2.8547213077545166,
          2.8381266593933105,
          2.828540325164795,
          3.4705941677093506,
          2.914373874664306,
          3.3847358226776123,
          2.8476345539093018,
          3.4465842247009277,
          2.8396999835968018,
          2.8876588344573975,
          2.8093278408050537,
          3.2901999950408936,
          2.733107089996338,
          3.0287373065948486,
          3.3174901008605957,
          3.0994670391082764,
          3.1663527488708496,
          3.301920175552368,
          3.102061033248902,
          2.769427537918091,
          2.677791118621826,
          1.9963030815124512,
          3.1703574657440186,
          3.464461326599121,
          3.318758964538574,
          2.7065441608428955,
          2.5183475017547607,
          2.9993491172790527,
          2.9479453563690186,
          2.41400408744812,
          2.279536247253418,
          2.956246852874756,
          3.069061517715454,
          3.3601837158203125,
          2.751376152038574,
          3.4237070083618164,
          3.160676956176758,
          2.329824686050415,
          2.135064601898194,
          2.602710247039795,
          2.494206666946411,
          1.655656099319458,
          2.555856943130493,
          2.7976651191711426,
          2.210639715194702,
          1.524584174156189,
          2.627446413040161,
          0.4641919434070587,
          2.7171730995178223,
          2.815976142883301,
          3.0130646228790283,
          3.2626805305480957,
          2.6778368949890137,
          2.550476551055908,
          2.349717140197754,
          2.5176098346710205,
          3.183561086654663,
          2.9373767375946045,
          2.9796030521392822,
          2.7538654804229736,
          2.8576104640960693,
          3.421818971633911,
          3.193009614944458,
          3.2460222244262695,
          3.2209901809692383,
          2.808562994003296,
          3.39302134513855,
          3.377073049545288,
          2.4978554248809814,
          2.8261241912841797,
          2.6191630363464355,
          3.477853298187256,
          3.194706439971924,
          3.493542194366455,
          3.4650471210479736,
          3.127368211746216,
          3.169499158859253,
          2.82503080368042,
          3.165741205215454,
          2.3739094734191895,
          2.4929895401000977,
          3.4231226444244385,
          3.122178077697754,
          3.1834709644317627,
          2.756591320037842,
          2.4945485591888428,
          3.317167282104492,
          2.750396490097046,
          3.2635066509246826,
          2.515754222869873,
          3.4375507831573486,
          3.370548963546753,
          2.2551543712615967,
          2.7249579429626465,
          3.2464489936828613,
          3.1811676025390625,
          2.7876062393188477,
          3.2889037132263184,
          2.5041942596435547,
          2.093987464904785,
          3.2933621406555176,
          2.98205304145813,
          1.9849523305892944,
          3.1734635829925537,
          2.9161553382873535,
          3.067169666290283,
          2.5092685222625732,
          2.9051871299743652,
          1.6073085069656372,
          3.0889830589294434,
          2.8501088619232178,
          2.283984899520874,
          2.154186248779297,
          2.297034502029419,
          2.346658706665039,
          3.4562010765075684,
          2.8986783027648926,
          2.8299708366394043,
          3.3915581703186035,
          2.7778964042663574,
          3.1131224632263184,
          2.956859350204468,
          2.776623487472534,
          2.828545570373535,
          2.6627914905548096,
          2.6028313636779785,
          3.171013355255127,
          3.079900026321411,
          3.0414021015167236,
          3.325914144515991,
          2.9861788749694824,
          2.5752620697021484,
          2.5212717056274414,
          3.44839859008789,
          2.8906216621398926,
          2.934314727783203,
          3.16332745552063,
          3.387312412261963,
          3.43734073638916,
          3.3862593173980713,
          2.796589612960815,
          2.172536611557007,
          3.0911104679107666,
          3.23193883895874,
          3.3904988765716553,
          3.4057912826538086,
          2.8518059253692627,
          2.714545488357544,
          2.726140260696411,
          3.331946849822998,
          3.074075937271118,
          3.1508708000183105,
          2.7956008911132812,
          2.272268533706665,
          3.241206169128418,
          2.6881024837493896,
          3.3551764488220215,
          3.2912817001342773,
          3.1702568531036377,
          3.3359241485595703,
          3.169877767562866,
          3.2285566329956055,
          2.5941569805145264,
          3.2108778953552246,
          3.4633238315582275,
          3.368378162384033,
          3.383876085281372,
          2.118377208709717,
          2.1266520023345947,
          2.901210069656372,
          2.898369312286377,
          3.02547836303711,
          3.478980302810669,
          2.5869014263153076,
          2.8415660858154297,
          2.7298479080200195,
          2.8014917373657227,
          3.4363529682159424,
          2.859236717224121,
          3.4483542442321777,
          2.5268359184265137,
          3.4055051803588867,
          2.766642808914185
         ],
         "yaxis": "y"
        },
        {
         "customdata": [
          [
           "fold_c_atp_tub_seed1_model_0"
          ],
          [
           "fold_c_atp_tub_seed1_model_0"
          ],
          [
           "fold_c_atp_tub_seed1_model_0"
          ],
          [
           "fold_c_atp_tub_seed1_model_0"
          ],
          [
           "fold_c_atp_tub_seed1_model_0"
          ],
          [
           "fold_c_atp_tub_seed1_model_0"
          ],
          [
           "fold_c_atp_tub_seed1_model_0"
          ],
          [
           "fold_c_atp_tub_seed1_model_0"
          ],
          [
           "fold_c_atp_tub_seed1_model_0"
          ],
          [
           "fold_e_atp_tub_seed1_model_0"
          ],
          [
           "fold_e_atp_tub_seed1_model_0"
          ],
          [
           "fold_e_atp_tub_seed1_model_0"
          ],
          [
           "fold_e_atp_tub_seed1_model_0"
          ],
          [
           "fold_e_atp_tub_seed1_model_0"
          ],
          [
           "fold_e_atp_tub_seed1_model_0"
          ],
          [
           "fold_e_atp_tub_seed1_model_0"
          ],
          [
           "fold_e_atp_tub_seed1_model_0"
          ],
          [
           "fold_e_atp_tub_seed1_model_0"
          ],
          [
           "fold_h_atp_tub_seed1_model_0"
          ],
          [
           "fold_h_atp_tub_seed1_model_0"
          ],
          [
           "fold_h_atp_tub_seed1_model_0"
          ],
          [
           "fold_h_atp_tub_seed1_model_0"
          ],
          [
           "fold_h_atp_tub_seed1_model_0"
          ],
          [
           "fold_h_atp_tub_seed1_model_0"
          ],
          [
           "fold_h_atp_tub_seed1_model_0"
          ],
          [
           "fold_h_atp_tub_seed1_model_0"
          ],
          [
           "fold_h_atp_tub_seed1_model_0"
          ],
          [
           "fold_h_atp_tub_seed1_model_0"
          ],
          [
           "fold_k401_atp_tub_seed1_model_0"
          ],
          [
           "fold_k401_atp_tub_seed1_model_0"
          ],
          [
           "fold_k401_atp_tub_seed1_model_0"
          ],
          [
           "fold_k401_atp_tub_seed1_model_0"
          ],
          [
           "fold_k401_atp_tub_seed1_model_0"
          ],
          [
           "fold_k401_atp_tub_seed1_model_0"
          ],
          [
           "fold_k401_atp_tub_seed1_model_0"
          ],
          [
           "fold_k401_atp_tub_seed1_model_0"
          ]
         ],
         "hovertemplate": "Interacting Chain=alpha-tubulin<br>Residue (Number and Identity)=%{x}<br>Distance (angstroms)=%{y}<br>interacting_atom=%{text}<br>file=%{customdata[0]}<extra></extra>",
         "legendgroup": "alpha-tubulin",
         "marker": {
          "color": "#ab63fa",
          "opacity": 0.6,
          "size": 10,
          "symbol": "circle"
         },
         "mode": "markers+text",
         "name": "alpha-tubulin",
         "orientation": "v",
         "showlegend": true,
         "text": [
          "OE1",
          "OE1",
          "O",
          "O",
          "CG1",
          "CG1",
          "OE2",
          "OE1",
          "OE1",
          "OE1",
          "OE2",
          "O",
          "NZ",
          "NZ",
          "O",
          "CG1",
          "CG1",
          "OE2",
          "OE1",
          "OE1",
          "O",
          "O",
          "CG1",
          "CG1",
          "OE2",
          "CG",
          "OE1",
          "OE1",
          "OE2",
          "O",
          "NZ",
          "NZ",
          "O",
          "CG1",
          "CG1",
          "OE2"
         ],
         "textposition": "top center",
         "type": "scatter",
         "x": [
          "242S",
          "244K",
          "245I",
          "259K",
          "262N",
          "263K",
          "266S",
          "318A",
          "325R",
          "242S",
          "244K",
          "245V",
          "250A",
          "251E",
          "259K",
          "262N",
          "263K",
          "266S",
          "238S",
          "240K",
          "241I",
          "255K",
          "258N",
          "259K",
          "262S",
          "266N",
          "314A",
          "321R",
          "244K",
          "245V",
          "250A",
          "251E",
          "259K",
          "262N",
          "263K",
          "266S"
         ],
         "xaxis": "x",
         "y": [
          3.2220075130462646,
          2.5479209423065186,
          2.961440086364746,
          3.272054433822632,
          3.429266929626465,
          3.3820230960845947,
          2.7096283435821533,
          2.7859344482421875,
          3.011375188827514,
          3.461801052093506,
          2.546417474746704,
          3.226733684539795,
          3.4412996768951416,
          3.075506687164306,
          3.2275352478027344,
          3.4368579387664795,
          3.3619537353515625,
          2.4706685543060303,
          2.8748793601989746,
          2.4869065284729004,
          2.9714810848236084,
          3.2021288871765137,
          3.430851459503174,
          3.369836807250977,
          2.512510299682617,
          3.2866287231445312,
          3.040358543395996,
          2.6851649284362793,
          2.560426950454712,
          3.1075081825256348,
          3.409220933914185,
          3.4453158378601074,
          3.223480224609375,
          3.4584624767303467,
          3.4183528423309326,
          2.612457513809204
         ],
         "yaxis": "y"
        }
       ],
       "layout": {
        "legend": {
         "title": {
          "text": "Interacting Chain"
         },
         "tracegroupgap": 0
        },
        "template": {
         "data": {
          "bar": [
           {
            "error_x": {
             "color": "#2a3f5f"
            },
            "error_y": {
             "color": "#2a3f5f"
            },
            "marker": {
             "line": {
              "color": "#E5ECF6",
              "width": 0.5
             },
             "pattern": {
              "fillmode": "overlay",
              "size": 10,
              "solidity": 0.2
             }
            },
            "type": "bar"
           }
          ],
          "barpolar": [
           {
            "marker": {
             "line": {
              "color": "#E5ECF6",
              "width": 0.5
             },
             "pattern": {
              "fillmode": "overlay",
              "size": 10,
              "solidity": 0.2
             }
            },
            "type": "barpolar"
           }
          ],
          "carpet": [
           {
            "aaxis": {
             "endlinecolor": "#2a3f5f",
             "gridcolor": "white",
             "linecolor": "white",
             "minorgridcolor": "white",
             "startlinecolor": "#2a3f5f"
            },
            "baxis": {
             "endlinecolor": "#2a3f5f",
             "gridcolor": "white",
             "linecolor": "white",
             "minorgridcolor": "white",
             "startlinecolor": "#2a3f5f"
            },
            "type": "carpet"
           }
          ],
          "choropleth": [
           {
            "colorbar": {
             "outlinewidth": 0,
             "ticks": ""
            },
            "type": "choropleth"
           }
          ],
          "contour": [
           {
            "colorbar": {
             "outlinewidth": 0,
             "ticks": ""
            },
            "colorscale": [
             [
              0,
              "#0d0887"
             ],
             [
              0.1111111111111111,
              "#46039f"
             ],
             [
              0.2222222222222222,
              "#7201a8"
             ],
             [
              0.3333333333333333,
              "#9c179e"
             ],
             [
              0.4444444444444444,
              "#bd3786"
             ],
             [
              0.5555555555555556,
              "#d8576b"
             ],
             [
              0.6666666666666666,
              "#ed7953"
             ],
             [
              0.7777777777777778,
              "#fb9f3a"
             ],
             [
              0.8888888888888888,
              "#fdca26"
             ],
             [
              1,
              "#f0f921"
             ]
            ],
            "type": "contour"
           }
          ],
          "contourcarpet": [
           {
            "colorbar": {
             "outlinewidth": 0,
             "ticks": ""
            },
            "type": "contourcarpet"
           }
          ],
          "heatmap": [
           {
            "colorbar": {
             "outlinewidth": 0,
             "ticks": ""
            },
            "colorscale": [
             [
              0,
              "#0d0887"
             ],
             [
              0.1111111111111111,
              "#46039f"
             ],
             [
              0.2222222222222222,
              "#7201a8"
             ],
             [
              0.3333333333333333,
              "#9c179e"
             ],
             [
              0.4444444444444444,
              "#bd3786"
             ],
             [
              0.5555555555555556,
              "#d8576b"
             ],
             [
              0.6666666666666666,
              "#ed7953"
             ],
             [
              0.7777777777777778,
              "#fb9f3a"
             ],
             [
              0.8888888888888888,
              "#fdca26"
             ],
             [
              1,
              "#f0f921"
             ]
            ],
            "type": "heatmap"
           }
          ],
          "heatmapgl": [
           {
            "colorbar": {
             "outlinewidth": 0,
             "ticks": ""
            },
            "colorscale": [
             [
              0,
              "#0d0887"
             ],
             [
              0.1111111111111111,
              "#46039f"
             ],
             [
              0.2222222222222222,
              "#7201a8"
             ],
             [
              0.3333333333333333,
              "#9c179e"
             ],
             [
              0.4444444444444444,
              "#bd3786"
             ],
             [
              0.5555555555555556,
              "#d8576b"
             ],
             [
              0.6666666666666666,
              "#ed7953"
             ],
             [
              0.7777777777777778,
              "#fb9f3a"
             ],
             [
              0.8888888888888888,
              "#fdca26"
             ],
             [
              1,
              "#f0f921"
             ]
            ],
            "type": "heatmapgl"
           }
          ],
          "histogram": [
           {
            "marker": {
             "pattern": {
              "fillmode": "overlay",
              "size": 10,
              "solidity": 0.2
             }
            },
            "type": "histogram"
           }
          ],
          "histogram2d": [
           {
            "colorbar": {
             "outlinewidth": 0,
             "ticks": ""
            },
            "colorscale": [
             [
              0,
              "#0d0887"
             ],
             [
              0.1111111111111111,
              "#46039f"
             ],
             [
              0.2222222222222222,
              "#7201a8"
             ],
             [
              0.3333333333333333,
              "#9c179e"
             ],
             [
              0.4444444444444444,
              "#bd3786"
             ],
             [
              0.5555555555555556,
              "#d8576b"
             ],
             [
              0.6666666666666666,
              "#ed7953"
             ],
             [
              0.7777777777777778,
              "#fb9f3a"
             ],
             [
              0.8888888888888888,
              "#fdca26"
             ],
             [
              1,
              "#f0f921"
             ]
            ],
            "type": "histogram2d"
           }
          ],
          "histogram2dcontour": [
           {
            "colorbar": {
             "outlinewidth": 0,
             "ticks": ""
            },
            "colorscale": [
             [
              0,
              "#0d0887"
             ],
             [
              0.1111111111111111,
              "#46039f"
             ],
             [
              0.2222222222222222,
              "#7201a8"
             ],
             [
              0.3333333333333333,
              "#9c179e"
             ],
             [
              0.4444444444444444,
              "#bd3786"
             ],
             [
              0.5555555555555556,
              "#d8576b"
             ],
             [
              0.6666666666666666,
              "#ed7953"
             ],
             [
              0.7777777777777778,
              "#fb9f3a"
             ],
             [
              0.8888888888888888,
              "#fdca26"
             ],
             [
              1,
              "#f0f921"
             ]
            ],
            "type": "histogram2dcontour"
           }
          ],
          "mesh3d": [
           {
            "colorbar": {
             "outlinewidth": 0,
             "ticks": ""
            },
            "type": "mesh3d"
           }
          ],
          "parcoords": [
           {
            "line": {
             "colorbar": {
              "outlinewidth": 0,
              "ticks": ""
             }
            },
            "type": "parcoords"
           }
          ],
          "pie": [
           {
            "automargin": true,
            "type": "pie"
           }
          ],
          "scatter": [
           {
            "fillpattern": {
             "fillmode": "overlay",
             "size": 10,
             "solidity": 0.2
            },
            "type": "scatter"
           }
          ],
          "scatter3d": [
           {
            "line": {
             "colorbar": {
              "outlinewidth": 0,
              "ticks": ""
             }
            },
            "marker": {
             "colorbar": {
              "outlinewidth": 0,
              "ticks": ""
             }
            },
            "type": "scatter3d"
           }
          ],
          "scattercarpet": [
           {
            "marker": {
             "colorbar": {
              "outlinewidth": 0,
              "ticks": ""
             }
            },
            "type": "scattercarpet"
           }
          ],
          "scattergeo": [
           {
            "marker": {
             "colorbar": {
              "outlinewidth": 0,
              "ticks": ""
             }
            },
            "type": "scattergeo"
           }
          ],
          "scattergl": [
           {
            "marker": {
             "colorbar": {
              "outlinewidth": 0,
              "ticks": ""
             }
            },
            "type": "scattergl"
           }
          ],
          "scattermapbox": [
           {
            "marker": {
             "colorbar": {
              "outlinewidth": 0,
              "ticks": ""
             }
            },
            "type": "scattermapbox"
           }
          ],
          "scatterpolar": [
           {
            "marker": {
             "colorbar": {
              "outlinewidth": 0,
              "ticks": ""
             }
            },
            "type": "scatterpolar"
           }
          ],
          "scatterpolargl": [
           {
            "marker": {
             "colorbar": {
              "outlinewidth": 0,
              "ticks": ""
             }
            },
            "type": "scatterpolargl"
           }
          ],
          "scatterternary": [
           {
            "marker": {
             "colorbar": {
              "outlinewidth": 0,
              "ticks": ""
             }
            },
            "type": "scatterternary"
           }
          ],
          "surface": [
           {
            "colorbar": {
             "outlinewidth": 0,
             "ticks": ""
            },
            "colorscale": [
             [
              0,
              "#0d0887"
             ],
             [
              0.1111111111111111,
              "#46039f"
             ],
             [
              0.2222222222222222,
              "#7201a8"
             ],
             [
              0.3333333333333333,
              "#9c179e"
             ],
             [
              0.4444444444444444,
              "#bd3786"
             ],
             [
              0.5555555555555556,
              "#d8576b"
             ],
             [
              0.6666666666666666,
              "#ed7953"
             ],
             [
              0.7777777777777778,
              "#fb9f3a"
             ],
             [
              0.8888888888888888,
              "#fdca26"
             ],
             [
              1,
              "#f0f921"
             ]
            ],
            "type": "surface"
           }
          ],
          "table": [
           {
            "cells": {
             "fill": {
              "color": "#EBF0F8"
             },
             "line": {
              "color": "white"
             }
            },
            "header": {
             "fill": {
              "color": "#C8D4E3"
             },
             "line": {
              "color": "white"
             }
            },
            "type": "table"
           }
          ]
         },
         "layout": {
          "annotationdefaults": {
           "arrowcolor": "#2a3f5f",
           "arrowhead": 0,
           "arrowwidth": 1
          },
          "autotypenumbers": "strict",
          "coloraxis": {
           "colorbar": {
            "outlinewidth": 0,
            "ticks": ""
           }
          },
          "colorscale": {
           "diverging": [
            [
             0,
             "#8e0152"
            ],
            [
             0.1,
             "#c51b7d"
            ],
            [
             0.2,
             "#de77ae"
            ],
            [
             0.3,
             "#f1b6da"
            ],
            [
             0.4,
             "#fde0ef"
            ],
            [
             0.5,
             "#f7f7f7"
            ],
            [
             0.6,
             "#e6f5d0"
            ],
            [
             0.7,
             "#b8e186"
            ],
            [
             0.8,
             "#7fbc41"
            ],
            [
             0.9,
             "#4d9221"
            ],
            [
             1,
             "#276419"
            ]
           ],
           "sequential": [
            [
             0,
             "#0d0887"
            ],
            [
             0.1111111111111111,
             "#46039f"
            ],
            [
             0.2222222222222222,
             "#7201a8"
            ],
            [
             0.3333333333333333,
             "#9c179e"
            ],
            [
             0.4444444444444444,
             "#bd3786"
            ],
            [
             0.5555555555555556,
             "#d8576b"
            ],
            [
             0.6666666666666666,
             "#ed7953"
            ],
            [
             0.7777777777777778,
             "#fb9f3a"
            ],
            [
             0.8888888888888888,
             "#fdca26"
            ],
            [
             1,
             "#f0f921"
            ]
           ],
           "sequentialminus": [
            [
             0,
             "#0d0887"
            ],
            [
             0.1111111111111111,
             "#46039f"
            ],
            [
             0.2222222222222222,
             "#7201a8"
            ],
            [
             0.3333333333333333,
             "#9c179e"
            ],
            [
             0.4444444444444444,
             "#bd3786"
            ],
            [
             0.5555555555555556,
             "#d8576b"
            ],
            [
             0.6666666666666666,
             "#ed7953"
            ],
            [
             0.7777777777777778,
             "#fb9f3a"
            ],
            [
             0.8888888888888888,
             "#fdca26"
            ],
            [
             1,
             "#f0f921"
            ]
           ]
          },
          "colorway": [
           "#636efa",
           "#EF553B",
           "#00cc96",
           "#ab63fa",
           "#FFA15A",
           "#19d3f3",
           "#FF6692",
           "#B6E880",
           "#FF97FF",
           "#FECB52"
          ],
          "font": {
           "color": "#2a3f5f"
          },
          "geo": {
           "bgcolor": "white",
           "lakecolor": "white",
           "landcolor": "#E5ECF6",
           "showlakes": true,
           "showland": true,
           "subunitcolor": "white"
          },
          "hoverlabel": {
           "align": "left"
          },
          "hovermode": "closest",
          "mapbox": {
           "style": "light"
          },
          "paper_bgcolor": "white",
          "plot_bgcolor": "#E5ECF6",
          "polar": {
           "angularaxis": {
            "gridcolor": "white",
            "linecolor": "white",
            "ticks": ""
           },
           "bgcolor": "#E5ECF6",
           "radialaxis": {
            "gridcolor": "white",
            "linecolor": "white",
            "ticks": ""
           }
          },
          "scene": {
           "xaxis": {
            "backgroundcolor": "#E5ECF6",
            "gridcolor": "white",
            "gridwidth": 2,
            "linecolor": "white",
            "showbackground": true,
            "ticks": "",
            "zerolinecolor": "white"
           },
           "yaxis": {
            "backgroundcolor": "#E5ECF6",
            "gridcolor": "white",
            "gridwidth": 2,
            "linecolor": "white",
            "showbackground": true,
            "ticks": "",
            "zerolinecolor": "white"
           },
           "zaxis": {
            "backgroundcolor": "#E5ECF6",
            "gridcolor": "white",
            "gridwidth": 2,
            "linecolor": "white",
            "showbackground": true,
            "ticks": "",
            "zerolinecolor": "white"
           }
          },
          "shapedefaults": {
           "line": {
            "color": "#2a3f5f"
           }
          },
          "ternary": {
           "aaxis": {
            "gridcolor": "white",
            "linecolor": "white",
            "ticks": ""
           },
           "baxis": {
            "gridcolor": "white",
            "linecolor": "white",
            "ticks": ""
           },
           "bgcolor": "#E5ECF6",
           "caxis": {
            "gridcolor": "white",
            "linecolor": "white",
            "ticks": ""
           }
          },
          "title": {
           "x": 0.05
          },
          "xaxis": {
           "automargin": true,
           "gridcolor": "white",
           "linecolor": "white",
           "ticks": "",
           "title": {
            "standoff": 15
           },
           "zerolinecolor": "white",
           "zerolinewidth": 2
          },
          "yaxis": {
           "automargin": true,
           "gridcolor": "white",
           "linecolor": "white",
           "ticks": "",
           "title": {
            "standoff": 15
           },
           "zerolinecolor": "white",
           "zerolinewidth": 2
          }
         }
        },
        "title": {
         "text": "Interaction Distances by Residue and Interacting Chain"
        },
        "xaxis": {
         "anchor": "y",
         "categoryarray": [
          "21P",
          "51K",
          "87T",
          "88G",
          "89S",
          "90G",
          "91K",
          "92T",
          "93F",
          "94T",
          "95S",
          "96S",
          "97G",
          "98K",
          "99T",
          "100H",
          "144R",
          "148K",
          "157K",
          "158V",
          "159N",
          "159R",
          "160E",
          "163H",
          "164E",
          "165D",
          "166K",
          "167N",
          "201N",
          "204S",
          "205N",
          "205S",
          "208S",
          "209S",
          "237G",
          "238S",
          "240K",
          "241G",
          "241I",
          "242S",
          "244K",
          "245I",
          "245V",
          "250A",
          "251E",
          "255K",
          "258N",
          "259K",
          "262N",
          "262S",
          "263K",
          "266S",
          "266N",
          "275K",
          "277T",
          "278H",
          "280K",
          "282H",
          "282R",
          "283D",
          "285K",
          "286R",
          "287D",
          "314A",
          "318A",
          "321R",
          "325R",
          "328R",
          "341A",
          "343R",
          "344L",
          "345A",
          "346A",
          "348W",
          "350I",
          "352Y",
          "354E",
          "355E",
          "358K",
          "358E",
          "358L",
          "359N",
          "359K",
          "361Y",
          "362L",
          "362I",
          "363K",
          "365K",
          "365Y",
          "365L",
          "366V",
          "366I",
          "366E",
          "367T",
          "368V",
          "369L",
          "369S",
          "370E",
          "370G",
          "371V",
          "372E",
          "372T",
          "373L",
          "373S",
          "373V",
          "374S",
          "375V",
          "375N",
          "376L",
          "377R",
          "387Q",
          "388I",
          "390M",
          "393L",
          "396A",
          "397S",
          "410S",
          "412L",
          "414N",
          "417N",
          "419T",
          "442T",
          "444V",
          "444T",
          "447P",
          "448T",
          "448D",
          "449S",
          "452D",
          "452I",
          "455L",
          "458K",
          "459C",
          "462K",
          "462L",
          "463C",
          "463E",
          "465Q",
          "466L",
          "467E",
          "469Q",
          "469K",
          "470L",
          "470E",
          "472E",
          "473K",
          "474E",
          "476E",
          "476I",
          "477K",
          "478K",
          "479E",
          "480I",
          "480L",
          "482E",
          "483Q",
          "484L",
          "484Q",
          "486Q",
          "487Q",
          "487I",
          "488Q",
          "489E",
          "490Q",
          "490K",
          "491I",
          "491D",
          "493D",
          "493E",
          "494K",
          "494I",
          "495D",
          "497L",
          "498I",
          "498N",
          "501L",
          "501I",
          "502N",
          "504S",
          "505I",
          "505N",
          "508S",
          "508N",
          "509S",
          "510L",
          "511I",
          "511Y",
          "512N",
          "512Q",
          "514L",
          "514S",
          "515Y",
          "518S",
          "518N",
          "519T",
          "521E",
          "521L",
          "522N",
          "525L",
          "526N",
          "528Q",
          "529L",
          "530S",
          "531A",
          "532L",
          "533K",
          "534L",
          "535A",
          "535S",
          "536L",
          "537E",
          "538K",
          "539S",
          "539A",
          "540R",
          "541F",
          "542Q",
          "543A",
          "545E",
          "546Q",
          "546I",
          "548L",
          "549L",
          "550I",
          "550N",
          "552E",
          "553L",
          "553N",
          "554N",
          "556E",
          "556I",
          "557N",
          "557K",
          "560I",
          "560L",
          "561K",
          "563L",
          "566R",
          "567L",
          "567I",
          "570R",
          "571I",
          "575I",
          "576D",
          "578L",
          "579I",
          "582L"
         ],
         "categoryorder": "array",
         "domain": [
          0,
          1
         ],
         "title": {
          "text": "Residue (Number and Identity)"
         }
        },
        "yaxis": {
         "anchor": "x",
         "domain": [
          0,
          1
         ],
         "title": {
          "text": "Distance (angstroms)"
         }
        }
       }
      }
     },
     "metadata": {},
     "output_type": "display_data"
    }
   ],
   "source": [
    "import pandas as pd\n",
    "import plotly.express as px\n",
    "\n",
    "# Define the path to the uploaded CSV file\n",
    "csv_file_path = '/Users/jazzeruncal/git/Jazzer_surf/3d_predictions/same_seed/Seed_1/interactions_all_files.csv'\n",
    "\n",
    "# Read the CSV file into a DataFrame\n",
    "df = pd.read_csv(csv_file_path)\n",
    "\n",
    "# Filter to get the shortest distances for each interaction\n",
    "df = df.loc[df[df['chain'] == 'A'].groupby(['file', 'resi', 'interacting_chain'])['distance (angstroms)'].idxmin()]\n",
    "\n",
    "# Exclude interactions with Mg and chain letters A, G, H\n",
    "df = df[(df['interacting_resn'] != 'MG') & (~df['interacting_chain'].isin(['A', 'G', 'H']))].reset_index(drop=True)\n",
    "\n",
    "# Map interacting_resn to single-letter codes for better readability\n",
    "aa_dict = {\n",
    "    'ALA': 'A', 'ARG': 'R', 'ASN': 'N', 'ASP': 'D', 'CYS': 'C', 'GLN': 'Q', 'GLU': 'E', 'GLY': 'G',\n",
    "    'HIS': 'H', 'ILE': 'I', 'LEU': 'L', 'LYS': 'K', 'MET': 'M', 'PHE': 'F', 'PRO': 'P', 'SER': 'S',\n",
    "    'THR': 'T', 'TRP': 'W', 'TYR': 'Y', 'VAL': 'V'\n",
    "}\n",
    "df['residue_one_letter'] = df['resn'].map(aa_dict)\n",
    "df['residue'] = df['resi'].astype(str) + df['residue_one_letter']\n",
    "\n",
    "# Replace chain letters with descriptive names\n",
    "chain_map = {\n",
    "    'B': 'kinesin B',\n",
    "    'C': 'alpha-tubulin',\n",
    "    'D': 'beta-tubulin',\n",
    "    'E': 'ATP',\n",
    "    'F': 'ATP'\n",
    "}\n",
    "df['interacting_chain'] = df['interacting_chain'].map(chain_map)\n",
    "\n",
    "# Group by file and interacting chain, keeping residues in order\n",
    "grouped = df.groupby(['file', 'interacting_chain'])\n",
    "\n",
    "# Create a list to store the output rows\n",
    "output_rows = []\n",
    "\n",
    "# Iterate over each group and extract information\n",
    "for (file, chain), group in grouped:\n",
    "    for _, row in group.iterrows():\n",
    "        output_rows.append({\n",
    "            'file': file,\n",
    "            'interacting_chain': chain,\n",
    "            'interacting_atom': row['interacting_atom'],\n",
    "            'residue_number': row['resi'],\n",
    "            'amino_acid': row['residue_one_letter'],\n",
    "            'distance (angstroms)': row['distance (angstroms)'],\n",
    "        })\n",
    "\n",
    "# Convert the list to a DataFrame\n",
    "interaction_df = pd.DataFrame(output_rows)\n",
    "\n",
    "# Save the resulting DataFrame to a CSV file\n",
    "interaction_df.to_csv(\"interaction_summary_all_files.csv\", index=False)\n",
    "\n",
    "# Load the summarized interaction data\n",
    "csv_file_path = \"interaction_summary_all_files.csv\"\n",
    "interaction_df = pd.read_csv(csv_file_path)\n",
    "\n",
    "# Create a new column for the x-axis labels by concatenating residue number and amino acid\n",
    "interaction_df['residue_label'] = interaction_df['residue_number'].astype(str) + interaction_df['amino_acid']\n",
    "\n",
    "# Sort the dataframe by file and residue number to maintain order\n",
    "interaction_df = interaction_df.sort_values(by=['file', 'residue_number'])\n",
    "\n",
    "# Convert residue_label to a categorical type with the correct order\n",
    "interaction_df['residue_label'] = pd.Categorical(interaction_df['residue_label'], \n",
    "                                                 categories=sorted(interaction_df['residue_label'].unique(), key=lambda x: int(''.join(filter(str.isdigit, x)))), \n",
    "                                                 ordered=True)\n",
    "\n",
    "# Scatter plot for interaction distances with custom x-axis labels\n",
    "fig_scatter = px.scatter(interaction_df, x='residue_label', y='distance (angstroms)', color='interacting_chain', text='interacting_atom',\n",
    "                         title='Interaction Distances by Residue and Interacting Chain',\n",
    "                         labels={'residue_label': 'Residue (Number and Identity)', 'distance (angstroms)': 'Distance (angstroms)', 'interacting_chain': 'Interacting Chain'},\n",
    "                         hover_data=['file'])\n",
    "\n",
    "fig_scatter.update_traces(textposition='top center', marker=dict(size=10, opacity=0.6))\n",
    "fig_scatter.update_layout(xaxis={'categoryorder':'array', 'categoryarray': interaction_df['residue_label'].cat.categories})\n",
    "\n",
    "# Show the plot\n",
    "fig_scatter.show()\n"
   ]
  },
  {
   "cell_type": "markdown",
   "metadata": {},
   "source": [
    "ALL motors together from the first seed\n"
   ]
  },
  {
   "cell_type": "code",
   "execution_count": 44,
   "metadata": {},
   "outputs": [
    {
     "data": {
      "application/vnd.plotly.v1+json": {
       "config": {
        "plotlyServerURL": "https://plot.ly"
       },
       "data": [
        {
         "customdata": [
          [
           "fold_c_atp_tub_sameseed_model_0"
          ],
          [
           "fold_c_atp_tub_sameseed_model_0"
          ],
          [
           "fold_c_atp_tub_sameseed_model_0"
          ],
          [
           "fold_c_atp_tub_sameseed_model_0"
          ],
          [
           "fold_c_atp_tub_sameseed_model_0"
          ],
          [
           "fold_c_atp_tub_sameseed_model_0"
          ],
          [
           "fold_c_atp_tub_sameseed_model_0"
          ],
          [
           "fold_c_atp_tub_sameseed_model_0"
          ],
          [
           "fold_c_atp_tub_sameseed_model_0"
          ],
          [
           "fold_c_atp_tub_sameseed_model_0"
          ],
          [
           "fold_c_atp_tub_sameseed_model_0"
          ],
          [
           "fold_c_atp_tub_sameseed_model_0"
          ],
          [
           "fold_c_atp_tub_sameseed_model_0"
          ],
          [
           "fold_c_atp_tub_sameseed_model_0"
          ],
          [
           "fold_c_atp_tub_sameseed_model_0"
          ],
          [
           "fold_c_atp_tub_sameseed_model_0"
          ],
          [
           "fold_c_atp_tub_sameseed_model_0"
          ],
          [
           "fold_c_atp_tub_sameseed_model_0"
          ],
          [
           "fold_c_atp_tub_sameseed_model_0"
          ],
          [
           "fold_c_atp_tub_sameseed_model_0"
          ],
          [
           "fold_c_atp_tub_sameseed_model_0"
          ],
          [
           "fold_e_atp_tub_sameseed_model_0"
          ],
          [
           "fold_e_atp_tub_sameseed_model_0"
          ],
          [
           "fold_e_atp_tub_sameseed_model_0"
          ],
          [
           "fold_e_atp_tub_sameseed_model_0"
          ],
          [
           "fold_e_atp_tub_sameseed_model_0"
          ],
          [
           "fold_e_atp_tub_sameseed_model_0"
          ],
          [
           "fold_e_atp_tub_sameseed_model_0"
          ],
          [
           "fold_e_atp_tub_sameseed_model_0"
          ],
          [
           "fold_e_atp_tub_sameseed_model_0"
          ],
          [
           "fold_e_atp_tub_sameseed_model_0"
          ],
          [
           "fold_e_atp_tub_sameseed_model_0"
          ],
          [
           "fold_e_atp_tub_sameseed_model_0"
          ],
          [
           "fold_e_atp_tub_sameseed_model_0"
          ],
          [
           "fold_e_atp_tub_sameseed_model_0"
          ],
          [
           "fold_e_atp_tub_sameseed_model_0"
          ],
          [
           "fold_e_atp_tub_sameseed_model_0"
          ],
          [
           "fold_e_atp_tub_sameseed_model_0"
          ],
          [
           "fold_e_atp_tub_sameseed_model_0"
          ],
          [
           "fold_e_atp_tub_sameseed_model_0"
          ],
          [
           "fold_e_atp_tub_sameseed_model_0"
          ],
          [
           "fold_e_atp_tub_sameseed_model_0"
          ],
          [
           "fold_e_atp_tub_sameseed_model_0"
          ],
          [
           "fold_e_atp_tub_sameseed_model_0"
          ],
          [
           "fold_e_atp_tub_sameseed_model_0"
          ],
          [
           "fold_e_atp_tub_sameseed_model_0"
          ],
          [
           "fold_e_atp_tub_sameseed_model_0"
          ],
          [
           "fold_e_atp_tub_sameseed_model_0"
          ],
          [
           "fold_e_atp_tub_sameseed_model_0"
          ],
          [
           "fold_e_atp_tub_sameseed_model_0"
          ],
          [
           "fold_e_atp_tub_sameseed_model_0"
          ],
          [
           "fold_e_atp_tub_sameseed_model_0"
          ],
          [
           "fold_e_atp_tub_sameseed_model_0"
          ],
          [
           "fold_e_atp_tub_sameseed_model_0"
          ],
          [
           "fold_e_atp_tub_sameseed_model_0"
          ],
          [
           "fold_e_atp_tub_sameseed_model_0"
          ],
          [
           "fold_e_atp_tub_sameseed_model_0"
          ],
          [
           "fold_e_atp_tub_sameseed_model_0"
          ],
          [
           "fold_e_atp_tub_sameseed_model_0"
          ],
          [
           "fold_e_atp_tub_sameseed_model_0"
          ],
          [
           "fold_e_atp_tub_sameseed_model_0"
          ],
          [
           "fold_e_atp_tub_sameseed_model_0"
          ],
          [
           "fold_e_atp_tub_sameseed_model_0"
          ],
          [
           "fold_e_atp_tub_sameseed_model_0"
          ],
          [
           "fold_e_atp_tub_sameseed_model_0"
          ],
          [
           "fold_e_atp_tub_sameseed_model_0"
          ],
          [
           "fold_e_atp_tub_sameseed_model_0"
          ],
          [
           "fold_e_atp_tub_sameseed_model_0"
          ],
          [
           "fold_e_atp_tub_sameseed_model_0"
          ],
          [
           "fold_e_atp_tub_sameseed_model_0"
          ],
          [
           "fold_e_atp_tub_sameseed_model_0"
          ],
          [
           "fold_e_atp_tub_sameseed_model_0"
          ],
          [
           "fold_e_atp_tub_sameseed_model_0"
          ],
          [
           "fold_e_atp_tub_sameseed_model_0"
          ],
          [
           "fold_e_atp_tub_sameseed_model_0"
          ],
          [
           "fold_e_atp_tub_sameseed_model_0"
          ],
          [
           "fold_e_atp_tub_sameseed_model_0"
          ],
          [
           "fold_e_atp_tub_sameseed_model_0"
          ],
          [
           "fold_e_atp_tub_sameseed_model_0"
          ],
          [
           "fold_e_atp_tub_sameseed_model_0"
          ],
          [
           "fold_e_atp_tub_sameseed_model_0"
          ],
          [
           "fold_e_atp_tub_sameseed_model_0"
          ],
          [
           "fold_e_atp_tub_sameseed_model_0"
          ],
          [
           "fold_e_atp_tub_sameseed_model_0"
          ],
          [
           "fold_e_atp_tub_sameseed_model_0"
          ],
          [
           "fold_e_atp_tub_sameseed_model_0"
          ],
          [
           "fold_e_atp_tub_sameseed_model_0"
          ],
          [
           "fold_e_atp_tub_sameseed_model_0"
          ],
          [
           "fold_k401_atp_tub_333_model_0"
          ],
          [
           "fold_k401_atp_tub_333_model_0"
          ],
          [
           "fold_k401_atp_tub_333_model_0"
          ],
          [
           "fold_k401_atp_tub_333_model_0"
          ],
          [
           "fold_k401_atp_tub_333_model_0"
          ],
          [
           "fold_k401_atp_tub_333_model_0"
          ],
          [
           "fold_k401_atp_tub_333_model_0"
          ],
          [
           "fold_k401_atp_tub_333_model_0"
          ],
          [
           "fold_k401_atp_tub_333_model_0"
          ],
          [
           "fold_k401_atp_tub_333_model_0"
          ],
          [
           "fold_k401_atp_tub_333_model_0"
          ],
          [
           "fold_k401_atp_tub_333_model_0"
          ],
          [
           "fold_k401_atp_tub_333_model_0"
          ],
          [
           "fold_k401_atp_tub_333_model_0"
          ],
          [
           "fold_k401_atp_tub_333_model_0"
          ],
          [
           "fold_k401_atp_tub_333_model_0"
          ],
          [
           "fold_k401_atp_tub_333_model_0"
          ],
          [
           "fold_kif3_atp_tub_sameseed_model_0"
          ],
          [
           "fold_kif3_atp_tub_sameseed_model_0"
          ],
          [
           "fold_kif3_atp_tub_sameseed_model_0"
          ],
          [
           "fold_kif3_atp_tub_sameseed_model_0"
          ],
          [
           "fold_kif3_atp_tub_sameseed_model_0"
          ],
          [
           "fold_kif3_atp_tub_sameseed_model_0"
          ],
          [
           "fold_kif3_atp_tub_sameseed_model_0"
          ],
          [
           "fold_kif3_atp_tub_sameseed_model_0"
          ],
          [
           "fold_kif3_atp_tub_sameseed_model_0"
          ],
          [
           "fold_kif3_atp_tub_sameseed_model_0"
          ],
          [
           "fold_kif3_atp_tub_sameseed_model_0"
          ],
          [
           "fold_kif3_atp_tub_sameseed_model_0"
          ],
          [
           "fold_kif3_atp_tub_sameseed_model_0"
          ],
          [
           "fold_kif3_atp_tub_sameseed_model_0"
          ],
          [
           "fold_kif3_atp_tub_sameseed_model_0"
          ],
          [
           "fold_kif3_atp_tub_sameseed_model_0"
          ],
          [
           "fold_kif3_atp_tub_sameseed_model_0"
          ],
          [
           "fold_kif3_atp_tub_sameseed_model_0"
          ],
          [
           "fold_kif3_atp_tub_sameseed_model_0"
          ],
          [
           "fold_kif3_atp_tub_sameseed_model_0"
          ],
          [
           "fold_kif3_atp_tub_sameseed_model_0"
          ],
          [
           "fold_kif3_atp_tub_sameseed_model_0"
          ],
          [
           "fold_kif3_atp_tub_sameseed_model_0"
          ],
          [
           "fold_kif3_atp_tub_sameseed_model_0"
          ],
          [
           "fold_kif3_atp_tub_sameseed_model_0"
          ],
          [
           "fold_kif3_atp_tub_sameseed_model_0"
          ],
          [
           "fold_kif3_atp_tub_sameseed_model_0"
          ],
          [
           "fold_kif3_atp_tub_sameseed_model_0"
          ],
          [
           "fold_kif3_atp_tub_sameseed_model_0"
          ],
          [
           "fold_kif3_atp_tub_sameseed_model_0"
          ],
          [
           "fold_kif3_atp_tub_sameseed_model_0"
          ],
          [
           "fold_kif3_atp_tub_sameseed_model_0"
          ],
          [
           "fold_kif3_atp_tub_sameseed_model_0"
          ],
          [
           "fold_kif3_atp_tub_sameseed_model_0"
          ],
          [
           "fold_kif3_atp_tub_sameseed_model_0"
          ],
          [
           "fold_kif3_atp_tub_sameseed_model_0"
          ],
          [
           "fold_kif3_atp_tub_sameseed_model_0"
          ],
          [
           "fold_kif3_atp_tub_sameseed_model_0"
          ],
          [
           "fold_kif3_atp_tub_sameseed_model_0"
          ],
          [
           "fold_kif3_atp_tub_sameseed_model_0"
          ],
          [
           "fold_kif3_atp_tub_sameseed_model_0"
          ],
          [
           "fold_kif3_atp_tub_sameseed_model_0"
          ],
          [
           "fold_kif3_atp_tub_sameseed_model_0"
          ],
          [
           "fold_kif3_atp_tub_sameseed_model_0"
          ],
          [
           "fold_kif3_atp_tub_sameseed_model_0"
          ],
          [
           "fold_kif3_atp_tub_sameseed_model_0"
          ],
          [
           "fold_kif3_atp_tub_sameseed_model_0"
          ],
          [
           "fold_kif3_atp_tub_sameseed_model_0"
          ],
          [
           "fold_kif3_atp_tub_sameseed_model_0"
          ],
          [
           "fold_kif3_atp_tub_sameseed_model_0"
          ],
          [
           "fold_kif3_atp_tub_sameseed_model_0"
          ],
          [
           "fold_kif3_atp_tub_sameseed_model_0"
          ],
          [
           "fold_kif3_atp_tub_sameseed_model_0"
          ],
          [
           "fold_kif3_atp_tub_sameseed_model_0"
          ],
          [
           "fold_kif3_atp_tub_sameseed_model_0"
          ],
          [
           "fold_kif3_atp_tub_sameseed_model_0"
          ],
          [
           "fold_kif3_atp_tub_sameseed_model_0"
          ],
          [
           "fold_kif3_atp_tub_sameseed_model_0"
          ],
          [
           "fold_kif3_atp_tub_sameseed_model_0"
          ],
          [
           "fold_kif3_atp_tub_sameseed_model_0"
          ],
          [
           "fold_kif3_atp_tub_sameseed_model_0"
          ],
          [
           "fold_kif3_atp_tub_sameseed_model_0"
          ],
          [
           "fold_kif3_atp_tub_sameseed_model_0"
          ],
          [
           "fold_kif3_atp_tub_sameseed_model_0"
          ]
         ],
         "hovertemplate": "Interacting Chain=kinesin B<br>Residue (Number and Identity)=%{x}<br>Distance (angstroms)=%{y}<br>interacting_atom=%{text}<br>file=%{customdata[0]}<extra></extra>",
         "legendgroup": "kinesin B",
         "marker": {
          "color": "#636efa",
          "opacity": 0.6,
          "size": 10,
          "symbol": "circle"
         },
         "mode": "markers+text",
         "name": "kinesin B",
         "orientation": "v",
         "showlegend": true,
         "text": [
          "CB",
          "O",
          "NZ",
          "CD1",
          "NZ",
          "OG",
          "CB",
          "CB",
          "CG",
          "OE1",
          "ND2",
          "OE2",
          "OD1",
          "OE1",
          "CD1",
          "NZ",
          "NH2",
          "OE1",
          "OE2",
          "CD",
          "NH2",
          "CD1",
          "O",
          "NZ",
          "CD1",
          "OE1",
          "CG2",
          "CG1",
          "OH",
          "CD2",
          "CB",
          "CD2",
          "OH",
          "CG2",
          "OG1",
          "CG1",
          "OE1",
          "SG",
          "NZ",
          "CD1",
          "N",
          "OE1",
          "NZ",
          "NZ",
          "OE2",
          "CE",
          "OE1",
          "CG",
          "NE2",
          "CE",
          "OD1",
          "NZ",
          "CD1",
          "OE2",
          "CD1",
          "CD2",
          "CD2",
          "CB",
          "OD1",
          "CG2",
          "CE2",
          "O",
          "OG",
          "CD1",
          "OD1",
          "CD2",
          "O",
          "CD2",
          "CD1",
          "O",
          "OG",
          "OG",
          "OE1",
          "O",
          "CG1",
          "OD1",
          "CD2",
          "NZ",
          "OD1",
          "OD1",
          "OE1",
          "CD1",
          "CD1",
          "O",
          "CD2",
          "CD1",
          "OG",
          "NH1",
          "OE1",
          "CD1",
          "NZ",
          "CB",
          "CG",
          "ND2",
          "OE2",
          "OD1",
          "OE1",
          "CD1",
          "NZ",
          "NH2",
          "OE1",
          "OE2",
          "CD",
          "NH2",
          "NH1",
          "CD1",
          "O",
          "NZ",
          "CG1",
          "CD1",
          "OE1",
          "OE1",
          "CG1",
          "O",
          "OH",
          "CD1",
          "CD2",
          "CE2",
          "CG1",
          "OG1",
          "OG1",
          "CD1",
          "CG2",
          "CG1",
          "OE1",
          "SG",
          "NZ",
          "CD1",
          "CD1",
          "OE1",
          "NZ",
          "NZ",
          "OE2",
          "CE",
          "OE1",
          "O",
          "CG1",
          "OD1",
          "NZ",
          "CD1",
          "CD2",
          "CD2",
          "OG",
          "CD1",
          "O",
          "OG",
          "ND2",
          "OD1",
          "OD1",
          "CD2",
          "CD2",
          "O",
          "O",
          "OG",
          "OE1",
          "O",
          "CG1",
          "OD1",
          "CD2",
          "NZ",
          "OD1",
          "CG2",
          "OE1",
          "CD1",
          "CD1",
          "O",
          "CD2",
          "CD1",
          "NH1"
         ],
         "textposition": "top center",
         "type": "scatter",
         "x": [
          "1M",
          "2S",
          "3A",
          "4E",
          "7I",
          "345A",
          "346E",
          "348W",
          "349K",
          "352Y",
          "355E",
          "359N",
          "362L",
          "365K",
          "369L",
          "370E",
          "372E",
          "373L",
          "377R",
          "387Q",
          "388I",
          "345A",
          "348L",
          "358E",
          "362L",
          "363K",
          "365Y",
          "366I",
          "370E",
          "372V",
          "373S",
          "375V",
          "377V",
          "380L",
          "448T",
          "456I",
          "462K",
          "463C",
          "467E",
          "469Q",
          "470L",
          "473K",
          "474E",
          "476E",
          "477K",
          "480I",
          "484L",
          "487Q",
          "488Q",
          "491I",
          "494K",
          "495D",
          "497E",
          "498I",
          "501L",
          "502N",
          "505I",
          "508S",
          "511I",
          "512N",
          "514L",
          "515Y",
          "518S",
          "522N",
          "525L",
          "526N",
          "529L",
          "532L",
          "535A",
          "536L",
          "539S",
          "540R",
          "543A",
          "546Q",
          "550I",
          "553L",
          "554N",
          "556E",
          "557N",
          "560I",
          "561K",
          "564L",
          "567L",
          "570R",
          "571I",
          "574S",
          "579I",
          "582L",
          "166K",
          "345A",
          "346E",
          "348W",
          "352Y",
          "355E",
          "359N",
          "362L",
          "365K",
          "369L",
          "370E",
          "372E",
          "373L",
          "377R",
          "387Q",
          "388I",
          "390M",
          "341A",
          "344L",
          "354E",
          "355I",
          "358L",
          "359K",
          "361Y",
          "362I",
          "365L",
          "366E",
          "368V",
          "371V",
          "373V",
          "376L",
          "444T",
          "445S",
          "448D",
          "449T",
          "452I",
          "458K",
          "459C",
          "463E",
          "465Q",
          "466L",
          "469K",
          "470E",
          "472E",
          "473K",
          "476I",
          "480L",
          "483Q",
          "487I",
          "490K",
          "491D",
          "497L",
          "498N",
          "501I",
          "504S",
          "508N",
          "511Y",
          "514S",
          "517E",
          "518N",
          "521L",
          "522N",
          "524Q",
          "525L",
          "532L",
          "535S",
          "539A",
          "542Q",
          "546I",
          "549L",
          "550N",
          "552E",
          "553N",
          "556I",
          "557K",
          "560L",
          "563L",
          "566R",
          "567I",
          "575I",
          "578L"
         ],
         "xaxis": "x",
         "y": [
          3.1664042472839355,
          2.648374319076538,
          2.891021490097046,
          2.471980094909668,
          3.2205750942230225,
          2.721776247024536,
          3.1494085788726807,
          3.160405158996582,
          3.156520128250122,
          3.23134446144104,
          2.992515802383423,
          2.3989696502685547,
          3.0107855796813965,
          2.891279458999634,
          3.409965753555298,
          2.9755024909973145,
          2.8000566959381104,
          2.878722906112671,
          2.7320556640625,
          3.33967661857605,
          2.889199733734131,
          3.321165084838867,
          3.3053252696990967,
          2.878441572189331,
          3.404067039489746,
          2.6863951683044434,
          2.5690174102783203,
          3.3908426761627197,
          3.3624329566955566,
          3.095039129257202,
          3.4771525859832764,
          3.3028931617736816,
          2.474356174468994,
          2.8760299682617188,
          2.164058208465576,
          3.419992446899414,
          2.7302534580230713,
          3.0049474239349365,
          2.7784245014190674,
          3.40057373046875,
          3.1661298274993896,
          2.3929686546325684,
          2.5059876441955566,
          2.588190793991089,
          2.641502141952514,
          3.2682955265045166,
          3.055630922317505,
          2.9398396015167236,
          2.8984227180480957,
          3.426877498626709,
          2.4378294944763184,
          2.4310481548309326,
          3.4457273483276367,
          3.4741857051849365,
          2.5901663303375244,
          3.329033374786377,
          2.963871955871582,
          2.76065444946289,
          2.2568233013153076,
          3.1441075801849365,
          3.4190146923065186,
          3.2610087394714355,
          2.7724063396453857,
          2.5232558250427246,
          2.998166561126709,
          3.3200438022613525,
          3.4216935634613037,
          3.429373025894165,
          3.4325644969940186,
          3.392808437347412,
          2.807173728942871,
          3.430415630340576,
          2.7215311527252197,
          2.7129147052764893,
          3.3717856407165527,
          3.250649690628052,
          3.2139389514923096,
          2.692190647125244,
          2.772524356842041,
          2.9977502822875977,
          2.651594877243042,
          3.371981620788574,
          2.991334915161133,
          2.419670820236206,
          2.861778974533081,
          3.0755441188812256,
          3.1206560134887695,
          2.4720380306243896,
          2.852186679840088,
          3.29819393157959,
          2.8675215244293213,
          3.37213397026062,
          3.467067003250122,
          2.093235969543457,
          2.1528127193450928,
          3.0044751167297363,
          3.3695459365844727,
          3.4212889671325684,
          3.102832317352295,
          2.8381969928741455,
          2.8488173484802246,
          2.7509443759918213,
          3.351947069168091,
          2.9071762561798096,
          3.470970630645752,
          3.4494898319244385,
          3.453981399536133,
          2.7847046852111816,
          3.486245393753052,
          3.3671767711639404,
          2.641094207763672,
          2.8551347255706787,
          3.2814221382141113,
          2.995442152023315,
          2.8715410232543945,
          2.5638272762298584,
          2.980264186859131,
          3.3743896484375,
          2.88838791847229,
          2.9535655975341797,
          3.20292329788208,
          3.1666388511657715,
          3.1764779090881348,
          3.2366702556610107,
          2.659426212310791,
          2.852346658706665,
          2.688230037689209,
          3.3258278369903564,
          3.113520383834839,
          2.56089186668396,
          2.6391355991363525,
          2.590994358062744,
          2.6033194065093994,
          3.2491872310638428,
          3.1025710105895996,
          3.0445337295532227,
          3.477691888809204,
          2.415228843688965,
          2.4562747478485107,
          2.932422876358032,
          3.2578284740448,
          3.005067825317383,
          2.4711222648620605,
          3.4295811653137207,
          3.3984365463256836,
          2.729997396469116,
          3.1234583854675293,
          2.3410000801086426,
          3.1108574867248535,
          3.360945463180542,
          3.4944815635681152,
          3.4159445762634277,
          3.3357183933258057,
          2.70270037651062,
          2.8752522468566895,
          2.9256651401519775,
          3.354116678237915,
          3.1762990951538086,
          3.1099817752838135,
          2.6520822048187256,
          2.103816270828247,
          3.3165886402130127,
          2.7389395236968994,
          3.3363964557647705,
          3.295421838760376,
          2.8497214317321777,
          3.4307265281677246,
          3.262397050857544,
          2.809762716293335
         ],
         "yaxis": "y"
        },
        {
         "customdata": [
          [
           "fold_c_atp_tub_sameseed_model_0"
          ],
          [
           "fold_c_atp_tub_sameseed_model_0"
          ],
          [
           "fold_c_atp_tub_sameseed_model_0"
          ],
          [
           "fold_c_atp_tub_sameseed_model_0"
          ],
          [
           "fold_c_atp_tub_sameseed_model_0"
          ],
          [
           "fold_c_atp_tub_sameseed_model_0"
          ],
          [
           "fold_c_atp_tub_sameseed_model_0"
          ],
          [
           "fold_c_atp_tub_sameseed_model_0"
          ],
          [
           "fold_c_atp_tub_sameseed_model_0"
          ],
          [
           "fold_c_atp_tub_sameseed_model_0"
          ],
          [
           "fold_c_atp_tub_sameseed_model_0"
          ],
          [
           "fold_c_atp_tub_sameseed_model_0"
          ],
          [
           "fold_e_atp_tub_sameseed_model_0"
          ],
          [
           "fold_e_atp_tub_sameseed_model_0"
          ],
          [
           "fold_e_atp_tub_sameseed_model_0"
          ],
          [
           "fold_e_atp_tub_sameseed_model_0"
          ],
          [
           "fold_e_atp_tub_sameseed_model_0"
          ],
          [
           "fold_e_atp_tub_sameseed_model_0"
          ],
          [
           "fold_e_atp_tub_sameseed_model_0"
          ],
          [
           "fold_e_atp_tub_sameseed_model_0"
          ],
          [
           "fold_e_atp_tub_sameseed_model_0"
          ],
          [
           "fold_e_atp_tub_sameseed_model_0"
          ],
          [
           "fold_e_atp_tub_sameseed_model_0"
          ],
          [
           "fold_e_atp_tub_sameseed_model_0"
          ],
          [
           "fold_k401_atp_tub_333_model_0"
          ],
          [
           "fold_k401_atp_tub_333_model_0"
          ],
          [
           "fold_k401_atp_tub_333_model_0"
          ],
          [
           "fold_k401_atp_tub_333_model_0"
          ],
          [
           "fold_k401_atp_tub_333_model_0"
          ],
          [
           "fold_k401_atp_tub_333_model_0"
          ],
          [
           "fold_k401_atp_tub_333_model_0"
          ],
          [
           "fold_k401_atp_tub_333_model_0"
          ],
          [
           "fold_k401_atp_tub_333_model_0"
          ],
          [
           "fold_k401_atp_tub_333_model_0"
          ],
          [
           "fold_k401_atp_tub_333_model_0"
          ],
          [
           "fold_k401_atp_tub_333_model_0"
          ],
          [
           "fold_k401_atp_tub_333_model_0"
          ],
          [
           "fold_kif3_atp_tub_sameseed_model_0"
          ],
          [
           "fold_kif3_atp_tub_sameseed_model_0"
          ],
          [
           "fold_kif3_atp_tub_sameseed_model_0"
          ],
          [
           "fold_kif3_atp_tub_sameseed_model_0"
          ],
          [
           "fold_kif3_atp_tub_sameseed_model_0"
          ],
          [
           "fold_kif3_atp_tub_sameseed_model_0"
          ],
          [
           "fold_kif3_atp_tub_sameseed_model_0"
          ],
          [
           "fold_kif3_atp_tub_sameseed_model_0"
          ],
          [
           "fold_kif3_atp_tub_sameseed_model_0"
          ],
          [
           "fold_kif3_atp_tub_sameseed_model_0"
          ],
          [
           "fold_kif3_atp_tub_sameseed_model_0"
          ]
         ],
         "hovertemplate": "Interacting Chain=ATP<br>Residue (Number and Identity)=%{x}<br>Distance (angstroms)=%{y}<br>interacting_atom=%{text}<br>file=%{customdata[0]}<extra></extra>",
         "legendgroup": "ATP",
         "marker": {
          "color": "#EF553B",
          "opacity": 0.6,
          "size": 10,
          "symbol": "circle"
         },
         "mode": "markers+text",
         "name": "ATP",
         "orientation": "v",
         "showlegend": true,
         "text": [
          "N1",
          "O1G",
          "O3B",
          "O1B",
          "O1B",
          "O2G",
          "O2B",
          "O2A",
          "O1A",
          "O1G",
          "O3G",
          "O2G",
          "N1",
          "O2G",
          "O3B",
          "O2B",
          "O2B",
          "O1G",
          "O1B",
          "O2A",
          "O2G",
          "O2G",
          "O3G",
          "O1G",
          "N7",
          "N1",
          "O1G",
          "O3B",
          "O2B",
          "O2B",
          "O2G",
          "O1B",
          "O2A",
          "O3B",
          "O1G",
          "O3G",
          "O2G",
          "O2G",
          "O3B",
          "O1B",
          "O1B",
          "O3G",
          "O2B",
          "O1A",
          "O3B",
          "O2G",
          "O1G",
          "O3G"
         ],
         "textposition": "top center",
         "type": "scatter",
         "x": [
          "21P",
          "94T",
          "95S",
          "96S",
          "97G",
          "98K",
          "99T",
          "100H",
          "205N",
          "208S",
          "209S",
          "241G",
          "21P",
          "94T",
          "95S",
          "96S",
          "97G",
          "98K",
          "99T",
          "100H",
          "205N",
          "208S",
          "209S",
          "241G",
          "20R",
          "21P",
          "94T",
          "95S",
          "96S",
          "97G",
          "98K",
          "99T",
          "100H",
          "205N",
          "208S",
          "209S",
          "241G",
          "87T",
          "88G",
          "89S",
          "90G",
          "91K",
          "92T",
          "93F",
          "201N",
          "204S",
          "205S",
          "237G"
         ],
         "xaxis": "x",
         "y": [
          3.2621476650238037,
          2.416980504989624,
          2.682382345199585,
          3.237739324569702,
          2.994562864303589,
          2.8357818126678467,
          2.904185056686402,
          3.078914165496826,
          2.8799920082092285,
          2.9004979133605957,
          2.9360315799713135,
          3.0268752574920654,
          3.4718332290649414,
          2.6103403568267822,
          2.929168224334717,
          3.442664384841919,
          3.0216567516326904,
          2.668522596359253,
          2.7042181491851807,
          2.654240131378174,
          3.1529626846313477,
          3.1283669471740723,
          2.923736810684204,
          2.9034101963043213,
          3.418571949005127,
          3.139655828475952,
          2.458994626998902,
          2.6812875270843506,
          3.1592752933502197,
          2.91800856590271,
          2.7940337657928467,
          2.929311990737915,
          3.008495092391968,
          2.9855401515960693,
          3.0660386085510254,
          3.0193512439727783,
          3.044731855392456,
          2.3951690196990967,
          2.653770685195923,
          3.328293561935425,
          2.9975342750549316,
          2.720611333847046,
          2.776721954345703,
          2.79142427444458,
          3.0432610511779785,
          2.942643642425537,
          2.8962395191192627,
          2.8888328075408936
         ],
         "yaxis": "y"
        },
        {
         "customdata": [
          [
           "fold_c_atp_tub_sameseed_model_0"
          ],
          [
           "fold_c_atp_tub_sameseed_model_0"
          ],
          [
           "fold_c_atp_tub_sameseed_model_0"
          ],
          [
           "fold_c_atp_tub_sameseed_model_0"
          ],
          [
           "fold_c_atp_tub_sameseed_model_0"
          ],
          [
           "fold_c_atp_tub_sameseed_model_0"
          ],
          [
           "fold_c_atp_tub_sameseed_model_0"
          ],
          [
           "fold_c_atp_tub_sameseed_model_0"
          ],
          [
           "fold_c_atp_tub_sameseed_model_0"
          ],
          [
           "fold_c_atp_tub_sameseed_model_0"
          ],
          [
           "fold_c_atp_tub_sameseed_model_0"
          ],
          [
           "fold_e_atp_tub_sameseed_model_0"
          ],
          [
           "fold_e_atp_tub_sameseed_model_0"
          ],
          [
           "fold_e_atp_tub_sameseed_model_0"
          ],
          [
           "fold_e_atp_tub_sameseed_model_0"
          ],
          [
           "fold_e_atp_tub_sameseed_model_0"
          ],
          [
           "fold_e_atp_tub_sameseed_model_0"
          ],
          [
           "fold_e_atp_tub_sameseed_model_0"
          ],
          [
           "fold_e_atp_tub_sameseed_model_0"
          ],
          [
           "fold_e_atp_tub_sameseed_model_0"
          ],
          [
           "fold_e_atp_tub_sameseed_model_0"
          ],
          [
           "fold_e_atp_tub_sameseed_model_0"
          ],
          [
           "fold_e_atp_tub_sameseed_model_0"
          ],
          [
           "fold_e_atp_tub_sameseed_model_0"
          ],
          [
           "fold_e_atp_tub_sameseed_model_0"
          ],
          [
           "fold_e_atp_tub_sameseed_model_0"
          ],
          [
           "fold_e_atp_tub_sameseed_model_0"
          ],
          [
           "fold_e_atp_tub_sameseed_model_0"
          ],
          [
           "fold_k401_atp_tub_333_model_0"
          ],
          [
           "fold_k401_atp_tub_333_model_0"
          ],
          [
           "fold_k401_atp_tub_333_model_0"
          ],
          [
           "fold_k401_atp_tub_333_model_0"
          ],
          [
           "fold_k401_atp_tub_333_model_0"
          ],
          [
           "fold_k401_atp_tub_333_model_0"
          ],
          [
           "fold_k401_atp_tub_333_model_0"
          ],
          [
           "fold_k401_atp_tub_333_model_0"
          ],
          [
           "fold_k401_atp_tub_333_model_0"
          ],
          [
           "fold_k401_atp_tub_333_model_0"
          ],
          [
           "fold_k401_atp_tub_333_model_0"
          ],
          [
           "fold_k401_atp_tub_333_model_0"
          ],
          [
           "fold_kif3_atp_tub_sameseed_model_0"
          ],
          [
           "fold_kif3_atp_tub_sameseed_model_0"
          ],
          [
           "fold_kif3_atp_tub_sameseed_model_0"
          ],
          [
           "fold_kif3_atp_tub_sameseed_model_0"
          ],
          [
           "fold_kif3_atp_tub_sameseed_model_0"
          ],
          [
           "fold_kif3_atp_tub_sameseed_model_0"
          ],
          [
           "fold_kif3_atp_tub_sameseed_model_0"
          ],
          [
           "fold_kif3_atp_tub_sameseed_model_0"
          ],
          [
           "fold_kif3_atp_tub_sameseed_model_0"
          ],
          [
           "fold_kif3_atp_tub_sameseed_model_0"
          ],
          [
           "fold_kif3_atp_tub_sameseed_model_0"
          ]
         ],
         "hovertemplate": "Interacting Chain=beta-tubulin<br>Residue (Number and Identity)=%{x}<br>Distance (angstroms)=%{y}<br>interacting_atom=%{text}<br>file=%{customdata[0]}<extra></extra>",
         "legendgroup": "beta-tubulin",
         "marker": {
          "color": "#00cc96",
          "opacity": 0.6,
          "size": 10,
          "symbol": "circle"
         },
         "mode": "markers+text",
         "name": "beta-tubulin",
         "orientation": "v",
         "showlegend": true,
         "text": [
          "OE1",
          "OE1",
          "OE1",
          "OE1",
          "OE1",
          "CE",
          "CE",
          "OE1",
          "OE1",
          "OD2",
          "CD",
          "OE2",
          "OE1",
          "OE1",
          "OE1",
          "OE2",
          "OG",
          "CE",
          "OE2",
          "OE1",
          "OE1",
          "OD2",
          "CD",
          "OE2",
          "NH2",
          "NH1",
          "CG",
          "CG2",
          "CG",
          "OE1",
          "OE1",
          "OE2",
          "CE",
          "CE",
          "CE",
          "OE2",
          "OE2",
          "OE1",
          "OD2",
          "CD",
          "OE1",
          "OE1",
          "CG",
          "CA",
          "OE1",
          "OE1",
          "OE1",
          "CD",
          "OE2",
          "OD1",
          "OE1"
         ],
         "textposition": "top center",
         "type": "scatter",
         "x": [
          "148K",
          "159N",
          "162V",
          "163H",
          "164E",
          "165D",
          "166K",
          "281T",
          "282H",
          "286R",
          "287D",
          "51K",
          "148K",
          "159N",
          "162V",
          "163H",
          "164E",
          "166K",
          "168R",
          "280K",
          "282H",
          "286R",
          "287D",
          "328R",
          "497E",
          "501L",
          "504M",
          "507S",
          "148K",
          "159N",
          "162V",
          "163H",
          "164E",
          "165D",
          "166K",
          "168R",
          "280K",
          "282H",
          "286R",
          "287D",
          "144R",
          "157K",
          "159R",
          "275K",
          "277T",
          "278H",
          "282R",
          "283D",
          "288R",
          "506N",
          "510L"
         ],
         "xaxis": "x",
         "y": [
          3.0657339096069336,
          2.9120919704437256,
          3.395930767059326,
          2.6466054916381836,
          2.789459466934204,
          3.254361391067505,
          3.4526751041412354,
          3.1589653491973877,
          2.674469470977783,
          2.60509991645813,
          3.14884352684021,
          2.864004611968994,
          2.997708797454834,
          3.430928945541382,
          2.884871006011963,
          2.7240567207336426,
          3.162452936172486,
          3.236333131790161,
          3.1506872177124023,
          3.4362218379974365,
          2.772930860519409,
          2.480675220489502,
          3.225222587585449,
          3.207775354385376,
          2.171924829483032,
          2.1818957328796387,
          2.923564910888672,
          3.004821538925171,
          3.0600171089172363,
          2.7908055782318115,
          3.1651947498321533,
          2.7265865802764893,
          2.836862087249756,
          3.115731954574585,
          3.2854411602020264,
          3.485177993774414,
          3.123756170272827,
          2.674067497253418,
          2.587143898010254,
          3.177390813827514,
          2.1485397815704346,
          3.0689473152160645,
          3.170588970184326,
          3.4927423000335693,
          3.3671715259552,
          2.8799216747283936,
          2.4372434616088867,
          3.0908734798431396,
          2.991099119186402,
          3.1715095043182373,
          2.7988765239715576
         ],
         "yaxis": "y"
        },
        {
         "customdata": [
          [
           "fold_c_atp_tub_sameseed_model_0"
          ],
          [
           "fold_c_atp_tub_sameseed_model_0"
          ],
          [
           "fold_c_atp_tub_sameseed_model_0"
          ],
          [
           "fold_c_atp_tub_sameseed_model_0"
          ],
          [
           "fold_c_atp_tub_sameseed_model_0"
          ],
          [
           "fold_c_atp_tub_sameseed_model_0"
          ],
          [
           "fold_c_atp_tub_sameseed_model_0"
          ],
          [
           "fold_c_atp_tub_sameseed_model_0"
          ],
          [
           "fold_c_atp_tub_sameseed_model_0"
          ],
          [
           "fold_c_atp_tub_sameseed_model_0"
          ],
          [
           "fold_c_atp_tub_sameseed_model_0"
          ],
          [
           "fold_e_atp_tub_sameseed_model_0"
          ],
          [
           "fold_e_atp_tub_sameseed_model_0"
          ],
          [
           "fold_e_atp_tub_sameseed_model_0"
          ],
          [
           "fold_e_atp_tub_sameseed_model_0"
          ],
          [
           "fold_e_atp_tub_sameseed_model_0"
          ],
          [
           "fold_e_atp_tub_sameseed_model_0"
          ],
          [
           "fold_e_atp_tub_sameseed_model_0"
          ],
          [
           "fold_k401_atp_tub_333_model_0"
          ],
          [
           "fold_k401_atp_tub_333_model_0"
          ],
          [
           "fold_k401_atp_tub_333_model_0"
          ],
          [
           "fold_k401_atp_tub_333_model_0"
          ],
          [
           "fold_k401_atp_tub_333_model_0"
          ],
          [
           "fold_k401_atp_tub_333_model_0"
          ],
          [
           "fold_k401_atp_tub_333_model_0"
          ],
          [
           "fold_k401_atp_tub_333_model_0"
          ],
          [
           "fold_k401_atp_tub_333_model_0"
          ],
          [
           "fold_k401_atp_tub_333_model_0"
          ],
          [
           "fold_kif3_atp_tub_sameseed_model_0"
          ],
          [
           "fold_kif3_atp_tub_sameseed_model_0"
          ],
          [
           "fold_kif3_atp_tub_sameseed_model_0"
          ],
          [
           "fold_kif3_atp_tub_sameseed_model_0"
          ],
          [
           "fold_kif3_atp_tub_sameseed_model_0"
          ],
          [
           "fold_kif3_atp_tub_sameseed_model_0"
          ],
          [
           "fold_kif3_atp_tub_sameseed_model_0"
          ]
         ],
         "hovertemplate": "Interacting Chain=alpha-tubulin<br>Residue (Number and Identity)=%{x}<br>Distance (angstroms)=%{y}<br>interacting_atom=%{text}<br>file=%{customdata[0]}<extra></extra>",
         "legendgroup": "alpha-tubulin",
         "marker": {
          "color": "#ab63fa",
          "opacity": 0.6,
          "size": 10,
          "symbol": "circle"
         },
         "mode": "markers+text",
         "name": "alpha-tubulin",
         "orientation": "v",
         "showlegend": true,
         "text": [
          "OE1",
          "OE2",
          "O",
          "NZ",
          "O",
          "CG1",
          "CG1",
          "OE2",
          "CG",
          "OE1",
          "OE1",
          "OE1",
          "OE2",
          "O",
          "O",
          "CG1",
          "CG1",
          "OE2",
          "OE1",
          "OE2",
          "O",
          "NZ",
          "NZ",
          "O",
          "CG1",
          "CG1",
          "OE2",
          "CG",
          "OE1",
          "OE2",
          "O",
          "O",
          "CG1",
          "OE2",
          "OE1"
         ],
         "textposition": "top center",
         "type": "scatter",
         "x": [
          "242S",
          "244K",
          "245I",
          "250A",
          "259K",
          "262N",
          "263K",
          "266S",
          "270N",
          "318A",
          "325R",
          "242S",
          "244K",
          "245V",
          "259K",
          "262N",
          "263K",
          "266S",
          "242S",
          "244K",
          "245V",
          "250A",
          "251E",
          "259K",
          "262N",
          "263K",
          "266S",
          "270N",
          "238S",
          "240K",
          "241I",
          "255K",
          "259K",
          "262S",
          "321R"
         ],
         "xaxis": "x",
         "y": [
          3.129481077194214,
          2.4892752170562744,
          3.0543200969696045,
          3.4593770503997803,
          3.2213997840881348,
          3.3567919731140137,
          3.3137078285217285,
          2.5477519035339355,
          3.422191381454468,
          3.303436517715454,
          2.7997021675109863,
          3.102640390396118,
          2.4743664264678955,
          3.026991605758667,
          3.219074964523315,
          3.488760471343994,
          3.4170289039611816,
          2.4372947216033936,
          3.076216220855713,
          2.450095891952514,
          3.0533392429351807,
          3.3081231117248535,
          2.919468641281128,
          3.2389283180236816,
          3.32651686668396,
          3.2846343517303467,
          2.526207208633423,
          3.4471793174743652,
          2.5043296813964844,
          2.5487751960754395,
          2.8210439682006836,
          3.3551788330078125,
          3.465726375579834,
          2.4718587398529053,
          2.7869367599487305
         ],
         "yaxis": "y"
        }
       ],
       "layout": {
        "legend": {
         "title": {
          "text": "Interacting Chain"
         },
         "tracegroupgap": 0
        },
        "template": {
         "data": {
          "bar": [
           {
            "error_x": {
             "color": "#2a3f5f"
            },
            "error_y": {
             "color": "#2a3f5f"
            },
            "marker": {
             "line": {
              "color": "#E5ECF6",
              "width": 0.5
             },
             "pattern": {
              "fillmode": "overlay",
              "size": 10,
              "solidity": 0.2
             }
            },
            "type": "bar"
           }
          ],
          "barpolar": [
           {
            "marker": {
             "line": {
              "color": "#E5ECF6",
              "width": 0.5
             },
             "pattern": {
              "fillmode": "overlay",
              "size": 10,
              "solidity": 0.2
             }
            },
            "type": "barpolar"
           }
          ],
          "carpet": [
           {
            "aaxis": {
             "endlinecolor": "#2a3f5f",
             "gridcolor": "white",
             "linecolor": "white",
             "minorgridcolor": "white",
             "startlinecolor": "#2a3f5f"
            },
            "baxis": {
             "endlinecolor": "#2a3f5f",
             "gridcolor": "white",
             "linecolor": "white",
             "minorgridcolor": "white",
             "startlinecolor": "#2a3f5f"
            },
            "type": "carpet"
           }
          ],
          "choropleth": [
           {
            "colorbar": {
             "outlinewidth": 0,
             "ticks": ""
            },
            "type": "choropleth"
           }
          ],
          "contour": [
           {
            "colorbar": {
             "outlinewidth": 0,
             "ticks": ""
            },
            "colorscale": [
             [
              0,
              "#0d0887"
             ],
             [
              0.1111111111111111,
              "#46039f"
             ],
             [
              0.2222222222222222,
              "#7201a8"
             ],
             [
              0.3333333333333333,
              "#9c179e"
             ],
             [
              0.4444444444444444,
              "#bd3786"
             ],
             [
              0.5555555555555556,
              "#d8576b"
             ],
             [
              0.6666666666666666,
              "#ed7953"
             ],
             [
              0.7777777777777778,
              "#fb9f3a"
             ],
             [
              0.8888888888888888,
              "#fdca26"
             ],
             [
              1,
              "#f0f921"
             ]
            ],
            "type": "contour"
           }
          ],
          "contourcarpet": [
           {
            "colorbar": {
             "outlinewidth": 0,
             "ticks": ""
            },
            "type": "contourcarpet"
           }
          ],
          "heatmap": [
           {
            "colorbar": {
             "outlinewidth": 0,
             "ticks": ""
            },
            "colorscale": [
             [
              0,
              "#0d0887"
             ],
             [
              0.1111111111111111,
              "#46039f"
             ],
             [
              0.2222222222222222,
              "#7201a8"
             ],
             [
              0.3333333333333333,
              "#9c179e"
             ],
             [
              0.4444444444444444,
              "#bd3786"
             ],
             [
              0.5555555555555556,
              "#d8576b"
             ],
             [
              0.6666666666666666,
              "#ed7953"
             ],
             [
              0.7777777777777778,
              "#fb9f3a"
             ],
             [
              0.8888888888888888,
              "#fdca26"
             ],
             [
              1,
              "#f0f921"
             ]
            ],
            "type": "heatmap"
           }
          ],
          "heatmapgl": [
           {
            "colorbar": {
             "outlinewidth": 0,
             "ticks": ""
            },
            "colorscale": [
             [
              0,
              "#0d0887"
             ],
             [
              0.1111111111111111,
              "#46039f"
             ],
             [
              0.2222222222222222,
              "#7201a8"
             ],
             [
              0.3333333333333333,
              "#9c179e"
             ],
             [
              0.4444444444444444,
              "#bd3786"
             ],
             [
              0.5555555555555556,
              "#d8576b"
             ],
             [
              0.6666666666666666,
              "#ed7953"
             ],
             [
              0.7777777777777778,
              "#fb9f3a"
             ],
             [
              0.8888888888888888,
              "#fdca26"
             ],
             [
              1,
              "#f0f921"
             ]
            ],
            "type": "heatmapgl"
           }
          ],
          "histogram": [
           {
            "marker": {
             "pattern": {
              "fillmode": "overlay",
              "size": 10,
              "solidity": 0.2
             }
            },
            "type": "histogram"
           }
          ],
          "histogram2d": [
           {
            "colorbar": {
             "outlinewidth": 0,
             "ticks": ""
            },
            "colorscale": [
             [
              0,
              "#0d0887"
             ],
             [
              0.1111111111111111,
              "#46039f"
             ],
             [
              0.2222222222222222,
              "#7201a8"
             ],
             [
              0.3333333333333333,
              "#9c179e"
             ],
             [
              0.4444444444444444,
              "#bd3786"
             ],
             [
              0.5555555555555556,
              "#d8576b"
             ],
             [
              0.6666666666666666,
              "#ed7953"
             ],
             [
              0.7777777777777778,
              "#fb9f3a"
             ],
             [
              0.8888888888888888,
              "#fdca26"
             ],
             [
              1,
              "#f0f921"
             ]
            ],
            "type": "histogram2d"
           }
          ],
          "histogram2dcontour": [
           {
            "colorbar": {
             "outlinewidth": 0,
             "ticks": ""
            },
            "colorscale": [
             [
              0,
              "#0d0887"
             ],
             [
              0.1111111111111111,
              "#46039f"
             ],
             [
              0.2222222222222222,
              "#7201a8"
             ],
             [
              0.3333333333333333,
              "#9c179e"
             ],
             [
              0.4444444444444444,
              "#bd3786"
             ],
             [
              0.5555555555555556,
              "#d8576b"
             ],
             [
              0.6666666666666666,
              "#ed7953"
             ],
             [
              0.7777777777777778,
              "#fb9f3a"
             ],
             [
              0.8888888888888888,
              "#fdca26"
             ],
             [
              1,
              "#f0f921"
             ]
            ],
            "type": "histogram2dcontour"
           }
          ],
          "mesh3d": [
           {
            "colorbar": {
             "outlinewidth": 0,
             "ticks": ""
            },
            "type": "mesh3d"
           }
          ],
          "parcoords": [
           {
            "line": {
             "colorbar": {
              "outlinewidth": 0,
              "ticks": ""
             }
            },
            "type": "parcoords"
           }
          ],
          "pie": [
           {
            "automargin": true,
            "type": "pie"
           }
          ],
          "scatter": [
           {
            "fillpattern": {
             "fillmode": "overlay",
             "size": 10,
             "solidity": 0.2
            },
            "type": "scatter"
           }
          ],
          "scatter3d": [
           {
            "line": {
             "colorbar": {
              "outlinewidth": 0,
              "ticks": ""
             }
            },
            "marker": {
             "colorbar": {
              "outlinewidth": 0,
              "ticks": ""
             }
            },
            "type": "scatter3d"
           }
          ],
          "scattercarpet": [
           {
            "marker": {
             "colorbar": {
              "outlinewidth": 0,
              "ticks": ""
             }
            },
            "type": "scattercarpet"
           }
          ],
          "scattergeo": [
           {
            "marker": {
             "colorbar": {
              "outlinewidth": 0,
              "ticks": ""
             }
            },
            "type": "scattergeo"
           }
          ],
          "scattergl": [
           {
            "marker": {
             "colorbar": {
              "outlinewidth": 0,
              "ticks": ""
             }
            },
            "type": "scattergl"
           }
          ],
          "scattermapbox": [
           {
            "marker": {
             "colorbar": {
              "outlinewidth": 0,
              "ticks": ""
             }
            },
            "type": "scattermapbox"
           }
          ],
          "scatterpolar": [
           {
            "marker": {
             "colorbar": {
              "outlinewidth": 0,
              "ticks": ""
             }
            },
            "type": "scatterpolar"
           }
          ],
          "scatterpolargl": [
           {
            "marker": {
             "colorbar": {
              "outlinewidth": 0,
              "ticks": ""
             }
            },
            "type": "scatterpolargl"
           }
          ],
          "scatterternary": [
           {
            "marker": {
             "colorbar": {
              "outlinewidth": 0,
              "ticks": ""
             }
            },
            "type": "scatterternary"
           }
          ],
          "surface": [
           {
            "colorbar": {
             "outlinewidth": 0,
             "ticks": ""
            },
            "colorscale": [
             [
              0,
              "#0d0887"
             ],
             [
              0.1111111111111111,
              "#46039f"
             ],
             [
              0.2222222222222222,
              "#7201a8"
             ],
             [
              0.3333333333333333,
              "#9c179e"
             ],
             [
              0.4444444444444444,
              "#bd3786"
             ],
             [
              0.5555555555555556,
              "#d8576b"
             ],
             [
              0.6666666666666666,
              "#ed7953"
             ],
             [
              0.7777777777777778,
              "#fb9f3a"
             ],
             [
              0.8888888888888888,
              "#fdca26"
             ],
             [
              1,
              "#f0f921"
             ]
            ],
            "type": "surface"
           }
          ],
          "table": [
           {
            "cells": {
             "fill": {
              "color": "#EBF0F8"
             },
             "line": {
              "color": "white"
             }
            },
            "header": {
             "fill": {
              "color": "#C8D4E3"
             },
             "line": {
              "color": "white"
             }
            },
            "type": "table"
           }
          ]
         },
         "layout": {
          "annotationdefaults": {
           "arrowcolor": "#2a3f5f",
           "arrowhead": 0,
           "arrowwidth": 1
          },
          "autotypenumbers": "strict",
          "coloraxis": {
           "colorbar": {
            "outlinewidth": 0,
            "ticks": ""
           }
          },
          "colorscale": {
           "diverging": [
            [
             0,
             "#8e0152"
            ],
            [
             0.1,
             "#c51b7d"
            ],
            [
             0.2,
             "#de77ae"
            ],
            [
             0.3,
             "#f1b6da"
            ],
            [
             0.4,
             "#fde0ef"
            ],
            [
             0.5,
             "#f7f7f7"
            ],
            [
             0.6,
             "#e6f5d0"
            ],
            [
             0.7,
             "#b8e186"
            ],
            [
             0.8,
             "#7fbc41"
            ],
            [
             0.9,
             "#4d9221"
            ],
            [
             1,
             "#276419"
            ]
           ],
           "sequential": [
            [
             0,
             "#0d0887"
            ],
            [
             0.1111111111111111,
             "#46039f"
            ],
            [
             0.2222222222222222,
             "#7201a8"
            ],
            [
             0.3333333333333333,
             "#9c179e"
            ],
            [
             0.4444444444444444,
             "#bd3786"
            ],
            [
             0.5555555555555556,
             "#d8576b"
            ],
            [
             0.6666666666666666,
             "#ed7953"
            ],
            [
             0.7777777777777778,
             "#fb9f3a"
            ],
            [
             0.8888888888888888,
             "#fdca26"
            ],
            [
             1,
             "#f0f921"
            ]
           ],
           "sequentialminus": [
            [
             0,
             "#0d0887"
            ],
            [
             0.1111111111111111,
             "#46039f"
            ],
            [
             0.2222222222222222,
             "#7201a8"
            ],
            [
             0.3333333333333333,
             "#9c179e"
            ],
            [
             0.4444444444444444,
             "#bd3786"
            ],
            [
             0.5555555555555556,
             "#d8576b"
            ],
            [
             0.6666666666666666,
             "#ed7953"
            ],
            [
             0.7777777777777778,
             "#fb9f3a"
            ],
            [
             0.8888888888888888,
             "#fdca26"
            ],
            [
             1,
             "#f0f921"
            ]
           ]
          },
          "colorway": [
           "#636efa",
           "#EF553B",
           "#00cc96",
           "#ab63fa",
           "#FFA15A",
           "#19d3f3",
           "#FF6692",
           "#B6E880",
           "#FF97FF",
           "#FECB52"
          ],
          "font": {
           "color": "#2a3f5f"
          },
          "geo": {
           "bgcolor": "white",
           "lakecolor": "white",
           "landcolor": "#E5ECF6",
           "showlakes": true,
           "showland": true,
           "subunitcolor": "white"
          },
          "hoverlabel": {
           "align": "left"
          },
          "hovermode": "closest",
          "mapbox": {
           "style": "light"
          },
          "paper_bgcolor": "white",
          "plot_bgcolor": "#E5ECF6",
          "polar": {
           "angularaxis": {
            "gridcolor": "white",
            "linecolor": "white",
            "ticks": ""
           },
           "bgcolor": "#E5ECF6",
           "radialaxis": {
            "gridcolor": "white",
            "linecolor": "white",
            "ticks": ""
           }
          },
          "scene": {
           "xaxis": {
            "backgroundcolor": "#E5ECF6",
            "gridcolor": "white",
            "gridwidth": 2,
            "linecolor": "white",
            "showbackground": true,
            "ticks": "",
            "zerolinecolor": "white"
           },
           "yaxis": {
            "backgroundcolor": "#E5ECF6",
            "gridcolor": "white",
            "gridwidth": 2,
            "linecolor": "white",
            "showbackground": true,
            "ticks": "",
            "zerolinecolor": "white"
           },
           "zaxis": {
            "backgroundcolor": "#E5ECF6",
            "gridcolor": "white",
            "gridwidth": 2,
            "linecolor": "white",
            "showbackground": true,
            "ticks": "",
            "zerolinecolor": "white"
           }
          },
          "shapedefaults": {
           "line": {
            "color": "#2a3f5f"
           }
          },
          "ternary": {
           "aaxis": {
            "gridcolor": "white",
            "linecolor": "white",
            "ticks": ""
           },
           "baxis": {
            "gridcolor": "white",
            "linecolor": "white",
            "ticks": ""
           },
           "bgcolor": "#E5ECF6",
           "caxis": {
            "gridcolor": "white",
            "linecolor": "white",
            "ticks": ""
           }
          },
          "title": {
           "x": 0.05
          },
          "xaxis": {
           "automargin": true,
           "gridcolor": "white",
           "linecolor": "white",
           "ticks": "",
           "title": {
            "standoff": 15
           },
           "zerolinecolor": "white",
           "zerolinewidth": 2
          },
          "yaxis": {
           "automargin": true,
           "gridcolor": "white",
           "linecolor": "white",
           "ticks": "",
           "title": {
            "standoff": 15
           },
           "zerolinecolor": "white",
           "zerolinewidth": 2
          }
         }
        },
        "title": {
         "text": "Interaction Distances by Residue and Interacting Chain"
        },
        "xaxis": {
         "anchor": "y",
         "categoryarray": [
          "1M",
          "2S",
          "3A",
          "4E",
          "7I",
          "20R",
          "21P",
          "51K",
          "87T",
          "88G",
          "89S",
          "90G",
          "91K",
          "92T",
          "93F",
          "94T",
          "95S",
          "96S",
          "97G",
          "98K",
          "99T",
          "100H",
          "144R",
          "148K",
          "157K",
          "159N",
          "159R",
          "162V",
          "163H",
          "164E",
          "165D",
          "166K",
          "168R",
          "201N",
          "204S",
          "205N",
          "205S",
          "208S",
          "209S",
          "237G",
          "238S",
          "240K",
          "241G",
          "241I",
          "242S",
          "244K",
          "245I",
          "245V",
          "250A",
          "251E",
          "255K",
          "259K",
          "262N",
          "262S",
          "263K",
          "266S",
          "270N",
          "275K",
          "277T",
          "278H",
          "280K",
          "281T",
          "282H",
          "282R",
          "283D",
          "286R",
          "287D",
          "288R",
          "318A",
          "321R",
          "325R",
          "328R",
          "341A",
          "344L",
          "345A",
          "346E",
          "348W",
          "348L",
          "349K",
          "352Y",
          "354E",
          "355E",
          "355I",
          "358E",
          "358L",
          "359N",
          "359K",
          "361Y",
          "362L",
          "362I",
          "363K",
          "365K",
          "365Y",
          "365L",
          "366I",
          "366E",
          "368V",
          "369L",
          "370E",
          "371V",
          "372E",
          "372V",
          "373L",
          "373S",
          "373V",
          "375V",
          "376L",
          "377R",
          "377V",
          "380L",
          "387Q",
          "388I",
          "390M",
          "444T",
          "445S",
          "448T",
          "448D",
          "449T",
          "452I",
          "456I",
          "458K",
          "459C",
          "462K",
          "463C",
          "463E",
          "465Q",
          "466L",
          "467E",
          "469Q",
          "469K",
          "470L",
          "470E",
          "472E",
          "473K",
          "474E",
          "476E",
          "476I",
          "477K",
          "480I",
          "480L",
          "483Q",
          "484L",
          "487Q",
          "487I",
          "488Q",
          "490K",
          "491I",
          "491D",
          "494K",
          "495D",
          "497E",
          "497L",
          "498I",
          "498N",
          "501L",
          "501I",
          "502N",
          "504M",
          "504S",
          "505I",
          "506N",
          "507S",
          "508S",
          "508N",
          "510L",
          "511I",
          "511Y",
          "512N",
          "514L",
          "514S",
          "515Y",
          "517E",
          "518S",
          "518N",
          "521L",
          "522N",
          "524Q",
          "525L",
          "526N",
          "529L",
          "532L",
          "535A",
          "535S",
          "536L",
          "539S",
          "539A",
          "540R",
          "542Q",
          "543A",
          "546Q",
          "546I",
          "549L",
          "550I",
          "550N",
          "552E",
          "553L",
          "553N",
          "554N",
          "556E",
          "556I",
          "557N",
          "557K",
          "560I",
          "560L",
          "561K",
          "563L",
          "564L",
          "566R",
          "567L",
          "567I",
          "570R",
          "571I",
          "574S",
          "575I",
          "578L",
          "579I",
          "582L"
         ],
         "categoryorder": "array",
         "domain": [
          0,
          1
         ],
         "title": {
          "text": "Residue (Number and Identity)"
         }
        },
        "yaxis": {
         "anchor": "x",
         "domain": [
          0,
          1
         ],
         "title": {
          "text": "Distance (angstroms)"
         }
        }
       }
      }
     },
     "metadata": {},
     "output_type": "display_data"
    }
   ],
   "source": [
    "import pandas as pd\n",
    "import plotly.express as px\n",
    "\n",
    "# Define the path to the uploaded CSV file\n",
    "csv_file_path = '/Users/jazzeruncal/git/Jazzer_surf/3d_predictions/same_seed/interactions_all_files.csv'\n",
    "\n",
    "# Read the CSV file into a DataFrame\n",
    "df = pd.read_csv(csv_file_path)\n",
    "\n",
    "# Filter to get the shortest distances for each interaction\n",
    "df = df.loc[df[df['chain'] == 'A'].groupby(['file', 'resi', 'interacting_chain'])['distance (angstroms)'].idxmin()]\n",
    "\n",
    "# Exclude interactions with Mg and chain letters A, G, H\n",
    "df = df[(df['interacting_resn'] != 'MG') & (~df['interacting_chain'].isin(['A', 'G', 'H']))].reset_index(drop=True)\n",
    "\n",
    "# Map interacting_resn to single-letter codes for better readability\n",
    "aa_dict = {\n",
    "    'ALA': 'A', 'ARG': 'R', 'ASN': 'N', 'ASP': 'D', 'CYS': 'C', 'GLN': 'Q', 'GLU': 'E', 'GLY': 'G',\n",
    "    'HIS': 'H', 'ILE': 'I', 'LEU': 'L', 'LYS': 'K', 'MET': 'M', 'PHE': 'F', 'PRO': 'P', 'SER': 'S',\n",
    "    'THR': 'T', 'TRP': 'W', 'TYR': 'Y', 'VAL': 'V'\n",
    "}\n",
    "df['residue_one_letter'] = df['resn'].map(aa_dict)\n",
    "df['residue'] = df['resi'].astype(str) + df['residue_one_letter']\n",
    "\n",
    "# Replace chain letters with descriptive names\n",
    "chain_map = {\n",
    "    'B': 'kinesin B',\n",
    "    'C': 'alpha-tubulin',\n",
    "    'D': 'beta-tubulin',\n",
    "    'E': 'ATP',\n",
    "    'F': 'ATP'\n",
    "}\n",
    "df['interacting_chain'] = df['interacting_chain'].map(chain_map)\n",
    "\n",
    "# Group by file and interacting chain, keeping residues in order\n",
    "grouped = df.groupby(['file', 'interacting_chain'])\n",
    "\n",
    "# Create a list to store the output rows\n",
    "output_rows = []\n",
    "\n",
    "# Iterate over each group and extract information\n",
    "for (file, chain), group in grouped:\n",
    "    for _, row in group.iterrows():\n",
    "        output_rows.append({\n",
    "            'file': file,\n",
    "            'interacting_chain': chain,\n",
    "            'interacting_atom': row['interacting_atom'],\n",
    "            'residue_number': row['resi'],\n",
    "            'amino_acid': row['residue_one_letter'],\n",
    "            'distance (angstroms)': row['distance (angstroms)'],\n",
    "        })\n",
    "\n",
    "# Convert the list to a DataFrame\n",
    "interaction_df = pd.DataFrame(output_rows)\n",
    "\n",
    "# Save the resulting DataFrame to a CSV file\n",
    "interaction_df.to_csv(\"interaction_summary_all_files.csv\", index=False)\n",
    "\n",
    "# Load the summarized interaction data\n",
    "csv_file_path = \"interaction_summary_all_files.csv\"\n",
    "interaction_df = pd.read_csv(csv_file_path)\n",
    "\n",
    "# Create a new column for the x-axis labels by concatenating residue number and amino acid\n",
    "interaction_df['residue_label'] = interaction_df['residue_number'].astype(str) + interaction_df['amino_acid']\n",
    "\n",
    "# Sort the dataframe by file and residue number to maintain order\n",
    "interaction_df = interaction_df.sort_values(by=['file', 'residue_number'])\n",
    "\n",
    "# Convert residue_label to a categorical type with the correct order\n",
    "interaction_df['residue_label'] = pd.Categorical(interaction_df['residue_label'], \n",
    "                                                 categories=sorted(interaction_df['residue_label'].unique(), key=lambda x: int(''.join(filter(str.isdigit, x)))), \n",
    "                                                 ordered=True)\n",
    "\n",
    "# Scatter plot for interaction distances with custom x-axis labels\n",
    "fig_scatter = px.scatter(interaction_df, x='residue_label', y='distance (angstroms)', color='interacting_chain', text='interacting_atom',\n",
    "                         title='Interaction Distances by Residue and Interacting Chain',\n",
    "                         labels={'residue_label': 'Residue (Number and Identity)', 'distance (angstroms)': 'Distance (angstroms)', 'interacting_chain': 'Interacting Chain'},\n",
    "                         hover_data=['file'])\n",
    "\n",
    "fig_scatter.update_traces(textposition='top center', marker=dict(size=10, opacity=0.6))\n",
    "fig_scatter.update_layout(xaxis={'categoryorder':'array', 'categoryarray': interaction_df['residue_label'].cat.categories})\n",
    "\n",
    "# Show the plot\n",
    "fig_scatter.show()\n"
   ]
  },
  {
   "cell_type": "markdown",
   "metadata": {},
   "source": [
    "All motors together from the seed \"2\""
   ]
  },
  {
   "cell_type": "code",
   "execution_count": 47,
   "metadata": {},
   "outputs": [
    {
     "data": {
      "application/vnd.plotly.v1+json": {
       "config": {
        "plotlyServerURL": "https://plot.ly"
       },
       "data": [
        {
         "customdata": [
          [
           "fold_c_atp_tub_seed2_model_0"
          ],
          [
           "fold_c_atp_tub_seed2_model_0"
          ],
          [
           "fold_c_atp_tub_seed2_model_0"
          ],
          [
           "fold_c_atp_tub_seed2_model_0"
          ],
          [
           "fold_c_atp_tub_seed2_model_0"
          ],
          [
           "fold_c_atp_tub_seed2_model_0"
          ],
          [
           "fold_c_atp_tub_seed2_model_0"
          ],
          [
           "fold_c_atp_tub_seed2_model_0"
          ],
          [
           "fold_c_atp_tub_seed2_model_0"
          ],
          [
           "fold_c_atp_tub_seed2_model_0"
          ],
          [
           "fold_c_atp_tub_seed2_model_0"
          ],
          [
           "fold_c_atp_tub_seed2_model_0"
          ],
          [
           "fold_c_atp_tub_seed2_model_0"
          ],
          [
           "fold_c_atp_tub_seed2_model_0"
          ],
          [
           "fold_c_atp_tub_seed2_model_0"
          ],
          [
           "fold_c_atp_tub_seed2_model_0"
          ],
          [
           "fold_c_atp_tub_seed2_model_0"
          ],
          [
           "fold_c_atp_tub_seed2_model_0"
          ],
          [
           "fold_c_atp_tub_seed2_model_0"
          ],
          [
           "fold_c_atp_tub_seed2_model_0"
          ],
          [
           "fold_c_atp_tub_seed2_model_0"
          ],
          [
           "fold_e_atp_tub_seed2_model_0"
          ],
          [
           "fold_e_atp_tub_seed2_model_0"
          ],
          [
           "fold_e_atp_tub_seed2_model_0"
          ],
          [
           "fold_e_atp_tub_seed2_model_0"
          ],
          [
           "fold_e_atp_tub_seed2_model_0"
          ],
          [
           "fold_e_atp_tub_seed2_model_0"
          ],
          [
           "fold_e_atp_tub_seed2_model_0"
          ],
          [
           "fold_e_atp_tub_seed2_model_0"
          ],
          [
           "fold_e_atp_tub_seed2_model_0"
          ],
          [
           "fold_e_atp_tub_seed2_model_0"
          ],
          [
           "fold_e_atp_tub_seed2_model_0"
          ],
          [
           "fold_e_atp_tub_seed2_model_0"
          ],
          [
           "fold_e_atp_tub_seed2_model_0"
          ],
          [
           "fold_e_atp_tub_seed2_model_0"
          ],
          [
           "fold_e_atp_tub_seed2_model_0"
          ],
          [
           "fold_e_atp_tub_seed2_model_0"
          ],
          [
           "fold_e_atp_tub_seed2_model_0"
          ],
          [
           "fold_e_atp_tub_seed2_model_0"
          ],
          [
           "fold_e_atp_tub_seed2_model_0"
          ],
          [
           "fold_e_atp_tub_seed2_model_0"
          ],
          [
           "fold_e_atp_tub_seed2_model_0"
          ],
          [
           "fold_e_atp_tub_seed2_model_0"
          ],
          [
           "fold_e_atp_tub_seed2_model_0"
          ],
          [
           "fold_e_atp_tub_seed2_model_0"
          ],
          [
           "fold_e_atp_tub_seed2_model_0"
          ],
          [
           "fold_e_atp_tub_seed2_model_0"
          ],
          [
           "fold_e_atp_tub_seed2_model_0"
          ],
          [
           "fold_e_atp_tub_seed2_model_0"
          ],
          [
           "fold_e_atp_tub_seed2_model_0"
          ],
          [
           "fold_e_atp_tub_seed2_model_0"
          ],
          [
           "fold_e_atp_tub_seed2_model_0"
          ],
          [
           "fold_e_atp_tub_seed2_model_0"
          ],
          [
           "fold_e_atp_tub_seed2_model_0"
          ],
          [
           "fold_e_atp_tub_seed2_model_0"
          ],
          [
           "fold_e_atp_tub_seed2_model_0"
          ],
          [
           "fold_e_atp_tub_seed2_model_0"
          ],
          [
           "fold_e_atp_tub_seed2_model_0"
          ],
          [
           "fold_e_atp_tub_seed2_model_0"
          ],
          [
           "fold_e_atp_tub_seed2_model_0"
          ],
          [
           "fold_e_atp_tub_seed2_model_0"
          ],
          [
           "fold_e_atp_tub_seed2_model_0"
          ],
          [
           "fold_e_atp_tub_seed2_model_0"
          ],
          [
           "fold_e_atp_tub_seed2_model_0"
          ],
          [
           "fold_e_atp_tub_seed2_model_0"
          ],
          [
           "fold_e_atp_tub_seed2_model_0"
          ],
          [
           "fold_e_atp_tub_seed2_model_0"
          ],
          [
           "fold_e_atp_tub_seed2_model_0"
          ],
          [
           "fold_e_atp_tub_seed2_model_0"
          ],
          [
           "fold_e_atp_tub_seed2_model_0"
          ],
          [
           "fold_e_atp_tub_seed2_model_0"
          ],
          [
           "fold_e_atp_tub_seed2_model_0"
          ],
          [
           "fold_e_atp_tub_seed2_model_0"
          ],
          [
           "fold_e_atp_tub_seed2_model_0"
          ],
          [
           "fold_e_atp_tub_seed2_model_0"
          ],
          [
           "fold_e_atp_tub_seed2_model_0"
          ],
          [
           "fold_e_atp_tub_seed2_model_0"
          ],
          [
           "fold_e_atp_tub_seed2_model_0"
          ],
          [
           "fold_e_atp_tub_seed2_model_0"
          ],
          [
           "fold_e_atp_tub_seed2_model_0"
          ],
          [
           "fold_e_atp_tub_seed2_model_0"
          ],
          [
           "fold_e_atp_tub_seed2_model_0"
          ],
          [
           "fold_e_atp_tub_seed2_model_0"
          ],
          [
           "fold_e_atp_tub_seed2_model_0"
          ],
          [
           "fold_e_atp_tub_seed2_model_0"
          ],
          [
           "fold_e_atp_tub_seed2_model_0"
          ],
          [
           "fold_e_atp_tub_seed2_model_0"
          ],
          [
           "fold_e_atp_tub_seed2_model_0"
          ],
          [
           "fold_e_atp_tub_seed2_model_0"
          ],
          [
           "fold_e_atp_tub_seed2_model_0"
          ],
          [
           "fold_e_atp_tub_seed2_model_0"
          ],
          [
           "fold_e_atp_tub_seed2_model_0"
          ],
          [
           "fold_e_atp_tub_seed2_model_0"
          ],
          [
           "fold_e_atp_tub_seed2_model_0"
          ],
          [
           "fold_e_atp_tub_seed2_model_0"
          ],
          [
           "fold_e_atp_tub_seed2_model_0"
          ],
          [
           "fold_k401_atp_tub_seed2_model_0"
          ],
          [
           "fold_k401_atp_tub_seed2_model_0"
          ],
          [
           "fold_k401_atp_tub_seed2_model_0"
          ],
          [
           "fold_k401_atp_tub_seed2_model_0"
          ],
          [
           "fold_k401_atp_tub_seed2_model_0"
          ],
          [
           "fold_k401_atp_tub_seed2_model_0"
          ],
          [
           "fold_k401_atp_tub_seed2_model_0"
          ],
          [
           "fold_k401_atp_tub_seed2_model_0"
          ],
          [
           "fold_k401_atp_tub_seed2_model_0"
          ],
          [
           "fold_k401_atp_tub_seed2_model_0"
          ],
          [
           "fold_k401_atp_tub_seed2_model_0"
          ],
          [
           "fold_k401_atp_tub_seed2_model_0"
          ],
          [
           "fold_k401_atp_tub_seed2_model_0"
          ],
          [
           "fold_k401_atp_tub_seed2_model_0"
          ],
          [
           "fold_k401_atp_tub_seed2_model_0"
          ],
          [
           "fold_k401_atp_tub_seed2_model_0"
          ],
          [
           "fold_k401_atp_tub_seed2_model_0"
          ],
          [
           "fold_k401_atp_tub_seed2_model_0"
          ],
          [
           "fold_kif3_atp_tub_seed2_model_0"
          ],
          [
           "fold_kif3_atp_tub_seed2_model_0"
          ],
          [
           "fold_kif3_atp_tub_seed2_model_0"
          ],
          [
           "fold_kif3_atp_tub_seed2_model_0"
          ],
          [
           "fold_kif3_atp_tub_seed2_model_0"
          ],
          [
           "fold_kif3_atp_tub_seed2_model_0"
          ],
          [
           "fold_kif3_atp_tub_seed2_model_0"
          ],
          [
           "fold_kif3_atp_tub_seed2_model_0"
          ],
          [
           "fold_kif3_atp_tub_seed2_model_0"
          ],
          [
           "fold_kif3_atp_tub_seed2_model_0"
          ],
          [
           "fold_kif3_atp_tub_seed2_model_0"
          ],
          [
           "fold_kif3_atp_tub_seed2_model_0"
          ],
          [
           "fold_kif3_atp_tub_seed2_model_0"
          ],
          [
           "fold_kif3_atp_tub_seed2_model_0"
          ],
          [
           "fold_kif3_atp_tub_seed2_model_0"
          ],
          [
           "fold_kif3_atp_tub_seed2_model_0"
          ],
          [
           "fold_kif3_atp_tub_seed2_model_0"
          ],
          [
           "fold_kif3_atp_tub_seed2_model_0"
          ],
          [
           "fold_kif3_atp_tub_seed2_model_0"
          ],
          [
           "fold_kif3_atp_tub_seed2_model_0"
          ],
          [
           "fold_kif3_atp_tub_seed2_model_0"
          ],
          [
           "fold_kif3_atp_tub_seed2_model_0"
          ],
          [
           "fold_kif3_atp_tub_seed2_model_0"
          ],
          [
           "fold_kif3_atp_tub_seed2_model_0"
          ],
          [
           "fold_kif3_atp_tub_seed2_model_0"
          ],
          [
           "fold_kif3_atp_tub_seed2_model_0"
          ],
          [
           "fold_kif3_atp_tub_seed2_model_0"
          ],
          [
           "fold_kif3_atp_tub_seed2_model_0"
          ],
          [
           "fold_kif3_atp_tub_seed2_model_0"
          ],
          [
           "fold_kif3_atp_tub_seed2_model_0"
          ],
          [
           "fold_kif3_atp_tub_seed2_model_0"
          ],
          [
           "fold_kif3_atp_tub_seed2_model_0"
          ],
          [
           "fold_kif3_atp_tub_seed2_model_0"
          ],
          [
           "fold_kif3_atp_tub_seed2_model_0"
          ],
          [
           "fold_kif3_atp_tub_seed2_model_0"
          ],
          [
           "fold_kif3_atp_tub_seed2_model_0"
          ],
          [
           "fold_kif3_atp_tub_seed2_model_0"
          ],
          [
           "fold_kif3_atp_tub_seed2_model_0"
          ],
          [
           "fold_kif3_atp_tub_seed2_model_0"
          ],
          [
           "fold_kif3_atp_tub_seed2_model_0"
          ],
          [
           "fold_kif3_atp_tub_seed2_model_0"
          ],
          [
           "fold_kif3_atp_tub_seed2_model_0"
          ],
          [
           "fold_kif3_atp_tub_seed2_model_0"
          ],
          [
           "fold_kif3_atp_tub_seed2_model_0"
          ],
          [
           "fold_kif3_atp_tub_seed2_model_0"
          ],
          [
           "fold_kif3_atp_tub_seed2_model_0"
          ],
          [
           "fold_kif3_atp_tub_seed2_model_0"
          ],
          [
           "fold_kif3_atp_tub_seed2_model_0"
          ],
          [
           "fold_kif3_atp_tub_seed2_model_0"
          ],
          [
           "fold_kif3_atp_tub_seed2_model_0"
          ],
          [
           "fold_kif3_atp_tub_seed2_model_0"
          ],
          [
           "fold_kif3_atp_tub_seed2_model_0"
          ],
          [
           "fold_kif3_atp_tub_seed2_model_0"
          ],
          [
           "fold_kif3_atp_tub_seed2_model_0"
          ],
          [
           "fold_kif3_atp_tub_seed2_model_0"
          ],
          [
           "fold_kif3_atp_tub_seed2_model_0"
          ],
          [
           "fold_kif3_atp_tub_seed2_model_0"
          ],
          [
           "fold_kif3_atp_tub_seed2_model_0"
          ],
          [
           "fold_kif3_atp_tub_seed2_model_0"
          ],
          [
           "fold_kif3_atp_tub_seed2_model_0"
          ],
          [
           "fold_kif3_atp_tub_seed2_model_0"
          ],
          [
           "fold_kif3_atp_tub_seed2_model_0"
          ],
          [
           "fold_kif3_atp_tub_seed2_model_0"
          ],
          [
           "fold_kif3_atp_tub_seed2_model_0"
          ],
          [
           "fold_kif3_atp_tub_seed2_model_0"
          ],
          [
           "fold_kif3_atp_tub_seed2_model_0"
          ],
          [
           "fold_kif3_atp_tub_seed2_model_0"
          ],
          [
           "fold_kif3_atp_tub_seed2_model_0"
          ],
          [
           "fold_kif3_atp_tub_seed2_model_0"
          ]
         ],
         "hovertemplate": "Interacting Chain=kinesin B<br>Residue (Number and Identity)=%{x}<br>Distance (angstroms)=%{y}<br>interacting_atom=%{text}<br>file=%{customdata[0]}<extra></extra>",
         "legendgroup": "kinesin B",
         "marker": {
          "color": "blue",
          "opacity": 0.6,
          "size": 10,
          "symbol": "circle"
         },
         "mode": "markers+text",
         "name": "kinesin B",
         "orientation": "v",
         "showlegend": true,
         "text": [
          "CB",
          "NZ",
          "CE1",
          "OE1",
          "OG",
          "CD1",
          "OG",
          "CZ3",
          "ND2",
          "ND2",
          "CD1",
          "OD1",
          "CD1",
          "CD1",
          "NH2",
          "CD1",
          "OE2",
          "CD",
          "NH2",
          "OE1",
          "CG1",
          "CZ",
          "ND1",
          "NE2",
          "O",
          "CD1",
          "OG",
          "OG",
          "OE2",
          "NZ",
          "NZ",
          "NZ",
          "OE2",
          "CD1",
          "NZ",
          "CG1",
          "CD1",
          "OE1",
          "CA",
          "CG1",
          "O",
          "CD2",
          "CB",
          "CD2",
          "OH",
          "CG2",
          "CG1",
          "OE1",
          "SG",
          "CD1",
          "NZ",
          "CD1",
          "N",
          "OE1",
          "NZ",
          "NZ",
          "OE2",
          "CD1",
          "OE1",
          "O",
          "NZ",
          "OD2",
          "NZ",
          "CD1",
          "CD2",
          "CD2",
          "CB",
          "OD1",
          "CD1",
          "CE2",
          "O",
          "ND2",
          "OG",
          "OD1",
          "OD1",
          "CD2",
          "O",
          "CD2",
          "CD1",
          "CD1",
          "OG",
          "OG",
          "OE1",
          "O",
          "CG1",
          "ND2",
          "CD2",
          "NZ",
          "OD1",
          "OD1",
          "OE1",
          "CG2",
          "CD1",
          "O",
          "CD2",
          "NH1",
          "CD1",
          "CB",
          "CZ3",
          "ND2",
          "ND2",
          "CD1",
          "OD1",
          "CB",
          "CD1",
          "CD1",
          "NH2",
          "OE1",
          "OE2",
          "CD",
          "NH2",
          "NH1",
          "CG1",
          "NZ",
          "CD1",
          "O",
          "NZ",
          "CG1",
          "CD1",
          "OE1",
          "OE1",
          "CG1",
          "CG1",
          "O",
          "OH",
          "CB",
          "CD2",
          "OE2",
          "CG1",
          "OD2",
          "CG2",
          "OE1",
          "SG",
          "NZ",
          "N",
          "OE1",
          "NZ",
          "NZ",
          "OE2",
          "CG2",
          "OE1",
          "CG",
          "NE2",
          "OD1",
          "NZ",
          "CD1",
          "OE2",
          "CD1",
          "CD2",
          "CD2",
          "CB",
          "OD1",
          "CD1",
          "CE2",
          "O",
          "OG",
          "OG",
          "ND2",
          "CA",
          "OD1",
          "CD2",
          "O",
          "CD1",
          "O",
          "OG",
          "OG",
          "OE1",
          "OG",
          "NE2",
          "CG1",
          "OD1",
          "CD2",
          "NZ",
          "CD1",
          "OD1",
          "OE1",
          "CD1",
          "CD2",
          "O",
          "CD2",
          "CD1",
          "NH1",
          "CD1"
         ],
         "textposition": "top center",
         "type": "scatter",
         "x": [
          "2S",
          "3A",
          "4E",
          "166K",
          "345A",
          "348W",
          "349K",
          "352Y",
          "355E",
          "358K",
          "359N",
          "362L",
          "366V",
          "370E",
          "372E",
          "373L",
          "377R",
          "387Q",
          "388I",
          "390M",
          "393L",
          "133L",
          "134E",
          "135F",
          "136H",
          "138K",
          "181S",
          "185D",
          "220K",
          "222E",
          "224L",
          "227Q",
          "229K",
          "345A",
          "358E",
          "359I",
          "362L",
          "363K",
          "365Y",
          "366I",
          "369L",
          "372V",
          "373S",
          "375V",
          "377V",
          "380L",
          "456I",
          "462K",
          "463C",
          "466L",
          "467E",
          "469Q",
          "470L",
          "473K",
          "474E",
          "476E",
          "477K",
          "480I",
          "484L",
          "487Q",
          "491I",
          "494K",
          "495D",
          "501L",
          "502N",
          "505I",
          "508S",
          "511I",
          "512N",
          "514L",
          "515Y",
          "518S",
          "519T",
          "522N",
          "525L",
          "526N",
          "529L",
          "532L",
          "535A",
          "536L",
          "539S",
          "540R",
          "543A",
          "546Q",
          "550I",
          "553L",
          "554N",
          "556E",
          "557N",
          "560I",
          "561K",
          "564L",
          "567L",
          "570R",
          "571I",
          "582L",
          "345A",
          "348W",
          "352Y",
          "355E",
          "358K",
          "359N",
          "362L",
          "363K",
          "366V",
          "370E",
          "372E",
          "373L",
          "377R",
          "387Q",
          "388I",
          "390M",
          "393L",
          "397S",
          "341A",
          "344L",
          "354E",
          "355I",
          "358L",
          "359K",
          "361Y",
          "362I",
          "364E",
          "365L",
          "366E",
          "369S",
          "371V",
          "373V",
          "376L",
          "444T",
          "448D",
          "458K",
          "459C",
          "463E",
          "466L",
          "469K",
          "470E",
          "472E",
          "473K",
          "476I",
          "480L",
          "483Q",
          "484Q",
          "490K",
          "491D",
          "493E",
          "494I",
          "497L",
          "498N",
          "501I",
          "504S",
          "507I",
          "508N",
          "510L",
          "511Y",
          "514S",
          "515T",
          "517E",
          "518N",
          "521L",
          "522N",
          "525L",
          "531A",
          "532L",
          "535S",
          "536R",
          "539A",
          "542Q",
          "543S",
          "546I",
          "549L",
          "550N",
          "552E",
          "553N",
          "556I",
          "557K",
          "560L",
          "563L",
          "566R",
          "567I",
          "575I",
          "578L",
          "580P"
         ],
         "xaxis": "x",
         "y": [
          2.7049708366394043,
          2.500192403793335,
          2.726569652557373,
          3.2974960803985596,
          3.495225191116333,
          3.067869186401367,
          2.80787992477417,
          3.1325764656066895,
          1.9847224950790403,
          3.439608573913574,
          2.745716094970703,
          2.764228343963623,
          2.685934543609619,
          2.786187648773194,
          2.824467182159424,
          2.904827117919922,
          2.7525405883789062,
          3.3699405193328857,
          2.8546347618103027,
          3.2785933017730713,
          2.5366830825805664,
          3.3456051349639893,
          2.658355236053467,
          2.177626371383667,
          2.335320234298706,
          3.340817928314209,
          2.4121956825256348,
          3.210391044616699,
          2.8777294158935547,
          2.5527637004852295,
          3.062281847000122,
          3.3593637943267822,
          2.784045457839966,
          3.4095728397369385,
          2.723917007446289,
          3.4798405170440674,
          3.2578840255737305,
          2.666030168533325,
          2.378837823867798,
          3.350409507751465,
          3.28835129737854,
          3.244004487991333,
          3.3915457725524902,
          3.3312125205993652,
          2.4891183376312256,
          2.9351954460144043,
          3.40732741355896,
          2.8630642890930176,
          2.989753484725952,
          3.4242422580718994,
          2.79927659034729,
          3.406895399093628,
          3.3915164470672607,
          2.5612053871154785,
          2.7174670696258545,
          2.547840118408203,
          2.5904245376586914,
          3.2563540935516357,
          3.188204765319824,
          3.1795952320098877,
          3.001890182495117,
          2.5904104709625244,
          2.61674427986145,
          2.8744328022003174,
          3.2610533237457275,
          2.9110889434814453,
          3.09769606590271,
          3.3403847217559814,
          3.26830792427063,
          3.425709009170532,
          3.1444618701934814,
          2.842130422592163,
          3.46311092376709,
          2.214717388153076,
          2.8266079425811768,
          3.277269124984741,
          3.19674015045166,
          3.310943365097046,
          3.2736833095550537,
          3.1962292194366455,
          2.70224928855896,
          3.4204866886138916,
          2.8190088272094727,
          2.774893283843994,
          3.3683958053588867,
          3.2475907802581787,
          3.2385382652282715,
          2.603609561920166,
          2.914894342422486,
          3.0064804553985596,
          2.6864566802978516,
          3.184638261795044,
          3.1959691047668457,
          2.944470167160034,
          2.9862284660339355,
          2.704155206680298,
          3.3955047130584717,
          3.414989948272705,
          3.496405601501465,
          1.9953404664993288,
          3.45218276977539,
          2.816624164581299,
          2.9479050636291504,
          3.398914337158203,
          2.735884666442871,
          2.6828954219818115,
          2.850796699523926,
          2.8502538204193115,
          2.7925305366516113,
          3.385688066482544,
          2.838085889816284,
          3.4570114612579346,
          2.5604653358459473,
          3.0359444618225098,
          3.1368184089660645,
          3.1645286083221436,
          2.934997320175171,
          3.49324107170105,
          3.407963275909424,
          2.7314257621765137,
          2.8730006217956543,
          3.317545175552368,
          3.2711501121520996,
          2.9998779296875,
          2.979167938232422,
          3.260679244995117,
          3.098212957382202,
          3.298412084579468,
          3.4171652793884277,
          2.299700975418091,
          2.648334503173828,
          2.7723028659820557,
          2.9961774349212646,
          2.6784729957580566,
          3.316741943359375,
          2.630852222442627,
          2.664680242538452,
          2.5826945304870605,
          2.5132620334625244,
          3.3319997787475586,
          3.1961915493011475,
          3.15407395362854,
          2.924105167388916,
          2.452393054962158,
          2.3598902225494385,
          3.477898359298706,
          3.453726291656494,
          2.9144585132598877,
          3.316145420074463,
          2.9363512992858887,
          2.9196887016296387,
          3.4589104652404785,
          3.370248794555664,
          3.353635311126709,
          3.2185091972351074,
          2.7447047233581543,
          3.4059808254241943,
          3.4538893699645996,
          3.0641658306121826,
          2.448543071746826,
          3.1994192600250244,
          3.437631368637085,
          3.366575002670288,
          3.394367218017578,
          2.7210047245025635,
          3.476593494415283,
          2.8629491329193115,
          2.6842541694641113,
          2.695085048675537,
          3.427288770675659,
          3.120875835418701,
          3.158853769302368,
          2.8655753135681152,
          3.116145372390747,
          2.8307769298553467,
          2.6333696842193604,
          3.359593152999878,
          3.3770911693573,
          3.2479193210601807,
          3.367431879043579,
          3.1779050827026367,
          3.1629064083099365,
          3.3063817024230957
         ],
         "yaxis": "y"
        },
        {
         "customdata": [
          [
           "fold_c_atp_tub_seed2_model_0"
          ],
          [
           "fold_c_atp_tub_seed2_model_0"
          ],
          [
           "fold_c_atp_tub_seed2_model_0"
          ],
          [
           "fold_c_atp_tub_seed2_model_0"
          ],
          [
           "fold_c_atp_tub_seed2_model_0"
          ],
          [
           "fold_c_atp_tub_seed2_model_0"
          ],
          [
           "fold_c_atp_tub_seed2_model_0"
          ],
          [
           "fold_c_atp_tub_seed2_model_0"
          ],
          [
           "fold_c_atp_tub_seed2_model_0"
          ],
          [
           "fold_c_atp_tub_seed2_model_0"
          ],
          [
           "fold_c_atp_tub_seed2_model_0"
          ],
          [
           "fold_e_atp_tub_seed2_model_0"
          ],
          [
           "fold_e_atp_tub_seed2_model_0"
          ],
          [
           "fold_e_atp_tub_seed2_model_0"
          ],
          [
           "fold_e_atp_tub_seed2_model_0"
          ],
          [
           "fold_e_atp_tub_seed2_model_0"
          ],
          [
           "fold_e_atp_tub_seed2_model_0"
          ],
          [
           "fold_e_atp_tub_seed2_model_0"
          ],
          [
           "fold_e_atp_tub_seed2_model_0"
          ],
          [
           "fold_e_atp_tub_seed2_model_0"
          ],
          [
           "fold_e_atp_tub_seed2_model_0"
          ],
          [
           "fold_k401_atp_tub_seed2_model_0"
          ],
          [
           "fold_k401_atp_tub_seed2_model_0"
          ],
          [
           "fold_k401_atp_tub_seed2_model_0"
          ],
          [
           "fold_k401_atp_tub_seed2_model_0"
          ],
          [
           "fold_k401_atp_tub_seed2_model_0"
          ],
          [
           "fold_k401_atp_tub_seed2_model_0"
          ],
          [
           "fold_k401_atp_tub_seed2_model_0"
          ],
          [
           "fold_k401_atp_tub_seed2_model_0"
          ],
          [
           "fold_k401_atp_tub_seed2_model_0"
          ],
          [
           "fold_kif3_atp_tub_seed2_model_0"
          ],
          [
           "fold_kif3_atp_tub_seed2_model_0"
          ],
          [
           "fold_kif3_atp_tub_seed2_model_0"
          ],
          [
           "fold_kif3_atp_tub_seed2_model_0"
          ],
          [
           "fold_kif3_atp_tub_seed2_model_0"
          ],
          [
           "fold_kif3_atp_tub_seed2_model_0"
          ],
          [
           "fold_kif3_atp_tub_seed2_model_0"
          ]
         ],
         "hovertemplate": "Interacting Chain=beta-tubulin<br>Residue (Number and Identity)=%{x}<br>Distance (angstroms)=%{y}<br>interacting_atom=%{text}<br>file=%{customdata[0]}<extra></extra>",
         "legendgroup": "beta-tubulin",
         "marker": {
          "color": "black",
          "opacity": 0.6,
          "size": 10,
          "symbol": "circle"
         },
         "mode": "markers+text",
         "name": "beta-tubulin",
         "orientation": "v",
         "showlegend": true,
         "text": [
          "OE2",
          "OE1",
          "OE1",
          "OE1",
          "OE2",
          "OG",
          "CE",
          "OE1",
          "OE1",
          "OD2",
          "CD",
          "OE1",
          "CG",
          "OE1",
          "OE1",
          "OE2",
          "OG",
          "OE1",
          "OD2",
          "CD",
          "OE2",
          "CG",
          "OE1",
          "OE1",
          "OE2",
          "CE",
          "CE",
          "OE1",
          "OD2",
          "CD",
          "OE2",
          "OE1",
          "OE1",
          "OE1",
          "OE1",
          "CD",
          "OE2"
         ],
         "textposition": "top center",
         "type": "scatter",
         "x": [
          "51K",
          "148K",
          "159N",
          "162V",
          "163H",
          "164E",
          "165D",
          "281T",
          "282H",
          "286R",
          "287D",
          "51K",
          "148K",
          "159N",
          "162V",
          "163H",
          "164E",
          "282H",
          "286R",
          "287D",
          "328R",
          "148K",
          "159N",
          "162V",
          "163H",
          "164E",
          "165D",
          "282H",
          "286R",
          "287D",
          "45S",
          "144R",
          "157K",
          "278H",
          "282R",
          "283D",
          "288R"
         ],
         "xaxis": "x",
         "y": [
          3.076155185699463,
          3.0529580116271973,
          3.1801626682281494,
          3.0710809230804443,
          2.6993296146392822,
          3.260935068130493,
          3.2711119651794434,
          3.4250409603118896,
          2.677729845046997,
          2.5618436336517334,
          3.2569708824157715,
          3.3810858726501465,
          3.0626890659332275,
          3.0273184776306152,
          3.093134641647339,
          2.7043895721435547,
          3.2314960956573486,
          2.8488993644714355,
          2.6110875606536865,
          3.390143871307373,
          2.5114872455596924,
          2.96763277053833,
          2.9002978801727295,
          3.2067956924438477,
          2.839240074157715,
          3.1770904064178467,
          2.9988021850585938,
          2.812537431716919,
          2.5015110969543457,
          3.0947930812835693,
          3.2901318073272705,
          2.666984796524048,
          3.415499687194824,
          2.762484550476074,
          2.4598586559295654,
          3.0417959690093994,
          3.1203856468200684
         ],
         "yaxis": "y"
        },
        {
         "customdata": [
          [
           "fold_c_atp_tub_seed2_model_0"
          ],
          [
           "fold_c_atp_tub_seed2_model_0"
          ],
          [
           "fold_c_atp_tub_seed2_model_0"
          ],
          [
           "fold_c_atp_tub_seed2_model_0"
          ],
          [
           "fold_c_atp_tub_seed2_model_0"
          ],
          [
           "fold_c_atp_tub_seed2_model_0"
          ],
          [
           "fold_c_atp_tub_seed2_model_0"
          ],
          [
           "fold_c_atp_tub_seed2_model_0"
          ],
          [
           "fold_c_atp_tub_seed2_model_0"
          ],
          [
           "fold_c_atp_tub_seed2_model_0"
          ],
          [
           "fold_c_atp_tub_seed2_model_0"
          ],
          [
           "fold_e_atp_tub_seed2_model_0"
          ],
          [
           "fold_e_atp_tub_seed2_model_0"
          ],
          [
           "fold_e_atp_tub_seed2_model_0"
          ],
          [
           "fold_e_atp_tub_seed2_model_0"
          ],
          [
           "fold_e_atp_tub_seed2_model_0"
          ],
          [
           "fold_e_atp_tub_seed2_model_0"
          ],
          [
           "fold_e_atp_tub_seed2_model_0"
          ],
          [
           "fold_e_atp_tub_seed2_model_0"
          ],
          [
           "fold_e_atp_tub_seed2_model_0"
          ],
          [
           "fold_e_atp_tub_seed2_model_0"
          ],
          [
           "fold_e_atp_tub_seed2_model_0"
          ],
          [
           "fold_e_atp_tub_seed2_model_0"
          ],
          [
           "fold_e_atp_tub_seed2_model_0"
          ],
          [
           "fold_k401_atp_tub_seed2_model_0"
          ],
          [
           "fold_k401_atp_tub_seed2_model_0"
          ],
          [
           "fold_k401_atp_tub_seed2_model_0"
          ],
          [
           "fold_k401_atp_tub_seed2_model_0"
          ],
          [
           "fold_k401_atp_tub_seed2_model_0"
          ],
          [
           "fold_k401_atp_tub_seed2_model_0"
          ],
          [
           "fold_k401_atp_tub_seed2_model_0"
          ],
          [
           "fold_k401_atp_tub_seed2_model_0"
          ],
          [
           "fold_k401_atp_tub_seed2_model_0"
          ],
          [
           "fold_k401_atp_tub_seed2_model_0"
          ],
          [
           "fold_k401_atp_tub_seed2_model_0"
          ],
          [
           "fold_kif3_atp_tub_seed2_model_0"
          ],
          [
           "fold_kif3_atp_tub_seed2_model_0"
          ],
          [
           "fold_kif3_atp_tub_seed2_model_0"
          ],
          [
           "fold_kif3_atp_tub_seed2_model_0"
          ],
          [
           "fold_kif3_atp_tub_seed2_model_0"
          ],
          [
           "fold_kif3_atp_tub_seed2_model_0"
          ],
          [
           "fold_kif3_atp_tub_seed2_model_0"
          ],
          [
           "fold_kif3_atp_tub_seed2_model_0"
          ],
          [
           "fold_kif3_atp_tub_seed2_model_0"
          ],
          [
           "fold_kif3_atp_tub_seed2_model_0"
          ],
          [
           "fold_kif3_atp_tub_seed2_model_0"
          ]
         ],
         "hovertemplate": "Interacting Chain=ATP<br>Residue (Number and Identity)=%{x}<br>Distance (angstroms)=%{y}<br>interacting_atom=%{text}<br>file=%{customdata[0]}<extra></extra>",
         "legendgroup": "ATP",
         "marker": {
          "color": "yellow",
          "opacity": 0.6,
          "size": 10,
          "symbol": "circle"
         },
         "mode": "markers+text",
         "name": "ATP",
         "orientation": "v",
         "showlegend": true,
         "text": [
          "O3G",
          "O3B",
          "O1B",
          "O1B",
          "O1B",
          "O2B",
          "O1A",
          "O3B",
          "O3G",
          "O2G",
          "O1G",
          "N7",
          "N1",
          "O2G",
          "O3B",
          "O1B",
          "O1B",
          "O3G",
          "O2B",
          "O1A",
          "O2G",
          "O2G",
          "O1G",
          "O3G",
          "O3G",
          "O3B",
          "O1B",
          "O1B",
          "O2G",
          "O2B",
          "O1A",
          "O3B",
          "O3G",
          "O1G",
          "O2G",
          "O2G",
          "O3B",
          "O1B",
          "O1B",
          "O1G",
          "O2B",
          "O2A",
          "O3B",
          "O2G",
          "O3G",
          "O1G"
         ],
         "textposition": "top center",
         "type": "scatter",
         "x": [
          "94T",
          "95S",
          "96S",
          "97G",
          "98K",
          "99T",
          "100H",
          "205N",
          "208S",
          "209S",
          "241G",
          "20R",
          "21P",
          "94T",
          "95S",
          "96S",
          "97G",
          "98K",
          "99T",
          "100H",
          "205N",
          "208S",
          "209S",
          "241G",
          "94T",
          "95S",
          "96S",
          "97G",
          "98K",
          "99T",
          "100H",
          "205N",
          "208S",
          "209S",
          "241G",
          "87T",
          "88G",
          "89S",
          "90G",
          "91K",
          "92T",
          "93F",
          "201N",
          "204S",
          "205S",
          "237G"
         ],
         "xaxis": "x",
         "y": [
          2.6260364055633545,
          2.9981014728546143,
          3.4609131813049316,
          3.0469350814819336,
          2.7803730964660645,
          2.6080482006073,
          2.6510262489318848,
          3.04117751121521,
          2.9506642818450928,
          2.8112363815307617,
          2.9833710193634033,
          3.495986223220825,
          3.4068336486816406,
          2.6111836433410645,
          2.852386474609375,
          3.2603847980499268,
          2.8371694087982178,
          2.7017619609832764,
          2.7457098960876465,
          2.7420170307159424,
          2.9378750324249268,
          3.124770402908325,
          3.056915760040283,
          3.07895565032959,
          2.622086524963379,
          2.9302656650543213,
          3.4334850311279297,
          3.099039077758789,
          2.7781970500946045,
          2.6676344871520996,
          2.701998472213745,
          3.1358020305633545,
          2.9709160327911377,
          2.87503981590271,
          2.8594346046447754,
          2.6146392822265625,
          2.8275861740112305,
          3.3900277614593506,
          3.029371500015259,
          2.6029515266418457,
          2.77339506149292,
          2.6470093727111816,
          3.1940464973449707,
          3.0418734550476074,
          2.941164493560791,
          2.747293710708618
         ],
         "yaxis": "y"
        },
        {
         "customdata": [
          [
           "fold_c_atp_tub_seed2_model_0"
          ],
          [
           "fold_c_atp_tub_seed2_model_0"
          ],
          [
           "fold_c_atp_tub_seed2_model_0"
          ],
          [
           "fold_c_atp_tub_seed2_model_0"
          ],
          [
           "fold_c_atp_tub_seed2_model_0"
          ],
          [
           "fold_c_atp_tub_seed2_model_0"
          ],
          [
           "fold_c_atp_tub_seed2_model_0"
          ],
          [
           "fold_c_atp_tub_seed2_model_0"
          ],
          [
           "fold_e_atp_tub_seed2_model_0"
          ],
          [
           "fold_e_atp_tub_seed2_model_0"
          ],
          [
           "fold_e_atp_tub_seed2_model_0"
          ],
          [
           "fold_e_atp_tub_seed2_model_0"
          ],
          [
           "fold_e_atp_tub_seed2_model_0"
          ],
          [
           "fold_e_atp_tub_seed2_model_0"
          ],
          [
           "fold_e_atp_tub_seed2_model_0"
          ],
          [
           "fold_e_atp_tub_seed2_model_0"
          ],
          [
           "fold_e_atp_tub_seed2_model_0"
          ],
          [
           "fold_e_atp_tub_seed2_model_0"
          ],
          [
           "fold_k401_atp_tub_seed2_model_0"
          ],
          [
           "fold_k401_atp_tub_seed2_model_0"
          ],
          [
           "fold_k401_atp_tub_seed2_model_0"
          ],
          [
           "fold_k401_atp_tub_seed2_model_0"
          ],
          [
           "fold_k401_atp_tub_seed2_model_0"
          ],
          [
           "fold_k401_atp_tub_seed2_model_0"
          ],
          [
           "fold_k401_atp_tub_seed2_model_0"
          ],
          [
           "fold_k401_atp_tub_seed2_model_0"
          ],
          [
           "fold_k401_atp_tub_seed2_model_0"
          ],
          [
           "fold_k401_atp_tub_seed2_model_0"
          ],
          [
           "fold_kif3_atp_tub_seed2_model_0"
          ],
          [
           "fold_kif3_atp_tub_seed2_model_0"
          ],
          [
           "fold_kif3_atp_tub_seed2_model_0"
          ],
          [
           "fold_kif3_atp_tub_seed2_model_0"
          ],
          [
           "fold_kif3_atp_tub_seed2_model_0"
          ],
          [
           "fold_kif3_atp_tub_seed2_model_0"
          ],
          [
           "fold_kif3_atp_tub_seed2_model_0"
          ],
          [
           "fold_kif3_atp_tub_seed2_model_0"
          ],
          [
           "fold_kif3_atp_tub_seed2_model_0"
          ],
          [
           "fold_kif3_atp_tub_seed2_model_0"
          ],
          [
           "fold_kif3_atp_tub_seed2_model_0"
          ],
          [
           "fold_kif3_atp_tub_seed2_model_0"
          ],
          [
           "fold_kif3_atp_tub_seed2_model_0"
          ],
          [
           "fold_kif3_atp_tub_seed2_model_0"
          ],
          [
           "fold_kif3_atp_tub_seed2_model_0"
          ]
         ],
         "hovertemplate": "Interacting Chain=alpha-tubulin<br>Residue (Number and Identity)=%{x}<br>Distance (angstroms)=%{y}<br>interacting_atom=%{text}<br>file=%{customdata[0]}<extra></extra>",
         "legendgroup": "alpha-tubulin",
         "marker": {
          "color": "purple",
          "opacity": 0.6,
          "size": 10,
          "symbol": "circle"
         },
         "mode": "markers+text",
         "name": "alpha-tubulin",
         "orientation": "v",
         "showlegend": true,
         "text": [
          "OE1",
          "OE1",
          "O",
          "CG2",
          "OE2",
          "CG",
          "OE1",
          "OE1",
          "OE1",
          "OE2",
          "O",
          "NZ",
          "NZ",
          "CG2",
          "CG1",
          "CG1",
          "OE2",
          "CG",
          "OE1",
          "OE2",
          "O",
          "NZ",
          "NZ",
          "O",
          "CG2",
          "CG1",
          "CG1",
          "OE2",
          "OE1",
          "OE2",
          "O",
          "O",
          "CG1",
          "CG1",
          "OE2",
          "CG",
          "OE1",
          "NH2",
          "CB",
          "NE2",
          "CD2",
          "OG1",
          "CB"
         ],
         "textposition": "top center",
         "type": "scatter",
         "x": [
          "242S",
          "244K",
          "245I",
          "259K",
          "266S",
          "270N",
          "318A",
          "325R",
          "242S",
          "244K",
          "245V",
          "250A",
          "251E",
          "259K",
          "262N",
          "263K",
          "266S",
          "270N",
          "242S",
          "244K",
          "245V",
          "250A",
          "251E",
          "255L",
          "259K",
          "262N",
          "263K",
          "266S",
          "238S",
          "240K",
          "241I",
          "255K",
          "258N",
          "259K",
          "262S",
          "266N",
          "321R",
          "530L",
          "533E",
          "534K",
          "537F",
          "541E",
          "545T"
         ],
         "xaxis": "x",
         "y": [
          3.190199375152588,
          2.5336437225341797,
          3.0257229804992676,
          3.346996068954468,
          2.510101556777954,
          3.3418891429901123,
          2.719548463821411,
          2.8139517307281494,
          2.756927490234375,
          2.508404016494751,
          3.1705336570739746,
          3.425650119781494,
          3.237048625946045,
          3.2728331089019775,
          3.3874754905700684,
          3.382650852203369,
          2.408619165420532,
          3.448924779891968,
          3.421055316925049,
          2.5566442012786865,
          3.112013101577759,
          3.2925150394439697,
          3.049867630004883,
          3.4474921226501465,
          3.214399576187134,
          3.437896728515625,
          3.4617300033569336,
          2.3851747512817383,
          3.1010115146636963,
          2.5169522762298584,
          2.9662744998931885,
          3.2784407138824463,
          3.485973596572876,
          3.431994915008545,
          2.4914729595184326,
          3.4433035850524902,
          2.6944591999053955,
          2.3999183177948,
          3.175889492034912,
          3.435227155685425,
          3.3242974281311035,
          2.756061553955078,
          3.1031532287597656
         ],
         "yaxis": "y"
        }
       ],
       "layout": {
        "legend": {
         "title": {
          "text": "Interacting Chain"
         },
         "tracegroupgap": 0
        },
        "template": {
         "data": {
          "bar": [
           {
            "error_x": {
             "color": "#2a3f5f"
            },
            "error_y": {
             "color": "#2a3f5f"
            },
            "marker": {
             "line": {
              "color": "#E5ECF6",
              "width": 0.5
             },
             "pattern": {
              "fillmode": "overlay",
              "size": 10,
              "solidity": 0.2
             }
            },
            "type": "bar"
           }
          ],
          "barpolar": [
           {
            "marker": {
             "line": {
              "color": "#E5ECF6",
              "width": 0.5
             },
             "pattern": {
              "fillmode": "overlay",
              "size": 10,
              "solidity": 0.2
             }
            },
            "type": "barpolar"
           }
          ],
          "carpet": [
           {
            "aaxis": {
             "endlinecolor": "#2a3f5f",
             "gridcolor": "white",
             "linecolor": "white",
             "minorgridcolor": "white",
             "startlinecolor": "#2a3f5f"
            },
            "baxis": {
             "endlinecolor": "#2a3f5f",
             "gridcolor": "white",
             "linecolor": "white",
             "minorgridcolor": "white",
             "startlinecolor": "#2a3f5f"
            },
            "type": "carpet"
           }
          ],
          "choropleth": [
           {
            "colorbar": {
             "outlinewidth": 0,
             "ticks": ""
            },
            "type": "choropleth"
           }
          ],
          "contour": [
           {
            "colorbar": {
             "outlinewidth": 0,
             "ticks": ""
            },
            "colorscale": [
             [
              0,
              "#0d0887"
             ],
             [
              0.1111111111111111,
              "#46039f"
             ],
             [
              0.2222222222222222,
              "#7201a8"
             ],
             [
              0.3333333333333333,
              "#9c179e"
             ],
             [
              0.4444444444444444,
              "#bd3786"
             ],
             [
              0.5555555555555556,
              "#d8576b"
             ],
             [
              0.6666666666666666,
              "#ed7953"
             ],
             [
              0.7777777777777778,
              "#fb9f3a"
             ],
             [
              0.8888888888888888,
              "#fdca26"
             ],
             [
              1,
              "#f0f921"
             ]
            ],
            "type": "contour"
           }
          ],
          "contourcarpet": [
           {
            "colorbar": {
             "outlinewidth": 0,
             "ticks": ""
            },
            "type": "contourcarpet"
           }
          ],
          "heatmap": [
           {
            "colorbar": {
             "outlinewidth": 0,
             "ticks": ""
            },
            "colorscale": [
             [
              0,
              "#0d0887"
             ],
             [
              0.1111111111111111,
              "#46039f"
             ],
             [
              0.2222222222222222,
              "#7201a8"
             ],
             [
              0.3333333333333333,
              "#9c179e"
             ],
             [
              0.4444444444444444,
              "#bd3786"
             ],
             [
              0.5555555555555556,
              "#d8576b"
             ],
             [
              0.6666666666666666,
              "#ed7953"
             ],
             [
              0.7777777777777778,
              "#fb9f3a"
             ],
             [
              0.8888888888888888,
              "#fdca26"
             ],
             [
              1,
              "#f0f921"
             ]
            ],
            "type": "heatmap"
           }
          ],
          "heatmapgl": [
           {
            "colorbar": {
             "outlinewidth": 0,
             "ticks": ""
            },
            "colorscale": [
             [
              0,
              "#0d0887"
             ],
             [
              0.1111111111111111,
              "#46039f"
             ],
             [
              0.2222222222222222,
              "#7201a8"
             ],
             [
              0.3333333333333333,
              "#9c179e"
             ],
             [
              0.4444444444444444,
              "#bd3786"
             ],
             [
              0.5555555555555556,
              "#d8576b"
             ],
             [
              0.6666666666666666,
              "#ed7953"
             ],
             [
              0.7777777777777778,
              "#fb9f3a"
             ],
             [
              0.8888888888888888,
              "#fdca26"
             ],
             [
              1,
              "#f0f921"
             ]
            ],
            "type": "heatmapgl"
           }
          ],
          "histogram": [
           {
            "marker": {
             "pattern": {
              "fillmode": "overlay",
              "size": 10,
              "solidity": 0.2
             }
            },
            "type": "histogram"
           }
          ],
          "histogram2d": [
           {
            "colorbar": {
             "outlinewidth": 0,
             "ticks": ""
            },
            "colorscale": [
             [
              0,
              "#0d0887"
             ],
             [
              0.1111111111111111,
              "#46039f"
             ],
             [
              0.2222222222222222,
              "#7201a8"
             ],
             [
              0.3333333333333333,
              "#9c179e"
             ],
             [
              0.4444444444444444,
              "#bd3786"
             ],
             [
              0.5555555555555556,
              "#d8576b"
             ],
             [
              0.6666666666666666,
              "#ed7953"
             ],
             [
              0.7777777777777778,
              "#fb9f3a"
             ],
             [
              0.8888888888888888,
              "#fdca26"
             ],
             [
              1,
              "#f0f921"
             ]
            ],
            "type": "histogram2d"
           }
          ],
          "histogram2dcontour": [
           {
            "colorbar": {
             "outlinewidth": 0,
             "ticks": ""
            },
            "colorscale": [
             [
              0,
              "#0d0887"
             ],
             [
              0.1111111111111111,
              "#46039f"
             ],
             [
              0.2222222222222222,
              "#7201a8"
             ],
             [
              0.3333333333333333,
              "#9c179e"
             ],
             [
              0.4444444444444444,
              "#bd3786"
             ],
             [
              0.5555555555555556,
              "#d8576b"
             ],
             [
              0.6666666666666666,
              "#ed7953"
             ],
             [
              0.7777777777777778,
              "#fb9f3a"
             ],
             [
              0.8888888888888888,
              "#fdca26"
             ],
             [
              1,
              "#f0f921"
             ]
            ],
            "type": "histogram2dcontour"
           }
          ],
          "mesh3d": [
           {
            "colorbar": {
             "outlinewidth": 0,
             "ticks": ""
            },
            "type": "mesh3d"
           }
          ],
          "parcoords": [
           {
            "line": {
             "colorbar": {
              "outlinewidth": 0,
              "ticks": ""
             }
            },
            "type": "parcoords"
           }
          ],
          "pie": [
           {
            "automargin": true,
            "type": "pie"
           }
          ],
          "scatter": [
           {
            "fillpattern": {
             "fillmode": "overlay",
             "size": 10,
             "solidity": 0.2
            },
            "type": "scatter"
           }
          ],
          "scatter3d": [
           {
            "line": {
             "colorbar": {
              "outlinewidth": 0,
              "ticks": ""
             }
            },
            "marker": {
             "colorbar": {
              "outlinewidth": 0,
              "ticks": ""
             }
            },
            "type": "scatter3d"
           }
          ],
          "scattercarpet": [
           {
            "marker": {
             "colorbar": {
              "outlinewidth": 0,
              "ticks": ""
             }
            },
            "type": "scattercarpet"
           }
          ],
          "scattergeo": [
           {
            "marker": {
             "colorbar": {
              "outlinewidth": 0,
              "ticks": ""
             }
            },
            "type": "scattergeo"
           }
          ],
          "scattergl": [
           {
            "marker": {
             "colorbar": {
              "outlinewidth": 0,
              "ticks": ""
             }
            },
            "type": "scattergl"
           }
          ],
          "scattermapbox": [
           {
            "marker": {
             "colorbar": {
              "outlinewidth": 0,
              "ticks": ""
             }
            },
            "type": "scattermapbox"
           }
          ],
          "scatterpolar": [
           {
            "marker": {
             "colorbar": {
              "outlinewidth": 0,
              "ticks": ""
             }
            },
            "type": "scatterpolar"
           }
          ],
          "scatterpolargl": [
           {
            "marker": {
             "colorbar": {
              "outlinewidth": 0,
              "ticks": ""
             }
            },
            "type": "scatterpolargl"
           }
          ],
          "scatterternary": [
           {
            "marker": {
             "colorbar": {
              "outlinewidth": 0,
              "ticks": ""
             }
            },
            "type": "scatterternary"
           }
          ],
          "surface": [
           {
            "colorbar": {
             "outlinewidth": 0,
             "ticks": ""
            },
            "colorscale": [
             [
              0,
              "#0d0887"
             ],
             [
              0.1111111111111111,
              "#46039f"
             ],
             [
              0.2222222222222222,
              "#7201a8"
             ],
             [
              0.3333333333333333,
              "#9c179e"
             ],
             [
              0.4444444444444444,
              "#bd3786"
             ],
             [
              0.5555555555555556,
              "#d8576b"
             ],
             [
              0.6666666666666666,
              "#ed7953"
             ],
             [
              0.7777777777777778,
              "#fb9f3a"
             ],
             [
              0.8888888888888888,
              "#fdca26"
             ],
             [
              1,
              "#f0f921"
             ]
            ],
            "type": "surface"
           }
          ],
          "table": [
           {
            "cells": {
             "fill": {
              "color": "#EBF0F8"
             },
             "line": {
              "color": "white"
             }
            },
            "header": {
             "fill": {
              "color": "#C8D4E3"
             },
             "line": {
              "color": "white"
             }
            },
            "type": "table"
           }
          ]
         },
         "layout": {
          "annotationdefaults": {
           "arrowcolor": "#2a3f5f",
           "arrowhead": 0,
           "arrowwidth": 1
          },
          "autotypenumbers": "strict",
          "coloraxis": {
           "colorbar": {
            "outlinewidth": 0,
            "ticks": ""
           }
          },
          "colorscale": {
           "diverging": [
            [
             0,
             "#8e0152"
            ],
            [
             0.1,
             "#c51b7d"
            ],
            [
             0.2,
             "#de77ae"
            ],
            [
             0.3,
             "#f1b6da"
            ],
            [
             0.4,
             "#fde0ef"
            ],
            [
             0.5,
             "#f7f7f7"
            ],
            [
             0.6,
             "#e6f5d0"
            ],
            [
             0.7,
             "#b8e186"
            ],
            [
             0.8,
             "#7fbc41"
            ],
            [
             0.9,
             "#4d9221"
            ],
            [
             1,
             "#276419"
            ]
           ],
           "sequential": [
            [
             0,
             "#0d0887"
            ],
            [
             0.1111111111111111,
             "#46039f"
            ],
            [
             0.2222222222222222,
             "#7201a8"
            ],
            [
             0.3333333333333333,
             "#9c179e"
            ],
            [
             0.4444444444444444,
             "#bd3786"
            ],
            [
             0.5555555555555556,
             "#d8576b"
            ],
            [
             0.6666666666666666,
             "#ed7953"
            ],
            [
             0.7777777777777778,
             "#fb9f3a"
            ],
            [
             0.8888888888888888,
             "#fdca26"
            ],
            [
             1,
             "#f0f921"
            ]
           ],
           "sequentialminus": [
            [
             0,
             "#0d0887"
            ],
            [
             0.1111111111111111,
             "#46039f"
            ],
            [
             0.2222222222222222,
             "#7201a8"
            ],
            [
             0.3333333333333333,
             "#9c179e"
            ],
            [
             0.4444444444444444,
             "#bd3786"
            ],
            [
             0.5555555555555556,
             "#d8576b"
            ],
            [
             0.6666666666666666,
             "#ed7953"
            ],
            [
             0.7777777777777778,
             "#fb9f3a"
            ],
            [
             0.8888888888888888,
             "#fdca26"
            ],
            [
             1,
             "#f0f921"
            ]
           ]
          },
          "colorway": [
           "#636efa",
           "#EF553B",
           "#00cc96",
           "#ab63fa",
           "#FFA15A",
           "#19d3f3",
           "#FF6692",
           "#B6E880",
           "#FF97FF",
           "#FECB52"
          ],
          "font": {
           "color": "#2a3f5f"
          },
          "geo": {
           "bgcolor": "white",
           "lakecolor": "white",
           "landcolor": "#E5ECF6",
           "showlakes": true,
           "showland": true,
           "subunitcolor": "white"
          },
          "hoverlabel": {
           "align": "left"
          },
          "hovermode": "closest",
          "mapbox": {
           "style": "light"
          },
          "paper_bgcolor": "white",
          "plot_bgcolor": "#E5ECF6",
          "polar": {
           "angularaxis": {
            "gridcolor": "white",
            "linecolor": "white",
            "ticks": ""
           },
           "bgcolor": "#E5ECF6",
           "radialaxis": {
            "gridcolor": "white",
            "linecolor": "white",
            "ticks": ""
           }
          },
          "scene": {
           "xaxis": {
            "backgroundcolor": "#E5ECF6",
            "gridcolor": "white",
            "gridwidth": 2,
            "linecolor": "white",
            "showbackground": true,
            "ticks": "",
            "zerolinecolor": "white"
           },
           "yaxis": {
            "backgroundcolor": "#E5ECF6",
            "gridcolor": "white",
            "gridwidth": 2,
            "linecolor": "white",
            "showbackground": true,
            "ticks": "",
            "zerolinecolor": "white"
           },
           "zaxis": {
            "backgroundcolor": "#E5ECF6",
            "gridcolor": "white",
            "gridwidth": 2,
            "linecolor": "white",
            "showbackground": true,
            "ticks": "",
            "zerolinecolor": "white"
           }
          },
          "shapedefaults": {
           "line": {
            "color": "#2a3f5f"
           }
          },
          "ternary": {
           "aaxis": {
            "gridcolor": "white",
            "linecolor": "white",
            "ticks": ""
           },
           "baxis": {
            "gridcolor": "white",
            "linecolor": "white",
            "ticks": ""
           },
           "bgcolor": "#E5ECF6",
           "caxis": {
            "gridcolor": "white",
            "linecolor": "white",
            "ticks": ""
           }
          },
          "title": {
           "x": 0.05
          },
          "xaxis": {
           "automargin": true,
           "gridcolor": "white",
           "linecolor": "white",
           "ticks": "",
           "title": {
            "standoff": 15
           },
           "zerolinecolor": "white",
           "zerolinewidth": 2
          },
          "yaxis": {
           "automargin": true,
           "gridcolor": "white",
           "linecolor": "white",
           "ticks": "",
           "title": {
            "standoff": 15
           },
           "zerolinecolor": "white",
           "zerolinewidth": 2
          }
         }
        },
        "title": {
         "text": "Interaction Distances by Residue and Interacting Chain"
        },
        "xaxis": {
         "anchor": "y",
         "categoryarray": [
          "2S",
          "3A",
          "4E",
          "20R",
          "21P",
          "45S",
          "51K",
          "87T",
          "88G",
          "89S",
          "90G",
          "91K",
          "92T",
          "93F",
          "94T",
          "95S",
          "96S",
          "97G",
          "98K",
          "99T",
          "100H",
          "133L",
          "134E",
          "135F",
          "136H",
          "138K",
          "144R",
          "148K",
          "157K",
          "159N",
          "162V",
          "163H",
          "164E",
          "165D",
          "166K",
          "181S",
          "185D",
          "201N",
          "204S",
          "205N",
          "205S",
          "208S",
          "209S",
          "220K",
          "222E",
          "224L",
          "227Q",
          "229K",
          "237G",
          "238S",
          "240K",
          "241G",
          "241I",
          "242S",
          "244K",
          "245I",
          "245V",
          "250A",
          "251E",
          "255L",
          "255K",
          "258N",
          "259K",
          "262N",
          "262S",
          "263K",
          "266S",
          "266N",
          "270N",
          "278H",
          "281T",
          "282H",
          "282R",
          "283D",
          "286R",
          "287D",
          "288R",
          "318A",
          "321R",
          "325R",
          "328R",
          "341A",
          "344L",
          "345A",
          "348W",
          "349K",
          "352Y",
          "354E",
          "355E",
          "355I",
          "358K",
          "358E",
          "358L",
          "359N",
          "359I",
          "359K",
          "361Y",
          "362L",
          "362I",
          "363K",
          "364E",
          "365Y",
          "365L",
          "366V",
          "366I",
          "366E",
          "369L",
          "369S",
          "370E",
          "371V",
          "372E",
          "372V",
          "373L",
          "373S",
          "373V",
          "375V",
          "376L",
          "377R",
          "377V",
          "380L",
          "387Q",
          "388I",
          "390M",
          "393L",
          "397S",
          "444T",
          "448D",
          "456I",
          "458K",
          "459C",
          "462K",
          "463C",
          "463E",
          "466L",
          "467E",
          "469Q",
          "469K",
          "470L",
          "470E",
          "472E",
          "473K",
          "474E",
          "476E",
          "476I",
          "477K",
          "480I",
          "480L",
          "483Q",
          "484L",
          "484Q",
          "487Q",
          "490K",
          "491I",
          "491D",
          "493E",
          "494K",
          "494I",
          "495D",
          "497L",
          "498N",
          "501L",
          "501I",
          "502N",
          "504S",
          "505I",
          "507I",
          "508S",
          "508N",
          "510L",
          "511I",
          "511Y",
          "512N",
          "514L",
          "514S",
          "515Y",
          "515T",
          "517E",
          "518S",
          "518N",
          "519T",
          "521L",
          "522N",
          "525L",
          "526N",
          "529L",
          "530L",
          "531A",
          "532L",
          "533E",
          "534K",
          "535A",
          "535S",
          "536L",
          "536R",
          "537F",
          "539S",
          "539A",
          "540R",
          "541E",
          "542Q",
          "543A",
          "543S",
          "545T",
          "546Q",
          "546I",
          "549L",
          "550I",
          "550N",
          "552E",
          "553L",
          "553N",
          "554N",
          "556E",
          "556I",
          "557N",
          "557K",
          "560I",
          "560L",
          "561K",
          "563L",
          "564L",
          "566R",
          "567L",
          "567I",
          "570R",
          "571I",
          "575I",
          "578L",
          "580P",
          "582L"
         ],
         "categoryorder": "array",
         "domain": [
          0,
          1
         ],
         "title": {
          "text": "Residue (Number and Identity)"
         }
        },
        "yaxis": {
         "anchor": "x",
         "domain": [
          0,
          1
         ],
         "title": {
          "text": "Distance (angstroms)"
         }
        }
       }
      }
     },
     "metadata": {},
     "output_type": "display_data"
    }
   ],
   "source": [
    "import pandas as pd\n",
    "import plotly.express as px\n",
    "\n",
    "# Define the path to the uploaded CSV file\n",
    "csv_file_path = '/Users/jazzeruncal/git/Jazzer_surf/3d_predictions/same_seed/Seed_2/interactions_all_files.csv'\n",
    "\n",
    "# Read the CSV file into a DataFrame\n",
    "df = pd.read_csv(csv_file_path)\n",
    "\n",
    "# Filter to get the shortest distances for each interaction\n",
    "df = df.loc[df[df['chain'] == 'A'].groupby(['file', 'resi', 'interacting_chain'])['distance (angstroms)'].idxmin()]\n",
    "\n",
    "# Exclude interactions with Mg and chain letters A, G, H\n",
    "df = df[(df['interacting_resn'] != 'MG') & (~df['interacting_chain'].isin(['A', 'G', 'H']))].reset_index(drop=True)\n",
    "\n",
    "# Map interacting_resn to single-letter codes for better readability\n",
    "aa_dict = {\n",
    "    'ALA': 'A', 'ARG': 'R', 'ASN': 'N', 'ASP': 'D', 'CYS': 'C', 'GLN': 'Q', 'GLU': 'E', 'GLY': 'G',\n",
    "    'HIS': 'H', 'ILE': 'I', 'LEU': 'L', 'LYS': 'K', 'MET': 'M', 'PHE': 'F', 'PRO': 'P', 'SER': 'S',\n",
    "    'THR': 'T', 'TRP': 'W', 'TYR': 'Y', 'VAL': 'V'\n",
    "}\n",
    "df['residue_one_letter'] = df['resn'].map(aa_dict)\n",
    "df['residue'] = df['resi'].astype(str) + df['residue_one_letter']\n",
    "\n",
    "# Replace chain letters with descriptive names\n",
    "chain_map = {\n",
    "    'B': 'kinesin B',\n",
    "    'C': 'alpha-tubulin',\n",
    "    'D': 'beta-tubulin',\n",
    "    'E': 'ATP',\n",
    "    'F': 'ATP'\n",
    "}\n",
    "df['interacting_chain'] = df['interacting_chain'].map(chain_map)\n",
    "\n",
    "# Group by file and interacting chain, keeping residues in order\n",
    "grouped = df.groupby(['file', 'interacting_chain'])\n",
    "\n",
    "# Create a list to store the output rows\n",
    "output_rows = []\n",
    "\n",
    "# Iterate over each group and extract information\n",
    "for (file, chain), group in grouped:\n",
    "    for _, row in group.iterrows():\n",
    "        output_rows.append({\n",
    "            'file': file,\n",
    "            'interacting_chain': chain,\n",
    "            'interacting_atom': row['interacting_atom'],\n",
    "            'residue_number': row['resi'],\n",
    "            'amino_acid': row['residue_one_letter'],\n",
    "            'distance (angstroms)': row['distance (angstroms)'],\n",
    "        })\n",
    "\n",
    "# Convert the list to a DataFrame\n",
    "interaction_df = pd.DataFrame(output_rows)\n",
    "\n",
    "# Save the resulting DataFrame to a CSV file\n",
    "interaction_df.to_csv(\"interaction_summary_all_files.csv\", index=False)\n",
    "\n",
    "# Load the summarized interaction data\n",
    "csv_file_path = \"interaction_summary_all_files.csv\"\n",
    "interaction_df = pd.read_csv(csv_file_path)\n",
    "\n",
    "# Create a new column for the x-axis labels by concatenating residue number and amino acid\n",
    "interaction_df['residue_label'] = interaction_df['residue_number'].astype(str) + interaction_df['amino_acid']\n",
    "\n",
    "# Sort the dataframe by file and residue number to maintain order\n",
    "interaction_df = interaction_df.sort_values(by=['file', 'residue_number'])\n",
    "\n",
    "# Convert residue_label to a categorical type with the correct order\n",
    "interaction_df['residue_label'] = pd.Categorical(interaction_df['residue_label'], \n",
    "                                                 categories=sorted(interaction_df['residue_label'].unique(), key=lambda x: int(''.join(filter(str.isdigit, x)))), \n",
    "                                                 ordered=True)\n",
    "\n",
    "# Define custom colors\n",
    "color_discrete_map = {\n",
    "    'kinesin B': 'blue',\n",
    "    'alpha-tubulin': 'purple',\n",
    "    'beta-tubulin': 'black',  # Change this color to something other than green or orange\n",
    "    'ATP': 'yellow'\n",
    "}\n",
    "\n",
    "# Scatter plot for interaction distances with custom x-axis labels\n",
    "fig_scatter = px.scatter(interaction_df, x='residue_label', y='distance (angstroms)', color='interacting_chain', text='interacting_atom',\n",
    "                         title='Interaction Distances by Residue and Interacting Chain',\n",
    "                         labels={'residue_label': 'Residue (Number and Identity)', 'distance (angstroms)': 'Distance (angstroms)', 'interacting_chain': 'Interacting Chain'},\n",
    "                         hover_data=['file'],\n",
    "                         color_discrete_map=color_discrete_map)\n",
    "\n",
    "fig_scatter.update_traces(textposition='top center', marker=dict(size=10, opacity=0.6))\n",
    "fig_scatter.update_layout(xaxis={'categoryorder':'array', 'categoryarray': interaction_df['residue_label'].cat.categories})\n",
    "\n",
    "# Show the plot\n",
    "fig_scatter.show()\n"
   ]
  },
  {
   "cell_type": "markdown",
   "metadata": {},
   "source": [
    "Each one separate"
   ]
  },
  {
   "cell_type": "code",
   "execution_count": 68,
   "metadata": {},
   "outputs": [
    {
     "name": "stdout",
     "output_type": "stream",
     "text": [
      "Index(['file', 'chain', 'resi', 'resn', 'atom_name', 'interacting_atom',\n",
      "       'interacting_resn', 'interacting_chain', 'interacting_resinumber',\n",
      "       'distance (angstroms)', 'residue_one_letter', 'full_atom_name',\n",
      "       'interacting_full_atom_name', 'interactingresi_oneletter'],\n",
      "      dtype='object')\n"
     ]
    },
    {
     "name": "stderr",
     "output_type": "stream",
     "text": [
      "/var/folders/08/7vm2c9d11xvc7s0rf383rd480000gn/T/ipykernel_57000/2424036903.py:54: SettingWithCopyWarning:\n",
      "\n",
      "\n",
      "A value is trying to be set on a copy of a slice from a DataFrame.\n",
      "Try using .loc[row_indexer,col_indexer] = value instead\n",
      "\n",
      "See the caveats in the documentation: https://pandas.pydata.org/pandas-docs/stable/user_guide/indexing.html#returning-a-view-versus-a-copy\n",
      "\n"
     ]
    },
    {
     "data": {
      "application/vnd.plotly.v1+json": {
       "config": {
        "plotlyServerURL": "https://plot.ly"
       },
       "data": [
        {
         "customdata": [
          [
           "fold_c_atp_tub_seed1_model_0",
           "1?"
          ],
          [
           "fold_c_atp_tub_seed1_model_0",
           "1?"
          ],
          [
           "fold_c_atp_tub_seed1_model_0",
           "1?"
          ],
          [
           "fold_c_atp_tub_seed1_model_0",
           "1?"
          ],
          [
           "fold_c_atp_tub_seed1_model_0",
           "1?"
          ],
          [
           "fold_c_atp_tub_seed1_model_0",
           "1?"
          ],
          [
           "fold_c_atp_tub_seed1_model_0",
           "1?"
          ],
          [
           "fold_c_atp_tub_seed1_model_0",
           "1?"
          ],
          [
           "fold_c_atp_tub_seed1_model_0",
           "1?"
          ],
          [
           "fold_c_atp_tub_seed1_model_0",
           "1?"
          ],
          [
           "fold_c_atp_tub_seed1_model_0",
           "1?"
          ],
          [
           "fold_c_atp_tub_seed1_model_0",
           "1?"
          ]
         ],
         "hovertemplate": "Interacting Chain=ATP<br>Residue (Number and Identity)=%{x}<br>Distance (angstroms)=%{y}<br>text=%{text}<br>file=%{customdata[0]}<br>interacting_label=%{customdata[1]}<extra></extra>",
         "legendgroup": "ATP",
         "marker": {
          "color": "#636efa",
          "opacity": 0.6,
          "size": 10,
          "symbol": "circle"
         },
         "mode": "markers+text",
         "name": "ATP",
         "orientation": "v",
         "showlegend": true,
         "text": [
          "1?",
          "1?",
          "1?",
          "1?",
          "1?",
          "1?",
          "1?",
          "1?",
          "1?",
          "1?",
          "1?",
          "1?"
         ],
         "textposition": "top center",
         "type": "scatter",
         "x": [
          "21P",
          "94T",
          "95S",
          "96S",
          "97G",
          "98K",
          "99T",
          "100H",
          "205N",
          "208S",
          "209S",
          "241G"
         ],
         "xaxis": "x",
         "y": [
          3.457723379135132,
          2.4436142444610596,
          2.823654890060425,
          3.3223249912261963,
          3.097536087036133,
          2.879331588745117,
          2.799541711807251,
          2.962357997894287,
          2.9935591220855713,
          2.7670114040374756,
          2.790931224822998,
          2.9767863750457764
         ],
         "yaxis": "y"
        },
        {
         "customdata": [
          [
           "fold_c_atp_tub_seed1_model_0",
           "157E"
          ],
          [
           "fold_c_atp_tub_seed1_model_0",
           "157E"
          ],
          [
           "fold_c_atp_tub_seed1_model_0",
           "410E"
          ],
          [
           "fold_c_atp_tub_seed1_model_0",
           "410E"
          ],
          [
           "fold_c_atp_tub_seed1_model_0",
           "406M"
          ],
          [
           "fold_c_atp_tub_seed1_model_0",
           "424Q"
          ],
          [
           "fold_c_atp_tub_seed1_model_0",
           "417D"
          ],
          [
           "fold_c_atp_tub_seed1_model_0",
           "262R"
          ]
         ],
         "hovertemplate": "Interacting Chain=beta-tubulin<br>Residue (Number and Identity)=%{x}<br>Distance (angstroms)=%{y}<br>text=%{text}<br>file=%{customdata[0]}<br>interacting_label=%{customdata[1]}<extra></extra>",
         "legendgroup": "beta-tubulin",
         "marker": {
          "color": "#EF553B",
          "opacity": 0.6,
          "size": 10,
          "symbol": "circle"
         },
         "mode": "markers+text",
         "name": "beta-tubulin",
         "orientation": "v",
         "showlegend": true,
         "text": [
          "157E",
          "157E",
          "410E",
          "410E",
          "406M",
          "424Q",
          "417D",
          "262R"
         ],
         "textposition": "top center",
         "type": "scatter",
         "x": [
          "148K",
          "159N",
          "163H",
          "164E",
          "166K",
          "282H",
          "286R",
          "287D"
         ],
         "xaxis": "x",
         "y": [
          2.9638772010803223,
          3.166810989379883,
          2.7821812629699707,
          2.793105363845825,
          3.454381227493286,
          2.882333993911743,
          2.4885451793670654,
          3.194092035293579
         ],
         "yaxis": "y"
        },
        {
         "customdata": [
          [
           "fold_c_atp_tub_seed1_model_0",
           "346E"
          ],
          [
           "fold_c_atp_tub_seed1_model_0",
           "348W"
          ],
          [
           "fold_c_atp_tub_seed1_model_0",
           "352Y"
          ],
          [
           "fold_c_atp_tub_seed1_model_0",
           "355E"
          ],
          [
           "fold_c_atp_tub_seed1_model_0",
           "359N"
          ],
          [
           "fold_c_atp_tub_seed1_model_0",
           "359N"
          ],
          [
           "fold_c_atp_tub_seed1_model_0",
           "355E"
          ],
          [
           "fold_c_atp_tub_seed1_model_0",
           "359N"
          ],
          [
           "fold_c_atp_tub_seed1_model_0",
           "370E"
          ],
          [
           "fold_c_atp_tub_seed1_model_0",
           "393L"
          ],
          [
           "fold_c_atp_tub_seed1_model_0",
           "373L"
          ],
          [
           "fold_c_atp_tub_seed1_model_0",
           "393L"
          ],
          [
           "fold_c_atp_tub_seed1_model_0",
           "373L"
          ],
          [
           "fold_c_atp_tub_seed1_model_0",
           "372E"
          ],
          [
           "fold_c_atp_tub_seed1_model_0",
           "372E"
          ],
          [
           "fold_c_atp_tub_seed1_model_0",
           "377R"
          ],
          [
           "fold_c_atp_tub_seed1_model_0",
           "377R"
          ],
          [
           "fold_c_atp_tub_seed1_model_0",
           "377R"
          ],
          [
           "fold_c_atp_tub_seed1_model_0",
           "366V"
          ]
         ],
         "hovertemplate": "Interacting Chain=kinesin B<br>Residue (Number and Identity)=%{x}<br>Distance (angstroms)=%{y}<br>text=%{text}<br>file=%{customdata[0]}<br>interacting_label=%{customdata[1]}<extra></extra>",
         "legendgroup": "kinesin B",
         "marker": {
          "color": "#00cc96",
          "opacity": 0.6,
          "size": 10,
          "symbol": "circle"
         },
         "mode": "markers+text",
         "name": "kinesin B",
         "orientation": "v",
         "showlegend": true,
         "text": [
          "346E",
          "348W",
          "352Y",
          "355E",
          "359N",
          "359N",
          "355E",
          "359N",
          "370E",
          "393L",
          "373L",
          "393L",
          "373L",
          "372E",
          "372E",
          "377R",
          "377R",
          "377R",
          "366V"
         ],
         "textposition": "top center",
         "type": "scatter",
         "x": [
          "166K",
          "345A",
          "348W",
          "352Y",
          "355E",
          "358K",
          "359N",
          "362L",
          "365K",
          "366V",
          "369L",
          "370E",
          "372E",
          "373L",
          "377R",
          "387Q",
          "388I",
          "390M",
          "393L"
         ],
         "xaxis": "x",
         "y": [
          2.810300827026367,
          3.4046149253845215,
          3.3196117877960205,
          3.4200756549835205,
          2.1327757835388184,
          3.4232633113861084,
          2.092862606048584,
          2.848017692565918,
          3.258519172668457,
          2.8572001457214355,
          3.449855089187622,
          3.2836923599243164,
          2.8547213077545166,
          2.8381266593933105,
          2.828540325164795,
          3.4705941677093506,
          2.914373874664306,
          3.3847358226776123,
          2.8476345539093018
         ],
         "yaxis": "y"
        },
        {
         "customdata": [
          [
           "fold_c_atp_tub_seed1_model_0",
           "414E"
          ],
          [
           "fold_c_atp_tub_seed1_model_0",
           "420E"
          ],
          [
           "fold_c_atp_tub_seed1_model_0",
           "412G"
          ],
          [
           "fold_c_atp_tub_seed1_model_0",
           "410G"
          ],
          [
           "fold_c_atp_tub_seed1_model_0",
           "409V"
          ],
          [
           "fold_c_atp_tub_seed1_model_0",
           "409V"
          ],
          [
           "fold_c_atp_tub_seed1_model_0",
           "415E"
          ],
          [
           "fold_c_atp_tub_seed1_model_0",
           "420E"
          ],
          [
           "fold_c_atp_tub_seed1_model_0",
           "423E"
          ]
         ],
         "hovertemplate": "Interacting Chain=alpha-tubulin<br>Residue (Number and Identity)=%{x}<br>Distance (angstroms)=%{y}<br>text=%{text}<br>file=%{customdata[0]}<br>interacting_label=%{customdata[1]}<extra></extra>",
         "legendgroup": "alpha-tubulin",
         "marker": {
          "color": "#ab63fa",
          "opacity": 0.6,
          "size": 10,
          "symbol": "circle"
         },
         "mode": "markers+text",
         "name": "alpha-tubulin",
         "orientation": "v",
         "showlegend": true,
         "text": [
          "414E",
          "420E",
          "412G",
          "410G",
          "409V",
          "409V",
          "415E",
          "420E",
          "423E"
         ],
         "textposition": "top center",
         "type": "scatter",
         "x": [
          "242S",
          "244K",
          "245I",
          "259K",
          "262N",
          "263K",
          "266S",
          "318A",
          "325R"
         ],
         "xaxis": "x",
         "y": [
          3.2220075130462646,
          2.5479209423065186,
          2.961440086364746,
          3.272054433822632,
          3.429266929626465,
          3.3820230960845947,
          2.7096283435821533,
          2.7859344482421875,
          3.011375188827514
         ],
         "yaxis": "y"
        }
       ],
       "layout": {
        "legend": {
         "title": {
          "text": "Interacting Chain"
         },
         "tracegroupgap": 0
        },
        "template": {
         "data": {
          "bar": [
           {
            "error_x": {
             "color": "#2a3f5f"
            },
            "error_y": {
             "color": "#2a3f5f"
            },
            "marker": {
             "line": {
              "color": "#E5ECF6",
              "width": 0.5
             },
             "pattern": {
              "fillmode": "overlay",
              "size": 10,
              "solidity": 0.2
             }
            },
            "type": "bar"
           }
          ],
          "barpolar": [
           {
            "marker": {
             "line": {
              "color": "#E5ECF6",
              "width": 0.5
             },
             "pattern": {
              "fillmode": "overlay",
              "size": 10,
              "solidity": 0.2
             }
            },
            "type": "barpolar"
           }
          ],
          "carpet": [
           {
            "aaxis": {
             "endlinecolor": "#2a3f5f",
             "gridcolor": "white",
             "linecolor": "white",
             "minorgridcolor": "white",
             "startlinecolor": "#2a3f5f"
            },
            "baxis": {
             "endlinecolor": "#2a3f5f",
             "gridcolor": "white",
             "linecolor": "white",
             "minorgridcolor": "white",
             "startlinecolor": "#2a3f5f"
            },
            "type": "carpet"
           }
          ],
          "choropleth": [
           {
            "colorbar": {
             "outlinewidth": 0,
             "ticks": ""
            },
            "type": "choropleth"
           }
          ],
          "contour": [
           {
            "colorbar": {
             "outlinewidth": 0,
             "ticks": ""
            },
            "colorscale": [
             [
              0,
              "#0d0887"
             ],
             [
              0.1111111111111111,
              "#46039f"
             ],
             [
              0.2222222222222222,
              "#7201a8"
             ],
             [
              0.3333333333333333,
              "#9c179e"
             ],
             [
              0.4444444444444444,
              "#bd3786"
             ],
             [
              0.5555555555555556,
              "#d8576b"
             ],
             [
              0.6666666666666666,
              "#ed7953"
             ],
             [
              0.7777777777777778,
              "#fb9f3a"
             ],
             [
              0.8888888888888888,
              "#fdca26"
             ],
             [
              1,
              "#f0f921"
             ]
            ],
            "type": "contour"
           }
          ],
          "contourcarpet": [
           {
            "colorbar": {
             "outlinewidth": 0,
             "ticks": ""
            },
            "type": "contourcarpet"
           }
          ],
          "heatmap": [
           {
            "colorbar": {
             "outlinewidth": 0,
             "ticks": ""
            },
            "colorscale": [
             [
              0,
              "#0d0887"
             ],
             [
              0.1111111111111111,
              "#46039f"
             ],
             [
              0.2222222222222222,
              "#7201a8"
             ],
             [
              0.3333333333333333,
              "#9c179e"
             ],
             [
              0.4444444444444444,
              "#bd3786"
             ],
             [
              0.5555555555555556,
              "#d8576b"
             ],
             [
              0.6666666666666666,
              "#ed7953"
             ],
             [
              0.7777777777777778,
              "#fb9f3a"
             ],
             [
              0.8888888888888888,
              "#fdca26"
             ],
             [
              1,
              "#f0f921"
             ]
            ],
            "type": "heatmap"
           }
          ],
          "heatmapgl": [
           {
            "colorbar": {
             "outlinewidth": 0,
             "ticks": ""
            },
            "colorscale": [
             [
              0,
              "#0d0887"
             ],
             [
              0.1111111111111111,
              "#46039f"
             ],
             [
              0.2222222222222222,
              "#7201a8"
             ],
             [
              0.3333333333333333,
              "#9c179e"
             ],
             [
              0.4444444444444444,
              "#bd3786"
             ],
             [
              0.5555555555555556,
              "#d8576b"
             ],
             [
              0.6666666666666666,
              "#ed7953"
             ],
             [
              0.7777777777777778,
              "#fb9f3a"
             ],
             [
              0.8888888888888888,
              "#fdca26"
             ],
             [
              1,
              "#f0f921"
             ]
            ],
            "type": "heatmapgl"
           }
          ],
          "histogram": [
           {
            "marker": {
             "pattern": {
              "fillmode": "overlay",
              "size": 10,
              "solidity": 0.2
             }
            },
            "type": "histogram"
           }
          ],
          "histogram2d": [
           {
            "colorbar": {
             "outlinewidth": 0,
             "ticks": ""
            },
            "colorscale": [
             [
              0,
              "#0d0887"
             ],
             [
              0.1111111111111111,
              "#46039f"
             ],
             [
              0.2222222222222222,
              "#7201a8"
             ],
             [
              0.3333333333333333,
              "#9c179e"
             ],
             [
              0.4444444444444444,
              "#bd3786"
             ],
             [
              0.5555555555555556,
              "#d8576b"
             ],
             [
              0.6666666666666666,
              "#ed7953"
             ],
             [
              0.7777777777777778,
              "#fb9f3a"
             ],
             [
              0.8888888888888888,
              "#fdca26"
             ],
             [
              1,
              "#f0f921"
             ]
            ],
            "type": "histogram2d"
           }
          ],
          "histogram2dcontour": [
           {
            "colorbar": {
             "outlinewidth": 0,
             "ticks": ""
            },
            "colorscale": [
             [
              0,
              "#0d0887"
             ],
             [
              0.1111111111111111,
              "#46039f"
             ],
             [
              0.2222222222222222,
              "#7201a8"
             ],
             [
              0.3333333333333333,
              "#9c179e"
             ],
             [
              0.4444444444444444,
              "#bd3786"
             ],
             [
              0.5555555555555556,
              "#d8576b"
             ],
             [
              0.6666666666666666,
              "#ed7953"
             ],
             [
              0.7777777777777778,
              "#fb9f3a"
             ],
             [
              0.8888888888888888,
              "#fdca26"
             ],
             [
              1,
              "#f0f921"
             ]
            ],
            "type": "histogram2dcontour"
           }
          ],
          "mesh3d": [
           {
            "colorbar": {
             "outlinewidth": 0,
             "ticks": ""
            },
            "type": "mesh3d"
           }
          ],
          "parcoords": [
           {
            "line": {
             "colorbar": {
              "outlinewidth": 0,
              "ticks": ""
             }
            },
            "type": "parcoords"
           }
          ],
          "pie": [
           {
            "automargin": true,
            "type": "pie"
           }
          ],
          "scatter": [
           {
            "fillpattern": {
             "fillmode": "overlay",
             "size": 10,
             "solidity": 0.2
            },
            "type": "scatter"
           }
          ],
          "scatter3d": [
           {
            "line": {
             "colorbar": {
              "outlinewidth": 0,
              "ticks": ""
             }
            },
            "marker": {
             "colorbar": {
              "outlinewidth": 0,
              "ticks": ""
             }
            },
            "type": "scatter3d"
           }
          ],
          "scattercarpet": [
           {
            "marker": {
             "colorbar": {
              "outlinewidth": 0,
              "ticks": ""
             }
            },
            "type": "scattercarpet"
           }
          ],
          "scattergeo": [
           {
            "marker": {
             "colorbar": {
              "outlinewidth": 0,
              "ticks": ""
             }
            },
            "type": "scattergeo"
           }
          ],
          "scattergl": [
           {
            "marker": {
             "colorbar": {
              "outlinewidth": 0,
              "ticks": ""
             }
            },
            "type": "scattergl"
           }
          ],
          "scattermapbox": [
           {
            "marker": {
             "colorbar": {
              "outlinewidth": 0,
              "ticks": ""
             }
            },
            "type": "scattermapbox"
           }
          ],
          "scatterpolar": [
           {
            "marker": {
             "colorbar": {
              "outlinewidth": 0,
              "ticks": ""
             }
            },
            "type": "scatterpolar"
           }
          ],
          "scatterpolargl": [
           {
            "marker": {
             "colorbar": {
              "outlinewidth": 0,
              "ticks": ""
             }
            },
            "type": "scatterpolargl"
           }
          ],
          "scatterternary": [
           {
            "marker": {
             "colorbar": {
              "outlinewidth": 0,
              "ticks": ""
             }
            },
            "type": "scatterternary"
           }
          ],
          "surface": [
           {
            "colorbar": {
             "outlinewidth": 0,
             "ticks": ""
            },
            "colorscale": [
             [
              0,
              "#0d0887"
             ],
             [
              0.1111111111111111,
              "#46039f"
             ],
             [
              0.2222222222222222,
              "#7201a8"
             ],
             [
              0.3333333333333333,
              "#9c179e"
             ],
             [
              0.4444444444444444,
              "#bd3786"
             ],
             [
              0.5555555555555556,
              "#d8576b"
             ],
             [
              0.6666666666666666,
              "#ed7953"
             ],
             [
              0.7777777777777778,
              "#fb9f3a"
             ],
             [
              0.8888888888888888,
              "#fdca26"
             ],
             [
              1,
              "#f0f921"
             ]
            ],
            "type": "surface"
           }
          ],
          "table": [
           {
            "cells": {
             "fill": {
              "color": "#EBF0F8"
             },
             "line": {
              "color": "white"
             }
            },
            "header": {
             "fill": {
              "color": "#C8D4E3"
             },
             "line": {
              "color": "white"
             }
            },
            "type": "table"
           }
          ]
         },
         "layout": {
          "annotationdefaults": {
           "arrowcolor": "#2a3f5f",
           "arrowhead": 0,
           "arrowwidth": 1
          },
          "autotypenumbers": "strict",
          "coloraxis": {
           "colorbar": {
            "outlinewidth": 0,
            "ticks": ""
           }
          },
          "colorscale": {
           "diverging": [
            [
             0,
             "#8e0152"
            ],
            [
             0.1,
             "#c51b7d"
            ],
            [
             0.2,
             "#de77ae"
            ],
            [
             0.3,
             "#f1b6da"
            ],
            [
             0.4,
             "#fde0ef"
            ],
            [
             0.5,
             "#f7f7f7"
            ],
            [
             0.6,
             "#e6f5d0"
            ],
            [
             0.7,
             "#b8e186"
            ],
            [
             0.8,
             "#7fbc41"
            ],
            [
             0.9,
             "#4d9221"
            ],
            [
             1,
             "#276419"
            ]
           ],
           "sequential": [
            [
             0,
             "#0d0887"
            ],
            [
             0.1111111111111111,
             "#46039f"
            ],
            [
             0.2222222222222222,
             "#7201a8"
            ],
            [
             0.3333333333333333,
             "#9c179e"
            ],
            [
             0.4444444444444444,
             "#bd3786"
            ],
            [
             0.5555555555555556,
             "#d8576b"
            ],
            [
             0.6666666666666666,
             "#ed7953"
            ],
            [
             0.7777777777777778,
             "#fb9f3a"
            ],
            [
             0.8888888888888888,
             "#fdca26"
            ],
            [
             1,
             "#f0f921"
            ]
           ],
           "sequentialminus": [
            [
             0,
             "#0d0887"
            ],
            [
             0.1111111111111111,
             "#46039f"
            ],
            [
             0.2222222222222222,
             "#7201a8"
            ],
            [
             0.3333333333333333,
             "#9c179e"
            ],
            [
             0.4444444444444444,
             "#bd3786"
            ],
            [
             0.5555555555555556,
             "#d8576b"
            ],
            [
             0.6666666666666666,
             "#ed7953"
            ],
            [
             0.7777777777777778,
             "#fb9f3a"
            ],
            [
             0.8888888888888888,
             "#fdca26"
            ],
            [
             1,
             "#f0f921"
            ]
           ]
          },
          "colorway": [
           "#636efa",
           "#EF553B",
           "#00cc96",
           "#ab63fa",
           "#FFA15A",
           "#19d3f3",
           "#FF6692",
           "#B6E880",
           "#FF97FF",
           "#FECB52"
          ],
          "font": {
           "color": "#2a3f5f"
          },
          "geo": {
           "bgcolor": "white",
           "lakecolor": "white",
           "landcolor": "#E5ECF6",
           "showlakes": true,
           "showland": true,
           "subunitcolor": "white"
          },
          "hoverlabel": {
           "align": "left"
          },
          "hovermode": "closest",
          "mapbox": {
           "style": "light"
          },
          "paper_bgcolor": "white",
          "plot_bgcolor": "#E5ECF6",
          "polar": {
           "angularaxis": {
            "gridcolor": "white",
            "linecolor": "white",
            "ticks": ""
           },
           "bgcolor": "#E5ECF6",
           "radialaxis": {
            "gridcolor": "white",
            "linecolor": "white",
            "ticks": ""
           }
          },
          "scene": {
           "xaxis": {
            "backgroundcolor": "#E5ECF6",
            "gridcolor": "white",
            "gridwidth": 2,
            "linecolor": "white",
            "showbackground": true,
            "ticks": "",
            "zerolinecolor": "white"
           },
           "yaxis": {
            "backgroundcolor": "#E5ECF6",
            "gridcolor": "white",
            "gridwidth": 2,
            "linecolor": "white",
            "showbackground": true,
            "ticks": "",
            "zerolinecolor": "white"
           },
           "zaxis": {
            "backgroundcolor": "#E5ECF6",
            "gridcolor": "white",
            "gridwidth": 2,
            "linecolor": "white",
            "showbackground": true,
            "ticks": "",
            "zerolinecolor": "white"
           }
          },
          "shapedefaults": {
           "line": {
            "color": "#2a3f5f"
           }
          },
          "ternary": {
           "aaxis": {
            "gridcolor": "white",
            "linecolor": "white",
            "ticks": ""
           },
           "baxis": {
            "gridcolor": "white",
            "linecolor": "white",
            "ticks": ""
           },
           "bgcolor": "#E5ECF6",
           "caxis": {
            "gridcolor": "white",
            "linecolor": "white",
            "ticks": ""
           }
          },
          "title": {
           "x": 0.05
          },
          "xaxis": {
           "automargin": true,
           "gridcolor": "white",
           "linecolor": "white",
           "ticks": "",
           "title": {
            "standoff": 15
           },
           "zerolinecolor": "white",
           "zerolinewidth": 2
          },
          "yaxis": {
           "automargin": true,
           "gridcolor": "white",
           "linecolor": "white",
           "ticks": "",
           "title": {
            "standoff": 15
           },
           "zerolinecolor": "white",
           "zerolinewidth": 2
          }
         }
        },
        "title": {
         "text": "Interaction Distances for fold_c_atp_tub_seed1_model_0 by Residue and Interacting Chain"
        },
        "xaxis": {
         "anchor": "y",
         "categoryarray": [
          "21P",
          "94T",
          "95S",
          "96S",
          "97G",
          "98K",
          "99T",
          "100H",
          "148K",
          "159N",
          "163H",
          "164E",
          "166K",
          "205N",
          "208S",
          "209S",
          "241G",
          "242S",
          "244K",
          "245I",
          "259K",
          "262N",
          "263K",
          "266S",
          "282H",
          "286R",
          "287D",
          "318A",
          "325R",
          "345A",
          "348W",
          "352Y",
          "355E",
          "358K",
          "359N",
          "362L",
          "365K",
          "366V",
          "369L",
          "370E",
          "372E",
          "373L",
          "377R",
          "387Q",
          "388I",
          "390M",
          "393L"
         ],
         "categoryorder": "array",
         "domain": [
          0,
          1
         ],
         "title": {
          "text": "Residue (Number and Identity)"
         }
        },
        "yaxis": {
         "anchor": "x",
         "domain": [
          0,
          1
         ],
         "title": {
          "text": "Distance (angstroms)"
         }
        }
       }
      }
     },
     "metadata": {},
     "output_type": "display_data"
    },
    {
     "name": "stderr",
     "output_type": "stream",
     "text": [
      "/var/folders/08/7vm2c9d11xvc7s0rf383rd480000gn/T/ipykernel_57000/2424036903.py:54: SettingWithCopyWarning:\n",
      "\n",
      "\n",
      "A value is trying to be set on a copy of a slice from a DataFrame.\n",
      "Try using .loc[row_indexer,col_indexer] = value instead\n",
      "\n",
      "See the caveats in the documentation: https://pandas.pydata.org/pandas-docs/stable/user_guide/indexing.html#returning-a-view-versus-a-copy\n",
      "\n"
     ]
    },
    {
     "data": {
      "application/vnd.plotly.v1+json": {
       "config": {
        "plotlyServerURL": "https://plot.ly"
       },
       "data": [
        {
         "customdata": [
          [
           "fold_e_atp_tub_seed1_model_0",
           "437E"
          ],
          [
           "fold_e_atp_tub_seed1_model_0",
           "157E"
          ],
          [
           "fold_e_atp_tub_seed1_model_0",
           "157E"
          ],
          [
           "fold_e_atp_tub_seed1_model_0",
           "410E"
          ],
          [
           "fold_e_atp_tub_seed1_model_0",
           "410E"
          ],
          [
           "fold_e_atp_tub_seed1_model_0",
           "406M"
          ],
          [
           "fold_e_atp_tub_seed1_model_0",
           "424Q"
          ],
          [
           "fold_e_atp_tub_seed1_model_0",
           "424Q"
          ],
          [
           "fold_e_atp_tub_seed1_model_0",
           "417D"
          ],
          [
           "fold_e_atp_tub_seed1_model_0",
           "262R"
          ],
          [
           "fold_e_atp_tub_seed1_model_0",
           "437E"
          ],
          [
           "fold_e_atp_tub_seed1_model_0",
           "94Q"
          ],
          [
           "fold_e_atp_tub_seed1_model_0",
           "94Q"
          ],
          [
           "fold_e_atp_tub_seed1_model_0",
           "74D"
          ],
          [
           "fold_e_atp_tub_seed1_model_0",
           "87P"
          ],
          [
           "fold_e_atp_tub_seed1_model_0",
           "77R"
          ],
          [
           "fold_e_atp_tub_seed1_model_0",
           "88D"
          ],
          [
           "fold_e_atp_tub_seed1_model_0",
           "83Q"
          ],
          [
           "fold_e_atp_tub_seed1_model_0",
           "58K"
          ],
          [
           "fold_e_atp_tub_seed1_model_0",
           "58K"
          ]
         ],
         "hovertemplate": "Interacting Chain=beta-tubulin<br>Residue (Number and Identity)=%{x}<br>Distance (angstroms)=%{y}<br>text=%{text}<br>file=%{customdata[0]}<br>interacting_label=%{customdata[1]}<extra></extra>",
         "legendgroup": "beta-tubulin",
         "marker": {
          "color": "#636efa",
          "opacity": 0.6,
          "size": 10,
          "symbol": "circle"
         },
         "mode": "markers+text",
         "name": "beta-tubulin",
         "orientation": "v",
         "showlegend": true,
         "text": [
          "437E",
          "157E",
          "157E",
          "410E",
          "410E",
          "406M",
          "424Q",
          "424Q",
          "417D",
          "262R",
          "437E",
          "94Q",
          "94Q",
          "74D",
          "87P",
          "77R",
          "88D",
          "83Q",
          "58K",
          "58K"
         ],
         "textposition": "top center",
         "type": "scatter",
         "x": [
          "51K",
          "148K",
          "159N",
          "163H",
          "164E",
          "165D",
          "280K",
          "282H",
          "286R",
          "287D",
          "328R",
          "526N",
          "530S",
          "533K",
          "534L",
          "537E",
          "538K",
          "541F",
          "545E",
          "548L"
         ],
         "xaxis": "x",
         "y": [
          3.184419631958008,
          2.799797296524048,
          3.105865240097046,
          2.8342108726501465,
          2.5280559062957764,
          3.1794562339782715,
          3.4978063106536865,
          2.862626314163208,
          2.5521509647369385,
          3.176405906677246,
          2.7109060287475586,
          2.630460023880005,
          2.8594658374786377,
          2.4675843715667725,
          2.908067464828491,
          2.2084157466888428,
          2.6332504749298096,
          3.27166748046875,
          2.722621440887451,
          3.199802875518799
         ],
         "yaxis": "y"
        },
        {
         "customdata": [
          [
           "fold_e_atp_tub_seed1_model_0",
           "1?"
          ],
          [
           "fold_e_atp_tub_seed1_model_0",
           "1?"
          ],
          [
           "fold_e_atp_tub_seed1_model_0",
           "1?"
          ],
          [
           "fold_e_atp_tub_seed1_model_0",
           "1?"
          ],
          [
           "fold_e_atp_tub_seed1_model_0",
           "1?"
          ],
          [
           "fold_e_atp_tub_seed1_model_0",
           "1?"
          ],
          [
           "fold_e_atp_tub_seed1_model_0",
           "1?"
          ],
          [
           "fold_e_atp_tub_seed1_model_0",
           "1?"
          ],
          [
           "fold_e_atp_tub_seed1_model_0",
           "1?"
          ],
          [
           "fold_e_atp_tub_seed1_model_0",
           "1?"
          ],
          [
           "fold_e_atp_tub_seed1_model_0",
           "1?"
          ]
         ],
         "hovertemplate": "Interacting Chain=ATP<br>Residue (Number and Identity)=%{x}<br>Distance (angstroms)=%{y}<br>text=%{text}<br>file=%{customdata[0]}<br>interacting_label=%{customdata[1]}<extra></extra>",
         "legendgroup": "ATP",
         "marker": {
          "color": "#EF553B",
          "opacity": 0.6,
          "size": 10,
          "symbol": "circle"
         },
         "mode": "markers+text",
         "name": "ATP",
         "orientation": "v",
         "showlegend": true,
         "text": [
          "1?",
          "1?",
          "1?",
          "1?",
          "1?",
          "1?",
          "1?",
          "1?",
          "1?",
          "1?",
          "1?"
         ],
         "textposition": "top center",
         "type": "scatter",
         "x": [
          "94T",
          "95S",
          "96S",
          "97G",
          "98K",
          "99T",
          "100H",
          "205N",
          "208S",
          "209S",
          "241G"
         ],
         "xaxis": "x",
         "y": [
          2.5287439823150635,
          2.865710973739624,
          3.3670592308044434,
          3.0916802883148193,
          2.8252956867218018,
          2.6309244632720947,
          2.8375065326690674,
          3.0233163833618164,
          2.9107367992401123,
          2.781641960144043,
          2.883500099182129
         ],
         "yaxis": "y"
        },
        {
         "customdata": [
          [
           "fold_e_atp_tub_seed1_model_0",
           "414E"
          ],
          [
           "fold_e_atp_tub_seed1_model_0",
           "420E"
          ],
          [
           "fold_e_atp_tub_seed1_model_0",
           "412G"
          ],
          [
           "fold_e_atp_tub_seed1_model_0",
           "112K"
          ],
          [
           "fold_e_atp_tub_seed1_model_0",
           "112K"
          ],
          [
           "fold_e_atp_tub_seed1_model_0",
           "410G"
          ],
          [
           "fold_e_atp_tub_seed1_model_0",
           "409V"
          ],
          [
           "fold_e_atp_tub_seed1_model_0",
           "409V"
          ],
          [
           "fold_e_atp_tub_seed1_model_0",
           "415E"
          ]
         ],
         "hovertemplate": "Interacting Chain=alpha-tubulin<br>Residue (Number and Identity)=%{x}<br>Distance (angstroms)=%{y}<br>text=%{text}<br>file=%{customdata[0]}<br>interacting_label=%{customdata[1]}<extra></extra>",
         "legendgroup": "alpha-tubulin",
         "marker": {
          "color": "#00cc96",
          "opacity": 0.6,
          "size": 10,
          "symbol": "circle"
         },
         "mode": "markers+text",
         "name": "alpha-tubulin",
         "orientation": "v",
         "showlegend": true,
         "text": [
          "414E",
          "420E",
          "412G",
          "112K",
          "112K",
          "410G",
          "409V",
          "409V",
          "415E"
         ],
         "textposition": "top center",
         "type": "scatter",
         "x": [
          "242S",
          "244K",
          "245V",
          "250A",
          "251E",
          "259K",
          "262N",
          "263K",
          "266S"
         ],
         "xaxis": "x",
         "y": [
          3.461801052093506,
          2.546417474746704,
          3.226733684539795,
          3.4412996768951416,
          3.075506687164306,
          3.2275352478027344,
          3.4368579387664795,
          3.3619537353515625,
          2.4706685543060303
         ],
         "yaxis": "y"
        },
        {
         "customdata": [
          [
           "fold_e_atp_tub_seed1_model_0",
           "352L"
          ],
          [
           "fold_e_atp_tub_seed1_model_0",
           "434N"
          ],
          [
           "fold_e_atp_tub_seed1_model_0",
           "436N"
          ],
          [
           "fold_e_atp_tub_seed1_model_0",
           "363K"
          ],
          [
           "fold_e_atp_tub_seed1_model_0",
           "366I"
          ],
          [
           "fold_e_atp_tub_seed1_model_0",
           "358E"
          ],
          [
           "fold_e_atp_tub_seed1_model_0",
           "370E"
          ],
          [
           "fold_e_atp_tub_seed1_model_0",
           "366I"
          ],
          [
           "fold_e_atp_tub_seed1_model_0",
           "375V"
          ],
          [
           "fold_e_atp_tub_seed1_model_0",
           "365Y"
          ],
          [
           "fold_e_atp_tub_seed1_model_0",
           "373S"
          ],
          [
           "fold_e_atp_tub_seed1_model_0",
           "369L"
          ],
          [
           "fold_e_atp_tub_seed1_model_0",
           "127Y"
          ],
          [
           "fold_e_atp_tub_seed1_model_0",
           "181S"
          ],
          [
           "fold_e_atp_tub_seed1_model_0",
           "180V"
          ],
          [
           "fold_e_atp_tub_seed1_model_0",
           "179F"
          ],
          [
           "fold_e_atp_tub_seed1_model_0",
           "502N"
          ],
          [
           "fold_e_atp_tub_seed1_model_0",
           "462K"
          ],
          [
           "fold_e_atp_tub_seed1_model_0",
           "455L"
          ],
          [
           "fold_e_atp_tub_seed1_model_0",
           "452D"
          ],
          [
           "fold_e_atp_tub_seed1_model_0",
           "452D"
          ],
          [
           "fold_e_atp_tub_seed1_model_0",
           "452D"
          ],
          [
           "fold_e_atp_tub_seed1_model_0",
           "447P"
          ],
          [
           "fold_e_atp_tub_seed1_model_0",
           "444V"
          ],
          [
           "fold_e_atp_tub_seed1_model_0",
           "467E"
          ],
          [
           "fold_e_atp_tub_seed1_model_0",
           "463C"
          ],
          [
           "fold_e_atp_tub_seed1_model_0",
           "470L"
          ],
          [
           "fold_e_atp_tub_seed1_model_0",
           "462K"
          ],
          [
           "fold_e_atp_tub_seed1_model_0",
           "470L"
          ],
          [
           "fold_e_atp_tub_seed1_model_0",
           "466L"
          ],
          [
           "fold_e_atp_tub_seed1_model_0",
           "474E"
          ],
          [
           "fold_e_atp_tub_seed1_model_0",
           "473K"
          ],
          [
           "fold_e_atp_tub_seed1_model_0",
           "477K"
          ],
          [
           "fold_e_atp_tub_seed1_model_0",
           "476E"
          ],
          [
           "fold_e_atp_tub_seed1_model_0",
           "168R"
          ],
          [
           "fold_e_atp_tub_seed1_model_0",
           "168R"
          ],
          [
           "fold_e_atp_tub_seed1_model_0",
           "484L"
          ],
          [
           "fold_e_atp_tub_seed1_model_0",
           "164E"
          ],
          [
           "fold_e_atp_tub_seed1_model_0",
           "166K"
          ],
          [
           "fold_e_atp_tub_seed1_model_0",
           "487Q"
          ],
          [
           "fold_e_atp_tub_seed1_model_0",
           "164E"
          ],
          [
           "fold_e_atp_tub_seed1_model_0",
           "484L"
          ],
          [
           "fold_e_atp_tub_seed1_model_0",
           "487Q"
          ],
          [
           "fold_e_atp_tub_seed1_model_0",
           "163H"
          ],
          [
           "fold_e_atp_tub_seed1_model_0",
           "491I"
          ],
          [
           "fold_e_atp_tub_seed1_model_0",
           "494K"
          ],
          [
           "fold_e_atp_tub_seed1_model_0",
           "173K"
          ],
          [
           "fold_e_atp_tub_seed1_model_0",
           "495D"
          ],
          [
           "fold_e_atp_tub_seed1_model_0",
           "494K"
          ],
          [
           "fold_e_atp_tub_seed1_model_0",
           "497E"
          ],
          [
           "fold_e_atp_tub_seed1_model_0",
           "505I"
          ],
          [
           "fold_e_atp_tub_seed1_model_0",
           "501L"
          ],
          [
           "fold_e_atp_tub_seed1_model_0",
           "501L"
          ],
          [
           "fold_e_atp_tub_seed1_model_0",
           "508S"
          ],
          [
           "fold_e_atp_tub_seed1_model_0",
           "512N"
          ],
          [
           "fold_e_atp_tub_seed1_model_0",
           "511I"
          ],
          [
           "fold_e_atp_tub_seed1_model_0",
           "515Y"
          ],
          [
           "fold_e_atp_tub_seed1_model_0",
           "514L"
          ],
          [
           "fold_e_atp_tub_seed1_model_0",
           "518S"
          ],
          [
           "fold_e_atp_tub_seed1_model_0",
           "518S"
          ],
          [
           "fold_e_atp_tub_seed1_model_0",
           "522N"
          ],
          [
           "fold_e_atp_tub_seed1_model_0",
           "522N"
          ],
          [
           "fold_e_atp_tub_seed1_model_0",
           "522N"
          ],
          [
           "fold_e_atp_tub_seed1_model_0",
           "525L"
          ],
          [
           "fold_e_atp_tub_seed1_model_0",
           "529L"
          ],
          [
           "fold_e_atp_tub_seed1_model_0",
           "529L"
          ],
          [
           "fold_e_atp_tub_seed1_model_0",
           "533K"
          ],
          [
           "fold_e_atp_tub_seed1_model_0",
           "532L"
          ],
          [
           "fold_e_atp_tub_seed1_model_0",
           "536L"
          ],
          [
           "fold_e_atp_tub_seed1_model_0",
           "535A"
          ],
          [
           "fold_e_atp_tub_seed1_model_0",
           "539S"
          ],
          [
           "fold_e_atp_tub_seed1_model_0",
           "539S"
          ],
          [
           "fold_e_atp_tub_seed1_model_0",
           "546Q"
          ],
          [
           "fold_e_atp_tub_seed1_model_0",
           "543A"
          ],
          [
           "fold_e_atp_tub_seed1_model_0",
           "550I"
          ],
          [
           "fold_e_atp_tub_seed1_model_0",
           "554N"
          ],
          [
           "fold_e_atp_tub_seed1_model_0",
           "553L"
          ],
          [
           "fold_e_atp_tub_seed1_model_0",
           "561K"
          ],
          [
           "fold_e_atp_tub_seed1_model_0",
           "557N"
          ],
          [
           "fold_e_atp_tub_seed1_model_0",
           "557N"
          ],
          [
           "fold_e_atp_tub_seed1_model_0",
           "556E"
          ],
          [
           "fold_e_atp_tub_seed1_model_0",
           "571I"
          ],
          [
           "fold_e_atp_tub_seed1_model_0",
           "582L"
          ],
          [
           "fold_e_atp_tub_seed1_model_0",
           "567L"
          ],
          [
           "fold_e_atp_tub_seed1_model_0",
           "576D"
          ],
          [
           "fold_e_atp_tub_seed1_model_0",
           "579I"
          ],
          [
           "fold_e_atp_tub_seed1_model_0",
           "570R"
          ]
         ],
         "hovertemplate": "Interacting Chain=kinesin B<br>Residue (Number and Identity)=%{x}<br>Distance (angstroms)=%{y}<br>text=%{text}<br>file=%{customdata[0]}<br>interacting_label=%{customdata[1]}<extra></extra>",
         "legendgroup": "kinesin B",
         "marker": {
          "color": "#ab63fa",
          "opacity": 0.6,
          "size": 10,
          "symbol": "circle"
         },
         "mode": "markers+text",
         "name": "kinesin B",
         "orientation": "v",
         "showlegend": true,
         "text": [
          "352L",
          "434N",
          "436N",
          "363K",
          "366I",
          "358E",
          "370E",
          "366I",
          "375V",
          "365Y",
          "373S",
          "369L",
          "127Y",
          "181S",
          "180V",
          "179F",
          "502N",
          "462K",
          "455L",
          "452D",
          "452D",
          "452D",
          "447P",
          "444V",
          "467E",
          "463C",
          "470L",
          "462K",
          "470L",
          "466L",
          "474E",
          "473K",
          "477K",
          "476E",
          "168R",
          "168R",
          "484L",
          "164E",
          "166K",
          "487Q",
          "164E",
          "484L",
          "487Q",
          "163H",
          "491I",
          "494K",
          "173K",
          "495D",
          "494K",
          "497E",
          "505I",
          "501L",
          "501L",
          "508S",
          "512N",
          "511I",
          "515Y",
          "514L",
          "518S",
          "518S",
          "522N",
          "522N",
          "522N",
          "525L",
          "529L",
          "529L",
          "533K",
          "532L",
          "536L",
          "535A",
          "539S",
          "539S",
          "546Q",
          "543A",
          "550I",
          "554N",
          "553L",
          "561K",
          "557N",
          "557N",
          "556E",
          "571I",
          "582L",
          "567L",
          "576D",
          "579I",
          "570R"
         ],
         "textposition": "top center",
         "type": "scatter",
         "x": [
          "343R",
          "346A",
          "350I",
          "358E",
          "362L",
          "363K",
          "365Y",
          "366I",
          "369L",
          "370E",
          "373S",
          "375V",
          "410S",
          "412L",
          "414N",
          "417N",
          "419T",
          "442T",
          "444V",
          "447P",
          "448T",
          "449S",
          "452D",
          "455L",
          "462K",
          "463C",
          "466L",
          "467E",
          "469Q",
          "470L",
          "473K",
          "474E",
          "476E",
          "477K",
          "478K",
          "479E",
          "480I",
          "482E",
          "483Q",
          "484L",
          "486Q",
          "487Q",
          "488Q",
          "489E",
          "490Q",
          "491I",
          "493D",
          "494K",
          "495D",
          "498I",
          "501L",
          "502N",
          "505I",
          "508S",
          "511I",
          "512N",
          "514L",
          "515Y",
          "518S",
          "519T",
          "521E",
          "522N",
          "525L",
          "526N",
          "528Q",
          "529L",
          "532L",
          "533K",
          "535A",
          "536L",
          "539S",
          "540R",
          "543A",
          "546Q",
          "550I",
          "553L",
          "554N",
          "556E",
          "557N",
          "560I",
          "561K",
          "567L",
          "570R",
          "571I",
          "576D",
          "579I",
          "582L"
         ],
         "xaxis": "x",
         "y": [
          3.4465842247009277,
          2.8396999835968018,
          2.8876588344573975,
          2.8093278408050537,
          3.2901999950408936,
          2.733107089996338,
          3.0287373065948486,
          3.3174901008605957,
          3.0994670391082764,
          3.1663527488708496,
          3.301920175552368,
          3.102061033248902,
          2.769427537918091,
          2.677791118621826,
          1.9963030815124512,
          3.1703574657440186,
          3.464461326599121,
          3.318758964538574,
          2.7065441608428955,
          2.5183475017547607,
          2.9993491172790527,
          2.9479453563690186,
          2.41400408744812,
          2.279536247253418,
          2.956246852874756,
          3.069061517715454,
          3.3601837158203125,
          2.751376152038574,
          3.4237070083618164,
          3.160676956176758,
          2.329824686050415,
          2.135064601898194,
          2.602710247039795,
          2.494206666946411,
          1.655656099319458,
          2.555856943130493,
          2.7976651191711426,
          2.210639715194702,
          1.524584174156189,
          2.627446413040161,
          0.4641919434070587,
          2.7171730995178223,
          2.815976142883301,
          3.0130646228790283,
          3.2626805305480957,
          2.6778368949890137,
          2.550476551055908,
          2.349717140197754,
          2.5176098346710205,
          3.183561086654663,
          2.9373767375946045,
          2.9796030521392822,
          2.7538654804229736,
          2.8576104640960693,
          3.421818971633911,
          3.193009614944458,
          3.2460222244262695,
          3.2209901809692383,
          2.808562994003296,
          3.39302134513855,
          3.377073049545288,
          2.4978554248809814,
          2.8261241912841797,
          2.6191630363464355,
          3.477853298187256,
          3.194706439971924,
          3.493542194366455,
          3.4650471210479736,
          3.127368211746216,
          3.169499158859253,
          2.82503080368042,
          3.165741205215454,
          2.3739094734191895,
          2.4929895401000977,
          3.4231226444244385,
          3.122178077697754,
          3.1834709644317627,
          2.756591320037842,
          2.4945485591888428,
          3.317167282104492,
          2.750396490097046,
          3.2635066509246826,
          2.515754222869873,
          3.4375507831573486,
          3.370548963546753,
          2.2551543712615967,
          2.7249579429626465
         ],
         "yaxis": "y"
        }
       ],
       "layout": {
        "legend": {
         "title": {
          "text": "Interacting Chain"
         },
         "tracegroupgap": 0
        },
        "template": {
         "data": {
          "bar": [
           {
            "error_x": {
             "color": "#2a3f5f"
            },
            "error_y": {
             "color": "#2a3f5f"
            },
            "marker": {
             "line": {
              "color": "#E5ECF6",
              "width": 0.5
             },
             "pattern": {
              "fillmode": "overlay",
              "size": 10,
              "solidity": 0.2
             }
            },
            "type": "bar"
           }
          ],
          "barpolar": [
           {
            "marker": {
             "line": {
              "color": "#E5ECF6",
              "width": 0.5
             },
             "pattern": {
              "fillmode": "overlay",
              "size": 10,
              "solidity": 0.2
             }
            },
            "type": "barpolar"
           }
          ],
          "carpet": [
           {
            "aaxis": {
             "endlinecolor": "#2a3f5f",
             "gridcolor": "white",
             "linecolor": "white",
             "minorgridcolor": "white",
             "startlinecolor": "#2a3f5f"
            },
            "baxis": {
             "endlinecolor": "#2a3f5f",
             "gridcolor": "white",
             "linecolor": "white",
             "minorgridcolor": "white",
             "startlinecolor": "#2a3f5f"
            },
            "type": "carpet"
           }
          ],
          "choropleth": [
           {
            "colorbar": {
             "outlinewidth": 0,
             "ticks": ""
            },
            "type": "choropleth"
           }
          ],
          "contour": [
           {
            "colorbar": {
             "outlinewidth": 0,
             "ticks": ""
            },
            "colorscale": [
             [
              0,
              "#0d0887"
             ],
             [
              0.1111111111111111,
              "#46039f"
             ],
             [
              0.2222222222222222,
              "#7201a8"
             ],
             [
              0.3333333333333333,
              "#9c179e"
             ],
             [
              0.4444444444444444,
              "#bd3786"
             ],
             [
              0.5555555555555556,
              "#d8576b"
             ],
             [
              0.6666666666666666,
              "#ed7953"
             ],
             [
              0.7777777777777778,
              "#fb9f3a"
             ],
             [
              0.8888888888888888,
              "#fdca26"
             ],
             [
              1,
              "#f0f921"
             ]
            ],
            "type": "contour"
           }
          ],
          "contourcarpet": [
           {
            "colorbar": {
             "outlinewidth": 0,
             "ticks": ""
            },
            "type": "contourcarpet"
           }
          ],
          "heatmap": [
           {
            "colorbar": {
             "outlinewidth": 0,
             "ticks": ""
            },
            "colorscale": [
             [
              0,
              "#0d0887"
             ],
             [
              0.1111111111111111,
              "#46039f"
             ],
             [
              0.2222222222222222,
              "#7201a8"
             ],
             [
              0.3333333333333333,
              "#9c179e"
             ],
             [
              0.4444444444444444,
              "#bd3786"
             ],
             [
              0.5555555555555556,
              "#d8576b"
             ],
             [
              0.6666666666666666,
              "#ed7953"
             ],
             [
              0.7777777777777778,
              "#fb9f3a"
             ],
             [
              0.8888888888888888,
              "#fdca26"
             ],
             [
              1,
              "#f0f921"
             ]
            ],
            "type": "heatmap"
           }
          ],
          "heatmapgl": [
           {
            "colorbar": {
             "outlinewidth": 0,
             "ticks": ""
            },
            "colorscale": [
             [
              0,
              "#0d0887"
             ],
             [
              0.1111111111111111,
              "#46039f"
             ],
             [
              0.2222222222222222,
              "#7201a8"
             ],
             [
              0.3333333333333333,
              "#9c179e"
             ],
             [
              0.4444444444444444,
              "#bd3786"
             ],
             [
              0.5555555555555556,
              "#d8576b"
             ],
             [
              0.6666666666666666,
              "#ed7953"
             ],
             [
              0.7777777777777778,
              "#fb9f3a"
             ],
             [
              0.8888888888888888,
              "#fdca26"
             ],
             [
              1,
              "#f0f921"
             ]
            ],
            "type": "heatmapgl"
           }
          ],
          "histogram": [
           {
            "marker": {
             "pattern": {
              "fillmode": "overlay",
              "size": 10,
              "solidity": 0.2
             }
            },
            "type": "histogram"
           }
          ],
          "histogram2d": [
           {
            "colorbar": {
             "outlinewidth": 0,
             "ticks": ""
            },
            "colorscale": [
             [
              0,
              "#0d0887"
             ],
             [
              0.1111111111111111,
              "#46039f"
             ],
             [
              0.2222222222222222,
              "#7201a8"
             ],
             [
              0.3333333333333333,
              "#9c179e"
             ],
             [
              0.4444444444444444,
              "#bd3786"
             ],
             [
              0.5555555555555556,
              "#d8576b"
             ],
             [
              0.6666666666666666,
              "#ed7953"
             ],
             [
              0.7777777777777778,
              "#fb9f3a"
             ],
             [
              0.8888888888888888,
              "#fdca26"
             ],
             [
              1,
              "#f0f921"
             ]
            ],
            "type": "histogram2d"
           }
          ],
          "histogram2dcontour": [
           {
            "colorbar": {
             "outlinewidth": 0,
             "ticks": ""
            },
            "colorscale": [
             [
              0,
              "#0d0887"
             ],
             [
              0.1111111111111111,
              "#46039f"
             ],
             [
              0.2222222222222222,
              "#7201a8"
             ],
             [
              0.3333333333333333,
              "#9c179e"
             ],
             [
              0.4444444444444444,
              "#bd3786"
             ],
             [
              0.5555555555555556,
              "#d8576b"
             ],
             [
              0.6666666666666666,
              "#ed7953"
             ],
             [
              0.7777777777777778,
              "#fb9f3a"
             ],
             [
              0.8888888888888888,
              "#fdca26"
             ],
             [
              1,
              "#f0f921"
             ]
            ],
            "type": "histogram2dcontour"
           }
          ],
          "mesh3d": [
           {
            "colorbar": {
             "outlinewidth": 0,
             "ticks": ""
            },
            "type": "mesh3d"
           }
          ],
          "parcoords": [
           {
            "line": {
             "colorbar": {
              "outlinewidth": 0,
              "ticks": ""
             }
            },
            "type": "parcoords"
           }
          ],
          "pie": [
           {
            "automargin": true,
            "type": "pie"
           }
          ],
          "scatter": [
           {
            "fillpattern": {
             "fillmode": "overlay",
             "size": 10,
             "solidity": 0.2
            },
            "type": "scatter"
           }
          ],
          "scatter3d": [
           {
            "line": {
             "colorbar": {
              "outlinewidth": 0,
              "ticks": ""
             }
            },
            "marker": {
             "colorbar": {
              "outlinewidth": 0,
              "ticks": ""
             }
            },
            "type": "scatter3d"
           }
          ],
          "scattercarpet": [
           {
            "marker": {
             "colorbar": {
              "outlinewidth": 0,
              "ticks": ""
             }
            },
            "type": "scattercarpet"
           }
          ],
          "scattergeo": [
           {
            "marker": {
             "colorbar": {
              "outlinewidth": 0,
              "ticks": ""
             }
            },
            "type": "scattergeo"
           }
          ],
          "scattergl": [
           {
            "marker": {
             "colorbar": {
              "outlinewidth": 0,
              "ticks": ""
             }
            },
            "type": "scattergl"
           }
          ],
          "scattermapbox": [
           {
            "marker": {
             "colorbar": {
              "outlinewidth": 0,
              "ticks": ""
             }
            },
            "type": "scattermapbox"
           }
          ],
          "scatterpolar": [
           {
            "marker": {
             "colorbar": {
              "outlinewidth": 0,
              "ticks": ""
             }
            },
            "type": "scatterpolar"
           }
          ],
          "scatterpolargl": [
           {
            "marker": {
             "colorbar": {
              "outlinewidth": 0,
              "ticks": ""
             }
            },
            "type": "scatterpolargl"
           }
          ],
          "scatterternary": [
           {
            "marker": {
             "colorbar": {
              "outlinewidth": 0,
              "ticks": ""
             }
            },
            "type": "scatterternary"
           }
          ],
          "surface": [
           {
            "colorbar": {
             "outlinewidth": 0,
             "ticks": ""
            },
            "colorscale": [
             [
              0,
              "#0d0887"
             ],
             [
              0.1111111111111111,
              "#46039f"
             ],
             [
              0.2222222222222222,
              "#7201a8"
             ],
             [
              0.3333333333333333,
              "#9c179e"
             ],
             [
              0.4444444444444444,
              "#bd3786"
             ],
             [
              0.5555555555555556,
              "#d8576b"
             ],
             [
              0.6666666666666666,
              "#ed7953"
             ],
             [
              0.7777777777777778,
              "#fb9f3a"
             ],
             [
              0.8888888888888888,
              "#fdca26"
             ],
             [
              1,
              "#f0f921"
             ]
            ],
            "type": "surface"
           }
          ],
          "table": [
           {
            "cells": {
             "fill": {
              "color": "#EBF0F8"
             },
             "line": {
              "color": "white"
             }
            },
            "header": {
             "fill": {
              "color": "#C8D4E3"
             },
             "line": {
              "color": "white"
             }
            },
            "type": "table"
           }
          ]
         },
         "layout": {
          "annotationdefaults": {
           "arrowcolor": "#2a3f5f",
           "arrowhead": 0,
           "arrowwidth": 1
          },
          "autotypenumbers": "strict",
          "coloraxis": {
           "colorbar": {
            "outlinewidth": 0,
            "ticks": ""
           }
          },
          "colorscale": {
           "diverging": [
            [
             0,
             "#8e0152"
            ],
            [
             0.1,
             "#c51b7d"
            ],
            [
             0.2,
             "#de77ae"
            ],
            [
             0.3,
             "#f1b6da"
            ],
            [
             0.4,
             "#fde0ef"
            ],
            [
             0.5,
             "#f7f7f7"
            ],
            [
             0.6,
             "#e6f5d0"
            ],
            [
             0.7,
             "#b8e186"
            ],
            [
             0.8,
             "#7fbc41"
            ],
            [
             0.9,
             "#4d9221"
            ],
            [
             1,
             "#276419"
            ]
           ],
           "sequential": [
            [
             0,
             "#0d0887"
            ],
            [
             0.1111111111111111,
             "#46039f"
            ],
            [
             0.2222222222222222,
             "#7201a8"
            ],
            [
             0.3333333333333333,
             "#9c179e"
            ],
            [
             0.4444444444444444,
             "#bd3786"
            ],
            [
             0.5555555555555556,
             "#d8576b"
            ],
            [
             0.6666666666666666,
             "#ed7953"
            ],
            [
             0.7777777777777778,
             "#fb9f3a"
            ],
            [
             0.8888888888888888,
             "#fdca26"
            ],
            [
             1,
             "#f0f921"
            ]
           ],
           "sequentialminus": [
            [
             0,
             "#0d0887"
            ],
            [
             0.1111111111111111,
             "#46039f"
            ],
            [
             0.2222222222222222,
             "#7201a8"
            ],
            [
             0.3333333333333333,
             "#9c179e"
            ],
            [
             0.4444444444444444,
             "#bd3786"
            ],
            [
             0.5555555555555556,
             "#d8576b"
            ],
            [
             0.6666666666666666,
             "#ed7953"
            ],
            [
             0.7777777777777778,
             "#fb9f3a"
            ],
            [
             0.8888888888888888,
             "#fdca26"
            ],
            [
             1,
             "#f0f921"
            ]
           ]
          },
          "colorway": [
           "#636efa",
           "#EF553B",
           "#00cc96",
           "#ab63fa",
           "#FFA15A",
           "#19d3f3",
           "#FF6692",
           "#B6E880",
           "#FF97FF",
           "#FECB52"
          ],
          "font": {
           "color": "#2a3f5f"
          },
          "geo": {
           "bgcolor": "white",
           "lakecolor": "white",
           "landcolor": "#E5ECF6",
           "showlakes": true,
           "showland": true,
           "subunitcolor": "white"
          },
          "hoverlabel": {
           "align": "left"
          },
          "hovermode": "closest",
          "mapbox": {
           "style": "light"
          },
          "paper_bgcolor": "white",
          "plot_bgcolor": "#E5ECF6",
          "polar": {
           "angularaxis": {
            "gridcolor": "white",
            "linecolor": "white",
            "ticks": ""
           },
           "bgcolor": "#E5ECF6",
           "radialaxis": {
            "gridcolor": "white",
            "linecolor": "white",
            "ticks": ""
           }
          },
          "scene": {
           "xaxis": {
            "backgroundcolor": "#E5ECF6",
            "gridcolor": "white",
            "gridwidth": 2,
            "linecolor": "white",
            "showbackground": true,
            "ticks": "",
            "zerolinecolor": "white"
           },
           "yaxis": {
            "backgroundcolor": "#E5ECF6",
            "gridcolor": "white",
            "gridwidth": 2,
            "linecolor": "white",
            "showbackground": true,
            "ticks": "",
            "zerolinecolor": "white"
           },
           "zaxis": {
            "backgroundcolor": "#E5ECF6",
            "gridcolor": "white",
            "gridwidth": 2,
            "linecolor": "white",
            "showbackground": true,
            "ticks": "",
            "zerolinecolor": "white"
           }
          },
          "shapedefaults": {
           "line": {
            "color": "#2a3f5f"
           }
          },
          "ternary": {
           "aaxis": {
            "gridcolor": "white",
            "linecolor": "white",
            "ticks": ""
           },
           "baxis": {
            "gridcolor": "white",
            "linecolor": "white",
            "ticks": ""
           },
           "bgcolor": "#E5ECF6",
           "caxis": {
            "gridcolor": "white",
            "linecolor": "white",
            "ticks": ""
           }
          },
          "title": {
           "x": 0.05
          },
          "xaxis": {
           "automargin": true,
           "gridcolor": "white",
           "linecolor": "white",
           "ticks": "",
           "title": {
            "standoff": 15
           },
           "zerolinecolor": "white",
           "zerolinewidth": 2
          },
          "yaxis": {
           "automargin": true,
           "gridcolor": "white",
           "linecolor": "white",
           "ticks": "",
           "title": {
            "standoff": 15
           },
           "zerolinecolor": "white",
           "zerolinewidth": 2
          }
         }
        },
        "title": {
         "text": "Interaction Distances for fold_e_atp_tub_seed1_model_0 by Residue and Interacting Chain"
        },
        "xaxis": {
         "anchor": "y",
         "categoryarray": [
          "51K",
          "94T",
          "95S",
          "96S",
          "97G",
          "98K",
          "99T",
          "100H",
          "148K",
          "159N",
          "163H",
          "164E",
          "165D",
          "205N",
          "208S",
          "209S",
          "241G",
          "242S",
          "244K",
          "245V",
          "250A",
          "251E",
          "259K",
          "262N",
          "263K",
          "266S",
          "280K",
          "282H",
          "286R",
          "287D",
          "328R",
          "343R",
          "346A",
          "350I",
          "358E",
          "362L",
          "363K",
          "365Y",
          "366I",
          "369L",
          "370E",
          "373S",
          "375V",
          "410S",
          "412L",
          "414N",
          "417N",
          "419T",
          "442T",
          "444V",
          "447P",
          "448T",
          "449S",
          "452D",
          "455L",
          "462K",
          "463C",
          "466L",
          "467E",
          "469Q",
          "470L",
          "473K",
          "474E",
          "476E",
          "477K",
          "478K",
          "479E",
          "480I",
          "482E",
          "483Q",
          "484L",
          "486Q",
          "487Q",
          "488Q",
          "489E",
          "490Q",
          "491I",
          "493D",
          "494K",
          "495D",
          "498I",
          "501L",
          "502N",
          "505I",
          "508S",
          "511I",
          "512N",
          "514L",
          "515Y",
          "518S",
          "519T",
          "521E",
          "522N",
          "525L",
          "526N",
          "528Q",
          "529L",
          "530S",
          "532L",
          "533K",
          "534L",
          "535A",
          "536L",
          "537E",
          "538K",
          "539S",
          "540R",
          "541F",
          "543A",
          "545E",
          "546Q",
          "548L",
          "550I",
          "553L",
          "554N",
          "556E",
          "557N",
          "560I",
          "561K",
          "567L",
          "570R",
          "571I",
          "576D",
          "579I",
          "582L"
         ],
         "categoryorder": "array",
         "domain": [
          0,
          1
         ],
         "title": {
          "text": "Residue (Number and Identity)"
         }
        },
        "yaxis": {
         "anchor": "x",
         "domain": [
          0,
          1
         ],
         "title": {
          "text": "Distance (angstroms)"
         }
        }
       }
      }
     },
     "metadata": {},
     "output_type": "display_data"
    },
    {
     "name": "stderr",
     "output_type": "stream",
     "text": [
      "/var/folders/08/7vm2c9d11xvc7s0rf383rd480000gn/T/ipykernel_57000/2424036903.py:54: SettingWithCopyWarning:\n",
      "\n",
      "\n",
      "A value is trying to be set on a copy of a slice from a DataFrame.\n",
      "Try using .loc[row_indexer,col_indexer] = value instead\n",
      "\n",
      "See the caveats in the documentation: https://pandas.pydata.org/pandas-docs/stable/user_guide/indexing.html#returning-a-view-versus-a-copy\n",
      "\n"
     ]
    },
    {
     "data": {
      "application/vnd.plotly.v1+json": {
       "config": {
        "plotlyServerURL": "https://plot.ly"
       },
       "data": [
        {
         "customdata": [
          [
           "fold_f_atp_tub_seed1_model_0",
           "1?"
          ],
          [
           "fold_f_atp_tub_seed1_model_0",
           "1?"
          ],
          [
           "fold_f_atp_tub_seed1_model_0",
           "1?"
          ],
          [
           "fold_f_atp_tub_seed1_model_0",
           "1?"
          ],
          [
           "fold_f_atp_tub_seed1_model_0",
           "1?"
          ],
          [
           "fold_f_atp_tub_seed1_model_0",
           "1?"
          ],
          [
           "fold_f_atp_tub_seed1_model_0",
           "1?"
          ],
          [
           "fold_f_atp_tub_seed1_model_0",
           "1?"
          ],
          [
           "fold_f_atp_tub_seed1_model_0",
           "1?"
          ],
          [
           "fold_f_atp_tub_seed1_model_0",
           "1?"
          ],
          [
           "fold_f_atp_tub_seed1_model_0",
           "1?"
          ]
         ],
         "hovertemplate": "Interacting Chain=ATP<br>Residue (Number and Identity)=%{x}<br>Distance (angstroms)=%{y}<br>text=%{text}<br>file=%{customdata[0]}<br>interacting_label=%{customdata[1]}<extra></extra>",
         "legendgroup": "ATP",
         "marker": {
          "color": "#636efa",
          "opacity": 0.6,
          "size": 10,
          "symbol": "circle"
         },
         "mode": "markers+text",
         "name": "ATP",
         "orientation": "v",
         "showlegend": true,
         "text": [
          "1?",
          "1?",
          "1?",
          "1?",
          "1?",
          "1?",
          "1?",
          "1?",
          "1?",
          "1?",
          "1?"
         ],
         "textposition": "top center",
         "type": "scatter",
         "x": [
          "87T",
          "88G",
          "89S",
          "90G",
          "91K",
          "92T",
          "93F",
          "201N",
          "204S",
          "205S",
          "237G"
         ],
         "xaxis": "x",
         "y": [
          2.542696952819824,
          2.785813331604004,
          3.339068651199341,
          2.9566404819488525,
          2.72760272026062,
          2.7561256885528564,
          2.7563605308532715,
          2.9401934146881104,
          3.0313405990600586,
          2.9123504161834717,
          2.9134490489959717
         ],
         "yaxis": "y"
        },
        {
         "customdata": [
          [
           "fold_f_atp_tub_seed1_model_0",
           "157E"
          ],
          [
           "fold_f_atp_tub_seed1_model_0",
           "407E"
          ],
          [
           "fold_f_atp_tub_seed1_model_0",
           "410E"
          ],
          [
           "fold_f_atp_tub_seed1_model_0",
           "410E"
          ],
          [
           "fold_f_atp_tub_seed1_model_0",
           "424Q"
          ],
          [
           "fold_f_atp_tub_seed1_model_0",
           "417D"
          ],
          [
           "fold_f_atp_tub_seed1_model_0",
           "262R"
          ],
          [
           "fold_f_atp_tub_seed1_model_0",
           "194E"
          ],
          [
           "fold_f_atp_tub_seed1_model_0",
           "440E"
          ]
         ],
         "hovertemplate": "Interacting Chain=beta-tubulin<br>Residue (Number and Identity)=%{x}<br>Distance (angstroms)=%{y}<br>text=%{text}<br>file=%{customdata[0]}<br>interacting_label=%{customdata[1]}<extra></extra>",
         "legendgroup": "beta-tubulin",
         "marker": {
          "color": "#EF553B",
          "opacity": 0.6,
          "size": 10,
          "symbol": "circle"
         },
         "mode": "markers+text",
         "name": "beta-tubulin",
         "orientation": "v",
         "showlegend": true,
         "text": [
          "157E",
          "407E",
          "410E",
          "410E",
          "424Q",
          "417D",
          "262R",
          "194E",
          "440E"
         ],
         "textposition": "top center",
         "type": "scatter",
         "x": [
          "144R",
          "157K",
          "158V",
          "159R",
          "278H",
          "282R",
          "283D",
          "285K",
          "324R"
         ],
         "xaxis": "x",
         "y": [
          2.659912109375,
          3.442375659942627,
          2.159226417541504,
          2.827061414718628,
          2.5261716842651367,
          2.3471994400024414,
          3.24949312210083,
          3.3346869945526123,
          2.4401464462280273
         ],
         "yaxis": "y"
        },
        {
         "customdata": [
          [
           "fold_f_atp_tub_seed1_model_0",
           "420E"
          ],
          [
           "fold_f_atp_tub_seed1_model_0",
           "412G"
          ],
          [
           "fold_f_atp_tub_seed1_model_0",
           "410G"
          ],
          [
           "fold_f_atp_tub_seed1_model_0",
           "409V"
          ],
          [
           "fold_f_atp_tub_seed1_model_0",
           "409V"
          ],
          [
           "fold_f_atp_tub_seed1_model_0",
           "415E"
          ],
          [
           "fold_f_atp_tub_seed1_model_0",
           "402R"
          ],
          [
           "fold_f_atp_tub_seed1_model_0",
           "420E"
          ],
          [
           "fold_f_atp_tub_seed1_model_0",
           "423E"
          ]
         ],
         "hovertemplate": "Interacting Chain=alpha-tubulin<br>Residue (Number and Identity)=%{x}<br>Distance (angstroms)=%{y}<br>text=%{text}<br>file=%{customdata[0]}<br>interacting_label=%{customdata[1]}<extra></extra>",
         "legendgroup": "alpha-tubulin",
         "marker": {
          "color": "#00cc96",
          "opacity": 0.6,
          "size": 10,
          "symbol": "circle"
         },
         "mode": "markers+text",
         "name": "alpha-tubulin",
         "orientation": "v",
         "showlegend": true,
         "text": [
          "420E",
          "412G",
          "410G",
          "409V",
          "409V",
          "415E",
          "402R",
          "420E",
          "423E"
         ],
         "textposition": "top center",
         "type": "scatter",
         "x": [
          "240K",
          "241V",
          "255K",
          "258N",
          "259K",
          "262S",
          "266N",
          "314S",
          "317K"
         ],
         "xaxis": "x",
         "y": [
          2.581639289855957,
          3.096024751663208,
          3.244494676589966,
          3.4647717475891113,
          3.361392021179199,
          2.327378273010254,
          3.253309965133667,
          3.3999710083007812,
          2.7135536670684814
         ],
         "yaxis": "y"
        },
        {
         "customdata": [
          [
           "fold_f_atp_tub_seed1_model_0",
           "344L"
          ],
          [
           "fold_f_atp_tub_seed1_model_0",
           "341A"
          ],
          [
           "fold_f_atp_tub_seed1_model_0",
           "338E"
          ],
          [
           "fold_f_atp_tub_seed1_model_0",
           "348L"
          ],
          [
           "fold_f_atp_tub_seed1_model_0",
           "347L"
          ],
          [
           "fold_f_atp_tub_seed1_model_0",
           "355I"
          ],
          [
           "fold_f_atp_tub_seed1_model_0",
           "359K"
          ],
          [
           "fold_f_atp_tub_seed1_model_0",
           "351A"
          ],
          [
           "fold_f_atp_tub_seed1_model_0",
           "162K"
          ],
          [
           "fold_f_atp_tub_seed1_model_0",
           "362I"
          ],
          [
           "fold_f_atp_tub_seed1_model_0",
           "354E"
          ],
          [
           "fold_f_atp_tub_seed1_model_0",
           "366E"
          ],
          [
           "fold_f_atp_tub_seed1_model_0",
           "358L"
          ],
          [
           "fold_f_atp_tub_seed1_model_0",
           "371V"
          ],
          [
           "fold_f_atp_tub_seed1_model_0",
           "361Y"
          ],
          [
           "fold_f_atp_tub_seed1_model_0",
           "376L"
          ],
          [
           "fold_f_atp_tub_seed1_model_0",
           "365L"
          ],
          [
           "fold_f_atp_tub_seed1_model_0",
           "461Q"
          ],
          [
           "fold_f_atp_tub_seed1_model_0",
           "461Q"
          ],
          [
           "fold_f_atp_tub_seed1_model_0",
           "457E"
          ],
          [
           "fold_f_atp_tub_seed1_model_0",
           "368V"
          ],
          [
           "fold_f_atp_tub_seed1_model_0",
           "364E"
          ],
          [
           "fold_f_atp_tub_seed1_model_0",
           "457E"
          ],
          [
           "fold_f_atp_tub_seed1_model_0",
           "448D"
          ],
          [
           "fold_f_atp_tub_seed1_model_0",
           "444T"
          ],
          [
           "fold_f_atp_tub_seed1_model_0",
           "452I"
          ],
          [
           "fold_f_atp_tub_seed1_model_0",
           "459C"
          ],
          [
           "fold_f_atp_tub_seed1_model_0",
           "463E"
          ],
          [
           "fold_f_atp_tub_seed1_model_0",
           "459C"
          ],
          [
           "fold_f_atp_tub_seed1_model_0",
           "458K"
          ],
          [
           "fold_f_atp_tub_seed1_model_0",
           "466L"
          ],
          [
           "fold_f_atp_tub_seed1_model_0",
           "466L"
          ],
          [
           "fold_f_atp_tub_seed1_model_0",
           "470E"
          ],
          [
           "fold_f_atp_tub_seed1_model_0",
           "469K"
          ],
          [
           "fold_f_atp_tub_seed1_model_0",
           "473K"
          ],
          [
           "fold_f_atp_tub_seed1_model_0",
           "472E"
          ],
          [
           "fold_f_atp_tub_seed1_model_0",
           "473K"
          ],
          [
           "fold_f_atp_tub_seed1_model_0",
           "350K"
          ],
          [
           "fold_f_atp_tub_seed1_model_0",
           "480L"
          ],
          [
           "fold_f_atp_tub_seed1_model_0",
           "483Q"
          ],
          [
           "fold_f_atp_tub_seed1_model_0",
           "347L"
          ],
          [
           "fold_f_atp_tub_seed1_model_0",
           "343E"
          ],
          [
           "fold_f_atp_tub_seed1_model_0",
           "484Q"
          ],
          [
           "fold_f_atp_tub_seed1_model_0",
           "483Q"
          ],
          [
           "fold_f_atp_tub_seed1_model_0",
           "340S"
          ],
          [
           "fold_f_atp_tub_seed1_model_0",
           "487I"
          ],
          [
           "fold_f_atp_tub_seed1_model_0",
           "490K"
          ],
          [
           "fold_f_atp_tub_seed1_model_0",
           "342A"
          ],
          [
           "fold_f_atp_tub_seed1_model_0",
           "222N"
          ],
          [
           "fold_f_atp_tub_seed1_model_0",
           "491D"
          ],
          [
           "fold_f_atp_tub_seed1_model_0",
           "490K"
          ],
          [
           "fold_f_atp_tub_seed1_model_0",
           "223Q"
          ],
          [
           "fold_f_atp_tub_seed1_model_0",
           "494I"
          ],
          [
           "fold_f_atp_tub_seed1_model_0",
           "490K"
          ],
          [
           "fold_f_atp_tub_seed1_model_0",
           "501I"
          ],
          [
           "fold_f_atp_tub_seed1_model_0",
           "497L"
          ],
          [
           "fold_f_atp_tub_seed1_model_0",
           "497L"
          ],
          [
           "fold_f_atp_tub_seed1_model_0",
           "504S"
          ],
          [
           "fold_f_atp_tub_seed1_model_0",
           "511Y"
          ],
          [
           "fold_f_atp_tub_seed1_model_0",
           "510L"
          ],
          [
           "fold_f_atp_tub_seed1_model_0",
           "514S"
          ],
          [
           "fold_f_atp_tub_seed1_model_0",
           "518N"
          ],
          [
           "fold_f_atp_tub_seed1_model_0",
           "518N"
          ],
          [
           "fold_f_atp_tub_seed1_model_0",
           "518N"
          ],
          [
           "fold_f_atp_tub_seed1_model_0",
           "521L"
          ],
          [
           "fold_f_atp_tub_seed1_model_0",
           "521L"
          ],
          [
           "fold_f_atp_tub_seed1_model_0",
           "532L"
          ],
          [
           "fold_f_atp_tub_seed1_model_0",
           "532L"
          ],
          [
           "fold_f_atp_tub_seed1_model_0",
           "535S"
          ],
          [
           "fold_f_atp_tub_seed1_model_0",
           "542Q"
          ],
          [
           "fold_f_atp_tub_seed1_model_0",
           "539A"
          ],
          [
           "fold_f_atp_tub_seed1_model_0",
           "546I"
          ],
          [
           "fold_f_atp_tub_seed1_model_0",
           "550N"
          ],
          [
           "fold_f_atp_tub_seed1_model_0",
           "549L"
          ],
          [
           "fold_f_atp_tub_seed1_model_0",
           "557K"
          ],
          [
           "fold_f_atp_tub_seed1_model_0",
           "553N"
          ],
          [
           "fold_f_atp_tub_seed1_model_0",
           "556I"
          ],
          [
           "fold_f_atp_tub_seed1_model_0",
           "552E"
          ],
          [
           "fold_f_atp_tub_seed1_model_0",
           "560L"
          ],
          [
           "fold_f_atp_tub_seed1_model_0",
           "563L"
          ],
          [
           "fold_f_atp_tub_seed1_model_0",
           "578L"
          ],
          [
           "fold_f_atp_tub_seed1_model_0",
           "575I"
          ],
          [
           "fold_f_atp_tub_seed1_model_0",
           "566R"
          ]
         ],
         "hovertemplate": "Interacting Chain=kinesin B<br>Residue (Number and Identity)=%{x}<br>Distance (angstroms)=%{y}<br>text=%{text}<br>file=%{customdata[0]}<br>interacting_label=%{customdata[1]}<extra></extra>",
         "legendgroup": "kinesin B",
         "marker": {
          "color": "#ab63fa",
          "opacity": 0.6,
          "size": 10,
          "symbol": "circle"
         },
         "mode": "markers+text",
         "name": "kinesin B",
         "orientation": "v",
         "showlegend": true,
         "text": [
          "344L",
          "341A",
          "338E",
          "348L",
          "347L",
          "355I",
          "359K",
          "351A",
          "162K",
          "362I",
          "354E",
          "366E",
          "358L",
          "371V",
          "361Y",
          "376L",
          "365L",
          "461Q",
          "461Q",
          "457E",
          "368V",
          "364E",
          "457E",
          "448D",
          "444T",
          "452I",
          "459C",
          "463E",
          "459C",
          "458K",
          "466L",
          "466L",
          "470E",
          "469K",
          "473K",
          "472E",
          "473K",
          "350K",
          "480L",
          "483Q",
          "347L",
          "343E",
          "484Q",
          "483Q",
          "340S",
          "487I",
          "490K",
          "342A",
          "222N",
          "491D",
          "490K",
          "223Q",
          "494I",
          "490K",
          "501I",
          "497L",
          "497L",
          "504S",
          "511Y",
          "510L",
          "514S",
          "518N",
          "518N",
          "518N",
          "521L",
          "521L",
          "532L",
          "532L",
          "535S",
          "542Q",
          "539A",
          "546I",
          "550N",
          "549L",
          "557K",
          "553N",
          "556I",
          "552E",
          "560L",
          "563L",
          "578L",
          "575I",
          "566R"
         ],
         "textposition": "top center",
         "type": "scatter",
         "x": [
          "341A",
          "344L",
          "345K",
          "347L",
          "348L",
          "351A",
          "354E",
          "355I",
          "356E",
          "358L",
          "359K",
          "361Y",
          "362I",
          "365L",
          "366E",
          "368V",
          "371V",
          "373V",
          "374S",
          "375N",
          "376L",
          "377K",
          "378S",
          "444T",
          "448D",
          "452I",
          "455L",
          "458K",
          "459C",
          "463E",
          "465Q",
          "466L",
          "469K",
          "470E",
          "472E",
          "473K",
          "476I",
          "477L",
          "479Q",
          "480L",
          "481E",
          "482Q",
          "483Q",
          "484Q",
          "485E",
          "486Q",
          "487I",
          "488Q",
          "489D",
          "490K",
          "491D",
          "492Q",
          "493E",
          "494I",
          "497L",
          "498N",
          "501I",
          "504S",
          "510L",
          "511Y",
          "514S",
          "517E",
          "518N",
          "521L",
          "522N",
          "525L",
          "531A",
          "532L",
          "535S",
          "539A",
          "542Q",
          "546I",
          "549L",
          "550N",
          "552E",
          "553N",
          "556I",
          "557K",
          "560L",
          "563L",
          "566R",
          "575I",
          "578L"
         ],
         "xaxis": "x",
         "y": [
          3.1672523021698,
          2.819380283355713,
          2.920363664627075,
          3.464143753051758,
          3.347780466079712,
          3.4679648876190186,
          2.7725844383239746,
          3.452316999435425,
          2.658996820449829,
          3.306603193283081,
          2.6519646644592285,
          2.6610894203186035,
          3.3148040771484375,
          2.9597132205963135,
          2.8133668899536133,
          2.686612367630005,
          3.120591878890991,
          2.082266092300415,
          1.9554407596588137,
          2.474062204360962,
          2.8292860984802246,
          3.031528949737549,
          1.7498466968536377,
          2.3830008506774902,
          2.386533737182617,
          3.423638820648194,
          3.4863955974578857,
          2.6257355213165283,
          2.997615337371826,
          2.634763479232788,
          3.2427241802215576,
          3.0442609786987305,
          2.589138984680176,
          2.580317497253418,
          2.60253643989563,
          2.68637752532959,
          2.969231605529785,
          2.3736300468444824,
          3.2871105670928955,
          2.6184844970703125,
          2.0390546321868896,
          3.227039098739624,
          2.6354708671569824,
          2.1676480770111084,
          2.177757740020752,
          3.3629465103149414,
          2.7733194828033447,
          1.8606135845184328,
          2.9420857429504395,
          2.521277904510498,
          2.564666748046875,
          3.454831123352051,
          3.366765022277832,
          3.3134779930114746,
          2.8268046379089355,
          3.2346081733703613,
          2.8658788204193115,
          2.806316375732422,
          3.3879876136779785,
          3.2813076972961426,
          2.65964412689209,
          3.446949243545532,
          2.223766326904297,
          2.9560561180114746,
          3.357943058013916,
          3.444593667984009,
          3.3830044269561768,
          3.3371646404266357,
          2.747312307357788,
          2.8122639656066895,
          2.8175299167633057,
          3.3347859382629395,
          3.18597674369812,
          3.2075884342193604,
          2.678142786026001,
          2.0269479751586914,
          3.2745745182037354,
          2.805570125579834,
          3.1412432193756104,
          3.196798801422119,
          3.00905442237854,
          2.929402112960815,
          3.235168933868408
         ],
         "yaxis": "y"
        }
       ],
       "layout": {
        "legend": {
         "title": {
          "text": "Interacting Chain"
         },
         "tracegroupgap": 0
        },
        "template": {
         "data": {
          "bar": [
           {
            "error_x": {
             "color": "#2a3f5f"
            },
            "error_y": {
             "color": "#2a3f5f"
            },
            "marker": {
             "line": {
              "color": "#E5ECF6",
              "width": 0.5
             },
             "pattern": {
              "fillmode": "overlay",
              "size": 10,
              "solidity": 0.2
             }
            },
            "type": "bar"
           }
          ],
          "barpolar": [
           {
            "marker": {
             "line": {
              "color": "#E5ECF6",
              "width": 0.5
             },
             "pattern": {
              "fillmode": "overlay",
              "size": 10,
              "solidity": 0.2
             }
            },
            "type": "barpolar"
           }
          ],
          "carpet": [
           {
            "aaxis": {
             "endlinecolor": "#2a3f5f",
             "gridcolor": "white",
             "linecolor": "white",
             "minorgridcolor": "white",
             "startlinecolor": "#2a3f5f"
            },
            "baxis": {
             "endlinecolor": "#2a3f5f",
             "gridcolor": "white",
             "linecolor": "white",
             "minorgridcolor": "white",
             "startlinecolor": "#2a3f5f"
            },
            "type": "carpet"
           }
          ],
          "choropleth": [
           {
            "colorbar": {
             "outlinewidth": 0,
             "ticks": ""
            },
            "type": "choropleth"
           }
          ],
          "contour": [
           {
            "colorbar": {
             "outlinewidth": 0,
             "ticks": ""
            },
            "colorscale": [
             [
              0,
              "#0d0887"
             ],
             [
              0.1111111111111111,
              "#46039f"
             ],
             [
              0.2222222222222222,
              "#7201a8"
             ],
             [
              0.3333333333333333,
              "#9c179e"
             ],
             [
              0.4444444444444444,
              "#bd3786"
             ],
             [
              0.5555555555555556,
              "#d8576b"
             ],
             [
              0.6666666666666666,
              "#ed7953"
             ],
             [
              0.7777777777777778,
              "#fb9f3a"
             ],
             [
              0.8888888888888888,
              "#fdca26"
             ],
             [
              1,
              "#f0f921"
             ]
            ],
            "type": "contour"
           }
          ],
          "contourcarpet": [
           {
            "colorbar": {
             "outlinewidth": 0,
             "ticks": ""
            },
            "type": "contourcarpet"
           }
          ],
          "heatmap": [
           {
            "colorbar": {
             "outlinewidth": 0,
             "ticks": ""
            },
            "colorscale": [
             [
              0,
              "#0d0887"
             ],
             [
              0.1111111111111111,
              "#46039f"
             ],
             [
              0.2222222222222222,
              "#7201a8"
             ],
             [
              0.3333333333333333,
              "#9c179e"
             ],
             [
              0.4444444444444444,
              "#bd3786"
             ],
             [
              0.5555555555555556,
              "#d8576b"
             ],
             [
              0.6666666666666666,
              "#ed7953"
             ],
             [
              0.7777777777777778,
              "#fb9f3a"
             ],
             [
              0.8888888888888888,
              "#fdca26"
             ],
             [
              1,
              "#f0f921"
             ]
            ],
            "type": "heatmap"
           }
          ],
          "heatmapgl": [
           {
            "colorbar": {
             "outlinewidth": 0,
             "ticks": ""
            },
            "colorscale": [
             [
              0,
              "#0d0887"
             ],
             [
              0.1111111111111111,
              "#46039f"
             ],
             [
              0.2222222222222222,
              "#7201a8"
             ],
             [
              0.3333333333333333,
              "#9c179e"
             ],
             [
              0.4444444444444444,
              "#bd3786"
             ],
             [
              0.5555555555555556,
              "#d8576b"
             ],
             [
              0.6666666666666666,
              "#ed7953"
             ],
             [
              0.7777777777777778,
              "#fb9f3a"
             ],
             [
              0.8888888888888888,
              "#fdca26"
             ],
             [
              1,
              "#f0f921"
             ]
            ],
            "type": "heatmapgl"
           }
          ],
          "histogram": [
           {
            "marker": {
             "pattern": {
              "fillmode": "overlay",
              "size": 10,
              "solidity": 0.2
             }
            },
            "type": "histogram"
           }
          ],
          "histogram2d": [
           {
            "colorbar": {
             "outlinewidth": 0,
             "ticks": ""
            },
            "colorscale": [
             [
              0,
              "#0d0887"
             ],
             [
              0.1111111111111111,
              "#46039f"
             ],
             [
              0.2222222222222222,
              "#7201a8"
             ],
             [
              0.3333333333333333,
              "#9c179e"
             ],
             [
              0.4444444444444444,
              "#bd3786"
             ],
             [
              0.5555555555555556,
              "#d8576b"
             ],
             [
              0.6666666666666666,
              "#ed7953"
             ],
             [
              0.7777777777777778,
              "#fb9f3a"
             ],
             [
              0.8888888888888888,
              "#fdca26"
             ],
             [
              1,
              "#f0f921"
             ]
            ],
            "type": "histogram2d"
           }
          ],
          "histogram2dcontour": [
           {
            "colorbar": {
             "outlinewidth": 0,
             "ticks": ""
            },
            "colorscale": [
             [
              0,
              "#0d0887"
             ],
             [
              0.1111111111111111,
              "#46039f"
             ],
             [
              0.2222222222222222,
              "#7201a8"
             ],
             [
              0.3333333333333333,
              "#9c179e"
             ],
             [
              0.4444444444444444,
              "#bd3786"
             ],
             [
              0.5555555555555556,
              "#d8576b"
             ],
             [
              0.6666666666666666,
              "#ed7953"
             ],
             [
              0.7777777777777778,
              "#fb9f3a"
             ],
             [
              0.8888888888888888,
              "#fdca26"
             ],
             [
              1,
              "#f0f921"
             ]
            ],
            "type": "histogram2dcontour"
           }
          ],
          "mesh3d": [
           {
            "colorbar": {
             "outlinewidth": 0,
             "ticks": ""
            },
            "type": "mesh3d"
           }
          ],
          "parcoords": [
           {
            "line": {
             "colorbar": {
              "outlinewidth": 0,
              "ticks": ""
             }
            },
            "type": "parcoords"
           }
          ],
          "pie": [
           {
            "automargin": true,
            "type": "pie"
           }
          ],
          "scatter": [
           {
            "fillpattern": {
             "fillmode": "overlay",
             "size": 10,
             "solidity": 0.2
            },
            "type": "scatter"
           }
          ],
          "scatter3d": [
           {
            "line": {
             "colorbar": {
              "outlinewidth": 0,
              "ticks": ""
             }
            },
            "marker": {
             "colorbar": {
              "outlinewidth": 0,
              "ticks": ""
             }
            },
            "type": "scatter3d"
           }
          ],
          "scattercarpet": [
           {
            "marker": {
             "colorbar": {
              "outlinewidth": 0,
              "ticks": ""
             }
            },
            "type": "scattercarpet"
           }
          ],
          "scattergeo": [
           {
            "marker": {
             "colorbar": {
              "outlinewidth": 0,
              "ticks": ""
             }
            },
            "type": "scattergeo"
           }
          ],
          "scattergl": [
           {
            "marker": {
             "colorbar": {
              "outlinewidth": 0,
              "ticks": ""
             }
            },
            "type": "scattergl"
           }
          ],
          "scattermapbox": [
           {
            "marker": {
             "colorbar": {
              "outlinewidth": 0,
              "ticks": ""
             }
            },
            "type": "scattermapbox"
           }
          ],
          "scatterpolar": [
           {
            "marker": {
             "colorbar": {
              "outlinewidth": 0,
              "ticks": ""
             }
            },
            "type": "scatterpolar"
           }
          ],
          "scatterpolargl": [
           {
            "marker": {
             "colorbar": {
              "outlinewidth": 0,
              "ticks": ""
             }
            },
            "type": "scatterpolargl"
           }
          ],
          "scatterternary": [
           {
            "marker": {
             "colorbar": {
              "outlinewidth": 0,
              "ticks": ""
             }
            },
            "type": "scatterternary"
           }
          ],
          "surface": [
           {
            "colorbar": {
             "outlinewidth": 0,
             "ticks": ""
            },
            "colorscale": [
             [
              0,
              "#0d0887"
             ],
             [
              0.1111111111111111,
              "#46039f"
             ],
             [
              0.2222222222222222,
              "#7201a8"
             ],
             [
              0.3333333333333333,
              "#9c179e"
             ],
             [
              0.4444444444444444,
              "#bd3786"
             ],
             [
              0.5555555555555556,
              "#d8576b"
             ],
             [
              0.6666666666666666,
              "#ed7953"
             ],
             [
              0.7777777777777778,
              "#fb9f3a"
             ],
             [
              0.8888888888888888,
              "#fdca26"
             ],
             [
              1,
              "#f0f921"
             ]
            ],
            "type": "surface"
           }
          ],
          "table": [
           {
            "cells": {
             "fill": {
              "color": "#EBF0F8"
             },
             "line": {
              "color": "white"
             }
            },
            "header": {
             "fill": {
              "color": "#C8D4E3"
             },
             "line": {
              "color": "white"
             }
            },
            "type": "table"
           }
          ]
         },
         "layout": {
          "annotationdefaults": {
           "arrowcolor": "#2a3f5f",
           "arrowhead": 0,
           "arrowwidth": 1
          },
          "autotypenumbers": "strict",
          "coloraxis": {
           "colorbar": {
            "outlinewidth": 0,
            "ticks": ""
           }
          },
          "colorscale": {
           "diverging": [
            [
             0,
             "#8e0152"
            ],
            [
             0.1,
             "#c51b7d"
            ],
            [
             0.2,
             "#de77ae"
            ],
            [
             0.3,
             "#f1b6da"
            ],
            [
             0.4,
             "#fde0ef"
            ],
            [
             0.5,
             "#f7f7f7"
            ],
            [
             0.6,
             "#e6f5d0"
            ],
            [
             0.7,
             "#b8e186"
            ],
            [
             0.8,
             "#7fbc41"
            ],
            [
             0.9,
             "#4d9221"
            ],
            [
             1,
             "#276419"
            ]
           ],
           "sequential": [
            [
             0,
             "#0d0887"
            ],
            [
             0.1111111111111111,
             "#46039f"
            ],
            [
             0.2222222222222222,
             "#7201a8"
            ],
            [
             0.3333333333333333,
             "#9c179e"
            ],
            [
             0.4444444444444444,
             "#bd3786"
            ],
            [
             0.5555555555555556,
             "#d8576b"
            ],
            [
             0.6666666666666666,
             "#ed7953"
            ],
            [
             0.7777777777777778,
             "#fb9f3a"
            ],
            [
             0.8888888888888888,
             "#fdca26"
            ],
            [
             1,
             "#f0f921"
            ]
           ],
           "sequentialminus": [
            [
             0,
             "#0d0887"
            ],
            [
             0.1111111111111111,
             "#46039f"
            ],
            [
             0.2222222222222222,
             "#7201a8"
            ],
            [
             0.3333333333333333,
             "#9c179e"
            ],
            [
             0.4444444444444444,
             "#bd3786"
            ],
            [
             0.5555555555555556,
             "#d8576b"
            ],
            [
             0.6666666666666666,
             "#ed7953"
            ],
            [
             0.7777777777777778,
             "#fb9f3a"
            ],
            [
             0.8888888888888888,
             "#fdca26"
            ],
            [
             1,
             "#f0f921"
            ]
           ]
          },
          "colorway": [
           "#636efa",
           "#EF553B",
           "#00cc96",
           "#ab63fa",
           "#FFA15A",
           "#19d3f3",
           "#FF6692",
           "#B6E880",
           "#FF97FF",
           "#FECB52"
          ],
          "font": {
           "color": "#2a3f5f"
          },
          "geo": {
           "bgcolor": "white",
           "lakecolor": "white",
           "landcolor": "#E5ECF6",
           "showlakes": true,
           "showland": true,
           "subunitcolor": "white"
          },
          "hoverlabel": {
           "align": "left"
          },
          "hovermode": "closest",
          "mapbox": {
           "style": "light"
          },
          "paper_bgcolor": "white",
          "plot_bgcolor": "#E5ECF6",
          "polar": {
           "angularaxis": {
            "gridcolor": "white",
            "linecolor": "white",
            "ticks": ""
           },
           "bgcolor": "#E5ECF6",
           "radialaxis": {
            "gridcolor": "white",
            "linecolor": "white",
            "ticks": ""
           }
          },
          "scene": {
           "xaxis": {
            "backgroundcolor": "#E5ECF6",
            "gridcolor": "white",
            "gridwidth": 2,
            "linecolor": "white",
            "showbackground": true,
            "ticks": "",
            "zerolinecolor": "white"
           },
           "yaxis": {
            "backgroundcolor": "#E5ECF6",
            "gridcolor": "white",
            "gridwidth": 2,
            "linecolor": "white",
            "showbackground": true,
            "ticks": "",
            "zerolinecolor": "white"
           },
           "zaxis": {
            "backgroundcolor": "#E5ECF6",
            "gridcolor": "white",
            "gridwidth": 2,
            "linecolor": "white",
            "showbackground": true,
            "ticks": "",
            "zerolinecolor": "white"
           }
          },
          "shapedefaults": {
           "line": {
            "color": "#2a3f5f"
           }
          },
          "ternary": {
           "aaxis": {
            "gridcolor": "white",
            "linecolor": "white",
            "ticks": ""
           },
           "baxis": {
            "gridcolor": "white",
            "linecolor": "white",
            "ticks": ""
           },
           "bgcolor": "#E5ECF6",
           "caxis": {
            "gridcolor": "white",
            "linecolor": "white",
            "ticks": ""
           }
          },
          "title": {
           "x": 0.05
          },
          "xaxis": {
           "automargin": true,
           "gridcolor": "white",
           "linecolor": "white",
           "ticks": "",
           "title": {
            "standoff": 15
           },
           "zerolinecolor": "white",
           "zerolinewidth": 2
          },
          "yaxis": {
           "automargin": true,
           "gridcolor": "white",
           "linecolor": "white",
           "ticks": "",
           "title": {
            "standoff": 15
           },
           "zerolinecolor": "white",
           "zerolinewidth": 2
          }
         }
        },
        "title": {
         "text": "Interaction Distances for fold_f_atp_tub_seed1_model_0 by Residue and Interacting Chain"
        },
        "xaxis": {
         "anchor": "y",
         "categoryarray": [
          "87T",
          "88G",
          "89S",
          "90G",
          "91K",
          "92T",
          "93F",
          "144R",
          "157K",
          "158V",
          "159R",
          "201N",
          "204S",
          "205S",
          "237G",
          "240K",
          "241V",
          "255K",
          "258N",
          "259K",
          "262S",
          "266N",
          "278H",
          "282R",
          "283D",
          "285K",
          "314S",
          "317K",
          "324R",
          "341A",
          "344L",
          "345K",
          "347L",
          "348L",
          "351A",
          "354E",
          "355I",
          "356E",
          "358L",
          "359K",
          "361Y",
          "362I",
          "365L",
          "366E",
          "368V",
          "371V",
          "373V",
          "374S",
          "375N",
          "376L",
          "377K",
          "378S",
          "444T",
          "448D",
          "452I",
          "455L",
          "458K",
          "459C",
          "463E",
          "465Q",
          "466L",
          "469K",
          "470E",
          "472E",
          "473K",
          "476I",
          "477L",
          "479Q",
          "480L",
          "481E",
          "482Q",
          "483Q",
          "484Q",
          "485E",
          "486Q",
          "487I",
          "488Q",
          "489D",
          "490K",
          "491D",
          "492Q",
          "493E",
          "494I",
          "497L",
          "498N",
          "501I",
          "504S",
          "510L",
          "511Y",
          "514S",
          "517E",
          "518N",
          "521L",
          "522N",
          "525L",
          "531A",
          "532L",
          "535S",
          "539A",
          "542Q",
          "546I",
          "549L",
          "550N",
          "552E",
          "553N",
          "556I",
          "557K",
          "560L",
          "563L",
          "566R",
          "575I",
          "578L"
         ],
         "categoryorder": "array",
         "domain": [
          0,
          1
         ],
         "title": {
          "text": "Residue (Number and Identity)"
         }
        },
        "yaxis": {
         "anchor": "x",
         "domain": [
          0,
          1
         ],
         "title": {
          "text": "Distance (angstroms)"
         }
        }
       }
      }
     },
     "metadata": {},
     "output_type": "display_data"
    },
    {
     "name": "stderr",
     "output_type": "stream",
     "text": [
      "/var/folders/08/7vm2c9d11xvc7s0rf383rd480000gn/T/ipykernel_57000/2424036903.py:54: SettingWithCopyWarning:\n",
      "\n",
      "\n",
      "A value is trying to be set on a copy of a slice from a DataFrame.\n",
      "Try using .loc[row_indexer,col_indexer] = value instead\n",
      "\n",
      "See the caveats in the documentation: https://pandas.pydata.org/pandas-docs/stable/user_guide/indexing.html#returning-a-view-versus-a-copy\n",
      "\n"
     ]
    },
    {
     "data": {
      "application/vnd.plotly.v1+json": {
       "config": {
        "plotlyServerURL": "https://plot.ly"
       },
       "data": [
        {
         "customdata": [
          [
           "fold_g_atp_tub_seed1_model_0",
           "357N"
          ],
          [
           "fold_g_atp_tub_seed1_model_0",
           "348L"
          ],
          [
           "fold_g_atp_tub_seed1_model_0",
           "345A"
          ],
          [
           "fold_g_atp_tub_seed1_model_0",
           "5R"
          ],
          [
           "fold_g_atp_tub_seed1_model_0",
           "363K"
          ],
          [
           "fold_g_atp_tub_seed1_model_0",
           "359I"
          ],
          [
           "fold_g_atp_tub_seed1_model_0",
           "5R"
          ],
          [
           "fold_g_atp_tub_seed1_model_0",
           "366I"
          ],
          [
           "fold_g_atp_tub_seed1_model_0",
           "358E"
          ],
          [
           "fold_g_atp_tub_seed1_model_0",
           "370E"
          ],
          [
           "fold_g_atp_tub_seed1_model_0",
           "366I"
          ],
          [
           "fold_g_atp_tub_seed1_model_0",
           "375V"
          ],
          [
           "fold_g_atp_tub_seed1_model_0",
           "365Y"
          ],
          [
           "fold_g_atp_tub_seed1_model_0",
           "380L"
          ],
          [
           "fold_g_atp_tub_seed1_model_0",
           "373S"
          ],
          [
           "fold_g_atp_tub_seed1_model_0",
           "369L"
          ],
          [
           "fold_g_atp_tub_seed1_model_0",
           "372V"
          ],
          [
           "fold_g_atp_tub_seed1_model_0",
           "456I"
          ],
          [
           "fold_g_atp_tub_seed1_model_0",
           "467E"
          ],
          [
           "fold_g_atp_tub_seed1_model_0",
           "463C"
          ],
          [
           "fold_g_atp_tub_seed1_model_0",
           "462K"
          ],
          [
           "fold_g_atp_tub_seed1_model_0",
           "470L"
          ],
          [
           "fold_g_atp_tub_seed1_model_0",
           "474E"
          ],
          [
           "fold_g_atp_tub_seed1_model_0",
           "473K"
          ],
          [
           "fold_g_atp_tub_seed1_model_0",
           "477K"
          ],
          [
           "fold_g_atp_tub_seed1_model_0",
           "476E"
          ],
          [
           "fold_g_atp_tub_seed1_model_0",
           "477K"
          ],
          [
           "fold_g_atp_tub_seed1_model_0",
           "487Q"
          ],
          [
           "fold_g_atp_tub_seed1_model_0",
           "484L"
          ],
          [
           "fold_g_atp_tub_seed1_model_0",
           "487Q"
          ],
          [
           "fold_g_atp_tub_seed1_model_0",
           "494K"
          ],
          [
           "fold_g_atp_tub_seed1_model_0",
           "495D"
          ],
          [
           "fold_g_atp_tub_seed1_model_0",
           "494K"
          ],
          [
           "fold_g_atp_tub_seed1_model_0",
           "497E"
          ],
          [
           "fold_g_atp_tub_seed1_model_0",
           "505I"
          ],
          [
           "fold_g_atp_tub_seed1_model_0",
           "501L"
          ],
          [
           "fold_g_atp_tub_seed1_model_0",
           "501L"
          ],
          [
           "fold_g_atp_tub_seed1_model_0",
           "508S"
          ],
          [
           "fold_g_atp_tub_seed1_model_0",
           "514L"
          ],
          [
           "fold_g_atp_tub_seed1_model_0",
           "518S"
          ],
          [
           "fold_g_atp_tub_seed1_model_0",
           "522N"
          ],
          [
           "fold_g_atp_tub_seed1_model_0",
           "522N"
          ],
          [
           "fold_g_atp_tub_seed1_model_0",
           "525L"
          ],
          [
           "fold_g_atp_tub_seed1_model_0",
           "525L"
          ],
          [
           "fold_g_atp_tub_seed1_model_0",
           "536L"
          ],
          [
           "fold_g_atp_tub_seed1_model_0",
           "536L"
          ],
          [
           "fold_g_atp_tub_seed1_model_0",
           "539S"
          ],
          [
           "fold_g_atp_tub_seed1_model_0",
           "546Q"
          ],
          [
           "fold_g_atp_tub_seed1_model_0",
           "543A"
          ],
          [
           "fold_g_atp_tub_seed1_model_0",
           "550I"
          ],
          [
           "fold_g_atp_tub_seed1_model_0",
           "554N"
          ],
          [
           "fold_g_atp_tub_seed1_model_0",
           "553L"
          ],
          [
           "fold_g_atp_tub_seed1_model_0",
           "561K"
          ],
          [
           "fold_g_atp_tub_seed1_model_0",
           "557N"
          ],
          [
           "fold_g_atp_tub_seed1_model_0",
           "560I"
          ],
          [
           "fold_g_atp_tub_seed1_model_0",
           "556E"
          ],
          [
           "fold_g_atp_tub_seed1_model_0",
           "564L"
          ],
          [
           "fold_g_atp_tub_seed1_model_0",
           "571I"
          ],
          [
           "fold_g_atp_tub_seed1_model_0",
           "582L"
          ],
          [
           "fold_g_atp_tub_seed1_model_0",
           "567L"
          ],
          [
           "fold_g_atp_tub_seed1_model_0",
           "579I"
          ],
          [
           "fold_g_atp_tub_seed1_model_0",
           "570R"
          ]
         ],
         "hovertemplate": "Interacting Chain=kinesin B<br>Residue (Number and Identity)=%{x}<br>Distance (angstroms)=%{y}<br>text=%{text}<br>file=%{customdata[0]}<br>interacting_label=%{customdata[1]}<extra></extra>",
         "legendgroup": "kinesin B",
         "marker": {
          "color": "#636efa",
          "opacity": 0.6,
          "size": 10,
          "symbol": "circle"
         },
         "mode": "markers+text",
         "name": "kinesin B",
         "orientation": "v",
         "showlegend": true,
         "text": [
          "357N",
          "348L",
          "345A",
          "5R",
          "363K",
          "359I",
          "5R",
          "366I",
          "358E",
          "370E",
          "366I",
          "375V",
          "365Y",
          "380L",
          "373S",
          "369L",
          "372V",
          "456I",
          "467E",
          "463C",
          "462K",
          "470L",
          "474E",
          "473K",
          "477K",
          "476E",
          "477K",
          "487Q",
          "484L",
          "487Q",
          "494K",
          "495D",
          "494K",
          "497E",
          "505I",
          "501L",
          "501L",
          "508S",
          "514L",
          "518S",
          "522N",
          "522N",
          "525L",
          "525L",
          "536L",
          "536L",
          "539S",
          "546Q",
          "543A",
          "550I",
          "554N",
          "553L",
          "561K",
          "557N",
          "560I",
          "556E",
          "564L",
          "571I",
          "582L",
          "567L",
          "579I",
          "570R"
         ],
         "textposition": "top center",
         "type": "scatter",
         "x": [
          "5R",
          "345A",
          "348L",
          "357N",
          "358E",
          "359I",
          "360E",
          "362L",
          "363K",
          "365Y",
          "366I",
          "369L",
          "370E",
          "372V",
          "373S",
          "375V",
          "380L",
          "456I",
          "462K",
          "463C",
          "467E",
          "470L",
          "473K",
          "474E",
          "476E",
          "477K",
          "480I",
          "484L",
          "487Q",
          "488Q",
          "491I",
          "494K",
          "495D",
          "498I",
          "501L",
          "502N",
          "505I",
          "508S",
          "515Y",
          "518S",
          "522N",
          "525L",
          "526N",
          "529L",
          "535A",
          "536L",
          "539S",
          "543A",
          "546Q",
          "550I",
          "553L",
          "554N",
          "556E",
          "557N",
          "560I",
          "561K",
          "564L",
          "567L",
          "570R",
          "571I",
          "579I",
          "582L"
         ],
         "xaxis": "x",
         "y": [
          2.8093783855438232,
          3.36010217666626,
          3.2926816940307617,
          2.7575876712799072,
          2.9230270385742188,
          3.491626739501953,
          2.661308526992798,
          3.3252594470977783,
          2.745932340621948,
          3.154435634613037,
          3.263962507247925,
          3.045900344848633,
          3.229595184326172,
          2.907898426055908,
          3.459899425506592,
          3.078714370727539,
          2.878456115722656,
          3.4528331756591797,
          2.8600709438323975,
          2.927100896835327,
          2.654329538345337,
          3.247767210006714,
          2.5824944972991943,
          2.558511257171631,
          2.552107095718384,
          2.466078281402588,
          3.2780282497406006,
          3.0816760063171387,
          3.1080758571624756,
          3.2189860343933105,
          3.119826078414917,
          2.5494954586029053,
          2.530489921569824,
          3.451850175857544,
          2.983459711074829,
          3.294912815093994,
          3.012838840484619,
          2.983351469039917,
          3.4095797538757324,
          2.799232244491577,
          2.546273708343506,
          2.858190536499023,
          3.3073978424072266,
          3.490872859954834,
          3.31779146194458,
          3.4201605319976807,
          2.7215874195098877,
          2.827194929122925,
          2.737441062927246,
          3.438662052154541,
          3.0550806522369385,
          3.1568455696105957,
          2.6704752445220947,
          2.413182497024536,
          3.282806873321533,
          2.6680397987365723,
          3.201949119567871,
          3.2456414699554443,
          2.8024563789367676,
          3.2738540172576904,
          2.415468692779541,
          3.0150442123413086
         ],
         "yaxis": "y"
        },
        {
         "customdata": [
          [
           "fold_g_atp_tub_seed1_model_0",
           "1?"
          ],
          [
           "fold_g_atp_tub_seed1_model_0",
           "1?"
          ],
          [
           "fold_g_atp_tub_seed1_model_0",
           "1?"
          ],
          [
           "fold_g_atp_tub_seed1_model_0",
           "1?"
          ],
          [
           "fold_g_atp_tub_seed1_model_0",
           "1?"
          ],
          [
           "fold_g_atp_tub_seed1_model_0",
           "1?"
          ],
          [
           "fold_g_atp_tub_seed1_model_0",
           "1?"
          ],
          [
           "fold_g_atp_tub_seed1_model_0",
           "1?"
          ],
          [
           "fold_g_atp_tub_seed1_model_0",
           "1?"
          ],
          [
           "fold_g_atp_tub_seed1_model_0",
           "1?"
          ],
          [
           "fold_g_atp_tub_seed1_model_0",
           "1?"
          ],
          [
           "fold_g_atp_tub_seed1_model_0",
           "1?"
          ],
          [
           "fold_g_atp_tub_seed1_model_0",
           "1?"
          ]
         ],
         "hovertemplate": "Interacting Chain=ATP<br>Residue (Number and Identity)=%{x}<br>Distance (angstroms)=%{y}<br>text=%{text}<br>file=%{customdata[0]}<br>interacting_label=%{customdata[1]}<extra></extra>",
         "legendgroup": "ATP",
         "marker": {
          "color": "#EF553B",
          "opacity": 0.6,
          "size": 10,
          "symbol": "circle"
         },
         "mode": "markers+text",
         "name": "ATP",
         "orientation": "v",
         "showlegend": true,
         "text": [
          "1?",
          "1?",
          "1?",
          "1?",
          "1?",
          "1?",
          "1?",
          "1?",
          "1?",
          "1?",
          "1?",
          "1?",
          "1?"
         ],
         "textposition": "top center",
         "type": "scatter",
         "x": [
          "18R",
          "21P",
          "94T",
          "95S",
          "96S",
          "97G",
          "98K",
          "99T",
          "100H",
          "205N",
          "208S",
          "209S",
          "241G"
         ],
         "xaxis": "x",
         "y": [
          3.4700889587402344,
          3.484950304031372,
          2.5247578620910645,
          2.926854372024536,
          3.452700614929199,
          3.0819883346557617,
          2.6072492599487305,
          2.683704376220703,
          2.656996965408325,
          3.2386374473571777,
          3.033559083938598,
          3.0110669136047363,
          2.7229838371276855
         ],
         "yaxis": "y"
        },
        {
         "customdata": [
          [
           "fold_g_atp_tub_seed1_model_0",
           "440E"
          ],
          [
           "fold_g_atp_tub_seed1_model_0",
           "157E"
          ],
          [
           "fold_g_atp_tub_seed1_model_0",
           "157E"
          ],
          [
           "fold_g_atp_tub_seed1_model_0",
           "410E"
          ],
          [
           "fold_g_atp_tub_seed1_model_0",
           "410E"
          ],
          [
           "fold_g_atp_tub_seed1_model_0",
           "406M"
          ],
          [
           "fold_g_atp_tub_seed1_model_0",
           "406M"
          ],
          [
           "fold_g_atp_tub_seed1_model_0",
           "432E"
          ],
          [
           "fold_g_atp_tub_seed1_model_0",
           "424Q"
          ],
          [
           "fold_g_atp_tub_seed1_model_0",
           "417D"
          ],
          [
           "fold_g_atp_tub_seed1_model_0",
           "262R"
          ],
          [
           "fold_g_atp_tub_seed1_model_0",
           "125E"
          ]
         ],
         "hovertemplate": "Interacting Chain=beta-tubulin<br>Residue (Number and Identity)=%{x}<br>Distance (angstroms)=%{y}<br>text=%{text}<br>file=%{customdata[0]}<br>interacting_label=%{customdata[1]}<extra></extra>",
         "legendgroup": "beta-tubulin",
         "marker": {
          "color": "#00cc96",
          "opacity": 0.6,
          "size": 10,
          "symbol": "circle"
         },
         "mode": "markers+text",
         "name": "beta-tubulin",
         "orientation": "v",
         "showlegend": true,
         "text": [
          "440E",
          "157E",
          "157E",
          "410E",
          "410E",
          "406M",
          "406M",
          "432E",
          "424Q",
          "417D",
          "262R",
          "125E"
         ],
         "textposition": "top center",
         "type": "scatter",
         "x": [
          "51K",
          "148K",
          "159N",
          "162V",
          "163H",
          "164E",
          "165D",
          "279K",
          "282H",
          "286R",
          "287D",
          "515Y"
         ],
         "xaxis": "x",
         "y": [
          2.5899438858032227,
          2.933412551879883,
          3.205296039581299,
          3.2612178325653076,
          2.82912278175354,
          3.3241703510284424,
          3.395737648010254,
          3.2625465393066406,
          2.7627744674682617,
          2.5880300998687744,
          3.2233340740203857,
          3.0861613750457764
         ],
         "yaxis": "y"
        },
        {
         "customdata": [
          [
           "fold_g_atp_tub_seed1_model_0",
           "420E"
          ],
          [
           "fold_g_atp_tub_seed1_model_0",
           "412G"
          ],
          [
           "fold_g_atp_tub_seed1_model_0",
           "109T"
          ],
          [
           "fold_g_atp_tub_seed1_model_0",
           "409V"
          ],
          [
           "fold_g_atp_tub_seed1_model_0",
           "409V"
          ],
          [
           "fold_g_atp_tub_seed1_model_0",
           "415E"
          ],
          [
           "fold_g_atp_tub_seed1_model_0",
           "402R"
          ],
          [
           "fold_g_atp_tub_seed1_model_0",
           "402R"
          ],
          [
           "fold_g_atp_tub_seed1_model_0",
           "423E"
          ],
          [
           "fold_g_atp_tub_seed1_model_0",
           "90E"
          ],
          [
           "fold_g_atp_tub_seed1_model_0",
           "60K"
          ],
          [
           "fold_g_atp_tub_seed1_model_0",
           "56T"
          ],
          [
           "fold_g_atp_tub_seed1_model_0",
           "35Q"
          ],
          [
           "fold_g_atp_tub_seed1_model_0",
           "58A"
          ],
          [
           "fold_g_atp_tub_seed1_model_0",
           "40K"
          ]
         ],
         "hovertemplate": "Interacting Chain=alpha-tubulin<br>Residue (Number and Identity)=%{x}<br>Distance (angstroms)=%{y}<br>text=%{text}<br>file=%{customdata[0]}<br>interacting_label=%{customdata[1]}<extra></extra>",
         "legendgroup": "alpha-tubulin",
         "marker": {
          "color": "#ab63fa",
          "opacity": 0.6,
          "size": 10,
          "symbol": "circle"
         },
         "mode": "markers+text",
         "name": "alpha-tubulin",
         "orientation": "v",
         "showlegend": true,
         "text": [
          "420E",
          "412G",
          "109T",
          "409V",
          "409V",
          "415E",
          "402R",
          "402R",
          "423E",
          "90E",
          "60K",
          "56T",
          "35Q",
          "58A",
          "40K"
         ],
         "textposition": "top center",
         "type": "scatter",
         "x": [
          "244K",
          "245I",
          "259K",
          "262N",
          "263K",
          "266S",
          "270N",
          "273N",
          "325R",
          "538K",
          "541F",
          "545E",
          "548L",
          "549T",
          "555E"
         ],
         "xaxis": "x",
         "y": [
          2.428907871246338,
          2.944223642349243,
          3.2306175231933594,
          3.472370147705078,
          3.389423370361328,
          2.7522921562194824,
          2.4755520820617676,
          2.6214120388031006,
          2.7726542949676514,
          3.2400529384613037,
          2.814099073410034,
          2.8766825199127197,
          3.276336669921875,
          2.3078436851501465,
          2.783604145050049
         ],
         "yaxis": "y"
        }
       ],
       "layout": {
        "legend": {
         "title": {
          "text": "Interacting Chain"
         },
         "tracegroupgap": 0
        },
        "template": {
         "data": {
          "bar": [
           {
            "error_x": {
             "color": "#2a3f5f"
            },
            "error_y": {
             "color": "#2a3f5f"
            },
            "marker": {
             "line": {
              "color": "#E5ECF6",
              "width": 0.5
             },
             "pattern": {
              "fillmode": "overlay",
              "size": 10,
              "solidity": 0.2
             }
            },
            "type": "bar"
           }
          ],
          "barpolar": [
           {
            "marker": {
             "line": {
              "color": "#E5ECF6",
              "width": 0.5
             },
             "pattern": {
              "fillmode": "overlay",
              "size": 10,
              "solidity": 0.2
             }
            },
            "type": "barpolar"
           }
          ],
          "carpet": [
           {
            "aaxis": {
             "endlinecolor": "#2a3f5f",
             "gridcolor": "white",
             "linecolor": "white",
             "minorgridcolor": "white",
             "startlinecolor": "#2a3f5f"
            },
            "baxis": {
             "endlinecolor": "#2a3f5f",
             "gridcolor": "white",
             "linecolor": "white",
             "minorgridcolor": "white",
             "startlinecolor": "#2a3f5f"
            },
            "type": "carpet"
           }
          ],
          "choropleth": [
           {
            "colorbar": {
             "outlinewidth": 0,
             "ticks": ""
            },
            "type": "choropleth"
           }
          ],
          "contour": [
           {
            "colorbar": {
             "outlinewidth": 0,
             "ticks": ""
            },
            "colorscale": [
             [
              0,
              "#0d0887"
             ],
             [
              0.1111111111111111,
              "#46039f"
             ],
             [
              0.2222222222222222,
              "#7201a8"
             ],
             [
              0.3333333333333333,
              "#9c179e"
             ],
             [
              0.4444444444444444,
              "#bd3786"
             ],
             [
              0.5555555555555556,
              "#d8576b"
             ],
             [
              0.6666666666666666,
              "#ed7953"
             ],
             [
              0.7777777777777778,
              "#fb9f3a"
             ],
             [
              0.8888888888888888,
              "#fdca26"
             ],
             [
              1,
              "#f0f921"
             ]
            ],
            "type": "contour"
           }
          ],
          "contourcarpet": [
           {
            "colorbar": {
             "outlinewidth": 0,
             "ticks": ""
            },
            "type": "contourcarpet"
           }
          ],
          "heatmap": [
           {
            "colorbar": {
             "outlinewidth": 0,
             "ticks": ""
            },
            "colorscale": [
             [
              0,
              "#0d0887"
             ],
             [
              0.1111111111111111,
              "#46039f"
             ],
             [
              0.2222222222222222,
              "#7201a8"
             ],
             [
              0.3333333333333333,
              "#9c179e"
             ],
             [
              0.4444444444444444,
              "#bd3786"
             ],
             [
              0.5555555555555556,
              "#d8576b"
             ],
             [
              0.6666666666666666,
              "#ed7953"
             ],
             [
              0.7777777777777778,
              "#fb9f3a"
             ],
             [
              0.8888888888888888,
              "#fdca26"
             ],
             [
              1,
              "#f0f921"
             ]
            ],
            "type": "heatmap"
           }
          ],
          "heatmapgl": [
           {
            "colorbar": {
             "outlinewidth": 0,
             "ticks": ""
            },
            "colorscale": [
             [
              0,
              "#0d0887"
             ],
             [
              0.1111111111111111,
              "#46039f"
             ],
             [
              0.2222222222222222,
              "#7201a8"
             ],
             [
              0.3333333333333333,
              "#9c179e"
             ],
             [
              0.4444444444444444,
              "#bd3786"
             ],
             [
              0.5555555555555556,
              "#d8576b"
             ],
             [
              0.6666666666666666,
              "#ed7953"
             ],
             [
              0.7777777777777778,
              "#fb9f3a"
             ],
             [
              0.8888888888888888,
              "#fdca26"
             ],
             [
              1,
              "#f0f921"
             ]
            ],
            "type": "heatmapgl"
           }
          ],
          "histogram": [
           {
            "marker": {
             "pattern": {
              "fillmode": "overlay",
              "size": 10,
              "solidity": 0.2
             }
            },
            "type": "histogram"
           }
          ],
          "histogram2d": [
           {
            "colorbar": {
             "outlinewidth": 0,
             "ticks": ""
            },
            "colorscale": [
             [
              0,
              "#0d0887"
             ],
             [
              0.1111111111111111,
              "#46039f"
             ],
             [
              0.2222222222222222,
              "#7201a8"
             ],
             [
              0.3333333333333333,
              "#9c179e"
             ],
             [
              0.4444444444444444,
              "#bd3786"
             ],
             [
              0.5555555555555556,
              "#d8576b"
             ],
             [
              0.6666666666666666,
              "#ed7953"
             ],
             [
              0.7777777777777778,
              "#fb9f3a"
             ],
             [
              0.8888888888888888,
              "#fdca26"
             ],
             [
              1,
              "#f0f921"
             ]
            ],
            "type": "histogram2d"
           }
          ],
          "histogram2dcontour": [
           {
            "colorbar": {
             "outlinewidth": 0,
             "ticks": ""
            },
            "colorscale": [
             [
              0,
              "#0d0887"
             ],
             [
              0.1111111111111111,
              "#46039f"
             ],
             [
              0.2222222222222222,
              "#7201a8"
             ],
             [
              0.3333333333333333,
              "#9c179e"
             ],
             [
              0.4444444444444444,
              "#bd3786"
             ],
             [
              0.5555555555555556,
              "#d8576b"
             ],
             [
              0.6666666666666666,
              "#ed7953"
             ],
             [
              0.7777777777777778,
              "#fb9f3a"
             ],
             [
              0.8888888888888888,
              "#fdca26"
             ],
             [
              1,
              "#f0f921"
             ]
            ],
            "type": "histogram2dcontour"
           }
          ],
          "mesh3d": [
           {
            "colorbar": {
             "outlinewidth": 0,
             "ticks": ""
            },
            "type": "mesh3d"
           }
          ],
          "parcoords": [
           {
            "line": {
             "colorbar": {
              "outlinewidth": 0,
              "ticks": ""
             }
            },
            "type": "parcoords"
           }
          ],
          "pie": [
           {
            "automargin": true,
            "type": "pie"
           }
          ],
          "scatter": [
           {
            "fillpattern": {
             "fillmode": "overlay",
             "size": 10,
             "solidity": 0.2
            },
            "type": "scatter"
           }
          ],
          "scatter3d": [
           {
            "line": {
             "colorbar": {
              "outlinewidth": 0,
              "ticks": ""
             }
            },
            "marker": {
             "colorbar": {
              "outlinewidth": 0,
              "ticks": ""
             }
            },
            "type": "scatter3d"
           }
          ],
          "scattercarpet": [
           {
            "marker": {
             "colorbar": {
              "outlinewidth": 0,
              "ticks": ""
             }
            },
            "type": "scattercarpet"
           }
          ],
          "scattergeo": [
           {
            "marker": {
             "colorbar": {
              "outlinewidth": 0,
              "ticks": ""
             }
            },
            "type": "scattergeo"
           }
          ],
          "scattergl": [
           {
            "marker": {
             "colorbar": {
              "outlinewidth": 0,
              "ticks": ""
             }
            },
            "type": "scattergl"
           }
          ],
          "scattermapbox": [
           {
            "marker": {
             "colorbar": {
              "outlinewidth": 0,
              "ticks": ""
             }
            },
            "type": "scattermapbox"
           }
          ],
          "scatterpolar": [
           {
            "marker": {
             "colorbar": {
              "outlinewidth": 0,
              "ticks": ""
             }
            },
            "type": "scatterpolar"
           }
          ],
          "scatterpolargl": [
           {
            "marker": {
             "colorbar": {
              "outlinewidth": 0,
              "ticks": ""
             }
            },
            "type": "scatterpolargl"
           }
          ],
          "scatterternary": [
           {
            "marker": {
             "colorbar": {
              "outlinewidth": 0,
              "ticks": ""
             }
            },
            "type": "scatterternary"
           }
          ],
          "surface": [
           {
            "colorbar": {
             "outlinewidth": 0,
             "ticks": ""
            },
            "colorscale": [
             [
              0,
              "#0d0887"
             ],
             [
              0.1111111111111111,
              "#46039f"
             ],
             [
              0.2222222222222222,
              "#7201a8"
             ],
             [
              0.3333333333333333,
              "#9c179e"
             ],
             [
              0.4444444444444444,
              "#bd3786"
             ],
             [
              0.5555555555555556,
              "#d8576b"
             ],
             [
              0.6666666666666666,
              "#ed7953"
             ],
             [
              0.7777777777777778,
              "#fb9f3a"
             ],
             [
              0.8888888888888888,
              "#fdca26"
             ],
             [
              1,
              "#f0f921"
             ]
            ],
            "type": "surface"
           }
          ],
          "table": [
           {
            "cells": {
             "fill": {
              "color": "#EBF0F8"
             },
             "line": {
              "color": "white"
             }
            },
            "header": {
             "fill": {
              "color": "#C8D4E3"
             },
             "line": {
              "color": "white"
             }
            },
            "type": "table"
           }
          ]
         },
         "layout": {
          "annotationdefaults": {
           "arrowcolor": "#2a3f5f",
           "arrowhead": 0,
           "arrowwidth": 1
          },
          "autotypenumbers": "strict",
          "coloraxis": {
           "colorbar": {
            "outlinewidth": 0,
            "ticks": ""
           }
          },
          "colorscale": {
           "diverging": [
            [
             0,
             "#8e0152"
            ],
            [
             0.1,
             "#c51b7d"
            ],
            [
             0.2,
             "#de77ae"
            ],
            [
             0.3,
             "#f1b6da"
            ],
            [
             0.4,
             "#fde0ef"
            ],
            [
             0.5,
             "#f7f7f7"
            ],
            [
             0.6,
             "#e6f5d0"
            ],
            [
             0.7,
             "#b8e186"
            ],
            [
             0.8,
             "#7fbc41"
            ],
            [
             0.9,
             "#4d9221"
            ],
            [
             1,
             "#276419"
            ]
           ],
           "sequential": [
            [
             0,
             "#0d0887"
            ],
            [
             0.1111111111111111,
             "#46039f"
            ],
            [
             0.2222222222222222,
             "#7201a8"
            ],
            [
             0.3333333333333333,
             "#9c179e"
            ],
            [
             0.4444444444444444,
             "#bd3786"
            ],
            [
             0.5555555555555556,
             "#d8576b"
            ],
            [
             0.6666666666666666,
             "#ed7953"
            ],
            [
             0.7777777777777778,
             "#fb9f3a"
            ],
            [
             0.8888888888888888,
             "#fdca26"
            ],
            [
             1,
             "#f0f921"
            ]
           ],
           "sequentialminus": [
            [
             0,
             "#0d0887"
            ],
            [
             0.1111111111111111,
             "#46039f"
            ],
            [
             0.2222222222222222,
             "#7201a8"
            ],
            [
             0.3333333333333333,
             "#9c179e"
            ],
            [
             0.4444444444444444,
             "#bd3786"
            ],
            [
             0.5555555555555556,
             "#d8576b"
            ],
            [
             0.6666666666666666,
             "#ed7953"
            ],
            [
             0.7777777777777778,
             "#fb9f3a"
            ],
            [
             0.8888888888888888,
             "#fdca26"
            ],
            [
             1,
             "#f0f921"
            ]
           ]
          },
          "colorway": [
           "#636efa",
           "#EF553B",
           "#00cc96",
           "#ab63fa",
           "#FFA15A",
           "#19d3f3",
           "#FF6692",
           "#B6E880",
           "#FF97FF",
           "#FECB52"
          ],
          "font": {
           "color": "#2a3f5f"
          },
          "geo": {
           "bgcolor": "white",
           "lakecolor": "white",
           "landcolor": "#E5ECF6",
           "showlakes": true,
           "showland": true,
           "subunitcolor": "white"
          },
          "hoverlabel": {
           "align": "left"
          },
          "hovermode": "closest",
          "mapbox": {
           "style": "light"
          },
          "paper_bgcolor": "white",
          "plot_bgcolor": "#E5ECF6",
          "polar": {
           "angularaxis": {
            "gridcolor": "white",
            "linecolor": "white",
            "ticks": ""
           },
           "bgcolor": "#E5ECF6",
           "radialaxis": {
            "gridcolor": "white",
            "linecolor": "white",
            "ticks": ""
           }
          },
          "scene": {
           "xaxis": {
            "backgroundcolor": "#E5ECF6",
            "gridcolor": "white",
            "gridwidth": 2,
            "linecolor": "white",
            "showbackground": true,
            "ticks": "",
            "zerolinecolor": "white"
           },
           "yaxis": {
            "backgroundcolor": "#E5ECF6",
            "gridcolor": "white",
            "gridwidth": 2,
            "linecolor": "white",
            "showbackground": true,
            "ticks": "",
            "zerolinecolor": "white"
           },
           "zaxis": {
            "backgroundcolor": "#E5ECF6",
            "gridcolor": "white",
            "gridwidth": 2,
            "linecolor": "white",
            "showbackground": true,
            "ticks": "",
            "zerolinecolor": "white"
           }
          },
          "shapedefaults": {
           "line": {
            "color": "#2a3f5f"
           }
          },
          "ternary": {
           "aaxis": {
            "gridcolor": "white",
            "linecolor": "white",
            "ticks": ""
           },
           "baxis": {
            "gridcolor": "white",
            "linecolor": "white",
            "ticks": ""
           },
           "bgcolor": "#E5ECF6",
           "caxis": {
            "gridcolor": "white",
            "linecolor": "white",
            "ticks": ""
           }
          },
          "title": {
           "x": 0.05
          },
          "xaxis": {
           "automargin": true,
           "gridcolor": "white",
           "linecolor": "white",
           "ticks": "",
           "title": {
            "standoff": 15
           },
           "zerolinecolor": "white",
           "zerolinewidth": 2
          },
          "yaxis": {
           "automargin": true,
           "gridcolor": "white",
           "linecolor": "white",
           "ticks": "",
           "title": {
            "standoff": 15
           },
           "zerolinecolor": "white",
           "zerolinewidth": 2
          }
         }
        },
        "title": {
         "text": "Interaction Distances for fold_g_atp_tub_seed1_model_0 by Residue and Interacting Chain"
        },
        "xaxis": {
         "anchor": "y",
         "categoryarray": [
          "5R",
          "18R",
          "21P",
          "51K",
          "94T",
          "95S",
          "96S",
          "97G",
          "98K",
          "99T",
          "100H",
          "148K",
          "159N",
          "162V",
          "163H",
          "164E",
          "165D",
          "205N",
          "208S",
          "209S",
          "241G",
          "244K",
          "245I",
          "259K",
          "262N",
          "263K",
          "266S",
          "270N",
          "273N",
          "279K",
          "282H",
          "286R",
          "287D",
          "325R",
          "345A",
          "348L",
          "357N",
          "358E",
          "359I",
          "360E",
          "362L",
          "363K",
          "365Y",
          "366I",
          "369L",
          "370E",
          "372V",
          "373S",
          "375V",
          "380L",
          "456I",
          "462K",
          "463C",
          "467E",
          "470L",
          "473K",
          "474E",
          "476E",
          "477K",
          "480I",
          "484L",
          "487Q",
          "488Q",
          "491I",
          "494K",
          "495D",
          "498I",
          "501L",
          "502N",
          "505I",
          "508S",
          "515Y",
          "518S",
          "522N",
          "525L",
          "526N",
          "529L",
          "535A",
          "536L",
          "538K",
          "539S",
          "541F",
          "543A",
          "545E",
          "546Q",
          "548L",
          "549T",
          "550I",
          "553L",
          "554N",
          "555E",
          "556E",
          "557N",
          "560I",
          "561K",
          "564L",
          "567L",
          "570R",
          "571I",
          "579I",
          "582L"
         ],
         "categoryorder": "array",
         "domain": [
          0,
          1
         ],
         "title": {
          "text": "Residue (Number and Identity)"
         }
        },
        "yaxis": {
         "anchor": "x",
         "domain": [
          0,
          1
         ],
         "title": {
          "text": "Distance (angstroms)"
         }
        }
       }
      }
     },
     "metadata": {},
     "output_type": "display_data"
    },
    {
     "name": "stderr",
     "output_type": "stream",
     "text": [
      "/var/folders/08/7vm2c9d11xvc7s0rf383rd480000gn/T/ipykernel_57000/2424036903.py:54: SettingWithCopyWarning:\n",
      "\n",
      "\n",
      "A value is trying to be set on a copy of a slice from a DataFrame.\n",
      "Try using .loc[row_indexer,col_indexer] = value instead\n",
      "\n",
      "See the caveats in the documentation: https://pandas.pydata.org/pandas-docs/stable/user_guide/indexing.html#returning-a-view-versus-a-copy\n",
      "\n"
     ]
    },
    {
     "data": {
      "application/vnd.plotly.v1+json": {
       "config": {
        "plotlyServerURL": "https://plot.ly"
       },
       "data": [
        {
         "customdata": [
          [
           "fold_h_atp_tub_seed1_model_0",
           "1?"
          ],
          [
           "fold_h_atp_tub_seed1_model_0",
           "1?"
          ],
          [
           "fold_h_atp_tub_seed1_model_0",
           "1?"
          ],
          [
           "fold_h_atp_tub_seed1_model_0",
           "1?"
          ],
          [
           "fold_h_atp_tub_seed1_model_0",
           "1?"
          ],
          [
           "fold_h_atp_tub_seed1_model_0",
           "1?"
          ],
          [
           "fold_h_atp_tub_seed1_model_0",
           "1?"
          ],
          [
           "fold_h_atp_tub_seed1_model_0",
           "1?"
          ],
          [
           "fold_h_atp_tub_seed1_model_0",
           "1?"
          ],
          [
           "fold_h_atp_tub_seed1_model_0",
           "1?"
          ],
          [
           "fold_h_atp_tub_seed1_model_0",
           "1?"
          ]
         ],
         "hovertemplate": "Interacting Chain=ATP<br>Residue (Number and Identity)=%{x}<br>Distance (angstroms)=%{y}<br>text=%{text}<br>file=%{customdata[0]}<br>interacting_label=%{customdata[1]}<extra></extra>",
         "legendgroup": "ATP",
         "marker": {
          "color": "#636efa",
          "opacity": 0.6,
          "size": 10,
          "symbol": "circle"
         },
         "mode": "markers+text",
         "name": "ATP",
         "orientation": "v",
         "showlegend": true,
         "text": [
          "1?",
          "1?",
          "1?",
          "1?",
          "1?",
          "1?",
          "1?",
          "1?",
          "1?",
          "1?",
          "1?"
         ],
         "textposition": "top center",
         "type": "scatter",
         "x": [
          "87T",
          "88G",
          "89S",
          "90G",
          "91K",
          "92T",
          "93F",
          "201N",
          "204S",
          "205S",
          "237G"
         ],
         "xaxis": "x",
         "y": [
          2.7136809825897217,
          2.823422431945801,
          3.3753457069396973,
          2.964850425720215,
          2.674063920974731,
          2.672137975692749,
          2.6421751976013184,
          3.039212703704834,
          3.0076818466186523,
          2.9404726028442383,
          2.8074371814727783
         ],
         "yaxis": "y"
        },
        {
         "customdata": [
          [
           "fold_h_atp_tub_seed1_model_0",
           "157E"
          ],
          [
           "fold_h_atp_tub_seed1_model_0",
           "407E"
          ],
          [
           "fold_h_atp_tub_seed1_model_0",
           "410E"
          ],
          [
           "fold_h_atp_tub_seed1_model_0",
           "407E"
          ],
          [
           "fold_h_atp_tub_seed1_model_0",
           "413S"
          ],
          [
           "fold_h_atp_tub_seed1_model_0",
           "432E"
          ],
          [
           "fold_h_atp_tub_seed1_model_0",
           "424Q"
          ],
          [
           "fold_h_atp_tub_seed1_model_0",
           "424Q"
          ],
          [
           "fold_h_atp_tub_seed1_model_0",
           "417D"
          ],
          [
           "fold_h_atp_tub_seed1_model_0",
           "262R"
          ],
          [
           "fold_h_atp_tub_seed1_model_0",
           "194E"
          ],
          [
           "fold_h_atp_tub_seed1_model_0",
           "391R"
          ],
          [
           "fold_h_atp_tub_seed1_model_0",
           "391R"
          ],
          [
           "fold_h_atp_tub_seed1_model_0",
           "394F"
          ],
          [
           "fold_h_atp_tub_seed1_model_0",
           "394F"
          ],
          [
           "fold_h_atp_tub_seed1_model_0",
           "397W"
          ],
          [
           "fold_h_atp_tub_seed1_model_0",
           "98G"
          ]
         ],
         "hovertemplate": "Interacting Chain=beta-tubulin<br>Residue (Number and Identity)=%{x}<br>Distance (angstroms)=%{y}<br>text=%{text}<br>file=%{customdata[0]}<br>interacting_label=%{customdata[1]}<extra></extra>",
         "legendgroup": "beta-tubulin",
         "marker": {
          "color": "#EF553B",
          "opacity": 0.6,
          "size": 10,
          "symbol": "circle"
         },
         "mode": "markers+text",
         "name": "beta-tubulin",
         "orientation": "v",
         "showlegend": true,
         "text": [
          "157E",
          "407E",
          "410E",
          "407E",
          "413S",
          "432E",
          "424Q",
          "424Q",
          "417D",
          "262R",
          "194E",
          "391R",
          "391R",
          "394F",
          "394F",
          "397W",
          "98G"
         ],
         "textposition": "top center",
         "type": "scatter",
         "x": [
          "144R",
          "157K",
          "158V",
          "159R",
          "160E",
          "275K",
          "277T",
          "278H",
          "282R",
          "283D",
          "285K",
          "494I",
          "498N",
          "505N",
          "508N",
          "509S",
          "512Q"
         ],
         "xaxis": "x",
         "y": [
          2.768033504486084,
          3.047783851623535,
          2.7401652336120605,
          3.184271812438965,
          3.432516574859619,
          3.420228958129883,
          3.3995347023010254,
          2.7170002460479736,
          2.4272496700286865,
          3.05643630027771,
          3.496941328048706,
          2.975874185562134,
          2.3815529346466064,
          2.46383285522461,
          3.2913224697113037,
          2.656165599822998,
          2.8011043071746826
         ],
         "yaxis": "y"
        },
        {
         "customdata": [
          [
           "fold_h_atp_tub_seed1_model_0",
           "414E"
          ],
          [
           "fold_h_atp_tub_seed1_model_0",
           "420E"
          ],
          [
           "fold_h_atp_tub_seed1_model_0",
           "412G"
          ],
          [
           "fold_h_atp_tub_seed1_model_0",
           "410G"
          ],
          [
           "fold_h_atp_tub_seed1_model_0",
           "409V"
          ],
          [
           "fold_h_atp_tub_seed1_model_0",
           "409V"
          ],
          [
           "fold_h_atp_tub_seed1_model_0",
           "415E"
          ],
          [
           "fold_h_atp_tub_seed1_model_0",
           "402R"
          ],
          [
           "fold_h_atp_tub_seed1_model_0",
           "420E"
          ],
          [
           "fold_h_atp_tub_seed1_model_0",
           "423E"
          ]
         ],
         "hovertemplate": "Interacting Chain=alpha-tubulin<br>Residue (Number and Identity)=%{x}<br>Distance (angstroms)=%{y}<br>text=%{text}<br>file=%{customdata[0]}<br>interacting_label=%{customdata[1]}<extra></extra>",
         "legendgroup": "alpha-tubulin",
         "marker": {
          "color": "#00cc96",
          "opacity": 0.6,
          "size": 10,
          "symbol": "circle"
         },
         "mode": "markers+text",
         "name": "alpha-tubulin",
         "orientation": "v",
         "showlegend": true,
         "text": [
          "414E",
          "420E",
          "412G",
          "410G",
          "409V",
          "409V",
          "415E",
          "402R",
          "420E",
          "423E"
         ],
         "textposition": "top center",
         "type": "scatter",
         "x": [
          "238S",
          "240K",
          "241I",
          "255K",
          "258N",
          "259K",
          "262S",
          "266N",
          "314A",
          "321R"
         ],
         "xaxis": "x",
         "y": [
          2.8748793601989746,
          2.4869065284729004,
          2.9714810848236084,
          3.2021288871765137,
          3.430851459503174,
          3.369836807250977,
          2.512510299682617,
          3.2866287231445312,
          3.040358543395996,
          2.6851649284362793
         ],
         "yaxis": "y"
        },
        {
         "customdata": [
          [
           "fold_h_atp_tub_seed1_model_0",
           "344L"
          ],
          [
           "fold_h_atp_tub_seed1_model_0",
           "341A"
          ],
          [
           "fold_h_atp_tub_seed1_model_0",
           "359K"
          ],
          [
           "fold_h_atp_tub_seed1_model_0",
           "362I"
          ],
          [
           "fold_h_atp_tub_seed1_model_0",
           "354E"
          ],
          [
           "fold_h_atp_tub_seed1_model_0",
           "373V"
          ],
          [
           "fold_h_atp_tub_seed1_model_0",
           "362I"
          ],
          [
           "fold_h_atp_tub_seed1_model_0",
           "371V"
          ],
          [
           "fold_h_atp_tub_seed1_model_0",
           "464K"
          ],
          [
           "fold_h_atp_tub_seed1_model_0",
           "464K"
          ],
          [
           "fold_h_atp_tub_seed1_model_0",
           "376L"
          ],
          [
           "fold_h_atp_tub_seed1_model_0",
           "369S"
          ],
          [
           "fold_h_atp_tub_seed1_model_0",
           "460I"
          ],
          [
           "fold_h_atp_tub_seed1_model_0",
           "365L"
          ],
          [
           "fold_h_atp_tub_seed1_model_0",
           "464K"
          ],
          [
           "fold_h_atp_tub_seed1_model_0",
           "361Y"
          ],
          [
           "fold_h_atp_tub_seed1_model_0",
           "463E"
          ],
          [
           "fold_h_atp_tub_seed1_model_0",
           "463E"
          ],
          [
           "fold_h_atp_tub_seed1_model_0",
           "368V"
          ],
          [
           "fold_h_atp_tub_seed1_model_0",
           "448D"
          ],
          [
           "fold_h_atp_tub_seed1_model_0",
           "444T"
          ],
          [
           "fold_h_atp_tub_seed1_model_0",
           "452I"
          ],
          [
           "fold_h_atp_tub_seed1_model_0",
           "463E"
          ],
          [
           "fold_h_atp_tub_seed1_model_0",
           "459C"
          ],
          [
           "fold_h_atp_tub_seed1_model_0",
           "463E"
          ],
          [
           "fold_h_atp_tub_seed1_model_0",
           "458K"
          ],
          [
           "fold_h_atp_tub_seed1_model_0",
           "466L"
          ],
          [
           "fold_h_atp_tub_seed1_model_0",
           "466L"
          ],
          [
           "fold_h_atp_tub_seed1_model_0",
           "470E"
          ],
          [
           "fold_h_atp_tub_seed1_model_0",
           "469K"
          ],
          [
           "fold_h_atp_tub_seed1_model_0",
           "473K"
          ],
          [
           "fold_h_atp_tub_seed1_model_0",
           "472E"
          ],
          [
           "fold_h_atp_tub_seed1_model_0",
           "480L"
          ],
          [
           "fold_h_atp_tub_seed1_model_0",
           "483Q"
          ],
          [
           "fold_h_atp_tub_seed1_model_0",
           "480L"
          ],
          [
           "fold_h_atp_tub_seed1_model_0",
           "483Q"
          ],
          [
           "fold_h_atp_tub_seed1_model_0",
           "490K"
          ],
          [
           "fold_h_atp_tub_seed1_model_0",
           "491D"
          ],
          [
           "fold_h_atp_tub_seed1_model_0",
           "490K"
          ],
          [
           "fold_h_atp_tub_seed1_model_0",
           "494I"
          ],
          [
           "fold_h_atp_tub_seed1_model_0",
           "501I"
          ],
          [
           "fold_h_atp_tub_seed1_model_0",
           "497L"
          ],
          [
           "fold_h_atp_tub_seed1_model_0",
           "504S"
          ],
          [
           "fold_h_atp_tub_seed1_model_0",
           "507I"
          ],
          [
           "fold_h_atp_tub_seed1_model_0",
           "511Y"
          ],
          [
           "fold_h_atp_tub_seed1_model_0",
           "510L"
          ],
          [
           "fold_h_atp_tub_seed1_model_0",
           "514S"
          ],
          [
           "fold_h_atp_tub_seed1_model_0",
           "518N"
          ],
          [
           "fold_h_atp_tub_seed1_model_0",
           "518N"
          ],
          [
           "fold_h_atp_tub_seed1_model_0",
           "521L"
          ],
          [
           "fold_h_atp_tub_seed1_model_0",
           "532L"
          ],
          [
           "fold_h_atp_tub_seed1_model_0",
           "531A"
          ],
          [
           "fold_h_atp_tub_seed1_model_0",
           "535S"
          ],
          [
           "fold_h_atp_tub_seed1_model_0",
           "542Q"
          ],
          [
           "fold_h_atp_tub_seed1_model_0",
           "539A"
          ],
          [
           "fold_h_atp_tub_seed1_model_0",
           "546I"
          ],
          [
           "fold_h_atp_tub_seed1_model_0",
           "550N"
          ],
          [
           "fold_h_atp_tub_seed1_model_0",
           "549L"
          ],
          [
           "fold_h_atp_tub_seed1_model_0",
           "557K"
          ],
          [
           "fold_h_atp_tub_seed1_model_0",
           "553N"
          ],
          [
           "fold_h_atp_tub_seed1_model_0",
           "556I"
          ],
          [
           "fold_h_atp_tub_seed1_model_0",
           "552E"
          ],
          [
           "fold_h_atp_tub_seed1_model_0",
           "560L"
          ],
          [
           "fold_h_atp_tub_seed1_model_0",
           "567I"
          ],
          [
           "fold_h_atp_tub_seed1_model_0",
           "578L"
          ],
          [
           "fold_h_atp_tub_seed1_model_0",
           "563L"
          ],
          [
           "fold_h_atp_tub_seed1_model_0",
           "575I"
          ],
          [
           "fold_h_atp_tub_seed1_model_0",
           "566R"
          ]
         ],
         "hovertemplate": "Interacting Chain=kinesin B<br>Residue (Number and Identity)=%{x}<br>Distance (angstroms)=%{y}<br>text=%{text}<br>file=%{customdata[0]}<br>interacting_label=%{customdata[1]}<extra></extra>",
         "legendgroup": "kinesin B",
         "marker": {
          "color": "#ab63fa",
          "opacity": 0.6,
          "size": 10,
          "symbol": "circle"
         },
         "mode": "markers+text",
         "name": "kinesin B",
         "orientation": "v",
         "showlegend": true,
         "text": [
          "344L",
          "341A",
          "359K",
          "362I",
          "354E",
          "373V",
          "362I",
          "371V",
          "464K",
          "464K",
          "376L",
          "369S",
          "460I",
          "365L",
          "464K",
          "361Y",
          "463E",
          "463E",
          "368V",
          "448D",
          "444T",
          "452I",
          "463E",
          "459C",
          "463E",
          "458K",
          "466L",
          "466L",
          "470E",
          "469K",
          "473K",
          "472E",
          "480L",
          "483Q",
          "480L",
          "483Q",
          "490K",
          "491D",
          "490K",
          "494I",
          "501I",
          "497L",
          "504S",
          "507I",
          "511Y",
          "510L",
          "514S",
          "518N",
          "518N",
          "521L",
          "532L",
          "531A",
          "535S",
          "542Q",
          "539A",
          "546I",
          "550N",
          "549L",
          "557K",
          "553N",
          "556I",
          "552E",
          "560L",
          "567I",
          "578L",
          "563L",
          "575I",
          "566R"
         ],
         "textposition": "top center",
         "type": "scatter",
         "x": [
          "341A",
          "344L",
          "354E",
          "358L",
          "359K",
          "361Y",
          "362I",
          "365L",
          "366E",
          "367T",
          "368V",
          "369S",
          "370G",
          "371V",
          "372T",
          "373V",
          "374S",
          "375N",
          "376L",
          "444T",
          "448D",
          "452I",
          "458K",
          "459C",
          "462L",
          "463E",
          "465Q",
          "466L",
          "469K",
          "470E",
          "472E",
          "473K",
          "476I",
          "480L",
          "483Q",
          "484Q",
          "487I",
          "490K",
          "491D",
          "493E",
          "497L",
          "501I",
          "504S",
          "508N",
          "510L",
          "511Y",
          "514S",
          "518N",
          "521L",
          "522N",
          "531A",
          "532L",
          "535S",
          "539A",
          "542Q",
          "546I",
          "549L",
          "550N",
          "552E",
          "553N",
          "556I",
          "557K",
          "560L",
          "563L",
          "566R",
          "567I",
          "575I",
          "578L"
         ],
         "xaxis": "x",
         "y": [
          3.2464489936828613,
          3.1811676025390625,
          2.7876062393188477,
          3.2889037132263184,
          2.5041942596435547,
          2.093987464904785,
          3.2933621406555176,
          2.98205304145813,
          1.9849523305892944,
          3.1734635829925537,
          2.9161553382873535,
          3.067169666290283,
          2.5092685222625732,
          2.9051871299743652,
          1.6073085069656372,
          3.0889830589294434,
          2.8501088619232178,
          2.283984899520874,
          2.154186248779297,
          2.297034502029419,
          2.346658706665039,
          3.4562010765075684,
          2.8986783027648926,
          2.8299708366394043,
          3.3915581703186035,
          2.7778964042663574,
          3.1131224632263184,
          2.956859350204468,
          2.776623487472534,
          2.828545570373535,
          2.6627914905548096,
          2.6028313636779785,
          3.171013355255127,
          3.079900026321411,
          3.0414021015167236,
          3.325914144515991,
          2.9861788749694824,
          2.5752620697021484,
          2.5212717056274414,
          3.44839859008789,
          2.8906216621398926,
          2.934314727783203,
          3.16332745552063,
          3.387312412261963,
          3.43734073638916,
          3.3862593173980713,
          2.796589612960815,
          2.172536611557007,
          3.0911104679107666,
          3.23193883895874,
          3.3904988765716553,
          3.4057912826538086,
          2.8518059253692627,
          2.714545488357544,
          2.726140260696411,
          3.331946849822998,
          3.074075937271118,
          3.1508708000183105,
          2.7956008911132812,
          2.272268533706665,
          3.241206169128418,
          2.6881024837493896,
          3.3551764488220215,
          3.2912817001342773,
          3.1702568531036377,
          3.3359241485595703,
          3.169877767562866,
          3.2285566329956055
         ],
         "yaxis": "y"
        }
       ],
       "layout": {
        "legend": {
         "title": {
          "text": "Interacting Chain"
         },
         "tracegroupgap": 0
        },
        "template": {
         "data": {
          "bar": [
           {
            "error_x": {
             "color": "#2a3f5f"
            },
            "error_y": {
             "color": "#2a3f5f"
            },
            "marker": {
             "line": {
              "color": "#E5ECF6",
              "width": 0.5
             },
             "pattern": {
              "fillmode": "overlay",
              "size": 10,
              "solidity": 0.2
             }
            },
            "type": "bar"
           }
          ],
          "barpolar": [
           {
            "marker": {
             "line": {
              "color": "#E5ECF6",
              "width": 0.5
             },
             "pattern": {
              "fillmode": "overlay",
              "size": 10,
              "solidity": 0.2
             }
            },
            "type": "barpolar"
           }
          ],
          "carpet": [
           {
            "aaxis": {
             "endlinecolor": "#2a3f5f",
             "gridcolor": "white",
             "linecolor": "white",
             "minorgridcolor": "white",
             "startlinecolor": "#2a3f5f"
            },
            "baxis": {
             "endlinecolor": "#2a3f5f",
             "gridcolor": "white",
             "linecolor": "white",
             "minorgridcolor": "white",
             "startlinecolor": "#2a3f5f"
            },
            "type": "carpet"
           }
          ],
          "choropleth": [
           {
            "colorbar": {
             "outlinewidth": 0,
             "ticks": ""
            },
            "type": "choropleth"
           }
          ],
          "contour": [
           {
            "colorbar": {
             "outlinewidth": 0,
             "ticks": ""
            },
            "colorscale": [
             [
              0,
              "#0d0887"
             ],
             [
              0.1111111111111111,
              "#46039f"
             ],
             [
              0.2222222222222222,
              "#7201a8"
             ],
             [
              0.3333333333333333,
              "#9c179e"
             ],
             [
              0.4444444444444444,
              "#bd3786"
             ],
             [
              0.5555555555555556,
              "#d8576b"
             ],
             [
              0.6666666666666666,
              "#ed7953"
             ],
             [
              0.7777777777777778,
              "#fb9f3a"
             ],
             [
              0.8888888888888888,
              "#fdca26"
             ],
             [
              1,
              "#f0f921"
             ]
            ],
            "type": "contour"
           }
          ],
          "contourcarpet": [
           {
            "colorbar": {
             "outlinewidth": 0,
             "ticks": ""
            },
            "type": "contourcarpet"
           }
          ],
          "heatmap": [
           {
            "colorbar": {
             "outlinewidth": 0,
             "ticks": ""
            },
            "colorscale": [
             [
              0,
              "#0d0887"
             ],
             [
              0.1111111111111111,
              "#46039f"
             ],
             [
              0.2222222222222222,
              "#7201a8"
             ],
             [
              0.3333333333333333,
              "#9c179e"
             ],
             [
              0.4444444444444444,
              "#bd3786"
             ],
             [
              0.5555555555555556,
              "#d8576b"
             ],
             [
              0.6666666666666666,
              "#ed7953"
             ],
             [
              0.7777777777777778,
              "#fb9f3a"
             ],
             [
              0.8888888888888888,
              "#fdca26"
             ],
             [
              1,
              "#f0f921"
             ]
            ],
            "type": "heatmap"
           }
          ],
          "heatmapgl": [
           {
            "colorbar": {
             "outlinewidth": 0,
             "ticks": ""
            },
            "colorscale": [
             [
              0,
              "#0d0887"
             ],
             [
              0.1111111111111111,
              "#46039f"
             ],
             [
              0.2222222222222222,
              "#7201a8"
             ],
             [
              0.3333333333333333,
              "#9c179e"
             ],
             [
              0.4444444444444444,
              "#bd3786"
             ],
             [
              0.5555555555555556,
              "#d8576b"
             ],
             [
              0.6666666666666666,
              "#ed7953"
             ],
             [
              0.7777777777777778,
              "#fb9f3a"
             ],
             [
              0.8888888888888888,
              "#fdca26"
             ],
             [
              1,
              "#f0f921"
             ]
            ],
            "type": "heatmapgl"
           }
          ],
          "histogram": [
           {
            "marker": {
             "pattern": {
              "fillmode": "overlay",
              "size": 10,
              "solidity": 0.2
             }
            },
            "type": "histogram"
           }
          ],
          "histogram2d": [
           {
            "colorbar": {
             "outlinewidth": 0,
             "ticks": ""
            },
            "colorscale": [
             [
              0,
              "#0d0887"
             ],
             [
              0.1111111111111111,
              "#46039f"
             ],
             [
              0.2222222222222222,
              "#7201a8"
             ],
             [
              0.3333333333333333,
              "#9c179e"
             ],
             [
              0.4444444444444444,
              "#bd3786"
             ],
             [
              0.5555555555555556,
              "#d8576b"
             ],
             [
              0.6666666666666666,
              "#ed7953"
             ],
             [
              0.7777777777777778,
              "#fb9f3a"
             ],
             [
              0.8888888888888888,
              "#fdca26"
             ],
             [
              1,
              "#f0f921"
             ]
            ],
            "type": "histogram2d"
           }
          ],
          "histogram2dcontour": [
           {
            "colorbar": {
             "outlinewidth": 0,
             "ticks": ""
            },
            "colorscale": [
             [
              0,
              "#0d0887"
             ],
             [
              0.1111111111111111,
              "#46039f"
             ],
             [
              0.2222222222222222,
              "#7201a8"
             ],
             [
              0.3333333333333333,
              "#9c179e"
             ],
             [
              0.4444444444444444,
              "#bd3786"
             ],
             [
              0.5555555555555556,
              "#d8576b"
             ],
             [
              0.6666666666666666,
              "#ed7953"
             ],
             [
              0.7777777777777778,
              "#fb9f3a"
             ],
             [
              0.8888888888888888,
              "#fdca26"
             ],
             [
              1,
              "#f0f921"
             ]
            ],
            "type": "histogram2dcontour"
           }
          ],
          "mesh3d": [
           {
            "colorbar": {
             "outlinewidth": 0,
             "ticks": ""
            },
            "type": "mesh3d"
           }
          ],
          "parcoords": [
           {
            "line": {
             "colorbar": {
              "outlinewidth": 0,
              "ticks": ""
             }
            },
            "type": "parcoords"
           }
          ],
          "pie": [
           {
            "automargin": true,
            "type": "pie"
           }
          ],
          "scatter": [
           {
            "fillpattern": {
             "fillmode": "overlay",
             "size": 10,
             "solidity": 0.2
            },
            "type": "scatter"
           }
          ],
          "scatter3d": [
           {
            "line": {
             "colorbar": {
              "outlinewidth": 0,
              "ticks": ""
             }
            },
            "marker": {
             "colorbar": {
              "outlinewidth": 0,
              "ticks": ""
             }
            },
            "type": "scatter3d"
           }
          ],
          "scattercarpet": [
           {
            "marker": {
             "colorbar": {
              "outlinewidth": 0,
              "ticks": ""
             }
            },
            "type": "scattercarpet"
           }
          ],
          "scattergeo": [
           {
            "marker": {
             "colorbar": {
              "outlinewidth": 0,
              "ticks": ""
             }
            },
            "type": "scattergeo"
           }
          ],
          "scattergl": [
           {
            "marker": {
             "colorbar": {
              "outlinewidth": 0,
              "ticks": ""
             }
            },
            "type": "scattergl"
           }
          ],
          "scattermapbox": [
           {
            "marker": {
             "colorbar": {
              "outlinewidth": 0,
              "ticks": ""
             }
            },
            "type": "scattermapbox"
           }
          ],
          "scatterpolar": [
           {
            "marker": {
             "colorbar": {
              "outlinewidth": 0,
              "ticks": ""
             }
            },
            "type": "scatterpolar"
           }
          ],
          "scatterpolargl": [
           {
            "marker": {
             "colorbar": {
              "outlinewidth": 0,
              "ticks": ""
             }
            },
            "type": "scatterpolargl"
           }
          ],
          "scatterternary": [
           {
            "marker": {
             "colorbar": {
              "outlinewidth": 0,
              "ticks": ""
             }
            },
            "type": "scatterternary"
           }
          ],
          "surface": [
           {
            "colorbar": {
             "outlinewidth": 0,
             "ticks": ""
            },
            "colorscale": [
             [
              0,
              "#0d0887"
             ],
             [
              0.1111111111111111,
              "#46039f"
             ],
             [
              0.2222222222222222,
              "#7201a8"
             ],
             [
              0.3333333333333333,
              "#9c179e"
             ],
             [
              0.4444444444444444,
              "#bd3786"
             ],
             [
              0.5555555555555556,
              "#d8576b"
             ],
             [
              0.6666666666666666,
              "#ed7953"
             ],
             [
              0.7777777777777778,
              "#fb9f3a"
             ],
             [
              0.8888888888888888,
              "#fdca26"
             ],
             [
              1,
              "#f0f921"
             ]
            ],
            "type": "surface"
           }
          ],
          "table": [
           {
            "cells": {
             "fill": {
              "color": "#EBF0F8"
             },
             "line": {
              "color": "white"
             }
            },
            "header": {
             "fill": {
              "color": "#C8D4E3"
             },
             "line": {
              "color": "white"
             }
            },
            "type": "table"
           }
          ]
         },
         "layout": {
          "annotationdefaults": {
           "arrowcolor": "#2a3f5f",
           "arrowhead": 0,
           "arrowwidth": 1
          },
          "autotypenumbers": "strict",
          "coloraxis": {
           "colorbar": {
            "outlinewidth": 0,
            "ticks": ""
           }
          },
          "colorscale": {
           "diverging": [
            [
             0,
             "#8e0152"
            ],
            [
             0.1,
             "#c51b7d"
            ],
            [
             0.2,
             "#de77ae"
            ],
            [
             0.3,
             "#f1b6da"
            ],
            [
             0.4,
             "#fde0ef"
            ],
            [
             0.5,
             "#f7f7f7"
            ],
            [
             0.6,
             "#e6f5d0"
            ],
            [
             0.7,
             "#b8e186"
            ],
            [
             0.8,
             "#7fbc41"
            ],
            [
             0.9,
             "#4d9221"
            ],
            [
             1,
             "#276419"
            ]
           ],
           "sequential": [
            [
             0,
             "#0d0887"
            ],
            [
             0.1111111111111111,
             "#46039f"
            ],
            [
             0.2222222222222222,
             "#7201a8"
            ],
            [
             0.3333333333333333,
             "#9c179e"
            ],
            [
             0.4444444444444444,
             "#bd3786"
            ],
            [
             0.5555555555555556,
             "#d8576b"
            ],
            [
             0.6666666666666666,
             "#ed7953"
            ],
            [
             0.7777777777777778,
             "#fb9f3a"
            ],
            [
             0.8888888888888888,
             "#fdca26"
            ],
            [
             1,
             "#f0f921"
            ]
           ],
           "sequentialminus": [
            [
             0,
             "#0d0887"
            ],
            [
             0.1111111111111111,
             "#46039f"
            ],
            [
             0.2222222222222222,
             "#7201a8"
            ],
            [
             0.3333333333333333,
             "#9c179e"
            ],
            [
             0.4444444444444444,
             "#bd3786"
            ],
            [
             0.5555555555555556,
             "#d8576b"
            ],
            [
             0.6666666666666666,
             "#ed7953"
            ],
            [
             0.7777777777777778,
             "#fb9f3a"
            ],
            [
             0.8888888888888888,
             "#fdca26"
            ],
            [
             1,
             "#f0f921"
            ]
           ]
          },
          "colorway": [
           "#636efa",
           "#EF553B",
           "#00cc96",
           "#ab63fa",
           "#FFA15A",
           "#19d3f3",
           "#FF6692",
           "#B6E880",
           "#FF97FF",
           "#FECB52"
          ],
          "font": {
           "color": "#2a3f5f"
          },
          "geo": {
           "bgcolor": "white",
           "lakecolor": "white",
           "landcolor": "#E5ECF6",
           "showlakes": true,
           "showland": true,
           "subunitcolor": "white"
          },
          "hoverlabel": {
           "align": "left"
          },
          "hovermode": "closest",
          "mapbox": {
           "style": "light"
          },
          "paper_bgcolor": "white",
          "plot_bgcolor": "#E5ECF6",
          "polar": {
           "angularaxis": {
            "gridcolor": "white",
            "linecolor": "white",
            "ticks": ""
           },
           "bgcolor": "#E5ECF6",
           "radialaxis": {
            "gridcolor": "white",
            "linecolor": "white",
            "ticks": ""
           }
          },
          "scene": {
           "xaxis": {
            "backgroundcolor": "#E5ECF6",
            "gridcolor": "white",
            "gridwidth": 2,
            "linecolor": "white",
            "showbackground": true,
            "ticks": "",
            "zerolinecolor": "white"
           },
           "yaxis": {
            "backgroundcolor": "#E5ECF6",
            "gridcolor": "white",
            "gridwidth": 2,
            "linecolor": "white",
            "showbackground": true,
            "ticks": "",
            "zerolinecolor": "white"
           },
           "zaxis": {
            "backgroundcolor": "#E5ECF6",
            "gridcolor": "white",
            "gridwidth": 2,
            "linecolor": "white",
            "showbackground": true,
            "ticks": "",
            "zerolinecolor": "white"
           }
          },
          "shapedefaults": {
           "line": {
            "color": "#2a3f5f"
           }
          },
          "ternary": {
           "aaxis": {
            "gridcolor": "white",
            "linecolor": "white",
            "ticks": ""
           },
           "baxis": {
            "gridcolor": "white",
            "linecolor": "white",
            "ticks": ""
           },
           "bgcolor": "#E5ECF6",
           "caxis": {
            "gridcolor": "white",
            "linecolor": "white",
            "ticks": ""
           }
          },
          "title": {
           "x": 0.05
          },
          "xaxis": {
           "automargin": true,
           "gridcolor": "white",
           "linecolor": "white",
           "ticks": "",
           "title": {
            "standoff": 15
           },
           "zerolinecolor": "white",
           "zerolinewidth": 2
          },
          "yaxis": {
           "automargin": true,
           "gridcolor": "white",
           "linecolor": "white",
           "ticks": "",
           "title": {
            "standoff": 15
           },
           "zerolinecolor": "white",
           "zerolinewidth": 2
          }
         }
        },
        "title": {
         "text": "Interaction Distances for fold_h_atp_tub_seed1_model_0 by Residue and Interacting Chain"
        },
        "xaxis": {
         "anchor": "y",
         "categoryarray": [
          "87T",
          "88G",
          "89S",
          "90G",
          "91K",
          "92T",
          "93F",
          "144R",
          "157K",
          "158V",
          "159R",
          "160E",
          "201N",
          "204S",
          "205S",
          "237G",
          "238S",
          "240K",
          "241I",
          "255K",
          "258N",
          "259K",
          "262S",
          "266N",
          "275K",
          "277T",
          "278H",
          "282R",
          "283D",
          "285K",
          "314A",
          "321R",
          "341A",
          "344L",
          "354E",
          "358L",
          "359K",
          "361Y",
          "362I",
          "365L",
          "366E",
          "367T",
          "368V",
          "369S",
          "370G",
          "371V",
          "372T",
          "373V",
          "374S",
          "375N",
          "376L",
          "444T",
          "448D",
          "452I",
          "458K",
          "459C",
          "462L",
          "463E",
          "465Q",
          "466L",
          "469K",
          "470E",
          "472E",
          "473K",
          "476I",
          "480L",
          "483Q",
          "484Q",
          "487I",
          "490K",
          "491D",
          "493E",
          "494I",
          "497L",
          "498N",
          "501I",
          "504S",
          "505N",
          "508N",
          "509S",
          "510L",
          "511Y",
          "512Q",
          "514S",
          "518N",
          "521L",
          "522N",
          "531A",
          "532L",
          "535S",
          "539A",
          "542Q",
          "546I",
          "549L",
          "550N",
          "552E",
          "553N",
          "556I",
          "557K",
          "560L",
          "563L",
          "566R",
          "567I",
          "575I",
          "578L"
         ],
         "categoryorder": "array",
         "domain": [
          0,
          1
         ],
         "title": {
          "text": "Residue (Number and Identity)"
         }
        },
        "yaxis": {
         "anchor": "x",
         "domain": [
          0,
          1
         ],
         "title": {
          "text": "Distance (angstroms)"
         }
        }
       }
      }
     },
     "metadata": {},
     "output_type": "display_data"
    },
    {
     "name": "stderr",
     "output_type": "stream",
     "text": [
      "/var/folders/08/7vm2c9d11xvc7s0rf383rd480000gn/T/ipykernel_57000/2424036903.py:54: SettingWithCopyWarning:\n",
      "\n",
      "\n",
      "A value is trying to be set on a copy of a slice from a DataFrame.\n",
      "Try using .loc[row_indexer,col_indexer] = value instead\n",
      "\n",
      "See the caveats in the documentation: https://pandas.pydata.org/pandas-docs/stable/user_guide/indexing.html#returning-a-view-versus-a-copy\n",
      "\n"
     ]
    },
    {
     "data": {
      "application/vnd.plotly.v1+json": {
       "config": {
        "plotlyServerURL": "https://plot.ly"
       },
       "data": [
        {
         "customdata": [
          [
           "fold_k401_atp_tub_seed1_model_0",
           "1?"
          ],
          [
           "fold_k401_atp_tub_seed1_model_0",
           "1?"
          ],
          [
           "fold_k401_atp_tub_seed1_model_0",
           "1?"
          ],
          [
           "fold_k401_atp_tub_seed1_model_0",
           "1?"
          ],
          [
           "fold_k401_atp_tub_seed1_model_0",
           "1?"
          ],
          [
           "fold_k401_atp_tub_seed1_model_0",
           "1?"
          ],
          [
           "fold_k401_atp_tub_seed1_model_0",
           "1?"
          ],
          [
           "fold_k401_atp_tub_seed1_model_0",
           "1?"
          ],
          [
           "fold_k401_atp_tub_seed1_model_0",
           "1?"
          ],
          [
           "fold_k401_atp_tub_seed1_model_0",
           "1?"
          ],
          [
           "fold_k401_atp_tub_seed1_model_0",
           "1?"
          ]
         ],
         "hovertemplate": "Interacting Chain=ATP<br>Residue (Number and Identity)=%{x}<br>Distance (angstroms)=%{y}<br>text=%{text}<br>file=%{customdata[0]}<br>interacting_label=%{customdata[1]}<extra></extra>",
         "legendgroup": "ATP",
         "marker": {
          "color": "#636efa",
          "opacity": 0.6,
          "size": 10,
          "symbol": "circle"
         },
         "mode": "markers+text",
         "name": "ATP",
         "orientation": "v",
         "showlegend": true,
         "text": [
          "1?",
          "1?",
          "1?",
          "1?",
          "1?",
          "1?",
          "1?",
          "1?",
          "1?",
          "1?",
          "1?"
         ],
         "textposition": "top center",
         "type": "scatter",
         "x": [
          "94T",
          "95S",
          "96S",
          "97G",
          "98K",
          "99T",
          "100H",
          "205N",
          "208S",
          "209S",
          "241G"
         ],
         "xaxis": "x",
         "y": [
          2.4374871253967285,
          2.806600332260132,
          3.29720401763916,
          3.1137118339538574,
          2.9161436557769775,
          2.7895143032073975,
          2.9845962524414062,
          2.958266496658325,
          2.7913260459899902,
          2.7207634449005127,
          2.9005379676818848
         ],
         "yaxis": "y"
        },
        {
         "customdata": [
          [
           "fold_k401_atp_tub_seed1_model_0",
           "157E"
          ],
          [
           "fold_k401_atp_tub_seed1_model_0",
           "157E"
          ],
          [
           "fold_k401_atp_tub_seed1_model_0",
           "410E"
          ],
          [
           "fold_k401_atp_tub_seed1_model_0",
           "410E"
          ],
          [
           "fold_k401_atp_tub_seed1_model_0",
           "424Q"
          ],
          [
           "fold_k401_atp_tub_seed1_model_0",
           "417D"
          ],
          [
           "fold_k401_atp_tub_seed1_model_0",
           "262R"
          ]
         ],
         "hovertemplate": "Interacting Chain=beta-tubulin<br>Residue (Number and Identity)=%{x}<br>Distance (angstroms)=%{y}<br>text=%{text}<br>file=%{customdata[0]}<br>interacting_label=%{customdata[1]}<extra></extra>",
         "legendgroup": "beta-tubulin",
         "marker": {
          "color": "#EF553B",
          "opacity": 0.6,
          "size": 10,
          "symbol": "circle"
         },
         "mode": "markers+text",
         "name": "beta-tubulin",
         "orientation": "v",
         "showlegend": true,
         "text": [
          "157E",
          "157E",
          "410E",
          "410E",
          "424Q",
          "417D",
          "262R"
         ],
         "textposition": "top center",
         "type": "scatter",
         "x": [
          "148K",
          "159N",
          "163H",
          "164E",
          "282H",
          "286R",
          "287D"
         ],
         "xaxis": "x",
         "y": [
          3.006138324737549,
          3.0405116081237793,
          2.8384571075439453,
          2.686645746231079,
          2.7174038887023926,
          2.5308802127838135,
          3.2496230602264404
         ],
         "yaxis": "y"
        },
        {
         "customdata": [
          [
           "fold_k401_atp_tub_seed1_model_0",
           "346E"
          ],
          [
           "fold_k401_atp_tub_seed1_model_0",
           "349K"
          ],
          [
           "fold_k401_atp_tub_seed1_model_0",
           "348W"
          ],
          [
           "fold_k401_atp_tub_seed1_model_0",
           "352Y"
          ],
          [
           "fold_k401_atp_tub_seed1_model_0",
           "348W"
          ],
          [
           "fold_k401_atp_tub_seed1_model_0",
           "359N"
          ],
          [
           "fold_k401_atp_tub_seed1_model_0",
           "355E"
          ],
          [
           "fold_k401_atp_tub_seed1_model_0",
           "359N"
          ],
          [
           "fold_k401_atp_tub_seed1_model_0",
           "397S"
          ],
          [
           "fold_k401_atp_tub_seed1_model_0",
           "393L"
          ],
          [
           "fold_k401_atp_tub_seed1_model_0",
           "373L"
          ],
          [
           "fold_k401_atp_tub_seed1_model_0",
           "393L"
          ],
          [
           "fold_k401_atp_tub_seed1_model_0",
           "377R"
          ],
          [
           "fold_k401_atp_tub_seed1_model_0",
           "373L"
          ],
          [
           "fold_k401_atp_tub_seed1_model_0",
           "372E"
          ],
          [
           "fold_k401_atp_tub_seed1_model_0",
           "377R"
          ],
          [
           "fold_k401_atp_tub_seed1_model_0",
           "377R"
          ],
          [
           "fold_k401_atp_tub_seed1_model_0",
           "370E"
          ],
          [
           "fold_k401_atp_tub_seed1_model_0",
           "366V"
          ],
          [
           "fold_k401_atp_tub_seed1_model_0",
           "363K"
          ],
          [
           "fold_k401_atp_tub_seed1_model_0",
           "363K"
          ]
         ],
         "hovertemplate": "Interacting Chain=kinesin B<br>Residue (Number and Identity)=%{x}<br>Distance (angstroms)=%{y}<br>text=%{text}<br>file=%{customdata[0]}<br>interacting_label=%{customdata[1]}<extra></extra>",
         "legendgroup": "kinesin B",
         "marker": {
          "color": "#00cc96",
          "opacity": 0.6,
          "size": 10,
          "symbol": "circle"
         },
         "mode": "markers+text",
         "name": "kinesin B",
         "orientation": "v",
         "showlegend": true,
         "text": [
          "346E",
          "349K",
          "348W",
          "352Y",
          "348W",
          "359N",
          "355E",
          "359N",
          "397S",
          "393L",
          "373L",
          "393L",
          "377R",
          "373L",
          "372E",
          "377R",
          "377R",
          "370E",
          "366V",
          "363K",
          "363K"
         ],
         "textposition": "top center",
         "type": "scatter",
         "x": [
          "166K",
          "167N",
          "345A",
          "348W",
          "352Y",
          "355E",
          "359N",
          "362L",
          "363K",
          "366V",
          "369L",
          "370E",
          "372E",
          "373L",
          "377R",
          "387Q",
          "388I",
          "390M",
          "393L",
          "396A",
          "397S"
         ],
         "xaxis": "x",
         "y": [
          2.5941569805145264,
          3.2108778953552246,
          3.4633238315582275,
          3.368378162384033,
          3.383876085281372,
          2.118377208709717,
          2.1266520023345947,
          2.901210069656372,
          2.898369312286377,
          3.02547836303711,
          3.478980302810669,
          2.5869014263153076,
          2.8415660858154297,
          2.7298479080200195,
          2.8014917373657227,
          3.4363529682159424,
          2.859236717224121,
          3.4483542442321777,
          2.5268359184265137,
          3.4055051803588867,
          2.766642808914185
         ],
         "yaxis": "y"
        },
        {
         "customdata": [
          [
           "fold_k401_atp_tub_seed1_model_0",
           "420E"
          ],
          [
           "fold_k401_atp_tub_seed1_model_0",
           "412G"
          ],
          [
           "fold_k401_atp_tub_seed1_model_0",
           "112K"
          ],
          [
           "fold_k401_atp_tub_seed1_model_0",
           "112K"
          ],
          [
           "fold_k401_atp_tub_seed1_model_0",
           "410G"
          ],
          [
           "fold_k401_atp_tub_seed1_model_0",
           "409V"
          ],
          [
           "fold_k401_atp_tub_seed1_model_0",
           "409V"
          ],
          [
           "fold_k401_atp_tub_seed1_model_0",
           "415E"
          ]
         ],
         "hovertemplate": "Interacting Chain=alpha-tubulin<br>Residue (Number and Identity)=%{x}<br>Distance (angstroms)=%{y}<br>text=%{text}<br>file=%{customdata[0]}<br>interacting_label=%{customdata[1]}<extra></extra>",
         "legendgroup": "alpha-tubulin",
         "marker": {
          "color": "#ab63fa",
          "opacity": 0.6,
          "size": 10,
          "symbol": "circle"
         },
         "mode": "markers+text",
         "name": "alpha-tubulin",
         "orientation": "v",
         "showlegend": true,
         "text": [
          "420E",
          "412G",
          "112K",
          "112K",
          "410G",
          "409V",
          "409V",
          "415E"
         ],
         "textposition": "top center",
         "type": "scatter",
         "x": [
          "244K",
          "245V",
          "250A",
          "251E",
          "259K",
          "262N",
          "263K",
          "266S"
         ],
         "xaxis": "x",
         "y": [
          2.560426950454712,
          3.1075081825256348,
          3.409220933914185,
          3.4453158378601074,
          3.223480224609375,
          3.4584624767303467,
          3.4183528423309326,
          2.612457513809204
         ],
         "yaxis": "y"
        }
       ],
       "layout": {
        "legend": {
         "title": {
          "text": "Interacting Chain"
         },
         "tracegroupgap": 0
        },
        "template": {
         "data": {
          "bar": [
           {
            "error_x": {
             "color": "#2a3f5f"
            },
            "error_y": {
             "color": "#2a3f5f"
            },
            "marker": {
             "line": {
              "color": "#E5ECF6",
              "width": 0.5
             },
             "pattern": {
              "fillmode": "overlay",
              "size": 10,
              "solidity": 0.2
             }
            },
            "type": "bar"
           }
          ],
          "barpolar": [
           {
            "marker": {
             "line": {
              "color": "#E5ECF6",
              "width": 0.5
             },
             "pattern": {
              "fillmode": "overlay",
              "size": 10,
              "solidity": 0.2
             }
            },
            "type": "barpolar"
           }
          ],
          "carpet": [
           {
            "aaxis": {
             "endlinecolor": "#2a3f5f",
             "gridcolor": "white",
             "linecolor": "white",
             "minorgridcolor": "white",
             "startlinecolor": "#2a3f5f"
            },
            "baxis": {
             "endlinecolor": "#2a3f5f",
             "gridcolor": "white",
             "linecolor": "white",
             "minorgridcolor": "white",
             "startlinecolor": "#2a3f5f"
            },
            "type": "carpet"
           }
          ],
          "choropleth": [
           {
            "colorbar": {
             "outlinewidth": 0,
             "ticks": ""
            },
            "type": "choropleth"
           }
          ],
          "contour": [
           {
            "colorbar": {
             "outlinewidth": 0,
             "ticks": ""
            },
            "colorscale": [
             [
              0,
              "#0d0887"
             ],
             [
              0.1111111111111111,
              "#46039f"
             ],
             [
              0.2222222222222222,
              "#7201a8"
             ],
             [
              0.3333333333333333,
              "#9c179e"
             ],
             [
              0.4444444444444444,
              "#bd3786"
             ],
             [
              0.5555555555555556,
              "#d8576b"
             ],
             [
              0.6666666666666666,
              "#ed7953"
             ],
             [
              0.7777777777777778,
              "#fb9f3a"
             ],
             [
              0.8888888888888888,
              "#fdca26"
             ],
             [
              1,
              "#f0f921"
             ]
            ],
            "type": "contour"
           }
          ],
          "contourcarpet": [
           {
            "colorbar": {
             "outlinewidth": 0,
             "ticks": ""
            },
            "type": "contourcarpet"
           }
          ],
          "heatmap": [
           {
            "colorbar": {
             "outlinewidth": 0,
             "ticks": ""
            },
            "colorscale": [
             [
              0,
              "#0d0887"
             ],
             [
              0.1111111111111111,
              "#46039f"
             ],
             [
              0.2222222222222222,
              "#7201a8"
             ],
             [
              0.3333333333333333,
              "#9c179e"
             ],
             [
              0.4444444444444444,
              "#bd3786"
             ],
             [
              0.5555555555555556,
              "#d8576b"
             ],
             [
              0.6666666666666666,
              "#ed7953"
             ],
             [
              0.7777777777777778,
              "#fb9f3a"
             ],
             [
              0.8888888888888888,
              "#fdca26"
             ],
             [
              1,
              "#f0f921"
             ]
            ],
            "type": "heatmap"
           }
          ],
          "heatmapgl": [
           {
            "colorbar": {
             "outlinewidth": 0,
             "ticks": ""
            },
            "colorscale": [
             [
              0,
              "#0d0887"
             ],
             [
              0.1111111111111111,
              "#46039f"
             ],
             [
              0.2222222222222222,
              "#7201a8"
             ],
             [
              0.3333333333333333,
              "#9c179e"
             ],
             [
              0.4444444444444444,
              "#bd3786"
             ],
             [
              0.5555555555555556,
              "#d8576b"
             ],
             [
              0.6666666666666666,
              "#ed7953"
             ],
             [
              0.7777777777777778,
              "#fb9f3a"
             ],
             [
              0.8888888888888888,
              "#fdca26"
             ],
             [
              1,
              "#f0f921"
             ]
            ],
            "type": "heatmapgl"
           }
          ],
          "histogram": [
           {
            "marker": {
             "pattern": {
              "fillmode": "overlay",
              "size": 10,
              "solidity": 0.2
             }
            },
            "type": "histogram"
           }
          ],
          "histogram2d": [
           {
            "colorbar": {
             "outlinewidth": 0,
             "ticks": ""
            },
            "colorscale": [
             [
              0,
              "#0d0887"
             ],
             [
              0.1111111111111111,
              "#46039f"
             ],
             [
              0.2222222222222222,
              "#7201a8"
             ],
             [
              0.3333333333333333,
              "#9c179e"
             ],
             [
              0.4444444444444444,
              "#bd3786"
             ],
             [
              0.5555555555555556,
              "#d8576b"
             ],
             [
              0.6666666666666666,
              "#ed7953"
             ],
             [
              0.7777777777777778,
              "#fb9f3a"
             ],
             [
              0.8888888888888888,
              "#fdca26"
             ],
             [
              1,
              "#f0f921"
             ]
            ],
            "type": "histogram2d"
           }
          ],
          "histogram2dcontour": [
           {
            "colorbar": {
             "outlinewidth": 0,
             "ticks": ""
            },
            "colorscale": [
             [
              0,
              "#0d0887"
             ],
             [
              0.1111111111111111,
              "#46039f"
             ],
             [
              0.2222222222222222,
              "#7201a8"
             ],
             [
              0.3333333333333333,
              "#9c179e"
             ],
             [
              0.4444444444444444,
              "#bd3786"
             ],
             [
              0.5555555555555556,
              "#d8576b"
             ],
             [
              0.6666666666666666,
              "#ed7953"
             ],
             [
              0.7777777777777778,
              "#fb9f3a"
             ],
             [
              0.8888888888888888,
              "#fdca26"
             ],
             [
              1,
              "#f0f921"
             ]
            ],
            "type": "histogram2dcontour"
           }
          ],
          "mesh3d": [
           {
            "colorbar": {
             "outlinewidth": 0,
             "ticks": ""
            },
            "type": "mesh3d"
           }
          ],
          "parcoords": [
           {
            "line": {
             "colorbar": {
              "outlinewidth": 0,
              "ticks": ""
             }
            },
            "type": "parcoords"
           }
          ],
          "pie": [
           {
            "automargin": true,
            "type": "pie"
           }
          ],
          "scatter": [
           {
            "fillpattern": {
             "fillmode": "overlay",
             "size": 10,
             "solidity": 0.2
            },
            "type": "scatter"
           }
          ],
          "scatter3d": [
           {
            "line": {
             "colorbar": {
              "outlinewidth": 0,
              "ticks": ""
             }
            },
            "marker": {
             "colorbar": {
              "outlinewidth": 0,
              "ticks": ""
             }
            },
            "type": "scatter3d"
           }
          ],
          "scattercarpet": [
           {
            "marker": {
             "colorbar": {
              "outlinewidth": 0,
              "ticks": ""
             }
            },
            "type": "scattercarpet"
           }
          ],
          "scattergeo": [
           {
            "marker": {
             "colorbar": {
              "outlinewidth": 0,
              "ticks": ""
             }
            },
            "type": "scattergeo"
           }
          ],
          "scattergl": [
           {
            "marker": {
             "colorbar": {
              "outlinewidth": 0,
              "ticks": ""
             }
            },
            "type": "scattergl"
           }
          ],
          "scattermapbox": [
           {
            "marker": {
             "colorbar": {
              "outlinewidth": 0,
              "ticks": ""
             }
            },
            "type": "scattermapbox"
           }
          ],
          "scatterpolar": [
           {
            "marker": {
             "colorbar": {
              "outlinewidth": 0,
              "ticks": ""
             }
            },
            "type": "scatterpolar"
           }
          ],
          "scatterpolargl": [
           {
            "marker": {
             "colorbar": {
              "outlinewidth": 0,
              "ticks": ""
             }
            },
            "type": "scatterpolargl"
           }
          ],
          "scatterternary": [
           {
            "marker": {
             "colorbar": {
              "outlinewidth": 0,
              "ticks": ""
             }
            },
            "type": "scatterternary"
           }
          ],
          "surface": [
           {
            "colorbar": {
             "outlinewidth": 0,
             "ticks": ""
            },
            "colorscale": [
             [
              0,
              "#0d0887"
             ],
             [
              0.1111111111111111,
              "#46039f"
             ],
             [
              0.2222222222222222,
              "#7201a8"
             ],
             [
              0.3333333333333333,
              "#9c179e"
             ],
             [
              0.4444444444444444,
              "#bd3786"
             ],
             [
              0.5555555555555556,
              "#d8576b"
             ],
             [
              0.6666666666666666,
              "#ed7953"
             ],
             [
              0.7777777777777778,
              "#fb9f3a"
             ],
             [
              0.8888888888888888,
              "#fdca26"
             ],
             [
              1,
              "#f0f921"
             ]
            ],
            "type": "surface"
           }
          ],
          "table": [
           {
            "cells": {
             "fill": {
              "color": "#EBF0F8"
             },
             "line": {
              "color": "white"
             }
            },
            "header": {
             "fill": {
              "color": "#C8D4E3"
             },
             "line": {
              "color": "white"
             }
            },
            "type": "table"
           }
          ]
         },
         "layout": {
          "annotationdefaults": {
           "arrowcolor": "#2a3f5f",
           "arrowhead": 0,
           "arrowwidth": 1
          },
          "autotypenumbers": "strict",
          "coloraxis": {
           "colorbar": {
            "outlinewidth": 0,
            "ticks": ""
           }
          },
          "colorscale": {
           "diverging": [
            [
             0,
             "#8e0152"
            ],
            [
             0.1,
             "#c51b7d"
            ],
            [
             0.2,
             "#de77ae"
            ],
            [
             0.3,
             "#f1b6da"
            ],
            [
             0.4,
             "#fde0ef"
            ],
            [
             0.5,
             "#f7f7f7"
            ],
            [
             0.6,
             "#e6f5d0"
            ],
            [
             0.7,
             "#b8e186"
            ],
            [
             0.8,
             "#7fbc41"
            ],
            [
             0.9,
             "#4d9221"
            ],
            [
             1,
             "#276419"
            ]
           ],
           "sequential": [
            [
             0,
             "#0d0887"
            ],
            [
             0.1111111111111111,
             "#46039f"
            ],
            [
             0.2222222222222222,
             "#7201a8"
            ],
            [
             0.3333333333333333,
             "#9c179e"
            ],
            [
             0.4444444444444444,
             "#bd3786"
            ],
            [
             0.5555555555555556,
             "#d8576b"
            ],
            [
             0.6666666666666666,
             "#ed7953"
            ],
            [
             0.7777777777777778,
             "#fb9f3a"
            ],
            [
             0.8888888888888888,
             "#fdca26"
            ],
            [
             1,
             "#f0f921"
            ]
           ],
           "sequentialminus": [
            [
             0,
             "#0d0887"
            ],
            [
             0.1111111111111111,
             "#46039f"
            ],
            [
             0.2222222222222222,
             "#7201a8"
            ],
            [
             0.3333333333333333,
             "#9c179e"
            ],
            [
             0.4444444444444444,
             "#bd3786"
            ],
            [
             0.5555555555555556,
             "#d8576b"
            ],
            [
             0.6666666666666666,
             "#ed7953"
            ],
            [
             0.7777777777777778,
             "#fb9f3a"
            ],
            [
             0.8888888888888888,
             "#fdca26"
            ],
            [
             1,
             "#f0f921"
            ]
           ]
          },
          "colorway": [
           "#636efa",
           "#EF553B",
           "#00cc96",
           "#ab63fa",
           "#FFA15A",
           "#19d3f3",
           "#FF6692",
           "#B6E880",
           "#FF97FF",
           "#FECB52"
          ],
          "font": {
           "color": "#2a3f5f"
          },
          "geo": {
           "bgcolor": "white",
           "lakecolor": "white",
           "landcolor": "#E5ECF6",
           "showlakes": true,
           "showland": true,
           "subunitcolor": "white"
          },
          "hoverlabel": {
           "align": "left"
          },
          "hovermode": "closest",
          "mapbox": {
           "style": "light"
          },
          "paper_bgcolor": "white",
          "plot_bgcolor": "#E5ECF6",
          "polar": {
           "angularaxis": {
            "gridcolor": "white",
            "linecolor": "white",
            "ticks": ""
           },
           "bgcolor": "#E5ECF6",
           "radialaxis": {
            "gridcolor": "white",
            "linecolor": "white",
            "ticks": ""
           }
          },
          "scene": {
           "xaxis": {
            "backgroundcolor": "#E5ECF6",
            "gridcolor": "white",
            "gridwidth": 2,
            "linecolor": "white",
            "showbackground": true,
            "ticks": "",
            "zerolinecolor": "white"
           },
           "yaxis": {
            "backgroundcolor": "#E5ECF6",
            "gridcolor": "white",
            "gridwidth": 2,
            "linecolor": "white",
            "showbackground": true,
            "ticks": "",
            "zerolinecolor": "white"
           },
           "zaxis": {
            "backgroundcolor": "#E5ECF6",
            "gridcolor": "white",
            "gridwidth": 2,
            "linecolor": "white",
            "showbackground": true,
            "ticks": "",
            "zerolinecolor": "white"
           }
          },
          "shapedefaults": {
           "line": {
            "color": "#2a3f5f"
           }
          },
          "ternary": {
           "aaxis": {
            "gridcolor": "white",
            "linecolor": "white",
            "ticks": ""
           },
           "baxis": {
            "gridcolor": "white",
            "linecolor": "white",
            "ticks": ""
           },
           "bgcolor": "#E5ECF6",
           "caxis": {
            "gridcolor": "white",
            "linecolor": "white",
            "ticks": ""
           }
          },
          "title": {
           "x": 0.05
          },
          "xaxis": {
           "automargin": true,
           "gridcolor": "white",
           "linecolor": "white",
           "ticks": "",
           "title": {
            "standoff": 15
           },
           "zerolinecolor": "white",
           "zerolinewidth": 2
          },
          "yaxis": {
           "automargin": true,
           "gridcolor": "white",
           "linecolor": "white",
           "ticks": "",
           "title": {
            "standoff": 15
           },
           "zerolinecolor": "white",
           "zerolinewidth": 2
          }
         }
        },
        "title": {
         "text": "Interaction Distances for fold_k401_atp_tub_seed1_model_0 by Residue and Interacting Chain"
        },
        "xaxis": {
         "anchor": "y",
         "categoryarray": [
          "94T",
          "95S",
          "96S",
          "97G",
          "98K",
          "99T",
          "100H",
          "148K",
          "159N",
          "163H",
          "164E",
          "166K",
          "167N",
          "205N",
          "208S",
          "209S",
          "241G",
          "244K",
          "245V",
          "250A",
          "251E",
          "259K",
          "262N",
          "263K",
          "266S",
          "282H",
          "286R",
          "287D",
          "345A",
          "348W",
          "352Y",
          "355E",
          "359N",
          "362L",
          "363K",
          "366V",
          "369L",
          "370E",
          "372E",
          "373L",
          "377R",
          "387Q",
          "388I",
          "390M",
          "393L",
          "396A",
          "397S"
         ],
         "categoryorder": "array",
         "domain": [
          0,
          1
         ],
         "title": {
          "text": "Residue (Number and Identity)"
         }
        },
        "yaxis": {
         "anchor": "x",
         "domain": [
          0,
          1
         ],
         "title": {
          "text": "Distance (angstroms)"
         }
        }
       }
      }
     },
     "metadata": {},
     "output_type": "display_data"
    },
    {
     "name": "stderr",
     "output_type": "stream",
     "text": [
      "/var/folders/08/7vm2c9d11xvc7s0rf383rd480000gn/T/ipykernel_57000/2424036903.py:54: SettingWithCopyWarning:\n",
      "\n",
      "\n",
      "A value is trying to be set on a copy of a slice from a DataFrame.\n",
      "Try using .loc[row_indexer,col_indexer] = value instead\n",
      "\n",
      "See the caveats in the documentation: https://pandas.pydata.org/pandas-docs/stable/user_guide/indexing.html#returning-a-view-versus-a-copy\n",
      "\n"
     ]
    },
    {
     "data": {
      "application/vnd.plotly.v1+json": {
       "config": {
        "plotlyServerURL": "https://plot.ly"
       },
       "data": [
        {
         "customdata": [
          [
           "fold_k401monomer_atp_tub_seed1_model_0",
           "157E"
          ],
          [
           "fold_k401monomer_atp_tub_seed1_model_0",
           "157E"
          ],
          [
           "fold_k401monomer_atp_tub_seed1_model_0",
           "410E"
          ],
          [
           "fold_k401monomer_atp_tub_seed1_model_0",
           "413S"
          ],
          [
           "fold_k401monomer_atp_tub_seed1_model_0",
           "412E"
          ],
          [
           "fold_k401monomer_atp_tub_seed1_model_0",
           "432E"
          ],
          [
           "fold_k401monomer_atp_tub_seed1_model_0",
           "424Q"
          ],
          [
           "fold_k401monomer_atp_tub_seed1_model_0",
           "417D"
          ],
          [
           "fold_k401monomer_atp_tub_seed1_model_0",
           "262R"
          ]
         ],
         "hovertemplate": "Interacting Chain=alpha-tubulin<br>Residue (Number and Identity)=%{x}<br>Distance (angstroms)=%{y}<br>text=%{text}<br>file=%{customdata[0]}<br>interacting_label=%{customdata[1]}<extra></extra>",
         "legendgroup": "alpha-tubulin",
         "marker": {
          "color": "#636efa",
          "opacity": 0.6,
          "size": 10,
          "symbol": "circle"
         },
         "mode": "markers+text",
         "name": "alpha-tubulin",
         "orientation": "v",
         "showlegend": true,
         "text": [
          "157E",
          "157E",
          "410E",
          "413S",
          "412E",
          "432E",
          "424Q",
          "417D",
          "262R"
         ],
         "textposition": "top center",
         "type": "scatter",
         "x": [
          "148K",
          "159N",
          "163H",
          "164E",
          "168R",
          "280K",
          "282H",
          "286R",
          "287D"
         ],
         "xaxis": "x",
         "y": [
          2.959439992904663,
          3.445338010787964,
          2.687521457672119,
          2.955756902694702,
          3.2466304302215576,
          2.917971611022949,
          2.7463200092315674,
          2.4092843532562256,
          3.2657229900360107
         ],
         "yaxis": "y"
        },
        {
         "customdata": [
          [
           "fold_k401monomer_atp_tub_seed1_model_0",
           "420E"
          ],
          [
           "fold_k401monomer_atp_tub_seed1_model_0",
           "412G"
          ],
          [
           "fold_k401monomer_atp_tub_seed1_model_0",
           "112K"
          ],
          [
           "fold_k401monomer_atp_tub_seed1_model_0",
           "112K"
          ],
          [
           "fold_k401monomer_atp_tub_seed1_model_0",
           "410G"
          ],
          [
           "fold_k401monomer_atp_tub_seed1_model_0",
           "409V"
          ],
          [
           "fold_k401monomer_atp_tub_seed1_model_0",
           "409V"
          ],
          [
           "fold_k401monomer_atp_tub_seed1_model_0",
           "415E"
          ],
          [
           "fold_k401monomer_atp_tub_seed1_model_0",
           "402R"
          ]
         ],
         "hovertemplate": "Interacting Chain=kinesin B<br>Residue (Number and Identity)=%{x}<br>Distance (angstroms)=%{y}<br>text=%{text}<br>file=%{customdata[0]}<br>interacting_label=%{customdata[1]}<extra></extra>",
         "legendgroup": "kinesin B",
         "marker": {
          "color": "#EF553B",
          "opacity": 0.6,
          "size": 10,
          "symbol": "circle"
         },
         "mode": "markers+text",
         "name": "kinesin B",
         "orientation": "v",
         "showlegend": true,
         "text": [
          "420E",
          "412G",
          "112K",
          "112K",
          "410G",
          "409V",
          "409V",
          "415E",
          "402R"
         ],
         "textposition": "top center",
         "type": "scatter",
         "x": [
          "244K",
          "245V",
          "250A",
          "251E",
          "259K",
          "262N",
          "263K",
          "266S",
          "270N"
         ],
         "xaxis": "x",
         "y": [
          2.45444393157959,
          3.171671152114868,
          3.486215353012085,
          2.933490514755249,
          3.3760435581207275,
          3.4887471199035645,
          3.389737367630005,
          2.518489122390747,
          3.415260076522827
         ],
         "yaxis": "y"
        }
       ],
       "layout": {
        "legend": {
         "title": {
          "text": "Interacting Chain"
         },
         "tracegroupgap": 0
        },
        "template": {
         "data": {
          "bar": [
           {
            "error_x": {
             "color": "#2a3f5f"
            },
            "error_y": {
             "color": "#2a3f5f"
            },
            "marker": {
             "line": {
              "color": "#E5ECF6",
              "width": 0.5
             },
             "pattern": {
              "fillmode": "overlay",
              "size": 10,
              "solidity": 0.2
             }
            },
            "type": "bar"
           }
          ],
          "barpolar": [
           {
            "marker": {
             "line": {
              "color": "#E5ECF6",
              "width": 0.5
             },
             "pattern": {
              "fillmode": "overlay",
              "size": 10,
              "solidity": 0.2
             }
            },
            "type": "barpolar"
           }
          ],
          "carpet": [
           {
            "aaxis": {
             "endlinecolor": "#2a3f5f",
             "gridcolor": "white",
             "linecolor": "white",
             "minorgridcolor": "white",
             "startlinecolor": "#2a3f5f"
            },
            "baxis": {
             "endlinecolor": "#2a3f5f",
             "gridcolor": "white",
             "linecolor": "white",
             "minorgridcolor": "white",
             "startlinecolor": "#2a3f5f"
            },
            "type": "carpet"
           }
          ],
          "choropleth": [
           {
            "colorbar": {
             "outlinewidth": 0,
             "ticks": ""
            },
            "type": "choropleth"
           }
          ],
          "contour": [
           {
            "colorbar": {
             "outlinewidth": 0,
             "ticks": ""
            },
            "colorscale": [
             [
              0,
              "#0d0887"
             ],
             [
              0.1111111111111111,
              "#46039f"
             ],
             [
              0.2222222222222222,
              "#7201a8"
             ],
             [
              0.3333333333333333,
              "#9c179e"
             ],
             [
              0.4444444444444444,
              "#bd3786"
             ],
             [
              0.5555555555555556,
              "#d8576b"
             ],
             [
              0.6666666666666666,
              "#ed7953"
             ],
             [
              0.7777777777777778,
              "#fb9f3a"
             ],
             [
              0.8888888888888888,
              "#fdca26"
             ],
             [
              1,
              "#f0f921"
             ]
            ],
            "type": "contour"
           }
          ],
          "contourcarpet": [
           {
            "colorbar": {
             "outlinewidth": 0,
             "ticks": ""
            },
            "type": "contourcarpet"
           }
          ],
          "heatmap": [
           {
            "colorbar": {
             "outlinewidth": 0,
             "ticks": ""
            },
            "colorscale": [
             [
              0,
              "#0d0887"
             ],
             [
              0.1111111111111111,
              "#46039f"
             ],
             [
              0.2222222222222222,
              "#7201a8"
             ],
             [
              0.3333333333333333,
              "#9c179e"
             ],
             [
              0.4444444444444444,
              "#bd3786"
             ],
             [
              0.5555555555555556,
              "#d8576b"
             ],
             [
              0.6666666666666666,
              "#ed7953"
             ],
             [
              0.7777777777777778,
              "#fb9f3a"
             ],
             [
              0.8888888888888888,
              "#fdca26"
             ],
             [
              1,
              "#f0f921"
             ]
            ],
            "type": "heatmap"
           }
          ],
          "heatmapgl": [
           {
            "colorbar": {
             "outlinewidth": 0,
             "ticks": ""
            },
            "colorscale": [
             [
              0,
              "#0d0887"
             ],
             [
              0.1111111111111111,
              "#46039f"
             ],
             [
              0.2222222222222222,
              "#7201a8"
             ],
             [
              0.3333333333333333,
              "#9c179e"
             ],
             [
              0.4444444444444444,
              "#bd3786"
             ],
             [
              0.5555555555555556,
              "#d8576b"
             ],
             [
              0.6666666666666666,
              "#ed7953"
             ],
             [
              0.7777777777777778,
              "#fb9f3a"
             ],
             [
              0.8888888888888888,
              "#fdca26"
             ],
             [
              1,
              "#f0f921"
             ]
            ],
            "type": "heatmapgl"
           }
          ],
          "histogram": [
           {
            "marker": {
             "pattern": {
              "fillmode": "overlay",
              "size": 10,
              "solidity": 0.2
             }
            },
            "type": "histogram"
           }
          ],
          "histogram2d": [
           {
            "colorbar": {
             "outlinewidth": 0,
             "ticks": ""
            },
            "colorscale": [
             [
              0,
              "#0d0887"
             ],
             [
              0.1111111111111111,
              "#46039f"
             ],
             [
              0.2222222222222222,
              "#7201a8"
             ],
             [
              0.3333333333333333,
              "#9c179e"
             ],
             [
              0.4444444444444444,
              "#bd3786"
             ],
             [
              0.5555555555555556,
              "#d8576b"
             ],
             [
              0.6666666666666666,
              "#ed7953"
             ],
             [
              0.7777777777777778,
              "#fb9f3a"
             ],
             [
              0.8888888888888888,
              "#fdca26"
             ],
             [
              1,
              "#f0f921"
             ]
            ],
            "type": "histogram2d"
           }
          ],
          "histogram2dcontour": [
           {
            "colorbar": {
             "outlinewidth": 0,
             "ticks": ""
            },
            "colorscale": [
             [
              0,
              "#0d0887"
             ],
             [
              0.1111111111111111,
              "#46039f"
             ],
             [
              0.2222222222222222,
              "#7201a8"
             ],
             [
              0.3333333333333333,
              "#9c179e"
             ],
             [
              0.4444444444444444,
              "#bd3786"
             ],
             [
              0.5555555555555556,
              "#d8576b"
             ],
             [
              0.6666666666666666,
              "#ed7953"
             ],
             [
              0.7777777777777778,
              "#fb9f3a"
             ],
             [
              0.8888888888888888,
              "#fdca26"
             ],
             [
              1,
              "#f0f921"
             ]
            ],
            "type": "histogram2dcontour"
           }
          ],
          "mesh3d": [
           {
            "colorbar": {
             "outlinewidth": 0,
             "ticks": ""
            },
            "type": "mesh3d"
           }
          ],
          "parcoords": [
           {
            "line": {
             "colorbar": {
              "outlinewidth": 0,
              "ticks": ""
             }
            },
            "type": "parcoords"
           }
          ],
          "pie": [
           {
            "automargin": true,
            "type": "pie"
           }
          ],
          "scatter": [
           {
            "fillpattern": {
             "fillmode": "overlay",
             "size": 10,
             "solidity": 0.2
            },
            "type": "scatter"
           }
          ],
          "scatter3d": [
           {
            "line": {
             "colorbar": {
              "outlinewidth": 0,
              "ticks": ""
             }
            },
            "marker": {
             "colorbar": {
              "outlinewidth": 0,
              "ticks": ""
             }
            },
            "type": "scatter3d"
           }
          ],
          "scattercarpet": [
           {
            "marker": {
             "colorbar": {
              "outlinewidth": 0,
              "ticks": ""
             }
            },
            "type": "scattercarpet"
           }
          ],
          "scattergeo": [
           {
            "marker": {
             "colorbar": {
              "outlinewidth": 0,
              "ticks": ""
             }
            },
            "type": "scattergeo"
           }
          ],
          "scattergl": [
           {
            "marker": {
             "colorbar": {
              "outlinewidth": 0,
              "ticks": ""
             }
            },
            "type": "scattergl"
           }
          ],
          "scattermapbox": [
           {
            "marker": {
             "colorbar": {
              "outlinewidth": 0,
              "ticks": ""
             }
            },
            "type": "scattermapbox"
           }
          ],
          "scatterpolar": [
           {
            "marker": {
             "colorbar": {
              "outlinewidth": 0,
              "ticks": ""
             }
            },
            "type": "scatterpolar"
           }
          ],
          "scatterpolargl": [
           {
            "marker": {
             "colorbar": {
              "outlinewidth": 0,
              "ticks": ""
             }
            },
            "type": "scatterpolargl"
           }
          ],
          "scatterternary": [
           {
            "marker": {
             "colorbar": {
              "outlinewidth": 0,
              "ticks": ""
             }
            },
            "type": "scatterternary"
           }
          ],
          "surface": [
           {
            "colorbar": {
             "outlinewidth": 0,
             "ticks": ""
            },
            "colorscale": [
             [
              0,
              "#0d0887"
             ],
             [
              0.1111111111111111,
              "#46039f"
             ],
             [
              0.2222222222222222,
              "#7201a8"
             ],
             [
              0.3333333333333333,
              "#9c179e"
             ],
             [
              0.4444444444444444,
              "#bd3786"
             ],
             [
              0.5555555555555556,
              "#d8576b"
             ],
             [
              0.6666666666666666,
              "#ed7953"
             ],
             [
              0.7777777777777778,
              "#fb9f3a"
             ],
             [
              0.8888888888888888,
              "#fdca26"
             ],
             [
              1,
              "#f0f921"
             ]
            ],
            "type": "surface"
           }
          ],
          "table": [
           {
            "cells": {
             "fill": {
              "color": "#EBF0F8"
             },
             "line": {
              "color": "white"
             }
            },
            "header": {
             "fill": {
              "color": "#C8D4E3"
             },
             "line": {
              "color": "white"
             }
            },
            "type": "table"
           }
          ]
         },
         "layout": {
          "annotationdefaults": {
           "arrowcolor": "#2a3f5f",
           "arrowhead": 0,
           "arrowwidth": 1
          },
          "autotypenumbers": "strict",
          "coloraxis": {
           "colorbar": {
            "outlinewidth": 0,
            "ticks": ""
           }
          },
          "colorscale": {
           "diverging": [
            [
             0,
             "#8e0152"
            ],
            [
             0.1,
             "#c51b7d"
            ],
            [
             0.2,
             "#de77ae"
            ],
            [
             0.3,
             "#f1b6da"
            ],
            [
             0.4,
             "#fde0ef"
            ],
            [
             0.5,
             "#f7f7f7"
            ],
            [
             0.6,
             "#e6f5d0"
            ],
            [
             0.7,
             "#b8e186"
            ],
            [
             0.8,
             "#7fbc41"
            ],
            [
             0.9,
             "#4d9221"
            ],
            [
             1,
             "#276419"
            ]
           ],
           "sequential": [
            [
             0,
             "#0d0887"
            ],
            [
             0.1111111111111111,
             "#46039f"
            ],
            [
             0.2222222222222222,
             "#7201a8"
            ],
            [
             0.3333333333333333,
             "#9c179e"
            ],
            [
             0.4444444444444444,
             "#bd3786"
            ],
            [
             0.5555555555555556,
             "#d8576b"
            ],
            [
             0.6666666666666666,
             "#ed7953"
            ],
            [
             0.7777777777777778,
             "#fb9f3a"
            ],
            [
             0.8888888888888888,
             "#fdca26"
            ],
            [
             1,
             "#f0f921"
            ]
           ],
           "sequentialminus": [
            [
             0,
             "#0d0887"
            ],
            [
             0.1111111111111111,
             "#46039f"
            ],
            [
             0.2222222222222222,
             "#7201a8"
            ],
            [
             0.3333333333333333,
             "#9c179e"
            ],
            [
             0.4444444444444444,
             "#bd3786"
            ],
            [
             0.5555555555555556,
             "#d8576b"
            ],
            [
             0.6666666666666666,
             "#ed7953"
            ],
            [
             0.7777777777777778,
             "#fb9f3a"
            ],
            [
             0.8888888888888888,
             "#fdca26"
            ],
            [
             1,
             "#f0f921"
            ]
           ]
          },
          "colorway": [
           "#636efa",
           "#EF553B",
           "#00cc96",
           "#ab63fa",
           "#FFA15A",
           "#19d3f3",
           "#FF6692",
           "#B6E880",
           "#FF97FF",
           "#FECB52"
          ],
          "font": {
           "color": "#2a3f5f"
          },
          "geo": {
           "bgcolor": "white",
           "lakecolor": "white",
           "landcolor": "#E5ECF6",
           "showlakes": true,
           "showland": true,
           "subunitcolor": "white"
          },
          "hoverlabel": {
           "align": "left"
          },
          "hovermode": "closest",
          "mapbox": {
           "style": "light"
          },
          "paper_bgcolor": "white",
          "plot_bgcolor": "#E5ECF6",
          "polar": {
           "angularaxis": {
            "gridcolor": "white",
            "linecolor": "white",
            "ticks": ""
           },
           "bgcolor": "#E5ECF6",
           "radialaxis": {
            "gridcolor": "white",
            "linecolor": "white",
            "ticks": ""
           }
          },
          "scene": {
           "xaxis": {
            "backgroundcolor": "#E5ECF6",
            "gridcolor": "white",
            "gridwidth": 2,
            "linecolor": "white",
            "showbackground": true,
            "ticks": "",
            "zerolinecolor": "white"
           },
           "yaxis": {
            "backgroundcolor": "#E5ECF6",
            "gridcolor": "white",
            "gridwidth": 2,
            "linecolor": "white",
            "showbackground": true,
            "ticks": "",
            "zerolinecolor": "white"
           },
           "zaxis": {
            "backgroundcolor": "#E5ECF6",
            "gridcolor": "white",
            "gridwidth": 2,
            "linecolor": "white",
            "showbackground": true,
            "ticks": "",
            "zerolinecolor": "white"
           }
          },
          "shapedefaults": {
           "line": {
            "color": "#2a3f5f"
           }
          },
          "ternary": {
           "aaxis": {
            "gridcolor": "white",
            "linecolor": "white",
            "ticks": ""
           },
           "baxis": {
            "gridcolor": "white",
            "linecolor": "white",
            "ticks": ""
           },
           "bgcolor": "#E5ECF6",
           "caxis": {
            "gridcolor": "white",
            "linecolor": "white",
            "ticks": ""
           }
          },
          "title": {
           "x": 0.05
          },
          "xaxis": {
           "automargin": true,
           "gridcolor": "white",
           "linecolor": "white",
           "ticks": "",
           "title": {
            "standoff": 15
           },
           "zerolinecolor": "white",
           "zerolinewidth": 2
          },
          "yaxis": {
           "automargin": true,
           "gridcolor": "white",
           "linecolor": "white",
           "ticks": "",
           "title": {
            "standoff": 15
           },
           "zerolinecolor": "white",
           "zerolinewidth": 2
          }
         }
        },
        "title": {
         "text": "Interaction Distances for fold_k401monomer_atp_tub_seed1_model_0 by Residue and Interacting Chain"
        },
        "xaxis": {
         "anchor": "y",
         "categoryarray": [
          "148K",
          "159N",
          "163H",
          "164E",
          "168R",
          "244K",
          "245V",
          "250A",
          "251E",
          "259K",
          "262N",
          "263K",
          "266S",
          "270N",
          "280K",
          "282H",
          "286R",
          "287D"
         ],
         "categoryorder": "array",
         "domain": [
          0,
          1
         ],
         "title": {
          "text": "Residue (Number and Identity)"
         }
        },
        "yaxis": {
         "anchor": "x",
         "domain": [
          0,
          1
         ],
         "title": {
          "text": "Distance (angstroms)"
         }
        }
       }
      }
     },
     "metadata": {},
     "output_type": "display_data"
    }
   ],
   "source": [
    "import pandas as pd\n",
    "import plotly.express as px\n",
    "\n",
    "# Define the path to the CSV file\n",
    "csv_file_path = '/Users/jazzeruncal/git/Jazzer_surf/3d_predictions/same_seed/Seed_1/interactions_all_files.csv'\n",
    "\n",
    "# Read the CSV file into a DataFrame\n",
    "df = pd.read_csv(csv_file_path)\n",
    "\n",
    "# Print column names to check for correct naming\n",
    "print(df.columns)\n",
    "\n",
    "# Adjust the column names if necessary\n",
    "# Assuming the columns are named 'resi' instead of 'residue_number'\n",
    "residue_column = 'resi'\n",
    "amino_acid_column = 'residue_one_letter'\n",
    "\n",
    "# Filter to get the shortest distances for each interaction\n",
    "df = df.loc[df[df['chain'] == 'A'].groupby(['file', residue_column, 'interacting_chain'])['distance (angstroms)'].idxmin()]\n",
    "\n",
    "# Exclude interactions with Mg and chain letters A, G, H\n",
    "df = df[(df['interacting_resn'] != 'MG') & (~df['interacting_chain'].isin(['A', 'G', 'H']))].reset_index(drop=True)\n",
    "\n",
    "# Map interacting_resn to single-letter codes for better readability\n",
    "aa_dict = {\n",
    "    'ALA': 'A', 'ARG': 'R', 'ASN': 'N', 'ASP': 'D', 'CYS': 'C', 'GLN': 'Q', 'GLU': 'E', 'GLY': 'G',\n",
    "    'HIS': 'H', 'ILE': 'I', 'LEU': 'L', 'LYS': 'K', 'MET': 'M', 'PHE': 'F', 'PRO': 'P', 'SER': 'S',\n",
    "    'THR': 'T', 'TRP': 'W', 'TYR': 'Y', 'VAL': 'V'\n",
    "}\n",
    "df['residue_one_letter'] = df['resn'].map(aa_dict)\n",
    "df['residue'] = df[residue_column].astype(str) + df['residue_one_letter']\n",
    "\n",
    "# Replace chain letters with descriptive names\n",
    "chain_map = {\n",
    "    'B': 'kinesin B',\n",
    "    'C': 'alpha-tubulin',\n",
    "    'D': 'beta-tubulin',\n",
    "    'E': 'ATP',\n",
    "    'F': 'ATP'\n",
    "}\n",
    "df['interacting_chain'] = df['interacting_chain'].map(chain_map)\n",
    "\n",
    "# Create a new column for the interacting residue label\n",
    "df['interacting_label'] = df['interacting_resinumber'].astype(str) + df['interactingresi_oneletter']\n",
    "\n",
    "# Create a plot for each file\n",
    "unique_files = df['file'].unique()\n",
    "\n",
    "for file in unique_files:\n",
    "    # Filter the DataFrame for the current file\n",
    "    file_df = df[df['file'] == file]\n",
    "\n",
    "    # Create a new column for the x-axis labels by concatenating residue number and amino acid\n",
    "    file_df['residue_label'] = file_df[residue_column].astype(str) + file_df[amino_acid_column]\n",
    "\n",
    "    # Sort the DataFrame by residue number to maintain order\n",
    "    file_df = file_df.sort_values(by=[residue_column])\n",
    "\n",
    "    # Convert residue_label to a categorical type with the correct order\n",
    "    file_df['residue_label'] = pd.Categorical(file_df['residue_label'], \n",
    "                                              categories=sorted(file_df['residue_label'].unique(), key=lambda x: int(''.join(filter(str.isdigit, x)))), \n",
    "                                              ordered=True)\n",
    "\n",
    "    # Create the text for the points\n",
    "    file_df['text'] = file_df['interacting_resinumber'].astype(str) + file_df['interactingresi_oneletter']\n",
    "\n",
    "    # Scatter plot for interaction distances with custom x-axis labels\n",
    "    fig_scatter = px.scatter(file_df, x='residue_label', y='distance (angstroms)', color='interacting_chain', text='text',\n",
    "                             title=f'Interaction Distances for {file} by Residue and Interacting Chain',\n",
    "                             labels={'residue_label': 'Residue (Number and Identity)', 'distance (angstroms)': 'Distance (angstroms)', 'interacting_chain': 'Interacting Chain'},\n",
    "                             hover_data=['file', 'interacting_label'])\n",
    "\n",
    "    fig_scatter.update_traces(textposition='top center', marker=dict(size=10, opacity=0.6))\n",
    "    fig_scatter.update_layout(xaxis={'categoryorder':'array', 'categoryarray': file_df['residue_label'].cat.categories})\n",
    "\n",
    "    # Show the plot\n",
    "    fig_scatter.show()\n"
   ]
  },
  {
   "cell_type": "markdown",
   "metadata": {},
   "source": [
    "the following is to show kif3 from different seeds"
   ]
  },
  {
   "cell_type": "code",
   "execution_count": 58,
   "metadata": {},
   "outputs": [
    {
     "name": "stdout",
     "output_type": "stream",
     "text": [
      "Found files: ['/Users/jazzeruncal/git/Jazzer_surf/3d_predictions/same_seed/interactions_all_files.csv', '/Users/jazzeruncal/git/Jazzer_surf/3d_predictions/same_seed/Seed_2/interactions_all_files.csv', '/Users/jazzeruncal/git/Jazzer_surf/3d_predictions/same_seed/Seed_1/interactions_all_files.csv']\n"
     ]
    },
    {
     "data": {
      "application/vnd.plotly.v1+json": {
       "config": {
        "plotlyServerURL": "https://plot.ly"
       },
       "data": [
        {
         "customdata": [
          [
           "fold_c_atp_tub_sameseed_model_0",
           345,
           "A"
          ],
          [
           "fold_c_atp_tub_sameseed_model_0",
           345,
           "A"
          ],
          [
           "fold_c_atp_tub_sameseed_model_0",
           349,
           "K"
          ],
          [
           "fold_c_atp_tub_sameseed_model_0",
           352,
           "Y"
          ],
          [
           "fold_c_atp_tub_sameseed_model_0",
           356,
           "K"
          ],
          [
           "fold_c_atp_tub_sameseed_model_0",
           2,
           "S"
          ],
          [
           "fold_c_atp_tub_sameseed_model_0",
           2,
           "S"
          ],
          [
           "fold_c_atp_tub_sameseed_model_0",
           348,
           "W"
          ],
          [
           "fold_c_atp_tub_sameseed_model_0",
           4,
           "E"
          ],
          [
           "fold_c_atp_tub_sameseed_model_0",
           4,
           "E"
          ],
          [
           "fold_c_atp_tub_sameseed_model_0",
           359,
           "N"
          ],
          [
           "fold_c_atp_tub_sameseed_model_0",
           355,
           "E"
          ],
          [
           "fold_c_atp_tub_sameseed_model_0",
           359,
           "N"
          ],
          [
           "fold_c_atp_tub_sameseed_model_0",
           370,
           "E"
          ],
          [
           "fold_c_atp_tub_sameseed_model_0",
           373,
           "L"
          ],
          [
           "fold_c_atp_tub_sameseed_model_0",
           365,
           "K"
          ],
          [
           "fold_c_atp_tub_sameseed_model_0",
           377,
           "R"
          ],
          [
           "fold_c_atp_tub_sameseed_model_0",
           372,
           "E"
          ],
          [
           "fold_c_atp_tub_sameseed_model_0",
           372,
           "E"
          ],
          [
           "fold_c_atp_tub_sameseed_model_0",
           377,
           "R"
          ],
          [
           "fold_c_atp_tub_sameseed_model_0",
           377,
           "R"
          ],
          [
           "fold_e_atp_tub_sameseed_model_0",
           348,
           "L"
          ],
          [
           "fold_e_atp_tub_sameseed_model_0",
           345,
           "A"
          ],
          [
           "fold_e_atp_tub_sameseed_model_0",
           363,
           "K"
          ],
          [
           "fold_e_atp_tub_sameseed_model_0",
           366,
           "I"
          ],
          [
           "fold_e_atp_tub_sameseed_model_0",
           358,
           "E"
          ],
          [
           "fold_e_atp_tub_sameseed_model_0",
           377,
           "V"
          ],
          [
           "fold_e_atp_tub_sameseed_model_0",
           366,
           "I"
          ],
          [
           "fold_e_atp_tub_sameseed_model_0",
           365,
           "Y"
          ],
          [
           "fold_e_atp_tub_sameseed_model_0",
           380,
           "L"
          ],
          [
           "fold_e_atp_tub_sameseed_model_0",
           373,
           "S"
          ],
          [
           "fold_e_atp_tub_sameseed_model_0",
           369,
           "L"
          ],
          [
           "fold_e_atp_tub_sameseed_model_0",
           365,
           "Y"
          ],
          [
           "fold_e_atp_tub_sameseed_model_0",
           372,
           "V"
          ],
          [
           "fold_e_atp_tub_sameseed_model_0",
           448,
           "T"
          ],
          [
           "fold_e_atp_tub_sameseed_model_0",
           456,
           "I"
          ],
          [
           "fold_e_atp_tub_sameseed_model_0",
           467,
           "E"
          ],
          [
           "fold_e_atp_tub_sameseed_model_0",
           463,
           "C"
          ],
          [
           "fold_e_atp_tub_sameseed_model_0",
           462,
           "K"
          ],
          [
           "fold_e_atp_tub_sameseed_model_0",
           470,
           "L"
          ],
          [
           "fold_e_atp_tub_sameseed_model_0",
           470,
           "L"
          ],
          [
           "fold_e_atp_tub_sameseed_model_0",
           474,
           "E"
          ],
          [
           "fold_e_atp_tub_sameseed_model_0",
           473,
           "K"
          ],
          [
           "fold_e_atp_tub_sameseed_model_0",
           477,
           "K"
          ],
          [
           "fold_e_atp_tub_sameseed_model_0",
           476,
           "E"
          ],
          [
           "fold_e_atp_tub_sameseed_model_0",
           477,
           "K"
          ],
          [
           "fold_e_atp_tub_sameseed_model_0",
           487,
           "Q"
          ],
          [
           "fold_e_atp_tub_sameseed_model_0",
           488,
           "Q"
          ],
          [
           "fold_e_atp_tub_sameseed_model_0",
           487,
           "Q"
          ],
          [
           "fold_e_atp_tub_sameseed_model_0",
           494,
           "K"
          ],
          [
           "fold_e_atp_tub_sameseed_model_0",
           495,
           "D"
          ],
          [
           "fold_e_atp_tub_sameseed_model_0",
           494,
           "K"
          ],
          [
           "fold_e_atp_tub_sameseed_model_0",
           498,
           "I"
          ],
          [
           "fold_e_atp_tub_sameseed_model_0",
           497,
           "E"
          ],
          [
           "fold_e_atp_tub_sameseed_model_0",
           505,
           "I"
          ],
          [
           "fold_e_atp_tub_sameseed_model_0",
           501,
           "L"
          ],
          [
           "fold_e_atp_tub_sameseed_model_0",
           501,
           "L"
          ],
          [
           "fold_e_atp_tub_sameseed_model_0",
           508,
           "S"
          ],
          [
           "fold_e_atp_tub_sameseed_model_0",
           512,
           "N"
          ],
          [
           "fold_e_atp_tub_sameseed_model_0",
           511,
           "I"
          ],
          [
           "fold_e_atp_tub_sameseed_model_0",
           515,
           "Y"
          ],
          [
           "fold_e_atp_tub_sameseed_model_0",
           514,
           "L"
          ],
          [
           "fold_e_atp_tub_sameseed_model_0",
           518,
           "S"
          ],
          [
           "fold_e_atp_tub_sameseed_model_0",
           525,
           "L"
          ],
          [
           "fold_e_atp_tub_sameseed_model_0",
           522,
           "N"
          ],
          [
           "fold_e_atp_tub_sameseed_model_0",
           525,
           "L"
          ],
          [
           "fold_e_atp_tub_sameseed_model_0",
           525,
           "L"
          ],
          [
           "fold_e_atp_tub_sameseed_model_0",
           536,
           "L"
          ],
          [
           "fold_e_atp_tub_sameseed_model_0",
           536,
           "L"
          ],
          [
           "fold_e_atp_tub_sameseed_model_0",
           535,
           "A"
          ],
          [
           "fold_e_atp_tub_sameseed_model_0",
           539,
           "S"
          ],
          [
           "fold_e_atp_tub_sameseed_model_0",
           539,
           "S"
          ],
          [
           "fold_e_atp_tub_sameseed_model_0",
           546,
           "Q"
          ],
          [
           "fold_e_atp_tub_sameseed_model_0",
           543,
           "A"
          ],
          [
           "fold_e_atp_tub_sameseed_model_0",
           550,
           "I"
          ],
          [
           "fold_e_atp_tub_sameseed_model_0",
           554,
           "N"
          ],
          [
           "fold_e_atp_tub_sameseed_model_0",
           553,
           "L"
          ],
          [
           "fold_e_atp_tub_sameseed_model_0",
           561,
           "K"
          ],
          [
           "fold_e_atp_tub_sameseed_model_0",
           557,
           "N"
          ],
          [
           "fold_e_atp_tub_sameseed_model_0",
           557,
           "N"
          ],
          [
           "fold_e_atp_tub_sameseed_model_0",
           556,
           "E"
          ],
          [
           "fold_e_atp_tub_sameseed_model_0",
           564,
           "L"
          ],
          [
           "fold_e_atp_tub_sameseed_model_0",
           571,
           "I"
          ],
          [
           "fold_e_atp_tub_sameseed_model_0",
           582,
           "L"
          ],
          [
           "fold_e_atp_tub_sameseed_model_0",
           567,
           "L"
          ],
          [
           "fold_e_atp_tub_sameseed_model_0",
           579,
           "I"
          ],
          [
           "fold_e_atp_tub_sameseed_model_0",
           574,
           "S"
          ],
          [
           "fold_e_atp_tub_sameseed_model_0",
           570,
           "R"
          ],
          [
           "fold_k401_atp_tub_333_model_0",
           346,
           "E"
          ],
          [
           "fold_k401_atp_tub_333_model_0",
           348,
           "W"
          ],
          [
           "fold_k401_atp_tub_333_model_0",
           166,
           "K"
          ],
          [
           "fold_k401_atp_tub_333_model_0",
           348,
           "W"
          ],
          [
           "fold_k401_atp_tub_333_model_0",
           355,
           "E"
          ],
          [
           "fold_k401_atp_tub_333_model_0",
           359,
           "N"
          ],
          [
           "fold_k401_atp_tub_333_model_0",
           355,
           "E"
          ],
          [
           "fold_k401_atp_tub_333_model_0",
           359,
           "N"
          ],
          [
           "fold_k401_atp_tub_333_model_0",
           370,
           "E"
          ],
          [
           "fold_k401_atp_tub_333_model_0",
           373,
           "L"
          ],
          [
           "fold_k401_atp_tub_333_model_0",
           365,
           "K"
          ],
          [
           "fold_k401_atp_tub_333_model_0",
           377,
           "R"
          ],
          [
           "fold_k401_atp_tub_333_model_0",
           372,
           "E"
          ],
          [
           "fold_k401_atp_tub_333_model_0",
           372,
           "E"
          ],
          [
           "fold_k401_atp_tub_333_model_0",
           377,
           "R"
          ],
          [
           "fold_k401_atp_tub_333_model_0",
           377,
           "R"
          ],
          [
           "fold_k401_atp_tub_333_model_0",
           377,
           "R"
          ],
          [
           "fold_kif3_atp_tub_sameseed_model_0",
           344,
           "L"
          ],
          [
           "fold_kif3_atp_tub_sameseed_model_0",
           341,
           "A"
          ],
          [
           "fold_kif3_atp_tub_sameseed_model_0",
           359,
           "K"
          ],
          [
           "fold_kif3_atp_tub_sameseed_model_0",
           355,
           "I"
          ],
          [
           "fold_kif3_atp_tub_sameseed_model_0",
           362,
           "I"
          ],
          [
           "fold_kif3_atp_tub_sameseed_model_0",
           354,
           "E"
          ],
          [
           "fold_kif3_atp_tub_sameseed_model_0",
           366,
           "E"
          ],
          [
           "fold_kif3_atp_tub_sameseed_model_0",
           362,
           "I"
          ],
          [
           "fold_kif3_atp_tub_sameseed_model_0",
           371,
           "V"
          ],
          [
           "fold_kif3_atp_tub_sameseed_model_0",
           361,
           "Y"
          ],
          [
           "fold_kif3_atp_tub_sameseed_model_0",
           376,
           "L"
          ],
          [
           "fold_kif3_atp_tub_sameseed_model_0",
           365,
           "L"
          ],
          [
           "fold_kif3_atp_tub_sameseed_model_0",
           361,
           "Y"
          ],
          [
           "fold_kif3_atp_tub_sameseed_model_0",
           368,
           "V"
          ],
          [
           "fold_kif3_atp_tub_sameseed_model_0",
           449,
           "T"
          ],
          [
           "fold_kif3_atp_tub_sameseed_model_0",
           444,
           "T"
          ],
          [
           "fold_kif3_atp_tub_sameseed_model_0",
           452,
           "I"
          ],
          [
           "fold_kif3_atp_tub_sameseed_model_0",
           444,
           "T"
          ],
          [
           "fold_kif3_atp_tub_sameseed_model_0",
           452,
           "I"
          ],
          [
           "fold_kif3_atp_tub_sameseed_model_0",
           463,
           "E"
          ],
          [
           "fold_kif3_atp_tub_sameseed_model_0",
           459,
           "C"
          ],
          [
           "fold_kif3_atp_tub_sameseed_model_0",
           458,
           "K"
          ],
          [
           "fold_kif3_atp_tub_sameseed_model_0",
           466,
           "L"
          ],
          [
           "fold_kif3_atp_tub_sameseed_model_0",
           466,
           "L"
          ],
          [
           "fold_kif3_atp_tub_sameseed_model_0",
           470,
           "E"
          ],
          [
           "fold_kif3_atp_tub_sameseed_model_0",
           469,
           "K"
          ],
          [
           "fold_kif3_atp_tub_sameseed_model_0",
           473,
           "K"
          ],
          [
           "fold_kif3_atp_tub_sameseed_model_0",
           472,
           "E"
          ],
          [
           "fold_kif3_atp_tub_sameseed_model_0",
           473,
           "K"
          ],
          [
           "fold_kif3_atp_tub_sameseed_model_0",
           483,
           "Q"
          ],
          [
           "fold_kif3_atp_tub_sameseed_model_0",
           480,
           "L"
          ],
          [
           "fold_kif3_atp_tub_sameseed_model_0",
           487,
           "I"
          ],
          [
           "fold_kif3_atp_tub_sameseed_model_0",
           491,
           "D"
          ],
          [
           "fold_kif3_atp_tub_sameseed_model_0",
           490,
           "K"
          ],
          [
           "fold_kif3_atp_tub_sameseed_model_0",
           501,
           "I"
          ],
          [
           "fold_kif3_atp_tub_sameseed_model_0",
           497,
           "L"
          ],
          [
           "fold_kif3_atp_tub_sameseed_model_0",
           497,
           "L"
          ],
          [
           "fold_kif3_atp_tub_sameseed_model_0",
           504,
           "S"
          ],
          [
           "fold_kif3_atp_tub_sameseed_model_0",
           507,
           "I"
          ],
          [
           "fold_kif3_atp_tub_sameseed_model_0",
           510,
           "L"
          ],
          [
           "fold_kif3_atp_tub_sameseed_model_0",
           514,
           "S"
          ],
          [
           "fold_kif3_atp_tub_sameseed_model_0",
           518,
           "N"
          ],
          [
           "fold_kif3_atp_tub_sameseed_model_0",
           518,
           "N"
          ],
          [
           "fold_kif3_atp_tub_sameseed_model_0",
           518,
           "N"
          ],
          [
           "fold_kif3_atp_tub_sameseed_model_0",
           521,
           "L"
          ],
          [
           "fold_kif3_atp_tub_sameseed_model_0",
           525,
           "L"
          ],
          [
           "fold_kif3_atp_tub_sameseed_model_0",
           521,
           "L"
          ],
          [
           "fold_kif3_atp_tub_sameseed_model_0",
           531,
           "A"
          ],
          [
           "fold_kif3_atp_tub_sameseed_model_0",
           535,
           "S"
          ],
          [
           "fold_kif3_atp_tub_sameseed_model_0",
           542,
           "Q"
          ],
          [
           "fold_kif3_atp_tub_sameseed_model_0",
           539,
           "A"
          ],
          [
           "fold_kif3_atp_tub_sameseed_model_0",
           546,
           "I"
          ],
          [
           "fold_kif3_atp_tub_sameseed_model_0",
           550,
           "N"
          ],
          [
           "fold_kif3_atp_tub_sameseed_model_0",
           549,
           "L"
          ],
          [
           "fold_kif3_atp_tub_sameseed_model_0",
           557,
           "K"
          ],
          [
           "fold_kif3_atp_tub_sameseed_model_0",
           553,
           "N"
          ],
          [
           "fold_kif3_atp_tub_sameseed_model_0",
           556,
           "I"
          ],
          [
           "fold_kif3_atp_tub_sameseed_model_0",
           552,
           "E"
          ],
          [
           "fold_kif3_atp_tub_sameseed_model_0",
           560,
           "L"
          ],
          [
           "fold_kif3_atp_tub_sameseed_model_0",
           567,
           "I"
          ],
          [
           "fold_kif3_atp_tub_sameseed_model_0",
           578,
           "L"
          ],
          [
           "fold_kif3_atp_tub_sameseed_model_0",
           563,
           "L"
          ],
          [
           "fold_kif3_atp_tub_sameseed_model_0",
           575,
           "I"
          ],
          [
           "fold_kif3_atp_tub_sameseed_model_0",
           566,
           "R"
          ]
         ],
         "hovertemplate": "Interacting Chain=kinesin B<br>Residue (Number and Identity)=%{x}<br>Distance (angstroms)=%{y}<br>text=%{text}<br>file=%{customdata[0]}<br>interacting_resinumber=%{customdata[1]}<br>interacting_resi_oneletter=%{customdata[2]}<extra></extra>",
         "legendgroup": "kinesin B",
         "marker": {
          "color": "blue",
          "opacity": 0.6,
          "size": 10,
          "symbol": "circle"
         },
         "mode": "markers+text",
         "name": "kinesin B",
         "orientation": "v",
         "showlegend": true,
         "text": [
          "345A",
          "345A",
          "349K",
          "352Y",
          "356K",
          "2S",
          "2S",
          "348W",
          "4E",
          "4E",
          "359N",
          "355E",
          "359N",
          "370E",
          "373L",
          "365K",
          "377R",
          "372E",
          "372E",
          "377R",
          "377R",
          "348L",
          "345A",
          "363K",
          "366I",
          "358E",
          "377V",
          "366I",
          "365Y",
          "380L",
          "373S",
          "369L",
          "365Y",
          "372V",
          "448T",
          "456I",
          "467E",
          "463C",
          "462K",
          "470L",
          "470L",
          "474E",
          "473K",
          "477K",
          "476E",
          "477K",
          "487Q",
          "488Q",
          "487Q",
          "494K",
          "495D",
          "494K",
          "498I",
          "497E",
          "505I",
          "501L",
          "501L",
          "508S",
          "512N",
          "511I",
          "515Y",
          "514L",
          "518S",
          "525L",
          "522N",
          "525L",
          "525L",
          "536L",
          "536L",
          "535A",
          "539S",
          "539S",
          "546Q",
          "543A",
          "550I",
          "554N",
          "553L",
          "561K",
          "557N",
          "557N",
          "556E",
          "564L",
          "571I",
          "582L",
          "567L",
          "579I",
          "574S",
          "570R",
          "346E",
          "348W",
          "166K",
          "348W",
          "355E",
          "359N",
          "355E",
          "359N",
          "370E",
          "373L",
          "365K",
          "377R",
          "372E",
          "372E",
          "377R",
          "377R",
          "377R",
          "344L",
          "341A",
          "359K",
          "355I",
          "362I",
          "354E",
          "366E",
          "362I",
          "371V",
          "361Y",
          "376L",
          "365L",
          "361Y",
          "368V",
          "449T",
          "444T",
          "452I",
          "444T",
          "452I",
          "463E",
          "459C",
          "458K",
          "466L",
          "466L",
          "470E",
          "469K",
          "473K",
          "472E",
          "473K",
          "483Q",
          "480L",
          "487I",
          "491D",
          "490K",
          "501I",
          "497L",
          "497L",
          "504S",
          "507I",
          "510L",
          "514S",
          "518N",
          "518N",
          "518N",
          "521L",
          "525L",
          "521L",
          "531A",
          "535S",
          "542Q",
          "539A",
          "546I",
          "550N",
          "549L",
          "557K",
          "553N",
          "556I",
          "552E",
          "560L",
          "567I",
          "578L",
          "563L",
          "575I",
          "566R"
         ],
         "textposition": "top center",
         "type": "scatter",
         "x": [
          "1M",
          "2S",
          "3A",
          "4E",
          "7I",
          "345A",
          "346E",
          "348W",
          "349K",
          "352Y",
          "355E",
          "359N",
          "362L",
          "365K",
          "369L",
          "370E",
          "372E",
          "373L",
          "377R",
          "387Q",
          "388I",
          "345A",
          "348L",
          "358E",
          "362L",
          "363K",
          "365Y",
          "366I",
          "370E",
          "372V",
          "373S",
          "375V",
          "377V",
          "380L",
          "448T",
          "456I",
          "462K",
          "463C",
          "467E",
          "469Q",
          "470L",
          "473K",
          "474E",
          "476E",
          "477K",
          "480I",
          "484L",
          "487Q",
          "488Q",
          "491I",
          "494K",
          "495D",
          "497E",
          "498I",
          "501L",
          "502N",
          "505I",
          "508S",
          "511I",
          "512N",
          "514L",
          "515Y",
          "518S",
          "522N",
          "525L",
          "526N",
          "529L",
          "532L",
          "535A",
          "536L",
          "539S",
          "540R",
          "543A",
          "546Q",
          "550I",
          "553L",
          "554N",
          "556E",
          "557N",
          "560I",
          "561K",
          "564L",
          "567L",
          "570R",
          "571I",
          "574S",
          "579I",
          "582L",
          "166K",
          "345A",
          "346E",
          "348W",
          "352Y",
          "355E",
          "359N",
          "362L",
          "365K",
          "369L",
          "370E",
          "372E",
          "373L",
          "377R",
          "387Q",
          "388I",
          "390M",
          "341A",
          "344L",
          "354E",
          "355I",
          "358L",
          "359K",
          "361Y",
          "362I",
          "365L",
          "366E",
          "368V",
          "371V",
          "373V",
          "376L",
          "444T",
          "445S",
          "448D",
          "449T",
          "452I",
          "458K",
          "459C",
          "463E",
          "465Q",
          "466L",
          "469K",
          "470E",
          "472E",
          "473K",
          "476I",
          "480L",
          "483Q",
          "487I",
          "490K",
          "491D",
          "497L",
          "498N",
          "501I",
          "504S",
          "508N",
          "511Y",
          "514S",
          "517E",
          "518N",
          "521L",
          "522N",
          "524Q",
          "525L",
          "532L",
          "535S",
          "539A",
          "542Q",
          "546I",
          "549L",
          "550N",
          "552E",
          "553N",
          "556I",
          "557K",
          "560L",
          "563L",
          "566R",
          "567I",
          "575I",
          "578L"
         ],
         "xaxis": "x",
         "y": [
          3.1664042472839355,
          2.648374319076538,
          2.891021490097046,
          2.471980094909668,
          3.2205750942230225,
          2.721776247024536,
          3.1494085788726807,
          3.160405158996582,
          3.156520128250122,
          3.23134446144104,
          2.992515802383423,
          2.3989696502685547,
          3.0107855796813965,
          2.891279458999634,
          3.409965753555298,
          2.9755024909973145,
          2.8000566959381104,
          2.878722906112671,
          2.7320556640625,
          3.33967661857605,
          2.889199733734131,
          3.321165084838867,
          3.3053252696990967,
          2.878441572189331,
          3.404067039489746,
          2.6863951683044434,
          2.5690174102783203,
          3.3908426761627197,
          3.3624329566955566,
          3.095039129257202,
          3.4771525859832764,
          3.3028931617736816,
          2.474356174468994,
          2.8760299682617188,
          2.164058208465576,
          3.419992446899414,
          2.7302534580230713,
          3.0049474239349365,
          2.7784245014190674,
          3.40057373046875,
          3.1661298274993896,
          2.3929686546325684,
          2.5059876441955566,
          2.588190793991089,
          2.641502141952514,
          3.2682955265045166,
          3.055630922317505,
          2.9398396015167236,
          2.8984227180480957,
          3.426877498626709,
          2.4378294944763184,
          2.4310481548309326,
          3.4457273483276367,
          3.4741857051849365,
          2.5901663303375244,
          3.329033374786377,
          2.963871955871582,
          2.76065444946289,
          2.2568233013153076,
          3.1441075801849365,
          3.4190146923065186,
          3.2610087394714355,
          2.7724063396453857,
          2.5232558250427246,
          2.998166561126709,
          3.3200438022613525,
          3.4216935634613037,
          3.429373025894165,
          3.4325644969940186,
          3.392808437347412,
          2.807173728942871,
          3.430415630340576,
          2.7215311527252197,
          2.7129147052764893,
          3.3717856407165527,
          3.250649690628052,
          3.2139389514923096,
          2.692190647125244,
          2.772524356842041,
          2.9977502822875977,
          2.651594877243042,
          3.371981620788574,
          2.991334915161133,
          2.419670820236206,
          2.861778974533081,
          3.0755441188812256,
          3.1206560134887695,
          2.4720380306243896,
          2.852186679840088,
          3.29819393157959,
          2.8675215244293213,
          3.37213397026062,
          3.467067003250122,
          2.093235969543457,
          2.1528127193450928,
          3.0044751167297363,
          3.3695459365844727,
          3.4212889671325684,
          3.102832317352295,
          2.8381969928741455,
          2.8488173484802246,
          2.7509443759918213,
          3.351947069168091,
          2.9071762561798096,
          3.470970630645752,
          3.4494898319244385,
          3.453981399536133,
          2.7847046852111816,
          3.486245393753052,
          3.3671767711639404,
          2.641094207763672,
          2.8551347255706787,
          3.2814221382141113,
          2.995442152023315,
          2.8715410232543945,
          2.5638272762298584,
          2.980264186859131,
          3.3743896484375,
          2.88838791847229,
          2.9535655975341797,
          3.20292329788208,
          3.1666388511657715,
          3.1764779090881348,
          3.2366702556610107,
          2.659426212310791,
          2.852346658706665,
          2.688230037689209,
          3.3258278369903564,
          3.113520383834839,
          2.56089186668396,
          2.6391355991363525,
          2.590994358062744,
          2.6033194065093994,
          3.2491872310638428,
          3.1025710105895996,
          3.0445337295532227,
          3.477691888809204,
          2.415228843688965,
          2.4562747478485107,
          2.932422876358032,
          3.2578284740448,
          3.005067825317383,
          2.4711222648620605,
          3.4295811653137207,
          3.3984365463256836,
          2.729997396469116,
          3.1234583854675293,
          2.3410000801086426,
          3.1108574867248535,
          3.360945463180542,
          3.4944815635681152,
          3.4159445762634277,
          3.3357183933258057,
          2.70270037651062,
          2.8752522468566895,
          2.9256651401519775,
          3.354116678237915,
          3.1762990951538086,
          3.1099817752838135,
          2.6520822048187256,
          2.103816270828247,
          3.3165886402130127,
          2.7389395236968994,
          3.3363964557647705,
          3.295421838760376,
          2.8497214317321777,
          3.4307265281677246,
          3.262397050857544,
          2.809762716293335
         ],
         "yaxis": "y"
        },
        {
         "customdata": [
          [
           "fold_c_atp_tub_sameseed_model_0",
           1,
           null
          ],
          [
           "fold_c_atp_tub_sameseed_model_0",
           1,
           null
          ],
          [
           "fold_c_atp_tub_sameseed_model_0",
           1,
           null
          ],
          [
           "fold_c_atp_tub_sameseed_model_0",
           1,
           null
          ],
          [
           "fold_c_atp_tub_sameseed_model_0",
           1,
           null
          ],
          [
           "fold_c_atp_tub_sameseed_model_0",
           1,
           null
          ],
          [
           "fold_c_atp_tub_sameseed_model_0",
           1,
           null
          ],
          [
           "fold_c_atp_tub_sameseed_model_0",
           1,
           null
          ],
          [
           "fold_c_atp_tub_sameseed_model_0",
           1,
           null
          ],
          [
           "fold_c_atp_tub_sameseed_model_0",
           1,
           null
          ],
          [
           "fold_c_atp_tub_sameseed_model_0",
           1,
           null
          ],
          [
           "fold_c_atp_tub_sameseed_model_0",
           1,
           null
          ],
          [
           "fold_e_atp_tub_sameseed_model_0",
           1,
           null
          ],
          [
           "fold_e_atp_tub_sameseed_model_0",
           1,
           null
          ],
          [
           "fold_e_atp_tub_sameseed_model_0",
           1,
           null
          ],
          [
           "fold_e_atp_tub_sameseed_model_0",
           1,
           null
          ],
          [
           "fold_e_atp_tub_sameseed_model_0",
           1,
           null
          ],
          [
           "fold_e_atp_tub_sameseed_model_0",
           1,
           null
          ],
          [
           "fold_e_atp_tub_sameseed_model_0",
           1,
           null
          ],
          [
           "fold_e_atp_tub_sameseed_model_0",
           1,
           null
          ],
          [
           "fold_e_atp_tub_sameseed_model_0",
           1,
           null
          ],
          [
           "fold_e_atp_tub_sameseed_model_0",
           1,
           null
          ],
          [
           "fold_e_atp_tub_sameseed_model_0",
           1,
           null
          ],
          [
           "fold_e_atp_tub_sameseed_model_0",
           1,
           null
          ],
          [
           "fold_k401_atp_tub_333_model_0",
           1,
           null
          ],
          [
           "fold_k401_atp_tub_333_model_0",
           1,
           null
          ],
          [
           "fold_k401_atp_tub_333_model_0",
           1,
           null
          ],
          [
           "fold_k401_atp_tub_333_model_0",
           1,
           null
          ],
          [
           "fold_k401_atp_tub_333_model_0",
           1,
           null
          ],
          [
           "fold_k401_atp_tub_333_model_0",
           1,
           null
          ],
          [
           "fold_k401_atp_tub_333_model_0",
           1,
           null
          ],
          [
           "fold_k401_atp_tub_333_model_0",
           1,
           null
          ],
          [
           "fold_k401_atp_tub_333_model_0",
           1,
           null
          ],
          [
           "fold_k401_atp_tub_333_model_0",
           1,
           null
          ],
          [
           "fold_k401_atp_tub_333_model_0",
           1,
           null
          ],
          [
           "fold_k401_atp_tub_333_model_0",
           1,
           null
          ],
          [
           "fold_k401_atp_tub_333_model_0",
           1,
           null
          ],
          [
           "fold_kif3_atp_tub_sameseed_model_0",
           1,
           null
          ],
          [
           "fold_kif3_atp_tub_sameseed_model_0",
           1,
           null
          ],
          [
           "fold_kif3_atp_tub_sameseed_model_0",
           1,
           null
          ],
          [
           "fold_kif3_atp_tub_sameseed_model_0",
           1,
           null
          ],
          [
           "fold_kif3_atp_tub_sameseed_model_0",
           1,
           null
          ],
          [
           "fold_kif3_atp_tub_sameseed_model_0",
           1,
           null
          ],
          [
           "fold_kif3_atp_tub_sameseed_model_0",
           1,
           null
          ],
          [
           "fold_kif3_atp_tub_sameseed_model_0",
           1,
           null
          ],
          [
           "fold_kif3_atp_tub_sameseed_model_0",
           1,
           null
          ],
          [
           "fold_kif3_atp_tub_sameseed_model_0",
           1,
           null
          ],
          [
           "fold_kif3_atp_tub_sameseed_model_0",
           1,
           null
          ]
         ],
         "hovertemplate": "Interacting Chain=ATP<br>Residue (Number and Identity)=%{x}<br>Distance (angstroms)=%{y}<br>text=%{text}<br>file=%{customdata[0]}<br>interacting_resinumber=%{customdata[1]}<br>interacting_resi_oneletter=%{customdata[2]}<extra></extra>",
         "legendgroup": "ATP",
         "marker": {
          "color": "yellow",
          "opacity": 0.6,
          "size": 10,
          "symbol": "circle"
         },
         "mode": "markers+text",
         "name": "ATP",
         "orientation": "v",
         "showlegend": true,
         "text": [
          null,
          null,
          null,
          null,
          null,
          null,
          null,
          null,
          null,
          null,
          null,
          null,
          null,
          null,
          null,
          null,
          null,
          null,
          null,
          null,
          null,
          null,
          null,
          null,
          null,
          null,
          null,
          null,
          null,
          null,
          null,
          null,
          null,
          null,
          null,
          null,
          null,
          null,
          null,
          null,
          null,
          null,
          null,
          null,
          null,
          null,
          null,
          null
         ],
         "textposition": "top center",
         "type": "scatter",
         "x": [
          "21P",
          "94T",
          "95S",
          "96S",
          "97G",
          "98K",
          "99T",
          "100H",
          "205N",
          "208S",
          "209S",
          "241G",
          "21P",
          "94T",
          "95S",
          "96S",
          "97G",
          "98K",
          "99T",
          "100H",
          "205N",
          "208S",
          "209S",
          "241G",
          "20R",
          "21P",
          "94T",
          "95S",
          "96S",
          "97G",
          "98K",
          "99T",
          "100H",
          "205N",
          "208S",
          "209S",
          "241G",
          "87T",
          "88G",
          "89S",
          "90G",
          "91K",
          "92T",
          "93F",
          "201N",
          "204S",
          "205S",
          "237G"
         ],
         "xaxis": "x",
         "y": [
          3.2621476650238037,
          2.416980504989624,
          2.682382345199585,
          3.237739324569702,
          2.994562864303589,
          2.8357818126678467,
          2.904185056686402,
          3.078914165496826,
          2.8799920082092285,
          2.9004979133605957,
          2.9360315799713135,
          3.0268752574920654,
          3.4718332290649414,
          2.6103403568267822,
          2.929168224334717,
          3.442664384841919,
          3.0216567516326904,
          2.668522596359253,
          2.7042181491851807,
          2.654240131378174,
          3.1529626846313477,
          3.1283669471740723,
          2.923736810684204,
          2.9034101963043213,
          3.418571949005127,
          3.139655828475952,
          2.458994626998902,
          2.6812875270843506,
          3.1592752933502197,
          2.91800856590271,
          2.7940337657928467,
          2.929311990737915,
          3.008495092391968,
          2.9855401515960693,
          3.0660386085510254,
          3.0193512439727783,
          3.044731855392456,
          2.3951690196990967,
          2.653770685195923,
          3.328293561935425,
          2.9975342750549316,
          2.720611333847046,
          2.776721954345703,
          2.79142427444458,
          3.0432610511779785,
          2.942643642425537,
          2.8962395191192627,
          2.8888328075408936
         ],
         "yaxis": "y"
        },
        {
         "customdata": [
          [
           "fold_c_atp_tub_sameseed_model_0",
           157,
           "E"
          ],
          [
           "fold_c_atp_tub_sameseed_model_0",
           157,
           "E"
          ],
          [
           "fold_c_atp_tub_sameseed_model_0",
           410,
           "E"
          ],
          [
           "fold_c_atp_tub_sameseed_model_0",
           410,
           "E"
          ],
          [
           "fold_c_atp_tub_sameseed_model_0",
           410,
           "E"
          ],
          [
           "fold_c_atp_tub_sameseed_model_0",
           406,
           "M"
          ],
          [
           "fold_c_atp_tub_sameseed_model_0",
           406,
           "M"
          ],
          [
           "fold_c_atp_tub_sameseed_model_0",
           424,
           "Q"
          ],
          [
           "fold_c_atp_tub_sameseed_model_0",
           424,
           "Q"
          ],
          [
           "fold_c_atp_tub_sameseed_model_0",
           417,
           "D"
          ],
          [
           "fold_c_atp_tub_sameseed_model_0",
           262,
           "R"
          ],
          [
           "fold_e_atp_tub_sameseed_model_0",
           437,
           "E"
          ],
          [
           "fold_e_atp_tub_sameseed_model_0",
           157,
           "E"
          ],
          [
           "fold_e_atp_tub_sameseed_model_0",
           157,
           "E"
          ],
          [
           "fold_e_atp_tub_sameseed_model_0",
           410,
           "E"
          ],
          [
           "fold_e_atp_tub_sameseed_model_0",
           410,
           "E"
          ],
          [
           "fold_e_atp_tub_sameseed_model_0",
           413,
           "S"
          ],
          [
           "fold_e_atp_tub_sameseed_model_0",
           406,
           "M"
          ],
          [
           "fold_e_atp_tub_sameseed_model_0",
           412,
           "E"
          ],
          [
           "fold_e_atp_tub_sameseed_model_0",
           424,
           "Q"
          ],
          [
           "fold_e_atp_tub_sameseed_model_0",
           424,
           "Q"
          ],
          [
           "fold_e_atp_tub_sameseed_model_0",
           417,
           "D"
          ],
          [
           "fold_e_atp_tub_sameseed_model_0",
           262,
           "R"
          ],
          [
           "fold_e_atp_tub_sameseed_model_0",
           437,
           "E"
          ],
          [
           "fold_e_atp_tub_sameseed_model_0",
           391,
           "R"
          ],
          [
           "fold_e_atp_tub_sameseed_model_0",
           391,
           "R"
          ],
          [
           "fold_e_atp_tub_sameseed_model_0",
           388,
           "M"
          ],
          [
           "fold_e_atp_tub_sameseed_model_0",
           179,
           "V"
          ],
          [
           "fold_k401_atp_tub_333_model_0",
           157,
           "E"
          ],
          [
           "fold_k401_atp_tub_333_model_0",
           157,
           "E"
          ],
          [
           "fold_k401_atp_tub_333_model_0",
           410,
           "E"
          ],
          [
           "fold_k401_atp_tub_333_model_0",
           410,
           "E"
          ],
          [
           "fold_k401_atp_tub_333_model_0",
           406,
           "M"
          ],
          [
           "fold_k401_atp_tub_333_model_0",
           406,
           "M"
          ],
          [
           "fold_k401_atp_tub_333_model_0",
           406,
           "M"
          ],
          [
           "fold_k401_atp_tub_333_model_0",
           412,
           "E"
          ],
          [
           "fold_k401_atp_tub_333_model_0",
           432,
           "E"
          ],
          [
           "fold_k401_atp_tub_333_model_0",
           424,
           "Q"
          ],
          [
           "fold_k401_atp_tub_333_model_0",
           417,
           "D"
          ],
          [
           "fold_k401_atp_tub_333_model_0",
           262,
           "R"
          ],
          [
           "fold_kif3_atp_tub_sameseed_model_0",
           157,
           "E"
          ],
          [
           "fold_kif3_atp_tub_sameseed_model_0",
           407,
           "E"
          ],
          [
           "fold_kif3_atp_tub_sameseed_model_0",
           407,
           "E"
          ],
          [
           "fold_kif3_atp_tub_sameseed_model_0",
           432,
           "E"
          ],
          [
           "fold_kif3_atp_tub_sameseed_model_0",
           424,
           "Q"
          ],
          [
           "fold_kif3_atp_tub_sameseed_model_0",
           424,
           "Q"
          ],
          [
           "fold_kif3_atp_tub_sameseed_model_0",
           410,
           "E"
          ],
          [
           "fold_kif3_atp_tub_sameseed_model_0",
           262,
           "R"
          ],
          [
           "fold_kif3_atp_tub_sameseed_model_0",
           410,
           "E"
          ],
          [
           "fold_kif3_atp_tub_sameseed_model_0",
           118,
           "D"
          ],
          [
           "fold_kif3_atp_tub_sameseed_model_0",
           125,
           "E"
          ]
         ],
         "hovertemplate": "Interacting Chain=beta-tubulin<br>Residue (Number and Identity)=%{x}<br>Distance (angstroms)=%{y}<br>text=%{text}<br>file=%{customdata[0]}<br>interacting_resinumber=%{customdata[1]}<br>interacting_resi_oneletter=%{customdata[2]}<extra></extra>",
         "legendgroup": "beta-tubulin",
         "marker": {
          "color": "red",
          "opacity": 0.6,
          "size": 10,
          "symbol": "circle"
         },
         "mode": "markers+text",
         "name": "beta-tubulin",
         "orientation": "v",
         "showlegend": true,
         "text": [
          "157E",
          "157E",
          "410E",
          "410E",
          "410E",
          "406M",
          "406M",
          "424Q",
          "424Q",
          "417D",
          "262R",
          "437E",
          "157E",
          "157E",
          "410E",
          "410E",
          "413S",
          "406M",
          "412E",
          "424Q",
          "424Q",
          "417D",
          "262R",
          "437E",
          "391R",
          "391R",
          "388M",
          "179V",
          "157E",
          "157E",
          "410E",
          "410E",
          "406M",
          "406M",
          "406M",
          "412E",
          "432E",
          "424Q",
          "417D",
          "262R",
          "157E",
          "407E",
          "407E",
          "432E",
          "424Q",
          "424Q",
          "410E",
          "262R",
          "410E",
          "118D",
          "125E"
         ],
         "textposition": "top center",
         "type": "scatter",
         "x": [
          "148K",
          "159N",
          "162V",
          "163H",
          "164E",
          "165D",
          "166K",
          "281T",
          "282H",
          "286R",
          "287D",
          "51K",
          "148K",
          "159N",
          "162V",
          "163H",
          "164E",
          "166K",
          "168R",
          "280K",
          "282H",
          "286R",
          "287D",
          "328R",
          "497E",
          "501L",
          "504M",
          "507S",
          "148K",
          "159N",
          "162V",
          "163H",
          "164E",
          "165D",
          "166K",
          "168R",
          "280K",
          "282H",
          "286R",
          "287D",
          "144R",
          "157K",
          "159R",
          "275K",
          "277T",
          "278H",
          "282R",
          "283D",
          "288R",
          "506N",
          "510L"
         ],
         "xaxis": "x",
         "y": [
          3.0657339096069336,
          2.9120919704437256,
          3.395930767059326,
          2.6466054916381836,
          2.789459466934204,
          3.254361391067505,
          3.4526751041412354,
          3.1589653491973877,
          2.674469470977783,
          2.60509991645813,
          3.14884352684021,
          2.864004611968994,
          2.997708797454834,
          3.430928945541382,
          2.884871006011963,
          2.7240567207336426,
          3.162452936172486,
          3.236333131790161,
          3.1506872177124023,
          3.4362218379974365,
          2.772930860519409,
          2.480675220489502,
          3.225222587585449,
          3.207775354385376,
          2.171924829483032,
          2.1818957328796387,
          2.923564910888672,
          3.004821538925171,
          3.0600171089172363,
          2.7908055782318115,
          3.1651947498321533,
          2.7265865802764893,
          2.836862087249756,
          3.115731954574585,
          3.2854411602020264,
          3.485177993774414,
          3.123756170272827,
          2.674067497253418,
          2.587143898010254,
          3.177390813827514,
          2.1485397815704346,
          3.0689473152160645,
          3.170588970184326,
          3.4927423000335693,
          3.3671715259552,
          2.8799216747283936,
          2.4372434616088867,
          3.0908734798431396,
          2.991099119186402,
          3.1715095043182373,
          2.7988765239715576
         ],
         "yaxis": "y"
        },
        {
         "customdata": [
          [
           "fold_c_atp_tub_sameseed_model_0",
           414,
           "E"
          ],
          [
           "fold_c_atp_tub_sameseed_model_0",
           420,
           "E"
          ],
          [
           "fold_c_atp_tub_sameseed_model_0",
           412,
           "G"
          ],
          [
           "fold_c_atp_tub_sameseed_model_0",
           112,
           "K"
          ],
          [
           "fold_c_atp_tub_sameseed_model_0",
           410,
           "G"
          ],
          [
           "fold_c_atp_tub_sameseed_model_0",
           409,
           "V"
          ],
          [
           "fold_c_atp_tub_sameseed_model_0",
           409,
           "V"
          ],
          [
           "fold_c_atp_tub_sameseed_model_0",
           415,
           "E"
          ],
          [
           "fold_c_atp_tub_sameseed_model_0",
           402,
           "R"
          ],
          [
           "fold_c_atp_tub_sameseed_model_0",
           420,
           "E"
          ],
          [
           "fold_c_atp_tub_sameseed_model_0",
           423,
           "E"
          ],
          [
           "fold_e_atp_tub_sameseed_model_0",
           414,
           "E"
          ],
          [
           "fold_e_atp_tub_sameseed_model_0",
           420,
           "E"
          ],
          [
           "fold_e_atp_tub_sameseed_model_0",
           412,
           "G"
          ],
          [
           "fold_e_atp_tub_sameseed_model_0",
           410,
           "G"
          ],
          [
           "fold_e_atp_tub_sameseed_model_0",
           409,
           "V"
          ],
          [
           "fold_e_atp_tub_sameseed_model_0",
           409,
           "V"
          ],
          [
           "fold_e_atp_tub_sameseed_model_0",
           415,
           "E"
          ],
          [
           "fold_k401_atp_tub_333_model_0",
           414,
           "E"
          ],
          [
           "fold_k401_atp_tub_333_model_0",
           420,
           "E"
          ],
          [
           "fold_k401_atp_tub_333_model_0",
           412,
           "G"
          ],
          [
           "fold_k401_atp_tub_333_model_0",
           112,
           "K"
          ],
          [
           "fold_k401_atp_tub_333_model_0",
           112,
           "K"
          ],
          [
           "fold_k401_atp_tub_333_model_0",
           410,
           "G"
          ],
          [
           "fold_k401_atp_tub_333_model_0",
           409,
           "V"
          ],
          [
           "fold_k401_atp_tub_333_model_0",
           409,
           "V"
          ],
          [
           "fold_k401_atp_tub_333_model_0",
           415,
           "E"
          ],
          [
           "fold_k401_atp_tub_333_model_0",
           402,
           "R"
          ],
          [
           "fold_kif3_atp_tub_sameseed_model_0",
           414,
           "E"
          ],
          [
           "fold_kif3_atp_tub_sameseed_model_0",
           420,
           "E"
          ],
          [
           "fold_kif3_atp_tub_sameseed_model_0",
           412,
           "G"
          ],
          [
           "fold_kif3_atp_tub_sameseed_model_0",
           410,
           "G"
          ],
          [
           "fold_kif3_atp_tub_sameseed_model_0",
           409,
           "V"
          ],
          [
           "fold_kif3_atp_tub_sameseed_model_0",
           415,
           "E"
          ],
          [
           "fold_kif3_atp_tub_sameseed_model_0",
           423,
           "E"
          ]
         ],
         "hovertemplate": "Interacting Chain=alpha-tubulin<br>Residue (Number and Identity)=%{x}<br>Distance (angstroms)=%{y}<br>text=%{text}<br>file=%{customdata[0]}<br>interacting_resinumber=%{customdata[1]}<br>interacting_resi_oneletter=%{customdata[2]}<extra></extra>",
         "legendgroup": "alpha-tubulin",
         "marker": {
          "color": "purple",
          "opacity": 0.6,
          "size": 10,
          "symbol": "circle"
         },
         "mode": "markers+text",
         "name": "alpha-tubulin",
         "orientation": "v",
         "showlegend": true,
         "text": [
          "414E",
          "420E",
          "412G",
          "112K",
          "410G",
          "409V",
          "409V",
          "415E",
          "402R",
          "420E",
          "423E",
          "414E",
          "420E",
          "412G",
          "410G",
          "409V",
          "409V",
          "415E",
          "414E",
          "420E",
          "412G",
          "112K",
          "112K",
          "410G",
          "409V",
          "409V",
          "415E",
          "402R",
          "414E",
          "420E",
          "412G",
          "410G",
          "409V",
          "415E",
          "423E"
         ],
         "textposition": "top center",
         "type": "scatter",
         "x": [
          "242S",
          "244K",
          "245I",
          "250A",
          "259K",
          "262N",
          "263K",
          "266S",
          "270N",
          "318A",
          "325R",
          "242S",
          "244K",
          "245V",
          "259K",
          "262N",
          "263K",
          "266S",
          "242S",
          "244K",
          "245V",
          "250A",
          "251E",
          "259K",
          "262N",
          "263K",
          "266S",
          "270N",
          "238S",
          "240K",
          "241I",
          "255K",
          "259K",
          "262S",
          "321R"
         ],
         "xaxis": "x",
         "y": [
          3.129481077194214,
          2.4892752170562744,
          3.0543200969696045,
          3.4593770503997803,
          3.2213997840881348,
          3.3567919731140137,
          3.3137078285217285,
          2.5477519035339355,
          3.422191381454468,
          3.303436517715454,
          2.7997021675109863,
          3.102640390396118,
          2.4743664264678955,
          3.026991605758667,
          3.219074964523315,
          3.488760471343994,
          3.4170289039611816,
          2.4372947216033936,
          3.076216220855713,
          2.450095891952514,
          3.0533392429351807,
          3.3081231117248535,
          2.919468641281128,
          3.2389283180236816,
          3.32651686668396,
          3.2846343517303467,
          2.526207208633423,
          3.4471793174743652,
          2.5043296813964844,
          2.5487751960754395,
          2.8210439682006836,
          3.3551788330078125,
          3.465726375579834,
          2.4718587398529053,
          2.7869367599487305
         ],
         "yaxis": "y"
        }
       ],
       "layout": {
        "legend": {
         "title": {
          "text": "Interacting Chain"
         },
         "tracegroupgap": 0
        },
        "template": {
         "data": {
          "bar": [
           {
            "error_x": {
             "color": "#2a3f5f"
            },
            "error_y": {
             "color": "#2a3f5f"
            },
            "marker": {
             "line": {
              "color": "#E5ECF6",
              "width": 0.5
             },
             "pattern": {
              "fillmode": "overlay",
              "size": 10,
              "solidity": 0.2
             }
            },
            "type": "bar"
           }
          ],
          "barpolar": [
           {
            "marker": {
             "line": {
              "color": "#E5ECF6",
              "width": 0.5
             },
             "pattern": {
              "fillmode": "overlay",
              "size": 10,
              "solidity": 0.2
             }
            },
            "type": "barpolar"
           }
          ],
          "carpet": [
           {
            "aaxis": {
             "endlinecolor": "#2a3f5f",
             "gridcolor": "white",
             "linecolor": "white",
             "minorgridcolor": "white",
             "startlinecolor": "#2a3f5f"
            },
            "baxis": {
             "endlinecolor": "#2a3f5f",
             "gridcolor": "white",
             "linecolor": "white",
             "minorgridcolor": "white",
             "startlinecolor": "#2a3f5f"
            },
            "type": "carpet"
           }
          ],
          "choropleth": [
           {
            "colorbar": {
             "outlinewidth": 0,
             "ticks": ""
            },
            "type": "choropleth"
           }
          ],
          "contour": [
           {
            "colorbar": {
             "outlinewidth": 0,
             "ticks": ""
            },
            "colorscale": [
             [
              0,
              "#0d0887"
             ],
             [
              0.1111111111111111,
              "#46039f"
             ],
             [
              0.2222222222222222,
              "#7201a8"
             ],
             [
              0.3333333333333333,
              "#9c179e"
             ],
             [
              0.4444444444444444,
              "#bd3786"
             ],
             [
              0.5555555555555556,
              "#d8576b"
             ],
             [
              0.6666666666666666,
              "#ed7953"
             ],
             [
              0.7777777777777778,
              "#fb9f3a"
             ],
             [
              0.8888888888888888,
              "#fdca26"
             ],
             [
              1,
              "#f0f921"
             ]
            ],
            "type": "contour"
           }
          ],
          "contourcarpet": [
           {
            "colorbar": {
             "outlinewidth": 0,
             "ticks": ""
            },
            "type": "contourcarpet"
           }
          ],
          "heatmap": [
           {
            "colorbar": {
             "outlinewidth": 0,
             "ticks": ""
            },
            "colorscale": [
             [
              0,
              "#0d0887"
             ],
             [
              0.1111111111111111,
              "#46039f"
             ],
             [
              0.2222222222222222,
              "#7201a8"
             ],
             [
              0.3333333333333333,
              "#9c179e"
             ],
             [
              0.4444444444444444,
              "#bd3786"
             ],
             [
              0.5555555555555556,
              "#d8576b"
             ],
             [
              0.6666666666666666,
              "#ed7953"
             ],
             [
              0.7777777777777778,
              "#fb9f3a"
             ],
             [
              0.8888888888888888,
              "#fdca26"
             ],
             [
              1,
              "#f0f921"
             ]
            ],
            "type": "heatmap"
           }
          ],
          "heatmapgl": [
           {
            "colorbar": {
             "outlinewidth": 0,
             "ticks": ""
            },
            "colorscale": [
             [
              0,
              "#0d0887"
             ],
             [
              0.1111111111111111,
              "#46039f"
             ],
             [
              0.2222222222222222,
              "#7201a8"
             ],
             [
              0.3333333333333333,
              "#9c179e"
             ],
             [
              0.4444444444444444,
              "#bd3786"
             ],
             [
              0.5555555555555556,
              "#d8576b"
             ],
             [
              0.6666666666666666,
              "#ed7953"
             ],
             [
              0.7777777777777778,
              "#fb9f3a"
             ],
             [
              0.8888888888888888,
              "#fdca26"
             ],
             [
              1,
              "#f0f921"
             ]
            ],
            "type": "heatmapgl"
           }
          ],
          "histogram": [
           {
            "marker": {
             "pattern": {
              "fillmode": "overlay",
              "size": 10,
              "solidity": 0.2
             }
            },
            "type": "histogram"
           }
          ],
          "histogram2d": [
           {
            "colorbar": {
             "outlinewidth": 0,
             "ticks": ""
            },
            "colorscale": [
             [
              0,
              "#0d0887"
             ],
             [
              0.1111111111111111,
              "#46039f"
             ],
             [
              0.2222222222222222,
              "#7201a8"
             ],
             [
              0.3333333333333333,
              "#9c179e"
             ],
             [
              0.4444444444444444,
              "#bd3786"
             ],
             [
              0.5555555555555556,
              "#d8576b"
             ],
             [
              0.6666666666666666,
              "#ed7953"
             ],
             [
              0.7777777777777778,
              "#fb9f3a"
             ],
             [
              0.8888888888888888,
              "#fdca26"
             ],
             [
              1,
              "#f0f921"
             ]
            ],
            "type": "histogram2d"
           }
          ],
          "histogram2dcontour": [
           {
            "colorbar": {
             "outlinewidth": 0,
             "ticks": ""
            },
            "colorscale": [
             [
              0,
              "#0d0887"
             ],
             [
              0.1111111111111111,
              "#46039f"
             ],
             [
              0.2222222222222222,
              "#7201a8"
             ],
             [
              0.3333333333333333,
              "#9c179e"
             ],
             [
              0.4444444444444444,
              "#bd3786"
             ],
             [
              0.5555555555555556,
              "#d8576b"
             ],
             [
              0.6666666666666666,
              "#ed7953"
             ],
             [
              0.7777777777777778,
              "#fb9f3a"
             ],
             [
              0.8888888888888888,
              "#fdca26"
             ],
             [
              1,
              "#f0f921"
             ]
            ],
            "type": "histogram2dcontour"
           }
          ],
          "mesh3d": [
           {
            "colorbar": {
             "outlinewidth": 0,
             "ticks": ""
            },
            "type": "mesh3d"
           }
          ],
          "parcoords": [
           {
            "line": {
             "colorbar": {
              "outlinewidth": 0,
              "ticks": ""
             }
            },
            "type": "parcoords"
           }
          ],
          "pie": [
           {
            "automargin": true,
            "type": "pie"
           }
          ],
          "scatter": [
           {
            "fillpattern": {
             "fillmode": "overlay",
             "size": 10,
             "solidity": 0.2
            },
            "type": "scatter"
           }
          ],
          "scatter3d": [
           {
            "line": {
             "colorbar": {
              "outlinewidth": 0,
              "ticks": ""
             }
            },
            "marker": {
             "colorbar": {
              "outlinewidth": 0,
              "ticks": ""
             }
            },
            "type": "scatter3d"
           }
          ],
          "scattercarpet": [
           {
            "marker": {
             "colorbar": {
              "outlinewidth": 0,
              "ticks": ""
             }
            },
            "type": "scattercarpet"
           }
          ],
          "scattergeo": [
           {
            "marker": {
             "colorbar": {
              "outlinewidth": 0,
              "ticks": ""
             }
            },
            "type": "scattergeo"
           }
          ],
          "scattergl": [
           {
            "marker": {
             "colorbar": {
              "outlinewidth": 0,
              "ticks": ""
             }
            },
            "type": "scattergl"
           }
          ],
          "scattermapbox": [
           {
            "marker": {
             "colorbar": {
              "outlinewidth": 0,
              "ticks": ""
             }
            },
            "type": "scattermapbox"
           }
          ],
          "scatterpolar": [
           {
            "marker": {
             "colorbar": {
              "outlinewidth": 0,
              "ticks": ""
             }
            },
            "type": "scatterpolar"
           }
          ],
          "scatterpolargl": [
           {
            "marker": {
             "colorbar": {
              "outlinewidth": 0,
              "ticks": ""
             }
            },
            "type": "scatterpolargl"
           }
          ],
          "scatterternary": [
           {
            "marker": {
             "colorbar": {
              "outlinewidth": 0,
              "ticks": ""
             }
            },
            "type": "scatterternary"
           }
          ],
          "surface": [
           {
            "colorbar": {
             "outlinewidth": 0,
             "ticks": ""
            },
            "colorscale": [
             [
              0,
              "#0d0887"
             ],
             [
              0.1111111111111111,
              "#46039f"
             ],
             [
              0.2222222222222222,
              "#7201a8"
             ],
             [
              0.3333333333333333,
              "#9c179e"
             ],
             [
              0.4444444444444444,
              "#bd3786"
             ],
             [
              0.5555555555555556,
              "#d8576b"
             ],
             [
              0.6666666666666666,
              "#ed7953"
             ],
             [
              0.7777777777777778,
              "#fb9f3a"
             ],
             [
              0.8888888888888888,
              "#fdca26"
             ],
             [
              1,
              "#f0f921"
             ]
            ],
            "type": "surface"
           }
          ],
          "table": [
           {
            "cells": {
             "fill": {
              "color": "#EBF0F8"
             },
             "line": {
              "color": "white"
             }
            },
            "header": {
             "fill": {
              "color": "#C8D4E3"
             },
             "line": {
              "color": "white"
             }
            },
            "type": "table"
           }
          ]
         },
         "layout": {
          "annotationdefaults": {
           "arrowcolor": "#2a3f5f",
           "arrowhead": 0,
           "arrowwidth": 1
          },
          "autotypenumbers": "strict",
          "coloraxis": {
           "colorbar": {
            "outlinewidth": 0,
            "ticks": ""
           }
          },
          "colorscale": {
           "diverging": [
            [
             0,
             "#8e0152"
            ],
            [
             0.1,
             "#c51b7d"
            ],
            [
             0.2,
             "#de77ae"
            ],
            [
             0.3,
             "#f1b6da"
            ],
            [
             0.4,
             "#fde0ef"
            ],
            [
             0.5,
             "#f7f7f7"
            ],
            [
             0.6,
             "#e6f5d0"
            ],
            [
             0.7,
             "#b8e186"
            ],
            [
             0.8,
             "#7fbc41"
            ],
            [
             0.9,
             "#4d9221"
            ],
            [
             1,
             "#276419"
            ]
           ],
           "sequential": [
            [
             0,
             "#0d0887"
            ],
            [
             0.1111111111111111,
             "#46039f"
            ],
            [
             0.2222222222222222,
             "#7201a8"
            ],
            [
             0.3333333333333333,
             "#9c179e"
            ],
            [
             0.4444444444444444,
             "#bd3786"
            ],
            [
             0.5555555555555556,
             "#d8576b"
            ],
            [
             0.6666666666666666,
             "#ed7953"
            ],
            [
             0.7777777777777778,
             "#fb9f3a"
            ],
            [
             0.8888888888888888,
             "#fdca26"
            ],
            [
             1,
             "#f0f921"
            ]
           ],
           "sequentialminus": [
            [
             0,
             "#0d0887"
            ],
            [
             0.1111111111111111,
             "#46039f"
            ],
            [
             0.2222222222222222,
             "#7201a8"
            ],
            [
             0.3333333333333333,
             "#9c179e"
            ],
            [
             0.4444444444444444,
             "#bd3786"
            ],
            [
             0.5555555555555556,
             "#d8576b"
            ],
            [
             0.6666666666666666,
             "#ed7953"
            ],
            [
             0.7777777777777778,
             "#fb9f3a"
            ],
            [
             0.8888888888888888,
             "#fdca26"
            ],
            [
             1,
             "#f0f921"
            ]
           ]
          },
          "colorway": [
           "#636efa",
           "#EF553B",
           "#00cc96",
           "#ab63fa",
           "#FFA15A",
           "#19d3f3",
           "#FF6692",
           "#B6E880",
           "#FF97FF",
           "#FECB52"
          ],
          "font": {
           "color": "#2a3f5f"
          },
          "geo": {
           "bgcolor": "white",
           "lakecolor": "white",
           "landcolor": "#E5ECF6",
           "showlakes": true,
           "showland": true,
           "subunitcolor": "white"
          },
          "hoverlabel": {
           "align": "left"
          },
          "hovermode": "closest",
          "mapbox": {
           "style": "light"
          },
          "paper_bgcolor": "white",
          "plot_bgcolor": "#E5ECF6",
          "polar": {
           "angularaxis": {
            "gridcolor": "white",
            "linecolor": "white",
            "ticks": ""
           },
           "bgcolor": "#E5ECF6",
           "radialaxis": {
            "gridcolor": "white",
            "linecolor": "white",
            "ticks": ""
           }
          },
          "scene": {
           "xaxis": {
            "backgroundcolor": "#E5ECF6",
            "gridcolor": "white",
            "gridwidth": 2,
            "linecolor": "white",
            "showbackground": true,
            "ticks": "",
            "zerolinecolor": "white"
           },
           "yaxis": {
            "backgroundcolor": "#E5ECF6",
            "gridcolor": "white",
            "gridwidth": 2,
            "linecolor": "white",
            "showbackground": true,
            "ticks": "",
            "zerolinecolor": "white"
           },
           "zaxis": {
            "backgroundcolor": "#E5ECF6",
            "gridcolor": "white",
            "gridwidth": 2,
            "linecolor": "white",
            "showbackground": true,
            "ticks": "",
            "zerolinecolor": "white"
           }
          },
          "shapedefaults": {
           "line": {
            "color": "#2a3f5f"
           }
          },
          "ternary": {
           "aaxis": {
            "gridcolor": "white",
            "linecolor": "white",
            "ticks": ""
           },
           "baxis": {
            "gridcolor": "white",
            "linecolor": "white",
            "ticks": ""
           },
           "bgcolor": "#E5ECF6",
           "caxis": {
            "gridcolor": "white",
            "linecolor": "white",
            "ticks": ""
           }
          },
          "title": {
           "x": 0.05
          },
          "xaxis": {
           "automargin": true,
           "gridcolor": "white",
           "linecolor": "white",
           "ticks": "",
           "title": {
            "standoff": 15
           },
           "zerolinecolor": "white",
           "zerolinewidth": 2
          },
          "yaxis": {
           "automargin": true,
           "gridcolor": "white",
           "linecolor": "white",
           "ticks": "",
           "title": {
            "standoff": 15
           },
           "zerolinecolor": "white",
           "zerolinewidth": 2
          }
         }
        },
        "title": {
         "text": "Interaction Distances by Residue and Interacting Chain"
        },
        "xaxis": {
         "anchor": "y",
         "categoryarray": [
          "1M",
          "2S",
          "3A",
          "4E",
          "7I",
          "20R",
          "21P",
          "51K",
          "87T",
          "88G",
          "89S",
          "90G",
          "91K",
          "92T",
          "93F",
          "94T",
          "95S",
          "96S",
          "97G",
          "98K",
          "99T",
          "100H",
          "144R",
          "148K",
          "157K",
          "159N",
          "159R",
          "162V",
          "163H",
          "164E",
          "165D",
          "166K",
          "168R",
          "201N",
          "204S",
          "205N",
          "205S",
          "208S",
          "209S",
          "237G",
          "238S",
          "240K",
          "241G",
          "241I",
          "242S",
          "244K",
          "245I",
          "245V",
          "250A",
          "251E",
          "255K",
          "259K",
          "262N",
          "262S",
          "263K",
          "266S",
          "270N",
          "275K",
          "277T",
          "278H",
          "280K",
          "281T",
          "282H",
          "282R",
          "283D",
          "286R",
          "287D",
          "288R",
          "318A",
          "321R",
          "325R",
          "328R",
          "341A",
          "344L",
          "345A",
          "346E",
          "348W",
          "348L",
          "349K",
          "352Y",
          "354E",
          "355E",
          "355I",
          "358E",
          "358L",
          "359N",
          "359K",
          "361Y",
          "362L",
          "362I",
          "363K",
          "365K",
          "365Y",
          "365L",
          "366I",
          "366E",
          "368V",
          "369L",
          "370E",
          "371V",
          "372E",
          "372V",
          "373L",
          "373S",
          "373V",
          "375V",
          "376L",
          "377R",
          "377V",
          "380L",
          "387Q",
          "388I",
          "390M",
          "444T",
          "445S",
          "448T",
          "448D",
          "449T",
          "452I",
          "456I",
          "458K",
          "459C",
          "462K",
          "463C",
          "463E",
          "465Q",
          "466L",
          "467E",
          "469Q",
          "469K",
          "470L",
          "470E",
          "472E",
          "473K",
          "474E",
          "476E",
          "476I",
          "477K",
          "480I",
          "480L",
          "483Q",
          "484L",
          "487Q",
          "487I",
          "488Q",
          "490K",
          "491I",
          "491D",
          "494K",
          "495D",
          "497E",
          "497L",
          "498I",
          "498N",
          "501L",
          "501I",
          "502N",
          "504M",
          "504S",
          "505I",
          "506N",
          "507S",
          "508S",
          "508N",
          "510L",
          "511I",
          "511Y",
          "512N",
          "514L",
          "514S",
          "515Y",
          "517E",
          "518S",
          "518N",
          "521L",
          "522N",
          "524Q",
          "525L",
          "526N",
          "529L",
          "532L",
          "535A",
          "535S",
          "536L",
          "539S",
          "539A",
          "540R",
          "542Q",
          "543A",
          "546Q",
          "546I",
          "549L",
          "550I",
          "550N",
          "552E",
          "553L",
          "553N",
          "554N",
          "556E",
          "556I",
          "557N",
          "557K",
          "560I",
          "560L",
          "561K",
          "563L",
          "564L",
          "566R",
          "567L",
          "567I",
          "570R",
          "571I",
          "574S",
          "575I",
          "578L",
          "579I",
          "582L"
         ],
         "categoryorder": "array",
         "domain": [
          0,
          1
         ],
         "title": {
          "text": "Residue (Number and Identity)"
         }
        },
        "yaxis": {
         "anchor": "x",
         "domain": [
          0,
          1
         ],
         "title": {
          "text": "Distance (angstroms)"
         }
        }
       }
      }
     },
     "metadata": {},
     "output_type": "display_data"
    },
    {
     "data": {
      "application/vnd.plotly.v1+json": {
       "config": {
        "plotlyServerURL": "https://plot.ly"
       },
       "data": [
        {
         "customdata": [
          [
           "fold_c_atp_tub_seed2_model_0",
           349,
           "K"
          ],
          [
           "fold_c_atp_tub_seed2_model_0",
           349,
           "K"
          ],
          [
           "fold_c_atp_tub_seed2_model_0",
           352,
           "Y"
          ],
          [
           "fold_c_atp_tub_seed2_model_0",
           346,
           "E"
          ],
          [
           "fold_c_atp_tub_seed2_model_0",
           2,
           "S"
          ],
          [
           "fold_c_atp_tub_seed2_model_0",
           352,
           "Y"
          ],
          [
           "fold_c_atp_tub_seed2_model_0",
           2,
           "S"
          ],
          [
           "fold_c_atp_tub_seed2_model_0",
           348,
           "W"
          ],
          [
           "fold_c_atp_tub_seed2_model_0",
           359,
           "N"
          ],
          [
           "fold_c_atp_tub_seed2_model_0",
           359,
           "N"
          ],
          [
           "fold_c_atp_tub_seed2_model_0",
           362,
           "L"
          ],
          [
           "fold_c_atp_tub_seed2_model_0",
           359,
           "N"
          ],
          [
           "fold_c_atp_tub_seed2_model_0",
           393,
           "L"
          ],
          [
           "fold_c_atp_tub_seed2_model_0",
           393,
           "L"
          ],
          [
           "fold_c_atp_tub_seed2_model_0",
           377,
           "R"
          ],
          [
           "fold_c_atp_tub_seed2_model_0",
           373,
           "L"
          ],
          [
           "fold_c_atp_tub_seed2_model_0",
           372,
           "E"
          ],
          [
           "fold_c_atp_tub_seed2_model_0",
           377,
           "R"
          ],
          [
           "fold_c_atp_tub_seed2_model_0",
           377,
           "R"
          ],
          [
           "fold_c_atp_tub_seed2_model_0",
           370,
           "E"
          ],
          [
           "fold_c_atp_tub_seed2_model_0",
           366,
           "V"
          ],
          [
           "fold_e_atp_tub_seed2_model_0",
           179,
           "F"
          ],
          [
           "fold_e_atp_tub_seed2_model_0",
           136,
           "H"
          ],
          [
           "fold_e_atp_tub_seed2_model_0",
           136,
           "H"
          ],
          [
           "fold_e_atp_tub_seed2_model_0",
           135,
           "F"
          ],
          [
           "fold_e_atp_tub_seed2_model_0",
           224,
           "L"
          ],
          [
           "fold_e_atp_tub_seed2_model_0",
           181,
           "S"
          ],
          [
           "fold_e_atp_tub_seed2_model_0",
           181,
           "S"
          ],
          [
           "fold_e_atp_tub_seed2_model_0",
           134,
           "E"
          ],
          [
           "fold_e_atp_tub_seed2_model_0",
           229,
           "K"
          ],
          [
           "fold_e_atp_tub_seed2_model_0",
           220,
           "K"
          ],
          [
           "fold_e_atp_tub_seed2_model_0",
           166,
           "K"
          ],
          [
           "fold_e_atp_tub_seed2_model_0",
           222,
           "E"
          ],
          [
           "fold_e_atp_tub_seed2_model_0",
           348,
           "L"
          ],
          [
           "fold_e_atp_tub_seed2_model_0",
           363,
           "K"
          ],
          [
           "fold_e_atp_tub_seed2_model_0",
           359,
           "I"
          ],
          [
           "fold_e_atp_tub_seed2_model_0",
           366,
           "I"
          ],
          [
           "fold_e_atp_tub_seed2_model_0",
           358,
           "E"
          ],
          [
           "fold_e_atp_tub_seed2_model_0",
           377,
           "V"
          ],
          [
           "fold_e_atp_tub_seed2_model_0",
           366,
           "I"
          ],
          [
           "fold_e_atp_tub_seed2_model_0",
           375,
           "V"
          ],
          [
           "fold_e_atp_tub_seed2_model_0",
           380,
           "L"
          ],
          [
           "fold_e_atp_tub_seed2_model_0",
           373,
           "S"
          ],
          [
           "fold_e_atp_tub_seed2_model_0",
           369,
           "L"
          ],
          [
           "fold_e_atp_tub_seed2_model_0",
           365,
           "Y"
          ],
          [
           "fold_e_atp_tub_seed2_model_0",
           372,
           "V"
          ],
          [
           "fold_e_atp_tub_seed2_model_0",
           456,
           "I"
          ],
          [
           "fold_e_atp_tub_seed2_model_0",
           467,
           "E"
          ],
          [
           "fold_e_atp_tub_seed2_model_0",
           463,
           "C"
          ],
          [
           "fold_e_atp_tub_seed2_model_0",
           470,
           "L"
          ],
          [
           "fold_e_atp_tub_seed2_model_0",
           462,
           "K"
          ],
          [
           "fold_e_atp_tub_seed2_model_0",
           470,
           "L"
          ],
          [
           "fold_e_atp_tub_seed2_model_0",
           470,
           "L"
          ],
          [
           "fold_e_atp_tub_seed2_model_0",
           474,
           "E"
          ],
          [
           "fold_e_atp_tub_seed2_model_0",
           473,
           "K"
          ],
          [
           "fold_e_atp_tub_seed2_model_0",
           477,
           "K"
          ],
          [
           "fold_e_atp_tub_seed2_model_0",
           476,
           "E"
          ],
          [
           "fold_e_atp_tub_seed2_model_0",
           484,
           "L"
          ],
          [
           "fold_e_atp_tub_seed2_model_0",
           487,
           "Q"
          ],
          [
           "fold_e_atp_tub_seed2_model_0",
           484,
           "L"
          ],
          [
           "fold_e_atp_tub_seed2_model_0",
           494,
           "K"
          ],
          [
           "fold_e_atp_tub_seed2_model_0",
           495,
           "D"
          ],
          [
           "fold_e_atp_tub_seed2_model_0",
           494,
           "K"
          ],
          [
           "fold_e_atp_tub_seed2_model_0",
           505,
           "I"
          ],
          [
           "fold_e_atp_tub_seed2_model_0",
           501,
           "L"
          ],
          [
           "fold_e_atp_tub_seed2_model_0",
           501,
           "L"
          ],
          [
           "fold_e_atp_tub_seed2_model_0",
           508,
           "S"
          ],
          [
           "fold_e_atp_tub_seed2_model_0",
           512,
           "N"
          ],
          [
           "fold_e_atp_tub_seed2_model_0",
           511,
           "I"
          ],
          [
           "fold_e_atp_tub_seed2_model_0",
           515,
           "Y"
          ],
          [
           "fold_e_atp_tub_seed2_model_0",
           514,
           "L"
          ],
          [
           "fold_e_atp_tub_seed2_model_0",
           522,
           "N"
          ],
          [
           "fold_e_atp_tub_seed2_model_0",
           518,
           "S"
          ],
          [
           "fold_e_atp_tub_seed2_model_0",
           522,
           "N"
          ],
          [
           "fold_e_atp_tub_seed2_model_0",
           522,
           "N"
          ],
          [
           "fold_e_atp_tub_seed2_model_0",
           525,
           "L"
          ],
          [
           "fold_e_atp_tub_seed2_model_0",
           525,
           "L"
          ],
          [
           "fold_e_atp_tub_seed2_model_0",
           536,
           "L"
          ],
          [
           "fold_e_atp_tub_seed2_model_0",
           536,
           "L"
          ],
          [
           "fold_e_atp_tub_seed2_model_0",
           536,
           "L"
          ],
          [
           "fold_e_atp_tub_seed2_model_0",
           539,
           "S"
          ],
          [
           "fold_e_atp_tub_seed2_model_0",
           539,
           "S"
          ],
          [
           "fold_e_atp_tub_seed2_model_0",
           546,
           "Q"
          ],
          [
           "fold_e_atp_tub_seed2_model_0",
           543,
           "A"
          ],
          [
           "fold_e_atp_tub_seed2_model_0",
           550,
           "I"
          ],
          [
           "fold_e_atp_tub_seed2_model_0",
           557,
           "N"
          ],
          [
           "fold_e_atp_tub_seed2_model_0",
           553,
           "L"
          ],
          [
           "fold_e_atp_tub_seed2_model_0",
           561,
           "K"
          ],
          [
           "fold_e_atp_tub_seed2_model_0",
           557,
           "N"
          ],
          [
           "fold_e_atp_tub_seed2_model_0",
           557,
           "N"
          ],
          [
           "fold_e_atp_tub_seed2_model_0",
           556,
           "E"
          ],
          [
           "fold_e_atp_tub_seed2_model_0",
           560,
           "I"
          ],
          [
           "fold_e_atp_tub_seed2_model_0",
           571,
           "I"
          ],
          [
           "fold_e_atp_tub_seed2_model_0",
           582,
           "L"
          ],
          [
           "fold_e_atp_tub_seed2_model_0",
           567,
           "L"
          ],
          [
           "fold_e_atp_tub_seed2_model_0",
           570,
           "R"
          ],
          [
           "fold_k401_atp_tub_seed2_model_0",
           348,
           "W"
          ],
          [
           "fold_k401_atp_tub_seed2_model_0",
           348,
           "W"
          ],
          [
           "fold_k401_atp_tub_seed2_model_0",
           348,
           "W"
          ],
          [
           "fold_k401_atp_tub_seed2_model_0",
           359,
           "N"
          ],
          [
           "fold_k401_atp_tub_seed2_model_0",
           359,
           "N"
          ],
          [
           "fold_k401_atp_tub_seed2_model_0",
           362,
           "L"
          ],
          [
           "fold_k401_atp_tub_seed2_model_0",
           359,
           "N"
          ],
          [
           "fold_k401_atp_tub_seed2_model_0",
           397,
           "S"
          ],
          [
           "fold_k401_atp_tub_seed2_model_0",
           393,
           "L"
          ],
          [
           "fold_k401_atp_tub_seed2_model_0",
           393,
           "L"
          ],
          [
           "fold_k401_atp_tub_seed2_model_0",
           377,
           "R"
          ],
          [
           "fold_k401_atp_tub_seed2_model_0",
           372,
           "E"
          ],
          [
           "fold_k401_atp_tub_seed2_model_0",
           372,
           "E"
          ],
          [
           "fold_k401_atp_tub_seed2_model_0",
           377,
           "R"
          ],
          [
           "fold_k401_atp_tub_seed2_model_0",
           377,
           "R"
          ],
          [
           "fold_k401_atp_tub_seed2_model_0",
           377,
           "R"
          ],
          [
           "fold_k401_atp_tub_seed2_model_0",
           366,
           "V"
          ],
          [
           "fold_k401_atp_tub_seed2_model_0",
           363,
           "K"
          ],
          [
           "fold_kif3_atp_tub_seed2_model_0",
           344,
           "L"
          ],
          [
           "fold_kif3_atp_tub_seed2_model_0",
           341,
           "A"
          ],
          [
           "fold_kif3_atp_tub_seed2_model_0",
           359,
           "K"
          ],
          [
           "fold_kif3_atp_tub_seed2_model_0",
           355,
           "I"
          ],
          [
           "fold_kif3_atp_tub_seed2_model_0",
           362,
           "I"
          ],
          [
           "fold_kif3_atp_tub_seed2_model_0",
           354,
           "E"
          ],
          [
           "fold_kif3_atp_tub_seed2_model_0",
           366,
           "E"
          ],
          [
           "fold_kif3_atp_tub_seed2_model_0",
           362,
           "I"
          ],
          [
           "fold_kif3_atp_tub_seed2_model_0",
           373,
           "V"
          ],
          [
           "fold_kif3_atp_tub_seed2_model_0",
           371,
           "V"
          ],
          [
           "fold_kif3_atp_tub_seed2_model_0",
           361,
           "Y"
          ],
          [
           "fold_kif3_atp_tub_seed2_model_0",
           369,
           "S"
          ],
          [
           "fold_kif3_atp_tub_seed2_model_0",
           365,
           "L"
          ],
          [
           "fold_kif3_atp_tub_seed2_model_0",
           364,
           "E"
          ],
          [
           "fold_kif3_atp_tub_seed2_model_0",
           368,
           "V"
          ],
          [
           "fold_kif3_atp_tub_seed2_model_0",
           448,
           "D"
          ],
          [
           "fold_kif3_atp_tub_seed2_model_0",
           444,
           "T"
          ],
          [
           "fold_kif3_atp_tub_seed2_model_0",
           463,
           "E"
          ],
          [
           "fold_kif3_atp_tub_seed2_model_0",
           459,
           "C"
          ],
          [
           "fold_kif3_atp_tub_seed2_model_0",
           458,
           "K"
          ],
          [
           "fold_kif3_atp_tub_seed2_model_0",
           466,
           "L"
          ],
          [
           "fold_kif3_atp_tub_seed2_model_0",
           470,
           "E"
          ],
          [
           "fold_kif3_atp_tub_seed2_model_0",
           469,
           "K"
          ],
          [
           "fold_kif3_atp_tub_seed2_model_0",
           473,
           "K"
          ],
          [
           "fold_kif3_atp_tub_seed2_model_0",
           472,
           "E"
          ],
          [
           "fold_kif3_atp_tub_seed2_model_0",
           476,
           "I"
          ],
          [
           "fold_kif3_atp_tub_seed2_model_0",
           483,
           "Q"
          ],
          [
           "fold_kif3_atp_tub_seed2_model_0",
           484,
           "Q"
          ],
          [
           "fold_kif3_atp_tub_seed2_model_0",
           483,
           "Q"
          ],
          [
           "fold_kif3_atp_tub_seed2_model_0",
           491,
           "D"
          ],
          [
           "fold_kif3_atp_tub_seed2_model_0",
           490,
           "K"
          ],
          [
           "fold_kif3_atp_tub_seed2_model_0",
           494,
           "I"
          ],
          [
           "fold_kif3_atp_tub_seed2_model_0",
           493,
           "E"
          ],
          [
           "fold_kif3_atp_tub_seed2_model_0",
           501,
           "I"
          ],
          [
           "fold_kif3_atp_tub_seed2_model_0",
           497,
           "L"
          ],
          [
           "fold_kif3_atp_tub_seed2_model_0",
           497,
           "L"
          ],
          [
           "fold_kif3_atp_tub_seed2_model_0",
           504,
           "S"
          ],
          [
           "fold_kif3_atp_tub_seed2_model_0",
           508,
           "N"
          ],
          [
           "fold_kif3_atp_tub_seed2_model_0",
           507,
           "I"
          ],
          [
           "fold_kif3_atp_tub_seed2_model_0",
           511,
           "Y"
          ],
          [
           "fold_kif3_atp_tub_seed2_model_0",
           510,
           "L"
          ],
          [
           "fold_kif3_atp_tub_seed2_model_0",
           514,
           "S"
          ],
          [
           "fold_kif3_atp_tub_seed2_model_0",
           514,
           "S"
          ],
          [
           "fold_kif3_atp_tub_seed2_model_0",
           518,
           "N"
          ],
          [
           "fold_kif3_atp_tub_seed2_model_0",
           518,
           "N"
          ],
          [
           "fold_kif3_atp_tub_seed2_model_0",
           518,
           "N"
          ],
          [
           "fold_kif3_atp_tub_seed2_model_0",
           521,
           "L"
          ],
          [
           "fold_kif3_atp_tub_seed2_model_0",
           521,
           "L"
          ],
          [
           "fold_kif3_atp_tub_seed2_model_0",
           532,
           "L"
          ],
          [
           "fold_kif3_atp_tub_seed2_model_0",
           531,
           "A"
          ],
          [
           "fold_kif3_atp_tub_seed2_model_0",
           535,
           "S"
          ],
          [
           "fold_kif3_atp_tub_seed2_model_0",
           535,
           "S"
          ],
          [
           "fold_kif3_atp_tub_seed2_model_0",
           542,
           "Q"
          ],
          [
           "fold_kif3_atp_tub_seed2_model_0",
           543,
           "S"
          ],
          [
           "fold_kif3_atp_tub_seed2_model_0",
           542,
           "Q"
          ],
          [
           "fold_kif3_atp_tub_seed2_model_0",
           546,
           "I"
          ],
          [
           "fold_kif3_atp_tub_seed2_model_0",
           550,
           "N"
          ],
          [
           "fold_kif3_atp_tub_seed2_model_0",
           549,
           "L"
          ],
          [
           "fold_kif3_atp_tub_seed2_model_0",
           557,
           "K"
          ],
          [
           "fold_kif3_atp_tub_seed2_model_0",
           556,
           "I"
          ],
          [
           "fold_kif3_atp_tub_seed2_model_0",
           553,
           "N"
          ],
          [
           "fold_kif3_atp_tub_seed2_model_0",
           552,
           "E"
          ],
          [
           "fold_kif3_atp_tub_seed2_model_0",
           560,
           "L"
          ],
          [
           "fold_kif3_atp_tub_seed2_model_0",
           563,
           "L"
          ],
          [
           "fold_kif3_atp_tub_seed2_model_0",
           578,
           "L"
          ],
          [
           "fold_kif3_atp_tub_seed2_model_0",
           563,
           "L"
          ],
          [
           "fold_kif3_atp_tub_seed2_model_0",
           575,
           "I"
          ],
          [
           "fold_kif3_atp_tub_seed2_model_0",
           566,
           "R"
          ],
          [
           "fold_kif3_atp_tub_seed2_model_0",
           563,
           "L"
          ]
         ],
         "hovertemplate": "Interacting Chain=kinesin B<br>Residue (Number and Identity)=%{x}<br>Distance (angstroms)=%{y}<br>text=%{text}<br>file=%{customdata[0]}<br>interacting_resinumber=%{customdata[1]}<br>interacting_resi_oneletter=%{customdata[2]}<extra></extra>",
         "legendgroup": "kinesin B",
         "marker": {
          "color": "blue",
          "opacity": 0.6,
          "size": 10,
          "symbol": "circle"
         },
         "mode": "markers+text",
         "name": "kinesin B",
         "orientation": "v",
         "showlegend": true,
         "text": [
          "349K",
          "349K",
          "352Y",
          "346E",
          "2S",
          "352Y",
          "2S",
          "348W",
          "359N",
          "359N",
          "362L",
          "359N",
          "393L",
          "393L",
          "377R",
          "373L",
          "372E",
          "377R",
          "377R",
          "370E",
          "366V",
          "179F",
          "136H",
          "136H",
          "135F",
          "224L",
          "181S",
          "181S",
          "134E",
          "229K",
          "220K",
          "166K",
          "222E",
          "348L",
          "363K",
          "359I",
          "366I",
          "358E",
          "377V",
          "366I",
          "375V",
          "380L",
          "373S",
          "369L",
          "365Y",
          "372V",
          "456I",
          "467E",
          "463C",
          "470L",
          "462K",
          "470L",
          "470L",
          "474E",
          "473K",
          "477K",
          "476E",
          "484L",
          "487Q",
          "484L",
          "494K",
          "495D",
          "494K",
          "505I",
          "501L",
          "501L",
          "508S",
          "512N",
          "511I",
          "515Y",
          "514L",
          "522N",
          "518S",
          "522N",
          "522N",
          "525L",
          "525L",
          "536L",
          "536L",
          "536L",
          "539S",
          "539S",
          "546Q",
          "543A",
          "550I",
          "557N",
          "553L",
          "561K",
          "557N",
          "557N",
          "556E",
          "560I",
          "571I",
          "582L",
          "567L",
          "570R",
          "348W",
          "348W",
          "348W",
          "359N",
          "359N",
          "362L",
          "359N",
          "397S",
          "393L",
          "393L",
          "377R",
          "372E",
          "372E",
          "377R",
          "377R",
          "377R",
          "366V",
          "363K",
          "344L",
          "341A",
          "359K",
          "355I",
          "362I",
          "354E",
          "366E",
          "362I",
          "373V",
          "371V",
          "361Y",
          "369S",
          "365L",
          "364E",
          "368V",
          "448D",
          "444T",
          "463E",
          "459C",
          "458K",
          "466L",
          "470E",
          "469K",
          "473K",
          "472E",
          "476I",
          "483Q",
          "484Q",
          "483Q",
          "491D",
          "490K",
          "494I",
          "493E",
          "501I",
          "497L",
          "497L",
          "504S",
          "508N",
          "507I",
          "511Y",
          "510L",
          "514S",
          "514S",
          "518N",
          "518N",
          "518N",
          "521L",
          "521L",
          "532L",
          "531A",
          "535S",
          "535S",
          "542Q",
          "543S",
          "542Q",
          "546I",
          "550N",
          "549L",
          "557K",
          "556I",
          "553N",
          "552E",
          "560L",
          "563L",
          "578L",
          "563L",
          "575I",
          "566R",
          "563L"
         ],
         "textposition": "top center",
         "type": "scatter",
         "x": [
          "2S",
          "3A",
          "4E",
          "166K",
          "345A",
          "348W",
          "349K",
          "352Y",
          "355E",
          "358K",
          "359N",
          "362L",
          "366V",
          "370E",
          "372E",
          "373L",
          "377R",
          "387Q",
          "388I",
          "390M",
          "393L",
          "133L",
          "134E",
          "135F",
          "136H",
          "138K",
          "181S",
          "185D",
          "220K",
          "222E",
          "224L",
          "227Q",
          "229K",
          "345A",
          "358E",
          "359I",
          "362L",
          "363K",
          "365Y",
          "366I",
          "369L",
          "372V",
          "373S",
          "375V",
          "377V",
          "380L",
          "456I",
          "462K",
          "463C",
          "466L",
          "467E",
          "469Q",
          "470L",
          "473K",
          "474E",
          "476E",
          "477K",
          "480I",
          "484L",
          "487Q",
          "491I",
          "494K",
          "495D",
          "501L",
          "502N",
          "505I",
          "508S",
          "511I",
          "512N",
          "514L",
          "515Y",
          "518S",
          "519T",
          "522N",
          "525L",
          "526N",
          "529L",
          "532L",
          "535A",
          "536L",
          "539S",
          "540R",
          "543A",
          "546Q",
          "550I",
          "553L",
          "554N",
          "556E",
          "557N",
          "560I",
          "561K",
          "564L",
          "567L",
          "570R",
          "571I",
          "582L",
          "345A",
          "348W",
          "352Y",
          "355E",
          "358K",
          "359N",
          "362L",
          "363K",
          "366V",
          "370E",
          "372E",
          "373L",
          "377R",
          "387Q",
          "388I",
          "390M",
          "393L",
          "397S",
          "341A",
          "344L",
          "354E",
          "355I",
          "358L",
          "359K",
          "361Y",
          "362I",
          "364E",
          "365L",
          "366E",
          "369S",
          "371V",
          "373V",
          "376L",
          "444T",
          "448D",
          "458K",
          "459C",
          "463E",
          "466L",
          "469K",
          "470E",
          "472E",
          "473K",
          "476I",
          "480L",
          "483Q",
          "484Q",
          "490K",
          "491D",
          "493E",
          "494I",
          "497L",
          "498N",
          "501I",
          "504S",
          "507I",
          "508N",
          "510L",
          "511Y",
          "514S",
          "515T",
          "517E",
          "518N",
          "521L",
          "522N",
          "525L",
          "531A",
          "532L",
          "535S",
          "536R",
          "539A",
          "542Q",
          "543S",
          "546I",
          "549L",
          "550N",
          "552E",
          "553N",
          "556I",
          "557K",
          "560L",
          "563L",
          "566R",
          "567I",
          "575I",
          "578L",
          "580P"
         ],
         "xaxis": "x",
         "y": [
          2.7049708366394043,
          2.500192403793335,
          2.726569652557373,
          3.2974960803985596,
          3.495225191116333,
          3.067869186401367,
          2.80787992477417,
          3.1325764656066895,
          1.9847224950790403,
          3.439608573913574,
          2.745716094970703,
          2.764228343963623,
          2.685934543609619,
          2.786187648773194,
          2.824467182159424,
          2.904827117919922,
          2.7525405883789062,
          3.3699405193328857,
          2.8546347618103027,
          3.2785933017730713,
          2.5366830825805664,
          3.3456051349639893,
          2.658355236053467,
          2.177626371383667,
          2.335320234298706,
          3.340817928314209,
          2.4121956825256348,
          3.210391044616699,
          2.8777294158935547,
          2.5527637004852295,
          3.062281847000122,
          3.3593637943267822,
          2.784045457839966,
          3.4095728397369385,
          2.723917007446289,
          3.4798405170440674,
          3.2578840255737305,
          2.666030168533325,
          2.378837823867798,
          3.350409507751465,
          3.28835129737854,
          3.244004487991333,
          3.3915457725524902,
          3.3312125205993652,
          2.4891183376312256,
          2.9351954460144043,
          3.40732741355896,
          2.8630642890930176,
          2.989753484725952,
          3.4242422580718994,
          2.79927659034729,
          3.406895399093628,
          3.3915164470672607,
          2.5612053871154785,
          2.7174670696258545,
          2.547840118408203,
          2.5904245376586914,
          3.2563540935516357,
          3.188204765319824,
          3.1795952320098877,
          3.001890182495117,
          2.5904104709625244,
          2.61674427986145,
          2.8744328022003174,
          3.2610533237457275,
          2.9110889434814453,
          3.09769606590271,
          3.3403847217559814,
          3.26830792427063,
          3.425709009170532,
          3.1444618701934814,
          2.842130422592163,
          3.46311092376709,
          2.214717388153076,
          2.8266079425811768,
          3.277269124984741,
          3.19674015045166,
          3.310943365097046,
          3.2736833095550537,
          3.1962292194366455,
          2.70224928855896,
          3.4204866886138916,
          2.8190088272094727,
          2.774893283843994,
          3.3683958053588867,
          3.2475907802581787,
          3.2385382652282715,
          2.603609561920166,
          2.914894342422486,
          3.0064804553985596,
          2.6864566802978516,
          3.184638261795044,
          3.1959691047668457,
          2.944470167160034,
          2.9862284660339355,
          2.704155206680298,
          3.3955047130584717,
          3.414989948272705,
          3.496405601501465,
          1.9953404664993288,
          3.45218276977539,
          2.816624164581299,
          2.9479050636291504,
          3.398914337158203,
          2.735884666442871,
          2.6828954219818115,
          2.850796699523926,
          2.8502538204193115,
          2.7925305366516113,
          3.385688066482544,
          2.838085889816284,
          3.4570114612579346,
          2.5604653358459473,
          3.0359444618225098,
          3.1368184089660645,
          3.1645286083221436,
          2.934997320175171,
          3.49324107170105,
          3.407963275909424,
          2.7314257621765137,
          2.8730006217956543,
          3.317545175552368,
          3.2711501121520996,
          2.9998779296875,
          2.979167938232422,
          3.260679244995117,
          3.098212957382202,
          3.298412084579468,
          3.4171652793884277,
          2.299700975418091,
          2.648334503173828,
          2.7723028659820557,
          2.9961774349212646,
          2.6784729957580566,
          3.316741943359375,
          2.630852222442627,
          2.664680242538452,
          2.5826945304870605,
          2.5132620334625244,
          3.3319997787475586,
          3.1961915493011475,
          3.15407395362854,
          2.924105167388916,
          2.452393054962158,
          2.3598902225494385,
          3.477898359298706,
          3.453726291656494,
          2.9144585132598877,
          3.316145420074463,
          2.9363512992858887,
          2.9196887016296387,
          3.4589104652404785,
          3.370248794555664,
          3.353635311126709,
          3.2185091972351074,
          2.7447047233581543,
          3.4059808254241943,
          3.4538893699645996,
          3.0641658306121826,
          2.448543071746826,
          3.1994192600250244,
          3.437631368637085,
          3.366575002670288,
          3.394367218017578,
          2.7210047245025635,
          3.476593494415283,
          2.8629491329193115,
          2.6842541694641113,
          2.695085048675537,
          3.427288770675659,
          3.120875835418701,
          3.158853769302368,
          2.8655753135681152,
          3.116145372390747,
          2.8307769298553467,
          2.6333696842193604,
          3.359593152999878,
          3.3770911693573,
          3.2479193210601807,
          3.367431879043579,
          3.1779050827026367,
          3.1629064083099365,
          3.3063817024230957
         ],
         "yaxis": "y"
        },
        {
         "customdata": [
          [
           "fold_c_atp_tub_seed2_model_0",
           439,
           "E"
          ],
          [
           "fold_c_atp_tub_seed2_model_0",
           157,
           "E"
          ],
          [
           "fold_c_atp_tub_seed2_model_0",
           157,
           "E"
          ],
          [
           "fold_c_atp_tub_seed2_model_0",
           410,
           "E"
          ],
          [
           "fold_c_atp_tub_seed2_model_0",
           410,
           "E"
          ],
          [
           "fold_c_atp_tub_seed2_model_0",
           413,
           "S"
          ],
          [
           "fold_c_atp_tub_seed2_model_0",
           406,
           "M"
          ],
          [
           "fold_c_atp_tub_seed2_model_0",
           424,
           "Q"
          ],
          [
           "fold_c_atp_tub_seed2_model_0",
           424,
           "Q"
          ],
          [
           "fold_c_atp_tub_seed2_model_0",
           417,
           "D"
          ],
          [
           "fold_c_atp_tub_seed2_model_0",
           262,
           "R"
          ],
          [
           "fold_e_atp_tub_seed2_model_0",
           439,
           "E"
          ],
          [
           "fold_e_atp_tub_seed2_model_0",
           157,
           "E"
          ],
          [
           "fold_e_atp_tub_seed2_model_0",
           157,
           "E"
          ],
          [
           "fold_e_atp_tub_seed2_model_0",
           410,
           "E"
          ],
          [
           "fold_e_atp_tub_seed2_model_0",
           410,
           "E"
          ],
          [
           "fold_e_atp_tub_seed2_model_0",
           413,
           "S"
          ],
          [
           "fold_e_atp_tub_seed2_model_0",
           424,
           "Q"
          ],
          [
           "fold_e_atp_tub_seed2_model_0",
           417,
           "D"
          ],
          [
           "fold_e_atp_tub_seed2_model_0",
           262,
           "R"
          ],
          [
           "fold_e_atp_tub_seed2_model_0",
           437,
           "E"
          ],
          [
           "fold_k401_atp_tub_seed2_model_0",
           157,
           "E"
          ],
          [
           "fold_k401_atp_tub_seed2_model_0",
           157,
           "E"
          ],
          [
           "fold_k401_atp_tub_seed2_model_0",
           410,
           "E"
          ],
          [
           "fold_k401_atp_tub_seed2_model_0",
           410,
           "E"
          ],
          [
           "fold_k401_atp_tub_seed2_model_0",
           406,
           "M"
          ],
          [
           "fold_k401_atp_tub_seed2_model_0",
           406,
           "M"
          ],
          [
           "fold_k401_atp_tub_seed2_model_0",
           424,
           "Q"
          ],
          [
           "fold_k401_atp_tub_seed2_model_0",
           417,
           "D"
          ],
          [
           "fold_k401_atp_tub_seed2_model_0",
           262,
           "R"
          ],
          [
           "fold_kif3_atp_tub_seed2_model_0",
           439,
           "E"
          ],
          [
           "fold_kif3_atp_tub_seed2_model_0",
           157,
           "E"
          ],
          [
           "fold_kif3_atp_tub_seed2_model_0",
           407,
           "E"
          ],
          [
           "fold_kif3_atp_tub_seed2_model_0",
           424,
           "Q"
          ],
          [
           "fold_kif3_atp_tub_seed2_model_0",
           410,
           "E"
          ],
          [
           "fold_kif3_atp_tub_seed2_model_0",
           262,
           "R"
          ],
          [
           "fold_kif3_atp_tub_seed2_model_0",
           410,
           "E"
          ]
         ],
         "hovertemplate": "Interacting Chain=beta-tubulin<br>Residue (Number and Identity)=%{x}<br>Distance (angstroms)=%{y}<br>text=%{text}<br>file=%{customdata[0]}<br>interacting_resinumber=%{customdata[1]}<br>interacting_resi_oneletter=%{customdata[2]}<extra></extra>",
         "legendgroup": "beta-tubulin",
         "marker": {
          "color": "green",
          "opacity": 0.6,
          "size": 10,
          "symbol": "circle"
         },
         "mode": "markers+text",
         "name": "beta-tubulin",
         "orientation": "v",
         "showlegend": true,
         "text": [
          "439E",
          "157E",
          "157E",
          "410E",
          "410E",
          "413S",
          "406M",
          "424Q",
          "424Q",
          "417D",
          "262R",
          "439E",
          "157E",
          "157E",
          "410E",
          "410E",
          "413S",
          "424Q",
          "417D",
          "262R",
          "437E",
          "157E",
          "157E",
          "410E",
          "410E",
          "406M",
          "406M",
          "424Q",
          "417D",
          "262R",
          "439E",
          "157E",
          "407E",
          "424Q",
          "410E",
          "262R",
          "410E"
         ],
         "textposition": "top center",
         "type": "scatter",
         "x": [
          "51K",
          "148K",
          "159N",
          "162V",
          "163H",
          "164E",
          "165D",
          "281T",
          "282H",
          "286R",
          "287D",
          "51K",
          "148K",
          "159N",
          "162V",
          "163H",
          "164E",
          "282H",
          "286R",
          "287D",
          "328R",
          "148K",
          "159N",
          "162V",
          "163H",
          "164E",
          "165D",
          "282H",
          "286R",
          "287D",
          "45S",
          "144R",
          "157K",
          "278H",
          "282R",
          "283D",
          "288R"
         ],
         "xaxis": "x",
         "y": [
          3.076155185699463,
          3.0529580116271973,
          3.1801626682281494,
          3.0710809230804443,
          2.6993296146392822,
          3.260935068130493,
          3.2711119651794434,
          3.4250409603118896,
          2.677729845046997,
          2.5618436336517334,
          3.2569708824157715,
          3.3810858726501465,
          3.0626890659332275,
          3.0273184776306152,
          3.093134641647339,
          2.7043895721435547,
          3.2314960956573486,
          2.8488993644714355,
          2.6110875606536865,
          3.390143871307373,
          2.5114872455596924,
          2.96763277053833,
          2.9002978801727295,
          3.2067956924438477,
          2.839240074157715,
          3.1770904064178467,
          2.9988021850585938,
          2.812537431716919,
          2.5015110969543457,
          3.0947930812835693,
          3.2901318073272705,
          2.666984796524048,
          3.415499687194824,
          2.762484550476074,
          2.4598586559295654,
          3.0417959690093994,
          3.1203856468200684
         ],
         "yaxis": "y"
        },
        {
         "customdata": [
          [
           "fold_c_atp_tub_seed2_model_0",
           1,
           null
          ],
          [
           "fold_c_atp_tub_seed2_model_0",
           1,
           null
          ],
          [
           "fold_c_atp_tub_seed2_model_0",
           1,
           null
          ],
          [
           "fold_c_atp_tub_seed2_model_0",
           1,
           null
          ],
          [
           "fold_c_atp_tub_seed2_model_0",
           1,
           null
          ],
          [
           "fold_c_atp_tub_seed2_model_0",
           1,
           null
          ],
          [
           "fold_c_atp_tub_seed2_model_0",
           1,
           null
          ],
          [
           "fold_c_atp_tub_seed2_model_0",
           1,
           null
          ],
          [
           "fold_c_atp_tub_seed2_model_0",
           1,
           null
          ],
          [
           "fold_c_atp_tub_seed2_model_0",
           1,
           null
          ],
          [
           "fold_c_atp_tub_seed2_model_0",
           1,
           null
          ],
          [
           "fold_e_atp_tub_seed2_model_0",
           1,
           null
          ],
          [
           "fold_e_atp_tub_seed2_model_0",
           1,
           null
          ],
          [
           "fold_e_atp_tub_seed2_model_0",
           1,
           null
          ],
          [
           "fold_e_atp_tub_seed2_model_0",
           1,
           null
          ],
          [
           "fold_e_atp_tub_seed2_model_0",
           1,
           null
          ],
          [
           "fold_e_atp_tub_seed2_model_0",
           1,
           null
          ],
          [
           "fold_e_atp_tub_seed2_model_0",
           1,
           null
          ],
          [
           "fold_e_atp_tub_seed2_model_0",
           1,
           null
          ],
          [
           "fold_e_atp_tub_seed2_model_0",
           1,
           null
          ],
          [
           "fold_e_atp_tub_seed2_model_0",
           1,
           null
          ],
          [
           "fold_e_atp_tub_seed2_model_0",
           1,
           null
          ],
          [
           "fold_e_atp_tub_seed2_model_0",
           1,
           null
          ],
          [
           "fold_e_atp_tub_seed2_model_0",
           1,
           null
          ],
          [
           "fold_k401_atp_tub_seed2_model_0",
           1,
           null
          ],
          [
           "fold_k401_atp_tub_seed2_model_0",
           1,
           null
          ],
          [
           "fold_k401_atp_tub_seed2_model_0",
           1,
           null
          ],
          [
           "fold_k401_atp_tub_seed2_model_0",
           1,
           null
          ],
          [
           "fold_k401_atp_tub_seed2_model_0",
           1,
           null
          ],
          [
           "fold_k401_atp_tub_seed2_model_0",
           1,
           null
          ],
          [
           "fold_k401_atp_tub_seed2_model_0",
           1,
           null
          ],
          [
           "fold_k401_atp_tub_seed2_model_0",
           1,
           null
          ],
          [
           "fold_k401_atp_tub_seed2_model_0",
           1,
           null
          ],
          [
           "fold_k401_atp_tub_seed2_model_0",
           1,
           null
          ],
          [
           "fold_k401_atp_tub_seed2_model_0",
           1,
           null
          ],
          [
           "fold_kif3_atp_tub_seed2_model_0",
           1,
           null
          ],
          [
           "fold_kif3_atp_tub_seed2_model_0",
           1,
           null
          ],
          [
           "fold_kif3_atp_tub_seed2_model_0",
           1,
           null
          ],
          [
           "fold_kif3_atp_tub_seed2_model_0",
           1,
           null
          ],
          [
           "fold_kif3_atp_tub_seed2_model_0",
           1,
           null
          ],
          [
           "fold_kif3_atp_tub_seed2_model_0",
           1,
           null
          ],
          [
           "fold_kif3_atp_tub_seed2_model_0",
           1,
           null
          ],
          [
           "fold_kif3_atp_tub_seed2_model_0",
           1,
           null
          ],
          [
           "fold_kif3_atp_tub_seed2_model_0",
           1,
           null
          ],
          [
           "fold_kif3_atp_tub_seed2_model_0",
           1,
           null
          ],
          [
           "fold_kif3_atp_tub_seed2_model_0",
           1,
           null
          ]
         ],
         "hovertemplate": "Interacting Chain=ATP<br>Residue (Number and Identity)=%{x}<br>Distance (angstroms)=%{y}<br>text=%{text}<br>file=%{customdata[0]}<br>interacting_resinumber=%{customdata[1]}<br>interacting_resi_oneletter=%{customdata[2]}<extra></extra>",
         "legendgroup": "ATP",
         "marker": {
          "color": "yellow",
          "opacity": 0.6,
          "size": 10,
          "symbol": "circle"
         },
         "mode": "markers+text",
         "name": "ATP",
         "orientation": "v",
         "showlegend": true,
         "text": [
          null,
          null,
          null,
          null,
          null,
          null,
          null,
          null,
          null,
          null,
          null,
          null,
          null,
          null,
          null,
          null,
          null,
          null,
          null,
          null,
          null,
          null,
          null,
          null,
          null,
          null,
          null,
          null,
          null,
          null,
          null,
          null,
          null,
          null,
          null,
          null,
          null,
          null,
          null,
          null,
          null,
          null,
          null,
          null,
          null,
          null
         ],
         "textposition": "top center",
         "type": "scatter",
         "x": [
          "94T",
          "95S",
          "96S",
          "97G",
          "98K",
          "99T",
          "100H",
          "205N",
          "208S",
          "209S",
          "241G",
          "20R",
          "21P",
          "94T",
          "95S",
          "96S",
          "97G",
          "98K",
          "99T",
          "100H",
          "205N",
          "208S",
          "209S",
          "241G",
          "94T",
          "95S",
          "96S",
          "97G",
          "98K",
          "99T",
          "100H",
          "205N",
          "208S",
          "209S",
          "241G",
          "87T",
          "88G",
          "89S",
          "90G",
          "91K",
          "92T",
          "93F",
          "201N",
          "204S",
          "205S",
          "237G"
         ],
         "xaxis": "x",
         "y": [
          2.6260364055633545,
          2.9981014728546143,
          3.4609131813049316,
          3.0469350814819336,
          2.7803730964660645,
          2.6080482006073,
          2.6510262489318848,
          3.04117751121521,
          2.9506642818450928,
          2.8112363815307617,
          2.9833710193634033,
          3.495986223220825,
          3.4068336486816406,
          2.6111836433410645,
          2.852386474609375,
          3.2603847980499268,
          2.8371694087982178,
          2.7017619609832764,
          2.7457098960876465,
          2.7420170307159424,
          2.9378750324249268,
          3.124770402908325,
          3.056915760040283,
          3.07895565032959,
          2.622086524963379,
          2.9302656650543213,
          3.4334850311279297,
          3.099039077758789,
          2.7781970500946045,
          2.6676344871520996,
          2.701998472213745,
          3.1358020305633545,
          2.9709160327911377,
          2.87503981590271,
          2.8594346046447754,
          2.6146392822265625,
          2.8275861740112305,
          3.3900277614593506,
          3.029371500015259,
          2.6029515266418457,
          2.77339506149292,
          2.6470093727111816,
          3.1940464973449707,
          3.0418734550476074,
          2.941164493560791,
          2.747293710708618
         ],
         "yaxis": "y"
        },
        {
         "customdata": [
          [
           "fold_c_atp_tub_seed2_model_0",
           414,
           "E"
          ],
          [
           "fold_c_atp_tub_seed2_model_0",
           420,
           "E"
          ],
          [
           "fold_c_atp_tub_seed2_model_0",
           412,
           "G"
          ],
          [
           "fold_c_atp_tub_seed2_model_0",
           109,
           "T"
          ],
          [
           "fold_c_atp_tub_seed2_model_0",
           415,
           "E"
          ],
          [
           "fold_c_atp_tub_seed2_model_0",
           402,
           "R"
          ],
          [
           "fold_c_atp_tub_seed2_model_0",
           420,
           "E"
          ],
          [
           "fold_c_atp_tub_seed2_model_0",
           423,
           "E"
          ],
          [
           "fold_e_atp_tub_seed2_model_0",
           414,
           "E"
          ],
          [
           "fold_e_atp_tub_seed2_model_0",
           420,
           "E"
          ],
          [
           "fold_e_atp_tub_seed2_model_0",
           412,
           "G"
          ],
          [
           "fold_e_atp_tub_seed2_model_0",
           112,
           "K"
          ],
          [
           "fold_e_atp_tub_seed2_model_0",
           112,
           "K"
          ],
          [
           "fold_e_atp_tub_seed2_model_0",
           109,
           "T"
          ],
          [
           "fold_e_atp_tub_seed2_model_0",
           409,
           "V"
          ],
          [
           "fold_e_atp_tub_seed2_model_0",
           409,
           "V"
          ],
          [
           "fold_e_atp_tub_seed2_model_0",
           415,
           "E"
          ],
          [
           "fold_e_atp_tub_seed2_model_0",
           402,
           "R"
          ],
          [
           "fold_k401_atp_tub_seed2_model_0",
           414,
           "E"
          ],
          [
           "fold_k401_atp_tub_seed2_model_0",
           420,
           "E"
          ],
          [
           "fold_k401_atp_tub_seed2_model_0",
           412,
           "G"
          ],
          [
           "fold_k401_atp_tub_seed2_model_0",
           112,
           "K"
          ],
          [
           "fold_k401_atp_tub_seed2_model_0",
           112,
           "K"
          ],
          [
           "fold_k401_atp_tub_seed2_model_0",
           108,
           "Y"
          ],
          [
           "fold_k401_atp_tub_seed2_model_0",
           109,
           "T"
          ],
          [
           "fold_k401_atp_tub_seed2_model_0",
           409,
           "V"
          ],
          [
           "fold_k401_atp_tub_seed2_model_0",
           409,
           "V"
          ],
          [
           "fold_k401_atp_tub_seed2_model_0",
           415,
           "E"
          ],
          [
           "fold_kif3_atp_tub_seed2_model_0",
           414,
           "E"
          ],
          [
           "fold_kif3_atp_tub_seed2_model_0",
           420,
           "E"
          ],
          [
           "fold_kif3_atp_tub_seed2_model_0",
           412,
           "G"
          ],
          [
           "fold_kif3_atp_tub_seed2_model_0",
           410,
           "G"
          ],
          [
           "fold_kif3_atp_tub_seed2_model_0",
           409,
           "V"
          ],
          [
           "fold_kif3_atp_tub_seed2_model_0",
           409,
           "V"
          ],
          [
           "fold_kif3_atp_tub_seed2_model_0",
           415,
           "E"
          ],
          [
           "fold_kif3_atp_tub_seed2_model_0",
           402,
           "R"
          ],
          [
           "fold_kif3_atp_tub_seed2_model_0",
           423,
           "E"
          ],
          [
           "fold_kif3_atp_tub_seed2_model_0",
           121,
           "R"
          ],
          [
           "fold_kif3_atp_tub_seed2_model_0",
           89,
           "P"
          ],
          [
           "fold_kif3_atp_tub_seed2_model_0",
           88,
           "H"
          ],
          [
           "fold_kif3_atp_tub_seed2_model_0",
           88,
           "H"
          ],
          [
           "fold_kif3_atp_tub_seed2_model_0",
           56,
           "T"
          ],
          [
           "fold_kif3_atp_tub_seed2_model_0",
           58,
           "A"
          ]
         ],
         "hovertemplate": "Interacting Chain=alpha-tubulin<br>Residue (Number and Identity)=%{x}<br>Distance (angstroms)=%{y}<br>text=%{text}<br>file=%{customdata[0]}<br>interacting_resinumber=%{customdata[1]}<br>interacting_resi_oneletter=%{customdata[2]}<extra></extra>",
         "legendgroup": "alpha-tubulin",
         "marker": {
          "color": "purple",
          "opacity": 0.6,
          "size": 10,
          "symbol": "circle"
         },
         "mode": "markers+text",
         "name": "alpha-tubulin",
         "orientation": "v",
         "showlegend": true,
         "text": [
          "414E",
          "420E",
          "412G",
          "109T",
          "415E",
          "402R",
          "420E",
          "423E",
          "414E",
          "420E",
          "412G",
          "112K",
          "112K",
          "109T",
          "409V",
          "409V",
          "415E",
          "402R",
          "414E",
          "420E",
          "412G",
          "112K",
          "112K",
          "108Y",
          "109T",
          "409V",
          "409V",
          "415E",
          "414E",
          "420E",
          "412G",
          "410G",
          "409V",
          "409V",
          "415E",
          "402R",
          "423E",
          "121R",
          "89P",
          "88H",
          "88H",
          "56T",
          "58A"
         ],
         "textposition": "top center",
         "type": "scatter",
         "x": [
          "242S",
          "244K",
          "245I",
          "259K",
          "266S",
          "270N",
          "318A",
          "325R",
          "242S",
          "244K",
          "245V",
          "250A",
          "251E",
          "259K",
          "262N",
          "263K",
          "266S",
          "270N",
          "242S",
          "244K",
          "245V",
          "250A",
          "251E",
          "255L",
          "259K",
          "262N",
          "263K",
          "266S",
          "238S",
          "240K",
          "241I",
          "255K",
          "258N",
          "259K",
          "262S",
          "266N",
          "321R",
          "530L",
          "533E",
          "534K",
          "537F",
          "541E",
          "545T"
         ],
         "xaxis": "x",
         "y": [
          3.190199375152588,
          2.5336437225341797,
          3.0257229804992676,
          3.346996068954468,
          2.510101556777954,
          3.3418891429901123,
          2.719548463821411,
          2.8139517307281494,
          2.756927490234375,
          2.508404016494751,
          3.1705336570739746,
          3.425650119781494,
          3.237048625946045,
          3.2728331089019775,
          3.3874754905700684,
          3.382650852203369,
          2.408619165420532,
          3.448924779891968,
          3.421055316925049,
          2.5566442012786865,
          3.112013101577759,
          3.2925150394439697,
          3.049867630004883,
          3.4474921226501465,
          3.214399576187134,
          3.437896728515625,
          3.4617300033569336,
          2.3851747512817383,
          3.1010115146636963,
          2.5169522762298584,
          2.9662744998931885,
          3.2784407138824463,
          3.485973596572876,
          3.431994915008545,
          2.4914729595184326,
          3.4433035850524902,
          2.6944591999053955,
          2.3999183177948,
          3.175889492034912,
          3.435227155685425,
          3.3242974281311035,
          2.756061553955078,
          3.1031532287597656
         ],
         "yaxis": "y"
        }
       ],
       "layout": {
        "legend": {
         "title": {
          "text": "Interacting Chain"
         },
         "tracegroupgap": 0
        },
        "template": {
         "data": {
          "bar": [
           {
            "error_x": {
             "color": "#2a3f5f"
            },
            "error_y": {
             "color": "#2a3f5f"
            },
            "marker": {
             "line": {
              "color": "#E5ECF6",
              "width": 0.5
             },
             "pattern": {
              "fillmode": "overlay",
              "size": 10,
              "solidity": 0.2
             }
            },
            "type": "bar"
           }
          ],
          "barpolar": [
           {
            "marker": {
             "line": {
              "color": "#E5ECF6",
              "width": 0.5
             },
             "pattern": {
              "fillmode": "overlay",
              "size": 10,
              "solidity": 0.2
             }
            },
            "type": "barpolar"
           }
          ],
          "carpet": [
           {
            "aaxis": {
             "endlinecolor": "#2a3f5f",
             "gridcolor": "white",
             "linecolor": "white",
             "minorgridcolor": "white",
             "startlinecolor": "#2a3f5f"
            },
            "baxis": {
             "endlinecolor": "#2a3f5f",
             "gridcolor": "white",
             "linecolor": "white",
             "minorgridcolor": "white",
             "startlinecolor": "#2a3f5f"
            },
            "type": "carpet"
           }
          ],
          "choropleth": [
           {
            "colorbar": {
             "outlinewidth": 0,
             "ticks": ""
            },
            "type": "choropleth"
           }
          ],
          "contour": [
           {
            "colorbar": {
             "outlinewidth": 0,
             "ticks": ""
            },
            "colorscale": [
             [
              0,
              "#0d0887"
             ],
             [
              0.1111111111111111,
              "#46039f"
             ],
             [
              0.2222222222222222,
              "#7201a8"
             ],
             [
              0.3333333333333333,
              "#9c179e"
             ],
             [
              0.4444444444444444,
              "#bd3786"
             ],
             [
              0.5555555555555556,
              "#d8576b"
             ],
             [
              0.6666666666666666,
              "#ed7953"
             ],
             [
              0.7777777777777778,
              "#fb9f3a"
             ],
             [
              0.8888888888888888,
              "#fdca26"
             ],
             [
              1,
              "#f0f921"
             ]
            ],
            "type": "contour"
           }
          ],
          "contourcarpet": [
           {
            "colorbar": {
             "outlinewidth": 0,
             "ticks": ""
            },
            "type": "contourcarpet"
           }
          ],
          "heatmap": [
           {
            "colorbar": {
             "outlinewidth": 0,
             "ticks": ""
            },
            "colorscale": [
             [
              0,
              "#0d0887"
             ],
             [
              0.1111111111111111,
              "#46039f"
             ],
             [
              0.2222222222222222,
              "#7201a8"
             ],
             [
              0.3333333333333333,
              "#9c179e"
             ],
             [
              0.4444444444444444,
              "#bd3786"
             ],
             [
              0.5555555555555556,
              "#d8576b"
             ],
             [
              0.6666666666666666,
              "#ed7953"
             ],
             [
              0.7777777777777778,
              "#fb9f3a"
             ],
             [
              0.8888888888888888,
              "#fdca26"
             ],
             [
              1,
              "#f0f921"
             ]
            ],
            "type": "heatmap"
           }
          ],
          "heatmapgl": [
           {
            "colorbar": {
             "outlinewidth": 0,
             "ticks": ""
            },
            "colorscale": [
             [
              0,
              "#0d0887"
             ],
             [
              0.1111111111111111,
              "#46039f"
             ],
             [
              0.2222222222222222,
              "#7201a8"
             ],
             [
              0.3333333333333333,
              "#9c179e"
             ],
             [
              0.4444444444444444,
              "#bd3786"
             ],
             [
              0.5555555555555556,
              "#d8576b"
             ],
             [
              0.6666666666666666,
              "#ed7953"
             ],
             [
              0.7777777777777778,
              "#fb9f3a"
             ],
             [
              0.8888888888888888,
              "#fdca26"
             ],
             [
              1,
              "#f0f921"
             ]
            ],
            "type": "heatmapgl"
           }
          ],
          "histogram": [
           {
            "marker": {
             "pattern": {
              "fillmode": "overlay",
              "size": 10,
              "solidity": 0.2
             }
            },
            "type": "histogram"
           }
          ],
          "histogram2d": [
           {
            "colorbar": {
             "outlinewidth": 0,
             "ticks": ""
            },
            "colorscale": [
             [
              0,
              "#0d0887"
             ],
             [
              0.1111111111111111,
              "#46039f"
             ],
             [
              0.2222222222222222,
              "#7201a8"
             ],
             [
              0.3333333333333333,
              "#9c179e"
             ],
             [
              0.4444444444444444,
              "#bd3786"
             ],
             [
              0.5555555555555556,
              "#d8576b"
             ],
             [
              0.6666666666666666,
              "#ed7953"
             ],
             [
              0.7777777777777778,
              "#fb9f3a"
             ],
             [
              0.8888888888888888,
              "#fdca26"
             ],
             [
              1,
              "#f0f921"
             ]
            ],
            "type": "histogram2d"
           }
          ],
          "histogram2dcontour": [
           {
            "colorbar": {
             "outlinewidth": 0,
             "ticks": ""
            },
            "colorscale": [
             [
              0,
              "#0d0887"
             ],
             [
              0.1111111111111111,
              "#46039f"
             ],
             [
              0.2222222222222222,
              "#7201a8"
             ],
             [
              0.3333333333333333,
              "#9c179e"
             ],
             [
              0.4444444444444444,
              "#bd3786"
             ],
             [
              0.5555555555555556,
              "#d8576b"
             ],
             [
              0.6666666666666666,
              "#ed7953"
             ],
             [
              0.7777777777777778,
              "#fb9f3a"
             ],
             [
              0.8888888888888888,
              "#fdca26"
             ],
             [
              1,
              "#f0f921"
             ]
            ],
            "type": "histogram2dcontour"
           }
          ],
          "mesh3d": [
           {
            "colorbar": {
             "outlinewidth": 0,
             "ticks": ""
            },
            "type": "mesh3d"
           }
          ],
          "parcoords": [
           {
            "line": {
             "colorbar": {
              "outlinewidth": 0,
              "ticks": ""
             }
            },
            "type": "parcoords"
           }
          ],
          "pie": [
           {
            "automargin": true,
            "type": "pie"
           }
          ],
          "scatter": [
           {
            "fillpattern": {
             "fillmode": "overlay",
             "size": 10,
             "solidity": 0.2
            },
            "type": "scatter"
           }
          ],
          "scatter3d": [
           {
            "line": {
             "colorbar": {
              "outlinewidth": 0,
              "ticks": ""
             }
            },
            "marker": {
             "colorbar": {
              "outlinewidth": 0,
              "ticks": ""
             }
            },
            "type": "scatter3d"
           }
          ],
          "scattercarpet": [
           {
            "marker": {
             "colorbar": {
              "outlinewidth": 0,
              "ticks": ""
             }
            },
            "type": "scattercarpet"
           }
          ],
          "scattergeo": [
           {
            "marker": {
             "colorbar": {
              "outlinewidth": 0,
              "ticks": ""
             }
            },
            "type": "scattergeo"
           }
          ],
          "scattergl": [
           {
            "marker": {
             "colorbar": {
              "outlinewidth": 0,
              "ticks": ""
             }
            },
            "type": "scattergl"
           }
          ],
          "scattermapbox": [
           {
            "marker": {
             "colorbar": {
              "outlinewidth": 0,
              "ticks": ""
             }
            },
            "type": "scattermapbox"
           }
          ],
          "scatterpolar": [
           {
            "marker": {
             "colorbar": {
              "outlinewidth": 0,
              "ticks": ""
             }
            },
            "type": "scatterpolar"
           }
          ],
          "scatterpolargl": [
           {
            "marker": {
             "colorbar": {
              "outlinewidth": 0,
              "ticks": ""
             }
            },
            "type": "scatterpolargl"
           }
          ],
          "scatterternary": [
           {
            "marker": {
             "colorbar": {
              "outlinewidth": 0,
              "ticks": ""
             }
            },
            "type": "scatterternary"
           }
          ],
          "surface": [
           {
            "colorbar": {
             "outlinewidth": 0,
             "ticks": ""
            },
            "colorscale": [
             [
              0,
              "#0d0887"
             ],
             [
              0.1111111111111111,
              "#46039f"
             ],
             [
              0.2222222222222222,
              "#7201a8"
             ],
             [
              0.3333333333333333,
              "#9c179e"
             ],
             [
              0.4444444444444444,
              "#bd3786"
             ],
             [
              0.5555555555555556,
              "#d8576b"
             ],
             [
              0.6666666666666666,
              "#ed7953"
             ],
             [
              0.7777777777777778,
              "#fb9f3a"
             ],
             [
              0.8888888888888888,
              "#fdca26"
             ],
             [
              1,
              "#f0f921"
             ]
            ],
            "type": "surface"
           }
          ],
          "table": [
           {
            "cells": {
             "fill": {
              "color": "#EBF0F8"
             },
             "line": {
              "color": "white"
             }
            },
            "header": {
             "fill": {
              "color": "#C8D4E3"
             },
             "line": {
              "color": "white"
             }
            },
            "type": "table"
           }
          ]
         },
         "layout": {
          "annotationdefaults": {
           "arrowcolor": "#2a3f5f",
           "arrowhead": 0,
           "arrowwidth": 1
          },
          "autotypenumbers": "strict",
          "coloraxis": {
           "colorbar": {
            "outlinewidth": 0,
            "ticks": ""
           }
          },
          "colorscale": {
           "diverging": [
            [
             0,
             "#8e0152"
            ],
            [
             0.1,
             "#c51b7d"
            ],
            [
             0.2,
             "#de77ae"
            ],
            [
             0.3,
             "#f1b6da"
            ],
            [
             0.4,
             "#fde0ef"
            ],
            [
             0.5,
             "#f7f7f7"
            ],
            [
             0.6,
             "#e6f5d0"
            ],
            [
             0.7,
             "#b8e186"
            ],
            [
             0.8,
             "#7fbc41"
            ],
            [
             0.9,
             "#4d9221"
            ],
            [
             1,
             "#276419"
            ]
           ],
           "sequential": [
            [
             0,
             "#0d0887"
            ],
            [
             0.1111111111111111,
             "#46039f"
            ],
            [
             0.2222222222222222,
             "#7201a8"
            ],
            [
             0.3333333333333333,
             "#9c179e"
            ],
            [
             0.4444444444444444,
             "#bd3786"
            ],
            [
             0.5555555555555556,
             "#d8576b"
            ],
            [
             0.6666666666666666,
             "#ed7953"
            ],
            [
             0.7777777777777778,
             "#fb9f3a"
            ],
            [
             0.8888888888888888,
             "#fdca26"
            ],
            [
             1,
             "#f0f921"
            ]
           ],
           "sequentialminus": [
            [
             0,
             "#0d0887"
            ],
            [
             0.1111111111111111,
             "#46039f"
            ],
            [
             0.2222222222222222,
             "#7201a8"
            ],
            [
             0.3333333333333333,
             "#9c179e"
            ],
            [
             0.4444444444444444,
             "#bd3786"
            ],
            [
             0.5555555555555556,
             "#d8576b"
            ],
            [
             0.6666666666666666,
             "#ed7953"
            ],
            [
             0.7777777777777778,
             "#fb9f3a"
            ],
            [
             0.8888888888888888,
             "#fdca26"
            ],
            [
             1,
             "#f0f921"
            ]
           ]
          },
          "colorway": [
           "#636efa",
           "#EF553B",
           "#00cc96",
           "#ab63fa",
           "#FFA15A",
           "#19d3f3",
           "#FF6692",
           "#B6E880",
           "#FF97FF",
           "#FECB52"
          ],
          "font": {
           "color": "#2a3f5f"
          },
          "geo": {
           "bgcolor": "white",
           "lakecolor": "white",
           "landcolor": "#E5ECF6",
           "showlakes": true,
           "showland": true,
           "subunitcolor": "white"
          },
          "hoverlabel": {
           "align": "left"
          },
          "hovermode": "closest",
          "mapbox": {
           "style": "light"
          },
          "paper_bgcolor": "white",
          "plot_bgcolor": "#E5ECF6",
          "polar": {
           "angularaxis": {
            "gridcolor": "white",
            "linecolor": "white",
            "ticks": ""
           },
           "bgcolor": "#E5ECF6",
           "radialaxis": {
            "gridcolor": "white",
            "linecolor": "white",
            "ticks": ""
           }
          },
          "scene": {
           "xaxis": {
            "backgroundcolor": "#E5ECF6",
            "gridcolor": "white",
            "gridwidth": 2,
            "linecolor": "white",
            "showbackground": true,
            "ticks": "",
            "zerolinecolor": "white"
           },
           "yaxis": {
            "backgroundcolor": "#E5ECF6",
            "gridcolor": "white",
            "gridwidth": 2,
            "linecolor": "white",
            "showbackground": true,
            "ticks": "",
            "zerolinecolor": "white"
           },
           "zaxis": {
            "backgroundcolor": "#E5ECF6",
            "gridcolor": "white",
            "gridwidth": 2,
            "linecolor": "white",
            "showbackground": true,
            "ticks": "",
            "zerolinecolor": "white"
           }
          },
          "shapedefaults": {
           "line": {
            "color": "#2a3f5f"
           }
          },
          "ternary": {
           "aaxis": {
            "gridcolor": "white",
            "linecolor": "white",
            "ticks": ""
           },
           "baxis": {
            "gridcolor": "white",
            "linecolor": "white",
            "ticks": ""
           },
           "bgcolor": "#E5ECF6",
           "caxis": {
            "gridcolor": "white",
            "linecolor": "white",
            "ticks": ""
           }
          },
          "title": {
           "x": 0.05
          },
          "xaxis": {
           "automargin": true,
           "gridcolor": "white",
           "linecolor": "white",
           "ticks": "",
           "title": {
            "standoff": 15
           },
           "zerolinecolor": "white",
           "zerolinewidth": 2
          },
          "yaxis": {
           "automargin": true,
           "gridcolor": "white",
           "linecolor": "white",
           "ticks": "",
           "title": {
            "standoff": 15
           },
           "zerolinecolor": "white",
           "zerolinewidth": 2
          }
         }
        },
        "title": {
         "text": "Interaction Distances by Residue and Interacting Chain"
        },
        "xaxis": {
         "anchor": "y",
         "categoryarray": [
          "2S",
          "3A",
          "4E",
          "20R",
          "21P",
          "45S",
          "51K",
          "87T",
          "88G",
          "89S",
          "90G",
          "91K",
          "92T",
          "93F",
          "94T",
          "95S",
          "96S",
          "97G",
          "98K",
          "99T",
          "100H",
          "133L",
          "134E",
          "135F",
          "136H",
          "138K",
          "144R",
          "148K",
          "157K",
          "159N",
          "162V",
          "163H",
          "164E",
          "165D",
          "166K",
          "181S",
          "185D",
          "201N",
          "204S",
          "205N",
          "205S",
          "208S",
          "209S",
          "220K",
          "222E",
          "224L",
          "227Q",
          "229K",
          "237G",
          "238S",
          "240K",
          "241G",
          "241I",
          "242S",
          "244K",
          "245I",
          "245V",
          "250A",
          "251E",
          "255L",
          "255K",
          "258N",
          "259K",
          "262N",
          "262S",
          "263K",
          "266S",
          "266N",
          "270N",
          "278H",
          "281T",
          "282H",
          "282R",
          "283D",
          "286R",
          "287D",
          "288R",
          "318A",
          "321R",
          "325R",
          "328R",
          "341A",
          "344L",
          "345A",
          "348W",
          "349K",
          "352Y",
          "354E",
          "355E",
          "355I",
          "358K",
          "358E",
          "358L",
          "359N",
          "359I",
          "359K",
          "361Y",
          "362L",
          "362I",
          "363K",
          "364E",
          "365Y",
          "365L",
          "366V",
          "366I",
          "366E",
          "369L",
          "369S",
          "370E",
          "371V",
          "372E",
          "372V",
          "373L",
          "373S",
          "373V",
          "375V",
          "376L",
          "377R",
          "377V",
          "380L",
          "387Q",
          "388I",
          "390M",
          "393L",
          "397S",
          "444T",
          "448D",
          "456I",
          "458K",
          "459C",
          "462K",
          "463C",
          "463E",
          "466L",
          "467E",
          "469Q",
          "469K",
          "470L",
          "470E",
          "472E",
          "473K",
          "474E",
          "476E",
          "476I",
          "477K",
          "480I",
          "480L",
          "483Q",
          "484L",
          "484Q",
          "487Q",
          "490K",
          "491I",
          "491D",
          "493E",
          "494K",
          "494I",
          "495D",
          "497L",
          "498N",
          "501L",
          "501I",
          "502N",
          "504S",
          "505I",
          "507I",
          "508S",
          "508N",
          "510L",
          "511I",
          "511Y",
          "512N",
          "514L",
          "514S",
          "515Y",
          "515T",
          "517E",
          "518S",
          "518N",
          "519T",
          "521L",
          "522N",
          "525L",
          "526N",
          "529L",
          "530L",
          "531A",
          "532L",
          "533E",
          "534K",
          "535A",
          "535S",
          "536L",
          "536R",
          "537F",
          "539S",
          "539A",
          "540R",
          "541E",
          "542Q",
          "543A",
          "543S",
          "545T",
          "546Q",
          "546I",
          "549L",
          "550I",
          "550N",
          "552E",
          "553L",
          "553N",
          "554N",
          "556E",
          "556I",
          "557N",
          "557K",
          "560I",
          "560L",
          "561K",
          "563L",
          "564L",
          "566R",
          "567L",
          "567I",
          "570R",
          "571I",
          "575I",
          "578L",
          "580P",
          "582L"
         ],
         "categoryorder": "array",
         "domain": [
          0,
          1
         ],
         "title": {
          "text": "Residue (Number and Identity)"
         }
        },
        "yaxis": {
         "anchor": "x",
         "domain": [
          0,
          1
         ],
         "title": {
          "text": "Distance (angstroms)"
         }
        }
       }
      }
     },
     "metadata": {},
     "output_type": "display_data"
    },
    {
     "data": {
      "application/vnd.plotly.v1+json": {
       "config": {
        "plotlyServerURL": "https://plot.ly"
       },
       "data": [
        {
         "customdata": [
          [
           "fold_c_atp_tub_seed1_model_0",
           1,
           null
          ],
          [
           "fold_c_atp_tub_seed1_model_0",
           1,
           null
          ],
          [
           "fold_c_atp_tub_seed1_model_0",
           1,
           null
          ],
          [
           "fold_c_atp_tub_seed1_model_0",
           1,
           null
          ],
          [
           "fold_c_atp_tub_seed1_model_0",
           1,
           null
          ],
          [
           "fold_c_atp_tub_seed1_model_0",
           1,
           null
          ],
          [
           "fold_c_atp_tub_seed1_model_0",
           1,
           null
          ],
          [
           "fold_c_atp_tub_seed1_model_0",
           1,
           null
          ],
          [
           "fold_c_atp_tub_seed1_model_0",
           1,
           null
          ],
          [
           "fold_c_atp_tub_seed1_model_0",
           1,
           null
          ],
          [
           "fold_c_atp_tub_seed1_model_0",
           1,
           null
          ],
          [
           "fold_c_atp_tub_seed1_model_0",
           1,
           null
          ],
          [
           "fold_e_atp_tub_seed1_model_0",
           1,
           null
          ],
          [
           "fold_e_atp_tub_seed1_model_0",
           1,
           null
          ],
          [
           "fold_e_atp_tub_seed1_model_0",
           1,
           null
          ],
          [
           "fold_e_atp_tub_seed1_model_0",
           1,
           null
          ],
          [
           "fold_e_atp_tub_seed1_model_0",
           1,
           null
          ],
          [
           "fold_e_atp_tub_seed1_model_0",
           1,
           null
          ],
          [
           "fold_e_atp_tub_seed1_model_0",
           1,
           null
          ],
          [
           "fold_e_atp_tub_seed1_model_0",
           1,
           null
          ],
          [
           "fold_e_atp_tub_seed1_model_0",
           1,
           null
          ],
          [
           "fold_e_atp_tub_seed1_model_0",
           1,
           null
          ],
          [
           "fold_e_atp_tub_seed1_model_0",
           1,
           null
          ],
          [
           "fold_h_atp_tub_seed1_model_0",
           1,
           null
          ],
          [
           "fold_h_atp_tub_seed1_model_0",
           1,
           null
          ],
          [
           "fold_h_atp_tub_seed1_model_0",
           1,
           null
          ],
          [
           "fold_h_atp_tub_seed1_model_0",
           1,
           null
          ],
          [
           "fold_h_atp_tub_seed1_model_0",
           1,
           null
          ],
          [
           "fold_h_atp_tub_seed1_model_0",
           1,
           null
          ],
          [
           "fold_h_atp_tub_seed1_model_0",
           1,
           null
          ],
          [
           "fold_h_atp_tub_seed1_model_0",
           1,
           null
          ],
          [
           "fold_h_atp_tub_seed1_model_0",
           1,
           null
          ],
          [
           "fold_h_atp_tub_seed1_model_0",
           1,
           null
          ],
          [
           "fold_h_atp_tub_seed1_model_0",
           1,
           null
          ],
          [
           "fold_k401_atp_tub_seed1_model_0",
           1,
           null
          ],
          [
           "fold_k401_atp_tub_seed1_model_0",
           1,
           null
          ],
          [
           "fold_k401_atp_tub_seed1_model_0",
           1,
           null
          ],
          [
           "fold_k401_atp_tub_seed1_model_0",
           1,
           null
          ],
          [
           "fold_k401_atp_tub_seed1_model_0",
           1,
           null
          ],
          [
           "fold_k401_atp_tub_seed1_model_0",
           1,
           null
          ],
          [
           "fold_k401_atp_tub_seed1_model_0",
           1,
           null
          ],
          [
           "fold_k401_atp_tub_seed1_model_0",
           1,
           null
          ],
          [
           "fold_k401_atp_tub_seed1_model_0",
           1,
           null
          ],
          [
           "fold_k401_atp_tub_seed1_model_0",
           1,
           null
          ],
          [
           "fold_k401_atp_tub_seed1_model_0",
           1,
           null
          ]
         ],
         "hovertemplate": "Interacting Chain=ATP<br>Residue (Number and Identity)=%{x}<br>Distance (angstroms)=%{y}<br>text=%{text}<br>file=%{customdata[0]}<br>interacting_resinumber=%{customdata[1]}<br>interacting_resi_oneletter=%{customdata[2]}<extra></extra>",
         "legendgroup": "ATP",
         "marker": {
          "color": "yellow",
          "opacity": 0.6,
          "size": 10,
          "symbol": "circle"
         },
         "mode": "markers+text",
         "name": "ATP",
         "orientation": "v",
         "showlegend": true,
         "text": [
          null,
          null,
          null,
          null,
          null,
          null,
          null,
          null,
          null,
          null,
          null,
          null,
          null,
          null,
          null,
          null,
          null,
          null,
          null,
          null,
          null,
          null,
          null,
          null,
          null,
          null,
          null,
          null,
          null,
          null,
          null,
          null,
          null,
          null,
          null,
          null,
          null,
          null,
          null,
          null,
          null,
          null,
          null,
          null,
          null
         ],
         "textposition": "top center",
         "type": "scatter",
         "x": [
          "21P",
          "94T",
          "95S",
          "96S",
          "97G",
          "98K",
          "99T",
          "100H",
          "205N",
          "208S",
          "209S",
          "241G",
          "94T",
          "95S",
          "96S",
          "97G",
          "98K",
          "99T",
          "100H",
          "205N",
          "208S",
          "209S",
          "241G",
          "87T",
          "88G",
          "89S",
          "90G",
          "91K",
          "92T",
          "93F",
          "201N",
          "204S",
          "205S",
          "237G",
          "94T",
          "95S",
          "96S",
          "97G",
          "98K",
          "99T",
          "100H",
          "205N",
          "208S",
          "209S",
          "241G"
         ],
         "xaxis": "x",
         "y": [
          3.457723379135132,
          2.4436142444610596,
          2.823654890060425,
          3.3223249912261963,
          3.097536087036133,
          2.879331588745117,
          2.799541711807251,
          2.962357997894287,
          2.9935591220855713,
          2.7670114040374756,
          2.790931224822998,
          2.9767863750457764,
          2.5287439823150635,
          2.865710973739624,
          3.3670592308044434,
          3.0916802883148193,
          2.8252956867218018,
          2.6309244632720947,
          2.8375065326690674,
          3.0233163833618164,
          2.9107367992401123,
          2.781641960144043,
          2.883500099182129,
          2.7136809825897217,
          2.823422431945801,
          3.3753457069396973,
          2.964850425720215,
          2.674063920974731,
          2.672137975692749,
          2.6421751976013184,
          3.039212703704834,
          3.0076818466186523,
          2.9404726028442383,
          2.8074371814727783,
          2.4374871253967285,
          2.806600332260132,
          3.29720401763916,
          3.1137118339538574,
          2.9161436557769775,
          2.7895143032073975,
          2.9845962524414062,
          2.958266496658325,
          2.7913260459899902,
          2.7207634449005127,
          2.9005379676818848
         ],
         "yaxis": "y"
        },
        {
         "customdata": [
          [
           "fold_c_atp_tub_seed1_model_0",
           157,
           "E"
          ],
          [
           "fold_c_atp_tub_seed1_model_0",
           157,
           "E"
          ],
          [
           "fold_c_atp_tub_seed1_model_0",
           410,
           "E"
          ],
          [
           "fold_c_atp_tub_seed1_model_0",
           410,
           "E"
          ],
          [
           "fold_c_atp_tub_seed1_model_0",
           406,
           "M"
          ],
          [
           "fold_c_atp_tub_seed1_model_0",
           424,
           "Q"
          ],
          [
           "fold_c_atp_tub_seed1_model_0",
           417,
           "D"
          ],
          [
           "fold_c_atp_tub_seed1_model_0",
           262,
           "R"
          ],
          [
           "fold_e_atp_tub_seed1_model_0",
           437,
           "E"
          ],
          [
           "fold_e_atp_tub_seed1_model_0",
           157,
           "E"
          ],
          [
           "fold_e_atp_tub_seed1_model_0",
           157,
           "E"
          ],
          [
           "fold_e_atp_tub_seed1_model_0",
           410,
           "E"
          ],
          [
           "fold_e_atp_tub_seed1_model_0",
           410,
           "E"
          ],
          [
           "fold_e_atp_tub_seed1_model_0",
           406,
           "M"
          ],
          [
           "fold_e_atp_tub_seed1_model_0",
           424,
           "Q"
          ],
          [
           "fold_e_atp_tub_seed1_model_0",
           424,
           "Q"
          ],
          [
           "fold_e_atp_tub_seed1_model_0",
           417,
           "D"
          ],
          [
           "fold_e_atp_tub_seed1_model_0",
           262,
           "R"
          ],
          [
           "fold_e_atp_tub_seed1_model_0",
           437,
           "E"
          ],
          [
           "fold_e_atp_tub_seed1_model_0",
           94,
           "Q"
          ],
          [
           "fold_e_atp_tub_seed1_model_0",
           94,
           "Q"
          ],
          [
           "fold_e_atp_tub_seed1_model_0",
           74,
           "D"
          ],
          [
           "fold_e_atp_tub_seed1_model_0",
           87,
           "P"
          ],
          [
           "fold_e_atp_tub_seed1_model_0",
           77,
           "R"
          ],
          [
           "fold_e_atp_tub_seed1_model_0",
           88,
           "D"
          ],
          [
           "fold_e_atp_tub_seed1_model_0",
           83,
           "Q"
          ],
          [
           "fold_e_atp_tub_seed1_model_0",
           58,
           "K"
          ],
          [
           "fold_e_atp_tub_seed1_model_0",
           58,
           "K"
          ],
          [
           "fold_h_atp_tub_seed1_model_0",
           157,
           "E"
          ],
          [
           "fold_h_atp_tub_seed1_model_0",
           407,
           "E"
          ],
          [
           "fold_h_atp_tub_seed1_model_0",
           410,
           "E"
          ],
          [
           "fold_h_atp_tub_seed1_model_0",
           407,
           "E"
          ],
          [
           "fold_h_atp_tub_seed1_model_0",
           413,
           "S"
          ],
          [
           "fold_h_atp_tub_seed1_model_0",
           432,
           "E"
          ],
          [
           "fold_h_atp_tub_seed1_model_0",
           424,
           "Q"
          ],
          [
           "fold_h_atp_tub_seed1_model_0",
           424,
           "Q"
          ],
          [
           "fold_h_atp_tub_seed1_model_0",
           417,
           "D"
          ],
          [
           "fold_h_atp_tub_seed1_model_0",
           262,
           "R"
          ],
          [
           "fold_h_atp_tub_seed1_model_0",
           194,
           "E"
          ],
          [
           "fold_h_atp_tub_seed1_model_0",
           391,
           "R"
          ],
          [
           "fold_h_atp_tub_seed1_model_0",
           391,
           "R"
          ],
          [
           "fold_h_atp_tub_seed1_model_0",
           394,
           "F"
          ],
          [
           "fold_h_atp_tub_seed1_model_0",
           394,
           "F"
          ],
          [
           "fold_h_atp_tub_seed1_model_0",
           397,
           "W"
          ],
          [
           "fold_h_atp_tub_seed1_model_0",
           98,
           "G"
          ],
          [
           "fold_k401_atp_tub_seed1_model_0",
           157,
           "E"
          ],
          [
           "fold_k401_atp_tub_seed1_model_0",
           157,
           "E"
          ],
          [
           "fold_k401_atp_tub_seed1_model_0",
           410,
           "E"
          ],
          [
           "fold_k401_atp_tub_seed1_model_0",
           410,
           "E"
          ],
          [
           "fold_k401_atp_tub_seed1_model_0",
           424,
           "Q"
          ],
          [
           "fold_k401_atp_tub_seed1_model_0",
           417,
           "D"
          ],
          [
           "fold_k401_atp_tub_seed1_model_0",
           262,
           "R"
          ]
         ],
         "hovertemplate": "Interacting Chain=beta-tubulin<br>Residue (Number and Identity)=%{x}<br>Distance (angstroms)=%{y}<br>text=%{text}<br>file=%{customdata[0]}<br>interacting_resinumber=%{customdata[1]}<br>interacting_resi_oneletter=%{customdata[2]}<extra></extra>",
         "legendgroup": "beta-tubulin",
         "marker": {
          "color": "blue",
          "opacity": 0.6,
          "size": 10,
          "symbol": "circle"
         },
         "mode": "markers+text",
         "name": "beta-tubulin",
         "orientation": "v",
         "showlegend": true,
         "text": [
          "157E",
          "157E",
          "410E",
          "410E",
          "406M",
          "424Q",
          "417D",
          "262R",
          "437E",
          "157E",
          "157E",
          "410E",
          "410E",
          "406M",
          "424Q",
          "424Q",
          "417D",
          "262R",
          "437E",
          "94Q",
          "94Q",
          "74D",
          "87P",
          "77R",
          "88D",
          "83Q",
          "58K",
          "58K",
          "157E",
          "407E",
          "410E",
          "407E",
          "413S",
          "432E",
          "424Q",
          "424Q",
          "417D",
          "262R",
          "194E",
          "391R",
          "391R",
          "394F",
          "394F",
          "397W",
          "98G",
          "157E",
          "157E",
          "410E",
          "410E",
          "424Q",
          "417D",
          "262R"
         ],
         "textposition": "top center",
         "type": "scatter",
         "x": [
          "148K",
          "159N",
          "163H",
          "164E",
          "166K",
          "282H",
          "286R",
          "287D",
          "51K",
          "148K",
          "159N",
          "163H",
          "164E",
          "165D",
          "280K",
          "282H",
          "286R",
          "287D",
          "328R",
          "526N",
          "530S",
          "533K",
          "534L",
          "537E",
          "538K",
          "541F",
          "545E",
          "548L",
          "144R",
          "157K",
          "158V",
          "159R",
          "160E",
          "275K",
          "277T",
          "278H",
          "282R",
          "283D",
          "285K",
          "494I",
          "498N",
          "505N",
          "508N",
          "509S",
          "512Q",
          "148K",
          "159N",
          "163H",
          "164E",
          "282H",
          "286R",
          "287D"
         ],
         "xaxis": "x",
         "y": [
          2.9638772010803223,
          3.166810989379883,
          2.7821812629699707,
          2.793105363845825,
          3.454381227493286,
          2.882333993911743,
          2.4885451793670654,
          3.194092035293579,
          3.184419631958008,
          2.799797296524048,
          3.105865240097046,
          2.8342108726501465,
          2.5280559062957764,
          3.1794562339782715,
          3.4978063106536865,
          2.862626314163208,
          2.5521509647369385,
          3.176405906677246,
          2.7109060287475586,
          2.630460023880005,
          2.8594658374786377,
          2.4675843715667725,
          2.908067464828491,
          2.2084157466888428,
          2.6332504749298096,
          3.27166748046875,
          2.722621440887451,
          3.199802875518799,
          2.768033504486084,
          3.047783851623535,
          2.7401652336120605,
          3.184271812438965,
          3.432516574859619,
          3.420228958129883,
          3.3995347023010254,
          2.7170002460479736,
          2.4272496700286865,
          3.05643630027771,
          3.496941328048706,
          2.975874185562134,
          2.3815529346466064,
          2.46383285522461,
          3.2913224697113037,
          2.656165599822998,
          2.8011043071746826,
          3.006138324737549,
          3.0405116081237793,
          2.8384571075439453,
          2.686645746231079,
          2.7174038887023926,
          2.5308802127838135,
          3.2496230602264404
         ],
         "yaxis": "y"
        },
        {
         "customdata": [
          [
           "fold_c_atp_tub_seed1_model_0",
           346,
           "E"
          ],
          [
           "fold_c_atp_tub_seed1_model_0",
           348,
           "W"
          ],
          [
           "fold_c_atp_tub_seed1_model_0",
           352,
           "Y"
          ],
          [
           "fold_c_atp_tub_seed1_model_0",
           355,
           "E"
          ],
          [
           "fold_c_atp_tub_seed1_model_0",
           359,
           "N"
          ],
          [
           "fold_c_atp_tub_seed1_model_0",
           359,
           "N"
          ],
          [
           "fold_c_atp_tub_seed1_model_0",
           355,
           "E"
          ],
          [
           "fold_c_atp_tub_seed1_model_0",
           359,
           "N"
          ],
          [
           "fold_c_atp_tub_seed1_model_0",
           370,
           "E"
          ],
          [
           "fold_c_atp_tub_seed1_model_0",
           393,
           "L"
          ],
          [
           "fold_c_atp_tub_seed1_model_0",
           373,
           "L"
          ],
          [
           "fold_c_atp_tub_seed1_model_0",
           393,
           "L"
          ],
          [
           "fold_c_atp_tub_seed1_model_0",
           373,
           "L"
          ],
          [
           "fold_c_atp_tub_seed1_model_0",
           372,
           "E"
          ],
          [
           "fold_c_atp_tub_seed1_model_0",
           372,
           "E"
          ],
          [
           "fold_c_atp_tub_seed1_model_0",
           377,
           "R"
          ],
          [
           "fold_c_atp_tub_seed1_model_0",
           377,
           "R"
          ],
          [
           "fold_c_atp_tub_seed1_model_0",
           377,
           "R"
          ],
          [
           "fold_c_atp_tub_seed1_model_0",
           366,
           "V"
          ],
          [
           "fold_e_atp_tub_seed1_model_0",
           352,
           "L"
          ],
          [
           "fold_e_atp_tub_seed1_model_0",
           434,
           "N"
          ],
          [
           "fold_e_atp_tub_seed1_model_0",
           436,
           "N"
          ],
          [
           "fold_e_atp_tub_seed1_model_0",
           363,
           "K"
          ],
          [
           "fold_e_atp_tub_seed1_model_0",
           366,
           "I"
          ],
          [
           "fold_e_atp_tub_seed1_model_0",
           358,
           "E"
          ],
          [
           "fold_e_atp_tub_seed1_model_0",
           370,
           "E"
          ],
          [
           "fold_e_atp_tub_seed1_model_0",
           366,
           "I"
          ],
          [
           "fold_e_atp_tub_seed1_model_0",
           375,
           "V"
          ],
          [
           "fold_e_atp_tub_seed1_model_0",
           365,
           "Y"
          ],
          [
           "fold_e_atp_tub_seed1_model_0",
           373,
           "S"
          ],
          [
           "fold_e_atp_tub_seed1_model_0",
           369,
           "L"
          ],
          [
           "fold_e_atp_tub_seed1_model_0",
           127,
           "Y"
          ],
          [
           "fold_e_atp_tub_seed1_model_0",
           181,
           "S"
          ],
          [
           "fold_e_atp_tub_seed1_model_0",
           180,
           "V"
          ],
          [
           "fold_e_atp_tub_seed1_model_0",
           179,
           "F"
          ],
          [
           "fold_e_atp_tub_seed1_model_0",
           502,
           "N"
          ],
          [
           "fold_e_atp_tub_seed1_model_0",
           462,
           "K"
          ],
          [
           "fold_e_atp_tub_seed1_model_0",
           455,
           "L"
          ],
          [
           "fold_e_atp_tub_seed1_model_0",
           452,
           "D"
          ],
          [
           "fold_e_atp_tub_seed1_model_0",
           452,
           "D"
          ],
          [
           "fold_e_atp_tub_seed1_model_0",
           452,
           "D"
          ],
          [
           "fold_e_atp_tub_seed1_model_0",
           447,
           "P"
          ],
          [
           "fold_e_atp_tub_seed1_model_0",
           444,
           "V"
          ],
          [
           "fold_e_atp_tub_seed1_model_0",
           467,
           "E"
          ],
          [
           "fold_e_atp_tub_seed1_model_0",
           463,
           "C"
          ],
          [
           "fold_e_atp_tub_seed1_model_0",
           470,
           "L"
          ],
          [
           "fold_e_atp_tub_seed1_model_0",
           462,
           "K"
          ],
          [
           "fold_e_atp_tub_seed1_model_0",
           470,
           "L"
          ],
          [
           "fold_e_atp_tub_seed1_model_0",
           466,
           "L"
          ],
          [
           "fold_e_atp_tub_seed1_model_0",
           474,
           "E"
          ],
          [
           "fold_e_atp_tub_seed1_model_0",
           473,
           "K"
          ],
          [
           "fold_e_atp_tub_seed1_model_0",
           477,
           "K"
          ],
          [
           "fold_e_atp_tub_seed1_model_0",
           476,
           "E"
          ],
          [
           "fold_e_atp_tub_seed1_model_0",
           168,
           "R"
          ],
          [
           "fold_e_atp_tub_seed1_model_0",
           168,
           "R"
          ],
          [
           "fold_e_atp_tub_seed1_model_0",
           484,
           "L"
          ],
          [
           "fold_e_atp_tub_seed1_model_0",
           164,
           "E"
          ],
          [
           "fold_e_atp_tub_seed1_model_0",
           166,
           "K"
          ],
          [
           "fold_e_atp_tub_seed1_model_0",
           487,
           "Q"
          ],
          [
           "fold_e_atp_tub_seed1_model_0",
           164,
           "E"
          ],
          [
           "fold_e_atp_tub_seed1_model_0",
           484,
           "L"
          ],
          [
           "fold_e_atp_tub_seed1_model_0",
           487,
           "Q"
          ],
          [
           "fold_e_atp_tub_seed1_model_0",
           163,
           "H"
          ],
          [
           "fold_e_atp_tub_seed1_model_0",
           491,
           "I"
          ],
          [
           "fold_e_atp_tub_seed1_model_0",
           494,
           "K"
          ],
          [
           "fold_e_atp_tub_seed1_model_0",
           173,
           "K"
          ],
          [
           "fold_e_atp_tub_seed1_model_0",
           495,
           "D"
          ],
          [
           "fold_e_atp_tub_seed1_model_0",
           494,
           "K"
          ],
          [
           "fold_e_atp_tub_seed1_model_0",
           497,
           "E"
          ],
          [
           "fold_e_atp_tub_seed1_model_0",
           505,
           "I"
          ],
          [
           "fold_e_atp_tub_seed1_model_0",
           501,
           "L"
          ],
          [
           "fold_e_atp_tub_seed1_model_0",
           501,
           "L"
          ],
          [
           "fold_e_atp_tub_seed1_model_0",
           508,
           "S"
          ],
          [
           "fold_e_atp_tub_seed1_model_0",
           512,
           "N"
          ],
          [
           "fold_e_atp_tub_seed1_model_0",
           511,
           "I"
          ],
          [
           "fold_e_atp_tub_seed1_model_0",
           515,
           "Y"
          ],
          [
           "fold_e_atp_tub_seed1_model_0",
           514,
           "L"
          ],
          [
           "fold_e_atp_tub_seed1_model_0",
           518,
           "S"
          ],
          [
           "fold_e_atp_tub_seed1_model_0",
           518,
           "S"
          ],
          [
           "fold_e_atp_tub_seed1_model_0",
           522,
           "N"
          ],
          [
           "fold_e_atp_tub_seed1_model_0",
           522,
           "N"
          ],
          [
           "fold_e_atp_tub_seed1_model_0",
           522,
           "N"
          ],
          [
           "fold_e_atp_tub_seed1_model_0",
           525,
           "L"
          ],
          [
           "fold_e_atp_tub_seed1_model_0",
           529,
           "L"
          ],
          [
           "fold_e_atp_tub_seed1_model_0",
           529,
           "L"
          ],
          [
           "fold_e_atp_tub_seed1_model_0",
           533,
           "K"
          ],
          [
           "fold_e_atp_tub_seed1_model_0",
           532,
           "L"
          ],
          [
           "fold_e_atp_tub_seed1_model_0",
           536,
           "L"
          ],
          [
           "fold_e_atp_tub_seed1_model_0",
           535,
           "A"
          ],
          [
           "fold_e_atp_tub_seed1_model_0",
           539,
           "S"
          ],
          [
           "fold_e_atp_tub_seed1_model_0",
           539,
           "S"
          ],
          [
           "fold_e_atp_tub_seed1_model_0",
           546,
           "Q"
          ],
          [
           "fold_e_atp_tub_seed1_model_0",
           543,
           "A"
          ],
          [
           "fold_e_atp_tub_seed1_model_0",
           550,
           "I"
          ],
          [
           "fold_e_atp_tub_seed1_model_0",
           554,
           "N"
          ],
          [
           "fold_e_atp_tub_seed1_model_0",
           553,
           "L"
          ],
          [
           "fold_e_atp_tub_seed1_model_0",
           561,
           "K"
          ],
          [
           "fold_e_atp_tub_seed1_model_0",
           557,
           "N"
          ],
          [
           "fold_e_atp_tub_seed1_model_0",
           557,
           "N"
          ],
          [
           "fold_e_atp_tub_seed1_model_0",
           556,
           "E"
          ],
          [
           "fold_e_atp_tub_seed1_model_0",
           571,
           "I"
          ],
          [
           "fold_e_atp_tub_seed1_model_0",
           582,
           "L"
          ],
          [
           "fold_e_atp_tub_seed1_model_0",
           567,
           "L"
          ],
          [
           "fold_e_atp_tub_seed1_model_0",
           576,
           "D"
          ],
          [
           "fold_e_atp_tub_seed1_model_0",
           579,
           "I"
          ],
          [
           "fold_e_atp_tub_seed1_model_0",
           570,
           "R"
          ],
          [
           "fold_h_atp_tub_seed1_model_0",
           344,
           "L"
          ],
          [
           "fold_h_atp_tub_seed1_model_0",
           341,
           "A"
          ],
          [
           "fold_h_atp_tub_seed1_model_0",
           359,
           "K"
          ],
          [
           "fold_h_atp_tub_seed1_model_0",
           362,
           "I"
          ],
          [
           "fold_h_atp_tub_seed1_model_0",
           354,
           "E"
          ],
          [
           "fold_h_atp_tub_seed1_model_0",
           373,
           "V"
          ],
          [
           "fold_h_atp_tub_seed1_model_0",
           362,
           "I"
          ],
          [
           "fold_h_atp_tub_seed1_model_0",
           371,
           "V"
          ],
          [
           "fold_h_atp_tub_seed1_model_0",
           464,
           "K"
          ],
          [
           "fold_h_atp_tub_seed1_model_0",
           464,
           "K"
          ],
          [
           "fold_h_atp_tub_seed1_model_0",
           376,
           "L"
          ],
          [
           "fold_h_atp_tub_seed1_model_0",
           369,
           "S"
          ],
          [
           "fold_h_atp_tub_seed1_model_0",
           460,
           "I"
          ],
          [
           "fold_h_atp_tub_seed1_model_0",
           365,
           "L"
          ],
          [
           "fold_h_atp_tub_seed1_model_0",
           464,
           "K"
          ],
          [
           "fold_h_atp_tub_seed1_model_0",
           361,
           "Y"
          ],
          [
           "fold_h_atp_tub_seed1_model_0",
           463,
           "E"
          ],
          [
           "fold_h_atp_tub_seed1_model_0",
           463,
           "E"
          ],
          [
           "fold_h_atp_tub_seed1_model_0",
           368,
           "V"
          ],
          [
           "fold_h_atp_tub_seed1_model_0",
           448,
           "D"
          ],
          [
           "fold_h_atp_tub_seed1_model_0",
           444,
           "T"
          ],
          [
           "fold_h_atp_tub_seed1_model_0",
           452,
           "I"
          ],
          [
           "fold_h_atp_tub_seed1_model_0",
           463,
           "E"
          ],
          [
           "fold_h_atp_tub_seed1_model_0",
           459,
           "C"
          ],
          [
           "fold_h_atp_tub_seed1_model_0",
           463,
           "E"
          ],
          [
           "fold_h_atp_tub_seed1_model_0",
           458,
           "K"
          ],
          [
           "fold_h_atp_tub_seed1_model_0",
           466,
           "L"
          ],
          [
           "fold_h_atp_tub_seed1_model_0",
           466,
           "L"
          ],
          [
           "fold_h_atp_tub_seed1_model_0",
           470,
           "E"
          ],
          [
           "fold_h_atp_tub_seed1_model_0",
           469,
           "K"
          ],
          [
           "fold_h_atp_tub_seed1_model_0",
           473,
           "K"
          ],
          [
           "fold_h_atp_tub_seed1_model_0",
           472,
           "E"
          ],
          [
           "fold_h_atp_tub_seed1_model_0",
           480,
           "L"
          ],
          [
           "fold_h_atp_tub_seed1_model_0",
           483,
           "Q"
          ],
          [
           "fold_h_atp_tub_seed1_model_0",
           480,
           "L"
          ],
          [
           "fold_h_atp_tub_seed1_model_0",
           483,
           "Q"
          ],
          [
           "fold_h_atp_tub_seed1_model_0",
           490,
           "K"
          ],
          [
           "fold_h_atp_tub_seed1_model_0",
           491,
           "D"
          ],
          [
           "fold_h_atp_tub_seed1_model_0",
           490,
           "K"
          ],
          [
           "fold_h_atp_tub_seed1_model_0",
           494,
           "I"
          ],
          [
           "fold_h_atp_tub_seed1_model_0",
           501,
           "I"
          ],
          [
           "fold_h_atp_tub_seed1_model_0",
           497,
           "L"
          ],
          [
           "fold_h_atp_tub_seed1_model_0",
           504,
           "S"
          ],
          [
           "fold_h_atp_tub_seed1_model_0",
           507,
           "I"
          ],
          [
           "fold_h_atp_tub_seed1_model_0",
           511,
           "Y"
          ],
          [
           "fold_h_atp_tub_seed1_model_0",
           510,
           "L"
          ],
          [
           "fold_h_atp_tub_seed1_model_0",
           514,
           "S"
          ],
          [
           "fold_h_atp_tub_seed1_model_0",
           518,
           "N"
          ],
          [
           "fold_h_atp_tub_seed1_model_0",
           518,
           "N"
          ],
          [
           "fold_h_atp_tub_seed1_model_0",
           521,
           "L"
          ],
          [
           "fold_h_atp_tub_seed1_model_0",
           532,
           "L"
          ],
          [
           "fold_h_atp_tub_seed1_model_0",
           531,
           "A"
          ],
          [
           "fold_h_atp_tub_seed1_model_0",
           535,
           "S"
          ],
          [
           "fold_h_atp_tub_seed1_model_0",
           542,
           "Q"
          ],
          [
           "fold_h_atp_tub_seed1_model_0",
           539,
           "A"
          ],
          [
           "fold_h_atp_tub_seed1_model_0",
           546,
           "I"
          ],
          [
           "fold_h_atp_tub_seed1_model_0",
           550,
           "N"
          ],
          [
           "fold_h_atp_tub_seed1_model_0",
           549,
           "L"
          ],
          [
           "fold_h_atp_tub_seed1_model_0",
           557,
           "K"
          ],
          [
           "fold_h_atp_tub_seed1_model_0",
           553,
           "N"
          ],
          [
           "fold_h_atp_tub_seed1_model_0",
           556,
           "I"
          ],
          [
           "fold_h_atp_tub_seed1_model_0",
           552,
           "E"
          ],
          [
           "fold_h_atp_tub_seed1_model_0",
           560,
           "L"
          ],
          [
           "fold_h_atp_tub_seed1_model_0",
           567,
           "I"
          ],
          [
           "fold_h_atp_tub_seed1_model_0",
           578,
           "L"
          ],
          [
           "fold_h_atp_tub_seed1_model_0",
           563,
           "L"
          ],
          [
           "fold_h_atp_tub_seed1_model_0",
           575,
           "I"
          ],
          [
           "fold_h_atp_tub_seed1_model_0",
           566,
           "R"
          ],
          [
           "fold_k401_atp_tub_seed1_model_0",
           346,
           "E"
          ],
          [
           "fold_k401_atp_tub_seed1_model_0",
           349,
           "K"
          ],
          [
           "fold_k401_atp_tub_seed1_model_0",
           348,
           "W"
          ],
          [
           "fold_k401_atp_tub_seed1_model_0",
           352,
           "Y"
          ],
          [
           "fold_k401_atp_tub_seed1_model_0",
           348,
           "W"
          ],
          [
           "fold_k401_atp_tub_seed1_model_0",
           359,
           "N"
          ],
          [
           "fold_k401_atp_tub_seed1_model_0",
           355,
           "E"
          ],
          [
           "fold_k401_atp_tub_seed1_model_0",
           359,
           "N"
          ],
          [
           "fold_k401_atp_tub_seed1_model_0",
           397,
           "S"
          ],
          [
           "fold_k401_atp_tub_seed1_model_0",
           393,
           "L"
          ],
          [
           "fold_k401_atp_tub_seed1_model_0",
           373,
           "L"
          ],
          [
           "fold_k401_atp_tub_seed1_model_0",
           393,
           "L"
          ],
          [
           "fold_k401_atp_tub_seed1_model_0",
           377,
           "R"
          ],
          [
           "fold_k401_atp_tub_seed1_model_0",
           373,
           "L"
          ],
          [
           "fold_k401_atp_tub_seed1_model_0",
           372,
           "E"
          ],
          [
           "fold_k401_atp_tub_seed1_model_0",
           377,
           "R"
          ],
          [
           "fold_k401_atp_tub_seed1_model_0",
           377,
           "R"
          ],
          [
           "fold_k401_atp_tub_seed1_model_0",
           370,
           "E"
          ],
          [
           "fold_k401_atp_tub_seed1_model_0",
           366,
           "V"
          ],
          [
           "fold_k401_atp_tub_seed1_model_0",
           363,
           "K"
          ],
          [
           "fold_k401_atp_tub_seed1_model_0",
           363,
           "K"
          ]
         ],
         "hovertemplate": "Interacting Chain=kinesin B<br>Residue (Number and Identity)=%{x}<br>Distance (angstroms)=%{y}<br>text=%{text}<br>file=%{customdata[0]}<br>interacting_resinumber=%{customdata[1]}<br>interacting_resi_oneletter=%{customdata[2]}<extra></extra>",
         "legendgroup": "kinesin B",
         "marker": {
          "color": "blue",
          "opacity": 0.6,
          "size": 10,
          "symbol": "circle"
         },
         "mode": "markers+text",
         "name": "kinesin B",
         "orientation": "v",
         "showlegend": true,
         "text": [
          "346E",
          "348W",
          "352Y",
          "355E",
          "359N",
          "359N",
          "355E",
          "359N",
          "370E",
          "393L",
          "373L",
          "393L",
          "373L",
          "372E",
          "372E",
          "377R",
          "377R",
          "377R",
          "366V",
          "352L",
          "434N",
          "436N",
          "363K",
          "366I",
          "358E",
          "370E",
          "366I",
          "375V",
          "365Y",
          "373S",
          "369L",
          "127Y",
          "181S",
          "180V",
          "179F",
          "502N",
          "462K",
          "455L",
          "452D",
          "452D",
          "452D",
          "447P",
          "444V",
          "467E",
          "463C",
          "470L",
          "462K",
          "470L",
          "466L",
          "474E",
          "473K",
          "477K",
          "476E",
          "168R",
          "168R",
          "484L",
          "164E",
          "166K",
          "487Q",
          "164E",
          "484L",
          "487Q",
          "163H",
          "491I",
          "494K",
          "173K",
          "495D",
          "494K",
          "497E",
          "505I",
          "501L",
          "501L",
          "508S",
          "512N",
          "511I",
          "515Y",
          "514L",
          "518S",
          "518S",
          "522N",
          "522N",
          "522N",
          "525L",
          "529L",
          "529L",
          "533K",
          "532L",
          "536L",
          "535A",
          "539S",
          "539S",
          "546Q",
          "543A",
          "550I",
          "554N",
          "553L",
          "561K",
          "557N",
          "557N",
          "556E",
          "571I",
          "582L",
          "567L",
          "576D",
          "579I",
          "570R",
          "344L",
          "341A",
          "359K",
          "362I",
          "354E",
          "373V",
          "362I",
          "371V",
          "464K",
          "464K",
          "376L",
          "369S",
          "460I",
          "365L",
          "464K",
          "361Y",
          "463E",
          "463E",
          "368V",
          "448D",
          "444T",
          "452I",
          "463E",
          "459C",
          "463E",
          "458K",
          "466L",
          "466L",
          "470E",
          "469K",
          "473K",
          "472E",
          "480L",
          "483Q",
          "480L",
          "483Q",
          "490K",
          "491D",
          "490K",
          "494I",
          "501I",
          "497L",
          "504S",
          "507I",
          "511Y",
          "510L",
          "514S",
          "518N",
          "518N",
          "521L",
          "532L",
          "531A",
          "535S",
          "542Q",
          "539A",
          "546I",
          "550N",
          "549L",
          "557K",
          "553N",
          "556I",
          "552E",
          "560L",
          "567I",
          "578L",
          "563L",
          "575I",
          "566R",
          "346E",
          "349K",
          "348W",
          "352Y",
          "348W",
          "359N",
          "355E",
          "359N",
          "397S",
          "393L",
          "373L",
          "393L",
          "377R",
          "373L",
          "372E",
          "377R",
          "377R",
          "370E",
          "366V",
          "363K",
          "363K"
         ],
         "textposition": "top center",
         "type": "scatter",
         "x": [
          "166K",
          "345A",
          "348W",
          "352Y",
          "355E",
          "358K",
          "359N",
          "362L",
          "365K",
          "366V",
          "369L",
          "370E",
          "372E",
          "373L",
          "377R",
          "387Q",
          "388I",
          "390M",
          "393L",
          "343R",
          "346A",
          "350I",
          "358E",
          "362L",
          "363K",
          "365Y",
          "366I",
          "369L",
          "370E",
          "373S",
          "375V",
          "410S",
          "412L",
          "414N",
          "417N",
          "419T",
          "442T",
          "444V",
          "447P",
          "448T",
          "449S",
          "452D",
          "455L",
          "462K",
          "463C",
          "466L",
          "467E",
          "469Q",
          "470L",
          "473K",
          "474E",
          "476E",
          "477K",
          "478K",
          "479E",
          "480I",
          "482E",
          "483Q",
          "484L",
          "486Q",
          "487Q",
          "488Q",
          "489E",
          "490Q",
          "491I",
          "493D",
          "494K",
          "495D",
          "498I",
          "501L",
          "502N",
          "505I",
          "508S",
          "511I",
          "512N",
          "514L",
          "515Y",
          "518S",
          "519T",
          "521E",
          "522N",
          "525L",
          "526N",
          "528Q",
          "529L",
          "532L",
          "533K",
          "535A",
          "536L",
          "539S",
          "540R",
          "543A",
          "546Q",
          "550I",
          "553L",
          "554N",
          "556E",
          "557N",
          "560I",
          "561K",
          "567L",
          "570R",
          "571I",
          "576D",
          "579I",
          "582L",
          "341A",
          "344L",
          "354E",
          "358L",
          "359K",
          "361Y",
          "362I",
          "365L",
          "366E",
          "367T",
          "368V",
          "369S",
          "370G",
          "371V",
          "372T",
          "373V",
          "374S",
          "375N",
          "376L",
          "444T",
          "448D",
          "452I",
          "458K",
          "459C",
          "462L",
          "463E",
          "465Q",
          "466L",
          "469K",
          "470E",
          "472E",
          "473K",
          "476I",
          "480L",
          "483Q",
          "484Q",
          "487I",
          "490K",
          "491D",
          "493E",
          "497L",
          "501I",
          "504S",
          "508N",
          "510L",
          "511Y",
          "514S",
          "518N",
          "521L",
          "522N",
          "531A",
          "532L",
          "535S",
          "539A",
          "542Q",
          "546I",
          "549L",
          "550N",
          "552E",
          "553N",
          "556I",
          "557K",
          "560L",
          "563L",
          "566R",
          "567I",
          "575I",
          "578L",
          "166K",
          "167N",
          "345A",
          "348W",
          "352Y",
          "355E",
          "359N",
          "362L",
          "363K",
          "366V",
          "369L",
          "370E",
          "372E",
          "373L",
          "377R",
          "387Q",
          "388I",
          "390M",
          "393L",
          "396A",
          "397S"
         ],
         "xaxis": "x",
         "y": [
          2.810300827026367,
          3.4046149253845215,
          3.3196117877960205,
          3.4200756549835205,
          2.1327757835388184,
          3.4232633113861084,
          2.092862606048584,
          2.848017692565918,
          3.258519172668457,
          2.8572001457214355,
          3.449855089187622,
          3.2836923599243164,
          2.8547213077545166,
          2.8381266593933105,
          2.828540325164795,
          3.4705941677093506,
          2.914373874664306,
          3.3847358226776123,
          2.8476345539093018,
          3.4465842247009277,
          2.8396999835968018,
          2.8876588344573975,
          2.8093278408050537,
          3.2901999950408936,
          2.733107089996338,
          3.0287373065948486,
          3.3174901008605957,
          3.0994670391082764,
          3.1663527488708496,
          3.301920175552368,
          3.102061033248902,
          2.769427537918091,
          2.677791118621826,
          1.9963030815124512,
          3.1703574657440186,
          3.464461326599121,
          3.318758964538574,
          2.7065441608428955,
          2.5183475017547607,
          2.9993491172790527,
          2.9479453563690186,
          2.41400408744812,
          2.279536247253418,
          2.956246852874756,
          3.069061517715454,
          3.3601837158203125,
          2.751376152038574,
          3.4237070083618164,
          3.160676956176758,
          2.329824686050415,
          2.135064601898194,
          2.602710247039795,
          2.494206666946411,
          1.655656099319458,
          2.555856943130493,
          2.7976651191711426,
          2.210639715194702,
          1.524584174156189,
          2.627446413040161,
          0.4641919434070587,
          2.7171730995178223,
          2.815976142883301,
          3.0130646228790283,
          3.2626805305480957,
          2.6778368949890137,
          2.550476551055908,
          2.349717140197754,
          2.5176098346710205,
          3.183561086654663,
          2.9373767375946045,
          2.9796030521392822,
          2.7538654804229736,
          2.8576104640960693,
          3.421818971633911,
          3.193009614944458,
          3.2460222244262695,
          3.2209901809692383,
          2.808562994003296,
          3.39302134513855,
          3.377073049545288,
          2.4978554248809814,
          2.8261241912841797,
          2.6191630363464355,
          3.477853298187256,
          3.194706439971924,
          3.493542194366455,
          3.4650471210479736,
          3.127368211746216,
          3.169499158859253,
          2.82503080368042,
          3.165741205215454,
          2.3739094734191895,
          2.4929895401000977,
          3.4231226444244385,
          3.122178077697754,
          3.1834709644317627,
          2.756591320037842,
          2.4945485591888428,
          3.317167282104492,
          2.750396490097046,
          3.2635066509246826,
          2.515754222869873,
          3.4375507831573486,
          3.370548963546753,
          2.2551543712615967,
          2.7249579429626465,
          3.2464489936828613,
          3.1811676025390625,
          2.7876062393188477,
          3.2889037132263184,
          2.5041942596435547,
          2.093987464904785,
          3.2933621406555176,
          2.98205304145813,
          1.9849523305892944,
          3.1734635829925537,
          2.9161553382873535,
          3.067169666290283,
          2.5092685222625732,
          2.9051871299743652,
          1.6073085069656372,
          3.0889830589294434,
          2.8501088619232178,
          2.283984899520874,
          2.154186248779297,
          2.297034502029419,
          2.346658706665039,
          3.4562010765075684,
          2.8986783027648926,
          2.8299708366394043,
          3.3915581703186035,
          2.7778964042663574,
          3.1131224632263184,
          2.956859350204468,
          2.776623487472534,
          2.828545570373535,
          2.6627914905548096,
          2.6028313636779785,
          3.171013355255127,
          3.079900026321411,
          3.0414021015167236,
          3.325914144515991,
          2.9861788749694824,
          2.5752620697021484,
          2.5212717056274414,
          3.44839859008789,
          2.8906216621398926,
          2.934314727783203,
          3.16332745552063,
          3.387312412261963,
          3.43734073638916,
          3.3862593173980713,
          2.796589612960815,
          2.172536611557007,
          3.0911104679107666,
          3.23193883895874,
          3.3904988765716553,
          3.4057912826538086,
          2.8518059253692627,
          2.714545488357544,
          2.726140260696411,
          3.331946849822998,
          3.074075937271118,
          3.1508708000183105,
          2.7956008911132812,
          2.272268533706665,
          3.241206169128418,
          2.6881024837493896,
          3.3551764488220215,
          3.2912817001342773,
          3.1702568531036377,
          3.3359241485595703,
          3.169877767562866,
          3.2285566329956055,
          2.5941569805145264,
          3.2108778953552246,
          3.4633238315582275,
          3.368378162384033,
          3.383876085281372,
          2.118377208709717,
          2.1266520023345947,
          2.901210069656372,
          2.898369312286377,
          3.02547836303711,
          3.478980302810669,
          2.5869014263153076,
          2.8415660858154297,
          2.7298479080200195,
          2.8014917373657227,
          3.4363529682159424,
          2.859236717224121,
          3.4483542442321777,
          2.5268359184265137,
          3.4055051803588867,
          2.766642808914185
         ],
         "yaxis": "y"
        },
        {
         "customdata": [
          [
           "fold_c_atp_tub_seed1_model_0",
           414,
           "E"
          ],
          [
           "fold_c_atp_tub_seed1_model_0",
           420,
           "E"
          ],
          [
           "fold_c_atp_tub_seed1_model_0",
           412,
           "G"
          ],
          [
           "fold_c_atp_tub_seed1_model_0",
           410,
           "G"
          ],
          [
           "fold_c_atp_tub_seed1_model_0",
           409,
           "V"
          ],
          [
           "fold_c_atp_tub_seed1_model_0",
           409,
           "V"
          ],
          [
           "fold_c_atp_tub_seed1_model_0",
           415,
           "E"
          ],
          [
           "fold_c_atp_tub_seed1_model_0",
           420,
           "E"
          ],
          [
           "fold_c_atp_tub_seed1_model_0",
           423,
           "E"
          ],
          [
           "fold_e_atp_tub_seed1_model_0",
           414,
           "E"
          ],
          [
           "fold_e_atp_tub_seed1_model_0",
           420,
           "E"
          ],
          [
           "fold_e_atp_tub_seed1_model_0",
           412,
           "G"
          ],
          [
           "fold_e_atp_tub_seed1_model_0",
           112,
           "K"
          ],
          [
           "fold_e_atp_tub_seed1_model_0",
           112,
           "K"
          ],
          [
           "fold_e_atp_tub_seed1_model_0",
           410,
           "G"
          ],
          [
           "fold_e_atp_tub_seed1_model_0",
           409,
           "V"
          ],
          [
           "fold_e_atp_tub_seed1_model_0",
           409,
           "V"
          ],
          [
           "fold_e_atp_tub_seed1_model_0",
           415,
           "E"
          ],
          [
           "fold_h_atp_tub_seed1_model_0",
           414,
           "E"
          ],
          [
           "fold_h_atp_tub_seed1_model_0",
           420,
           "E"
          ],
          [
           "fold_h_atp_tub_seed1_model_0",
           412,
           "G"
          ],
          [
           "fold_h_atp_tub_seed1_model_0",
           410,
           "G"
          ],
          [
           "fold_h_atp_tub_seed1_model_0",
           409,
           "V"
          ],
          [
           "fold_h_atp_tub_seed1_model_0",
           409,
           "V"
          ],
          [
           "fold_h_atp_tub_seed1_model_0",
           415,
           "E"
          ],
          [
           "fold_h_atp_tub_seed1_model_0",
           402,
           "R"
          ],
          [
           "fold_h_atp_tub_seed1_model_0",
           420,
           "E"
          ],
          [
           "fold_h_atp_tub_seed1_model_0",
           423,
           "E"
          ],
          [
           "fold_k401_atp_tub_seed1_model_0",
           420,
           "E"
          ],
          [
           "fold_k401_atp_tub_seed1_model_0",
           412,
           "G"
          ],
          [
           "fold_k401_atp_tub_seed1_model_0",
           112,
           "K"
          ],
          [
           "fold_k401_atp_tub_seed1_model_0",
           112,
           "K"
          ],
          [
           "fold_k401_atp_tub_seed1_model_0",
           410,
           "G"
          ],
          [
           "fold_k401_atp_tub_seed1_model_0",
           409,
           "V"
          ],
          [
           "fold_k401_atp_tub_seed1_model_0",
           409,
           "V"
          ],
          [
           "fold_k401_atp_tub_seed1_model_0",
           415,
           "E"
          ]
         ],
         "hovertemplate": "Interacting Chain=alpha-tubulin<br>Residue (Number and Identity)=%{x}<br>Distance (angstroms)=%{y}<br>text=%{text}<br>file=%{customdata[0]}<br>interacting_resinumber=%{customdata[1]}<br>interacting_resi_oneletter=%{customdata[2]}<extra></extra>",
         "legendgroup": "alpha-tubulin",
         "marker": {
          "color": "purple",
          "opacity": 0.6,
          "size": 10,
          "symbol": "circle"
         },
         "mode": "markers+text",
         "name": "alpha-tubulin",
         "orientation": "v",
         "showlegend": true,
         "text": [
          "414E",
          "420E",
          "412G",
          "410G",
          "409V",
          "409V",
          "415E",
          "420E",
          "423E",
          "414E",
          "420E",
          "412G",
          "112K",
          "112K",
          "410G",
          "409V",
          "409V",
          "415E",
          "414E",
          "420E",
          "412G",
          "410G",
          "409V",
          "409V",
          "415E",
          "402R",
          "420E",
          "423E",
          "420E",
          "412G",
          "112K",
          "112K",
          "410G",
          "409V",
          "409V",
          "415E"
         ],
         "textposition": "top center",
         "type": "scatter",
         "x": [
          "242S",
          "244K",
          "245I",
          "259K",
          "262N",
          "263K",
          "266S",
          "318A",
          "325R",
          "242S",
          "244K",
          "245V",
          "250A",
          "251E",
          "259K",
          "262N",
          "263K",
          "266S",
          "238S",
          "240K",
          "241I",
          "255K",
          "258N",
          "259K",
          "262S",
          "266N",
          "314A",
          "321R",
          "244K",
          "245V",
          "250A",
          "251E",
          "259K",
          "262N",
          "263K",
          "266S"
         ],
         "xaxis": "x",
         "y": [
          3.2220075130462646,
          2.5479209423065186,
          2.961440086364746,
          3.272054433822632,
          3.429266929626465,
          3.3820230960845947,
          2.7096283435821533,
          2.7859344482421875,
          3.011375188827514,
          3.461801052093506,
          2.546417474746704,
          3.226733684539795,
          3.4412996768951416,
          3.075506687164306,
          3.2275352478027344,
          3.4368579387664795,
          3.3619537353515625,
          2.4706685543060303,
          2.8748793601989746,
          2.4869065284729004,
          2.9714810848236084,
          3.2021288871765137,
          3.430851459503174,
          3.369836807250977,
          2.512510299682617,
          3.2866287231445312,
          3.040358543395996,
          2.6851649284362793,
          2.560426950454712,
          3.1075081825256348,
          3.409220933914185,
          3.4453158378601074,
          3.223480224609375,
          3.4584624767303467,
          3.4183528423309326,
          2.612457513809204
         ],
         "yaxis": "y"
        }
       ],
       "layout": {
        "legend": {
         "title": {
          "text": "Interacting Chain"
         },
         "tracegroupgap": 0
        },
        "template": {
         "data": {
          "bar": [
           {
            "error_x": {
             "color": "#2a3f5f"
            },
            "error_y": {
             "color": "#2a3f5f"
            },
            "marker": {
             "line": {
              "color": "#E5ECF6",
              "width": 0.5
             },
             "pattern": {
              "fillmode": "overlay",
              "size": 10,
              "solidity": 0.2
             }
            },
            "type": "bar"
           }
          ],
          "barpolar": [
           {
            "marker": {
             "line": {
              "color": "#E5ECF6",
              "width": 0.5
             },
             "pattern": {
              "fillmode": "overlay",
              "size": 10,
              "solidity": 0.2
             }
            },
            "type": "barpolar"
           }
          ],
          "carpet": [
           {
            "aaxis": {
             "endlinecolor": "#2a3f5f",
             "gridcolor": "white",
             "linecolor": "white",
             "minorgridcolor": "white",
             "startlinecolor": "#2a3f5f"
            },
            "baxis": {
             "endlinecolor": "#2a3f5f",
             "gridcolor": "white",
             "linecolor": "white",
             "minorgridcolor": "white",
             "startlinecolor": "#2a3f5f"
            },
            "type": "carpet"
           }
          ],
          "choropleth": [
           {
            "colorbar": {
             "outlinewidth": 0,
             "ticks": ""
            },
            "type": "choropleth"
           }
          ],
          "contour": [
           {
            "colorbar": {
             "outlinewidth": 0,
             "ticks": ""
            },
            "colorscale": [
             [
              0,
              "#0d0887"
             ],
             [
              0.1111111111111111,
              "#46039f"
             ],
             [
              0.2222222222222222,
              "#7201a8"
             ],
             [
              0.3333333333333333,
              "#9c179e"
             ],
             [
              0.4444444444444444,
              "#bd3786"
             ],
             [
              0.5555555555555556,
              "#d8576b"
             ],
             [
              0.6666666666666666,
              "#ed7953"
             ],
             [
              0.7777777777777778,
              "#fb9f3a"
             ],
             [
              0.8888888888888888,
              "#fdca26"
             ],
             [
              1,
              "#f0f921"
             ]
            ],
            "type": "contour"
           }
          ],
          "contourcarpet": [
           {
            "colorbar": {
             "outlinewidth": 0,
             "ticks": ""
            },
            "type": "contourcarpet"
           }
          ],
          "heatmap": [
           {
            "colorbar": {
             "outlinewidth": 0,
             "ticks": ""
            },
            "colorscale": [
             [
              0,
              "#0d0887"
             ],
             [
              0.1111111111111111,
              "#46039f"
             ],
             [
              0.2222222222222222,
              "#7201a8"
             ],
             [
              0.3333333333333333,
              "#9c179e"
             ],
             [
              0.4444444444444444,
              "#bd3786"
             ],
             [
              0.5555555555555556,
              "#d8576b"
             ],
             [
              0.6666666666666666,
              "#ed7953"
             ],
             [
              0.7777777777777778,
              "#fb9f3a"
             ],
             [
              0.8888888888888888,
              "#fdca26"
             ],
             [
              1,
              "#f0f921"
             ]
            ],
            "type": "heatmap"
           }
          ],
          "heatmapgl": [
           {
            "colorbar": {
             "outlinewidth": 0,
             "ticks": ""
            },
            "colorscale": [
             [
              0,
              "#0d0887"
             ],
             [
              0.1111111111111111,
              "#46039f"
             ],
             [
              0.2222222222222222,
              "#7201a8"
             ],
             [
              0.3333333333333333,
              "#9c179e"
             ],
             [
              0.4444444444444444,
              "#bd3786"
             ],
             [
              0.5555555555555556,
              "#d8576b"
             ],
             [
              0.6666666666666666,
              "#ed7953"
             ],
             [
              0.7777777777777778,
              "#fb9f3a"
             ],
             [
              0.8888888888888888,
              "#fdca26"
             ],
             [
              1,
              "#f0f921"
             ]
            ],
            "type": "heatmapgl"
           }
          ],
          "histogram": [
           {
            "marker": {
             "pattern": {
              "fillmode": "overlay",
              "size": 10,
              "solidity": 0.2
             }
            },
            "type": "histogram"
           }
          ],
          "histogram2d": [
           {
            "colorbar": {
             "outlinewidth": 0,
             "ticks": ""
            },
            "colorscale": [
             [
              0,
              "#0d0887"
             ],
             [
              0.1111111111111111,
              "#46039f"
             ],
             [
              0.2222222222222222,
              "#7201a8"
             ],
             [
              0.3333333333333333,
              "#9c179e"
             ],
             [
              0.4444444444444444,
              "#bd3786"
             ],
             [
              0.5555555555555556,
              "#d8576b"
             ],
             [
              0.6666666666666666,
              "#ed7953"
             ],
             [
              0.7777777777777778,
              "#fb9f3a"
             ],
             [
              0.8888888888888888,
              "#fdca26"
             ],
             [
              1,
              "#f0f921"
             ]
            ],
            "type": "histogram2d"
           }
          ],
          "histogram2dcontour": [
           {
            "colorbar": {
             "outlinewidth": 0,
             "ticks": ""
            },
            "colorscale": [
             [
              0,
              "#0d0887"
             ],
             [
              0.1111111111111111,
              "#46039f"
             ],
             [
              0.2222222222222222,
              "#7201a8"
             ],
             [
              0.3333333333333333,
              "#9c179e"
             ],
             [
              0.4444444444444444,
              "#bd3786"
             ],
             [
              0.5555555555555556,
              "#d8576b"
             ],
             [
              0.6666666666666666,
              "#ed7953"
             ],
             [
              0.7777777777777778,
              "#fb9f3a"
             ],
             [
              0.8888888888888888,
              "#fdca26"
             ],
             [
              1,
              "#f0f921"
             ]
            ],
            "type": "histogram2dcontour"
           }
          ],
          "mesh3d": [
           {
            "colorbar": {
             "outlinewidth": 0,
             "ticks": ""
            },
            "type": "mesh3d"
           }
          ],
          "parcoords": [
           {
            "line": {
             "colorbar": {
              "outlinewidth": 0,
              "ticks": ""
             }
            },
            "type": "parcoords"
           }
          ],
          "pie": [
           {
            "automargin": true,
            "type": "pie"
           }
          ],
          "scatter": [
           {
            "fillpattern": {
             "fillmode": "overlay",
             "size": 10,
             "solidity": 0.2
            },
            "type": "scatter"
           }
          ],
          "scatter3d": [
           {
            "line": {
             "colorbar": {
              "outlinewidth": 0,
              "ticks": ""
             }
            },
            "marker": {
             "colorbar": {
              "outlinewidth": 0,
              "ticks": ""
             }
            },
            "type": "scatter3d"
           }
          ],
          "scattercarpet": [
           {
            "marker": {
             "colorbar": {
              "outlinewidth": 0,
              "ticks": ""
             }
            },
            "type": "scattercarpet"
           }
          ],
          "scattergeo": [
           {
            "marker": {
             "colorbar": {
              "outlinewidth": 0,
              "ticks": ""
             }
            },
            "type": "scattergeo"
           }
          ],
          "scattergl": [
           {
            "marker": {
             "colorbar": {
              "outlinewidth": 0,
              "ticks": ""
             }
            },
            "type": "scattergl"
           }
          ],
          "scattermapbox": [
           {
            "marker": {
             "colorbar": {
              "outlinewidth": 0,
              "ticks": ""
             }
            },
            "type": "scattermapbox"
           }
          ],
          "scatterpolar": [
           {
            "marker": {
             "colorbar": {
              "outlinewidth": 0,
              "ticks": ""
             }
            },
            "type": "scatterpolar"
           }
          ],
          "scatterpolargl": [
           {
            "marker": {
             "colorbar": {
              "outlinewidth": 0,
              "ticks": ""
             }
            },
            "type": "scatterpolargl"
           }
          ],
          "scatterternary": [
           {
            "marker": {
             "colorbar": {
              "outlinewidth": 0,
              "ticks": ""
             }
            },
            "type": "scatterternary"
           }
          ],
          "surface": [
           {
            "colorbar": {
             "outlinewidth": 0,
             "ticks": ""
            },
            "colorscale": [
             [
              0,
              "#0d0887"
             ],
             [
              0.1111111111111111,
              "#46039f"
             ],
             [
              0.2222222222222222,
              "#7201a8"
             ],
             [
              0.3333333333333333,
              "#9c179e"
             ],
             [
              0.4444444444444444,
              "#bd3786"
             ],
             [
              0.5555555555555556,
              "#d8576b"
             ],
             [
              0.6666666666666666,
              "#ed7953"
             ],
             [
              0.7777777777777778,
              "#fb9f3a"
             ],
             [
              0.8888888888888888,
              "#fdca26"
             ],
             [
              1,
              "#f0f921"
             ]
            ],
            "type": "surface"
           }
          ],
          "table": [
           {
            "cells": {
             "fill": {
              "color": "#EBF0F8"
             },
             "line": {
              "color": "white"
             }
            },
            "header": {
             "fill": {
              "color": "#C8D4E3"
             },
             "line": {
              "color": "white"
             }
            },
            "type": "table"
           }
          ]
         },
         "layout": {
          "annotationdefaults": {
           "arrowcolor": "#2a3f5f",
           "arrowhead": 0,
           "arrowwidth": 1
          },
          "autotypenumbers": "strict",
          "coloraxis": {
           "colorbar": {
            "outlinewidth": 0,
            "ticks": ""
           }
          },
          "colorscale": {
           "diverging": [
            [
             0,
             "#8e0152"
            ],
            [
             0.1,
             "#c51b7d"
            ],
            [
             0.2,
             "#de77ae"
            ],
            [
             0.3,
             "#f1b6da"
            ],
            [
             0.4,
             "#fde0ef"
            ],
            [
             0.5,
             "#f7f7f7"
            ],
            [
             0.6,
             "#e6f5d0"
            ],
            [
             0.7,
             "#b8e186"
            ],
            [
             0.8,
             "#7fbc41"
            ],
            [
             0.9,
             "#4d9221"
            ],
            [
             1,
             "#276419"
            ]
           ],
           "sequential": [
            [
             0,
             "#0d0887"
            ],
            [
             0.1111111111111111,
             "#46039f"
            ],
            [
             0.2222222222222222,
             "#7201a8"
            ],
            [
             0.3333333333333333,
             "#9c179e"
            ],
            [
             0.4444444444444444,
             "#bd3786"
            ],
            [
             0.5555555555555556,
             "#d8576b"
            ],
            [
             0.6666666666666666,
             "#ed7953"
            ],
            [
             0.7777777777777778,
             "#fb9f3a"
            ],
            [
             0.8888888888888888,
             "#fdca26"
            ],
            [
             1,
             "#f0f921"
            ]
           ],
           "sequentialminus": [
            [
             0,
             "#0d0887"
            ],
            [
             0.1111111111111111,
             "#46039f"
            ],
            [
             0.2222222222222222,
             "#7201a8"
            ],
            [
             0.3333333333333333,
             "#9c179e"
            ],
            [
             0.4444444444444444,
             "#bd3786"
            ],
            [
             0.5555555555555556,
             "#d8576b"
            ],
            [
             0.6666666666666666,
             "#ed7953"
            ],
            [
             0.7777777777777778,
             "#fb9f3a"
            ],
            [
             0.8888888888888888,
             "#fdca26"
            ],
            [
             1,
             "#f0f921"
            ]
           ]
          },
          "colorway": [
           "#636efa",
           "#EF553B",
           "#00cc96",
           "#ab63fa",
           "#FFA15A",
           "#19d3f3",
           "#FF6692",
           "#B6E880",
           "#FF97FF",
           "#FECB52"
          ],
          "font": {
           "color": "#2a3f5f"
          },
          "geo": {
           "bgcolor": "white",
           "lakecolor": "white",
           "landcolor": "#E5ECF6",
           "showlakes": true,
           "showland": true,
           "subunitcolor": "white"
          },
          "hoverlabel": {
           "align": "left"
          },
          "hovermode": "closest",
          "mapbox": {
           "style": "light"
          },
          "paper_bgcolor": "white",
          "plot_bgcolor": "#E5ECF6",
          "polar": {
           "angularaxis": {
            "gridcolor": "white",
            "linecolor": "white",
            "ticks": ""
           },
           "bgcolor": "#E5ECF6",
           "radialaxis": {
            "gridcolor": "white",
            "linecolor": "white",
            "ticks": ""
           }
          },
          "scene": {
           "xaxis": {
            "backgroundcolor": "#E5ECF6",
            "gridcolor": "white",
            "gridwidth": 2,
            "linecolor": "white",
            "showbackground": true,
            "ticks": "",
            "zerolinecolor": "white"
           },
           "yaxis": {
            "backgroundcolor": "#E5ECF6",
            "gridcolor": "white",
            "gridwidth": 2,
            "linecolor": "white",
            "showbackground": true,
            "ticks": "",
            "zerolinecolor": "white"
           },
           "zaxis": {
            "backgroundcolor": "#E5ECF6",
            "gridcolor": "white",
            "gridwidth": 2,
            "linecolor": "white",
            "showbackground": true,
            "ticks": "",
            "zerolinecolor": "white"
           }
          },
          "shapedefaults": {
           "line": {
            "color": "#2a3f5f"
           }
          },
          "ternary": {
           "aaxis": {
            "gridcolor": "white",
            "linecolor": "white",
            "ticks": ""
           },
           "baxis": {
            "gridcolor": "white",
            "linecolor": "white",
            "ticks": ""
           },
           "bgcolor": "#E5ECF6",
           "caxis": {
            "gridcolor": "white",
            "linecolor": "white",
            "ticks": ""
           }
          },
          "title": {
           "x": 0.05
          },
          "xaxis": {
           "automargin": true,
           "gridcolor": "white",
           "linecolor": "white",
           "ticks": "",
           "title": {
            "standoff": 15
           },
           "zerolinecolor": "white",
           "zerolinewidth": 2
          },
          "yaxis": {
           "automargin": true,
           "gridcolor": "white",
           "linecolor": "white",
           "ticks": "",
           "title": {
            "standoff": 15
           },
           "zerolinecolor": "white",
           "zerolinewidth": 2
          }
         }
        },
        "title": {
         "text": "Interaction Distances by Residue and Interacting Chain"
        },
        "xaxis": {
         "anchor": "y",
         "categoryarray": [
          "21P",
          "51K",
          "87T",
          "88G",
          "89S",
          "90G",
          "91K",
          "92T",
          "93F",
          "94T",
          "95S",
          "96S",
          "97G",
          "98K",
          "99T",
          "100H",
          "144R",
          "148K",
          "157K",
          "158V",
          "159N",
          "159R",
          "160E",
          "163H",
          "164E",
          "165D",
          "166K",
          "167N",
          "201N",
          "204S",
          "205N",
          "205S",
          "208S",
          "209S",
          "237G",
          "238S",
          "240K",
          "241G",
          "241I",
          "242S",
          "244K",
          "245I",
          "245V",
          "250A",
          "251E",
          "255K",
          "258N",
          "259K",
          "262N",
          "262S",
          "263K",
          "266S",
          "266N",
          "275K",
          "277T",
          "278H",
          "280K",
          "282H",
          "282R",
          "283D",
          "285K",
          "286R",
          "287D",
          "314A",
          "318A",
          "321R",
          "325R",
          "328R",
          "341A",
          "343R",
          "344L",
          "345A",
          "346A",
          "348W",
          "350I",
          "352Y",
          "354E",
          "355E",
          "358K",
          "358E",
          "358L",
          "359N",
          "359K",
          "361Y",
          "362L",
          "362I",
          "363K",
          "365K",
          "365Y",
          "365L",
          "366V",
          "366I",
          "366E",
          "367T",
          "368V",
          "369L",
          "369S",
          "370E",
          "370G",
          "371V",
          "372E",
          "372T",
          "373L",
          "373S",
          "373V",
          "374S",
          "375V",
          "375N",
          "376L",
          "377R",
          "387Q",
          "388I",
          "390M",
          "393L",
          "396A",
          "397S",
          "410S",
          "412L",
          "414N",
          "417N",
          "419T",
          "442T",
          "444V",
          "444T",
          "447P",
          "448T",
          "448D",
          "449S",
          "452D",
          "452I",
          "455L",
          "458K",
          "459C",
          "462K",
          "462L",
          "463C",
          "463E",
          "465Q",
          "466L",
          "467E",
          "469Q",
          "469K",
          "470L",
          "470E",
          "472E",
          "473K",
          "474E",
          "476E",
          "476I",
          "477K",
          "478K",
          "479E",
          "480I",
          "480L",
          "482E",
          "483Q",
          "484L",
          "484Q",
          "486Q",
          "487Q",
          "487I",
          "488Q",
          "489E",
          "490Q",
          "490K",
          "491I",
          "491D",
          "493D",
          "493E",
          "494K",
          "494I",
          "495D",
          "497L",
          "498I",
          "498N",
          "501L",
          "501I",
          "502N",
          "504S",
          "505I",
          "505N",
          "508S",
          "508N",
          "509S",
          "510L",
          "511I",
          "511Y",
          "512N",
          "512Q",
          "514L",
          "514S",
          "515Y",
          "518S",
          "518N",
          "519T",
          "521E",
          "521L",
          "522N",
          "525L",
          "526N",
          "528Q",
          "529L",
          "530S",
          "531A",
          "532L",
          "533K",
          "534L",
          "535A",
          "535S",
          "536L",
          "537E",
          "538K",
          "539S",
          "539A",
          "540R",
          "541F",
          "542Q",
          "543A",
          "545E",
          "546Q",
          "546I",
          "548L",
          "549L",
          "550I",
          "550N",
          "552E",
          "553L",
          "553N",
          "554N",
          "556E",
          "556I",
          "557N",
          "557K",
          "560I",
          "560L",
          "561K",
          "563L",
          "566R",
          "567L",
          "567I",
          "570R",
          "571I",
          "575I",
          "576D",
          "578L",
          "579I",
          "582L"
         ],
         "categoryorder": "array",
         "domain": [
          0,
          1
         ],
         "title": {
          "text": "Residue (Number and Identity)"
         }
        },
        "yaxis": {
         "anchor": "x",
         "domain": [
          0,
          1
         ],
         "title": {
          "text": "Distance (angstroms)"
         }
        }
       }
      }
     },
     "metadata": {},
     "output_type": "display_data"
    }
   ],
   "source": [
    "import os\n",
    "import glob\n",
    "import pandas as pd\n",
    "import plotly.express as px\n",
    "\n",
    "# Define the general directory where the folders are located\n",
    "general_directory = '/Users/jazzeruncal/git/Jazzer_surf/3d_predictions/same_seed'\n",
    "\n",
    "# Define the specific strings to search for in the column 'file'\n",
    "specific_strings = ['kif3', 'h']\n",
    "\n",
    "# Find all CSV files in the general directory and its subdirectories\n",
    "search_pattern = os.path.join(general_directory, '**', '*.csv')\n",
    "csv_file_paths = glob.glob(search_pattern, recursive=True)\n",
    "\n",
    "# Check if any files were found\n",
    "if not csv_file_paths:\n",
    "    raise FileNotFoundError('No CSV files found in the directory.')\n",
    "else:\n",
    "    print(f'Found files: {csv_file_paths}')\n",
    "\n",
    "# Define a list of colors for beta-tubulin\n",
    "beta_tubulin_colors = ['red', 'green', 'blue', 'orange', 'purple', 'brown']\n",
    "color_index = 0\n",
    "\n",
    "# Process each file found\n",
    "for csv_file_path in csv_file_paths:\n",
    "    # Read the CSV file into a DataFrame\n",
    "    df = pd.read_csv(csv_file_path)\n",
    "\n",
    "    # Check if the 'file' column contains any of the specific strings\n",
    "    if df['file'].str.contains('|'.join(specific_strings)).any():\n",
    "        # Filter to get the shortest distances for each interaction\n",
    "        df = df.loc[df[df['chain'] == 'A'].groupby(['file', 'resi', 'interacting_chain'])['distance (angstroms)'].idxmin()]\n",
    "\n",
    "        # Exclude interactions with Mg and chain letters A, G, H\n",
    "        df = df[(df['interacting_resn'] != 'MG') & (~df['interacting_chain'].isin(['A', 'G', 'H']))].reset_index(drop=True)\n",
    "\n",
    "        # Map interacting_resn to single-letter codes for better readability\n",
    "        aa_dict = {\n",
    "            'ALA': 'A', 'ARG': 'R', 'ASN': 'N', 'ASP': 'D', 'CYS': 'C', 'GLN': 'Q', 'GLU': 'E', 'GLY': 'G',\n",
    "            'HIS': 'H', 'ILE': 'I', 'LEU': 'L', 'LYS': 'K', 'MET': 'M', 'PHE': 'F', 'PRO': 'P', 'SER': 'S',\n",
    "            'THR': 'T', 'TRP': 'W', 'TYR': 'Y', 'VAL': 'V'\n",
    "        }\n",
    "        df['residue_one_letter'] = df['resn'].map(aa_dict)\n",
    "        df['residue'] = df['resi'].astype(str) + df['residue_one_letter']\n",
    "\n",
    "        # Add interacting_resi_oneletter and interacting_resinumber columns\n",
    "        df['interacting_resi_oneletter'] = df['interacting_resn'].map(aa_dict)\n",
    "        df['interacting_residue'] = df['interacting_resinumber'].astype(str) + df['interacting_resi_oneletter']\n",
    "\n",
    "        # Replace chain letters with descriptive names\n",
    "        chain_map = {\n",
    "            'B': 'kinesin B',\n",
    "            'C': 'alpha-tubulin',\n",
    "            'D': 'beta-tubulin',\n",
    "            'E': 'ATP',\n",
    "            'F': 'ATP'\n",
    "        }\n",
    "        df['interacting_chain'] = df['interacting_chain'].map(chain_map)\n",
    "\n",
    "        # Group by file and interacting chain, keeping residues in order\n",
    "        grouped = df.groupby(['file', 'interacting_chain'])\n",
    "\n",
    "        # Create a list to store the output rows\n",
    "        output_rows = []\n",
    "\n",
    "        # Iterate over each group and extract information\n",
    "        for (file, chain), group in grouped:\n",
    "            for _, row in group.iterrows():\n",
    "                output_rows.append({\n",
    "                    'file': file,\n",
    "                    'interacting_chain': chain,\n",
    "                    'interacting_atom': row['interacting_atom'],\n",
    "                    'residue_number': row['resi'],\n",
    "                    'amino_acid': row['residue_one_letter'],\n",
    "                    'distance (angstroms)': row['distance (angstroms)'],\n",
    "                    'interacting_resi_oneletter': row['interacting_resi_oneletter'],\n",
    "                    'interacting_resinumber': row['interacting_resinumber']\n",
    "                })\n",
    "\n",
    "        # Convert the list to a DataFrame\n",
    "        interaction_df = pd.DataFrame(output_rows)\n",
    "\n",
    "        # Save the resulting DataFrame to a CSV file\n",
    "        interaction_df.to_csv(f\"interaction_summary_{os.path.basename(csv_file_path)}\", index=False)\n",
    "\n",
    "        # Load the summarized interaction data\n",
    "        csv_file_path = f\"interaction_summary_{os.path.basename(csv_file_path)}\"\n",
    "        interaction_df = pd.read_csv(csv_file_path)\n",
    "\n",
    "        # Create a new column for the x-axis labels by concatenating residue number and amino acid\n",
    "        interaction_df['residue_label'] = interaction_df['residue_number'].astype(str) + interaction_df['amino_acid']\n",
    "\n",
    "        # Sort the dataframe by file and residue number to maintain order\n",
    "        interaction_df = interaction_df.sort_values(by=['file', 'residue_number'])\n",
    "\n",
    "        # Convert residue_label to a categorical type with the correct order\n",
    "        interaction_df['residue_label'] = pd.Categorical(interaction_df['residue_label'], \n",
    "                                                         categories=sorted(interaction_df['residue_label'].unique(), key=lambda x: int(''.join(filter(str.isdigit, x)))), \n",
    "                                                         ordered=True)\n",
    "\n",
    "        # Define custom colors, rotating the color for beta-tubulin\n",
    "        color_discrete_map = {\n",
    "            'kinesin B': 'blue',\n",
    "            'alpha-tubulin': 'purple',\n",
    "            'beta-tubulin': beta_tubulin_colors[color_index % len(beta_tubulin_colors)],  # Rotate color\n",
    "            'ATP': 'yellow'\n",
    "        }\n",
    "        color_index += 1\n",
    "\n",
    "        # Create the text for the points\n",
    "        interaction_df['text'] = interaction_df['interacting_resinumber'].astype(str) + interaction_df['interacting_resi_oneletter']\n",
    "\n",
    "        # Scatter plot for interaction distances with custom x-axis labels\n",
    "        fig_scatter = px.scatter(interaction_df, x='residue_label', y='distance (angstroms)', color='interacting_chain', text='text',\n",
    "                                 title='Interaction Distances by Residue and Interacting Chain',\n",
    "                                 labels={'residue_label': 'Residue (Number and Identity)', 'distance (angstroms)': 'Distance (angstroms)', 'interacting_chain': 'Interacting Chain'},\n",
    "                                 hover_data={'file': True, 'interacting_resinumber': True, 'interacting_resi_oneletter': True},\n",
    "                                 color_discrete_map=color_discrete_map)\n",
    "\n",
    "        fig_scatter.update_traces(textposition='top center', marker=dict(size=10, opacity=0.6))\n",
    "        fig_scatter.update_layout(xaxis={'categoryorder':'array', 'categoryarray': interaction_df['residue_label'].cat.categories})\n",
    "\n",
    "        # Show the plot\n",
    "        fig_scatter.show()\n"
   ]
  },
  {
   "cell_type": "code",
   "execution_count": null,
   "metadata": {},
   "outputs": [],
   "source": []
  }
 ],
 "metadata": {
  "kernelspec": {
   "display_name": "base",
   "language": "python",
   "name": "python3"
  },
  "language_info": {
   "codemirror_mode": {
    "name": "ipython",
    "version": 3
   },
   "file_extension": ".py",
   "mimetype": "text/x-python",
   "name": "python",
   "nbconvert_exporter": "python",
   "pygments_lexer": "ipython3",
   "version": "3.12.4"
  }
 },
 "nbformat": 4,
 "nbformat_minor": 2
}
