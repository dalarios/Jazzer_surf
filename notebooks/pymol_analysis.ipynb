{
 "cells": [
  {
   "cell_type": "code",
   "execution_count": 1,
   "metadata": {},
   "outputs": [],
   "source": [
    "# Import necessary libraries\n",
    "import pandas as pd\n",
    "import seaborn as sns\n",
    "import matplotlib.pyplot as plt\n",
    "import glob\n",
    "import plotly.express as px\n"
   ]
  },
  {
   "cell_type": "code",
   "execution_count": 2,
   "metadata": {},
   "outputs": [
    {
     "data": {
      "application/vnd.plotly.v1+json": {
       "config": {
        "plotlyServerURL": "https://plot.ly"
       },
       "data": [
        {
         "alignmentgroup": "True",
         "boxpoints": "all",
         "customdata": [
          [
           "a_atp_mg_tub"
          ],
          [
           "a_atp_mg_tub"
          ],
          [
           "a_atp_mg_tub"
          ],
          [
           "a_atp_mg_tub"
          ],
          [
           "a_atp_mg_tub"
          ],
          [
           "a_atp_mg_tub"
          ],
          [
           "a_atp_mg_tub"
          ],
          [
           "a_atp_mg_tub"
          ],
          [
           "a_atp_mg_tub"
          ],
          [
           "a_atp_mg_tub"
          ],
          [
           "a_atp_mg_tub"
          ],
          [
           "a_atp_mg_tub"
          ],
          [
           "a_atp_mg_tub"
          ],
          [
           "a_atp_mg_tub"
          ],
          [
           "a_atp_mg_tub"
          ],
          [
           "a_atp_mg_tub"
          ],
          [
           "a_atp_mg_tub"
          ],
          [
           "a_atp_mg_tub"
          ],
          [
           "a_atp_mg_tub"
          ],
          [
           "a_atp_mg_tub"
          ],
          [
           "a_atp_mg_tub"
          ],
          [
           "a_atp_mg_tub"
          ],
          [
           "a_atp_mg_tub"
          ]
         ],
         "fillcolor": "rgba(255,255,255,0)",
         "hoveron": "points",
         "hovertemplate": "file=%{customdata[0]}<br>Interacting atom=%{x}<br>Distance (angstroms)=%{y}<extra></extra>",
         "legendgroup": "a_atp_mg_tub",
         "line": {
          "color": "rgba(255,255,255,0)"
         },
         "marker": {
          "color": "#636efa"
         },
         "name": "a_atp_mg_tub",
         "offsetgroup": "a_atp_mg_tub",
         "orientation": "v",
         "pointpos": 0,
         "showlegend": true,
         "type": "box",
         "x": [
          "PA",
          "PA",
          "O1A",
          "O1A",
          "O2A",
          "O3A",
          "O3A",
          "PB",
          "PB",
          "O1B",
          "O1B",
          "O2B",
          "O2B",
          "O3B",
          "O3B",
          "PG",
          "PG",
          "O2G",
          "O2G",
          "O1G",
          "O1G",
          "O3G",
          "O3G"
         ],
         "x0": " ",
         "xaxis": "x",
         "y": [
          4.481044292449951,
          4.614748477935791,
          4.365795135498047,
          4.012680530548096,
          4.630960464477539,
          3.771675109863281,
          4.228961944580078,
          3.1830594539642334,
          3.2116262912750244,
          2.011581897735596,
          2.0146546363830566,
          4.30345344543457,
          4.460050582885742,
          3.4410219192504883,
          3.499140739440918,
          3.2150347232818604,
          3.215676784515381,
          3.7339236736297607,
          3.9589436054229736,
          2.100983142852783,
          2.010643243789673,
          4.487382411956787,
          4.386703968048096
         ],
         "y0": " ",
         "yaxis": "y"
        },
        {
         "alignmentgroup": "True",
         "boxpoints": "all",
         "customdata": [
          [
           "a_atp_mg"
          ],
          [
           "a_atp_mg"
          ],
          [
           "a_atp_mg"
          ],
          [
           "a_atp_mg"
          ],
          [
           "a_atp_mg"
          ],
          [
           "a_atp_mg"
          ],
          [
           "a_atp_mg"
          ],
          [
           "a_atp_mg"
          ],
          [
           "a_atp_mg"
          ],
          [
           "a_atp_mg"
          ],
          [
           "a_atp_mg"
          ],
          [
           "a_atp_mg"
          ]
         ],
         "fillcolor": "rgba(255,255,255,0)",
         "hoveron": "points",
         "hovertemplate": "file=%{customdata[0]}<br>Interacting atom=%{x}<br>Distance (angstroms)=%{y}<extra></extra>",
         "legendgroup": "a_atp_mg",
         "line": {
          "color": "rgba(255,255,255,0)"
         },
         "marker": {
          "color": "#EF553B"
         },
         "name": "a_atp_mg",
         "offsetgroup": "a_atp_mg",
         "orientation": "v",
         "pointpos": 0,
         "showlegend": true,
         "type": "box",
         "x": [
          "PA",
          "O1A",
          "O2A",
          "O3A",
          "PB",
          "O1B",
          "O2B",
          "O3B",
          "PG",
          "O2G",
          "O1G",
          "O3G"
         ],
         "x0": " ",
         "xaxis": "x",
         "y": [
          4.527037620544434,
          4.709575653076172,
          4.0233917236328125,
          4.269742012023926,
          3.220426321029663,
          2.0989327430725098,
          4.278816223144531,
          3.323695659637451,
          3.0058276653289795,
          1.6900780200958252,
          3.933998107910156,
          3.988863468170166
         ],
         "y0": " ",
         "yaxis": "y"
        }
       ],
       "layout": {
        "boxmode": "group",
        "legend": {
         "itemsizing": "constant",
         "title": {
          "text": "File"
         },
         "tracegroupgap": 0
        },
        "template": {
         "data": {
          "bar": [
           {
            "error_x": {
             "color": "#2a3f5f"
            },
            "error_y": {
             "color": "#2a3f5f"
            },
            "marker": {
             "line": {
              "color": "#E5ECF6",
              "width": 0.5
             },
             "pattern": {
              "fillmode": "overlay",
              "size": 10,
              "solidity": 0.2
             }
            },
            "type": "bar"
           }
          ],
          "barpolar": [
           {
            "marker": {
             "line": {
              "color": "#E5ECF6",
              "width": 0.5
             },
             "pattern": {
              "fillmode": "overlay",
              "size": 10,
              "solidity": 0.2
             }
            },
            "type": "barpolar"
           }
          ],
          "carpet": [
           {
            "aaxis": {
             "endlinecolor": "#2a3f5f",
             "gridcolor": "white",
             "linecolor": "white",
             "minorgridcolor": "white",
             "startlinecolor": "#2a3f5f"
            },
            "baxis": {
             "endlinecolor": "#2a3f5f",
             "gridcolor": "white",
             "linecolor": "white",
             "minorgridcolor": "white",
             "startlinecolor": "#2a3f5f"
            },
            "type": "carpet"
           }
          ],
          "choropleth": [
           {
            "colorbar": {
             "outlinewidth": 0,
             "ticks": ""
            },
            "type": "choropleth"
           }
          ],
          "contour": [
           {
            "colorbar": {
             "outlinewidth": 0,
             "ticks": ""
            },
            "colorscale": [
             [
              0,
              "#0d0887"
             ],
             [
              0.1111111111111111,
              "#46039f"
             ],
             [
              0.2222222222222222,
              "#7201a8"
             ],
             [
              0.3333333333333333,
              "#9c179e"
             ],
             [
              0.4444444444444444,
              "#bd3786"
             ],
             [
              0.5555555555555556,
              "#d8576b"
             ],
             [
              0.6666666666666666,
              "#ed7953"
             ],
             [
              0.7777777777777778,
              "#fb9f3a"
             ],
             [
              0.8888888888888888,
              "#fdca26"
             ],
             [
              1,
              "#f0f921"
             ]
            ],
            "type": "contour"
           }
          ],
          "contourcarpet": [
           {
            "colorbar": {
             "outlinewidth": 0,
             "ticks": ""
            },
            "type": "contourcarpet"
           }
          ],
          "heatmap": [
           {
            "colorbar": {
             "outlinewidth": 0,
             "ticks": ""
            },
            "colorscale": [
             [
              0,
              "#0d0887"
             ],
             [
              0.1111111111111111,
              "#46039f"
             ],
             [
              0.2222222222222222,
              "#7201a8"
             ],
             [
              0.3333333333333333,
              "#9c179e"
             ],
             [
              0.4444444444444444,
              "#bd3786"
             ],
             [
              0.5555555555555556,
              "#d8576b"
             ],
             [
              0.6666666666666666,
              "#ed7953"
             ],
             [
              0.7777777777777778,
              "#fb9f3a"
             ],
             [
              0.8888888888888888,
              "#fdca26"
             ],
             [
              1,
              "#f0f921"
             ]
            ],
            "type": "heatmap"
           }
          ],
          "heatmapgl": [
           {
            "colorbar": {
             "outlinewidth": 0,
             "ticks": ""
            },
            "colorscale": [
             [
              0,
              "#0d0887"
             ],
             [
              0.1111111111111111,
              "#46039f"
             ],
             [
              0.2222222222222222,
              "#7201a8"
             ],
             [
              0.3333333333333333,
              "#9c179e"
             ],
             [
              0.4444444444444444,
              "#bd3786"
             ],
             [
              0.5555555555555556,
              "#d8576b"
             ],
             [
              0.6666666666666666,
              "#ed7953"
             ],
             [
              0.7777777777777778,
              "#fb9f3a"
             ],
             [
              0.8888888888888888,
              "#fdca26"
             ],
             [
              1,
              "#f0f921"
             ]
            ],
            "type": "heatmapgl"
           }
          ],
          "histogram": [
           {
            "marker": {
             "pattern": {
              "fillmode": "overlay",
              "size": 10,
              "solidity": 0.2
             }
            },
            "type": "histogram"
           }
          ],
          "histogram2d": [
           {
            "colorbar": {
             "outlinewidth": 0,
             "ticks": ""
            },
            "colorscale": [
             [
              0,
              "#0d0887"
             ],
             [
              0.1111111111111111,
              "#46039f"
             ],
             [
              0.2222222222222222,
              "#7201a8"
             ],
             [
              0.3333333333333333,
              "#9c179e"
             ],
             [
              0.4444444444444444,
              "#bd3786"
             ],
             [
              0.5555555555555556,
              "#d8576b"
             ],
             [
              0.6666666666666666,
              "#ed7953"
             ],
             [
              0.7777777777777778,
              "#fb9f3a"
             ],
             [
              0.8888888888888888,
              "#fdca26"
             ],
             [
              1,
              "#f0f921"
             ]
            ],
            "type": "histogram2d"
           }
          ],
          "histogram2dcontour": [
           {
            "colorbar": {
             "outlinewidth": 0,
             "ticks": ""
            },
            "colorscale": [
             [
              0,
              "#0d0887"
             ],
             [
              0.1111111111111111,
              "#46039f"
             ],
             [
              0.2222222222222222,
              "#7201a8"
             ],
             [
              0.3333333333333333,
              "#9c179e"
             ],
             [
              0.4444444444444444,
              "#bd3786"
             ],
             [
              0.5555555555555556,
              "#d8576b"
             ],
             [
              0.6666666666666666,
              "#ed7953"
             ],
             [
              0.7777777777777778,
              "#fb9f3a"
             ],
             [
              0.8888888888888888,
              "#fdca26"
             ],
             [
              1,
              "#f0f921"
             ]
            ],
            "type": "histogram2dcontour"
           }
          ],
          "mesh3d": [
           {
            "colorbar": {
             "outlinewidth": 0,
             "ticks": ""
            },
            "type": "mesh3d"
           }
          ],
          "parcoords": [
           {
            "line": {
             "colorbar": {
              "outlinewidth": 0,
              "ticks": ""
             }
            },
            "type": "parcoords"
           }
          ],
          "pie": [
           {
            "automargin": true,
            "type": "pie"
           }
          ],
          "scatter": [
           {
            "fillpattern": {
             "fillmode": "overlay",
             "size": 10,
             "solidity": 0.2
            },
            "type": "scatter"
           }
          ],
          "scatter3d": [
           {
            "line": {
             "colorbar": {
              "outlinewidth": 0,
              "ticks": ""
             }
            },
            "marker": {
             "colorbar": {
              "outlinewidth": 0,
              "ticks": ""
             }
            },
            "type": "scatter3d"
           }
          ],
          "scattercarpet": [
           {
            "marker": {
             "colorbar": {
              "outlinewidth": 0,
              "ticks": ""
             }
            },
            "type": "scattercarpet"
           }
          ],
          "scattergeo": [
           {
            "marker": {
             "colorbar": {
              "outlinewidth": 0,
              "ticks": ""
             }
            },
            "type": "scattergeo"
           }
          ],
          "scattergl": [
           {
            "marker": {
             "colorbar": {
              "outlinewidth": 0,
              "ticks": ""
             }
            },
            "type": "scattergl"
           }
          ],
          "scattermapbox": [
           {
            "marker": {
             "colorbar": {
              "outlinewidth": 0,
              "ticks": ""
             }
            },
            "type": "scattermapbox"
           }
          ],
          "scatterpolar": [
           {
            "marker": {
             "colorbar": {
              "outlinewidth": 0,
              "ticks": ""
             }
            },
            "type": "scatterpolar"
           }
          ],
          "scatterpolargl": [
           {
            "marker": {
             "colorbar": {
              "outlinewidth": 0,
              "ticks": ""
             }
            },
            "type": "scatterpolargl"
           }
          ],
          "scatterternary": [
           {
            "marker": {
             "colorbar": {
              "outlinewidth": 0,
              "ticks": ""
             }
            },
            "type": "scatterternary"
           }
          ],
          "surface": [
           {
            "colorbar": {
             "outlinewidth": 0,
             "ticks": ""
            },
            "colorscale": [
             [
              0,
              "#0d0887"
             ],
             [
              0.1111111111111111,
              "#46039f"
             ],
             [
              0.2222222222222222,
              "#7201a8"
             ],
             [
              0.3333333333333333,
              "#9c179e"
             ],
             [
              0.4444444444444444,
              "#bd3786"
             ],
             [
              0.5555555555555556,
              "#d8576b"
             ],
             [
              0.6666666666666666,
              "#ed7953"
             ],
             [
              0.7777777777777778,
              "#fb9f3a"
             ],
             [
              0.8888888888888888,
              "#fdca26"
             ],
             [
              1,
              "#f0f921"
             ]
            ],
            "type": "surface"
           }
          ],
          "table": [
           {
            "cells": {
             "fill": {
              "color": "#EBF0F8"
             },
             "line": {
              "color": "white"
             }
            },
            "header": {
             "fill": {
              "color": "#C8D4E3"
             },
             "line": {
              "color": "white"
             }
            },
            "type": "table"
           }
          ]
         },
         "layout": {
          "annotationdefaults": {
           "arrowcolor": "#2a3f5f",
           "arrowhead": 0,
           "arrowwidth": 1
          },
          "autotypenumbers": "strict",
          "coloraxis": {
           "colorbar": {
            "outlinewidth": 0,
            "ticks": ""
           }
          },
          "colorscale": {
           "diverging": [
            [
             0,
             "#8e0152"
            ],
            [
             0.1,
             "#c51b7d"
            ],
            [
             0.2,
             "#de77ae"
            ],
            [
             0.3,
             "#f1b6da"
            ],
            [
             0.4,
             "#fde0ef"
            ],
            [
             0.5,
             "#f7f7f7"
            ],
            [
             0.6,
             "#e6f5d0"
            ],
            [
             0.7,
             "#b8e186"
            ],
            [
             0.8,
             "#7fbc41"
            ],
            [
             0.9,
             "#4d9221"
            ],
            [
             1,
             "#276419"
            ]
           ],
           "sequential": [
            [
             0,
             "#0d0887"
            ],
            [
             0.1111111111111111,
             "#46039f"
            ],
            [
             0.2222222222222222,
             "#7201a8"
            ],
            [
             0.3333333333333333,
             "#9c179e"
            ],
            [
             0.4444444444444444,
             "#bd3786"
            ],
            [
             0.5555555555555556,
             "#d8576b"
            ],
            [
             0.6666666666666666,
             "#ed7953"
            ],
            [
             0.7777777777777778,
             "#fb9f3a"
            ],
            [
             0.8888888888888888,
             "#fdca26"
            ],
            [
             1,
             "#f0f921"
            ]
           ],
           "sequentialminus": [
            [
             0,
             "#0d0887"
            ],
            [
             0.1111111111111111,
             "#46039f"
            ],
            [
             0.2222222222222222,
             "#7201a8"
            ],
            [
             0.3333333333333333,
             "#9c179e"
            ],
            [
             0.4444444444444444,
             "#bd3786"
            ],
            [
             0.5555555555555556,
             "#d8576b"
            ],
            [
             0.6666666666666666,
             "#ed7953"
            ],
            [
             0.7777777777777778,
             "#fb9f3a"
            ],
            [
             0.8888888888888888,
             "#fdca26"
            ],
            [
             1,
             "#f0f921"
            ]
           ]
          },
          "colorway": [
           "#636efa",
           "#EF553B",
           "#00cc96",
           "#ab63fa",
           "#FFA15A",
           "#19d3f3",
           "#FF6692",
           "#B6E880",
           "#FF97FF",
           "#FECB52"
          ],
          "font": {
           "color": "#2a3f5f"
          },
          "geo": {
           "bgcolor": "white",
           "lakecolor": "white",
           "landcolor": "#E5ECF6",
           "showlakes": true,
           "showland": true,
           "subunitcolor": "white"
          },
          "hoverlabel": {
           "align": "left"
          },
          "hovermode": "closest",
          "mapbox": {
           "style": "light"
          },
          "paper_bgcolor": "white",
          "plot_bgcolor": "#E5ECF6",
          "polar": {
           "angularaxis": {
            "gridcolor": "white",
            "linecolor": "white",
            "ticks": ""
           },
           "bgcolor": "#E5ECF6",
           "radialaxis": {
            "gridcolor": "white",
            "linecolor": "white",
            "ticks": ""
           }
          },
          "scene": {
           "xaxis": {
            "backgroundcolor": "#E5ECF6",
            "gridcolor": "white",
            "gridwidth": 2,
            "linecolor": "white",
            "showbackground": true,
            "ticks": "",
            "zerolinecolor": "white"
           },
           "yaxis": {
            "backgroundcolor": "#E5ECF6",
            "gridcolor": "white",
            "gridwidth": 2,
            "linecolor": "white",
            "showbackground": true,
            "ticks": "",
            "zerolinecolor": "white"
           },
           "zaxis": {
            "backgroundcolor": "#E5ECF6",
            "gridcolor": "white",
            "gridwidth": 2,
            "linecolor": "white",
            "showbackground": true,
            "ticks": "",
            "zerolinecolor": "white"
           }
          },
          "shapedefaults": {
           "line": {
            "color": "#2a3f5f"
           }
          },
          "ternary": {
           "aaxis": {
            "gridcolor": "white",
            "linecolor": "white",
            "ticks": ""
           },
           "baxis": {
            "gridcolor": "white",
            "linecolor": "white",
            "ticks": ""
           },
           "bgcolor": "#E5ECF6",
           "caxis": {
            "gridcolor": "white",
            "linecolor": "white",
            "ticks": ""
           }
          },
          "title": {
           "x": 0.05
          },
          "xaxis": {
           "automargin": true,
           "gridcolor": "white",
           "linecolor": "white",
           "ticks": "",
           "title": {
            "standoff": 15
           },
           "zerolinecolor": "white",
           "zerolinewidth": 2
          },
          "yaxis": {
           "automargin": true,
           "gridcolor": "white",
           "linecolor": "white",
           "ticks": "",
           "title": {
            "standoff": 15
           },
           "zerolinecolor": "white",
           "zerolinewidth": 2
          }
         }
        },
        "title": {
         "text": "Distance between MG and ATP/ADP atoms"
        },
        "xaxis": {
         "anchor": "y",
         "categoryarray": [
          "PA",
          "O1A",
          "O2A",
          "O3A",
          "PB",
          "O1B",
          "O2B",
          "O3B",
          "PG",
          "O2G",
          "O1G",
          "O3G"
         ],
         "categoryorder": "array",
         "domain": [
          0,
          1
         ],
         "title": {
          "text": "Interacting atom"
         }
        },
        "yaxis": {
         "anchor": "x",
         "domain": [
          0,
          1
         ],
         "range": [
          0,
          5
         ],
         "title": {
          "text": "Distance (angstroms)"
         }
        }
       }
      }
     },
     "metadata": {},
     "output_type": "display_data"
    }
   ],
   "source": [
    "# Define the path to the CSV file\n",
    "csv_file_path = \"../../Jazzer_surf/3d_predictions/chimeras/test/interactions_all_files.csv\"\n",
    "\n",
    "# Read the CSV file into a DataFrame\n",
    "df = pd.read_csv(csv_file_path)\n",
    "\n",
    "# Take only the rows where the resn is MG and the interacting_resn is ATP or ADP\n",
    "df = df[(df['resn'] == 'MG') & ((df['interacting_resn'] == 'ADP') | (df['interacting_resn'] == 'ATP'))]\n",
    "\n",
    "# Order the DataFrame by the column interacting_atom but in the order PA, O1A, O2A, O3A, PB, O1B, O2B, O3B, PG, O1G, O2G, O3G\n",
    "atom_order = ['PA', 'O1A', 'O2A', 'O3A', 'PB', 'O1B', 'O2B', 'O3B', 'PG', 'O2G', 'O1G', 'O3G']\n",
    "df['atom_order'] = pd.Categorical(df['interacting_atom'], categories=atom_order, ordered=True)\n",
    "df = df.sort_values(by='atom_order')\n",
    "\n",
    "# Create an interactive strip plot using Plotly\n",
    "fig = px.strip(df, x='interacting_atom', y='distance (angstroms)', color='file',\n",
    "               category_orders={\"interacting_atom\": atom_order},\n",
    "               title='Distance between MG and ATP/ADP atoms',\n",
    "               labels={'interacting_atom': 'Interacting atom', 'distance (angstroms)': 'Distance (angstroms)'},\n",
    "               hover_data=['file'])\n",
    "\n",
    "# Update the layout to fix the y-axis and ensure all x-axis values are shown\n",
    "fig.update_layout(\n",
    "    legend_title_text='File',\n",
    "    legend=dict(\n",
    "        title=dict(text='File'),\n",
    "        itemsizing='constant'\n",
    "    ),\n",
    "    xaxis_title='Interacting atom',\n",
    "    yaxis_title='Distance (angstroms)',\n",
    "    yaxis=dict(range=[0, 5]),\n",
    "    xaxis=dict(categoryorder='array', categoryarray=atom_order)\n",
    ")\n",
    "\n",
    "# Show the plot\n",
    "fig.show()\n"
   ]
  },
  {
   "cell_type": "code",
   "execution_count": 3,
   "metadata": {},
   "outputs": [
    {
     "data": {
      "text/html": [
       "<div>\n",
       "<style scoped>\n",
       "    .dataframe tbody tr th:only-of-type {\n",
       "        vertical-align: middle;\n",
       "    }\n",
       "\n",
       "    .dataframe tbody tr th {\n",
       "        vertical-align: top;\n",
       "    }\n",
       "\n",
       "    .dataframe thead th {\n",
       "        text-align: right;\n",
       "    }\n",
       "</style>\n",
       "<table border=\"1\" class=\"dataframe\">\n",
       "  <thead>\n",
       "    <tr style=\"text-align: right;\">\n",
       "      <th></th>\n",
       "      <th>file</th>\n",
       "      <th>chain</th>\n",
       "      <th>resi</th>\n",
       "      <th>resn</th>\n",
       "      <th>atom_name</th>\n",
       "      <th>interacting_atom</th>\n",
       "      <th>interacting_resn</th>\n",
       "      <th>interacting_chain</th>\n",
       "      <th>distance (angstroms)</th>\n",
       "      <th>residue_one_letter</th>\n",
       "      <th>full_atom_name</th>\n",
       "      <th>interacting_full_atom_name</th>\n",
       "      <th>residue</th>\n",
       "    </tr>\n",
       "  </thead>\n",
       "  <tbody>\n",
       "    <tr>\n",
       "      <th>3557</th>\n",
       "      <td>a_atp</td>\n",
       "      <td>A</td>\n",
       "      <td>5</td>\n",
       "      <td>ARG</td>\n",
       "      <td>NH2</td>\n",
       "      <td>OH</td>\n",
       "      <td>TYR</td>\n",
       "      <td>B</td>\n",
       "      <td>2.754006</td>\n",
       "      <td>R</td>\n",
       "      <td>Nitrogen eta 2</td>\n",
       "      <td>Unknown</td>\n",
       "      <td>5R</td>\n",
       "    </tr>\n",
       "    <tr>\n",
       "      <th>2943</th>\n",
       "      <td>a_atp</td>\n",
       "      <td>A</td>\n",
       "      <td>18</td>\n",
       "      <td>ARG</td>\n",
       "      <td>NH2</td>\n",
       "      <td>N6</td>\n",
       "      <td>ATP</td>\n",
       "      <td>C</td>\n",
       "      <td>3.543884</td>\n",
       "      <td>R</td>\n",
       "      <td>Nitrogen eta 2</td>\n",
       "      <td>Nitrogen 6</td>\n",
       "      <td>18R</td>\n",
       "    </tr>\n",
       "    <tr>\n",
       "      <th>3465</th>\n",
       "      <td>a_atp</td>\n",
       "      <td>A</td>\n",
       "      <td>19</td>\n",
       "      <td>PHE</td>\n",
       "      <td>O</td>\n",
       "      <td>N6</td>\n",
       "      <td>ATP</td>\n",
       "      <td>C</td>\n",
       "      <td>4.447849</td>\n",
       "      <td>F</td>\n",
       "      <td>Oxygen</td>\n",
       "      <td>Nitrogen 6</td>\n",
       "      <td>19F</td>\n",
       "    </tr>\n",
       "    <tr>\n",
       "      <th>3032</th>\n",
       "      <td>a_atp</td>\n",
       "      <td>A</td>\n",
       "      <td>20</td>\n",
       "      <td>ARG</td>\n",
       "      <td>CB</td>\n",
       "      <td>N7</td>\n",
       "      <td>ATP</td>\n",
       "      <td>C</td>\n",
       "      <td>3.693005</td>\n",
       "      <td>R</td>\n",
       "      <td>Carbon beta</td>\n",
       "      <td>Nitrogen 7</td>\n",
       "      <td>20R</td>\n",
       "    </tr>\n",
       "    <tr>\n",
       "      <th>3903</th>\n",
       "      <td>a_atp</td>\n",
       "      <td>A</td>\n",
       "      <td>21</td>\n",
       "      <td>PRO</td>\n",
       "      <td>CD</td>\n",
       "      <td>N1</td>\n",
       "      <td>ATP</td>\n",
       "      <td>C</td>\n",
       "      <td>3.591886</td>\n",
       "      <td>P</td>\n",
       "      <td>Carbon delta</td>\n",
       "      <td>Nitrogen 1</td>\n",
       "      <td>21P</td>\n",
       "    </tr>\n",
       "  </tbody>\n",
       "</table>\n",
       "</div>"
      ],
      "text/plain": [
       "       file chain  resi resn atom_name interacting_atom interacting_resn  \\\n",
       "3557  a_atp     A     5  ARG       NH2               OH              TYR   \n",
       "2943  a_atp     A    18  ARG       NH2               N6              ATP   \n",
       "3465  a_atp     A    19  PHE         O               N6              ATP   \n",
       "3032  a_atp     A    20  ARG        CB               N7              ATP   \n",
       "3903  a_atp     A    21  PRO        CD               N1              ATP   \n",
       "\n",
       "     interacting_chain  distance (angstroms) residue_one_letter  \\\n",
       "3557                 B              2.754006                  R   \n",
       "2943                 C              3.543884                  R   \n",
       "3465                 C              4.447849                  F   \n",
       "3032                 C              3.693005                  R   \n",
       "3903                 C              3.591886                  P   \n",
       "\n",
       "      full_atom_name interacting_full_atom_name residue  \n",
       "3557  Nitrogen eta 2                    Unknown      5R  \n",
       "2943  Nitrogen eta 2                 Nitrogen 6     18R  \n",
       "3465          Oxygen                 Nitrogen 6     19F  \n",
       "3032     Carbon beta                 Nitrogen 7     20R  \n",
       "3903    Carbon delta                 Nitrogen 1     21P  "
      ]
     },
     "execution_count": 3,
     "metadata": {},
     "output_type": "execute_result"
    }
   ],
   "source": [
    "# Define the path to the CSV file\n",
    "csv_file_path = \"../../Jazzer_surf/3d_predictions/chimeras/test/interactions_all_files.csv\"\n",
    "\n",
    "# Read the CSV file into a DataFrame\n",
    "df = pd.read_csv(csv_file_path)\n",
    "\n",
    "df = df.loc[df.groupby(['file', 'chain', 'resi', 'resn', 'interacting_chain', 'interacting_resn'])['distance (angstroms)'].idxmin()]\n",
    "\n",
    "# combine the \"resi\" and \"residue_one_letter\" into a new column called \"residue\"\n",
    "df['residue'] = df['resi'].astype(str) + df['residue_one_letter']\n",
    "\n",
    "df.head()"
   ]
  },
  {
   "cell_type": "code",
   "execution_count": 4,
   "metadata": {},
   "outputs": [
    {
     "data": {
      "text/plain": [
       "array(['18R', '19F', '20R', '21P', '61P', '93Q', '94T', '95S', '96S',\n",
       "       '97G', '98K', '99T', '100H', '101T', '205N', '208S', '209S',\n",
       "       '238D', '239L', '240A', '241G'], dtype=object)"
      ]
     },
     "execution_count": 4,
     "metadata": {},
     "output_type": "execute_result"
    }
   ],
   "source": [
    "#df loc of chain A with chain C and file a_atp_mg\n",
    "df = df[(df['chain'] == 'A') & (df['interacting_chain'] == 'C') & (df['file'] == 'a_atp_mg')]\n",
    "\n",
    "df['residue'].values"
   ]
  },
  {
   "cell_type": "code",
   "execution_count": 7,
   "metadata": {},
   "outputs": [
    {
     "data": {
      "text/html": [
       "<style>\n",
       "        .bk-notebook-logo {\n",
       "            display: block;\n",
       "            width: 20px;\n",
       "            height: 20px;\n",
       "            background-image: url(data:image/png;base64,iVBORw0KGgoAAAANSUhEUgAAABQAAAAUCAYAAACNiR0NAAAABHNCSVQICAgIfAhkiAAAAAlwSFlzAAALEgAACxIB0t1+/AAAABx0RVh0U29mdHdhcmUAQWRvYmUgRmlyZXdvcmtzIENTNui8sowAAAOkSURBVDiNjZRtaJVlGMd/1/08zzln5zjP1LWcU9N0NkN8m2CYjpgQYQXqSs0I84OLIC0hkEKoPtiH3gmKoiJDU7QpLgoLjLIQCpEsNJ1vqUOdO7ppbuec5+V+rj4ctwzd8IIbbi6u+8f1539dt3A78eXC7QizUF7gyV1fD1Yqg4JWz84yffhm0qkFqBogB9rM8tZdtwVsPUhWhGcFJngGeWrPzHm5oaMmkfEg1usvLFyc8jLRqDOMru7AyC8saQr7GG7f5fvDeH7Ej8CM66nIF+8yngt6HWaKh7k49Soy9nXurCi1o3qUbS3zWfrYeQDTB/Qj6kX6Ybhw4B+bOYoLKCC9H3Nu/leUTZ1JdRWkkn2ldcCamzrcf47KKXdAJllSlxAOkRgyHsGC/zRday5Qld9DyoM4/q/rUoy/CXh3jzOu3bHUVZeU+DEn8FInkPBFlu3+nW3Nw0mk6vCDiWg8CeJaxEwuHS3+z5RgY+YBR6V1Z1nxSOfoaPa4LASWxxdNp+VWTk7+4vzaou8v8PN+xo+KY2xsw6une2frhw05CTYOmQvsEhjhWjn0bmXPjpE1+kplmmkP3suftwTubK9Vq22qKmrBhpY4jvd5afdRA3wGjFAgcnTK2s4hY0/GPNIb0nErGMCRxWOOX64Z8RAC4oCXdklmEvcL8o0BfkNK4lUg9HTl+oPlQxdNo3Mg4Nv175e/1LDGzZen30MEjRUtmXSfiTVu1kK8W4txyV6BMKlbgk3lMwYCiusNy9fVfvvwMxv8Ynl6vxoByANLTWplvuj/nF9m2+PDtt1eiHPBr1oIfhCChQMBw6Aw0UulqTKZdfVvfG7VcfIqLG9bcldL/+pdWTLxLUy8Qq38heUIjh4XlzZxzQm19lLFlr8vdQ97rjZVOLf8nclzckbcD4wxXMidpX30sFd37Fv/GtwwhzhxGVAprjbg0gCAEeIgwCZyTV2Z1REEW8O4py0wsjeloKoMr6iCY6dP92H6Vw/oTyICIthibxjm/DfN9lVz8IqtqKYLUXfoKVMVQVVJOElGjrnnUt9T9wbgp8AyYKaGlqingHZU/uG2NTZSVqwHQTWkx9hxjkpWDaCg6Ckj5qebgBVbT3V3NNXMSiWSDdGV3hrtzla7J+duwPOToIg42ChPQOQjspnSlp1V+Gjdged7+8UN5CRAV7a5EdFNwCjEaBR27b3W890TE7g24NAP/mMDXRWrGoFPQI9ls/MWO2dWFAar/xcOIImbbpA3zgAAAABJRU5ErkJggg==);\n",
       "        }\n",
       "    </style>\n",
       "    <div>\n",
       "        <a href=\"https://bokeh.org\" target=\"_blank\" class=\"bk-notebook-logo\"></a>\n",
       "        <span id=\"a6fa45df-ea33-4bb3-adbd-f558c9a94cc9\">Loading BokehJS ...</span>\n",
       "    </div>\n"
      ]
     },
     "metadata": {},
     "output_type": "display_data"
    },
    {
     "data": {
      "application/javascript": "(function(root) {\n  function now() {\n    return new Date();\n  }\n\n  const force = true;\n\n  if (typeof root._bokeh_onload_callbacks === \"undefined\" || force === true) {\n    root._bokeh_onload_callbacks = [];\n    root._bokeh_is_loading = undefined;\n  }\n\nconst JS_MIME_TYPE = 'application/javascript';\n  const HTML_MIME_TYPE = 'text/html';\n  const EXEC_MIME_TYPE = 'application/vnd.bokehjs_exec.v0+json';\n  const CLASS_NAME = 'output_bokeh rendered_html';\n\n  /**\n   * Render data to the DOM node\n   */\n  function render(props, node) {\n    const script = document.createElement(\"script\");\n    node.appendChild(script);\n  }\n\n  /**\n   * Handle when an output is cleared or removed\n   */\n  function handleClearOutput(event, handle) {\n    const cell = handle.cell;\n\n    const id = cell.output_area._bokeh_element_id;\n    const server_id = cell.output_area._bokeh_server_id;\n    // Clean up Bokeh references\n    if (id != null && id in Bokeh.index) {\n      Bokeh.index[id].model.document.clear();\n      delete Bokeh.index[id];\n    }\n\n    if (server_id !== undefined) {\n      // Clean up Bokeh references\n      const cmd_clean = \"from bokeh.io.state import curstate; print(curstate().uuid_to_server['\" + server_id + \"'].get_sessions()[0].document.roots[0]._id)\";\n      cell.notebook.kernel.execute(cmd_clean, {\n        iopub: {\n          output: function(msg) {\n            const id = msg.content.text.trim();\n            if (id in Bokeh.index) {\n              Bokeh.index[id].model.document.clear();\n              delete Bokeh.index[id];\n            }\n          }\n        }\n      });\n      // Destroy server and session\n      const cmd_destroy = \"import bokeh.io.notebook as ion; ion.destroy_server('\" + server_id + \"')\";\n      cell.notebook.kernel.execute(cmd_destroy);\n    }\n  }\n\n  /**\n   * Handle when a new output is added\n   */\n  function handleAddOutput(event, handle) {\n    const output_area = handle.output_area;\n    const output = handle.output;\n\n    // limit handleAddOutput to display_data with EXEC_MIME_TYPE content only\n    if ((output.output_type != \"display_data\") || (!Object.prototype.hasOwnProperty.call(output.data, EXEC_MIME_TYPE))) {\n      return\n    }\n\n    const toinsert = output_area.element.find(\".\" + CLASS_NAME.split(' ')[0]);\n\n    if (output.metadata[EXEC_MIME_TYPE][\"id\"] !== undefined) {\n      toinsert[toinsert.length - 1].firstChild.textContent = output.data[JS_MIME_TYPE];\n      // store reference to embed id on output_area\n      output_area._bokeh_element_id = output.metadata[EXEC_MIME_TYPE][\"id\"];\n    }\n    if (output.metadata[EXEC_MIME_TYPE][\"server_id\"] !== undefined) {\n      const bk_div = document.createElement(\"div\");\n      bk_div.innerHTML = output.data[HTML_MIME_TYPE];\n      const script_attrs = bk_div.children[0].attributes;\n      for (let i = 0; i < script_attrs.length; i++) {\n        toinsert[toinsert.length - 1].firstChild.setAttribute(script_attrs[i].name, script_attrs[i].value);\n        toinsert[toinsert.length - 1].firstChild.textContent = bk_div.children[0].textContent\n      }\n      // store reference to server id on output_area\n      output_area._bokeh_server_id = output.metadata[EXEC_MIME_TYPE][\"server_id\"];\n    }\n  }\n\n  function register_renderer(events, OutputArea) {\n\n    function append_mime(data, metadata, element) {\n      // create a DOM node to render to\n      const toinsert = this.create_output_subarea(\n        metadata,\n        CLASS_NAME,\n        EXEC_MIME_TYPE\n      );\n      this.keyboard_manager.register_events(toinsert);\n      // Render to node\n      const props = {data: data, metadata: metadata[EXEC_MIME_TYPE]};\n      render(props, toinsert[toinsert.length - 1]);\n      element.append(toinsert);\n      return toinsert\n    }\n\n    /* Handle when an output is cleared or removed */\n    events.on('clear_output.CodeCell', handleClearOutput);\n    events.on('delete.Cell', handleClearOutput);\n\n    /* Handle when a new output is added */\n    events.on('output_added.OutputArea', handleAddOutput);\n\n    /**\n     * Register the mime type and append_mime function with output_area\n     */\n    OutputArea.prototype.register_mime_type(EXEC_MIME_TYPE, append_mime, {\n      /* Is output safe? */\n      safe: true,\n      /* Index of renderer in `output_area.display_order` */\n      index: 0\n    });\n  }\n\n  // register the mime type if in Jupyter Notebook environment and previously unregistered\n  if (root.Jupyter !== undefined) {\n    const events = require('base/js/events');\n    const OutputArea = require('notebook/js/outputarea').OutputArea;\n\n    if (OutputArea.prototype.mime_types().indexOf(EXEC_MIME_TYPE) == -1) {\n      register_renderer(events, OutputArea);\n    }\n  }\n  if (typeof (root._bokeh_timeout) === \"undefined\" || force === true) {\n    root._bokeh_timeout = Date.now() + 5000;\n    root._bokeh_failed_load = false;\n  }\n\n  const NB_LOAD_WARNING = {'data': {'text/html':\n     \"<div style='background-color: #fdd'>\\n\"+\n     \"<p>\\n\"+\n     \"BokehJS does not appear to have successfully loaded. If loading BokehJS from CDN, this \\n\"+\n     \"may be due to a slow or bad network connection. Possible fixes:\\n\"+\n     \"</p>\\n\"+\n     \"<ul>\\n\"+\n     \"<li>re-rerun `output_notebook()` to attempt to load from CDN again, or</li>\\n\"+\n     \"<li>use INLINE resources instead, as so:</li>\\n\"+\n     \"</ul>\\n\"+\n     \"<code>\\n\"+\n     \"from bokeh.resources import INLINE\\n\"+\n     \"output_notebook(resources=INLINE)\\n\"+\n     \"</code>\\n\"+\n     \"</div>\"}};\n\n  function display_loaded() {\n    const el = document.getElementById(\"a6fa45df-ea33-4bb3-adbd-f558c9a94cc9\");\n    if (el != null) {\n      el.textContent = \"BokehJS is loading...\";\n    }\n    if (root.Bokeh !== undefined) {\n      if (el != null) {\n        el.textContent = \"BokehJS \" + root.Bokeh.version + \" successfully loaded.\";\n      }\n    } else if (Date.now() < root._bokeh_timeout) {\n      setTimeout(display_loaded, 100)\n    }\n  }\n\n  function run_callbacks() {\n    try {\n      root._bokeh_onload_callbacks.forEach(function(callback) {\n        if (callback != null)\n          callback();\n      });\n    } finally {\n      delete root._bokeh_onload_callbacks\n    }\n    console.debug(\"Bokeh: all callbacks have finished\");\n  }\n\n  function load_libs(css_urls, js_urls, callback) {\n    if (css_urls == null) css_urls = [];\n    if (js_urls == null) js_urls = [];\n\n    root._bokeh_onload_callbacks.push(callback);\n    if (root._bokeh_is_loading > 0) {\n      console.debug(\"Bokeh: BokehJS is being loaded, scheduling callback at\", now());\n      return null;\n    }\n    if (js_urls == null || js_urls.length === 0) {\n      run_callbacks();\n      return null;\n    }\n    console.debug(\"Bokeh: BokehJS not loaded, scheduling load and callback at\", now());\n    root._bokeh_is_loading = css_urls.length + js_urls.length;\n\n    function on_load() {\n      root._bokeh_is_loading--;\n      if (root._bokeh_is_loading === 0) {\n        console.debug(\"Bokeh: all BokehJS libraries/stylesheets loaded\");\n        run_callbacks()\n      }\n    }\n\n    function on_error(url) {\n      console.error(\"failed to load \" + url);\n    }\n\n    for (let i = 0; i < css_urls.length; i++) {\n      const url = css_urls[i];\n      const element = document.createElement(\"link\");\n      element.onload = on_load;\n      element.onerror = on_error.bind(null, url);\n      element.rel = \"stylesheet\";\n      element.type = \"text/css\";\n      element.href = url;\n      console.debug(\"Bokeh: injecting link tag for BokehJS stylesheet: \", url);\n      document.body.appendChild(element);\n    }\n\n    for (let i = 0; i < js_urls.length; i++) {\n      const url = js_urls[i];\n      const element = document.createElement('script');\n      element.onload = on_load;\n      element.onerror = on_error.bind(null, url);\n      element.async = false;\n      element.src = url;\n      console.debug(\"Bokeh: injecting script tag for BokehJS library: \", url);\n      document.head.appendChild(element);\n    }\n  };\n\n  function inject_raw_css(css) {\n    const element = document.createElement(\"style\");\n    element.appendChild(document.createTextNode(css));\n    document.body.appendChild(element);\n  }\n\n  const js_urls = [\"https://cdn.bokeh.org/bokeh/release/bokeh-3.2.1.min.js\", \"https://cdn.bokeh.org/bokeh/release/bokeh-gl-3.2.1.min.js\", \"https://cdn.bokeh.org/bokeh/release/bokeh-widgets-3.2.1.min.js\", \"https://cdn.bokeh.org/bokeh/release/bokeh-tables-3.2.1.min.js\", \"https://cdn.bokeh.org/bokeh/release/bokeh-mathjax-3.2.1.min.js\"];\n  const css_urls = [];\n\n  const inline_js = [    function(Bokeh) {\n      Bokeh.set_log_level(\"info\");\n    },\nfunction(Bokeh) {\n    }\n  ];\n\n  function run_inline_js() {\n    if (root.Bokeh !== undefined || force === true) {\n          for (let i = 0; i < inline_js.length; i++) {\n      inline_js[i].call(root, root.Bokeh);\n    }\nif (force === true) {\n        display_loaded();\n      }} else if (Date.now() < root._bokeh_timeout) {\n      setTimeout(run_inline_js, 100);\n    } else if (!root._bokeh_failed_load) {\n      console.log(\"Bokeh: BokehJS failed to load within specified timeout.\");\n      root._bokeh_failed_load = true;\n    } else if (force !== true) {\n      const cell = $(document.getElementById(\"a6fa45df-ea33-4bb3-adbd-f558c9a94cc9\")).parents('.cell').data().cell;\n      cell.output_area.append_execute_result(NB_LOAD_WARNING)\n    }\n  }\n\n  if (root._bokeh_is_loading === 0) {\n    console.debug(\"Bokeh: BokehJS loaded, going straight to plotting\");\n    run_inline_js();\n  } else {\n    load_libs(css_urls, js_urls, function() {\n      console.debug(\"Bokeh: BokehJS plotting callback run at\", now());\n      run_inline_js();\n    });\n  }\n}(window));",
      "application/vnd.bokehjs_load.v0+json": ""
     },
     "metadata": {},
     "output_type": "display_data"
    },
    {
     "name": "stderr",
     "output_type": "stream",
     "text": [
      "BokehDeprecationWarning: CDSView.source is no longer needed, and is now ignored. In a future release, passing source will result an error.\n",
      "BokehDeprecationWarning: CDSView.filters was deprecated in bokeh 3.0. Use CDSView.filter instead.\n",
      "BokehDeprecationWarning: CDSView.source is no longer needed, and is now ignored. In a future release, passing source will result an error.\n",
      "BokehDeprecationWarning: CDSView.filters was deprecated in bokeh 3.0. Use CDSView.filter instead.\n",
      "BokehDeprecationWarning: CDSView.source is no longer needed, and is now ignored. In a future release, passing source will result an error.\n",
      "BokehDeprecationWarning: CDSView.filters was deprecated in bokeh 3.0. Use CDSView.filter instead.\n",
      "BokehDeprecationWarning: CDSView.source is no longer needed, and is now ignored. In a future release, passing source will result an error.\n",
      "BokehDeprecationWarning: CDSView.filters was deprecated in bokeh 3.0. Use CDSView.filter instead.\n"
     ]
    },
    {
     "data": {
      "text/html": [
       "\n",
       "  <div id=\"c848c711-02dc-40ea-a564-ac2a91c57eca\" data-root-id=\"p1207\" style=\"display: contents;\"></div>\n"
      ]
     },
     "metadata": {},
     "output_type": "display_data"
    },
    {
     "data": {
      "application/javascript": "(function(root) {\n  function embed_document(root) {\n  const docs_json = {\"30794e5e-ce6b-4d72-b526-24155b8bdb3c\":{\"version\":\"3.2.1\",\"title\":\"Bokeh Application\",\"roots\":[{\"type\":\"object\",\"name\":\"Figure\",\"id\":\"p1207\",\"attributes\":{\"width\":900,\"x_range\":{\"type\":\"object\",\"name\":\"Range1d\",\"id\":\"p1217\",\"attributes\":{\"end\":401}},\"y_range\":{\"type\":\"object\",\"name\":\"Range1d\",\"id\":\"p1218\",\"attributes\":{\"end\":5.25}},\"x_scale\":{\"type\":\"object\",\"name\":\"LinearScale\",\"id\":\"p1219\"},\"y_scale\":{\"type\":\"object\",\"name\":\"LinearScale\",\"id\":\"p1220\"},\"title\":{\"type\":\"object\",\"name\":\"Title\",\"id\":\"p1210\",\"attributes\":{\"text\":\"Distance between MG and ATP/ADP atoms by amino acid position\"}},\"renderers\":[{\"type\":\"object\",\"name\":\"GlyphRenderer\",\"id\":\"p1247\",\"attributes\":{\"data_source\":{\"type\":\"object\",\"name\":\"ColumnDataSource\",\"id\":\"p1203\",\"attributes\":{\"selected\":{\"type\":\"object\",\"name\":\"Selection\",\"id\":\"p1204\",\"attributes\":{\"indices\":[],\"line_indices\":[]}},\"selection_policy\":{\"type\":\"object\",\"name\":\"UnionRenderers\",\"id\":\"p1205\"},\"data\":{\"type\":\"map\",\"entries\":[[\"index\",{\"type\":\"ndarray\",\"array\":{\"type\":\"bytes\",\"data\":\"5Q0AAH8LAADwBgAAiQ0AAP8HAACJEAAAKgoAABIXAAB9BQAASgMAAIIMAADfAgAALREAAKEJAACYFAAAjgQAAI0RAADTAQAAxA0AAJEKAAAiDgAAtgoAACAPAAB1BQAAbA4AADgHAABrDAAA4QAAADoMAACbBAAAHwoAAK0DAABWBQAArwkAAPEDAABwEQAAWgIAANwVAAChDAAAQAEAAAELAAC3CAAAvxMAAPwGAABUCQAAdBAAAB0JAAD+EwAAQwIAALUPAABoAgAAcw4AAPQCAAAEFAAA/gQAACwWAADRBwAA2gUAAK0AAADnBQAAbAAAADsCAAB6BQAAmAUAALUIAABsAwAAPQcAAB0KAAAEAQAArgEAALMKAAA/CAAAnAAAANMCAAAxCAAAmgYAAJoBAACyBwAAjAEAAA8KAACTBAAAVBQAAMAIAAAeBAAAhxYAAO8GAABIDQAAnAkAAP0OAABODAAAxQIAAOsSAAC5DwAAuwAAAIABAADZEwAA8xEAAL8BAABeEQAAkhYAAHYAAACsFQAAfAAAACcQAADhAQAAGwEAAFgNAAAIAQAAQAAAAKUMAABTEQAAAgYAADASAAC1AAAA\"},\"shape\":[114],\"dtype\":\"int32\",\"order\":\"little\"}],[\"file\",{\"type\":\"ndarray\",\"array\":[\"a_atp\",\"a_atp\",\"a_atp_mg_tub\",\"a_atp\",\"a_atp_mg_tub\",\"a_atp_mg\",\"a_atp_mg_tub\",\"a_atp_mg\",\"a_atp_mg_tub\",\"a_atp_mg_tub\",\"a_atp\",\"a_atp_mg_tub\",\"a_atp_mg\",\"a_atp_mg_tub\",\"a_atp_mg\",\"a_atp_mg_tub\",\"a_atp_mg\",\"a_atp_mg_tub\",\"a_atp\",\"a_atp_mg_tub\",\"a_atp\",\"a_atp_mg_tub\",\"a_atp\",\"a_atp_mg_tub\",\"a_atp\",\"a_atp_mg_tub\",\"a_atp\",\"a_atp_mg_tub\",\"a_atp\",\"a_atp_mg_tub\",\"a_atp_mg_tub\",\"a_atp_mg_tub\",\"a_atp_mg_tub\",\"a_atp_mg_tub\",\"a_atp_mg_tub\",\"a_atp_mg\",\"a_atp_mg_tub\",\"a_atp_mg\",\"a_atp\",\"a_atp_mg_tub\",\"a_atp_mg_tub\",\"a_atp_mg_tub\",\"a_atp_mg\",\"a_atp_mg_tub\",\"a_atp_mg_tub\",\"a_atp_mg\",\"a_atp_mg_tub\",\"a_atp_mg\",\"a_atp_mg_tub\",\"a_atp\",\"a_atp_mg_tub\",\"a_atp\",\"a_atp_mg_tub\",\"a_atp_mg\",\"a_atp_mg_tub\",\"a_atp_mg\",\"a_atp_mg_tub\",\"a_atp_mg_tub\",\"a_atp_mg_tub\",\"a_atp_mg_tub\",\"a_atp_mg_tub\",\"a_atp_mg_tub\",\"a_atp_mg_tub\",\"a_atp_mg_tub\",\"a_atp_mg_tub\",\"a_atp_mg_tub\",\"a_atp_mg_tub\",\"a_atp_mg_tub\",\"a_atp_mg_tub\",\"a_atp_mg_tub\",\"a_atp_mg_tub\",\"a_atp_mg_tub\",\"a_atp_mg_tub\",\"a_atp_mg_tub\",\"a_atp_mg_tub\",\"a_atp_mg_tub\",\"a_atp_mg_tub\",\"a_atp_mg_tub\",\"a_atp_mg_tub\",\"a_atp_mg_tub\",\"a_atp_mg_tub\",\"a_atp_mg\",\"a_atp_mg_tub\",\"a_atp_mg_tub\",\"a_atp_mg\",\"a_atp_mg_tub\",\"a_atp\",\"a_atp_mg_tub\",\"a_atp\",\"a_atp\",\"a_atp_mg_tub\",\"a_atp_mg\",\"a_atp\",\"a_atp_mg_tub\",\"a_atp_mg_tub\",\"a_atp_mg\",\"a_atp_mg\",\"a_atp_mg_tub\",\"a_atp_mg\",\"a_atp_mg\",\"a_atp_mg_tub\",\"a_atp_mg\",\"a_atp_mg_tub\",\"a_atp\",\"a_atp_mg_tub\",\"a_atp_mg_tub\",\"a_atp\",\"a_atp_mg_tub\",\"a_atp_mg_tub\",\"a_atp\",\"a_atp_mg\",\"a_atp_mg_tub\",\"a_atp_mg\",\"a_atp_mg_tub\"],\"shape\":[114],\"dtype\":\"object\",\"order\":\"little\"}],[\"chain\",{\"type\":\"ndarray\",\"array\":[\"A\",\"A\",\"A\",\"A\",\"A\",\"A\",\"A\",\"A\",\"A\",\"A\",\"A\",\"A\",\"A\",\"A\",\"A\",\"A\",\"A\",\"A\",\"A\",\"A\",\"A\",\"A\",\"A\",\"A\",\"A\",\"A\",\"A\",\"A\",\"A\",\"A\",\"A\",\"A\",\"A\",\"A\",\"A\",\"A\",\"A\",\"A\",\"A\",\"A\",\"A\",\"A\",\"A\",\"A\",\"A\",\"A\",\"A\",\"A\",\"A\",\"A\",\"A\",\"A\",\"A\",\"A\",\"A\",\"A\",\"A\",\"A\",\"A\",\"A\",\"A\",\"A\",\"A\",\"A\",\"A\",\"A\",\"A\",\"A\",\"A\",\"A\",\"A\",\"A\",\"A\",\"A\",\"A\",\"A\",\"A\",\"A\",\"A\",\"A\",\"A\",\"A\",\"A\",\"A\",\"A\",\"A\",\"A\",\"A\",\"A\",\"A\",\"A\",\"A\",\"A\",\"A\",\"A\",\"A\",\"A\",\"A\",\"A\",\"A\",\"A\",\"A\",\"A\",\"A\",\"A\",\"A\",\"A\",\"A\",\"A\",\"A\",\"A\",\"A\",\"A\",\"A\"],\"shape\":[114],\"dtype\":\"object\",\"order\":\"little\"}],[\"resi\",{\"type\":\"ndarray\",\"array\":{\"type\":\"bytes\",\"data\":\"BQAAABIAAAASAAAAEwAAABMAAAAUAAAAFAAAABUAAAAVAAAAMwAAAD0AAAA9AAAAXQAAAF0AAABeAAAAXgAAAF8AAABfAAAAYAAAAGAAAABhAAAAYQAAAGIAAABiAAAAYwAAAGMAAABkAAAAZAAAAGUAAACUAAAAnwAAAKIAAACjAAAApAAAAKUAAACmAAAApgAAAKcAAACoAAAAqAAAAKsAAACtAAAAzQAAAM0AAADPAAAA0AAAANAAAADRAAAA0QAAAO4AAADuAAAA7wAAAO8AAADwAAAA8AAAAPEAAADxAAAA8gAAAPMAAAD0AAAA9QAAAPYAAAD5AAAA+gAAAPsAAAD/AAAAAwEAAAYBAAAHAQAACgEAAA4BAAAYAQAAGQEAABoBAAAbAQAAHgEAAB8BAAAkAQAAPgEAAD8BAABJAQAAVwEAAFgBAABZAQAAWgEAAFwBAABdAQAAXwEAAGABAABhAQAAYwEAAGQBAABlAQAAZgEAAGcBAABqAQAAawEAAG0BAABuAQAAcQEAAHIBAAB0AQAAdQEAAHYBAAB4AQAAeQEAAIMBAACEAQAAhQEAAIYBAACJAQAAigEAAI0BAACQAQAA\"},\"shape\":[114],\"dtype\":\"int32\",\"order\":\"little\"}],[\"resn\",{\"type\":\"ndarray\",\"array\":[\"ARG\",\"ARG\",\"ARG\",\"PHE\",\"PHE\",\"ARG\",\"ARG\",\"PRO\",\"PRO\",\"LYS\",\"PRO\",\"PRO\",\"GLN\",\"GLN\",\"THR\",\"THR\",\"SER\",\"SER\",\"SER\",\"SER\",\"GLY\",\"GLY\",\"LYS\",\"LYS\",\"THR\",\"THR\",\"HIS\",\"HIS\",\"THR\",\"LYS\",\"ASN\",\"VAL\",\"HIS\",\"GLU\",\"ASP\",\"LYS\",\"LYS\",\"ASN\",\"ARG\",\"ARG\",\"TYR\",\"LYS\",\"ASN\",\"ASN\",\"HIS\",\"SER\",\"SER\",\"SER\",\"SER\",\"ASP\",\"ASP\",\"LEU\",\"LEU\",\"ALA\",\"ALA\",\"GLY\",\"GLY\",\"SER\",\"GLU\",\"LYS\",\"VAL\",\"SER\",\"GLY\",\"ALA\",\"GLU\",\"LEU\",\"LYS\",\"ASN\",\"LYS\",\"SER\",\"ASN\",\"LYS\",\"THR\",\"HIS\",\"ILE\",\"ARG\",\"ASP\",\"ARG\",\"SER\",\"GLU\",\"ARG\",\"LEU\",\"THR\",\"ALA\",\"GLU\",\"TRP\",\"LYS\",\"ARG\",\"TYR\",\"GLU\",\"GLU\",\"LYS\",\"GLU\",\"LYS\",\"ASN\",\"LEU\",\"LYS\",\"LYS\",\"VAL\",\"LEU\",\"GLU\",\"GLU\",\"LEU\",\"ALA\",\"TRP\",\"ARG\",\"GLN\",\"ILE\",\"ASN\",\"MET\",\"LEU\",\"MET\",\"SER\",\"ASN\"],\"shape\":[114],\"dtype\":\"object\",\"order\":\"little\"}],[\"atom_name\",{\"type\":\"ndarray\",\"array\":[\"NH2\",\"NH2\",\"NH2\",\"O\",\"O\",\"CB\",\"CB\",\"CD\",\"CD\",\"CE\",\"O\",\"O\",\"O\",\"O\",\"CG2\",\"OG1\",\"N\",\"N\",\"N\",\"N\",\"N\",\"N\",\"NZ\",\"NZ\",\"N\",\"OG1\",\"N\",\"N\",\"N\",\"NZ\",\"ND2\",\"O\",\"ND1\",\"OE1\",\"C\",\"NZ\",\"N\",\"OD1\",\"NH2\",\"NH2\",\"OH\",\"NZ\",\"O\",\"ND2\",\"O\",\"O\",\"OG\",\"CB\",\"N\",\"OD2\",\"OD1\",\"O\",\"O\",\"C\",\"C\",\"N\",\"N\",\"OG\",\"O\",\"NZ\",\"CG2\",\"N\",\"O\",\"O\",\"CG\",\"CD2\",\"CD\",\"C\",\"N\",\"OG\",\"OD1\",\"CB\",\"O\",\"O\",\"N\",\"NE\",\"OD1\",\"NH1\",\"OG\",\"CG\",\"CG\",\"O\",\"C\",\"O\",\"OE2\",\"CD1\",\"NZ\",\"C\",\"OH\",\"OE2\",\"OE2\",\"CA\",\"OE1\",\"CB\",\"ND2\",\"CD1\",\"CG\",\"NZ\",\"CG1\",\"CD2\",\"OE1\",\"OE2\",\"CD2\",\"N\",\"CZ3\",\"NH2\",\"CB\",\"O\",\"N\",\"CE\",\"CD1\",\"CE\",\"CB\",\"ND2\"],\"shape\":[114],\"dtype\":\"object\",\"order\":\"little\"}],[\"interacting_atom\",{\"type\":\"ndarray\",\"array\":[\"OH\",\"N6\",\"N6\",\"N6\",\"N6\",\"N7\",\"N7\",\"N1\",\"N1\",\"OE1\",\"N6\",\"N6\",\"O2B\",\"O2B\",\"O1G\",\"O3G\",\"O3B\",\"O3B\",\"O2B\",\"O2B\",\"O2B\",\"O2B\",\"O1G\",\"O2G\",\"O1B\",\"O1B\",\"O2A\",\"O2A\",\"O2A\",\"CG\",\"OE1\",\"OE1\",\"OE2\",\"OG\",\"SD\",\"OE2\",\"SD\",\"NZ\",\"OE1\",\"CG2\",\"CE\",\"OE1\",\"O1G\",\"O3B\",\"O1A\",\"O2G\",\"O3G\",\"O1G\",\"O1G\",\"O1B\",\"O1B\",\"O1G\",\"O2G\",\"O3G\",\"O2G\",\"O3G\",\"O2G\",\"OE1\",\"CB\",\"OE2\",\"O\",\"CE1\",\"NZ\",\"NZ\",\"NZ\",\"O\",\"O\",\"CG1\",\"CG1\",\"OE2\",\"CG\",\"OE1\",\"OG\",\"OE1\",\"OE1\",\"OD2\",\"CD\",\"OD2\",\"OE1\",\"OE2\",\"CZ\",\"CB\",\"CB\",\"CD1\",\"NZ\",\"O\",\"OD1\",\"CD2\",\"NH1\",\"O\",\"ND2\",\"OE2\",\"NH2\",\"ND2\",\"OE2\",\"OD1\",\"CD1\",\"OE1\",\"CD1\",\"CD1\",\"NZ\",\"NH2\",\"OE1\",\"CE\",\"O\",\"OE2\",\"NH2\",\"NH2\",\"NH2\",\"NH1\",\"CG1\",\"OE2\",\"NZ\",\"OH\"],\"shape\":[114],\"dtype\":\"object\",\"order\":\"little\"}],[\"interacting_resn\",{\"type\":\"ndarray\",\"array\":[\"TYR\",\"ATP\",\"ATP\",\"ATP\",\"ATP\",\"ATP\",\"ATP\",\"ATP\",\"ATP\",\"GLU\",\"ATP\",\"ATP\",\"ATP\",\"ATP\",\"ATP\",\"ATP\",\"ATP\",\"ATP\",\"ATP\",\"ATP\",\"ATP\",\"ATP\",\"ATP\",\"ATP\",\"ATP\",\"ATP\",\"ATP\",\"ATP\",\"ATP\",\"GLU\",\"GLU\",\"GLU\",\"GLU\",\"SER\",\"MET\",\"GLU\",\"MET\",\"LYS\",\"GLU\",\"THR\",\"MET\",\"GLU\",\"ATP\",\"ATP\",\"ATP\",\"ATP\",\"ATP\",\"ATP\",\"ATP\",\"ATP\",\"ATP\",\"ATP\",\"ATP\",\"ATP\",\"ATP\",\"ATP\",\"ATP\",\"GLU\",\"GLU\",\"GLU\",\"GLY\",\"TYR\",\"LYS\",\"LYS\",\"LYS\",\"TYR\",\"GLY\",\"VAL\",\"VAL\",\"GLU\",\"ARG\",\"GLN\",\"SER\",\"GLN\",\"GLN\",\"ASP\",\"ARG\",\"ASP\",\"GLU\",\"GLU\",\"PHE\",\"ALA\",\"ALA\",\"TRP\",\"LYS\",\"ALA\",\"ASN\",\"TYR\",\"ARG\",\"LYS\",\"ASN\",\"GLU\",\"ARG\",\"ASN\",\"GLU\",\"ASN\",\"LEU\",\"GLU\",\"LEU\",\"LEU\",\"LYS\",\"ARG\",\"GLU\",\"MET\",\"TRP\",\"GLU\",\"ARG\",\"ARG\",\"ARG\",\"ARG\",\"VAL\",\"GLU\",\"LYS\",\"TYR\"],\"shape\":[114],\"dtype\":\"object\",\"order\":\"little\"}],[\"interacting_chain\",{\"type\":\"ndarray\",\"array\":[\"kinesin B\",\"alpha-tubulin\",\"ATP\",\"alpha-tubulin\",\"ATP\",\"alpha-tubulin\",\"ATP\",\"alpha-tubulin\",\"ATP\",\"beta-tubulin\",\"alpha-tubulin\",\"ATP\",\"alpha-tubulin\",\"ATP\",\"alpha-tubulin\",\"ATP\",\"alpha-tubulin\",\"ATP\",\"alpha-tubulin\",\"ATP\",\"alpha-tubulin\",\"ATP\",\"alpha-tubulin\",\"ATP\",\"alpha-tubulin\",\"ATP\",\"alpha-tubulin\",\"ATP\",\"alpha-tubulin\",\"beta-tubulin\",\"beta-tubulin\",\"beta-tubulin\",\"beta-tubulin\",\"beta-tubulin\",\"beta-tubulin\",\"kinesin B\",\"beta-tubulin\",\"kinesin B\",\"kinesin B\",\"beta-tubulin\",\"beta-tubulin\",\"beta-tubulin\",\"alpha-tubulin\",\"ATP\",\"ATP\",\"alpha-tubulin\",\"ATP\",\"alpha-tubulin\",\"ATP\",\"alpha-tubulin\",\"ATP\",\"alpha-tubulin\",\"ATP\",\"alpha-tubulin\",\"ATP\",\"alpha-tubulin\",\"ATP\",\"alpha-tubulin\",\"alpha-tubulin\",\"alpha-tubulin\",\"alpha-tubulin\",\"alpha-tubulin\",\"alpha-tubulin\",\"alpha-tubulin\",\"alpha-tubulin\",\"alpha-tubulin\",\"alpha-tubulin\",\"alpha-tubulin\",\"alpha-tubulin\",\"alpha-tubulin\",\"alpha-tubulin\",\"beta-tubulin\",\"beta-tubulin\",\"beta-tubulin\",\"beta-tubulin\",\"beta-tubulin\",\"beta-tubulin\",\"beta-tubulin\",\"alpha-tubulin\",\"alpha-tubulin\",\"beta-tubulin\",\"kinesin B\",\"kinesin B\",\"kinesin B\",\"kinesin B\",\"kinesin B\",\"kinesin B\",\"kinesin B\",\"kinesin B\",\"kinesin B\",\"kinesin B\",\"kinesin B\",\"kinesin B\",\"kinesin B\",\"kinesin B\",\"kinesin B\",\"kinesin B\",\"kinesin B\",\"kinesin B\",\"kinesin B\",\"kinesin B\",\"kinesin B\",\"kinesin B\",\"kinesin B\",\"kinesin B\",\"kinesin B\",\"kinesin B\",\"kinesin B\",\"kinesin B\",\"kinesin B\",\"kinesin B\",\"kinesin B\",\"kinesin B\",\"kinesin B\"],\"shape\":[114],\"dtype\":\"object\",\"order\":\"little\"}],[\"distance (angstroms)\",{\"type\":\"ndarray\",\"array\":{\"type\":\"bytes\",\"data\":\"AAAAQDQIBkAAAADg31kMQAAAAICs+g1AAAAA4JjKEUAAAABABwUSQAAAAACZQwtAAAAAYEiZC0AAAABgZzULQAEAAAAd4AlAAAAAIK0qE0AAAABArcURQAAAAOCrFxJAAAAAQHq4C0ABAACANOMNQAAAAECMYQhAAAAAwLIAAkAAAABg9jUGQAAAAGAOvQVAAAAAAJjhCUD///9finIKQAAAAMAxYQhAAAAAALJ0CEAAAABg5vQEQAAAAOAZTQVAAAAAQCz8BEAAAABgddwGQAAAAMDEFARAAAAAwBeeB0AAAAAgKtgSQAAAAMBzoAlAAAAAAFmCCEAAAACgyIsJQAAAAKBqCgVAAAAAwEwZCkAAAADAGEoOQAAAAIBUpwNAAAAAgGjzDEABAAAAyc4BQAAAAKB5bxNAAAAAANDPDUAAAABg8IsQQAAAAEA5rhJAAAAAwDPUEUAAAABArRUJQAAAAKAcHBBAAAAAAHuGEEAAAABA8DUIQAAAAOC60wlAAAAAgOrlBkAAAAAgyI8RQAAAAEBhmRJAAQAAYJsAE0AAAADA1dgRQAAAAICi2xJAAAAAwI6YDkAAAAAg9/cPQAEAAECzXAZAAAAAgNDGB0AAAACgZkAQQAAAAECGFAVAAAAAgE5fCUAAAAAg7s0RQAAAACBdaRFAAQAAACKUB0AAAAAAYBAIQAAAAKBtahBAAAAAQHVRCkAAAAAgiYQLQAAAAIC2MgtAAAAAoKh3BEABAACgCvcNQAAAAMCsdQ5AAAAAIPVeDkAAAAAAgfkFQAAAAKBOGhNAAAAAwKo1BEAAAAAAT0UJQAAAACBhOBFAAAAAoOcYDEAAAABAjfIPQAAAAKDv7hNAAAAAwHHYDEAAAABgPBoQQAAAAEArZgpAAQAAYLSGBEAAAAAg43MKQAAAAEBCLwNAAAAAABamDEABAAAg8mgHQAAAAKCjvhJAAAAAQDyOAEAAAADgdaIQQAAAAAD9pBFAAAAAQN4vDEAAAABAYtgBQAAAACCwJghAAQAAgMSYD0AAAADAU4sFQAAAAGAZhgZAAAAAgLwUC0AAAACAEn8FQAAAAKAueQZAAAAAoPvnB0AAAAAA1XcPQAAAACDlUA1AAAAAQCexBUAAAABAz+0KQAEAAOCbegZAAAAAIMOsE0AAAADgsF0KQAAAACCzLgdAAAAAADXgEUAAAAAAuZYTQAAAAGBv3BNA\"},\"shape\":[114],\"dtype\":\"float64\",\"order\":\"little\"}],[\"residue_one_letter\",{\"type\":\"ndarray\",\"array\":[\"R\",\"R\",\"R\",\"F\",\"F\",\"R\",\"R\",\"P\",\"P\",\"K\",\"P\",\"P\",\"Q\",\"Q\",\"T\",\"T\",\"S\",\"S\",\"S\",\"S\",\"G\",\"G\",\"K\",\"K\",\"T\",\"T\",\"H\",\"H\",\"T\",\"K\",\"N\",\"V\",\"H\",\"E\",\"D\",\"K\",\"K\",\"N\",\"R\",\"R\",\"Y\",\"K\",\"N\",\"N\",\"H\",\"S\",\"S\",\"S\",\"S\",\"D\",\"D\",\"L\",\"L\",\"A\",\"A\",\"G\",\"G\",\"S\",\"E\",\"K\",\"V\",\"S\",\"G\",\"A\",\"E\",\"L\",\"K\",\"N\",\"K\",\"S\",\"N\",\"K\",\"T\",\"H\",\"I\",\"R\",\"D\",\"R\",\"S\",\"E\",\"R\",\"L\",\"T\",\"A\",\"E\",\"W\",\"K\",\"R\",\"Y\",\"E\",\"E\",\"K\",\"E\",\"K\",\"N\",\"L\",\"K\",\"K\",\"V\",\"L\",\"E\",\"E\",\"L\",\"A\",\"W\",\"R\",\"Q\",\"I\",\"N\",\"M\",\"L\",\"M\",\"S\",\"N\"],\"shape\":[114],\"dtype\":\"object\",\"order\":\"little\"}],[\"full_atom_name\",{\"type\":\"ndarray\",\"array\":[\"Nitrogen eta 2\",\"Nitrogen eta 2\",\"Nitrogen eta 2\",\"Oxygen\",\"Oxygen\",\"Carbon beta\",\"Carbon beta\",\"Carbon delta\",\"Carbon delta\",\"Carbon epsilon\",\"Oxygen\",\"Oxygen\",\"Oxygen\",\"Oxygen\",\"Carbon gamma 2\",\"Oxygen gamma 1\",\"Nitrogen\",\"Nitrogen\",\"Nitrogen\",\"Nitrogen\",\"Nitrogen\",\"Nitrogen\",\"Nitrogen zeta\",\"Nitrogen zeta\",\"Nitrogen\",\"Oxygen gamma 1\",\"Nitrogen\",\"Nitrogen\",\"Nitrogen\",\"Nitrogen zeta\",\"Nitrogen delta 2\",\"Oxygen\",\"Nitrogen delta 1\",\"Oxygen epsilon 1\",\"Carbon\",\"Nitrogen zeta\",\"Nitrogen\",\"Oxygen delta 1\",\"Nitrogen eta 2\",\"Nitrogen eta 2\",\"Unknown\",\"Nitrogen zeta\",\"Oxygen\",\"Nitrogen delta 2\",\"Oxygen\",\"Oxygen\",\"Oxygen gamma\",\"Carbon beta\",\"Nitrogen\",\"Oxygen delta 2\",\"Oxygen delta 1\",\"Oxygen\",\"Oxygen\",\"Carbon\",\"Carbon\",\"Nitrogen\",\"Nitrogen\",\"Oxygen gamma\",\"Oxygen\",\"Nitrogen zeta\",\"Carbon gamma 2\",\"Nitrogen\",\"Oxygen\",\"Oxygen\",\"Carbon gamma\",\"Carbon delta 2\",\"Carbon delta\",\"Carbon\",\"Nitrogen\",\"Oxygen gamma\",\"Oxygen delta 1\",\"Carbon beta\",\"Oxygen\",\"Oxygen\",\"Nitrogen\",\"Nitrogen epsilon\",\"Oxygen delta 1\",\"Nitrogen eta 1\",\"Oxygen gamma\",\"Carbon gamma\",\"Carbon gamma\",\"Oxygen\",\"Carbon\",\"Oxygen\",\"Oxygen epsilon 2\",\"Carbon delta 1\",\"Nitrogen zeta\",\"Carbon\",\"Unknown\",\"Oxygen epsilon 2\",\"Oxygen epsilon 2\",\"Carbon alpha\",\"Oxygen epsilon 1\",\"Carbon beta\",\"Nitrogen delta 2\",\"Carbon delta 1\",\"Carbon gamma\",\"Nitrogen zeta\",\"Unknown\",\"Carbon delta 2\",\"Oxygen epsilon 1\",\"Oxygen epsilon 2\",\"Carbon delta 2\",\"Nitrogen\",\"Unknown\",\"Nitrogen eta 2\",\"Carbon beta\",\"Oxygen\",\"Nitrogen\",\"Carbon epsilon\",\"Carbon delta 1\",\"Carbon epsilon\",\"Carbon beta\",\"Nitrogen delta 2\"],\"shape\":[114],\"dtype\":\"object\",\"order\":\"little\"}],[\"interacting_full_atom_name\",{\"type\":\"ndarray\",\"array\":[\"Unknown\",\"Nitrogen 6\",\"Nitrogen 6\",\"Nitrogen 6\",\"Nitrogen 6\",\"Nitrogen 7\",\"Nitrogen 7\",\"Nitrogen 1\",\"Nitrogen 1\",\"Oxygen epsilon 1\",\"Nitrogen 6\",\"Nitrogen 6\",\"Oxygen 2 beta\",\"Oxygen 2 beta\",\"Oxygen 1 gamma\",\"Oxygen 3 gamma\",\"Oxygen 3 beta\",\"Oxygen 3 beta\",\"Oxygen 2 beta\",\"Oxygen 2 beta\",\"Oxygen 2 beta\",\"Oxygen 2 beta\",\"Oxygen 1 gamma\",\"Oxygen 2 gamma\",\"Oxygen 1 beta\",\"Oxygen 1 beta\",\"Oxygen 2 alpha\",\"Oxygen 2 alpha\",\"Oxygen 2 alpha\",\"Carbon gamma\",\"Oxygen epsilon 1\",\"Oxygen epsilon 1\",\"Oxygen epsilon 2\",\"Oxygen gamma\",\"Unknown\",\"Oxygen epsilon 2\",\"Unknown\",\"Nitrogen zeta\",\"Oxygen epsilon 1\",\"Carbon gamma 2\",\"Carbon epsilon\",\"Oxygen epsilon 1\",\"Oxygen 1 gamma\",\"Oxygen 3 beta\",\"Oxygen 1 alpha\",\"Oxygen 2 gamma\",\"Oxygen 3 gamma\",\"Oxygen 1 gamma\",\"Oxygen 1 gamma\",\"Oxygen 1 beta\",\"Oxygen 1 beta\",\"Oxygen 1 gamma\",\"Oxygen 2 gamma\",\"Oxygen 3 gamma\",\"Oxygen 2 gamma\",\"Oxygen 3 gamma\",\"Oxygen 2 gamma\",\"Oxygen epsilon 1\",\"Carbon beta\",\"Oxygen epsilon 2\",\"Oxygen\",\"Carbon epsilon 1\",\"Nitrogen zeta\",\"Nitrogen zeta\",\"Nitrogen zeta\",\"Oxygen\",\"Oxygen\",\"Unknown\",\"Unknown\",\"Oxygen epsilon 2\",\"Carbon gamma\",\"Oxygen epsilon 1\",\"Oxygen gamma\",\"Oxygen epsilon 1\",\"Oxygen epsilon 1\",\"Oxygen delta 2\",\"Carbon delta\",\"Oxygen delta 2\",\"Oxygen epsilon 1\",\"Oxygen epsilon 2\",\"Carbon zeta\",\"Carbon beta\",\"Carbon beta\",\"Carbon delta 1\",\"Nitrogen zeta\",\"Oxygen\",\"Oxygen delta 1\",\"Carbon delta 2\",\"Nitrogen eta 1\",\"Oxygen\",\"Nitrogen delta 2\",\"Oxygen epsilon 2\",\"Nitrogen eta 2\",\"Nitrogen delta 2\",\"Oxygen epsilon 2\",\"Oxygen delta 1\",\"Carbon delta 1\",\"Oxygen epsilon 1\",\"Carbon delta 1\",\"Carbon delta 1\",\"Nitrogen zeta\",\"Nitrogen eta 2\",\"Oxygen epsilon 1\",\"Carbon epsilon\",\"Oxygen\",\"Oxygen epsilon 2\",\"Nitrogen eta 2\",\"Nitrogen eta 2\",\"Nitrogen eta 2\",\"Nitrogen eta 1\",\"Unknown\",\"Oxygen epsilon 2\",\"Nitrogen zeta\",\"Unknown\"],\"shape\":[114],\"dtype\":\"object\",\"order\":\"little\"}],[\"residue\",{\"type\":\"ndarray\",\"array\":[\"5R\",\"18R\",\"18R\",\"19F\",\"19F\",\"20R\",\"20R\",\"21P\",\"21P\",\"51K\",\"61P\",\"61P\",\"93Q\",\"93Q\",\"94T\",\"94T\",\"95S\",\"95S\",\"96S\",\"96S\",\"97G\",\"97G\",\"98K\",\"98K\",\"99T\",\"99T\",\"100H\",\"100H\",\"101T\",\"148K\",\"159N\",\"162V\",\"163H\",\"164E\",\"165D\",\"166K\",\"166K\",\"167N\",\"168R\",\"168R\",\"171Y\",\"173K\",\"205N\",\"205N\",\"207H\",\"208S\",\"208S\",\"209S\",\"209S\",\"238D\",\"238D\",\"239L\",\"239L\",\"240A\",\"240A\",\"241G\",\"241G\",\"242S\",\"243E\",\"244K\",\"245V\",\"246S\",\"249G\",\"250A\",\"251E\",\"255L\",\"259K\",\"262N\",\"263K\",\"266S\",\"270N\",\"280K\",\"281T\",\"282H\",\"283I\",\"286R\",\"287D\",\"292R\",\"318S\",\"319E\",\"329R\",\"343L\",\"344T\",\"345A\",\"346E\",\"348W\",\"349K\",\"351R\",\"352Y\",\"353E\",\"355E\",\"356K\",\"357E\",\"358K\",\"359N\",\"362L\",\"363K\",\"365K\",\"366V\",\"369L\",\"370E\",\"372E\",\"373L\",\"374A\",\"376W\",\"377R\",\"387Q\",\"388I\",\"389N\",\"390M\",\"393L\",\"394M\",\"397S\",\"400N\"],\"shape\":[114],\"dtype\":\"object\",\"order\":\"little\"}]]}}},\"view\":{\"type\":\"object\",\"name\":\"CDSView\",\"id\":\"p1239\",\"attributes\":{\"filter\":{\"type\":\"object\",\"name\":\"BooleanFilter\",\"id\":\"p1238\",\"attributes\":{\"booleans\":[true,false,false,false,false,false,false,false,false,false,false,false,false,false,false,false,false,false,false,false,false,false,false,false,false,false,false,false,false,false,false,false,false,false,false,true,false,true,true,false,false,false,false,false,false,false,false,false,false,false,false,false,false,false,false,false,false,false,false,false,false,false,false,false,false,false,false,false,false,false,false,false,false,false,false,false,false,false,false,false,false,true,true,true,true,true,true,true,true,true,true,true,true,true,true,true,true,true,true,true,true,true,true,true,true,true,true,true,true,true,true,true,true,true]}}}},\"glyph\":{\"type\":\"object\",\"name\":\"Scatter\",\"id\":\"p1244\",\"attributes\":{\"x\":{\"type\":\"field\",\"field\":\"resi\"},\"y\":{\"type\":\"field\",\"field\":\"distance (angstroms)\"},\"size\":{\"type\":\"value\",\"value\":10},\"line_color\":{\"type\":\"field\",\"field\":\"interacting_chain\",\"transform\":{\"type\":\"object\",\"name\":\"CategoricalColorMapper\",\"id\":\"p1206\",\"attributes\":{\"palette\":[\"#1f77b4\",\"#ff7f0e\",\"#2ca02c\",\"#d62728\",\"#9467bd\",\"#8c564b\",\"#e377c2\",\"#7f7f7f\",\"#bcbd22\",\"#17becf\"],\"factors\":{\"type\":\"ndarray\",\"array\":[\"kinesin B\",\"alpha-tubulin\",\"ATP\",\"beta-tubulin\"],\"shape\":[4],\"dtype\":\"object\",\"order\":\"little\"}}}},\"line_alpha\":{\"type\":\"value\",\"value\":0.6},\"fill_color\":{\"type\":\"field\",\"field\":\"interacting_chain\",\"transform\":{\"id\":\"p1206\"}},\"fill_alpha\":{\"type\":\"value\",\"value\":0.6},\"hatch_color\":{\"type\":\"field\",\"field\":\"interacting_chain\",\"transform\":{\"id\":\"p1206\"}},\"hatch_alpha\":{\"type\":\"value\",\"value\":0.6}}},\"nonselection_glyph\":{\"type\":\"object\",\"name\":\"Scatter\",\"id\":\"p1245\",\"attributes\":{\"x\":{\"type\":\"field\",\"field\":\"resi\"},\"y\":{\"type\":\"field\",\"field\":\"distance (angstroms)\"},\"size\":{\"type\":\"value\",\"value\":10},\"line_color\":{\"type\":\"field\",\"field\":\"interacting_chain\",\"transform\":{\"id\":\"p1206\"}},\"line_alpha\":{\"type\":\"value\",\"value\":0.1},\"fill_color\":{\"type\":\"field\",\"field\":\"interacting_chain\",\"transform\":{\"id\":\"p1206\"}},\"fill_alpha\":{\"type\":\"value\",\"value\":0.1},\"hatch_color\":{\"type\":\"field\",\"field\":\"interacting_chain\",\"transform\":{\"id\":\"p1206\"}},\"hatch_alpha\":{\"type\":\"value\",\"value\":0.1}}},\"muted_glyph\":{\"type\":\"object\",\"name\":\"Scatter\",\"id\":\"p1246\",\"attributes\":{\"x\":{\"type\":\"field\",\"field\":\"resi\"},\"y\":{\"type\":\"field\",\"field\":\"distance (angstroms)\"},\"size\":{\"type\":\"value\",\"value\":10},\"line_color\":{\"type\":\"field\",\"field\":\"interacting_chain\",\"transform\":{\"id\":\"p1206\"}},\"line_alpha\":{\"type\":\"value\",\"value\":0.2},\"fill_color\":{\"type\":\"field\",\"field\":\"interacting_chain\",\"transform\":{\"id\":\"p1206\"}},\"fill_alpha\":{\"type\":\"value\",\"value\":0.2},\"hatch_color\":{\"type\":\"field\",\"field\":\"interacting_chain\",\"transform\":{\"id\":\"p1206\"}},\"hatch_alpha\":{\"type\":\"value\",\"value\":0.2}}}}},{\"type\":\"object\",\"name\":\"GlyphRenderer\",\"id\":\"p1261\",\"attributes\":{\"data_source\":{\"id\":\"p1203\"},\"view\":{\"type\":\"object\",\"name\":\"CDSView\",\"id\":\"p1253\",\"attributes\":{\"filter\":{\"type\":\"object\",\"name\":\"BooleanFilter\",\"id\":\"p1252\",\"attributes\":{\"booleans\":[false,true,false,true,false,true,false,true,false,false,true,false,true,false,true,false,true,false,true,false,true,false,true,false,true,false,true,false,true,false,false,false,false,false,false,false,false,false,false,false,false,false,true,false,false,true,false,true,false,true,false,true,false,true,false,true,false,true,true,true,true,true,true,true,true,true,true,true,true,true,true,false,false,false,false,false,false,false,true,true,false,false,false,false,false,false,false,false,false,false,false,false,false,false,false,false,false,false,false,false,false,false,false,false,false,false,false,false,false,false,false,false,false,false]}}}},\"glyph\":{\"type\":\"object\",\"name\":\"Scatter\",\"id\":\"p1258\",\"attributes\":{\"x\":{\"type\":\"field\",\"field\":\"resi\"},\"y\":{\"type\":\"field\",\"field\":\"distance (angstroms)\"},\"size\":{\"type\":\"value\",\"value\":10},\"line_color\":{\"type\":\"field\",\"field\":\"interacting_chain\",\"transform\":{\"id\":\"p1206\"}},\"line_alpha\":{\"type\":\"value\",\"value\":0.6},\"fill_color\":{\"type\":\"field\",\"field\":\"interacting_chain\",\"transform\":{\"id\":\"p1206\"}},\"fill_alpha\":{\"type\":\"value\",\"value\":0.6},\"hatch_color\":{\"type\":\"field\",\"field\":\"interacting_chain\",\"transform\":{\"id\":\"p1206\"}},\"hatch_alpha\":{\"type\":\"value\",\"value\":0.6}}},\"nonselection_glyph\":{\"type\":\"object\",\"name\":\"Scatter\",\"id\":\"p1259\",\"attributes\":{\"x\":{\"type\":\"field\",\"field\":\"resi\"},\"y\":{\"type\":\"field\",\"field\":\"distance (angstroms)\"},\"size\":{\"type\":\"value\",\"value\":10},\"line_color\":{\"type\":\"field\",\"field\":\"interacting_chain\",\"transform\":{\"id\":\"p1206\"}},\"line_alpha\":{\"type\":\"value\",\"value\":0.1},\"fill_color\":{\"type\":\"field\",\"field\":\"interacting_chain\",\"transform\":{\"id\":\"p1206\"}},\"fill_alpha\":{\"type\":\"value\",\"value\":0.1},\"hatch_color\":{\"type\":\"field\",\"field\":\"interacting_chain\",\"transform\":{\"id\":\"p1206\"}},\"hatch_alpha\":{\"type\":\"value\",\"value\":0.1}}},\"muted_glyph\":{\"type\":\"object\",\"name\":\"Scatter\",\"id\":\"p1260\",\"attributes\":{\"x\":{\"type\":\"field\",\"field\":\"resi\"},\"y\":{\"type\":\"field\",\"field\":\"distance (angstroms)\"},\"size\":{\"type\":\"value\",\"value\":10},\"line_color\":{\"type\":\"field\",\"field\":\"interacting_chain\",\"transform\":{\"id\":\"p1206\"}},\"line_alpha\":{\"type\":\"value\",\"value\":0.2},\"fill_color\":{\"type\":\"field\",\"field\":\"interacting_chain\",\"transform\":{\"id\":\"p1206\"}},\"fill_alpha\":{\"type\":\"value\",\"value\":0.2},\"hatch_color\":{\"type\":\"field\",\"field\":\"interacting_chain\",\"transform\":{\"id\":\"p1206\"}},\"hatch_alpha\":{\"type\":\"value\",\"value\":0.2}}}}},{\"type\":\"object\",\"name\":\"GlyphRenderer\",\"id\":\"p1274\",\"attributes\":{\"data_source\":{\"id\":\"p1203\"},\"view\":{\"type\":\"object\",\"name\":\"CDSView\",\"id\":\"p1266\",\"attributes\":{\"filter\":{\"type\":\"object\",\"name\":\"BooleanFilter\",\"id\":\"p1265\",\"attributes\":{\"booleans\":[false,false,true,false,true,false,true,false,true,false,false,true,false,true,false,true,false,true,false,true,false,true,false,true,false,true,false,true,false,false,false,false,false,false,false,false,false,false,false,false,false,false,false,true,true,false,true,false,true,false,true,false,true,false,true,false,true,false,false,false,false,false,false,false,false,false,false,false,false,false,false,false,false,false,false,false,false,false,false,false,false,false,false,false,false,false,false,false,false,false,false,false,false,false,false,false,false,false,false,false,false,false,false,false,false,false,false,false,false,false,false,false,false,false]}}}},\"glyph\":{\"type\":\"object\",\"name\":\"Scatter\",\"id\":\"p1271\",\"attributes\":{\"x\":{\"type\":\"field\",\"field\":\"resi\"},\"y\":{\"type\":\"field\",\"field\":\"distance (angstroms)\"},\"size\":{\"type\":\"value\",\"value\":10},\"line_color\":{\"type\":\"field\",\"field\":\"interacting_chain\",\"transform\":{\"id\":\"p1206\"}},\"line_alpha\":{\"type\":\"value\",\"value\":0.6},\"fill_color\":{\"type\":\"field\",\"field\":\"interacting_chain\",\"transform\":{\"id\":\"p1206\"}},\"fill_alpha\":{\"type\":\"value\",\"value\":0.6},\"hatch_color\":{\"type\":\"field\",\"field\":\"interacting_chain\",\"transform\":{\"id\":\"p1206\"}},\"hatch_alpha\":{\"type\":\"value\",\"value\":0.6}}},\"nonselection_glyph\":{\"type\":\"object\",\"name\":\"Scatter\",\"id\":\"p1272\",\"attributes\":{\"x\":{\"type\":\"field\",\"field\":\"resi\"},\"y\":{\"type\":\"field\",\"field\":\"distance (angstroms)\"},\"size\":{\"type\":\"value\",\"value\":10},\"line_color\":{\"type\":\"field\",\"field\":\"interacting_chain\",\"transform\":{\"id\":\"p1206\"}},\"line_alpha\":{\"type\":\"value\",\"value\":0.1},\"fill_color\":{\"type\":\"field\",\"field\":\"interacting_chain\",\"transform\":{\"id\":\"p1206\"}},\"fill_alpha\":{\"type\":\"value\",\"value\":0.1},\"hatch_color\":{\"type\":\"field\",\"field\":\"interacting_chain\",\"transform\":{\"id\":\"p1206\"}},\"hatch_alpha\":{\"type\":\"value\",\"value\":0.1}}},\"muted_glyph\":{\"type\":\"object\",\"name\":\"Scatter\",\"id\":\"p1273\",\"attributes\":{\"x\":{\"type\":\"field\",\"field\":\"resi\"},\"y\":{\"type\":\"field\",\"field\":\"distance (angstroms)\"},\"size\":{\"type\":\"value\",\"value\":10},\"line_color\":{\"type\":\"field\",\"field\":\"interacting_chain\",\"transform\":{\"id\":\"p1206\"}},\"line_alpha\":{\"type\":\"value\",\"value\":0.2},\"fill_color\":{\"type\":\"field\",\"field\":\"interacting_chain\",\"transform\":{\"id\":\"p1206\"}},\"fill_alpha\":{\"type\":\"value\",\"value\":0.2},\"hatch_color\":{\"type\":\"field\",\"field\":\"interacting_chain\",\"transform\":{\"id\":\"p1206\"}},\"hatch_alpha\":{\"type\":\"value\",\"value\":0.2}}}}},{\"type\":\"object\",\"name\":\"GlyphRenderer\",\"id\":\"p1287\",\"attributes\":{\"data_source\":{\"id\":\"p1203\"},\"view\":{\"type\":\"object\",\"name\":\"CDSView\",\"id\":\"p1279\",\"attributes\":{\"filter\":{\"type\":\"object\",\"name\":\"BooleanFilter\",\"id\":\"p1278\",\"attributes\":{\"booleans\":[false,false,false,false,false,false,false,false,false,true,false,false,false,false,false,false,false,false,false,false,false,false,false,false,false,false,false,false,false,true,true,true,true,true,true,false,true,false,false,true,true,true,false,false,false,false,false,false,false,false,false,false,false,false,false,false,false,false,false,false,false,false,false,false,false,false,false,false,false,false,false,true,true,true,true,true,true,true,false,false,true,false,false,false,false,false,false,false,false,false,false,false,false,false,false,false,false,false,false,false,false,false,false,false,false,false,false,false,false,false,false,false,false,false]}}}},\"glyph\":{\"type\":\"object\",\"name\":\"Scatter\",\"id\":\"p1284\",\"attributes\":{\"x\":{\"type\":\"field\",\"field\":\"resi\"},\"y\":{\"type\":\"field\",\"field\":\"distance (angstroms)\"},\"size\":{\"type\":\"value\",\"value\":10},\"line_color\":{\"type\":\"field\",\"field\":\"interacting_chain\",\"transform\":{\"id\":\"p1206\"}},\"line_alpha\":{\"type\":\"value\",\"value\":0.6},\"fill_color\":{\"type\":\"field\",\"field\":\"interacting_chain\",\"transform\":{\"id\":\"p1206\"}},\"fill_alpha\":{\"type\":\"value\",\"value\":0.6},\"hatch_color\":{\"type\":\"field\",\"field\":\"interacting_chain\",\"transform\":{\"id\":\"p1206\"}},\"hatch_alpha\":{\"type\":\"value\",\"value\":0.6}}},\"nonselection_glyph\":{\"type\":\"object\",\"name\":\"Scatter\",\"id\":\"p1285\",\"attributes\":{\"x\":{\"type\":\"field\",\"field\":\"resi\"},\"y\":{\"type\":\"field\",\"field\":\"distance (angstroms)\"},\"size\":{\"type\":\"value\",\"value\":10},\"line_color\":{\"type\":\"field\",\"field\":\"interacting_chain\",\"transform\":{\"id\":\"p1206\"}},\"line_alpha\":{\"type\":\"value\",\"value\":0.1},\"fill_color\":{\"type\":\"field\",\"field\":\"interacting_chain\",\"transform\":{\"id\":\"p1206\"}},\"fill_alpha\":{\"type\":\"value\",\"value\":0.1},\"hatch_color\":{\"type\":\"field\",\"field\":\"interacting_chain\",\"transform\":{\"id\":\"p1206\"}},\"hatch_alpha\":{\"type\":\"value\",\"value\":0.1}}},\"muted_glyph\":{\"type\":\"object\",\"name\":\"Scatter\",\"id\":\"p1286\",\"attributes\":{\"x\":{\"type\":\"field\",\"field\":\"resi\"},\"y\":{\"type\":\"field\",\"field\":\"distance (angstroms)\"},\"size\":{\"type\":\"value\",\"value\":10},\"line_color\":{\"type\":\"field\",\"field\":\"interacting_chain\",\"transform\":{\"id\":\"p1206\"}},\"line_alpha\":{\"type\":\"value\",\"value\":0.2},\"fill_color\":{\"type\":\"field\",\"field\":\"interacting_chain\",\"transform\":{\"id\":\"p1206\"}},\"fill_alpha\":{\"type\":\"value\",\"value\":0.2},\"hatch_color\":{\"type\":\"field\",\"field\":\"interacting_chain\",\"transform\":{\"id\":\"p1206\"}},\"hatch_alpha\":{\"type\":\"value\",\"value\":0.2}}}}},{\"type\":\"object\",\"name\":\"GlyphRenderer\",\"id\":\"p1298\",\"attributes\":{\"data_source\":{\"id\":\"p1203\"},\"view\":{\"type\":\"object\",\"name\":\"CDSView\",\"id\":\"p1299\",\"attributes\":{\"filter\":{\"type\":\"object\",\"name\":\"AllIndices\",\"id\":\"p1300\"}}},\"glyph\":{\"type\":\"object\",\"name\":\"Text\",\"id\":\"p1295\",\"attributes\":{\"x\":{\"type\":\"field\",\"field\":\"resi\"},\"y\":{\"type\":\"field\",\"field\":\"distance (angstroms)\"},\"text\":{\"type\":\"field\",\"field\":\"residue_one_letter\"},\"text_color\":{\"type\":\"value\",\"value\":\"black\"},\"text_font_size\":{\"type\":\"value\",\"value\":\"10pt\"},\"text_align\":{\"type\":\"value\",\"value\":\"center\"},\"text_baseline\":{\"type\":\"value\",\"value\":\"middle\"}}},\"nonselection_glyph\":{\"type\":\"object\",\"name\":\"Text\",\"id\":\"p1296\",\"attributes\":{\"x\":{\"type\":\"field\",\"field\":\"resi\"},\"y\":{\"type\":\"field\",\"field\":\"distance (angstroms)\"},\"text\":{\"type\":\"field\",\"field\":\"residue_one_letter\"},\"text_color\":{\"type\":\"value\",\"value\":\"black\"},\"text_alpha\":{\"type\":\"value\",\"value\":0.1},\"text_font_size\":{\"type\":\"value\",\"value\":\"10pt\"},\"text_align\":{\"type\":\"value\",\"value\":\"center\"},\"text_baseline\":{\"type\":\"value\",\"value\":\"middle\"}}},\"muted_glyph\":{\"type\":\"object\",\"name\":\"Text\",\"id\":\"p1297\",\"attributes\":{\"x\":{\"type\":\"field\",\"field\":\"resi\"},\"y\":{\"type\":\"field\",\"field\":\"distance (angstroms)\"},\"text\":{\"type\":\"field\",\"field\":\"residue_one_letter\"},\"text_color\":{\"type\":\"value\",\"value\":\"black\"},\"text_alpha\":{\"type\":\"value\",\"value\":0.2},\"text_font_size\":{\"type\":\"value\",\"value\":\"10pt\"},\"text_align\":{\"type\":\"value\",\"value\":\"center\"},\"text_baseline\":{\"type\":\"value\",\"value\":\"middle\"}}}}}],\"toolbar\":{\"type\":\"object\",\"name\":\"Toolbar\",\"id\":\"p1216\",\"attributes\":{\"tools\":[{\"type\":\"object\",\"name\":\"PanTool\",\"id\":\"p1231\"},{\"type\":\"object\",\"name\":\"WheelZoomTool\",\"id\":\"p1232\"},{\"type\":\"object\",\"name\":\"BoxZoomTool\",\"id\":\"p1233\",\"attributes\":{\"overlay\":{\"type\":\"object\",\"name\":\"BoxAnnotation\",\"id\":\"p1234\",\"attributes\":{\"syncable\":false,\"level\":\"overlay\",\"visible\":false,\"left_units\":\"canvas\",\"right_units\":\"canvas\",\"bottom_units\":\"canvas\",\"top_units\":\"canvas\",\"line_color\":\"black\",\"line_alpha\":1.0,\"line_width\":2,\"line_dash\":[4,4],\"fill_color\":\"lightgrey\",\"fill_alpha\":0.5}}}},{\"type\":\"object\",\"name\":\"SaveTool\",\"id\":\"p1235\"},{\"type\":\"object\",\"name\":\"ResetTool\",\"id\":\"p1236\"},{\"type\":\"object\",\"name\":\"HelpTool\",\"id\":\"p1237\"},{\"type\":\"object\",\"name\":\"HoverTool\",\"id\":\"p1291\",\"attributes\":{\"renderers\":\"auto\",\"tooltips\":[[\"Resi\",\"@residue\"],[\"Distance\",\"@{distance (angstroms)}{0.2f} \\u00c5\"],[\"Chain\",\"@chain\"],[\"Interacting Chain\",\"@interacting_chain\"],[\"Interacting Resn\",\"@interacting_resn\"],[\"interacting atom\",\"@interacting_full_atom_name\"]]}}]}},\"left\":[{\"type\":\"object\",\"name\":\"LinearAxis\",\"id\":\"p1226\",\"attributes\":{\"ticker\":{\"type\":\"object\",\"name\":\"BasicTicker\",\"id\":\"p1227\",\"attributes\":{\"mantissas\":[1,2,5]}},\"formatter\":{\"type\":\"object\",\"name\":\"BasicTickFormatter\",\"id\":\"p1228\"},\"axis_label\":\"Distance (angstroms)\",\"major_label_policy\":{\"type\":\"object\",\"name\":\"AllLabels\",\"id\":\"p1229\"}}}],\"below\":[{\"type\":\"object\",\"name\":\"LinearAxis\",\"id\":\"p1221\",\"attributes\":{\"ticker\":{\"type\":\"object\",\"name\":\"BasicTicker\",\"id\":\"p1222\",\"attributes\":{\"mantissas\":[1,2,5]}},\"formatter\":{\"type\":\"object\",\"name\":\"BasicTickFormatter\",\"id\":\"p1223\"},\"axis_label\":\"Residue Index\",\"major_label_policy\":{\"type\":\"object\",\"name\":\"AllLabels\",\"id\":\"p1224\"}}}],\"center\":[{\"type\":\"object\",\"name\":\"Grid\",\"id\":\"p1225\",\"attributes\":{\"axis\":{\"id\":\"p1221\"}}},{\"type\":\"object\",\"name\":\"Grid\",\"id\":\"p1230\",\"attributes\":{\"dimension\":1,\"axis\":{\"id\":\"p1226\"}}},{\"type\":\"object\",\"name\":\"Legend\",\"id\":\"p1250\",\"attributes\":{\"location\":\"bottom_right\",\"title\":\"Interacting Chain\",\"click_policy\":\"mute\",\"items\":[{\"type\":\"object\",\"name\":\"LegendItem\",\"id\":\"p1251\",\"attributes\":{\"label\":{\"type\":\"value\",\"value\":\"kinesin B\"},\"renderers\":[{\"id\":\"p1247\"}]}},{\"type\":\"object\",\"name\":\"LegendItem\",\"id\":\"p1264\",\"attributes\":{\"label\":{\"type\":\"value\",\"value\":\"alpha-tubulin\"},\"renderers\":[{\"id\":\"p1261\"}]}},{\"type\":\"object\",\"name\":\"LegendItem\",\"id\":\"p1277\",\"attributes\":{\"label\":{\"type\":\"value\",\"value\":\"ATP\"},\"renderers\":[{\"id\":\"p1274\"}]}},{\"type\":\"object\",\"name\":\"LegendItem\",\"id\":\"p1290\",\"attributes\":{\"label\":{\"type\":\"value\",\"value\":\"beta-tubulin\"},\"renderers\":[{\"id\":\"p1287\"}]}}]}}]}}]}};\n  const render_items = [{\"docid\":\"30794e5e-ce6b-4d72-b526-24155b8bdb3c\",\"roots\":{\"p1207\":\"c848c711-02dc-40ea-a564-ac2a91c57eca\"},\"root_ids\":[\"p1207\"]}];\n  root.Bokeh.embed.embed_items_notebook(docs_json, render_items);\n  }\n  if (root.Bokeh !== undefined) {\n    embed_document(root);\n  } else {\n    let attempts = 0;\n    const timer = setInterval(function(root) {\n      if (root.Bokeh !== undefined) {\n        clearInterval(timer);\n        embed_document(root);\n      } else {\n        attempts++;\n        if (attempts > 100) {\n          clearInterval(timer);\n          console.log(\"Bokeh: ERROR: Unable to run BokehJS code because BokehJS library is missing\");\n        }\n      }\n    }, 10, root)\n  }\n})(window);",
      "application/vnd.bokehjs_exec.v0+json": ""
     },
     "metadata": {
      "application/vnd.bokehjs_exec.v0+json": {
       "id": "p1207"
      }
     },
     "output_type": "display_data"
    }
   ],
   "source": [
    "import pandas as pd\n",
    "from bokeh.plotting import figure, show\n",
    "from bokeh.io import output_notebook\n",
    "from bokeh.models import ColumnDataSource, HoverTool, CDSView, BooleanFilter\n",
    "from bokeh.transform import factor_cmap\n",
    "from bokeh.palettes import Category10, Category20\n",
    "\n",
    "# Enable Bokeh output in the notebook\n",
    "output_notebook()\n",
    "\n",
    "# Define the path to the CSV file\n",
    "csv_file_path = \"../../Jazzer_surf/3d_predictions/chimeras/test/interactions_all_files.csv\"\n",
    "\n",
    "# Read the CSV file into a DataFrame\n",
    "df = pd.read_csv(csv_file_path)\n",
    "\n",
    "# Filter to get the shortest distances for each interaction\n",
    "df = df.loc[df[df['chain'] == 'A'].groupby(['resi', 'interacting_chain'])['distance (angstroms)'].idxmin()]\n",
    "\n",
    "# Exclude interactions with Mg and chain letters A, G, H\n",
    "df = df[(df['interacting_resn'] != 'MG') & (~df['interacting_chain'].isin(['A', 'G', 'H']))]\n",
    "\n",
    "# Map interacting_resn to single-letter codes for better readability\n",
    "aa_dict = {\n",
    "    'ALA': 'A', 'ARG': 'R', 'ASN': 'N', 'ASP': 'D', 'CYS': 'C', 'GLN': 'Q', 'GLU': 'E', 'GLY': 'G',\n",
    "    'HIS': 'H', 'ILE': 'I', 'LEU': 'L', 'LYS': 'K', 'MET': 'M', 'PHE': 'F', 'PRO': 'P', 'SER': 'S',\n",
    "    'THR': 'T', 'TRP': 'W', 'TYR': 'Y', 'VAL': 'V'\n",
    "}\n",
    "df['residue_one_letter'] = df['resn'].map(aa_dict)\n",
    "df['residue'] = df['resi'].astype(str) + df['residue_one_letter']\n",
    "\n",
    "# Replace chain letters with descriptive names\n",
    "chain_map = {\n",
    "    'B': 'kinesin B',\n",
    "    'C': 'alpha-tubulin',\n",
    "    'D': 'beta-tubulin',\n",
    "    'E': 'ATP',\n",
    "    'F': 'ATP'\n",
    "}\n",
    "df['interacting_chain'] = df['interacting_chain'].map(chain_map)\n",
    "\n",
    "# Create a ColumnDataSource\n",
    "source = ColumnDataSource(df)\n",
    "\n",
    "# Create a color map for interacting chains\n",
    "unique_interacting_chains = df['interacting_chain'].unique()\n",
    "palette = Category10[10] if len(unique_interacting_chains) <= 10 else Category20[20]\n",
    "color_map = factor_cmap('interacting_chain', palette=palette, factors=unique_interacting_chains)\n",
    "\n",
    "# Create the figure\n",
    "p = figure(width=900, height=600, title=\"Distance between MG and ATP/ADP atoms by amino acid position\",\n",
    "           x_axis_label=\"Residue Index\", y_axis_label=\"Distance (angstroms)\", x_range=(0, 401), y_range=(0, 5.25))\n",
    "\n",
    "# Add scatter plot with views for each chain\n",
    "for chain in unique_interacting_chains:\n",
    "    bool_filter = BooleanFilter([x == chain for x in df['interacting_chain']])\n",
    "    view = CDSView(source=source, filters=[bool_filter])\n",
    "    scatter = p.scatter(x='resi', y='distance (angstroms)', source=source, size=10, color=color_map, alpha=0.6, legend_label=chain, view=view)\n",
    "\n",
    "# Add hover tool\n",
    "hover = HoverTool()\n",
    "hover.tooltips = [\n",
    "    ('Resi', '@residue'),\n",
    "    ('Distance', '@{distance (angstroms)}{0.2f} Å'),\n",
    "    ('Chain', '@chain'),\n",
    "    ('Interacting Chain', '@interacting_chain'),\n",
    "    ('Interacting Resn', '@interacting_resn'),\n",
    "    ('interacting atom', '@interacting_full_atom_name')\n",
    "]\n",
    "p.add_tools(hover)\n",
    "\n",
    "# Add labels\n",
    "labels = p.text(x='resi', y='distance (angstroms)', text='residue_one_letter', source=source, text_align='center', text_baseline='middle', text_font_size='10pt')\n",
    "\n",
    "# Customize legend\n",
    "p.legend.title = 'Interacting Chain'\n",
    "p.legend.location = 'bottom_right'\n",
    "p.legend.click_policy = 'mute'\n",
    "\n",
    "# Show the plot\n",
    "show(p)\n"
   ]
  },
  {
   "cell_type": "code",
   "execution_count": null,
   "metadata": {},
   "outputs": [],
   "source": []
  },
  {
   "cell_type": "code",
   "execution_count": null,
   "metadata": {},
   "outputs": [],
   "source": [
    "df"
   ]
  },
  {
   "cell_type": "code",
   "execution_count": null,
   "metadata": {},
   "outputs": [],
   "source": []
  }
 ],
 "metadata": {
  "kernelspec": {
   "display_name": "base",
   "language": "python",
   "name": "python3"
  },
  "language_info": {
   "codemirror_mode": {
    "name": "ipython",
    "version": 3
   },
   "file_extension": ".py",
   "mimetype": "text/x-python",
   "name": "python",
   "nbconvert_exporter": "python",
   "pygments_lexer": "ipython3",
   "version": "3.11.5"
  }
 },
 "nbformat": 4,
 "nbformat_minor": 2
}
