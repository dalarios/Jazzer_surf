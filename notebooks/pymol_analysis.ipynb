{
 "cells": [
  {
   "cell_type": "code",
   "execution_count": 27,
   "metadata": {},
   "outputs": [],
   "source": [
    "# Import necessary libraries\n",
    "import pandas as pd\n",
    "import seaborn as sns\n",
    "import matplotlib.pyplot as plt\n",
    "import glob"
   ]
  },
  {
   "cell_type": "code",
   "execution_count": 34,
   "metadata": {},
   "outputs": [
    {
     "data": {
      "text/html": [
       "<div>\n",
       "<style scoped>\n",
       "    .dataframe tbody tr th:only-of-type {\n",
       "        vertical-align: middle;\n",
       "    }\n",
       "\n",
       "    .dataframe tbody tr th {\n",
       "        vertical-align: top;\n",
       "    }\n",
       "\n",
       "    .dataframe thead th {\n",
       "        text-align: right;\n",
       "    }\n",
       "</style>\n",
       "<table border=\"1\" class=\"dataframe\">\n",
       "  <thead>\n",
       "    <tr style=\"text-align: right;\">\n",
       "      <th></th>\n",
       "      <th>file</th>\n",
       "      <th>chain</th>\n",
       "      <th>resi</th>\n",
       "      <th>resn</th>\n",
       "      <th>atom_name</th>\n",
       "      <th>interacting_atom</th>\n",
       "      <th>interacting_resn</th>\n",
       "      <th>interacting_chain</th>\n",
       "      <th>distance (angstroms)</th>\n",
       "      <th>residue_one_letter</th>\n",
       "      <th>full_atom_name</th>\n",
       "      <th>interacting_full_atom_name</th>\n",
       "    </tr>\n",
       "  </thead>\n",
       "  <tbody>\n",
       "    <tr>\n",
       "      <th>2664</th>\n",
       "      <td>a_atp_mg_tub</td>\n",
       "      <td>H</td>\n",
       "      <td>1</td>\n",
       "      <td>MG</td>\n",
       "      <td>MG</td>\n",
       "      <td>PA</td>\n",
       "      <td>ATP</td>\n",
       "      <td>F</td>\n",
       "      <td>4.481044</td>\n",
       "      <td>?</td>\n",
       "      <td>Magnesium</td>\n",
       "      <td>Phosphorus alpha</td>\n",
       "    </tr>\n",
       "    <tr>\n",
       "      <th>486</th>\n",
       "      <td>a_atp_mg_tub</td>\n",
       "      <td>G</td>\n",
       "      <td>1</td>\n",
       "      <td>MG</td>\n",
       "      <td>MG</td>\n",
       "      <td>PA</td>\n",
       "      <td>ATP</td>\n",
       "      <td>E</td>\n",
       "      <td>4.614748</td>\n",
       "      <td>?</td>\n",
       "      <td>Magnesium</td>\n",
       "      <td>Phosphorus alpha</td>\n",
       "    </tr>\n",
       "    <tr>\n",
       "      <th>2615</th>\n",
       "      <td>a_atp_mg_tub</td>\n",
       "      <td>H</td>\n",
       "      <td>1</td>\n",
       "      <td>MG</td>\n",
       "      <td>MG</td>\n",
       "      <td>O1A</td>\n",
       "      <td>ATP</td>\n",
       "      <td>F</td>\n",
       "      <td>4.012681</td>\n",
       "      <td>?</td>\n",
       "      <td>Magnesium</td>\n",
       "      <td>Oxygen 1 alpha</td>\n",
       "    </tr>\n",
       "    <tr>\n",
       "      <th>2222</th>\n",
       "      <td>a_atp_mg_tub</td>\n",
       "      <td>G</td>\n",
       "      <td>1</td>\n",
       "      <td>MG</td>\n",
       "      <td>MG</td>\n",
       "      <td>O1A</td>\n",
       "      <td>ATP</td>\n",
       "      <td>E</td>\n",
       "      <td>4.365795</td>\n",
       "      <td>?</td>\n",
       "      <td>Magnesium</td>\n",
       "      <td>Oxygen 1 alpha</td>\n",
       "    </tr>\n",
       "    <tr>\n",
       "      <th>1954</th>\n",
       "      <td>a_atp_mg_tub</td>\n",
       "      <td>H</td>\n",
       "      <td>1</td>\n",
       "      <td>MG</td>\n",
       "      <td>MG</td>\n",
       "      <td>O2A</td>\n",
       "      <td>ATP</td>\n",
       "      <td>F</td>\n",
       "      <td>4.630960</td>\n",
       "      <td>?</td>\n",
       "      <td>Magnesium</td>\n",
       "      <td>Oxygen 2 alpha</td>\n",
       "    </tr>\n",
       "    <tr>\n",
       "      <th>44</th>\n",
       "      <td>a_atp_mg_tub</td>\n",
       "      <td>G</td>\n",
       "      <td>1</td>\n",
       "      <td>MG</td>\n",
       "      <td>MG</td>\n",
       "      <td>O3A</td>\n",
       "      <td>ATP</td>\n",
       "      <td>E</td>\n",
       "      <td>3.771675</td>\n",
       "      <td>?</td>\n",
       "      <td>Magnesium</td>\n",
       "      <td>Oxygen 3 alpha</td>\n",
       "    </tr>\n",
       "    <tr>\n",
       "      <th>2656</th>\n",
       "      <td>a_atp_mg_tub</td>\n",
       "      <td>H</td>\n",
       "      <td>1</td>\n",
       "      <td>MG</td>\n",
       "      <td>MG</td>\n",
       "      <td>O3A</td>\n",
       "      <td>ATP</td>\n",
       "      <td>F</td>\n",
       "      <td>4.228962</td>\n",
       "      <td>?</td>\n",
       "      <td>Magnesium</td>\n",
       "      <td>Oxygen 3 alpha</td>\n",
       "    </tr>\n",
       "    <tr>\n",
       "      <th>453</th>\n",
       "      <td>a_atp_mg_tub</td>\n",
       "      <td>G</td>\n",
       "      <td>1</td>\n",
       "      <td>MG</td>\n",
       "      <td>MG</td>\n",
       "      <td>PB</td>\n",
       "      <td>ATP</td>\n",
       "      <td>E</td>\n",
       "      <td>3.183059</td>\n",
       "      <td>?</td>\n",
       "      <td>Magnesium</td>\n",
       "      <td>Phosphorus beta</td>\n",
       "    </tr>\n",
       "    <tr>\n",
       "      <th>545</th>\n",
       "      <td>a_atp_mg_tub</td>\n",
       "      <td>H</td>\n",
       "      <td>1</td>\n",
       "      <td>MG</td>\n",
       "      <td>MG</td>\n",
       "      <td>PB</td>\n",
       "      <td>ATP</td>\n",
       "      <td>F</td>\n",
       "      <td>3.211626</td>\n",
       "      <td>?</td>\n",
       "      <td>Magnesium</td>\n",
       "      <td>Phosphorus beta</td>\n",
       "    </tr>\n",
       "    <tr>\n",
       "      <th>2828</th>\n",
       "      <td>a_atp_mg_tub</td>\n",
       "      <td>H</td>\n",
       "      <td>1</td>\n",
       "      <td>MG</td>\n",
       "      <td>MG</td>\n",
       "      <td>O1B</td>\n",
       "      <td>ATP</td>\n",
       "      <td>F</td>\n",
       "      <td>2.011582</td>\n",
       "      <td>?</td>\n",
       "      <td>Magnesium</td>\n",
       "      <td>Oxygen 1 beta</td>\n",
       "    </tr>\n",
       "    <tr>\n",
       "      <th>325</th>\n",
       "      <td>a_atp_mg_tub</td>\n",
       "      <td>G</td>\n",
       "      <td>1</td>\n",
       "      <td>MG</td>\n",
       "      <td>MG</td>\n",
       "      <td>O1B</td>\n",
       "      <td>ATP</td>\n",
       "      <td>E</td>\n",
       "      <td>2.014655</td>\n",
       "      <td>?</td>\n",
       "      <td>Magnesium</td>\n",
       "      <td>Oxygen 1 beta</td>\n",
       "    </tr>\n",
       "    <tr>\n",
       "      <th>1663</th>\n",
       "      <td>a_atp_mg_tub</td>\n",
       "      <td>G</td>\n",
       "      <td>1</td>\n",
       "      <td>MG</td>\n",
       "      <td>MG</td>\n",
       "      <td>O2B</td>\n",
       "      <td>ATP</td>\n",
       "      <td>E</td>\n",
       "      <td>4.460051</td>\n",
       "      <td>?</td>\n",
       "      <td>Magnesium</td>\n",
       "      <td>Oxygen 2 beta</td>\n",
       "    </tr>\n",
       "    <tr>\n",
       "      <th>1680</th>\n",
       "      <td>a_atp_mg_tub</td>\n",
       "      <td>H</td>\n",
       "      <td>1</td>\n",
       "      <td>MG</td>\n",
       "      <td>MG</td>\n",
       "      <td>O2B</td>\n",
       "      <td>ATP</td>\n",
       "      <td>F</td>\n",
       "      <td>4.303453</td>\n",
       "      <td>?</td>\n",
       "      <td>Magnesium</td>\n",
       "      <td>Oxygen 2 beta</td>\n",
       "    </tr>\n",
       "    <tr>\n",
       "      <th>1341</th>\n",
       "      <td>a_atp_mg_tub</td>\n",
       "      <td>G</td>\n",
       "      <td>1</td>\n",
       "      <td>MG</td>\n",
       "      <td>MG</td>\n",
       "      <td>O3B</td>\n",
       "      <td>ATP</td>\n",
       "      <td>E</td>\n",
       "      <td>3.499141</td>\n",
       "      <td>?</td>\n",
       "      <td>Magnesium</td>\n",
       "      <td>Oxygen 3 beta</td>\n",
       "    </tr>\n",
       "    <tr>\n",
       "      <th>204</th>\n",
       "      <td>a_atp_mg_tub</td>\n",
       "      <td>H</td>\n",
       "      <td>1</td>\n",
       "      <td>MG</td>\n",
       "      <td>MG</td>\n",
       "      <td>O3B</td>\n",
       "      <td>ATP</td>\n",
       "      <td>F</td>\n",
       "      <td>3.441022</td>\n",
       "      <td>?</td>\n",
       "      <td>Magnesium</td>\n",
       "      <td>Oxygen 3 beta</td>\n",
       "    </tr>\n",
       "    <tr>\n",
       "      <th>1870</th>\n",
       "      <td>a_atp_mg_tub</td>\n",
       "      <td>H</td>\n",
       "      <td>1</td>\n",
       "      <td>MG</td>\n",
       "      <td>MG</td>\n",
       "      <td>PG</td>\n",
       "      <td>ATP</td>\n",
       "      <td>F</td>\n",
       "      <td>3.215035</td>\n",
       "      <td>?</td>\n",
       "      <td>Magnesium</td>\n",
       "      <td>Phosphorus gamma</td>\n",
       "    </tr>\n",
       "    <tr>\n",
       "      <th>2446</th>\n",
       "      <td>a_atp_mg_tub</td>\n",
       "      <td>G</td>\n",
       "      <td>1</td>\n",
       "      <td>MG</td>\n",
       "      <td>MG</td>\n",
       "      <td>PG</td>\n",
       "      <td>ATP</td>\n",
       "      <td>E</td>\n",
       "      <td>3.215677</td>\n",
       "      <td>?</td>\n",
       "      <td>Magnesium</td>\n",
       "      <td>Phosphorus gamma</td>\n",
       "    </tr>\n",
       "    <tr>\n",
       "      <th>2819</th>\n",
       "      <td>a_atp_mg_tub</td>\n",
       "      <td>G</td>\n",
       "      <td>1</td>\n",
       "      <td>MG</td>\n",
       "      <td>MG</td>\n",
       "      <td>O2G</td>\n",
       "      <td>ATP</td>\n",
       "      <td>E</td>\n",
       "      <td>3.733924</td>\n",
       "      <td>?</td>\n",
       "      <td>Magnesium</td>\n",
       "      <td>Oxygen 2 gamma</td>\n",
       "    </tr>\n",
       "    <tr>\n",
       "      <th>2053</th>\n",
       "      <td>a_atp_mg_tub</td>\n",
       "      <td>H</td>\n",
       "      <td>1</td>\n",
       "      <td>MG</td>\n",
       "      <td>MG</td>\n",
       "      <td>O2G</td>\n",
       "      <td>ATP</td>\n",
       "      <td>F</td>\n",
       "      <td>3.958944</td>\n",
       "      <td>?</td>\n",
       "      <td>Magnesium</td>\n",
       "      <td>Oxygen 2 gamma</td>\n",
       "    </tr>\n",
       "    <tr>\n",
       "      <th>1407</th>\n",
       "      <td>a_atp_mg_tub</td>\n",
       "      <td>H</td>\n",
       "      <td>1</td>\n",
       "      <td>MG</td>\n",
       "      <td>MG</td>\n",
       "      <td>O1G</td>\n",
       "      <td>ATP</td>\n",
       "      <td>F</td>\n",
       "      <td>2.010643</td>\n",
       "      <td>?</td>\n",
       "      <td>Magnesium</td>\n",
       "      <td>Oxygen 1 gamma</td>\n",
       "    </tr>\n",
       "    <tr>\n",
       "      <th>1476</th>\n",
       "      <td>a_atp_mg_tub</td>\n",
       "      <td>G</td>\n",
       "      <td>1</td>\n",
       "      <td>MG</td>\n",
       "      <td>MG</td>\n",
       "      <td>O1G</td>\n",
       "      <td>ATP</td>\n",
       "      <td>E</td>\n",
       "      <td>2.100983</td>\n",
       "      <td>?</td>\n",
       "      <td>Magnesium</td>\n",
       "      <td>Oxygen 1 gamma</td>\n",
       "    </tr>\n",
       "    <tr>\n",
       "      <th>1717</th>\n",
       "      <td>a_atp_mg_tub</td>\n",
       "      <td>G</td>\n",
       "      <td>1</td>\n",
       "      <td>MG</td>\n",
       "      <td>MG</td>\n",
       "      <td>O3G</td>\n",
       "      <td>ATP</td>\n",
       "      <td>E</td>\n",
       "      <td>4.487382</td>\n",
       "      <td>?</td>\n",
       "      <td>Magnesium</td>\n",
       "      <td>Oxygen 3 gamma</td>\n",
       "    </tr>\n",
       "    <tr>\n",
       "      <th>173</th>\n",
       "      <td>a_atp_mg_tub</td>\n",
       "      <td>H</td>\n",
       "      <td>1</td>\n",
       "      <td>MG</td>\n",
       "      <td>MG</td>\n",
       "      <td>O3G</td>\n",
       "      <td>ATP</td>\n",
       "      <td>F</td>\n",
       "      <td>4.386704</td>\n",
       "      <td>?</td>\n",
       "      <td>Magnesium</td>\n",
       "      <td>Oxygen 3 gamma</td>\n",
       "    </tr>\n",
       "  </tbody>\n",
       "</table>\n",
       "</div>"
      ],
      "text/plain": [
       "              file chain  resi resn atom_name interacting_atom  \\\n",
       "2664  a_atp_mg_tub     H     1   MG        MG               PA   \n",
       "486   a_atp_mg_tub     G     1   MG        MG               PA   \n",
       "2615  a_atp_mg_tub     H     1   MG        MG              O1A   \n",
       "2222  a_atp_mg_tub     G     1   MG        MG              O1A   \n",
       "1954  a_atp_mg_tub     H     1   MG        MG              O2A   \n",
       "44    a_atp_mg_tub     G     1   MG        MG              O3A   \n",
       "2656  a_atp_mg_tub     H     1   MG        MG              O3A   \n",
       "453   a_atp_mg_tub     G     1   MG        MG               PB   \n",
       "545   a_atp_mg_tub     H     1   MG        MG               PB   \n",
       "2828  a_atp_mg_tub     H     1   MG        MG              O1B   \n",
       "325   a_atp_mg_tub     G     1   MG        MG              O1B   \n",
       "1663  a_atp_mg_tub     G     1   MG        MG              O2B   \n",
       "1680  a_atp_mg_tub     H     1   MG        MG              O2B   \n",
       "1341  a_atp_mg_tub     G     1   MG        MG              O3B   \n",
       "204   a_atp_mg_tub     H     1   MG        MG              O3B   \n",
       "1870  a_atp_mg_tub     H     1   MG        MG               PG   \n",
       "2446  a_atp_mg_tub     G     1   MG        MG               PG   \n",
       "2819  a_atp_mg_tub     G     1   MG        MG              O2G   \n",
       "2053  a_atp_mg_tub     H     1   MG        MG              O2G   \n",
       "1407  a_atp_mg_tub     H     1   MG        MG              O1G   \n",
       "1476  a_atp_mg_tub     G     1   MG        MG              O1G   \n",
       "1717  a_atp_mg_tub     G     1   MG        MG              O3G   \n",
       "173   a_atp_mg_tub     H     1   MG        MG              O3G   \n",
       "\n",
       "     interacting_resn interacting_chain  distance (angstroms)  \\\n",
       "2664              ATP                 F              4.481044   \n",
       "486               ATP                 E              4.614748   \n",
       "2615              ATP                 F              4.012681   \n",
       "2222              ATP                 E              4.365795   \n",
       "1954              ATP                 F              4.630960   \n",
       "44                ATP                 E              3.771675   \n",
       "2656              ATP                 F              4.228962   \n",
       "453               ATP                 E              3.183059   \n",
       "545               ATP                 F              3.211626   \n",
       "2828              ATP                 F              2.011582   \n",
       "325               ATP                 E              2.014655   \n",
       "1663              ATP                 E              4.460051   \n",
       "1680              ATP                 F              4.303453   \n",
       "1341              ATP                 E              3.499141   \n",
       "204               ATP                 F              3.441022   \n",
       "1870              ATP                 F              3.215035   \n",
       "2446              ATP                 E              3.215677   \n",
       "2819              ATP                 E              3.733924   \n",
       "2053              ATP                 F              3.958944   \n",
       "1407              ATP                 F              2.010643   \n",
       "1476              ATP                 E              2.100983   \n",
       "1717              ATP                 E              4.487382   \n",
       "173               ATP                 F              4.386704   \n",
       "\n",
       "     residue_one_letter full_atom_name interacting_full_atom_name  \n",
       "2664                  ?      Magnesium           Phosphorus alpha  \n",
       "486                   ?      Magnesium           Phosphorus alpha  \n",
       "2615                  ?      Magnesium             Oxygen 1 alpha  \n",
       "2222                  ?      Magnesium             Oxygen 1 alpha  \n",
       "1954                  ?      Magnesium             Oxygen 2 alpha  \n",
       "44                    ?      Magnesium             Oxygen 3 alpha  \n",
       "2656                  ?      Magnesium             Oxygen 3 alpha  \n",
       "453                   ?      Magnesium            Phosphorus beta  \n",
       "545                   ?      Magnesium            Phosphorus beta  \n",
       "2828                  ?      Magnesium              Oxygen 1 beta  \n",
       "325                   ?      Magnesium              Oxygen 1 beta  \n",
       "1663                  ?      Magnesium              Oxygen 2 beta  \n",
       "1680                  ?      Magnesium              Oxygen 2 beta  \n",
       "1341                  ?      Magnesium              Oxygen 3 beta  \n",
       "204                   ?      Magnesium              Oxygen 3 beta  \n",
       "1870                  ?      Magnesium           Phosphorus gamma  \n",
       "2446                  ?      Magnesium           Phosphorus gamma  \n",
       "2819                  ?      Magnesium             Oxygen 2 gamma  \n",
       "2053                  ?      Magnesium             Oxygen 2 gamma  \n",
       "1407                  ?      Magnesium             Oxygen 1 gamma  \n",
       "1476                  ?      Magnesium             Oxygen 1 gamma  \n",
       "1717                  ?      Magnesium             Oxygen 3 gamma  \n",
       "173                   ?      Magnesium             Oxygen 3 gamma  "
      ]
     },
     "execution_count": 34,
     "metadata": {},
     "output_type": "execute_result"
    }
   ],
   "source": [
    "# Define the path to the CSV file\n",
    "csv_file_path = \"../../Jazzer_surf/3d_predictions/chimeras/test/interactions_all_files.csv\"\n",
    "\n",
    "# Read the CSV file into a DataFrame\n",
    "df = pd.read_csv(csv_file_path)\n",
    "\n",
    "# take only the rows where the resn is MG and the interacting_resn is ATP or ADP and the column file is a_atp_mg or a_adp_mg\n",
    "df = df[(df['resn'] == 'MG') & ((df['interacting_resn'] == 'ATP') | (df['interacting_resn'] == 'ADP')) & ((df['file'] == 'a_atp_mg_tub') )]\n",
    "\n",
    "# order the dataframe by the column interacting_atom but in the order PA, O1A, O2A, O3A, PB, O1B, O2B, O3B, PG, O1G, O2G, O3G\n",
    "df = df.sort_values(by='interacting_atom', key=lambda x: x.map({'PA':1, 'O1A':2, 'O2A':3, 'O3A':4, 'PB':5, 'O1B':6, 'O2B':7, 'O3B':8, 'PG':9, 'O2G':10, 'O1G':11, 'O3G':12}))\n",
    "\n",
    "df"
   ]
  },
  {
   "cell_type": "code",
   "execution_count": 33,
   "metadata": {},
   "outputs": [
    {
     "data": {
      "text/plain": [
       "['../../Jazzer_surf/3d_predictions/chimeras/test/a_atp_mg_tub.cif']"
      ]
     },
     "execution_count": 33,
     "metadata": {},
     "output_type": "execute_result"
    }
   ],
   "source": [
    "glob.glob(\"../../Jazzer_surf/3d_predictions/chimeras/test/*.cif\")"
   ]
  },
  {
   "cell_type": "code",
   "execution_count": 35,
   "metadata": {},
   "outputs": [
    {
     "data": {
      "image/png": "[encoded data removed]",
      "text/plain": [
       "<Figure size 1000x600 with 1 Axes>"
      ]
     },
     "metadata": {},
     "output_type": "display_data"
    }
   ],
   "source": [
    "\n",
    "# Set the style of the plot\n",
    "sns.set_theme(style=\"whitegrid\")\n",
    "\n",
    "# Create a figure and axis\n",
    "fig, ax = plt.subplots(figsize=(10, 6))\n",
    "\n",
    "# Create a violin plot\n",
    "sns.violinplot(x='interacting_atom', y='distance (angstroms)', data=df, ax=ax, inner='point')\n",
    "\n",
    "# Set the title of the plot\n",
    "plt.title('Distance between MG and ATP/ADP atoms')\n",
    "\n",
    "# Set the x-axis label\n",
    "plt.xlabel('Interacting atom')\n",
    "\n",
    "# Set the y-axis label\n",
    "plt.ylabel('Distance (angstroms)')\n",
    "plt.xticks(rotation=45)\n",
    "# Show the plot\n",
    "plt.show()\n"
   ]
  },
  {
   "cell_type": "code",
   "execution_count": 67,
   "metadata": {},
   "outputs": [
    {
     "data": {
      "application/vnd.plotly.v1+json": {
       "config": {
        "plotlyServerURL": "https://plot.ly"
       },
       "data": [
        {
         "alignmentgroup": "True",
         "boxpoints": "all",
         "customdata": [
          [
           "a_atp_mg_tub"
          ],
          [
           "a_atp_mg_tub"
          ]
         ],
         "fillcolor": "rgba(255,255,255,0)",
         "hoveron": "points",
         "hovertemplate": "file=%{customdata[0]}<br>Interacting atom=%{x}<br>Distance (angstroms)=%{y}<extra></extra>",
         "legendgroup": "a_atp_mg_tub",
         "line": {
          "color": "rgba(255,255,255,0)"
         },
         "marker": {
          "color": "#636efa"
         },
         "name": "a_atp_mg_tub",
         "offsetgroup": "a_atp_mg_tub",
         "orientation": "v",
         "pointpos": 0,
         "showlegend": true,
         "type": "box",
         "x": [
          "O1B",
          "O1G"
         ],
         "x0": " ",
         "xaxis": "x",
         "y": [
          2.0146546363830566,
          2.010643243789673
         ],
         "y0": " ",
         "yaxis": "y"
        }
       ],
       "layout": {
        "boxmode": "group",
        "legend": {
         "itemsizing": "constant",
         "title": {
          "text": "File"
         },
         "tracegroupgap": 0
        },
        "template": {
         "data": {
          "bar": [
           {
            "error_x": {
             "color": "#2a3f5f"
            },
            "error_y": {
             "color": "#2a3f5f"
            },
            "marker": {
             "line": {
              "color": "#E5ECF6",
              "width": 0.5
             },
             "pattern": {
              "fillmode": "overlay",
              "size": 10,
              "solidity": 0.2
             }
            },
            "type": "bar"
           }
          ],
          "barpolar": [
           {
            "marker": {
             "line": {
              "color": "#E5ECF6",
              "width": 0.5
             },
             "pattern": {
              "fillmode": "overlay",
              "size": 10,
              "solidity": 0.2
             }
            },
            "type": "barpolar"
           }
          ],
          "carpet": [
           {
            "aaxis": {
             "endlinecolor": "#2a3f5f",
             "gridcolor": "white",
             "linecolor": "white",
             "minorgridcolor": "white",
             "startlinecolor": "#2a3f5f"
            },
            "baxis": {
             "endlinecolor": "#2a3f5f",
             "gridcolor": "white",
             "linecolor": "white",
             "minorgridcolor": "white",
             "startlinecolor": "#2a3f5f"
            },
            "type": "carpet"
           }
          ],
          "choropleth": [
           {
            "colorbar": {
             "outlinewidth": 0,
             "ticks": ""
            },
            "type": "choropleth"
           }
          ],
          "contour": [
           {
            "colorbar": {
             "outlinewidth": 0,
             "ticks": ""
            },
            "colorscale": [
             [
              0,
              "#0d0887"
             ],
             [
              0.1111111111111111,
              "#46039f"
             ],
             [
              0.2222222222222222,
              "#7201a8"
             ],
             [
              0.3333333333333333,
              "#9c179e"
             ],
             [
              0.4444444444444444,
              "#bd3786"
             ],
             [
              0.5555555555555556,
              "#d8576b"
             ],
             [
              0.6666666666666666,
              "#ed7953"
             ],
             [
              0.7777777777777778,
              "#fb9f3a"
             ],
             [
              0.8888888888888888,
              "#fdca26"
             ],
             [
              1,
              "#f0f921"
             ]
            ],
            "type": "contour"
           }
          ],
          "contourcarpet": [
           {
            "colorbar": {
             "outlinewidth": 0,
             "ticks": ""
            },
            "type": "contourcarpet"
           }
          ],
          "heatmap": [
           {
            "colorbar": {
             "outlinewidth": 0,
             "ticks": ""
            },
            "colorscale": [
             [
              0,
              "#0d0887"
             ],
             [
              0.1111111111111111,
              "#46039f"
             ],
             [
              0.2222222222222222,
              "#7201a8"
             ],
             [
              0.3333333333333333,
              "#9c179e"
             ],
             [
              0.4444444444444444,
              "#bd3786"
             ],
             [
              0.5555555555555556,
              "#d8576b"
             ],
             [
              0.6666666666666666,
              "#ed7953"
             ],
             [
              0.7777777777777778,
              "#fb9f3a"
             ],
             [
              0.8888888888888888,
              "#fdca26"
             ],
             [
              1,
              "#f0f921"
             ]
            ],
            "type": "heatmap"
           }
          ],
          "heatmapgl": [
           {
            "colorbar": {
             "outlinewidth": 0,
             "ticks": ""
            },
            "colorscale": [
             [
              0,
              "#0d0887"
             ],
             [
              0.1111111111111111,
              "#46039f"
             ],
             [
              0.2222222222222222,
              "#7201a8"
             ],
             [
              0.3333333333333333,
              "#9c179e"
             ],
             [
              0.4444444444444444,
              "#bd3786"
             ],
             [
              0.5555555555555556,
              "#d8576b"
             ],
             [
              0.6666666666666666,
              "#ed7953"
             ],
             [
              0.7777777777777778,
              "#fb9f3a"
             ],
             [
              0.8888888888888888,
              "#fdca26"
             ],
             [
              1,
              "#f0f921"
             ]
            ],
            "type": "heatmapgl"
           }
          ],
          "histogram": [
           {
            "marker": {
             "pattern": {
              "fillmode": "overlay",
              "size": 10,
              "solidity": 0.2
             }
            },
            "type": "histogram"
           }
          ],
          "histogram2d": [
           {
            "colorbar": {
             "outlinewidth": 0,
             "ticks": ""
            },
            "colorscale": [
             [
              0,
              "#0d0887"
             ],
             [
              0.1111111111111111,
              "#46039f"
             ],
             [
              0.2222222222222222,
              "#7201a8"
             ],
             [
              0.3333333333333333,
              "#9c179e"
             ],
             [
              0.4444444444444444,
              "#bd3786"
             ],
             [
              0.5555555555555556,
              "#d8576b"
             ],
             [
              0.6666666666666666,
              "#ed7953"
             ],
             [
              0.7777777777777778,
              "#fb9f3a"
             ],
             [
              0.8888888888888888,
              "#fdca26"
             ],
             [
              1,
              "#f0f921"
             ]
            ],
            "type": "histogram2d"
           }
          ],
          "histogram2dcontour": [
           {
            "colorbar": {
             "outlinewidth": 0,
             "ticks": ""
            },
            "colorscale": [
             [
              0,
              "#0d0887"
             ],
             [
              0.1111111111111111,
              "#46039f"
             ],
             [
              0.2222222222222222,
              "#7201a8"
             ],
             [
              0.3333333333333333,
              "#9c179e"
             ],
             [
              0.4444444444444444,
              "#bd3786"
             ],
             [
              0.5555555555555556,
              "#d8576b"
             ],
             [
              0.6666666666666666,
              "#ed7953"
             ],
             [
              0.7777777777777778,
              "#fb9f3a"
             ],
             [
              0.8888888888888888,
              "#fdca26"
             ],
             [
              1,
              "#f0f921"
             ]
            ],
            "type": "histogram2dcontour"
           }
          ],
          "mesh3d": [
           {
            "colorbar": {
             "outlinewidth": 0,
             "ticks": ""
            },
            "type": "mesh3d"
           }
          ],
          "parcoords": [
           {
            "line": {
             "colorbar": {
              "outlinewidth": 0,
              "ticks": ""
             }
            },
            "type": "parcoords"
           }
          ],
          "pie": [
           {
            "automargin": true,
            "type": "pie"
           }
          ],
          "scatter": [
           {
            "fillpattern": {
             "fillmode": "overlay",
             "size": 10,
             "solidity": 0.2
            },
            "type": "scatter"
           }
          ],
          "scatter3d": [
           {
            "line": {
             "colorbar": {
              "outlinewidth": 0,
              "ticks": ""
             }
            },
            "marker": {
             "colorbar": {
              "outlinewidth": 0,
              "ticks": ""
             }
            },
            "type": "scatter3d"
           }
          ],
          "scattercarpet": [
           {
            "marker": {
             "colorbar": {
              "outlinewidth": 0,
              "ticks": ""
             }
            },
            "type": "scattercarpet"
           }
          ],
          "scattergeo": [
           {
            "marker": {
             "colorbar": {
              "outlinewidth": 0,
              "ticks": ""
             }
            },
            "type": "scattergeo"
           }
          ],
          "scattergl": [
           {
            "marker": {
             "colorbar": {
              "outlinewidth": 0,
              "ticks": ""
             }
            },
            "type": "scattergl"
           }
          ],
          "scattermapbox": [
           {
            "marker": {
             "colorbar": {
              "outlinewidth": 0,
              "ticks": ""
             }
            },
            "type": "scattermapbox"
           }
          ],
          "scatterpolar": [
           {
            "marker": {
             "colorbar": {
              "outlinewidth": 0,
              "ticks": ""
             }
            },
            "type": "scatterpolar"
           }
          ],
          "scatterpolargl": [
           {
            "marker": {
             "colorbar": {
              "outlinewidth": 0,
              "ticks": ""
             }
            },
            "type": "scatterpolargl"
           }
          ],
          "scatterternary": [
           {
            "marker": {
             "colorbar": {
              "outlinewidth": 0,
              "ticks": ""
             }
            },
            "type": "scatterternary"
           }
          ],
          "surface": [
           {
            "colorbar": {
             "outlinewidth": 0,
             "ticks": ""
            },
            "colorscale": [
             [
              0,
              "#0d0887"
             ],
             [
              0.1111111111111111,
              "#46039f"
             ],
             [
              0.2222222222222222,
              "#7201a8"
             ],
             [
              0.3333333333333333,
              "#9c179e"
             ],
             [
              0.4444444444444444,
              "#bd3786"
             ],
             [
              0.5555555555555556,
              "#d8576b"
             ],
             [
              0.6666666666666666,
              "#ed7953"
             ],
             [
              0.7777777777777778,
              "#fb9f3a"
             ],
             [
              0.8888888888888888,
              "#fdca26"
             ],
             [
              1,
              "#f0f921"
             ]
            ],
            "type": "surface"
           }
          ],
          "table": [
           {
            "cells": {
             "fill": {
              "color": "#EBF0F8"
             },
             "line": {
              "color": "white"
             }
            },
            "header": {
             "fill": {
              "color": "#C8D4E3"
             },
             "line": {
              "color": "white"
             }
            },
            "type": "table"
           }
          ]
         },
         "layout": {
          "annotationdefaults": {
           "arrowcolor": "#2a3f5f",
           "arrowhead": 0,
           "arrowwidth": 1
          },
          "autotypenumbers": "strict",
          "coloraxis": {
           "colorbar": {
            "outlinewidth": 0,
            "ticks": ""
           }
          },
          "colorscale": {
           "diverging": [
            [
             0,
             "#8e0152"
            ],
            [
             0.1,
             "#c51b7d"
            ],
            [
             0.2,
             "#de77ae"
            ],
            [
             0.3,
             "#f1b6da"
            ],
            [
             0.4,
             "#fde0ef"
            ],
            [
             0.5,
             "#f7f7f7"
            ],
            [
             0.6,
             "#e6f5d0"
            ],
            [
             0.7,
             "#b8e186"
            ],
            [
             0.8,
             "#7fbc41"
            ],
            [
             0.9,
             "#4d9221"
            ],
            [
             1,
             "#276419"
            ]
           ],
           "sequential": [
            [
             0,
             "#0d0887"
            ],
            [
             0.1111111111111111,
             "#46039f"
            ],
            [
             0.2222222222222222,
             "#7201a8"
            ],
            [
             0.3333333333333333,
             "#9c179e"
            ],
            [
             0.4444444444444444,
             "#bd3786"
            ],
            [
             0.5555555555555556,
             "#d8576b"
            ],
            [
             0.6666666666666666,
             "#ed7953"
            ],
            [
             0.7777777777777778,
             "#fb9f3a"
            ],
            [
             0.8888888888888888,
             "#fdca26"
            ],
            [
             1,
             "#f0f921"
            ]
           ],
           "sequentialminus": [
            [
             0,
             "#0d0887"
            ],
            [
             0.1111111111111111,
             "#46039f"
            ],
            [
             0.2222222222222222,
             "#7201a8"
            ],
            [
             0.3333333333333333,
             "#9c179e"
            ],
            [
             0.4444444444444444,
             "#bd3786"
            ],
            [
             0.5555555555555556,
             "#d8576b"
            ],
            [
             0.6666666666666666,
             "#ed7953"
            ],
            [
             0.7777777777777778,
             "#fb9f3a"
            ],
            [
             0.8888888888888888,
             "#fdca26"
            ],
            [
             1,
             "#f0f921"
            ]
           ]
          },
          "colorway": [
           "#636efa",
           "#EF553B",
           "#00cc96",
           "#ab63fa",
           "#FFA15A",
           "#19d3f3",
           "#FF6692",
           "#B6E880",
           "#FF97FF",
           "#FECB52"
          ],
          "font": {
           "color": "#2a3f5f"
          },
          "geo": {
           "bgcolor": "white",
           "lakecolor": "white",
           "landcolor": "#E5ECF6",
           "showlakes": true,
           "showland": true,
           "subunitcolor": "white"
          },
          "hoverlabel": {
           "align": "left"
          },
          "hovermode": "closest",
          "mapbox": {
           "style": "light"
          },
          "paper_bgcolor": "white",
          "plot_bgcolor": "#E5ECF6",
          "polar": {
           "angularaxis": {
            "gridcolor": "white",
            "linecolor": "white",
            "ticks": ""
           },
           "bgcolor": "#E5ECF6",
           "radialaxis": {
            "gridcolor": "white",
            "linecolor": "white",
            "ticks": ""
           }
          },
          "scene": {
           "xaxis": {
            "backgroundcolor": "#E5ECF6",
            "gridcolor": "white",
            "gridwidth": 2,
            "linecolor": "white",
            "showbackground": true,
            "ticks": "",
            "zerolinecolor": "white"
           },
           "yaxis": {
            "backgroundcolor": "#E5ECF6",
            "gridcolor": "white",
            "gridwidth": 2,
            "linecolor": "white",
            "showbackground": true,
            "ticks": "",
            "zerolinecolor": "white"
           },
           "zaxis": {
            "backgroundcolor": "#E5ECF6",
            "gridcolor": "white",
            "gridwidth": 2,
            "linecolor": "white",
            "showbackground": true,
            "ticks": "",
            "zerolinecolor": "white"
           }
          },
          "shapedefaults": {
           "line": {
            "color": "#2a3f5f"
           }
          },
          "ternary": {
           "aaxis": {
            "gridcolor": "white",
            "linecolor": "white",
            "ticks": ""
           },
           "baxis": {
            "gridcolor": "white",
            "linecolor": "white",
            "ticks": ""
           },
           "bgcolor": "#E5ECF6",
           "caxis": {
            "gridcolor": "white",
            "linecolor": "white",
            "ticks": ""
           }
          },
          "title": {
           "x": 0.05
          },
          "xaxis": {
           "automargin": true,
           "gridcolor": "white",
           "linecolor": "white",
           "ticks": "",
           "title": {
            "standoff": 15
           },
           "zerolinecolor": "white",
           "zerolinewidth": 2
          },
          "yaxis": {
           "automargin": true,
           "gridcolor": "white",
           "linecolor": "white",
           "ticks": "",
           "title": {
            "standoff": 15
           },
           "zerolinecolor": "white",
           "zerolinewidth": 2
          }
         }
        },
        "title": {
         "text": "Distance between MG and ATP/ADP atoms"
        },
        "xaxis": {
         "anchor": "y",
         "categoryarray": [
          "PA",
          "O1A",
          "O2A",
          "O3A",
          "PB",
          "O1B",
          "O2B",
          "O3B",
          "PG",
          "O2G",
          "O1G",
          "O3G"
         ],
         "categoryorder": "array",
         "domain": [
          0,
          1
         ],
         "title": {
          "text": "Interacting atom"
         }
        },
        "yaxis": {
         "anchor": "x",
         "domain": [
          0,
          1
         ],
         "range": [
          0,
          5
         ],
         "title": {
          "text": "Distance (angstroms)"
         }
        }
       }
      }
     },
     "metadata": {},
     "output_type": "display_data"
    }
   ],
   "source": [
    "import pandas as pd\n",
    "import plotly.express as px\n",
    "\n",
    "# Define the path to the CSV file\n",
    "csv_file_path = \"../../Jazzer_surf/3d_predictions/chimeras/test/interactions_all_files.csv\"\n",
    "\n",
    "# Read the CSV file into a DataFrame\n",
    "df = pd.read_csv(csv_file_path)\n",
    "\n",
    "# Take only the rows where the resn is MG and the interacting_resn is ATP or ADP\n",
    "df = df[(df['resn'] == 'MG') & ((df['interacting_resn'] == 'ADP') | (df['interacting_resn'] == 'ATP'))]\n",
    "\n",
    "# Order the DataFrame by the column interacting_atom but in the order PA, O1A, O2A, O3A, PB, O1B, O2B, O3B, PG, O1G, O2G, O3G\n",
    "atom_order = ['PA', 'O1A', 'O2A', 'O3A', 'PB', 'O1B', 'O2B', 'O3B', 'PG', 'O2G', 'O1G', 'O3G']\n",
    "df['atom_order'] = pd.Categorical(df['interacting_atom'], categories=atom_order, ordered=True)\n",
    "df = df.sort_values(by='atom_order')\n",
    "\n",
    "# Create an interactive strip plot using Plotly\n",
    "fig = px.strip(df, x='interacting_atom', y='distance (angstroms)', color='file',\n",
    "               category_orders={\"interacting_atom\": atom_order},\n",
    "               title='Distance between MG and ATP/ADP atoms',\n",
    "               labels={'interacting_atom': 'Interacting atom', 'distance (angstroms)': 'Distance (angstroms)'},\n",
    "               hover_data=['file'])\n",
    "\n",
    "# Update the layout to fix the y-axis and ensure all x-axis values are shown\n",
    "fig.update_layout(\n",
    "    legend_title_text='File',\n",
    "    legend=dict(\n",
    "        title=dict(text='File'),\n",
    "        itemsizing='constant'\n",
    "    ),\n",
    "    xaxis_title='Interacting atom',\n",
    "    yaxis_title='Distance (angstroms)',\n",
    "    yaxis=dict(range=[0, 5]),\n",
    "    xaxis=dict(categoryorder='array', categoryarray=atom_order)\n",
    ")\n",
    "\n",
    "# Show the plot\n",
    "fig.show()\n"
   ]
  },
  {
   "cell_type": "code",
   "execution_count": 68,
   "metadata": {},
   "outputs": [
    {
     "data": {
      "text/html": [
       "<div>\n",
       "<style scoped>\n",
       "    .dataframe tbody tr th:only-of-type {\n",
       "        vertical-align: middle;\n",
       "    }\n",
       "\n",
       "    .dataframe tbody tr th {\n",
       "        vertical-align: top;\n",
       "    }\n",
       "\n",
       "    .dataframe thead th {\n",
       "        text-align: right;\n",
       "    }\n",
       "</style>\n",
       "<table border=\"1\" class=\"dataframe\">\n",
       "  <thead>\n",
       "    <tr style=\"text-align: right;\">\n",
       "      <th></th>\n",
       "      <th>file</th>\n",
       "      <th>chain</th>\n",
       "      <th>resi</th>\n",
       "      <th>resn</th>\n",
       "      <th>atom_name</th>\n",
       "      <th>interacting_atom</th>\n",
       "      <th>interacting_resn</th>\n",
       "      <th>interacting_chain</th>\n",
       "      <th>distance (angstroms)</th>\n",
       "      <th>residue_one_letter</th>\n",
       "      <th>full_atom_name</th>\n",
       "      <th>interacting_full_atom_name</th>\n",
       "      <th>residue</th>\n",
       "    </tr>\n",
       "  </thead>\n",
       "  <tbody>\n",
       "    <tr>\n",
       "      <th>19</th>\n",
       "      <td>a_atp_mg_tub</td>\n",
       "      <td>A</td>\n",
       "      <td>18</td>\n",
       "      <td>ARG</td>\n",
       "      <td>NH2</td>\n",
       "      <td>N6</td>\n",
       "      <td>ATP</td>\n",
       "      <td>F</td>\n",
       "      <td>3.747399</td>\n",
       "      <td>R</td>\n",
       "      <td>Nitrogen eta 2</td>\n",
       "      <td>Nitrogen 6</td>\n",
       "      <td>18R</td>\n",
       "    </tr>\n",
       "    <tr>\n",
       "      <th>20</th>\n",
       "      <td>a_atp_mg_tub</td>\n",
       "      <td>A</td>\n",
       "      <td>19</td>\n",
       "      <td>PHE</td>\n",
       "      <td>O</td>\n",
       "      <td>N6</td>\n",
       "      <td>ATP</td>\n",
       "      <td>F</td>\n",
       "      <td>4.504910</td>\n",
       "      <td>F</td>\n",
       "      <td>Oxygen</td>\n",
       "      <td>Nitrogen 6</td>\n",
       "      <td>19F</td>\n",
       "    </tr>\n",
       "    <tr>\n",
       "      <th>21</th>\n",
       "      <td>a_atp_mg_tub</td>\n",
       "      <td>A</td>\n",
       "      <td>20</td>\n",
       "      <td>ARG</td>\n",
       "      <td>CB</td>\n",
       "      <td>N7</td>\n",
       "      <td>ATP</td>\n",
       "      <td>F</td>\n",
       "      <td>3.449845</td>\n",
       "      <td>R</td>\n",
       "      <td>Carbon beta</td>\n",
       "      <td>Nitrogen 7</td>\n",
       "      <td>20R</td>\n",
       "    </tr>\n",
       "    <tr>\n",
       "      <th>30</th>\n",
       "      <td>a_atp_mg_tub</td>\n",
       "      <td>A</td>\n",
       "      <td>21</td>\n",
       "      <td>PRO</td>\n",
       "      <td>CD</td>\n",
       "      <td>N1</td>\n",
       "      <td>ATP</td>\n",
       "      <td>F</td>\n",
       "      <td>3.234430</td>\n",
       "      <td>P</td>\n",
       "      <td>Carbon delta</td>\n",
       "      <td>Nitrogen 1</td>\n",
       "      <td>21P</td>\n",
       "    </tr>\n",
       "    <tr>\n",
       "      <th>162</th>\n",
       "      <td>a_atp_mg_tub</td>\n",
       "      <td>A</td>\n",
       "      <td>51</td>\n",
       "      <td>LYS</td>\n",
       "      <td>CE</td>\n",
       "      <td>OE1</td>\n",
       "      <td>GLU</td>\n",
       "      <td>D</td>\n",
       "      <td>4.791676</td>\n",
       "      <td>K</td>\n",
       "      <td>Carbon epsilon</td>\n",
       "      <td>Oxygen epsilon 1</td>\n",
       "      <td>51K</td>\n",
       "    </tr>\n",
       "  </tbody>\n",
       "</table>\n",
       "</div>"
      ],
      "text/plain": [
       "             file chain  resi resn atom_name interacting_atom  \\\n",
       "19   a_atp_mg_tub     A    18  ARG       NH2               N6   \n",
       "20   a_atp_mg_tub     A    19  PHE         O               N6   \n",
       "21   a_atp_mg_tub     A    20  ARG        CB               N7   \n",
       "30   a_atp_mg_tub     A    21  PRO        CD               N1   \n",
       "162  a_atp_mg_tub     A    51  LYS        CE              OE1   \n",
       "\n",
       "    interacting_resn interacting_chain  distance (angstroms)  \\\n",
       "19               ATP                 F              3.747399   \n",
       "20               ATP                 F              4.504910   \n",
       "21               ATP                 F              3.449845   \n",
       "30               ATP                 F              3.234430   \n",
       "162              GLU                 D              4.791676   \n",
       "\n",
       "    residue_one_letter  full_atom_name interacting_full_atom_name residue  \n",
       "19                   R  Nitrogen eta 2                 Nitrogen 6     18R  \n",
       "20                   F          Oxygen                 Nitrogen 6     19F  \n",
       "21                   R     Carbon beta                 Nitrogen 7     20R  \n",
       "30                   P    Carbon delta                 Nitrogen 1     21P  \n",
       "162                  K  Carbon epsilon           Oxygen epsilon 1     51K  "
      ]
     },
     "execution_count": 68,
     "metadata": {},
     "output_type": "execute_result"
    }
   ],
   "source": [
    "# Define the path to the CSV file\n",
    "csv_file_path = \"../../Jazzer_surf/3d_predictions/chimeras/test/interactions_all_files.csv\"\n",
    "\n",
    "# Read the CSV file into a DataFrame\n",
    "df = pd.read_csv(csv_file_path)\n",
    "\n",
    "df = df.loc[df.groupby(['file', 'chain', 'resi', 'resn', 'interacting_chain', 'interacting_resn'])['distance (angstroms)'].idxmin()]\n",
    "\n",
    "# combine the \"resi\" and \"residue_one_letter\" into a new column called \"residue\"\n",
    "df['residue'] = df['resi'].astype(str) + df['residue_one_letter']\n",
    "\n",
    "df.head()"
   ]
  },
  {
   "cell_type": "code",
   "execution_count": 69,
   "metadata": {},
   "outputs": [
    {
     "data": {
      "text/plain": [
       "array([], dtype=object)"
      ]
     },
     "execution_count": 69,
     "metadata": {},
     "output_type": "execute_result"
    }
   ],
   "source": [
    "#df loc of chain A with chain C and file a_atp_mg\n",
    "df = df[(df['chain'] == 'A') & (df['interacting_chain'] == 'C') & (df['file'] == 'a_atp_mg')]\n",
    "\n",
    "df['residue'].values"
   ]
  },
  {
   "cell_type": "code",
   "execution_count": 73,
   "metadata": {},
   "outputs": [
    {
     "data": {
      "text/html": [
       "<style>\n",
       "        .bk-notebook-logo {\n",
       "            display: block;\n",
       "            width: 20px;\n",
       "            height: 20px;\n",
       "            background-image: url(data:image/png;base64,iVBORw0KGgoAAAANSUhEUgAAABQAAAAUCAYAAACNiR0NAAAABHNCSVQICAgIfAhkiAAAAAlwSFlzAAALEgAACxIB0t1+/AAAABx0RVh0U29mdHdhcmUAQWRvYmUgRmlyZXdvcmtzIENTNui8sowAAAOkSURBVDiNjZRtaJVlGMd/1/08zzln5zjP1LWcU9N0NkN8m2CYjpgQYQXqSs0I84OLIC0hkEKoPtiH3gmKoiJDU7QpLgoLjLIQCpEsNJ1vqUOdO7ppbuec5+V+rj4ctwzd8IIbbi6u+8f1539dt3A78eXC7QizUF7gyV1fD1Yqg4JWz84yffhm0qkFqBogB9rM8tZdtwVsPUhWhGcFJngGeWrPzHm5oaMmkfEg1usvLFyc8jLRqDOMru7AyC8saQr7GG7f5fvDeH7Ej8CM66nIF+8yngt6HWaKh7k49Soy9nXurCi1o3qUbS3zWfrYeQDTB/Qj6kX6Ybhw4B+bOYoLKCC9H3Nu/leUTZ1JdRWkkn2ldcCamzrcf47KKXdAJllSlxAOkRgyHsGC/zRday5Qld9DyoM4/q/rUoy/CXh3jzOu3bHUVZeU+DEn8FInkPBFlu3+nW3Nw0mk6vCDiWg8CeJaxEwuHS3+z5RgY+YBR6V1Z1nxSOfoaPa4LASWxxdNp+VWTk7+4vzaou8v8PN+xo+KY2xsw6une2frhw05CTYOmQvsEhjhWjn0bmXPjpE1+kplmmkP3suftwTubK9Vq22qKmrBhpY4jvd5afdRA3wGjFAgcnTK2s4hY0/GPNIb0nErGMCRxWOOX64Z8RAC4oCXdklmEvcL8o0BfkNK4lUg9HTl+oPlQxdNo3Mg4Nv175e/1LDGzZen30MEjRUtmXSfiTVu1kK8W4txyV6BMKlbgk3lMwYCiusNy9fVfvvwMxv8Ynl6vxoByANLTWplvuj/nF9m2+PDtt1eiHPBr1oIfhCChQMBw6Aw0UulqTKZdfVvfG7VcfIqLG9bcldL/+pdWTLxLUy8Qq38heUIjh4XlzZxzQm19lLFlr8vdQ97rjZVOLf8nclzckbcD4wxXMidpX30sFd37Fv/GtwwhzhxGVAprjbg0gCAEeIgwCZyTV2Z1REEW8O4py0wsjeloKoMr6iCY6dP92H6Vw/oTyICIthibxjm/DfN9lVz8IqtqKYLUXfoKVMVQVVJOElGjrnnUt9T9wbgp8AyYKaGlqingHZU/uG2NTZSVqwHQTWkx9hxjkpWDaCg6Ckj5qebgBVbT3V3NNXMSiWSDdGV3hrtzla7J+duwPOToIg42ChPQOQjspnSlp1V+Gjdged7+8UN5CRAV7a5EdFNwCjEaBR27b3W890TE7g24NAP/mMDXRWrGoFPQI9ls/MWO2dWFAar/xcOIImbbpA3zgAAAABJRU5ErkJggg==);\n",
       "        }\n",
       "    </style>\n",
       "    <div>\n",
       "        <a href=\"https://bokeh.org\" target=\"_blank\" class=\"bk-notebook-logo\"></a>\n",
       "        <span id=\"fb9cda48-ce75-4c65-bf93-a87eccdd0741\">Loading BokehJS ...</span>\n",
       "    </div>\n"
      ]
     },
     "metadata": {},
     "output_type": "display_data"
    },
    {
     "data": {
      "application/javascript": "(function(root) {\n  function now() {\n    return new Date();\n  }\n\n  const force = true;\n\n  if (typeof root._bokeh_onload_callbacks === \"undefined\" || force === true) {\n    root._bokeh_onload_callbacks = [];\n    root._bokeh_is_loading = undefined;\n  }\n\nconst JS_MIME_TYPE = 'application/javascript';\n  const HTML_MIME_TYPE = 'text/html';\n  const EXEC_MIME_TYPE = 'application/vnd.bokehjs_exec.v0+json';\n  const CLASS_NAME = 'output_bokeh rendered_html';\n\n  /**\n   * Render data to the DOM node\n   */\n  function render(props, node) {\n    const script = document.createElement(\"script\");\n    node.appendChild(script);\n  }\n\n  /**\n   * Handle when an output is cleared or removed\n   */\n  function handleClearOutput(event, handle) {\n    const cell = handle.cell;\n\n    const id = cell.output_area._bokeh_element_id;\n    const server_id = cell.output_area._bokeh_server_id;\n    // Clean up Bokeh references\n    if (id != null && id in Bokeh.index) {\n      Bokeh.index[id].model.document.clear();\n      delete Bokeh.index[id];\n    }\n\n    if (server_id !== undefined) {\n      // Clean up Bokeh references\n      const cmd_clean = \"from bokeh.io.state import curstate; print(curstate().uuid_to_server['\" + server_id + \"'].get_sessions()[0].document.roots[0]._id)\";\n      cell.notebook.kernel.execute(cmd_clean, {\n        iopub: {\n          output: function(msg) {\n            const id = msg.content.text.trim();\n            if (id in Bokeh.index) {\n              Bokeh.index[id].model.document.clear();\n              delete Bokeh.index[id];\n            }\n          }\n        }\n      });\n      // Destroy server and session\n      const cmd_destroy = \"import bokeh.io.notebook as ion; ion.destroy_server('\" + server_id + \"')\";\n      cell.notebook.kernel.execute(cmd_destroy);\n    }\n  }\n\n  /**\n   * Handle when a new output is added\n   */\n  function handleAddOutput(event, handle) {\n    const output_area = handle.output_area;\n    const output = handle.output;\n\n    // limit handleAddOutput to display_data with EXEC_MIME_TYPE content only\n    if ((output.output_type != \"display_data\") || (!Object.prototype.hasOwnProperty.call(output.data, EXEC_MIME_TYPE))) {\n      return\n    }\n\n    const toinsert = output_area.element.find(\".\" + CLASS_NAME.split(' ')[0]);\n\n    if (output.metadata[EXEC_MIME_TYPE][\"id\"] !== undefined) {\n      toinsert[toinsert.length - 1].firstChild.textContent = output.data[JS_MIME_TYPE];\n      // store reference to embed id on output_area\n      output_area._bokeh_element_id = output.metadata[EXEC_MIME_TYPE][\"id\"];\n    }\n    if (output.metadata[EXEC_MIME_TYPE][\"server_id\"] !== undefined) {\n      const bk_div = document.createElement(\"div\");\n      bk_div.innerHTML = output.data[HTML_MIME_TYPE];\n      const script_attrs = bk_div.children[0].attributes;\n      for (let i = 0; i < script_attrs.length; i++) {\n        toinsert[toinsert.length - 1].firstChild.setAttribute(script_attrs[i].name, script_attrs[i].value);\n        toinsert[toinsert.length - 1].firstChild.textContent = bk_div.children[0].textContent\n      }\n      // store reference to server id on output_area\n      output_area._bokeh_server_id = output.metadata[EXEC_MIME_TYPE][\"server_id\"];\n    }\n  }\n\n  function register_renderer(events, OutputArea) {\n\n    function append_mime(data, metadata, element) {\n      // create a DOM node to render to\n      const toinsert = this.create_output_subarea(\n        metadata,\n        CLASS_NAME,\n        EXEC_MIME_TYPE\n      );\n      this.keyboard_manager.register_events(toinsert);\n      // Render to node\n      const props = {data: data, metadata: metadata[EXEC_MIME_TYPE]};\n      render(props, toinsert[toinsert.length - 1]);\n      element.append(toinsert);\n      return toinsert\n    }\n\n    /* Handle when an output is cleared or removed */\n    events.on('clear_output.CodeCell', handleClearOutput);\n    events.on('delete.Cell', handleClearOutput);\n\n    /* Handle when a new output is added */\n    events.on('output_added.OutputArea', handleAddOutput);\n\n    /**\n     * Register the mime type and append_mime function with output_area\n     */\n    OutputArea.prototype.register_mime_type(EXEC_MIME_TYPE, append_mime, {\n      /* Is output safe? */\n      safe: true,\n      /* Index of renderer in `output_area.display_order` */\n      index: 0\n    });\n  }\n\n  // register the mime type if in Jupyter Notebook environment and previously unregistered\n  if (root.Jupyter !== undefined) {\n    const events = require('base/js/events');\n    const OutputArea = require('notebook/js/outputarea').OutputArea;\n\n    if (OutputArea.prototype.mime_types().indexOf(EXEC_MIME_TYPE) == -1) {\n      register_renderer(events, OutputArea);\n    }\n  }\n  if (typeof (root._bokeh_timeout) === \"undefined\" || force === true) {\n    root._bokeh_timeout = Date.now() + 5000;\n    root._bokeh_failed_load = false;\n  }\n\n  const NB_LOAD_WARNING = {'data': {'text/html':\n     \"<div style='background-color: #fdd'>\\n\"+\n     \"<p>\\n\"+\n     \"BokehJS does not appear to have successfully loaded. If loading BokehJS from CDN, this \\n\"+\n     \"may be due to a slow or bad network connection. Possible fixes:\\n\"+\n     \"</p>\\n\"+\n     \"<ul>\\n\"+\n     \"<li>re-rerun `output_notebook()` to attempt to load from CDN again, or</li>\\n\"+\n     \"<li>use INLINE resources instead, as so:</li>\\n\"+\n     \"</ul>\\n\"+\n     \"<code>\\n\"+\n     \"from bokeh.resources import INLINE\\n\"+\n     \"output_notebook(resources=INLINE)\\n\"+\n     \"</code>\\n\"+\n     \"</div>\"}};\n\n  function display_loaded() {\n    const el = document.getElementById(\"fb9cda48-ce75-4c65-bf93-a87eccdd0741\");\n    if (el != null) {\n      el.textContent = \"BokehJS is loading...\";\n    }\n    if (root.Bokeh !== undefined) {\n      if (el != null) {\n        el.textContent = \"BokehJS \" + root.Bokeh.version + \" successfully loaded.\";\n      }\n    } else if (Date.now() < root._bokeh_timeout) {\n      setTimeout(display_loaded, 100)\n    }\n  }\n\n  function run_callbacks() {\n    try {\n      root._bokeh_onload_callbacks.forEach(function(callback) {\n        if (callback != null)\n          callback();\n      });\n    } finally {\n      delete root._bokeh_onload_callbacks\n    }\n    console.debug(\"Bokeh: all callbacks have finished\");\n  }\n\n  function load_libs(css_urls, js_urls, callback) {\n    if (css_urls == null) css_urls = [];\n    if (js_urls == null) js_urls = [];\n\n    root._bokeh_onload_callbacks.push(callback);\n    if (root._bokeh_is_loading > 0) {\n      console.debug(\"Bokeh: BokehJS is being loaded, scheduling callback at\", now());\n      return null;\n    }\n    if (js_urls == null || js_urls.length === 0) {\n      run_callbacks();\n      return null;\n    }\n    console.debug(\"Bokeh: BokehJS not loaded, scheduling load and callback at\", now());\n    root._bokeh_is_loading = css_urls.length + js_urls.length;\n\n    function on_load() {\n      root._bokeh_is_loading--;\n      if (root._bokeh_is_loading === 0) {\n        console.debug(\"Bokeh: all BokehJS libraries/stylesheets loaded\");\n        run_callbacks()\n      }\n    }\n\n    function on_error(url) {\n      console.error(\"failed to load \" + url);\n    }\n\n    for (let i = 0; i < css_urls.length; i++) {\n      const url = css_urls[i];\n      const element = document.createElement(\"link\");\n      element.onload = on_load;\n      element.onerror = on_error.bind(null, url);\n      element.rel = \"stylesheet\";\n      element.type = \"text/css\";\n      element.href = url;\n      console.debug(\"Bokeh: injecting link tag for BokehJS stylesheet: \", url);\n      document.body.appendChild(element);\n    }\n\n    for (let i = 0; i < js_urls.length; i++) {\n      const url = js_urls[i];\n      const element = document.createElement('script');\n      element.onload = on_load;\n      element.onerror = on_error.bind(null, url);\n      element.async = false;\n      element.src = url;\n      console.debug(\"Bokeh: injecting script tag for BokehJS library: \", url);\n      document.head.appendChild(element);\n    }\n  };\n\n  function inject_raw_css(css) {\n    const element = document.createElement(\"style\");\n    element.appendChild(document.createTextNode(css));\n    document.body.appendChild(element);\n  }\n\n  const js_urls = [\"https://cdn.bokeh.org/bokeh/release/bokeh-3.2.1.min.js\", \"https://cdn.bokeh.org/bokeh/release/bokeh-gl-3.2.1.min.js\", \"https://cdn.bokeh.org/bokeh/release/bokeh-widgets-3.2.1.min.js\", \"https://cdn.bokeh.org/bokeh/release/bokeh-tables-3.2.1.min.js\", \"https://cdn.bokeh.org/bokeh/release/bokeh-mathjax-3.2.1.min.js\"];\n  const css_urls = [];\n\n  const inline_js = [    function(Bokeh) {\n      Bokeh.set_log_level(\"info\");\n    },\nfunction(Bokeh) {\n    }\n  ];\n\n  function run_inline_js() {\n    if (root.Bokeh !== undefined || force === true) {\n          for (let i = 0; i < inline_js.length; i++) {\n      inline_js[i].call(root, root.Bokeh);\n    }\nif (force === true) {\n        display_loaded();\n      }} else if (Date.now() < root._bokeh_timeout) {\n      setTimeout(run_inline_js, 100);\n    } else if (!root._bokeh_failed_load) {\n      console.log(\"Bokeh: BokehJS failed to load within specified timeout.\");\n      root._bokeh_failed_load = true;\n    } else if (force !== true) {\n      const cell = $(document.getElementById(\"fb9cda48-ce75-4c65-bf93-a87eccdd0741\")).parents('.cell').data().cell;\n      cell.output_area.append_execute_result(NB_LOAD_WARNING)\n    }\n  }\n\n  if (root._bokeh_is_loading === 0) {\n    console.debug(\"Bokeh: BokehJS loaded, going straight to plotting\");\n    run_inline_js();\n  } else {\n    load_libs(css_urls, js_urls, function() {\n      console.debug(\"Bokeh: BokehJS plotting callback run at\", now());\n      run_inline_js();\n    });\n  }\n}(window));",
      "application/vnd.bokehjs_load.v0+json": ""
     },
     "metadata": {},
     "output_type": "display_data"
    },
    {
     "name": "stderr",
     "output_type": "stream",
     "text": [
      "/var/folders/_h/zqzyskvx2hd4w984syj7bb3m0000gn/T/ipykernel_67275/3851601058.py:57: BokehDeprecationWarning:\n",
      "\n",
      "CDSView.source is no longer needed, and is now ignored. In a future release, passing source will result an error.\n",
      "\n",
      "/var/folders/_h/zqzyskvx2hd4w984syj7bb3m0000gn/T/ipykernel_67275/3851601058.py:57: BokehDeprecationWarning:\n",
      "\n",
      "CDSView.filters was deprecated in bokeh 3.0. Use CDSView.filter instead.\n",
      "\n",
      "/var/folders/_h/zqzyskvx2hd4w984syj7bb3m0000gn/T/ipykernel_67275/3851601058.py:57: BokehDeprecationWarning:\n",
      "\n",
      "CDSView.source is no longer needed, and is now ignored. In a future release, passing source will result an error.\n",
      "\n",
      "/var/folders/_h/zqzyskvx2hd4w984syj7bb3m0000gn/T/ipykernel_67275/3851601058.py:57: BokehDeprecationWarning:\n",
      "\n",
      "CDSView.filters was deprecated in bokeh 3.0. Use CDSView.filter instead.\n",
      "\n",
      "/var/folders/_h/zqzyskvx2hd4w984syj7bb3m0000gn/T/ipykernel_67275/3851601058.py:57: BokehDeprecationWarning:\n",
      "\n",
      "CDSView.source is no longer needed, and is now ignored. In a future release, passing source will result an error.\n",
      "\n",
      "/var/folders/_h/zqzyskvx2hd4w984syj7bb3m0000gn/T/ipykernel_67275/3851601058.py:57: BokehDeprecationWarning:\n",
      "\n",
      "CDSView.filters was deprecated in bokeh 3.0. Use CDSView.filter instead.\n",
      "\n",
      "/var/folders/_h/zqzyskvx2hd4w984syj7bb3m0000gn/T/ipykernel_67275/3851601058.py:57: BokehDeprecationWarning:\n",
      "\n",
      "CDSView.source is no longer needed, and is now ignored. In a future release, passing source will result an error.\n",
      "\n",
      "/var/folders/_h/zqzyskvx2hd4w984syj7bb3m0000gn/T/ipykernel_67275/3851601058.py:57: BokehDeprecationWarning:\n",
      "\n",
      "CDSView.filters was deprecated in bokeh 3.0. Use CDSView.filter instead.\n",
      "\n"
     ]
    },
    {
     "data": {
      "text/html": [
       "\n",
       "  <div id=\"bf90a0b3-7cff-487d-b678-ab1d54bf5ebd\" data-root-id=\"p3628\" style=\"display: contents;\"></div>\n"
      ]
     },
     "metadata": {},
     "output_type": "display_data"
    },
    {
     "data": {
      "application/javascript": "(function(root) {\n  function embed_document(root) {\n  const docs_json = {\"b34c96e0-bc01-4c30-9962-541ecfeb17a8\":{\"version\":\"3.2.1\",\"title\":\"Bokeh Application\",\"roots\":[{\"type\":\"object\",\"name\":\"Figure\",\"id\":\"p3628\",\"attributes\":{\"width\":900,\"x_range\":{\"type\":\"object\",\"name\":\"Range1d\",\"id\":\"p3638\",\"attributes\":{\"end\":401}},\"y_range\":{\"type\":\"object\",\"name\":\"Range1d\",\"id\":\"p3639\",\"attributes\":{\"end\":5.25}},\"x_scale\":{\"type\":\"object\",\"name\":\"LinearScale\",\"id\":\"p3640\"},\"y_scale\":{\"type\":\"object\",\"name\":\"LinearScale\",\"id\":\"p3641\"},\"title\":{\"type\":\"object\",\"name\":\"Title\",\"id\":\"p3631\",\"attributes\":{\"text\":\"Distance between MG and ATP/ADP atoms by amino acid position\"}},\"renderers\":[{\"type\":\"object\",\"name\":\"GlyphRenderer\",\"id\":\"p3668\",\"attributes\":{\"data_source\":{\"type\":\"object\",\"name\":\"ColumnDataSource\",\"id\":\"p3624\",\"attributes\":{\"selected\":{\"type\":\"object\",\"name\":\"Selection\",\"id\":\"p3625\",\"attributes\":{\"indices\":[],\"line_indices\":[]}},\"selection_policy\":{\"type\":\"object\",\"name\":\"UnionRenderers\",\"id\":\"p3626\"},\"data\":{\"type\":\"map\",\"entries\":[[\"index\",{\"type\":\"ndarray\",\"array\":{\"type\":\"bytes\",\"data\":\"EwAAABQAAAAVAAAAHgAAAKIAAACjAAAApAAAAKUAAACmAAAApwAAAKgAAACpAAAAqwAAAAAAAAABAAAAAgAAAAMAAAAEAAAABwAAAAkAAAAKAAAADAAAAA0AAAAQAAAAEQAAABIAAAAWAAAAGAAAABoAAAAcAAAAHwAAACEAAAAjAAAAJAAAACUAAAAmAAAAKAAAACsAAAAuAAAALwAAADAAAAAxAAAANAAAADYAAAA8AAAAPwAAAEAAAABCAAAARAAAAEYAAABIAAAASwAAAE4AAABSAAAAVQAAAFcAAABYAAAAWQAAAFoAAABbAAAAXwAAAGAAAABhAAAAZQAAAGgAAABrAAAAbgAAAHIAAABzAAAAdQAAAHgAAAB8AAAAfgAAAIIAAACEAAAAhwAAAIkAAACLAAAAjwAAAJIAAACVAAAAmQAAAJoAAACbAAAAnQAAAKAAAAChAAAA\"},\"shape\":[87],\"dtype\":\"int32\",\"order\":\"little\"}],[\"file\",{\"type\":\"ndarray\",\"array\":[\"a_atp_mg_tub\",\"a_atp_mg_tub\",\"a_atp_mg_tub\",\"a_atp_mg_tub\",\"a_atp_mg_tub\",\"a_atp_mg_tub\",\"a_atp_mg_tub\",\"a_atp_mg_tub\",\"a_atp_mg_tub\",\"a_atp_mg_tub\",\"a_atp_mg_tub\",\"a_atp_mg_tub\",\"a_atp_mg_tub\",\"a_atp_mg_tub\",\"a_atp_mg_tub\",\"a_atp_mg_tub\",\"a_atp_mg_tub\",\"a_atp_mg_tub\",\"a_atp_mg_tub\",\"a_atp_mg_tub\",\"a_atp_mg_tub\",\"a_atp_mg_tub\",\"a_atp_mg_tub\",\"a_atp_mg_tub\",\"a_atp_mg_tub\",\"a_atp_mg_tub\",\"a_atp_mg_tub\",\"a_atp_mg_tub\",\"a_atp_mg_tub\",\"a_atp_mg_tub\",\"a_atp_mg_tub\",\"a_atp_mg_tub\",\"a_atp_mg_tub\",\"a_atp_mg_tub\",\"a_atp_mg_tub\",\"a_atp_mg_tub\",\"a_atp_mg_tub\",\"a_atp_mg_tub\",\"a_atp_mg_tub\",\"a_atp_mg_tub\",\"a_atp_mg_tub\",\"a_atp_mg_tub\",\"a_atp_mg_tub\",\"a_atp_mg_tub\",\"a_atp_mg_tub\",\"a_atp_mg_tub\",\"a_atp_mg_tub\",\"a_atp_mg_tub\",\"a_atp_mg_tub\",\"a_atp_mg_tub\",\"a_atp_mg_tub\",\"a_atp_mg_tub\",\"a_atp_mg_tub\",\"a_atp_mg_tub\",\"a_atp_mg_tub\",\"a_atp_mg_tub\",\"a_atp_mg_tub\",\"a_atp_mg_tub\",\"a_atp_mg_tub\",\"a_atp_mg_tub\",\"a_atp_mg_tub\",\"a_atp_mg_tub\",\"a_atp_mg_tub\",\"a_atp_mg_tub\",\"a_atp_mg_tub\",\"a_atp_mg_tub\",\"a_atp_mg_tub\",\"a_atp_mg_tub\",\"a_atp_mg_tub\",\"a_atp_mg_tub\",\"a_atp_mg_tub\",\"a_atp_mg_tub\",\"a_atp_mg_tub\",\"a_atp_mg_tub\",\"a_atp_mg_tub\",\"a_atp_mg_tub\",\"a_atp_mg_tub\",\"a_atp_mg_tub\",\"a_atp_mg_tub\",\"a_atp_mg_tub\",\"a_atp_mg_tub\",\"a_atp_mg_tub\",\"a_atp_mg_tub\",\"a_atp_mg_tub\",\"a_atp_mg_tub\",\"a_atp_mg_tub\",\"a_atp_mg_tub\"],\"shape\":[87],\"dtype\":\"object\",\"order\":\"little\"}],[\"chain\",{\"type\":\"ndarray\",\"array\":[\"A\",\"A\",\"A\",\"A\",\"A\",\"A\",\"A\",\"A\",\"A\",\"A\",\"A\",\"A\",\"A\",\"A\",\"A\",\"A\",\"A\",\"A\",\"A\",\"A\",\"A\",\"A\",\"A\",\"A\",\"A\",\"A\",\"A\",\"A\",\"A\",\"A\",\"A\",\"A\",\"A\",\"A\",\"A\",\"A\",\"A\",\"A\",\"A\",\"A\",\"A\",\"A\",\"A\",\"A\",\"A\",\"A\",\"A\",\"A\",\"A\",\"A\",\"A\",\"A\",\"A\",\"A\",\"A\",\"A\",\"A\",\"A\",\"A\",\"A\",\"A\",\"A\",\"A\",\"A\",\"A\",\"A\",\"A\",\"A\",\"A\",\"A\",\"A\",\"A\",\"A\",\"A\",\"A\",\"A\",\"A\",\"A\",\"A\",\"A\",\"A\",\"A\",\"A\",\"A\",\"A\",\"A\",\"A\"],\"shape\":[87],\"dtype\":\"object\",\"order\":\"little\"}],[\"resi\",{\"type\":\"ndarray\",\"array\":{\"type\":\"bytes\",\"data\":\"EgAAABMAAAAUAAAAFQAAADMAAAA9AAAAXQAAAF4AAABfAAAAYAAAAGEAAABiAAAAYwAAAGQAAACUAAAAnwAAAKIAAACjAAAApAAAAKUAAACmAAAApgAAAKcAAACoAAAAqwAAAK0AAADNAAAAzwAAANAAAADRAAAA7gAAAO8AAADwAAAA8QAAAPIAAADzAAAA9AAAAPUAAAD2AAAA+QAAAPoAAAD7AAAA/wAAAAMBAAAGAQAABwEAAAoBAAAOAQAAGAEAABkBAAAaAQAAGwEAAB4BAAAfAQAAJAEAAD4BAAA/AQAASQEAAFcBAABYAQAAWQEAAFoBAABcAQAAXQEAAF8BAABgAQAAYwEAAGQBAABmAQAAZwEAAGoBAABrAQAAbQEAAG4BAABxAQAAcgEAAHQBAAB1AQAAdgEAAHgBAAB5AQAAgwEAAIQBAACFAQAAhgEAAIoBAACQAQAA\"},\"shape\":[87],\"dtype\":\"int32\",\"order\":\"little\"}],[\"resn\",{\"type\":\"ndarray\",\"array\":[\"ARG\",\"PHE\",\"ARG\",\"PRO\",\"LYS\",\"PRO\",\"GLN\",\"THR\",\"SER\",\"SER\",\"GLY\",\"LYS\",\"THR\",\"HIS\",\"LYS\",\"ASN\",\"VAL\",\"HIS\",\"GLU\",\"ASP\",\"LYS\",\"LYS\",\"ASN\",\"ARG\",\"TYR\",\"LYS\",\"ASN\",\"HIS\",\"SER\",\"SER\",\"ASP\",\"LEU\",\"ALA\",\"GLY\",\"SER\",\"GLU\",\"LYS\",\"VAL\",\"SER\",\"GLY\",\"ALA\",\"GLU\",\"LEU\",\"LYS\",\"ASN\",\"LYS\",\"SER\",\"ASN\",\"LYS\",\"THR\",\"HIS\",\"ILE\",\"ARG\",\"ASP\",\"ARG\",\"SER\",\"GLU\",\"ARG\",\"LEU\",\"THR\",\"ALA\",\"GLU\",\"TRP\",\"LYS\",\"ARG\",\"TYR\",\"GLU\",\"LYS\",\"LYS\",\"ASN\",\"LEU\",\"LYS\",\"LYS\",\"VAL\",\"LEU\",\"GLU\",\"GLU\",\"LEU\",\"ALA\",\"TRP\",\"ARG\",\"GLN\",\"ILE\",\"ASN\",\"MET\",\"MET\",\"ASN\"],\"shape\":[87],\"dtype\":\"object\",\"order\":\"little\"}],[\"atom_name\",{\"type\":\"ndarray\",\"array\":[\"NH2\",\"O\",\"CB\",\"CD\",\"CE\",\"O\",\"O\",\"OG1\",\"N\",\"N\",\"N\",\"NZ\",\"OG1\",\"N\",\"NZ\",\"ND2\",\"O\",\"ND1\",\"OE1\",\"C\",\"NZ\",\"N\",\"OD1\",\"NH2\",\"OH\",\"NZ\",\"ND2\",\"O\",\"OG\",\"N\",\"OD1\",\"O\",\"C\",\"N\",\"OG\",\"O\",\"NZ\",\"CG2\",\"N\",\"O\",\"O\",\"CG\",\"CD2\",\"CD\",\"C\",\"N\",\"OG\",\"OD1\",\"CB\",\"O\",\"O\",\"N\",\"NE\",\"OD1\",\"NH1\",\"OG\",\"CG\",\"CG\",\"O\",\"C\",\"O\",\"OE1\",\"CD1\",\"NZ\",\"C\",\"CE2\",\"OE2\",\"CA\",\"CB\",\"ND2\",\"CD1\",\"N\",\"NZ\",\"CG2\",\"O\",\"OE1\",\"OE2\",\"CD2\",\"N\",\"CZ3\",\"NH2\",\"OE1\",\"O\",\"N\",\"CE\",\"CE\",\"ND2\"],\"shape\":[87],\"dtype\":\"object\",\"order\":\"little\"}],[\"interacting_atom\",{\"type\":\"ndarray\",\"array\":[\"N6\",\"N6\",\"N7\",\"N1\",\"OE1\",\"N6\",\"O2B\",\"O3G\",\"O3B\",\"O2B\",\"O2B\",\"O2G\",\"O1B\",\"O2A\",\"CG\",\"OE1\",\"OE1\",\"OE2\",\"OG\",\"SD\",\"OE1\",\"SD\",\"NZ\",\"CG2\",\"CE\",\"OE1\",\"O3B\",\"O1A\",\"O3G\",\"O1G\",\"O1B\",\"O2G\",\"O2G\",\"O2G\",\"OE1\",\"CB\",\"OE2\",\"O\",\"CE1\",\"NZ\",\"NZ\",\"NZ\",\"O\",\"O\",\"CG1\",\"CG1\",\"OE2\",\"CG\",\"OE1\",\"OG\",\"OE1\",\"OE1\",\"OD2\",\"CD\",\"OD2\",\"OE1\",\"OE2\",\"CZ\",\"CB\",\"CB\",\"CD1\",\"NZ\",\"O\",\"OD1\",\"CD2\",\"CG\",\"ND2\",\"OE2\",\"ND2\",\"OE2\",\"OD1\",\"CD1\",\"OE1\",\"CG2\",\"CD1\",\"NZ\",\"NH2\",\"OE1\",\"CE\",\"O\",\"OE2\",\"CD\",\"NH2\",\"NH2\",\"NH1\",\"OE2\",\"OH\"],\"shape\":[87],\"dtype\":\"object\",\"order\":\"little\"}],[\"interacting_resn\",{\"type\":\"ndarray\",\"array\":[\"ATP\",\"ATP\",\"ATP\",\"ATP\",\"GLU\",\"ATP\",\"ATP\",\"ATP\",\"ATP\",\"ATP\",\"ATP\",\"ATP\",\"ATP\",\"ATP\",\"GLU\",\"GLU\",\"GLU\",\"GLU\",\"SER\",\"MET\",\"GLU\",\"MET\",\"LYS\",\"THR\",\"MET\",\"GLU\",\"ATP\",\"ATP\",\"ATP\",\"ATP\",\"ATP\",\"ATP\",\"ATP\",\"ATP\",\"GLU\",\"GLU\",\"GLU\",\"GLY\",\"TYR\",\"LYS\",\"LYS\",\"LYS\",\"TYR\",\"GLY\",\"VAL\",\"VAL\",\"GLU\",\"ARG\",\"GLN\",\"SER\",\"GLN\",\"GLN\",\"ASP\",\"ARG\",\"ASP\",\"GLU\",\"GLU\",\"PHE\",\"ALA\",\"ALA\",\"TRP\",\"LYS\",\"ALA\",\"ASN\",\"TYR\",\"GLU\",\"ASN\",\"GLU\",\"ASN\",\"GLU\",\"ASN\",\"LEU\",\"GLU\",\"VAL\",\"LEU\",\"LYS\",\"ARG\",\"GLU\",\"MET\",\"TRP\",\"GLU\",\"ARG\",\"ARG\",\"ARG\",\"ARG\",\"GLU\",\"TYR\"],\"shape\":[87],\"dtype\":\"object\",\"order\":\"little\"}],[\"interacting_chain\",{\"type\":\"ndarray\",\"array\":[\"ATP\",\"ATP\",\"ATP\",\"ATP\",\"beta-tubulin\",\"ATP\",\"ATP\",\"ATP\",\"ATP\",\"ATP\",\"ATP\",\"ATP\",\"ATP\",\"ATP\",\"beta-tubulin\",\"beta-tubulin\",\"beta-tubulin\",\"beta-tubulin\",\"beta-tubulin\",\"beta-tubulin\",\"kinesin B\",\"beta-tubulin\",\"kinesin B\",\"beta-tubulin\",\"beta-tubulin\",\"beta-tubulin\",\"ATP\",\"ATP\",\"ATP\",\"ATP\",\"ATP\",\"ATP\",\"ATP\",\"ATP\",\"alpha-tubulin\",\"alpha-tubulin\",\"alpha-tubulin\",\"alpha-tubulin\",\"alpha-tubulin\",\"alpha-tubulin\",\"alpha-tubulin\",\"alpha-tubulin\",\"alpha-tubulin\",\"alpha-tubulin\",\"alpha-tubulin\",\"alpha-tubulin\",\"alpha-tubulin\",\"alpha-tubulin\",\"beta-tubulin\",\"beta-tubulin\",\"beta-tubulin\",\"beta-tubulin\",\"beta-tubulin\",\"beta-tubulin\",\"beta-tubulin\",\"alpha-tubulin\",\"alpha-tubulin\",\"beta-tubulin\",\"kinesin B\",\"kinesin B\",\"kinesin B\",\"kinesin B\",\"kinesin B\",\"kinesin B\",\"kinesin B\",\"kinesin B\",\"kinesin B\",\"kinesin B\",\"kinesin B\",\"kinesin B\",\"kinesin B\",\"kinesin B\",\"kinesin B\",\"kinesin B\",\"kinesin B\",\"kinesin B\",\"kinesin B\",\"kinesin B\",\"kinesin B\",\"kinesin B\",\"kinesin B\",\"kinesin B\",\"kinesin B\",\"kinesin B\",\"kinesin B\",\"kinesin B\",\"kinesin B\"],\"shape\":[87],\"dtype\":\"object\",\"order\":\"little\"}],[\"distance (angstroms)\",{\"type\":\"ndarray\",\"array\":{\"type\":\"bytes\",\"data\":\"AAAAgKz6DUAAAABABwUSQAAAAGBImQtAAQAAAB3gCUAAAAAgrSoTQAAAAOCrFxJAAQAAgDTjDUAAAADAsgACQAAAAGAOvQVA////X4pyCkAAAAAAsnQIQAAAAOAZTQVAAAAAYHXcBkAAAADAF54HQAAAAMBzoAlAAAAAAFmCCEAAAACgyIsJQAAAAKBqCgVAAAAAwEwZCkAAAADAGEoOQAAAAEB8ngVAAAAAgGjzDEAAAAAgZSoDQAAAAADQzw1AAAAAYPCLEEAAAABAOa4SQAAAAECtFQlAAAAAoBwcEEAAAABA8DUIQAAAAIDq5QZAAAAAQGGZEkAAAADA1dgRQAAAAMCOmA5AAQAAQLNcBkAAAACA0MYHQAAAAKBmQBBAAAAAQIYUBUAAAACATl8JQAAAACDuzRFAAAAAIF1pEUABAAAAIpQHQAAAAABgEAhAAAAAoG1qEEAAAABAdVEKQAAAACCJhAtAAAAAgLYyC0AAAACgqHcEQAEAAKAK9w1AAAAAwKx1DkAAAAAg9V4OQAAAAACB+QVAAAAAoE4aE0AAAADAqjUEQAAAAABPRQlAAAAAIGE4EUAAAACg5xgMQAAAAECN8g9AAAAAoO/uE0AAAABAcSwNQAAAAGA8GhBAAAAAQCtmCkABAABgpasHQAAAACDjcwpA////fxoQCEAAAAAAFqYMQAAAAACHCgtAAAAAQDyOAEAAAABgjfUQQAAAAEDeLwxAAAAAQGLYAUAAAACAoGsIQAAAAOBCxxFAAAAAwFOLBUABAAAAyZkMQAAAAICOigtAAAAAgBJ/BUAAAAAgdKIGQAAAAKD75wdAAAAAIOxHEUAAAAAg5VANQAAAAEAnsQVAAAAA4G1qC0ABAADgm3oGQAAAACDDrBNAAAAAQJPpC0AAAAAANeARQAAAAGBv3BNA\"},\"shape\":[87],\"dtype\":\"float64\",\"order\":\"little\"}],[\"residue_one_letter\",{\"type\":\"ndarray\",\"array\":[\"R\",\"F\",\"R\",\"P\",\"K\",\"P\",\"Q\",\"T\",\"S\",\"S\",\"G\",\"K\",\"T\",\"H\",\"K\",\"N\",\"V\",\"H\",\"E\",\"D\",\"K\",\"K\",\"N\",\"R\",\"Y\",\"K\",\"N\",\"H\",\"S\",\"S\",\"D\",\"L\",\"A\",\"G\",\"S\",\"E\",\"K\",\"V\",\"S\",\"G\",\"A\",\"E\",\"L\",\"K\",\"N\",\"K\",\"S\",\"N\",\"K\",\"T\",\"H\",\"I\",\"R\",\"D\",\"R\",\"S\",\"E\",\"R\",\"L\",\"T\",\"A\",\"E\",\"W\",\"K\",\"R\",\"Y\",\"E\",\"K\",\"K\",\"N\",\"L\",\"K\",\"K\",\"V\",\"L\",\"E\",\"E\",\"L\",\"A\",\"W\",\"R\",\"Q\",\"I\",\"N\",\"M\",\"M\",\"N\"],\"shape\":[87],\"dtype\":\"object\",\"order\":\"little\"}],[\"full_atom_name\",{\"type\":\"ndarray\",\"array\":[\"Nitrogen eta 2\",\"Oxygen\",\"Carbon beta\",\"Carbon delta\",\"Carbon epsilon\",\"Oxygen\",\"Oxygen\",\"Oxygen gamma 1\",\"Nitrogen\",\"Nitrogen\",\"Nitrogen\",\"Nitrogen zeta\",\"Oxygen gamma 1\",\"Nitrogen\",\"Nitrogen zeta\",\"Nitrogen delta 2\",\"Oxygen\",\"Nitrogen delta 1\",\"Oxygen epsilon 1\",\"Carbon\",\"Nitrogen zeta\",\"Nitrogen\",\"Oxygen delta 1\",\"Nitrogen eta 2\",\"Unknown\",\"Nitrogen zeta\",\"Nitrogen delta 2\",\"Oxygen\",\"Oxygen gamma\",\"Nitrogen\",\"Oxygen delta 1\",\"Oxygen\",\"Carbon\",\"Nitrogen\",\"Oxygen gamma\",\"Oxygen\",\"Nitrogen zeta\",\"Carbon gamma 2\",\"Nitrogen\",\"Oxygen\",\"Oxygen\",\"Carbon gamma\",\"Carbon delta 2\",\"Carbon delta\",\"Carbon\",\"Nitrogen\",\"Oxygen gamma\",\"Oxygen delta 1\",\"Carbon beta\",\"Oxygen\",\"Oxygen\",\"Nitrogen\",\"Nitrogen epsilon\",\"Oxygen delta 1\",\"Nitrogen eta 1\",\"Oxygen gamma\",\"Carbon gamma\",\"Carbon gamma\",\"Oxygen\",\"Carbon\",\"Oxygen\",\"Oxygen epsilon 1\",\"Carbon delta 1\",\"Nitrogen zeta\",\"Carbon\",\"Carbon epsilon 2\",\"Oxygen epsilon 2\",\"Carbon alpha\",\"Carbon beta\",\"Nitrogen delta 2\",\"Carbon delta 1\",\"Nitrogen\",\"Nitrogen zeta\",\"Carbon gamma 2\",\"Oxygen\",\"Oxygen epsilon 1\",\"Oxygen epsilon 2\",\"Carbon delta 2\",\"Nitrogen\",\"Unknown\",\"Nitrogen eta 2\",\"Oxygen epsilon 1\",\"Oxygen\",\"Nitrogen\",\"Carbon epsilon\",\"Carbon epsilon\",\"Nitrogen delta 2\"],\"shape\":[87],\"dtype\":\"object\",\"order\":\"little\"}],[\"interacting_full_atom_name\",{\"type\":\"ndarray\",\"array\":[\"Nitrogen 6\",\"Nitrogen 6\",\"Nitrogen 7\",\"Nitrogen 1\",\"Oxygen epsilon 1\",\"Nitrogen 6\",\"Oxygen 2 beta\",\"Oxygen 3 gamma\",\"Oxygen 3 beta\",\"Oxygen 2 beta\",\"Oxygen 2 beta\",\"Oxygen 2 gamma\",\"Oxygen 1 beta\",\"Oxygen 2 alpha\",\"Carbon gamma\",\"Oxygen epsilon 1\",\"Oxygen epsilon 1\",\"Oxygen epsilon 2\",\"Oxygen gamma\",\"Unknown\",\"Oxygen epsilon 1\",\"Unknown\",\"Nitrogen zeta\",\"Carbon gamma 2\",\"Carbon epsilon\",\"Oxygen epsilon 1\",\"Oxygen 3 beta\",\"Oxygen 1 alpha\",\"Oxygen 3 gamma\",\"Oxygen 1 gamma\",\"Oxygen 1 beta\",\"Oxygen 2 gamma\",\"Oxygen 2 gamma\",\"Oxygen 2 gamma\",\"Oxygen epsilon 1\",\"Carbon beta\",\"Oxygen epsilon 2\",\"Oxygen\",\"Carbon epsilon 1\",\"Nitrogen zeta\",\"Nitrogen zeta\",\"Nitrogen zeta\",\"Oxygen\",\"Oxygen\",\"Unknown\",\"Unknown\",\"Oxygen epsilon 2\",\"Carbon gamma\",\"Oxygen epsilon 1\",\"Oxygen gamma\",\"Oxygen epsilon 1\",\"Oxygen epsilon 1\",\"Oxygen delta 2\",\"Carbon delta\",\"Oxygen delta 2\",\"Oxygen epsilon 1\",\"Oxygen epsilon 2\",\"Carbon zeta\",\"Carbon beta\",\"Carbon beta\",\"Carbon delta 1\",\"Nitrogen zeta\",\"Oxygen\",\"Oxygen delta 1\",\"Carbon delta 2\",\"Carbon gamma\",\"Nitrogen delta 2\",\"Oxygen epsilon 2\",\"Nitrogen delta 2\",\"Oxygen epsilon 2\",\"Oxygen delta 1\",\"Carbon delta 1\",\"Oxygen epsilon 1\",\"Carbon gamma 2\",\"Carbon delta 1\",\"Nitrogen zeta\",\"Nitrogen eta 2\",\"Oxygen epsilon 1\",\"Carbon epsilon\",\"Oxygen\",\"Oxygen epsilon 2\",\"Carbon delta\",\"Nitrogen eta 2\",\"Nitrogen eta 2\",\"Nitrogen eta 1\",\"Oxygen epsilon 2\",\"Unknown\"],\"shape\":[87],\"dtype\":\"object\",\"order\":\"little\"}],[\"residue\",{\"type\":\"ndarray\",\"array\":[\"18R\",\"19F\",\"20R\",\"21P\",\"51K\",\"61P\",\"93Q\",\"94T\",\"95S\",\"96S\",\"97G\",\"98K\",\"99T\",\"100H\",\"148K\",\"159N\",\"162V\",\"163H\",\"164E\",\"165D\",\"166K\",\"166K\",\"167N\",\"168R\",\"171Y\",\"173K\",\"205N\",\"207H\",\"208S\",\"209S\",\"238D\",\"239L\",\"240A\",\"241G\",\"242S\",\"243E\",\"244K\",\"245V\",\"246S\",\"249G\",\"250A\",\"251E\",\"255L\",\"259K\",\"262N\",\"263K\",\"266S\",\"270N\",\"280K\",\"281T\",\"282H\",\"283I\",\"286R\",\"287D\",\"292R\",\"318S\",\"319E\",\"329R\",\"343L\",\"344T\",\"345A\",\"346E\",\"348W\",\"349K\",\"351R\",\"352Y\",\"355E\",\"356K\",\"358K\",\"359N\",\"362L\",\"363K\",\"365K\",\"366V\",\"369L\",\"370E\",\"372E\",\"373L\",\"374A\",\"376W\",\"377R\",\"387Q\",\"388I\",\"389N\",\"390M\",\"394M\",\"400N\"],\"shape\":[87],\"dtype\":\"object\",\"order\":\"little\"}]]}}},\"view\":{\"type\":\"object\",\"name\":\"CDSView\",\"id\":\"p3660\",\"attributes\":{\"filter\":{\"type\":\"object\",\"name\":\"BooleanFilter\",\"id\":\"p3659\",\"attributes\":{\"booleans\":[true,true,true,true,false,true,true,true,true,true,true,true,true,true,false,false,false,false,false,false,false,false,false,false,false,false,true,true,true,true,true,true,true,true,false,false,false,false,false,false,false,false,false,false,false,false,false,false,false,false,false,false,false,false,false,false,false,false,false,false,false,false,false,false,false,false,false,false,false,false,false,false,false,false,false,false,false,false,false,false,false,false,false,false,false,false,false]}}}},\"glyph\":{\"type\":\"object\",\"name\":\"Scatter\",\"id\":\"p3665\",\"attributes\":{\"x\":{\"type\":\"field\",\"field\":\"resi\"},\"y\":{\"type\":\"field\",\"field\":\"distance (angstroms)\"},\"size\":{\"type\":\"value\",\"value\":10},\"line_color\":{\"type\":\"field\",\"field\":\"interacting_chain\",\"transform\":{\"type\":\"object\",\"name\":\"CategoricalColorMapper\",\"id\":\"p3627\",\"attributes\":{\"palette\":[\"#1f77b4\",\"#ff7f0e\",\"#2ca02c\",\"#d62728\",\"#9467bd\",\"#8c564b\",\"#e377c2\",\"#7f7f7f\",\"#bcbd22\",\"#17becf\"],\"factors\":{\"type\":\"ndarray\",\"array\":[\"ATP\",\"beta-tubulin\",\"kinesin B\",\"alpha-tubulin\"],\"shape\":[4],\"dtype\":\"object\",\"order\":\"little\"}}}},\"line_alpha\":{\"type\":\"value\",\"value\":0.6},\"fill_color\":{\"type\":\"field\",\"field\":\"interacting_chain\",\"transform\":{\"id\":\"p3627\"}},\"fill_alpha\":{\"type\":\"value\",\"value\":0.6},\"hatch_color\":{\"type\":\"field\",\"field\":\"interacting_chain\",\"transform\":{\"id\":\"p3627\"}},\"hatch_alpha\":{\"type\":\"value\",\"value\":0.6}}},\"nonselection_glyph\":{\"type\":\"object\",\"name\":\"Scatter\",\"id\":\"p3666\",\"attributes\":{\"x\":{\"type\":\"field\",\"field\":\"resi\"},\"y\":{\"type\":\"field\",\"field\":\"distance (angstroms)\"},\"size\":{\"type\":\"value\",\"value\":10},\"line_color\":{\"type\":\"field\",\"field\":\"interacting_chain\",\"transform\":{\"id\":\"p3627\"}},\"line_alpha\":{\"type\":\"value\",\"value\":0.1},\"fill_color\":{\"type\":\"field\",\"field\":\"interacting_chain\",\"transform\":{\"id\":\"p3627\"}},\"fill_alpha\":{\"type\":\"value\",\"value\":0.1},\"hatch_color\":{\"type\":\"field\",\"field\":\"interacting_chain\",\"transform\":{\"id\":\"p3627\"}},\"hatch_alpha\":{\"type\":\"value\",\"value\":0.1}}},\"muted_glyph\":{\"type\":\"object\",\"name\":\"Scatter\",\"id\":\"p3667\",\"attributes\":{\"x\":{\"type\":\"field\",\"field\":\"resi\"},\"y\":{\"type\":\"field\",\"field\":\"distance (angstroms)\"},\"size\":{\"type\":\"value\",\"value\":10},\"line_color\":{\"type\":\"field\",\"field\":\"interacting_chain\",\"transform\":{\"id\":\"p3627\"}},\"line_alpha\":{\"type\":\"value\",\"value\":0.2},\"fill_color\":{\"type\":\"field\",\"field\":\"interacting_chain\",\"transform\":{\"id\":\"p3627\"}},\"fill_alpha\":{\"type\":\"value\",\"value\":0.2},\"hatch_color\":{\"type\":\"field\",\"field\":\"interacting_chain\",\"transform\":{\"id\":\"p3627\"}},\"hatch_alpha\":{\"type\":\"value\",\"value\":0.2}}}}},{\"type\":\"object\",\"name\":\"GlyphRenderer\",\"id\":\"p3682\",\"attributes\":{\"data_source\":{\"id\":\"p3624\"},\"view\":{\"type\":\"object\",\"name\":\"CDSView\",\"id\":\"p3674\",\"attributes\":{\"filter\":{\"type\":\"object\",\"name\":\"BooleanFilter\",\"id\":\"p3673\",\"attributes\":{\"booleans\":[false,false,false,false,true,false,false,false,false,false,false,false,false,false,true,true,true,true,true,true,false,true,false,true,true,true,false,false,false,false,false,false,false,false,false,false,false,false,false,false,false,false,false,false,false,false,false,false,true,true,true,true,true,true,true,false,false,true,false,false,false,false,false,false,false,false,false,false,false,false,false,false,false,false,false,false,false,false,false,false,false,false,false,false,false,false,false]}}}},\"glyph\":{\"type\":\"object\",\"name\":\"Scatter\",\"id\":\"p3679\",\"attributes\":{\"x\":{\"type\":\"field\",\"field\":\"resi\"},\"y\":{\"type\":\"field\",\"field\":\"distance (angstroms)\"},\"size\":{\"type\":\"value\",\"value\":10},\"line_color\":{\"type\":\"field\",\"field\":\"interacting_chain\",\"transform\":{\"id\":\"p3627\"}},\"line_alpha\":{\"type\":\"value\",\"value\":0.6},\"fill_color\":{\"type\":\"field\",\"field\":\"interacting_chain\",\"transform\":{\"id\":\"p3627\"}},\"fill_alpha\":{\"type\":\"value\",\"value\":0.6},\"hatch_color\":{\"type\":\"field\",\"field\":\"interacting_chain\",\"transform\":{\"id\":\"p3627\"}},\"hatch_alpha\":{\"type\":\"value\",\"value\":0.6}}},\"nonselection_glyph\":{\"type\":\"object\",\"name\":\"Scatter\",\"id\":\"p3680\",\"attributes\":{\"x\":{\"type\":\"field\",\"field\":\"resi\"},\"y\":{\"type\":\"field\",\"field\":\"distance (angstroms)\"},\"size\":{\"type\":\"value\",\"value\":10},\"line_color\":{\"type\":\"field\",\"field\":\"interacting_chain\",\"transform\":{\"id\":\"p3627\"}},\"line_alpha\":{\"type\":\"value\",\"value\":0.1},\"fill_color\":{\"type\":\"field\",\"field\":\"interacting_chain\",\"transform\":{\"id\":\"p3627\"}},\"fill_alpha\":{\"type\":\"value\",\"value\":0.1},\"hatch_color\":{\"type\":\"field\",\"field\":\"interacting_chain\",\"transform\":{\"id\":\"p3627\"}},\"hatch_alpha\":{\"type\":\"value\",\"value\":0.1}}},\"muted_glyph\":{\"type\":\"object\",\"name\":\"Scatter\",\"id\":\"p3681\",\"attributes\":{\"x\":{\"type\":\"field\",\"field\":\"resi\"},\"y\":{\"type\":\"field\",\"field\":\"distance (angstroms)\"},\"size\":{\"type\":\"value\",\"value\":10},\"line_color\":{\"type\":\"field\",\"field\":\"interacting_chain\",\"transform\":{\"id\":\"p3627\"}},\"line_alpha\":{\"type\":\"value\",\"value\":0.2},\"fill_color\":{\"type\":\"field\",\"field\":\"interacting_chain\",\"transform\":{\"id\":\"p3627\"}},\"fill_alpha\":{\"type\":\"value\",\"value\":0.2},\"hatch_color\":{\"type\":\"field\",\"field\":\"interacting_chain\",\"transform\":{\"id\":\"p3627\"}},\"hatch_alpha\":{\"type\":\"value\",\"value\":0.2}}}}},{\"type\":\"object\",\"name\":\"GlyphRenderer\",\"id\":\"p3695\",\"attributes\":{\"data_source\":{\"id\":\"p3624\"},\"view\":{\"type\":\"object\",\"name\":\"CDSView\",\"id\":\"p3687\",\"attributes\":{\"filter\":{\"type\":\"object\",\"name\":\"BooleanFilter\",\"id\":\"p3686\",\"attributes\":{\"booleans\":[false,false,false,false,false,false,false,false,false,false,false,false,false,false,false,false,false,false,false,false,true,false,true,false,false,false,false,false,false,false,false,false,false,false,false,false,false,false,false,false,false,false,false,false,false,false,false,false,false,false,false,false,false,false,false,false,false,false,true,true,true,true,true,true,true,true,true,true,true,true,true,true,true,true,true,true,true,true,true,true,true,true,true,true,true,true,true]}}}},\"glyph\":{\"type\":\"object\",\"name\":\"Scatter\",\"id\":\"p3692\",\"attributes\":{\"x\":{\"type\":\"field\",\"field\":\"resi\"},\"y\":{\"type\":\"field\",\"field\":\"distance (angstroms)\"},\"size\":{\"type\":\"value\",\"value\":10},\"line_color\":{\"type\":\"field\",\"field\":\"interacting_chain\",\"transform\":{\"id\":\"p3627\"}},\"line_alpha\":{\"type\":\"value\",\"value\":0.6},\"fill_color\":{\"type\":\"field\",\"field\":\"interacting_chain\",\"transform\":{\"id\":\"p3627\"}},\"fill_alpha\":{\"type\":\"value\",\"value\":0.6},\"hatch_color\":{\"type\":\"field\",\"field\":\"interacting_chain\",\"transform\":{\"id\":\"p3627\"}},\"hatch_alpha\":{\"type\":\"value\",\"value\":0.6}}},\"nonselection_glyph\":{\"type\":\"object\",\"name\":\"Scatter\",\"id\":\"p3693\",\"attributes\":{\"x\":{\"type\":\"field\",\"field\":\"resi\"},\"y\":{\"type\":\"field\",\"field\":\"distance (angstroms)\"},\"size\":{\"type\":\"value\",\"value\":10},\"line_color\":{\"type\":\"field\",\"field\":\"interacting_chain\",\"transform\":{\"id\":\"p3627\"}},\"line_alpha\":{\"type\":\"value\",\"value\":0.1},\"fill_color\":{\"type\":\"field\",\"field\":\"interacting_chain\",\"transform\":{\"id\":\"p3627\"}},\"fill_alpha\":{\"type\":\"value\",\"value\":0.1},\"hatch_color\":{\"type\":\"field\",\"field\":\"interacting_chain\",\"transform\":{\"id\":\"p3627\"}},\"hatch_alpha\":{\"type\":\"value\",\"value\":0.1}}},\"muted_glyph\":{\"type\":\"object\",\"name\":\"Scatter\",\"id\":\"p3694\",\"attributes\":{\"x\":{\"type\":\"field\",\"field\":\"resi\"},\"y\":{\"type\":\"field\",\"field\":\"distance (angstroms)\"},\"size\":{\"type\":\"value\",\"value\":10},\"line_color\":{\"type\":\"field\",\"field\":\"interacting_chain\",\"transform\":{\"id\":\"p3627\"}},\"line_alpha\":{\"type\":\"value\",\"value\":0.2},\"fill_color\":{\"type\":\"field\",\"field\":\"interacting_chain\",\"transform\":{\"id\":\"p3627\"}},\"fill_alpha\":{\"type\":\"value\",\"value\":0.2},\"hatch_color\":{\"type\":\"field\",\"field\":\"interacting_chain\",\"transform\":{\"id\":\"p3627\"}},\"hatch_alpha\":{\"type\":\"value\",\"value\":0.2}}}}},{\"type\":\"object\",\"name\":\"GlyphRenderer\",\"id\":\"p3708\",\"attributes\":{\"data_source\":{\"id\":\"p3624\"},\"view\":{\"type\":\"object\",\"name\":\"CDSView\",\"id\":\"p3700\",\"attributes\":{\"filter\":{\"type\":\"object\",\"name\":\"BooleanFilter\",\"id\":\"p3699\",\"attributes\":{\"booleans\":[false,false,false,false,false,false,false,false,false,false,false,false,false,false,false,false,false,false,false,false,false,false,false,false,false,false,false,false,false,false,false,false,false,false,true,true,true,true,true,true,true,true,true,true,true,true,true,true,false,false,false,false,false,false,false,true,true,false,false,false,false,false,false,false,false,false,false,false,false,false,false,false,false,false,false,false,false,false,false,false,false,false,false,false,false,false,false]}}}},\"glyph\":{\"type\":\"object\",\"name\":\"Scatter\",\"id\":\"p3705\",\"attributes\":{\"x\":{\"type\":\"field\",\"field\":\"resi\"},\"y\":{\"type\":\"field\",\"field\":\"distance (angstroms)\"},\"size\":{\"type\":\"value\",\"value\":10},\"line_color\":{\"type\":\"field\",\"field\":\"interacting_chain\",\"transform\":{\"id\":\"p3627\"}},\"line_alpha\":{\"type\":\"value\",\"value\":0.6},\"fill_color\":{\"type\":\"field\",\"field\":\"interacting_chain\",\"transform\":{\"id\":\"p3627\"}},\"fill_alpha\":{\"type\":\"value\",\"value\":0.6},\"hatch_color\":{\"type\":\"field\",\"field\":\"interacting_chain\",\"transform\":{\"id\":\"p3627\"}},\"hatch_alpha\":{\"type\":\"value\",\"value\":0.6}}},\"nonselection_glyph\":{\"type\":\"object\",\"name\":\"Scatter\",\"id\":\"p3706\",\"attributes\":{\"x\":{\"type\":\"field\",\"field\":\"resi\"},\"y\":{\"type\":\"field\",\"field\":\"distance (angstroms)\"},\"size\":{\"type\":\"value\",\"value\":10},\"line_color\":{\"type\":\"field\",\"field\":\"interacting_chain\",\"transform\":{\"id\":\"p3627\"}},\"line_alpha\":{\"type\":\"value\",\"value\":0.1},\"fill_color\":{\"type\":\"field\",\"field\":\"interacting_chain\",\"transform\":{\"id\":\"p3627\"}},\"fill_alpha\":{\"type\":\"value\",\"value\":0.1},\"hatch_color\":{\"type\":\"field\",\"field\":\"interacting_chain\",\"transform\":{\"id\":\"p3627\"}},\"hatch_alpha\":{\"type\":\"value\",\"value\":0.1}}},\"muted_glyph\":{\"type\":\"object\",\"name\":\"Scatter\",\"id\":\"p3707\",\"attributes\":{\"x\":{\"type\":\"field\",\"field\":\"resi\"},\"y\":{\"type\":\"field\",\"field\":\"distance (angstroms)\"},\"size\":{\"type\":\"value\",\"value\":10},\"line_color\":{\"type\":\"field\",\"field\":\"interacting_chain\",\"transform\":{\"id\":\"p3627\"}},\"line_alpha\":{\"type\":\"value\",\"value\":0.2},\"fill_color\":{\"type\":\"field\",\"field\":\"interacting_chain\",\"transform\":{\"id\":\"p3627\"}},\"fill_alpha\":{\"type\":\"value\",\"value\":0.2},\"hatch_color\":{\"type\":\"field\",\"field\":\"interacting_chain\",\"transform\":{\"id\":\"p3627\"}},\"hatch_alpha\":{\"type\":\"value\",\"value\":0.2}}}}},{\"type\":\"object\",\"name\":\"GlyphRenderer\",\"id\":\"p3719\",\"attributes\":{\"data_source\":{\"id\":\"p3624\"},\"view\":{\"type\":\"object\",\"name\":\"CDSView\",\"id\":\"p3720\",\"attributes\":{\"filter\":{\"type\":\"object\",\"name\":\"AllIndices\",\"id\":\"p3721\"}}},\"glyph\":{\"type\":\"object\",\"name\":\"Text\",\"id\":\"p3716\",\"attributes\":{\"x\":{\"type\":\"field\",\"field\":\"resi\"},\"y\":{\"type\":\"field\",\"field\":\"distance (angstroms)\"},\"text\":{\"type\":\"field\",\"field\":\"residue_one_letter\"},\"text_color\":{\"type\":\"value\",\"value\":\"black\"},\"text_font_size\":{\"type\":\"value\",\"value\":\"10pt\"},\"text_align\":{\"type\":\"value\",\"value\":\"center\"},\"text_baseline\":{\"type\":\"value\",\"value\":\"middle\"}}},\"nonselection_glyph\":{\"type\":\"object\",\"name\":\"Text\",\"id\":\"p3717\",\"attributes\":{\"x\":{\"type\":\"field\",\"field\":\"resi\"},\"y\":{\"type\":\"field\",\"field\":\"distance (angstroms)\"},\"text\":{\"type\":\"field\",\"field\":\"residue_one_letter\"},\"text_color\":{\"type\":\"value\",\"value\":\"black\"},\"text_alpha\":{\"type\":\"value\",\"value\":0.1},\"text_font_size\":{\"type\":\"value\",\"value\":\"10pt\"},\"text_align\":{\"type\":\"value\",\"value\":\"center\"},\"text_baseline\":{\"type\":\"value\",\"value\":\"middle\"}}},\"muted_glyph\":{\"type\":\"object\",\"name\":\"Text\",\"id\":\"p3718\",\"attributes\":{\"x\":{\"type\":\"field\",\"field\":\"resi\"},\"y\":{\"type\":\"field\",\"field\":\"distance (angstroms)\"},\"text\":{\"type\":\"field\",\"field\":\"residue_one_letter\"},\"text_color\":{\"type\":\"value\",\"value\":\"black\"},\"text_alpha\":{\"type\":\"value\",\"value\":0.2},\"text_font_size\":{\"type\":\"value\",\"value\":\"10pt\"},\"text_align\":{\"type\":\"value\",\"value\":\"center\"},\"text_baseline\":{\"type\":\"value\",\"value\":\"middle\"}}}}}],\"toolbar\":{\"type\":\"object\",\"name\":\"Toolbar\",\"id\":\"p3637\",\"attributes\":{\"tools\":[{\"type\":\"object\",\"name\":\"PanTool\",\"id\":\"p3652\"},{\"type\":\"object\",\"name\":\"WheelZoomTool\",\"id\":\"p3653\"},{\"type\":\"object\",\"name\":\"BoxZoomTool\",\"id\":\"p3654\",\"attributes\":{\"overlay\":{\"type\":\"object\",\"name\":\"BoxAnnotation\",\"id\":\"p3655\",\"attributes\":{\"syncable\":false,\"level\":\"overlay\",\"visible\":false,\"left_units\":\"canvas\",\"right_units\":\"canvas\",\"bottom_units\":\"canvas\",\"top_units\":\"canvas\",\"line_color\":\"black\",\"line_alpha\":1.0,\"line_width\":2,\"line_dash\":[4,4],\"fill_color\":\"lightgrey\",\"fill_alpha\":0.5}}}},{\"type\":\"object\",\"name\":\"SaveTool\",\"id\":\"p3656\"},{\"type\":\"object\",\"name\":\"ResetTool\",\"id\":\"p3657\"},{\"type\":\"object\",\"name\":\"HelpTool\",\"id\":\"p3658\"},{\"type\":\"object\",\"name\":\"HoverTool\",\"id\":\"p3712\",\"attributes\":{\"renderers\":\"auto\",\"tooltips\":[[\"Resi\",\"@residue\"],[\"Distance\",\"@{distance (angstroms)}{0.2f} \\u00c5\"],[\"Chain\",\"@chain\"],[\"Interacting Chain\",\"@interacting_chain\"],[\"Interacting Resn\",\"@interacting_resn\"]]}}]}},\"left\":[{\"type\":\"object\",\"name\":\"LinearAxis\",\"id\":\"p3647\",\"attributes\":{\"ticker\":{\"type\":\"object\",\"name\":\"BasicTicker\",\"id\":\"p3648\",\"attributes\":{\"mantissas\":[1,2,5]}},\"formatter\":{\"type\":\"object\",\"name\":\"BasicTickFormatter\",\"id\":\"p3649\"},\"axis_label\":\"Distance (angstroms)\",\"major_label_policy\":{\"type\":\"object\",\"name\":\"AllLabels\",\"id\":\"p3650\"}}}],\"below\":[{\"type\":\"object\",\"name\":\"LinearAxis\",\"id\":\"p3642\",\"attributes\":{\"ticker\":{\"type\":\"object\",\"name\":\"BasicTicker\",\"id\":\"p3643\",\"attributes\":{\"mantissas\":[1,2,5]}},\"formatter\":{\"type\":\"object\",\"name\":\"BasicTickFormatter\",\"id\":\"p3644\"},\"axis_label\":\"Residue Index\",\"major_label_policy\":{\"type\":\"object\",\"name\":\"AllLabels\",\"id\":\"p3645\"}}}],\"center\":[{\"type\":\"object\",\"name\":\"Grid\",\"id\":\"p3646\",\"attributes\":{\"axis\":{\"id\":\"p3642\"}}},{\"type\":\"object\",\"name\":\"Grid\",\"id\":\"p3651\",\"attributes\":{\"dimension\":1,\"axis\":{\"id\":\"p3647\"}}},{\"type\":\"object\",\"name\":\"Legend\",\"id\":\"p3671\",\"attributes\":{\"location\":\"bottom_right\",\"title\":\"Interacting Chain\",\"click_policy\":\"mute\",\"items\":[{\"type\":\"object\",\"name\":\"LegendItem\",\"id\":\"p3672\",\"attributes\":{\"label\":{\"type\":\"value\",\"value\":\"ATP\"},\"renderers\":[{\"id\":\"p3668\"}]}},{\"type\":\"object\",\"name\":\"LegendItem\",\"id\":\"p3685\",\"attributes\":{\"label\":{\"type\":\"value\",\"value\":\"beta-tubulin\"},\"renderers\":[{\"id\":\"p3682\"}]}},{\"type\":\"object\",\"name\":\"LegendItem\",\"id\":\"p3698\",\"attributes\":{\"label\":{\"type\":\"value\",\"value\":\"kinesin B\"},\"renderers\":[{\"id\":\"p3695\"}]}},{\"type\":\"object\",\"name\":\"LegendItem\",\"id\":\"p3711\",\"attributes\":{\"label\":{\"type\":\"value\",\"value\":\"alpha-tubulin\"},\"renderers\":[{\"id\":\"p3708\"}]}}]}}]}}]}};\n  const render_items = [{\"docid\":\"b34c96e0-bc01-4c30-9962-541ecfeb17a8\",\"roots\":{\"p3628\":\"bf90a0b3-7cff-487d-b678-ab1d54bf5ebd\"},\"root_ids\":[\"p3628\"]}];\n  root.Bokeh.embed.embed_items_notebook(docs_json, render_items);\n  }\n  if (root.Bokeh !== undefined) {\n    embed_document(root);\n  } else {\n    let attempts = 0;\n    const timer = setInterval(function(root) {\n      if (root.Bokeh !== undefined) {\n        clearInterval(timer);\n        embed_document(root);\n      } else {\n        attempts++;\n        if (attempts > 100) {\n          clearInterval(timer);\n          console.log(\"Bokeh: ERROR: Unable to run BokehJS code because BokehJS library is missing\");\n        }\n      }\n    }, 10, root)\n  }\n})(window);",
      "application/vnd.bokehjs_exec.v0+json": ""
     },
     "metadata": {
      "application/vnd.bokehjs_exec.v0+json": {
       "id": "p3628"
      }
     },
     "output_type": "display_data"
    }
   ],
   "source": [
    "import pandas as pd\n",
    "from bokeh.plotting import figure, show\n",
    "from bokeh.io import output_notebook\n",
    "from bokeh.models import ColumnDataSource, HoverTool, CDSView, BooleanFilter\n",
    "from bokeh.transform import factor_cmap\n",
    "from bokeh.palettes import Category10, Category20\n",
    "\n",
    "# Enable Bokeh output in the notebook\n",
    "output_notebook()\n",
    "\n",
    "# Define the path to the CSV file\n",
    "csv_file_path = \"../../Jazzer_surf/3d_predictions/chimeras/test/interactions_all_files.csv\"\n",
    "\n",
    "# Read the CSV file into a DataFrame\n",
    "df = pd.read_csv(csv_file_path)\n",
    "\n",
    "# Filter to get the shortest distances for each interaction\n",
    "df = df.loc[df[df['chain'] == 'A'].groupby(['resi', 'interacting_chain'])['distance (angstroms)'].idxmin()]\n",
    "\n",
    "# Exclude interactions with Mg and chain letters A, G, H\n",
    "df = df[(df['interacting_resn'] != 'MG') & (~df['interacting_chain'].isin(['A', 'G', 'H']))]\n",
    "\n",
    "# Map interacting_resn to single-letter codes for better readability\n",
    "aa_dict = {\n",
    "    'ALA': 'A', 'ARG': 'R', 'ASN': 'N', 'ASP': 'D', 'CYS': 'C', 'GLN': 'Q', 'GLU': 'E', 'GLY': 'G',\n",
    "    'HIS': 'H', 'ILE': 'I', 'LEU': 'L', 'LYS': 'K', 'MET': 'M', 'PHE': 'F', 'PRO': 'P', 'SER': 'S',\n",
    "    'THR': 'T', 'TRP': 'W', 'TYR': 'Y', 'VAL': 'V'\n",
    "}\n",
    "df['residue_one_letter'] = df['resn'].map(aa_dict)\n",
    "df['residue'] = df['resi'].astype(str) + df['residue_one_letter']\n",
    "\n",
    "# Replace chain letters with descriptive names\n",
    "chain_map = {\n",
    "    'B': 'kinesin B',\n",
    "    'C': 'alpha-tubulin',\n",
    "    'D': 'beta-tubulin',\n",
    "    'E': 'ATP',\n",
    "    'F': 'ATP'\n",
    "}\n",
    "df['interacting_chain'] = df['interacting_chain'].map(chain_map)\n",
    "\n",
    "# Create a ColumnDataSource\n",
    "source = ColumnDataSource(df)\n",
    "\n",
    "# Create a color map for interacting chains\n",
    "unique_interacting_chains = df['interacting_chain'].unique()\n",
    "palette = Category10[10] if len(unique_interacting_chains) <= 10 else Category20[20]\n",
    "color_map = factor_cmap('interacting_chain', palette=palette, factors=unique_interacting_chains)\n",
    "\n",
    "# Create the figure\n",
    "p = figure(width=900, height=600, title=\"Distance between MG and ATP/ADP atoms by amino acid position\",\n",
    "           x_axis_label=\"Residue Index\", y_axis_label=\"Distance (angstroms)\", x_range=(0, 401), y_range=(0, 5.25))\n",
    "\n",
    "# Add scatter plot with views for each chain\n",
    "for chain in unique_interacting_chains:\n",
    "    bool_filter = BooleanFilter([x == chain for x in df['interacting_chain']])\n",
    "    view = CDSView(source=source, filters=[bool_filter])\n",
    "    scatter = p.scatter(x='resi', y='distance (angstroms)', source=source, size=10, color=color_map, alpha=0.6, legend_label=chain, view=view)\n",
    "\n",
    "# Add hover tool\n",
    "hover = HoverTool()\n",
    "hover.tooltips = [\n",
    "    ('Resi', '@residue'),\n",
    "    ('Distance', '@{distance (angstroms)}{0.2f} Å'),\n",
    "    ('Chain', '@chain'),\n",
    "    ('Interacting Chain', '@interacting_chain'),\n",
    "    ('Interacting Resn', '@interacting_resn'),\n",
    "    ('interacting atom', '@interacting_full_atom_name)\n",
    "]\n",
    "p.add_tools(hover)\n",
    "\n",
    "# Add labels\n",
    "labels = p.text(x='resi', y='distance (angstroms)', text='residue_one_letter', source=source, text_align='center', text_baseline='middle', text_font_size='10pt')\n",
    "\n",
    "# Customize legend\n",
    "p.legend.title = 'Interacting Chain'\n",
    "p.legend.location = 'bottom_right'\n",
    "p.legend.click_policy = 'mute'\n",
    "\n",
    "# Show the plot\n",
    "show(p)\n"
   ]
  },
  {
   "cell_type": "code",
   "execution_count": 65,
   "metadata": {},
   "outputs": [
    {
     "data": {
      "text/html": [
       "<div>\n",
       "<style scoped>\n",
       "    .dataframe tbody tr th:only-of-type {\n",
       "        vertical-align: middle;\n",
       "    }\n",
       "\n",
       "    .dataframe tbody tr th {\n",
       "        vertical-align: top;\n",
       "    }\n",
       "\n",
       "    .dataframe thead th {\n",
       "        text-align: right;\n",
       "    }\n",
       "</style>\n",
       "<table border=\"1\" class=\"dataframe\">\n",
       "  <thead>\n",
       "    <tr style=\"text-align: right;\">\n",
       "      <th></th>\n",
       "      <th>file</th>\n",
       "      <th>chain</th>\n",
       "      <th>resi</th>\n",
       "      <th>resn</th>\n",
       "      <th>atom_name</th>\n",
       "      <th>interacting_atom</th>\n",
       "      <th>interacting_resn</th>\n",
       "      <th>interacting_chain</th>\n",
       "      <th>distance (angstroms)</th>\n",
       "      <th>residue_one_letter</th>\n",
       "      <th>full_atom_name</th>\n",
       "      <th>interacting_full_atom_name</th>\n",
       "      <th>residue</th>\n",
       "    </tr>\n",
       "  </thead>\n",
       "  <tbody>\n",
       "    <tr>\n",
       "      <th>2147</th>\n",
       "      <td>a_atp_mg_tub</td>\n",
       "      <td>A</td>\n",
       "      <td>18</td>\n",
       "      <td>ARG</td>\n",
       "      <td>NH2</td>\n",
       "      <td>N6</td>\n",
       "      <td>ATP</td>\n",
       "      <td>ATP</td>\n",
       "      <td>3.747399</td>\n",
       "      <td>R</td>\n",
       "      <td>Nitrogen eta 2</td>\n",
       "      <td>Nitrogen 6</td>\n",
       "      <td>18R</td>\n",
       "    </tr>\n",
       "    <tr>\n",
       "      <th>2450</th>\n",
       "      <td>a_atp_mg_tub</td>\n",
       "      <td>A</td>\n",
       "      <td>19</td>\n",
       "      <td>PHE</td>\n",
       "      <td>O</td>\n",
       "      <td>N6</td>\n",
       "      <td>ATP</td>\n",
       "      <td>ATP</td>\n",
       "      <td>4.504910</td>\n",
       "      <td>F</td>\n",
       "      <td>Oxygen</td>\n",
       "      <td>Nitrogen 6</td>\n",
       "      <td>19F</td>\n",
       "    </tr>\n",
       "    <tr>\n",
       "      <th>2117</th>\n",
       "      <td>a_atp_mg_tub</td>\n",
       "      <td>A</td>\n",
       "      <td>20</td>\n",
       "      <td>ARG</td>\n",
       "      <td>CB</td>\n",
       "      <td>N7</td>\n",
       "      <td>ATP</td>\n",
       "      <td>ATP</td>\n",
       "      <td>3.449845</td>\n",
       "      <td>R</td>\n",
       "      <td>Carbon beta</td>\n",
       "      <td>Nitrogen 7</td>\n",
       "      <td>20R</td>\n",
       "    </tr>\n",
       "    <tr>\n",
       "      <th>1797</th>\n",
       "      <td>a_atp_mg_tub</td>\n",
       "      <td>A</td>\n",
       "      <td>21</td>\n",
       "      <td>PRO</td>\n",
       "      <td>CD</td>\n",
       "      <td>N1</td>\n",
       "      <td>ATP</td>\n",
       "      <td>ATP</td>\n",
       "      <td>3.234430</td>\n",
       "      <td>P</td>\n",
       "      <td>Carbon delta</td>\n",
       "      <td>Nitrogen 1</td>\n",
       "      <td>21P</td>\n",
       "    </tr>\n",
       "    <tr>\n",
       "      <th>591</th>\n",
       "      <td>a_atp_mg_tub</td>\n",
       "      <td>A</td>\n",
       "      <td>51</td>\n",
       "      <td>LYS</td>\n",
       "      <td>CE</td>\n",
       "      <td>OE1</td>\n",
       "      <td>GLU</td>\n",
       "      <td>beta-tubulin</td>\n",
       "      <td>4.791676</td>\n",
       "      <td>K</td>\n",
       "      <td>Carbon epsilon</td>\n",
       "      <td>Oxygen epsilon 1</td>\n",
       "      <td>51K</td>\n",
       "    </tr>\n",
       "    <tr>\n",
       "      <th>...</th>\n",
       "      <td>...</td>\n",
       "      <td>...</td>\n",
       "      <td>...</td>\n",
       "      <td>...</td>\n",
       "      <td>...</td>\n",
       "      <td>...</td>\n",
       "      <td>...</td>\n",
       "      <td>...</td>\n",
       "      <td>...</td>\n",
       "      <td>...</td>\n",
       "      <td>...</td>\n",
       "      <td>...</td>\n",
       "      <td>...</td>\n",
       "    </tr>\n",
       "    <tr>\n",
       "      <th>11</th>\n",
       "      <td>a_atp_mg_tub</td>\n",
       "      <td>G</td>\n",
       "      <td>1</td>\n",
       "      <td>MG</td>\n",
       "      <td>MG</td>\n",
       "      <td>CG</td>\n",
       "      <td>GLU</td>\n",
       "      <td>alpha-tubulin</td>\n",
       "      <td>4.471117</td>\n",
       "      <td>NaN</td>\n",
       "      <td>Magnesium</td>\n",
       "      <td>Carbon gamma</td>\n",
       "      <td>1?</td>\n",
       "    </tr>\n",
       "    <tr>\n",
       "      <th>2824</th>\n",
       "      <td>a_atp_mg_tub</td>\n",
       "      <td>G</td>\n",
       "      <td>1</td>\n",
       "      <td>MG</td>\n",
       "      <td>MG</td>\n",
       "      <td>OG1</td>\n",
       "      <td>THR</td>\n",
       "      <td>alpha-tubulin</td>\n",
       "      <td>4.817270</td>\n",
       "      <td>NaN</td>\n",
       "      <td>Magnesium</td>\n",
       "      <td>Oxygen gamma 1</td>\n",
       "      <td>1?</td>\n",
       "    </tr>\n",
       "    <tr>\n",
       "      <th>1907</th>\n",
       "      <td>a_atp_mg_tub</td>\n",
       "      <td>G</td>\n",
       "      <td>1</td>\n",
       "      <td>MG</td>\n",
       "      <td>MG</td>\n",
       "      <td>NZ</td>\n",
       "      <td>LYS</td>\n",
       "      <td>beta-tubulin</td>\n",
       "      <td>4.050508</td>\n",
       "      <td>NaN</td>\n",
       "      <td>Magnesium</td>\n",
       "      <td>Nitrogen zeta</td>\n",
       "      <td>1?</td>\n",
       "    </tr>\n",
       "    <tr>\n",
       "      <th>325</th>\n",
       "      <td>a_atp_mg_tub</td>\n",
       "      <td>G</td>\n",
       "      <td>1</td>\n",
       "      <td>MG</td>\n",
       "      <td>MG</td>\n",
       "      <td>O1B</td>\n",
       "      <td>ATP</td>\n",
       "      <td>ATP</td>\n",
       "      <td>2.014655</td>\n",
       "      <td>NaN</td>\n",
       "      <td>Magnesium</td>\n",
       "      <td>Oxygen 1 beta</td>\n",
       "      <td>1?</td>\n",
       "    </tr>\n",
       "    <tr>\n",
       "      <th>1407</th>\n",
       "      <td>a_atp_mg_tub</td>\n",
       "      <td>H</td>\n",
       "      <td>1</td>\n",
       "      <td>MG</td>\n",
       "      <td>MG</td>\n",
       "      <td>O1G</td>\n",
       "      <td>ATP</td>\n",
       "      <td>ATP</td>\n",
       "      <td>2.010643</td>\n",
       "      <td>NaN</td>\n",
       "      <td>Magnesium</td>\n",
       "      <td>Oxygen 1 gamma</td>\n",
       "      <td>1?</td>\n",
       "    </tr>\n",
       "  </tbody>\n",
       "</table>\n",
       "<p>194 rows × 13 columns</p>\n",
       "</div>"
      ],
      "text/plain": [
       "              file chain  resi resn atom_name interacting_atom  \\\n",
       "2147  a_atp_mg_tub     A    18  ARG       NH2               N6   \n",
       "2450  a_atp_mg_tub     A    19  PHE         O               N6   \n",
       "2117  a_atp_mg_tub     A    20  ARG        CB               N7   \n",
       "1797  a_atp_mg_tub     A    21  PRO        CD               N1   \n",
       "591   a_atp_mg_tub     A    51  LYS        CE              OE1   \n",
       "...            ...   ...   ...  ...       ...              ...   \n",
       "11    a_atp_mg_tub     G     1   MG        MG               CG   \n",
       "2824  a_atp_mg_tub     G     1   MG        MG              OG1   \n",
       "1907  a_atp_mg_tub     G     1   MG        MG               NZ   \n",
       "325   a_atp_mg_tub     G     1   MG        MG              O1B   \n",
       "1407  a_atp_mg_tub     H     1   MG        MG              O1G   \n",
       "\n",
       "     interacting_resn interacting_chain  distance (angstroms)  \\\n",
       "2147              ATP               ATP              3.747399   \n",
       "2450              ATP               ATP              4.504910   \n",
       "2117              ATP               ATP              3.449845   \n",
       "1797              ATP               ATP              3.234430   \n",
       "591               GLU      beta-tubulin              4.791676   \n",
       "...               ...               ...                   ...   \n",
       "11                GLU     alpha-tubulin              4.471117   \n",
       "2824              THR     alpha-tubulin              4.817270   \n",
       "1907              LYS      beta-tubulin              4.050508   \n",
       "325               ATP               ATP              2.014655   \n",
       "1407              ATP               ATP              2.010643   \n",
       "\n",
       "     residue_one_letter  full_atom_name interacting_full_atom_name residue  \n",
       "2147                  R  Nitrogen eta 2                 Nitrogen 6     18R  \n",
       "2450                  F          Oxygen                 Nitrogen 6     19F  \n",
       "2117                  R     Carbon beta                 Nitrogen 7     20R  \n",
       "1797                  P    Carbon delta                 Nitrogen 1     21P  \n",
       "591                   K  Carbon epsilon           Oxygen epsilon 1     51K  \n",
       "...                 ...             ...                        ...     ...  \n",
       "11                  NaN       Magnesium               Carbon gamma      1?  \n",
       "2824                NaN       Magnesium             Oxygen gamma 1      1?  \n",
       "1907                NaN       Magnesium              Nitrogen zeta      1?  \n",
       "325                 NaN       Magnesium              Oxygen 1 beta      1?  \n",
       "1407                NaN       Magnesium             Oxygen 1 gamma      1?  \n",
       "\n",
       "[194 rows x 13 columns]"
      ]
     },
     "execution_count": 65,
     "metadata": {},
     "output_type": "execute_result"
    }
   ],
   "source": [
    "df"
   ]
  },
  {
   "cell_type": "code",
   "execution_count": null,
   "metadata": {},
   "outputs": [],
   "source": []
  }
 ],
 "metadata": {
  "kernelspec": {
   "display_name": "base",
   "language": "python",
   "name": "python3"
  },
  "language_info": {
   "codemirror_mode": {
    "name": "ipython",
    "version": 3
   },
   "file_extension": ".py",
   "mimetype": "text/x-python",
   "name": "python",
   "nbconvert_exporter": "python",
   "pygments_lexer": "ipython3",
   "version": "3.11.5"
  }
 },
 "nbformat": 4,
 "nbformat_minor": 2
}
