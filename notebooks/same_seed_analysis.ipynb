{
 "cells": [
  {
   "cell_type": "code",
   "execution_count": 12,
   "metadata": {},
   "outputs": [],
   "source": [
    "import pandas as pd\n",
    "\n",
    "# Define the path to the CSV file\n",
    "csv_file_path = \"../../Jazzer_surf/3d_predictions/chimeras/test/interactions_all_files.csv\"\n",
    "\n",
    "# Read the CSV file into a DataFrame\n",
    "df = pd.read_csv(csv_file_path)\n",
    "\n",
    "# Filter to get the shortest distances for each interaction\n",
    "df = df.loc[df[df['chain'] == 'A'].groupby(['file', 'resi', 'interacting_chain'])['distance (angstroms)'].idxmin()]\n",
    "\n",
    "# Exclude interactions with Mg and chain letters A, G, H\n",
    "df = df[(df['interacting_resn'] != 'MG') & (~df['interacting_chain'].isin(['A', 'G', 'H']))].reset_index(drop=True)\n",
    "\n",
    "# Map interacting_resn to single-letter codes for better readability\n",
    "aa_dict = {\n",
    "    'ALA': 'A', 'ARG': 'R', 'ASN': 'N', 'ASP': 'D', 'CYS': 'C', 'GLN': 'Q', 'GLU': 'E', 'GLY': 'G',\n",
    "    'HIS': 'H', 'ILE': 'I', 'LEU': 'L', 'LYS': 'K', 'MET': 'M', 'PHE': 'F', 'PRO': 'P', 'SER': 'S',\n",
    "    'THR': 'T', 'TRP': 'W', 'TYR': 'Y', 'VAL': 'V'\n",
    "}\n",
    "df['residue_one_letter'] = df['resn'].map(aa_dict)\n",
    "df['residue'] = df['resi'].astype(str) + df['residue_one_letter']\n",
    "\n",
    "# Replace chain letters with descriptive names\n",
    "chain_map = {\n",
    "    'B': 'kinesin B',\n",
    "    'C': 'alpha-tubulin',\n",
    "    'D': 'beta-tubulin',\n",
    "    'E': 'ATP',\n",
    "    'F': 'ATP'\n",
    "}\n",
    "df['interacting_chain'] = df['interacting_chain'].map(chain_map)\n",
    "\n",
    "# Filter to specific files\n",
    "df = df.loc[df['file'].isin([\n",
    "    'A', \n",
    "    'C', \n",
    "    # 'H',\n",
    "    ])]\n",
    "\n",
    "# Group by file and interacting chain, keeping residues in order\n",
    "grouped = df.groupby(['file', 'interacting_chain'])\n",
    "\n",
    "# Create a list to store the output rows\n",
    "output_rows = []\n",
    "\n",
    "# Iterate over each group and extract information\n",
    "for (file, chain), group in grouped:\n",
    "    for _, row in group.iterrows():\n",
    "        output_rows.append({\n",
    "            'file': file,\n",
    "            'interacting_chain': chain,\n",
    "            'interacting_atom': row['interacting_atom'],\n",
    "            'residue_number': row['resi'],\n",
    "            'amino_acid': row['residue_one_letter'],\n",
    "            'distance (angstroms)': row['distance (angstroms)'],\n",
    "        })\n",
    "\n",
    "# Convert the list to a DataFrame\n",
    "interaction_df = pd.DataFrame(output_rows)\n",
    "\n",
    "# Display the resulting DataFrame\n",
    "interaction_df\n",
    "\n",
    "interaction_df.to_csv(\"interaction_summary.csv\", index=False)\n"
   ]
  },
  {
   "cell_type": "code",
   "execution_count": 13,
   "metadata": {},
   "outputs": [
    {
     "data": {
      "application/vnd.plotly.v1+json": {
       "config": {
        "plotlyServerURL": "https://plot.ly"
       },
       "data": [
        {
         "customdata": [
          [
           "A"
          ],
          [
           "A"
          ],
          [
           "A"
          ],
          [
           "A"
          ],
          [
           "A"
          ],
          [
           "A"
          ],
          [
           "C"
          ],
          [
           "C"
          ],
          [
           "C"
          ],
          [
           "C"
          ],
          [
           "C"
          ],
          [
           "C"
          ],
          [
           "C"
          ],
          [
           "C"
          ]
         ],
         "hovertemplate": "Interacting Chain=ATP<br>Residue (Number and Identity)=%{x}<br>Distance (angstroms)=%{y}<br>interacting_atom=%{text}<br>file=%{customdata[0]}<extra></extra>",
         "legendgroup": "ATP",
         "marker": {
          "color": "#636efa",
          "opacity": 0.6,
          "size": 10,
          "symbol": "circle"
         },
         "mode": "markers+text",
         "name": "ATP",
         "orientation": "v",
         "showlegend": true,
         "text": [
          "O1G",
          "O3B",
          "O2B",
          "O2G",
          "O1B",
          "O3B",
          "O2G",
          "O3B",
          "O1B",
          "O2B",
          "O2A",
          "O2G",
          "O3G",
          "O1G"
         ],
         "textposition": "top center",
         "type": "scatter",
         "x": [
          "94T",
          "95S",
          "97G",
          "98K",
          "99T",
          "205N",
          "94T",
          "95S",
          "98K",
          "99T",
          "100H",
          "208S",
          "209S",
          "241G"
         ],
         "xaxis": "x",
         "y": [
          2.43408203125,
          2.6955759525299072,
          2.954782724380493,
          2.797912359237671,
          2.937647819519043,
          2.980753898620605,
          2.471453905105591,
          2.9235379695892334,
          2.8820974826812744,
          2.656883955001831,
          2.7273435592651367,
          2.8766520023345947,
          2.7936689853668213,
          2.8299522399902344
         ],
         "yaxis": "y"
        },
        {
         "customdata": [
          [
           "A"
          ],
          [
           "A"
          ],
          [
           "A"
          ],
          [
           "A"
          ],
          [
           "C"
          ],
          [
           "C"
          ],
          [
           "C"
          ]
         ],
         "hovertemplate": "Interacting Chain=beta-tubulin<br>Residue (Number and Identity)=%{x}<br>Distance (angstroms)=%{y}<br>interacting_atom=%{text}<br>file=%{customdata[0]}<extra></extra>",
         "legendgroup": "beta-tubulin",
         "marker": {
          "color": "#EF553B",
          "opacity": 0.6,
          "size": 10,
          "symbol": "circle"
         },
         "mode": "markers+text",
         "name": "beta-tubulin",
         "orientation": "v",
         "showlegend": true,
         "text": [
          "OE1",
          "OE2",
          "OE1",
          "OD2",
          "OE2",
          "OE1",
          "OD2"
         ],
         "textposition": "top center",
         "type": "scatter",
         "x": [
          "159N",
          "163H",
          "282H",
          "286R",
          "163H",
          "282H",
          "286R"
         ],
         "xaxis": "x",
         "y": [
          2.67405366897583,
          2.761348247528076,
          2.875741958618164,
          2.571375131607056,
          2.811490058898926,
          2.7998008728027344,
          2.564934015274048
         ],
         "yaxis": "y"
        },
        {
         "customdata": [
          [
           "A"
          ],
          [
           "A"
          ],
          [
           "A"
          ],
          [
           "A"
          ],
          [
           "A"
          ],
          [
           "A"
          ],
          [
           "A"
          ],
          [
           "C"
          ],
          [
           "C"
          ],
          [
           "C"
          ],
          [
           "C"
          ],
          [
           "C"
          ],
          [
           "C"
          ],
          [
           "C"
          ],
          [
           "C"
          ],
          [
           "C"
          ]
         ],
         "hovertemplate": "Interacting Chain=kinesin B<br>Residue (Number and Identity)=%{x}<br>Distance (angstroms)=%{y}<br>interacting_atom=%{text}<br>file=%{customdata[0]}<extra></extra>",
         "legendgroup": "kinesin B",
         "marker": {
          "color": "#00cc96",
          "opacity": 0.6,
          "size": 10,
          "symbol": "circle"
         },
         "mode": "markers+text",
         "name": "kinesin B",
         "orientation": "v",
         "showlegend": true,
         "text": [
          "OE1",
          "NZ",
          "OE2",
          "NH2",
          "OE1",
          "OE2",
          "NH2",
          "OE1",
          "ND2",
          "OE2",
          "OD1",
          "OE1",
          "NH2",
          "OE1",
          "OE2",
          "NH2"
         ],
         "textposition": "top center",
         "type": "scatter",
         "x": [
          "166K",
          "346E",
          "359N",
          "372E",
          "373L",
          "377R",
          "388I",
          "166K",
          "355E",
          "359N",
          "362L",
          "365K",
          "372E",
          "373L",
          "377R",
          "388I"
         ],
         "xaxis": "x",
         "y": [
          2.758011817932129,
          2.8588788509368896,
          2.054415225982666,
          2.857144355773926,
          2.870945453643799,
          2.765533447265625,
          2.9102673530578613,
          2.732813835144043,
          2.087067127227783,
          2.181346893310547,
          2.8901329040527344,
          2.987513780593872,
          2.7590510845184326,
          2.79464077949524,
          2.7263762950897217,
          2.872932910919189
         ],
         "yaxis": "y"
        },
        {
         "customdata": [
          [
           "A"
          ],
          [
           "A"
          ],
          [
           "A"
          ],
          [
           "A"
          ],
          [
           "C"
          ],
          [
           "C"
          ],
          [
           "C"
          ],
          [
           "C"
          ],
          [
           "C"
          ]
         ],
         "hovertemplate": "Interacting Chain=alpha-tubulin<br>Residue (Number and Identity)=%{x}<br>Distance (angstroms)=%{y}<br>interacting_atom=%{text}<br>file=%{customdata[0]}<extra></extra>",
         "legendgroup": "alpha-tubulin",
         "marker": {
          "color": "#ab63fa",
          "opacity": 0.6,
          "size": 10,
          "symbol": "circle"
         },
         "mode": "markers+text",
         "name": "alpha-tubulin",
         "orientation": "v",
         "showlegend": true,
         "text": [
          "OE1",
          "OE2",
          "NZ",
          "OE2",
          "OE1",
          "O",
          "OE2",
          "OE1",
          "OE1"
         ],
         "textposition": "top center",
         "type": "scatter",
         "x": [
          "242S",
          "244K",
          "250A",
          "266S",
          "244K",
          "245I",
          "266S",
          "318A",
          "325R"
         ],
         "xaxis": "x",
         "y": [
          2.9356131553649902,
          2.476642847061157,
          2.683391809463501,
          2.5945560932159424,
          2.536552906036377,
          2.9564311504364014,
          2.598006010055542,
          2.9456822872161865,
          2.939748287200928
         ],
         "yaxis": "y"
        }
       ],
       "layout": {
        "legend": {
         "title": {
          "text": "Interacting Chain"
         },
         "tracegroupgap": 0
        },
        "template": {
         "data": {
          "bar": [
           {
            "error_x": {
             "color": "#2a3f5f"
            },
            "error_y": {
             "color": "#2a3f5f"
            },
            "marker": {
             "line": {
              "color": "#E5ECF6",
              "width": 0.5
             },
             "pattern": {
              "fillmode": "overlay",
              "size": 10,
              "solidity": 0.2
             }
            },
            "type": "bar"
           }
          ],
          "barpolar": [
           {
            "marker": {
             "line": {
              "color": "#E5ECF6",
              "width": 0.5
             },
             "pattern": {
              "fillmode": "overlay",
              "size": 10,
              "solidity": 0.2
             }
            },
            "type": "barpolar"
           }
          ],
          "carpet": [
           {
            "aaxis": {
             "endlinecolor": "#2a3f5f",
             "gridcolor": "white",
             "linecolor": "white",
             "minorgridcolor": "white",
             "startlinecolor": "#2a3f5f"
            },
            "baxis": {
             "endlinecolor": "#2a3f5f",
             "gridcolor": "white",
             "linecolor": "white",
             "minorgridcolor": "white",
             "startlinecolor": "#2a3f5f"
            },
            "type": "carpet"
           }
          ],
          "choropleth": [
           {
            "colorbar": {
             "outlinewidth": 0,
             "ticks": ""
            },
            "type": "choropleth"
           }
          ],
          "contour": [
           {
            "colorbar": {
             "outlinewidth": 0,
             "ticks": ""
            },
            "colorscale": [
             [
              0,
              "#0d0887"
             ],
             [
              0.1111111111111111,
              "#46039f"
             ],
             [
              0.2222222222222222,
              "#7201a8"
             ],
             [
              0.3333333333333333,
              "#9c179e"
             ],
             [
              0.4444444444444444,
              "#bd3786"
             ],
             [
              0.5555555555555556,
              "#d8576b"
             ],
             [
              0.6666666666666666,
              "#ed7953"
             ],
             [
              0.7777777777777778,
              "#fb9f3a"
             ],
             [
              0.8888888888888888,
              "#fdca26"
             ],
             [
              1,
              "#f0f921"
             ]
            ],
            "type": "contour"
           }
          ],
          "contourcarpet": [
           {
            "colorbar": {
             "outlinewidth": 0,
             "ticks": ""
            },
            "type": "contourcarpet"
           }
          ],
          "heatmap": [
           {
            "colorbar": {
             "outlinewidth": 0,
             "ticks": ""
            },
            "colorscale": [
             [
              0,
              "#0d0887"
             ],
             [
              0.1111111111111111,
              "#46039f"
             ],
             [
              0.2222222222222222,
              "#7201a8"
             ],
             [
              0.3333333333333333,
              "#9c179e"
             ],
             [
              0.4444444444444444,
              "#bd3786"
             ],
             [
              0.5555555555555556,
              "#d8576b"
             ],
             [
              0.6666666666666666,
              "#ed7953"
             ],
             [
              0.7777777777777778,
              "#fb9f3a"
             ],
             [
              0.8888888888888888,
              "#fdca26"
             ],
             [
              1,
              "#f0f921"
             ]
            ],
            "type": "heatmap"
           }
          ],
          "heatmapgl": [
           {
            "colorbar": {
             "outlinewidth": 0,
             "ticks": ""
            },
            "colorscale": [
             [
              0,
              "#0d0887"
             ],
             [
              0.1111111111111111,
              "#46039f"
             ],
             [
              0.2222222222222222,
              "#7201a8"
             ],
             [
              0.3333333333333333,
              "#9c179e"
             ],
             [
              0.4444444444444444,
              "#bd3786"
             ],
             [
              0.5555555555555556,
              "#d8576b"
             ],
             [
              0.6666666666666666,
              "#ed7953"
             ],
             [
              0.7777777777777778,
              "#fb9f3a"
             ],
             [
              0.8888888888888888,
              "#fdca26"
             ],
             [
              1,
              "#f0f921"
             ]
            ],
            "type": "heatmapgl"
           }
          ],
          "histogram": [
           {
            "marker": {
             "pattern": {
              "fillmode": "overlay",
              "size": 10,
              "solidity": 0.2
             }
            },
            "type": "histogram"
           }
          ],
          "histogram2d": [
           {
            "colorbar": {
             "outlinewidth": 0,
             "ticks": ""
            },
            "colorscale": [
             [
              0,
              "#0d0887"
             ],
             [
              0.1111111111111111,
              "#46039f"
             ],
             [
              0.2222222222222222,
              "#7201a8"
             ],
             [
              0.3333333333333333,
              "#9c179e"
             ],
             [
              0.4444444444444444,
              "#bd3786"
             ],
             [
              0.5555555555555556,
              "#d8576b"
             ],
             [
              0.6666666666666666,
              "#ed7953"
             ],
             [
              0.7777777777777778,
              "#fb9f3a"
             ],
             [
              0.8888888888888888,
              "#fdca26"
             ],
             [
              1,
              "#f0f921"
             ]
            ],
            "type": "histogram2d"
           }
          ],
          "histogram2dcontour": [
           {
            "colorbar": {
             "outlinewidth": 0,
             "ticks": ""
            },
            "colorscale": [
             [
              0,
              "#0d0887"
             ],
             [
              0.1111111111111111,
              "#46039f"
             ],
             [
              0.2222222222222222,
              "#7201a8"
             ],
             [
              0.3333333333333333,
              "#9c179e"
             ],
             [
              0.4444444444444444,
              "#bd3786"
             ],
             [
              0.5555555555555556,
              "#d8576b"
             ],
             [
              0.6666666666666666,
              "#ed7953"
             ],
             [
              0.7777777777777778,
              "#fb9f3a"
             ],
             [
              0.8888888888888888,
              "#fdca26"
             ],
             [
              1,
              "#f0f921"
             ]
            ],
            "type": "histogram2dcontour"
           }
          ],
          "mesh3d": [
           {
            "colorbar": {
             "outlinewidth": 0,
             "ticks": ""
            },
            "type": "mesh3d"
           }
          ],
          "parcoords": [
           {
            "line": {
             "colorbar": {
              "outlinewidth": 0,
              "ticks": ""
             }
            },
            "type": "parcoords"
           }
          ],
          "pie": [
           {
            "automargin": true,
            "type": "pie"
           }
          ],
          "scatter": [
           {
            "fillpattern": {
             "fillmode": "overlay",
             "size": 10,
             "solidity": 0.2
            },
            "type": "scatter"
           }
          ],
          "scatter3d": [
           {
            "line": {
             "colorbar": {
              "outlinewidth": 0,
              "ticks": ""
             }
            },
            "marker": {
             "colorbar": {
              "outlinewidth": 0,
              "ticks": ""
             }
            },
            "type": "scatter3d"
           }
          ],
          "scattercarpet": [
           {
            "marker": {
             "colorbar": {
              "outlinewidth": 0,
              "ticks": ""
             }
            },
            "type": "scattercarpet"
           }
          ],
          "scattergeo": [
           {
            "marker": {
             "colorbar": {
              "outlinewidth": 0,
              "ticks": ""
             }
            },
            "type": "scattergeo"
           }
          ],
          "scattergl": [
           {
            "marker": {
             "colorbar": {
              "outlinewidth": 0,
              "ticks": ""
             }
            },
            "type": "scattergl"
           }
          ],
          "scattermapbox": [
           {
            "marker": {
             "colorbar": {
              "outlinewidth": 0,
              "ticks": ""
             }
            },
            "type": "scattermapbox"
           }
          ],
          "scatterpolar": [
           {
            "marker": {
             "colorbar": {
              "outlinewidth": 0,
              "ticks": ""
             }
            },
            "type": "scatterpolar"
           }
          ],
          "scatterpolargl": [
           {
            "marker": {
             "colorbar": {
              "outlinewidth": 0,
              "ticks": ""
             }
            },
            "type": "scatterpolargl"
           }
          ],
          "scatterternary": [
           {
            "marker": {
             "colorbar": {
              "outlinewidth": 0,
              "ticks": ""
             }
            },
            "type": "scatterternary"
           }
          ],
          "surface": [
           {
            "colorbar": {
             "outlinewidth": 0,
             "ticks": ""
            },
            "colorscale": [
             [
              0,
              "#0d0887"
             ],
             [
              0.1111111111111111,
              "#46039f"
             ],
             [
              0.2222222222222222,
              "#7201a8"
             ],
             [
              0.3333333333333333,
              "#9c179e"
             ],
             [
              0.4444444444444444,
              "#bd3786"
             ],
             [
              0.5555555555555556,
              "#d8576b"
             ],
             [
              0.6666666666666666,
              "#ed7953"
             ],
             [
              0.7777777777777778,
              "#fb9f3a"
             ],
             [
              0.8888888888888888,
              "#fdca26"
             ],
             [
              1,
              "#f0f921"
             ]
            ],
            "type": "surface"
           }
          ],
          "table": [
           {
            "cells": {
             "fill": {
              "color": "#EBF0F8"
             },
             "line": {
              "color": "white"
             }
            },
            "header": {
             "fill": {
              "color": "#C8D4E3"
             },
             "line": {
              "color": "white"
             }
            },
            "type": "table"
           }
          ]
         },
         "layout": {
          "annotationdefaults": {
           "arrowcolor": "#2a3f5f",
           "arrowhead": 0,
           "arrowwidth": 1
          },
          "autotypenumbers": "strict",
          "coloraxis": {
           "colorbar": {
            "outlinewidth": 0,
            "ticks": ""
           }
          },
          "colorscale": {
           "diverging": [
            [
             0,
             "#8e0152"
            ],
            [
             0.1,
             "#c51b7d"
            ],
            [
             0.2,
             "#de77ae"
            ],
            [
             0.3,
             "#f1b6da"
            ],
            [
             0.4,
             "#fde0ef"
            ],
            [
             0.5,
             "#f7f7f7"
            ],
            [
             0.6,
             "#e6f5d0"
            ],
            [
             0.7,
             "#b8e186"
            ],
            [
             0.8,
             "#7fbc41"
            ],
            [
             0.9,
             "#4d9221"
            ],
            [
             1,
             "#276419"
            ]
           ],
           "sequential": [
            [
             0,
             "#0d0887"
            ],
            [
             0.1111111111111111,
             "#46039f"
            ],
            [
             0.2222222222222222,
             "#7201a8"
            ],
            [
             0.3333333333333333,
             "#9c179e"
            ],
            [
             0.4444444444444444,
             "#bd3786"
            ],
            [
             0.5555555555555556,
             "#d8576b"
            ],
            [
             0.6666666666666666,
             "#ed7953"
            ],
            [
             0.7777777777777778,
             "#fb9f3a"
            ],
            [
             0.8888888888888888,
             "#fdca26"
            ],
            [
             1,
             "#f0f921"
            ]
           ],
           "sequentialminus": [
            [
             0,
             "#0d0887"
            ],
            [
             0.1111111111111111,
             "#46039f"
            ],
            [
             0.2222222222222222,
             "#7201a8"
            ],
            [
             0.3333333333333333,
             "#9c179e"
            ],
            [
             0.4444444444444444,
             "#bd3786"
            ],
            [
             0.5555555555555556,
             "#d8576b"
            ],
            [
             0.6666666666666666,
             "#ed7953"
            ],
            [
             0.7777777777777778,
             "#fb9f3a"
            ],
            [
             0.8888888888888888,
             "#fdca26"
            ],
            [
             1,
             "#f0f921"
            ]
           ]
          },
          "colorway": [
           "#636efa",
           "#EF553B",
           "#00cc96",
           "#ab63fa",
           "#FFA15A",
           "#19d3f3",
           "#FF6692",
           "#B6E880",
           "#FF97FF",
           "#FECB52"
          ],
          "font": {
           "color": "#2a3f5f"
          },
          "geo": {
           "bgcolor": "white",
           "lakecolor": "white",
           "landcolor": "#E5ECF6",
           "showlakes": true,
           "showland": true,
           "subunitcolor": "white"
          },
          "hoverlabel": {
           "align": "left"
          },
          "hovermode": "closest",
          "mapbox": {
           "style": "light"
          },
          "paper_bgcolor": "white",
          "plot_bgcolor": "#E5ECF6",
          "polar": {
           "angularaxis": {
            "gridcolor": "white",
            "linecolor": "white",
            "ticks": ""
           },
           "bgcolor": "#E5ECF6",
           "radialaxis": {
            "gridcolor": "white",
            "linecolor": "white",
            "ticks": ""
           }
          },
          "scene": {
           "xaxis": {
            "backgroundcolor": "#E5ECF6",
            "gridcolor": "white",
            "gridwidth": 2,
            "linecolor": "white",
            "showbackground": true,
            "ticks": "",
            "zerolinecolor": "white"
           },
           "yaxis": {
            "backgroundcolor": "#E5ECF6",
            "gridcolor": "white",
            "gridwidth": 2,
            "linecolor": "white",
            "showbackground": true,
            "ticks": "",
            "zerolinecolor": "white"
           },
           "zaxis": {
            "backgroundcolor": "#E5ECF6",
            "gridcolor": "white",
            "gridwidth": 2,
            "linecolor": "white",
            "showbackground": true,
            "ticks": "",
            "zerolinecolor": "white"
           }
          },
          "shapedefaults": {
           "line": {
            "color": "#2a3f5f"
           }
          },
          "ternary": {
           "aaxis": {
            "gridcolor": "white",
            "linecolor": "white",
            "ticks": ""
           },
           "baxis": {
            "gridcolor": "white",
            "linecolor": "white",
            "ticks": ""
           },
           "bgcolor": "#E5ECF6",
           "caxis": {
            "gridcolor": "white",
            "linecolor": "white",
            "ticks": ""
           }
          },
          "title": {
           "x": 0.05
          },
          "xaxis": {
           "automargin": true,
           "gridcolor": "white",
           "linecolor": "white",
           "ticks": "",
           "title": {
            "standoff": 15
           },
           "zerolinecolor": "white",
           "zerolinewidth": 2
          },
          "yaxis": {
           "automargin": true,
           "gridcolor": "white",
           "linecolor": "white",
           "ticks": "",
           "title": {
            "standoff": 15
           },
           "zerolinecolor": "white",
           "zerolinewidth": 2
          }
         }
        },
        "title": {
         "text": "Interaction Distances by Residue and Interacting Chain"
        },
        "xaxis": {
         "anchor": "y",
         "categoryarray": [
          "94T",
          "95S",
          "97G",
          "98K",
          "99T",
          "100H",
          "159N",
          "163H",
          "166K",
          "205N",
          "208S",
          "209S",
          "241G",
          "242S",
          "244K",
          "245I",
          "250A",
          "266S",
          "282H",
          "286R",
          "318A",
          "325R",
          "346E",
          "355E",
          "359N",
          "362L",
          "365K",
          "372E",
          "373L",
          "377R",
          "388I"
         ],
         "categoryorder": "array",
         "domain": [
          0,
          1
         ],
         "title": {
          "text": "Residue (Number and Identity)"
         }
        },
        "yaxis": {
         "anchor": "x",
         "domain": [
          0,
          1
         ],
         "title": {
          "text": "Distance (angstroms)"
         }
        }
       }
      }
     },
     "metadata": {},
     "output_type": "display_data"
    }
   ],
   "source": [
    "import pandas as pd\n",
    "import plotly.express as px\n",
    "\n",
    "# Load the data\n",
    "csv_file_path = \"interaction_summary.csv\"\n",
    "interaction_df = pd.read_csv(csv_file_path)\n",
    "\n",
    "# Create a new column for the x-axis labels by concatenating residue number and amino acid\n",
    "interaction_df['residue_label'] = interaction_df['residue_number'].astype(str) + interaction_df['amino_acid']\n",
    "\n",
    "# Sort the dataframe by file and residue number to maintain order\n",
    "interaction_df = interaction_df.sort_values(by=['file', 'residue_number'])\n",
    "\n",
    "# Convert residue_label to a categorical type with the correct order\n",
    "interaction_df['residue_label'] = pd.Categorical(interaction_df['residue_label'], \n",
    "                                                 categories=sorted(interaction_df['residue_label'].unique(), key=lambda x: int(''.join(filter(str.isdigit, x)))), \n",
    "                                                 ordered=True)\n",
    "\n",
    "# Scatter plot for interaction distances with custom x-axis labels\n",
    "fig_scatter = px.scatter(interaction_df, x='residue_label', y='distance (angstroms)', color='interacting_chain', text='interacting_atom',\n",
    "                         title='Interaction Distances by Residue and Interacting Chain',\n",
    "                         labels={'residue_label': 'Residue (Number and Identity)', 'distance (angstroms)': 'Distance (angstroms)', 'interacting_chain': 'Interacting Chain'},\n",
    "                         hover_data=['file'])\n",
    "\n",
    "fig_scatter.update_traces(textposition='top center', marker=dict(size=10, opacity=0.6))\n",
    "fig_scatter.update_layout(xaxis={'categoryorder':'array', 'categoryarray': interaction_df['residue_label'].cat.categories})\n",
    "\n",
    "# Show the plot\n",
    "fig_scatter.show()\n"
   ]
  },
  {
   "cell_type": "code",
   "execution_count": null,
   "metadata": {},
   "outputs": [],
   "source": []
  },
  {
   "cell_type": "code",
   "execution_count": null,
   "metadata": {},
   "outputs": [],
   "source": []
  },
  {
   "cell_type": "code",
   "execution_count": 14,
   "metadata": {},
   "outputs": [
    {
     "data": {
      "application/vnd.plotly.v1+json": {
       "config": {
        "plotlyServerURL": "https://plot.ly"
       },
       "data": [
        {
         "customdata": [
          [
           "ATP"
          ],
          [
           "ATP"
          ],
          [
           "ATP"
          ],
          [
           "ATP"
          ],
          [
           "ATP"
          ],
          [
           "beta-tubulin"
          ],
          [
           "beta-tubulin"
          ],
          [
           "kinesin B"
          ],
          [
           "ATP"
          ],
          [
           "alpha-tubulin"
          ],
          [
           "alpha-tubulin"
          ],
          [
           "alpha-tubulin"
          ],
          [
           "alpha-tubulin"
          ],
          [
           "beta-tubulin"
          ],
          [
           "beta-tubulin"
          ],
          [
           "kinesin B"
          ],
          [
           "kinesin B"
          ],
          [
           "kinesin B"
          ],
          [
           "kinesin B"
          ],
          [
           "kinesin B"
          ],
          [
           "kinesin B"
          ]
         ],
         "hovertemplate": "File=A<br>Residue (Number and Identity)=%{x}<br>Distance (angstroms)=%{y}<br>interacting_atom=%{text}<br>interacting_chain=%{customdata[0]}<extra></extra>",
         "legendgroup": "A",
         "marker": {
          "color": "#636efa",
          "opacity": 0.6,
          "size": 10,
          "symbol": "circle"
         },
         "mode": "markers+text",
         "name": "A",
         "orientation": "v",
         "showlegend": true,
         "text": [
          "O1G",
          "O3B",
          "O2B",
          "O2G",
          "O1B",
          "OE1",
          "OE2",
          "OE1",
          "O3B",
          "OE1",
          "OE2",
          "NZ",
          "OE2",
          "OE1",
          "OD2",
          "NZ",
          "OE2",
          "NH2",
          "OE1",
          "OE2",
          "NH2"
         ],
         "textposition": "top center",
         "type": "scatter",
         "x": [
          "94T",
          "95S",
          "97G",
          "98K",
          "99T",
          "159N",
          "163H",
          "166K",
          "205N",
          "242S",
          "244K",
          "250A",
          "266S",
          "282H",
          "286R",
          "346E",
          "359N",
          "372E",
          "373L",
          "377R",
          "388I"
         ],
         "xaxis": "x",
         "y": [
          2.43408203125,
          2.6955759525299072,
          2.954782724380493,
          2.797912359237671,
          2.937647819519043,
          2.67405366897583,
          2.761348247528076,
          2.758011817932129,
          2.980753898620605,
          2.9356131553649902,
          2.476642847061157,
          2.683391809463501,
          2.5945560932159424,
          2.875741958618164,
          2.571375131607056,
          2.8588788509368896,
          2.054415225982666,
          2.857144355773926,
          2.870945453643799,
          2.765533447265625,
          2.9102673530578613
         ],
         "yaxis": "y"
        },
        {
         "customdata": [
          [
           "ATP"
          ],
          [
           "ATP"
          ],
          [
           "ATP"
          ],
          [
           "ATP"
          ],
          [
           "ATP"
          ],
          [
           "beta-tubulin"
          ],
          [
           "kinesin B"
          ],
          [
           "ATP"
          ],
          [
           "ATP"
          ],
          [
           "ATP"
          ],
          [
           "alpha-tubulin"
          ],
          [
           "alpha-tubulin"
          ],
          [
           "alpha-tubulin"
          ],
          [
           "beta-tubulin"
          ],
          [
           "beta-tubulin"
          ],
          [
           "alpha-tubulin"
          ],
          [
           "alpha-tubulin"
          ],
          [
           "kinesin B"
          ],
          [
           "kinesin B"
          ],
          [
           "kinesin B"
          ],
          [
           "kinesin B"
          ],
          [
           "kinesin B"
          ],
          [
           "kinesin B"
          ],
          [
           "kinesin B"
          ],
          [
           "kinesin B"
          ]
         ],
         "hovertemplate": "File=C<br>Residue (Number and Identity)=%{x}<br>Distance (angstroms)=%{y}<br>interacting_atom=%{text}<br>interacting_chain=%{customdata[0]}<extra></extra>",
         "legendgroup": "C",
         "marker": {
          "color": "#EF553B",
          "opacity": 0.6,
          "size": 10,
          "symbol": "circle"
         },
         "mode": "markers+text",
         "name": "C",
         "orientation": "v",
         "showlegend": true,
         "text": [
          "O2G",
          "O3B",
          "O1B",
          "O2B",
          "O2A",
          "OE2",
          "OE1",
          "O2G",
          "O3G",
          "O1G",
          "OE1",
          "O",
          "OE2",
          "OE1",
          "OD2",
          "OE1",
          "OE1",
          "ND2",
          "OE2",
          "OD1",
          "OE1",
          "NH2",
          "OE1",
          "OE2",
          "NH2"
         ],
         "textposition": "top center",
         "type": "scatter",
         "x": [
          "94T",
          "95S",
          "98K",
          "99T",
          "100H",
          "163H",
          "166K",
          "208S",
          "209S",
          "241G",
          "244K",
          "245I",
          "266S",
          "282H",
          "286R",
          "318A",
          "325R",
          "355E",
          "359N",
          "362L",
          "365K",
          "372E",
          "373L",
          "377R",
          "388I"
         ],
         "xaxis": "x",
         "y": [
          2.471453905105591,
          2.9235379695892334,
          2.8820974826812744,
          2.656883955001831,
          2.7273435592651367,
          2.811490058898926,
          2.732813835144043,
          2.8766520023345947,
          2.7936689853668213,
          2.8299522399902344,
          2.536552906036377,
          2.9564311504364014,
          2.598006010055542,
          2.7998008728027344,
          2.564934015274048,
          2.9456822872161865,
          2.939748287200928,
          2.087067127227783,
          2.181346893310547,
          2.8901329040527344,
          2.987513780593872,
          2.7590510845184326,
          2.79464077949524,
          2.7263762950897217,
          2.872932910919189
         ],
         "yaxis": "y"
        }
       ],
       "layout": {
        "legend": {
         "title": {
          "text": "File"
         },
         "tracegroupgap": 0
        },
        "template": {
         "data": {
          "bar": [
           {
            "error_x": {
             "color": "#2a3f5f"
            },
            "error_y": {
             "color": "#2a3f5f"
            },
            "marker": {
             "line": {
              "color": "#E5ECF6",
              "width": 0.5
             },
             "pattern": {
              "fillmode": "overlay",
              "size": 10,
              "solidity": 0.2
             }
            },
            "type": "bar"
           }
          ],
          "barpolar": [
           {
            "marker": {
             "line": {
              "color": "#E5ECF6",
              "width": 0.5
             },
             "pattern": {
              "fillmode": "overlay",
              "size": 10,
              "solidity": 0.2
             }
            },
            "type": "barpolar"
           }
          ],
          "carpet": [
           {
            "aaxis": {
             "endlinecolor": "#2a3f5f",
             "gridcolor": "white",
             "linecolor": "white",
             "minorgridcolor": "white",
             "startlinecolor": "#2a3f5f"
            },
            "baxis": {
             "endlinecolor": "#2a3f5f",
             "gridcolor": "white",
             "linecolor": "white",
             "minorgridcolor": "white",
             "startlinecolor": "#2a3f5f"
            },
            "type": "carpet"
           }
          ],
          "choropleth": [
           {
            "colorbar": {
             "outlinewidth": 0,
             "ticks": ""
            },
            "type": "choropleth"
           }
          ],
          "contour": [
           {
            "colorbar": {
             "outlinewidth": 0,
             "ticks": ""
            },
            "colorscale": [
             [
              0,
              "#0d0887"
             ],
             [
              0.1111111111111111,
              "#46039f"
             ],
             [
              0.2222222222222222,
              "#7201a8"
             ],
             [
              0.3333333333333333,
              "#9c179e"
             ],
             [
              0.4444444444444444,
              "#bd3786"
             ],
             [
              0.5555555555555556,
              "#d8576b"
             ],
             [
              0.6666666666666666,
              "#ed7953"
             ],
             [
              0.7777777777777778,
              "#fb9f3a"
             ],
             [
              0.8888888888888888,
              "#fdca26"
             ],
             [
              1,
              "#f0f921"
             ]
            ],
            "type": "contour"
           }
          ],
          "contourcarpet": [
           {
            "colorbar": {
             "outlinewidth": 0,
             "ticks": ""
            },
            "type": "contourcarpet"
           }
          ],
          "heatmap": [
           {
            "colorbar": {
             "outlinewidth": 0,
             "ticks": ""
            },
            "colorscale": [
             [
              0,
              "#0d0887"
             ],
             [
              0.1111111111111111,
              "#46039f"
             ],
             [
              0.2222222222222222,
              "#7201a8"
             ],
             [
              0.3333333333333333,
              "#9c179e"
             ],
             [
              0.4444444444444444,
              "#bd3786"
             ],
             [
              0.5555555555555556,
              "#d8576b"
             ],
             [
              0.6666666666666666,
              "#ed7953"
             ],
             [
              0.7777777777777778,
              "#fb9f3a"
             ],
             [
              0.8888888888888888,
              "#fdca26"
             ],
             [
              1,
              "#f0f921"
             ]
            ],
            "type": "heatmap"
           }
          ],
          "heatmapgl": [
           {
            "colorbar": {
             "outlinewidth": 0,
             "ticks": ""
            },
            "colorscale": [
             [
              0,
              "#0d0887"
             ],
             [
              0.1111111111111111,
              "#46039f"
             ],
             [
              0.2222222222222222,
              "#7201a8"
             ],
             [
              0.3333333333333333,
              "#9c179e"
             ],
             [
              0.4444444444444444,
              "#bd3786"
             ],
             [
              0.5555555555555556,
              "#d8576b"
             ],
             [
              0.6666666666666666,
              "#ed7953"
             ],
             [
              0.7777777777777778,
              "#fb9f3a"
             ],
             [
              0.8888888888888888,
              "#fdca26"
             ],
             [
              1,
              "#f0f921"
             ]
            ],
            "type": "heatmapgl"
           }
          ],
          "histogram": [
           {
            "marker": {
             "pattern": {
              "fillmode": "overlay",
              "size": 10,
              "solidity": 0.2
             }
            },
            "type": "histogram"
           }
          ],
          "histogram2d": [
           {
            "colorbar": {
             "outlinewidth": 0,
             "ticks": ""
            },
            "colorscale": [
             [
              0,
              "#0d0887"
             ],
             [
              0.1111111111111111,
              "#46039f"
             ],
             [
              0.2222222222222222,
              "#7201a8"
             ],
             [
              0.3333333333333333,
              "#9c179e"
             ],
             [
              0.4444444444444444,
              "#bd3786"
             ],
             [
              0.5555555555555556,
              "#d8576b"
             ],
             [
              0.6666666666666666,
              "#ed7953"
             ],
             [
              0.7777777777777778,
              "#fb9f3a"
             ],
             [
              0.8888888888888888,
              "#fdca26"
             ],
             [
              1,
              "#f0f921"
             ]
            ],
            "type": "histogram2d"
           }
          ],
          "histogram2dcontour": [
           {
            "colorbar": {
             "outlinewidth": 0,
             "ticks": ""
            },
            "colorscale": [
             [
              0,
              "#0d0887"
             ],
             [
              0.1111111111111111,
              "#46039f"
             ],
             [
              0.2222222222222222,
              "#7201a8"
             ],
             [
              0.3333333333333333,
              "#9c179e"
             ],
             [
              0.4444444444444444,
              "#bd3786"
             ],
             [
              0.5555555555555556,
              "#d8576b"
             ],
             [
              0.6666666666666666,
              "#ed7953"
             ],
             [
              0.7777777777777778,
              "#fb9f3a"
             ],
             [
              0.8888888888888888,
              "#fdca26"
             ],
             [
              1,
              "#f0f921"
             ]
            ],
            "type": "histogram2dcontour"
           }
          ],
          "mesh3d": [
           {
            "colorbar": {
             "outlinewidth": 0,
             "ticks": ""
            },
            "type": "mesh3d"
           }
          ],
          "parcoords": [
           {
            "line": {
             "colorbar": {
              "outlinewidth": 0,
              "ticks": ""
             }
            },
            "type": "parcoords"
           }
          ],
          "pie": [
           {
            "automargin": true,
            "type": "pie"
           }
          ],
          "scatter": [
           {
            "fillpattern": {
             "fillmode": "overlay",
             "size": 10,
             "solidity": 0.2
            },
            "type": "scatter"
           }
          ],
          "scatter3d": [
           {
            "line": {
             "colorbar": {
              "outlinewidth": 0,
              "ticks": ""
             }
            },
            "marker": {
             "colorbar": {
              "outlinewidth": 0,
              "ticks": ""
             }
            },
            "type": "scatter3d"
           }
          ],
          "scattercarpet": [
           {
            "marker": {
             "colorbar": {
              "outlinewidth": 0,
              "ticks": ""
             }
            },
            "type": "scattercarpet"
           }
          ],
          "scattergeo": [
           {
            "marker": {
             "colorbar": {
              "outlinewidth": 0,
              "ticks": ""
             }
            },
            "type": "scattergeo"
           }
          ],
          "scattergl": [
           {
            "marker": {
             "colorbar": {
              "outlinewidth": 0,
              "ticks": ""
             }
            },
            "type": "scattergl"
           }
          ],
          "scattermapbox": [
           {
            "marker": {
             "colorbar": {
              "outlinewidth": 0,
              "ticks": ""
             }
            },
            "type": "scattermapbox"
           }
          ],
          "scatterpolar": [
           {
            "marker": {
             "colorbar": {
              "outlinewidth": 0,
              "ticks": ""
             }
            },
            "type": "scatterpolar"
           }
          ],
          "scatterpolargl": [
           {
            "marker": {
             "colorbar": {
              "outlinewidth": 0,
              "ticks": ""
             }
            },
            "type": "scatterpolargl"
           }
          ],
          "scatterternary": [
           {
            "marker": {
             "colorbar": {
              "outlinewidth": 0,
              "ticks": ""
             }
            },
            "type": "scatterternary"
           }
          ],
          "surface": [
           {
            "colorbar": {
             "outlinewidth": 0,
             "ticks": ""
            },
            "colorscale": [
             [
              0,
              "#0d0887"
             ],
             [
              0.1111111111111111,
              "#46039f"
             ],
             [
              0.2222222222222222,
              "#7201a8"
             ],
             [
              0.3333333333333333,
              "#9c179e"
             ],
             [
              0.4444444444444444,
              "#bd3786"
             ],
             [
              0.5555555555555556,
              "#d8576b"
             ],
             [
              0.6666666666666666,
              "#ed7953"
             ],
             [
              0.7777777777777778,
              "#fb9f3a"
             ],
             [
              0.8888888888888888,
              "#fdca26"
             ],
             [
              1,
              "#f0f921"
             ]
            ],
            "type": "surface"
           }
          ],
          "table": [
           {
            "cells": {
             "fill": {
              "color": "#EBF0F8"
             },
             "line": {
              "color": "white"
             }
            },
            "header": {
             "fill": {
              "color": "#C8D4E3"
             },
             "line": {
              "color": "white"
             }
            },
            "type": "table"
           }
          ]
         },
         "layout": {
          "annotationdefaults": {
           "arrowcolor": "#2a3f5f",
           "arrowhead": 0,
           "arrowwidth": 1
          },
          "autotypenumbers": "strict",
          "coloraxis": {
           "colorbar": {
            "outlinewidth": 0,
            "ticks": ""
           }
          },
          "colorscale": {
           "diverging": [
            [
             0,
             "#8e0152"
            ],
            [
             0.1,
             "#c51b7d"
            ],
            [
             0.2,
             "#de77ae"
            ],
            [
             0.3,
             "#f1b6da"
            ],
            [
             0.4,
             "#fde0ef"
            ],
            [
             0.5,
             "#f7f7f7"
            ],
            [
             0.6,
             "#e6f5d0"
            ],
            [
             0.7,
             "#b8e186"
            ],
            [
             0.8,
             "#7fbc41"
            ],
            [
             0.9,
             "#4d9221"
            ],
            [
             1,
             "#276419"
            ]
           ],
           "sequential": [
            [
             0,
             "#0d0887"
            ],
            [
             0.1111111111111111,
             "#46039f"
            ],
            [
             0.2222222222222222,
             "#7201a8"
            ],
            [
             0.3333333333333333,
             "#9c179e"
            ],
            [
             0.4444444444444444,
             "#bd3786"
            ],
            [
             0.5555555555555556,
             "#d8576b"
            ],
            [
             0.6666666666666666,
             "#ed7953"
            ],
            [
             0.7777777777777778,
             "#fb9f3a"
            ],
            [
             0.8888888888888888,
             "#fdca26"
            ],
            [
             1,
             "#f0f921"
            ]
           ],
           "sequentialminus": [
            [
             0,
             "#0d0887"
            ],
            [
             0.1111111111111111,
             "#46039f"
            ],
            [
             0.2222222222222222,
             "#7201a8"
            ],
            [
             0.3333333333333333,
             "#9c179e"
            ],
            [
             0.4444444444444444,
             "#bd3786"
            ],
            [
             0.5555555555555556,
             "#d8576b"
            ],
            [
             0.6666666666666666,
             "#ed7953"
            ],
            [
             0.7777777777777778,
             "#fb9f3a"
            ],
            [
             0.8888888888888888,
             "#fdca26"
            ],
            [
             1,
             "#f0f921"
            ]
           ]
          },
          "colorway": [
           "#636efa",
           "#EF553B",
           "#00cc96",
           "#ab63fa",
           "#FFA15A",
           "#19d3f3",
           "#FF6692",
           "#B6E880",
           "#FF97FF",
           "#FECB52"
          ],
          "font": {
           "color": "#2a3f5f"
          },
          "geo": {
           "bgcolor": "white",
           "lakecolor": "white",
           "landcolor": "#E5ECF6",
           "showlakes": true,
           "showland": true,
           "subunitcolor": "white"
          },
          "hoverlabel": {
           "align": "left"
          },
          "hovermode": "closest",
          "mapbox": {
           "style": "light"
          },
          "paper_bgcolor": "white",
          "plot_bgcolor": "#E5ECF6",
          "polar": {
           "angularaxis": {
            "gridcolor": "white",
            "linecolor": "white",
            "ticks": ""
           },
           "bgcolor": "#E5ECF6",
           "radialaxis": {
            "gridcolor": "white",
            "linecolor": "white",
            "ticks": ""
           }
          },
          "scene": {
           "xaxis": {
            "backgroundcolor": "#E5ECF6",
            "gridcolor": "white",
            "gridwidth": 2,
            "linecolor": "white",
            "showbackground": true,
            "ticks": "",
            "zerolinecolor": "white"
           },
           "yaxis": {
            "backgroundcolor": "#E5ECF6",
            "gridcolor": "white",
            "gridwidth": 2,
            "linecolor": "white",
            "showbackground": true,
            "ticks": "",
            "zerolinecolor": "white"
           },
           "zaxis": {
            "backgroundcolor": "#E5ECF6",
            "gridcolor": "white",
            "gridwidth": 2,
            "linecolor": "white",
            "showbackground": true,
            "ticks": "",
            "zerolinecolor": "white"
           }
          },
          "shapedefaults": {
           "line": {
            "color": "#2a3f5f"
           }
          },
          "ternary": {
           "aaxis": {
            "gridcolor": "white",
            "linecolor": "white",
            "ticks": ""
           },
           "baxis": {
            "gridcolor": "white",
            "linecolor": "white",
            "ticks": ""
           },
           "bgcolor": "#E5ECF6",
           "caxis": {
            "gridcolor": "white",
            "linecolor": "white",
            "ticks": ""
           }
          },
          "title": {
           "x": 0.05
          },
          "xaxis": {
           "automargin": true,
           "gridcolor": "white",
           "linecolor": "white",
           "ticks": "",
           "title": {
            "standoff": 15
           },
           "zerolinecolor": "white",
           "zerolinewidth": 2
          },
          "yaxis": {
           "automargin": true,
           "gridcolor": "white",
           "linecolor": "white",
           "ticks": "",
           "title": {
            "standoff": 15
           },
           "zerolinecolor": "white",
           "zerolinewidth": 2
          }
         }
        },
        "title": {
         "text": "Interaction Distances by Residue and File"
        },
        "xaxis": {
         "anchor": "y",
         "domain": [
          0,
          1
         ],
         "tickangle": 45,
         "tickmode": "array",
         "ticktext": [
          "<span style='color:yellow'>94T</span>",
          "<span style='color:yellow'>95S</span>",
          "<span style='color:yellow'>97G</span>",
          "<span style='color:yellow'>98K</span>",
          "<span style='color:yellow'>99T</span>",
          "<span style='color:yellow'>100H</span>",
          "<span style='color:orange'>159N</span>",
          "<span style='color:orange'>163H</span>",
          "<span style='color:blue'>166K</span>",
          "<span style='color:yellow'>205N</span>",
          "<span style='color:yellow'>208S</span>",
          "<span style='color:yellow'>209S</span>",
          "<span style='color:yellow'>241G</span>",
          "<span style='color:green'>242S</span>",
          "<span style='color:green'>244K</span>",
          "<span style='color:green'>245I</span>",
          "<span style='color:green'>250A</span>",
          "<span style='color:green'>266S</span>",
          "<span style='color:orange'>282H</span>",
          "<span style='color:orange'>286R</span>",
          "<span style='color:green'>318A</span>",
          "<span style='color:green'>325R</span>",
          "<span style='color:blue'>346E</span>",
          "<span style='color:blue'>355E</span>",
          "<span style='color:blue'>359N</span>",
          "<span style='color:blue'>362L</span>",
          "<span style='color:blue'>365K</span>",
          "<span style='color:blue'>372E</span>",
          "<span style='color:blue'>373L</span>",
          "<span style='color:blue'>377R</span>",
          "<span style='color:blue'>388I</span>"
         ],
         "tickvals": [
          0,
          1,
          2,
          3,
          4,
          5,
          6,
          7,
          8,
          9,
          10,
          11,
          12,
          13,
          14,
          15,
          16,
          17,
          18,
          19,
          20,
          21,
          22,
          23,
          24,
          25,
          26,
          27,
          28,
          29,
          30
         ],
         "title": {
          "text": "Residue (Number and Identity)"
         }
        },
        "yaxis": {
         "anchor": "x",
         "domain": [
          0,
          1
         ],
         "title": {
          "text": "Distance (angstroms)"
         }
        }
       }
      }
     },
     "metadata": {},
     "output_type": "display_data"
    }
   ],
   "source": [
    "import pandas as pd\n",
    "import plotly.express as px\n",
    "\n",
    "# # Load the data\n",
    "# csv_file_path = \"interaction_summary.csv\"\n",
    "# interaction_df = pd.read_csv(csv_file_path)\n",
    "\n",
    "# Create a new column for the x-axis labels by concatenating residue number and amino acid\n",
    "interaction_df['residue_label'] = interaction_df['residue_number'].astype(str) + interaction_df['amino_acid']\n",
    "\n",
    "# Sort the dataframe by file and residue number to maintain order\n",
    "interaction_df = interaction_df.sort_values(by=['file', 'residue_number'])\n",
    "\n",
    "# Convert residue_label to a categorical type with the correct order\n",
    "interaction_df['residue_label'] = pd.Categorical(interaction_df['residue_label'], \n",
    "                                                 categories=sorted(interaction_df['residue_label'].unique(), key=lambda x: int(''.join(filter(str.isdigit, x)))), \n",
    "                                                 ordered=True)\n",
    "\n",
    "# Define a color map for interacting chains\n",
    "color_map = {\n",
    "    'kinesin B': 'blue',\n",
    "    'alpha-tubulin': 'green',\n",
    "    'beta-tubulin': 'orange',\n",
    "    'ATP': 'yellow'\n",
    "}\n",
    "\n",
    "# Scatter plot for interaction distances, coloring by file\n",
    "fig_scatter = px.scatter(interaction_df, x='residue_label', y='distance (angstroms)', color='file', text='interacting_atom',\n",
    "                         title='Interaction Distances by Residue and File',\n",
    "                         labels={'residue_label': 'Residue (Number and Identity)', 'distance (angstroms)': 'Distance (angstroms)', 'file': 'File'},\n",
    "                         hover_data=['interacting_chain'])\n",
    "\n",
    "fig_scatter.update_traces(textposition='top center', marker=dict(size=10, opacity=0.6))\n",
    "\n",
    "# Custom x-axis with colored labels\n",
    "fig_scatter.update_layout(\n",
    "    xaxis=dict(\n",
    "        tickmode='array',\n",
    "        tickvals=list(range(len(interaction_df['residue_label'].cat.categories))),\n",
    "        ticktext=[f\"<span style='color:{color_map[interaction_df[interaction_df['residue_label'] == res]['interacting_chain'].iloc[0]]}'>{res}</span>\" for res in interaction_df['residue_label'].cat.categories],\n",
    "        tickangle=45\n",
    "    )\n",
    ")\n",
    "\n",
    "# Show the plot\n",
    "fig_scatter.show()\n"
   ]
  },
  {
   "cell_type": "code",
   "execution_count": null,
   "metadata": {},
   "outputs": [],
   "source": []
  }
 ],
 "metadata": {
  "kernelspec": {
   "display_name": "base",
   "language": "python",
   "name": "python3"
  },
  "language_info": {
   "codemirror_mode": {
    "name": "ipython",
    "version": 3
   },
   "file_extension": ".py",
   "mimetype": "text/x-python",
   "name": "python",
   "nbconvert_exporter": "python",
   "pygments_lexer": "ipython3",
   "version": "3.11.5"
  }
 },
 "nbformat": 4,
 "nbformat_minor": 2
}
