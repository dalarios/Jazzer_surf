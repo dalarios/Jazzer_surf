{
 "cells": [
  {
   "cell_type": "code",
   "execution_count": null,
   "metadata": {},
   "outputs": [],
   "source": [
    "import pandas as pd\n",
    "import networkx as nx\n",
    "import matplotlib.pyplot as plt\n",
    "\n",
    "# Step 1: Load and prepare the data\n",
    "df = pd.read_csv('../d')\n",
    "\n",
    "# Step 2: Create a graph\n",
    "G = nx.Graph()\n",
    "\n",
    "# Step 3: Add nodes and edges to the graph\n",
    "for _, row in df.iterrows():\n",
    "    node1 = f\"{row['Residue Name 1']}{row['Residue ID 1']}\"\n",
    "    node2 = f\"{row['Residue Name 2']}{row['Residue ID 2']}\"\n",
    "    G.add_node(node1, chain=row['Chain 1'])\n",
    "    G.add_node(node2, chain=row['Chain 2'])\n",
    "    G.add_edge(node1, node2, distance=row['Distance (Å)'])\n",
    "\n",
    "# Step 4: Prepare node colors based on chain\n",
    "color_map = {'A': 'skyblue', 'D': 'lightgreen'}\n",
    "node_colors = [color_map[G.nodes[node]['chain']] for node in G.nodes()]\n",
    "\n",
    "# Step 5: Prepare node sizes based on degree (number of interactions)\n",
    "node_sizes = [300 * G.degree(node) for node in G.nodes()]\n",
    "\n",
    "# Step 6: Create the plot\n",
    "plt.figure(figsize=(15, 15))\n",
    "pos = nx.spring_layout(G, k=0.5, iterations=50)\n",
    "nx.draw(G, pos, node_color=node_colors, node_size=node_sizes, with_labels=True, font_size=8, font_weight='bold')\n",
    "\n",
    "# Draw edge labels\n",
    "edge_labels = nx.get_edge_attributes(G, 'distance')\n",
    "nx.draw_networkx_edge_labels(G, pos, edge_labels=edge_labels, font_size=6)\n",
    "\n",
    "plt.title(\"Protein Interaction Network\", fontsize=20)\n",
    "plt.axis('off')\n",
    "\n",
    "# Add a legend\n",
    "legend_elements = [plt.Line2D([0], [0], marker='o', color='w', label=f'Chain {chain}',\n",
    "                   markerfacecolor=color, markersize=10) for chain, color in color_map.items()]\n",
    "plt.legend(handles=legend_elements, loc='upper right')\n",
    "\n",
    "# Save the figure\n",
    "plt.tight_layout()\n",
    "plt.savefig('protein_interaction_network.png', dpi=300, bbox_inches='tight')\n",
    "plt.show()"
   ]
  }
 ],
 "metadata": {
  "language_info": {
   "name": "python"
  }
 },
 "nbformat": 4,
 "nbformat_minor": 2
}
