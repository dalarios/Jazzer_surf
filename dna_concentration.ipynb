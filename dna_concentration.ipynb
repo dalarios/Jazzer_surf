{
 "cells": [
  {
   "cell_type": "code",
   "execution_count": null,
   "metadata": {},
   "outputs": [],
   "source": [
    "import numpy as np\n",
    "import matplotlib.pyplot as plt\n",
    "\n",
    "def plot_dna_concentration(constructs, drop_volume=7):\n",
    "    # Define constants\n",
    "    average_mw_per_bp = 650\n",
    "    volume_ul = 1e6  # Volume of 1 liter in microliters\n",
    "\n",
    "    # Generate concentration range\n",
    "    concentration_range_ng_per_ul = np.linspace(0, 1500, 100)  # ng/µL range\n",
    "    \n",
    "    # Prepare the plot\n",
    "    plt.figure(figsize=(10, 6))\n",
    "\n",
    "    # Iterate over each construct\n",
    "    for construct, size_bp in constructs.items():\n",
    "        # Calculate concentrations in nM for the given range\n",
    "        concentration_nM_values = []\n",
    "        for conc_ng_per_ul in concentration_range_ng_per_ul:\n",
    "            concentration_g_per_l = conc_ng_per_ul * 1e-6  # Convert ng/µL to g/L\n",
    "            molecular_weight = size_bp * average_mw_per_bp  # Molecular weight of the DNA (g/mol)\n",
    "            concentration_m = concentration_g_per_l / molecular_weight  # Concentration in moles per liter (M)\n",
    "            concentration_nM = (concentration_m * 1e12) / drop_volume  # Convert to nM and adjust by drop volume\n",
    "            concentration_nM_values.append(concentration_nM)\n",
    "\n",
    "        # Plot the result for this construct\n",
    "        plt.plot(concentration_range_ng_per_ul, concentration_nM_values, label=f'{construct} ({size_bp}bp)')\n",
    "\n",
    "    # Set plot details\n",
    "    plt.xlabel('Concentration (ng/µL)')\n",
    "    plt.ylabel('Concentration (nM)')\n",
    "    plt.title('DNA Concentration in nM vs Concentration in ng/µL')\n",
    "    plt.legend()\n",
    "    plt.grid(True)\n",
    "    plt.show()\n",
    "\n",
    "# Example usage\n",
    "constructs = {\n",
    "    'A': 2321,\n",
    "    'B': 3041,\n",
    "    'C': 2765,  \n",
    "  \n",
    "}\n",
    "plot_dna_concentration(constructs)\n"
   ]
  }
 ],
 "metadata": {
  "language_info": {
   "name": "python"
  }
 },
 "nbformat": 4,
 "nbformat_minor": 2
}
